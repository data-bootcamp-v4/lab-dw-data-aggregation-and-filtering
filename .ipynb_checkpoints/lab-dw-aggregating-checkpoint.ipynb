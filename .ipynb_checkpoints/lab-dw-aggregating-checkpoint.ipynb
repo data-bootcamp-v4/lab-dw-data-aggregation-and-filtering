{
 "cells": [
  {
   "cell_type": "markdown",
   "id": "31969215-2a90-4d8b-ac36-646a7ae13744",
   "metadata": {
    "id": "31969215-2a90-4d8b-ac36-646a7ae13744"
   },
   "source": [
    "# Lab | Data Aggregation and Filtering"
   ]
  },
  {
   "cell_type": "markdown",
   "id": "a8f08a52-bec0-439b-99cc-11d3809d8b5d",
   "metadata": {
    "id": "a8f08a52-bec0-439b-99cc-11d3809d8b5d"
   },
   "source": [
    "In this challenge, we will continue to work with customer data from an insurance company. We will use the dataset called marketing_customer_analysis.csv, which can be found at the following link:\n",
    "\n",
    "https://raw.githubusercontent.com/data-bootcamp-v4/data/main/marketing_customer_analysis.csv\n",
    "\n",
    "This dataset contains information such as customer demographics, policy details, vehicle information, and the customer's response to the last marketing campaign. Our goal is to explore and analyze this data by first performing data cleaning, formatting, and structuring."
   ]
  },
  {
   "cell_type": "markdown",
   "id": "9c98ddc5-b041-4c94-ada1-4dfee5c98e50",
   "metadata": {
    "id": "9c98ddc5-b041-4c94-ada1-4dfee5c98e50"
   },
   "source": [
    "1. Create a new DataFrame that only includes customers who have a total_claim_amount greater than $1,000 and have a response of \"Yes\" to the last marketing campaign."
   ]
  },
  {
   "cell_type": "code",
   "execution_count": 11,
   "id": "6f1297b9-443e-4cdc-96f5-9429d0a6d6a8",
   "metadata": {},
   "outputs": [
    {
     "name": "stdout",
     "output_type": "stream",
     "text": [
      "Columns: Index(['Unnamed: 0', 'Customer', 'State', 'Customer Lifetime Value',\n",
      "       'Response', 'Coverage', 'Education', 'Effective To Date',\n",
      "       'EmploymentStatus', 'Gender', 'Income', 'Location Code',\n",
      "       'Marital Status', 'Monthly Premium Auto', 'Months Since Last Claim',\n",
      "       'Months Since Policy Inception', 'Number of Open Complaints',\n",
      "       'Number of Policies', 'Policy Type', 'Policy', 'Renew Offer Type',\n",
      "       'Sales Channel', 'Total Claim Amount', 'Vehicle Class', 'Vehicle Size',\n",
      "       'Vehicle Type'],\n",
      "      dtype='object')\n",
      "Columns_st: Index(['unnamed:_0', 'customer', 'state', 'customer_lifetime_value',\n",
      "       'response', 'coverage', 'education', 'effective_to_date',\n",
      "       'employmentstatus', 'gender', 'income', 'location_code',\n",
      "       'marital_status', 'monthly_premium_auto', 'months_since_last_claim',\n",
      "       'months_since_policy_inception', 'number_of_open_complaints',\n",
      "       'number_of_policies', 'policy_type', 'policy', 'renew_offer_type',\n",
      "       'sales_channel', 'total_claim_amount', 'vehicle_class', 'vehicle_size',\n",
      "       'vehicle_type'],\n",
      "      dtype='object')\n"
     ]
    }
   ],
   "source": [
    "import pandas as pd\n",
    "import numpy as np\n",
    "\n",
    "# Load the dataset\n",
    "url = 'https://raw.githubusercontent.com/data-bootcamp-v4/data/main/marketing_customer_analysis.csv'\n",
    "df = pd.read_csv(url)\n",
    "\n",
    "# Display the columns of the DataFrame\n",
    "print(\"Columns:\",df.columns)\n",
    "\n",
    "# replace white spaces in column names by _\n",
    "df.columns = df.columns.str.replace(r'\\s+', '_', regex=True)\n",
    "\n",
    "# change column names to lower case\n",
    "df.columns = df.columns.str.lower()\n",
    "\n",
    "# Display the standardized columns of the DataFrame\n",
    "print(\"Columns_st:\",df.columns)"
   ]
  },
  {
   "cell_type": "code",
   "execution_count": 53,
   "id": "821120b9-76bc-42e5-8998-a22779796c21",
   "metadata": {},
   "outputs": [
    {
     "name": "stdout",
     "output_type": "stream",
     "text": [
      "Unique values Response column: ['No' 'Yes' nan]\n",
      "Unique values Total Claim Amount column: [292.8      744.924331 480.       ... 273.018929 381.306996 618.288849]\n",
      "       unnamed:_0 customer       state  customer_lifetime_value response  \\\n",
      "3               3  XL78013      Oregon                    22332      Yes   \n",
      "8               8  FM55990  California                     5989      Yes   \n",
      "15             15  CW49887  California                     4626      Yes   \n",
      "19             19  NJ54277  California                     3746      Yes   \n",
      "27             27  MQ68407      Oregon                     4376      Yes   \n",
      "...           ...      ...         ...                      ...      ...   \n",
      "10844       10844  FM31768     Arizona                     5979      Yes   \n",
      "10852       10852  KZ80424  Washington                     8382      Yes   \n",
      "10872       10872  XT67997  California                     5979      Yes   \n",
      "10887       10887  BY78730      Oregon                     8879      Yes   \n",
      "10897       10897  MM70762     Arizona                     9075      Yes   \n",
      "\n",
      "       coverage             education effective_to_date employmentstatus  \\\n",
      "3      Extended               College           1/11/11         Employed   \n",
      "8       Premium               College           1/19/11         Employed   \n",
      "15        Basic                Master           1/16/11         Employed   \n",
      "19     Extended               College           2/26/11         Employed   \n",
      "27      Premium              Bachelor           2/28/11         Employed   \n",
      "...         ...                   ...               ...              ...   \n",
      "10844  Extended  High School or Below            2/7/11         Employed   \n",
      "10852     Basic              Bachelor           1/27/11         Employed   \n",
      "10872  Extended  High School or Below            2/7/11         Employed   \n",
      "10887     Basic  High School or Below            2/3/11         Employed   \n",
      "10897     Basic                Master           1/26/11         Employed   \n",
      "\n",
      "      gender  ...  number_of_open_complaints number_of_policies  \\\n",
      "3          M  ...                        0.0                  2   \n",
      "8          M  ...                        0.0                  1   \n",
      "15         F  ...                        0.0                  1   \n",
      "19         F  ...                        1.0                  1   \n",
      "27         F  ...                        0.0                  1   \n",
      "...      ...  ...                        ...                ...   \n",
      "10844      F  ...                        0.0                  3   \n",
      "10852      M  ...                        0.0                  2   \n",
      "10872      F  ...                        0.0                  3   \n",
      "10887      F  ...                        0.0                  7   \n",
      "10897      M  ...                        0.0                  8   \n",
      "\n",
      "          policy_type        policy  renew_offer_type  sales_channel  \\\n",
      "3      Corporate Auto  Corporate L3            Offer2         Branch   \n",
      "8       Personal Auto   Personal L1            Offer2         Branch   \n",
      "15       Special Auto    Special L1            Offer2         Branch   \n",
      "19      Personal Auto   Personal L2            Offer2    Call Center   \n",
      "27      Personal Auto   Personal L3            Offer2          Agent   \n",
      "...               ...           ...               ...            ...   \n",
      "10844   Personal Auto   Personal L1            Offer2          Agent   \n",
      "10852   Personal Auto   Personal L2            Offer2    Call Center   \n",
      "10872   Personal Auto   Personal L3            Offer2          Agent   \n",
      "10887    Special Auto    Special L2            Offer1          Agent   \n",
      "10897   Personal Auto   Personal L1            Offer1          Agent   \n",
      "\n",
      "       total_claim_amount  vehicle_class vehicle_size vehicle_type  \n",
      "3              484.013411  Four-Door Car      Medsize            A  \n",
      "8              739.200000     Sports Car      Medsize          NaN  \n",
      "15             547.200000            SUV      Medsize          NaN  \n",
      "19              19.575683   Two-Door Car        Large            A  \n",
      "27              60.036683  Four-Door Car      Medsize          NaN  \n",
      "...                   ...            ...          ...          ...  \n",
      "10844          547.200000  Four-Door Car      Medsize          NaN  \n",
      "10852          791.878042            NaN          NaN            A  \n",
      "10872          547.200000  Four-Door Car      Medsize          NaN  \n",
      "10887          528.200860            SUV        Small            A  \n",
      "10897          158.077504     Sports Car      Medsize            A  \n",
      "\n",
      "[1466 rows x 26 columns]\n"
     ]
    }
   ],
   "source": [
    "# Check unique values in response and total_claim_amount columns\n",
    "\n",
    "print(\"Unique values Response column:\",df.response.unique())\n",
    "print(\"Unique values Total Claim Amount column:\",df.total_claim_amount.unique())\n",
    "\n",
    "# new DataFrame with total_claim_amount greater than $1,000 and response of \"Yes\" to the last marketing campaign\n",
    "df_new_1 = df.groupby('response').filter(lambda x: (x['total_claim_amount'] > 1000).any() and (x['response'].iloc[0] == 'Yes'))\n",
    "print(df_new_1)"
   ]
  },
  {
   "cell_type": "markdown",
   "id": "b9be383e-5165-436e-80c8-57d4c757c8c3",
   "metadata": {
    "id": "b9be383e-5165-436e-80c8-57d4c757c8c3"
   },
   "source": [
    "2. Using the original Dataframe, analyze the average total_claim_amount by each policy type and gender for customers who have responded \"Yes\" to the last marketing campaign. Write your conclusions."
   ]
  },
  {
   "cell_type": "code",
   "execution_count": 56,
   "id": "2f77d3d2-bc7c-4b82-922b-045c1ab66a37",
   "metadata": {},
   "outputs": [
    {
     "name": "stdout",
     "output_type": "stream",
     "text": [
      "      policy_type gender  total_claim_amount\n",
      "0  Corporate Auto      F          433.738499\n",
      "1  Corporate Auto      M          408.582459\n",
      "2   Personal Auto      F          452.965929\n",
      "3   Personal Auto      M          457.010178\n",
      "4    Special Auto      F          453.280164\n",
      "5    Special Auto      M          429.527942\n"
     ]
    }
   ],
   "source": [
    "# Convert the column to numeric type\n",
    "df['total_claim_amount'] = pd.to_numeric(df['total_claim_amount'])\n",
    "\n",
    "# Filtering customers who responded \"Yes\"\n",
    "df_yes = df[df['response'] == 'Yes']\n",
    "\n",
    "# Calculating the average total_claim_amount by policy type and gender\n",
    "df_avg = df_yes.groupby(['policy_type', 'gender'])['total_claim_amount'].mean().reset_index()\n",
    "\n",
    "print(df_avg)"
   ]
  },
  {
   "cell_type": "code",
   "execution_count": 58,
   "id": "5db1fa1a-c4fb-4dbe-8430-81b8009abd56",
   "metadata": {},
   "outputs": [],
   "source": [
    "#Conclusion:\n",
    "#The gender female is the group with major total claim amount across all policy types "
   ]
  },
  {
   "cell_type": "markdown",
   "id": "7050f4ac-53c5-4193-a3c0-8699b87196f0",
   "metadata": {
    "id": "7050f4ac-53c5-4193-a3c0-8699b87196f0"
   },
   "source": [
    "3. Analyze the total number of customers who have policies in each state, and then filter the results to only include states where there are more than 500 customers."
   ]
  },
  {
   "cell_type": "code",
   "execution_count": 61,
   "id": "4aa70aeb-d4f6-40bf-8c50-738f8d5c832a",
   "metadata": {
    "scrolled": true
   },
   "outputs": [
    {
     "name": "stdout",
     "output_type": "stream",
     "text": [
      "        state  customer_count\n",
      "0  California            3552\n",
      "1      Oregon            2909\n",
      "2     Arizona            1937\n",
      "3      Nevada             993\n",
      "4  Washington             888\n"
     ]
    }
   ],
   "source": [
    "# number of customers who have policies in each state\n",
    "\n",
    "st_counts = df['state'].value_counts().reset_index() # counts number of customers by state and creates 2 columns state and count\n",
    "st_counts.columns = ['state', 'customer_count']  #renames the 2 columns to state and customer_count\n",
    "\n",
    "# Filtering states with more than 500 customers\n",
    "filter_st = st_counts[st_counts['customer_count'] > 500]\n",
    "\n",
    "print(filter_st)"
   ]
  },
  {
   "cell_type": "markdown",
   "id": "b60a4443-a1a7-4bbf-b78e-9ccdf9895e0d",
   "metadata": {
    "id": "b60a4443-a1a7-4bbf-b78e-9ccdf9895e0d"
   },
   "source": [
    "4. Find the maximum, minimum, and median customer lifetime value by education level and gender. Write your conclusions."
   ]
  },
  {
   "cell_type": "code",
   "execution_count": 64,
   "id": "d68b463b-a60f-45e1-8211-bb9e98182968",
   "metadata": {},
   "outputs": [
    {
     "name": "stdout",
     "output_type": "stream",
     "text": [
      "              education gender  max_clv  min_clv     mean_clv\n",
      "0              Bachelor      F    73225     1904  7873.785294\n",
      "1              Bachelor      M    67907     1898  7703.089695\n",
      "2               College      F    61850     1898  7748.313433\n",
      "3               College      M    61134     1918  8051.942356\n",
      "4                Doctor      F    44856     2395  7328.000000\n",
      "5                Doctor      M    32677     2267  7414.850746\n",
      "6  High School or Below      F    55277     2144  8674.718868\n",
      "7  High School or Below      M    83325     1940  8149.190874\n",
      "8                Master      F    51016     2417  8156.536842\n",
      "9                Master      M    50568     2272  8168.325243\n"
     ]
    }
   ],
   "source": [
    "# Convert the column to numeric type\n",
    "df['customer_lifetime_value'] = pd.to_numeric(df['customer_lifetime_value']).astype(int)\n",
    "\n",
    "# maximum, minimum, and median customer lifetime value by education level and gender\n",
    "\n",
    "df_max_min_avg = df.groupby(['education', 'gender']).agg(max_clv =('customer_lifetime_value', 'max'),min_clv=('customer_lifetime_value', 'min'),mean_clv =('customer_lifetime_value', 'mean')).reset_index()\n",
    "print(df_max_min_avg)\n"
   ]
  },
  {
   "cell_type": "code",
   "execution_count": 66,
   "id": "47355cb5-cd0e-45f8-bd67-2296f609e0ed",
   "metadata": {},
   "outputs": [],
   "source": [
    "#Conclusion:\n",
    "#For the \"Bachelor\" education level, the gender female has the highest average customer lifetime value.\n",
    "#For the \"College\" education level, the gender male has the highest average customer lifetime value.\n",
    "#For the \"Doctor\" education level, the gender male has the highest average customer lifetime value.\n",
    "#For the \"High School or Below\" education level, the gender female has the highest average customer lifetime value.\n",
    "#For the \"Master\" education level, the gender male has the highest average customer lifetime value."
   ]
  },
  {
   "cell_type": "markdown",
   "id": "b42999f9-311f-481e-ae63-40a5577072c5",
   "metadata": {
    "id": "b42999f9-311f-481e-ae63-40a5577072c5"
   },
   "source": [
    "## Bonus"
   ]
  },
  {
   "cell_type": "markdown",
   "id": "81ff02c5-6584-4f21-a358-b918697c6432",
   "metadata": {
    "id": "81ff02c5-6584-4f21-a358-b918697c6432"
   },
   "source": [
    "5. The marketing team wants to analyze the number of policies sold by state and month. Present the data in a table where the months are arranged as columns and the states are arranged as rows."
   ]
  },
  {
   "cell_type": "code",
   "execution_count": 81,
   "id": "4daef827-e4a4-40d4-bcda-dcaee82a8869",
   "metadata": {},
   "outputs": [
    {
     "name": "stdout",
     "output_type": "stream",
     "text": [
      "month       February  January\n",
      "state                        \n",
      "Arizona         2864     3052\n",
      "California      4929     5673\n",
      "Nevada          1278     1493\n",
      "Oregon          3969     4697\n",
      "Washington      1225     1358\n"
     ]
    }
   ],
   "source": [
    "# Convert the effective_date column to datetime format\n",
    "df['effective_to_date'] = pd.to_datetime(df['effective_to_date'], format='%m/%d/%y')\n",
    "\n",
    "# Extract the month from the effective_date column\n",
    "df['month'] = df['effective_to_date'].dt.month_name()\n",
    "\n",
    "# number of policies sold by state and month. Creating a pivot table to arrange months as columns and states as rows\n",
    "pivot_table = df.pivot_table(index='state', columns='month', values='number_of_policies', aggfunc='sum', fill_value=0)\n",
    "\n",
    "# print pivot table\n",
    "print(pivot_table)\n"
   ]
  },
  {
   "cell_type": "markdown",
   "id": "b6aec097-c633-4017-a125-e77a97259cda",
   "metadata": {
    "id": "b6aec097-c633-4017-a125-e77a97259cda"
   },
   "source": [
    "6.  Display a new DataFrame that contains the number of policies sold by month, by state, for the top 3 states with the highest number of policies sold.\n",
    "\n",
    "*Hint:*\n",
    "- *To accomplish this, you will first need to group the data by state and month, then count the number of policies sold for each group. Afterwards, you will need to sort the data by the count of policies sold in descending order.*\n",
    "- *Next, you will select the top 3 states with the highest number of policies sold.*\n",
    "- *Finally, you will create a new DataFrame that contains the number of policies sold by month for each of the top 3 states.*"
   ]
  },
  {
   "cell_type": "code",
   "execution_count": 85,
   "id": "7b353581-888e-46d9-9f2c-d5ea5baed0e0",
   "metadata": {},
   "outputs": [
    {
     "name": "stdout",
     "output_type": "stream",
     "text": [
      "month       February  January\n",
      "state                        \n",
      "Arizona          929     1008\n",
      "California      1634     1918\n",
      "Oregon          1344     1565\n"
     ]
    }
   ],
   "source": [
    "# Group by state and month, and count the number of policies sold\n",
    "st_month_counts = df.groupby(['state', 'month']).size().reset_index(name='number_of_policies')\n",
    "\n",
    "# Get the total number of policies sold by state\n",
    "st_totals = st_month_counts.groupby('state')['number_of_policies'].sum().reset_index()\n",
    "\n",
    "# Sort the states by total number of policies sold in descending order\n",
    "top_st = st_totals.sort_values(by='number_of_policies', ascending=False).head(3)['state']\n",
    "\n",
    "# Filter the original DataFrame to include only the top 3 states\n",
    "top_st_df = st_month_counts[st_month_counts['state'].isin(top_st)]\n",
    "\n",
    "# Creat a pivot table to arrange months as columns and states as rows for the top 3 states\n",
    "pivot_top_st = top_st_df.pivot_table(index='state', columns='month', values='number_of_policies', aggfunc='sum', fill_value=0)\n",
    "\n",
    "print(pivot_top_st)"
   ]
  },
  {
   "cell_type": "markdown",
   "id": "ba975b8a-a2cf-4fbf-9f59-ebc381767009",
   "metadata": {
    "id": "ba975b8a-a2cf-4fbf-9f59-ebc381767009"
   },
   "source": [
    "7. The marketing team wants to analyze the effect of different marketing channels on the customer response rate.\n",
    "\n",
    "Hint: You can use melt to unpivot the data and create a table that shows the customer response rate (those who responded \"Yes\") by marketing channel."
   ]
  },
  {
   "cell_type": "markdown",
   "id": "e4378d94-48fb-4850-a802-b1bc8f427b2d",
   "metadata": {
    "id": "e4378d94-48fb-4850-a802-b1bc8f427b2d"
   },
   "source": [
    "External Resources for Data Filtering: https://towardsdatascience.com/filtering-data-frames-in-pandas-b570b1f834b9"
   ]
  },
  {
   "cell_type": "code",
   "execution_count": 106,
   "id": "449513f4-0459-46a0-a18d-9398d974c9ad",
   "metadata": {
    "id": "449513f4-0459-46a0-a18d-9398d974c9ad"
   },
   "outputs": [
    {
     "name": "stdout",
     "output_type": "stream",
     "text": [
      "  response_channel  response_count  total_count  response_rate\n",
      "0            Agent             742         4121       0.180053\n",
      "1           Branch             326         3022       0.107876\n",
      "2      Call Center             221         2141       0.103223\n",
      "3              Web             177         1626       0.108856\n"
     ]
    }
   ],
   "source": [
    "# Unpivot the data using melt\n",
    "melted_df = df.melt(id_vars=['customer', 'response'], value_vars=['sales_channel'], var_name='marketing_channel', value_name='response_channel')\n",
    "\n",
    "# Calculate the response rate by marketing channel\n",
    "response_rate_df = melted_df[melted_df['response'] == 'Yes'].groupby('response_channel').size().reset_index(name='response_count')\n",
    "\n",
    "# Calculate the total number of responses by marketing channel\n",
    "total_count_df = melted_df.groupby('response_channel').size().reset_index(name='total_count')\n",
    "\n",
    "# Merging the two DataFrames to get the response rate\n",
    "merged_df = pd.merge(response_rate_df, total_count_df, on='response_channel')\n",
    "\n",
    "# Calculating the response rate\n",
    "merged_df['response_rate'] = merged_df['response_count'] / merged_df['total_count']\n",
    "\n",
    "print(merged_df)"
   ]
  }
 ],
 "metadata": {
  "colab": {
   "provenance": []
  },
  "kernelspec": {
   "display_name": "Python [conda env:base] *",
   "language": "python",
   "name": "conda-base-py"
  },
  "language_info": {
   "codemirror_mode": {
    "name": "ipython",
    "version": 3
   },
   "file_extension": ".py",
   "mimetype": "text/x-python",
   "name": "python",
   "nbconvert_exporter": "python",
   "pygments_lexer": "ipython3",
   "version": "3.12.7"
  }
 },
 "nbformat": 4,
 "nbformat_minor": 5
}
