{
 "cells": [
  {
   "cell_type": "markdown",
   "id": "31969215-2a90-4d8b-ac36-646a7ae13744",
   "metadata": {
    "id": "31969215-2a90-4d8b-ac36-646a7ae13744"
   },
   "source": [
    "# Lab | Data Aggregation and Filtering"
   ]
  },
  {
   "cell_type": "markdown",
   "id": "a8f08a52-bec0-439b-99cc-11d3809d8b5d",
   "metadata": {
    "id": "a8f08a52-bec0-439b-99cc-11d3809d8b5d"
   },
   "source": [
    "In this challenge, we will continue to work with customer data from an insurance company. We will use the dataset called marketing_customer_analysis.csv, which can be found at the following link:\n",
    "\n",
    "https://raw.githubusercontent.com/data-bootcamp-v4/data/main/marketing_customer_analysis.csv\n",
    "\n",
    "This dataset contains information such as customer demographics, policy details, vehicle information, and the customer's response to the last marketing campaign. Our goal is to explore and analyze this data by first performing data cleaning, formatting, and structuring."
   ]
  },
  {
   "cell_type": "markdown",
   "id": "7e78b568-1ba6-4a57-ba40-d271270ffca4",
   "metadata": {
    "id": "9c98ddc5-b041-4c94-ada1-4dfee5c98e50"
   },
   "source": [
    "1. Create a new DataFrame that only includes customers who have a total_claim_amount greater than $1,000 and have a response of \"Yes\" to the last marketing campaign."
   ]
  },
  {
   "cell_type": "code",
   "execution_count": 1,
   "id": "c7a3e376-e1cd-40d7-b683-6d99eae1d5d2",
   "metadata": {},
   "outputs": [],
   "source": [
    "import pandas as pd\n",
    "url = \"https://raw.githubusercontent.com/data-bootcamp-v4/data/main/marketing_customer_analysis.csv\"\n",
    "data = pd.read_csv(url)\n"
   ]
  },
  {
   "cell_type": "code",
   "execution_count": 2,
   "id": "a1808cb0-20f0-4ba1-ab27-ee865dc9c2b9",
   "metadata": {},
   "outputs": [
    {
     "data": {
      "text/html": [
       "<div>\n",
       "<style scoped>\n",
       "    .dataframe tbody tr th:only-of-type {\n",
       "        vertical-align: middle;\n",
       "    }\n",
       "\n",
       "    .dataframe tbody tr th {\n",
       "        vertical-align: top;\n",
       "    }\n",
       "\n",
       "    .dataframe thead th {\n",
       "        text-align: right;\n",
       "    }\n",
       "</style>\n",
       "<table border=\"1\" class=\"dataframe\">\n",
       "  <thead>\n",
       "    <tr style=\"text-align: right;\">\n",
       "      <th></th>\n",
       "      <th>Unnamed: 0</th>\n",
       "      <th>Customer</th>\n",
       "      <th>State</th>\n",
       "      <th>Customer Lifetime Value</th>\n",
       "      <th>Response</th>\n",
       "      <th>Coverage</th>\n",
       "      <th>Education</th>\n",
       "      <th>Effective To Date</th>\n",
       "      <th>EmploymentStatus</th>\n",
       "      <th>Gender</th>\n",
       "      <th>...</th>\n",
       "      <th>Number of Open Complaints</th>\n",
       "      <th>Number of Policies</th>\n",
       "      <th>Policy Type</th>\n",
       "      <th>Policy</th>\n",
       "      <th>Renew Offer Type</th>\n",
       "      <th>Sales Channel</th>\n",
       "      <th>Total Claim Amount</th>\n",
       "      <th>Vehicle Class</th>\n",
       "      <th>Vehicle Size</th>\n",
       "      <th>Vehicle Type</th>\n",
       "    </tr>\n",
       "  </thead>\n",
       "  <tbody>\n",
       "    <tr>\n",
       "      <th>189</th>\n",
       "      <td>189</td>\n",
       "      <td>OK31456</td>\n",
       "      <td>California</td>\n",
       "      <td>11009.130490</td>\n",
       "      <td>Yes</td>\n",
       "      <td>Premium</td>\n",
       "      <td>Bachelor</td>\n",
       "      <td>1/24/11</td>\n",
       "      <td>Employed</td>\n",
       "      <td>F</td>\n",
       "      <td>...</td>\n",
       "      <td>0.0</td>\n",
       "      <td>1</td>\n",
       "      <td>Corporate Auto</td>\n",
       "      <td>Corporate L3</td>\n",
       "      <td>Offer2</td>\n",
       "      <td>Agent</td>\n",
       "      <td>1358.400000</td>\n",
       "      <td>Luxury Car</td>\n",
       "      <td>Medsize</td>\n",
       "      <td>NaN</td>\n",
       "    </tr>\n",
       "    <tr>\n",
       "      <th>236</th>\n",
       "      <td>236</td>\n",
       "      <td>YJ16163</td>\n",
       "      <td>Oregon</td>\n",
       "      <td>11009.130490</td>\n",
       "      <td>Yes</td>\n",
       "      <td>Premium</td>\n",
       "      <td>Bachelor</td>\n",
       "      <td>1/24/11</td>\n",
       "      <td>Employed</td>\n",
       "      <td>F</td>\n",
       "      <td>...</td>\n",
       "      <td>0.0</td>\n",
       "      <td>1</td>\n",
       "      <td>Special Auto</td>\n",
       "      <td>Special L3</td>\n",
       "      <td>Offer2</td>\n",
       "      <td>Agent</td>\n",
       "      <td>1358.400000</td>\n",
       "      <td>Luxury Car</td>\n",
       "      <td>Medsize</td>\n",
       "      <td>A</td>\n",
       "    </tr>\n",
       "    <tr>\n",
       "      <th>419</th>\n",
       "      <td>419</td>\n",
       "      <td>GW43195</td>\n",
       "      <td>Oregon</td>\n",
       "      <td>25807.063000</td>\n",
       "      <td>Yes</td>\n",
       "      <td>Extended</td>\n",
       "      <td>College</td>\n",
       "      <td>2/13/11</td>\n",
       "      <td>Employed</td>\n",
       "      <td>F</td>\n",
       "      <td>...</td>\n",
       "      <td>1.0</td>\n",
       "      <td>2</td>\n",
       "      <td>Personal Auto</td>\n",
       "      <td>Personal L2</td>\n",
       "      <td>Offer1</td>\n",
       "      <td>Branch</td>\n",
       "      <td>1027.200000</td>\n",
       "      <td>Luxury Car</td>\n",
       "      <td>Small</td>\n",
       "      <td>A</td>\n",
       "    </tr>\n",
       "    <tr>\n",
       "      <th>442</th>\n",
       "      <td>442</td>\n",
       "      <td>IP94270</td>\n",
       "      <td>Arizona</td>\n",
       "      <td>13736.132500</td>\n",
       "      <td>Yes</td>\n",
       "      <td>Premium</td>\n",
       "      <td>Master</td>\n",
       "      <td>2/13/11</td>\n",
       "      <td>Disabled</td>\n",
       "      <td>F</td>\n",
       "      <td>...</td>\n",
       "      <td>0.0</td>\n",
       "      <td>8</td>\n",
       "      <td>Personal Auto</td>\n",
       "      <td>Personal L2</td>\n",
       "      <td>Offer1</td>\n",
       "      <td>Web</td>\n",
       "      <td>1261.319869</td>\n",
       "      <td>SUV</td>\n",
       "      <td>Medsize</td>\n",
       "      <td>A</td>\n",
       "    </tr>\n",
       "    <tr>\n",
       "      <th>587</th>\n",
       "      <td>587</td>\n",
       "      <td>FJ28407</td>\n",
       "      <td>California</td>\n",
       "      <td>5619.689084</td>\n",
       "      <td>Yes</td>\n",
       "      <td>Premium</td>\n",
       "      <td>High School or Below</td>\n",
       "      <td>1/26/11</td>\n",
       "      <td>Unemployed</td>\n",
       "      <td>M</td>\n",
       "      <td>...</td>\n",
       "      <td>0.0</td>\n",
       "      <td>1</td>\n",
       "      <td>Personal Auto</td>\n",
       "      <td>Personal L1</td>\n",
       "      <td>Offer2</td>\n",
       "      <td>Web</td>\n",
       "      <td>1027.000029</td>\n",
       "      <td>SUV</td>\n",
       "      <td>Medsize</td>\n",
       "      <td>A</td>\n",
       "    </tr>\n",
       "    <tr>\n",
       "      <th>...</th>\n",
       "      <td>...</td>\n",
       "      <td>...</td>\n",
       "      <td>...</td>\n",
       "      <td>...</td>\n",
       "      <td>...</td>\n",
       "      <td>...</td>\n",
       "      <td>...</td>\n",
       "      <td>...</td>\n",
       "      <td>...</td>\n",
       "      <td>...</td>\n",
       "      <td>...</td>\n",
       "      <td>...</td>\n",
       "      <td>...</td>\n",
       "      <td>...</td>\n",
       "      <td>...</td>\n",
       "      <td>...</td>\n",
       "      <td>...</td>\n",
       "      <td>...</td>\n",
       "      <td>...</td>\n",
       "      <td>...</td>\n",
       "      <td>...</td>\n",
       "    </tr>\n",
       "    <tr>\n",
       "      <th>10351</th>\n",
       "      <td>10351</td>\n",
       "      <td>FN44127</td>\n",
       "      <td>Oregon</td>\n",
       "      <td>3508.569533</td>\n",
       "      <td>Yes</td>\n",
       "      <td>Extended</td>\n",
       "      <td>College</td>\n",
       "      <td>1/5/11</td>\n",
       "      <td>Medical Leave</td>\n",
       "      <td>M</td>\n",
       "      <td>...</td>\n",
       "      <td>1.0</td>\n",
       "      <td>1</td>\n",
       "      <td>Personal Auto</td>\n",
       "      <td>Personal L2</td>\n",
       "      <td>Offer2</td>\n",
       "      <td>Branch</td>\n",
       "      <td>1176.278800</td>\n",
       "      <td>Four-Door Car</td>\n",
       "      <td>Small</td>\n",
       "      <td>NaN</td>\n",
       "    </tr>\n",
       "    <tr>\n",
       "      <th>10373</th>\n",
       "      <td>10373</td>\n",
       "      <td>XZ64172</td>\n",
       "      <td>Oregon</td>\n",
       "      <td>10963.957230</td>\n",
       "      <td>Yes</td>\n",
       "      <td>Premium</td>\n",
       "      <td>High School or Below</td>\n",
       "      <td>2/8/11</td>\n",
       "      <td>Employed</td>\n",
       "      <td>M</td>\n",
       "      <td>...</td>\n",
       "      <td>0.0</td>\n",
       "      <td>1</td>\n",
       "      <td>Corporate Auto</td>\n",
       "      <td>Corporate L2</td>\n",
       "      <td>Offer1</td>\n",
       "      <td>Agent</td>\n",
       "      <td>1324.800000</td>\n",
       "      <td>Luxury SUV</td>\n",
       "      <td>Medsize</td>\n",
       "      <td>NaN</td>\n",
       "    </tr>\n",
       "    <tr>\n",
       "      <th>10487</th>\n",
       "      <td>10487</td>\n",
       "      <td>IX60941</td>\n",
       "      <td>Oregon</td>\n",
       "      <td>3508.569533</td>\n",
       "      <td>Yes</td>\n",
       "      <td>Extended</td>\n",
       "      <td>College</td>\n",
       "      <td>1/5/11</td>\n",
       "      <td>Medical Leave</td>\n",
       "      <td>M</td>\n",
       "      <td>...</td>\n",
       "      <td>1.0</td>\n",
       "      <td>1</td>\n",
       "      <td>Personal Auto</td>\n",
       "      <td>Personal L3</td>\n",
       "      <td>Offer2</td>\n",
       "      <td>Branch</td>\n",
       "      <td>1176.278800</td>\n",
       "      <td>Four-Door Car</td>\n",
       "      <td>Small</td>\n",
       "      <td>NaN</td>\n",
       "    </tr>\n",
       "    <tr>\n",
       "      <th>10565</th>\n",
       "      <td>10565</td>\n",
       "      <td>QO62792</td>\n",
       "      <td>Oregon</td>\n",
       "      <td>7840.165778</td>\n",
       "      <td>Yes</td>\n",
       "      <td>Extended</td>\n",
       "      <td>College</td>\n",
       "      <td>1/14/11</td>\n",
       "      <td>Employed</td>\n",
       "      <td>M</td>\n",
       "      <td>...</td>\n",
       "      <td>2.0</td>\n",
       "      <td>1</td>\n",
       "      <td>Personal Auto</td>\n",
       "      <td>Personal L3</td>\n",
       "      <td>Offer2</td>\n",
       "      <td>Agent</td>\n",
       "      <td>1008.000000</td>\n",
       "      <td>NaN</td>\n",
       "      <td>NaN</td>\n",
       "      <td>NaN</td>\n",
       "    </tr>\n",
       "    <tr>\n",
       "      <th>10708</th>\n",
       "      <td>10708</td>\n",
       "      <td>CK39096</td>\n",
       "      <td>Oregon</td>\n",
       "      <td>5619.689084</td>\n",
       "      <td>Yes</td>\n",
       "      <td>Premium</td>\n",
       "      <td>High School or Below</td>\n",
       "      <td>1/26/11</td>\n",
       "      <td>Unemployed</td>\n",
       "      <td>M</td>\n",
       "      <td>...</td>\n",
       "      <td>0.0</td>\n",
       "      <td>1</td>\n",
       "      <td>Personal Auto</td>\n",
       "      <td>Personal L3</td>\n",
       "      <td>Offer2</td>\n",
       "      <td>Web</td>\n",
       "      <td>1027.000029</td>\n",
       "      <td>SUV</td>\n",
       "      <td>Medsize</td>\n",
       "      <td>A</td>\n",
       "    </tr>\n",
       "  </tbody>\n",
       "</table>\n",
       "<p>67 rows × 26 columns</p>\n",
       "</div>"
      ],
      "text/plain": [
       "       Unnamed: 0 Customer       State  Customer Lifetime Value Response  \\\n",
       "189           189  OK31456  California             11009.130490      Yes   \n",
       "236           236  YJ16163      Oregon             11009.130490      Yes   \n",
       "419           419  GW43195      Oregon             25807.063000      Yes   \n",
       "442           442  IP94270     Arizona             13736.132500      Yes   \n",
       "587           587  FJ28407  California              5619.689084      Yes   \n",
       "...           ...      ...         ...                      ...      ...   \n",
       "10351       10351  FN44127      Oregon              3508.569533      Yes   \n",
       "10373       10373  XZ64172      Oregon             10963.957230      Yes   \n",
       "10487       10487  IX60941      Oregon              3508.569533      Yes   \n",
       "10565       10565  QO62792      Oregon              7840.165778      Yes   \n",
       "10708       10708  CK39096      Oregon              5619.689084      Yes   \n",
       "\n",
       "       Coverage             Education Effective To Date EmploymentStatus  \\\n",
       "189     Premium              Bachelor           1/24/11         Employed   \n",
       "236     Premium              Bachelor           1/24/11         Employed   \n",
       "419    Extended               College           2/13/11         Employed   \n",
       "442     Premium                Master           2/13/11         Disabled   \n",
       "587     Premium  High School or Below           1/26/11       Unemployed   \n",
       "...         ...                   ...               ...              ...   \n",
       "10351  Extended               College            1/5/11    Medical Leave   \n",
       "10373   Premium  High School or Below            2/8/11         Employed   \n",
       "10487  Extended               College            1/5/11    Medical Leave   \n",
       "10565  Extended               College           1/14/11         Employed   \n",
       "10708   Premium  High School or Below           1/26/11       Unemployed   \n",
       "\n",
       "      Gender  ...  Number of Open Complaints Number of Policies  \\\n",
       "189        F  ...                        0.0                  1   \n",
       "236        F  ...                        0.0                  1   \n",
       "419        F  ...                        1.0                  2   \n",
       "442        F  ...                        0.0                  8   \n",
       "587        M  ...                        0.0                  1   \n",
       "...      ...  ...                        ...                ...   \n",
       "10351      M  ...                        1.0                  1   \n",
       "10373      M  ...                        0.0                  1   \n",
       "10487      M  ...                        1.0                  1   \n",
       "10565      M  ...                        2.0                  1   \n",
       "10708      M  ...                        0.0                  1   \n",
       "\n",
       "          Policy Type        Policy  Renew Offer Type  Sales Channel  \\\n",
       "189    Corporate Auto  Corporate L3            Offer2          Agent   \n",
       "236      Special Auto    Special L3            Offer2          Agent   \n",
       "419     Personal Auto   Personal L2            Offer1         Branch   \n",
       "442     Personal Auto   Personal L2            Offer1            Web   \n",
       "587     Personal Auto   Personal L1            Offer2            Web   \n",
       "...               ...           ...               ...            ...   \n",
       "10351   Personal Auto   Personal L2            Offer2         Branch   \n",
       "10373  Corporate Auto  Corporate L2            Offer1          Agent   \n",
       "10487   Personal Auto   Personal L3            Offer2         Branch   \n",
       "10565   Personal Auto   Personal L3            Offer2          Agent   \n",
       "10708   Personal Auto   Personal L3            Offer2            Web   \n",
       "\n",
       "       Total Claim Amount  Vehicle Class Vehicle Size Vehicle Type  \n",
       "189           1358.400000     Luxury Car      Medsize          NaN  \n",
       "236           1358.400000     Luxury Car      Medsize            A  \n",
       "419           1027.200000     Luxury Car        Small            A  \n",
       "442           1261.319869            SUV      Medsize            A  \n",
       "587           1027.000029            SUV      Medsize            A  \n",
       "...                   ...            ...          ...          ...  \n",
       "10351         1176.278800  Four-Door Car        Small          NaN  \n",
       "10373         1324.800000     Luxury SUV      Medsize          NaN  \n",
       "10487         1176.278800  Four-Door Car        Small          NaN  \n",
       "10565         1008.000000            NaN          NaN          NaN  \n",
       "10708         1027.000029            SUV      Medsize            A  \n",
       "\n",
       "[67 rows x 26 columns]"
      ]
     },
     "execution_count": 2,
     "metadata": {},
     "output_type": "execute_result"
    }
   ],
   "source": [
    "filtered_data = data[(data['Total Claim Amount'] > 1000) & (data['Response'] == 'Yes')]\n",
    "filtered_data"
   ]
  },
  {
   "cell_type": "markdown",
   "id": "b9be383e-5165-436e-80c8-57d4c757c8c3",
   "metadata": {
    "id": "b9be383e-5165-436e-80c8-57d4c757c8c3"
   },
   "source": [
    "2. Using the original Dataframe, analyze the average total_claim_amount by each policy type and gender for customers who have responded \"Yes\" to the last marketing campaign. Write your conclusions."
   ]
  },
  {
   "cell_type": "code",
   "execution_count": 3,
   "id": "52984aa2-7376-4795-961b-506c2961e937",
   "metadata": {},
   "outputs": [
    {
     "name": "stdout",
     "output_type": "stream",
     "text": [
      "Average total_claim_amount by policy type and gender:\n",
      "Policy Type     Gender\n",
      "Corporate Auto  F         1138.400000\n",
      "                M         1171.150007\n",
      "Personal Auto   F         1214.853805\n",
      "                M         1137.861443\n",
      "Special Auto    F         1358.400000\n",
      "                M         1017.500015\n",
      "Name: Total Claim Amount, dtype: float64\n"
     ]
    }
   ],
   "source": [
    "mean_claim_amount = filtered_data.groupby(['Policy Type', 'Gender'])['Total Claim Amount'].mean()\n",
    "print(\"Average total_claim_amount by policy type and gender:\")\n",
    "print(mean_claim_amount)"
   ]
  },
  {
   "cell_type": "code",
   "execution_count": 4,
   "id": "e39ad7eb-9dd2-475b-9a38-60e72f3d1db7",
   "metadata": {},
   "outputs": [],
   "source": [
    "#Podemos ver las diferencias en la media del precio total de las reclamaciones entre tipos de polizas y género\n",
    "#Esto nos puede indicar que se debe ajustar las estrategias de precios asi como que segmento necesita atencion especifica en términos de servicio al cliente"
   ]
  },
  {
   "cell_type": "markdown",
   "id": "7050f4ac-53c5-4193-a3c0-8699b87196f0",
   "metadata": {
    "id": "7050f4ac-53c5-4193-a3c0-8699b87196f0"
   },
   "source": [
    "3. Analyze the total number of customers who have policies in each state, and then filter the results to only include states where there are more than 500 customers."
   ]
  },
  {
   "cell_type": "code",
   "execution_count": 5,
   "id": "fc114999-a57c-4bc5-89eb-7728000b6457",
   "metadata": {},
   "outputs": [
    {
     "name": "stdout",
     "output_type": "stream",
     "text": [
      "\n",
      "States with more than 500 customers:\n",
      "State\n",
      "Arizona       1937\n",
      "California    3552\n",
      "Nevada         993\n",
      "Oregon        2909\n",
      "Washington     888\n",
      "dtype: int64\n"
     ]
    }
   ],
   "source": [
    "customers_by_state = data.groupby('State').size()\n",
    "states_with_more_than_500_customers = customers_by_state[customers_by_state > 500]\n",
    "print(\"\\nStates with more than 500 customers:\")\n",
    "print(states_with_more_than_500_customers)"
   ]
  },
  {
   "cell_type": "code",
   "execution_count": 6,
   "id": "177c0600-91f2-48f8-ae8e-a9bac00afc2c",
   "metadata": {},
   "outputs": [],
   "source": [
    "# De esta manera podemos ver en que estados necesitamos asignar mas recursos de mkty ventas por wue resultan más atractivos para la empresa"
   ]
  },
  {
   "cell_type": "markdown",
   "id": "b60a4443-a1a7-4bbf-b78e-9ccdf9895e0d",
   "metadata": {
    "id": "b60a4443-a1a7-4bbf-b78e-9ccdf9895e0d"
   },
   "source": [
    "4. Find the maximum, minimum, and median customer lifetime value by education level and gender. Write your conclusions."
   ]
  },
  {
   "cell_type": "code",
   "execution_count": 7,
   "id": "030aa961-4cfb-47c6-97ec-7330ffc674b7",
   "metadata": {},
   "outputs": [
    {
     "name": "stdout",
     "output_type": "stream",
     "text": [
      "\n",
      "Summary of customer lifetime value by education level and gender:\n",
      "                                     max          min       median\n",
      "Education            Gender                                       \n",
      "Bachelor             F       73225.95652  1904.000852  5640.505303\n",
      "                     M       67907.27050  1898.007675  5548.031892\n",
      "College              F       61850.18803  1898.683686  5623.611187\n",
      "                     M       61134.68307  1918.119700  6005.847375\n",
      "Doctor               F       44856.11397  2395.570000  5332.462694\n",
      "                     M       32677.34284  2267.604038  5577.669457\n",
      "High School or Below F       55277.44589  2144.921535  6039.553187\n",
      "                     M       83325.38119  1940.981221  6286.731006\n",
      "Master               F       51016.06704  2417.777032  5729.855012\n",
      "                     M       50568.25912  2272.307310  5579.099207\n"
     ]
    }
   ],
   "source": [
    "summary = data.groupby(['Education', 'Gender'])['Customer Lifetime Value'].agg(['max', 'min', 'median'])\n",
    "print(\"\\nSummary of customer lifetime value by education level and gender:\")\n",
    "print(summary)"
   ]
  },
  {
   "cell_type": "code",
   "execution_count": 8,
   "id": "d3bffeed-4d5e-4c70-a85d-4cba5fdd0d10",
   "metadata": {},
   "outputs": [],
   "source": [
    "#Al ver los diferentes géneros y educacion podemos crean campañas de mkt dirigidas o la fidelización creadas para cada grupo específico"
   ]
  },
  {
   "cell_type": "markdown",
   "id": "b42999f9-311f-481e-ae63-40a5577072c5",
   "metadata": {
    "id": "b42999f9-311f-481e-ae63-40a5577072c5"
   },
   "source": [
    "## Bonus"
   ]
  },
  {
   "cell_type": "markdown",
   "id": "81ff02c5-6584-4f21-a358-b918697c6432",
   "metadata": {
    "id": "81ff02c5-6584-4f21-a358-b918697c6432"
   },
   "source": [
    "5. The marketing team wants to analyze the number of policies sold by state and month. Present the data in a table where the months are arranged as columns and the states are arranged as rows."
   ]
  },
  {
   "cell_type": "code",
   "execution_count": 9,
   "id": "01937c1e-0eb0-40b8-8039-56e3053c28f9",
   "metadata": {},
   "outputs": [],
   "source": [
    "data['Effective To Date'] = pd.to_datetime(data['Effective To Date'], format='%m/%d/%y')\n",
    "# Agrupar por estado y mes y contar el número de pólizas vendidas para cada grupo\n",
    "policies_by_state_month = data.groupby([data['Effective To Date'].dt.month, 'State']).size().unstack()"
   ]
  },
  {
   "cell_type": "markdown",
   "id": "b6aec097-c633-4017-a125-e77a97259cda",
   "metadata": {
    "id": "b6aec097-c633-4017-a125-e77a97259cda"
   },
   "source": [
    "6.  Display a new DataFrame that contains the number of policies sold by month, by state, for the top 3 states with the highest number of policies sold.\n",
    "\n",
    "*Hint:*\n",
    "- *To accomplish this, you will first need to group the data by state and month, then count the number of policies sold for each group. Afterwards, you will need to sort the data by the count of policies sold in descending order.*\n",
    "- *Next, you will select the top 3 states with the highest number of policies sold.*\n",
    "- *Finally, you will create a new DataFrame that contains the number of policies sold by month for each of the top 3 states.*"
   ]
  },
  {
   "cell_type": "code",
   "execution_count": 10,
   "id": "46ec4c22-9f82-4683-b530-6861a424e45f",
   "metadata": {},
   "outputs": [
    {
     "data": {
      "text/html": [
       "<div>\n",
       "<style scoped>\n",
       "    .dataframe tbody tr th:only-of-type {\n",
       "        vertical-align: middle;\n",
       "    }\n",
       "\n",
       "    .dataframe tbody tr th {\n",
       "        vertical-align: top;\n",
       "    }\n",
       "\n",
       "    .dataframe thead th {\n",
       "        text-align: right;\n",
       "    }\n",
       "</style>\n",
       "<table border=\"1\" class=\"dataframe\">\n",
       "  <thead>\n",
       "    <tr style=\"text-align: right;\">\n",
       "      <th>State</th>\n",
       "      <th>Arizona</th>\n",
       "      <th>California</th>\n",
       "      <th>Nevada</th>\n",
       "      <th>Oregon</th>\n",
       "      <th>Washington</th>\n",
       "    </tr>\n",
       "    <tr>\n",
       "      <th>Effective To Date</th>\n",
       "      <th></th>\n",
       "      <th></th>\n",
       "      <th></th>\n",
       "      <th></th>\n",
       "      <th></th>\n",
       "    </tr>\n",
       "  </thead>\n",
       "  <tbody>\n",
       "    <tr>\n",
       "      <th>1</th>\n",
       "      <td>1008</td>\n",
       "      <td>1918</td>\n",
       "      <td>551</td>\n",
       "      <td>1565</td>\n",
       "      <td>463</td>\n",
       "    </tr>\n",
       "    <tr>\n",
       "      <th>2</th>\n",
       "      <td>929</td>\n",
       "      <td>1634</td>\n",
       "      <td>442</td>\n",
       "      <td>1344</td>\n",
       "      <td>425</td>\n",
       "    </tr>\n",
       "  </tbody>\n",
       "</table>\n",
       "</div>"
      ],
      "text/plain": [
       "State              Arizona  California  Nevada  Oregon  Washington\n",
       "Effective To Date                                                 \n",
       "1                     1008        1918     551    1565         463\n",
       "2                      929        1634     442    1344         425"
      ]
     },
     "execution_count": 10,
     "metadata": {},
     "output_type": "execute_result"
    }
   ],
   "source": [
    "policies_by_state_month = data.groupby([data['Effective To Date'].dt.month, 'State']).size().unstack()\n",
    "policies_by_state_month "
   ]
  },
  {
   "cell_type": "code",
   "execution_count": 11,
   "id": "a49e7d90-ec2c-45bd-97d2-b03a5e913b0d",
   "metadata": {},
   "outputs": [
    {
     "data": {
      "text/plain": [
       "Index(['California', 'Oregon', 'Arizona', 'Nevada', 'Washington'], dtype='object', name='State')"
      ]
     },
     "execution_count": 11,
     "metadata": {},
     "output_type": "execute_result"
    }
   ],
   "source": [
    "top_states = data['State'].value_counts().index\n",
    "top_states"
   ]
  },
  {
   "cell_type": "code",
   "execution_count": 12,
   "id": "66e7550f-ed54-44fd-be90-174a65e96f81",
   "metadata": {},
   "outputs": [
    {
     "data": {
      "text/plain": [
       "Index(['California', 'Oregon', 'Arizona'], dtype='object', name='State')"
      ]
     },
     "execution_count": 12,
     "metadata": {},
     "output_type": "execute_result"
    }
   ],
   "source": [
    "top_states_3 = data['State'].value_counts().nlargest(3).index\n",
    "top_states_3"
   ]
  },
  {
   "cell_type": "code",
   "execution_count": 13,
   "id": "6f04c04e-ff05-4c2d-9388-70779f0e715f",
   "metadata": {},
   "outputs": [
    {
     "data": {
      "text/html": [
       "<div>\n",
       "<style scoped>\n",
       "    .dataframe tbody tr th:only-of-type {\n",
       "        vertical-align: middle;\n",
       "    }\n",
       "\n",
       "    .dataframe tbody tr th {\n",
       "        vertical-align: top;\n",
       "    }\n",
       "\n",
       "    .dataframe thead th {\n",
       "        text-align: right;\n",
       "    }\n",
       "</style>\n",
       "<table border=\"1\" class=\"dataframe\">\n",
       "  <thead>\n",
       "    <tr style=\"text-align: right;\">\n",
       "      <th>State</th>\n",
       "      <th>Arizona</th>\n",
       "      <th>California</th>\n",
       "      <th>Nevada</th>\n",
       "      <th>Oregon</th>\n",
       "      <th>Washington</th>\n",
       "    </tr>\n",
       "    <tr>\n",
       "      <th>Effective To Date</th>\n",
       "      <th></th>\n",
       "      <th></th>\n",
       "      <th></th>\n",
       "      <th></th>\n",
       "      <th></th>\n",
       "    </tr>\n",
       "  </thead>\n",
       "  <tbody>\n",
       "    <tr>\n",
       "      <th>1</th>\n",
       "      <td>1008</td>\n",
       "      <td>1918</td>\n",
       "      <td>551</td>\n",
       "      <td>1565</td>\n",
       "      <td>463</td>\n",
       "    </tr>\n",
       "    <tr>\n",
       "      <th>2</th>\n",
       "      <td>929</td>\n",
       "      <td>1634</td>\n",
       "      <td>442</td>\n",
       "      <td>1344</td>\n",
       "      <td>425</td>\n",
       "    </tr>\n",
       "  </tbody>\n",
       "</table>\n",
       "</div>"
      ],
      "text/plain": [
       "State              Arizona  California  Nevada  Oregon  Washington\n",
       "Effective To Date                                                 \n",
       "1                     1008        1918     551    1565         463\n",
       "2                      929        1634     442    1344         425"
      ]
     },
     "execution_count": 13,
     "metadata": {},
     "output_type": "execute_result"
    }
   ],
   "source": [
    "top_states_policies_by_month = data[data['State'].isin(top_states)].groupby([data['Effective To Date'].dt.month, 'State']).size().unstack()\n",
    "top_states_policies_by_month"
   ]
  },
  {
   "cell_type": "markdown",
   "id": "ba975b8a-a2cf-4fbf-9f59-ebc381767009",
   "metadata": {
    "id": "ba975b8a-a2cf-4fbf-9f59-ebc381767009"
   },
   "source": [
    "7. The marketing team wants to analyze the effect of different marketing channels on the customer response rate.\n",
    "\n",
    "Hint: You can use melt to unpivot the data and create a table that shows the customer response rate (those who responded \"Yes\") by marketing channel."
   ]
  },
  {
   "cell_type": "markdown",
   "id": "e4378d94-48fb-4850-a802-b1bc8f427b2d",
   "metadata": {
    "id": "e4378d94-48fb-4850-a802-b1bc8f427b2d"
   },
   "source": [
    "External Resources for Data Filtering: https://towardsdatascience.com/filtering-data-frames-in-pandas-b570b1f834b9"
   ]
  },
  {
   "cell_type": "code",
   "execution_count": 14,
   "id": "449513f4-0459-46a0-a18d-9398d974c9ad",
   "metadata": {
    "id": "449513f4-0459-46a0-a18d-9398d974c9ad"
   },
   "outputs": [],
   "source": [
    "yes_responses_data = data[data['Response'] == 'Yes']"
   ]
  },
  {
   "cell_type": "code",
   "execution_count": 15,
   "id": "67401767-119b-4aad-a5c2-369826fb354d",
   "metadata": {},
   "outputs": [],
   "source": [
    "response_by_channel_pivot = pd.pivot_table(yes_responses_data, index='Sales Channel', values='Response', aggfunc='count')\n"
   ]
  },
  {
   "cell_type": "code",
   "execution_count": 16,
   "id": "128c4e03-6d29-4388-8814-ca137c164be6",
   "metadata": {},
   "outputs": [],
   "source": [
    "total_customers_by_channel = data.groupby('Sales Channel').size()\n",
    "response_by_channel_pivot['Response Rate'] = (response_by_channel_pivot['Response'] / total_customers_by_channel) * 100"
   ]
  },
  {
   "cell_type": "code",
   "execution_count": 17,
   "id": "247081e0-a963-4c90-b7ac-baf5e859a71a",
   "metadata": {},
   "outputs": [],
   "source": [
    "response_by_channel_pivot.drop(columns='Response', inplace=True)"
   ]
  },
  {
   "cell_type": "code",
   "execution_count": 18,
   "id": "3e48be89-c710-482f-bf0d-cbd33773497c",
   "metadata": {},
   "outputs": [
    {
     "name": "stdout",
     "output_type": "stream",
     "text": [
      "\n",
      "Customer response rate by marketing channel:\n",
      "               Response Rate\n",
      "Sales Channel               \n",
      "Agent              18.005339\n",
      "Branch             10.787558\n",
      "Call Center        10.322279\n",
      "Web                10.885609\n"
     ]
    }
   ],
   "source": [
    "print(\"\\nCustomer response rate by marketing channel:\")\n",
    "print(response_by_channel_pivot)"
   ]
  },
  {
   "cell_type": "code",
   "execution_count": null,
   "id": "6aba22b0-ff91-454b-a68a-69b028c636c9",
   "metadata": {},
   "outputs": [],
   "source": []
  }
 ],
 "metadata": {
  "colab": {
   "provenance": []
  },
  "kernelspec": {
   "display_name": "Python 3 (ipykernel)",
   "language": "python",
   "name": "python3"
  },
  "language_info": {
   "codemirror_mode": {
    "name": "ipython",
    "version": 3
   },
   "file_extension": ".py",
   "mimetype": "text/x-python",
   "name": "python",
   "nbconvert_exporter": "python",
   "pygments_lexer": "ipython3",
   "version": "3.11.7"
  }
 },
 "nbformat": 4,
 "nbformat_minor": 5
}
