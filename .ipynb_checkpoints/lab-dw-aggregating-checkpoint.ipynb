{
 "cells": [
  {
   "cell_type": "markdown",
   "id": "31969215-2a90-4d8b-ac36-646a7ae13744",
   "metadata": {
    "id": "31969215-2a90-4d8b-ac36-646a7ae13744"
   },
   "source": [
    "# Lab | Data Aggregation and Filtering"
   ]
  },
  {
   "cell_type": "markdown",
   "id": "a8f08a52-bec0-439b-99cc-11d3809d8b5d",
   "metadata": {
    "id": "a8f08a52-bec0-439b-99cc-11d3809d8b5d"
   },
   "source": [
    "In this challenge, we will continue to work with customer data from an insurance company. We will use the dataset called marketing_customer_analysis.csv, which can be found at the following link:\n",
    "\n",
    "https://raw.githubusercontent.com/data-bootcamp-v4/data/main/marketing_customer_analysis.csv\n",
    "\n",
    "This dataset contains information such as customer demographics, policy details, vehicle information, and the customer's response to the last marketing campaign. Our goal is to explore and analyze this data by first performing data cleaning, formatting, and structuring."
   ]
  },
  {
   "cell_type": "markdown",
   "id": "9c98ddc5-b041-4c94-ada1-4dfee5c98e50",
   "metadata": {
    "id": "9c98ddc5-b041-4c94-ada1-4dfee5c98e50"
   },
   "source": [
    "1. Create a new DataFrame that only includes customers who have a total_claim_amount greater than $1,000 and have a response of \"Yes\" to the last marketing campaign."
   ]
  },
  {
   "cell_type": "code",
   "execution_count": 3,
   "id": "b6fd660e-c0a7-4ed4-872c-829ea3fb542a",
   "metadata": {
    "tags": []
   },
   "outputs": [],
   "source": [
    "import pandas as pd\n",
    "url = 'https://raw.githubusercontent.com/data-bootcamp-v4/data/main/marketing_customer_analysis.csv'\n",
    "df = pd.read_csv('https://raw.githubusercontent.com/data-bootcamp-v4/data/main/marketing_customer_analysis.csv')"
   ]
  },
  {
   "cell_type": "code",
   "execution_count": 9,
   "id": "5e3d632a-49a3-4cdf-b9c6-1353cb8ac119",
   "metadata": {
    "tags": []
   },
   "outputs": [],
   "source": [
    "new_cols = [elem.lower().strip().replace(\" \",\"_\") for elem in df.columns]\n",
    "\n",
    "new_cols[8] = 'employment_status'\n",
    "\n",
    "df.columns = new_cols"
   ]
  },
  {
   "cell_type": "code",
   "execution_count": 96,
   "id": "ea879a8b-d680-48d1-bbec-8261a75df792",
   "metadata": {
    "tags": []
   },
   "outputs": [
    {
     "data": {
      "text/plain": [
       "numpy.float64"
      ]
     },
     "execution_count": 96,
     "metadata": {},
     "output_type": "execute_result"
    }
   ],
   "source": [
    "type(df['total_claim_amount'][0])"
   ]
  },
  {
   "cell_type": "code",
   "execution_count": 98,
   "id": "ef8538fe-a01d-41ed-92ae-fe863956c829",
   "metadata": {
    "tags": []
   },
   "outputs": [
    {
     "data": {
      "text/html": [
       "<div>\n",
       "<style scoped>\n",
       "    .dataframe tbody tr th:only-of-type {\n",
       "        vertical-align: middle;\n",
       "    }\n",
       "\n",
       "    .dataframe tbody tr th {\n",
       "        vertical-align: top;\n",
       "    }\n",
       "\n",
       "    .dataframe thead th {\n",
       "        text-align: right;\n",
       "    }\n",
       "</style>\n",
       "<table border=\"1\" class=\"dataframe\">\n",
       "  <thead>\n",
       "    <tr style=\"text-align: right;\">\n",
       "      <th></th>\n",
       "      <th>unnamed:_0</th>\n",
       "      <th>customer</th>\n",
       "      <th>state</th>\n",
       "      <th>customer_lifetime_value</th>\n",
       "      <th>response</th>\n",
       "      <th>coverage</th>\n",
       "      <th>education</th>\n",
       "      <th>effective_to_date</th>\n",
       "      <th>employment_status</th>\n",
       "      <th>gender</th>\n",
       "      <th>...</th>\n",
       "      <th>number_of_open_complaints</th>\n",
       "      <th>number_of_policies</th>\n",
       "      <th>policy_type</th>\n",
       "      <th>policy</th>\n",
       "      <th>renew_offer_type</th>\n",
       "      <th>sales_channel</th>\n",
       "      <th>total_claim_amount</th>\n",
       "      <th>vehicle_class</th>\n",
       "      <th>vehicle_size</th>\n",
       "      <th>vehicle_type</th>\n",
       "    </tr>\n",
       "  </thead>\n",
       "  <tbody>\n",
       "    <tr>\n",
       "      <th>30</th>\n",
       "      <td>30</td>\n",
       "      <td>GX19342</td>\n",
       "      <td>California</td>\n",
       "      <td>8491.465719</td>\n",
       "      <td>No</td>\n",
       "      <td>Premium</td>\n",
       "      <td>High School or Below</td>\n",
       "      <td>1/28/11</td>\n",
       "      <td>Unemployed</td>\n",
       "      <td>F</td>\n",
       "      <td>...</td>\n",
       "      <td>0.0</td>\n",
       "      <td>3</td>\n",
       "      <td>Personal Auto</td>\n",
       "      <td>Personal L3</td>\n",
       "      <td>Offer1</td>\n",
       "      <td>Branch</td>\n",
       "      <td>1193.115879</td>\n",
       "      <td>Four-Door Car</td>\n",
       "      <td>Large</td>\n",
       "      <td>A</td>\n",
       "    </tr>\n",
       "    <tr>\n",
       "      <th>55</th>\n",
       "      <td>55</td>\n",
       "      <td>XQ74827</td>\n",
       "      <td>Arizona</td>\n",
       "      <td>19435.629240</td>\n",
       "      <td>No</td>\n",
       "      <td>Extended</td>\n",
       "      <td>High School or Below</td>\n",
       "      <td>2/1/11</td>\n",
       "      <td>Employed</td>\n",
       "      <td>F</td>\n",
       "      <td>...</td>\n",
       "      <td>0.0</td>\n",
       "      <td>3</td>\n",
       "      <td>Special Auto</td>\n",
       "      <td>Special L3</td>\n",
       "      <td>Offer1</td>\n",
       "      <td>Agent</td>\n",
       "      <td>2294.631639</td>\n",
       "      <td>Luxury Car</td>\n",
       "      <td>Medsize</td>\n",
       "      <td>A</td>\n",
       "    </tr>\n",
       "    <tr>\n",
       "      <th>74</th>\n",
       "      <td>74</td>\n",
       "      <td>LD75023</td>\n",
       "      <td>Oregon</td>\n",
       "      <td>26346.085820</td>\n",
       "      <td>No</td>\n",
       "      <td>Extended</td>\n",
       "      <td>High School or Below</td>\n",
       "      <td>1/20/11</td>\n",
       "      <td>Employed</td>\n",
       "      <td>M</td>\n",
       "      <td>...</td>\n",
       "      <td>0.0</td>\n",
       "      <td>2</td>\n",
       "      <td>Personal Auto</td>\n",
       "      <td>Personal L2</td>\n",
       "      <td>Offer1</td>\n",
       "      <td>Web</td>\n",
       "      <td>1605.600000</td>\n",
       "      <td>Luxury SUV</td>\n",
       "      <td>Medsize</td>\n",
       "      <td>NaN</td>\n",
       "    </tr>\n",
       "    <tr>\n",
       "      <th>77</th>\n",
       "      <td>77</td>\n",
       "      <td>YC54142</td>\n",
       "      <td>Washington</td>\n",
       "      <td>74228.516040</td>\n",
       "      <td>No</td>\n",
       "      <td>Extended</td>\n",
       "      <td>High School or Below</td>\n",
       "      <td>1/26/11</td>\n",
       "      <td>Unemployed</td>\n",
       "      <td>M</td>\n",
       "      <td>...</td>\n",
       "      <td>0.0</td>\n",
       "      <td>2</td>\n",
       "      <td>Personal Auto</td>\n",
       "      <td>Personal L1</td>\n",
       "      <td>Offer1</td>\n",
       "      <td>Branch</td>\n",
       "      <td>1742.400000</td>\n",
       "      <td>Luxury Car</td>\n",
       "      <td>Medsize</td>\n",
       "      <td>NaN</td>\n",
       "    </tr>\n",
       "    <tr>\n",
       "      <th>99</th>\n",
       "      <td>99</td>\n",
       "      <td>JY66887</td>\n",
       "      <td>California</td>\n",
       "      <td>16320.767160</td>\n",
       "      <td>No</td>\n",
       "      <td>Extended</td>\n",
       "      <td>High School or Below</td>\n",
       "      <td>2/27/11</td>\n",
       "      <td>Unemployed</td>\n",
       "      <td>F</td>\n",
       "      <td>...</td>\n",
       "      <td>3.0</td>\n",
       "      <td>5</td>\n",
       "      <td>Personal Auto</td>\n",
       "      <td>Personal L2</td>\n",
       "      <td>Offer2</td>\n",
       "      <td>Branch</td>\n",
       "      <td>1778.400000</td>\n",
       "      <td>Luxury Car</td>\n",
       "      <td>Medsize</td>\n",
       "      <td>NaN</td>\n",
       "    </tr>\n",
       "    <tr>\n",
       "      <th>...</th>\n",
       "      <td>...</td>\n",
       "      <td>...</td>\n",
       "      <td>...</td>\n",
       "      <td>...</td>\n",
       "      <td>...</td>\n",
       "      <td>...</td>\n",
       "      <td>...</td>\n",
       "      <td>...</td>\n",
       "      <td>...</td>\n",
       "      <td>...</td>\n",
       "      <td>...</td>\n",
       "      <td>...</td>\n",
       "      <td>...</td>\n",
       "      <td>...</td>\n",
       "      <td>...</td>\n",
       "      <td>...</td>\n",
       "      <td>...</td>\n",
       "      <td>...</td>\n",
       "      <td>...</td>\n",
       "      <td>...</td>\n",
       "      <td>...</td>\n",
       "    </tr>\n",
       "    <tr>\n",
       "      <th>10874</th>\n",
       "      <td>10874</td>\n",
       "      <td>PD52748</td>\n",
       "      <td>NaN</td>\n",
       "      <td>10036.536340</td>\n",
       "      <td>NaN</td>\n",
       "      <td>Extended</td>\n",
       "      <td>High School or Below</td>\n",
       "      <td>2/12/11</td>\n",
       "      <td>Unemployed</td>\n",
       "      <td>F</td>\n",
       "      <td>...</td>\n",
       "      <td>1.0</td>\n",
       "      <td>8</td>\n",
       "      <td>Personal Auto</td>\n",
       "      <td>Personal L3</td>\n",
       "      <td>Offer1</td>\n",
       "      <td>Call Center</td>\n",
       "      <td>1353.289060</td>\n",
       "      <td>SUV</td>\n",
       "      <td>Medsize</td>\n",
       "      <td>NaN</td>\n",
       "    </tr>\n",
       "    <tr>\n",
       "      <th>10879</th>\n",
       "      <td>10879</td>\n",
       "      <td>FK95213</td>\n",
       "      <td>California</td>\n",
       "      <td>18611.453560</td>\n",
       "      <td>No</td>\n",
       "      <td>Extended</td>\n",
       "      <td>Master</td>\n",
       "      <td>1/16/11</td>\n",
       "      <td>Employed</td>\n",
       "      <td>F</td>\n",
       "      <td>...</td>\n",
       "      <td>0.0</td>\n",
       "      <td>7</td>\n",
       "      <td>Personal Auto</td>\n",
       "      <td>Personal L3</td>\n",
       "      <td>Offer2</td>\n",
       "      <td>Web</td>\n",
       "      <td>1021.654003</td>\n",
       "      <td>NaN</td>\n",
       "      <td>NaN</td>\n",
       "      <td>NaN</td>\n",
       "    </tr>\n",
       "    <tr>\n",
       "      <th>10900</th>\n",
       "      <td>10900</td>\n",
       "      <td>VN73653</td>\n",
       "      <td>Oregon</td>\n",
       "      <td>6423.739052</td>\n",
       "      <td>No</td>\n",
       "      <td>Basic</td>\n",
       "      <td>College</td>\n",
       "      <td>2/13/11</td>\n",
       "      <td>Unemployed</td>\n",
       "      <td>M</td>\n",
       "      <td>...</td>\n",
       "      <td>0.0</td>\n",
       "      <td>1</td>\n",
       "      <td>Corporate Auto</td>\n",
       "      <td>Corporate L2</td>\n",
       "      <td>Offer3</td>\n",
       "      <td>Agent</td>\n",
       "      <td>1621.560425</td>\n",
       "      <td>Luxury SUV</td>\n",
       "      <td>Medsize</td>\n",
       "      <td>NaN</td>\n",
       "    </tr>\n",
       "    <tr>\n",
       "      <th>10905</th>\n",
       "      <td>10905</td>\n",
       "      <td>FE99816</td>\n",
       "      <td>Nevada</td>\n",
       "      <td>15563.369440</td>\n",
       "      <td>No</td>\n",
       "      <td>Premium</td>\n",
       "      <td>Bachelor</td>\n",
       "      <td>1/19/11</td>\n",
       "      <td>Unemployed</td>\n",
       "      <td>F</td>\n",
       "      <td>...</td>\n",
       "      <td>NaN</td>\n",
       "      <td>7</td>\n",
       "      <td>Personal Auto</td>\n",
       "      <td>Personal L1</td>\n",
       "      <td>Offer3</td>\n",
       "      <td>Web</td>\n",
       "      <td>1214.400000</td>\n",
       "      <td>Luxury Car</td>\n",
       "      <td>Medsize</td>\n",
       "      <td>A</td>\n",
       "    </tr>\n",
       "    <tr>\n",
       "      <th>10909</th>\n",
       "      <td>10909</td>\n",
       "      <td>IV32877</td>\n",
       "      <td>NaN</td>\n",
       "      <td>6857.519928</td>\n",
       "      <td>NaN</td>\n",
       "      <td>Basic</td>\n",
       "      <td>Bachelor</td>\n",
       "      <td>1/8/11</td>\n",
       "      <td>Unemployed</td>\n",
       "      <td>M</td>\n",
       "      <td>...</td>\n",
       "      <td>0.0</td>\n",
       "      <td>3</td>\n",
       "      <td>Personal Auto</td>\n",
       "      <td>Personal L1</td>\n",
       "      <td>Offer4</td>\n",
       "      <td>Web</td>\n",
       "      <td>1021.719397</td>\n",
       "      <td>SUV</td>\n",
       "      <td>Medsize</td>\n",
       "      <td>NaN</td>\n",
       "    </tr>\n",
       "  </tbody>\n",
       "</table>\n",
       "<p>491 rows × 26 columns</p>\n",
       "</div>"
      ],
      "text/plain": [
       "       unnamed:_0 customer       state  customer_lifetime_value response  \\\n",
       "30             30  GX19342  California              8491.465719       No   \n",
       "55             55  XQ74827     Arizona             19435.629240       No   \n",
       "74             74  LD75023      Oregon             26346.085820       No   \n",
       "77             77  YC54142  Washington             74228.516040       No   \n",
       "99             99  JY66887  California             16320.767160       No   \n",
       "...           ...      ...         ...                      ...      ...   \n",
       "10874       10874  PD52748         NaN             10036.536340      NaN   \n",
       "10879       10879  FK95213  California             18611.453560       No   \n",
       "10900       10900  VN73653      Oregon              6423.739052       No   \n",
       "10905       10905  FE99816      Nevada             15563.369440       No   \n",
       "10909       10909  IV32877         NaN              6857.519928      NaN   \n",
       "\n",
       "       coverage             education effective_to_date employment_status  \\\n",
       "30      Premium  High School or Below           1/28/11        Unemployed   \n",
       "55     Extended  High School or Below            2/1/11          Employed   \n",
       "74     Extended  High School or Below           1/20/11          Employed   \n",
       "77     Extended  High School or Below           1/26/11        Unemployed   \n",
       "99     Extended  High School or Below           2/27/11        Unemployed   \n",
       "...         ...                   ...               ...               ...   \n",
       "10874  Extended  High School or Below           2/12/11        Unemployed   \n",
       "10879  Extended                Master           1/16/11          Employed   \n",
       "10900     Basic               College           2/13/11        Unemployed   \n",
       "10905   Premium              Bachelor           1/19/11        Unemployed   \n",
       "10909     Basic              Bachelor            1/8/11        Unemployed   \n",
       "\n",
       "      gender  ...  number_of_open_complaints number_of_policies  \\\n",
       "30         F  ...                        0.0                  3   \n",
       "55         F  ...                        0.0                  3   \n",
       "74         M  ...                        0.0                  2   \n",
       "77         M  ...                        0.0                  2   \n",
       "99         F  ...                        3.0                  5   \n",
       "...      ...  ...                        ...                ...   \n",
       "10874      F  ...                        1.0                  8   \n",
       "10879      F  ...                        0.0                  7   \n",
       "10900      M  ...                        0.0                  1   \n",
       "10905      F  ...                        NaN                  7   \n",
       "10909      M  ...                        0.0                  3   \n",
       "\n",
       "          policy_type        policy  renew_offer_type  sales_channel  \\\n",
       "30      Personal Auto   Personal L3            Offer1         Branch   \n",
       "55       Special Auto    Special L3            Offer1          Agent   \n",
       "74      Personal Auto   Personal L2            Offer1            Web   \n",
       "77      Personal Auto   Personal L1            Offer1         Branch   \n",
       "99      Personal Auto   Personal L2            Offer2         Branch   \n",
       "...               ...           ...               ...            ...   \n",
       "10874   Personal Auto   Personal L3            Offer1    Call Center   \n",
       "10879   Personal Auto   Personal L3            Offer2            Web   \n",
       "10900  Corporate Auto  Corporate L2            Offer3          Agent   \n",
       "10905   Personal Auto   Personal L1            Offer3            Web   \n",
       "10909   Personal Auto   Personal L1            Offer4            Web   \n",
       "\n",
       "       total_claim_amount  vehicle_class vehicle_size vehicle_type  \n",
       "30            1193.115879  Four-Door Car        Large            A  \n",
       "55            2294.631639     Luxury Car      Medsize            A  \n",
       "74            1605.600000     Luxury SUV      Medsize          NaN  \n",
       "77            1742.400000     Luxury Car      Medsize          NaN  \n",
       "99            1778.400000     Luxury Car      Medsize          NaN  \n",
       "...                   ...            ...          ...          ...  \n",
       "10874         1353.289060            SUV      Medsize          NaN  \n",
       "10879         1021.654003            NaN          NaN          NaN  \n",
       "10900         1621.560425     Luxury SUV      Medsize          NaN  \n",
       "10905         1214.400000     Luxury Car      Medsize            A  \n",
       "10909         1021.719397            SUV      Medsize          NaN  \n",
       "\n",
       "[491 rows x 26 columns]"
      ]
     },
     "metadata": {},
     "output_type": "display_data"
    }
   ],
   "source": [
    "condition = [elem > 1000 for elem in df['total_claim_amount']]\n",
    "df_tca = df[condition]\n",
    "display(df_tca)"
   ]
  },
  {
   "cell_type": "markdown",
   "id": "b9be383e-5165-436e-80c8-57d4c757c8c3",
   "metadata": {
    "id": "b9be383e-5165-436e-80c8-57d4c757c8c3"
   },
   "source": [
    "2. Using the original Dataframe, analyze the average total_claim_amount by each policy type and gender for customers who have responded \"Yes\" to the last marketing campaign. Write your conclusions."
   ]
  },
  {
   "cell_type": "code",
   "execution_count": 163,
   "id": "436c0772-fc7c-4690-8063-d263fee399f7",
   "metadata": {
    "tags": []
   },
   "outputs": [
    {
     "name": "stdout",
     "output_type": "stream",
     "text": [
      "policy_type     gender\n",
      "Corporate Auto  F         433.74\n",
      "                M         408.58\n",
      "Personal Auto   F         452.97\n",
      "                M         457.01\n",
      "Special Auto    F         453.28\n",
      "                M         429.53\n",
      "Name: total_claim_amount, dtype: float64\n"
     ]
    }
   ],
   "source": [
    "tca_mean = df[df['response'] == 'Yes'].groupby(['policy_type','gender'])['total_claim_amount'].mean().round(2)\n",
    "print(tca_mean)"
   ]
  },
  {
   "cell_type": "code",
   "execution_count": 165,
   "id": "71663bed-f37e-41ba-b6e6-9928f7ffe67d",
   "metadata": {
    "tags": []
   },
   "outputs": [],
   "source": [
    "# For corporate and special auto policies, women are charged a higher premium.\n",
    "# For personal auto policies, women are charged less than men, though the values are close to one another."
   ]
  },
  {
   "cell_type": "markdown",
   "id": "7050f4ac-53c5-4193-a3c0-8699b87196f0",
   "metadata": {
    "id": "7050f4ac-53c5-4193-a3c0-8699b87196f0"
   },
   "source": [
    "3. Analyze the total number of customers who have policies in each state, and then filter the results to only include states where there are more than 500 customers."
   ]
  },
  {
   "cell_type": "code",
   "execution_count": 35,
   "id": "9ad07c00-2333-4cf7-9a49-1b4c5b0ec70d",
   "metadata": {
    "tags": []
   },
   "outputs": [
    {
     "data": {
      "text/plain": [
       "state\n",
       "Arizona       1937\n",
       "California    3552\n",
       "Nevada         993\n",
       "Oregon        2909\n",
       "Washington     888\n",
       "Name: customer, dtype: int64"
      ]
     },
     "execution_count": 35,
     "metadata": {},
     "output_type": "execute_result"
    }
   ],
   "source": [
    "grouped_2 = df.groupby(['state'])\n",
    "\n",
    "counts = grouped_2['customer'].count()\n",
    "\n",
    "filtered_counts = counts[counts > 500]\n",
    "\n",
    "filtered_counts"
   ]
  },
  {
   "cell_type": "markdown",
   "id": "b60a4443-a1a7-4bbf-b78e-9ccdf9895e0d",
   "metadata": {
    "id": "b60a4443-a1a7-4bbf-b78e-9ccdf9895e0d"
   },
   "source": [
    "4. Find the maximum, minimum, and median customer lifetime value by education level and gender. Write your conclusions."
   ]
  },
  {
   "cell_type": "code",
   "execution_count": 37,
   "id": "e181e182-9148-4d18-b354-2339b5e869db",
   "metadata": {
    "tags": []
   },
   "outputs": [
    {
     "data": {
      "text/plain": [
       "education             gender\n",
       "Bachelor              F         73225.95652\n",
       "                      M         67907.27050\n",
       "College               F         61850.18803\n",
       "                      M         61134.68307\n",
       "Doctor                F         44856.11397\n",
       "                      M         32677.34284\n",
       "High School or Below  F         55277.44589\n",
       "                      M         83325.38119\n",
       "Master                F         51016.06704\n",
       "                      M         50568.25912\n",
       "Name: customer_lifetime_value, dtype: float64"
      ]
     },
     "execution_count": 37,
     "metadata": {},
     "output_type": "execute_result"
    }
   ],
   "source": [
    "grouped_3 = df.groupby(['education','gender'])\n",
    "grouped_3['customer_lifetime_value'].max()"
   ]
  },
  {
   "cell_type": "code",
   "execution_count": 43,
   "id": "bdb62d99-4008-4e4a-bb6a-b2ba7346a4a5",
   "metadata": {
    "tags": []
   },
   "outputs": [],
   "source": [
    "# Conclusions\n",
    "#1 Customers at doctorate level have a lower max customer lifetime value than any other type. \n",
    "#2 While males educated to high school level and below have a high customer lifetime value, the maximum value for their female counterparts remains low "
   ]
  },
  {
   "cell_type": "code",
   "execution_count": 39,
   "id": "7777c115-453b-4b39-b5ff-082664539df2",
   "metadata": {
    "tags": []
   },
   "outputs": [
    {
     "data": {
      "text/plain": [
       "education             gender\n",
       "Bachelor              F         1904.000852\n",
       "                      M         1898.007675\n",
       "College               F         1898.683686\n",
       "                      M         1918.119700\n",
       "Doctor                F         2395.570000\n",
       "                      M         2267.604038\n",
       "High School or Below  F         2144.921535\n",
       "                      M         1940.981221\n",
       "Master                F         2417.777032\n",
       "                      M         2272.307310\n",
       "Name: customer_lifetime_value, dtype: float64"
      ]
     },
     "execution_count": 39,
     "metadata": {},
     "output_type": "execute_result"
    }
   ],
   "source": [
    "grouped_3['customer_lifetime_value'].min()"
   ]
  },
  {
   "cell_type": "code",
   "execution_count": 45,
   "id": "90ccf2ca-e4c1-478d-8407-04f58e425355",
   "metadata": {
    "tags": []
   },
   "outputs": [],
   "source": [
    "# Conclusions\n",
    "#1 In contrast to the maximum levels, the customers educated to doctorate and masters level exhbit some of the highest minimum customer liftetime values.\n",
    "#2 These two data points would suggest a correlation between a higher level of education and a smaller range in the customer lifetime value."
   ]
  },
  {
   "cell_type": "code",
   "execution_count": 41,
   "id": "7350d5ab-7bba-4f05-bdad-18f385f9a01f",
   "metadata": {
    "tags": []
   },
   "outputs": [
    {
     "data": {
      "text/plain": [
       "education             gender\n",
       "Bachelor              F         5640.505303\n",
       "                      M         5548.031892\n",
       "College               F         5623.611187\n",
       "                      M         6005.847375\n",
       "Doctor                F         5332.462694\n",
       "                      M         5577.669457\n",
       "High School or Below  F         6039.553187\n",
       "                      M         6286.731006\n",
       "Master                F         5729.855012\n",
       "                      M         5579.099207\n",
       "Name: customer_lifetime_value, dtype: float64"
      ]
     },
     "execution_count": 41,
     "metadata": {},
     "output_type": "execute_result"
    }
   ],
   "source": [
    "grouped_3['customer_lifetime_value'].median()"
   ]
  },
  {
   "cell_type": "code",
   "execution_count": 111,
   "id": "71473859-9717-4de8-b224-b5e28c680f33",
   "metadata": {
    "tags": []
   },
   "outputs": [],
   "source": [
    "# Conclusions\n",
    "#1 The median values are well below 10,000, demonstrating that there are a significant number of high value outliers to each of the education levels."
   ]
  },
  {
   "cell_type": "code",
   "execution_count": 47,
   "id": "0cefb61c-3fc8-43cc-ac55-53a93c96004c",
   "metadata": {
    "tags": []
   },
   "outputs": [],
   "source": [
    "import seaborn as sns"
   ]
  },
  {
   "cell_type": "code",
   "execution_count": 69,
   "id": "5494e0ff-d468-4608-a84d-0677bbdc0536",
   "metadata": {
    "tags": []
   },
   "outputs": [
    {
     "data": {
      "text/plain": [
       "count    10910.000000\n",
       "mean      8018.241094\n",
       "std       6885.081434\n",
       "min       1898.007675\n",
       "25%       4014.453113\n",
       "50%       5771.147235\n",
       "75%       8992.779137\n",
       "max      83325.381190\n",
       "Name: customer_lifetime_value, dtype: float64"
      ]
     },
     "execution_count": 69,
     "metadata": {},
     "output_type": "execute_result"
    }
   ],
   "source": [
    "df['customer_lifetime_value'].describe()"
   ]
  },
  {
   "cell_type": "code",
   "execution_count": 81,
   "id": "6d9c70b8-b52c-434c-a667-d4e4c4d4c488",
   "metadata": {
    "tags": []
   },
   "outputs": [],
   "source": [
    "import matplotlib as plt"
   ]
  },
  {
   "cell_type": "code",
   "execution_count": 109,
   "id": "4a027c04-026f-4866-b0a1-b49eb50fc96e",
   "metadata": {
    "tags": []
   },
   "outputs": [
    {
     "data": {
      "text/plain": [
       "<Axes: xlabel='education', ylabel='customer_lifetime_value'>"
      ]
     },
     "execution_count": 109,
     "metadata": {},
     "output_type": "execute_result"
    },
    {
     "data": {
      "image/png": "[encoded data removed]",
      "text/plain": [
       "<Figure size 640x480 with 1 Axes>"
      ]
     },
     "metadata": {},
     "output_type": "display_data"
    }
   ],
   "source": [
    "sns.boxplot(x = 'education', y = 'customer_lifetime_value', data = df,)"
   ]
  },
  {
   "cell_type": "code",
   "execution_count": 113,
   "id": "5eb4a611-e0d7-42b7-89b5-48b1e44ebcd2",
   "metadata": {
    "tags": []
   },
   "outputs": [],
   "source": [
    "# The boxplots confirm the above conclusion that a large number of high value outliers skew the max values up but do not have a dramatic impact on median or mean. \n",
    "# Plots also confirm the lower variation among customers with doctor or master level education."
   ]
  },
  {
   "cell_type": "code",
   "execution_count": 107,
   "id": "628291e6-dc03-4865-85a1-4f2179641b39",
   "metadata": {
    "tags": []
   },
   "outputs": [
    {
     "data": {
      "text/plain": [
       "count    10910.000000\n",
       "mean      8018.241094\n",
       "std       6885.081434\n",
       "min       1898.007675\n",
       "25%       4014.453113\n",
       "50%       5771.147235\n",
       "75%       8992.779137\n",
       "max      83325.381190\n",
       "Name: customer_lifetime_value, dtype: float64"
      ]
     },
     "execution_count": 107,
     "metadata": {},
     "output_type": "execute_result"
    }
   ],
   "source": [
    "df['customer_lifetime_value'].describe()"
   ]
  },
  {
   "cell_type": "markdown",
   "id": "b42999f9-311f-481e-ae63-40a5577072c5",
   "metadata": {
    "id": "b42999f9-311f-481e-ae63-40a5577072c5"
   },
   "source": [
    "## Bonus"
   ]
  },
  {
   "cell_type": "markdown",
   "id": "81ff02c5-6584-4f21-a358-b918697c6432",
   "metadata": {
    "id": "81ff02c5-6584-4f21-a358-b918697c6432"
   },
   "source": [
    "5. The marketing team wants to analyze the number of policies sold by state and month. Present the data in a table where the months are arranged as columns and the states are arranged as rows."
   ]
  },
  {
   "cell_type": "code",
   "execution_count": 229,
   "id": "d7e2c165-d409-440a-915e-ff11c2227533",
   "metadata": {
    "tags": []
   },
   "outputs": [],
   "source": [
    "months = ['01_Jan','02_Feb','03_Mar','04_Apr','05_May','06_Jun','07_Jul','08_Aug','09_Sep','10_Oct','11_Nov','12_Dec']\n",
    "rev_months = list(reversed(months))*20\n",
    "# Months since inception == 0 would return current month i.e. December.\n",
    "\n"
   ]
  },
  {
   "cell_type": "code",
   "execution_count": 231,
   "id": "bbfdcb9f-acc4-4a38-abd7-3d87e57d130f",
   "metadata": {
    "tags": []
   },
   "outputs": [],
   "source": [
    "start_month = [rev_months[i] for i in df['months_since_policy_inception']]"
   ]
  },
  {
   "cell_type": "code",
   "execution_count": 233,
   "id": "d45fa4cd-fbe5-4381-a71a-2d31732aa649",
   "metadata": {
    "tags": []
   },
   "outputs": [],
   "source": [
    "df['start_month'] = start_month"
   ]
  },
  {
   "cell_type": "code",
   "execution_count": 235,
   "id": "8af94ce8-ec7a-49dc-b0f5-bb02f7ce1e7a",
   "metadata": {
    "tags": []
   },
   "outputs": [
    {
     "data": {
      "text/html": [
       "<div>\n",
       "<style scoped>\n",
       "    .dataframe tbody tr th:only-of-type {\n",
       "        vertical-align: middle;\n",
       "    }\n",
       "\n",
       "    .dataframe tbody tr th {\n",
       "        vertical-align: top;\n",
       "    }\n",
       "\n",
       "    .dataframe thead th {\n",
       "        text-align: right;\n",
       "    }\n",
       "</style>\n",
       "<table border=\"1\" class=\"dataframe\">\n",
       "  <thead>\n",
       "    <tr style=\"text-align: right;\">\n",
       "      <th>start_month</th>\n",
       "      <th>01_Jan</th>\n",
       "      <th>02_Feb</th>\n",
       "      <th>03_Mar</th>\n",
       "      <th>04_Apr</th>\n",
       "      <th>05_May</th>\n",
       "      <th>06_Jun</th>\n",
       "      <th>07_Jul</th>\n",
       "      <th>08_Aug</th>\n",
       "      <th>09_Sep</th>\n",
       "      <th>10_Oct</th>\n",
       "      <th>11_Nov</th>\n",
       "      <th>12_Dec</th>\n",
       "    </tr>\n",
       "    <tr>\n",
       "      <th>state</th>\n",
       "      <th></th>\n",
       "      <th></th>\n",
       "      <th></th>\n",
       "      <th></th>\n",
       "      <th></th>\n",
       "      <th></th>\n",
       "      <th></th>\n",
       "      <th></th>\n",
       "      <th></th>\n",
       "      <th></th>\n",
       "      <th></th>\n",
       "      <th></th>\n",
       "    </tr>\n",
       "  </thead>\n",
       "  <tbody>\n",
       "    <tr>\n",
       "      <th>Arizona</th>\n",
       "      <td>170</td>\n",
       "      <td>145</td>\n",
       "      <td>173</td>\n",
       "      <td>163</td>\n",
       "      <td>161</td>\n",
       "      <td>138</td>\n",
       "      <td>156</td>\n",
       "      <td>164</td>\n",
       "      <td>201</td>\n",
       "      <td>166</td>\n",
       "      <td>138</td>\n",
       "      <td>162</td>\n",
       "    </tr>\n",
       "    <tr>\n",
       "      <th>California</th>\n",
       "      <td>325</td>\n",
       "      <td>285</td>\n",
       "      <td>272</td>\n",
       "      <td>267</td>\n",
       "      <td>300</td>\n",
       "      <td>284</td>\n",
       "      <td>294</td>\n",
       "      <td>267</td>\n",
       "      <td>316</td>\n",
       "      <td>313</td>\n",
       "      <td>304</td>\n",
       "      <td>325</td>\n",
       "    </tr>\n",
       "    <tr>\n",
       "      <th>Nevada</th>\n",
       "      <td>90</td>\n",
       "      <td>83</td>\n",
       "      <td>86</td>\n",
       "      <td>71</td>\n",
       "      <td>83</td>\n",
       "      <td>85</td>\n",
       "      <td>60</td>\n",
       "      <td>84</td>\n",
       "      <td>100</td>\n",
       "      <td>89</td>\n",
       "      <td>83</td>\n",
       "      <td>79</td>\n",
       "    </tr>\n",
       "    <tr>\n",
       "      <th>Oregon</th>\n",
       "      <td>255</td>\n",
       "      <td>236</td>\n",
       "      <td>217</td>\n",
       "      <td>246</td>\n",
       "      <td>229</td>\n",
       "      <td>213</td>\n",
       "      <td>222</td>\n",
       "      <td>221</td>\n",
       "      <td>261</td>\n",
       "      <td>287</td>\n",
       "      <td>286</td>\n",
       "      <td>236</td>\n",
       "    </tr>\n",
       "    <tr>\n",
       "      <th>Washington</th>\n",
       "      <td>66</td>\n",
       "      <td>58</td>\n",
       "      <td>64</td>\n",
       "      <td>90</td>\n",
       "      <td>74</td>\n",
       "      <td>68</td>\n",
       "      <td>78</td>\n",
       "      <td>64</td>\n",
       "      <td>103</td>\n",
       "      <td>79</td>\n",
       "      <td>74</td>\n",
       "      <td>70</td>\n",
       "    </tr>\n",
       "  </tbody>\n",
       "</table>\n",
       "</div>"
      ],
      "text/plain": [
       "start_month  01_Jan  02_Feb  03_Mar  04_Apr  05_May  06_Jun  07_Jul  08_Aug  \\\n",
       "state                                                                         \n",
       "Arizona         170     145     173     163     161     138     156     164   \n",
       "California      325     285     272     267     300     284     294     267   \n",
       "Nevada           90      83      86      71      83      85      60      84   \n",
       "Oregon          255     236     217     246     229     213     222     221   \n",
       "Washington       66      58      64      90      74      68      78      64   \n",
       "\n",
       "start_month  09_Sep  10_Oct  11_Nov  12_Dec  \n",
       "state                                        \n",
       "Arizona         201     166     138     162  \n",
       "California      316     313     304     325  \n",
       "Nevada          100      89      83      79  \n",
       "Oregon          261     287     286     236  \n",
       "Washington      103      79      74      70  "
      ]
     },
     "execution_count": 235,
     "metadata": {},
     "output_type": "execute_result"
    }
   ],
   "source": [
    "pivot = df.pivot_table(values = 'number_of_policies', columns ='start_month', index = 'state', aggfunc = 'count')\n",
    "pivot"
   ]
  },
  {
   "cell_type": "markdown",
   "id": "b6aec097-c633-4017-a125-e77a97259cda",
   "metadata": {
    "id": "b6aec097-c633-4017-a125-e77a97259cda"
   },
   "source": [
    "6.  Display a new DataFrame that contains the number of policies sold by month, by state, for the top 3 states with the highest number of policies sold.\n",
    "\n",
    "*Hint:*\n",
    "- *To accomplish this, you will first need to group the data by state and month, then count the number of policies sold for each group. Afterwards, you will need to sort the data by the count of policies sold in descending order.*\n",
    "- *Next, you will select the top 3 states with the highest number of policies sold.*\n",
    "- *Finally, you will create a new DataFrame that contains the number of policies sold by month for each of the top 3 states.*"
   ]
  },
  {
   "cell_type": "code",
   "execution_count": 273,
   "id": "987a42a7-f985-466a-b6f2-5e79852cb3d4",
   "metadata": {
    "tags": []
   },
   "outputs": [
    {
     "data": {
      "text/plain": [
       "state\n",
       "California    10602\n",
       "Oregon         8666\n",
       "Arizona        5916\n",
       "Name: number_of_policies, dtype: int64"
      ]
     },
     "execution_count": 273,
     "metadata": {},
     "output_type": "execute_result"
    }
   ],
   "source": [
    "grouped_4 = df.groupby(['state'])\n",
    "policy_total_by_state = grouped_4['number_of_policies'].sum().sort_values(ascending = False)\n",
    "policy_total_by_state[0:3]"
   ]
  },
  {
   "cell_type": "code",
   "execution_count": null,
   "id": "1b74e261-0561-4ea5-89b6-fcfd8d685f1b",
   "metadata": {},
   "outputs": [],
   "source": []
  },
  {
   "cell_type": "markdown",
   "id": "ba975b8a-a2cf-4fbf-9f59-ebc381767009",
   "metadata": {
    "id": "ba975b8a-a2cf-4fbf-9f59-ebc381767009"
   },
   "source": [
    "7. The marketing team wants to analyze the effect of different marketing channels on the customer response rate.\n",
    "\n",
    "Hint: You can use melt to unpivot the data and create a table that shows the customer response rate (those who responded \"Yes\") by marketing channel."
   ]
  },
  {
   "cell_type": "markdown",
   "id": "e4378d94-48fb-4850-a802-b1bc8f427b2d",
   "metadata": {
    "id": "e4378d94-48fb-4850-a802-b1bc8f427b2d"
   },
   "source": [
    "External Resources for Data Filtering: https://towardsdatascience.com/filtering-data-frames-in-pandas-b570b1f834b9"
   ]
  },
  {
   "cell_type": "code",
   "execution_count": null,
   "id": "449513f4-0459-46a0-a18d-9398d974c9ad",
   "metadata": {
    "id": "449513f4-0459-46a0-a18d-9398d974c9ad"
   },
   "outputs": [],
   "source": [
    "# your code goes here"
   ]
  }
 ],
 "metadata": {
  "colab": {
   "provenance": []
  },
  "kernelspec": {
   "display_name": "Python 3 (ipykernel)",
   "language": "python",
   "name": "python3"
  },
  "language_info": {
   "codemirror_mode": {
    "name": "ipython",
    "version": 3
   },
   "file_extension": ".py",
   "mimetype": "text/x-python",
   "name": "python",
   "nbconvert_exporter": "python",
   "pygments_lexer": "ipython3",
   "version": "3.11.7"
  }
 },
 "nbformat": 4,
 "nbformat_minor": 5
}
