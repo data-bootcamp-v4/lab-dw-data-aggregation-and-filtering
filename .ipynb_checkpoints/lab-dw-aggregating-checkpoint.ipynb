{
 "cells": [
  {
   "cell_type": "markdown",
   "id": "31969215-2a90-4d8b-ac36-646a7ae13744",
   "metadata": {
    "id": "31969215-2a90-4d8b-ac36-646a7ae13744"
   },
   "source": [
    "# Lab | Data Aggregation and Filtering"
   ]
  },
  {
   "cell_type": "markdown",
   "id": "a8f08a52-bec0-439b-99cc-11d3809d8b5d",
   "metadata": {
    "id": "a8f08a52-bec0-439b-99cc-11d3809d8b5d"
   },
   "source": [
    "In this challenge, we will continue to work with customer data from an insurance company. We will use the dataset called marketing_customer_analysis.csv, which can be found at the following link:\n",
    "\n",
    "https://raw.githubusercontent.com/data-bootcamp-v4/data/main/marketing_customer_analysis.csv\n",
    "\n",
    "This dataset contains information such as customer demographics, policy details, vehicle information, and the customer's response to the last marketing campaign. Our goal is to explore and analyze this data by first performing data cleaning, formatting, and structuring."
   ]
  },
  {
   "cell_type": "markdown",
   "id": "9c98ddc5-b041-4c94-ada1-4dfee5c98e50",
   "metadata": {
    "id": "9c98ddc5-b041-4c94-ada1-4dfee5c98e50"
   },
   "source": [
    "1. Create a new DataFrame that only includes customers who have a total_claim_amount greater than $1,000 and have a response of \"Yes\" to the last marketing campaign."
   ]
  },
  {
   "cell_type": "markdown",
   "id": "b9be383e-5165-436e-80c8-57d4c757c8c3",
   "metadata": {
    "id": "b9be383e-5165-436e-80c8-57d4c757c8c3"
   },
   "source": [
    "2. Using the original Dataframe, analyze the average total_claim_amount by each policy type and gender for customers who have responded \"Yes\" to the last marketing campaign. Write your conclusions."
   ]
  },
  {
   "cell_type": "markdown",
   "id": "7050f4ac-53c5-4193-a3c0-8699b87196f0",
   "metadata": {
    "id": "7050f4ac-53c5-4193-a3c0-8699b87196f0"
   },
   "source": [
    "3. Analyze the total number of customers who have policies in each state, and then filter the results to only include states where there are more than 500 customers."
   ]
  },
  {
   "cell_type": "markdown",
   "id": "b60a4443-a1a7-4bbf-b78e-9ccdf9895e0d",
   "metadata": {
    "id": "b60a4443-a1a7-4bbf-b78e-9ccdf9895e0d"
   },
   "source": [
    "4. Find the maximum, minimum, and median customer lifetime value by education level and gender. Write your conclusions."
   ]
  },
  {
   "cell_type": "code",
   "execution_count": 4,
   "id": "bfe26b8a-54f7-4221-94b5-98858a60a821",
   "metadata": {},
   "outputs": [],
   "source": [
    "from pandas import *"
   ]
  },
  {
   "cell_type": "code",
   "execution_count": 15,
   "id": "07a4fcff-776f-4c46-8b8c-7f974ce2c7c4",
   "metadata": {},
   "outputs": [],
   "source": [
    "url = (\"https://raw.githubusercontent.com/data-bootcamp-v4/data/main/marketing_customer_analysis.csv\")"
   ]
  },
  {
   "cell_type": "code",
   "execution_count": 31,
   "id": "a841bf80-c14d-41f6-b2d9-a890ef9fd5dd",
   "metadata": {},
   "outputs": [],
   "source": [
    "df = read_csv(url)\n",
    "df.columns = df.columns.str.replace(\" \",\"_\")\n",
    "df.columns = df.columns.str.lower()"
   ]
  },
  {
   "cell_type": "code",
   "execution_count": 79,
   "id": "630e6239-fc47-44c0-8a2d-6e821dc627b7",
   "metadata": {},
   "outputs": [
    {
     "data": {
      "text/plain": [
       "Index(['unnamed:_0', 'customer', 'state', 'customer_lifetime_value',\n",
       "       'response', 'coverage', 'education', 'effective_to_date',\n",
       "       'employmentstatus', 'gender', 'income', 'location_code',\n",
       "       'marital_status', 'monthly_premium_auto', 'months_since_last_claim',\n",
       "       'months_since_policy_inception', 'number_of_open_complaints',\n",
       "       'number_of_policies', 'policy_type', 'policy', 'renew_offer_type',\n",
       "       'sales_channel', 'total_claim_amount', 'vehicle_class', 'vehicle_size',\n",
       "       'vehicle_type'],\n",
       "      dtype='object')"
      ]
     },
     "execution_count": 79,
     "metadata": {},
     "output_type": "execute_result"
    }
   ],
   "source": [
    "df.columns"
   ]
  },
  {
   "cell_type": "code",
   "execution_count": 81,
   "id": "70bd4637-fd58-406b-b30a-5440df2ee4dd",
   "metadata": {},
   "outputs": [],
   "source": [
    "df = df[(df[\"total_claim_amount\"] > 1000) & (df[\"response\"] == \"Yes\")]"
   ]
  },
  {
   "cell_type": "code",
   "execution_count": null,
   "id": "5fde5d44-bf95-4904-afc8-73bb54a4c499",
   "metadata": {},
   "outputs": [],
   "source": []
  },
  {
   "cell_type": "code",
   "execution_count": 88,
   "id": "81b31966-e0e5-4fc3-aa8c-77a4253f303b",
   "metadata": {},
   "outputs": [
    {
     "data": {
      "text/plain": [
       "policy_type     gender\n",
       "Corporate Auto  F         1138.400000\n",
       "                M         1171.150007\n",
       "Personal Auto   F         1214.853805\n",
       "                M         1137.861443\n",
       "Special Auto    F         1358.400000\n",
       "                M         1017.500015\n",
       "Name: total_claim_amount, dtype: float64"
      ]
     },
     "execution_count": 88,
     "metadata": {},
     "output_type": "execute_result"
    }
   ],
   "source": [
    "df.groupby([\"policy_type\", \"gender\"])[\"total_claim_amount\"].mean()"
   ]
  },
  {
   "cell_type": "code",
   "execution_count": 98,
   "id": "e54ed7f9-a2e4-49ac-abf2-5f7471b073e8",
   "metadata": {},
   "outputs": [
    {
     "data": {
      "text/html": [
       "<div>\n",
       "<style scoped>\n",
       "    .dataframe tbody tr th:only-of-type {\n",
       "        vertical-align: middle;\n",
       "    }\n",
       "\n",
       "    .dataframe tbody tr th {\n",
       "        vertical-align: top;\n",
       "    }\n",
       "\n",
       "    .dataframe thead th {\n",
       "        text-align: right;\n",
       "    }\n",
       "</style>\n",
       "<table border=\"1\" class=\"dataframe\">\n",
       "  <thead>\n",
       "    <tr style=\"text-align: right;\">\n",
       "      <th></th>\n",
       "      <th></th>\n",
       "      <th>count</th>\n",
       "      <th>mean</th>\n",
       "      <th>std</th>\n",
       "      <th>min</th>\n",
       "      <th>25%</th>\n",
       "      <th>50%</th>\n",
       "      <th>75%</th>\n",
       "      <th>max</th>\n",
       "    </tr>\n",
       "    <tr>\n",
       "      <th>education</th>\n",
       "      <th>gender</th>\n",
       "      <th></th>\n",
       "      <th></th>\n",
       "      <th></th>\n",
       "      <th></th>\n",
       "      <th></th>\n",
       "      <th></th>\n",
       "      <th></th>\n",
       "      <th></th>\n",
       "    </tr>\n",
       "  </thead>\n",
       "  <tbody>\n",
       "    <tr>\n",
       "      <th>Bachelor</th>\n",
       "      <th>F</th>\n",
       "      <td>20.0</td>\n",
       "      <td>1226.880000</td>\n",
       "      <td>148.627948</td>\n",
       "      <td>1032.000000</td>\n",
       "      <td>1032.000000</td>\n",
       "      <td>1300.800000</td>\n",
       "      <td>1358.400000</td>\n",
       "      <td>1358.400000</td>\n",
       "    </tr>\n",
       "    <tr>\n",
       "      <th rowspan=\"2\" valign=\"top\">College</th>\n",
       "      <th>F</th>\n",
       "      <td>7.0</td>\n",
       "      <td>1027.200000</td>\n",
       "      <td>0.000000</td>\n",
       "      <td>1027.200000</td>\n",
       "      <td>1027.200000</td>\n",
       "      <td>1027.200000</td>\n",
       "      <td>1027.200000</td>\n",
       "      <td>1027.200000</td>\n",
       "    </tr>\n",
       "    <tr>\n",
       "      <th>M</th>\n",
       "      <td>14.0</td>\n",
       "      <td>1092.139400</td>\n",
       "      <td>87.315582</td>\n",
       "      <td>1008.000000</td>\n",
       "      <td>1008.000000</td>\n",
       "      <td>1092.139400</td>\n",
       "      <td>1176.278800</td>\n",
       "      <td>1176.278800</td>\n",
       "    </tr>\n",
       "    <tr>\n",
       "      <th>High School or Below</th>\n",
       "      <th>M</th>\n",
       "      <td>14.0</td>\n",
       "      <td>1175.900014</td>\n",
       "      <td>154.520818</td>\n",
       "      <td>1027.000029</td>\n",
       "      <td>1027.000029</td>\n",
       "      <td>1175.900014</td>\n",
       "      <td>1324.800000</td>\n",
       "      <td>1324.800000</td>\n",
       "    </tr>\n",
       "    <tr>\n",
       "      <th>Master</th>\n",
       "      <th>F</th>\n",
       "      <td>12.0</td>\n",
       "      <td>1278.010146</td>\n",
       "      <td>17.432426</td>\n",
       "      <td>1261.319869</td>\n",
       "      <td>1261.319869</td>\n",
       "      <td>1278.010146</td>\n",
       "      <td>1294.700423</td>\n",
       "      <td>1294.700423</td>\n",
       "    </tr>\n",
       "  </tbody>\n",
       "</table>\n",
       "</div>"
      ],
      "text/plain": [
       "                             count         mean         std          min  \\\n",
       "education            gender                                                \n",
       "Bachelor             F        20.0  1226.880000  148.627948  1032.000000   \n",
       "College              F         7.0  1027.200000    0.000000  1027.200000   \n",
       "                     M        14.0  1092.139400   87.315582  1008.000000   \n",
       "High School or Below M        14.0  1175.900014  154.520818  1027.000029   \n",
       "Master               F        12.0  1278.010146   17.432426  1261.319869   \n",
       "\n",
       "                                     25%          50%          75%  \\\n",
       "education            gender                                          \n",
       "Bachelor             F       1032.000000  1300.800000  1358.400000   \n",
       "College              F       1027.200000  1027.200000  1027.200000   \n",
       "                     M       1008.000000  1092.139400  1176.278800   \n",
       "High School or Below M       1027.000029  1175.900014  1324.800000   \n",
       "Master               F       1261.319869  1278.010146  1294.700423   \n",
       "\n",
       "                                     max  \n",
       "education            gender               \n",
       "Bachelor             F       1358.400000  \n",
       "College              F       1027.200000  \n",
       "                     M       1176.278800  \n",
       "High School or Below M       1324.800000  \n",
       "Master               F       1294.700423  "
      ]
     },
     "execution_count": 98,
     "metadata": {},
     "output_type": "execute_result"
    }
   ],
   "source": [
    "df.groupby([\"education\", \"gender\"])[\"total_claim_amount\"].describe()"
   ]
  },
  {
   "cell_type": "markdown",
   "id": "b42999f9-311f-481e-ae63-40a5577072c5",
   "metadata": {
    "id": "b42999f9-311f-481e-ae63-40a5577072c5"
   },
   "source": [
    "## Bonus"
   ]
  },
  {
   "cell_type": "markdown",
   "id": "81ff02c5-6584-4f21-a358-b918697c6432",
   "metadata": {
    "id": "81ff02c5-6584-4f21-a358-b918697c6432"
   },
   "source": [
    "5. The marketing team wants to analyze the number of policies sold by state and month. Present the data in a table where the months are arranged as columns and the states are arranged as rows."
   ]
  },
  {
   "cell_type": "markdown",
   "id": "b6aec097-c633-4017-a125-e77a97259cda",
   "metadata": {
    "id": "b6aec097-c633-4017-a125-e77a97259cda"
   },
   "source": [
    "6.  Display a new DataFrame that contains the number of policies sold by month, by state, for the top 3 states with the highest number of policies sold.\n",
    "\n",
    "*Hint:*\n",
    "- *To accomplish this, you will first need to group the data by state and month, then count the number of policies sold for each group. Afterwards, you will need to sort the data by the count of policies sold in descending order.*\n",
    "- *Next, you will select the top 3 states with the highest number of policies sold.*\n",
    "- *Finally, you will create a new DataFrame that contains the number of policies sold by month for each of the top 3 states.*"
   ]
  },
  {
   "cell_type": "markdown",
   "id": "ba975b8a-a2cf-4fbf-9f59-ebc381767009",
   "metadata": {
    "id": "ba975b8a-a2cf-4fbf-9f59-ebc381767009"
   },
   "source": [
    "7. The marketing team wants to analyze the effect of different marketing channels on the customer response rate.\n",
    "\n",
    "Hint: You can use melt to unpivot the data and create a table that shows the customer response rate (those who responded \"Yes\") by marketing channel."
   ]
  },
  {
   "cell_type": "markdown",
   "id": "e4378d94-48fb-4850-a802-b1bc8f427b2d",
   "metadata": {
    "id": "e4378d94-48fb-4850-a802-b1bc8f427b2d"
   },
   "source": [
    "External Resources for Data Filtering: https://towardsdatascience.com/filtering-data-frames-in-pandas-b570b1f834b9"
   ]
  },
  {
   "cell_type": "code",
   "execution_count": null,
   "id": "449513f4-0459-46a0-a18d-9398d974c9ad",
   "metadata": {
    "id": "449513f4-0459-46a0-a18d-9398d974c9ad"
   },
   "outputs": [],
   "source": [
    "# your code goes here"
   ]
  }
 ],
 "metadata": {
  "colab": {
   "provenance": []
  },
  "kernelspec": {
   "display_name": "Python 3 (ipykernel)",
   "language": "python",
   "name": "python3"
  },
  "language_info": {
   "codemirror_mode": {
    "name": "ipython",
    "version": 3
   },
   "file_extension": ".py",
   "mimetype": "text/x-python",
   "name": "python",
   "nbconvert_exporter": "python",
   "pygments_lexer": "ipython3",
   "version": "3.12.4"
  }
 },
 "nbformat": 4,
 "nbformat_minor": 5
}
