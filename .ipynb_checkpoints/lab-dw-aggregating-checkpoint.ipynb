{
 "cells": [
  {
   "cell_type": "markdown",
   "id": "31969215-2a90-4d8b-ac36-646a7ae13744",
   "metadata": {
    "id": "31969215-2a90-4d8b-ac36-646a7ae13744"
   },
   "source": [
    "# Lab | Data Aggregation and Filtering"
   ]
  },
  {
   "cell_type": "markdown",
   "id": "a8f08a52-bec0-439b-99cc-11d3809d8b5d",
   "metadata": {
    "id": "a8f08a52-bec0-439b-99cc-11d3809d8b5d"
   },
   "source": [
    "In this challenge, we will continue to work with customer data from an insurance company. We will use the dataset called marketing_customer_analysis.csv, which can be found at the following link:\n",
    "\n",
    "https://raw.githubusercontent.com/data-bootcamp-v4/data/main/marketing_customer_analysis.csv\n",
    "\n",
    "This dataset contains information such as customer demographics, policy details, vehicle information, and the customer's response to the last marketing campaign. Our goal is to explore and analyze this data by first performing data cleaning, formatting, and structuring."
   ]
  },
  {
   "cell_type": "markdown",
   "id": "9c98ddc5-b041-4c94-ada1-4dfee5c98e50",
   "metadata": {
    "id": "9c98ddc5-b041-4c94-ada1-4dfee5c98e50"
   },
   "source": [
    "1. Create a new DataFrame that only includes customers who have a total_claim_amount greater than $1,000 and have a response of \"Yes\" to the last marketing campaign."
   ]
  },
  {
   "cell_type": "markdown",
   "id": "b9be383e-5165-436e-80c8-57d4c757c8c3",
   "metadata": {
    "id": "b9be383e-5165-436e-80c8-57d4c757c8c3"
   },
   "source": [
    "2. Using the original Dataframe, analyze the average total_claim_amount by each policy type and gender for customers who have responded \"Yes\" to the last marketing campaign. Write your conclusions."
   ]
  },
  {
   "cell_type": "markdown",
   "id": "7050f4ac-53c5-4193-a3c0-8699b87196f0",
   "metadata": {
    "id": "7050f4ac-53c5-4193-a3c0-8699b87196f0"
   },
   "source": [
    "3. Analyze the total number of customers who have policies in each state, and then filter the results to only include states where there are more than 500 customers."
   ]
  },
  {
   "cell_type": "markdown",
   "id": "b60a4443-a1a7-4bbf-b78e-9ccdf9895e0d",
   "metadata": {
    "id": "b60a4443-a1a7-4bbf-b78e-9ccdf9895e0d"
   },
   "source": [
    "4. Find the maximum, minimum, and median customer lifetime value by education level and gender. Write your conclusions."
   ]
  },
  {
   "cell_type": "markdown",
   "id": "b42999f9-311f-481e-ae63-40a5577072c5",
   "metadata": {
    "id": "b42999f9-311f-481e-ae63-40a5577072c5"
   },
   "source": [
    "## Bonus"
   ]
  },
  {
   "cell_type": "markdown",
   "id": "81ff02c5-6584-4f21-a358-b918697c6432",
   "metadata": {
    "id": "81ff02c5-6584-4f21-a358-b918697c6432"
   },
   "source": [
    "5. The marketing team wants to analyze the number of policies sold by state and month. Present the data in a table where the months are arranged as columns and the states are arranged as rows."
   ]
  },
  {
   "cell_type": "markdown",
   "id": "b6aec097-c633-4017-a125-e77a97259cda",
   "metadata": {
    "id": "b6aec097-c633-4017-a125-e77a97259cda"
   },
   "source": [
    "6.  Display a new DataFrame that contains the number of policies sold by month, by state, for the top 3 states with the highest number of policies sold.\n",
    "\n",
    "*Hint:*\n",
    "- *To accomplish this, you will first need to group the data by state and month, then count the number of policies sold for each group. Afterwards, you will need to sort the data by the count of policies sold in descending order.*\n",
    "- *Next, you will select the top 3 states with the highest number of policies sold.*\n",
    "- *Finally, you will create a new DataFrame that contains the number of policies sold by month for each of the top 3 states.*"
   ]
  },
  {
   "cell_type": "markdown",
   "id": "ba975b8a-a2cf-4fbf-9f59-ebc381767009",
   "metadata": {
    "id": "ba975b8a-a2cf-4fbf-9f59-ebc381767009"
   },
   "source": [
    "7. The marketing team wants to analyze the effect of different marketing channels on the customer response rate.\n",
    "\n",
    "Hint: You can use melt to unpivot the data and create a table that shows the customer response rate (those who responded \"Yes\") by marketing channel."
   ]
  },
  {
   "cell_type": "markdown",
   "id": "e4378d94-48fb-4850-a802-b1bc8f427b2d",
   "metadata": {
    "id": "e4378d94-48fb-4850-a802-b1bc8f427b2d"
   },
   "source": [
    "External Resources for Data Filtering: https://towardsdatascience.com/filtering-data-frames-in-pandas-b570b1f834b9"
   ]
  },
  {
   "cell_type": "code",
   "execution_count": 1,
   "id": "449513f4-0459-46a0-a18d-9398d974c9ad",
   "metadata": {
    "id": "449513f4-0459-46a0-a18d-9398d974c9ad"
   },
   "outputs": [
    {
     "name": "stdout",
     "output_type": "stream",
     "text": [
      "   Unnamed: 0 Customer       State  Customer Lifetime Value Response  \\\n",
      "0           0  DK49336     Arizona              4809.216960       No   \n",
      "1           1  KX64629  California              2228.525238       No   \n",
      "2           2  LZ68649  Washington             14947.917300       No   \n",
      "3           3  XL78013      Oregon             22332.439460      Yes   \n",
      "4           4  QA50777      Oregon              9025.067525       No   \n",
      "\n",
      "   Coverage Education Effective To Date EmploymentStatus Gender  ...  \\\n",
      "0     Basic   College           2/18/11         Employed      M  ...   \n",
      "1     Basic   College           1/18/11       Unemployed      F  ...   \n",
      "2     Basic  Bachelor           2/10/11         Employed      M  ...   \n",
      "3  Extended   College           1/11/11         Employed      M  ...   \n",
      "4   Premium  Bachelor           1/17/11    Medical Leave      F  ...   \n",
      "\n",
      "   Number of Open Complaints Number of Policies     Policy Type        Policy  \\\n",
      "0                        0.0                  9  Corporate Auto  Corporate L3   \n",
      "1                        0.0                  1   Personal Auto   Personal L3   \n",
      "2                        0.0                  2   Personal Auto   Personal L3   \n",
      "3                        0.0                  2  Corporate Auto  Corporate L3   \n",
      "4                        NaN                  7   Personal Auto   Personal L2   \n",
      "\n",
      "   Renew Offer Type  Sales Channel  Total Claim Amount  Vehicle Class  \\\n",
      "0            Offer3          Agent          292.800000  Four-Door Car   \n",
      "1            Offer4    Call Center          744.924331  Four-Door Car   \n",
      "2            Offer3    Call Center          480.000000            SUV   \n",
      "3            Offer2         Branch          484.013411  Four-Door Car   \n",
      "4            Offer1         Branch          707.925645  Four-Door Car   \n",
      "\n",
      "  Vehicle Size Vehicle Type  \n",
      "0      Medsize          NaN  \n",
      "1      Medsize          NaN  \n",
      "2      Medsize            A  \n",
      "3      Medsize            A  \n",
      "4      Medsize          NaN  \n",
      "\n",
      "[5 rows x 26 columns]\n",
      "<class 'pandas.core.frame.DataFrame'>\n",
      "RangeIndex: 10910 entries, 0 to 10909\n",
      "Data columns (total 26 columns):\n",
      " #   Column                         Non-Null Count  Dtype  \n",
      "---  ------                         --------------  -----  \n",
      " 0   Unnamed: 0                     10910 non-null  int64  \n",
      " 1   Customer                       10910 non-null  object \n",
      " 2   State                          10279 non-null  object \n",
      " 3   Customer Lifetime Value        10910 non-null  float64\n",
      " 4   Response                       10279 non-null  object \n",
      " 5   Coverage                       10910 non-null  object \n",
      " 6   Education                      10910 non-null  object \n",
      " 7   Effective To Date              10910 non-null  object \n",
      " 8   EmploymentStatus               10910 non-null  object \n",
      " 9   Gender                         10910 non-null  object \n",
      " 10  Income                         10910 non-null  int64  \n",
      " 11  Location Code                  10910 non-null  object \n",
      " 12  Marital Status                 10910 non-null  object \n",
      " 13  Monthly Premium Auto           10910 non-null  int64  \n",
      " 14  Months Since Last Claim        10277 non-null  float64\n",
      " 15  Months Since Policy Inception  10910 non-null  int64  \n",
      " 16  Number of Open Complaints      10277 non-null  float64\n",
      " 17  Number of Policies             10910 non-null  int64  \n",
      " 18  Policy Type                    10910 non-null  object \n",
      " 19  Policy                         10910 non-null  object \n",
      " 20  Renew Offer Type               10910 non-null  object \n",
      " 21  Sales Channel                  10910 non-null  object \n",
      " 22  Total Claim Amount             10910 non-null  float64\n",
      " 23  Vehicle Class                  10288 non-null  object \n",
      " 24  Vehicle Size                   10288 non-null  object \n",
      " 25  Vehicle Type                   5428 non-null   object \n",
      "dtypes: float64(4), int64(5), object(17)\n",
      "memory usage: 2.2+ MB\n",
      "None\n"
     ]
    }
   ],
   "source": [
    "# your code goes here\n",
    "\n",
    "import pandas as pd\n",
    "\n",
    "# Load the dataset\n",
    "url = \"https://raw.githubusercontent.com/data-bootcamp-v4/data/main/marketing_customer_analysis.csv\"\n",
    "df = pd.read_csv(url)\n",
    "\n",
    "# Display the first few rows of the dataset\n",
    "print(df.head())\n",
    "\n",
    "# Display the data types and non-null counts\n",
    "print(df.info())"
   ]
  },
  {
   "cell_type": "code",
   "execution_count": 2,
   "id": "c9f9edde-8002-456e-97f8-318342882bdd",
   "metadata": {},
   "outputs": [
    {
     "name": "stdout",
     "output_type": "stream",
     "text": [
      "Unnamed: 0                          0\n",
      "Customer                            0\n",
      "State                             631\n",
      "Customer Lifetime Value             0\n",
      "Response                          631\n",
      "Coverage                            0\n",
      "Education                           0\n",
      "Effective To Date                   0\n",
      "EmploymentStatus                    0\n",
      "Gender                              0\n",
      "Income                              0\n",
      "Location Code                       0\n",
      "Marital Status                      0\n",
      "Monthly Premium Auto                0\n",
      "Months Since Last Claim           633\n",
      "Months Since Policy Inception       0\n",
      "Number of Open Complaints         633\n",
      "Number of Policies                  0\n",
      "Policy Type                         0\n",
      "Policy                              0\n",
      "Renew Offer Type                    0\n",
      "Sales Channel                       0\n",
      "Total Claim Amount                  0\n",
      "Vehicle Class                     622\n",
      "Vehicle Size                      622\n",
      "Vehicle Type                     5482\n",
      "dtype: int64\n",
      "Unnamed: 0                       0\n",
      "Customer                         0\n",
      "State                            0\n",
      "Customer Lifetime Value          0\n",
      "Response                         0\n",
      "Coverage                         0\n",
      "Education                        0\n",
      "Effective To Date                0\n",
      "EmploymentStatus                 0\n",
      "Gender                           0\n",
      "Income                           0\n",
      "Location Code                    0\n",
      "Marital Status                   0\n",
      "Monthly Premium Auto             0\n",
      "Months Since Last Claim          0\n",
      "Months Since Policy Inception    0\n",
      "Number of Open Complaints        0\n",
      "Number of Policies               0\n",
      "Policy Type                      0\n",
      "Policy                           0\n",
      "Renew Offer Type                 0\n",
      "Sales Channel                    0\n",
      "Total Claim Amount               0\n",
      "Vehicle Class                    0\n",
      "Vehicle Size                     0\n",
      "Vehicle Type                     0\n",
      "dtype: int64\n"
     ]
    }
   ],
   "source": [
    "# Check for missing values\n",
    "print(df.isnull().sum())\n",
    "\n",
    "# Fill missing values (if any) - for simplicity, we'll fill numerical NaNs with the mean and categorical NaNs with the mode\n",
    "numerical_columns = df.select_dtypes(include=['float64', 'int64']).columns\n",
    "categorical_columns = df.select_dtypes(include=['object']).columns\n",
    "\n",
    "for col in numerical_columns:\n",
    "    df[col].fillna(df[col].mean(), inplace=True)\n",
    "\n",
    "for col in categorical_columns:\n",
    "    df[col].fillna(df[col].mode()[0], inplace=True)\n",
    "\n",
    "# Verify no missing values remain\n",
    "print(df.isnull().sum())\n",
    "\n",
    "# Convert 'Customer Lifetime Value' to numeric (if it's not already)\n",
    "df['Customer Lifetime Value'] = pd.to_numeric(df['Customer Lifetime Value'], errors='coerce')\n",
    "\n",
    "# Ensure 'Total Claim Amount' is numeric\n",
    "df['Total Claim Amount'] = pd.to_numeric(df['Total Claim Amount'], errors='coerce')"
   ]
  },
  {
   "cell_type": "code",
   "execution_count": 3,
   "id": "dcf3c58d-73e9-472a-8afc-6260564fd4a4",
   "metadata": {},
   "outputs": [
    {
     "name": "stdout",
     "output_type": "stream",
     "text": [
      "     Unnamed: 0 Customer       State  Customer Lifetime Value Response  \\\n",
      "189         189  OK31456  California             11009.130490      Yes   \n",
      "236         236  YJ16163      Oregon             11009.130490      Yes   \n",
      "419         419  GW43195      Oregon             25807.063000      Yes   \n",
      "442         442  IP94270     Arizona             13736.132500      Yes   \n",
      "587         587  FJ28407  California              5619.689084      Yes   \n",
      "\n",
      "     Coverage             Education Effective To Date EmploymentStatus Gender  \\\n",
      "189   Premium              Bachelor           1/24/11         Employed      F   \n",
      "236   Premium              Bachelor           1/24/11         Employed      F   \n",
      "419  Extended               College           2/13/11         Employed      F   \n",
      "442   Premium                Master           2/13/11         Disabled      F   \n",
      "587   Premium  High School or Below           1/26/11       Unemployed      M   \n",
      "\n",
      "     ...  Number of Open Complaints Number of Policies     Policy Type  \\\n",
      "189  ...                        0.0                  1  Corporate Auto   \n",
      "236  ...                        0.0                  1    Special Auto   \n",
      "419  ...                        1.0                  2   Personal Auto   \n",
      "442  ...                        0.0                  8   Personal Auto   \n",
      "587  ...                        0.0                  1   Personal Auto   \n",
      "\n",
      "           Policy  Renew Offer Type  Sales Channel  Total Claim Amount  \\\n",
      "189  Corporate L3            Offer2          Agent         1358.400000   \n",
      "236    Special L3            Offer2          Agent         1358.400000   \n",
      "419   Personal L2            Offer1         Branch         1027.200000   \n",
      "442   Personal L2            Offer1            Web         1261.319869   \n",
      "587   Personal L1            Offer2            Web         1027.000029   \n",
      "\n",
      "     Vehicle Class Vehicle Size Vehicle Type  \n",
      "189     Luxury Car      Medsize            A  \n",
      "236     Luxury Car      Medsize            A  \n",
      "419     Luxury Car        Small            A  \n",
      "442            SUV      Medsize            A  \n",
      "587            SUV      Medsize            A  \n",
      "\n",
      "[5 rows x 26 columns]\n",
      "(67, 26)\n"
     ]
    }
   ],
   "source": [
    "filtered_df = df[(df['Total Claim Amount'] > 1000) & (df['Response'] == 'Yes')]\n",
    "\n",
    "print(filtered_df.head())\n",
    "print(filtered_df.shape)"
   ]
  },
  {
   "cell_type": "code",
   "execution_count": 4,
   "id": "ce31b0ff-406b-489a-89b4-3996a16afa23",
   "metadata": {},
   "outputs": [
    {
     "name": "stdout",
     "output_type": "stream",
     "text": [
      "      Policy Type Gender  Total Claim Amount\n",
      "0  Corporate Auto      F          433.738499\n",
      "1  Corporate Auto      M          408.582459\n",
      "2   Personal Auto      F          452.965929\n",
      "3   Personal Auto      M          457.010178\n",
      "4    Special Auto      F          453.280164\n",
      "5    Special Auto      M          429.527942\n"
     ]
    }
   ],
   "source": [
    "# Filter the original DataFrame to include only customers who responded \"Yes\" to the last marketing campaign\n",
    "responders_df = df[df['Response'] == 'Yes']\n",
    "\n",
    "# Group by Policy Type and Gender and calculate the average Total Claim Amount\n",
    "avg_claim_amount = responders_df.groupby(['Policy Type', 'Gender'])['Total Claim Amount'].mean().reset_index()\n",
    "\n",
    "print(avg_claim_amount)"
   ]
  },
  {
   "cell_type": "code",
   "execution_count": 5,
   "id": "b93c18dd-104b-44fe-8ed0-ef1ecc13ac92",
   "metadata": {},
   "outputs": [
    {
     "name": "stdout",
     "output_type": "stream",
     "text": [
      "        State  Customer\n",
      "0     Arizona      1937\n",
      "1  California      4183\n",
      "2      Nevada       993\n",
      "3      Oregon      2909\n",
      "4  Washington       888\n"
     ]
    }
   ],
   "source": [
    "# Group by State and count the number of customers\n",
    "state_customer_counts = df.groupby('State')['Customer'].count().reset_index()\n",
    "\n",
    "# Filter to include only states with more than 500 customers\n",
    "states_over_500 = state_customer_counts[state_customer_counts['Customer'] > 500]\n",
    "\n",
    "print(states_over_500)"
   ]
  },
  {
   "cell_type": "code",
   "execution_count": 6,
   "id": "2b963c2c-1957-477f-bd3c-0bec60e169d8",
   "metadata": {},
   "outputs": [
    {
     "name": "stdout",
     "output_type": "stream",
     "text": [
      "              Education Gender          max          min       median\n",
      "0              Bachelor      F  73225.95652  1904.000852  5640.505303\n",
      "1              Bachelor      M  67907.27050  1898.007675  5548.031892\n",
      "2               College      F  61850.18803  1898.683686  5623.611187\n",
      "3               College      M  61134.68307  1918.119700  6005.847375\n",
      "4                Doctor      F  44856.11397  2395.570000  5332.462694\n",
      "5                Doctor      M  32677.34284  2267.604038  5577.669457\n",
      "6  High School or Below      F  55277.44589  2144.921535  6039.553187\n",
      "7  High School or Below      M  83325.38119  1940.981221  6286.731006\n",
      "8                Master      F  51016.06704  2417.777032  5729.855012\n",
      "9                Master      M  50568.25912  2272.307310  5579.099207\n"
     ]
    }
   ],
   "source": [
    "# Group by Education Level and Gender and calculate max, min, and median Customer Lifetime Value\n",
    "clv_stats = df.groupby(['Education', 'Gender'])['Customer Lifetime Value'].agg(['max', 'min', 'median']).reset_index()\n",
    "\n",
    "print(clv_stats)"
   ]
  },
  {
   "cell_type": "code",
   "execution_count": null,
   "id": "3659f943-436b-4b16-b20a-0d183e0fb6e0",
   "metadata": {},
   "outputs": [],
   "source": []
  }
 ],
 "metadata": {
  "colab": {
   "provenance": []
  },
  "kernelspec": {
   "display_name": "Python 3 (ipykernel)",
   "language": "python",
   "name": "python3"
  },
  "language_info": {
   "codemirror_mode": {
    "name": "ipython",
    "version": 3
   },
   "file_extension": ".py",
   "mimetype": "text/x-python",
   "name": "python",
   "nbconvert_exporter": "python",
   "pygments_lexer": "ipython3",
   "version": "3.11.7"
  }
 },
 "nbformat": 4,
 "nbformat_minor": 5
}
