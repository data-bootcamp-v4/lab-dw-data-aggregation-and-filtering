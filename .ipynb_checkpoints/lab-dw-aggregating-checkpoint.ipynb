{
 "cells": [
  {
   "cell_type": "markdown",
   "id": "31969215-2a90-4d8b-ac36-646a7ae13744",
   "metadata": {
    "id": "31969215-2a90-4d8b-ac36-646a7ae13744"
   },
   "source": [
    "# Lab | Data Aggregation and Filtering"
   ]
  },
  {
   "cell_type": "code",
   "execution_count": null,
   "id": "db4254d8-7ec6-4792-be0f-1aef429ba5e2",
   "metadata": {},
   "outputs": [],
   "source": []
  },
  {
   "cell_type": "markdown",
   "id": "a8f08a52-bec0-439b-99cc-11d3809d8b5d",
   "metadata": {
    "id": "a8f08a52-bec0-439b-99cc-11d3809d8b5d"
   },
   "source": [
    "In this challenge, we will continue to work with customer data from an insurance company. We will use the dataset called marketing_customer_analysis.csv, which can be found at the following link:\n",
    "\n",
    "https://raw.githubusercontent.com/data-bootcamp-v4/data/main/marketing_customer_analysis.csv\n",
    "\n",
    "This dataset contains information such as customer demographics, policy details, vehicle information, and the customer's response to the last marketing campaign. Our goal is to explore and analyze this data by first performing data cleaning, formatting, and structuring."
   ]
  },
  {
   "cell_type": "markdown",
   "id": "9c98ddc5-b041-4c94-ada1-4dfee5c98e50",
   "metadata": {
    "id": "9c98ddc5-b041-4c94-ada1-4dfee5c98e50"
   },
   "source": [
    "1. Create a new DataFrame that only includes customers who have a total_claim_amount greater than $1,000 and have a response of \"Yes\" to the last marketing campaign."
   ]
  },
  {
   "cell_type": "markdown",
   "id": "b9be383e-5165-436e-80c8-57d4c757c8c3",
   "metadata": {
    "id": "b9be383e-5165-436e-80c8-57d4c757c8c3"
   },
   "source": [
    "2. Using the original Dataframe, analyze the average total_claim_amount by each policy type and gender for customers who have responded \"Yes\" to the last marketing campaign. Write your conclusions."
   ]
  },
  {
   "cell_type": "markdown",
   "id": "7050f4ac-53c5-4193-a3c0-8699b87196f0",
   "metadata": {
    "id": "7050f4ac-53c5-4193-a3c0-8699b87196f0"
   },
   "source": [
    "3. Analyze the total number of customers who have policies in each state, and then filter the results to only include states where there are more than 500 customers."
   ]
  },
  {
   "cell_type": "markdown",
   "id": "b60a4443-a1a7-4bbf-b78e-9ccdf9895e0d",
   "metadata": {
    "id": "b60a4443-a1a7-4bbf-b78e-9ccdf9895e0d"
   },
   "source": [
    "4. Find the maximum, minimum, and median customer lifetime value by education level and gender. Write your conclusions."
   ]
  },
  {
   "cell_type": "code",
   "execution_count": 11,
   "id": "6c6d4d03-bfe8-4398-8c5a-e56012ce7a2a",
   "metadata": {},
   "outputs": [
    {
     "data": {
      "text/html": [
       "<div>\n",
       "<style scoped>\n",
       "    .dataframe tbody tr th:only-of-type {\n",
       "        vertical-align: middle;\n",
       "    }\n",
       "\n",
       "    .dataframe tbody tr th {\n",
       "        vertical-align: top;\n",
       "    }\n",
       "\n",
       "    .dataframe thead th {\n",
       "        text-align: right;\n",
       "    }\n",
       "</style>\n",
       "<table border=\"1\" class=\"dataframe\">\n",
       "  <thead>\n",
       "    <tr style=\"text-align: right;\">\n",
       "      <th></th>\n",
       "      <th>Unnamed: 0</th>\n",
       "      <th>Customer</th>\n",
       "      <th>State</th>\n",
       "      <th>Customer Lifetime Value</th>\n",
       "      <th>Response</th>\n",
       "      <th>Coverage</th>\n",
       "      <th>Education</th>\n",
       "      <th>Effective To Date</th>\n",
       "      <th>EmploymentStatus</th>\n",
       "      <th>Gender</th>\n",
       "      <th>...</th>\n",
       "      <th>Number of Open Complaints</th>\n",
       "      <th>Number of Policies</th>\n",
       "      <th>Policy Type</th>\n",
       "      <th>Policy</th>\n",
       "      <th>Renew Offer Type</th>\n",
       "      <th>Sales Channel</th>\n",
       "      <th>Total Claim Amount</th>\n",
       "      <th>Vehicle Class</th>\n",
       "      <th>Vehicle Size</th>\n",
       "      <th>Vehicle Type</th>\n",
       "    </tr>\n",
       "  </thead>\n",
       "  <tbody>\n",
       "    <tr>\n",
       "      <th>0</th>\n",
       "      <td>0</td>\n",
       "      <td>DK49336</td>\n",
       "      <td>Arizona</td>\n",
       "      <td>4809.216960</td>\n",
       "      <td>No</td>\n",
       "      <td>Basic</td>\n",
       "      <td>College</td>\n",
       "      <td>2/18/11</td>\n",
       "      <td>Employed</td>\n",
       "      <td>M</td>\n",
       "      <td>...</td>\n",
       "      <td>0.0</td>\n",
       "      <td>9</td>\n",
       "      <td>Corporate Auto</td>\n",
       "      <td>Corporate L3</td>\n",
       "      <td>Offer3</td>\n",
       "      <td>Agent</td>\n",
       "      <td>292.800000</td>\n",
       "      <td>Four-Door Car</td>\n",
       "      <td>Medsize</td>\n",
       "      <td>NaN</td>\n",
       "    </tr>\n",
       "    <tr>\n",
       "      <th>1</th>\n",
       "      <td>1</td>\n",
       "      <td>KX64629</td>\n",
       "      <td>California</td>\n",
       "      <td>2228.525238</td>\n",
       "      <td>No</td>\n",
       "      <td>Basic</td>\n",
       "      <td>College</td>\n",
       "      <td>1/18/11</td>\n",
       "      <td>Unemployed</td>\n",
       "      <td>F</td>\n",
       "      <td>...</td>\n",
       "      <td>0.0</td>\n",
       "      <td>1</td>\n",
       "      <td>Personal Auto</td>\n",
       "      <td>Personal L3</td>\n",
       "      <td>Offer4</td>\n",
       "      <td>Call Center</td>\n",
       "      <td>744.924331</td>\n",
       "      <td>Four-Door Car</td>\n",
       "      <td>Medsize</td>\n",
       "      <td>NaN</td>\n",
       "    </tr>\n",
       "    <tr>\n",
       "      <th>2</th>\n",
       "      <td>2</td>\n",
       "      <td>LZ68649</td>\n",
       "      <td>Washington</td>\n",
       "      <td>14947.917300</td>\n",
       "      <td>No</td>\n",
       "      <td>Basic</td>\n",
       "      <td>Bachelor</td>\n",
       "      <td>2/10/11</td>\n",
       "      <td>Employed</td>\n",
       "      <td>M</td>\n",
       "      <td>...</td>\n",
       "      <td>0.0</td>\n",
       "      <td>2</td>\n",
       "      <td>Personal Auto</td>\n",
       "      <td>Personal L3</td>\n",
       "      <td>Offer3</td>\n",
       "      <td>Call Center</td>\n",
       "      <td>480.000000</td>\n",
       "      <td>SUV</td>\n",
       "      <td>Medsize</td>\n",
       "      <td>A</td>\n",
       "    </tr>\n",
       "    <tr>\n",
       "      <th>3</th>\n",
       "      <td>3</td>\n",
       "      <td>XL78013</td>\n",
       "      <td>Oregon</td>\n",
       "      <td>22332.439460</td>\n",
       "      <td>Yes</td>\n",
       "      <td>Extended</td>\n",
       "      <td>College</td>\n",
       "      <td>1/11/11</td>\n",
       "      <td>Employed</td>\n",
       "      <td>M</td>\n",
       "      <td>...</td>\n",
       "      <td>0.0</td>\n",
       "      <td>2</td>\n",
       "      <td>Corporate Auto</td>\n",
       "      <td>Corporate L3</td>\n",
       "      <td>Offer2</td>\n",
       "      <td>Branch</td>\n",
       "      <td>484.013411</td>\n",
       "      <td>Four-Door Car</td>\n",
       "      <td>Medsize</td>\n",
       "      <td>A</td>\n",
       "    </tr>\n",
       "    <tr>\n",
       "      <th>4</th>\n",
       "      <td>4</td>\n",
       "      <td>QA50777</td>\n",
       "      <td>Oregon</td>\n",
       "      <td>9025.067525</td>\n",
       "      <td>No</td>\n",
       "      <td>Premium</td>\n",
       "      <td>Bachelor</td>\n",
       "      <td>1/17/11</td>\n",
       "      <td>Medical Leave</td>\n",
       "      <td>F</td>\n",
       "      <td>...</td>\n",
       "      <td>NaN</td>\n",
       "      <td>7</td>\n",
       "      <td>Personal Auto</td>\n",
       "      <td>Personal L2</td>\n",
       "      <td>Offer1</td>\n",
       "      <td>Branch</td>\n",
       "      <td>707.925645</td>\n",
       "      <td>Four-Door Car</td>\n",
       "      <td>Medsize</td>\n",
       "      <td>NaN</td>\n",
       "    </tr>\n",
       "  </tbody>\n",
       "</table>\n",
       "<p>5 rows × 26 columns</p>\n",
       "</div>"
      ],
      "text/plain": [
       "   Unnamed: 0 Customer       State  Customer Lifetime Value Response  \\\n",
       "0           0  DK49336     Arizona              4809.216960       No   \n",
       "1           1  KX64629  California              2228.525238       No   \n",
       "2           2  LZ68649  Washington             14947.917300       No   \n",
       "3           3  XL78013      Oregon             22332.439460      Yes   \n",
       "4           4  QA50777      Oregon              9025.067525       No   \n",
       "\n",
       "   Coverage Education Effective To Date EmploymentStatus Gender  ...  \\\n",
       "0     Basic   College           2/18/11         Employed      M  ...   \n",
       "1     Basic   College           1/18/11       Unemployed      F  ...   \n",
       "2     Basic  Bachelor           2/10/11         Employed      M  ...   \n",
       "3  Extended   College           1/11/11         Employed      M  ...   \n",
       "4   Premium  Bachelor           1/17/11    Medical Leave      F  ...   \n",
       "\n",
       "   Number of Open Complaints Number of Policies     Policy Type        Policy  \\\n",
       "0                        0.0                  9  Corporate Auto  Corporate L3   \n",
       "1                        0.0                  1   Personal Auto   Personal L3   \n",
       "2                        0.0                  2   Personal Auto   Personal L3   \n",
       "3                        0.0                  2  Corporate Auto  Corporate L3   \n",
       "4                        NaN                  7   Personal Auto   Personal L2   \n",
       "\n",
       "   Renew Offer Type  Sales Channel  Total Claim Amount  Vehicle Class  \\\n",
       "0            Offer3          Agent          292.800000  Four-Door Car   \n",
       "1            Offer4    Call Center          744.924331  Four-Door Car   \n",
       "2            Offer3    Call Center          480.000000            SUV   \n",
       "3            Offer2         Branch          484.013411  Four-Door Car   \n",
       "4            Offer1         Branch          707.925645  Four-Door Car   \n",
       "\n",
       "  Vehicle Size Vehicle Type  \n",
       "0      Medsize          NaN  \n",
       "1      Medsize          NaN  \n",
       "2      Medsize            A  \n",
       "3      Medsize            A  \n",
       "4      Medsize          NaN  \n",
       "\n",
       "[5 rows x 26 columns]"
      ]
     },
     "execution_count": 11,
     "metadata": {},
     "output_type": "execute_result"
    }
   ],
   "source": [
    "import pandas as pd\n",
    "\n",
    "url = \"https://raw.githubusercontent.com/data-bootcamp-v4/data/main/marketing_customer_analysis.csv\"\n",
    "customer_data = pd.read_csv(url)\n",
    "\n",
    "customer_data.head()"
   ]
  },
  {
   "cell_type": "code",
   "execution_count": 12,
   "id": "f97feddb-9080-47a5-832a-1b65d34fb178",
   "metadata": {},
   "outputs": [
    {
     "name": "stdout",
     "output_type": "stream",
     "text": [
      "<class 'pandas.core.frame.DataFrame'>\n",
      "RangeIndex: 10910 entries, 0 to 10909\n",
      "Data columns (total 26 columns):\n",
      " #   Column                         Non-Null Count  Dtype  \n",
      "---  ------                         --------------  -----  \n",
      " 0   Unnamed: 0                     10910 non-null  int64  \n",
      " 1   Customer                       10910 non-null  object \n",
      " 2   State                          10279 non-null  object \n",
      " 3   Customer Lifetime Value        10910 non-null  float64\n",
      " 4   Response                       10279 non-null  object \n",
      " 5   Coverage                       10910 non-null  object \n",
      " 6   Education                      10910 non-null  object \n",
      " 7   Effective To Date              10910 non-null  object \n",
      " 8   EmploymentStatus               10910 non-null  object \n",
      " 9   Gender                         10910 non-null  object \n",
      " 10  Income                         10910 non-null  int64  \n",
      " 11  Location Code                  10910 non-null  object \n",
      " 12  Marital Status                 10910 non-null  object \n",
      " 13  Monthly Premium Auto           10910 non-null  int64  \n",
      " 14  Months Since Last Claim        10277 non-null  float64\n",
      " 15  Months Since Policy Inception  10910 non-null  int64  \n",
      " 16  Number of Open Complaints      10277 non-null  float64\n",
      " 17  Number of Policies             10910 non-null  int64  \n",
      " 18  Policy Type                    10910 non-null  object \n",
      " 19  Policy                         10910 non-null  object \n",
      " 20  Renew Offer Type               10910 non-null  object \n",
      " 21  Sales Channel                  10910 non-null  object \n",
      " 22  Total Claim Amount             10910 non-null  float64\n",
      " 23  Vehicle Class                  10288 non-null  object \n",
      " 24  Vehicle Size                   10288 non-null  object \n",
      " 25  Vehicle Type                   5428 non-null   object \n",
      "dtypes: float64(4), int64(5), object(17)\n",
      "memory usage: 2.2+ MB\n",
      "None\n",
      "          Unnamed: 0 Customer       State  Customer Lifetime Value Response  \\\n",
      "count   10910.000000    10910       10279             10910.000000    10279   \n",
      "unique           NaN     9134           5                      NaN        2   \n",
      "top              NaN  ID89933  California                      NaN       No   \n",
      "freq             NaN        7        3552                      NaN     8813   \n",
      "mean     5454.500000      NaN         NaN              8018.241094      NaN   \n",
      "std      3149.590053      NaN         NaN              6885.081434      NaN   \n",
      "min         0.000000      NaN         NaN              1898.007675      NaN   \n",
      "25%      2727.250000      NaN         NaN              4014.453113      NaN   \n",
      "50%      5454.500000      NaN         NaN              5771.147235      NaN   \n",
      "75%      8181.750000      NaN         NaN              8992.779137      NaN   \n",
      "max     10909.000000      NaN         NaN             83325.381190      NaN   \n",
      "\n",
      "       Coverage Education Effective To Date EmploymentStatus Gender  ...  \\\n",
      "count     10910     10910             10910            10910  10910  ...   \n",
      "unique        3         5                59                5      2  ...   \n",
      "top       Basic  Bachelor           1/10/11         Employed      F  ...   \n",
      "freq       6660      3272               239             6789   5573  ...   \n",
      "mean        NaN       NaN               NaN              NaN    NaN  ...   \n",
      "std         NaN       NaN               NaN              NaN    NaN  ...   \n",
      "min         NaN       NaN               NaN              NaN    NaN  ...   \n",
      "25%         NaN       NaN               NaN              NaN    NaN  ...   \n",
      "50%         NaN       NaN               NaN              NaN    NaN  ...   \n",
      "75%         NaN       NaN               NaN              NaN    NaN  ...   \n",
      "max         NaN       NaN               NaN              NaN    NaN  ...   \n",
      "\n",
      "        Number of Open Complaints Number of Policies    Policy Type  \\\n",
      "count                10277.000000       10910.000000          10910   \n",
      "unique                        NaN                NaN              3   \n",
      "top                           NaN                NaN  Personal Auto   \n",
      "freq                          NaN                NaN           8128   \n",
      "mean                     0.384256           2.979193            NaN   \n",
      "std                      0.912457           2.399359            NaN   \n",
      "min                      0.000000           1.000000            NaN   \n",
      "25%                      0.000000           1.000000            NaN   \n",
      "50%                      0.000000           2.000000            NaN   \n",
      "75%                      0.000000           4.000000            NaN   \n",
      "max                      5.000000           9.000000            NaN   \n",
      "\n",
      "             Policy  Renew Offer Type  Sales Channel  Total Claim Amount  \\\n",
      "count         10910             10910          10910        10910.000000   \n",
      "unique            9                 4              4                 NaN   \n",
      "top     Personal L3            Offer1          Agent                 NaN   \n",
      "freq           4118              4483           4121                 NaN   \n",
      "mean            NaN               NaN            NaN          434.888330   \n",
      "std             NaN               NaN            NaN          292.180556   \n",
      "min             NaN               NaN            NaN            0.099007   \n",
      "25%             NaN               NaN            NaN          271.082527   \n",
      "50%             NaN               NaN            NaN          382.564630   \n",
      "75%             NaN               NaN            NaN          547.200000   \n",
      "max             NaN               NaN            NaN         2893.239678   \n",
      "\n",
      "        Vehicle Class Vehicle Size Vehicle Type  \n",
      "count           10288        10288         5428  \n",
      "unique              6            3            1  \n",
      "top     Four-Door Car      Medsize            A  \n",
      "freq             5212         7251         5428  \n",
      "mean              NaN          NaN          NaN  \n",
      "std               NaN          NaN          NaN  \n",
      "min               NaN          NaN          NaN  \n",
      "25%               NaN          NaN          NaN  \n",
      "50%               NaN          NaN          NaN  \n",
      "75%               NaN          NaN          NaN  \n",
      "max               NaN          NaN          NaN  \n",
      "\n",
      "[11 rows x 26 columns]\n"
     ]
    }
   ],
   "source": [
    "# performing data cleaning, formatting, and structuring\n",
    "print(customer_data.info())\n",
    "print(customer_data.describe(include='all'))"
   ]
  },
  {
   "cell_type": "code",
   "execution_count": 13,
   "id": "d6255625-478c-45a0-919c-7868a806b266",
   "metadata": {},
   "outputs": [
    {
     "name": "stdout",
     "output_type": "stream",
     "text": [
      "Unnamed: 0                          0\n",
      "Customer                            0\n",
      "State                             631\n",
      "Customer Lifetime Value             0\n",
      "Response                          631\n",
      "Coverage                            0\n",
      "Education                           0\n",
      "Effective To Date                   0\n",
      "EmploymentStatus                    0\n",
      "Gender                              0\n",
      "Income                              0\n",
      "Location Code                       0\n",
      "Marital Status                      0\n",
      "Monthly Premium Auto                0\n",
      "Months Since Last Claim           633\n",
      "Months Since Policy Inception       0\n",
      "Number of Open Complaints         633\n",
      "Number of Policies                  0\n",
      "Policy Type                         0\n",
      "Policy                              0\n",
      "Renew Offer Type                    0\n",
      "Sales Channel                       0\n",
      "Total Claim Amount                  0\n",
      "Vehicle Class                     622\n",
      "Vehicle Size                      622\n",
      "Vehicle Type                     5482\n",
      "dtype: int64\n"
     ]
    }
   ],
   "source": [
    "print(customer_data.isnull().sum())"
   ]
  },
  {
   "cell_type": "code",
   "execution_count": 14,
   "id": "efb2e126-c835-4b10-802b-fb22f6047050",
   "metadata": {},
   "outputs": [],
   "source": [
    "#fill missing cat with mode etc\n",
    "categorical_columns = ['State', 'Response', 'Vehicle Class', 'Vehicle Size', 'Vehicle Type']\n",
    "for column in categorical_columns:\n",
    "    customer_data[column].fillna(customer_data[column].mode()[0], inplace=True)\n",
    "    "
   ]
  },
  {
   "cell_type": "code",
   "execution_count": 16,
   "id": "adc98c2e-c6a4-4a4b-a773-ecbe63c29ae7",
   "metadata": {},
   "outputs": [],
   "source": [
    "#fill missing item in num column\n",
    "numerical_columns = ['Months Since Last Claim', 'Number of Open Complaints']\n",
    "for column in numerical_columns:\n",
    "   customer_data[column].fillna(customer_data[column].median(), inplace=True)"
   ]
  },
  {
   "cell_type": "code",
   "execution_count": 17,
   "id": "67938262-167a-4a48-acd8-4df3fb28c7ba",
   "metadata": {},
   "outputs": [
    {
     "name": "stdout",
     "output_type": "stream",
     "text": [
      "Unnamed: 0                       0\n",
      "Customer                         0\n",
      "State                            0\n",
      "Customer Lifetime Value          0\n",
      "Response                         0\n",
      "Coverage                         0\n",
      "Education                        0\n",
      "Effective To Date                0\n",
      "EmploymentStatus                 0\n",
      "Gender                           0\n",
      "Income                           0\n",
      "Location Code                    0\n",
      "Marital Status                   0\n",
      "Monthly Premium Auto             0\n",
      "Months Since Last Claim          0\n",
      "Months Since Policy Inception    0\n",
      "Number of Open Complaints        0\n",
      "Number of Policies               0\n",
      "Policy Type                      0\n",
      "Policy                           0\n",
      "Renew Offer Type                 0\n",
      "Sales Channel                    0\n",
      "Total Claim Amount               0\n",
      "Vehicle Class                    0\n",
      "Vehicle Size                     0\n",
      "Vehicle Type                     0\n",
      "dtype: int64\n"
     ]
    }
   ],
   "source": [
    "#checking anymore null values \n",
    "print(customer_data.isnull().sum())"
   ]
  },
  {
   "cell_type": "code",
   "execution_count": 18,
   "id": "d668edaa-1757-4859-8d1e-2314eac90107",
   "metadata": {},
   "outputs": [],
   "source": [
    "#1.total_claim_amount greater than $1,000 and have a response of \"BYes\" to the last marketing campaign.\n",
    "\n",
    "#correcting column\n",
    "customer_data['Response'] = customer_data['Response'].str.strip().replace({'BYes': 'Yes'})"
   ]
  },
  {
   "cell_type": "code",
   "execution_count": 20,
   "id": "4a5827e3-b5fe-41ef-b744-f9adc03df188",
   "metadata": {},
   "outputs": [],
   "source": [
    "filtered_customer_data = customer_data.loc[(customer_data['Total Claim Amount'] > 1000) & (customer_data['Response'] == 'Yes')]"
   ]
  },
  {
   "cell_type": "code",
   "execution_count": 21,
   "id": "aff270f4-79cf-44cf-8ff4-2d924896c086",
   "metadata": {},
   "outputs": [
    {
     "name": "stdout",
     "output_type": "stream",
     "text": [
      "       Unnamed: 0 Customer       State  Customer Lifetime Value Response  \\\n",
      "189           189  OK31456  California             11009.130490      Yes   \n",
      "236           236  YJ16163      Oregon             11009.130490      Yes   \n",
      "419           419  GW43195      Oregon             25807.063000      Yes   \n",
      "442           442  IP94270     Arizona             13736.132500      Yes   \n",
      "587           587  FJ28407  California              5619.689084      Yes   \n",
      "...           ...      ...         ...                      ...      ...   \n",
      "10351       10351  FN44127      Oregon              3508.569533      Yes   \n",
      "10373       10373  XZ64172      Oregon             10963.957230      Yes   \n",
      "10487       10487  IX60941      Oregon              3508.569533      Yes   \n",
      "10565       10565  QO62792      Oregon              7840.165778      Yes   \n",
      "10708       10708  CK39096      Oregon              5619.689084      Yes   \n",
      "\n",
      "       Coverage             Education Effective To Date EmploymentStatus  \\\n",
      "189     Premium              Bachelor           1/24/11         Employed   \n",
      "236     Premium              Bachelor           1/24/11         Employed   \n",
      "419    Extended               College           2/13/11         Employed   \n",
      "442     Premium                Master           2/13/11         Disabled   \n",
      "587     Premium  High School or Below           1/26/11       Unemployed   \n",
      "...         ...                   ...               ...              ...   \n",
      "10351  Extended               College            1/5/11    Medical Leave   \n",
      "10373   Premium  High School or Below            2/8/11         Employed   \n",
      "10487  Extended               College            1/5/11    Medical Leave   \n",
      "10565  Extended               College           1/14/11         Employed   \n",
      "10708   Premium  High School or Below           1/26/11       Unemployed   \n",
      "\n",
      "      Gender  ...  Number of Open Complaints Number of Policies  \\\n",
      "189        F  ...                        0.0                  1   \n",
      "236        F  ...                        0.0                  1   \n",
      "419        F  ...                        1.0                  2   \n",
      "442        F  ...                        0.0                  8   \n",
      "587        M  ...                        0.0                  1   \n",
      "...      ...  ...                        ...                ...   \n",
      "10351      M  ...                        1.0                  1   \n",
      "10373      M  ...                        0.0                  1   \n",
      "10487      M  ...                        1.0                  1   \n",
      "10565      M  ...                        2.0                  1   \n",
      "10708      M  ...                        0.0                  1   \n",
      "\n",
      "          Policy Type        Policy  Renew Offer Type  Sales Channel  \\\n",
      "189    Corporate Auto  Corporate L3            Offer2          Agent   \n",
      "236      Special Auto    Special L3            Offer2          Agent   \n",
      "419     Personal Auto   Personal L2            Offer1         Branch   \n",
      "442     Personal Auto   Personal L2            Offer1            Web   \n",
      "587     Personal Auto   Personal L1            Offer2            Web   \n",
      "...               ...           ...               ...            ...   \n",
      "10351   Personal Auto   Personal L2            Offer2         Branch   \n",
      "10373  Corporate Auto  Corporate L2            Offer1          Agent   \n",
      "10487   Personal Auto   Personal L3            Offer2         Branch   \n",
      "10565   Personal Auto   Personal L3            Offer2          Agent   \n",
      "10708   Personal Auto   Personal L3            Offer2            Web   \n",
      "\n",
      "       Total Claim Amount  Vehicle Class Vehicle Size Vehicle Type  \n",
      "189           1358.400000     Luxury Car      Medsize            A  \n",
      "236           1358.400000     Luxury Car      Medsize            A  \n",
      "419           1027.200000     Luxury Car        Small            A  \n",
      "442           1261.319869            SUV      Medsize            A  \n",
      "587           1027.000029            SUV      Medsize            A  \n",
      "...                   ...            ...          ...          ...  \n",
      "10351         1176.278800  Four-Door Car        Small            A  \n",
      "10373         1324.800000     Luxury SUV      Medsize            A  \n",
      "10487         1176.278800  Four-Door Car        Small            A  \n",
      "10565         1008.000000  Four-Door Car      Medsize            A  \n",
      "10708         1027.000029            SUV      Medsize            A  \n",
      "\n",
      "[67 rows x 26 columns]\n"
     ]
    }
   ],
   "source": [
    "print(filtered_customer_data)"
   ]
  },
  {
   "cell_type": "code",
   "execution_count": null,
   "id": "05db57be-c870-4d26-94ad-e4c1abfde618",
   "metadata": {},
   "outputs": [],
   "source": [
    "#2 using the original Dataframe, analyze the average total_claim_amount by each policy type and gender for customers who have responded \"Yes\" to the last marketing campaign."
   ]
  },
  {
   "cell_type": "code",
   "execution_count": 26,
   "id": "223b0945-27f0-4e98-81df-0aefe9e49ff9",
   "metadata": {},
   "outputs": [],
   "source": [
    "responded_yes_df = customer_data[customer_data['Response'] == 'Yes']"
   ]
  },
  {
   "cell_type": "code",
   "execution_count": 27,
   "id": "5e4638e3-433b-4236-b150-44ee09b78fc1",
   "metadata": {},
   "outputs": [],
   "source": [
    "Total_claims_average= responded_yes_df.groupby(['Policy Type', 'Gender'])['Total Claim Amount'].mean()"
   ]
  },
  {
   "cell_type": "code",
   "execution_count": 28,
   "id": "55be83f3-330c-400e-a30d-806300ab74de",
   "metadata": {},
   "outputs": [
    {
     "name": "stdout",
     "output_type": "stream",
     "text": [
      "Policy Type     Gender\n",
      "Corporate Auto  F         433.738499\n",
      "                M         408.582459\n",
      "Personal Auto   F         452.965929\n",
      "                M         457.010178\n",
      "Special Auto    F         453.280164\n",
      "                M         429.527942\n",
      "Name: Total Claim Amount, dtype: float64\n"
     ]
    }
   ],
   "source": [
    "print(Total_claims_average)"
   ]
  },
  {
   "cell_type": "code",
   "execution_count": 29,
   "id": "56bc8303-f404-4efd-b1e8-a02ff13ac36c",
   "metadata": {},
   "outputs": [],
   "source": [
    "Total_claims_average = Total_claims_average.reset_index()"
   ]
  },
  {
   "cell_type": "code",
   "execution_count": 30,
   "id": "2d78feed-bcc4-4459-9469-fae0ed8c4104",
   "metadata": {},
   "outputs": [],
   "source": [
    "Total_claims_average=Total_claims_average['Total Claim Amount'].round(2)"
   ]
  },
  {
   "cell_type": "code",
   "execution_count": 31,
   "id": "afe83afb-7cdd-43aa-9a6a-1748792c2191",
   "metadata": {},
   "outputs": [
    {
     "name": "stdout",
     "output_type": "stream",
     "text": [
      "0    433.74\n",
      "1    408.58\n",
      "2    452.97\n",
      "3    457.01\n",
      "4    453.28\n",
      "5    429.53\n",
      "Name: Total Claim Amount, dtype: float64\n"
     ]
    }
   ],
   "source": [
    "print(Total_claims_average)"
   ]
  },
  {
   "cell_type": "code",
   "execution_count": null,
   "id": "fd9716e7-7515-48b4-96f0-26fea4b661a1",
   "metadata": {},
   "outputs": [],
   "source": [
    "#male claims more from personal auto channel and highest female claims are from special auto."
   ]
  },
  {
   "cell_type": "code",
   "execution_count": null,
   "id": "6e8a1a3f-4ae9-4f09-9e4d-77602fc654cd",
   "metadata": {},
   "outputs": [],
   "source": [
    "#3 Analyze the total number of customers who have policies in each state, and then filter the results to only include states where there are more than 500 customers"
   ]
  },
  {
   "cell_type": "code",
   "execution_count": 32,
   "id": "e56174c2-e183-449b-ab88-78c38e8ef447",
   "metadata": {},
   "outputs": [],
   "source": [
    "customer_count_by_state = customer_data.groupby('State')['Customer'].count()"
   ]
  },
  {
   "cell_type": "code",
   "execution_count": 45,
   "id": "92b94b9a-a0d2-4731-bc90-864765dcd05a",
   "metadata": {},
   "outputs": [],
   "source": [
    "customer_count_by_state = customer_count_by_state.reset_index()"
   ]
  },
  {
   "cell_type": "code",
   "execution_count": 35,
   "id": "472a67c0-3dc4-40fd-ae90-ccd34fd2973d",
   "metadata": {},
   "outputs": [],
   "source": [
    " #Rename the columns for clarity\n",
    "customer_count_by_state.columns = ['State', 'Customer Count']"
   ]
  },
  {
   "cell_type": "code",
   "execution_count": 36,
   "id": "b6fb7f90-3592-43b8-a151-b825ad6e07a1",
   "metadata": {},
   "outputs": [],
   "source": [
    "states_with_more_than_500_customers = customer_count_by_state[customer_count_by_state['Customer Count'] > 500]"
   ]
  },
  {
   "cell_type": "code",
   "execution_count": 37,
   "id": "f3959030-87f0-4dd8-91c1-8ce9c8620616",
   "metadata": {},
   "outputs": [
    {
     "name": "stdout",
     "output_type": "stream",
     "text": [
      "        State  Customer Count\n",
      "0     Arizona            1937\n",
      "1  California            4183\n",
      "2      Nevada             993\n",
      "3      Oregon            2909\n",
      "4  Washington             888\n"
     ]
    }
   ],
   "source": [
    "print(states_with_more_than_500_customers)"
   ]
  },
  {
   "cell_type": "code",
   "execution_count": 38,
   "id": "0f8a0116-ce64-417b-a497-5ccdedf6d107",
   "metadata": {},
   "outputs": [],
   "source": [
    "#4Find the maximum, minimum, and median customer lifetime value by education level and gender. Write your conclusions.\n",
    "stats_by_education_gender = customer_data.groupby(['Education', 'Gender'])['Customer Lifetime Value'].agg(['max', 'min', 'median'])"
   ]
  },
  {
   "cell_type": "code",
   "execution_count": 39,
   "id": "5d0f6f42-aba5-46b1-bff7-2adc1432f669",
   "metadata": {},
   "outputs": [
    {
     "name": "stdout",
     "output_type": "stream",
     "text": [
      "                                     max          min       median\n",
      "Education            Gender                                       \n",
      "Bachelor             F       73225.95652  1904.000852  5640.505303\n",
      "                     M       67907.27050  1898.007675  5548.031892\n",
      "College              F       61850.18803  1898.683686  5623.611187\n",
      "                     M       61134.68307  1918.119700  6005.847375\n",
      "Doctor               F       44856.11397  2395.570000  5332.462694\n",
      "                     M       32677.34284  2267.604038  5577.669457\n",
      "High School or Below F       55277.44589  2144.921535  6039.553187\n",
      "                     M       83325.38119  1940.981221  6286.731006\n",
      "Master               F       51016.06704  2417.777032  5729.855012\n",
      "                     M       50568.25912  2272.307310  5579.099207\n"
     ]
    }
   ],
   "source": [
    "print(stats_by_education_gender)"
   ]
  },
  {
   "cell_type": "code",
   "execution_count": 42,
   "id": "e3ec5723-dacd-4a4a-8b42-f9a792380ba6",
   "metadata": {},
   "outputs": [],
   "source": [
    "stats_by_education_gender = stats_by_education_gender.reset_index()"
   ]
  },
  {
   "cell_type": "code",
   "execution_count": 43,
   "id": "d1dbb81d-d8b0-49f9-b035-23908fc32470",
   "metadata": {},
   "outputs": [
    {
     "ename": "KeyError",
     "evalue": "'stats_by_education_gender'",
     "output_type": "error",
     "traceback": [
      "\u001b[1;31m---------------------------------------------------------------------------\u001b[0m",
      "\u001b[1;31mKeyError\u001b[0m                                  Traceback (most recent call last)",
      "Cell \u001b[1;32mIn[43], line 1\u001b[0m\n\u001b[1;32m----> 1\u001b[0m Total_claims_average\u001b[38;5;241m=\u001b[39mTotal_claims_average[\u001b[38;5;124m'\u001b[39m\u001b[38;5;124mstats_by_education_gender\u001b[39m\u001b[38;5;124m'\u001b[39m]\u001b[38;5;241m.\u001b[39mround(\u001b[38;5;241m2\u001b[39m)\n",
      "File \u001b[1;32m~\\anaconda3\\Lib\\site-packages\\pandas\\core\\series.py:1040\u001b[0m, in \u001b[0;36mSeries.__getitem__\u001b[1;34m(self, key)\u001b[0m\n\u001b[0;32m   1037\u001b[0m     \u001b[38;5;28;01mreturn\u001b[39;00m \u001b[38;5;28mself\u001b[39m\u001b[38;5;241m.\u001b[39m_values[key]\n\u001b[0;32m   1039\u001b[0m \u001b[38;5;28;01melif\u001b[39;00m key_is_scalar:\n\u001b[1;32m-> 1040\u001b[0m     \u001b[38;5;28;01mreturn\u001b[39;00m \u001b[38;5;28mself\u001b[39m\u001b[38;5;241m.\u001b[39m_get_value(key)\n\u001b[0;32m   1042\u001b[0m \u001b[38;5;66;03m# Convert generator to list before going through hashable part\u001b[39;00m\n\u001b[0;32m   1043\u001b[0m \u001b[38;5;66;03m# (We will iterate through the generator there to check for slices)\u001b[39;00m\n\u001b[0;32m   1044\u001b[0m \u001b[38;5;28;01mif\u001b[39;00m is_iterator(key):\n",
      "File \u001b[1;32m~\\anaconda3\\Lib\\site-packages\\pandas\\core\\series.py:1156\u001b[0m, in \u001b[0;36mSeries._get_value\u001b[1;34m(self, label, takeable)\u001b[0m\n\u001b[0;32m   1153\u001b[0m     \u001b[38;5;28;01mreturn\u001b[39;00m \u001b[38;5;28mself\u001b[39m\u001b[38;5;241m.\u001b[39m_values[label]\n\u001b[0;32m   1155\u001b[0m \u001b[38;5;66;03m# Similar to Index.get_value, but we do not fall back to positional\u001b[39;00m\n\u001b[1;32m-> 1156\u001b[0m loc \u001b[38;5;241m=\u001b[39m \u001b[38;5;28mself\u001b[39m\u001b[38;5;241m.\u001b[39mindex\u001b[38;5;241m.\u001b[39mget_loc(label)\n\u001b[0;32m   1158\u001b[0m \u001b[38;5;28;01mif\u001b[39;00m is_integer(loc):\n\u001b[0;32m   1159\u001b[0m     \u001b[38;5;28;01mreturn\u001b[39;00m \u001b[38;5;28mself\u001b[39m\u001b[38;5;241m.\u001b[39m_values[loc]\n",
      "File \u001b[1;32m~\\anaconda3\\Lib\\site-packages\\pandas\\core\\indexes\\range.py:418\u001b[0m, in \u001b[0;36mRangeIndex.get_loc\u001b[1;34m(self, key)\u001b[0m\n\u001b[0;32m    416\u001b[0m         \u001b[38;5;28;01mraise\u001b[39;00m \u001b[38;5;167;01mKeyError\u001b[39;00m(key) \u001b[38;5;28;01mfrom\u001b[39;00m \u001b[38;5;21;01merr\u001b[39;00m\n\u001b[0;32m    417\u001b[0m \u001b[38;5;28;01mif\u001b[39;00m \u001b[38;5;28misinstance\u001b[39m(key, Hashable):\n\u001b[1;32m--> 418\u001b[0m     \u001b[38;5;28;01mraise\u001b[39;00m \u001b[38;5;167;01mKeyError\u001b[39;00m(key)\n\u001b[0;32m    419\u001b[0m \u001b[38;5;28mself\u001b[39m\u001b[38;5;241m.\u001b[39m_check_indexing_error(key)\n\u001b[0;32m    420\u001b[0m \u001b[38;5;28;01mraise\u001b[39;00m \u001b[38;5;167;01mKeyError\u001b[39;00m(key)\n",
      "\u001b[1;31mKeyError\u001b[0m: 'stats_by_education_gender'"
     ]
    }
   ],
   "source": [
    "Total_claims_average=Total_claims_average['stats_by_education_gender'].round(2)"
   ]
  },
  {
   "cell_type": "code",
   "execution_count": 44,
   "id": "673df0fe-6405-4ce3-bbd0-c81cf7ad29ba",
   "metadata": {},
   "outputs": [
    {
     "name": "stdout",
     "output_type": "stream",
     "text": [
      "              Education Gender          max          min       median\n",
      "0              Bachelor      F  73225.95652  1904.000852  5640.505303\n",
      "1              Bachelor      M  67907.27050  1898.007675  5548.031892\n",
      "2               College      F  61850.18803  1898.683686  5623.611187\n",
      "3               College      M  61134.68307  1918.119700  6005.847375\n",
      "4                Doctor      F  44856.11397  2395.570000  5332.462694\n",
      "5                Doctor      M  32677.34284  2267.604038  5577.669457\n",
      "6  High School or Below      F  55277.44589  2144.921535  6039.553187\n",
      "7  High School or Below      M  83325.38119  1940.981221  6286.731006\n",
      "8                Master      F  51016.06704  2417.777032  5729.855012\n",
      "9                Master      M  50568.25912  2272.307310  5579.099207\n"
     ]
    }
   ],
   "source": [
    "print(stats_by_education_gender)"
   ]
  },
  {
   "cell_type": "markdown",
   "id": "b42999f9-311f-481e-ae63-40a5577072c5",
   "metadata": {
    "id": "b42999f9-311f-481e-ae63-40a5577072c5"
   },
   "source": [
    "## Bonus"
   ]
  },
  {
   "cell_type": "markdown",
   "id": "81ff02c5-6584-4f21-a358-b918697c6432",
   "metadata": {
    "id": "81ff02c5-6584-4f21-a358-b918697c6432"
   },
   "source": [
    "5. The marketing team wants to analyze the number of policies sold by state and month. Present the data in a table where the months are arranged as columns and the states are arranged as rows."
   ]
  },
  {
   "cell_type": "markdown",
   "id": "b6aec097-c633-4017-a125-e77a97259cda",
   "metadata": {
    "id": "b6aec097-c633-4017-a125-e77a97259cda"
   },
   "source": [
    "6.  Display a new DataFrame that contains the number of policies sold by month, by state, for the top 3 states with the highest number of policies sold.\n",
    "\n",
    "*Hint:*\n",
    "- *To accomplish this, you will first need to group the data by state and month, then count the number of policies sold for each group. Afterwards, you will need to sort the data by the count of policies sold in descending order.*\n",
    "- *Next, you will select the top 3 states with the highest number of policies sold.*\n",
    "- *Finally, you will create a new DataFrame that contains the number of policies sold by month for each of the top 3 states.*"
   ]
  },
  {
   "cell_type": "markdown",
   "id": "ba975b8a-a2cf-4fbf-9f59-ebc381767009",
   "metadata": {
    "id": "ba975b8a-a2cf-4fbf-9f59-ebc381767009"
   },
   "source": [
    "7. The marketing team wants to analyze the effect of different marketing channels on the customer response rate.\n",
    "\n",
    "Hint: You can use melt to unpivot the data and create a table that shows the customer response rate (those who responded \"Yes\") by marketing channel."
   ]
  },
  {
   "cell_type": "markdown",
   "id": "e4378d94-48fb-4850-a802-b1bc8f427b2d",
   "metadata": {
    "id": "e4378d94-48fb-4850-a802-b1bc8f427b2d"
   },
   "source": [
    "External Resources for Data Filtering: https://towardsdatascience.com/filtering-data-frames-in-pandas-b570b1f834b9"
   ]
  },
  {
   "cell_type": "code",
   "execution_count": null,
   "id": "449513f4-0459-46a0-a18d-9398d974c9ad",
   "metadata": {
    "id": "449513f4-0459-46a0-a18d-9398d974c9ad"
   },
   "outputs": [],
   "source": [
    "# your code goes here"
   ]
  },
  {
   "cell_type": "markdown",
   "id": "0d481a7e-936c-42c0-9c99-9bd580c1bccd",
   "metadata": {},
   "source": [
    "# "
   ]
  }
 ],
 "metadata": {
  "colab": {
   "provenance": []
  },
  "kernelspec": {
   "display_name": "Python 3 (ipykernel)",
   "language": "python",
   "name": "python3"
  },
  "language_info": {
   "codemirror_mode": {
    "name": "ipython",
    "version": 3
   },
   "file_extension": ".py",
   "mimetype": "text/x-python",
   "name": "python",
   "nbconvert_exporter": "python",
   "pygments_lexer": "ipython3",
   "version": "3.11.7"
  }
 },
 "nbformat": 4,
 "nbformat_minor": 5
}
