{
 "cells": [
  {
   "cell_type": "markdown",
   "id": "31969215-2a90-4d8b-ac36-646a7ae13744",
   "metadata": {
    "id": "31969215-2a90-4d8b-ac36-646a7ae13744"
   },
   "source": [
    "# Lab | Data Aggregation and Filtering"
   ]
  },
  {
   "cell_type": "markdown",
   "id": "a8f08a52-bec0-439b-99cc-11d3809d8b5d",
   "metadata": {
    "id": "a8f08a52-bec0-439b-99cc-11d3809d8b5d"
   },
   "source": [
    "In this challenge, we will continue to work with customer data from an insurance company. We will use the dataset called marketing_customer_analysis.csv, which can be found at the following link:\n",
    "\n",
    "https://raw.githubusercontent.com/data-bootcamp-v4/data/main/marketing_customer_analysis.csv\n",
    "\n",
    "This dataset contains information such as customer demographics, policy details, vehicle information, and the customer's response to the last marketing campaign. Our goal is to explore and analyze this data by first performing data cleaning, formatting, and structuring."
   ]
  },
  {
   "cell_type": "markdown",
   "id": "9c98ddc5-b041-4c94-ada1-4dfee5c98e50",
   "metadata": {
    "id": "9c98ddc5-b041-4c94-ada1-4dfee5c98e50"
   },
   "source": [
    "1. Create a new DataFrame that only includes customers who have a total_claim_amount greater than $1,000 and have a response of \"Yes\" to the last marketing campaign."
   ]
  },
  {
   "cell_type": "markdown",
   "id": "b9be383e-5165-436e-80c8-57d4c757c8c3",
   "metadata": {
    "id": "b9be383e-5165-436e-80c8-57d4c757c8c3"
   },
   "source": [
    "2. Using the original Dataframe, analyze the average total_claim_amount by each policy type and gender for customers who have responded \"Yes\" to the last marketing campaign. Write your conclusions."
   ]
  },
  {
   "cell_type": "markdown",
   "id": "7050f4ac-53c5-4193-a3c0-8699b87196f0",
   "metadata": {
    "id": "7050f4ac-53c5-4193-a3c0-8699b87196f0"
   },
   "source": [
    "3. Analyze the total number of customers who have policies in each state, and then filter the results to only include states where there are more than 500 customers."
   ]
  },
  {
   "cell_type": "markdown",
   "id": "b60a4443-a1a7-4bbf-b78e-9ccdf9895e0d",
   "metadata": {
    "id": "b60a4443-a1a7-4bbf-b78e-9ccdf9895e0d"
   },
   "source": [
    "4. Find the maximum, minimum, and median customer lifetime value by education level and gender. Write your conclusions."
   ]
  },
  {
   "cell_type": "markdown",
   "id": "b42999f9-311f-481e-ae63-40a5577072c5",
   "metadata": {
    "id": "b42999f9-311f-481e-ae63-40a5577072c5"
   },
   "source": [
    "## Bonus"
   ]
  },
  {
   "cell_type": "markdown",
   "id": "81ff02c5-6584-4f21-a358-b918697c6432",
   "metadata": {
    "id": "81ff02c5-6584-4f21-a358-b918697c6432"
   },
   "source": [
    "5. The marketing team wants to analyze the number of policies sold by state and month. Present the data in a table where the months are arranged as columns and the states are arranged as rows."
   ]
  },
  {
   "cell_type": "markdown",
   "id": "b6aec097-c633-4017-a125-e77a97259cda",
   "metadata": {
    "id": "b6aec097-c633-4017-a125-e77a97259cda"
   },
   "source": [
    "6.  Display a new DataFrame that contains the number of policies sold by month, by state, for the top 3 states with the highest number of policies sold.\n",
    "\n",
    "*Hint:*\n",
    "- *To accomplish this, you will first need to group the data by state and month, then count the number of policies sold for each group. Afterwards, you will need to sort the data by the count of policies sold in descending order.*\n",
    "- *Next, you will select the top 3 states with the highest number of policies sold.*\n",
    "- *Finally, you will create a new DataFrame that contains the number of policies sold by month for each of the top 3 states.*"
   ]
  },
  {
   "cell_type": "markdown",
   "id": "ba975b8a-a2cf-4fbf-9f59-ebc381767009",
   "metadata": {
    "id": "ba975b8a-a2cf-4fbf-9f59-ebc381767009"
   },
   "source": [
    "7. The marketing team wants to analyze the effect of different marketing channels on the customer response rate.\n",
    "\n",
    "Hint: You can use melt to unpivot the data and create a table that shows the customer response rate (those who responded \"Yes\") by marketing channel."
   ]
  },
  {
   "cell_type": "markdown",
   "id": "e4378d94-48fb-4850-a802-b1bc8f427b2d",
   "metadata": {
    "id": "e4378d94-48fb-4850-a802-b1bc8f427b2d"
   },
   "source": [
    "External Resources for Data Filtering: https://towardsdatascience.com/filtering-data-frames-in-pandas-b570b1f834b9"
   ]
  },
  {
   "cell_type": "code",
   "execution_count": 1,
   "id": "449513f4-0459-46a0-a18d-9398d974c9ad",
   "metadata": {
    "id": "449513f4-0459-46a0-a18d-9398d974c9ad"
   },
   "outputs": [],
   "source": [
    "# your code goes here\n",
    "import pandas as pd\n",
    "url = 'https://raw.githubusercontent.com/data-bootcamp-v4/data/main/marketing_customer_analysis.csv'\n",
    "df = pd.read_csv('https://raw.githubusercontent.com/data-bootcamp-v4/data/main/marketing_customer_analysis.csv')"
   ]
  },
  {
   "cell_type": "code",
   "execution_count": 2,
   "id": "3c8c7906",
   "metadata": {},
   "outputs": [
    {
     "name": "stdout",
     "output_type": "stream",
     "text": [
      "       Unnamed: 0 Customer       State  Customer Lifetime Value Response  \\\n",
      "189           189  OK31456  California             11009.130490      Yes   \n",
      "236           236  YJ16163      Oregon             11009.130490      Yes   \n",
      "419           419  GW43195      Oregon             25807.063000      Yes   \n",
      "442           442  IP94270     Arizona             13736.132500      Yes   \n",
      "587           587  FJ28407  California              5619.689084      Yes   \n",
      "...           ...      ...         ...                      ...      ...   \n",
      "10351       10351  FN44127      Oregon              3508.569533      Yes   \n",
      "10373       10373  XZ64172      Oregon             10963.957230      Yes   \n",
      "10487       10487  IX60941      Oregon              3508.569533      Yes   \n",
      "10565       10565  QO62792      Oregon              7840.165778      Yes   \n",
      "10708       10708  CK39096      Oregon              5619.689084      Yes   \n",
      "\n",
      "       Coverage             Education Effective To Date EmploymentStatus  \\\n",
      "189     Premium              Bachelor           1/24/11         Employed   \n",
      "236     Premium              Bachelor           1/24/11         Employed   \n",
      "419    Extended               College           2/13/11         Employed   \n",
      "442     Premium                Master           2/13/11         Disabled   \n",
      "587     Premium  High School or Below           1/26/11       Unemployed   \n",
      "...         ...                   ...               ...              ...   \n",
      "10351  Extended               College            1/5/11    Medical Leave   \n",
      "10373   Premium  High School or Below            2/8/11         Employed   \n",
      "10487  Extended               College            1/5/11    Medical Leave   \n",
      "10565  Extended               College           1/14/11         Employed   \n",
      "10708   Premium  High School or Below           1/26/11       Unemployed   \n",
      "\n",
      "      Gender  ...  Number of Open Complaints Number of Policies  \\\n",
      "189        F  ...                        0.0                  1   \n",
      "236        F  ...                        0.0                  1   \n",
      "419        F  ...                        1.0                  2   \n",
      "442        F  ...                        0.0                  8   \n",
      "587        M  ...                        0.0                  1   \n",
      "...      ...  ...                        ...                ...   \n",
      "10351      M  ...                        1.0                  1   \n",
      "10373      M  ...                        0.0                  1   \n",
      "10487      M  ...                        1.0                  1   \n",
      "10565      M  ...                        2.0                  1   \n",
      "10708      M  ...                        0.0                  1   \n",
      "\n",
      "          Policy Type        Policy  Renew Offer Type  Sales Channel  \\\n",
      "189    Corporate Auto  Corporate L3            Offer2          Agent   \n",
      "236      Special Auto    Special L3            Offer2          Agent   \n",
      "419     Personal Auto   Personal L2            Offer1         Branch   \n",
      "442     Personal Auto   Personal L2            Offer1            Web   \n",
      "587     Personal Auto   Personal L1            Offer2            Web   \n",
      "...               ...           ...               ...            ...   \n",
      "10351   Personal Auto   Personal L2            Offer2         Branch   \n",
      "10373  Corporate Auto  Corporate L2            Offer1          Agent   \n",
      "10487   Personal Auto   Personal L3            Offer2         Branch   \n",
      "10565   Personal Auto   Personal L3            Offer2          Agent   \n",
      "10708   Personal Auto   Personal L3            Offer2            Web   \n",
      "\n",
      "       Total Claim Amount  Vehicle Class Vehicle Size Vehicle Type  \n",
      "189           1358.400000     Luxury Car      Medsize          NaN  \n",
      "236           1358.400000     Luxury Car      Medsize            A  \n",
      "419           1027.200000     Luxury Car        Small            A  \n",
      "442           1261.319869            SUV      Medsize            A  \n",
      "587           1027.000029            SUV      Medsize            A  \n",
      "...                   ...            ...          ...          ...  \n",
      "10351         1176.278800  Four-Door Car        Small          NaN  \n",
      "10373         1324.800000     Luxury SUV      Medsize          NaN  \n",
      "10487         1176.278800  Four-Door Car        Small          NaN  \n",
      "10565         1008.000000            NaN          NaN          NaN  \n",
      "10708         1027.000029            SUV      Medsize            A  \n",
      "\n",
      "[67 rows x 26 columns]\n"
     ]
    }
   ],
   "source": [
    "df_filtered = df[(df['Total Claim Amount'] > 1000) & (df['Response'] == 'Yes')]\n",
    "print(df_filtered)"
   ]
  },
  {
   "cell_type": "code",
   "execution_count": 3,
   "id": "7a754a96",
   "metadata": {},
   "outputs": [
    {
     "name": "stdout",
     "output_type": "stream",
     "text": [
      "      Policy Type Gender  Total Claim Amount\n",
      "0  Corporate Auto      F          433.738499\n",
      "1  Corporate Auto      M          408.582459\n",
      "2   Personal Auto      F          452.965929\n",
      "3   Personal Auto      M          457.010178\n",
      "4    Special Auto      F          453.280164\n",
      "5    Special Auto      M          429.527942\n"
     ]
    }
   ],
   "source": [
    "df_yes_response = df[df['Response'] == 'Yes']\n",
    "average_claims = df_yes_response.groupby(['Policy Type', 'Gender'])['Total Claim Amount'].mean().reset_index()\n",
    "print(average_claims)"
   ]
  },
  {
   "cell_type": "code",
   "execution_count": 4,
   "id": "6664e4bb",
   "metadata": {},
   "outputs": [
    {
     "name": "stdout",
     "output_type": "stream",
     "text": [
      "        State  Customer Count\n",
      "0  California            3552\n",
      "1      Oregon            2909\n",
      "2     Arizona            1937\n",
      "3      Nevada             993\n",
      "4  Washington             888\n"
     ]
    }
   ],
   "source": [
    "customer_counts_by_state = df['State'].value_counts().reset_index()\n",
    "customer_counts_by_state.columns = ['State', 'Customer Count']\n",
    "states_with_more_than_500_customers = customer_counts_by_state[customer_counts_by_state['Customer Count'] > 500]\n",
    "print(states_with_more_than_500_customers)"
   ]
  },
  {
   "cell_type": "code",
   "execution_count": 5,
   "id": "f252e76c",
   "metadata": {},
   "outputs": [
    {
     "name": "stdout",
     "output_type": "stream",
     "text": [
      "              Education Gender          max          min       median\n",
      "0              Bachelor      F  73225.95652  1904.000852  5640.505303\n",
      "1              Bachelor      M  67907.27050  1898.007675  5548.031892\n",
      "2               College      F  61850.18803  1898.683686  5623.611187\n",
      "3               College      M  61134.68307  1918.119700  6005.847375\n",
      "4                Doctor      F  44856.11397  2395.570000  5332.462694\n",
      "5                Doctor      M  32677.34284  2267.604038  5577.669457\n",
      "6  High School or Below      F  55277.44589  2144.921535  6039.553187\n",
      "7  High School or Below      M  83325.38119  1940.981221  6286.731006\n",
      "8                Master      F  51016.06704  2417.777032  5729.855012\n",
      "9                Master      M  50568.25912  2272.307310  5579.099207\n"
     ]
    }
   ],
   "source": [
    "clv_stats = df.groupby(['Education', 'Gender'])['Customer Lifetime Value'].agg(['max', 'min', 'median']).reset_index()\n",
    "print(clv_stats)"
   ]
  },
  {
   "cell_type": "code",
   "execution_count": null,
   "id": "7f3eafae",
   "metadata": {},
   "outputs": [],
   "source": []
  }
 ],
 "metadata": {
  "colab": {
   "provenance": []
  },
  "kernelspec": {
   "display_name": "Python 3 (ipykernel)",
   "language": "python",
   "name": "python3"
  },
  "language_info": {
   "codemirror_mode": {
    "name": "ipython",
    "version": 3
   },
   "file_extension": ".py",
   "mimetype": "text/x-python",
   "name": "python",
   "nbconvert_exporter": "python",
   "pygments_lexer": "ipython3",
   "version": "3.11.7"
  }
 },
 "nbformat": 4,
 "nbformat_minor": 5
}
