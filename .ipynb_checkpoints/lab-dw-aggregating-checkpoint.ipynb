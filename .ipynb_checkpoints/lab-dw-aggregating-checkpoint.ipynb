{
 "cells": [
  {
   "cell_type": "markdown",
   "id": "31969215-2a90-4d8b-ac36-646a7ae13744",
   "metadata": {
    "id": "31969215-2a90-4d8b-ac36-646a7ae13744"
   },
   "source": [
    "# Lab | Data Aggregation and Filtering"
   ]
  },
  {
   "cell_type": "markdown",
   "id": "a8f08a52-bec0-439b-99cc-11d3809d8b5d",
   "metadata": {
    "id": "a8f08a52-bec0-439b-99cc-11d3809d8b5d"
   },
   "source": [
    "In this challenge, we will continue to work with customer data from an insurance company. We will use the dataset called marketing_customer_analysis.csv, which can be found at the following link:\n",
    "\n",
    "https://raw.githubusercontent.com/data-bootcamp-v4/data/main/marketing_customer_analysis.csv\n",
    "\n",
    "This dataset contains information such as customer demographics, policy details, vehicle information, and the customer's response to the last marketing campaign. Our goal is to explore and analyze this data by first performing data cleaning, formatting, and structuring."
   ]
  },
  {
   "cell_type": "markdown",
   "id": "9c98ddc5-b041-4c94-ada1-4dfee5c98e50",
   "metadata": {
    "id": "9c98ddc5-b041-4c94-ada1-4dfee5c98e50"
   },
   "source": [
    "1. Create a new DataFrame that only includes customers who have a total_claim_amount greater than $1,000 and have a response of \"Yes\" to the last marketing campaign."
   ]
  },
  {
   "cell_type": "markdown",
   "id": "b9be383e-5165-436e-80c8-57d4c757c8c3",
   "metadata": {
    "id": "b9be383e-5165-436e-80c8-57d4c757c8c3"
   },
   "source": [
    "2. Using the original Dataframe, analyze the average total_claim_amount by each policy type and gender for customers who have responded \"Yes\" to the last marketing campaign. Write your conclusions."
   ]
  },
  {
   "cell_type": "markdown",
   "id": "7050f4ac-53c5-4193-a3c0-8699b87196f0",
   "metadata": {
    "id": "7050f4ac-53c5-4193-a3c0-8699b87196f0"
   },
   "source": [
    "3. Analyze the total number of customers who have policies in each state, and then filter the results to only include states where there are more than 500 customers."
   ]
  },
  {
   "cell_type": "markdown",
   "id": "b60a4443-a1a7-4bbf-b78e-9ccdf9895e0d",
   "metadata": {
    "id": "b60a4443-a1a7-4bbf-b78e-9ccdf9895e0d"
   },
   "source": [
    "4. Find the maximum, minimum, and median customer lifetime value by education level and gender. Write your conclusions."
   ]
  },
  {
   "cell_type": "markdown",
   "id": "b42999f9-311f-481e-ae63-40a5577072c5",
   "metadata": {
    "id": "b42999f9-311f-481e-ae63-40a5577072c5"
   },
   "source": [
    "## Bonus"
   ]
  },
  {
   "cell_type": "markdown",
   "id": "81ff02c5-6584-4f21-a358-b918697c6432",
   "metadata": {
    "id": "81ff02c5-6584-4f21-a358-b918697c6432"
   },
   "source": [
    "5. The marketing team wants to analyze the number of policies sold by state and month. Present the data in a table where the months are arranged as columns and the states are arranged as rows."
   ]
  },
  {
   "cell_type": "markdown",
   "id": "b6aec097-c633-4017-a125-e77a97259cda",
   "metadata": {
    "id": "b6aec097-c633-4017-a125-e77a97259cda"
   },
   "source": [
    "6.  Display a new DataFrame that contains the number of policies sold by month, by state, for the top 3 states with the highest number of policies sold.\n",
    "\n",
    "*Hint:*\n",
    "- *To accomplish this, you will first need to group the data by state and month, then count the number of policies sold for each group. Afterwards, you will need to sort the data by the count of policies sold in descending order.*\n",
    "- *Next, you will select the top 3 states with the highest number of policies sold.*\n",
    "- *Finally, you will create a new DataFrame that contains the number of policies sold by month for each of the top 3 states.*"
   ]
  },
  {
   "cell_type": "markdown",
   "id": "ba975b8a-a2cf-4fbf-9f59-ebc381767009",
   "metadata": {
    "id": "ba975b8a-a2cf-4fbf-9f59-ebc381767009"
   },
   "source": [
    "7. The marketing team wants to analyze the effect of different marketing channels on the customer response rate.\n",
    "\n",
    "Hint: You can use melt to unpivot the data and create a table that shows the customer response rate (those who responded \"Yes\") by marketing channel."
   ]
  },
  {
   "cell_type": "markdown",
   "id": "e4378d94-48fb-4850-a802-b1bc8f427b2d",
   "metadata": {
    "id": "e4378d94-48fb-4850-a802-b1bc8f427b2d"
   },
   "source": [
    "External Resources for Data Filtering: https://towardsdatascience.com/filtering-data-frames-in-pandas-b570b1f834b9"
   ]
  },
  {
   "cell_type": "code",
   "execution_count": null,
   "id": "449513f4-0459-46a0-a18d-9398d974c9ad",
   "metadata": {
    "id": "449513f4-0459-46a0-a18d-9398d974c9ad"
   },
   "outputs": [],
   "source": [
    "# Exercise1\n",
    "# Cargar el archivo CSV\n",
    "url = 'https://raw.githubusercontent.com/data-bootcamp-v4/data/main/marketing_customer_analysis.csv'\n",
    "df = pd.read_csv(url)"
   ]
  },
  {
   "cell_type": "code",
   "execution_count": null,
   "id": "3e978564-3b5a-4ee0-976f-ce1dd7572afc",
   "metadata": {},
   "outputs": [],
   "source": [
    "#Answer1\n",
    "# Filtrar el DataFrame para los clientes que cumplen con las condiciones\n",
    "filtered_df = df[(df['total_claim_amount'] > 1000) & (df['response'] == 'Yes')]\n",
    "print(filtered_df)"
   ]
  },
  {
   "cell_type": "code",
   "execution_count": null,
   "id": "6f72cdbe-baed-4cd6-a30e-52b734848cd5",
   "metadata": {},
   "outputs": [],
   "source": [
    "#Answer2\n",
    "# Filtrar el DataFrame original para los que respondieron \"Yes\"\n",
    "responded_yes_df = df[df['response'] == 'Yes']\n",
    "\n",
    "# Calcular el total_claim_amount promedio por tipo de póliza y género\n",
    "average_claim = responded_yes_df.groupby(['policy_type', 'gender'])['total_claim_amount'].mean()\n",
    "print(average_claim)"
   ]
  },
  {
   "cell_type": "code",
   "execution_count": null,
   "id": "5eaca34c-b4a3-4802-b060-ae7e26dd8177",
   "metadata": {},
   "outputs": [],
   "source": [
    "#Answer3\n",
    "# Contar el número de clientes por estado\n",
    "customers_by_state = df['state'].value_counts()\n",
    "\n",
    "# Filtrar solo los estados con más de 500 clientes\n",
    "filtered_states = customers_by_state[customers_by_state > 500]\n",
    "print(filtered_states)"
   ]
  },
  {
   "cell_type": "code",
   "execution_count": null,
   "id": "45d85195-0948-4119-914a-09c7b97ea83b",
   "metadata": {},
   "outputs": [],
   "source": [
    "#Answer4\n",
    "# Agrupar por nivel de educación y género, y calcular las estadísticas de `customer_lifetime_value`\n",
    "clv_stats = df.groupby(['education', 'gender'])['customer_lifetime_value'].agg(['max', 'min', 'median'])\n",
    "print(clv_stats)"
   ]
  },
  {
   "cell_type": "code",
   "execution_count": null,
   "id": "3a86cfb8-48a0-4050-815b-2bd5889c4b74",
   "metadata": {},
   "outputs": [],
   "source": [
    "#Bonus\n",
    "policies_by_state_month = df.pivot_table(index='state', columns='month', values='policy_type', aggfunc='count')\n",
    "print(policies_by_state_month)"
   ]
  },
  {
   "cell_type": "code",
   "execution_count": null,
   "id": "44ff025b-4768-4ed5-9f81-779c41f025d7",
   "metadata": {},
   "outputs": [],
   "source": [
    "#Bonus\n",
    "# Agrupar por estado y mes y contar las pólizas\n",
    "state_month_sales = df.groupby(['state', 'month']).size().reset_index(name='policies_sold')\n",
    "\n",
    "# Ordenar y seleccionar los 3 estados con mayor número de pólizas\n",
    "top_states = state_month_sales.groupby('state')['policies_sold'].sum().nlargest(3).index\n",
    "top_states_sales = state_month_sales[state_month_sales['state'].isin(top_states)]\n",
    "\n",
    "# Pivotear la tabla para mostrar los meses en columnas\n",
    "top_states_pivot = top_states_sales.pivot(index='state', columns='month', values='policies_sold')\n",
    "print(top_states_pivot)"
   ]
  },
  {
   "cell_type": "code",
   "execution_count": null,
   "id": "c37bbcfe-85f1-4e20-9a7f-a9c5d142744a",
   "metadata": {},
   "outputs": [],
   "source": [
    "#Bonus\n",
    "# Seleccionar las columnas de respuesta y canales de marketing para el análisis\n",
    "marketing_channels = df[['response', 'channel1', 'channel2', 'channel3']]  # Ajustar los nombres de columnas si es necesario\n",
    "\n",
    "# Transformar los datos a formato largo y filtrar los que respondieron \"Yes\"\n",
    "melted = marketing_channels.melt(id_vars=['response'], var_name='channel', value_name='engaged')\n",
    "response_rate = melted[melted['response'] == 'Yes'].groupby('channel')['engaged'].mean()\n",
    "print(response_rate)"
   ]
  }
 ],
 "metadata": {
  "colab": {
   "provenance": []
  },
  "kernelspec": {
   "display_name": "Python 3 (ipykernel)",
   "language": "python",
   "name": "python3"
  },
  "language_info": {
   "codemirror_mode": {
    "name": "ipython",
    "version": 3
   },
   "file_extension": ".py",
   "mimetype": "text/x-python",
   "name": "python",
   "nbconvert_exporter": "python",
   "pygments_lexer": "ipython3",
   "version": "3.12.4"
  }
 },
 "nbformat": 4,
 "nbformat_minor": 5
}
