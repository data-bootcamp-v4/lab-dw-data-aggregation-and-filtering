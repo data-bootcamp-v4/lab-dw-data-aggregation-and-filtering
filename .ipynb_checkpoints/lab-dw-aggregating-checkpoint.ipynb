{
 "cells": [
  {
   "cell_type": "markdown",
   "id": "31969215-2a90-4d8b-ac36-646a7ae13744",
   "metadata": {
    "id": "31969215-2a90-4d8b-ac36-646a7ae13744"
   },
   "source": [
    "# Lab | Data Aggregation and Filtering"
   ]
  },
  {
   "cell_type": "markdown",
   "id": "a8f08a52-bec0-439b-99cc-11d3809d8b5d",
   "metadata": {
    "id": "a8f08a52-bec0-439b-99cc-11d3809d8b5d"
   },
   "source": [
    "In this challenge, we will continue to work with customer data from an insurance company. We will use the dataset called marketing_customer_analysis.csv, which can be found at the following link:\n",
    "\n",
    "https://raw.githubusercontent.com/data-bootcamp-v4/data/main/marketing_customer_analysis.csv\n",
    "\n",
    "This dataset contains information such as customer demographics, policy details, vehicle information, and the customer's response to the last marketing campaign. Our goal is to explore and analyze this data by first performing data cleaning, formatting, and structuring."
   ]
  },
  {
   "cell_type": "code",
   "execution_count": 1,
   "id": "3cb5d890",
   "metadata": {},
   "outputs": [],
   "source": [
    "import pandas as pd"
   ]
  },
  {
   "cell_type": "code",
   "execution_count": 2,
   "id": "1de94576",
   "metadata": {},
   "outputs": [],
   "source": [
    "df = pd.read_csv('https://raw.githubusercontent.com/data-bootcamp-v4/data/main/marketing_customer_analysis.csv')"
   ]
  },
  {
   "cell_type": "code",
   "execution_count": 3,
   "id": "ceb0be13",
   "metadata": {},
   "outputs": [
    {
     "data": {
      "text/plain": [
       "283660"
      ]
     },
     "execution_count": 3,
     "metadata": {},
     "output_type": "execute_result"
    }
   ],
   "source": [
    "df.size"
   ]
  },
  {
   "cell_type": "markdown",
   "id": "e9dc9aea",
   "metadata": {},
   "source": [
    "## Treat naming"
   ]
  },
  {
   "cell_type": "code",
   "execution_count": 4,
   "id": "69999275",
   "metadata": {},
   "outputs": [],
   "source": [
    "def format_columns(df):\n",
    "    df.columns = df.columns.str.strip().str.lower().str.replace(' ', '_')\n",
    "    df = df.rename(columns = {'employmentstatus': 'employment_status'})\n",
    "    return df\n",
    "\n",
    "def print_unique(df):\n",
    "    for column in ['response', 'coverage', 'education', 'employment_status', 'gender', 'location_code', 'marital_status',\n",
    "                   'policy', 'renew_offer_type', 'sales_channel', 'vehicle_class', 'vehicle_size', 'vehicle_type']:\n",
    "        print(f'{column}: {df[column].unique()}')\n",
    "\n",
    "def replace(df):\n",
    "    return df.replace({\n",
    "    'vehicle_size' : {'Medsize': 'Mid'},\n",
    "    'vehicle_class': {'Luxury SUV': 'Luxury', 'Luxury Car': 'Luxury', 'SUV': 'Luxury'}})"
   ]
  },
  {
   "cell_type": "code",
   "execution_count": 5,
   "id": "a4f1faf5",
   "metadata": {},
   "outputs": [],
   "source": [
    "df = format_columns(df)\n",
    "df = replace(df)\n",
    "df.drop('unnamed:_0', axis = 1, inplace = True)"
   ]
  },
  {
   "cell_type": "code",
   "execution_count": 6,
   "id": "2ef7cc9d",
   "metadata": {},
   "outputs": [
    {
     "name": "stdout",
     "output_type": "stream",
     "text": [
      "response: ['No' 'Yes' nan]\n",
      "coverage: ['Basic' 'Extended' 'Premium']\n",
      "education: ['College' 'Bachelor' 'High School or Below' 'Doctor' 'Master']\n",
      "employment_status: ['Employed' 'Unemployed' 'Medical Leave' 'Disabled' 'Retired']\n",
      "gender: ['M' 'F']\n",
      "location_code: ['Suburban' 'Urban' 'Rural']\n",
      "marital_status: ['Married' 'Single' 'Divorced']\n",
      "policy: ['Corporate L3' 'Personal L3' 'Personal L2' 'Corporate L2' 'Personal L1'\n",
      " 'Special L1' 'Corporate L1' 'Special L3' 'Special L2']\n",
      "renew_offer_type: ['Offer3' 'Offer4' 'Offer2' 'Offer1']\n",
      "sales_channel: ['Agent' 'Call Center' 'Branch' 'Web']\n",
      "vehicle_class: ['Four-Door Car' 'Luxury' 'Two-Door Car' 'Sports Car' nan]\n",
      "vehicle_size: ['Mid' 'Small' 'Large' nan]\n",
      "vehicle_type: [nan 'A']\n"
     ]
    },
    {
     "data": {
      "text/html": [
       "<div>\n",
       "<style scoped>\n",
       "    .dataframe tbody tr th:only-of-type {\n",
       "        vertical-align: middle;\n",
       "    }\n",
       "\n",
       "    .dataframe tbody tr th {\n",
       "        vertical-align: top;\n",
       "    }\n",
       "\n",
       "    .dataframe thead th {\n",
       "        text-align: right;\n",
       "    }\n",
       "</style>\n",
       "<table border=\"1\" class=\"dataframe\">\n",
       "  <thead>\n",
       "    <tr style=\"text-align: right;\">\n",
       "      <th></th>\n",
       "      <th>customer</th>\n",
       "      <th>state</th>\n",
       "      <th>customer_lifetime_value</th>\n",
       "      <th>response</th>\n",
       "      <th>coverage</th>\n",
       "      <th>education</th>\n",
       "      <th>effective_to_date</th>\n",
       "      <th>employment_status</th>\n",
       "      <th>gender</th>\n",
       "      <th>income</th>\n",
       "      <th>...</th>\n",
       "      <th>number_of_open_complaints</th>\n",
       "      <th>number_of_policies</th>\n",
       "      <th>policy_type</th>\n",
       "      <th>policy</th>\n",
       "      <th>renew_offer_type</th>\n",
       "      <th>sales_channel</th>\n",
       "      <th>total_claim_amount</th>\n",
       "      <th>vehicle_class</th>\n",
       "      <th>vehicle_size</th>\n",
       "      <th>vehicle_type</th>\n",
       "    </tr>\n",
       "  </thead>\n",
       "  <tbody>\n",
       "    <tr>\n",
       "      <th>0</th>\n",
       "      <td>DK49336</td>\n",
       "      <td>Arizona</td>\n",
       "      <td>4809.216960</td>\n",
       "      <td>No</td>\n",
       "      <td>Basic</td>\n",
       "      <td>College</td>\n",
       "      <td>2/18/11</td>\n",
       "      <td>Employed</td>\n",
       "      <td>M</td>\n",
       "      <td>48029</td>\n",
       "      <td>...</td>\n",
       "      <td>0.0</td>\n",
       "      <td>9</td>\n",
       "      <td>Corporate Auto</td>\n",
       "      <td>Corporate L3</td>\n",
       "      <td>Offer3</td>\n",
       "      <td>Agent</td>\n",
       "      <td>292.800000</td>\n",
       "      <td>Four-Door Car</td>\n",
       "      <td>Mid</td>\n",
       "      <td>NaN</td>\n",
       "    </tr>\n",
       "    <tr>\n",
       "      <th>1</th>\n",
       "      <td>KX64629</td>\n",
       "      <td>California</td>\n",
       "      <td>2228.525238</td>\n",
       "      <td>No</td>\n",
       "      <td>Basic</td>\n",
       "      <td>College</td>\n",
       "      <td>1/18/11</td>\n",
       "      <td>Unemployed</td>\n",
       "      <td>F</td>\n",
       "      <td>0</td>\n",
       "      <td>...</td>\n",
       "      <td>0.0</td>\n",
       "      <td>1</td>\n",
       "      <td>Personal Auto</td>\n",
       "      <td>Personal L3</td>\n",
       "      <td>Offer4</td>\n",
       "      <td>Call Center</td>\n",
       "      <td>744.924331</td>\n",
       "      <td>Four-Door Car</td>\n",
       "      <td>Mid</td>\n",
       "      <td>NaN</td>\n",
       "    </tr>\n",
       "  </tbody>\n",
       "</table>\n",
       "<p>2 rows × 25 columns</p>\n",
       "</div>"
      ],
      "text/plain": [
       "  customer       state  customer_lifetime_value response coverage education  \\\n",
       "0  DK49336     Arizona              4809.216960       No    Basic   College   \n",
       "1  KX64629  California              2228.525238       No    Basic   College   \n",
       "\n",
       "  effective_to_date employment_status gender  income  ...  \\\n",
       "0           2/18/11          Employed      M   48029  ...   \n",
       "1           1/18/11        Unemployed      F       0  ...   \n",
       "\n",
       "  number_of_open_complaints number_of_policies     policy_type        policy  \\\n",
       "0                       0.0                  9  Corporate Auto  Corporate L3   \n",
       "1                       0.0                  1   Personal Auto   Personal L3   \n",
       "\n",
       "   renew_offer_type  sales_channel  total_claim_amount  vehicle_class  \\\n",
       "0            Offer3          Agent          292.800000  Four-Door Car   \n",
       "1            Offer4    Call Center          744.924331  Four-Door Car   \n",
       "\n",
       "  vehicle_size vehicle_type  \n",
       "0          Mid          NaN  \n",
       "1          Mid          NaN  \n",
       "\n",
       "[2 rows x 25 columns]"
      ]
     },
     "execution_count": 6,
     "metadata": {},
     "output_type": "execute_result"
    }
   ],
   "source": [
    "print_unique(df) # all okay except vehicle_class\n",
    "df.head(2)"
   ]
  },
  {
   "cell_type": "markdown",
   "id": "91313b6e",
   "metadata": {},
   "source": [
    "## Treat NaN values"
   ]
  },
  {
   "cell_type": "code",
   "execution_count": 7,
   "id": "2c764d06",
   "metadata": {},
   "outputs": [
    {
     "name": "stdout",
     "output_type": "stream",
     "text": [
      "customer                            0\n",
      "state                             631\n",
      "customer_lifetime_value             0\n",
      "response                          631\n",
      "coverage                            0\n",
      "education                           0\n",
      "effective_to_date                   0\n",
      "employment_status                   0\n",
      "gender                              0\n",
      "income                              0\n",
      "location_code                       0\n",
      "marital_status                      0\n",
      "monthly_premium_auto                0\n",
      "months_since_last_claim           633\n",
      "months_since_policy_inception       0\n",
      "number_of_open_complaints         633\n",
      "number_of_policies                  0\n",
      "policy_type                         0\n",
      "policy                              0\n",
      "renew_offer_type                    0\n",
      "sales_channel                       0\n",
      "total_claim_amount                  0\n",
      "vehicle_class                     622\n",
      "vehicle_size                      622\n",
      "vehicle_type                     5482\n",
      "dtype: int64\n"
     ]
    }
   ],
   "source": [
    "print(df.isnull().sum())"
   ]
  },
  {
   "cell_type": "code",
   "execution_count": 8,
   "id": "3311a824",
   "metadata": {},
   "outputs": [],
   "source": [
    "# drop Nan responses since these are just a few rows compared to the size of the dataset and I dont want skew the dataframe for exercise 1\n",
    "# the state Nan also disappear by doing that, it seems that there is generally data missing in these rows\n",
    "#df.dropna(subset = 'response', inplace = True) \n",
    "\n",
    "# drop these two rows aswell because the left columns with Nan values all have suspiciously the same sum\n",
    "#df.dropna(subset = 'vehicle_class', inplace = True)\n",
    "#df.dropna(subset = 'months_since_last_claim', inplace = True)\n",
    "#print(df.isnull().sum())"
   ]
  },
  {
   "cell_type": "code",
   "execution_count": 9,
   "id": "8f319746",
   "metadata": {},
   "outputs": [],
   "source": [
    "# use mode for the vehicle type columns containing NaN values since the sum of missing values is not much compared to over 200,000 customers\n",
    "def fill_nan(df):\n",
    "    for column in ['state', 'response', 'vehicle_class', 'months_since_last_claim', 'vehicle_size', \n",
    "                   'number_of_open_complaints', 'vehicle_type']:\n",
    "        df[column] = df[column].fillna(df[column].mode()[0])\n",
    "    return df"
   ]
  },
  {
   "cell_type": "code",
   "execution_count": 10,
   "id": "f663404e",
   "metadata": {},
   "outputs": [
    {
     "name": "stdout",
     "output_type": "stream",
     "text": [
      "customer                         0\n",
      "state                            0\n",
      "customer_lifetime_value          0\n",
      "response                         0\n",
      "coverage                         0\n",
      "education                        0\n",
      "effective_to_date                0\n",
      "employment_status                0\n",
      "gender                           0\n",
      "income                           0\n",
      "location_code                    0\n",
      "marital_status                   0\n",
      "monthly_premium_auto             0\n",
      "months_since_last_claim          0\n",
      "months_since_policy_inception    0\n",
      "number_of_open_complaints        0\n",
      "number_of_policies               0\n",
      "policy_type                      0\n",
      "policy                           0\n",
      "renew_offer_type                 0\n",
      "sales_channel                    0\n",
      "total_claim_amount               0\n",
      "vehicle_class                    0\n",
      "vehicle_size                     0\n",
      "vehicle_type                     0\n",
      "dtype: int64\n"
     ]
    }
   ],
   "source": [
    "df = fill_nan(df)\n",
    "print(df.isnull().sum())"
   ]
  },
  {
   "cell_type": "markdown",
   "id": "c2102ac1",
   "metadata": {},
   "source": [
    "## Convert floats to integers"
   ]
  },
  {
   "cell_type": "code",
   "execution_count": 11,
   "id": "9c9f2fef",
   "metadata": {},
   "outputs": [
    {
     "data": {
      "text/plain": [
       "customer                          object\n",
       "state                             object\n",
       "customer_lifetime_value          float64\n",
       "response                          object\n",
       "coverage                          object\n",
       "education                         object\n",
       "effective_to_date                 object\n",
       "employment_status                 object\n",
       "gender                            object\n",
       "income                             int64\n",
       "location_code                     object\n",
       "marital_status                    object\n",
       "monthly_premium_auto               int64\n",
       "months_since_last_claim          float64\n",
       "months_since_policy_inception      int64\n",
       "number_of_open_complaints        float64\n",
       "number_of_policies                 int64\n",
       "policy_type                       object\n",
       "policy                            object\n",
       "renew_offer_type                  object\n",
       "sales_channel                     object\n",
       "total_claim_amount               float64\n",
       "vehicle_class                     object\n",
       "vehicle_size                      object\n",
       "vehicle_type                      object\n",
       "dtype: object"
      ]
     },
     "execution_count": 11,
     "metadata": {},
     "output_type": "execute_result"
    }
   ],
   "source": [
    "df.dtypes\n",
    "# customer_lifetime_value, number_of_open_complaints, total_claim_amount to integer"
   ]
  },
  {
   "cell_type": "code",
   "execution_count": 12,
   "id": "fb8fc157",
   "metadata": {},
   "outputs": [],
   "source": [
    "def float_to_integers(df):\n",
    "    df['total_claim_amount'] = df['total_claim_amount'].apply(int)\n",
    "    df['customer_lifetime_value'] = df['customer_lifetime_value'].apply(int)\n",
    "    df['months_since_last_claim'] = df['months_since_last_claim'].apply(int)\n",
    "    df['number_of_open_complaints'] = df['number_of_open_complaints'].apply(int)\n",
    "    return df"
   ]
  },
  {
   "cell_type": "code",
   "execution_count": 13,
   "id": "8368f824",
   "metadata": {},
   "outputs": [
    {
     "data": {
      "text/plain": [
       "customer                         object\n",
       "state                            object\n",
       "customer_lifetime_value           int64\n",
       "response                         object\n",
       "coverage                         object\n",
       "education                        object\n",
       "effective_to_date                object\n",
       "employment_status                object\n",
       "gender                           object\n",
       "income                            int64\n",
       "location_code                    object\n",
       "marital_status                   object\n",
       "monthly_premium_auto              int64\n",
       "months_since_last_claim           int64\n",
       "months_since_policy_inception     int64\n",
       "number_of_open_complaints         int64\n",
       "number_of_policies                int64\n",
       "policy_type                      object\n",
       "policy                           object\n",
       "renew_offer_type                 object\n",
       "sales_channel                    object\n",
       "total_claim_amount                int64\n",
       "vehicle_class                    object\n",
       "vehicle_size                     object\n",
       "vehicle_type                     object\n",
       "dtype: object"
      ]
     },
     "execution_count": 13,
     "metadata": {},
     "output_type": "execute_result"
    }
   ],
   "source": [
    "df = float_to_integers(df)\n",
    "df.dtypes"
   ]
  },
  {
   "cell_type": "markdown",
   "id": "c9d0937d",
   "metadata": {},
   "source": [
    "1. Create a new DataFrame that only includes customers who have a total_claim_amount greater than $1,000 and have a response of \"Yes\" to the last marketing campaign."
   ]
  },
  {
   "cell_type": "code",
   "execution_count": 14,
   "id": "776639c4",
   "metadata": {},
   "outputs": [
    {
     "data": {
      "text/html": [
       "<div>\n",
       "<style scoped>\n",
       "    .dataframe tbody tr th:only-of-type {\n",
       "        vertical-align: middle;\n",
       "    }\n",
       "\n",
       "    .dataframe tbody tr th {\n",
       "        vertical-align: top;\n",
       "    }\n",
       "\n",
       "    .dataframe thead th {\n",
       "        text-align: right;\n",
       "    }\n",
       "</style>\n",
       "<table border=\"1\" class=\"dataframe\">\n",
       "  <thead>\n",
       "    <tr style=\"text-align: right;\">\n",
       "      <th></th>\n",
       "      <th>customer</th>\n",
       "      <th>state</th>\n",
       "      <th>customer_lifetime_value</th>\n",
       "      <th>response</th>\n",
       "      <th>coverage</th>\n",
       "      <th>education</th>\n",
       "      <th>effective_to_date</th>\n",
       "      <th>employment_status</th>\n",
       "      <th>gender</th>\n",
       "      <th>income</th>\n",
       "      <th>...</th>\n",
       "      <th>number_of_open_complaints</th>\n",
       "      <th>number_of_policies</th>\n",
       "      <th>policy_type</th>\n",
       "      <th>policy</th>\n",
       "      <th>renew_offer_type</th>\n",
       "      <th>sales_channel</th>\n",
       "      <th>total_claim_amount</th>\n",
       "      <th>vehicle_class</th>\n",
       "      <th>vehicle_size</th>\n",
       "      <th>vehicle_type</th>\n",
       "    </tr>\n",
       "  </thead>\n",
       "  <tbody>\n",
       "    <tr>\n",
       "      <th>189</th>\n",
       "      <td>OK31456</td>\n",
       "      <td>California</td>\n",
       "      <td>11009</td>\n",
       "      <td>Yes</td>\n",
       "      <td>Premium</td>\n",
       "      <td>Bachelor</td>\n",
       "      <td>1/24/11</td>\n",
       "      <td>Employed</td>\n",
       "      <td>F</td>\n",
       "      <td>51643</td>\n",
       "      <td>...</td>\n",
       "      <td>0</td>\n",
       "      <td>1</td>\n",
       "      <td>Corporate Auto</td>\n",
       "      <td>Corporate L3</td>\n",
       "      <td>Offer2</td>\n",
       "      <td>Agent</td>\n",
       "      <td>1358</td>\n",
       "      <td>Luxury</td>\n",
       "      <td>Mid</td>\n",
       "      <td>A</td>\n",
       "    </tr>\n",
       "    <tr>\n",
       "      <th>236</th>\n",
       "      <td>YJ16163</td>\n",
       "      <td>Oregon</td>\n",
       "      <td>11009</td>\n",
       "      <td>Yes</td>\n",
       "      <td>Premium</td>\n",
       "      <td>Bachelor</td>\n",
       "      <td>1/24/11</td>\n",
       "      <td>Employed</td>\n",
       "      <td>F</td>\n",
       "      <td>51643</td>\n",
       "      <td>...</td>\n",
       "      <td>0</td>\n",
       "      <td>1</td>\n",
       "      <td>Special Auto</td>\n",
       "      <td>Special L3</td>\n",
       "      <td>Offer2</td>\n",
       "      <td>Agent</td>\n",
       "      <td>1358</td>\n",
       "      <td>Luxury</td>\n",
       "      <td>Mid</td>\n",
       "      <td>A</td>\n",
       "    </tr>\n",
       "    <tr>\n",
       "      <th>419</th>\n",
       "      <td>GW43195</td>\n",
       "      <td>Oregon</td>\n",
       "      <td>25807</td>\n",
       "      <td>Yes</td>\n",
       "      <td>Extended</td>\n",
       "      <td>College</td>\n",
       "      <td>2/13/11</td>\n",
       "      <td>Employed</td>\n",
       "      <td>F</td>\n",
       "      <td>71210</td>\n",
       "      <td>...</td>\n",
       "      <td>1</td>\n",
       "      <td>2</td>\n",
       "      <td>Personal Auto</td>\n",
       "      <td>Personal L2</td>\n",
       "      <td>Offer1</td>\n",
       "      <td>Branch</td>\n",
       "      <td>1027</td>\n",
       "      <td>Luxury</td>\n",
       "      <td>Small</td>\n",
       "      <td>A</td>\n",
       "    </tr>\n",
       "    <tr>\n",
       "      <th>442</th>\n",
       "      <td>IP94270</td>\n",
       "      <td>Arizona</td>\n",
       "      <td>13736</td>\n",
       "      <td>Yes</td>\n",
       "      <td>Premium</td>\n",
       "      <td>Master</td>\n",
       "      <td>2/13/11</td>\n",
       "      <td>Disabled</td>\n",
       "      <td>F</td>\n",
       "      <td>16181</td>\n",
       "      <td>...</td>\n",
       "      <td>0</td>\n",
       "      <td>8</td>\n",
       "      <td>Personal Auto</td>\n",
       "      <td>Personal L2</td>\n",
       "      <td>Offer1</td>\n",
       "      <td>Web</td>\n",
       "      <td>1261</td>\n",
       "      <td>Luxury</td>\n",
       "      <td>Mid</td>\n",
       "      <td>A</td>\n",
       "    </tr>\n",
       "    <tr>\n",
       "      <th>587</th>\n",
       "      <td>FJ28407</td>\n",
       "      <td>California</td>\n",
       "      <td>5619</td>\n",
       "      <td>Yes</td>\n",
       "      <td>Premium</td>\n",
       "      <td>High School or Below</td>\n",
       "      <td>1/26/11</td>\n",
       "      <td>Unemployed</td>\n",
       "      <td>M</td>\n",
       "      <td>0</td>\n",
       "      <td>...</td>\n",
       "      <td>0</td>\n",
       "      <td>1</td>\n",
       "      <td>Personal Auto</td>\n",
       "      <td>Personal L1</td>\n",
       "      <td>Offer2</td>\n",
       "      <td>Web</td>\n",
       "      <td>1027</td>\n",
       "      <td>Luxury</td>\n",
       "      <td>Mid</td>\n",
       "      <td>A</td>\n",
       "    </tr>\n",
       "  </tbody>\n",
       "</table>\n",
       "<p>5 rows × 25 columns</p>\n",
       "</div>"
      ],
      "text/plain": [
       "    customer       state  customer_lifetime_value response  coverage  \\\n",
       "189  OK31456  California                    11009      Yes   Premium   \n",
       "236  YJ16163      Oregon                    11009      Yes   Premium   \n",
       "419  GW43195      Oregon                    25807      Yes  Extended   \n",
       "442  IP94270     Arizona                    13736      Yes   Premium   \n",
       "587  FJ28407  California                     5619      Yes   Premium   \n",
       "\n",
       "                education effective_to_date employment_status gender  income  \\\n",
       "189              Bachelor           1/24/11          Employed      F   51643   \n",
       "236              Bachelor           1/24/11          Employed      F   51643   \n",
       "419               College           2/13/11          Employed      F   71210   \n",
       "442                Master           2/13/11          Disabled      F   16181   \n",
       "587  High School or Below           1/26/11        Unemployed      M       0   \n",
       "\n",
       "     ... number_of_open_complaints number_of_policies     policy_type  \\\n",
       "189  ...                         0                  1  Corporate Auto   \n",
       "236  ...                         0                  1    Special Auto   \n",
       "419  ...                         1                  2   Personal Auto   \n",
       "442  ...                         0                  8   Personal Auto   \n",
       "587  ...                         0                  1   Personal Auto   \n",
       "\n",
       "           policy  renew_offer_type  sales_channel  total_claim_amount  \\\n",
       "189  Corporate L3            Offer2          Agent                1358   \n",
       "236    Special L3            Offer2          Agent                1358   \n",
       "419   Personal L2            Offer1         Branch                1027   \n",
       "442   Personal L2            Offer1            Web                1261   \n",
       "587   Personal L1            Offer2            Web                1027   \n",
       "\n",
       "    vehicle_class vehicle_size vehicle_type  \n",
       "189        Luxury          Mid            A  \n",
       "236        Luxury          Mid            A  \n",
       "419        Luxury        Small            A  \n",
       "442        Luxury          Mid            A  \n",
       "587        Luxury          Mid            A  \n",
       "\n",
       "[5 rows x 25 columns]"
      ]
     },
     "execution_count": 14,
     "metadata": {},
     "output_type": "execute_result"
    }
   ],
   "source": [
    "new_df1 = df[(df['total_claim_amount'] > 1000) & (df['response'] == 'Yes')]\n",
    "new_df1.head(5)"
   ]
  },
  {
   "cell_type": "markdown",
   "id": "b9be383e-5165-436e-80c8-57d4c757c8c3",
   "metadata": {
    "id": "b9be383e-5165-436e-80c8-57d4c757c8c3"
   },
   "source": [
    "2. Using the original Dataframe, analyze the average total_claim_amount by each policy type and gender for customers who have responded \"Yes\" to the last marketing campaign. Write your conclusions."
   ]
  },
  {
   "cell_type": "code",
   "execution_count": 15,
   "id": "bf512498",
   "metadata": {},
   "outputs": [
    {
     "data": {
      "text/plain": [
       "policy_type     gender\n",
       "Corporate Auto  F         433.295858\n",
       "                M         408.123377\n",
       "Personal Auto   F         452.498148\n",
       "                M         456.576493\n",
       "Special Auto    F         452.857143\n",
       "                M         429.125000\n",
       "Name: total_claim_amount, dtype: float64"
      ]
     },
     "execution_count": 15,
     "metadata": {},
     "output_type": "execute_result"
    }
   ],
   "source": [
    "new_df2 = df[(df['response'] == 'Yes')]\n",
    "new_df2.groupby(['policy_type', 'gender'])['total_claim_amount'].mean()\n",
    "# On average, all policy types have equal claim amounts.\n",
    "# Females and males don't have a huge difference in claim amounts though females seem \n",
    "# to claim a bit more in the coporate and special auto policies, on average."
   ]
  },
  {
   "cell_type": "markdown",
   "id": "7050f4ac-53c5-4193-a3c0-8699b87196f0",
   "metadata": {
    "id": "7050f4ac-53c5-4193-a3c0-8699b87196f0"
   },
   "source": [
    "3. Analyze the total number of customers who have policies in each state, and then filter the results to only include states where there are more than 500 customers."
   ]
  },
  {
   "cell_type": "code",
   "execution_count": 20,
   "id": "9b62b887",
   "metadata": {},
   "outputs": [
    {
     "data": {
      "text/plain": [
       "state\n",
       "Arizona       1937\n",
       "California    4183\n",
       "Nevada         993\n",
       "Oregon        2909\n",
       "Washington     888\n",
       "dtype: int64"
      ]
     },
     "execution_count": 20,
     "metadata": {},
     "output_type": "execute_result"
    }
   ],
   "source": [
    "grouped = df.groupby('state')\n",
    "grouped.size() # all states have more than 500 customers"
   ]
  },
  {
   "cell_type": "markdown",
   "id": "b60a4443-a1a7-4bbf-b78e-9ccdf9895e0d",
   "metadata": {
    "id": "b60a4443-a1a7-4bbf-b78e-9ccdf9895e0d"
   },
   "source": [
    "4. Find the maximum, minimum, and median customer lifetime value by education level and gender. Write your conclusions."
   ]
  },
  {
   "cell_type": "code",
   "execution_count": 25,
   "id": "52a4c01e",
   "metadata": {},
   "outputs": [
    {
     "name": "stdout",
     "output_type": "stream",
     "text": [
      "education             gender\n",
      "Bachelor              F         73225\n",
      "                      M         67907\n",
      "College               F         61850\n",
      "                      M         61134\n",
      "Doctor                F         44856\n",
      "                      M         32677\n",
      "High School or Below  F         55277\n",
      "                      M         83325\n",
      "Master                F         51016\n",
      "                      M         50568\n",
      "Name: customer_lifetime_value, dtype: int64\n",
      "\n",
      "\n",
      "education             gender\n",
      "Bachelor              F         1904\n",
      "                      M         1898\n",
      "College               F         1898\n",
      "                      M         1918\n",
      "Doctor                F         2395\n",
      "                      M         2267\n",
      "High School or Below  F         2144\n",
      "                      M         1940\n",
      "Master                F         2417\n",
      "                      M         2272\n",
      "Name: customer_lifetime_value, dtype: int64\n",
      "\n",
      "\n",
      "education             gender\n",
      "Bachelor              F         5640.0\n",
      "                      M         5548.0\n",
      "College               F         5623.0\n",
      "                      M         6005.0\n",
      "Doctor                F         5332.0\n",
      "                      M         5577.0\n",
      "High School or Below  F         6039.5\n",
      "                      M         6286.5\n",
      "Master                F         5729.0\n",
      "                      M         5578.5\n",
      "Name: customer_lifetime_value, dtype: float64\n"
     ]
    }
   ],
   "source": [
    "max_total_revenue = df.groupby(['education', 'gender'])['customer_lifetime_value'].max()\n",
    "min_total_revenue = df.groupby(['education', 'gender'])['customer_lifetime_value'].min()\n",
    "med_total_revenue = df.groupby(['education', 'gender'])['customer_lifetime_value'].median()\n",
    "\n",
    "print(max_total_revenue) \n",
    "# The maximum total revenues range between 50,000 and 80,000$.\n",
    "# The maximum female total revenue is slightly higher or almost equal for all education level except High School or Below.\n",
    "# The maxmium male total revenue is 30,000$ higher for this education.\n",
    "print('\\n')\n",
    "print(min_total_revenue)\n",
    "# The minimum total revenues range around 2,000$.\n",
    "# The male and female total revenues are almost equal.\n",
    "print('\\n')\n",
    "print(med_total_revenue)\n",
    "# The median total revenues range between 5,000 and 6,000$.\n",
    "# The male and female medians are very similar while the female total revenue is higher for customers with a Bachelors and Masters degree. "
   ]
  },
  {
   "cell_type": "markdown",
   "id": "b42999f9-311f-481e-ae63-40a5577072c5",
   "metadata": {
    "id": "b42999f9-311f-481e-ae63-40a5577072c5"
   },
   "source": [
    "## Bonus"
   ]
  },
  {
   "cell_type": "markdown",
   "id": "81ff02c5-6584-4f21-a358-b918697c6432",
   "metadata": {
    "id": "81ff02c5-6584-4f21-a358-b918697c6432"
   },
   "source": [
    "5. The marketing team wants to analyze the number of policies sold by state and month. Present the data in a table where the months are arranged as columns and the states are arranged as rows."
   ]
  },
  {
   "cell_type": "markdown",
   "id": "b6aec097-c633-4017-a125-e77a97259cda",
   "metadata": {
    "id": "b6aec097-c633-4017-a125-e77a97259cda"
   },
   "source": [
    "6.  Display a new DataFrame that contains the number of policies sold by month, by state, for the top 3 states with the highest number of policies sold.\n",
    "\n",
    "*Hint:*\n",
    "- *To accomplish this, you will first need to group the data by state and month, then count the number of policies sold for each group. Afterwards, you will need to sort the data by the count of policies sold in descending order.*\n",
    "- *Next, you will select the top 3 states with the highest number of policies sold.*\n",
    "- *Finally, you will create a new DataFrame that contains the number of policies sold by month for each of the top 3 states.*"
   ]
  },
  {
   "cell_type": "markdown",
   "id": "ba975b8a-a2cf-4fbf-9f59-ebc381767009",
   "metadata": {
    "id": "ba975b8a-a2cf-4fbf-9f59-ebc381767009"
   },
   "source": [
    "7. The marketing team wants to analyze the effect of different marketing channels on the customer response rate.\n",
    "\n",
    "Hint: You can use melt to unpivot the data and create a table that shows the customer response rate (those who responded \"Yes\") by marketing channel."
   ]
  },
  {
   "cell_type": "markdown",
   "id": "e4378d94-48fb-4850-a802-b1bc8f427b2d",
   "metadata": {
    "id": "e4378d94-48fb-4850-a802-b1bc8f427b2d"
   },
   "source": [
    "External Resources for Data Filtering: https://towardsdatascience.com/filtering-data-frames-in-pandas-b570b1f834b9"
   ]
  },
  {
   "cell_type": "code",
   "execution_count": null,
   "id": "449513f4-0459-46a0-a18d-9398d974c9ad",
   "metadata": {
    "id": "449513f4-0459-46a0-a18d-9398d974c9ad"
   },
   "outputs": [],
   "source": [
    "# your code goes here"
   ]
  }
 ],
 "metadata": {
  "colab": {
   "provenance": []
  },
  "kernelspec": {
   "display_name": "Python 3 (ipykernel)",
   "language": "python",
   "name": "python3"
  },
  "language_info": {
   "codemirror_mode": {
    "name": "ipython",
    "version": 3
   },
   "file_extension": ".py",
   "mimetype": "text/x-python",
   "name": "python",
   "nbconvert_exporter": "python",
   "pygments_lexer": "ipython3",
   "version": "3.9.13"
  }
 },
 "nbformat": 4,
 "nbformat_minor": 5
}
