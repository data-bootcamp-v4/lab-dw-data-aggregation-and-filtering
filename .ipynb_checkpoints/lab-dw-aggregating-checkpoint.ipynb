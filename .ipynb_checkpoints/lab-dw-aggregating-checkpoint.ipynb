{
 "cells": [
  {
   "cell_type": "markdown",
   "id": "31969215-2a90-4d8b-ac36-646a7ae13744",
   "metadata": {
    "id": "31969215-2a90-4d8b-ac36-646a7ae13744"
   },
   "source": [
    "# Lab | Data Aggregation and Filtering"
   ]
  },
  {
   "cell_type": "markdown",
   "id": "a8f08a52-bec0-439b-99cc-11d3809d8b5d",
   "metadata": {
    "id": "a8f08a52-bec0-439b-99cc-11d3809d8b5d"
   },
   "source": [
    "In this challenge, we will continue to work with customer data from an insurance company. We will use the dataset called marketing_customer_analysis.csv, which can be found at the following link:\n",
    "\n",
    "https://raw.githubusercontent.com/data-bootcamp-v4/data/main/marketing_customer_analysis.csv\n",
    "\n",
    "This dataset contains information such as customer demographics, policy details, vehicle information, and the customer's response to the last marketing campaign. Our goal is to explore and analyze this data by first performing data cleaning, formatting, and structuring."
   ]
  },
  {
   "cell_type": "markdown",
   "id": "9c98ddc5-b041-4c94-ada1-4dfee5c98e50",
   "metadata": {
    "id": "9c98ddc5-b041-4c94-ada1-4dfee5c98e50"
   },
   "source": [
    "1. Create a new DataFrame that only includes customers who have a total_claim_amount greater than $1,000 and have a response of \"Yes\" to the last marketing campaign."
   ]
  },
  {
   "cell_type": "markdown",
   "id": "b9be383e-5165-436e-80c8-57d4c757c8c3",
   "metadata": {
    "id": "b9be383e-5165-436e-80c8-57d4c757c8c3"
   },
   "source": [
    "2. Using the original Dataframe, analyze the average total_claim_amount by each policy type and gender for customers who have responded \"Yes\" to the last marketing campaign. Write your conclusions."
   ]
  },
  {
   "cell_type": "markdown",
   "id": "7050f4ac-53c5-4193-a3c0-8699b87196f0",
   "metadata": {
    "id": "7050f4ac-53c5-4193-a3c0-8699b87196f0"
   },
   "source": [
    "3. Analyze the total number of customers who have policies in each state, and then filter the results to only include states where there are more than 500 customers."
   ]
  },
  {
   "cell_type": "markdown",
   "id": "b60a4443-a1a7-4bbf-b78e-9ccdf9895e0d",
   "metadata": {
    "id": "b60a4443-a1a7-4bbf-b78e-9ccdf9895e0d"
   },
   "source": [
    "4. Find the maximum, minimum, and median customer lifetime value by education level and gender. Write your conclusions."
   ]
  },
  {
   "cell_type": "code",
   "execution_count": 1,
   "id": "4afc7b82-9d66-4120-a409-3d06df6bbc28",
   "metadata": {},
   "outputs": [],
   "source": [
    "# 1\n",
    "\n",
    "import pandas as pd\n",
    "\n",
    "# Load the dataset\n",
    "file_path = \"https://raw.githubusercontent.com/data-bootcamp-v4/data/main/marketing_customer_analysis.csv\" \n",
    "marketing_data = pd.read_csv(file_path)\n",
    "\n",
    "# Standardize column names for consistency\n",
    "marketing_data.columns = (\n",
    "    marketing_data.columns.str.lower()\n",
    "                  .str.replace(\" \", \"_\")\n",
    ")\n",
    "\n",
    "# Filter customers with total_claim_amount > 1000 and response = \"Yes\"\n",
    "high_claim_responders = marketing_data[\n",
    "    (marketing_data[\"total_claim_amount\"] > 1000) & \n",
    "    (marketing_data[\"response\"].str.lower() == \"yes\")\n",
    "]"
   ]
  },
  {
   "cell_type": "code",
   "execution_count": 2,
   "id": "70a1e341-5e59-445e-919b-0baf264510a3",
   "metadata": {},
   "outputs": [],
   "source": [
    "# 2\n",
    "\n",
    "# Analyze average total_claim_amount by policy type and gender for responders\n",
    "claim_analysis = marketing_data[marketing_data[\"response\"].str.lower() == \"yes\"].pivot_table(\n",
    "    index=\"policy_type\",\n",
    "    columns=\"gender\",\n",
    "    values=\"total_claim_amount\",\n",
    "    aggfunc=\"mean\"\n",
    ").round(2)\n"
   ]
  },
  {
   "cell_type": "code",
   "execution_count": 3,
   "id": "7027b200-c46c-4172-9b9e-fdf9fcbd41be",
   "metadata": {},
   "outputs": [],
   "source": [
    "# 3 \n",
    "\n",
    "# Count number of customers in each state and filter for states with more than 500 customers\n",
    "state_customer_counts = marketing_data[\"state\"].value_counts()\n",
    "states_over_500_customers = state_customer_counts[state_customer_counts > 500]\n"
   ]
  },
  {
   "cell_type": "code",
   "execution_count": 4,
   "id": "d3fd0f20-10ed-4dba-9a44-4573b0164ab8",
   "metadata": {},
   "outputs": [
    {
     "name": "stdout",
     "output_type": "stream",
     "text": [
      "High Claim Responders:\n",
      "     unnamed:_0 customer       state  customer_lifetime_value response  \\\n",
      "189         189  OK31456  California             11009.130490      Yes   \n",
      "236         236  YJ16163      Oregon             11009.130490      Yes   \n",
      "419         419  GW43195      Oregon             25807.063000      Yes   \n",
      "442         442  IP94270     Arizona             13736.132500      Yes   \n",
      "587         587  FJ28407  California              5619.689084      Yes   \n",
      "\n",
      "     coverage             education effective_to_date employmentstatus gender  \\\n",
      "189   Premium              Bachelor           1/24/11         Employed      F   \n",
      "236   Premium              Bachelor           1/24/11         Employed      F   \n",
      "419  Extended               College           2/13/11         Employed      F   \n",
      "442   Premium                Master           2/13/11         Disabled      F   \n",
      "587   Premium  High School or Below           1/26/11       Unemployed      M   \n",
      "\n",
      "     ...  number_of_open_complaints number_of_policies     policy_type  \\\n",
      "189  ...                        0.0                  1  Corporate Auto   \n",
      "236  ...                        0.0                  1    Special Auto   \n",
      "419  ...                        1.0                  2   Personal Auto   \n",
      "442  ...                        0.0                  8   Personal Auto   \n",
      "587  ...                        0.0                  1   Personal Auto   \n",
      "\n",
      "           policy  renew_offer_type  sales_channel  total_claim_amount  \\\n",
      "189  Corporate L3            Offer2          Agent         1358.400000   \n",
      "236    Special L3            Offer2          Agent         1358.400000   \n",
      "419   Personal L2            Offer1         Branch         1027.200000   \n",
      "442   Personal L2            Offer1            Web         1261.319869   \n",
      "587   Personal L1            Offer2            Web         1027.000029   \n",
      "\n",
      "     vehicle_class vehicle_size vehicle_type  \n",
      "189     Luxury Car      Medsize          NaN  \n",
      "236     Luxury Car      Medsize            A  \n",
      "419     Luxury Car        Small            A  \n",
      "442            SUV      Medsize            A  \n",
      "587            SUV      Medsize            A  \n",
      "\n",
      "[5 rows x 26 columns]\n",
      "\n",
      "Average Total Claim by Policy and Gender:\n",
      "gender               F       M\n",
      "policy_type                   \n",
      "Corporate Auto  433.74  408.58\n",
      "Personal Auto   452.97  457.01\n",
      "Special Auto    453.28  429.53\n",
      "\n",
      "States with More Than 500 Customers:\n",
      "state\n",
      "California    3552\n",
      "Oregon        2909\n",
      "Arizona       1937\n",
      "Nevada         993\n",
      "Washington     888\n",
      "Name: count, dtype: int64\n",
      "\n",
      "CLV Analysis by Education and Gender:\n",
      "                           max                min            median         \n",
      "gender                       F         M        F        M        F        M\n",
      "education                                                                   \n",
      "Bachelor              73225.96  67907.27  1904.00  1898.01  5640.51  5548.03\n",
      "College               61850.19  61134.68  1898.68  1918.12  5623.61  6005.85\n",
      "Doctor                44856.11  32677.34  2395.57  2267.60  5332.46  5577.67\n",
      "High School or Below  55277.45  83325.38  2144.92  1940.98  6039.55  6286.73\n",
      "Master                51016.07  50568.26  2417.78  2272.31  5729.86  5579.10\n"
     ]
    }
   ],
   "source": [
    "# 4\n",
    "\n",
    "# Step 5: Calculate max, min, and median customer lifetime value by education and gender\n",
    "clv_analysis = marketing_data.pivot_table(\n",
    "    index=\"education\",\n",
    "    columns=\"gender\",\n",
    "    values=\"customer_lifetime_value\",\n",
    "    aggfunc=[\"max\", \"min\", \"median\"]\n",
    ").round(2)\n",
    "\n",
    "# Display results\n",
    "print(\"High Claim Responders:\")\n",
    "print(high_claim_responders.head())\n",
    "\n",
    "print(\"\\nAverage Total Claim by Policy and Gender:\")\n",
    "print(claim_analysis)\n",
    "\n",
    "print(\"\\nStates with More Than 500 Customers:\")\n",
    "print(states_over_500_customers)\n",
    "\n",
    "print(\"\\nCLV Analysis by Education and Gender:\")\n",
    "print(clv_analysis)"
   ]
  },
  {
   "cell_type": "markdown",
   "id": "b42999f9-311f-481e-ae63-40a5577072c5",
   "metadata": {
    "id": "b42999f9-311f-481e-ae63-40a5577072c5"
   },
   "source": [
    "## Bonus"
   ]
  },
  {
   "cell_type": "markdown",
   "id": "81ff02c5-6584-4f21-a358-b918697c6432",
   "metadata": {
    "id": "81ff02c5-6584-4f21-a358-b918697c6432"
   },
   "source": [
    "5. The marketing team wants to analyze the number of policies sold by state and month. Present the data in a table where the months are arranged as columns and the states are arranged as rows."
   ]
  },
  {
   "cell_type": "markdown",
   "id": "b6aec097-c633-4017-a125-e77a97259cda",
   "metadata": {
    "id": "b6aec097-c633-4017-a125-e77a97259cda"
   },
   "source": [
    "6.  Display a new DataFrame that contains the number of policies sold by month, by state, for the top 3 states with the highest number of policies sold.\n",
    "\n",
    "*Hint:*\n",
    "- *To accomplish this, you will first need to group the data by state and month, then count the number of policies sold for each group. Afterwards, you will need to sort the data by the count of policies sold in descending order.*\n",
    "- *Next, you will select the top 3 states with the highest number of policies sold.*\n",
    "- *Finally, you will create a new DataFrame that contains the number of policies sold by month for each of the top 3 states.*"
   ]
  },
  {
   "cell_type": "markdown",
   "id": "ba975b8a-a2cf-4fbf-9f59-ebc381767009",
   "metadata": {
    "id": "ba975b8a-a2cf-4fbf-9f59-ebc381767009"
   },
   "source": [
    "7. The marketing team wants to analyze the effect of different marketing channels on the customer response rate.\n",
    "\n",
    "Hint: You can use melt to unpivot the data and create a table that shows the customer response rate (those who responded \"Yes\") by marketing channel."
   ]
  },
  {
   "cell_type": "markdown",
   "id": "e4378d94-48fb-4850-a802-b1bc8f427b2d",
   "metadata": {
    "id": "e4378d94-48fb-4850-a802-b1bc8f427b2d"
   },
   "source": [
    "External Resources for Data Filtering: https://towardsdatascience.com/filtering-data-frames-in-pandas-b570b1f834b9"
   ]
  },
  {
   "cell_type": "code",
   "execution_count": null,
   "id": "449513f4-0459-46a0-a18d-9398d974c9ad",
   "metadata": {
    "id": "449513f4-0459-46a0-a18d-9398d974c9ad"
   },
   "outputs": [],
   "source": [
    "# your code goes here"
   ]
  }
 ],
 "metadata": {
  "colab": {
   "provenance": []
  },
  "kernelspec": {
   "display_name": "Python 3 (ipykernel)",
   "language": "python",
   "name": "python3"
  },
  "language_info": {
   "codemirror_mode": {
    "name": "ipython",
    "version": 3
   },
   "file_extension": ".py",
   "mimetype": "text/x-python",
   "name": "python",
   "nbconvert_exporter": "python",
   "pygments_lexer": "ipython3",
   "version": "3.12.7"
  }
 },
 "nbformat": 4,
 "nbformat_minor": 5
}
