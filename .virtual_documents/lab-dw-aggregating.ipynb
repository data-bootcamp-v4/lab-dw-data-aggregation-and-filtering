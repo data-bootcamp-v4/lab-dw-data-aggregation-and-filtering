

















import pandas as pd

url = "https://raw.githubusercontent.com/data-bootcamp-v4/data/main/marketing_customer_analysis.csv"
df = pd.read_csv(url)


df.columns


df.columns = df.columns.str.strip().str.lower().str.replace(' ', '_')
df.columns = df.columns.str.replace('custateomer', 'customer').str.replace('custateomer_lifetime_value', 'customer_lifetime_value')
df.columns = df.columns.str.replace('vehicle_class', 'vehicule_class')
df.columns = df.columns.str.replace('employmentstatus', 'employment_status')

df.columns


df.shape


df['unnamed:_0']


df = df.drop(columns=['unnamed:_0'])


df.head()


#1-
filtered_df = df[(df['total_claim_amount'] > 1000) & (df['response'] == 'Yes')]
filtered_df


filtered_df.shape


#2-
filtered_df2 = df[df['response'] == 'Yes']
grouped_df = filtered_df2.groupby(['policy_type', 'gender'])['total_claim_amount'].mean().reset_index()
grouped_df





#3-
state_counts = df['state'].value_counts().reset_index()
state_counts





#4-
lifetime_value_stats = df.groupby(['education', 'gender'])['customer_lifetime_value'].agg(['max', 'min', 'median']).reset_index()
lifetime_value_stats




















print(df['effective_to_date'].head())


#5-
df['effective_to_date'] = pd.to_datetime(df['effective_to_date'], format='%Y-%m-%d')
df['month'] = df['effective_to_date'].dt.to_period('M')

policy_counts = df.groupby(['state', 'month']).size().reset_index(name='number_of_policies')

pivot_table = policy_counts.pivot(index='state', columns='month', values='number_of_policies').fillna(0)
pivot_table


#6- 
state_totals = policy_counts.groupby('state')['number_of_policies'].sum().reset_index()

top_states = state_totals.sort_values(by='number_of_policies', ascending=False).head(3)
top_states_list = top_states['state'].tolist()

top_states_policy_counts = policy_counts[policy_counts['state'].isin(top_states_list)]

pivot_table_top_states = top_states_policy_counts.pivot(index='state', columns='month', values='number_of_policies').fillna(0)
pivot_table_top_states


#7-
marketing_channels = ['sales_channel', 'renew_offer_type', 'coverage', 'policy_type']

melted_df = df.melt(id_vars=['response'], value_vars=marketing_channels, var_name='marketing_channel', value_name='channel_value')

melted_df = melted_df.dropna(subset=['channel_value'])

response_counts = melted_df.groupby(['marketing_channel', 'channel_value', 'response']).size().unstack(fill_value=0)

response_counts['total'] = response_counts['Yes'] + response_counts['No']
response_counts['response_rate'] = response_counts['Yes'] / response_counts['total']

response_rate_df = response_counts.reset_index()

response_rate_df[['marketing_channel', 'channel_value', 'response_rate']]






