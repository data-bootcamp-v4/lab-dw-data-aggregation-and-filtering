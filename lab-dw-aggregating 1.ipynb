{
 "cells": [
  {
   "cell_type": "markdown",
   "id": "31969215-2a90-4d8b-ac36-646a7ae13744",
   "metadata": {
    "id": "31969215-2a90-4d8b-ac36-646a7ae13744"
   },
   "source": [
    "# Lab | Data Aggregation and Filtering"
   ]
  },
  {
   "cell_type": "markdown",
   "id": "a8f08a52-bec0-439b-99cc-11d3809d8b5d",
   "metadata": {
    "id": "a8f08a52-bec0-439b-99cc-11d3809d8b5d"
   },
   "source": [
    "In this challenge, we will continue to work with customer data from an insurance company. We will use the dataset called marketing_customer_analysis.csv, which can be found at the following link:\n",
    "\n",
    "https://raw.githubusercontent.com/data-bootcamp-v4/data/main/marketing_customer_analysis.csv\n",
    "\n",
    "This dataset contains information such as customer demographics, policy details, vehicle information, and the customer's response to the last marketing campaign. Our goal is to explore and analyze this data by first performing data cleaning, formatting, and structuring."
   ]
  },
  {
   "cell_type": "markdown",
   "id": "9c98ddc5-b041-4c94-ada1-4dfee5c98e50",
   "metadata": {
    "id": "9c98ddc5-b041-4c94-ada1-4dfee5c98e50"
   },
   "source": [
    "1. Create a new DataFrame that only includes customers who have a total_claim_amount greater than $1,000 and have a response of \"Yes\" to the last marketing campaign."
   ]
  },
  {
   "cell_type": "markdown",
   "id": "b9be383e-5165-436e-80c8-57d4c757c8c3",
   "metadata": {
    "id": "b9be383e-5165-436e-80c8-57d4c757c8c3"
   },
   "source": [
    "2. Using the original Dataframe, analyze the average total_claim_amount by each policy type and gender for customers who have responded \"Yes\" to the last marketing campaign. Write your conclusions."
   ]
  },
  {
   "cell_type": "markdown",
   "id": "7050f4ac-53c5-4193-a3c0-8699b87196f0",
   "metadata": {
    "id": "7050f4ac-53c5-4193-a3c0-8699b87196f0"
   },
   "source": [
    "3. Analyze the total number of customers who have policies in each state, and then filter the results to only include states where there are more than 500 customers."
   ]
  },
  {
   "cell_type": "markdown",
   "id": "b60a4443-a1a7-4bbf-b78e-9ccdf9895e0d",
   "metadata": {
    "id": "b60a4443-a1a7-4bbf-b78e-9ccdf9895e0d"
   },
   "source": [
    "4. Find the maximum, minimum, and median customer lifetime value by education level and gender. Write your conclusions."
   ]
  },
  {
   "cell_type": "code",
   "execution_count": 5,
   "id": "92de7259-5244-4c71-a864-c01ad0b0ff46",
   "metadata": {},
   "outputs": [
    {
     "name": "stdout",
     "output_type": "stream",
     "text": [
      "   Unnamed: 0 Customer       State  Customer Lifetime Value Response  \\\n",
      "0           0  DK49336     Arizona              4809.216960       No   \n",
      "1           1  KX64629  California              2228.525238       No   \n",
      "2           2  LZ68649  Washington             14947.917300       No   \n",
      "3           3  XL78013      Oregon             22332.439460      Yes   \n",
      "4           4  QA50777      Oregon              9025.067525       No   \n",
      "\n",
      "   Coverage Education Effective To Date EmploymentStatus Gender  ...  \\\n",
      "0     Basic   College           2/18/11         Employed      M  ...   \n",
      "1     Basic   College           1/18/11       Unemployed      F  ...   \n",
      "2     Basic  Bachelor           2/10/11         Employed      M  ...   \n",
      "3  Extended   College           1/11/11         Employed      M  ...   \n",
      "4   Premium  Bachelor           1/17/11    Medical Leave      F  ...   \n",
      "\n",
      "   Number of Open Complaints Number of Policies     Policy Type        Policy  \\\n",
      "0                        0.0                  9  Corporate Auto  Corporate L3   \n",
      "1                        0.0                  1   Personal Auto   Personal L3   \n",
      "2                        0.0                  2   Personal Auto   Personal L3   \n",
      "3                        0.0                  2  Corporate Auto  Corporate L3   \n",
      "4                        NaN                  7   Personal Auto   Personal L2   \n",
      "\n",
      "   Renew Offer Type  Sales Channel  Total Claim Amount  Vehicle Class  \\\n",
      "0            Offer3          Agent          292.800000  Four-Door Car   \n",
      "1            Offer4    Call Center          744.924331  Four-Door Car   \n",
      "2            Offer3    Call Center          480.000000            SUV   \n",
      "3            Offer2         Branch          484.013411  Four-Door Car   \n",
      "4            Offer1         Branch          707.925645  Four-Door Car   \n",
      "\n",
      "  Vehicle Size Vehicle Type  \n",
      "0      Medsize          NaN  \n",
      "1      Medsize          NaN  \n",
      "2      Medsize            A  \n",
      "3      Medsize            A  \n",
      "4      Medsize          NaN  \n",
      "\n",
      "[5 rows x 26 columns]\n"
     ]
    }
   ],
   "source": [
    "import pandas as pd\n",
    "\n",
    "url = \"https://raw.githubusercontent.com/data-bootcamp-v4/data/main/marketing_customer_analysis.csv\"\n",
    "df = pd.read_csv(url)\n",
    "\n",
    "print(df.head())\n"
   ]
  },
  {
   "cell_type": "code",
   "execution_count": 7,
   "id": "ec0b51a3-3051-4c45-a28a-673ca1a75265",
   "metadata": {},
   "outputs": [
    {
     "name": "stdout",
     "output_type": "stream",
     "text": [
      "   unnamed:_0 customer       state  customer_lifetime_value response  \\\n",
      "0           0  DK49336     Arizona              4809.216960       No   \n",
      "1           1  KX64629  California              2228.525238       No   \n",
      "2           2  LZ68649  Washington             14947.917300       No   \n",
      "3           3  XL78013      Oregon             22332.439460      Yes   \n",
      "4           4  QA50777      Oregon              9025.067525       No   \n",
      "\n",
      "   coverage education effective_to_date employmentstatus gender  ...  \\\n",
      "0     Basic   College           2/18/11         Employed      M  ...   \n",
      "1     Basic   College           1/18/11       Unemployed      F  ...   \n",
      "2     Basic  Bachelor           2/10/11         Employed      M  ...   \n",
      "3  Extended   College           1/11/11         Employed      M  ...   \n",
      "4   Premium  Bachelor           1/17/11    Medical Leave      F  ...   \n",
      "\n",
      "   number_of_open_complaints number_of_policies     policy_type        policy  \\\n",
      "0                        0.0                  9  Corporate Auto  Corporate L3   \n",
      "1                        0.0                  1   Personal Auto   Personal L3   \n",
      "2                        0.0                  2   Personal Auto   Personal L3   \n",
      "3                        0.0                  2  Corporate Auto  Corporate L3   \n",
      "4                        NaN                  7   Personal Auto   Personal L2   \n",
      "\n",
      "   renew_offer_type  sales_channel  total_claim_amount  vehicle_class  \\\n",
      "0            Offer3          Agent          292.800000  Four-Door Car   \n",
      "1            Offer4    Call Center          744.924331  Four-Door Car   \n",
      "2            Offer3    Call Center          480.000000            SUV   \n",
      "3            Offer2         Branch          484.013411  Four-Door Car   \n",
      "4            Offer1         Branch          707.925645  Four-Door Car   \n",
      "\n",
      "  vehicle_size vehicle_type  \n",
      "0      Medsize          NaN  \n",
      "1      Medsize          NaN  \n",
      "2      Medsize            A  \n",
      "3      Medsize            A  \n",
      "4      Medsize          NaN  \n",
      "\n",
      "[5 rows x 26 columns]\n"
     ]
    }
   ],
   "source": [
    "# Standardize column names\n",
    "df.columns = df.columns.str.lower().str.replace(' ', '_')\n",
    "\n",
    "# Clean and convert 'customer_lifetime_value' and 'total_claim_amount' to numeric\n",
    "df['customer_lifetime_value'] = pd.to_numeric(df['customer_lifetime_value'], errors='coerce')\n",
    "df['total_claim_amount'] = pd.to_numeric(df['total_claim_amount'], errors='coerce')\n",
    "\n",
    "print(df.head())\n"
   ]
  },
  {
   "cell_type": "code",
   "execution_count": 9,
   "id": "736246ac-8a05-43b9-a24e-6b728c0ac949",
   "metadata": {},
   "outputs": [
    {
     "name": "stdout",
     "output_type": "stream",
     "text": [
      "     unnamed:_0 customer       state  customer_lifetime_value response  \\\n",
      "189         189  OK31456  California             11009.130490      Yes   \n",
      "236         236  YJ16163      Oregon             11009.130490      Yes   \n",
      "419         419  GW43195      Oregon             25807.063000      Yes   \n",
      "442         442  IP94270     Arizona             13736.132500      Yes   \n",
      "587         587  FJ28407  California              5619.689084      Yes   \n",
      "\n",
      "     coverage             education effective_to_date employmentstatus gender  \\\n",
      "189   Premium              Bachelor           1/24/11         Employed      F   \n",
      "236   Premium              Bachelor           1/24/11         Employed      F   \n",
      "419  Extended               College           2/13/11         Employed      F   \n",
      "442   Premium                Master           2/13/11         Disabled      F   \n",
      "587   Premium  High School or Below           1/26/11       Unemployed      M   \n",
      "\n",
      "     ...  number_of_open_complaints number_of_policies     policy_type  \\\n",
      "189  ...                        0.0                  1  Corporate Auto   \n",
      "236  ...                        0.0                  1    Special Auto   \n",
      "419  ...                        1.0                  2   Personal Auto   \n",
      "442  ...                        0.0                  8   Personal Auto   \n",
      "587  ...                        0.0                  1   Personal Auto   \n",
      "\n",
      "           policy  renew_offer_type  sales_channel  total_claim_amount  \\\n",
      "189  Corporate L3            Offer2          Agent         1358.400000   \n",
      "236    Special L3            Offer2          Agent         1358.400000   \n",
      "419   Personal L2            Offer1         Branch         1027.200000   \n",
      "442   Personal L2            Offer1            Web         1261.319869   \n",
      "587   Personal L1            Offer2            Web         1027.000029   \n",
      "\n",
      "     vehicle_class vehicle_size vehicle_type  \n",
      "189     Luxury Car      Medsize          NaN  \n",
      "236     Luxury Car      Medsize            A  \n",
      "419     Luxury Car        Small            A  \n",
      "442            SUV      Medsize            A  \n",
      "587            SUV      Medsize            A  \n",
      "\n",
      "[5 rows x 26 columns]\n",
      "(67, 26)\n"
     ]
    }
   ],
   "source": [
    "# Filter DataFrame\n",
    "filter1000_df = df[(df['total_claim_amount'] > 1000) & (df['response'] == 'Yes')]\n",
    "\n",
    "# Preview the filtered DataFrame\n",
    "print(filter1000_df.head())\n",
    "print(filter1000_df.shape)  \n"
   ]
  },
  {
   "cell_type": "code",
   "execution_count": 11,
   "id": "dcc90b2b-dd00-4504-97c4-95fb5de57b49",
   "metadata": {},
   "outputs": [
    {
     "name": "stdout",
     "output_type": "stream",
     "text": [
      "policy_type     gender\n",
      "Corporate Auto  F         433.738499\n",
      "                M         408.582459\n",
      "Personal Auto   F         452.965929\n",
      "                M         457.010178\n",
      "Special Auto    F         453.280164\n",
      "                M         429.527942\n",
      "Name: total_claim_amount, dtype: float64\n"
     ]
    }
   ],
   "source": [
    "# 2-Filter for customers who responded \"Yes\"\n",
    "yes_response_df = df[df['response'] == 'Yes']\n",
    "\n",
    "# Group by 'policy_type' and 'gender' to find average 'total_claim_amount'\n",
    "avg_by_policy_gender = yes_response_df.groupby(['policy_type', 'gender'])['total_claim_amount'].mean()\n",
    "\n",
    "print(avg_by_policy_gender)\n"
   ]
  },
  {
   "cell_type": "markdown",
   "id": "f51810eb-463b-4428-bf07-a45fe0ad28f1",
   "metadata": {},
   "source": [
    "This table shows how the average total claim amount differs across policy types and genders for customers who responded to the marketing campaign.\n",
    "Insights can be drawn about which customer groups have higher claims(men have the highest claim amount( in mean) in personal auto type, however, females have the highest one(in mean) in Special auto, a bit more than personal auto), helping guide marketing strategies."
   ]
  },
  {
   "cell_type": "code",
   "execution_count": 13,
   "id": "f5e78db5-6ddc-4e2b-85b1-8d2912d6fad1",
   "metadata": {},
   "outputs": [
    {
     "name": "stdout",
     "output_type": "stream",
     "text": [
      "state\n",
      "Arizona       1937\n",
      "California    3552\n",
      "Nevada         993\n",
      "Oregon        2909\n",
      "Washington     888\n",
      "Name: customer, dtype: int64\n"
     ]
    }
   ],
   "source": [
    "# 3- Group by 'state' and count customers in each state\n",
    "\n",
    "customers_by_state = df.groupby('state')['customer'].count()\n",
    "\n",
    "# Filter states with more than 500 customers\n",
    "states_with_more_than_500 = customers_by_state[customers_by_state > 500]\n",
    "\n",
    "print(states_with_more_than_500)\n"
   ]
  },
  {
   "cell_type": "code",
   "execution_count": 15,
   "id": "a6c35582-94a6-4ad9-b780-8a2dda7a840a",
   "metadata": {},
   "outputs": [
    {
     "name": "stdout",
     "output_type": "stream",
     "text": [
      "                                     max          min       median\n",
      "education            gender                                       \n",
      "Bachelor             F       73225.95652  1904.000852  5640.505303\n",
      "                     M       67907.27050  1898.007675  5548.031892\n",
      "College              F       61850.18803  1898.683686  5623.611187\n",
      "                     M       61134.68307  1918.119700  6005.847375\n",
      "Doctor               F       44856.11397  2395.570000  5332.462694\n",
      "                     M       32677.34284  2267.604038  5577.669457\n",
      "High School or Below F       55277.44589  2144.921535  6039.553187\n",
      "                     M       83325.38119  1940.981221  6286.731006\n",
      "Master               F       51016.06704  2417.777032  5729.855012\n",
      "                     M       50568.25912  2272.307310  5579.099207\n"
     ]
    }
   ],
   "source": [
    "# 4-Group by education and gender and calculate max, min, and median customer_lifetime\n",
    "customerlv_by_education_gender = df.groupby(['education', 'gender'])['customer_lifetime_value'].agg(['max', 'min', 'median'])\n",
    "\n",
    "# Print the result\n",
    "print(customerlv_by_education_gender)\n"
   ]
  },
  {
   "cell_type": "markdown",
   "id": "61e97162-2f2b-41a9-a35e-09345023812f",
   "metadata": {},
   "source": [
    "This info provides insights into how customer lifetime value (CLV) varies across different education levels and gender.\n",
    "It can guide personalized marketing strategies and customer retention efforts based on customer lifetime value patterns."
   ]
  }
 ],
 "metadata": {
  "colab": {
   "provenance": []
  },
  "kernelspec": {
   "display_name": "Python 3",
   "language": "python",
   "name": "python3"
  },
  "language_info": {
   "codemirror_mode": {
    "name": "ipython",
    "version": 3
   },
   "file_extension": ".py",
   "mimetype": "text/x-python",
   "name": "python",
   "nbconvert_exporter": "python",
   "pygments_lexer": "ipython3",
   "version": "3.8.8"
  }
 },
 "nbformat": 4,
 "nbformat_minor": 5
}
