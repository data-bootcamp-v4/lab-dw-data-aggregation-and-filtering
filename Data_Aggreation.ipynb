{
  "nbformat": 4,
  "nbformat_minor": 0,
  "metadata": {
    "colab": {
      "provenance": []
    },
    "kernelspec": {
      "name": "python3",
      "display_name": "Python 3"
    },
    "language_info": {
      "name": "python"
    }
  },
  "cells": [
    {
      "cell_type": "code",
      "execution_count": null,
      "metadata": {
        "id": "oQvjPW9Lu7Ww"
      },
      "outputs": [],
      "source": [
        "import pandas as pd\n",
        "\n",
        "# Load the dataset\n",
        "url = \"https://raw.githubusercontent.com/data-bootcamp-v4/data/main/marketing_customer_analysis.csv\"\n",
        "data = pd.read_csv(url)\n",
        "\n",
        "# Data Cleaning: Ensure column names are standardized (lowercase, underscores)\n",
        "data.columns = data.columns.str.lower().str.replace(' ', '_')\n",
        "\n",
        "# Creating a new DataFrame for customers with total_claim_amount > $1,000 and response \"Yes\"\n",
        "filtered_data = data[(data['total_claim_amount'] > 1000) & (data['response'] == 'Yes')]\n",
        "\n",
        "# Display the first few rows of the filtered DataFrame\n",
        "print(\"Filtered Data with total_claim_amount > $1,000 and response 'Yes':\")\n",
        "print(filtered_data.head())\n",
        "\n",
        "# Analyzing the average total_claim_amount by policy type and gender for customers who responded \"Yes\"\n",
        "avg_claims_by_policy_gender = data[data['response'] == 'Yes'].pivot_table(\n",
        "    values='total_claim_amount',\n",
        "    index='policy_type',\n",
        "    columns='gender',\n",
        "    aggfunc='mean'\n",
        ").round(2)\n",
        "\n",
        "print(\"\\nAverage total_claim_amount by policy type and gender for customers who responded 'Yes':\")\n",
        "print(avg_claims_by_policy_gender)\n",
        "\n",
        "# Analyzing the total number of customers in each state\n",
        "customer_counts_by_state = data['state'].value_counts()\n",
        "\n",
        "# Filtering results to only include states with more than 500 customers\n",
        "states_with_over_500_customers = customer_counts_by_state[customer_counts_by_state > 500]\n",
        "\n",
        "print(\"\\nTotal number of customers per state (only states with > 500 customers):\")\n",
        "print(states_with_over_500_customers)\n",
        "\n",
        "# Finding maximum, minimum, and median customer lifetime value by education level and gender\n",
        "lifetime_value_stats = data.groupby(['education', 'gender'])['customer_lifetime_value'].agg(['max', 'min', 'median']).round(2)\n",
        "\n",
        "print(\"\\nMaximum, minimum, and median customer lifetime value by education level and gender:\")\n",
        "print(lifetime_value_stats)\n",
        "\n",
        "# Conclusions\n",
        "print(\"\\nConclusions:\")\n",
        "print(\"1. The filtered DataFrame has customers who have claimed more than $1,000 and responded positively to marketing.\")\n",
        "print(\"2. The average total claim amount varies by policy type and gender, indicating differing behaviors based on these demographics.\")\n",
        "print(\"3. States with more than 500 customers have significant concentration, which may be important for targeted marketing strategies.\")\n",
        "print(\"4. Customer lifetime value statistics reveal educational and gender trends that can inform customer segmentation and tailored marketing approaches.\")"
      ]
    }
  ]
}