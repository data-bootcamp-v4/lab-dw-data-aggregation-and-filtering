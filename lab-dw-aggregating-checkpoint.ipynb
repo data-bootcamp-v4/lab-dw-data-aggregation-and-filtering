{
 "cells": [
  {
   "cell_type": "markdown",
   "id": "31969215-2a90-4d8b-ac36-646a7ae13744",
   "metadata": {
    "id": "31969215-2a90-4d8b-ac36-646a7ae13744"
   },
   "source": [
    "# Lab | Data Aggregation and Filtering"
   ]
  },
  {
   "cell_type": "markdown",
   "id": "a8f08a52-bec0-439b-99cc-11d3809d8b5d",
   "metadata": {
    "id": "a8f08a52-bec0-439b-99cc-11d3809d8b5d"
   },
   "source": [
    "In this challenge, we will continue to work with customer data from an insurance company. We will use the dataset called marketing_customer_analysis.csv, which can be found at the following link:\n",
    "\n",
    "https://raw.githubusercontent.com/data-bootcamp-v4/data/main/marketing_customer_analysis.csv\n",
    "\n",
    "This dataset contains information such as customer demographics, policy details, vehicle information, and the customer's response to the last marketing campaign. Our goal is to explore and analyze this data by first performing data cleaning, formatting, and structuring."
   ]
  },
  {
   "cell_type": "markdown",
   "id": "9c98ddc5-b041-4c94-ada1-4dfee5c98e50",
   "metadata": {
    "id": "9c98ddc5-b041-4c94-ada1-4dfee5c98e50"
   },
   "source": [
    "1. Create a new DataFrame that only includes customers who have a total_claim_amount greater than $1,000 and have a response of \"Yes\" to the last marketing campaign."
   ]
  },
  {
   "cell_type": "markdown",
   "id": "b9be383e-5165-436e-80c8-57d4c757c8c3",
   "metadata": {
    "id": "b9be383e-5165-436e-80c8-57d4c757c8c3"
   },
   "source": [
    "2. Using the original Dataframe, analyze the average total_claim_amount by each policy type and gender for customers who have responded \"Yes\" to the last marketing campaign. Write your conclusions."
   ]
  },
  {
   "cell_type": "markdown",
   "id": "7050f4ac-53c5-4193-a3c0-8699b87196f0",
   "metadata": {
    "id": "7050f4ac-53c5-4193-a3c0-8699b87196f0"
   },
   "source": [
    "3. Analyze the total number of customers who have policies in each state, and then filter the results to only include states where there are more than 500 customers."
   ]
  },
  {
   "cell_type": "markdown",
   "id": "b60a4443-a1a7-4bbf-b78e-9ccdf9895e0d",
   "metadata": {
    "id": "b60a4443-a1a7-4bbf-b78e-9ccdf9895e0d"
   },
   "source": [
    "4. Find the maximum, minimum, and median customer lifetime value by education level and gender. Write your conclusions."
   ]
  },
  {
   "cell_type": "code",
   "execution_count": 9,
   "id": "91212d42-7ba2-46ee-bd5d-a047d008dbe5",
   "metadata": {},
   "outputs": [
    {
     "data": {
      "text/html": [
       "<div>\n",
       "<style scoped>\n",
       "    .dataframe tbody tr th:only-of-type {\n",
       "        vertical-align: middle;\n",
       "    }\n",
       "\n",
       "    .dataframe tbody tr th {\n",
       "        vertical-align: top;\n",
       "    }\n",
       "\n",
       "    .dataframe thead th {\n",
       "        text-align: right;\n",
       "    }\n",
       "</style>\n",
       "<table border=\"1\" class=\"dataframe\">\n",
       "  <thead>\n",
       "    <tr style=\"text-align: right;\">\n",
       "      <th></th>\n",
       "      <th>Unnamed: 0</th>\n",
       "      <th>Customer</th>\n",
       "      <th>State</th>\n",
       "      <th>Customer Lifetime Value</th>\n",
       "      <th>Response</th>\n",
       "      <th>Coverage</th>\n",
       "      <th>Education</th>\n",
       "      <th>Effective To Date</th>\n",
       "      <th>EmploymentStatus</th>\n",
       "      <th>Gender</th>\n",
       "      <th>...</th>\n",
       "      <th>Number of Open Complaints</th>\n",
       "      <th>Number of Policies</th>\n",
       "      <th>Policy Type</th>\n",
       "      <th>Policy</th>\n",
       "      <th>Renew Offer Type</th>\n",
       "      <th>Sales Channel</th>\n",
       "      <th>Total Claim Amount</th>\n",
       "      <th>Vehicle Class</th>\n",
       "      <th>Vehicle Size</th>\n",
       "      <th>Vehicle Type</th>\n",
       "    </tr>\n",
       "  </thead>\n",
       "  <tbody>\n",
       "    <tr>\n",
       "      <th>0</th>\n",
       "      <td>0</td>\n",
       "      <td>DK49336</td>\n",
       "      <td>Arizona</td>\n",
       "      <td>4809.216960</td>\n",
       "      <td>No</td>\n",
       "      <td>Basic</td>\n",
       "      <td>College</td>\n",
       "      <td>2/18/11</td>\n",
       "      <td>Employed</td>\n",
       "      <td>M</td>\n",
       "      <td>...</td>\n",
       "      <td>0.0</td>\n",
       "      <td>9</td>\n",
       "      <td>Corporate Auto</td>\n",
       "      <td>Corporate L3</td>\n",
       "      <td>Offer3</td>\n",
       "      <td>Agent</td>\n",
       "      <td>292.800000</td>\n",
       "      <td>Four-Door Car</td>\n",
       "      <td>Medsize</td>\n",
       "      <td>NaN</td>\n",
       "    </tr>\n",
       "    <tr>\n",
       "      <th>1</th>\n",
       "      <td>1</td>\n",
       "      <td>KX64629</td>\n",
       "      <td>California</td>\n",
       "      <td>2228.525238</td>\n",
       "      <td>No</td>\n",
       "      <td>Basic</td>\n",
       "      <td>College</td>\n",
       "      <td>1/18/11</td>\n",
       "      <td>Unemployed</td>\n",
       "      <td>F</td>\n",
       "      <td>...</td>\n",
       "      <td>0.0</td>\n",
       "      <td>1</td>\n",
       "      <td>Personal Auto</td>\n",
       "      <td>Personal L3</td>\n",
       "      <td>Offer4</td>\n",
       "      <td>Call Center</td>\n",
       "      <td>744.924331</td>\n",
       "      <td>Four-Door Car</td>\n",
       "      <td>Medsize</td>\n",
       "      <td>NaN</td>\n",
       "    </tr>\n",
       "    <tr>\n",
       "      <th>2</th>\n",
       "      <td>2</td>\n",
       "      <td>LZ68649</td>\n",
       "      <td>Washington</td>\n",
       "      <td>14947.917300</td>\n",
       "      <td>No</td>\n",
       "      <td>Basic</td>\n",
       "      <td>Bachelor</td>\n",
       "      <td>2/10/11</td>\n",
       "      <td>Employed</td>\n",
       "      <td>M</td>\n",
       "      <td>...</td>\n",
       "      <td>0.0</td>\n",
       "      <td>2</td>\n",
       "      <td>Personal Auto</td>\n",
       "      <td>Personal L3</td>\n",
       "      <td>Offer3</td>\n",
       "      <td>Call Center</td>\n",
       "      <td>480.000000</td>\n",
       "      <td>SUV</td>\n",
       "      <td>Medsize</td>\n",
       "      <td>A</td>\n",
       "    </tr>\n",
       "    <tr>\n",
       "      <th>3</th>\n",
       "      <td>3</td>\n",
       "      <td>XL78013</td>\n",
       "      <td>Oregon</td>\n",
       "      <td>22332.439460</td>\n",
       "      <td>Yes</td>\n",
       "      <td>Extended</td>\n",
       "      <td>College</td>\n",
       "      <td>1/11/11</td>\n",
       "      <td>Employed</td>\n",
       "      <td>M</td>\n",
       "      <td>...</td>\n",
       "      <td>0.0</td>\n",
       "      <td>2</td>\n",
       "      <td>Corporate Auto</td>\n",
       "      <td>Corporate L3</td>\n",
       "      <td>Offer2</td>\n",
       "      <td>Branch</td>\n",
       "      <td>484.013411</td>\n",
       "      <td>Four-Door Car</td>\n",
       "      <td>Medsize</td>\n",
       "      <td>A</td>\n",
       "    </tr>\n",
       "    <tr>\n",
       "      <th>4</th>\n",
       "      <td>4</td>\n",
       "      <td>QA50777</td>\n",
       "      <td>Oregon</td>\n",
       "      <td>9025.067525</td>\n",
       "      <td>No</td>\n",
       "      <td>Premium</td>\n",
       "      <td>Bachelor</td>\n",
       "      <td>1/17/11</td>\n",
       "      <td>Medical Leave</td>\n",
       "      <td>F</td>\n",
       "      <td>...</td>\n",
       "      <td>NaN</td>\n",
       "      <td>7</td>\n",
       "      <td>Personal Auto</td>\n",
       "      <td>Personal L2</td>\n",
       "      <td>Offer1</td>\n",
       "      <td>Branch</td>\n",
       "      <td>707.925645</td>\n",
       "      <td>Four-Door Car</td>\n",
       "      <td>Medsize</td>\n",
       "      <td>NaN</td>\n",
       "    </tr>\n",
       "  </tbody>\n",
       "</table>\n",
       "<p>5 rows × 26 columns</p>\n",
       "</div>"
      ],
      "text/plain": [
       "   Unnamed: 0 Customer       State  Customer Lifetime Value Response  \\\n",
       "0           0  DK49336     Arizona              4809.216960       No   \n",
       "1           1  KX64629  California              2228.525238       No   \n",
       "2           2  LZ68649  Washington             14947.917300       No   \n",
       "3           3  XL78013      Oregon             22332.439460      Yes   \n",
       "4           4  QA50777      Oregon              9025.067525       No   \n",
       "\n",
       "   Coverage Education Effective To Date EmploymentStatus Gender  ...  \\\n",
       "0     Basic   College           2/18/11         Employed      M  ...   \n",
       "1     Basic   College           1/18/11       Unemployed      F  ...   \n",
       "2     Basic  Bachelor           2/10/11         Employed      M  ...   \n",
       "3  Extended   College           1/11/11         Employed      M  ...   \n",
       "4   Premium  Bachelor           1/17/11    Medical Leave      F  ...   \n",
       "\n",
       "   Number of Open Complaints Number of Policies     Policy Type        Policy  \\\n",
       "0                        0.0                  9  Corporate Auto  Corporate L3   \n",
       "1                        0.0                  1   Personal Auto   Personal L3   \n",
       "2                        0.0                  2   Personal Auto   Personal L3   \n",
       "3                        0.0                  2  Corporate Auto  Corporate L3   \n",
       "4                        NaN                  7   Personal Auto   Personal L2   \n",
       "\n",
       "   Renew Offer Type  Sales Channel  Total Claim Amount  Vehicle Class  \\\n",
       "0            Offer3          Agent          292.800000  Four-Door Car   \n",
       "1            Offer4    Call Center          744.924331  Four-Door Car   \n",
       "2            Offer3    Call Center          480.000000            SUV   \n",
       "3            Offer2         Branch          484.013411  Four-Door Car   \n",
       "4            Offer1         Branch          707.925645  Four-Door Car   \n",
       "\n",
       "  Vehicle Size Vehicle Type  \n",
       "0      Medsize          NaN  \n",
       "1      Medsize          NaN  \n",
       "2      Medsize            A  \n",
       "3      Medsize            A  \n",
       "4      Medsize          NaN  \n",
       "\n",
       "[5 rows x 26 columns]"
      ]
     },
     "metadata": {},
     "output_type": "display_data"
    }
   ],
   "source": [
    "import pandas as pd\n",
    "url = \"https://raw.githubusercontent.com/data-bootcamp-v4/data/main/marketing_customer_analysis.csv\"\n",
    "df1 = pd.read_csv(url)\n",
    "display(df1.head())"
   ]
  },
  {
   "cell_type": "code",
   "execution_count": 10,
   "id": "096dd041-9613-4b64-8886-fa23122237e3",
   "metadata": {},
   "outputs": [
    {
     "data": {
      "text/plain": [
       "Index(['Unnamed: 0', 'Customer', 'State', 'Customer Lifetime Value',\n",
       "       'Response', 'Coverage', 'Education', 'Effective To Date',\n",
       "       'EmploymentStatus', 'Gender', 'Income', 'Location Code',\n",
       "       'Marital Status', 'Monthly Premium Auto', 'Months Since Last Claim',\n",
       "       'Months Since Policy Inception', 'Number of Open Complaints',\n",
       "       'Number of Policies', 'Policy Type', 'Policy', 'Renew Offer Type',\n",
       "       'Sales Channel', 'Total Claim Amount', 'Vehicle Class', 'Vehicle Size',\n",
       "       'Vehicle Type'],\n",
       "      dtype='object')"
      ]
     },
     "execution_count": 10,
     "metadata": {},
     "output_type": "execute_result"
    }
   ],
   "source": [
    "df1.columns"
   ]
  },
  {
   "cell_type": "code",
   "execution_count": 11,
   "id": "92f363f6-5433-4004-83e4-63e224374112",
   "metadata": {},
   "outputs": [
    {
     "name": "stdout",
     "output_type": "stream",
     "text": [
      "Average Total Claim Amount by Policy Type and Gender for 'Yes' responses:\n",
      "Policy Type     Gender\n",
      "Corporate Auto  F         1138.400000\n",
      "                M         1171.150007\n",
      "Personal Auto   F         1214.853805\n",
      "                M         1137.861443\n",
      "Special Auto    F         1358.400000\n",
      "                M         1017.500015\n",
      "Name: Total Claim Amount, dtype: float64\n",
      "\n",
      "States with more than 500 customers:\n"
     ]
    }
   ],
   "source": [
    "# 1. Filter customers with a total claim amount greater than $1,000 and a response of \"Yes\"\n",
    "filtered_df = df1[(df1['Total Claim Amount'] > 1000) & (df1['Response'] == 'Yes')]\n",
    "\n",
    "# 2. Analyze the average total claim amount by policy type and gender for customers who responded \"Yes\"\n",
    "avg_claim_amount = filtered_df.groupby(['Policy Type', 'Gender'])['Total Claim Amount'].mean()\n",
    "print(\"Average Total Claim Amount by Policy Type and Gender for 'Yes' responses:\")\n",
    "print(avg_claim_amount)\n",
    "\n",
    "# 3. Analyze the total number of customers with policies in each state, filtering states with more than 500 customers\n",
    "customer_count_by_state = df1.groupby('State').size()\n",
    "states_with_more_than_500_customers = customer_count_by_state[customer_count_by_state > 500]\n",
    "print(\"\\nStates with more than 500 customers:\")"
   ]
  },
  {
   "cell_type": "code",
   "execution_count": 12,
   "id": "cd91cf1a-6807-440e-b6ba-446c827c6f8a",
   "metadata": {},
   "outputs": [
    {
     "name": "stdout",
     "output_type": "stream",
     "text": [
      "Summary statistics of Customer Lifetime Value by Education Level and Gender:\n",
      "                                     max          min       median\n",
      "Education            Gender                                       \n",
      "Bachelor             F       73225.95652  1904.000852  5640.505303\n",
      "                     M       67907.27050  1898.007675  5548.031892\n",
      "College              F       61850.18803  1898.683686  5623.611187\n",
      "                     M       61134.68307  1918.119700  6005.847375\n",
      "Doctor               F       44856.11397  2395.570000  5332.462694\n",
      "                     M       32677.34284  2267.604038  5577.669457\n",
      "High School or Below F       55277.44589  2144.921535  6039.553187\n",
      "                     M       83325.38119  1940.981221  6286.731006\n",
      "Master               F       51016.06704  2417.777032  5729.855012\n",
      "                     M       50568.25912  2272.307310  5579.099207\n"
     ]
    }
   ],
   "source": [
    "# Group by education level and gender, then calculate maximum, minimum, and median customer lifetime value\n",
    "summary_stats = df1.groupby(['Education', 'Gender'])['Customer Lifetime Value'].agg(['max', 'min', 'median'])\n",
    "\n",
    "# Display the summary statistics\n",
    "print(\"Summary statistics of Customer Lifetime Value by Education Level and Gender:\")\n",
    "print(summary_stats)"
   ]
  },
  {
   "cell_type": "code",
   "execution_count": null,
   "id": "fc838cb8-67fa-47c0-b2e7-d38fb9736aad",
   "metadata": {},
   "outputs": [],
   "source": []
  },
  {
   "cell_type": "code",
   "execution_count": null,
   "id": "ce4cead0-7b9a-472b-b450-c27f14db8104",
   "metadata": {},
   "outputs": [],
   "source": []
  },
  {
   "cell_type": "code",
   "execution_count": null,
   "id": "77459867-fb9c-49ab-beb4-da08e929e93f",
   "metadata": {},
   "outputs": [],
   "source": []
  },
  {
   "cell_type": "markdown",
   "id": "b42999f9-311f-481e-ae63-40a5577072c5",
   "metadata": {
    "id": "b42999f9-311f-481e-ae63-40a5577072c5"
   },
   "source": [
    "## Bonus"
   ]
  },
  {
   "cell_type": "markdown",
   "id": "81ff02c5-6584-4f21-a358-b918697c6432",
   "metadata": {
    "id": "81ff02c5-6584-4f21-a358-b918697c6432"
   },
   "source": [
    "5. The marketing team wants to analyze the number of policies sold by state and month. Present the data in a table where the months are arranged as columns and the states are arranged as rows."
   ]
  },
  {
   "cell_type": "markdown",
   "id": "b6aec097-c633-4017-a125-e77a97259cda",
   "metadata": {
    "id": "b6aec097-c633-4017-a125-e77a97259cda"
   },
   "source": [
    "6.  Display a new DataFrame that contains the number of policies sold by month, by state, for the top 3 states with the highest number of policies sold.\n",
    "\n",
    "*Hint:*\n",
    "- *To accomplish this, you will first need to group the data by state and month, then count the number of policies sold for each group. Afterwards, you will need to sort the data by the count of policies sold in descending order.*\n",
    "- *Next, you will select the top 3 states with the highest number of policies sold.*\n",
    "- *Finally, you will create a new DataFrame that contains the number of policies sold by month for each of the top 3 states.*"
   ]
  },
  {
   "cell_type": "markdown",
   "id": "ba975b8a-a2cf-4fbf-9f59-ebc381767009",
   "metadata": {
    "id": "ba975b8a-a2cf-4fbf-9f59-ebc381767009"
   },
   "source": [
    "7. The marketing team wants to analyze the effect of different marketing channels on the customer response rate.\n",
    "\n",
    "Hint: You can use melt to unpivot the data and create a table that shows the customer response rate (those who responded \"Yes\") by marketing channel."
   ]
  },
  {
   "cell_type": "markdown",
   "id": "e4378d94-48fb-4850-a802-b1bc8f427b2d",
   "metadata": {
    "id": "e4378d94-48fb-4850-a802-b1bc8f427b2d"
   },
   "source": [
    "External Resources for Data Filtering: https://towardsdatascience.com/filtering-data-frames-in-pandas-b570b1f834b9"
   ]
  },
  {
   "cell_type": "code",
   "execution_count": 13,
   "id": "449513f4-0459-46a0-a18d-9398d974c9ad",
   "metadata": {
    "id": "449513f4-0459-46a0-a18d-9398d974c9ad"
   },
   "outputs": [
    {
     "name": "stdout",
     "output_type": "stream",
     "text": [
      "Task 1: Number of policies sold by state and month\n",
      "Effective To Date  1/1/11  1/10/11  1/11/11  1/12/11  1/13/11  1/14/11  \\\n",
      "State                                                                    \n",
      "Arizona                35       34       35       32       35       36   \n",
      "California             56       72       81       49       55       57   \n",
      "Nevada                 13       25       19       12       20       10   \n",
      "Oregon                 42       70       41       36       39       54   \n",
      "Washington             18       21        9       12       13       11   \n",
      "\n",
      "Effective To Date  1/15/11  1/16/11  1/17/11  1/18/11  ...  2/26/11  2/27/11  \\\n",
      "State                                                  ...                     \n",
      "Arizona                 29       33       35       37  ...       40       40   \n",
      "California              54       66       60       59  ...       61       64   \n",
      "Nevada                  18       10       14       18  ...       11       20   \n",
      "Oregon                  51       44       77       45  ...       59       55   \n",
      "Washington              15       11       23       13  ...       15       15   \n",
      "\n",
      "Effective To Date  2/28/11  2/3/11  2/4/11  2/5/11  2/6/11  2/7/11  2/8/11  \\\n",
      "State                                                                        \n",
      "Arizona                 29      49      48      42      23      30      41   \n",
      "California              49      62      57      55      62      76      39   \n",
      "Nevada                  19      23      17       5      15      11      18   \n",
      "Oregon                  64      37      54      47      43      55      35   \n",
      "Washington              17      12      11      18      21      10      14   \n",
      "\n",
      "Effective To Date  2/9/11  \n",
      "State                      \n",
      "Arizona                37  \n",
      "California             59  \n",
      "Nevada                 14  \n",
      "Oregon                 34  \n",
      "Washington             16  \n",
      "\n",
      "[5 rows x 59 columns]\n",
      "\n",
      "Task 2: Number of policies sold by month, by state, for the top 3 states with the highest number of policies sold\n",
      "Effective To Date  1/1/11  1/10/11  1/11/11  1/12/11  1/13/11  1/14/11  \\\n",
      "State                                                                    \n",
      "Arizona                35       34       35       32       35       36   \n",
      "California             56       72       81       49       55       57   \n",
      "Oregon                 42       70       41       36       39       54   \n",
      "\n",
      "Effective To Date  1/15/11  1/16/11  1/17/11  1/18/11  ...  2/26/11  2/27/11  \\\n",
      "State                                                  ...                     \n",
      "Arizona                 29       33       35       37  ...       40       40   \n",
      "California              54       66       60       59  ...       61       64   \n",
      "Oregon                  51       44       77       45  ...       59       55   \n",
      "\n",
      "Effective To Date  2/28/11  2/3/11  2/4/11  2/5/11  2/6/11  2/7/11  2/8/11  \\\n",
      "State                                                                        \n",
      "Arizona                 29      49      48      42      23      30      41   \n",
      "California              49      62      57      55      62      76      39   \n",
      "Oregon                  64      37      54      47      43      55      35   \n",
      "\n",
      "Effective To Date  2/9/11  \n",
      "State                      \n",
      "Arizona                37  \n",
      "California             59  \n",
      "Oregon                 34  \n",
      "\n",
      "[3 rows x 59 columns]\n",
      "\n",
      "Task 3: Customer response rate by marketing channel\n",
      "Response            No   Yes  Response Rate\n",
      "variable                                   \n",
      "Renew Offer Type  8813  1466       0.142621\n",
      "Sales Channel     8813  1466       0.142621\n"
     ]
    }
   ],
   "source": [
    "# Task 1: Number of policies sold by state and month\n",
    "policy_count = df1.groupby(['State', 'Effective To Date']).size().unstack(fill_value=0)\n",
    "\n",
    "# Task 2: Number of policies sold by month, by state, for the top 3 states with the highest number of policies sold\n",
    "top_states = df1.groupby('State').size().nlargest(3).index\n",
    "top_states_policy_count = df1[df1['State'].isin(top_states)].groupby(['State', 'Effective To Date']).size().unstack(fill_value=0)\n",
    "\n",
    "# Task 3: Customer response rate by marketing channel\n",
    "response_by_channel = pd.melt(df1, id_vars=['Response'], value_vars=['Sales Channel', 'Renew Offer Type'])\n",
    "response_rate_by_channel = response_by_channel.groupby(['variable', 'Response']).size().unstack(fill_value=0)\n",
    "response_rate_by_channel['Response Rate'] = response_rate_by_channel['Yes'] / response_rate_by_channel.sum(axis=1)\n",
    "\n",
    "# Display results\n",
    "print(\"Task 1: Number of policies sold by state and month\")\n",
    "print(policy_count)\n",
    "\n",
    "print(\"\\nTask 2: Number of policies sold by month, by state, for the top 3 states with the highest number of policies sold\")\n",
    "print(top_states_policy_count)\n",
    "\n",
    "print(\"\\nTask 3: Customer response rate by marketing channel\")\n",
    "print(response_rate_by_channel)"
   ]
  },
  {
   "cell_type": "code",
   "execution_count": 14,
   "id": "a171062b-ecb4-4996-abea-2ee7a5d71127",
   "metadata": {},
   "outputs": [
    {
     "name": "stdout",
     "output_type": "stream",
     "text": [
      "\n",
      "Task 3: Customer response rate by marketing channel\n",
      "Response            No   Yes  Response Rate\n",
      "variable                                   \n",
      "Renew Offer Type  8813  1466       0.142621\n",
      "Sales Channel     8813  1466       0.142621\n"
     ]
    }
   ],
   "source": [
    "# Task 3: Customer response rate by marketing channel\n",
    "response_by_channel = pd.melt(df1, id_vars=['Response'], value_vars=['Sales Channel', 'Renew Offer Type'])\n",
    "response_rate_by_channel = response_by_channel.groupby(['variable', 'Response']).size().unstack(fill_value=0)\n",
    "response_rate_by_channel['Response Rate'] = response_rate_by_channel['Yes'] / response_rate_by_channel.sum(axis=1)\n",
    "\n",
    "# Display results for Task 3\n",
    "print(\"\\nTask 3: Customer response rate by marketing channel\")\n",
    "print(response_rate_by_channel)"
   ]
  },
  {
   "cell_type": "code",
   "execution_count": null,
   "id": "c835e128-93e8-49f2-b329-54de455ee06e",
   "metadata": {},
   "outputs": [],
   "source": []
  }
 ],
 "metadata": {
  "colab": {
   "provenance": []
  },
  "kernelspec": {
   "display_name": "Python 3 (ipykernel)",
   "language": "python",
   "name": "python3"
  },
  "language_info": {
   "codemirror_mode": {
    "name": "ipython",
    "version": 3
   },
   "file_extension": ".py",
   "mimetype": "text/x-python",
   "name": "python",
   "nbconvert_exporter": "python",
   "pygments_lexer": "ipython3",
   "version": "3.11.7"
  }
 },
 "nbformat": 4,
 "nbformat_minor": 5
}
