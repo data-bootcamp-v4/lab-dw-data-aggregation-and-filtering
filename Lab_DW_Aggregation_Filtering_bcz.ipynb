{
  "cells": [
    {
      "cell_type": "markdown",
      "id": "31969215-2a90-4d8b-ac36-646a7ae13744",
      "metadata": {
        "id": "31969215-2a90-4d8b-ac36-646a7ae13744"
      },
      "source": [
        "# Lab | Data Aggregation and Filtering"
      ]
    },
    {
      "cell_type": "markdown",
      "id": "a8f08a52-bec0-439b-99cc-11d3809d8b5d",
      "metadata": {
        "id": "a8f08a52-bec0-439b-99cc-11d3809d8b5d"
      },
      "source": [
        "In this challenge, we will continue to work with customer data from an insurance company. We will use the dataset called marketing_customer_analysis.csv, which can be found at the following link:\n",
        "\n",
        "https://raw.githubusercontent.com/data-bootcamp-v4/data/main/marketing_customer_analysis.csv\n",
        "\n",
        "This dataset contains information such as customer demographics, policy details, vehicle information, and the customer's response to the last marketing campaign. Our goal is to explore and analyze this data by first performing data cleaning, formatting, and structuring."
      ]
    },
    {
      "cell_type": "markdown",
      "id": "9c98ddc5-b041-4c94-ada1-4dfee5c98e50",
      "metadata": {
        "id": "9c98ddc5-b041-4c94-ada1-4dfee5c98e50"
      },
      "source": [
        "1. Create a new DataFrame that only includes customers who have a total_claim_amount greater than $1,000 and have a response of \"Yes\" to the last marketing campaign."
      ]
    },
    {
      "cell_type": "markdown",
      "id": "b9be383e-5165-436e-80c8-57d4c757c8c3",
      "metadata": {
        "id": "b9be383e-5165-436e-80c8-57d4c757c8c3"
      },
      "source": [
        "2. Using the original Dataframe, analyze the average total_claim_amount by each policy type and gender for customers who have responded \"Yes\" to the last marketing campaign. Write your conclusions."
      ]
    },
    {
      "cell_type": "markdown",
      "id": "7050f4ac-53c5-4193-a3c0-8699b87196f0",
      "metadata": {
        "id": "7050f4ac-53c5-4193-a3c0-8699b87196f0"
      },
      "source": [
        "3. Analyze the total number of customers who have policies in each state, and then filter the results to only include states where there are more than 500 customers."
      ]
    },
    {
      "cell_type": "markdown",
      "id": "b60a4443-a1a7-4bbf-b78e-9ccdf9895e0d",
      "metadata": {
        "id": "b60a4443-a1a7-4bbf-b78e-9ccdf9895e0d"
      },
      "source": [
        "4. Find the maximum, minimum, and median customer lifetime value by education level and gender. Write your conclusions."
      ]
    },
    {
      "cell_type": "code",
      "execution_count": 1,
      "id": "82113f7d",
      "metadata": {},
      "outputs": [],
      "source": [
        "import pandas as pd\n",
        "\n",
        "file_url = \"https://raw.githubusercontent.com/data-bootcamp-v4/data/main/marketing_customer_analysis.csv\"\n",
        "\n",
        "data = pd.read_csv(file_url)"
      ]
    },
    {
      "cell_type": "code",
      "execution_count": 2,
      "id": "27368f3f",
      "metadata": {},
      "outputs": [],
      "source": [
        "data.columns = (\n",
        "    data.columns\n",
        "    .str.strip()\n",
        "    .str.lower()\n",
        "    .str.replace(' ', '_')\n",
        ")\n"
      ]
    },
    {
      "cell_type": "code",
      "execution_count": 3,
      "id": "15a1dcf9",
      "metadata": {},
      "outputs": [],
      "source": [
        "filtered_data = data[(data['total_claim_amount'] > 1000) & (data['response'] == 'Yes')]"
      ]
    },
    {
      "cell_type": "code",
      "execution_count": 4,
      "id": "7f21bb09",
      "metadata": {},
      "outputs": [
        {
          "name": "stdout",
          "output_type": "stream",
          "text": [
            "67\n"
          ]
        }
      ],
      "source": [
        "print(filtered_data.shape[0])"
      ]
    },
    {
      "cell_type": "code",
      "execution_count": 5,
      "id": "fe999e71",
      "metadata": {},
      "outputs": [
        {
          "data": {
            "text/html": [
              "<div>\n",
              "<style scoped>\n",
              "    .dataframe tbody tr th:only-of-type {\n",
              "        vertical-align: middle;\n",
              "    }\n",
              "\n",
              "    .dataframe tbody tr th {\n",
              "        vertical-align: top;\n",
              "    }\n",
              "\n",
              "    .dataframe thead th {\n",
              "        text-align: right;\n",
              "    }\n",
              "</style>\n",
              "<table border=\"1\" class=\"dataframe\">\n",
              "  <thead>\n",
              "    <tr style=\"text-align: right;\">\n",
              "      <th></th>\n",
              "      <th>unnamed:_0</th>\n",
              "      <th>customer</th>\n",
              "      <th>state</th>\n",
              "      <th>customer_lifetime_value</th>\n",
              "      <th>response</th>\n",
              "      <th>coverage</th>\n",
              "      <th>education</th>\n",
              "      <th>effective_to_date</th>\n",
              "      <th>employmentstatus</th>\n",
              "      <th>gender</th>\n",
              "      <th>...</th>\n",
              "      <th>number_of_open_complaints</th>\n",
              "      <th>number_of_policies</th>\n",
              "      <th>policy_type</th>\n",
              "      <th>policy</th>\n",
              "      <th>renew_offer_type</th>\n",
              "      <th>sales_channel</th>\n",
              "      <th>total_claim_amount</th>\n",
              "      <th>vehicle_class</th>\n",
              "      <th>vehicle_size</th>\n",
              "      <th>vehicle_type</th>\n",
              "    </tr>\n",
              "  </thead>\n",
              "  <tbody>\n",
              "    <tr>\n",
              "      <th>189</th>\n",
              "      <td>189</td>\n",
              "      <td>OK31456</td>\n",
              "      <td>California</td>\n",
              "      <td>11009.130490</td>\n",
              "      <td>Yes</td>\n",
              "      <td>Premium</td>\n",
              "      <td>Bachelor</td>\n",
              "      <td>1/24/11</td>\n",
              "      <td>Employed</td>\n",
              "      <td>F</td>\n",
              "      <td>...</td>\n",
              "      <td>0.0</td>\n",
              "      <td>1</td>\n",
              "      <td>Corporate Auto</td>\n",
              "      <td>Corporate L3</td>\n",
              "      <td>Offer2</td>\n",
              "      <td>Agent</td>\n",
              "      <td>1358.400000</td>\n",
              "      <td>Luxury Car</td>\n",
              "      <td>Medsize</td>\n",
              "      <td>NaN</td>\n",
              "    </tr>\n",
              "    <tr>\n",
              "      <th>236</th>\n",
              "      <td>236</td>\n",
              "      <td>YJ16163</td>\n",
              "      <td>Oregon</td>\n",
              "      <td>11009.130490</td>\n",
              "      <td>Yes</td>\n",
              "      <td>Premium</td>\n",
              "      <td>Bachelor</td>\n",
              "      <td>1/24/11</td>\n",
              "      <td>Employed</td>\n",
              "      <td>F</td>\n",
              "      <td>...</td>\n",
              "      <td>0.0</td>\n",
              "      <td>1</td>\n",
              "      <td>Special Auto</td>\n",
              "      <td>Special L3</td>\n",
              "      <td>Offer2</td>\n",
              "      <td>Agent</td>\n",
              "      <td>1358.400000</td>\n",
              "      <td>Luxury Car</td>\n",
              "      <td>Medsize</td>\n",
              "      <td>A</td>\n",
              "    </tr>\n",
              "    <tr>\n",
              "      <th>419</th>\n",
              "      <td>419</td>\n",
              "      <td>GW43195</td>\n",
              "      <td>Oregon</td>\n",
              "      <td>25807.063000</td>\n",
              "      <td>Yes</td>\n",
              "      <td>Extended</td>\n",
              "      <td>College</td>\n",
              "      <td>2/13/11</td>\n",
              "      <td>Employed</td>\n",
              "      <td>F</td>\n",
              "      <td>...</td>\n",
              "      <td>1.0</td>\n",
              "      <td>2</td>\n",
              "      <td>Personal Auto</td>\n",
              "      <td>Personal L2</td>\n",
              "      <td>Offer1</td>\n",
              "      <td>Branch</td>\n",
              "      <td>1027.200000</td>\n",
              "      <td>Luxury Car</td>\n",
              "      <td>Small</td>\n",
              "      <td>A</td>\n",
              "    </tr>\n",
              "    <tr>\n",
              "      <th>442</th>\n",
              "      <td>442</td>\n",
              "      <td>IP94270</td>\n",
              "      <td>Arizona</td>\n",
              "      <td>13736.132500</td>\n",
              "      <td>Yes</td>\n",
              "      <td>Premium</td>\n",
              "      <td>Master</td>\n",
              "      <td>2/13/11</td>\n",
              "      <td>Disabled</td>\n",
              "      <td>F</td>\n",
              "      <td>...</td>\n",
              "      <td>0.0</td>\n",
              "      <td>8</td>\n",
              "      <td>Personal Auto</td>\n",
              "      <td>Personal L2</td>\n",
              "      <td>Offer1</td>\n",
              "      <td>Web</td>\n",
              "      <td>1261.319869</td>\n",
              "      <td>SUV</td>\n",
              "      <td>Medsize</td>\n",
              "      <td>A</td>\n",
              "    </tr>\n",
              "    <tr>\n",
              "      <th>587</th>\n",
              "      <td>587</td>\n",
              "      <td>FJ28407</td>\n",
              "      <td>California</td>\n",
              "      <td>5619.689084</td>\n",
              "      <td>Yes</td>\n",
              "      <td>Premium</td>\n",
              "      <td>High School or Below</td>\n",
              "      <td>1/26/11</td>\n",
              "      <td>Unemployed</td>\n",
              "      <td>M</td>\n",
              "      <td>...</td>\n",
              "      <td>0.0</td>\n",
              "      <td>1</td>\n",
              "      <td>Personal Auto</td>\n",
              "      <td>Personal L1</td>\n",
              "      <td>Offer2</td>\n",
              "      <td>Web</td>\n",
              "      <td>1027.000029</td>\n",
              "      <td>SUV</td>\n",
              "      <td>Medsize</td>\n",
              "      <td>A</td>\n",
              "    </tr>\n",
              "  </tbody>\n",
              "</table>\n",
              "<p>5 rows × 26 columns</p>\n",
              "</div>"
            ],
            "text/plain": [
              "     unnamed:_0 customer       state  customer_lifetime_value response  \\\n",
              "189         189  OK31456  California             11009.130490      Yes   \n",
              "236         236  YJ16163      Oregon             11009.130490      Yes   \n",
              "419         419  GW43195      Oregon             25807.063000      Yes   \n",
              "442         442  IP94270     Arizona             13736.132500      Yes   \n",
              "587         587  FJ28407  California              5619.689084      Yes   \n",
              "\n",
              "     coverage             education effective_to_date employmentstatus gender  \\\n",
              "189   Premium              Bachelor           1/24/11         Employed      F   \n",
              "236   Premium              Bachelor           1/24/11         Employed      F   \n",
              "419  Extended               College           2/13/11         Employed      F   \n",
              "442   Premium                Master           2/13/11         Disabled      F   \n",
              "587   Premium  High School or Below           1/26/11       Unemployed      M   \n",
              "\n",
              "     ...  number_of_open_complaints number_of_policies     policy_type  \\\n",
              "189  ...                        0.0                  1  Corporate Auto   \n",
              "236  ...                        0.0                  1    Special Auto   \n",
              "419  ...                        1.0                  2   Personal Auto   \n",
              "442  ...                        0.0                  8   Personal Auto   \n",
              "587  ...                        0.0                  1   Personal Auto   \n",
              "\n",
              "           policy  renew_offer_type  sales_channel  total_claim_amount  \\\n",
              "189  Corporate L3            Offer2          Agent         1358.400000   \n",
              "236    Special L3            Offer2          Agent         1358.400000   \n",
              "419   Personal L2            Offer1         Branch         1027.200000   \n",
              "442   Personal L2            Offer1            Web         1261.319869   \n",
              "587   Personal L1            Offer2            Web         1027.000029   \n",
              "\n",
              "     vehicle_class vehicle_size vehicle_type  \n",
              "189     Luxury Car      Medsize          NaN  \n",
              "236     Luxury Car      Medsize            A  \n",
              "419     Luxury Car        Small            A  \n",
              "442            SUV      Medsize            A  \n",
              "587            SUV      Medsize            A  \n",
              "\n",
              "[5 rows x 26 columns]"
            ]
          },
          "execution_count": 5,
          "metadata": {},
          "output_type": "execute_result"
        }
      ],
      "source": [
        "filtered_data.head()"
      ]
    },
    {
      "cell_type": "code",
      "execution_count": 6,
      "id": "348bec82",
      "metadata": {},
      "outputs": [],
      "source": [
        "responded_yes = data[data['response'] == 'Yes']"
      ]
    },
    {
      "cell_type": "code",
      "execution_count": 7,
      "id": "cf41c8aa",
      "metadata": {},
      "outputs": [],
      "source": [
        "average_claim = responded_yes.pivot_table(\n",
        "    values='total_claim_amount',  # Columna de la que queremos el promedio\n",
        "    index='policy_type',          # Filas: Tipo de póliza\n",
        "    columns='gender',             # Columnas: Género\n",
        "    aggfunc='mean'                # Agregación: Promedio\n",
        ")\n",
        "average_claim = average_claim.round(2)"
      ]
    },
    {
      "cell_type": "code",
      "execution_count": 8,
      "id": "21b9d10e",
      "metadata": {},
      "outputs": [
        {
          "name": "stdout",
          "output_type": "stream",
          "text": [
            "gender               F       M\n",
            "policy_type                   \n",
            "Corporate Auto  433.74  408.58\n",
            "Personal Auto   452.97  457.01\n",
            "Special Auto    453.28  429.53\n"
          ]
        }
      ],
      "source": [
        "print(average_claim)"
      ]
    },
    {
      "cell_type": "code",
      "execution_count": 10,
      "id": "d98f8558",
      "metadata": {},
      "outputs": [],
      "source": [
        "customers_by_state = data['state'].value_counts()\n",
        "states_with_more_than_500 = customers_by_state[customers_by_state > 500]"
      ]
    },
    {
      "cell_type": "code",
      "execution_count": 12,
      "id": "54f27513",
      "metadata": {},
      "outputs": [
        {
          "name": "stdout",
          "output_type": "stream",
          "text": [
            "state\n",
            "California    3552\n",
            "Oregon        2909\n",
            "Arizona       1937\n",
            "Nevada         993\n",
            "Washington     888\n",
            "Name: count, dtype: int64\n"
          ]
        }
      ],
      "source": [
        "print(states_with_more_than_500)"
      ]
    },
    {
      "cell_type": "code",
      "execution_count": 15,
      "id": "10bf7f86",
      "metadata": {},
      "outputs": [
        {
          "name": "stdout",
          "output_type": "stream",
          "text": [
            "              education gender          max          min       median\n",
            "0              Bachelor      F  73225.95652  1904.000852  5640.505303\n",
            "1              Bachelor      M  67907.27050  1898.007675  5548.031892\n",
            "2               College      F  61850.18803  1898.683686  5623.611187\n",
            "3               College      M  61134.68307  1918.119700  6005.847375\n",
            "4                Doctor      F  44856.11397  2395.570000  5332.462694\n",
            "5                Doctor      M  32677.34284  2267.604038  5577.669457\n",
            "6  High School or Below      F  55277.44589  2144.921535  6039.553187\n",
            "7  High School or Below      M  83325.38119  1940.981221  6286.731006\n",
            "8                Master      F  51016.06704  2417.777032  5729.855012\n",
            "9                Master      M  50568.25912  2272.307310  5579.099207\n"
          ]
        }
      ],
      "source": [
        "clv_stats = data.groupby(['education', 'gender'])['customer_lifetime_value'].agg(['max', 'min', 'median']).reset_index()\n",
        "print(clv_stats)"
      ]
    },
    {
      "cell_type": "markdown",
      "id": "b42999f9-311f-481e-ae63-40a5577072c5",
      "metadata": {
        "id": "b42999f9-311f-481e-ae63-40a5577072c5"
      },
      "source": [
        "## Bonus"
      ]
    },
    {
      "cell_type": "markdown",
      "id": "81ff02c5-6584-4f21-a358-b918697c6432",
      "metadata": {
        "id": "81ff02c5-6584-4f21-a358-b918697c6432"
      },
      "source": [
        "5. The marketing team wants to analyze the number of policies sold by state and month. Present the data in a table where the months are arranged as columns and the states are arranged as rows."
      ]
    },
    {
      "cell_type": "markdown",
      "id": "b6aec097-c633-4017-a125-e77a97259cda",
      "metadata": {
        "id": "b6aec097-c633-4017-a125-e77a97259cda"
      },
      "source": [
        "6.  Display a new DataFrame that contains the number of policies sold by month, by state, for the top 3 states with the highest number of policies sold.\n",
        "\n",
        "*Hint:*\n",
        "- *To accomplish this, you will first need to group the data by state and month, then count the number of policies sold for each group. Afterwards, you will need to sort the data by the count of policies sold in descending order.*\n",
        "- *Next, you will select the top 3 states with the highest number of policies sold.*\n",
        "- *Finally, you will create a new DataFrame that contains the number of policies sold by month for each of the top 3 states.*"
      ]
    },
    {
      "cell_type": "markdown",
      "id": "ba975b8a-a2cf-4fbf-9f59-ebc381767009",
      "metadata": {
        "id": "ba975b8a-a2cf-4fbf-9f59-ebc381767009"
      },
      "source": [
        "7. The marketing team wants to analyze the effect of different marketing channels on the customer response rate.\n",
        "\n",
        "Hint: You can use melt to unpivot the data and create a table that shows the customer response rate (those who responded \"Yes\") by marketing channel."
      ]
    },
    {
      "cell_type": "markdown",
      "id": "e4378d94-48fb-4850-a802-b1bc8f427b2d",
      "metadata": {
        "id": "e4378d94-48fb-4850-a802-b1bc8f427b2d"
      },
      "source": [
        "External Resources for Data Filtering: https://towardsdatascience.com/filtering-data-frames-in-pandas-b570b1f834b9"
      ]
    },
    {
      "cell_type": "code",
      "execution_count": 16,
      "id": "449513f4-0459-46a0-a18d-9398d974c9ad",
      "metadata": {
        "id": "449513f4-0459-46a0-a18d-9398d974c9ad"
      },
      "outputs": [
        {
          "name": "stderr",
          "output_type": "stream",
          "text": [
            "/var/folders/9b/1k3cjn9x4cg_w6793ryzh2hw0000gn/T/ipykernel_77586/3360401548.py:1: UserWarning: Could not infer format, so each element will be parsed individually, falling back to `dateutil`. To ensure parsing is consistent and as-expected, please specify a format.\n",
            "  data['effective_to_date'] = pd.to_datetime(data['effective_to_date'])\n"
          ]
        }
      ],
      "source": [
        "data['effective_to_date'] = pd.to_datetime(data['effective_to_date'])"
      ]
    },
    {
      "cell_type": "code",
      "execution_count": 17,
      "id": "9f2394d2",
      "metadata": {},
      "outputs": [],
      "source": [
        "data['month'] = data['effective_to_date'].dt.month"
      ]
    },
    {
      "cell_type": "code",
      "execution_count": 18,
      "id": "fc7c9fa6",
      "metadata": {},
      "outputs": [
        {
          "name": "stdout",
          "output_type": "stream",
          "text": [
            "month          1     2\n",
            "state                 \n",
            "Arizona     1008   929\n",
            "California  1918  1634\n",
            "Nevada       551   442\n",
            "Oregon      1565  1344\n",
            "Washington   463   425\n"
          ]
        }
      ],
      "source": [
        "policies_by_state_month = data.pivot_table(\n",
        "    index='state',          # Fila: Estado\n",
        "    columns='month',        # Columna: Mes\n",
        "    values='policy',        # Conteo basado en la columna 'policy' (puede ser cualquier columna no vacía)\n",
        "    aggfunc='count',        # Función de agregación: contar\n",
        "    fill_value=0            # Reemplazar NaN por 0\n",
        ")\n",
        "print(policies_by_state_month)"
      ]
    },
    {
      "cell_type": "code",
      "execution_count": 20,
      "id": "2e171ab4",
      "metadata": {},
      "outputs": [],
      "source": [
        "data = pd.read_csv(file_url)\n",
        "data.columns = (\n",
        "    data.columns\n",
        "    .str.strip()\n",
        "    .str.lower()\n",
        "    .str.replace(' ', '_')\n",
        ")"
      ]
    },
    {
      "cell_type": "code",
      "execution_count": 21,
      "id": "ff1874eb",
      "metadata": {},
      "outputs": [
        {
          "name": "stderr",
          "output_type": "stream",
          "text": [
            "/var/folders/9b/1k3cjn9x4cg_w6793ryzh2hw0000gn/T/ipykernel_77586/470678941.py:1: UserWarning: Could not infer format, so each element will be parsed individually, falling back to `dateutil`. To ensure parsing is consistent and as-expected, please specify a format.\n",
            "  data['effective_to_date'] = pd.to_datetime(data['effective_to_date'])\n"
          ]
        }
      ],
      "source": [
        "data['effective_to_date'] = pd.to_datetime(data['effective_to_date'])\n",
        "data['month'] = data['effective_to_date'].dt.month\n",
        "\n",
        "total_policies_by_state = data['state'].value_counts()\n",
        "\n",
        "top_3_states = total_policies_by_state.head(3).index\n",
        "\n",
        "filtered_data = data[data['state'].isin(top_3_states)]"
      ]
    },
    {
      "cell_type": "code",
      "execution_count": 22,
      "id": "fe4a6201",
      "metadata": {},
      "outputs": [
        {
          "name": "stdout",
          "output_type": "stream",
          "text": [
            "month          1     2\n",
            "state                 \n",
            "Arizona     1008   929\n",
            "California  1918  1634\n",
            "Oregon      1565  1344\n"
          ]
        }
      ],
      "source": [
        "top_3_policies_by_month = filtered_data.pivot_table(\n",
        "    index='state',         # Fila: Estado\n",
        "    columns='month',       # Columna: Mes\n",
        "    values='policy',       # Conteo basado en la columna 'policy' (o cualquier columna no vacía)\n",
        "    aggfunc='count',       # Función de agregación: contar\n",
        "    fill_value=0           # Reemplazar NaN por 0\n",
        ")\n",
        "print(top_3_policies_by_month)\n"
      ]
    }
  ],
  "metadata": {
    "colab": {
      "provenance": []
    },
    "kernelspec": {
      "display_name": "ironhack",
      "language": "python",
      "name": "python3"
    },
    "language_info": {
      "codemirror_mode": {
        "name": "ipython",
        "version": 3
      },
      "file_extension": ".py",
      "mimetype": "text/x-python",
      "name": "python",
      "nbconvert_exporter": "python",
      "pygments_lexer": "ipython3",
      "version": "3.12.5"
    }
  },
  "nbformat": 4,
  "nbformat_minor": 5
}
