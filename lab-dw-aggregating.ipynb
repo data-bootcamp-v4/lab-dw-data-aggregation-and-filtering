{
  "cells": [
    {
      "cell_type": "markdown",
      "id": "31969215-2a90-4d8b-ac36-646a7ae13744",
      "metadata": {
        "id": "31969215-2a90-4d8b-ac36-646a7ae13744"
      },
      "source": [
        "# Lab | Data Aggregation and Filtering"
      ]
    },
    {
      "cell_type": "markdown",
      "id": "a8f08a52-bec0-439b-99cc-11d3809d8b5d",
      "metadata": {
        "id": "a8f08a52-bec0-439b-99cc-11d3809d8b5d"
      },
      "source": [
        "In this challenge, we will continue to work with customer data from an insurance company. We will use the dataset called marketing_customer_analysis.csv, which can be found at the following link:\n",
        "\n",
        "https://raw.githubusercontent.com/data-bootcamp-v4/data/main/marketing_customer_analysis.csv\n",
        "\n",
        "This dataset contains information such as customer demographics, policy details, vehicle information, and the customer's response to the last marketing campaign. Our goal is to explore and analyze this data by first performing data cleaning, formatting, and structuring."
      ]
    },
    {
      "cell_type": "markdown",
      "id": "9c98ddc5-b041-4c94-ada1-4dfee5c98e50",
      "metadata": {
        "id": "9c98ddc5-b041-4c94-ada1-4dfee5c98e50"
      },
      "source": [
        "1. Create a new DataFrame that only includes customers who have a total_claim_amount greater than $1,000 and have a response of \"Yes\" to the last marketing campaign."
      ]
    },
    {
      "cell_type": "markdown",
      "id": "ec81ff4e",
      "metadata": {},
      "source": [
        "2. Using the original Dataframe, analyze the average `total_claim_amount` by each policy type and gender for customers who have responded \"Yes\" to the last marketing campaign.\n"
      ]
    },
    {
      "cell_type": "markdown",
      "id": "7050f4ac-53c5-4193-a3c0-8699b87196f0",
      "metadata": {
        "id": "7050f4ac-53c5-4193-a3c0-8699b87196f0"
      },
      "source": [
        "3. Analyze the total number of customers who have policies in each state, and then filter the results to only include states where there are more than 500 customers."
      ]
    },
    {
      "cell_type": "markdown",
      "id": "b60a4443-a1a7-4bbf-b78e-9ccdf9895e0d",
      "metadata": {
        "id": "b60a4443-a1a7-4bbf-b78e-9ccdf9895e0d"
      },
      "source": [
        "4. Find the maximum, minimum, and median customer lifetime value by education level and gender. Write your conclusions."
      ]
    },
    {
      "cell_type": "code",
      "execution_count": null,
      "id": "c1c49ab6",
      "metadata": {},
      "outputs": [
        {
          "name": "stdout",
          "output_type": "stream",
          "text": [
            "      policy_type gender  total_claim_amount\n",
            "0  Corporate Auto      F          433.738499\n",
            "1  Corporate Auto      M          408.582459\n",
            "2   Personal Auto      F          452.965929\n",
            "3   Personal Auto      M          457.010178\n",
            "4    Special Auto      F          453.280164\n",
            "5    Special Auto      M          429.527942\n",
            "        state  customer\n",
            "0     Arizona      1937\n",
            "1  California      3552\n",
            "2      Nevada       993\n",
            "3      Oregon      2909\n",
            "4  Washington       888\n"
          ]
        }
      ],
      "source": [
        "import pandas as pd\n",
        "\n",
        "df = pd.read_csv('data/marketing_customer_analysis.csv')\n",
        "\n",
        "# Convert the column names to lowercase and replace \" \" with \"_\"\n",
        "df.columns = df.columns.str.lower().str.replace(' ', '_')\n",
        "\n",
        "# 1. Create a new DataFrame that only includes customers who have a total_claim_amount greater than $1,000 and have a response of \"Yes\" to the last marketing campaign.\n",
        "df_filtered = df[(df['total_claim_amount'] > 1000) & (df['response'] == 'Yes')]\n",
        "# df_filtered 67x26\n",
        "\n",
        "# 2. Using the original Dataframe `df`, analyze the average `total_claim_amount` by each policy type and gender for customers who have responded \"Yes\" to the last marketing campaign:\n",
        "\n",
        "# Filter the original DataFrame for customers who responded \"Yes\"\n",
        "df_yes_response = df[df['response'] == 'Yes']\n",
        "\n",
        "# Group by policy type and gender, then calculate the average total_claim_amount\n",
        "average_claim_amount = df_yes_response.groupby(['policy_type', 'gender'])['total_claim_amount'].mean().reset_index()\n",
        "\n",
        "# Display the result\n",
        "print(average_claim_amount)\n",
        "\n",
        "# 3. Analyze the total number of customers who have policies in each state, and then filter the results to only include states where there are more than 500 customers\n",
        "\n",
        "# Group by state and count the number of customers\n",
        "customers_by_state = df.groupby('state')['customer'].count().reset_index()\n",
        "\n",
        "# Filter the results to include only states with more than 500 customers\n",
        "states_with_more_than_500_customers = customers_by_state[customers_by_state['customer'] > 500]\n",
        "\n",
        "# Display the result\n",
        "print(states_with_more_than_500_customers)\n",
        "\n",
        "# 4. Find the maximum, minimum, and median customer lifetime value by education level and gender\n",
        "\n",
        "# Group by education level and gender, then calculate the max, min, and median customer_lifetime_value\n",
        "clv_stats = df.groupby(['education', 'gender'])['customer_lifetime_value'].agg(['max', 'min', 'median']).reset_index()\n",
        "\n",
        "# Display the result\n",
        "print(clv_stats)\n"
      ]
    },
    {
      "cell_type": "markdown",
      "id": "1588eaf4",
      "metadata": {},
      "source": [
        "## Conclusiones\n",
        "\n",
        "- Máximo valor de vida del cliente: Los valores máximos de customer_lifetime_value pueden indicar qué combinaciones de nivel de educación y género tienden a tener los clientes más valiosos.\n",
        "- Mínimo valor de vida del cliente: Los valores mínimos pueden ayudar a identificar los grupos con los clientes menos valiosos.\n",
        "- Mediana del valor de vida del cliente: La mediana proporciona una medida central que no se ve afectada por valores atípicos, ofreciendo una visión más robusta del valor típico del cliente en cada grupo."
      ]
    },
    {
      "cell_type": "markdown",
      "id": "b42999f9-311f-481e-ae63-40a5577072c5",
      "metadata": {
        "id": "b42999f9-311f-481e-ae63-40a5577072c5"
      },
      "source": [
        "## Bonus"
      ]
    },
    {
      "cell_type": "markdown",
      "id": "81ff02c5-6584-4f21-a358-b918697c6432",
      "metadata": {
        "id": "81ff02c5-6584-4f21-a358-b918697c6432"
      },
      "source": [
        "5. The marketing team wants to analyze the number of policies sold by state and month. Present the data in a table where the months are arranged as columns and the states are arranged as rows."
      ]
    },
    {
      "cell_type": "markdown",
      "id": "b6aec097-c633-4017-a125-e77a97259cda",
      "metadata": {
        "id": "b6aec097-c633-4017-a125-e77a97259cda"
      },
      "source": [
        "6.  Display a new DataFrame that contains the number of policies sold by month, by state, for the top 3 states with the highest number of policies sold.\n",
        "\n",
        "*Hint:*\n",
        "- *To accomplish this, you will first need to group the data by state and month, then count the number of policies sold for each group. Afterwards, you will need to sort the data by the count of policies sold in descending order.*\n",
        "- *Next, you will select the top 3 states with the highest number of policies sold.*\n",
        "- *Finally, you will create a new DataFrame that contains the number of policies sold by month for each of the top 3 states.*"
      ]
    },
    {
      "cell_type": "markdown",
      "id": "ba975b8a-a2cf-4fbf-9f59-ebc381767009",
      "metadata": {
        "id": "ba975b8a-a2cf-4fbf-9f59-ebc381767009"
      },
      "source": [
        "7. The marketing team wants to analyze the effect of different marketing channels on the customer response rate.\n",
        "\n",
        "Hint: You can use melt to unpivot the data and create a table that shows the customer response rate (those who responded \"Yes\") by marketing channel."
      ]
    },
    {
      "cell_type": "markdown",
      "id": "e4378d94-48fb-4850-a802-b1bc8f427b2d",
      "metadata": {
        "id": "e4378d94-48fb-4850-a802-b1bc8f427b2d"
      },
      "source": [
        "External Resources for Data Filtering: https://towardsdatascience.com/filtering-data-frames-in-pandas-b570b1f834b9"
      ]
    },
    {
      "cell_type": "code",
      "execution_count": null,
      "id": "449513f4-0459-46a0-a18d-9398d974c9ad",
      "metadata": {
        "id": "449513f4-0459-46a0-a18d-9398d974c9ad"
      },
      "outputs": [],
      "source": [
        "# your code goes here"
      ]
    }
  ],
  "metadata": {
    "colab": {
      "provenance": []
    },
    "kernelspec": {
      "display_name": "base",
      "language": "python",
      "name": "python3"
    },
    "language_info": {
      "codemirror_mode": {
        "name": "ipython",
        "version": 3
      },
      "file_extension": ".py",
      "mimetype": "text/x-python",
      "name": "python",
      "nbconvert_exporter": "python",
      "pygments_lexer": "ipython3",
      "version": "3.12.7"
    }
  },
  "nbformat": 4,
  "nbformat_minor": 5
}
