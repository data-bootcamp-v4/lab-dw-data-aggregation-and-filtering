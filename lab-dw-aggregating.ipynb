{
  "cells": [
    {
      "cell_type": "markdown",
      "id": "31969215-2a90-4d8b-ac36-646a7ae13744",
      "metadata": {
        "id": "31969215-2a90-4d8b-ac36-646a7ae13744"
      },
      "source": [
        "# Lab | Data Aggregation and Filtering"
      ]
    },
    {
      "cell_type": "markdown",
      "id": "a8f08a52-bec0-439b-99cc-11d3809d8b5d",
      "metadata": {
        "id": "a8f08a52-bec0-439b-99cc-11d3809d8b5d"
      },
      "source": [
        "In this challenge, we will continue to work with customer data from an insurance company. We will use the dataset called marketing_customer_analysis.csv, which can be found at the following link:\n",
        "\n",
        "https://raw.githubusercontent.com/data-bootcamp-v4/data/main/marketing_customer_analysis.csv\n",
        "\n",
        "This dataset contains information such as customer demographics, policy details, vehicle information, and the customer's response to the last marketing campaign. Our goal is to explore and analyze this data by first performing data cleaning, formatting, and structuring."
      ]
    },
    {
      "cell_type": "markdown",
      "id": "9c98ddc5-b041-4c94-ada1-4dfee5c98e50",
      "metadata": {
        "id": "9c98ddc5-b041-4c94-ada1-4dfee5c98e50"
      },
      "source": [
        "1. Create a new DataFrame that only includes customers who have a total_claim_amount greater than $1,000 and have a response of \"Yes\" to the last marketing campaign."
      ]
    },
    {
      "cell_type": "markdown",
      "id": "b9be383e-5165-436e-80c8-57d4c757c8c3",
      "metadata": {
        "id": "b9be383e-5165-436e-80c8-57d4c757c8c3"
      },
      "source": [
        "2. Using the original Dataframe, analyze the average total_claim_amount by each policy type and gender for customers who have responded \"Yes\" to the last marketing campaign. Write your conclusions."
      ]
    },
    {
      "cell_type": "markdown",
      "id": "7050f4ac-53c5-4193-a3c0-8699b87196f0",
      "metadata": {
        "id": "7050f4ac-53c5-4193-a3c0-8699b87196f0"
      },
      "source": [
        "3. Analyze the total number of customers who have policies in each state, and then filter the results to only include states where there are more than 500 customers."
      ]
    },
    {
      "cell_type": "markdown",
      "id": "b60a4443-a1a7-4bbf-b78e-9ccdf9895e0d",
      "metadata": {
        "id": "b60a4443-a1a7-4bbf-b78e-9ccdf9895e0d"
      },
      "source": [
        "4. Find the maximum, minimum, and median customer lifetime value by education level and gender. Write your conclusions."
      ]
    },
    {
      "cell_type": "code",
      "execution_count": 10,
      "id": "86fcd206",
      "metadata": {},
      "outputs": [],
      "source": [
        "import pandas as pd\n",
        "pd.set_option('display.max_columns', None)"
      ]
    },
    {
      "cell_type": "code",
      "execution_count": 33,
      "id": "5735d3d8",
      "metadata": {},
      "outputs": [
        {
          "name": "stderr",
          "output_type": "stream",
          "text": [
            "C:\\Users\\maric\\AppData\\Local\\Temp\\ipykernel_2732\\3695398604.py:3: FutureWarning: DataFrame.applymap has been deprecated. Use DataFrame.map instead.\n",
            "  data = data.applymap(lambda x: x.lower() if isinstance(x,str) else x)\n"
          ]
        },
        {
          "data": {
            "text/html": [
              "<div>\n",
              "<style scoped>\n",
              "    .dataframe tbody tr th:only-of-type {\n",
              "        vertical-align: middle;\n",
              "    }\n",
              "\n",
              "    .dataframe tbody tr th {\n",
              "        vertical-align: top;\n",
              "    }\n",
              "\n",
              "    .dataframe thead th {\n",
              "        text-align: right;\n",
              "    }\n",
              "</style>\n",
              "<table border=\"1\" class=\"dataframe\">\n",
              "  <thead>\n",
              "    <tr style=\"text-align: right;\">\n",
              "      <th></th>\n",
              "      <th>customer</th>\n",
              "      <th>state</th>\n",
              "      <th>customer_lifetime_value</th>\n",
              "      <th>response</th>\n",
              "      <th>coverage</th>\n",
              "      <th>education</th>\n",
              "      <th>effective_to_date</th>\n",
              "      <th>employmentstatus</th>\n",
              "      <th>gender</th>\n",
              "      <th>income</th>\n",
              "      <th>location_code</th>\n",
              "      <th>marital_status</th>\n",
              "      <th>monthly_premium_auto</th>\n",
              "      <th>months_since_last_claim</th>\n",
              "      <th>months_since_policy_inception</th>\n",
              "      <th>number_of_open_complaints</th>\n",
              "      <th>number_of_policies</th>\n",
              "      <th>policy_type</th>\n",
              "      <th>policy</th>\n",
              "      <th>renew_offer_type</th>\n",
              "      <th>sales_channel</th>\n",
              "      <th>total_claim_amount</th>\n",
              "      <th>vehicle_class</th>\n",
              "      <th>vehicle_size</th>\n",
              "      <th>vehicle_type</th>\n",
              "      <th>month</th>\n",
              "    </tr>\n",
              "  </thead>\n",
              "  <tbody>\n",
              "    <tr>\n",
              "      <th>189</th>\n",
              "      <td>ok31456</td>\n",
              "      <td>california</td>\n",
              "      <td>11009.130490</td>\n",
              "      <td>yes</td>\n",
              "      <td>premium</td>\n",
              "      <td>bachelor</td>\n",
              "      <td>2011-01-24</td>\n",
              "      <td>employed</td>\n",
              "      <td>f</td>\n",
              "      <td>51643</td>\n",
              "      <td>suburban</td>\n",
              "      <td>single</td>\n",
              "      <td>283</td>\n",
              "      <td>16.0</td>\n",
              "      <td>43</td>\n",
              "      <td>0.0</td>\n",
              "      <td>1</td>\n",
              "      <td>corporate auto</td>\n",
              "      <td>corporate l3</td>\n",
              "      <td>offer2</td>\n",
              "      <td>agent</td>\n",
              "      <td>1358.400000</td>\n",
              "      <td>luxury car</td>\n",
              "      <td>medsize</td>\n",
              "      <td>a</td>\n",
              "      <td>1</td>\n",
              "    </tr>\n",
              "    <tr>\n",
              "      <th>236</th>\n",
              "      <td>yj16163</td>\n",
              "      <td>oregon</td>\n",
              "      <td>11009.130490</td>\n",
              "      <td>yes</td>\n",
              "      <td>premium</td>\n",
              "      <td>bachelor</td>\n",
              "      <td>2011-01-24</td>\n",
              "      <td>employed</td>\n",
              "      <td>f</td>\n",
              "      <td>51643</td>\n",
              "      <td>suburban</td>\n",
              "      <td>single</td>\n",
              "      <td>283</td>\n",
              "      <td>16.0</td>\n",
              "      <td>43</td>\n",
              "      <td>0.0</td>\n",
              "      <td>1</td>\n",
              "      <td>special auto</td>\n",
              "      <td>special l3</td>\n",
              "      <td>offer2</td>\n",
              "      <td>agent</td>\n",
              "      <td>1358.400000</td>\n",
              "      <td>luxury car</td>\n",
              "      <td>medsize</td>\n",
              "      <td>a</td>\n",
              "      <td>1</td>\n",
              "    </tr>\n",
              "    <tr>\n",
              "      <th>419</th>\n",
              "      <td>gw43195</td>\n",
              "      <td>oregon</td>\n",
              "      <td>25807.063000</td>\n",
              "      <td>yes</td>\n",
              "      <td>extended</td>\n",
              "      <td>college</td>\n",
              "      <td>2011-02-13</td>\n",
              "      <td>employed</td>\n",
              "      <td>f</td>\n",
              "      <td>71210</td>\n",
              "      <td>suburban</td>\n",
              "      <td>married</td>\n",
              "      <td>214</td>\n",
              "      <td>8.0</td>\n",
              "      <td>89</td>\n",
              "      <td>1.0</td>\n",
              "      <td>2</td>\n",
              "      <td>personal auto</td>\n",
              "      <td>personal l2</td>\n",
              "      <td>offer1</td>\n",
              "      <td>branch</td>\n",
              "      <td>1027.200000</td>\n",
              "      <td>luxury car</td>\n",
              "      <td>small</td>\n",
              "      <td>a</td>\n",
              "      <td>2</td>\n",
              "    </tr>\n",
              "    <tr>\n",
              "      <th>442</th>\n",
              "      <td>ip94270</td>\n",
              "      <td>arizona</td>\n",
              "      <td>13736.132500</td>\n",
              "      <td>yes</td>\n",
              "      <td>premium</td>\n",
              "      <td>master</td>\n",
              "      <td>2011-02-13</td>\n",
              "      <td>disabled</td>\n",
              "      <td>f</td>\n",
              "      <td>16181</td>\n",
              "      <td>suburban</td>\n",
              "      <td>divorced</td>\n",
              "      <td>181</td>\n",
              "      <td>22.0</td>\n",
              "      <td>79</td>\n",
              "      <td>0.0</td>\n",
              "      <td>8</td>\n",
              "      <td>personal auto</td>\n",
              "      <td>personal l2</td>\n",
              "      <td>offer1</td>\n",
              "      <td>web</td>\n",
              "      <td>1261.319869</td>\n",
              "      <td>suv</td>\n",
              "      <td>medsize</td>\n",
              "      <td>a</td>\n",
              "      <td>2</td>\n",
              "    </tr>\n",
              "    <tr>\n",
              "      <th>587</th>\n",
              "      <td>fj28407</td>\n",
              "      <td>california</td>\n",
              "      <td>5619.689084</td>\n",
              "      <td>yes</td>\n",
              "      <td>premium</td>\n",
              "      <td>high school or below</td>\n",
              "      <td>2011-01-26</td>\n",
              "      <td>unemployed</td>\n",
              "      <td>m</td>\n",
              "      <td>0</td>\n",
              "      <td>suburban</td>\n",
              "      <td>married</td>\n",
              "      <td>153</td>\n",
              "      <td>25.0</td>\n",
              "      <td>5</td>\n",
              "      <td>0.0</td>\n",
              "      <td>1</td>\n",
              "      <td>personal auto</td>\n",
              "      <td>personal l1</td>\n",
              "      <td>offer2</td>\n",
              "      <td>web</td>\n",
              "      <td>1027.000029</td>\n",
              "      <td>suv</td>\n",
              "      <td>medsize</td>\n",
              "      <td>a</td>\n",
              "      <td>1</td>\n",
              "    </tr>\n",
              "  </tbody>\n",
              "</table>\n",
              "</div>"
            ],
            "text/plain": [
              "    customer       state  customer_lifetime_value response  coverage  \\\n",
              "189  ok31456  california             11009.130490      yes   premium   \n",
              "236  yj16163      oregon             11009.130490      yes   premium   \n",
              "419  gw43195      oregon             25807.063000      yes  extended   \n",
              "442  ip94270     arizona             13736.132500      yes   premium   \n",
              "587  fj28407  california              5619.689084      yes   premium   \n",
              "\n",
              "                education effective_to_date employmentstatus gender  income  \\\n",
              "189              bachelor        2011-01-24         employed      f   51643   \n",
              "236              bachelor        2011-01-24         employed      f   51643   \n",
              "419               college        2011-02-13         employed      f   71210   \n",
              "442                master        2011-02-13         disabled      f   16181   \n",
              "587  high school or below        2011-01-26       unemployed      m       0   \n",
              "\n",
              "    location_code marital_status  monthly_premium_auto  \\\n",
              "189      suburban         single                   283   \n",
              "236      suburban         single                   283   \n",
              "419      suburban        married                   214   \n",
              "442      suburban       divorced                   181   \n",
              "587      suburban        married                   153   \n",
              "\n",
              "     months_since_last_claim  months_since_policy_inception  \\\n",
              "189                     16.0                             43   \n",
              "236                     16.0                             43   \n",
              "419                      8.0                             89   \n",
              "442                     22.0                             79   \n",
              "587                     25.0                              5   \n",
              "\n",
              "     number_of_open_complaints  number_of_policies     policy_type  \\\n",
              "189                        0.0                   1  corporate auto   \n",
              "236                        0.0                   1    special auto   \n",
              "419                        1.0                   2   personal auto   \n",
              "442                        0.0                   8   personal auto   \n",
              "587                        0.0                   1   personal auto   \n",
              "\n",
              "           policy renew_offer_type sales_channel  total_claim_amount  \\\n",
              "189  corporate l3           offer2         agent         1358.400000   \n",
              "236    special l3           offer2         agent         1358.400000   \n",
              "419   personal l2           offer1        branch         1027.200000   \n",
              "442   personal l2           offer1           web         1261.319869   \n",
              "587   personal l1           offer2           web         1027.000029   \n",
              "\n",
              "    vehicle_class vehicle_size vehicle_type  month  \n",
              "189    luxury car      medsize            a      1  \n",
              "236    luxury car      medsize            a      1  \n",
              "419    luxury car        small            a      2  \n",
              "442           suv      medsize            a      2  \n",
              "587           suv      medsize            a      1  "
            ]
          },
          "execution_count": 33,
          "metadata": {},
          "output_type": "execute_result"
        }
      ],
      "source": [
        "# 1\n",
        "data = pd.read_csv('https://raw.githubusercontent.com/data-bootcamp-v4/data/main/marketing_customer_analysis_clean.csv')\n",
        "data = data.applymap(lambda x: x.lower() if isinstance(x,str) else x)\n",
        "\n",
        "data.drop(columns=['unnamed:_0'], inplace=True)\n",
        "data_a = data.loc[(data['total_claim_amount'] > 1000) & (data['response'] == 'yes')]\n",
        "\n",
        "data_a.head(5)"
      ]
    },
    {
      "cell_type": "code",
      "execution_count": 49,
      "id": "53026bb9",
      "metadata": {},
      "outputs": [
        {
          "name": "stdout",
          "output_type": "stream",
          "text": [
            "['yes']\n"
          ]
        },
        {
          "data": {
            "text/plain": [
              "policy_type     gender\n",
              "corporate auto  f         433.74\n",
              "                m         408.58\n",
              "personal auto   f         452.97\n",
              "                m         457.01\n",
              "special auto    f         453.28\n",
              "                m         429.53\n",
              "Name: total_claim_amount, dtype: float64"
            ]
          },
          "execution_count": 49,
          "metadata": {},
          "output_type": "execute_result"
        }
      ],
      "source": [
        "# 2\n",
        "yes_data = data.loc[data['response'] == 'yes']\n",
        "print(yes_data.response.unique())\n",
        "yes_data.groupby(['policy_type', 'gender'])['total_claim_amount'].mean().round(2)"
      ]
    },
    {
      "cell_type": "markdown",
      "id": "80b24157",
      "metadata": {},
      "source": [
        "**conclusion**:\n",
        "The data seems to indicate that Men in personal auto policy type pay the most towards on their insurance policy on average, while Men in corporate auto pay the least on their insurance on average"
      ]
    },
    {
      "cell_type": "code",
      "execution_count": 48,
      "id": "21a53d8a",
      "metadata": {},
      "outputs": [
        {
          "name": "stdout",
          "output_type": "stream",
          "text": [
            "num of total customers: 10910\n"
          ]
        },
        {
          "data": {
            "text/plain": [
              "state\n",
              "arizona       1937\n",
              "california    4183\n",
              "nevada         993\n",
              "oregon        2909\n",
              "washington     888\n",
              "dtype: int64"
            ]
          },
          "execution_count": 48,
          "metadata": {},
          "output_type": "execute_result"
        }
      ],
      "source": [
        "# 3 \n",
        "print(f\"num of total customers: {data.shape[0]}\")\n",
        "data_group = data.groupby('state').size()\n",
        "data_more = data_group[data_group > 500]\n",
        "data_more"
      ]
    },
    {
      "cell_type": "code",
      "execution_count": 53,
      "id": "b699b912",
      "metadata": {},
      "outputs": [
        {
          "data": {
            "text/html": [
              "<div>\n",
              "<style scoped>\n",
              "    .dataframe tbody tr th:only-of-type {\n",
              "        vertical-align: middle;\n",
              "    }\n",
              "\n",
              "    .dataframe tbody tr th {\n",
              "        vertical-align: top;\n",
              "    }\n",
              "\n",
              "    .dataframe thead th {\n",
              "        text-align: right;\n",
              "    }\n",
              "</style>\n",
              "<table border=\"1\" class=\"dataframe\">\n",
              "  <thead>\n",
              "    <tr style=\"text-align: right;\">\n",
              "      <th></th>\n",
              "      <th></th>\n",
              "      <th>max</th>\n",
              "      <th>min</th>\n",
              "      <th>median</th>\n",
              "    </tr>\n",
              "    <tr>\n",
              "      <th>gender</th>\n",
              "      <th>education</th>\n",
              "      <th></th>\n",
              "      <th></th>\n",
              "      <th></th>\n",
              "    </tr>\n",
              "  </thead>\n",
              "  <tbody>\n",
              "    <tr>\n",
              "      <th rowspan=\"5\" valign=\"top\">f</th>\n",
              "      <th>bachelor</th>\n",
              "      <td>73225.96</td>\n",
              "      <td>1904.00</td>\n",
              "      <td>5640.51</td>\n",
              "    </tr>\n",
              "    <tr>\n",
              "      <th>college</th>\n",
              "      <td>61850.19</td>\n",
              "      <td>1898.68</td>\n",
              "      <td>5623.61</td>\n",
              "    </tr>\n",
              "    <tr>\n",
              "      <th>doctor</th>\n",
              "      <td>44856.11</td>\n",
              "      <td>2395.57</td>\n",
              "      <td>5332.46</td>\n",
              "    </tr>\n",
              "    <tr>\n",
              "      <th>high school or below</th>\n",
              "      <td>55277.45</td>\n",
              "      <td>2144.92</td>\n",
              "      <td>6039.55</td>\n",
              "    </tr>\n",
              "    <tr>\n",
              "      <th>master</th>\n",
              "      <td>51016.07</td>\n",
              "      <td>2417.78</td>\n",
              "      <td>5729.86</td>\n",
              "    </tr>\n",
              "    <tr>\n",
              "      <th rowspan=\"5\" valign=\"top\">m</th>\n",
              "      <th>bachelor</th>\n",
              "      <td>67907.27</td>\n",
              "      <td>1898.01</td>\n",
              "      <td>5548.03</td>\n",
              "    </tr>\n",
              "    <tr>\n",
              "      <th>college</th>\n",
              "      <td>61134.68</td>\n",
              "      <td>1918.12</td>\n",
              "      <td>6005.85</td>\n",
              "    </tr>\n",
              "    <tr>\n",
              "      <th>doctor</th>\n",
              "      <td>32677.34</td>\n",
              "      <td>2267.60</td>\n",
              "      <td>5577.67</td>\n",
              "    </tr>\n",
              "    <tr>\n",
              "      <th>high school or below</th>\n",
              "      <td>83325.38</td>\n",
              "      <td>1940.98</td>\n",
              "      <td>6286.73</td>\n",
              "    </tr>\n",
              "    <tr>\n",
              "      <th>master</th>\n",
              "      <td>50568.26</td>\n",
              "      <td>2272.31</td>\n",
              "      <td>5579.10</td>\n",
              "    </tr>\n",
              "  </tbody>\n",
              "</table>\n",
              "</div>"
            ],
            "text/plain": [
              "                                  max      min   median\n",
              "gender education                                       \n",
              "f      bachelor              73225.96  1904.00  5640.51\n",
              "       college               61850.19  1898.68  5623.61\n",
              "       doctor                44856.11  2395.57  5332.46\n",
              "       high school or below  55277.45  2144.92  6039.55\n",
              "       master                51016.07  2417.78  5729.86\n",
              "m      bachelor              67907.27  1898.01  5548.03\n",
              "       college               61134.68  1918.12  6005.85\n",
              "       doctor                32677.34  2267.60  5577.67\n",
              "       high school or below  83325.38  1940.98  6286.73\n",
              "       master                50568.26  2272.31  5579.10"
            ]
          },
          "execution_count": 53,
          "metadata": {},
          "output_type": "execute_result"
        }
      ],
      "source": [
        "# 4\n",
        "data_c = data.groupby(['gender','education'])\n",
        "data_c['customer_lifetime_value'].agg(['max','min','median']).round(2)"
      ]
    },
    {
      "cell_type": "markdown",
      "id": "59f74730",
      "metadata": {},
      "source": [
        "**conclusion**:\n",
        "The data seems to indicate that Men without any college education and women with a bachelor degree have the highest Max CLV, Women with some college & Men with bachelor degrees have the lowest Min CLV, and the median ranges from 5.3 - 6.28 k CLV across gender and education levels. \n",
        "\n",
        "The data seems to indicate those with less education and are men tend to have higher CLV, since both the highest max clv & median belong to men without college. It could be that Blue Collar men working as contractors are more prone to car accidents due to harsh work conditions and are likely the most unlikely group to negotiate with insurance, so they probably tend to get higher CLV scores."
      ]
    },
    {
      "cell_type": "markdown",
      "id": "b42999f9-311f-481e-ae63-40a5577072c5",
      "metadata": {
        "id": "b42999f9-311f-481e-ae63-40a5577072c5"
      },
      "source": [
        "## Bonus"
      ]
    },
    {
      "cell_type": "markdown",
      "id": "81ff02c5-6584-4f21-a358-b918697c6432",
      "metadata": {
        "id": "81ff02c5-6584-4f21-a358-b918697c6432"
      },
      "source": [
        "5. The marketing team wants to analyze the number of policies sold by state and month. Present the data in a table where the months are arranged as columns and the states are arranged as rows."
      ]
    },
    {
      "cell_type": "markdown",
      "id": "b6aec097-c633-4017-a125-e77a97259cda",
      "metadata": {
        "id": "b6aec097-c633-4017-a125-e77a97259cda"
      },
      "source": [
        "6.  Display a new DataFrame that contains the number of policies sold by month, by state, for the top 3 states with the highest number of policies sold.\n",
        "\n",
        "*Hint:*\n",
        "- *To accomplish this, you will first need to group the data by state and month, then count the number of policies sold for each group. Afterwards, you will need to sort the data by the count of policies sold in descending order.*\n",
        "- *Next, you will select the top 3 states with the highest number of policies sold.*\n",
        "- *Finally, you will create a new DataFrame that contains the number of policies sold by month for each of the top 3 states.*"
      ]
    },
    {
      "cell_type": "markdown",
      "id": "ba975b8a-a2cf-4fbf-9f59-ebc381767009",
      "metadata": {
        "id": "ba975b8a-a2cf-4fbf-9f59-ebc381767009"
      },
      "source": [
        "7. The marketing team wants to analyze the effect of different marketing channels on the customer response rate.\n",
        "\n",
        "Hint: You can use melt to unpivot the data and create a table that shows the customer response rate (those who responded \"Yes\") by marketing channel."
      ]
    },
    {
      "cell_type": "markdown",
      "id": "e4378d94-48fb-4850-a802-b1bc8f427b2d",
      "metadata": {
        "id": "e4378d94-48fb-4850-a802-b1bc8f427b2d"
      },
      "source": [
        "External Resources for Data Filtering: https://towardsdatascience.com/filtering-data-frames-in-pandas-b570b1f834b9"
      ]
    },
    {
      "cell_type": "code",
      "execution_count": null,
      "id": "449513f4-0459-46a0-a18d-9398d974c9ad",
      "metadata": {
        "id": "449513f4-0459-46a0-a18d-9398d974c9ad"
      },
      "outputs": [],
      "source": [
        "# your code goes here"
      ]
    }
  ],
  "metadata": {
    "colab": {
      "provenance": []
    },
    "kernelspec": {
      "display_name": "Python 3 (ipykernel)",
      "language": "python",
      "name": "python3"
    },
    "language_info": {
      "codemirror_mode": {
        "name": "ipython",
        "version": 3
      },
      "file_extension": ".py",
      "mimetype": "text/x-python",
      "name": "python",
      "nbconvert_exporter": "python",
      "pygments_lexer": "ipython3",
      "version": "3.11.9"
    }
  },
  "nbformat": 4,
  "nbformat_minor": 5
}
