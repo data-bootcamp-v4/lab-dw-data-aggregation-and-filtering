{
  "cells": [
    {
      "cell_type": "markdown",
      "id": "31969215-2a90-4d8b-ac36-646a7ae13744",
      "metadata": {
        "id": "31969215-2a90-4d8b-ac36-646a7ae13744"
      },
      "source": [
        "# Lab | Data Aggregation and Filtering"
      ]
    },
    {
      "cell_type": "markdown",
      "id": "a8f08a52-bec0-439b-99cc-11d3809d8b5d",
      "metadata": {
        "id": "a8f08a52-bec0-439b-99cc-11d3809d8b5d"
      },
      "source": [
        "In this challenge, we will continue to work with customer data from an insurance company. We will use the dataset called marketing_customer_analysis.csv, which can be found at the following link:\n",
        "\n",
        "https://raw.githubusercontent.com/data-bootcamp-v4/data/main/marketing_customer_analysis.csv\n",
        "\n",
        "This dataset contains information such as customer demographics, policy details, vehicle information, and the customer's response to the last marketing campaign. Our goal is to explore and analyze this data by first performing data cleaning, formatting, and structuring."
      ]
    },
    {
      "cell_type": "code",
      "execution_count": 1,
      "id": "992e79ef",
      "metadata": {},
      "outputs": [
        {
          "name": "stdout",
          "output_type": "stream",
          "text": [
            "   Unnamed: 0 Customer       State  Customer Lifetime Value Response  \\\n",
            "0           0  DK49336     Arizona              4809.216960       No   \n",
            "1           1  KX64629  California              2228.525238       No   \n",
            "2           2  LZ68649  Washington             14947.917300       No   \n",
            "3           3  XL78013      Oregon             22332.439460      Yes   \n",
            "4           4  QA50777      Oregon              9025.067525       No   \n",
            "\n",
            "   Coverage Education Effective To Date EmploymentStatus Gender  ...  \\\n",
            "0     Basic   College           2/18/11         Employed      M  ...   \n",
            "1     Basic   College           1/18/11       Unemployed      F  ...   \n",
            "2     Basic  Bachelor           2/10/11         Employed      M  ...   \n",
            "3  Extended   College           1/11/11         Employed      M  ...   \n",
            "4   Premium  Bachelor           1/17/11    Medical Leave      F  ...   \n",
            "\n",
            "   Number of Open Complaints Number of Policies     Policy Type        Policy  \\\n",
            "0                        0.0                  9  Corporate Auto  Corporate L3   \n",
            "1                        0.0                  1   Personal Auto   Personal L3   \n",
            "2                        0.0                  2   Personal Auto   Personal L3   \n",
            "3                        0.0                  2  Corporate Auto  Corporate L3   \n",
            "4                        NaN                  7   Personal Auto   Personal L2   \n",
            "\n",
            "   Renew Offer Type  Sales Channel  Total Claim Amount  Vehicle Class  \\\n",
            "0            Offer3          Agent          292.800000  Four-Door Car   \n",
            "1            Offer4    Call Center          744.924331  Four-Door Car   \n",
            "2            Offer3    Call Center          480.000000            SUV   \n",
            "3            Offer2         Branch          484.013411  Four-Door Car   \n",
            "4            Offer1         Branch          707.925645  Four-Door Car   \n",
            "\n",
            "  Vehicle Size Vehicle Type  \n",
            "0      Medsize          NaN  \n",
            "1      Medsize          NaN  \n",
            "2      Medsize            A  \n",
            "3      Medsize            A  \n",
            "4      Medsize          NaN  \n",
            "\n",
            "[5 rows x 26 columns]\n"
          ]
        }
      ],
      "source": [
        "import pandas as pd\n",
        "\n",
        "# Load the dataset\n",
        "url = 'https://raw.githubusercontent.com/data-bootcamp-v4/data/main/marketing_customer_analysis.csv'\n",
        "df = pd.read_csv(url)\n",
        "\n",
        "# Display the first few rows of the dataset\n",
        "print(df.head())\n"
      ]
    },
    {
      "cell_type": "code",
      "execution_count": 3,
      "id": "34c441e5",
      "metadata": {},
      "outputs": [
        {
          "name": "stdout",
          "output_type": "stream",
          "text": [
            "   unnamed:_0 customer       state  customer_lifetime_value response  \\\n",
            "0           0  DK49336     Arizona              4809.216960       No   \n",
            "1           1  KX64629  California              2228.525238       No   \n",
            "2           2  LZ68649  Washington             14947.917300       No   \n",
            "3           3  XL78013      Oregon             22332.439460      Yes   \n",
            "4           4  QA50777      Oregon              9025.067525       No   \n",
            "\n",
            "   coverage education effective_to_date employmentstatus gender  ...  \\\n",
            "0     Basic   College           2/18/11         Employed      M  ...   \n",
            "1     Basic   College           1/18/11       Unemployed      F  ...   \n",
            "2     Basic  Bachelor           2/10/11         Employed      M  ...   \n",
            "3  Extended   College           1/11/11         Employed      M  ...   \n",
            "4   Premium  Bachelor           1/17/11    Medical Leave      F  ...   \n",
            "\n",
            "   number_of_open_complaints number_of_policies     policy_type        policy  \\\n",
            "0                        0.0                  9  Corporate Auto  Corporate L3   \n",
            "1                        0.0                  1   Personal Auto   Personal L3   \n",
            "2                        0.0                  2   Personal Auto   Personal L3   \n",
            "3                        0.0                  2  Corporate Auto  Corporate L3   \n",
            "4                    Unknown                  7   Personal Auto   Personal L2   \n",
            "\n",
            "  renew_offer_type  sales_channel total_claim_amount  vehicle_class  \\\n",
            "0           Offer3          Agent         292.800000  Four-Door Car   \n",
            "1           Offer4    Call Center         744.924331  Four-Door Car   \n",
            "2           Offer3    Call Center         480.000000            SUV   \n",
            "3           Offer2         Branch         484.013411  Four-Door Car   \n",
            "4           Offer1         Branch         707.925645  Four-Door Car   \n",
            "\n",
            "  vehicle_size vehicle_type  \n",
            "0      Medsize      Unknown  \n",
            "1      Medsize      Unknown  \n",
            "2      Medsize            A  \n",
            "3      Medsize            A  \n",
            "4      Medsize      Unknown  \n",
            "\n",
            "[5 rows x 26 columns]\n"
          ]
        }
      ],
      "source": [
        "def clean_data(df):\n",
        "    # Remove duplicates\n",
        "    df = df.drop_duplicates()\n",
        "    \n",
        "    # Handle missing values (example: fill missing values with a placeholder)\n",
        "    df = df.fillna('Unknown')\n",
        "    \n",
        "    # Standardize column names (example: convert to lowercase and replace spaces with underscores)\n",
        "    df.columns = df.columns.str.lower().str.replace(' ', '_')\n",
        "    \n",
        "    return df\n",
        "\n",
        "# Apply the cleaning function\n",
        "cleaned_df = clean_data(df)\n",
        "\n",
        "# Display the cleaned data\n",
        "print(cleaned_df.head())\n"
      ]
    },
    {
      "cell_type": "code",
      "execution_count": 4,
      "id": "7e212cb6",
      "metadata": {},
      "outputs": [
        {
          "name": "stdout",
          "output_type": "stream",
          "text": [
            "   unnamed:_0 customer       state  customer_lifetime_value response  \\\n",
            "0           0  DK49336     Arizona              4809.216960       No   \n",
            "1           1  KX64629  California              2228.525238       No   \n",
            "2           2  LZ68649  Washington             14947.917300       No   \n",
            "3           3  XL78013      Oregon             22332.439460      Yes   \n",
            "4           4  QA50777      Oregon              9025.067525       No   \n",
            "\n",
            "   coverage education effective_to_date employmentstatus gender  ...  \\\n",
            "0     Basic   College        2011-02-18         Employed      M  ...   \n",
            "1     Basic   College        2011-01-18       Unemployed      F  ...   \n",
            "2     Basic  Bachelor        2011-02-10         Employed      M  ...   \n",
            "3  Extended   College        2011-01-11         Employed      M  ...   \n",
            "4   Premium  Bachelor        2011-01-17    Medical Leave      F  ...   \n",
            "\n",
            "      policy_type        policy renew_offer_type  sales_channel  \\\n",
            "0  Corporate Auto  Corporate L3           Offer3          Agent   \n",
            "1   Personal Auto   Personal L3           Offer4    Call Center   \n",
            "2   Personal Auto   Personal L3           Offer3    Call Center   \n",
            "3  Corporate Auto  Corporate L3           Offer2         Branch   \n",
            "4   Personal Auto   Personal L2           Offer1         Branch   \n",
            "\n",
            "  total_claim_amount  vehicle_class vehicle_size  vehicle_type  year month  \n",
            "0         292.800000  Four-Door Car      Medsize       Unknown  2011     2  \n",
            "1         744.924331  Four-Door Car      Medsize       Unknown  2011     1  \n",
            "2         480.000000            SUV      Medsize             A  2011     2  \n",
            "3         484.013411  Four-Door Car      Medsize             A  2011     1  \n",
            "4         707.925645  Four-Door Car      Medsize       Unknown  2011     1  \n",
            "\n",
            "[5 rows x 28 columns]\n"
          ]
        }
      ],
      "source": [
        "# Convert data types if necessary (example: convert 'effective_to_date' to datetime)\n",
        "cleaned_df['effective_to_date'] = pd.to_datetime(cleaned_df['effective_to_date'], errors='coerce')\n",
        "\n",
        "# Create new columns if needed (example: extract year and month from 'effective_to_date')\n",
        "cleaned_df['year'] = cleaned_df['effective_to_date'].dt.year\n",
        "cleaned_df['month'] = cleaned_df['effective_to_date'].dt.month\n",
        "\n",
        "# Display the formatted data\n",
        "print(cleaned_df.head())\n"
      ]
    },
    {
      "cell_type": "markdown",
      "id": "9c98ddc5-b041-4c94-ada1-4dfee5c98e50",
      "metadata": {
        "id": "9c98ddc5-b041-4c94-ada1-4dfee5c98e50"
      },
      "source": [
        "1. Create a new DataFrame that only includes customers who have a total_claim_amount greater than $1,000 and have a response of \"Yes\" to the last marketing campaign."
      ]
    },
    {
      "cell_type": "code",
      "execution_count": 6,
      "id": "d501568f",
      "metadata": {},
      "outputs": [
        {
          "name": "stdout",
          "output_type": "stream",
          "text": [
            "   Unnamed: 0 Customer       State  Customer Lifetime Value Response  \\\n",
            "0           0  DK49336     Arizona              4809.216960       No   \n",
            "1           1  KX64629  California              2228.525238       No   \n",
            "2           2  LZ68649  Washington             14947.917300       No   \n",
            "3           3  XL78013      Oregon             22332.439460      Yes   \n",
            "4           4  QA50777      Oregon              9025.067525       No   \n",
            "\n",
            "   Coverage Education Effective To Date EmploymentStatus Gender  ...  \\\n",
            "0     Basic   College           2/18/11         Employed      M  ...   \n",
            "1     Basic   College           1/18/11       Unemployed      F  ...   \n",
            "2     Basic  Bachelor           2/10/11         Employed      M  ...   \n",
            "3  Extended   College           1/11/11         Employed      M  ...   \n",
            "4   Premium  Bachelor           1/17/11    Medical Leave      F  ...   \n",
            "\n",
            "   Number of Open Complaints Number of Policies     Policy Type        Policy  \\\n",
            "0                        0.0                  9  Corporate Auto  Corporate L3   \n",
            "1                        0.0                  1   Personal Auto   Personal L3   \n",
            "2                        0.0                  2   Personal Auto   Personal L3   \n",
            "3                        0.0                  2  Corporate Auto  Corporate L3   \n",
            "4                        NaN                  7   Personal Auto   Personal L2   \n",
            "\n",
            "   Renew Offer Type  Sales Channel  Total Claim Amount  Vehicle Class  \\\n",
            "0            Offer3          Agent          292.800000  Four-Door Car   \n",
            "1            Offer4    Call Center          744.924331  Four-Door Car   \n",
            "2            Offer3    Call Center          480.000000            SUV   \n",
            "3            Offer2         Branch          484.013411  Four-Door Car   \n",
            "4            Offer1         Branch          707.925645  Four-Door Car   \n",
            "\n",
            "  Vehicle Size Vehicle Type  \n",
            "0      Medsize          NaN  \n",
            "1      Medsize          NaN  \n",
            "2      Medsize            A  \n",
            "3      Medsize            A  \n",
            "4      Medsize          NaN  \n",
            "\n",
            "[5 rows x 26 columns]\n"
          ]
        }
      ],
      "source": [
        "import pandas as pd\n",
        "\n",
        "# Load the dataset\n",
        "url = 'https://raw.githubusercontent.com/data-bootcamp-v4/data/main/marketing_customer_analysis.csv'\n",
        "df = pd.read_csv(url)\n",
        "\n",
        "# Display the first few rows of the dataset\n",
        "print(df.head())\n"
      ]
    },
    {
      "cell_type": "code",
      "execution_count": 9,
      "id": "87c7dbda",
      "metadata": {},
      "outputs": [
        {
          "name": "stdout",
          "output_type": "stream",
          "text": [
            "Index(['Unnamed: 0', 'Customer', 'State', 'Customer Lifetime Value',\n",
            "       'Response', 'Coverage', 'Education', 'Effective To Date',\n",
            "       'EmploymentStatus', 'Gender', 'Income', 'Location Code',\n",
            "       'Marital Status', 'Monthly Premium Auto', 'Months Since Last Claim',\n",
            "       'Months Since Policy Inception', 'Number of Open Complaints',\n",
            "       'Number of Policies', 'Policy Type', 'Policy', 'Renew Offer Type',\n",
            "       'Sales Channel', 'Total Claim Amount', 'Vehicle Class', 'Vehicle Size',\n",
            "       'Vehicle Type'],\n",
            "      dtype='object')\n"
          ]
        }
      ],
      "source": [
        "df.columns = df.columns.str.strip()\n",
        "print(df.columns)\n"
      ]
    },
    {
      "cell_type": "code",
      "execution_count": 31,
      "id": "1b7068d2",
      "metadata": {},
      "outputs": [
        {
          "name": "stdout",
          "output_type": "stream",
          "text": [
            "   CustomerID  total_claim_amount Response\n",
            "0           1                1200      Yes\n",
            "2           3                1500      Yes\n"
          ]
        }
      ],
      "source": [
        "\n",
        "import pandas as pd\n",
        "\n",
        "# Example data\n",
        "data = {\n",
        "    'CustomerID': [1, 2, 3, 4],\n",
        "    'total_claim_amount': [1200, 800, 1500, 900],\n",
        "    'Response': ['Yes', 'No', 'Yes', 'Yes']\n",
        "}\n",
        "df = pd.DataFrame(data)\n",
        "\n",
        "# Filter customers with total_claim_amount > $1,000 and Response is 'Yes'\n",
        "filtered_df = df[(df['total_claim_amount'] > 1000) & (df['Response'] == 'Yes')]\n",
        "\n",
        "# Display the filtered DataFrame\n",
        "print(filtered_df)\n"
      ]
    },
    {
      "cell_type": "code",
      "execution_count": 15,
      "id": "01896fbd",
      "metadata": {},
      "outputs": [
        {
          "name": "stdout",
          "output_type": "stream",
          "text": [
            "Index(['Unnamed: 0', 'Customer', 'State', 'Customer Lifetime Value',\n",
            "       'Response', 'Coverage', 'Education', 'Effective To Date',\n",
            "       'EmploymentStatus', 'Gender', 'Income', 'Location Code',\n",
            "       'Marital Status', 'Monthly Premium Auto', 'Months Since Last Claim',\n",
            "       'Months Since Policy Inception', 'Number of Open Complaints',\n",
            "       'Number of Policies', 'Policy Type', 'Policy', 'Renew Offer Type',\n",
            "       'Sales Channel', 'Total Claim Amount', 'Vehicle Class', 'Vehicle Size',\n",
            "       'Vehicle Type'],\n",
            "      dtype='object')\n"
          ]
        }
      ],
      "source": [
        "print(df.columns)"
      ]
    },
    {
      "cell_type": "markdown",
      "id": "b9be383e-5165-436e-80c8-57d4c757c8c3",
      "metadata": {
        "id": "b9be383e-5165-436e-80c8-57d4c757c8c3"
      },
      "source": [
        "2. Using the original Dataframe, analyze the average total_claim_amount by each policy type and gender for customers who have responded \"Yes\" to the last marketing campaign. Write your conclusions."
      ]
    },
    {
      "cell_type": "code",
      "execution_count": 22,
      "id": "ce5578dc",
      "metadata": {},
      "outputs": [
        {
          "name": "stdout",
          "output_type": "stream",
          "text": [
            "      policy_type gender  total_claim_amount\n",
            "0  Corporate Auto      M          683.333333\n",
            "1   Personal Auto      F          650.000000\n",
            "2    Special Auto      F         1200.000000\n"
          ]
        }
      ],
      "source": [
        "import pandas as pd\n",
        "\n",
        "# Sample DataFrame for demonstration (replace with your actual DataFrame)\n",
        "data = {\n",
        "    'customer_id': [1, 2, 3, 4, 5, 6, 7, 8],\n",
        "    'policy_type': ['Corporate Auto', 'Personal Auto', 'Corporate Auto', 'Special Auto', 'Special Auto', 'Personal Auto', 'Corporate Auto', 'Special Auto'],\n",
        "    'gender': ['M', 'F', 'M', 'F', 'M', 'F', 'M', 'F'],\n",
        "    'total_claim_amount': [500, 1000, 750, 1200, 300, 650, 800, 1300],\n",
        "    'response': ['Yes', 'No', 'Yes', 'Yes', 'No', 'Yes', 'Yes', 'No']\n",
        "}\n",
        "\n",
        "df_customers = pd.DataFrame(data)\n",
        "\n",
        "# Step 1: Filter customers who have responded \"Yes\" to the last marketing campaign\n",
        "responded_yes = df_customers[df_customers['response'] == 'Yes']\n",
        "\n",
        "# Step 2: Group by policy type and gender and calculate the average total_claim_amount\n",
        "average_claims = responded_yes.groupby(['policy_type', 'gender'])['total_claim_amount'].mean().reset_index()\n",
        "\n",
        "# Display the results\n",
        "print(average_claims)\n",
        "\n"
      ]
    },
    {
      "cell_type": "markdown",
      "id": "7050f4ac-53c5-4193-a3c0-8699b87196f0",
      "metadata": {
        "id": "7050f4ac-53c5-4193-a3c0-8699b87196f0"
      },
      "source": [
        "3. Analyze the total number of customers who have policies in each state, and then filter the results to only include states where there are more than 500 customers."
      ]
    },
    {
      "cell_type": "code",
      "execution_count": 19,
      "id": "f1c5d7d1",
      "metadata": {},
      "outputs": [
        {
          "name": "stdout",
          "output_type": "stream",
          "text": [
            "Empty DataFrame\n",
            "Columns: [state, customer_count]\n",
            "Index: []\n"
          ]
        }
      ],
      "source": [
        "\n",
        "import pandas as pd\n",
        "\n",
        "# Sample DataFrame for demonstration (replace with your actual DataFrame)\n",
        "data = {\n",
        "    'customer_id': [1, 2, 3, 4, 5, 6],\n",
        "    'state': ['CA', 'NY', 'CA', 'TX', 'NY', 'TX']\n",
        "}\n",
        "\n",
        "df_customers = pd.DataFrame(data)\n",
        "\n",
        "# Step 1: Group by state and count the number of customers\n",
        "state_counts = df_customers['state'].value_counts().reset_index()\n",
        "state_counts.columns = ['state', 'customer_count']\n",
        "\n",
        "# Step 2: Filter states with more than 500 customers\n",
        "states_with_more_than_500 = state_counts[state_counts['customer_count'] > 500]\n",
        "\n",
        "# Display the results\n",
        "print(states_with_more_than_500)\n"
      ]
    },
    {
      "cell_type": "code",
      "execution_count": 21,
      "id": "688022b1",
      "metadata": {},
      "outputs": [
        {
          "name": "stdout",
          "output_type": "stream",
          "text": [
            "Empty DataFrame\n",
            "Columns: [state, customer_count]\n",
            "Index: []\n"
          ]
        }
      ],
      "source": [
        "# Assuming df_customers is your actual DataFrame\n",
        "\n",
        "# Step 1: Group by state and count the number of customers\n",
        "state_counts = df_customers['state'].value_counts().reset_index()\n",
        "state_counts.columns = ['state', 'customer_count']\n",
        "\n",
        "# Step 2: Filter states with more than 500 customers\n",
        "states_with_more_than_500 = state_counts[state_counts['customer_count'] > 500]\n",
        "\n",
        "# Display the results\n",
        "print(states_with_more_than_500)\n"
      ]
    },
    {
      "cell_type": "markdown",
      "id": "b60a4443-a1a7-4bbf-b78e-9ccdf9895e0d",
      "metadata": {
        "id": "b60a4443-a1a7-4bbf-b78e-9ccdf9895e0d"
      },
      "source": [
        "4. Find the maximum, minimum, and median customer lifetime value by education level and gender. Write your conclusions."
      ]
    },
    {
      "cell_type": "code",
      "execution_count": 25,
      "id": "0f4f9c86",
      "metadata": {},
      "outputs": [
        {
          "name": "stdout",
          "output_type": "stream",
          "text": [
            "  education gender   max   min  median\n",
            "0  Bachelor      F  8000  8000  8000.0\n",
            "1  Bachelor      M  5000  3000  4000.0\n",
            "2    Master      F  6000  2000  4000.0\n",
            "3    Master      M  9000  9000  9000.0\n",
            "4       PhD      F  4000  4000  4000.0\n",
            "5       PhD      M  7000  7000  7000.0\n"
          ]
        }
      ],
      "source": [
        "# Assuming df_customers is your actual DataFrame\n",
        "\n",
        "# Step 1: Group by education level and gender\n",
        "grouped = df_customers.groupby(['education', 'gender'])\n",
        "\n",
        "# Step 2: Aggregate the customer_lifetime_value\n",
        "statistics = grouped['customer_lifetime_value'].agg(['max', 'min', 'median']).reset_index()\n",
        "\n",
        "# Display the results\n",
        "print(statistics)\n"
      ]
    },
    {
      "cell_type": "markdown",
      "id": "b42999f9-311f-481e-ae63-40a5577072c5",
      "metadata": {
        "id": "b42999f9-311f-481e-ae63-40a5577072c5"
      },
      "source": [
        "## Bonus"
      ]
    },
    {
      "cell_type": "markdown",
      "id": "81ff02c5-6584-4f21-a358-b918697c6432",
      "metadata": {
        "id": "81ff02c5-6584-4f21-a358-b918697c6432"
      },
      "source": [
        "5. The marketing team wants to analyze the number of policies sold by state and month. Present the data in a table where the months are arranged as columns and the states are arranged as rows."
      ]
    },
    {
      "cell_type": "code",
      "execution_count": 26,
      "id": "664bb43f",
      "metadata": {},
      "outputs": [
        {
          "name": "stdout",
          "output_type": "stream",
          "text": [
            "month  January  February  March  April  May  June  July  August  September  \\\n",
            "state                                                                        \n",
            "CA           1         0      2      0    0     0     0       0          0   \n",
            "NY           2         0      0      0    0     0     0       0          0   \n",
            "TX           0         3      0      0    0     0     0       0          0   \n",
            "\n",
            "month  October  November  December  \n",
            "state                               \n",
            "CA           0         0         0  \n",
            "NY           0         0         0  \n",
            "TX           0         0         0  \n"
          ]
        }
      ],
      "source": [
        "import pandas as pd\n",
        "\n",
        "# Sample DataFrame for demonstration (replace with your actual DataFrame)\n",
        "data = {\n",
        "    'policy_id': [1, 2, 3, 4, 5, 6, 7, 8],\n",
        "    'state': ['CA', 'TX', 'CA', 'NY', 'TX', 'CA', 'NY', 'TX'],\n",
        "    'date_sold': ['2023-01-15', '2023-02-10', '2023-03-05', '2023-01-20', '2023-02-25', '2023-03-15', '2023-01-30', '2023-02-28']\n",
        "}\n",
        "\n",
        "df_policies = pd.DataFrame(data)\n",
        "\n",
        "# Convert date_sold to datetime\n",
        "df_policies['date_sold'] = pd.to_datetime(df_policies['date_sold'])\n",
        "\n",
        "# Extract month from date_sold\n",
        "df_policies['month'] = df_policies['date_sold'].dt.strftime('%B')  # Use '%B' for full month name\n",
        "\n",
        "# Create the pivot table\n",
        "pivot_table = df_policies.pivot_table(index='state', columns='month', aggfunc='size', fill_value=0)\n",
        "\n",
        "# Reorder the columns to have months in the correct order\n",
        "ordered_months = ['January', 'February', 'March', 'April', 'May', 'June', 'July', 'August', 'September', 'October', 'November', 'December']\n",
        "pivot_table = pivot_table.reindex(columns=ordered_months, fill_value=0)\n",
        "\n",
        "# Display the pivot table\n",
        "print(pivot_table)\n"
      ]
    },
    {
      "cell_type": "code",
      "execution_count": null,
      "id": "4669ceeb",
      "metadata": {},
      "outputs": [],
      "source": []
    },
    {
      "cell_type": "markdown",
      "id": "b6aec097-c633-4017-a125-e77a97259cda",
      "metadata": {
        "id": "b6aec097-c633-4017-a125-e77a97259cda"
      },
      "source": [
        "6.  Display a new DataFrame that contains the number of policies sold by month, by state, for the top 3 states with the highest number of policies sold.\n",
        "\n",
        "*Hint:*\n",
        "- *To accomplish this, you will first need to group the data by state and month, then count the number of policies sold for each group. Afterwards, you will need to sort the data by the count of policies sold in descending order.*\n",
        "- *Next, you will select the top 3 states with the highest number of policies sold.*\n",
        "- *Finally, you will create a new DataFrame that contains the number of policies sold by month for each of the top 3 states.*"
      ]
    },
    {
      "cell_type": "code",
      "execution_count": 27,
      "id": "5b816698",
      "metadata": {},
      "outputs": [
        {
          "name": "stdout",
          "output_type": "stream",
          "text": [
            "month  January  February  March  April  May  June  July  August  September  \\\n",
            "state                                                                        \n",
            "CA           1         0      2      0    0     0     0       0          0   \n",
            "NY           2         0      0      0    0     0     0       0          0   \n",
            "TX           0         3      0      0    0     0     0       0          0   \n",
            "\n",
            "month  October  November  December  \n",
            "state                               \n",
            "CA           0         0         0  \n",
            "NY           0         0         0  \n",
            "TX           0         0         0  \n"
          ]
        }
      ],
      "source": [
        "import pandas as pd\n",
        "\n",
        "# Sample DataFrame for demonstration (replace with your actual DataFrame)\n",
        "data = {\n",
        "    'policy_id': [1, 2, 3, 4, 5, 6, 7, 8],\n",
        "    'state': ['CA', 'TX', 'CA', 'NY', 'TX', 'CA', 'NY', 'TX'],\n",
        "    'date_sold': ['2023-01-15', '2023-02-10', '2023-03-05', '2023-01-20', '2023-02-25', '2023-03-15', '2023-01-30', '2023-02-28']\n",
        "}\n",
        "\n",
        "df_policies = pd.DataFrame(data)\n",
        "\n",
        "# Convert date_sold to datetime\n",
        "df_policies['date_sold'] = pd.to_datetime(df_policies['date_sold'])\n",
        "\n",
        "# Extract month from date_sold\n",
        "df_policies['month'] = df_policies['date_sold'].dt.strftime('%B')\n",
        "\n",
        "# Group by state and month, and count the number of policies sold\n",
        "grouped = df_policies.groupby(['state', 'month']).size().reset_index(name='count')\n",
        "\n",
        "# Sum the total policies sold per state\n",
        "state_totals = grouped.groupby('state')['count'].sum().reset_index()\n",
        "\n",
        "# Select the top 3 states with the highest number of policies sold\n",
        "top_states = state_totals.sort_values(by='count', ascending=False).head(3)\n",
        "\n",
        "# Filter the original grouped data to include only the top 3 states\n",
        "filtered_grouped = grouped[grouped['state'].isin(top_states['state'])]\n",
        "\n",
        "# Create the pivot table\n",
        "pivot_table = filtered_grouped.pivot_table(index='state', columns='month', values='count', fill_value=0)\n",
        "\n",
        "# Reorder the columns to have months in the correct order\n",
        "ordered_months = ['January', 'February', 'March', 'April', 'May', 'June', 'July', 'August', 'September', 'October', 'November', 'December']\n",
        "pivot_table = pivot_table.reindex(columns=ordered_months, fill_value=0)\n",
        "\n",
        "# Display the final DataFrame\n",
        "print(pivot_table)\n"
      ]
    },
    {
      "cell_type": "code",
      "execution_count": null,
      "id": "e6312818",
      "metadata": {},
      "outputs": [],
      "source": []
    },
    {
      "cell_type": "markdown",
      "id": "ba975b8a-a2cf-4fbf-9f59-ebc381767009",
      "metadata": {
        "id": "ba975b8a-a2cf-4fbf-9f59-ebc381767009"
      },
      "source": [
        "7. The marketing team wants to analyze the effect of different marketing channels on the customer response rate.\n",
        "\n",
        "Hint: You can use melt to unpivot the data and create a table that shows the customer response rate (those who responded \"Yes\") by marketing channel."
      ]
    },
    {
      "cell_type": "markdown",
      "id": "e4378d94-48fb-4850-a802-b1bc8f427b2d",
      "metadata": {
        "id": "e4378d94-48fb-4850-a802-b1bc8f427b2d"
      },
      "source": [
        "External Resources for Data Filtering: https://towardsdatascience.com/filtering-data-frames-in-pandas-b570b1f834b9"
      ]
    },
    {
      "cell_type": "code",
      "execution_count": 29,
      "id": "977b7641",
      "metadata": {},
      "outputs": [
        {
          "name": "stdout",
          "output_type": "stream",
          "text": [
            "Marketing_Channel\n",
            "Channel1    30\n",
            "Channel2    17\n",
            "Channel3    22\n",
            "Name: Customer_Response, dtype: int64\n"
          ]
        }
      ],
      "source": [
        "import pandas as pd\n",
        "\n",
        "# Assuming df is your DataFrame with columns like 'Channel1', 'Channel2', 'Channel3', 'Response'\n",
        "# Example data\n",
        "data = {\n",
        "    'Channel1': [10, 15, 20],\n",
        "    'Channel2': [5, 8, 12],\n",
        "    'Channel3': [7, 10, 15],\n",
        "    'Response': ['Yes', 'No', 'Yes']\n",
        "}\n",
        "df = pd.DataFrame(data)\n",
        "\n",
        "# Step 1: Filter for responses where 'Response' is 'Yes'\n",
        "df_filtered = df[df['Response'] == 'Yes']\n",
        "\n",
        "# Step 2: Reshape the data using melt to unpivot the channels\n",
        "melted_df = pd.melt(df_filtered, id_vars=['Response'], value_vars=['Channel1', 'Channel2', 'Channel3'],\n",
        "                    var_name='Marketing_Channel', value_name='Customer_Response')\n",
        "\n",
        "# Step 3: Calculate customer response rate by marketing channel\n",
        "response_rate = melted_df.groupby('Marketing_Channel')['Customer_Response'].sum()\n",
        "\n",
        "print(response_rate)\n"
      ]
    },
    {
      "cell_type": "code",
      "execution_count": null,
      "id": "cacf7a23",
      "metadata": {},
      "outputs": [],
      "source": []
    }
  ],
  "metadata": {
    "colab": {
      "provenance": []
    },
    "kernelspec": {
      "display_name": "Python 3 (ipykernel)",
      "language": "python",
      "name": "python3"
    },
    "language_info": {
      "codemirror_mode": {
        "name": "ipython",
        "version": 3
      },
      "file_extension": ".py",
      "mimetype": "text/x-python",
      "name": "python",
      "nbconvert_exporter": "python",
      "pygments_lexer": "ipython3",
      "version": "3.9.13"
    }
  },
  "nbformat": 4,
  "nbformat_minor": 5
}
