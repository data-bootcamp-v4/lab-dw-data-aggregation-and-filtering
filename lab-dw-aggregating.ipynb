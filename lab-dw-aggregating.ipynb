{
  "cells": [
    {
      "cell_type": "markdown",
      "id": "31969215-2a90-4d8b-ac36-646a7ae13744",
      "metadata": {
        "id": "31969215-2a90-4d8b-ac36-646a7ae13744"
      },
      "source": [
        "# Lab | Data Aggregation and Filtering"
      ]
    },
    {
      "cell_type": "markdown",
      "id": "a8f08a52-bec0-439b-99cc-11d3809d8b5d",
      "metadata": {
        "id": "a8f08a52-bec0-439b-99cc-11d3809d8b5d"
      },
      "source": [
        "In this challenge, we will continue to work with customer data from an insurance company. We will use the dataset called marketing_customer_analysis.csv, which can be found at the following link:\n",
        "\n",
        "https://raw.githubusercontent.com/data-bootcamp-v4/data/main/marketing_customer_analysis.csv\n",
        "\n",
        "This dataset contains information such as customer demographics, policy details, vehicle information, and the customer's response to the last marketing campaign. Our goal is to explore and analyze this data by first performing data cleaning, formatting, and structuring."
      ]
    },
    {
      "cell_type": "markdown",
      "id": "9c98ddc5-b041-4c94-ada1-4dfee5c98e50",
      "metadata": {
        "id": "9c98ddc5-b041-4c94-ada1-4dfee5c98e50"
      },
      "source": [
        "1. Create a new DataFrame that only includes customers who have a total_claim_amount greater than $1,000 and have a response of \"Yes\" to the last marketing campaign."
      ]
    },
    {
      "cell_type": "markdown",
      "id": "b9be383e-5165-436e-80c8-57d4c757c8c3",
      "metadata": {
        "id": "b9be383e-5165-436e-80c8-57d4c757c8c3"
      },
      "source": [
        "2. Using the original Dataframe, analyze the average total_claim_amount by each policy type and gender for customers who have responded \"Yes\" to the last marketing campaign. Write your conclusions."
      ]
    },
    {
      "cell_type": "markdown",
      "id": "7050f4ac-53c5-4193-a3c0-8699b87196f0",
      "metadata": {
        "id": "7050f4ac-53c5-4193-a3c0-8699b87196f0"
      },
      "source": [
        "3. Analyze the total number of customers who have policies in each state, and then filter the results to only include states where there are more than 500 customers."
      ]
    },
    {
      "cell_type": "markdown",
      "id": "b60a4443-a1a7-4bbf-b78e-9ccdf9895e0d",
      "metadata": {
        "id": "b60a4443-a1a7-4bbf-b78e-9ccdf9895e0d"
      },
      "source": [
        "4. Find the maximum, minimum, and median customer lifetime value by education level and gender. Write your conclusions."
      ]
    },
    {
      "cell_type": "code",
      "execution_count": 2,
      "id": "d5df3fd4",
      "metadata": {},
      "outputs": [
        {
          "data": {
            "text/html": [
              "<div>\n",
              "<style scoped>\n",
              "    .dataframe tbody tr th:only-of-type {\n",
              "        vertical-align: middle;\n",
              "    }\n",
              "\n",
              "    .dataframe tbody tr th {\n",
              "        vertical-align: top;\n",
              "    }\n",
              "\n",
              "    .dataframe thead th {\n",
              "        text-align: right;\n",
              "    }\n",
              "</style>\n",
              "<table border=\"1\" class=\"dataframe\">\n",
              "  <thead>\n",
              "    <tr style=\"text-align: right;\">\n",
              "      <th></th>\n",
              "      <th>Unnamed: 0</th>\n",
              "      <th>Customer</th>\n",
              "      <th>State</th>\n",
              "      <th>Customer Lifetime Value</th>\n",
              "      <th>Response</th>\n",
              "      <th>Coverage</th>\n",
              "      <th>Education</th>\n",
              "      <th>Effective To Date</th>\n",
              "      <th>EmploymentStatus</th>\n",
              "      <th>Gender</th>\n",
              "      <th>...</th>\n",
              "      <th>Number of Open Complaints</th>\n",
              "      <th>Number of Policies</th>\n",
              "      <th>Policy Type</th>\n",
              "      <th>Policy</th>\n",
              "      <th>Renew Offer Type</th>\n",
              "      <th>Sales Channel</th>\n",
              "      <th>Total Claim Amount</th>\n",
              "      <th>Vehicle Class</th>\n",
              "      <th>Vehicle Size</th>\n",
              "      <th>Vehicle Type</th>\n",
              "    </tr>\n",
              "  </thead>\n",
              "  <tbody>\n",
              "    <tr>\n",
              "      <th>0</th>\n",
              "      <td>0</td>\n",
              "      <td>DK49336</td>\n",
              "      <td>Arizona</td>\n",
              "      <td>4809.216960</td>\n",
              "      <td>No</td>\n",
              "      <td>Basic</td>\n",
              "      <td>College</td>\n",
              "      <td>2/18/11</td>\n",
              "      <td>Employed</td>\n",
              "      <td>M</td>\n",
              "      <td>...</td>\n",
              "      <td>0.0</td>\n",
              "      <td>9</td>\n",
              "      <td>Corporate Auto</td>\n",
              "      <td>Corporate L3</td>\n",
              "      <td>Offer3</td>\n",
              "      <td>Agent</td>\n",
              "      <td>292.800000</td>\n",
              "      <td>Four-Door Car</td>\n",
              "      <td>Medsize</td>\n",
              "      <td>NaN</td>\n",
              "    </tr>\n",
              "    <tr>\n",
              "      <th>1</th>\n",
              "      <td>1</td>\n",
              "      <td>KX64629</td>\n",
              "      <td>California</td>\n",
              "      <td>2228.525238</td>\n",
              "      <td>No</td>\n",
              "      <td>Basic</td>\n",
              "      <td>College</td>\n",
              "      <td>1/18/11</td>\n",
              "      <td>Unemployed</td>\n",
              "      <td>F</td>\n",
              "      <td>...</td>\n",
              "      <td>0.0</td>\n",
              "      <td>1</td>\n",
              "      <td>Personal Auto</td>\n",
              "      <td>Personal L3</td>\n",
              "      <td>Offer4</td>\n",
              "      <td>Call Center</td>\n",
              "      <td>744.924331</td>\n",
              "      <td>Four-Door Car</td>\n",
              "      <td>Medsize</td>\n",
              "      <td>NaN</td>\n",
              "    </tr>\n",
              "    <tr>\n",
              "      <th>2</th>\n",
              "      <td>2</td>\n",
              "      <td>LZ68649</td>\n",
              "      <td>Washington</td>\n",
              "      <td>14947.917300</td>\n",
              "      <td>No</td>\n",
              "      <td>Basic</td>\n",
              "      <td>Bachelor</td>\n",
              "      <td>2/10/11</td>\n",
              "      <td>Employed</td>\n",
              "      <td>M</td>\n",
              "      <td>...</td>\n",
              "      <td>0.0</td>\n",
              "      <td>2</td>\n",
              "      <td>Personal Auto</td>\n",
              "      <td>Personal L3</td>\n",
              "      <td>Offer3</td>\n",
              "      <td>Call Center</td>\n",
              "      <td>480.000000</td>\n",
              "      <td>SUV</td>\n",
              "      <td>Medsize</td>\n",
              "      <td>A</td>\n",
              "    </tr>\n",
              "    <tr>\n",
              "      <th>3</th>\n",
              "      <td>3</td>\n",
              "      <td>XL78013</td>\n",
              "      <td>Oregon</td>\n",
              "      <td>22332.439460</td>\n",
              "      <td>Yes</td>\n",
              "      <td>Extended</td>\n",
              "      <td>College</td>\n",
              "      <td>1/11/11</td>\n",
              "      <td>Employed</td>\n",
              "      <td>M</td>\n",
              "      <td>...</td>\n",
              "      <td>0.0</td>\n",
              "      <td>2</td>\n",
              "      <td>Corporate Auto</td>\n",
              "      <td>Corporate L3</td>\n",
              "      <td>Offer2</td>\n",
              "      <td>Branch</td>\n",
              "      <td>484.013411</td>\n",
              "      <td>Four-Door Car</td>\n",
              "      <td>Medsize</td>\n",
              "      <td>A</td>\n",
              "    </tr>\n",
              "    <tr>\n",
              "      <th>4</th>\n",
              "      <td>4</td>\n",
              "      <td>QA50777</td>\n",
              "      <td>Oregon</td>\n",
              "      <td>9025.067525</td>\n",
              "      <td>No</td>\n",
              "      <td>Premium</td>\n",
              "      <td>Bachelor</td>\n",
              "      <td>1/17/11</td>\n",
              "      <td>Medical Leave</td>\n",
              "      <td>F</td>\n",
              "      <td>...</td>\n",
              "      <td>NaN</td>\n",
              "      <td>7</td>\n",
              "      <td>Personal Auto</td>\n",
              "      <td>Personal L2</td>\n",
              "      <td>Offer1</td>\n",
              "      <td>Branch</td>\n",
              "      <td>707.925645</td>\n",
              "      <td>Four-Door Car</td>\n",
              "      <td>Medsize</td>\n",
              "      <td>NaN</td>\n",
              "    </tr>\n",
              "    <tr>\n",
              "      <th>...</th>\n",
              "      <td>...</td>\n",
              "      <td>...</td>\n",
              "      <td>...</td>\n",
              "      <td>...</td>\n",
              "      <td>...</td>\n",
              "      <td>...</td>\n",
              "      <td>...</td>\n",
              "      <td>...</td>\n",
              "      <td>...</td>\n",
              "      <td>...</td>\n",
              "      <td>...</td>\n",
              "      <td>...</td>\n",
              "      <td>...</td>\n",
              "      <td>...</td>\n",
              "      <td>...</td>\n",
              "      <td>...</td>\n",
              "      <td>...</td>\n",
              "      <td>...</td>\n",
              "      <td>...</td>\n",
              "      <td>...</td>\n",
              "      <td>...</td>\n",
              "    </tr>\n",
              "    <tr>\n",
              "      <th>10905</th>\n",
              "      <td>10905</td>\n",
              "      <td>FE99816</td>\n",
              "      <td>Nevada</td>\n",
              "      <td>15563.369440</td>\n",
              "      <td>No</td>\n",
              "      <td>Premium</td>\n",
              "      <td>Bachelor</td>\n",
              "      <td>1/19/11</td>\n",
              "      <td>Unemployed</td>\n",
              "      <td>F</td>\n",
              "      <td>...</td>\n",
              "      <td>NaN</td>\n",
              "      <td>7</td>\n",
              "      <td>Personal Auto</td>\n",
              "      <td>Personal L1</td>\n",
              "      <td>Offer3</td>\n",
              "      <td>Web</td>\n",
              "      <td>1214.400000</td>\n",
              "      <td>Luxury Car</td>\n",
              "      <td>Medsize</td>\n",
              "      <td>A</td>\n",
              "    </tr>\n",
              "    <tr>\n",
              "      <th>10906</th>\n",
              "      <td>10906</td>\n",
              "      <td>KX53892</td>\n",
              "      <td>Oregon</td>\n",
              "      <td>5259.444853</td>\n",
              "      <td>No</td>\n",
              "      <td>Basic</td>\n",
              "      <td>College</td>\n",
              "      <td>1/6/11</td>\n",
              "      <td>Employed</td>\n",
              "      <td>F</td>\n",
              "      <td>...</td>\n",
              "      <td>0.0</td>\n",
              "      <td>6</td>\n",
              "      <td>Personal Auto</td>\n",
              "      <td>Personal L3</td>\n",
              "      <td>Offer2</td>\n",
              "      <td>Branch</td>\n",
              "      <td>273.018929</td>\n",
              "      <td>Four-Door Car</td>\n",
              "      <td>Medsize</td>\n",
              "      <td>A</td>\n",
              "    </tr>\n",
              "    <tr>\n",
              "      <th>10907</th>\n",
              "      <td>10907</td>\n",
              "      <td>TL39050</td>\n",
              "      <td>Arizona</td>\n",
              "      <td>23893.304100</td>\n",
              "      <td>No</td>\n",
              "      <td>Extended</td>\n",
              "      <td>Bachelor</td>\n",
              "      <td>2/6/11</td>\n",
              "      <td>Employed</td>\n",
              "      <td>F</td>\n",
              "      <td>...</td>\n",
              "      <td>0.0</td>\n",
              "      <td>2</td>\n",
              "      <td>Corporate Auto</td>\n",
              "      <td>Corporate L3</td>\n",
              "      <td>Offer1</td>\n",
              "      <td>Web</td>\n",
              "      <td>381.306996</td>\n",
              "      <td>Luxury SUV</td>\n",
              "      <td>Medsize</td>\n",
              "      <td>NaN</td>\n",
              "    </tr>\n",
              "    <tr>\n",
              "      <th>10908</th>\n",
              "      <td>10908</td>\n",
              "      <td>WA60547</td>\n",
              "      <td>California</td>\n",
              "      <td>11971.977650</td>\n",
              "      <td>No</td>\n",
              "      <td>Premium</td>\n",
              "      <td>College</td>\n",
              "      <td>2/13/11</td>\n",
              "      <td>Employed</td>\n",
              "      <td>F</td>\n",
              "      <td>...</td>\n",
              "      <td>4.0</td>\n",
              "      <td>6</td>\n",
              "      <td>Personal Auto</td>\n",
              "      <td>Personal L1</td>\n",
              "      <td>Offer1</td>\n",
              "      <td>Branch</td>\n",
              "      <td>618.288849</td>\n",
              "      <td>SUV</td>\n",
              "      <td>Medsize</td>\n",
              "      <td>A</td>\n",
              "    </tr>\n",
              "    <tr>\n",
              "      <th>10909</th>\n",
              "      <td>10909</td>\n",
              "      <td>IV32877</td>\n",
              "      <td>NaN</td>\n",
              "      <td>6857.519928</td>\n",
              "      <td>NaN</td>\n",
              "      <td>Basic</td>\n",
              "      <td>Bachelor</td>\n",
              "      <td>1/8/11</td>\n",
              "      <td>Unemployed</td>\n",
              "      <td>M</td>\n",
              "      <td>...</td>\n",
              "      <td>0.0</td>\n",
              "      <td>3</td>\n",
              "      <td>Personal Auto</td>\n",
              "      <td>Personal L1</td>\n",
              "      <td>Offer4</td>\n",
              "      <td>Web</td>\n",
              "      <td>1021.719397</td>\n",
              "      <td>SUV</td>\n",
              "      <td>Medsize</td>\n",
              "      <td>NaN</td>\n",
              "    </tr>\n",
              "  </tbody>\n",
              "</table>\n",
              "<p>10910 rows × 26 columns</p>\n",
              "</div>"
            ],
            "text/plain": [
              "       Unnamed: 0 Customer       State  Customer Lifetime Value Response  \\\n",
              "0               0  DK49336     Arizona              4809.216960       No   \n",
              "1               1  KX64629  California              2228.525238       No   \n",
              "2               2  LZ68649  Washington             14947.917300       No   \n",
              "3               3  XL78013      Oregon             22332.439460      Yes   \n",
              "4               4  QA50777      Oregon              9025.067525       No   \n",
              "...           ...      ...         ...                      ...      ...   \n",
              "10905       10905  FE99816      Nevada             15563.369440       No   \n",
              "10906       10906  KX53892      Oregon              5259.444853       No   \n",
              "10907       10907  TL39050     Arizona             23893.304100       No   \n",
              "10908       10908  WA60547  California             11971.977650       No   \n",
              "10909       10909  IV32877         NaN              6857.519928      NaN   \n",
              "\n",
              "       Coverage Education Effective To Date EmploymentStatus Gender  ...  \\\n",
              "0         Basic   College           2/18/11         Employed      M  ...   \n",
              "1         Basic   College           1/18/11       Unemployed      F  ...   \n",
              "2         Basic  Bachelor           2/10/11         Employed      M  ...   \n",
              "3      Extended   College           1/11/11         Employed      M  ...   \n",
              "4       Premium  Bachelor           1/17/11    Medical Leave      F  ...   \n",
              "...         ...       ...               ...              ...    ...  ...   \n",
              "10905   Premium  Bachelor           1/19/11       Unemployed      F  ...   \n",
              "10906     Basic   College            1/6/11         Employed      F  ...   \n",
              "10907  Extended  Bachelor            2/6/11         Employed      F  ...   \n",
              "10908   Premium   College           2/13/11         Employed      F  ...   \n",
              "10909     Basic  Bachelor            1/8/11       Unemployed      M  ...   \n",
              "\n",
              "       Number of Open Complaints Number of Policies     Policy Type  \\\n",
              "0                            0.0                  9  Corporate Auto   \n",
              "1                            0.0                  1   Personal Auto   \n",
              "2                            0.0                  2   Personal Auto   \n",
              "3                            0.0                  2  Corporate Auto   \n",
              "4                            NaN                  7   Personal Auto   \n",
              "...                          ...                ...             ...   \n",
              "10905                        NaN                  7   Personal Auto   \n",
              "10906                        0.0                  6   Personal Auto   \n",
              "10907                        0.0                  2  Corporate Auto   \n",
              "10908                        4.0                  6   Personal Auto   \n",
              "10909                        0.0                  3   Personal Auto   \n",
              "\n",
              "             Policy  Renew Offer Type  Sales Channel  Total Claim Amount  \\\n",
              "0      Corporate L3            Offer3          Agent          292.800000   \n",
              "1       Personal L3            Offer4    Call Center          744.924331   \n",
              "2       Personal L3            Offer3    Call Center          480.000000   \n",
              "3      Corporate L3            Offer2         Branch          484.013411   \n",
              "4       Personal L2            Offer1         Branch          707.925645   \n",
              "...             ...               ...            ...                 ...   \n",
              "10905   Personal L1            Offer3            Web         1214.400000   \n",
              "10906   Personal L3            Offer2         Branch          273.018929   \n",
              "10907  Corporate L3            Offer1            Web          381.306996   \n",
              "10908   Personal L1            Offer1         Branch          618.288849   \n",
              "10909   Personal L1            Offer4            Web         1021.719397   \n",
              "\n",
              "       Vehicle Class Vehicle Size Vehicle Type  \n",
              "0      Four-Door Car      Medsize          NaN  \n",
              "1      Four-Door Car      Medsize          NaN  \n",
              "2                SUV      Medsize            A  \n",
              "3      Four-Door Car      Medsize            A  \n",
              "4      Four-Door Car      Medsize          NaN  \n",
              "...              ...          ...          ...  \n",
              "10905     Luxury Car      Medsize            A  \n",
              "10906  Four-Door Car      Medsize            A  \n",
              "10907     Luxury SUV      Medsize          NaN  \n",
              "10908            SUV      Medsize            A  \n",
              "10909            SUV      Medsize          NaN  \n",
              "\n",
              "[10910 rows x 26 columns]"
            ]
          },
          "execution_count": 2,
          "metadata": {},
          "output_type": "execute_result"
        }
      ],
      "source": [
        "import pandas as pd\n",
        "\n",
        "\n",
        "df = pd.read_csv('https://raw.githubusercontent.com/data-bootcamp-v4/data/main/marketing_customer_analysis.csv')\n",
        "df"
      ]
    },
    {
      "cell_type": "code",
      "execution_count": 3,
      "id": "a81fd9b2",
      "metadata": {},
      "outputs": [
        {
          "data": {
            "text/html": [
              "<div>\n",
              "<style scoped>\n",
              "    .dataframe tbody tr th:only-of-type {\n",
              "        vertical-align: middle;\n",
              "    }\n",
              "\n",
              "    .dataframe tbody tr th {\n",
              "        vertical-align: top;\n",
              "    }\n",
              "\n",
              "    .dataframe thead th {\n",
              "        text-align: right;\n",
              "    }\n",
              "</style>\n",
              "<table border=\"1\" class=\"dataframe\">\n",
              "  <thead>\n",
              "    <tr style=\"text-align: right;\">\n",
              "      <th></th>\n",
              "      <th>Unnamed: 0</th>\n",
              "      <th>Customer</th>\n",
              "      <th>State</th>\n",
              "      <th>Customer Lifetime Value</th>\n",
              "      <th>Response</th>\n",
              "      <th>Coverage</th>\n",
              "      <th>Education</th>\n",
              "      <th>Effective To Date</th>\n",
              "      <th>EmploymentStatus</th>\n",
              "      <th>Gender</th>\n",
              "      <th>...</th>\n",
              "      <th>Number of Open Complaints</th>\n",
              "      <th>Number of Policies</th>\n",
              "      <th>Policy Type</th>\n",
              "      <th>Policy</th>\n",
              "      <th>Renew Offer Type</th>\n",
              "      <th>Sales Channel</th>\n",
              "      <th>Total Claim Amount</th>\n",
              "      <th>Vehicle Class</th>\n",
              "      <th>Vehicle Size</th>\n",
              "      <th>Vehicle Type</th>\n",
              "    </tr>\n",
              "  </thead>\n",
              "  <tbody>\n",
              "    <tr>\n",
              "      <th>0</th>\n",
              "      <td>0</td>\n",
              "      <td>DK49336</td>\n",
              "      <td>Arizona</td>\n",
              "      <td>4809.216960</td>\n",
              "      <td>No</td>\n",
              "      <td>Basic</td>\n",
              "      <td>College</td>\n",
              "      <td>2/18/11</td>\n",
              "      <td>Employed</td>\n",
              "      <td>M</td>\n",
              "      <td>...</td>\n",
              "      <td>0.0</td>\n",
              "      <td>9</td>\n",
              "      <td>Corporate Auto</td>\n",
              "      <td>Corporate L3</td>\n",
              "      <td>Offer3</td>\n",
              "      <td>Agent</td>\n",
              "      <td>292.800000</td>\n",
              "      <td>Four-Door Car</td>\n",
              "      <td>Medsize</td>\n",
              "      <td>NaN</td>\n",
              "    </tr>\n",
              "    <tr>\n",
              "      <th>1</th>\n",
              "      <td>1</td>\n",
              "      <td>KX64629</td>\n",
              "      <td>California</td>\n",
              "      <td>2228.525238</td>\n",
              "      <td>No</td>\n",
              "      <td>Basic</td>\n",
              "      <td>College</td>\n",
              "      <td>1/18/11</td>\n",
              "      <td>Unemployed</td>\n",
              "      <td>F</td>\n",
              "      <td>...</td>\n",
              "      <td>0.0</td>\n",
              "      <td>1</td>\n",
              "      <td>Personal Auto</td>\n",
              "      <td>Personal L3</td>\n",
              "      <td>Offer4</td>\n",
              "      <td>Call Center</td>\n",
              "      <td>744.924331</td>\n",
              "      <td>Four-Door Car</td>\n",
              "      <td>Medsize</td>\n",
              "      <td>NaN</td>\n",
              "    </tr>\n",
              "    <tr>\n",
              "      <th>2</th>\n",
              "      <td>2</td>\n",
              "      <td>LZ68649</td>\n",
              "      <td>Washington</td>\n",
              "      <td>14947.917300</td>\n",
              "      <td>No</td>\n",
              "      <td>Basic</td>\n",
              "      <td>Bachelor</td>\n",
              "      <td>2/10/11</td>\n",
              "      <td>Employed</td>\n",
              "      <td>M</td>\n",
              "      <td>...</td>\n",
              "      <td>0.0</td>\n",
              "      <td>2</td>\n",
              "      <td>Personal Auto</td>\n",
              "      <td>Personal L3</td>\n",
              "      <td>Offer3</td>\n",
              "      <td>Call Center</td>\n",
              "      <td>480.000000</td>\n",
              "      <td>SUV</td>\n",
              "      <td>Medsize</td>\n",
              "      <td>A</td>\n",
              "    </tr>\n",
              "    <tr>\n",
              "      <th>3</th>\n",
              "      <td>3</td>\n",
              "      <td>XL78013</td>\n",
              "      <td>Oregon</td>\n",
              "      <td>22332.439460</td>\n",
              "      <td>Yes</td>\n",
              "      <td>Extended</td>\n",
              "      <td>College</td>\n",
              "      <td>1/11/11</td>\n",
              "      <td>Employed</td>\n",
              "      <td>M</td>\n",
              "      <td>...</td>\n",
              "      <td>0.0</td>\n",
              "      <td>2</td>\n",
              "      <td>Corporate Auto</td>\n",
              "      <td>Corporate L3</td>\n",
              "      <td>Offer2</td>\n",
              "      <td>Branch</td>\n",
              "      <td>484.013411</td>\n",
              "      <td>Four-Door Car</td>\n",
              "      <td>Medsize</td>\n",
              "      <td>A</td>\n",
              "    </tr>\n",
              "    <tr>\n",
              "      <th>4</th>\n",
              "      <td>4</td>\n",
              "      <td>QA50777</td>\n",
              "      <td>Oregon</td>\n",
              "      <td>9025.067525</td>\n",
              "      <td>No</td>\n",
              "      <td>Premium</td>\n",
              "      <td>Bachelor</td>\n",
              "      <td>1/17/11</td>\n",
              "      <td>Medical Leave</td>\n",
              "      <td>F</td>\n",
              "      <td>...</td>\n",
              "      <td>NaN</td>\n",
              "      <td>7</td>\n",
              "      <td>Personal Auto</td>\n",
              "      <td>Personal L2</td>\n",
              "      <td>Offer1</td>\n",
              "      <td>Branch</td>\n",
              "      <td>707.925645</td>\n",
              "      <td>Four-Door Car</td>\n",
              "      <td>Medsize</td>\n",
              "      <td>NaN</td>\n",
              "    </tr>\n",
              "  </tbody>\n",
              "</table>\n",
              "<p>5 rows × 26 columns</p>\n",
              "</div>"
            ],
            "text/plain": [
              "   Unnamed: 0 Customer       State  Customer Lifetime Value Response  \\\n",
              "0           0  DK49336     Arizona              4809.216960       No   \n",
              "1           1  KX64629  California              2228.525238       No   \n",
              "2           2  LZ68649  Washington             14947.917300       No   \n",
              "3           3  XL78013      Oregon             22332.439460      Yes   \n",
              "4           4  QA50777      Oregon              9025.067525       No   \n",
              "\n",
              "   Coverage Education Effective To Date EmploymentStatus Gender  ...  \\\n",
              "0     Basic   College           2/18/11         Employed      M  ...   \n",
              "1     Basic   College           1/18/11       Unemployed      F  ...   \n",
              "2     Basic  Bachelor           2/10/11         Employed      M  ...   \n",
              "3  Extended   College           1/11/11         Employed      M  ...   \n",
              "4   Premium  Bachelor           1/17/11    Medical Leave      F  ...   \n",
              "\n",
              "   Number of Open Complaints Number of Policies     Policy Type        Policy  \\\n",
              "0                        0.0                  9  Corporate Auto  Corporate L3   \n",
              "1                        0.0                  1   Personal Auto   Personal L3   \n",
              "2                        0.0                  2   Personal Auto   Personal L3   \n",
              "3                        0.0                  2  Corporate Auto  Corporate L3   \n",
              "4                        NaN                  7   Personal Auto   Personal L2   \n",
              "\n",
              "   Renew Offer Type  Sales Channel  Total Claim Amount  Vehicle Class  \\\n",
              "0            Offer3          Agent          292.800000  Four-Door Car   \n",
              "1            Offer4    Call Center          744.924331  Four-Door Car   \n",
              "2            Offer3    Call Center          480.000000            SUV   \n",
              "3            Offer2         Branch          484.013411  Four-Door Car   \n",
              "4            Offer1         Branch          707.925645  Four-Door Car   \n",
              "\n",
              "  Vehicle Size Vehicle Type  \n",
              "0      Medsize          NaN  \n",
              "1      Medsize          NaN  \n",
              "2      Medsize            A  \n",
              "3      Medsize            A  \n",
              "4      Medsize          NaN  \n",
              "\n",
              "[5 rows x 26 columns]"
            ]
          },
          "execution_count": 3,
          "metadata": {},
          "output_type": "execute_result"
        }
      ],
      "source": [
        "df.head()"
      ]
    },
    {
      "cell_type": "code",
      "execution_count": 4,
      "id": "f70bef59",
      "metadata": {},
      "outputs": [],
      "source": [
        "df.columns =df.columns.str.lower().str.replace(',','_')"
      ]
    },
    {
      "cell_type": "code",
      "execution_count": 5,
      "id": "a681fdd0",
      "metadata": {},
      "outputs": [
        {
          "data": {
            "text/plain": [
              "unnamed: 0                          0\n",
              "customer                            0\n",
              "state                             631\n",
              "customer lifetime value             0\n",
              "response                          631\n",
              "coverage                            0\n",
              "education                           0\n",
              "effective to date                   0\n",
              "employmentstatus                    0\n",
              "gender                              0\n",
              "income                              0\n",
              "location code                       0\n",
              "marital status                      0\n",
              "monthly premium auto                0\n",
              "months since last claim           633\n",
              "months since policy inception       0\n",
              "number of open complaints         633\n",
              "number of policies                  0\n",
              "policy type                         0\n",
              "policy                              0\n",
              "renew offer type                    0\n",
              "sales channel                       0\n",
              "total claim amount                  0\n",
              "vehicle class                     622\n",
              "vehicle size                      622\n",
              "vehicle type                     5482\n",
              "dtype: int64"
            ]
          },
          "execution_count": 5,
          "metadata": {},
          "output_type": "execute_result"
        }
      ],
      "source": [
        "df.isna().sum()"
      ]
    },
    {
      "cell_type": "code",
      "execution_count": 6,
      "id": "d41f4d83",
      "metadata": {},
      "outputs": [
        {
          "data": {
            "text/plain": [
              "(10910, 26)"
            ]
          },
          "execution_count": 6,
          "metadata": {},
          "output_type": "execute_result"
        }
      ],
      "source": [
        "df.shape"
      ]
    },
    {
      "cell_type": "code",
      "execution_count": 7,
      "id": "8fefc85f",
      "metadata": {},
      "outputs": [],
      "source": [
        "df = df.dropna(subset=['state'])"
      ]
    },
    {
      "cell_type": "code",
      "execution_count": 8,
      "id": "af5ed902",
      "metadata": {},
      "outputs": [
        {
          "data": {
            "text/plain": [
              "(10279, 26)"
            ]
          },
          "execution_count": 8,
          "metadata": {},
          "output_type": "execute_result"
        }
      ],
      "source": [
        "df.shape"
      ]
    },
    {
      "cell_type": "code",
      "execution_count": 9,
      "id": "78a9ca79",
      "metadata": {},
      "outputs": [
        {
          "data": {
            "text/plain": [
              "unnamed: 0                          0\n",
              "customer                            0\n",
              "state                               0\n",
              "customer lifetime value             0\n",
              "response                            0\n",
              "coverage                            0\n",
              "education                           0\n",
              "effective to date                   0\n",
              "employmentstatus                    0\n",
              "gender                              0\n",
              "income                              0\n",
              "location code                       0\n",
              "marital status                      0\n",
              "monthly premium auto                0\n",
              "months since last claim           591\n",
              "months since policy inception       0\n",
              "number of open complaints         591\n",
              "number of policies                  0\n",
              "policy type                         0\n",
              "policy                              0\n",
              "renew offer type                    0\n",
              "sales channel                       0\n",
              "total claim amount                  0\n",
              "vehicle class                     591\n",
              "vehicle size                      591\n",
              "vehicle type                     5164\n",
              "dtype: int64"
            ]
          },
          "execution_count": 9,
          "metadata": {},
          "output_type": "execute_result"
        }
      ],
      "source": [
        "df.isna().sum()"
      ]
    },
    {
      "cell_type": "code",
      "execution_count": 10,
      "id": "e4fdf592",
      "metadata": {},
      "outputs": [],
      "source": [
        "higher = df[\n",
        "    (df['total claim amount'] > 1000)&\n",
        "    (df['response'].str.lower() == 'yes')\n",
        "]"
      ]
    },
    {
      "cell_type": "code",
      "execution_count": 11,
      "id": "e33f9584",
      "metadata": {},
      "outputs": [
        {
          "name": "stdout",
          "output_type": "stream",
          "text": [
            "total:67\n"
          ]
        }
      ],
      "source": [
        "print(f'total:{len(higher)}')"
      ]
    },
    {
      "cell_type": "code",
      "execution_count": 15,
      "id": "592d889b",
      "metadata": {},
      "outputs": [
        {
          "data": {
            "text/plain": [
              "0        Corporate Auto\n",
              "1         Personal Auto\n",
              "2         Personal Auto\n",
              "3        Corporate Auto\n",
              "4         Personal Auto\n",
              "              ...      \n",
              "10904     Personal Auto\n",
              "10905     Personal Auto\n",
              "10906     Personal Auto\n",
              "10907    Corporate Auto\n",
              "10908     Personal Auto\n",
              "Name: policy type, Length: 10279, dtype: object"
            ]
          },
          "execution_count": 15,
          "metadata": {},
          "output_type": "execute_result"
        }
      ],
      "source": [
        "df['policy type']"
      ]
    },
    {
      "cell_type": "code",
      "execution_count": null,
      "id": "8f1d94e0",
      "metadata": {},
      "outputs": [
        {
          "name": "stdout",
          "output_type": "stream",
          "text": [
            "      policy_type gender  total_claim_amount\n",
            "0  Corporate Auto      F              433.74\n",
            "1  Corporate Auto      M              408.58\n",
            "2   Personal Auto      F              452.97\n",
            "3   Personal Auto      M              457.01\n",
            "4    Special Auto      F              453.28\n",
            "5    Special Auto      M              429.53\n"
          ]
        },
        {
          "name": "stderr",
          "output_type": "stream",
          "text": [
            "C:\\Users\\Naveen\\AppData\\Local\\Temp\\ipykernel_3352\\2989281559.py:5: SettingWithCopyWarning: \n",
            "A value is trying to be set on a copy of a slice from a DataFrame.\n",
            "Try using .loc[row_indexer,col_indexer] = value instead\n",
            "\n",
            "See the caveats in the documentation: https://pandas.pydata.org/pandas-docs/stable/user_guide/indexing.html#returning-a-view-versus-a-copy\n",
            "  df['total_claim_amount'] = pd.to_numeric(df['total_claim_amount'], errors='coerce')\n"
          ]
        }
      ],
      "source": [
        "# Ensure numeric type\n",
        "df['total_claim_amount'] = pd.to_numeric(df['total_claim_amount'], errors='coerce')\n",
        "\n",
        "# Filter responders\n",
        "responders = df[df['response'].str.strip().str.lower() == 'yes']\n",
        "\n",
        "# Group and calculate average\n",
        "avg_claim_by_policy_gender = responders.groupby(['policy_type', 'gender'])['total_claim_amount'].mean().reset_index()\n",
        "avg_claim_by_policy_gender['total_claim_amount'] = avg_claim_by_policy_gender['total_claim_amount'].round(2)\n",
        "\n",
        "print(avg_claim_by_policy_gender)"
      ]
    },
    {
      "cell_type": "code",
      "execution_count": 20,
      "id": "9b7b9b03",
      "metadata": {},
      "outputs": [
        {
          "name": "stdout",
          "output_type": "stream",
          "text": [
            "        state  customer_count\n",
            "0  California            3552\n",
            "1      Oregon            2909\n",
            "2     Arizona            1937\n",
            "3      Nevada             993\n",
            "4  Washington             888\n"
          ]
        }
      ],
      "source": [
        "customer_per_state = df['state'].value_counts().reset_index()\n",
        "customer_per_state.columns = ['state','customer_count']\n",
        "\n",
        "large_states = customer_per_state[customer_per_state['customer_count'] > 500]\n",
        "print(large_states)"
      ]
    },
    {
      "cell_type": "code",
      "execution_count": 21,
      "id": "d22fdcf1",
      "metadata": {},
      "outputs": [
        {
          "name": "stdout",
          "output_type": "stream",
          "text": [
            "              education gender       max      min   median\n",
            "0              Bachelor      F  73225.96  1904.00  5663.50\n",
            "1              Bachelor      M  67907.27  1898.01  5550.70\n",
            "2               College      F  61850.19  1898.68  5616.54\n",
            "3               College      M  61134.68  1918.12  5989.77\n",
            "4                Doctor      F  44856.11  2395.57  5332.46\n",
            "5                Doctor      M  32677.34  2267.60  5610.13\n",
            "6  High School or Below      F  55277.45  2144.92  6054.18\n",
            "7  High School or Below      M  83325.38  1940.98  6277.01\n",
            "8                Master      F  51016.07  2417.78  5714.17\n",
            "9                Master      M  50568.26  2272.31  5580.96\n"
          ]
        }
      ],
      "source": [
        "customer_value = df.groupby(['education','gender'])['customer_lifetime_value'].agg(['max','min','median']).reset_index()\n",
        "customer_value[['max','min','median']] = customer_value[['max','min','median']].round(2)\n",
        "print(customer_value)"
      ]
    },
    {
      "cell_type": "code",
      "execution_count": null,
      "id": "8c8c505c",
      "metadata": {},
      "outputs": [],
      "source": []
    },
    {
      "cell_type": "markdown",
      "id": "b42999f9-311f-481e-ae63-40a5577072c5",
      "metadata": {
        "id": "b42999f9-311f-481e-ae63-40a5577072c5"
      },
      "source": [
        "## Bonus"
      ]
    },
    {
      "cell_type": "markdown",
      "id": "81ff02c5-6584-4f21-a358-b918697c6432",
      "metadata": {
        "id": "81ff02c5-6584-4f21-a358-b918697c6432"
      },
      "source": [
        "5. The marketing team wants to analyze the number of policies sold by state and month. Present the data in a table where the months are arranged as columns and the states are arranged as rows."
      ]
    },
    {
      "cell_type": "markdown",
      "id": "b6aec097-c633-4017-a125-e77a97259cda",
      "metadata": {
        "id": "b6aec097-c633-4017-a125-e77a97259cda"
      },
      "source": [
        "6.  Display a new DataFrame that contains the number of policies sold by month, by state, for the top 3 states with the highest number of policies sold.\n",
        "\n",
        "*Hint:*\n",
        "- *To accomplish this, you will first need to group the data by state and month, then count the number of policies sold for each group. Afterwards, you will need to sort the data by the count of policies sold in descending order.*\n",
        "- *Next, you will select the top 3 states with the highest number of policies sold.*\n",
        "- *Finally, you will create a new DataFrame that contains the number of policies sold by month for each of the top 3 states.*"
      ]
    },
    {
      "cell_type": "markdown",
      "id": "ba975b8a-a2cf-4fbf-9f59-ebc381767009",
      "metadata": {
        "id": "ba975b8a-a2cf-4fbf-9f59-ebc381767009"
      },
      "source": [
        "7. The marketing team wants to analyze the effect of different marketing channels on the customer response rate.\n",
        "\n",
        "Hint: You can use melt to unpivot the data and create a table that shows the customer response rate (those who responded \"Yes\") by marketing channel."
      ]
    },
    {
      "cell_type": "markdown",
      "id": "e4378d94-48fb-4850-a802-b1bc8f427b2d",
      "metadata": {
        "id": "e4378d94-48fb-4850-a802-b1bc8f427b2d"
      },
      "source": [
        "External Resources for Data Filtering: https://towardsdatascience.com/filtering-data-frames-in-pandas-b570b1f834b9"
      ]
    },
    {
      "cell_type": "code",
      "execution_count": null,
      "id": "449513f4-0459-46a0-a18d-9398d974c9ad",
      "metadata": {
        "id": "449513f4-0459-46a0-a18d-9398d974c9ad"
      },
      "outputs": [],
      "source": [
        "# your code goes here"
      ]
    }
  ],
  "metadata": {
    "colab": {
      "provenance": []
    },
    "kernelspec": {
      "display_name": "base",
      "language": "python",
      "name": "python3"
    },
    "language_info": {
      "codemirror_mode": {
        "name": "ipython",
        "version": 3
      },
      "file_extension": ".py",
      "mimetype": "text/x-python",
      "name": "python",
      "nbconvert_exporter": "python",
      "pygments_lexer": "ipython3",
      "version": "3.12.7"
    }
  },
  "nbformat": 4,
  "nbformat_minor": 5
}
