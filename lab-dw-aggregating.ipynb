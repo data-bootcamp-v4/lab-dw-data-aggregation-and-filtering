{
  "cells": [
    {
      "cell_type": "markdown",
      "id": "31969215-2a90-4d8b-ac36-646a7ae13744",
      "metadata": {
        "id": "31969215-2a90-4d8b-ac36-646a7ae13744"
      },
      "source": [
        "# Lab | Data Aggregation and Filtering"
      ]
    },
    {
      "cell_type": "markdown",
      "id": "a8f08a52-bec0-439b-99cc-11d3809d8b5d",
      "metadata": {
        "id": "a8f08a52-bec0-439b-99cc-11d3809d8b5d"
      },
      "source": [
        "In this challenge, we will continue to work with customer data from an insurance company. We will use the dataset called marketing_customer_analysis.csv, which can be found at the following link:\n",
        "\n",
        "https://raw.githubusercontent.com/data-bootcamp-v4/data/main/marketing_customer_analysis.csv\n",
        "\n",
        "This dataset contains information such as customer demographics, policy details, vehicle information, and the customer's response to the last marketing campaign. Our goal is to explore and analyze this data by first performing data cleaning, formatting, and structuring."
      ]
    },
    {
      "cell_type": "markdown",
      "id": "9c98ddc5-b041-4c94-ada1-4dfee5c98e50",
      "metadata": {
        "id": "9c98ddc5-b041-4c94-ada1-4dfee5c98e50"
      },
      "source": [
        "1. Create a new DataFrame that only includes customers who have a total_claim_amount greater than $1,000 and have a response of \"Yes\" to the last marketing campaign."
      ]
    },
    {
      "cell_type": "code",
      "execution_count": 1,
      "id": "3146a7fd",
      "metadata": {},
      "outputs": [],
      "source": [
        "import pandas as pd\n"
      ]
    },
    {
      "cell_type": "code",
      "execution_count": 2,
      "id": "26131a91",
      "metadata": {},
      "outputs": [],
      "source": [
        "# Load the dataset\n",
        "url = 'https://raw.githubusercontent.com/data-bootcamp-v4/data/main/marketing_customer_analysis.csv'\n",
        "df = pd.read_csv(url)\n"
      ]
    },
    {
      "cell_type": "code",
      "execution_count": 3,
      "id": "be2a4c1f",
      "metadata": {},
      "outputs": [
        {
          "name": "stdout",
          "output_type": "stream",
          "text": [
            "   Unnamed: 0 Customer       State  Customer Lifetime Value Response  \\\n",
            "0           0  DK49336     Arizona              4809.216960       No   \n",
            "1           1  KX64629  California              2228.525238       No   \n",
            "2           2  LZ68649  Washington             14947.917300       No   \n",
            "3           3  XL78013      Oregon             22332.439460      Yes   \n",
            "4           4  QA50777      Oregon              9025.067525       No   \n",
            "\n",
            "   Coverage Education Effective To Date EmploymentStatus Gender  ...  \\\n",
            "0     Basic   College           2/18/11         Employed      M  ...   \n",
            "1     Basic   College           1/18/11       Unemployed      F  ...   \n",
            "2     Basic  Bachelor           2/10/11         Employed      M  ...   \n",
            "3  Extended   College           1/11/11         Employed      M  ...   \n",
            "4   Premium  Bachelor           1/17/11    Medical Leave      F  ...   \n",
            "\n",
            "   Number of Open Complaints Number of Policies     Policy Type        Policy  \\\n",
            "0                        0.0                  9  Corporate Auto  Corporate L3   \n",
            "1                        0.0                  1   Personal Auto   Personal L3   \n",
            "2                        0.0                  2   Personal Auto   Personal L3   \n",
            "3                        0.0                  2  Corporate Auto  Corporate L3   \n",
            "4                        NaN                  7   Personal Auto   Personal L2   \n",
            "\n",
            "   Renew Offer Type  Sales Channel  Total Claim Amount  Vehicle Class  \\\n",
            "0            Offer3          Agent          292.800000  Four-Door Car   \n",
            "1            Offer4    Call Center          744.924331  Four-Door Car   \n",
            "2            Offer3    Call Center          480.000000            SUV   \n",
            "3            Offer2         Branch          484.013411  Four-Door Car   \n",
            "4            Offer1         Branch          707.925645  Four-Door Car   \n",
            "\n",
            "  Vehicle Size Vehicle Type  \n",
            "0      Medsize          NaN  \n",
            "1      Medsize          NaN  \n",
            "2      Medsize            A  \n",
            "3      Medsize            A  \n",
            "4      Medsize          NaN  \n",
            "\n",
            "[5 rows x 26 columns]\n",
            "Index(['Unnamed: 0', 'Customer', 'State', 'Customer Lifetime Value',\n",
            "       'Response', 'Coverage', 'Education', 'Effective To Date',\n",
            "       'EmploymentStatus', 'Gender', 'Income', 'Location Code',\n",
            "       'Marital Status', 'Monthly Premium Auto', 'Months Since Last Claim',\n",
            "       'Months Since Policy Inception', 'Number of Open Complaints',\n",
            "       'Number of Policies', 'Policy Type', 'Policy', 'Renew Offer Type',\n",
            "       'Sales Channel', 'Total Claim Amount', 'Vehicle Class', 'Vehicle Size',\n",
            "       'Vehicle Type'],\n",
            "      dtype='object')\n"
          ]
        }
      ],
      "source": [
        "# Inspect the first few rows and columns\n",
        "print(df.head())\n",
        "print(df.columns)\n"
      ]
    },
    {
      "cell_type": "code",
      "execution_count": 4,
      "id": "4a5453dc",
      "metadata": {},
      "outputs": [
        {
          "name": "stdout",
          "output_type": "stream",
          "text": [
            "['No' 'Yes' nan]\n"
          ]
        }
      ],
      "source": [
        "# Remove any leading/trailing spaces in column names and convert to lowercase\n",
        "df.columns = df.columns.str.strip().str.lower().str.replace(' ', '_')\n",
        "\n",
        "# Check for unique values in the 'response' column\n",
        "print(df['response'].unique())\n"
      ]
    },
    {
      "cell_type": "code",
      "execution_count": 5,
      "id": "591f1c35",
      "metadata": {},
      "outputs": [],
      "source": [
        "# Convert 'response' column to lowercase for consistency if necessary\n",
        "df['response'] = df['response'].str.strip().str.lower()\n",
        "\n",
        "# Filter the DataFrame\n",
        "filtered_df = df[\n",
        "    (df['total_claim_amount'] > 1000) &\n",
        "    (df['response'] == 'yes')\n",
        "]\n"
      ]
    },
    {
      "cell_type": "code",
      "execution_count": 6,
      "id": "f8fc0e6e",
      "metadata": {},
      "outputs": [
        {
          "name": "stdout",
          "output_type": "stream",
          "text": [
            "     unnamed:_0 customer       state  customer_lifetime_value response  \\\n",
            "189         189  OK31456  California             11009.130490      yes   \n",
            "236         236  YJ16163      Oregon             11009.130490      yes   \n",
            "419         419  GW43195      Oregon             25807.063000      yes   \n",
            "442         442  IP94270     Arizona             13736.132500      yes   \n",
            "587         587  FJ28407  California              5619.689084      yes   \n",
            "\n",
            "     coverage             education effective_to_date employmentstatus gender  \\\n",
            "189   Premium              Bachelor           1/24/11         Employed      F   \n",
            "236   Premium              Bachelor           1/24/11         Employed      F   \n",
            "419  Extended               College           2/13/11         Employed      F   \n",
            "442   Premium                Master           2/13/11         Disabled      F   \n",
            "587   Premium  High School or Below           1/26/11       Unemployed      M   \n",
            "\n",
            "     ...  number_of_open_complaints number_of_policies     policy_type  \\\n",
            "189  ...                        0.0                  1  Corporate Auto   \n",
            "236  ...                        0.0                  1    Special Auto   \n",
            "419  ...                        1.0                  2   Personal Auto   \n",
            "442  ...                        0.0                  8   Personal Auto   \n",
            "587  ...                        0.0                  1   Personal Auto   \n",
            "\n",
            "           policy  renew_offer_type  sales_channel  total_claim_amount  \\\n",
            "189  Corporate L3            Offer2          Agent         1358.400000   \n",
            "236    Special L3            Offer2          Agent         1358.400000   \n",
            "419   Personal L2            Offer1         Branch         1027.200000   \n",
            "442   Personal L2            Offer1            Web         1261.319869   \n",
            "587   Personal L1            Offer2            Web         1027.000029   \n",
            "\n",
            "     vehicle_class vehicle_size vehicle_type  \n",
            "189     Luxury Car      Medsize          NaN  \n",
            "236     Luxury Car      Medsize            A  \n",
            "419     Luxury Car        Small            A  \n",
            "442            SUV      Medsize            A  \n",
            "587            SUV      Medsize            A  \n",
            "\n",
            "[5 rows x 26 columns]\n",
            "(67, 26)\n"
          ]
        }
      ],
      "source": [
        "# Inspect the filtered DataFrame\n",
        "print(filtered_df.head())\n",
        "print(filtered_df.shape)  # Print the shape to see the number of rows and columns\n"
      ]
    },
    {
      "cell_type": "code",
      "execution_count": 7,
      "id": "f35ec3cf",
      "metadata": {},
      "outputs": [
        {
          "name": "stdout",
          "output_type": "stream",
          "text": [
            "['No' 'Yes' nan]\n",
            "     unnamed:_0 customer       state  customer_lifetime_value response  \\\n",
            "189         189  OK31456  California             11009.130490      yes   \n",
            "236         236  YJ16163      Oregon             11009.130490      yes   \n",
            "419         419  GW43195      Oregon             25807.063000      yes   \n",
            "442         442  IP94270     Arizona             13736.132500      yes   \n",
            "587         587  FJ28407  California              5619.689084      yes   \n",
            "\n",
            "     coverage             education effective_to_date employmentstatus gender  \\\n",
            "189   Premium              Bachelor           1/24/11         Employed      F   \n",
            "236   Premium              Bachelor           1/24/11         Employed      F   \n",
            "419  Extended               College           2/13/11         Employed      F   \n",
            "442   Premium                Master           2/13/11         Disabled      F   \n",
            "587   Premium  High School or Below           1/26/11       Unemployed      M   \n",
            "\n",
            "     ...  number_of_open_complaints number_of_policies     policy_type  \\\n",
            "189  ...                        0.0                  1  Corporate Auto   \n",
            "236  ...                        0.0                  1    Special Auto   \n",
            "419  ...                        1.0                  2   Personal Auto   \n",
            "442  ...                        0.0                  8   Personal Auto   \n",
            "587  ...                        0.0                  1   Personal Auto   \n",
            "\n",
            "           policy  renew_offer_type  sales_channel  total_claim_amount  \\\n",
            "189  Corporate L3            Offer2          Agent         1358.400000   \n",
            "236    Special L3            Offer2          Agent         1358.400000   \n",
            "419   Personal L2            Offer1         Branch         1027.200000   \n",
            "442   Personal L2            Offer1            Web         1261.319869   \n",
            "587   Personal L1            Offer2            Web         1027.000029   \n",
            "\n",
            "     vehicle_class vehicle_size vehicle_type  \n",
            "189     Luxury Car      Medsize          NaN  \n",
            "236     Luxury Car      Medsize            A  \n",
            "419     Luxury Car        Small            A  \n",
            "442            SUV      Medsize            A  \n",
            "587            SUV      Medsize            A  \n",
            "\n",
            "[5 rows x 26 columns]\n",
            "(67, 26)\n"
          ]
        }
      ],
      "source": [
        "import pandas as pd\n",
        "\n",
        "# Load the dataset\n",
        "url = 'https://raw.githubusercontent.com/data-bootcamp-v4/data/main/marketing_customer_analysis.csv'\n",
        "df = pd.read_csv(url)\n",
        "\n",
        "# Clean column names\n",
        "df.columns = df.columns.str.strip().str.lower().str.replace(' ', '_')\n",
        "\n",
        "# Check unique values in 'response' column to understand current format\n",
        "print(df['response'].unique())\n",
        "\n",
        "# Clean 'response' column values\n",
        "df['response'] = df['response'].str.strip().str.lower()\n",
        "\n",
        "# Filter the DataFrame\n",
        "filtered_df = df[\n",
        "    (df['total_claim_amount'] > 1000) &\n",
        "    (df['response'] == 'yes')\n",
        "]\n",
        "\n",
        "# Inspect the result\n",
        "print(filtered_df.head())\n",
        "print(filtered_df.shape)  # Print the shape to see the number of rows and columns\n"
      ]
    },
    {
      "cell_type": "markdown",
      "id": "b9be383e-5165-436e-80c8-57d4c757c8c3",
      "metadata": {
        "id": "b9be383e-5165-436e-80c8-57d4c757c8c3"
      },
      "source": [
        "2. Using the original Dataframe, analyze the average total_claim_amount by each policy type and gender for customers who have responded \"Yes\" to the last marketing campaign. Write your conclusions."
      ]
    },
    {
      "cell_type": "code",
      "execution_count": 8,
      "id": "8dc0f6ac",
      "metadata": {},
      "outputs": [],
      "source": [
        "import pandas as pd\n",
        "\n",
        "# Load the dataset\n",
        "url = 'https://raw.githubusercontent.com/data-bootcamp-v4/data/main/marketing_customer_analysis.csv'\n",
        "df = pd.read_csv(url)\n",
        "\n",
        "# Clean column names\n",
        "df.columns = df.columns.str.strip().str.lower().str.replace(' ', '_')\n",
        "\n",
        "# Clean 'response' column values\n",
        "df['response'] = df['response'].str.strip().str.lower()\n"
      ]
    },
    {
      "cell_type": "code",
      "execution_count": 9,
      "id": "5f066753",
      "metadata": {},
      "outputs": [],
      "source": [
        "# Filter the DataFrame for customers who responded \"Yes\"\n",
        "yes_responses_df = df[df['response'] == 'yes']\n"
      ]
    },
    {
      "cell_type": "code",
      "execution_count": 10,
      "id": "61a1fd76",
      "metadata": {},
      "outputs": [],
      "source": [
        "# Calculate average total claim amount by policy type and gender\n",
        "average_claim_amount = yes_responses_df.groupby(['policy_type', 'gender'])['total_claim_amount'].mean().reset_index()\n",
        "\n",
        "# Rename columns for clarity\n",
        "average_claim_amount.columns = ['Policy Type', 'Gender', 'Average Total Claim Amount']\n"
      ]
    },
    {
      "cell_type": "code",
      "execution_count": 11,
      "id": "27d5ce0b",
      "metadata": {},
      "outputs": [
        {
          "name": "stdout",
          "output_type": "stream",
          "text": [
            "      Policy Type Gender  Average Total Claim Amount\n",
            "0  Corporate Auto      F                  433.738499\n",
            "1  Corporate Auto      M                  408.582459\n",
            "2   Personal Auto      F                  452.965929\n",
            "3   Personal Auto      M                  457.010178\n",
            "4    Special Auto      F                  453.280164\n",
            "5    Special Auto      M                  429.527942\n"
          ]
        },
        {
          "data": {
            "image/png": "[encoded data removed]",
            "text/plain": [
              "<Figure size 1200x600 with 1 Axes>"
            ]
          },
          "metadata": {},
          "output_type": "display_data"
        }
      ],
      "source": [
        "# Inspect the result\n",
        "print(average_claim_amount)\n",
        "\n",
        "# Optionally, display in a more readable format\n",
        "import seaborn as sns\n",
        "import matplotlib.pyplot as plt\n",
        "\n",
        "# Plot the results\n",
        "plt.figure(figsize=(12, 6))\n",
        "sns.barplot(data=average_claim_amount, x='Policy Type', y='Average Total Claim Amount', hue='Gender')\n",
        "plt.title('Average Total Claim Amount by Policy Type and Gender (Responded Yes)')\n",
        "plt.xticks(rotation=45)\n",
        "plt.show()\n"
      ]
    },
    {
      "cell_type": "code",
      "execution_count": 12,
      "id": "aea1c11c",
      "metadata": {},
      "outputs": [
        {
          "name": "stdout",
          "output_type": "stream",
          "text": [
            "      Policy Type Gender  Average Total Claim Amount\n",
            "0  Corporate Auto      F                  433.738499\n",
            "1  Corporate Auto      M                  408.582459\n",
            "2   Personal Auto      F                  452.965929\n",
            "3   Personal Auto      M                  457.010178\n",
            "4    Special Auto      F                  453.280164\n",
            "5    Special Auto      M                  429.527942\n"
          ]
        },
        {
          "data": {
            "image/png": "[encoded data removed]",
            "text/plain": [
              "<Figure size 1200x600 with 1 Axes>"
            ]
          },
          "metadata": {},
          "output_type": "display_data"
        }
      ],
      "source": [
        "import pandas as pd\n",
        "import seaborn as sns\n",
        "import matplotlib.pyplot as plt\n",
        "\n",
        "# Load the dataset\n",
        "url = 'https://raw.githubusercontent.com/data-bootcamp-v4/data/main/marketing_customer_analysis.csv'\n",
        "df = pd.read_csv(url)\n",
        "\n",
        "# Clean column names\n",
        "df.columns = df.columns.str.strip().str.lower().str.replace(' ', '_')\n",
        "\n",
        "# Clean 'response' column values\n",
        "df['response'] = df['response'].str.strip().str.lower()\n",
        "\n",
        "# Filter the DataFrame for customers who responded \"Yes\"\n",
        "yes_responses_df = df[df['response'] == 'yes']\n",
        "\n",
        "# Calculate average total claim amount by policy type and gender\n",
        "average_claim_amount = yes_responses_df.groupby(['policy_type', 'gender'])['total_claim_amount'].mean().reset_index()\n",
        "\n",
        "# Rename columns for clarity\n",
        "average_claim_amount.columns = ['Policy Type', 'Gender', 'Average Total Claim Amount']\n",
        "\n",
        "# Inspect the result\n",
        "print(average_claim_amount)\n",
        "\n",
        "# Plot the results\n",
        "plt.figure(figsize=(12, 6))\n",
        "sns.barplot(data=average_claim_amount, x='Policy Type', y='Average Total Claim Amount', hue='Gender')\n",
        "plt.title('Average Total Claim Amount by Policy Type and Gender (Responded Yes)')\n",
        "plt.xticks(rotation=45)\n",
        "plt.show()\n"
      ]
    },
    {
      "cell_type": "markdown",
      "id": "7050f4ac-53c5-4193-a3c0-8699b87196f0",
      "metadata": {
        "id": "7050f4ac-53c5-4193-a3c0-8699b87196f0"
      },
      "source": [
        "3. Analyze the total number of customers who have policies in each state, and then filter the results to only include states where there are more than 500 customers."
      ]
    },
    {
      "cell_type": "code",
      "execution_count": 13,
      "id": "7ca61a0a",
      "metadata": {},
      "outputs": [],
      "source": [
        "import pandas as pd\n",
        "\n",
        "# Load the dataset\n",
        "url = 'https://raw.githubusercontent.com/data-bootcamp-v4/data/main/marketing_customer_analysis.csv'\n",
        "df = pd.read_csv(url)\n",
        "\n",
        "# Clean column names\n",
        "df.columns = df.columns.str.strip().str.lower().str.replace(' ', '_')\n"
      ]
    },
    {
      "cell_type": "code",
      "execution_count": 14,
      "id": "097b17d9",
      "metadata": {},
      "outputs": [],
      "source": [
        "# Count the number of customers per state\n",
        "customer_counts_by_state = df['state'].value_counts().reset_index()\n",
        "\n",
        "# Rename columns for clarity\n",
        "customer_counts_by_state.columns = ['State', 'Number of Customers']\n"
      ]
    },
    {
      "cell_type": "code",
      "execution_count": 15,
      "id": "26c65d6a",
      "metadata": {},
      "outputs": [
        {
          "name": "stdout",
          "output_type": "stream",
          "text": [
            "        State  Number of Customers\n",
            "0  California                 3552\n",
            "1      Oregon                 2909\n",
            "2     Arizona                 1937\n",
            "3      Nevada                  993\n",
            "4  Washington                  888\n"
          ]
        }
      ],
      "source": [
        "# Filter states with more than 500 customers\n",
        "states_above_500 = customer_counts_by_state[customer_counts_by_state['Number of Customers'] > 500]\n",
        "\n",
        "# Inspect the result\n",
        "print(states_above_500)\n"
      ]
    },
    {
      "cell_type": "code",
      "execution_count": 16,
      "id": "134192e8",
      "metadata": {},
      "outputs": [
        {
          "name": "stdout",
          "output_type": "stream",
          "text": [
            "        State  Number of Customers\n",
            "0  California                 3552\n",
            "1      Oregon                 2909\n",
            "2     Arizona                 1937\n",
            "3      Nevada                  993\n",
            "4  Washington                  888\n"
          ]
        }
      ],
      "source": [
        "import pandas as pd\n",
        "\n",
        "# Load the dataset\n",
        "url = 'https://raw.githubusercontent.com/data-bootcamp-v4/data/main/marketing_customer_analysis.csv'\n",
        "df = pd.read_csv(url)\n",
        "\n",
        "# Clean column names\n",
        "df.columns = df.columns.str.strip().str.lower().str.replace(' ', '_')\n",
        "\n",
        "# Count the number of customers per state\n",
        "customer_counts_by_state = df['state'].value_counts().reset_index()\n",
        "\n",
        "# Rename columns for clarity\n",
        "customer_counts_by_state.columns = ['State', 'Number of Customers']\n",
        "\n",
        "# Filter states with more than 500 customers\n",
        "states_above_500 = customer_counts_by_state[customer_counts_by_state['Number of Customers'] > 500]\n",
        "\n",
        "# Inspect the result\n",
        "print(states_above_500)\n"
      ]
    },
    {
      "cell_type": "code",
      "execution_count": 17,
      "id": "4676550c",
      "metadata": {},
      "outputs": [
        {
          "name": "stderr",
          "output_type": "stream",
          "text": [
            "C:\\Users\\le Roj\\AppData\\Local\\Temp\\ipykernel_13780\\2635373660.py:6: FutureWarning: \n",
            "\n",
            "Passing `palette` without assigning `hue` is deprecated and will be removed in v0.14.0. Assign the `x` variable to `hue` and set `legend=False` for the same effect.\n",
            "\n",
            "  sns.barplot(data=customer_counts_by_state, x='State', y='Number of Customers', palette='viridis')\n"
          ]
        },
        {
          "data": {
            "image/png": "[encoded data removed]",
            "text/plain": [
              "<Figure size 1200x800 with 1 Axes>"
            ]
          },
          "metadata": {},
          "output_type": "display_data"
        },
        {
          "name": "stderr",
          "output_type": "stream",
          "text": [
            "C:\\Users\\le Roj\\AppData\\Local\\Temp\\ipykernel_13780\\2635373660.py:13: FutureWarning: \n",
            "\n",
            "Passing `palette` without assigning `hue` is deprecated and will be removed in v0.14.0. Assign the `x` variable to `hue` and set `legend=False` for the same effect.\n",
            "\n",
            "  sns.barplot(data=states_above_500, x='State', y='Number of Customers', palette='viridis')\n"
          ]
        },
        {
          "data": {
            "image/png": "[encoded data removed]",
            "text/plain": [
              "<Figure size 1200x800 with 1 Axes>"
            ]
          },
          "metadata": {},
          "output_type": "display_data"
        }
      ],
      "source": [
        "import seaborn as sns\n",
        "import matplotlib.pyplot as plt\n",
        "\n",
        "# Plot the customer distribution by state\n",
        "plt.figure(figsize=(12, 8))\n",
        "sns.barplot(data=customer_counts_by_state, x='State', y='Number of Customers', palette='viridis')\n",
        "plt.title('Number of Customers by State')\n",
        "plt.xticks(rotation=90)\n",
        "plt.show()\n",
        "\n",
        "# Plot states with more than 500 customers\n",
        "plt.figure(figsize=(12, 8))\n",
        "sns.barplot(data=states_above_500, x='State', y='Number of Customers', palette='viridis')\n",
        "plt.title('States with More Than 500 Customers')\n",
        "plt.xticks(rotation=90)\n",
        "plt.show()\n"
      ]
    },
    {
      "cell_type": "markdown",
      "id": "40fa9443",
      "metadata": {},
      "source": [
        "4. Find the maximum, minimum, and median customer lifetime value by education level and gender. Write your conclusions."
      ]
    },
    {
      "cell_type": "code",
      "execution_count": 19,
      "id": "ab8b97cd",
      "metadata": {},
      "outputs": [
        {
          "name": "stdout",
          "output_type": "stream",
          "text": [
            "float64\n"
          ]
        }
      ],
      "source": [
        "print(df['customer_lifetime_value'].dtype)\n"
      ]
    },
    {
      "cell_type": "code",
      "execution_count": 20,
      "id": "03055b9d",
      "metadata": {},
      "outputs": [],
      "source": [
        "df['customer_lifetime_value'] = df['customer_lifetime_value'].astype(str)\n"
      ]
    },
    {
      "cell_type": "code",
      "execution_count": 21,
      "id": "b7bcdb97",
      "metadata": {},
      "outputs": [],
      "source": [
        "df['customer_lifetime_value'] = df['customer_lifetime_value'].str.replace('%', '').astype(float)\n"
      ]
    },
    {
      "cell_type": "code",
      "execution_count": 22,
      "id": "7e353b74",
      "metadata": {},
      "outputs": [
        {
          "name": "stdout",
          "output_type": "stream",
          "text": [
            "0     4809.216960\n",
            "1     2228.525238\n",
            "2    14947.917300\n",
            "3    22332.439460\n",
            "4     9025.067525\n",
            "Name: customer_lifetime_value, dtype: float64\n"
          ]
        }
      ],
      "source": [
        "print(df['customer_lifetime_value'].head())\n"
      ]
    },
    {
      "cell_type": "code",
      "execution_count": 23,
      "id": "458be128",
      "metadata": {},
      "outputs": [
        {
          "name": "stdout",
          "output_type": "stream",
          "text": [
            "float64\n",
            "0     4809.216960\n",
            "1     2228.525238\n",
            "2    14947.917300\n",
            "3    22332.439460\n",
            "4     9025.067525\n",
            "Name: customer_lifetime_value, dtype: float64\n"
          ]
        }
      ],
      "source": [
        "import pandas as pd\n",
        "\n",
        "# Cargar el dataset\n",
        "url = 'https://raw.githubusercontent.com/data-bootcamp-v4/data/main/marketing_customer_analysis.csv'\n",
        "df = pd.read_csv(url)\n",
        "\n",
        "# Limpiar nombres de columnas\n",
        "df.columns = df.columns.str.strip().str.lower().str.replace(' ', '_')\n",
        "\n",
        "# Verificar tipo de datos de 'customer_lifetime_value'\n",
        "print(df['customer_lifetime_value'].dtype)\n",
        "\n",
        "# Convertir la columna a string si no está en formato string\n",
        "if df['customer_lifetime_value'].dtype != 'object':\n",
        "    df['customer_lifetime_value'] = df['customer_lifetime_value'].astype(str)\n",
        "\n",
        "# Limpiar 'customer_lifetime_value'\n",
        "df['customer_lifetime_value'] = df['customer_lifetime_value'].str.replace('%', '').astype(float)\n",
        "\n",
        "# Verificar los primeros valores de la columna para asegurar que la limpieza se realizó correctamente\n",
        "print(df['customer_lifetime_value'].head())\n"
      ]
    },
    {
      "cell_type": "code",
      "execution_count": 24,
      "id": "a6dcb7d7",
      "metadata": {},
      "outputs": [
        {
          "name": "stdout",
          "output_type": "stream",
          "text": [
            "<class 'pandas.core.frame.DataFrame'>\n",
            "RangeIndex: 10910 entries, 0 to 10909\n",
            "Data columns (total 26 columns):\n",
            " #   Column                         Non-Null Count  Dtype  \n",
            "---  ------                         --------------  -----  \n",
            " 0   unnamed:_0                     10910 non-null  int64  \n",
            " 1   customer                       10910 non-null  object \n",
            " 2   state                          10279 non-null  object \n",
            " 3   customer_lifetime_value        10910 non-null  float64\n",
            " 4   response                       10279 non-null  object \n",
            " 5   coverage                       10910 non-null  object \n",
            " 6   education                      10910 non-null  object \n",
            " 7   effective_to_date              10910 non-null  object \n",
            " 8   employmentstatus               10910 non-null  object \n",
            " 9   gender                         10910 non-null  object \n",
            " 10  income                         10910 non-null  int64  \n",
            " 11  location_code                  10910 non-null  object \n",
            " 12  marital_status                 10910 non-null  object \n",
            " 13  monthly_premium_auto           10910 non-null  int64  \n",
            " 14  months_since_last_claim        10277 non-null  float64\n",
            " 15  months_since_policy_inception  10910 non-null  int64  \n",
            " 16  number_of_open_complaints      10277 non-null  float64\n",
            " 17  number_of_policies             10910 non-null  int64  \n",
            " 18  policy_type                    10910 non-null  object \n",
            " 19  policy                         10910 non-null  object \n",
            " 20  renew_offer_type               10910 non-null  object \n",
            " 21  sales_channel                  10910 non-null  object \n",
            " 22  total_claim_amount             10910 non-null  float64\n",
            " 23  vehicle_class                  10288 non-null  object \n",
            " 24  vehicle_size                   10288 non-null  object \n",
            " 25  vehicle_type                   5428 non-null   object \n",
            "dtypes: float64(4), int64(5), object(17)\n",
            "memory usage: 2.2+ MB\n",
            "None\n"
          ]
        }
      ],
      "source": [
        "print(df.info())\n"
      ]
    },
    {
      "cell_type": "markdown",
      "id": "b42999f9-311f-481e-ae63-40a5577072c5",
      "metadata": {
        "id": "b42999f9-311f-481e-ae63-40a5577072c5"
      },
      "source": [
        "## Bonus"
      ]
    },
    {
      "cell_type": "markdown",
      "id": "81ff02c5-6584-4f21-a358-b918697c6432",
      "metadata": {
        "id": "81ff02c5-6584-4f21-a358-b918697c6432"
      },
      "source": [
        "5. The marketing team wants to analyze the number of policies sold by state and month. Present the data in a table where the months are arranged as columns and the states are arranged as rows."
      ]
    },
    {
      "cell_type": "code",
      "execution_count": 25,
      "id": "4ca6d336",
      "metadata": {},
      "outputs": [
        {
          "name": "stdout",
          "output_type": "stream",
          "text": [
            "Index(['unnamed:_0', 'customer', 'state', 'customer_lifetime_value',\n",
            "       'response', 'coverage', 'education', 'effective_to_date',\n",
            "       'employmentstatus', 'gender', 'income', 'location_code',\n",
            "       'marital_status', 'monthly_premium_auto', 'months_since_last_claim',\n",
            "       'months_since_policy_inception', 'number_of_open_complaints',\n",
            "       'number_of_policies', 'policy_type', 'policy', 'renew_offer_type',\n",
            "       'sales_channel', 'total_claim_amount', 'vehicle_class', 'vehicle_size',\n",
            "       'vehicle_type'],\n",
            "      dtype='object')\n",
            "Column 'policy_date' not found in the dataset.\n"
          ]
        }
      ],
      "source": [
        "import pandas as pd\n",
        "\n",
        "# Load the dataset\n",
        "url = 'https://raw.githubusercontent.com/data-bootcamp-v4/data/main/marketing_customer_analysis.csv'\n",
        "df = pd.read_csv(url)\n",
        "\n",
        "# Clean column names\n",
        "df.columns = df.columns.str.strip().str.lower().str.replace(' ', '_')\n",
        "\n",
        "# Verify the columns\n",
        "print(df.columns)\n",
        "\n",
        "# Check if there's a 'policy_date' column or similar\n",
        "# Assuming there is a column 'policy_date' which needs to be converted to datetime\n",
        "# If the column has a different name, replace 'policy_date' with the actual name\n",
        "\n",
        "if 'policy_date' in df.columns:\n",
        "    df['policy_date'] = pd.to_datetime(df['policy_date'], errors='coerce')  # Convert to datetime\n",
        "\n",
        "    # Extract month and year from policy_date\n",
        "    df['month'] = df['policy_date'].dt.to_period('M')\n",
        "    df['year'] = df['policy_date'].dt.year\n",
        "\n",
        "    # Check the extracted columns\n",
        "    print(df[['policy_date', 'month', 'year']].head())\n",
        "\n",
        "    # Count the number of policies sold by state and month\n",
        "    pivot_table = df.pivot_table(\n",
        "        index='state',  # States as rows\n",
        "        columns='month',  # Months as columns\n",
        "        values='policy_id',  # Column to count policies\n",
        "        aggfunc='count',  # Count the number of policies\n",
        "        fill_value=0  # Replace NaN with 0\n",
        "    )\n",
        "\n",
        "    # Reset index to get the DataFrame in the desired format\n",
        "    pivot_table.reset_index(inplace=True)\n",
        "\n",
        "    # Display the resulting table\n",
        "    print(pivot_table)\n",
        "else:\n",
        "    print(\"Column 'policy_date' not found in the dataset.\")\n"
      ]
    },
    {
      "cell_type": "markdown",
      "id": "b6aec097-c633-4017-a125-e77a97259cda",
      "metadata": {
        "id": "b6aec097-c633-4017-a125-e77a97259cda"
      },
      "source": [
        "6.  Display a new DataFrame that contains the number of policies sold by month, by state, for the top 3 states with the highest number of policies sold.\n",
        "\n",
        "*Hint:*\n",
        "- *To accomplish this, you will first need to group the data by state and month, then count the number of policies sold for each group. Afterwards, you will need to sort the data by the count of policies sold in descending order.*\n",
        "- *Next, you will select the top 3 states with the highest number of policies sold.*\n",
        "- *Finally, you will create a new DataFrame that contains the number of policies sold by month for each of the top 3 states.*"
      ]
    },
    {
      "cell_type": "code",
      "execution_count": 26,
      "id": "63ec4747",
      "metadata": {},
      "outputs": [
        {
          "name": "stdout",
          "output_type": "stream",
          "text": [
            "Index(['unnamed:_0', 'customer', 'state', 'customer_lifetime_value',\n",
            "       'response', 'coverage', 'education', 'effective_to_date',\n",
            "       'employmentstatus', 'gender', 'income', 'location_code',\n",
            "       'marital_status', 'monthly_premium_auto', 'months_since_last_claim',\n",
            "       'months_since_policy_inception', 'number_of_open_complaints',\n",
            "       'number_of_policies', 'policy_type', 'policy', 'renew_offer_type',\n",
            "       'sales_channel', 'total_claim_amount', 'vehicle_class', 'vehicle_size',\n",
            "       'vehicle_type'],\n",
            "      dtype='object')\n",
            "Column 'policy_date' not found in the dataset.\n"
          ]
        }
      ],
      "source": [
        "import pandas as pd\n",
        "\n",
        "# Load the dataset\n",
        "url = 'https://raw.githubusercontent.com/data-bootcamp-v4/data/main/marketing_customer_analysis.csv'\n",
        "df = pd.read_csv(url)\n",
        "\n",
        "# Clean column names\n",
        "df.columns = df.columns.str.strip().str.lower().str.replace(' ', '_')\n",
        "\n",
        "# Check the columns available\n",
        "print(df.columns)\n",
        "\n",
        "# Convert policy_date to datetime if there's a column named 'policy_date'\n",
        "if 'policy_date' in df.columns:\n",
        "    df['policy_date'] = pd.to_datetime(df['policy_date'], errors='coerce')  # Convert to datetime\n",
        "\n",
        "    # Extract month and year from policy_date\n",
        "    df['month'] = df['policy_date'].dt.to_period('M')\n",
        "    \n",
        "    # Check the extracted columns\n",
        "    print(df[['policy_date', 'month']].head())\n",
        "\n",
        "    # Group by state and month, then count the number of policies\n",
        "    policy_counts = df.groupby(['state', 'month']).size().reset_index(name='policy_count')\n",
        "    \n",
        "    # Find the total number of policies sold by state\n",
        "    state_totals = policy_counts.groupby('state')['policy_count'].sum().reset_index()\n",
        "    \n",
        "    # Get the top 3 states with the highest number of policies sold\n",
        "    top_states = state_totals.sort_values(by='policy_count', ascending=False).head(3)['state']\n",
        "    \n",
        "    # Filter the policy_counts DataFrame to include only the top 3 states\n",
        "    top_states_policy_counts = policy_counts[policy_counts['state'].isin(top_states)]\n",
        "\n",
        "    # Pivot table to have months as columns and states as rows\n",
        "    pivot_table = top_states_policy_counts.pivot_table(\n",
        "        index='state',\n",
        "        columns='month',\n",
        "        values='policy_count',\n",
        "        aggfunc='sum',  # Sum the counts in case of multiple entries\n",
        "        fill_value=0    # Replace NaN with 0\n",
        "    )\n",
        "\n",
        "    # Reset index to get the DataFrame in the desired format\n",
        "    pivot_table.reset_index(inplace=True)\n",
        "\n",
        "    # Display the resulting table\n",
        "    print(pivot_table)\n",
        "else:\n",
        "    print(\"Column 'policy_date' not found in the dataset.\")\n"
      ]
    },
    {
      "cell_type": "markdown",
      "id": "ba975b8a-a2cf-4fbf-9f59-ebc381767009",
      "metadata": {
        "id": "ba975b8a-a2cf-4fbf-9f59-ebc381767009"
      },
      "source": [
        "7. The marketing team wants to analyze the effect of different marketing channels on the customer response rate.\n",
        "\n",
        "Hint: You can use melt to unpivot the data and create a table that shows the customer response rate (those who responded \"Yes\") by marketing channel."
      ]
    },
    {
      "cell_type": "markdown",
      "id": "e4378d94-48fb-4850-a802-b1bc8f427b2d",
      "metadata": {
        "id": "e4378d94-48fb-4850-a802-b1bc8f427b2d"
      },
      "source": [
        "External Resources for Data Filtering: https://towardsdatascience.com/filtering-data-frames-in-pandas-b570b1f834b9"
      ]
    },
    {
      "cell_type": "code",
      "execution_count": 28,
      "id": "2bf228b2",
      "metadata": {},
      "outputs": [
        {
          "name": "stdout",
          "output_type": "stream",
          "text": [
            "Columnas disponibles en el DataFrame:\n",
            "Index(['unnamed:_0', 'customer', 'state', 'customer_lifetime_value',\n",
            "       'response', 'coverage', 'education', 'effective_to_date',\n",
            "       'employmentstatus', 'gender', 'income', 'location_code',\n",
            "       'marital_status', 'monthly_premium_auto', 'months_since_last_claim',\n",
            "       'months_since_policy_inception', 'number_of_open_complaints',\n",
            "       'number_of_policies', 'policy_type', 'policy', 'renew_offer_type',\n",
            "       'sales_channel', 'total_claim_amount', 'vehicle_class', 'vehicle_size',\n",
            "       'vehicle_type'],\n",
            "      dtype='object')\n",
            "Resumen de tasas de respuesta por canal de marketing:\n",
            "  marketing_channel  response_count  total_count  response_rate\n",
            "0     sales_channel            1466        10910      13.437214\n"
          ]
        }
      ],
      "source": [
        "import pandas as pd\n",
        "\n",
        "# Cargar el dataset\n",
        "url = 'https://raw.githubusercontent.com/data-bootcamp-v4/data/main/marketing_customer_analysis.csv'\n",
        "df = pd.read_csv(url)\n",
        "\n",
        "# Limpiar nombres de columnas\n",
        "df.columns = df.columns.str.strip().str.lower().str.replace(' ', '_')\n",
        "\n",
        "# Verificar las columnas del DataFrame\n",
        "print(\"Columnas disponibles en el DataFrame:\")\n",
        "print(df.columns)\n",
        "\n",
        "# Asumamos que las columnas de los canales de marketing son 'marketing_channel_1', 'marketing_channel_2', etc.\n",
        "# Ajusta esta lista de acuerdo con los nombres reales de las columnas en tu DataFrame\n",
        "channels = [col for col in df.columns if 'channel' in col]\n",
        "\n",
        "# Verificar si 'response' y los canales de marketing están en el DataFrame\n",
        "if 'response' in df.columns and all(channel in df.columns for channel in channels):\n",
        "    # Unpivot the dataset to have marketing channels in one column\n",
        "    melted_df = pd.melt(df, id_vars=['response'], value_vars=channels, var_name='marketing_channel', value_name='value')\n",
        "\n",
        "    # Filtrar para clientes que respondieron 'Yes'\n",
        "    response_df = melted_df[melted_df['response'] == 'Yes']\n",
        "\n",
        "    # Calcular la cantidad de respuestas y el número total de clientes por canal\n",
        "    response_counts = response_df.groupby('marketing_channel').size().reset_index(name='response_count')\n",
        "    total_counts = melted_df.groupby('marketing_channel').size().reset_index(name='total_count')\n",
        "\n",
        "    # Unir las cantidades de respuestas con los totales\n",
        "    response_summary = pd.merge(response_counts, total_counts, on='marketing_channel')\n",
        "\n",
        "    # Calcular las tasas de respuesta\n",
        "    response_summary['response_rate'] = response_summary['response_count'] / response_summary['total_count'] * 100\n",
        "\n",
        "    # Mostrar la tabla resumen resultante\n",
        "    print(\"Resumen de tasas de respuesta por canal de marketing:\")\n",
        "    print(response_summary)\n",
        "\n",
        "else:\n",
        "    print(\"Verifica que las columnas 'response' y los canales de marketing están presentes en el DataFrame.\")\n"
      ]
    }
  ],
  "metadata": {
    "colab": {
      "provenance": []
    },
    "kernelspec": {
      "display_name": "Python 3 (ipykernel)",
      "language": "python",
      "name": "python3"
    },
    "language_info": {
      "codemirror_mode": {
        "name": "ipython",
        "version": 3
      },
      "file_extension": ".py",
      "mimetype": "text/x-python",
      "name": "python",
      "nbconvert_exporter": "python",
      "pygments_lexer": "ipython3",
      "version": "3.12.4"
    }
  },
  "nbformat": 4,
  "nbformat_minor": 5
}
