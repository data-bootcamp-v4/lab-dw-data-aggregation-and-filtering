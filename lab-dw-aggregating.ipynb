{
  "cells": [
    {
      "cell_type": "markdown",
      "id": "31969215-2a90-4d8b-ac36-646a7ae13744",
      "metadata": {
        "id": "31969215-2a90-4d8b-ac36-646a7ae13744"
      },
      "source": [
        "# Lab | Data Aggregation and Filtering"
      ]
    },
    {
      "cell_type": "markdown",
      "id": "a8f08a52-bec0-439b-99cc-11d3809d8b5d",
      "metadata": {
        "id": "a8f08a52-bec0-439b-99cc-11d3809d8b5d"
      },
      "source": [
        "In this challenge, we will continue to work with customer data from an insurance company. We will use the dataset called marketing_customer_analysis.csv, which can be found at the following link:\n",
        "\n",
        "https://raw.githubusercontent.com/data-bootcamp-v4/data/main/marketing_customer_analysis.csv\n",
        "\n",
        "This dataset contains information such as customer demographics, policy details, vehicle information, and the customer's response to the last marketing campaign. Our goal is to explore and analyze this data by first performing data cleaning, formatting, and structuring."
      ]
    },
    {
      "cell_type": "code",
      "execution_count": 47,
      "id": "1299c31c",
      "metadata": {},
      "outputs": [],
      "source": [
        "import pandas as pd\n",
        "url = 'https://raw.githubusercontent.com/data-bootcamp-v4/data/main/marketing_customer_analysis.csv'\n",
        "df = pd.read_csv(url)"
      ]
    },
    {
      "cell_type": "code",
      "execution_count": 48,
      "id": "d1a8bf8d",
      "metadata": {},
      "outputs": [],
      "source": [
        "# Cleaning the titles\n",
        "def clean_titles(data_frame):\n",
        "    columns = list(data_frame.columns)\n",
        "    data_frame.columns = [i.lower().replace(' ','_').strip().replace('employmentstatus', 'employment_status') for i in columns]\n",
        "    return data_frame\n",
        "clean_titles(df)\n",
        "# Removing duplicated index\n",
        "df.drop(labels='unnamed:_0', axis =1, inplace=True)"
      ]
    },
    {
      "cell_type": "code",
      "execution_count": null,
      "id": "5980579d",
      "metadata": {},
      "outputs": [],
      "source": [
        "# Removing duplicates\n",
        "df.drop_duplicates(inplace=True)"
      ]
    },
    {
      "cell_type": "markdown",
      "id": "9c98ddc5-b041-4c94-ada1-4dfee5c98e50",
      "metadata": {
        "id": "9c98ddc5-b041-4c94-ada1-4dfee5c98e50"
      },
      "source": [
        "1. Create a new DataFrame that only includes customers who:\n",
        "   - have a **low total_claim_amount** (e.g., below $1,000),\n",
        "   - have a response \"Yes\" to the last marketing campaign."
      ]
    },
    {
      "cell_type": "code",
      "execution_count": 82,
      "id": "2f377aec",
      "metadata": {},
      "outputs": [],
      "source": [
        "condition = (df['total_claim_amount'] < 1000) & (df['response'] == 'Yes')\n",
        "df_filtered = df[condition]"
      ]
    },
    {
      "cell_type": "code",
      "execution_count": 89,
      "id": "37f2d44f",
      "metadata": {},
      "outputs": [
        {
          "data": {
            "text/plain": [
              "dtype('int64')"
            ]
          },
          "execution_count": 89,
          "metadata": {},
          "output_type": "execute_result"
        }
      ],
      "source": [
        "df['monthly_premium_auto'].dtype"
      ]
    },
    {
      "cell_type": "markdown",
      "id": "b9be383e-5165-436e-80c8-57d4c757c8c3",
      "metadata": {
        "id": "b9be383e-5165-436e-80c8-57d4c757c8c3"
      },
      "source": [
        "2. Using the original Dataframe, analyze:\n",
        "   - the average `monthly_premium` and/or customer lifetime value by `policy_type` and `gender` for customers who responded \"Yes\", and\n",
        "   - compare these insights to `total_claim_amount` patterns, and discuss which segments appear most profitable or low-risk for the company."
      ]
    },
    {
      "cell_type": "code",
      "execution_count": 103,
      "id": "f427a3d9",
      "metadata": {},
      "outputs": [
        {
          "data": {
            "text/html": [
              "<div>\n",
              "<style scoped>\n",
              "    .dataframe tbody tr th:only-of-type {\n",
              "        vertical-align: middle;\n",
              "    }\n",
              "\n",
              "    .dataframe tbody tr th {\n",
              "        vertical-align: top;\n",
              "    }\n",
              "\n",
              "    .dataframe thead th {\n",
              "        text-align: right;\n",
              "    }\n",
              "</style>\n",
              "<table border=\"1\" class=\"dataframe\">\n",
              "  <thead>\n",
              "    <tr style=\"text-align: right;\">\n",
              "      <th></th>\n",
              "      <th></th>\n",
              "      <th>customer_lifetime_value</th>\n",
              "      <th>monthly_premium_auto</th>\n",
              "      <th>total_claim_amount</th>\n",
              "    </tr>\n",
              "    <tr>\n",
              "      <th>policy_type</th>\n",
              "      <th>gender</th>\n",
              "      <th></th>\n",
              "      <th></th>\n",
              "      <th></th>\n",
              "    </tr>\n",
              "  </thead>\n",
              "  <tbody>\n",
              "    <tr>\n",
              "      <th rowspan=\"2\" valign=\"top\">Corporate Auto</th>\n",
              "      <th>F</th>\n",
              "      <td>7712.63</td>\n",
              "      <td>94.30</td>\n",
              "      <td>433.74</td>\n",
              "    </tr>\n",
              "    <tr>\n",
              "      <th>M</th>\n",
              "      <td>7928.36</td>\n",
              "      <td>92.13</td>\n",
              "      <td>407.83</td>\n",
              "    </tr>\n",
              "    <tr>\n",
              "      <th rowspan=\"2\" valign=\"top\">Personal Auto</th>\n",
              "      <th>F</th>\n",
              "      <td>8339.10</td>\n",
              "      <td>98.96</td>\n",
              "      <td>452.76</td>\n",
              "    </tr>\n",
              "    <tr>\n",
              "      <th>M</th>\n",
              "      <td>7448.38</td>\n",
              "      <td>91.09</td>\n",
              "      <td>457.01</td>\n",
              "    </tr>\n",
              "    <tr>\n",
              "      <th rowspan=\"2\" valign=\"top\">Special Auto</th>\n",
              "      <th>F</th>\n",
              "      <td>7691.58</td>\n",
              "      <td>92.31</td>\n",
              "      <td>453.28</td>\n",
              "    </tr>\n",
              "    <tr>\n",
              "      <th>M</th>\n",
              "      <td>8247.09</td>\n",
              "      <td>86.34</td>\n",
              "      <td>429.53</td>\n",
              "    </tr>\n",
              "  </tbody>\n",
              "</table>\n",
              "</div>"
            ],
            "text/plain": [
              "                       customer_lifetime_value  monthly_premium_auto  \\\n",
              "policy_type    gender                                                  \n",
              "Corporate Auto F                       7712.63                 94.30   \n",
              "               M                       7928.36                 92.13   \n",
              "Personal Auto  F                       8339.10                 98.96   \n",
              "               M                       7448.38                 91.09   \n",
              "Special Auto   F                       7691.58                 92.31   \n",
              "               M                       8247.09                 86.34   \n",
              "\n",
              "                       total_claim_amount  \n",
              "policy_type    gender                      \n",
              "Corporate Auto F                   433.74  \n",
              "               M                   407.83  \n",
              "Personal Auto  F                   452.76  \n",
              "               M                   457.01  \n",
              "Special Auto   F                   453.28  \n",
              "               M                   429.53  "
            ]
          },
          "execution_count": 103,
          "metadata": {},
          "output_type": "execute_result"
        }
      ],
      "source": [
        "condition = df['response'] == 'Yes'\n",
        "(df[condition].pivot_table(index=['policy_type','gender'], values= ['monthly_premium_auto', 'customer_lifetime_value', 'total_claim_amount'])).round(2)"
      ]
    },
    {
      "cell_type": "code",
      "execution_count": 104,
      "id": "a45f2734",
      "metadata": {},
      "outputs": [
        {
          "data": {
            "text/html": [
              "<div>\n",
              "<style scoped>\n",
              "    .dataframe tbody tr th:only-of-type {\n",
              "        vertical-align: middle;\n",
              "    }\n",
              "\n",
              "    .dataframe tbody tr th {\n",
              "        vertical-align: top;\n",
              "    }\n",
              "\n",
              "    .dataframe thead th {\n",
              "        text-align: right;\n",
              "    }\n",
              "</style>\n",
              "<table border=\"1\" class=\"dataframe\">\n",
              "  <thead>\n",
              "    <tr style=\"text-align: right;\">\n",
              "      <th></th>\n",
              "      <th></th>\n",
              "      <th>customer_lifetime_value</th>\n",
              "      <th>monthly_premium_auto</th>\n",
              "      <th>total_claim_amount</th>\n",
              "    </tr>\n",
              "    <tr>\n",
              "      <th>policy_type</th>\n",
              "      <th>gender</th>\n",
              "      <th></th>\n",
              "      <th></th>\n",
              "      <th></th>\n",
              "    </tr>\n",
              "  </thead>\n",
              "  <tbody>\n",
              "    <tr>\n",
              "      <th rowspan=\"2\" valign=\"top\">Corporate Auto</th>\n",
              "      <th>F</th>\n",
              "      <td>7967.70</td>\n",
              "      <td>91.46</td>\n",
              "      <td>398.21</td>\n",
              "    </tr>\n",
              "    <tr>\n",
              "      <th>M</th>\n",
              "      <td>7730.98</td>\n",
              "      <td>94.77</td>\n",
              "      <td>462.37</td>\n",
              "    </tr>\n",
              "    <tr>\n",
              "      <th rowspan=\"2\" valign=\"top\">Personal Auto</th>\n",
              "      <th>F</th>\n",
              "      <td>8077.14</td>\n",
              "      <td>93.19</td>\n",
              "      <td>413.34</td>\n",
              "    </tr>\n",
              "    <tr>\n",
              "      <th>M</th>\n",
              "      <td>7974.13</td>\n",
              "      <td>93.29</td>\n",
              "      <td>459.69</td>\n",
              "    </tr>\n",
              "    <tr>\n",
              "      <th rowspan=\"2\" valign=\"top\">Special Auto</th>\n",
              "      <th>F</th>\n",
              "      <td>8460.40</td>\n",
              "      <td>93.56</td>\n",
              "      <td>458.14</td>\n",
              "    </tr>\n",
              "    <tr>\n",
              "      <th>M</th>\n",
              "      <td>9010.60</td>\n",
              "      <td>93.20</td>\n",
              "      <td>420.36</td>\n",
              "    </tr>\n",
              "  </tbody>\n",
              "</table>\n",
              "</div>"
            ],
            "text/plain": [
              "                       customer_lifetime_value  monthly_premium_auto  \\\n",
              "policy_type    gender                                                  \n",
              "Corporate Auto F                       7967.70                 91.46   \n",
              "               M                       7730.98                 94.77   \n",
              "Personal Auto  F                       8077.14                 93.19   \n",
              "               M                       7974.13                 93.29   \n",
              "Special Auto   F                       8460.40                 93.56   \n",
              "               M                       9010.60                 93.20   \n",
              "\n",
              "                       total_claim_amount  \n",
              "policy_type    gender                      \n",
              "Corporate Auto F                   398.21  \n",
              "               M                   462.37  \n",
              "Personal Auto  F                   413.34  \n",
              "               M                   459.69  \n",
              "Special Auto   F                   458.14  \n",
              "               M                   420.36  "
            ]
          },
          "execution_count": 104,
          "metadata": {},
          "output_type": "execute_result"
        }
      ],
      "source": [
        "# Data for the whole df, ignoring the response condition\n",
        "(df.pivot_table(index=['policy_type','gender'], values= ['monthly_premium_auto', 'customer_lifetime_value', 'total_claim_amount'])).round(2)"
      ]
    },
    {
      "cell_type": "code",
      "execution_count": null,
      "id": "5585ecfa",
      "metadata": {},
      "outputs": [],
      "source": [
        "# Analysis based on OVERALL customer lifetime value:\n",
        "# Female customers appear to be more profitable (albeit marginally) for the company when hiring 'Corporate' or 'Personal'\n",
        "# policies, while male customers are a lot more profitable for the 'Special' policy."
      ]
    },
    {
      "cell_type": "markdown",
      "id": "7050f4ac-53c5-4193-a3c0-8699b87196f0",
      "metadata": {
        "id": "7050f4ac-53c5-4193-a3c0-8699b87196f0"
      },
      "source": [
        "3. Analyze the total number of customers who have policies in each state, and then filter the results to only include states where there are more than 500 customers."
      ]
    },
    {
      "cell_type": "code",
      "execution_count": 130,
      "id": "544b8e80",
      "metadata": {},
      "outputs": [
        {
          "data": {
            "text/html": [
              "<div>\n",
              "<style scoped>\n",
              "    .dataframe tbody tr th:only-of-type {\n",
              "        vertical-align: middle;\n",
              "    }\n",
              "\n",
              "    .dataframe tbody tr th {\n",
              "        vertical-align: top;\n",
              "    }\n",
              "\n",
              "    .dataframe thead th {\n",
              "        text-align: right;\n",
              "    }\n",
              "</style>\n",
              "<table border=\"1\" class=\"dataframe\">\n",
              "  <thead>\n",
              "    <tr style=\"text-align: right;\">\n",
              "      <th></th>\n",
              "      <th>state</th>\n",
              "    </tr>\n",
              "    <tr>\n",
              "      <th>state</th>\n",
              "      <th></th>\n",
              "    </tr>\n",
              "  </thead>\n",
              "  <tbody>\n",
              "    <tr>\n",
              "      <th>Arizona</th>\n",
              "      <td>1934</td>\n",
              "    </tr>\n",
              "    <tr>\n",
              "      <th>California</th>\n",
              "      <td>3548</td>\n",
              "    </tr>\n",
              "    <tr>\n",
              "      <th>Nevada</th>\n",
              "      <td>992</td>\n",
              "    </tr>\n",
              "    <tr>\n",
              "      <th>Oregon</th>\n",
              "      <td>2897</td>\n",
              "    </tr>\n",
              "    <tr>\n",
              "      <th>Washington</th>\n",
              "      <td>888</td>\n",
              "    </tr>\n",
              "  </tbody>\n",
              "</table>\n",
              "</div>"
            ],
            "text/plain": [
              "            state\n",
              "state            \n",
              "Arizona      1934\n",
              "California   3548\n",
              "Nevada        992\n",
              "Oregon       2897\n",
              "Washington    888"
            ]
          },
          "execution_count": 130,
          "metadata": {},
          "output_type": "execute_result"
        }
      ],
      "source": [
        "df_state = df.groupby('state').agg({'state':'count'})\n",
        "condition = df_state['state'] > 500\n",
        "df_state[condition]"
      ]
    },
    {
      "cell_type": "markdown",
      "id": "b60a4443-a1a7-4bbf-b78e-9ccdf9895e0d",
      "metadata": {
        "id": "b60a4443-a1a7-4bbf-b78e-9ccdf9895e0d"
      },
      "source": [
        "4. Find the maximum, minimum, and median customer lifetime value by education level and gender. Write your conclusions."
      ]
    },
    {
      "cell_type": "code",
      "execution_count": 145,
      "id": "7c0df96a",
      "metadata": {},
      "outputs": [
        {
          "name": "stdout",
          "output_type": "stream",
          "text": [
            "Comparison between education levels\n",
            "------------------------------------\n"
          ]
        },
        {
          "data": {
            "text/html": [
              "<div>\n",
              "<style scoped>\n",
              "    .dataframe tbody tr th:only-of-type {\n",
              "        vertical-align: middle;\n",
              "    }\n",
              "\n",
              "    .dataframe tbody tr th {\n",
              "        vertical-align: top;\n",
              "    }\n",
              "\n",
              "    .dataframe thead tr th {\n",
              "        text-align: left;\n",
              "    }\n",
              "\n",
              "    .dataframe thead tr:last-of-type th {\n",
              "        text-align: right;\n",
              "    }\n",
              "</style>\n",
              "<table border=\"1\" class=\"dataframe\">\n",
              "  <thead>\n",
              "    <tr>\n",
              "      <th></th>\n",
              "      <th></th>\n",
              "      <th colspan=\"4\" halign=\"left\">customer_lifetime_value</th>\n",
              "    </tr>\n",
              "    <tr>\n",
              "      <th></th>\n",
              "      <th></th>\n",
              "      <th>max</th>\n",
              "      <th>min</th>\n",
              "      <th>median</th>\n",
              "      <th>mean</th>\n",
              "    </tr>\n",
              "    <tr>\n",
              "      <th>gender</th>\n",
              "      <th>education</th>\n",
              "      <th></th>\n",
              "      <th></th>\n",
              "      <th></th>\n",
              "      <th></th>\n",
              "    </tr>\n",
              "  </thead>\n",
              "  <tbody>\n",
              "    <tr>\n",
              "      <th rowspan=\"5\" valign=\"top\">F</th>\n",
              "      <th>Bachelor</th>\n",
              "      <td>73225.96</td>\n",
              "      <td>1904.00</td>\n",
              "      <td>5632.61</td>\n",
              "      <td>7879.74</td>\n",
              "    </tr>\n",
              "    <tr>\n",
              "      <th>College</th>\n",
              "      <td>61850.19</td>\n",
              "      <td>1898.68</td>\n",
              "      <td>5623.61</td>\n",
              "      <td>7749.67</td>\n",
              "    </tr>\n",
              "    <tr>\n",
              "      <th>Doctor</th>\n",
              "      <td>44856.11</td>\n",
              "      <td>2395.57</td>\n",
              "      <td>5332.46</td>\n",
              "      <td>7329.62</td>\n",
              "    </tr>\n",
              "    <tr>\n",
              "      <th>High School or Below</th>\n",
              "      <td>55277.45</td>\n",
              "      <td>2144.92</td>\n",
              "      <td>6035.09</td>\n",
              "      <td>8665.64</td>\n",
              "    </tr>\n",
              "    <tr>\n",
              "      <th>Master</th>\n",
              "      <td>51016.07</td>\n",
              "      <td>2417.78</td>\n",
              "      <td>5729.86</td>\n",
              "      <td>8157.05</td>\n",
              "    </tr>\n",
              "    <tr>\n",
              "      <th rowspan=\"5\" valign=\"top\">M</th>\n",
              "      <th>Bachelor</th>\n",
              "      <td>67907.27</td>\n",
              "      <td>1898.01</td>\n",
              "      <td>5548.03</td>\n",
              "      <td>7710.90</td>\n",
              "    </tr>\n",
              "    <tr>\n",
              "      <th>College</th>\n",
              "      <td>61134.68</td>\n",
              "      <td>1918.12</td>\n",
              "      <td>6005.85</td>\n",
              "      <td>8041.39</td>\n",
              "    </tr>\n",
              "    <tr>\n",
              "      <th>Doctor</th>\n",
              "      <td>32677.34</td>\n",
              "      <td>2267.60</td>\n",
              "      <td>5577.67</td>\n",
              "      <td>7415.33</td>\n",
              "    </tr>\n",
              "    <tr>\n",
              "      <th>High School or Below</th>\n",
              "      <td>83325.38</td>\n",
              "      <td>1940.98</td>\n",
              "      <td>6286.73</td>\n",
              "      <td>8147.12</td>\n",
              "    </tr>\n",
              "    <tr>\n",
              "      <th>Master</th>\n",
              "      <td>50568.26</td>\n",
              "      <td>2272.31</td>\n",
              "      <td>5579.10</td>\n",
              "      <td>8168.83</td>\n",
              "    </tr>\n",
              "  </tbody>\n",
              "</table>\n",
              "</div>"
            ],
            "text/plain": [
              "                            customer_lifetime_value                           \n",
              "                                                max      min   median     mean\n",
              "gender education                                                              \n",
              "F      Bachelor                            73225.96  1904.00  5632.61  7879.74\n",
              "       College                             61850.19  1898.68  5623.61  7749.67\n",
              "       Doctor                              44856.11  2395.57  5332.46  7329.62\n",
              "       High School or Below                55277.45  2144.92  6035.09  8665.64\n",
              "       Master                              51016.07  2417.78  5729.86  8157.05\n",
              "M      Bachelor                            67907.27  1898.01  5548.03  7710.90\n",
              "       College                             61134.68  1918.12  6005.85  8041.39\n",
              "       Doctor                              32677.34  2267.60  5577.67  7415.33\n",
              "       High School or Below                83325.38  1940.98  6286.73  8147.12\n",
              "       Master                              50568.26  2272.31  5579.10  8168.83"
            ]
          },
          "metadata": {},
          "output_type": "display_data"
        },
        {
          "name": "stdout",
          "output_type": "stream",
          "text": [
            "Comparison between genders\n",
            "----------------------------\n"
          ]
        },
        {
          "data": {
            "text/html": [
              "<div>\n",
              "<style scoped>\n",
              "    .dataframe tbody tr th:only-of-type {\n",
              "        vertical-align: middle;\n",
              "    }\n",
              "\n",
              "    .dataframe tbody tr th {\n",
              "        vertical-align: top;\n",
              "    }\n",
              "\n",
              "    .dataframe thead tr th {\n",
              "        text-align: left;\n",
              "    }\n",
              "\n",
              "    .dataframe thead tr:last-of-type th {\n",
              "        text-align: right;\n",
              "    }\n",
              "</style>\n",
              "<table border=\"1\" class=\"dataframe\">\n",
              "  <thead>\n",
              "    <tr>\n",
              "      <th></th>\n",
              "      <th colspan=\"20\" halign=\"left\">customer_lifetime_value</th>\n",
              "    </tr>\n",
              "    <tr>\n",
              "      <th></th>\n",
              "      <th colspan=\"5\" halign=\"left\">max</th>\n",
              "      <th colspan=\"5\" halign=\"left\">min</th>\n",
              "      <th colspan=\"5\" halign=\"left\">median</th>\n",
              "      <th colspan=\"5\" halign=\"left\">mean</th>\n",
              "    </tr>\n",
              "    <tr>\n",
              "      <th>education</th>\n",
              "      <th>Bachelor</th>\n",
              "      <th>College</th>\n",
              "      <th>Doctor</th>\n",
              "      <th>High School or Below</th>\n",
              "      <th>Master</th>\n",
              "      <th>Bachelor</th>\n",
              "      <th>College</th>\n",
              "      <th>Doctor</th>\n",
              "      <th>High School or Below</th>\n",
              "      <th>Master</th>\n",
              "      <th>Bachelor</th>\n",
              "      <th>College</th>\n",
              "      <th>Doctor</th>\n",
              "      <th>High School or Below</th>\n",
              "      <th>Master</th>\n",
              "      <th>Bachelor</th>\n",
              "      <th>College</th>\n",
              "      <th>Doctor</th>\n",
              "      <th>High School or Below</th>\n",
              "      <th>Master</th>\n",
              "    </tr>\n",
              "    <tr>\n",
              "      <th>gender</th>\n",
              "      <th></th>\n",
              "      <th></th>\n",
              "      <th></th>\n",
              "      <th></th>\n",
              "      <th></th>\n",
              "      <th></th>\n",
              "      <th></th>\n",
              "      <th></th>\n",
              "      <th></th>\n",
              "      <th></th>\n",
              "      <th></th>\n",
              "      <th></th>\n",
              "      <th></th>\n",
              "      <th></th>\n",
              "      <th></th>\n",
              "      <th></th>\n",
              "      <th></th>\n",
              "      <th></th>\n",
              "      <th></th>\n",
              "      <th></th>\n",
              "    </tr>\n",
              "  </thead>\n",
              "  <tbody>\n",
              "    <tr>\n",
              "      <th>F</th>\n",
              "      <td>73225.96</td>\n",
              "      <td>61850.19</td>\n",
              "      <td>44856.11</td>\n",
              "      <td>55277.45</td>\n",
              "      <td>51016.07</td>\n",
              "      <td>1904.00</td>\n",
              "      <td>1898.68</td>\n",
              "      <td>2395.57</td>\n",
              "      <td>2144.92</td>\n",
              "      <td>2417.78</td>\n",
              "      <td>5632.61</td>\n",
              "      <td>5623.61</td>\n",
              "      <td>5332.46</td>\n",
              "      <td>6035.09</td>\n",
              "      <td>5729.86</td>\n",
              "      <td>7879.74</td>\n",
              "      <td>7749.67</td>\n",
              "      <td>7329.62</td>\n",
              "      <td>8665.64</td>\n",
              "      <td>8157.05</td>\n",
              "    </tr>\n",
              "    <tr>\n",
              "      <th>M</th>\n",
              "      <td>67907.27</td>\n",
              "      <td>61134.68</td>\n",
              "      <td>32677.34</td>\n",
              "      <td>83325.38</td>\n",
              "      <td>50568.26</td>\n",
              "      <td>1898.01</td>\n",
              "      <td>1918.12</td>\n",
              "      <td>2267.60</td>\n",
              "      <td>1940.98</td>\n",
              "      <td>2272.31</td>\n",
              "      <td>5548.03</td>\n",
              "      <td>6005.85</td>\n",
              "      <td>5577.67</td>\n",
              "      <td>6286.73</td>\n",
              "      <td>5579.10</td>\n",
              "      <td>7710.90</td>\n",
              "      <td>8041.39</td>\n",
              "      <td>7415.33</td>\n",
              "      <td>8147.12</td>\n",
              "      <td>8168.83</td>\n",
              "    </tr>\n",
              "  </tbody>\n",
              "</table>\n",
              "</div>"
            ],
            "text/plain": [
              "          customer_lifetime_value                                           \\\n",
              "                              max                                            \n",
              "education                Bachelor   College    Doctor High School or Below   \n",
              "gender                                                                       \n",
              "F                        73225.96  61850.19  44856.11             55277.45   \n",
              "M                        67907.27  61134.68  32677.34             83325.38   \n",
              "\n",
              "                                                                              \\\n",
              "                         min                                                   \n",
              "education    Master Bachelor  College   Doctor High School or Below   Master   \n",
              "gender                                                                         \n",
              "F          51016.07  1904.00  1898.68  2395.57              2144.92  2417.78   \n",
              "M          50568.26  1898.01  1918.12  2267.60              1940.98  2272.31   \n",
              "\n",
              "                                                                             \\\n",
              "            median                                                     mean   \n",
              "education Bachelor  College   Doctor High School or Below   Master Bachelor   \n",
              "gender                                                                        \n",
              "F          5632.61  5623.61  5332.46              6035.09  5729.86  7879.74   \n",
              "M          5548.03  6005.85  5577.67              6286.73  5579.10  7710.90   \n",
              "\n",
              "                                                           \n",
              "                                                           \n",
              "education  College   Doctor High School or Below   Master  \n",
              "gender                                                     \n",
              "F          7749.67  7329.62              8665.64  8157.05  \n",
              "M          8041.39  7415.33              8147.12  8168.83  "
            ]
          },
          "metadata": {},
          "output_type": "display_data"
        }
      ],
      "source": [
        "#for comparing between differenr education levels on each gender\n",
        "# for a better comparison between genders\n",
        "print('Comparison between education levels\\n------------------------------------')\n",
        "display(df.groupby(['gender', 'education']).agg({'customer_lifetime_value':['max','min','median','mean']}).round(2))\n",
        "\n",
        "# for a better comparison between genders\n",
        "print('Comparison between genders\\n----------------------------')\n",
        "display(df.groupby(['gender', 'education']).agg({'customer_lifetime_value':['max','min','median','mean']}).round(2).unstack())\n"
      ]
    },
    {
      "cell_type": "code",
      "execution_count": null,
      "id": "6a2d8171",
      "metadata": {},
      "outputs": [],
      "source": [
        "# In all cases the median is always closer to the min value, which indicates that regardless of education and gender, there\n",
        "# are always a few users that have very high customer lifetime values."
      ]
    },
    {
      "cell_type": "markdown",
      "id": "b42999f9-311f-481e-ae63-40a5577072c5",
      "metadata": {
        "id": "b42999f9-311f-481e-ae63-40a5577072c5"
      },
      "source": [
        "## Bonus"
      ]
    },
    {
      "cell_type": "markdown",
      "id": "81ff02c5-6584-4f21-a358-b918697c6432",
      "metadata": {
        "id": "81ff02c5-6584-4f21-a358-b918697c6432"
      },
      "source": [
        "5. The marketing team wants to analyze the number of policies sold by state and month. Present the data in a table where the months are arranged as columns and the states are arranged as rows."
      ]
    },
    {
      "cell_type": "markdown",
      "id": "b6aec097-c633-4017-a125-e77a97259cda",
      "metadata": {
        "id": "b6aec097-c633-4017-a125-e77a97259cda"
      },
      "source": [
        "6.  Display a new DataFrame that contains the number of policies sold by month, by state, for the top 3 states with the highest number of policies sold.\n",
        "\n",
        "*Hint:*\n",
        "- *To accomplish this, you will first need to group the data by state and month, then count the number of policies sold for each group. Afterwards, you will need to sort the data by the count of policies sold in descending order.*\n",
        "- *Next, you will select the top 3 states with the highest number of policies sold.*\n",
        "- *Finally, you will create a new DataFrame that contains the number of policies sold by month for each of the top 3 states.*"
      ]
    },
    {
      "cell_type": "markdown",
      "id": "ba975b8a-a2cf-4fbf-9f59-ebc381767009",
      "metadata": {
        "id": "ba975b8a-a2cf-4fbf-9f59-ebc381767009"
      },
      "source": [
        "7. The marketing team wants to analyze the effect of different marketing channels on the customer response rate.\n",
        "\n",
        "Hint: You can use melt to unpivot the data and create a table that shows the customer response rate (those who responded \"Yes\") by marketing channel."
      ]
    },
    {
      "cell_type": "markdown",
      "id": "e4378d94-48fb-4850-a802-b1bc8f427b2d",
      "metadata": {
        "id": "e4378d94-48fb-4850-a802-b1bc8f427b2d"
      },
      "source": [
        "External Resources for Data Filtering: https://towardsdatascience.com/filtering-data-frames-in-pandas-b570b1f834b9"
      ]
    },
    {
      "cell_type": "code",
      "execution_count": null,
      "id": "449513f4-0459-46a0-a18d-9398d974c9ad",
      "metadata": {
        "id": "449513f4-0459-46a0-a18d-9398d974c9ad"
      },
      "outputs": [],
      "source": [
        "# your code goes here"
      ]
    }
  ],
  "metadata": {
    "colab": {
      "provenance": []
    },
    "kernelspec": {
      "display_name": "base",
      "language": "python",
      "name": "python3"
    },
    "language_info": {
      "codemirror_mode": {
        "name": "ipython",
        "version": 3
      },
      "file_extension": ".py",
      "mimetype": "text/x-python",
      "name": "python",
      "nbconvert_exporter": "python",
      "pygments_lexer": "ipython3",
      "version": "3.13.5"
    }
  },
  "nbformat": 4,
  "nbformat_minor": 5
}
