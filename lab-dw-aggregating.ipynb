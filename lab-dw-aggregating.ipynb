{
  "cells": [
    {
      "cell_type": "markdown",
      "id": "31969215-2a90-4d8b-ac36-646a7ae13744",
      "metadata": {
        "id": "31969215-2a90-4d8b-ac36-646a7ae13744"
      },
      "source": [
        "# Lab | Data Aggregation and Filtering"
      ]
    },
    {
      "cell_type": "markdown",
      "id": "a8f08a52-bec0-439b-99cc-11d3809d8b5d",
      "metadata": {
        "id": "a8f08a52-bec0-439b-99cc-11d3809d8b5d"
      },
      "source": [
        "In this challenge, we will continue to work with customer data from an insurance company. We will use the dataset called marketing_customer_analysis.csv, which can be found at the following link:\n",
        "\n",
        "https://raw.githubusercontent.com/data-bootcamp-v4/data/main/marketing_customer_analysis.csv\n",
        "\n",
        "This dataset contains information such as customer demographics, policy details, vehicle information, and the customer's response to the last marketing campaign. Our goal is to explore and analyze this data by first performing data cleaning, formatting, and structuring."
      ]
    },
    {
      "cell_type": "markdown",
      "id": "9c98ddc5-b041-4c94-ada1-4dfee5c98e50",
      "metadata": {
        "id": "9c98ddc5-b041-4c94-ada1-4dfee5c98e50"
      },
      "source": [
        "1. Create a new DataFrame that only includes customers who have a total_claim_amount greater than $1,000 and have a response of \"Yes\" to the last marketing campaign."
      ]
    },
    {
      "cell_type": "markdown",
      "id": "b9be383e-5165-436e-80c8-57d4c757c8c3",
      "metadata": {
        "id": "b9be383e-5165-436e-80c8-57d4c757c8c3"
      },
      "source": [
        "2. Using the original Dataframe, analyze the average total_claim_amount by each policy type and gender for customers who have responded \"Yes\" to the last marketing campaign. Write your conclusions."
      ]
    },
    {
      "cell_type": "markdown",
      "id": "7050f4ac-53c5-4193-a3c0-8699b87196f0",
      "metadata": {
        "id": "7050f4ac-53c5-4193-a3c0-8699b87196f0"
      },
      "source": [
        "3. Analyze the total number of customers who have policies in each state, and then filter the results to only include states where there are more than 500 customers."
      ]
    },
    {
      "cell_type": "markdown",
      "id": "b60a4443-a1a7-4bbf-b78e-9ccdf9895e0d",
      "metadata": {
        "id": "b60a4443-a1a7-4bbf-b78e-9ccdf9895e0d"
      },
      "source": [
        "4. Find the maximum, minimum, and median customer lifetime value by education level and gender. Write your conclusions."
      ]
    },
    {
      "cell_type": "markdown",
      "id": "b42999f9-311f-481e-ae63-40a5577072c5",
      "metadata": {
        "id": "b42999f9-311f-481e-ae63-40a5577072c5"
      },
      "source": [
        "## Bonus"
      ]
    },
    {
      "cell_type": "markdown",
      "id": "81ff02c5-6584-4f21-a358-b918697c6432",
      "metadata": {
        "id": "81ff02c5-6584-4f21-a358-b918697c6432"
      },
      "source": [
        "5. The marketing team wants to analyze the number of policies sold by state and month. Present the data in a table where the months are arranged as columns and the states are arranged as rows."
      ]
    },
    {
      "cell_type": "markdown",
      "id": "b6aec097-c633-4017-a125-e77a97259cda",
      "metadata": {
        "id": "b6aec097-c633-4017-a125-e77a97259cda"
      },
      "source": [
        "6.  Display a new DataFrame that contains the number of policies sold by month, by state, for the top 3 states with the highest number of policies sold.\n",
        "\n",
        "*Hint:*\n",
        "- *To accomplish this, you will first need to group the data by state and month, then count the number of policies sold for each group. Afterwards, you will need to sort the data by the count of policies sold in descending order.*\n",
        "- *Next, you will select the top 3 states with the highest number of policies sold.*\n",
        "- *Finally, you will create a new DataFrame that contains the number of policies sold by month for each of the top 3 states.*"
      ]
    },
    {
      "cell_type": "markdown",
      "id": "ba975b8a-a2cf-4fbf-9f59-ebc381767009",
      "metadata": {
        "id": "ba975b8a-a2cf-4fbf-9f59-ebc381767009"
      },
      "source": [
        "7. The marketing team wants to analyze the effect of different marketing channels on the customer response rate.\n",
        "\n",
        "Hint: You can use melt to unpivot the data and create a table that shows the customer response rate (those who responded \"Yes\") by marketing channel."
      ]
    },
    {
      "cell_type": "markdown",
      "id": "e4378d94-48fb-4850-a802-b1bc8f427b2d",
      "metadata": {
        "id": "e4378d94-48fb-4850-a802-b1bc8f427b2d"
      },
      "source": [
        "External Resources for Data Filtering: https://towardsdatascience.com/filtering-data-frames-in-pandas-b570b1f834b9"
      ]
    },
    {
      "cell_type": "code",
      "execution_count": 2,
      "id": "69209919",
      "metadata": {},
      "outputs": [
        {
          "name": "stdout",
          "output_type": "stream",
          "text": [
            "   Unnamed: 0 Customer       State  Customer Lifetime Value Response  \\\n",
            "0           0  DK49336     Arizona              4809.216960       No   \n",
            "1           1  KX64629  California              2228.525238       No   \n",
            "2           2  LZ68649  Washington             14947.917300       No   \n",
            "3           3  XL78013      Oregon             22332.439460      Yes   \n",
            "4           4  QA50777      Oregon              9025.067525       No   \n",
            "\n",
            "   Coverage Education Effective To Date EmploymentStatus Gender  ...  \\\n",
            "0     Basic   College           2/18/11         Employed      M  ...   \n",
            "1     Basic   College           1/18/11       Unemployed      F  ...   \n",
            "2     Basic  Bachelor           2/10/11         Employed      M  ...   \n",
            "3  Extended   College           1/11/11         Employed      M  ...   \n",
            "4   Premium  Bachelor           1/17/11    Medical Leave      F  ...   \n",
            "\n",
            "   Number of Open Complaints Number of Policies     Policy Type        Policy  \\\n",
            "0                        0.0                  9  Corporate Auto  Corporate L3   \n",
            "1                        0.0                  1   Personal Auto   Personal L3   \n",
            "2                        0.0                  2   Personal Auto   Personal L3   \n",
            "3                        0.0                  2  Corporate Auto  Corporate L3   \n",
            "4                        NaN                  7   Personal Auto   Personal L2   \n",
            "\n",
            "   Renew Offer Type  Sales Channel  Total Claim Amount  Vehicle Class  \\\n",
            "0            Offer3          Agent          292.800000  Four-Door Car   \n",
            "1            Offer4    Call Center          744.924331  Four-Door Car   \n",
            "2            Offer3    Call Center          480.000000            SUV   \n",
            "3            Offer2         Branch          484.013411  Four-Door Car   \n",
            "4            Offer1         Branch          707.925645  Four-Door Car   \n",
            "\n",
            "  Vehicle Size Vehicle Type  \n",
            "0      Medsize          NaN  \n",
            "1      Medsize          NaN  \n",
            "2      Medsize            A  \n",
            "3      Medsize            A  \n",
            "4      Medsize          NaN  \n",
            "\n",
            "[5 rows x 26 columns]\n"
          ]
        }
      ],
      "source": [
        "import pandas as pd\n",
        "\n",
        "# Cargar el archivo desde el enlace\n",
        "url = \"https://raw.githubusercontent.com/data-bootcamp-v4/data/main/marketing_customer_analysis.csv\"\n",
        "data = pd.read_csv(url)\n",
        "\n",
        "# Visualizar las primeras filas para entender el formato\n",
        "print(data.head())\n"
      ]
    },
    {
      "cell_type": "code",
      "execution_count": 3,
      "id": "449513f4-0459-46a0-a18d-9398d974c9ad",
      "metadata": {
        "id": "449513f4-0459-46a0-a18d-9398d974c9ad"
      },
      "outputs": [
        {
          "name": "stdout",
          "output_type": "stream",
          "text": [
            "     Unnamed: 0 Customer       State  Customer Lifetime Value Response  \\\n",
            "189         189  OK31456  California             11009.130490      Yes   \n",
            "236         236  YJ16163      Oregon             11009.130490      Yes   \n",
            "419         419  GW43195      Oregon             25807.063000      Yes   \n",
            "442         442  IP94270     Arizona             13736.132500      Yes   \n",
            "587         587  FJ28407  California              5619.689084      Yes   \n",
            "\n",
            "     Coverage             Education Effective To Date EmploymentStatus Gender  \\\n",
            "189   Premium              Bachelor           1/24/11         Employed      F   \n",
            "236   Premium              Bachelor           1/24/11         Employed      F   \n",
            "419  Extended               College           2/13/11         Employed      F   \n",
            "442   Premium                Master           2/13/11         Disabled      F   \n",
            "587   Premium  High School or Below           1/26/11       Unemployed      M   \n",
            "\n",
            "     ...  Number of Open Complaints Number of Policies     Policy Type  \\\n",
            "189  ...                        0.0                  1  Corporate Auto   \n",
            "236  ...                        0.0                  1    Special Auto   \n",
            "419  ...                        1.0                  2   Personal Auto   \n",
            "442  ...                        0.0                  8   Personal Auto   \n",
            "587  ...                        0.0                  1   Personal Auto   \n",
            "\n",
            "           Policy  Renew Offer Type  Sales Channel  Total Claim Amount  \\\n",
            "189  Corporate L3            Offer2          Agent         1358.400000   \n",
            "236    Special L3            Offer2          Agent         1358.400000   \n",
            "419   Personal L2            Offer1         Branch         1027.200000   \n",
            "442   Personal L2            Offer1            Web         1261.319869   \n",
            "587   Personal L1            Offer2            Web         1027.000029   \n",
            "\n",
            "     Vehicle Class Vehicle Size Vehicle Type  \n",
            "189     Luxury Car      Medsize          NaN  \n",
            "236     Luxury Car      Medsize            A  \n",
            "419     Luxury Car        Small            A  \n",
            "442            SUV      Medsize            A  \n",
            "587            SUV      Medsize            A  \n",
            "\n",
            "[5 rows x 26 columns]\n"
          ]
        }
      ],
      "source": [
        "# Exercise 1\n",
        "\n",
        "# Crear el nuevo DataFrame con las condiciones dadas\n",
        "filtered_df = data[(data['Total Claim Amount'] > 1000) & (data['Response'] == \"Yes\")]\n",
        "\n",
        "# Mostrar las primeras filas del nuevo DataFrame\n",
        "print(filtered_df.head())\n",
        "\n"
      ]
    },
    {
      "cell_type": "code",
      "execution_count": 4,
      "id": "944d7daf",
      "metadata": {},
      "outputs": [
        {
          "name": "stdout",
          "output_type": "stream",
          "text": [
            "      Policy Type Gender  Total Claim Amount\n",
            "0  Corporate Auto      F          433.738499\n",
            "1  Corporate Auto      M          408.582459\n",
            "2   Personal Auto      F          452.965929\n",
            "3   Personal Auto      M          457.010178\n",
            "4    Special Auto      F          453.280164\n",
            "5    Special Auto      M          429.527942\n"
          ]
        }
      ],
      "source": [
        "#Exercise 2\n",
        "\n",
        "# Filtrar los datos para incluir solo las respuestas \"Yes\"\n",
        "yes_responses = data[data['Response'] == \"Yes\"]\n",
        "\n",
        "# Calcular el promedio de Total Claim Amount agrupado por Policy Type y Gender\n",
        "average_claim = yes_responses.groupby(['Policy Type', 'Gender'])['Total Claim Amount'].mean().reset_index()\n",
        "\n",
        "# Mostrar los resultados\n",
        "print(average_claim)\n"
      ]
    },
    {
      "cell_type": "code",
      "execution_count": 5,
      "id": "708017f8",
      "metadata": {},
      "outputs": [
        {
          "name": "stdout",
          "output_type": "stream",
          "text": [
            "        State  Customer Count\n",
            "0  California            3552\n",
            "1      Oregon            2909\n",
            "2     Arizona            1937\n",
            "3      Nevada             993\n",
            "4  Washington             888\n"
          ]
        }
      ],
      "source": [
        "#Exercise 3\n",
        "\n",
        "# Contar el número total de clientes por estado\n",
        "customers_by_state = data['State'].value_counts().reset_index()\n",
        "customers_by_state.columns = ['State', 'Customer Count']\n",
        "\n",
        "# Filtrar estados con más de 500 clientes\n",
        "filtered_states = customers_by_state[customers_by_state['Customer Count'] > 500]\n",
        "\n",
        "# Mostrar los resultados\n",
        "print(filtered_states)\n"
      ]
    },
    {
      "cell_type": "code",
      "execution_count": 6,
      "id": "fc2f5510",
      "metadata": {},
      "outputs": [
        {
          "name": "stdout",
          "output_type": "stream",
          "text": [
            "              Education Gender          max          min       median\n",
            "0              Bachelor      F  73225.95652  1904.000852  5640.505303\n",
            "1              Bachelor      M  67907.27050  1898.007675  5548.031892\n",
            "2               College      F  61850.18803  1898.683686  5623.611187\n",
            "3               College      M  61134.68307  1918.119700  6005.847375\n",
            "4                Doctor      F  44856.11397  2395.570000  5332.462694\n",
            "5                Doctor      M  32677.34284  2267.604038  5577.669457\n",
            "6  High School or Below      F  55277.44589  2144.921535  6039.553187\n",
            "7  High School or Below      M  83325.38119  1940.981221  6286.731006\n",
            "8                Master      F  51016.06704  2417.777032  5729.855012\n",
            "9                Master      M  50568.25912  2272.307310  5579.099207\n"
          ]
        }
      ],
      "source": [
        "#Exercise 4\n",
        "\n",
        "# Calcular las métricas requeridas\n",
        "clv_stats = data.groupby(['Education', 'Gender'])['Customer Lifetime Value'].agg(['max', 'min', 'median']).reset_index()\n",
        "\n",
        "# Mostrar los resultados\n",
        "print(clv_stats)\n"
      ]
    },
    {
      "cell_type": "code",
      "execution_count": 7,
      "id": "8f9349bf",
      "metadata": {},
      "outputs": [
        {
          "name": "stdout",
          "output_type": "stream",
          "text": [
            "Month          1     2\n",
            "State                 \n",
            "Arizona     1008   929\n",
            "California  1918  1634\n",
            "Nevada       551   442\n",
            "Oregon      1565  1344\n",
            "Washington   463   425\n"
          ]
        },
        {
          "name": "stderr",
          "output_type": "stream",
          "text": [
            "C:\\Users\\cdeniaca\\AppData\\Local\\Temp\\ipykernel_23120\\1210193294.py:4: UserWarning: Could not infer format, so each element will be parsed individually, falling back to `dateutil`. To ensure parsing is consistent and as-expected, please specify a format.\n",
            "  data['Effective To Date'] = pd.to_datetime(data['Effective To Date'])\n"
          ]
        }
      ],
      "source": [
        "#BONUS - Exercise 5\n",
        "\n",
        "# Asegurarnos de que las fechas estén en un formato adecuado\n",
        "data['Effective To Date'] = pd.to_datetime(data['Effective To Date'])\n",
        "\n",
        "# Extraer el mes del campo de la fecha\n",
        "data['Month'] = data['Effective To Date'].dt.month\n",
        "\n",
        "# Crear una tabla pivote con estados como filas y meses como columnas\n",
        "policies_by_state_month = data.pivot_table(\n",
        "    index='State', \n",
        "    columns='Month', \n",
        "    values='Policy',  # Usamos cualquier columna que represente las pólizas (puedes ajustar si hay otra mejor)\n",
        "    aggfunc='count', \n",
        "    fill_value=0  # Rellenar valores faltantes con 0\n",
        ")\n",
        "\n",
        "# Mostrar la tabla pivote\n",
        "print(policies_by_state_month)\n"
      ]
    },
    {
      "cell_type": "code",
      "execution_count": 8,
      "id": "1c910f96",
      "metadata": {},
      "outputs": [
        {
          "name": "stdout",
          "output_type": "stream",
          "text": [
            "Month          1     2\n",
            "State                 \n",
            "Arizona     1008   929\n",
            "California  1918  1634\n",
            "Oregon      1565  1344\n"
          ]
        }
      ],
      "source": [
        "#Exercise 6\n",
        "\n",
        "# Asegurarnos de que las fechas estén en un formato adecuado\n",
        "data['Effective To Date'] = pd.to_datetime(data['Effective To Date'])\n",
        "\n",
        "# Extraer el mes del campo de la fecha\n",
        "data['Month'] = data['Effective To Date'].dt.month\n",
        "\n",
        "# Agrupar por estado y mes, y contar el número de pólizas vendidas\n",
        "policies_by_state_month = data.groupby(['State', 'Month'])['Policy'].count().reset_index()\n",
        "policies_by_state_month.columns = ['State', 'Month', 'Policy Count']\n",
        "\n",
        "# Calcular el número total de pólizas por estado\n",
        "total_policies_by_state = policies_by_state_month.groupby('State')['Policy Count'].sum().reset_index()\n",
        "total_policies_by_state = total_policies_by_state.sort_values(by='Policy Count', ascending=False)\n",
        "\n",
        "# Seleccionar los 3 estados con el mayor número de pólizas vendidas\n",
        "top_3_states = total_policies_by_state.head(3)['State']\n",
        "\n",
        "# Filtrar los datos para incluir solo los 3 estados principales\n",
        "filtered_data = policies_by_state_month[policies_by_state_month['State'].isin(top_3_states)]\n",
        "\n",
        "# Pivotar la tabla para mostrar los meses como columnas y los estados como filas\n",
        "top_3_states_table = filtered_data.pivot_table(\n",
        "    index='State',\n",
        "    columns='Month',\n",
        "    values='Policy Count',\n",
        "    aggfunc='sum',\n",
        "    fill_value=0\n",
        ")\n",
        "\n",
        "# Mostrar la tabla final\n",
        "print(top_3_states_table)\n"
      ]
    },
    {
      "cell_type": "code",
      "execution_count": 9,
      "id": "257ebffb",
      "metadata": {},
      "outputs": [
        {
          "name": "stdout",
          "output_type": "stream",
          "text": [
            "  Sales Channel  Yes Responses  Total Customers  Response Rate (%)\n",
            "0         Agent            742             3890          19.074550\n",
            "1        Branch            326             2865          11.378709\n",
            "2   Call Center            221             2013          10.978639\n",
            "3           Web            177             1511          11.714097\n"
          ]
        }
      ],
      "source": [
        "#Exercise 7\n",
        "\n",
        "# Seleccionar las columnas relevantes\n",
        "marketing_channels = ['Response', 'Sales Channel', 'State', 'Policy Type', 'Gender']  # Ajusta si necesitas otras columnas relevantes\n",
        "selected_data = data[marketing_channels]\n",
        "\n",
        "# Filtrar solo las respuestas \"Yes\"\n",
        "response_yes = selected_data[selected_data['Response'] == \"Yes\"]\n",
        "\n",
        "# Calcular el número total de clientes por canal\n",
        "total_by_channel = data.groupby('Sales Channel')['Response'].count().reset_index()\n",
        "total_by_channel.columns = ['Sales Channel', 'Total Customers']\n",
        "\n",
        "# Calcular el número de respuestas \"Yes\" por canal\n",
        "yes_by_channel = response_yes.groupby('Sales Channel')['Response'].count().reset_index()\n",
        "yes_by_channel.columns = ['Sales Channel', 'Yes Responses']\n",
        "\n",
        "# Unir los DataFrames para calcular la tasa de respuesta\n",
        "response_rate = pd.merge(yes_by_channel, total_by_channel, on='Sales Channel')\n",
        "response_rate['Response Rate (%)'] = (response_rate['Yes Responses'] / response_rate['Total Customers']) * 100\n",
        "\n",
        "# Mostrar los resultados\n",
        "print(response_rate)\n"
      ]
    },
    {
      "cell_type": "code",
      "execution_count": null,
      "id": "acbe96f4",
      "metadata": {},
      "outputs": [],
      "source": []
    }
  ],
  "metadata": {
    "colab": {
      "provenance": []
    },
    "kernelspec": {
      "display_name": "Python 3",
      "language": "python",
      "name": "python3"
    },
    "language_info": {
      "codemirror_mode": {
        "name": "ipython",
        "version": 3
      },
      "file_extension": ".py",
      "mimetype": "text/x-python",
      "name": "python",
      "nbconvert_exporter": "python",
      "pygments_lexer": "ipython3",
      "version": "3.12.6"
    }
  },
  "nbformat": 4,
  "nbformat_minor": 5
}
