{
  "cells": [
    {
      "cell_type": "markdown",
      "id": "31969215-2a90-4d8b-ac36-646a7ae13744",
      "metadata": {
        "id": "31969215-2a90-4d8b-ac36-646a7ae13744"
      },
      "source": [
        "# Lab | Data Aggregation and Filtering"
      ]
    },
    {
      "cell_type": "markdown",
      "id": "a8f08a52-bec0-439b-99cc-11d3809d8b5d",
      "metadata": {
        "id": "a8f08a52-bec0-439b-99cc-11d3809d8b5d"
      },
      "source": [
        "In this challenge, we will continue to work with customer data from an insurance company. We will use the dataset called marketing_customer_analysis.csv, which can be found at the following link:\n",
        "\n",
        "https://raw.githubusercontent.com/data-bootcamp-v4/data/main/marketing_customer_analysis.csv\n",
        "\n",
        "This dataset contains information such as customer demographics, policy details, vehicle information, and the customer's response to the last marketing campaign. Our goal is to explore and analyze this data by first performing data cleaning, formatting, and structuring."
      ]
    },
    {
      "cell_type": "code",
      "execution_count": 4,
      "id": "988d7a4b",
      "metadata": {},
      "outputs": [
        {
          "name": "stdout",
          "output_type": "stream",
          "text": [
            "       Unnamed: 0 Customer       State  Customer Lifetime Value Response  \\\n",
            "0               0  DK49336     Arizona              4809.216960       No   \n",
            "1               1  KX64629  California              2228.525238       No   \n",
            "2               2  LZ68649  Washington             14947.917300       No   \n",
            "3               3  XL78013      Oregon             22332.439460      Yes   \n",
            "4               4  QA50777      Oregon              9025.067525       No   \n",
            "...           ...      ...         ...                      ...      ...   \n",
            "10905       10905  FE99816      Nevada             15563.369440       No   \n",
            "10906       10906  KX53892      Oregon              5259.444853       No   \n",
            "10907       10907  TL39050     Arizona             23893.304100       No   \n",
            "10908       10908  WA60547  California             11971.977650       No   \n",
            "10909       10909  IV32877         NaN              6857.519928      NaN   \n",
            "\n",
            "       Coverage Education Effective To Date EmploymentStatus Gender  ...  \\\n",
            "0         Basic   College           2/18/11         Employed      M  ...   \n",
            "1         Basic   College           1/18/11       Unemployed      F  ...   \n",
            "2         Basic  Bachelor           2/10/11         Employed      M  ...   \n",
            "3      Extended   College           1/11/11         Employed      M  ...   \n",
            "4       Premium  Bachelor           1/17/11    Medical Leave      F  ...   \n",
            "...         ...       ...               ...              ...    ...  ...   \n",
            "10905   Premium  Bachelor           1/19/11       Unemployed      F  ...   \n",
            "10906     Basic   College            1/6/11         Employed      F  ...   \n",
            "10907  Extended  Bachelor            2/6/11         Employed      F  ...   \n",
            "10908   Premium   College           2/13/11         Employed      F  ...   \n",
            "10909     Basic  Bachelor            1/8/11       Unemployed      M  ...   \n",
            "\n",
            "       Number of Open Complaints Number of Policies     Policy Type  \\\n",
            "0                            0.0                  9  Corporate Auto   \n",
            "1                            0.0                  1   Personal Auto   \n",
            "2                            0.0                  2   Personal Auto   \n",
            "3                            0.0                  2  Corporate Auto   \n",
            "4                            NaN                  7   Personal Auto   \n",
            "...                          ...                ...             ...   \n",
            "10905                        NaN                  7   Personal Auto   \n",
            "10906                        0.0                  6   Personal Auto   \n",
            "10907                        0.0                  2  Corporate Auto   \n",
            "10908                        4.0                  6   Personal Auto   \n",
            "10909                        0.0                  3   Personal Auto   \n",
            "\n",
            "             Policy  Renew Offer Type  Sales Channel  Total Claim Amount  \\\n",
            "0      Corporate L3            Offer3          Agent          292.800000   \n",
            "1       Personal L3            Offer4    Call Center          744.924331   \n",
            "2       Personal L3            Offer3    Call Center          480.000000   \n",
            "3      Corporate L3            Offer2         Branch          484.013411   \n",
            "4       Personal L2            Offer1         Branch          707.925645   \n",
            "...             ...               ...            ...                 ...   \n",
            "10905   Personal L1            Offer3            Web         1214.400000   \n",
            "10906   Personal L3            Offer2         Branch          273.018929   \n",
            "10907  Corporate L3            Offer1            Web          381.306996   \n",
            "10908   Personal L1            Offer1         Branch          618.288849   \n",
            "10909   Personal L1            Offer4            Web         1021.719397   \n",
            "\n",
            "       Vehicle Class Vehicle Size Vehicle Type  \n",
            "0      Four-Door Car      Medsize          NaN  \n",
            "1      Four-Door Car      Medsize          NaN  \n",
            "2                SUV      Medsize            A  \n",
            "3      Four-Door Car      Medsize            A  \n",
            "4      Four-Door Car      Medsize          NaN  \n",
            "...              ...          ...          ...  \n",
            "10905     Luxury Car      Medsize            A  \n",
            "10906  Four-Door Car      Medsize            A  \n",
            "10907     Luxury SUV      Medsize          NaN  \n",
            "10908            SUV      Medsize            A  \n",
            "10909            SUV      Medsize          NaN  \n",
            "\n",
            "[10910 rows x 26 columns]\n"
          ]
        }
      ],
      "source": [
        "# Import required libraries\n",
        "import pandas as pd\n",
        "\n",
        "# Load the DataFrame from the provided URL\n",
        "url = 'https://raw.githubusercontent.com/data-bootcamp-v4/data/main/marketing_customer_analysis.csv'\n",
        "df = pd.read_csv(url)\n",
        "\n",
        "# Display the results\n",
        "print(df)\n"
      ]
    },
    {
      "cell_type": "code",
      "execution_count": 8,
      "id": "a34c18df",
      "metadata": {},
      "outputs": [
        {
          "name": "stdout",
          "output_type": "stream",
          "text": [
            "Index(['Unnamed: 0', 'Customer', 'State', 'Customer Lifetime Value',\n",
            "       'Response', 'Coverage', 'Education', 'Effective To Date',\n",
            "       'EmploymentStatus', 'Gender', 'Income', 'Location Code',\n",
            "       'Marital Status', 'Monthly Premium Auto', 'Months Since Last Claim',\n",
            "       'Months Since Policy Inception', 'Number of Open Complaints',\n",
            "       'Number of Policies', 'Policy Type', 'Policy', 'Renew Offer Type',\n",
            "       'Sales Channel', 'Total Claim Amount', 'Vehicle Class', 'Vehicle Size',\n",
            "       'Vehicle Type'],\n",
            "      dtype='object')\n"
          ]
        }
      ],
      "source": [
        "# Display the first few rows of the DataFrame to understand its structure\n",
        "df.head()\n",
        "\n",
        "# Display the column names to see what data is available\n",
        "print(df.columns)"
      ]
    },
    {
      "cell_type": "markdown",
      "id": "9c98ddc5-b041-4c94-ada1-4dfee5c98e50",
      "metadata": {
        "id": "9c98ddc5-b041-4c94-ada1-4dfee5c98e50"
      },
      "source": [
        "1. Create a new DataFrame that only includes customers who have a total_claim_amount greater than $1,000 and have a response of \"Yes\" to the last marketing campaign."
      ]
    },
    {
      "cell_type": "code",
      "execution_count": 13,
      "id": "22719ef8",
      "metadata": {},
      "outputs": [
        {
          "name": "stdout",
          "output_type": "stream",
          "text": [
            "Total Claim Amount: $4744631.677058\n"
          ]
        }
      ],
      "source": [
        "# Calculate the total claim amount\n",
        "total_claim_amount = df['Total Claim Amount'].sum()\n",
        "\n",
        "# Display the total claim amount\n",
        "print(f'Total Claim Amount: ${total_claim_amount}')"
      ]
    },
    {
      "cell_type": "code",
      "execution_count": 14,
      "id": "3110d75b",
      "metadata": {},
      "outputs": [
        {
          "data": {
            "text/html": [
              "<div>\n",
              "<style scoped>\n",
              "    .dataframe tbody tr th:only-of-type {\n",
              "        vertical-align: middle;\n",
              "    }\n",
              "\n",
              "    .dataframe tbody tr th {\n",
              "        vertical-align: top;\n",
              "    }\n",
              "\n",
              "    .dataframe thead th {\n",
              "        text-align: right;\n",
              "    }\n",
              "</style>\n",
              "<table border=\"1\" class=\"dataframe\">\n",
              "  <thead>\n",
              "    <tr style=\"text-align: right;\">\n",
              "      <th></th>\n",
              "      <th>Unnamed: 0</th>\n",
              "      <th>Customer</th>\n",
              "      <th>State</th>\n",
              "      <th>Customer Lifetime Value</th>\n",
              "      <th>Response</th>\n",
              "      <th>Coverage</th>\n",
              "      <th>Education</th>\n",
              "      <th>Effective To Date</th>\n",
              "      <th>EmploymentStatus</th>\n",
              "      <th>Gender</th>\n",
              "      <th>...</th>\n",
              "      <th>Number of Open Complaints</th>\n",
              "      <th>Number of Policies</th>\n",
              "      <th>Policy Type</th>\n",
              "      <th>Policy</th>\n",
              "      <th>Renew Offer Type</th>\n",
              "      <th>Sales Channel</th>\n",
              "      <th>Total Claim Amount</th>\n",
              "      <th>Vehicle Class</th>\n",
              "      <th>Vehicle Size</th>\n",
              "      <th>Vehicle Type</th>\n",
              "    </tr>\n",
              "  </thead>\n",
              "  <tbody>\n",
              "    <tr>\n",
              "      <th>189</th>\n",
              "      <td>189</td>\n",
              "      <td>OK31456</td>\n",
              "      <td>California</td>\n",
              "      <td>11009.130490</td>\n",
              "      <td>Yes</td>\n",
              "      <td>Premium</td>\n",
              "      <td>Bachelor</td>\n",
              "      <td>1/24/11</td>\n",
              "      <td>Employed</td>\n",
              "      <td>F</td>\n",
              "      <td>...</td>\n",
              "      <td>0.0</td>\n",
              "      <td>1</td>\n",
              "      <td>Corporate Auto</td>\n",
              "      <td>Corporate L3</td>\n",
              "      <td>Offer2</td>\n",
              "      <td>Agent</td>\n",
              "      <td>1358.400000</td>\n",
              "      <td>Luxury Car</td>\n",
              "      <td>Medsize</td>\n",
              "      <td>NaN</td>\n",
              "    </tr>\n",
              "    <tr>\n",
              "      <th>236</th>\n",
              "      <td>236</td>\n",
              "      <td>YJ16163</td>\n",
              "      <td>Oregon</td>\n",
              "      <td>11009.130490</td>\n",
              "      <td>Yes</td>\n",
              "      <td>Premium</td>\n",
              "      <td>Bachelor</td>\n",
              "      <td>1/24/11</td>\n",
              "      <td>Employed</td>\n",
              "      <td>F</td>\n",
              "      <td>...</td>\n",
              "      <td>0.0</td>\n",
              "      <td>1</td>\n",
              "      <td>Special Auto</td>\n",
              "      <td>Special L3</td>\n",
              "      <td>Offer2</td>\n",
              "      <td>Agent</td>\n",
              "      <td>1358.400000</td>\n",
              "      <td>Luxury Car</td>\n",
              "      <td>Medsize</td>\n",
              "      <td>A</td>\n",
              "    </tr>\n",
              "    <tr>\n",
              "      <th>419</th>\n",
              "      <td>419</td>\n",
              "      <td>GW43195</td>\n",
              "      <td>Oregon</td>\n",
              "      <td>25807.063000</td>\n",
              "      <td>Yes</td>\n",
              "      <td>Extended</td>\n",
              "      <td>College</td>\n",
              "      <td>2/13/11</td>\n",
              "      <td>Employed</td>\n",
              "      <td>F</td>\n",
              "      <td>...</td>\n",
              "      <td>1.0</td>\n",
              "      <td>2</td>\n",
              "      <td>Personal Auto</td>\n",
              "      <td>Personal L2</td>\n",
              "      <td>Offer1</td>\n",
              "      <td>Branch</td>\n",
              "      <td>1027.200000</td>\n",
              "      <td>Luxury Car</td>\n",
              "      <td>Small</td>\n",
              "      <td>A</td>\n",
              "    </tr>\n",
              "    <tr>\n",
              "      <th>442</th>\n",
              "      <td>442</td>\n",
              "      <td>IP94270</td>\n",
              "      <td>Arizona</td>\n",
              "      <td>13736.132500</td>\n",
              "      <td>Yes</td>\n",
              "      <td>Premium</td>\n",
              "      <td>Master</td>\n",
              "      <td>2/13/11</td>\n",
              "      <td>Disabled</td>\n",
              "      <td>F</td>\n",
              "      <td>...</td>\n",
              "      <td>0.0</td>\n",
              "      <td>8</td>\n",
              "      <td>Personal Auto</td>\n",
              "      <td>Personal L2</td>\n",
              "      <td>Offer1</td>\n",
              "      <td>Web</td>\n",
              "      <td>1261.319869</td>\n",
              "      <td>SUV</td>\n",
              "      <td>Medsize</td>\n",
              "      <td>A</td>\n",
              "    </tr>\n",
              "    <tr>\n",
              "      <th>587</th>\n",
              "      <td>587</td>\n",
              "      <td>FJ28407</td>\n",
              "      <td>California</td>\n",
              "      <td>5619.689084</td>\n",
              "      <td>Yes</td>\n",
              "      <td>Premium</td>\n",
              "      <td>High School or Below</td>\n",
              "      <td>1/26/11</td>\n",
              "      <td>Unemployed</td>\n",
              "      <td>M</td>\n",
              "      <td>...</td>\n",
              "      <td>0.0</td>\n",
              "      <td>1</td>\n",
              "      <td>Personal Auto</td>\n",
              "      <td>Personal L1</td>\n",
              "      <td>Offer2</td>\n",
              "      <td>Web</td>\n",
              "      <td>1027.000029</td>\n",
              "      <td>SUV</td>\n",
              "      <td>Medsize</td>\n",
              "      <td>A</td>\n",
              "    </tr>\n",
              "  </tbody>\n",
              "</table>\n",
              "<p>5 rows × 26 columns</p>\n",
              "</div>"
            ],
            "text/plain": [
              "     Unnamed: 0 Customer       State  Customer Lifetime Value Response  \\\n",
              "189         189  OK31456  California             11009.130490      Yes   \n",
              "236         236  YJ16163      Oregon             11009.130490      Yes   \n",
              "419         419  GW43195      Oregon             25807.063000      Yes   \n",
              "442         442  IP94270     Arizona             13736.132500      Yes   \n",
              "587         587  FJ28407  California              5619.689084      Yes   \n",
              "\n",
              "     Coverage             Education Effective To Date EmploymentStatus Gender  \\\n",
              "189   Premium              Bachelor           1/24/11         Employed      F   \n",
              "236   Premium              Bachelor           1/24/11         Employed      F   \n",
              "419  Extended               College           2/13/11         Employed      F   \n",
              "442   Premium                Master           2/13/11         Disabled      F   \n",
              "587   Premium  High School or Below           1/26/11       Unemployed      M   \n",
              "\n",
              "     ...  Number of Open Complaints Number of Policies     Policy Type  \\\n",
              "189  ...                        0.0                  1  Corporate Auto   \n",
              "236  ...                        0.0                  1    Special Auto   \n",
              "419  ...                        1.0                  2   Personal Auto   \n",
              "442  ...                        0.0                  8   Personal Auto   \n",
              "587  ...                        0.0                  1   Personal Auto   \n",
              "\n",
              "           Policy  Renew Offer Type  Sales Channel  Total Claim Amount  \\\n",
              "189  Corporate L3            Offer2          Agent         1358.400000   \n",
              "236    Special L3            Offer2          Agent         1358.400000   \n",
              "419   Personal L2            Offer1         Branch         1027.200000   \n",
              "442   Personal L2            Offer1            Web         1261.319869   \n",
              "587   Personal L1            Offer2            Web         1027.000029   \n",
              "\n",
              "     Vehicle Class Vehicle Size Vehicle Type  \n",
              "189     Luxury Car      Medsize          NaN  \n",
              "236     Luxury Car      Medsize            A  \n",
              "419     Luxury Car        Small            A  \n",
              "442            SUV      Medsize            A  \n",
              "587            SUV      Medsize            A  \n",
              "\n",
              "[5 rows x 26 columns]"
            ]
          },
          "execution_count": 14,
          "metadata": {},
          "output_type": "execute_result"
        }
      ],
      "source": [
        "# Filter the DataFrame\n",
        "filtered_df = df[(df['Total Claim Amount'] > 1000) & (df['Response'] == 'Yes')]\n",
        "\n",
        "# Display the filtered DataFrame\n",
        "filtered_df.head()"
      ]
    },
    {
      "cell_type": "markdown",
      "id": "b9be383e-5165-436e-80c8-57d4c757c8c3",
      "metadata": {
        "id": "b9be383e-5165-436e-80c8-57d4c757c8c3"
      },
      "source": [
        "2. Using the original Dataframe, analyze the average total_claim_amount by each policy type and gender for customers who have responded \"Yes\" to the last marketing campaign. Write your conclusions."
      ]
    },
    {
      "cell_type": "code",
      "execution_count": 20,
      "id": "5aac1fdf",
      "metadata": {},
      "outputs": [
        {
          "name": "stdout",
          "output_type": "stream",
          "text": [
            "      Policy Type Gender  Total Claim Amount\n",
            "3   Personal Auto      M          457.010178\n",
            "4    Special Auto      F          453.280164\n",
            "2   Personal Auto      F          452.965929\n",
            "0  Corporate Auto      F          433.738499\n",
            "5    Special Auto      M          429.527942\n",
            "1  Corporate Auto      M          408.582459\n"
          ]
        }
      ],
      "source": [
        "# Filter the DataFrame for customers who responded \"Yes\" to the last marketing campaign\n",
        "filtered_df = df[df['Response'] == 'Yes']\n",
        "\n",
        "# Group the data by policy type and gender, then calculate the average total claim amount\n",
        "avg_claim_amount = filtered_df.groupby(['Policy Type', 'Gender'])['Total Claim Amount'].mean().reset_index().sort_values(by='Total Claim Amount', ascending=False)\n",
        "\n",
        "# Display the results\n",
        "print(avg_claim_amount)"
      ]
    },
    {
      "cell_type": "markdown",
      "id": "7050f4ac-53c5-4193-a3c0-8699b87196f0",
      "metadata": {
        "id": "7050f4ac-53c5-4193-a3c0-8699b87196f0"
      },
      "source": [
        "3. Analyze the total number of customers who have policies in each state, and then filter the results to only include states where there are more than 500 customers."
      ]
    },
    {
      "cell_type": "code",
      "execution_count": 27,
      "id": "60a7a4e4",
      "metadata": {},
      "outputs": [
        {
          "name": "stdout",
          "output_type": "stream",
          "text": [
            "        State  customer_count\n",
            "0     Arizona            1937\n",
            "1  California            3552\n",
            "2      Nevada             993\n",
            "3      Oregon            2909\n",
            "4  Washington             888\n"
          ]
        }
      ],
      "source": [
        "# Group data by state and count the number of customers in each state\n",
        "state_counts = df.groupby('State').size().reset_index(name='customer_count')\n",
        "# Set pandas options to display all rows\n",
        "pd.set_option('display.max_rows', None)\n",
        "print(state_counts)"
      ]
    },
    {
      "cell_type": "code",
      "execution_count": 24,
      "id": "7aa746bf",
      "metadata": {},
      "outputs": [
        {
          "name": "stdout",
          "output_type": "stream",
          "text": [
            "        State  customer_count\n",
            "0     Arizona            1937\n",
            "1  California            3552\n",
            "2      Nevada             993\n",
            "3      Oregon            2909\n",
            "4  Washington             888\n"
          ]
        }
      ],
      "source": [
        "# Filter the results to only include states where there are more than 500 customers\n",
        "filtered_states = state_counts[state_counts['customer_count'] > 500]\n",
        "\n",
        "# Display the results\n",
        "print(filtered_states)"
      ]
    },
    {
      "cell_type": "markdown",
      "id": "b60a4443-a1a7-4bbf-b78e-9ccdf9895e0d",
      "metadata": {
        "id": "b60a4443-a1a7-4bbf-b78e-9ccdf9895e0d"
      },
      "source": [
        "4. Find the maximum, minimum, and median customer lifetime value by education level and gender. Write your conclusions."
      ]
    },
    {
      "cell_type": "code",
      "execution_count": 29,
      "id": "98b48544",
      "metadata": {},
      "outputs": [
        {
          "name": "stdout",
          "output_type": "stream",
          "text": [
            "              Education Gender          max          min       median\n",
            "0              Bachelor      F  73225.95652  1904.000852  5640.505303\n",
            "1              Bachelor      M  67907.27050  1898.007675  5548.031892\n",
            "2               College      F  61850.18803  1898.683686  5623.611187\n",
            "3               College      M  61134.68307  1918.119700  6005.847375\n",
            "4                Doctor      F  44856.11397  2395.570000  5332.462694\n",
            "5                Doctor      M  32677.34284  2267.604038  5577.669457\n",
            "6  High School or Below      F  55277.44589  2144.921535  6039.553187\n",
            "7  High School or Below      M  83325.38119  1940.981221  6286.731006\n",
            "8                Master      F  51016.06704  2417.777032  5729.855012\n",
            "9                Master      M  50568.25912  2272.307310  5579.099207\n"
          ]
        }
      ],
      "source": [
        "# Group data by education level and gender, then calculate max, min, and median customer lifetime value\n",
        "agg_results = df.groupby(['Education', 'Gender'])['Customer Lifetime Value'].agg(['max', 'min', 'median']).reset_index()\n",
        "\n",
        "# Display the results\n",
        "print(agg_results)"
      ]
    },
    {
      "cell_type": "markdown",
      "id": "b42999f9-311f-481e-ae63-40a5577072c5",
      "metadata": {
        "id": "b42999f9-311f-481e-ae63-40a5577072c5"
      },
      "source": [
        "## Bonus"
      ]
    },
    {
      "cell_type": "markdown",
      "id": "81ff02c5-6584-4f21-a358-b918697c6432",
      "metadata": {
        "id": "81ff02c5-6584-4f21-a358-b918697c6432"
      },
      "source": [
        "5. The marketing team wants to analyze the number of policies sold by state and month. Present the data in a table where the months are arranged as columns and the states are arranged as rows."
      ]
    },
    {
      "cell_type": "code",
      "execution_count": 30,
      "id": "dd150849",
      "metadata": {},
      "outputs": [
        {
          "name": "stdout",
          "output_type": "stream",
          "text": [
            "Month          1     2\n",
            "State                 \n",
            "Arizona     1008   929\n",
            "California  1918  1634\n",
            "Nevada       551   442\n",
            "Oregon      1565  1344\n",
            "Washington   463   425\n"
          ]
        },
        {
          "name": "stderr",
          "output_type": "stream",
          "text": [
            "/tmp/ipykernel_71751/1346741624.py:3: UserWarning: Could not infer format, so each element will be parsed individually, falling back to `dateutil`. To ensure parsing is consistent and as-expected, please specify a format.\n",
            "  df['Effective To Date'] = pd.to_datetime(df['Effective To Date'])\n"
          ]
        }
      ],
      "source": [
        "# Assuming there is a 'Effective To Date' column to extract the month from\n",
        "# Convert 'Effective To Date' to datetime\n",
        "df['Effective To Date'] = pd.to_datetime(df['Effective To Date'])\n",
        "\n",
        "# Extract the month from 'Effective To Date'\n",
        "df['Month'] = df['Effective To Date'].dt.month\n",
        "\n",
        "# Group data by state and month, then count the number of policies sold\n",
        "policy_counts = df.groupby(['State', 'Month']).size().reset_index(name='policy_count')\n",
        "\n",
        "# Pivot the data to arrange months as columns and states as rows\n",
        "pivot_table = policy_counts.pivot(index='State', columns='Month', values='policy_count').fillna(0)\n",
        "\n",
        "# Display the pivoted table\n",
        "print(pivot_table)"
      ]
    },
    {
      "cell_type": "markdown",
      "id": "b6aec097-c633-4017-a125-e77a97259cda",
      "metadata": {
        "id": "b6aec097-c633-4017-a125-e77a97259cda"
      },
      "source": [
        "6.  Display a new DataFrame that contains the number of policies sold by month, by state, for the top 3 states with the highest number of policies sold.\n",
        "\n",
        "*Hint:*\n",
        "- *To accomplish this, you will first need to group the data by state and month, then count the number of policies sold for each group. Afterwards, you will need to sort the data by the count of policies sold in descending order.*\n",
        "- *Next, you will select the top 3 states with the highest number of policies sold.*\n",
        "- *Finally, you will create a new DataFrame that contains the number of policies sold by month for each of the top 3 states.*"
      ]
    },
    {
      "cell_type": "code",
      "execution_count": 31,
      "id": "df2f7c9b",
      "metadata": {},
      "outputs": [
        {
          "name": "stdout",
          "output_type": "stream",
          "text": [
            "Month          1     2\n",
            "State                 \n",
            "Arizona     1008   929\n",
            "California  1918  1634\n",
            "Oregon      1565  1344\n"
          ]
        }
      ],
      "source": [
        "# Sort the data by the count of policies sold in descending order\n",
        "sorted_policy_counts = policy_counts.sort_values(by='policy_count', ascending=False)\n",
        "\n",
        "# Select the top 3 states with the highest number of policies sold\n",
        "top_states = sorted_policy_counts.groupby('State')['policy_count'].sum().nlargest(3).index\n",
        "\n",
        "# Filter the data to include only the top 3 states\n",
        "top_states_data = policy_counts[policy_counts['State'].isin(top_states)]\n",
        "\n",
        "# Pivot the data to arrange months as columns and states as rows\n",
        "pivot_table = top_states_data.pivot(index='State', columns='Month', values='policy_count').fillna(0)\n",
        "\n",
        "# Display the new DataFrame\n",
        "print(pivot_table)"
      ]
    },
    {
      "cell_type": "markdown",
      "id": "ba975b8a-a2cf-4fbf-9f59-ebc381767009",
      "metadata": {
        "id": "ba975b8a-a2cf-4fbf-9f59-ebc381767009"
      },
      "source": [
        "7. The marketing team wants to analyze the effect of different marketing channels on the customer response rate.\n",
        "\n",
        "Hint: You can use melt to unpivot the data and create a table that shows the customer response rate (those who responded \"Yes\") by marketing channel."
      ]
    },
    {
      "cell_type": "code",
      "execution_count": 41,
      "id": "0f467ec8",
      "metadata": {},
      "outputs": [
        {
          "name": "stdout",
          "output_type": "stream",
          "text": [
            "Index(['Unnamed: 0', 'Customer', 'State', 'Customer Lifetime Value',\n",
            "       'Response', 'Coverage', 'Education', 'Effective To Date',\n",
            "       'EmploymentStatus', 'Gender', 'Income', 'Location Code',\n",
            "       'Marital Status', 'Monthly Premium Auto', 'Months Since Last Claim',\n",
            "       'Months Since Policy Inception', 'Number of Open Complaints',\n",
            "       'Number of Policies', 'Policy Type', 'Policy', 'Renew Offer Type',\n",
            "       'Sales Channel', 'Total Claim Amount', 'Vehicle Class', 'Vehicle Size',\n",
            "       'Vehicle Type', 'Month'],\n",
            "      dtype='object')\n"
          ]
        }
      ],
      "source": [
        "# Display the column names to identify the correct columns\n",
        "print(df.columns)"
      ]
    },
    {
      "cell_type": "code",
      "execution_count": 39,
      "id": "8b319c13",
      "metadata": {},
      "outputs": [
        {
          "name": "stdout",
          "output_type": "stream",
          "text": [
            "['Offer3' 'Offer4' 'Offer2' 'Offer1']\n"
          ]
        }
      ],
      "source": [
        "# Display the unique values in the 'Renew Offer Type' column\n",
        "print(df['Renew Offer Type'].unique())"
      ]
    },
    {
      "cell_type": "code",
      "execution_count": 47,
      "id": "1bf7e6b9",
      "metadata": {},
      "outputs": [
        {
          "name": "stdout",
          "output_type": "stream",
          "text": [
            "  Renew Offer Type  response_rate\n",
            "0           Offer1       0.148338\n",
            "1           Offer2       0.220344\n",
            "2           Offer3       0.018476\n"
          ]
        }
      ],
      "source": [
        "# Filter the DataFrame to get customers who responded \"Yes\"\n",
        "responded_df = df[df['Response'] == 'Yes']\n",
        "\n",
        "# Group the data by offer type and calculate the response count\n",
        "response_rate = responded_df.groupby('Renew Offer Type').size().reset_index(name='response_count')\n",
        "\n",
        "# Calculate the total count for each offer type\n",
        "total_counts = df.groupby('Renew Offer Type').size().reset_index(name='total_count')\n",
        "response_rate = response_rate.merge(total_counts, on='Renew Offer Type')\n",
        "response_rate['response_rate'] = response_rate['response_count'] / response_rate['total_count']\n",
        "\n",
        "# Display the results\n",
        "print(response_rate[['Renew Offer Type', 'response_rate']])"
      ]
    },
    {
      "cell_type": "markdown",
      "id": "e4378d94-48fb-4850-a802-b1bc8f427b2d",
      "metadata": {
        "id": "e4378d94-48fb-4850-a802-b1bc8f427b2d"
      },
      "source": [
        "External Resources for Data Filtering: https://towardsdatascience.com/filtering-data-frames-in-pandas-b570b1f834b9"
      ]
    },
    {
      "cell_type": "markdown",
      "id": "449513f4-0459-46a0-a18d-9398d974c9ad",
      "metadata": {
        "id": "449513f4-0459-46a0-a18d-9398d974c9ad"
      },
      "source": [
        "### Explicación Paso a Paso\n",
        "\n",
        "1. **Filtrar el DataFrame para obtener los clientes que respondieron \"Yes\"**:\n",
        "    ```python\n",
        "    responded_df = df[df['Response'] == 'Yes']\n",
        "    ```\n",
        "    - Este paso filtra el DataFrame original [`df`] para incluir solo las filas donde la columna `'Response'` es igual a `'Yes'`.\n",
        "    - El resultado es un nuevo DataFrame [`responded_df`] que contiene solo los clientes que respondieron afirmativamente a la campaña de marketing.\n",
        "\n",
        "2. **Agrupar los datos por tipo de oferta y calcular el conteo de respuestas**:\n",
        "    ```python\n",
        "    response_rate = responded_df.groupby('Renew Offer Type').size().reset_index(name='response_count')\n",
        "    ```\n",
        "    - Este paso agrupa los datos en [`responded_df`] por la columna `'Renew Offer Type'`.\n",
        "    - Luego, cuenta el número de respuestas en cada grupo usando [`size()`].\n",
        "    - El resultado es un DataFrame [`response_rate`] con dos columnas: `'Renew Offer Type'` y `'response_count'`, donde `'response_count'` es el número de respuestas afirmativas para cada tipo de oferta.\n",
        "\n",
        "3. **Calcular el conteo total para cada tipo de oferta**:\n",
        "    ```python\n",
        "    total_counts = df.groupby('Renew Offer Type').size().reset_index(name='total_count')\n",
        "    ```\n",
        "    - Este paso agrupa los datos en el DataFrame original [`df`]por la columna `'Renew Offer Type'`.\n",
        "    - Luego, cuenta el número total de clientes en cada grupo usando [`size()`].\n",
        "    - El resultado es un DataFrame [`total_counts`] con dos columnas: `'Renew Offer Type'` y `'total_count'`, donde `'total_count'` es el número total de clientes para cada tipo de oferta.\n",
        "\n",
        "4. **Combinar los conteos de respuestas y los conteos totales**:\n",
        "    ```python\n",
        "    response_rate = response_rate.merge(total_counts, on='Renew Offer Type')\n",
        "    ```\n",
        "    - Este paso combina los DataFrames [`response_rate`] en base a la columna `'Renew Offer Type'`.\n",
        "    - El resultado es un DataFrame [`response_rate`] que ahora contiene tres columnas: `'Renew Offer Type'`, `'response_count'`, y `'total_count'`.\n",
        "\n",
        "5. **Calcular la tasa de respuesta**:\n",
        "    ```python\n",
        "    response_rate['response_rate'] = response_rate['response_count'] / response_rate['total_count']\n",
        "    ```\n",
        "    - Este paso calcula la tasa de respuesta dividiendo `'response_count'` por `'total_count'` para cada tipo de oferta.\n",
        "    - El resultado es una nueva columna `'response_rate'` en el DataFrame [`response_rate`] que contiene la tasa de respuesta para cada tipo de oferta.\n",
        "\n",
        "6. **Mostrar los resultados**:\n",
        "    ```python\n",
        "    print(response_rate[['Renew Offer Type', 'response_rate']])\n",
        "    ```\n",
        "    - Este paso imprime las columnas `'Renew Offer Type'` y `'response_rate'` del DataFrame [`response_rate`].\n",
        "    - El resultado es una tabla que muestra la tasa de respuesta para cada tipo de oferta.\n",
        "\n",
        "Este código permite analizar la efectividad de diferentes tipos de ofertas en términos de la tasa de respuesta de los clientes."
      ]
    }
  ],
  "metadata": {
    "colab": {
      "provenance": []
    },
    "kernelspec": {
      "display_name": "base",
      "language": "python",
      "name": "python3"
    },
    "language_info": {
      "codemirror_mode": {
        "name": "ipython",
        "version": 3
      },
      "file_extension": ".py",
      "mimetype": "text/x-python",
      "name": "python",
      "nbconvert_exporter": "python",
      "pygments_lexer": "ipython3",
      "version": "3.12.4"
    }
  },
  "nbformat": 4,
  "nbformat_minor": 5
}
