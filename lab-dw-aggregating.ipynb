{
  "cells": [
    {
      "cell_type": "markdown",
      "id": "31969215-2a90-4d8b-ac36-646a7ae13744",
      "metadata": {
        "id": "31969215-2a90-4d8b-ac36-646a7ae13744"
      },
      "source": [
        "# Lab | Data Aggregation and Filtering"
      ]
    },
    {
      "cell_type": "markdown",
      "id": "a8f08a52-bec0-439b-99cc-11d3809d8b5d",
      "metadata": {
        "id": "a8f08a52-bec0-439b-99cc-11d3809d8b5d"
      },
      "source": [
        "In this challenge, we will continue to work with customer data from an insurance company. We will use the dataset called marketing_customer_analysis.csv, which can be found at the following link:\n",
        "\n",
        "https://raw.githubusercontent.com/data-bootcamp-v4/data/main/marketing_customer_analysis.csv\n",
        "\n",
        "This dataset contains information such as customer demographics, policy details, vehicle information, and the customer's response to the last marketing campaign. Our goal is to explore and analyze this data by first performing data cleaning, formatting, and structuring."
      ]
    },
    {
      "cell_type": "markdown",
      "id": "9c98ddc5-b041-4c94-ada1-4dfee5c98e50",
      "metadata": {
        "id": "9c98ddc5-b041-4c94-ada1-4dfee5c98e50"
      },
      "source": [
        "1. Create a new DataFrame that only includes customers who have a total_claim_amount greater than $1,000 and have a response of \"Yes\" to the last marketing campaign."
      ]
    },
    {
      "cell_type": "markdown",
      "id": "b9be383e-5165-436e-80c8-57d4c757c8c3",
      "metadata": {
        "id": "b9be383e-5165-436e-80c8-57d4c757c8c3"
      },
      "source": [
        "2. Using the original Dataframe, analyze the average total_claim_amount by each policy type and gender for customers who have responded \"Yes\" to the last marketing campaign. Write your conclusions."
      ]
    },
    {
      "cell_type": "markdown",
      "id": "7050f4ac-53c5-4193-a3c0-8699b87196f0",
      "metadata": {
        "id": "7050f4ac-53c5-4193-a3c0-8699b87196f0"
      },
      "source": [
        "3. Analyze the total number of customers who have policies in each state, and then filter the results to only include states where there are more than 500 customers."
      ]
    },
    {
      "cell_type": "markdown",
      "id": "b60a4443-a1a7-4bbf-b78e-9ccdf9895e0d",
      "metadata": {
        "id": "b60a4443-a1a7-4bbf-b78e-9ccdf9895e0d"
      },
      "source": [
        "4. Find the maximum, minimum, and median customer lifetime value by education level and gender. Write your conclusions."
      ]
    },
    {
      "cell_type": "code",
      "execution_count": null,
      "id": "9125c497",
      "metadata": {},
      "outputs": [],
      "source": [
        "import pandas as pd\n",
        "url = 'https://raw.githubusercontent.com/data-bootcamp-v4/data/main/marketing_customer_analysis.csv'\n",
        "\n",
        "df = pd.read_csv(url)\n",
        "\n",
        "df\n",
        "\n",
        "df.rename(columns= {\n",
        "                    'Customer': 'customer', \n",
        "                    'State' : 'state', \n",
        "                    'Gender' : 'gender',\n",
        "                    'Education' : 'education',\n",
        "                    'Customer Lifetime Value' : 'customer_lifetime_value',\n",
        "                    'Response': 'response',\n",
        "                    'Coverage': 'coverage',\n",
        "                    'Effective To Date' : 'effective_to_date',\n",
        "                    'EmploymentStatus' : 'employment_status',\n",
        "                    'Number of Open Complaints' : 'number_of_open_complaints',\n",
        "                    'Number of Policies' : 'number_of_policies',\n",
        "                    'Policy Type' : 'policy_type',\n",
        "                    'Policy' : 'policy',\n",
        "                    'Renew Offer Type' : 'renew_offer_type',\n",
        "                    'Sales Channel' : 'sales_channel',\n",
        "                    'Vehicle Size' : 'vehicle_size',\n",
        "                    'Vehicle Type' : 'vehicle_type',\n",
        "                    'Vehicle Class' : 'vehicle_class',\n",
        "                    'Total Claim Amount' : 'total_claim_amount'}, inplace=True)\n",
        "\n",
        "\n",
        "\n",
        "df['response'].unique()\n",
        "df.info()\n",
        "\n",
        "\n",
        "grouped_df = df[(df['total_claim_amount'] > 1000) & (df['response'] == 'Yes')]\n",
        "display(grouped_df)\n",
        "\n",
        "\n",
        "grouped_df.pivot_table(index='gender', columns='policy_type', values='total_claim_amount', aggfunc='sum')\n",
        "#df(df['total_claim_amount'] > 1000) & (df['policy_type']) & (df['gender']) & (df['response'] == 'Yes')]   original code which worked\n",
        "\n",
        "\n",
        "\n",
        "filtered_df= df.groupby(by=['state','policy']).agg({'state': 'count'})\n",
        "display(filtered_df)\n",
        "\n",
        "filtered_df[filtered_df > 500]\n",
        "\n",
        "grouped_counts = df.groupby(['state', 'policy_type']).size().reset_index(name='customer_count')\n",
        "\n",
        "# Filter to only include groups with more than 500 customers\n",
        "filtered_counts = grouped_counts[grouped_counts['customer_count'] > 500]\n",
        "\n",
        "# Print the results\n",
        "print(filtered_counts)\n",
        "\n",
        "\n",
        "df.groupby(['education', 'gender'])['customer_lifetime_value'].agg(['max', 'min', 'median']).round(2)\n",
        "\n",
        "\n",
        "df['month'] = df['date_of_purchase'].dt.strftime('%Y-%m')\n",
        "\n",
        "# Create pivot table\n",
        "pivot_table = df.pivot_table(index='state', columns='month', values='policy_id', aggfunc='count', fill_value=0)\n",
        "\n",
        "# Print the results\n",
        "print(pivot_table)"
      ]
    },
    {
      "cell_type": "markdown",
      "id": "b42999f9-311f-481e-ae63-40a5577072c5",
      "metadata": {
        "id": "b42999f9-311f-481e-ae63-40a5577072c5"
      },
      "source": [
        "## Bonus"
      ]
    },
    {
      "cell_type": "markdown",
      "id": "81ff02c5-6584-4f21-a358-b918697c6432",
      "metadata": {
        "id": "81ff02c5-6584-4f21-a358-b918697c6432"
      },
      "source": [
        "5. The marketing team wants to analyze the number of policies sold by state and month. Present the data in a table where the months are arranged as columns and the states are arranged as rows."
      ]
    },
    {
      "cell_type": "markdown",
      "id": "b6aec097-c633-4017-a125-e77a97259cda",
      "metadata": {
        "id": "b6aec097-c633-4017-a125-e77a97259cda"
      },
      "source": [
        "6.  Display a new DataFrame that contains the number of policies sold by month, by state, for the top 3 states with the highest number of policies sold.\n",
        "\n",
        "*Hint:*\n",
        "- *To accomplish this, you will first need to group the data by state and month, then count the number of policies sold for each group. Afterwards, you will need to sort the data by the count of policies sold in descending order.*\n",
        "- *Next, you will select the top 3 states with the highest number of policies sold.*\n",
        "- *Finally, you will create a new DataFrame that contains the number of policies sold by month for each of the top 3 states.*"
      ]
    },
    {
      "cell_type": "markdown",
      "id": "ba975b8a-a2cf-4fbf-9f59-ebc381767009",
      "metadata": {
        "id": "ba975b8a-a2cf-4fbf-9f59-ebc381767009"
      },
      "source": [
        "7. The marketing team wants to analyze the effect of different marketing channels on the customer response rate.\n",
        "\n",
        "Hint: You can use melt to unpivot the data and create a table that shows the customer response rate (those who responded \"Yes\") by marketing channel."
      ]
    },
    {
      "cell_type": "markdown",
      "id": "e4378d94-48fb-4850-a802-b1bc8f427b2d",
      "metadata": {
        "id": "e4378d94-48fb-4850-a802-b1bc8f427b2d"
      },
      "source": [
        "External Resources for Data Filtering: https://towardsdatascience.com/filtering-data-frames-in-pandas-b570b1f834b9"
      ]
    },
    {
      "cell_type": "code",
      "execution_count": null,
      "id": "449513f4-0459-46a0-a18d-9398d974c9ad",
      "metadata": {
        "id": "449513f4-0459-46a0-a18d-9398d974c9ad"
      },
      "outputs": [],
      "source": [
        "# your code goes here"
      ]
    }
  ],
  "metadata": {
    "colab": {
      "provenance": []
    },
    "kernelspec": {
      "display_name": "Python 3 (ipykernel)",
      "language": "python",
      "name": "python3"
    },
    "language_info": {
      "codemirror_mode": {
        "name": "ipython",
        "version": 3
      },
      "file_extension": ".py",
      "mimetype": "text/x-python",
      "name": "python",
      "nbconvert_exporter": "python",
      "pygments_lexer": "ipython3",
      "version": "3.9.13"
    }
  },
  "nbformat": 4,
  "nbformat_minor": 5
}
