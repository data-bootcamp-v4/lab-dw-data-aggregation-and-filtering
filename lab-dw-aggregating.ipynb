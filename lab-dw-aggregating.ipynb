{
  "cells": [
    {
      "cell_type": "markdown",
      "id": "31969215-2a90-4d8b-ac36-646a7ae13744",
      "metadata": {
        "id": "31969215-2a90-4d8b-ac36-646a7ae13744"
      },
      "source": [
        "# Lab | Data Aggregation and Filtering"
      ]
    },
    {
      "cell_type": "markdown",
      "id": "a8f08a52-bec0-439b-99cc-11d3809d8b5d",
      "metadata": {
        "id": "a8f08a52-bec0-439b-99cc-11d3809d8b5d"
      },
      "source": [
        "In this challenge, we will continue to work with customer data from an insurance company. We will use the dataset called marketing_customer_analysis.csv, which can be found at the following link:\n",
        "\n",
        "https://raw.githubusercontent.com/data-bootcamp-v4/data/main/marketing_customer_analysis.csv\n",
        "\n",
        "This dataset contains information such as customer demographics, policy details, vehicle information, and the customer's response to the last marketing campaign. Our goal is to explore and analyze this data by first performing data cleaning, formatting, and structuring."
      ]
    },
    {
      "cell_type": "markdown",
      "id": "9c98ddc5-b041-4c94-ada1-4dfee5c98e50",
      "metadata": {
        "id": "9c98ddc5-b041-4c94-ada1-4dfee5c98e50"
      },
      "source": [
        "1. Create a new DataFrame that only includes customers who have a total_claim_amount greater than $1,000 and have a response of \"Yes\" to the last marketing campaign."
      ]
    },
    {
      "cell_type": "markdown",
      "id": "b9be383e-5165-436e-80c8-57d4c757c8c3",
      "metadata": {
        "id": "b9be383e-5165-436e-80c8-57d4c757c8c3"
      },
      "source": [
        "2. Using the original Dataframe, analyze the average total_claim_amount by each policy type and gender for customers who have responded \"Yes\" to the last marketing campaign. Write your conclusions."
      ]
    },
    {
      "cell_type": "markdown",
      "id": "7050f4ac-53c5-4193-a3c0-8699b87196f0",
      "metadata": {
        "id": "7050f4ac-53c5-4193-a3c0-8699b87196f0"
      },
      "source": [
        "3. Analyze the total number of customers who have policies in each state, and then filter the results to only include states where there are more than 500 customers."
      ]
    },
    {
      "cell_type": "markdown",
      "id": "b60a4443-a1a7-4bbf-b78e-9ccdf9895e0d",
      "metadata": {
        "id": "b60a4443-a1a7-4bbf-b78e-9ccdf9895e0d"
      },
      "source": [
        "4. Find the maximum, minimum, and median customer lifetime value by education level and gender. Write your conclusions."
      ]
    },
    {
      "cell_type": "code",
      "execution_count": 1,
      "id": "6b70d30f",
      "metadata": {},
      "outputs": [],
      "source": [
        "import pandas as pd\n",
        "url = 'https://raw.githubusercontent.com/data-bootcamp-v4/data/main/marketing_customer_analysis.csv'\n",
        "df_insurance = pd.read_csv(url)"
      ]
    },
    {
      "cell_type": "code",
      "execution_count": 3,
      "id": "83048b74",
      "metadata": {},
      "outputs": [],
      "source": [
        "pd.set_option('display.max_columns', None)"
      ]
    },
    {
      "cell_type": "code",
      "execution_count": 5,
      "id": "31566300",
      "metadata": {},
      "outputs": [],
      "source": [
        "df_insurance.columns = df_insurance.columns.str.lower().str.replace(' ', '_')"
      ]
    },
    {
      "cell_type": "code",
      "execution_count": null,
      "id": "920d7ea8",
      "metadata": {},
      "outputs": [],
      "source": [
        "df_insurance.sample(10)"
      ]
    },
    {
      "cell_type": "markdown",
      "id": "b1af18ac",
      "metadata": {},
      "source": [
        "-  DataFrame que solo incluya a los clientes que cumplan con las dos condiciones, 'total_claim_amount'>1000 & response == Yes"
      ]
    },
    {
      "cell_type": "code",
      "execution_count": 7,
      "id": "d0246fe9",
      "metadata": {},
      "outputs": [],
      "source": [
        "df_1 = df_insurance[(df_insurance['total_claim_amount'] > 1000) & (df_insurance['response'] == 'Yes')]"
      ]
    },
    {
      "cell_type": "code",
      "execution_count": null,
      "id": "9f75e07a",
      "metadata": {},
      "outputs": [],
      "source": [
        "df_1.sample(10)"
      ]
    },
    {
      "cell_type": "markdown",
      "id": "dd207757",
      "metadata": {},
      "source": [
        "- Promedio de 'total_claim_amount' por tipo de póliza y género para los clientes que respondieron 'Yes'"
      ]
    },
    {
      "cell_type": "markdown",
      "id": "7cbb48ec",
      "metadata": {},
      "source": [
        "- Pivot table que agrupa los datos de 'policy_type' y 'gender', luego calcular la media de la columna 'total_claim_amount' únicamente para los clientes con response igual a 'Yes'."
      ]
    },
    {
      "cell_type": "code",
      "execution_count": 9,
      "id": "f167bdca",
      "metadata": {},
      "outputs": [],
      "source": [
        "df_yes = df_insurance[df_insurance['response'] == 'Yes'] #  Solo los clientes que respondieron 'Yes' a la campaña"
      ]
    },
    {
      "cell_type": "code",
      "execution_count": 10,
      "id": "83f94ae0",
      "metadata": {},
      "outputs": [],
      "source": [
        "df_2 = pd.pivot_table(df_yes, values='total_claim_amount', index='policy_type', columns='gender', aggfunc='mean')"
      ]
    },
    {
      "cell_type": "code",
      "execution_count": 11,
      "id": "b28d73ad",
      "metadata": {},
      "outputs": [],
      "source": [
        "df_2 = df_2.round(2)"
      ]
    },
    {
      "cell_type": "code",
      "execution_count": null,
      "id": "90a25b0b",
      "metadata": {},
      "outputs": [],
      "source": [
        "df_2"
      ]
    },
    {
      "cell_type": "markdown",
      "id": "f24db7a4",
      "metadata": {},
      "source": [
        "- Ejercicio 3."
      ]
    },
    {
      "cell_type": "markdown",
      "id": "3b4549f3",
      "metadata": {},
      "source": [
        "- Contar el número total de clientes que tienen pólizas en cada estado.\n",
        "- Filtrar el resultado para incluir solo los estados donde hay más de 500 clientes."
      ]
    },
    {
      "cell_type": "code",
      "execution_count": 18,
      "id": "289bd1d3",
      "metadata": {},
      "outputs": [],
      "source": [
        "df_clientes_por_estado = df_insurance['state'].value_counts()"
      ]
    },
    {
      "cell_type": "code",
      "execution_count": 19,
      "id": "89ac0ff3",
      "metadata": {},
      "outputs": [],
      "source": [
        "df_estados_mas_500 = df_clientes_por_estado[df_clientes_por_estado > 500]"
      ]
    },
    {
      "cell_type": "code",
      "execution_count": null,
      "id": "2c913641",
      "metadata": {},
      "outputs": [],
      "source": [
        "df_estados_mas_500"
      ]
    },
    {
      "cell_type": "markdown",
      "id": "8e88b5c7",
      "metadata": {},
      "source": [
        "- Ejercicio 4: valor máximo, mínimo, y mediana del customer_lifetime_value por nivel educativo y género."
      ]
    },
    {
      "cell_type": "code",
      "execution_count": null,
      "id": "65f0e132",
      "metadata": {},
      "outputs": [],
      "source": [
        "df_4 = pd.pivot_table(df_insurance, values='customer_lifetime_value', index=['education', 'gender'], aggfunc=[max, min, 'median'])"
      ]
    },
    {
      "cell_type": "code",
      "execution_count": 22,
      "id": "612cfce4",
      "metadata": {},
      "outputs": [],
      "source": [
        "df_4 = df_4.round(2)"
      ]
    },
    {
      "cell_type": "code",
      "execution_count": null,
      "id": "39cd4cc6",
      "metadata": {},
      "outputs": [],
      "source": [
        "df_4"
      ]
    },
    {
      "cell_type": "markdown",
      "id": "b42999f9-311f-481e-ae63-40a5577072c5",
      "metadata": {
        "id": "b42999f9-311f-481e-ae63-40a5577072c5"
      },
      "source": [
        "## Bonus"
      ]
    },
    {
      "cell_type": "markdown",
      "id": "81ff02c5-6584-4f21-a358-b918697c6432",
      "metadata": {
        "id": "81ff02c5-6584-4f21-a358-b918697c6432"
      },
      "source": [
        "5. The marketing team wants to analyze the number of policies sold by state and month. Present the data in a table where the months are arranged as columns and the states are arranged as rows."
      ]
    },
    {
      "cell_type": "markdown",
      "id": "b6aec097-c633-4017-a125-e77a97259cda",
      "metadata": {
        "id": "b6aec097-c633-4017-a125-e77a97259cda"
      },
      "source": [
        "6.  Display a new DataFrame that contains the number of policies sold by month, by state, for the top 3 states with the highest number of policies sold.\n",
        "\n",
        "*Hint:*\n",
        "- *To accomplish this, you will first need to group the data by state and month, then count the number of policies sold for each group. Afterwards, you will need to sort the data by the count of policies sold in descending order.*\n",
        "- *Next, you will select the top 3 states with the highest number of policies sold.*\n",
        "- *Finally, you will create a new DataFrame that contains the number of policies sold by month for each of the top 3 states.*"
      ]
    },
    {
      "cell_type": "markdown",
      "id": "ba975b8a-a2cf-4fbf-9f59-ebc381767009",
      "metadata": {
        "id": "ba975b8a-a2cf-4fbf-9f59-ebc381767009"
      },
      "source": [
        "7. The marketing team wants to analyze the effect of different marketing channels on the customer response rate.\n",
        "\n",
        "Hint: You can use melt to unpivot the data and create a table that shows the customer response rate (those who responded \"Yes\") by marketing channel."
      ]
    },
    {
      "cell_type": "markdown",
      "id": "e4378d94-48fb-4850-a802-b1bc8f427b2d",
      "metadata": {
        "id": "e4378d94-48fb-4850-a802-b1bc8f427b2d"
      },
      "source": [
        "External Resources for Data Filtering: https://towardsdatascience.com/filtering-data-frames-in-pandas-b570b1f834b9"
      ]
    },
    {
      "cell_type": "code",
      "execution_count": null,
      "id": "449513f4-0459-46a0-a18d-9398d974c9ad",
      "metadata": {
        "id": "449513f4-0459-46a0-a18d-9398d974c9ad"
      },
      "outputs": [],
      "source": [
        "# your code goes here"
      ]
    }
  ],
  "metadata": {
    "colab": {
      "provenance": []
    },
    "kernelspec": {
      "display_name": "Python 3 (ipykernel)",
      "language": "python",
      "name": "python3"
    },
    "language_info": {
      "codemirror_mode": {
        "name": "ipython",
        "version": 3
      },
      "file_extension": ".py",
      "mimetype": "text/x-python",
      "name": "python",
      "nbconvert_exporter": "python",
      "pygments_lexer": "ipython3",
      "version": "3.12.4"
    }
  },
  "nbformat": 4,
  "nbformat_minor": 5
}
