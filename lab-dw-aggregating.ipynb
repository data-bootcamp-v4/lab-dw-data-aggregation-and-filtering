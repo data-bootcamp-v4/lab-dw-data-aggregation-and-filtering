{
 "cells": [
  {
   "cell_type": "markdown",
   "id": "31969215-2a90-4d8b-ac36-646a7ae13744",
   "metadata": {
    "id": "31969215-2a90-4d8b-ac36-646a7ae13744"
   },
   "source": [
    "# Lab | Data Aggregation and Filtering"
   ]
  },
  {
   "cell_type": "markdown",
   "id": "a8f08a52-bec0-439b-99cc-11d3809d8b5d",
   "metadata": {
    "id": "a8f08a52-bec0-439b-99cc-11d3809d8b5d"
   },
   "source": [
    "In this challenge, we will continue to work with customer data from an insurance company. We will use the dataset called marketing_customer_analysis.csv, which can be found at the following link:\n",
    "\n",
    "https://raw.githubusercontent.com/data-bootcamp-v4/data/main/marketing_customer_analysis.csv\n",
    "\n",
    "This dataset contains information such as customer demographics, policy details, vehicle information, and the customer's response to the last marketing campaign. Our goal is to explore and analyze this data by first performing data cleaning, formatting, and structuring."
   ]
  },
  {
   "cell_type": "markdown",
   "id": "9c98ddc5-b041-4c94-ada1-4dfee5c98e50",
   "metadata": {
    "id": "9c98ddc5-b041-4c94-ada1-4dfee5c98e50"
   },
   "source": [
    "1. Create a new DataFrame that only includes customers who have a total_claim_amount greater than $1,000 and have a response of \"Yes\" to the last marketing campaign."
   ]
  },
  {
   "cell_type": "markdown",
   "id": "b9be383e-5165-436e-80c8-57d4c757c8c3",
   "metadata": {
    "id": "b9be383e-5165-436e-80c8-57d4c757c8c3"
   },
   "source": [
    "2. Using the original Dataframe, analyze the average total_claim_amount by each policy type and gender for customers who have responded \"Yes\" to the last marketing campaign. Write your conclusions."
   ]
  },
  {
   "cell_type": "markdown",
   "id": "7050f4ac-53c5-4193-a3c0-8699b87196f0",
   "metadata": {
    "id": "7050f4ac-53c5-4193-a3c0-8699b87196f0"
   },
   "source": [
    "3. Analyze the total number of customers who have policies in each state, and then filter the results to only include states where there are more than 500 customers."
   ]
  },
  {
   "cell_type": "markdown",
   "id": "b60a4443-a1a7-4bbf-b78e-9ccdf9895e0d",
   "metadata": {
    "id": "b60a4443-a1a7-4bbf-b78e-9ccdf9895e0d"
   },
   "source": [
    "4. Find the maximum, minimum, and median customer lifetime value by education level and gender. Write your conclusions."
   ]
  },
  {
   "cell_type": "code",
   "execution_count": 7,
   "id": "449513f4-0459-46a0-a18d-9398d974c9ad",
   "metadata": {
    "id": "449513f4-0459-46a0-a18d-9398d974c9ad"
   },
   "outputs": [],
   "source": [
    "# prep to work with the file\n",
    "\n",
    "import pandas as pd\n",
    "mca_df = pd.read_csv(\"https://raw.githubusercontent.com/data-bootcamp-v4/data/main/marketing_customer_analysis.csv\")"
   ]
  },
  {
   "cell_type": "code",
   "execution_count": 16,
   "id": "6fadfda8-d3b3-4afc-a179-64701c6293b7",
   "metadata": {},
   "outputs": [
    {
     "data": {
      "text/html": [
       "<div>\n",
       "<style scoped>\n",
       "    .dataframe tbody tr th:only-of-type {\n",
       "        vertical-align: middle;\n",
       "    }\n",
       "\n",
       "    .dataframe tbody tr th {\n",
       "        vertical-align: top;\n",
       "    }\n",
       "\n",
       "    .dataframe thead th {\n",
       "        text-align: right;\n",
       "    }\n",
       "</style>\n",
       "<table border=\"1\" class=\"dataframe\">\n",
       "  <thead>\n",
       "    <tr style=\"text-align: right;\">\n",
       "      <th></th>\n",
       "      <th>unnamed:_0</th>\n",
       "      <th>customer</th>\n",
       "      <th>state</th>\n",
       "      <th>customer_lifetime_value</th>\n",
       "      <th>response</th>\n",
       "      <th>coverage</th>\n",
       "      <th>education</th>\n",
       "      <th>effective_to_date</th>\n",
       "      <th>employmentstatus</th>\n",
       "      <th>gender</th>\n",
       "      <th>income</th>\n",
       "      <th>location_code</th>\n",
       "      <th>marital_status</th>\n",
       "      <th>monthly_premium_auto</th>\n",
       "      <th>months_since_last_claim</th>\n",
       "      <th>months_since_policy_inception</th>\n",
       "      <th>number_of_open_complaints</th>\n",
       "      <th>number_of_policies</th>\n",
       "      <th>policy_type</th>\n",
       "      <th>policy</th>\n",
       "      <th>renew_offer_type</th>\n",
       "      <th>sales_channel</th>\n",
       "      <th>total_claim_amount</th>\n",
       "      <th>vehicle_class</th>\n",
       "      <th>vehicle_size</th>\n",
       "      <th>vehicle_type</th>\n",
       "    </tr>\n",
       "  </thead>\n",
       "  <tbody>\n",
       "    <tr>\n",
       "      <th>0</th>\n",
       "      <td>0</td>\n",
       "      <td>DK49336</td>\n",
       "      <td>Arizona</td>\n",
       "      <td>4809.216960</td>\n",
       "      <td>No</td>\n",
       "      <td>Basic</td>\n",
       "      <td>College</td>\n",
       "      <td>2/18/11</td>\n",
       "      <td>Employed</td>\n",
       "      <td>M</td>\n",
       "      <td>48029</td>\n",
       "      <td>Suburban</td>\n",
       "      <td>Married</td>\n",
       "      <td>61</td>\n",
       "      <td>7.0</td>\n",
       "      <td>52</td>\n",
       "      <td>0.0</td>\n",
       "      <td>9</td>\n",
       "      <td>Corporate Auto</td>\n",
       "      <td>Corporate L3</td>\n",
       "      <td>Offer3</td>\n",
       "      <td>Agent</td>\n",
       "      <td>292.800000</td>\n",
       "      <td>Four-Door Car</td>\n",
       "      <td>Medsize</td>\n",
       "      <td>NaN</td>\n",
       "    </tr>\n",
       "    <tr>\n",
       "      <th>1</th>\n",
       "      <td>1</td>\n",
       "      <td>KX64629</td>\n",
       "      <td>California</td>\n",
       "      <td>2228.525238</td>\n",
       "      <td>No</td>\n",
       "      <td>Basic</td>\n",
       "      <td>College</td>\n",
       "      <td>1/18/11</td>\n",
       "      <td>Unemployed</td>\n",
       "      <td>F</td>\n",
       "      <td>0</td>\n",
       "      <td>Suburban</td>\n",
       "      <td>Single</td>\n",
       "      <td>64</td>\n",
       "      <td>3.0</td>\n",
       "      <td>26</td>\n",
       "      <td>0.0</td>\n",
       "      <td>1</td>\n",
       "      <td>Personal Auto</td>\n",
       "      <td>Personal L3</td>\n",
       "      <td>Offer4</td>\n",
       "      <td>Call Center</td>\n",
       "      <td>744.924331</td>\n",
       "      <td>Four-Door Car</td>\n",
       "      <td>Medsize</td>\n",
       "      <td>NaN</td>\n",
       "    </tr>\n",
       "    <tr>\n",
       "      <th>2</th>\n",
       "      <td>2</td>\n",
       "      <td>LZ68649</td>\n",
       "      <td>Washington</td>\n",
       "      <td>14947.917300</td>\n",
       "      <td>No</td>\n",
       "      <td>Basic</td>\n",
       "      <td>Bachelor</td>\n",
       "      <td>2/10/11</td>\n",
       "      <td>Employed</td>\n",
       "      <td>M</td>\n",
       "      <td>22139</td>\n",
       "      <td>Suburban</td>\n",
       "      <td>Single</td>\n",
       "      <td>100</td>\n",
       "      <td>34.0</td>\n",
       "      <td>31</td>\n",
       "      <td>0.0</td>\n",
       "      <td>2</td>\n",
       "      <td>Personal Auto</td>\n",
       "      <td>Personal L3</td>\n",
       "      <td>Offer3</td>\n",
       "      <td>Call Center</td>\n",
       "      <td>480.000000</td>\n",
       "      <td>SUV</td>\n",
       "      <td>Medsize</td>\n",
       "      <td>A</td>\n",
       "    </tr>\n",
       "    <tr>\n",
       "      <th>3</th>\n",
       "      <td>3</td>\n",
       "      <td>XL78013</td>\n",
       "      <td>Oregon</td>\n",
       "      <td>22332.439460</td>\n",
       "      <td>Yes</td>\n",
       "      <td>Extended</td>\n",
       "      <td>College</td>\n",
       "      <td>1/11/11</td>\n",
       "      <td>Employed</td>\n",
       "      <td>M</td>\n",
       "      <td>49078</td>\n",
       "      <td>Suburban</td>\n",
       "      <td>Single</td>\n",
       "      <td>97</td>\n",
       "      <td>10.0</td>\n",
       "      <td>3</td>\n",
       "      <td>0.0</td>\n",
       "      <td>2</td>\n",
       "      <td>Corporate Auto</td>\n",
       "      <td>Corporate L3</td>\n",
       "      <td>Offer2</td>\n",
       "      <td>Branch</td>\n",
       "      <td>484.013411</td>\n",
       "      <td>Four-Door Car</td>\n",
       "      <td>Medsize</td>\n",
       "      <td>A</td>\n",
       "    </tr>\n",
       "    <tr>\n",
       "      <th>4</th>\n",
       "      <td>4</td>\n",
       "      <td>QA50777</td>\n",
       "      <td>Oregon</td>\n",
       "      <td>9025.067525</td>\n",
       "      <td>No</td>\n",
       "      <td>Premium</td>\n",
       "      <td>Bachelor</td>\n",
       "      <td>1/17/11</td>\n",
       "      <td>Medical Leave</td>\n",
       "      <td>F</td>\n",
       "      <td>23675</td>\n",
       "      <td>Suburban</td>\n",
       "      <td>Married</td>\n",
       "      <td>117</td>\n",
       "      <td>NaN</td>\n",
       "      <td>31</td>\n",
       "      <td>NaN</td>\n",
       "      <td>7</td>\n",
       "      <td>Personal Auto</td>\n",
       "      <td>Personal L2</td>\n",
       "      <td>Offer1</td>\n",
       "      <td>Branch</td>\n",
       "      <td>707.925645</td>\n",
       "      <td>Four-Door Car</td>\n",
       "      <td>Medsize</td>\n",
       "      <td>NaN</td>\n",
       "    </tr>\n",
       "  </tbody>\n",
       "</table>\n",
       "</div>"
      ],
      "text/plain": [
       "   unnamed:_0 customer       state  customer_lifetime_value response  \\\n",
       "0           0  DK49336     Arizona              4809.216960       No   \n",
       "1           1  KX64629  California              2228.525238       No   \n",
       "2           2  LZ68649  Washington             14947.917300       No   \n",
       "3           3  XL78013      Oregon             22332.439460      Yes   \n",
       "4           4  QA50777      Oregon              9025.067525       No   \n",
       "\n",
       "   coverage education effective_to_date employmentstatus gender  income  \\\n",
       "0     Basic   College           2/18/11         Employed      M   48029   \n",
       "1     Basic   College           1/18/11       Unemployed      F       0   \n",
       "2     Basic  Bachelor           2/10/11         Employed      M   22139   \n",
       "3  Extended   College           1/11/11         Employed      M   49078   \n",
       "4   Premium  Bachelor           1/17/11    Medical Leave      F   23675   \n",
       "\n",
       "  location_code marital_status  monthly_premium_auto  months_since_last_claim  \\\n",
       "0      Suburban        Married                    61                      7.0   \n",
       "1      Suburban         Single                    64                      3.0   \n",
       "2      Suburban         Single                   100                     34.0   \n",
       "3      Suburban         Single                    97                     10.0   \n",
       "4      Suburban        Married                   117                      NaN   \n",
       "\n",
       "   months_since_policy_inception  number_of_open_complaints  \\\n",
       "0                             52                        0.0   \n",
       "1                             26                        0.0   \n",
       "2                             31                        0.0   \n",
       "3                              3                        0.0   \n",
       "4                             31                        NaN   \n",
       "\n",
       "   number_of_policies     policy_type        policy renew_offer_type  \\\n",
       "0                   9  Corporate Auto  Corporate L3           Offer3   \n",
       "1                   1   Personal Auto   Personal L3           Offer4   \n",
       "2                   2   Personal Auto   Personal L3           Offer3   \n",
       "3                   2  Corporate Auto  Corporate L3           Offer2   \n",
       "4                   7   Personal Auto   Personal L2           Offer1   \n",
       "\n",
       "  sales_channel  total_claim_amount  vehicle_class vehicle_size vehicle_type  \n",
       "0         Agent          292.800000  Four-Door Car      Medsize          NaN  \n",
       "1   Call Center          744.924331  Four-Door Car      Medsize          NaN  \n",
       "2   Call Center          480.000000            SUV      Medsize            A  \n",
       "3        Branch          484.013411  Four-Door Car      Medsize            A  \n",
       "4        Branch          707.925645  Four-Door Car      Medsize          NaN  "
      ]
     },
     "execution_count": 16,
     "metadata": {},
     "output_type": "execute_result"
    }
   ],
   "source": [
    "pd.set_option('display.max_columns', None)\n",
    "mca_df.head()"
   ]
  },
  {
   "cell_type": "code",
   "execution_count": 9,
   "id": "6291e367-a18f-4c3d-a159-bfa052643311",
   "metadata": {},
   "outputs": [
    {
     "data": {
      "text/plain": [
       "(10910, 26)"
      ]
     },
     "execution_count": 9,
     "metadata": {},
     "output_type": "execute_result"
    }
   ],
   "source": [
    "mca_df.shape"
   ]
  },
  {
   "cell_type": "markdown",
   "id": "8ea5571a-41de-42da-9e18-496bb4391f0e",
   "metadata": {},
   "source": [
    "**explore and analyze this data by first performing data cleaning, formatting, and structuring**"
   ]
  },
  {
   "cell_type": "code",
   "execution_count": 11,
   "id": "2cd469eb-8bf4-493a-870f-77c9acb4a21e",
   "metadata": {},
   "outputs": [],
   "source": [
    "# check out how clean the values are in the columns\n",
    "\n",
    "mca_df_colnames = mca_df.columns.tolist()\n",
    "\n",
    "def uni_check(lv_df, col_name):\n",
    "    uni_values = lv_df[col_name].unique()\n",
    "    print(f\"Unique values in {col_name}: {uni_values}\")\n",
    "    print(\" \")"
   ]
  },
  {
   "cell_type": "code",
   "execution_count": 12,
   "id": "11554848-d50d-4882-b216-0fbdb7fa8cb4",
   "metadata": {},
   "outputs": [
    {
     "name": "stdout",
     "output_type": "stream",
     "text": [
      "Unique values in Unnamed: 0: [    0     1     2 ... 10907 10908 10909]\n",
      " \n",
      "Unique values in Customer: ['DK49336' 'KX64629' 'LZ68649' ... 'KX53892' 'TL39050' 'WA60547']\n",
      " \n",
      "Unique values in State: ['Arizona' 'California' 'Washington' 'Oregon' nan 'Nevada']\n",
      " \n",
      "Unique values in Customer Lifetime Value: [ 4809.21696   2228.525238 14947.9173   ...  5259.444853 23893.3041\n",
      " 11971.97765 ]\n",
      " \n",
      "Unique values in Response: ['No' 'Yes' nan]\n",
      " \n",
      "Unique values in Coverage: ['Basic' 'Extended' 'Premium']\n",
      " \n",
      "Unique values in Education: ['College' 'Bachelor' 'High School or Below' 'Doctor' 'Master']\n",
      " \n",
      "Unique values in Effective To Date: ['2/18/11' '1/18/11' '2/10/11' '1/11/11' '1/17/11' '2/14/11' '2/24/11'\n",
      " '1/19/11' '1/4/11' '1/2/11' '2/7/11' '1/31/11' '1/26/11' '2/28/11'\n",
      " '1/16/11' '2/26/11' '2/23/11' '1/15/11' '2/2/11' '2/15/11' '1/24/11'\n",
      " '2/21/11' '2/22/11' '1/7/11' '1/28/11' '2/8/11' '2/12/11' '2/20/11'\n",
      " '1/5/11' '2/19/11' '1/3/11' '2/3/11' '1/22/11' '1/23/11' '2/5/11'\n",
      " '2/13/11' '1/25/11' '2/16/11' '2/1/11' '1/27/11' '1/12/11' '1/20/11'\n",
      " '2/6/11' '2/11/11' '1/21/11' '1/29/11' '1/9/11' '2/9/11' '2/27/11'\n",
      " '1/1/11' '2/17/11' '2/25/11' '1/13/11' '1/6/11' '2/4/11' '1/14/11'\n",
      " '1/10/11' '1/8/11' '1/30/11']\n",
      " \n",
      "Unique values in EmploymentStatus: ['Employed' 'Unemployed' 'Medical Leave' 'Disabled' 'Retired']\n",
      " \n",
      "Unique values in Gender: ['M' 'F']\n",
      " \n",
      "Unique values in Income: [48029     0 22139 ... 61146 39837 64195]\n",
      " \n",
      "Unique values in Location Code: ['Suburban' 'Urban' 'Rural']\n",
      " \n",
      "Unique values in Marital Status: ['Married' 'Single' 'Divorced']\n",
      " \n",
      "Unique values in Monthly Premium Auto: [ 61  64 100  97 117  63 154  85 127  62  99  69 116 114  66  73  94 104\n",
      " 189  74 121 110 111  72 115 159 101  65  82  71 126  68 199  96  67 125\n",
      " 249 105  92  78  77  79 223 242  70 102 109 107 119 194 113 106 247  80\n",
      "  86  81  83 122 253 196 132 139  84 130  93 103 112 222 118  88 182 283\n",
      "  90 128  89 235 190  76  87 133 153 129  98 148 123  91 211 131 108 187\n",
      " 214 181 173 252  95 124 137 145 188 143 198 138 245 195 186 170 136 161\n",
      " 157 141 205 271 192 142 140 134 240 185 244 210 184 202 296 213 273 219\n",
      " 135 169 155 225 266 215 197 256 212 158 180 166 168 183 162 191 179 150\n",
      " 146 276 165 239 237 193 229 274 207 295 208 172 217 206 201 171 152 156\n",
      " 174 238 167 151 144 163 287 209 290 220 228 232 178 177 275 176 281 149\n",
      " 298 255 216 285 226 160 147 254 164 175 297 234 284 204 218 261 231 248\n",
      " 286 230 268 203]\n",
      " \n",
      "Unique values in Months Since Last Claim: [ 7.  3. 34. 10. nan  2.  8. 35. 33. 19. 13.  5. 24. 25.  6. 20. 26. 14.\n",
      "  9. 29. 11.  1. 18. 16. 30. 12.  4. 22. 31. 21. 28. 17. 15. 32. 23. 27.\n",
      "  0.]\n",
      " \n",
      "Unique values in Months Since Policy Inception: [52 26 31  3 73 99 45 24  8 29 32 25 28 87 10 74  1 38 58 37  7 80 95 78\n",
      " 63 27 97 39 11 59 46 62 13 54 51 22 82 91 44 43 76 48 84  6 92 12 61  4\n",
      " 18 66 70 16 75 34 35 64  9 89  0 60 71 23 55 93  2 67 81 40 57 86 19 72\n",
      " 69 33 47 42 17 49 21 83 94 30 15 50 53 77 41 90  5 79 56 98 20 88 65 14\n",
      " 85 96 36 68]\n",
      " \n",
      "Unique values in Number of Open Complaints: [ 0. nan  3.  1.  2.  4.  5.]\n",
      " \n",
      "Unique values in Number of Policies: [9 1 2 7 4 3 6 8 5]\n",
      " \n",
      "Unique values in Policy Type: ['Corporate Auto' 'Personal Auto' 'Special Auto']\n",
      " \n",
      "Unique values in Policy: ['Corporate L3' 'Personal L3' 'Personal L2' 'Corporate L2' 'Personal L1'\n",
      " 'Special L1' 'Corporate L1' 'Special L3' 'Special L2']\n",
      " \n",
      "Unique values in Renew Offer Type: ['Offer3' 'Offer4' 'Offer2' 'Offer1']\n",
      " \n",
      "Unique values in Sales Channel: ['Agent' 'Call Center' 'Branch' 'Web']\n",
      " \n",
      "Unique values in Total Claim Amount: [292.8      744.924331 480.       ... 273.018929 381.306996 618.288849]\n",
      " \n",
      "Unique values in Vehicle Class: ['Four-Door Car' 'SUV' 'Two-Door Car' 'Sports Car' 'Luxury Car'\n",
      " 'Luxury SUV' nan]\n",
      " \n",
      "Unique values in Vehicle Size: ['Medsize' 'Small' 'Large' nan]\n",
      " \n",
      "Unique values in Vehicle Type: [nan 'A']\n",
      " \n"
     ]
    }
   ],
   "source": [
    "for col in mca_df_colnames:\n",
    "    uni_check(mca_df, col)"
   ]
  },
  {
   "cell_type": "code",
   "execution_count": 17,
   "id": "4f03e6ad-64c4-48a5-a908-f3b40673c94d",
   "metadata": {},
   "outputs": [
    {
     "data": {
      "text/plain": [
       "unnamed:_0                       False\n",
       "customer                         False\n",
       "state                             True\n",
       "customer_lifetime_value          False\n",
       "response                          True\n",
       "coverage                         False\n",
       "education                        False\n",
       "effective_to_date                False\n",
       "employmentstatus                 False\n",
       "gender                           False\n",
       "income                           False\n",
       "location_code                    False\n",
       "marital_status                   False\n",
       "monthly_premium_auto             False\n",
       "months_since_last_claim           True\n",
       "months_since_policy_inception    False\n",
       "number_of_open_complaints         True\n",
       "number_of_policies               False\n",
       "policy_type                      False\n",
       "policy                           False\n",
       "renew_offer_type                 False\n",
       "sales_channel                    False\n",
       "total_claim_amount               False\n",
       "vehicle_class                     True\n",
       "vehicle_size                      True\n",
       "vehicle_type                      True\n",
       "dtype: bool"
      ]
     },
     "execution_count": 17,
     "metadata": {},
     "output_type": "execute_result"
    }
   ],
   "source": [
    "mca_df.isna().any(axis=0)"
   ]
  },
  {
   "cell_type": "code",
   "execution_count": 14,
   "id": "3661f9fc-aaf6-430f-8841-e4176520f25b",
   "metadata": {},
   "outputs": [
    {
     "data": {
      "text/plain": [
       "Unnamed: 0                         int64\n",
       "Customer                          object\n",
       "State                             object\n",
       "Customer Lifetime Value          float64\n",
       "Response                          object\n",
       "Coverage                          object\n",
       "Education                         object\n",
       "Effective To Date                 object\n",
       "EmploymentStatus                  object\n",
       "Gender                            object\n",
       "Income                             int64\n",
       "Location Code                     object\n",
       "Marital Status                    object\n",
       "Monthly Premium Auto               int64\n",
       "Months Since Last Claim          float64\n",
       "Months Since Policy Inception      int64\n",
       "Number of Open Complaints        float64\n",
       "Number of Policies                 int64\n",
       "Policy Type                       object\n",
       "Policy                            object\n",
       "Renew Offer Type                  object\n",
       "Sales Channel                     object\n",
       "Total Claim Amount               float64\n",
       "Vehicle Class                     object\n",
       "Vehicle Size                      object\n",
       "Vehicle Type                      object\n",
       "dtype: object"
      ]
     },
     "execution_count": 14,
     "metadata": {},
     "output_type": "execute_result"
    }
   ],
   "source": [
    "mca_df.dtypes"
   ]
  },
  {
   "cell_type": "code",
   "execution_count": 15,
   "id": "01337a36-acd9-40a4-a6c3-bdb0cea9d75d",
   "metadata": {},
   "outputs": [],
   "source": [
    "# clean up column names\n",
    "\n",
    "mca_df.columns = mca_df.columns.str.lower()\n",
    "\n",
    "# white spaces in column names replaced by _\n",
    "mca_df.columns = mca_df.columns.str.replace(\" \",\"_\")\n"
   ]
  },
  {
   "cell_type": "code",
   "execution_count": 18,
   "id": "234fc4d3-bf67-4c1c-bbb3-71a6e7f3bfb6",
   "metadata": {},
   "outputs": [
    {
     "data": {
      "text/plain": [
       "unnamed:_0                          0\n",
       "customer                            0\n",
       "state                             631\n",
       "customer_lifetime_value             0\n",
       "response                          631\n",
       "coverage                            0\n",
       "education                           0\n",
       "effective_to_date                   0\n",
       "employmentstatus                    0\n",
       "gender                              0\n",
       "income                              0\n",
       "location_code                       0\n",
       "marital_status                      0\n",
       "monthly_premium_auto                0\n",
       "months_since_last_claim           633\n",
       "months_since_policy_inception       0\n",
       "number_of_open_complaints         633\n",
       "number_of_policies                  0\n",
       "policy_type                         0\n",
       "policy                              0\n",
       "renew_offer_type                    0\n",
       "sales_channel                       0\n",
       "total_claim_amount                  0\n",
       "vehicle_class                     622\n",
       "vehicle_size                      622\n",
       "vehicle_type                     5482\n",
       "dtype: int64"
      ]
     },
     "execution_count": 18,
     "metadata": {},
     "output_type": "execute_result"
    }
   ],
   "source": [
    "mca_df.isna().sum()"
   ]
  },
  {
   "cell_type": "code",
   "execution_count": 30,
   "id": "b5c2b8bb-2803-4dfd-8947-91f9bc8b8234",
   "metadata": {},
   "outputs": [
    {
     "data": {
      "text/plain": [
       "response\n",
       "No     8813\n",
       "Yes    1466\n",
       "Name: count, dtype: int64"
      ]
     },
     "execution_count": 30,
     "metadata": {},
     "output_type": "execute_result"
    }
   ],
   "source": [
    "# managing null values\n",
    "# ['state'], ['response'], ['months_since_last_claim'], ['number_of_open_complaints'], ['vehicle_class'], ['vehicle_size'], vehicle_type\n",
    "\n",
    "# 'state' -> most frequent\n",
    "# 'months_since_last_claim' -> most frequent\n",
    "# 'number_of_open_complaints' -> default to 0\n",
    "# 'vehicle_class' -> most frequent\n",
    "# 'vehicle_size' -> most frequent\n",
    "\n",
    "# response -> response to last marketing campaign apparently ... how many yes vs no\n",
    "# vehicle type -> drop column ? or just ignore it\n",
    "\n",
    "mca_df['response'].value_counts()"
   ]
  },
  {
   "cell_type": "code",
   "execution_count": 32,
   "id": "a1718fb1-0209-4e90-9d8b-132916f82733",
   "metadata": {},
   "outputs": [],
   "source": [
    "mca_df['state'] = mca_df['state'].fillna(mca_df['state'].mode().iloc[0])\n",
    "mca_df['months_since_last_claim'] = mca_df['months_since_last_claim'].fillna(mca_df['months_since_last_claim'].mode().iloc[0])\n",
    "mca_df['number_of_open_complaints'] = mca_df['number_of_open_complaints'].fillna(0)\n",
    "mca_df['vehicle_class'] = mca_df['vehicle_class'].fillna(mca_df['vehicle_class'].mode().iloc[0])\n",
    "mca_df['vehicle_size'] = mca_df['vehicle_size'].fillna(mca_df['vehicle_size'].mode().iloc[0])\n",
    "mca_df['response'] = mca_df['response'].fillna(mca_df['response'].mode().iloc[0])"
   ]
  },
  {
   "cell_type": "code",
   "execution_count": 33,
   "id": "08ab49de-4792-491f-9071-196fe83644aa",
   "metadata": {},
   "outputs": [
    {
     "data": {
      "text/plain": [
       "unnamed:_0                       False\n",
       "customer                         False\n",
       "state                            False\n",
       "customer_lifetime_value          False\n",
       "response                         False\n",
       "coverage                         False\n",
       "education                        False\n",
       "effective_to_date                False\n",
       "employmentstatus                 False\n",
       "gender                           False\n",
       "income                           False\n",
       "location_code                    False\n",
       "marital_status                   False\n",
       "monthly_premium_auto             False\n",
       "months_since_last_claim          False\n",
       "months_since_policy_inception    False\n",
       "number_of_open_complaints        False\n",
       "number_of_policies               False\n",
       "policy_type                      False\n",
       "policy                           False\n",
       "renew_offer_type                 False\n",
       "sales_channel                    False\n",
       "total_claim_amount               False\n",
       "vehicle_class                    False\n",
       "vehicle_size                     False\n",
       "vehicle_type                      True\n",
       "dtype: bool"
      ]
     },
     "execution_count": 33,
     "metadata": {},
     "output_type": "execute_result"
    }
   ],
   "source": [
    "mca_df.isna().any(axis=0)"
   ]
  },
  {
   "cell_type": "code",
   "execution_count": 34,
   "id": "a6ea9174-b7c2-4f69-8cf6-b8d2bff09b77",
   "metadata": {},
   "outputs": [
    {
     "data": {
      "text/plain": [
       "False"
      ]
     },
     "execution_count": 34,
     "metadata": {},
     "output_type": "execute_result"
    }
   ],
   "source": [
    "# are there any duplicate rows?\n",
    "\n",
    "mca_df.duplicated().any(axis=0)"
   ]
  },
  {
   "cell_type": "markdown",
   "id": "b46a5700-b64b-4c9d-b9e9-fa331ad8e749",
   "metadata": {},
   "source": [
    "1. Create a new DataFrame that only includes customers who have a total_claim_amount greater than $1,000 and have a response of \"Yes\" to the last marketing campaign."
   ]
  },
  {
   "cell_type": "code",
   "execution_count": 38,
   "id": "944d0d4c-2a6d-4fe2-ae3e-be105c7d0daa",
   "metadata": {},
   "outputs": [
    {
     "data": {
      "text/plain": [
       "total_claim_amount\n",
       "0.099007       1\n",
       "0.382107       2\n",
       "0.423310       2\n",
       "0.517753       1\n",
       "0.769185       2\n",
       "              ..\n",
       "2345.413441    1\n",
       "2452.894264    1\n",
       "2552.343856    2\n",
       "2759.794354    1\n",
       "2893.239678    1\n",
       "Name: count, Length: 5106, dtype: int64"
      ]
     },
     "execution_count": 38,
     "metadata": {},
     "output_type": "execute_result"
    }
   ],
   "source": [
    "mca_df['total_claim_amount'].value_counts().sort_index()"
   ]
  },
  {
   "cell_type": "code",
   "execution_count": 39,
   "id": "1e3272dc-62d3-4516-aa56-7b89135c0f65",
   "metadata": {},
   "outputs": [],
   "source": [
    "new_df = mca_df[(mca_df['total_claim_amount'] > 1000) & (mca_df['response'] == \"Yes\")]"
   ]
  },
  {
   "cell_type": "code",
   "execution_count": 40,
   "id": "4d79eae1-05ef-4552-9c19-878973ed7383",
   "metadata": {},
   "outputs": [
    {
     "data": {
      "text/html": [
       "<div>\n",
       "<style scoped>\n",
       "    .dataframe tbody tr th:only-of-type {\n",
       "        vertical-align: middle;\n",
       "    }\n",
       "\n",
       "    .dataframe tbody tr th {\n",
       "        vertical-align: top;\n",
       "    }\n",
       "\n",
       "    .dataframe thead th {\n",
       "        text-align: right;\n",
       "    }\n",
       "</style>\n",
       "<table border=\"1\" class=\"dataframe\">\n",
       "  <thead>\n",
       "    <tr style=\"text-align: right;\">\n",
       "      <th></th>\n",
       "      <th>unnamed:_0</th>\n",
       "      <th>customer</th>\n",
       "      <th>state</th>\n",
       "      <th>customer_lifetime_value</th>\n",
       "      <th>response</th>\n",
       "      <th>coverage</th>\n",
       "      <th>education</th>\n",
       "      <th>effective_to_date</th>\n",
       "      <th>employmentstatus</th>\n",
       "      <th>gender</th>\n",
       "      <th>income</th>\n",
       "      <th>location_code</th>\n",
       "      <th>marital_status</th>\n",
       "      <th>monthly_premium_auto</th>\n",
       "      <th>months_since_last_claim</th>\n",
       "      <th>months_since_policy_inception</th>\n",
       "      <th>number_of_open_complaints</th>\n",
       "      <th>number_of_policies</th>\n",
       "      <th>policy_type</th>\n",
       "      <th>policy</th>\n",
       "      <th>renew_offer_type</th>\n",
       "      <th>sales_channel</th>\n",
       "      <th>total_claim_amount</th>\n",
       "      <th>vehicle_class</th>\n",
       "      <th>vehicle_size</th>\n",
       "      <th>vehicle_type</th>\n",
       "    </tr>\n",
       "  </thead>\n",
       "  <tbody>\n",
       "    <tr>\n",
       "      <th>189</th>\n",
       "      <td>189</td>\n",
       "      <td>OK31456</td>\n",
       "      <td>California</td>\n",
       "      <td>11009.130490</td>\n",
       "      <td>Yes</td>\n",
       "      <td>Premium</td>\n",
       "      <td>Bachelor</td>\n",
       "      <td>1/24/11</td>\n",
       "      <td>Employed</td>\n",
       "      <td>F</td>\n",
       "      <td>51643</td>\n",
       "      <td>Suburban</td>\n",
       "      <td>Single</td>\n",
       "      <td>283</td>\n",
       "      <td>16.0</td>\n",
       "      <td>43</td>\n",
       "      <td>0.0</td>\n",
       "      <td>1</td>\n",
       "      <td>Corporate Auto</td>\n",
       "      <td>Corporate L3</td>\n",
       "      <td>Offer2</td>\n",
       "      <td>Agent</td>\n",
       "      <td>1358.400000</td>\n",
       "      <td>Luxury Car</td>\n",
       "      <td>Medsize</td>\n",
       "      <td>NaN</td>\n",
       "    </tr>\n",
       "    <tr>\n",
       "      <th>236</th>\n",
       "      <td>236</td>\n",
       "      <td>YJ16163</td>\n",
       "      <td>Oregon</td>\n",
       "      <td>11009.130490</td>\n",
       "      <td>Yes</td>\n",
       "      <td>Premium</td>\n",
       "      <td>Bachelor</td>\n",
       "      <td>1/24/11</td>\n",
       "      <td>Employed</td>\n",
       "      <td>F</td>\n",
       "      <td>51643</td>\n",
       "      <td>Suburban</td>\n",
       "      <td>Single</td>\n",
       "      <td>283</td>\n",
       "      <td>16.0</td>\n",
       "      <td>43</td>\n",
       "      <td>0.0</td>\n",
       "      <td>1</td>\n",
       "      <td>Special Auto</td>\n",
       "      <td>Special L3</td>\n",
       "      <td>Offer2</td>\n",
       "      <td>Agent</td>\n",
       "      <td>1358.400000</td>\n",
       "      <td>Luxury Car</td>\n",
       "      <td>Medsize</td>\n",
       "      <td>A</td>\n",
       "    </tr>\n",
       "    <tr>\n",
       "      <th>419</th>\n",
       "      <td>419</td>\n",
       "      <td>GW43195</td>\n",
       "      <td>Oregon</td>\n",
       "      <td>25807.063000</td>\n",
       "      <td>Yes</td>\n",
       "      <td>Extended</td>\n",
       "      <td>College</td>\n",
       "      <td>2/13/11</td>\n",
       "      <td>Employed</td>\n",
       "      <td>F</td>\n",
       "      <td>71210</td>\n",
       "      <td>Suburban</td>\n",
       "      <td>Married</td>\n",
       "      <td>214</td>\n",
       "      <td>8.0</td>\n",
       "      <td>89</td>\n",
       "      <td>1.0</td>\n",
       "      <td>2</td>\n",
       "      <td>Personal Auto</td>\n",
       "      <td>Personal L2</td>\n",
       "      <td>Offer1</td>\n",
       "      <td>Branch</td>\n",
       "      <td>1027.200000</td>\n",
       "      <td>Luxury Car</td>\n",
       "      <td>Small</td>\n",
       "      <td>A</td>\n",
       "    </tr>\n",
       "    <tr>\n",
       "      <th>442</th>\n",
       "      <td>442</td>\n",
       "      <td>IP94270</td>\n",
       "      <td>Arizona</td>\n",
       "      <td>13736.132500</td>\n",
       "      <td>Yes</td>\n",
       "      <td>Premium</td>\n",
       "      <td>Master</td>\n",
       "      <td>2/13/11</td>\n",
       "      <td>Disabled</td>\n",
       "      <td>F</td>\n",
       "      <td>16181</td>\n",
       "      <td>Suburban</td>\n",
       "      <td>Divorced</td>\n",
       "      <td>181</td>\n",
       "      <td>22.0</td>\n",
       "      <td>79</td>\n",
       "      <td>0.0</td>\n",
       "      <td>8</td>\n",
       "      <td>Personal Auto</td>\n",
       "      <td>Personal L2</td>\n",
       "      <td>Offer1</td>\n",
       "      <td>Web</td>\n",
       "      <td>1261.319869</td>\n",
       "      <td>SUV</td>\n",
       "      <td>Medsize</td>\n",
       "      <td>A</td>\n",
       "    </tr>\n",
       "    <tr>\n",
       "      <th>587</th>\n",
       "      <td>587</td>\n",
       "      <td>FJ28407</td>\n",
       "      <td>California</td>\n",
       "      <td>5619.689084</td>\n",
       "      <td>Yes</td>\n",
       "      <td>Premium</td>\n",
       "      <td>High School or Below</td>\n",
       "      <td>1/26/11</td>\n",
       "      <td>Unemployed</td>\n",
       "      <td>M</td>\n",
       "      <td>0</td>\n",
       "      <td>Suburban</td>\n",
       "      <td>Married</td>\n",
       "      <td>153</td>\n",
       "      <td>25.0</td>\n",
       "      <td>5</td>\n",
       "      <td>0.0</td>\n",
       "      <td>1</td>\n",
       "      <td>Personal Auto</td>\n",
       "      <td>Personal L1</td>\n",
       "      <td>Offer2</td>\n",
       "      <td>Web</td>\n",
       "      <td>1027.000029</td>\n",
       "      <td>SUV</td>\n",
       "      <td>Medsize</td>\n",
       "      <td>A</td>\n",
       "    </tr>\n",
       "  </tbody>\n",
       "</table>\n",
       "</div>"
      ],
      "text/plain": [
       "     unnamed:_0 customer       state  customer_lifetime_value response  \\\n",
       "189         189  OK31456  California             11009.130490      Yes   \n",
       "236         236  YJ16163      Oregon             11009.130490      Yes   \n",
       "419         419  GW43195      Oregon             25807.063000      Yes   \n",
       "442         442  IP94270     Arizona             13736.132500      Yes   \n",
       "587         587  FJ28407  California              5619.689084      Yes   \n",
       "\n",
       "     coverage             education effective_to_date employmentstatus gender  \\\n",
       "189   Premium              Bachelor           1/24/11         Employed      F   \n",
       "236   Premium              Bachelor           1/24/11         Employed      F   \n",
       "419  Extended               College           2/13/11         Employed      F   \n",
       "442   Premium                Master           2/13/11         Disabled      F   \n",
       "587   Premium  High School or Below           1/26/11       Unemployed      M   \n",
       "\n",
       "     income location_code marital_status  monthly_premium_auto  \\\n",
       "189   51643      Suburban         Single                   283   \n",
       "236   51643      Suburban         Single                   283   \n",
       "419   71210      Suburban        Married                   214   \n",
       "442   16181      Suburban       Divorced                   181   \n",
       "587       0      Suburban        Married                   153   \n",
       "\n",
       "     months_since_last_claim  months_since_policy_inception  \\\n",
       "189                     16.0                             43   \n",
       "236                     16.0                             43   \n",
       "419                      8.0                             89   \n",
       "442                     22.0                             79   \n",
       "587                     25.0                              5   \n",
       "\n",
       "     number_of_open_complaints  number_of_policies     policy_type  \\\n",
       "189                        0.0                   1  Corporate Auto   \n",
       "236                        0.0                   1    Special Auto   \n",
       "419                        1.0                   2   Personal Auto   \n",
       "442                        0.0                   8   Personal Auto   \n",
       "587                        0.0                   1   Personal Auto   \n",
       "\n",
       "           policy renew_offer_type sales_channel  total_claim_amount  \\\n",
       "189  Corporate L3           Offer2         Agent         1358.400000   \n",
       "236    Special L3           Offer2         Agent         1358.400000   \n",
       "419   Personal L2           Offer1        Branch         1027.200000   \n",
       "442   Personal L2           Offer1           Web         1261.319869   \n",
       "587   Personal L1           Offer2           Web         1027.000029   \n",
       "\n",
       "    vehicle_class vehicle_size vehicle_type  \n",
       "189    Luxury Car      Medsize          NaN  \n",
       "236    Luxury Car      Medsize            A  \n",
       "419    Luxury Car        Small            A  \n",
       "442           SUV      Medsize            A  \n",
       "587           SUV      Medsize            A  "
      ]
     },
     "execution_count": 40,
     "metadata": {},
     "output_type": "execute_result"
    }
   ],
   "source": [
    "new_df.head()"
   ]
  },
  {
   "cell_type": "code",
   "execution_count": 46,
   "id": "a21583a6-55ae-40b7-9d3a-6fa03b25fc7a",
   "metadata": {},
   "outputs": [],
   "source": [
    "# to create a new df with columns from another df:\n",
    "# columns_to_keep = ['total_claim_amount', 'response']\n",
    "# trial_df = mca_df[columns_to_keep]"
   ]
  },
  {
   "cell_type": "markdown",
   "id": "240b82bf-d460-4ce8-8aa2-27db2c7d9572",
   "metadata": {},
   "source": [
    "2. Using the original Dataframe, analyze the average total_claim_amount by each policy type and gender for customers who have responded \"Yes\" to the last marketing campaign. Write your conclusions."
   ]
  },
  {
   "cell_type": "code",
   "execution_count": 48,
   "id": "8f98fa10-b1ad-4459-bd3e-a5cc3030d506",
   "metadata": {},
   "outputs": [
    {
     "data": {
      "text/html": [
       "<div>\n",
       "<style scoped>\n",
       "    .dataframe tbody tr th:only-of-type {\n",
       "        vertical-align: middle;\n",
       "    }\n",
       "\n",
       "    .dataframe tbody tr th {\n",
       "        vertical-align: top;\n",
       "    }\n",
       "\n",
       "    .dataframe thead tr th {\n",
       "        text-align: left;\n",
       "    }\n",
       "\n",
       "    .dataframe thead tr:last-of-type th {\n",
       "        text-align: right;\n",
       "    }\n",
       "</style>\n",
       "<table border=\"1\" class=\"dataframe\">\n",
       "  <thead>\n",
       "    <tr>\n",
       "      <th></th>\n",
       "      <th colspan=\"2\" halign=\"left\">total_claim_amount</th>\n",
       "    </tr>\n",
       "    <tr>\n",
       "      <th>gender</th>\n",
       "      <th>F</th>\n",
       "      <th>M</th>\n",
       "    </tr>\n",
       "    <tr>\n",
       "      <th>policy_type</th>\n",
       "      <th></th>\n",
       "      <th></th>\n",
       "    </tr>\n",
       "  </thead>\n",
       "  <tbody>\n",
       "    <tr>\n",
       "      <th>Corporate Auto</th>\n",
       "      <td>433.74</td>\n",
       "      <td>408.58</td>\n",
       "    </tr>\n",
       "    <tr>\n",
       "      <th>Personal Auto</th>\n",
       "      <td>452.97</td>\n",
       "      <td>457.01</td>\n",
       "    </tr>\n",
       "    <tr>\n",
       "      <th>Special Auto</th>\n",
       "      <td>453.28</td>\n",
       "      <td>429.53</td>\n",
       "    </tr>\n",
       "  </tbody>\n",
       "</table>\n",
       "</div>"
      ],
      "text/plain": [
       "               total_claim_amount        \n",
       "gender                          F       M\n",
       "policy_type                              \n",
       "Corporate Auto             433.74  408.58\n",
       "Personal Auto              452.97  457.01\n",
       "Special Auto               453.28  429.53"
      ]
     },
     "execution_count": 48,
     "metadata": {},
     "output_type": "execute_result"
    }
   ],
   "source": [
    "mca_df[mca_df['response']=='Yes'].pivot_table(index='policy_type',columns='gender', values=['total_claim_amount'], aggfunc='mean').round(2)"
   ]
  },
  {
   "cell_type": "code",
   "execution_count": 51,
   "id": "bd88e888-b489-411b-9128-bc3e874ad43e",
   "metadata": {},
   "outputs": [
    {
     "data": {
      "text/html": [
       "<div>\n",
       "<style scoped>\n",
       "    .dataframe tbody tr th:only-of-type {\n",
       "        vertical-align: middle;\n",
       "    }\n",
       "\n",
       "    .dataframe tbody tr th {\n",
       "        vertical-align: top;\n",
       "    }\n",
       "\n",
       "    .dataframe thead th {\n",
       "        text-align: right;\n",
       "    }\n",
       "</style>\n",
       "<table border=\"1\" class=\"dataframe\">\n",
       "  <thead>\n",
       "    <tr style=\"text-align: right;\">\n",
       "      <th>gender</th>\n",
       "      <th>F</th>\n",
       "      <th>M</th>\n",
       "    </tr>\n",
       "    <tr>\n",
       "      <th>policy_type</th>\n",
       "      <th></th>\n",
       "      <th></th>\n",
       "    </tr>\n",
       "  </thead>\n",
       "  <tbody>\n",
       "    <tr>\n",
       "      <th>Corporate Auto</th>\n",
       "      <td>433.74</td>\n",
       "      <td>408.58</td>\n",
       "    </tr>\n",
       "    <tr>\n",
       "      <th>Personal Auto</th>\n",
       "      <td>452.97</td>\n",
       "      <td>457.01</td>\n",
       "    </tr>\n",
       "    <tr>\n",
       "      <th>Special Auto</th>\n",
       "      <td>453.28</td>\n",
       "      <td>429.53</td>\n",
       "    </tr>\n",
       "  </tbody>\n",
       "</table>\n",
       "</div>"
      ],
      "text/plain": [
       "gender               F       M\n",
       "policy_type                   \n",
       "Corporate Auto  433.74  408.58\n",
       "Personal Auto   452.97  457.01\n",
       "Special Auto    453.28  429.53"
      ]
     },
     "execution_count": 51,
     "metadata": {},
     "output_type": "execute_result"
    }
   ],
   "source": [
    "mca_df[mca_df['response']=='Yes'].groupby(['policy_type', 'gender'])['total_claim_amount'].mean().unstack('gender').round(2)"
   ]
  },
  {
   "cell_type": "markdown",
   "id": "79977b49-1e2d-4e3a-a053-45a7bf3828e3",
   "metadata": {},
   "source": [
    "**Conclusions:**  \n",
    "Corporate auto has smaller average total claim amount than personal auto.\n",
    "The total claim amount is roughly equal for men and women in the personal auto category, but in the other categories men have a roughly smaller total claim amount average."
   ]
  },
  {
   "cell_type": "markdown",
   "id": "aad9975b-0fcb-4d80-aa47-d2f11f09a0ae",
   "metadata": {},
   "source": [
    "3. Analyze the total number of customers who have policies in each state, and then filter the results to only include states where there are more than 500 customers."
   ]
  },
  {
   "cell_type": "code",
   "execution_count": 70,
   "id": "42517421-3155-4cbd-b53b-79649b500eab",
   "metadata": {},
   "outputs": [
    {
     "data": {
      "text/plain": [
       "True"
      ]
     },
     "execution_count": 70,
     "metadata": {},
     "output_type": "execute_result"
    }
   ],
   "source": [
    "# first we are checking if there are duplicate customers (= more than 1 policy)\n",
    "mca_df['customer'].duplicated().any()"
   ]
  },
  {
   "cell_type": "code",
   "execution_count": 63,
   "id": "784c5792-a5e9-452e-adc6-baeed391cc37",
   "metadata": {},
   "outputs": [
    {
     "data": {
      "text/plain": [
       "customer\n",
       "IQ37561    2\n",
       "No74162    2\n",
       "RB49468    2\n",
       "GC93551    2\n",
       "XP92021    2\n",
       "          ..\n",
       "IW71076    1\n",
       "IW56740    1\n",
       "IW54903    1\n",
       "IW54795    1\n",
       "ZZ97035    1\n",
       "Name: state, Length: 9134, dtype: int64"
      ]
     },
     "execution_count": 63,
     "metadata": {},
     "output_type": "execute_result"
    }
   ],
   "source": [
    "mca_df[['customer','state']].drop_duplicates().groupby('customer')['state'].count().sort_values(ascending=False)"
   ]
  },
  {
   "cell_type": "code",
   "execution_count": 71,
   "id": "f04fa0d8-07d4-4211-a37a-768dc9f62d1f",
   "metadata": {},
   "outputs": [],
   "source": [
    "# the above code shows that if we make customer-state pairs (eg cust_id 1 - CA) there can many repeating pairs if a customer has more \n",
    "# than one policy per state, but we want to know how many customers have policies in more than one state, so we need to drop those \n",
    "# duplicate-repeating value-pairs so that when we show customer & count of policies it will mean in different states"
   ]
  },
  {
   "cell_type": "code",
   "execution_count": 72,
   "id": "22d46448-4949-4243-8620-43a9654f7f2a",
   "metadata": {},
   "outputs": [
    {
     "data": {
      "text/plain": [
       "state\n",
       "Arizona       1937\n",
       "California    4183\n",
       "Nevada         993\n",
       "Oregon        2909\n",
       "Washington     888\n",
       "Name: customer, dtype: int64"
      ]
     },
     "execution_count": 72,
     "metadata": {},
     "output_type": "execute_result"
    }
   ],
   "source": [
    "# this is wrong because we are filtering by state which means there's the potential there are duplicate customers here who have more\n",
    "# than one policy per state (same logic as explained above)....so in the following code block we drop duplicate customers and see, here \n",
    "# we have 888 customer counts in WA, but when we drop duplicate customers we see there is only 798 unique customers in WA\n",
    "mca_df[['customer','state']].groupby('state')['customer'].count()"
   ]
  },
  {
   "cell_type": "code",
   "execution_count": 66,
   "id": "08220741-67da-46a0-9474-c73d528b2a08",
   "metadata": {},
   "outputs": [],
   "source": [
    "customer_counts_per_state = mca_df[['customer','state']].drop_duplicates().groupby('state')['customer'].count()"
   ]
  },
  {
   "cell_type": "code",
   "execution_count": 68,
   "id": "c4575412-d2d2-4c3f-9d1f-9b3bb1ff6e40",
   "metadata": {},
   "outputs": [
    {
     "data": {
      "text/plain": [
       "state\n",
       "Arizona       1703\n",
       "California    3520\n",
       "Nevada         882\n",
       "Oregon        2601\n",
       "Washington     798\n",
       "Name: customer, dtype: int64"
      ]
     },
     "execution_count": 68,
     "metadata": {},
     "output_type": "execute_result"
    }
   ],
   "source": [
    "customer_counts_per_state[customer_counts_per_state>= 500]"
   ]
  },
  {
   "cell_type": "markdown",
   "id": "e2ce1902-1269-4bad-80cf-eaeb0fb6da44",
   "metadata": {},
   "source": [
    "4. Find the maximum, minimum, and median customer lifetime value by education level and gender. Write your conclusions."
   ]
  },
  {
   "cell_type": "code",
   "execution_count": 81,
   "id": "6a357130-7f6a-4933-8135-6279017e0f62",
   "metadata": {},
   "outputs": [
    {
     "data": {
      "text/html": [
       "<div>\n",
       "<style scoped>\n",
       "    .dataframe tbody tr th:only-of-type {\n",
       "        vertical-align: middle;\n",
       "    }\n",
       "\n",
       "    .dataframe tbody tr th {\n",
       "        vertical-align: top;\n",
       "    }\n",
       "\n",
       "    .dataframe thead tr th {\n",
       "        text-align: left;\n",
       "    }\n",
       "\n",
       "    .dataframe thead tr:last-of-type th {\n",
       "        text-align: right;\n",
       "    }\n",
       "</style>\n",
       "<table border=\"1\" class=\"dataframe\">\n",
       "  <thead>\n",
       "    <tr>\n",
       "      <th></th>\n",
       "      <th colspan=\"2\" halign=\"left\">min</th>\n",
       "      <th colspan=\"2\" halign=\"left\">max</th>\n",
       "      <th colspan=\"2\" halign=\"left\">median</th>\n",
       "    </tr>\n",
       "    <tr>\n",
       "      <th>gender</th>\n",
       "      <th>F</th>\n",
       "      <th>M</th>\n",
       "      <th>F</th>\n",
       "      <th>M</th>\n",
       "      <th>F</th>\n",
       "      <th>M</th>\n",
       "    </tr>\n",
       "    <tr>\n",
       "      <th>education</th>\n",
       "      <th></th>\n",
       "      <th></th>\n",
       "      <th></th>\n",
       "      <th></th>\n",
       "      <th></th>\n",
       "      <th></th>\n",
       "    </tr>\n",
       "  </thead>\n",
       "  <tbody>\n",
       "    <tr>\n",
       "      <th>Bachelor</th>\n",
       "      <td>1904.00</td>\n",
       "      <td>1898.01</td>\n",
       "      <td>73225.96</td>\n",
       "      <td>67907.27</td>\n",
       "      <td>5640.51</td>\n",
       "      <td>5548.03</td>\n",
       "    </tr>\n",
       "    <tr>\n",
       "      <th>College</th>\n",
       "      <td>1898.68</td>\n",
       "      <td>1918.12</td>\n",
       "      <td>61850.19</td>\n",
       "      <td>61134.68</td>\n",
       "      <td>5623.61</td>\n",
       "      <td>6005.85</td>\n",
       "    </tr>\n",
       "    <tr>\n",
       "      <th>Doctor</th>\n",
       "      <td>2395.57</td>\n",
       "      <td>2267.60</td>\n",
       "      <td>44856.11</td>\n",
       "      <td>32677.34</td>\n",
       "      <td>5332.46</td>\n",
       "      <td>5577.67</td>\n",
       "    </tr>\n",
       "    <tr>\n",
       "      <th>High School or Below</th>\n",
       "      <td>2144.92</td>\n",
       "      <td>1940.98</td>\n",
       "      <td>55277.45</td>\n",
       "      <td>83325.38</td>\n",
       "      <td>6039.55</td>\n",
       "      <td>6286.73</td>\n",
       "    </tr>\n",
       "    <tr>\n",
       "      <th>Master</th>\n",
       "      <td>2417.78</td>\n",
       "      <td>2272.31</td>\n",
       "      <td>51016.07</td>\n",
       "      <td>50568.26</td>\n",
       "      <td>5729.86</td>\n",
       "      <td>5579.10</td>\n",
       "    </tr>\n",
       "  </tbody>\n",
       "</table>\n",
       "</div>"
      ],
      "text/plain": [
       "                          min                max             median         \n",
       "gender                      F        M         F         M        F        M\n",
       "education                                                                   \n",
       "Bachelor              1904.00  1898.01  73225.96  67907.27  5640.51  5548.03\n",
       "College               1898.68  1918.12  61850.19  61134.68  5623.61  6005.85\n",
       "Doctor                2395.57  2267.60  44856.11  32677.34  5332.46  5577.67\n",
       "High School or Below  2144.92  1940.98  55277.45  83325.38  6039.55  6286.73\n",
       "Master                2417.78  2272.31  51016.07  50568.26  5729.86  5579.10"
      ]
     },
     "execution_count": 81,
     "metadata": {},
     "output_type": "execute_result"
    }
   ],
   "source": [
    "q4 = mca_df.groupby(['education', 'gender'])['customer_lifetime_value'].agg(['min','max','median']).unstack('gender').round(2)\n",
    "q4"
   ]
  },
  {
   "cell_type": "code",
   "execution_count": 90,
   "id": "6662b452-9f18-4368-904d-838302956417",
   "metadata": {},
   "outputs": [
    {
     "data": {
      "text/html": [
       "<div>\n",
       "<style scoped>\n",
       "    .dataframe tbody tr th:only-of-type {\n",
       "        vertical-align: middle;\n",
       "    }\n",
       "\n",
       "    .dataframe tbody tr th {\n",
       "        vertical-align: top;\n",
       "    }\n",
       "\n",
       "    .dataframe thead tr th {\n",
       "        text-align: left;\n",
       "    }\n",
       "\n",
       "    .dataframe thead tr:last-of-type th {\n",
       "        text-align: right;\n",
       "    }\n",
       "</style>\n",
       "<table border=\"1\" class=\"dataframe\">\n",
       "  <thead>\n",
       "    <tr>\n",
       "      <th></th>\n",
       "      <th colspan=\"2\" halign=\"left\">min</th>\n",
       "      <th colspan=\"2\" halign=\"left\">max</th>\n",
       "      <th colspan=\"2\" halign=\"left\">median</th>\n",
       "    </tr>\n",
       "    <tr>\n",
       "      <th>gender</th>\n",
       "      <th>F</th>\n",
       "      <th>M</th>\n",
       "      <th>F</th>\n",
       "      <th>M</th>\n",
       "      <th>F</th>\n",
       "      <th>M</th>\n",
       "    </tr>\n",
       "    <tr>\n",
       "      <th>education</th>\n",
       "      <th></th>\n",
       "      <th></th>\n",
       "      <th></th>\n",
       "      <th></th>\n",
       "      <th></th>\n",
       "      <th></th>\n",
       "    </tr>\n",
       "  </thead>\n",
       "  <tbody>\n",
       "    <tr>\n",
       "      <th>High School or Below</th>\n",
       "      <td>2144.92</td>\n",
       "      <td>1940.98</td>\n",
       "      <td>55277.45</td>\n",
       "      <td>83325.38</td>\n",
       "      <td>6039.55</td>\n",
       "      <td>6286.73</td>\n",
       "    </tr>\n",
       "    <tr>\n",
       "      <th>College</th>\n",
       "      <td>1898.68</td>\n",
       "      <td>1918.12</td>\n",
       "      <td>61850.19</td>\n",
       "      <td>61134.68</td>\n",
       "      <td>5623.61</td>\n",
       "      <td>6005.85</td>\n",
       "    </tr>\n",
       "    <tr>\n",
       "      <th>Master</th>\n",
       "      <td>2417.78</td>\n",
       "      <td>2272.31</td>\n",
       "      <td>51016.07</td>\n",
       "      <td>50568.26</td>\n",
       "      <td>5729.86</td>\n",
       "      <td>5579.10</td>\n",
       "    </tr>\n",
       "    <tr>\n",
       "      <th>Doctor</th>\n",
       "      <td>2395.57</td>\n",
       "      <td>2267.60</td>\n",
       "      <td>44856.11</td>\n",
       "      <td>32677.34</td>\n",
       "      <td>5332.46</td>\n",
       "      <td>5577.67</td>\n",
       "    </tr>\n",
       "    <tr>\n",
       "      <th>Bachelor</th>\n",
       "      <td>1904.00</td>\n",
       "      <td>1898.01</td>\n",
       "      <td>73225.96</td>\n",
       "      <td>67907.27</td>\n",
       "      <td>5640.51</td>\n",
       "      <td>5548.03</td>\n",
       "    </tr>\n",
       "  </tbody>\n",
       "</table>\n",
       "</div>"
      ],
      "text/plain": [
       "                          min                max             median         \n",
       "gender                      F        M         F         M        F        M\n",
       "education                                                                   \n",
       "High School or Below  2144.92  1940.98  55277.45  83325.38  6039.55  6286.73\n",
       "College               1898.68  1918.12  61850.19  61134.68  5623.61  6005.85\n",
       "Master                2417.78  2272.31  51016.07  50568.26  5729.86  5579.10\n",
       "Doctor                2395.57  2267.60  44856.11  32677.34  5332.46  5577.67\n",
       "Bachelor              1904.00  1898.01  73225.96  67907.27  5640.51  5548.03"
      ]
     },
     "execution_count": 90,
     "metadata": {},
     "output_type": "execute_result"
    }
   ],
   "source": [
    "sort_q4 = q4.sort_values(by=('median', 'M'), ascending=False)\n",
    "sort_q4"
   ]
  },
  {
   "cell_type": "markdown",
   "id": "1df711cc-3b9e-4f1b-9821-b70bf55174f3",
   "metadata": {},
   "source": [
    "**conclusions:**   \n",
    "High school or below returns higher CLV for both genders. The education levels Bachelor, Master, and Doctor roughly return the same average CLV, meaning education only makes a difference past higher education. At the max level, males have a higher CLV, but their average is not much different that females, as we can see females have a higher min CLV than men. \n"
   ]
  },
  {
   "cell_type": "markdown",
   "id": "b42999f9-311f-481e-ae63-40a5577072c5",
   "metadata": {
    "id": "b42999f9-311f-481e-ae63-40a5577072c5"
   },
   "source": [
    "## Bonus"
   ]
  },
  {
   "cell_type": "markdown",
   "id": "81ff02c5-6584-4f21-a358-b918697c6432",
   "metadata": {
    "id": "81ff02c5-6584-4f21-a358-b918697c6432"
   },
   "source": [
    "5. The marketing team wants to analyze the number of policies sold by state and month. Present the data in a table where the months are arranged as columns and the states are arranged as rows."
   ]
  },
  {
   "cell_type": "markdown",
   "id": "b6aec097-c633-4017-a125-e77a97259cda",
   "metadata": {
    "id": "b6aec097-c633-4017-a125-e77a97259cda"
   },
   "source": [
    "6.  Display a new DataFrame that contains the number of policies sold by month, by state, for the top 3 states with the highest number of policies sold.\n",
    "\n",
    "*Hint:*\n",
    "- *To accomplish this, you will first need to group the data by state and month, then count the number of policies sold for each group. Afterwards, you will need to sort the data by the count of policies sold in descending order.*\n",
    "- *Next, you will select the top 3 states with the highest number of policies sold.*\n",
    "- *Finally, you will create a new DataFrame that contains the number of policies sold by month for each of the top 3 states.*"
   ]
  },
  {
   "cell_type": "markdown",
   "id": "ba975b8a-a2cf-4fbf-9f59-ebc381767009",
   "metadata": {
    "id": "ba975b8a-a2cf-4fbf-9f59-ebc381767009"
   },
   "source": [
    "7. The marketing team wants to analyze the effect of different marketing channels on the customer response rate.\n",
    "\n",
    "Hint: You can use melt to unpivot the data and create a table that shows the customer response rate (those who responded \"Yes\") by marketing channel."
   ]
  },
  {
   "cell_type": "markdown",
   "id": "e4378d94-48fb-4850-a802-b1bc8f427b2d",
   "metadata": {
    "id": "e4378d94-48fb-4850-a802-b1bc8f427b2d"
   },
   "source": [
    "External Resources for Data Filtering: https://towardsdatascience.com/filtering-data-frames-in-pandas-b570b1f834b9"
   ]
  },
  {
   "cell_type": "markdown",
   "id": "28d1f25f-7db1-4e92-8159-e828ae80550d",
   "metadata": {},
   "source": [
    "5. The marketing team wants to analyze the number of policies sold by state and month. Present the data in a table where the months are arranged as columns and the states are arranged as rows."
   ]
  },
  {
   "cell_type": "code",
   "execution_count": 92,
   "id": "a3ed0e59-02fb-424d-beea-726593fac5eb",
   "metadata": {},
   "outputs": [
    {
     "data": {
      "text/plain": [
       "0        2\n",
       "1        1\n",
       "2        2\n",
       "3        1\n",
       "4        1\n",
       "        ..\n",
       "10905    1\n",
       "10906    1\n",
       "10907    2\n",
       "10908    2\n",
       "10909    1\n",
       "Name: effective_to_date, Length: 10910, dtype: int64"
      ]
     },
     "execution_count": 92,
     "metadata": {},
     "output_type": "execute_result"
    }
   ],
   "source": [
    "mca_df['effective_to_date'].str.split(\"/\").str[0].astype(int)"
   ]
  },
  {
   "cell_type": "code",
   "execution_count": null,
   "id": "8053f85c-3f89-4519-bbb7-2a6e3b580129",
   "metadata": {},
   "outputs": [],
   "source": [
    "mca_df.pivot_table(index='state',columns='months', values=['total_claim_amount'], aggfunc='mean').round(2)"
   ]
  },
  {
   "cell_type": "code",
   "execution_count": null,
   "id": "88283e6b-40b1-4d87-94b7-badbb3b01d6a",
   "metadata": {},
   "outputs": [],
   "source": []
  },
  {
   "cell_type": "code",
   "execution_count": null,
   "id": "751986ae-7cf6-4828-b8c6-e32384b9dba5",
   "metadata": {},
   "outputs": [],
   "source": []
  }
 ],
 "metadata": {
  "colab": {
   "provenance": []
  },
  "kernelspec": {
   "display_name": "Python 3 (ipykernel)",
   "language": "python",
   "name": "python3"
  },
  "language_info": {
   "codemirror_mode": {
    "name": "ipython",
    "version": 3
   },
   "file_extension": ".py",
   "mimetype": "text/x-python",
   "name": "python",
   "nbconvert_exporter": "python",
   "pygments_lexer": "ipython3",
   "version": "3.11.9"
  }
 },
 "nbformat": 4,
 "nbformat_minor": 5
}
