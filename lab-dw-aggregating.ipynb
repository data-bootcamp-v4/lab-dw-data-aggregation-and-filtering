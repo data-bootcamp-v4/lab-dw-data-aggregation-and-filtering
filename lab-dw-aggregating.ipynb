{
 "cells": [
  {
   "cell_type": "markdown",
   "id": "31969215-2a90-4d8b-ac36-646a7ae13744",
   "metadata": {
    "id": "31969215-2a90-4d8b-ac36-646a7ae13744"
   },
   "source": [
    "# Lab | Data Aggregation and Filtering"
   ]
  },
  {
   "cell_type": "markdown",
   "id": "a8f08a52-bec0-439b-99cc-11d3809d8b5d",
   "metadata": {
    "id": "a8f08a52-bec0-439b-99cc-11d3809d8b5d"
   },
   "source": [
    "In this challenge, we will continue to work with customer data from an insurance company. We will use the dataset called marketing_customer_analysis.csv, which can be found at the following link:\n",
    "\n",
    "https://raw.githubusercontent.com/data-bootcamp-v4/data/main/marketing_customer_analysis.csv\n",
    "\n",
    "This dataset contains information such as customer demographics, policy details, vehicle information, and the customer's response to the last marketing campaign. Our goal is to explore and analyze this data by first performing data cleaning, formatting, and structuring."
   ]
  },
  {
   "cell_type": "markdown",
   "id": "9c98ddc5-b041-4c94-ada1-4dfee5c98e50",
   "metadata": {
    "id": "9c98ddc5-b041-4c94-ada1-4dfee5c98e50"
   },
   "source": [
    "1. Create a new DataFrame that only includes customers who have a total_claim_amount greater than $1,000 and have a response of \"Yes\" to the last marketing campaign."
   ]
  },
  {
   "cell_type": "markdown",
   "id": "b9be383e-5165-436e-80c8-57d4c757c8c3",
   "metadata": {
    "id": "b9be383e-5165-436e-80c8-57d4c757c8c3"
   },
   "source": [
    "2. Using the original Dataframe, analyze the average total_claim_amount by each policy type and gender for customers who have responded \"Yes\" to the last marketing campaign. Write your conclusions."
   ]
  },
  {
   "cell_type": "markdown",
   "id": "7050f4ac-53c5-4193-a3c0-8699b87196f0",
   "metadata": {
    "id": "7050f4ac-53c5-4193-a3c0-8699b87196f0"
   },
   "source": [
    "3. Analyze the total number of customers who have policies in each state, and then filter the results to only include states where there are more than 500 customers."
   ]
  },
  {
   "cell_type": "markdown",
   "id": "b60a4443-a1a7-4bbf-b78e-9ccdf9895e0d",
   "metadata": {
    "id": "b60a4443-a1a7-4bbf-b78e-9ccdf9895e0d"
   },
   "source": [
    "4. Find the maximum, minimum, and median customer lifetime value by education level and gender. Write your conclusions."
   ]
  },
  {
   "cell_type": "markdown",
   "id": "b42999f9-311f-481e-ae63-40a5577072c5",
   "metadata": {
    "id": "b42999f9-311f-481e-ae63-40a5577072c5"
   },
   "source": [
    "## Bonus"
   ]
  },
  {
   "cell_type": "markdown",
   "id": "81ff02c5-6584-4f21-a358-b918697c6432",
   "metadata": {
    "id": "81ff02c5-6584-4f21-a358-b918697c6432"
   },
   "source": [
    "5. The marketing team wants to analyze the number of policies sold by state and month. Present the data in a table where the months are arranged as columns and the states are arranged as rows."
   ]
  },
  {
   "cell_type": "markdown",
   "id": "b6aec097-c633-4017-a125-e77a97259cda",
   "metadata": {
    "id": "b6aec097-c633-4017-a125-e77a97259cda"
   },
   "source": [
    "6.  Display a new DataFrame that contains the number of policies sold by month, by state, for the top 3 states with the highest number of policies sold.\n",
    "\n",
    "*Hint:*\n",
    "- *To accomplish this, you will first need to group the data by state and month, then count the number of policies sold for each group. Afterwards, you will need to sort the data by the count of policies sold in descending order.*\n",
    "- *Next, you will select the top 3 states with the highest number of policies sold.*\n",
    "- *Finally, you will create a new DataFrame that contains the number of policies sold by month for each of the top 3 states.*"
   ]
  },
  {
   "cell_type": "markdown",
   "id": "ba975b8a-a2cf-4fbf-9f59-ebc381767009",
   "metadata": {
    "id": "ba975b8a-a2cf-4fbf-9f59-ebc381767009"
   },
   "source": [
    "7. The marketing team wants to analyze the effect of different marketing channels on the customer response rate.\n",
    "\n",
    "Hint: You can use melt to unpivot the data and create a table that shows the customer response rate (those who responded \"Yes\") by marketing channel."
   ]
  },
  {
   "cell_type": "markdown",
   "id": "e4378d94-48fb-4850-a802-b1bc8f427b2d",
   "metadata": {
    "id": "e4378d94-48fb-4850-a802-b1bc8f427b2d"
   },
   "source": [
    "External Resources for Data Filtering: https://towardsdatascience.com/filtering-data-frames-in-pandas-b570b1f834b9"
   ]
  },
  {
   "cell_type": "code",
   "execution_count": 173,
   "id": "449513f4-0459-46a0-a18d-9398d974c9ad",
   "metadata": {
    "id": "449513f4-0459-46a0-a18d-9398d974c9ad"
   },
   "outputs": [
    {
     "data": {
      "text/html": [
       "<div>\n",
       "<style scoped>\n",
       "    .dataframe tbody tr th:only-of-type {\n",
       "        vertical-align: middle;\n",
       "    }\n",
       "\n",
       "    .dataframe tbody tr th {\n",
       "        vertical-align: top;\n",
       "    }\n",
       "\n",
       "    .dataframe thead th {\n",
       "        text-align: right;\n",
       "    }\n",
       "</style>\n",
       "<table border=\"1\" class=\"dataframe\">\n",
       "  <thead>\n",
       "    <tr style=\"text-align: right;\">\n",
       "      <th></th>\n",
       "      <th>Unnamed: 0</th>\n",
       "      <th>Customer</th>\n",
       "      <th>State</th>\n",
       "      <th>Customer Lifetime Value</th>\n",
       "      <th>Response</th>\n",
       "      <th>Coverage</th>\n",
       "      <th>Education</th>\n",
       "      <th>Effective To Date</th>\n",
       "      <th>EmploymentStatus</th>\n",
       "      <th>Gender</th>\n",
       "      <th>...</th>\n",
       "      <th>Number of Open Complaints</th>\n",
       "      <th>Number of Policies</th>\n",
       "      <th>Policy Type</th>\n",
       "      <th>Policy</th>\n",
       "      <th>Renew Offer Type</th>\n",
       "      <th>Sales Channel</th>\n",
       "      <th>Total Claim Amount</th>\n",
       "      <th>Vehicle Class</th>\n",
       "      <th>Vehicle Size</th>\n",
       "      <th>Vehicle Type</th>\n",
       "    </tr>\n",
       "  </thead>\n",
       "  <tbody>\n",
       "    <tr>\n",
       "      <th>0</th>\n",
       "      <td>0</td>\n",
       "      <td>DK49336</td>\n",
       "      <td>Arizona</td>\n",
       "      <td>4809.216960</td>\n",
       "      <td>No</td>\n",
       "      <td>Basic</td>\n",
       "      <td>College</td>\n",
       "      <td>2/18/11</td>\n",
       "      <td>Employed</td>\n",
       "      <td>M</td>\n",
       "      <td>...</td>\n",
       "      <td>0.0</td>\n",
       "      <td>9</td>\n",
       "      <td>Corporate Auto</td>\n",
       "      <td>Corporate L3</td>\n",
       "      <td>Offer3</td>\n",
       "      <td>Agent</td>\n",
       "      <td>292.800000</td>\n",
       "      <td>Four-Door Car</td>\n",
       "      <td>Medsize</td>\n",
       "      <td>NaN</td>\n",
       "    </tr>\n",
       "    <tr>\n",
       "      <th>1</th>\n",
       "      <td>1</td>\n",
       "      <td>KX64629</td>\n",
       "      <td>California</td>\n",
       "      <td>2228.525238</td>\n",
       "      <td>No</td>\n",
       "      <td>Basic</td>\n",
       "      <td>College</td>\n",
       "      <td>1/18/11</td>\n",
       "      <td>Unemployed</td>\n",
       "      <td>F</td>\n",
       "      <td>...</td>\n",
       "      <td>0.0</td>\n",
       "      <td>1</td>\n",
       "      <td>Personal Auto</td>\n",
       "      <td>Personal L3</td>\n",
       "      <td>Offer4</td>\n",
       "      <td>Call Center</td>\n",
       "      <td>744.924331</td>\n",
       "      <td>Four-Door Car</td>\n",
       "      <td>Medsize</td>\n",
       "      <td>NaN</td>\n",
       "    </tr>\n",
       "    <tr>\n",
       "      <th>2</th>\n",
       "      <td>2</td>\n",
       "      <td>LZ68649</td>\n",
       "      <td>Washington</td>\n",
       "      <td>14947.917300</td>\n",
       "      <td>No</td>\n",
       "      <td>Basic</td>\n",
       "      <td>Bachelor</td>\n",
       "      <td>2/10/11</td>\n",
       "      <td>Employed</td>\n",
       "      <td>M</td>\n",
       "      <td>...</td>\n",
       "      <td>0.0</td>\n",
       "      <td>2</td>\n",
       "      <td>Personal Auto</td>\n",
       "      <td>Personal L3</td>\n",
       "      <td>Offer3</td>\n",
       "      <td>Call Center</td>\n",
       "      <td>480.000000</td>\n",
       "      <td>SUV</td>\n",
       "      <td>Medsize</td>\n",
       "      <td>A</td>\n",
       "    </tr>\n",
       "    <tr>\n",
       "      <th>3</th>\n",
       "      <td>3</td>\n",
       "      <td>XL78013</td>\n",
       "      <td>Oregon</td>\n",
       "      <td>22332.439460</td>\n",
       "      <td>Yes</td>\n",
       "      <td>Extended</td>\n",
       "      <td>College</td>\n",
       "      <td>1/11/11</td>\n",
       "      <td>Employed</td>\n",
       "      <td>M</td>\n",
       "      <td>...</td>\n",
       "      <td>0.0</td>\n",
       "      <td>2</td>\n",
       "      <td>Corporate Auto</td>\n",
       "      <td>Corporate L3</td>\n",
       "      <td>Offer2</td>\n",
       "      <td>Branch</td>\n",
       "      <td>484.013411</td>\n",
       "      <td>Four-Door Car</td>\n",
       "      <td>Medsize</td>\n",
       "      <td>A</td>\n",
       "    </tr>\n",
       "    <tr>\n",
       "      <th>4</th>\n",
       "      <td>4</td>\n",
       "      <td>QA50777</td>\n",
       "      <td>Oregon</td>\n",
       "      <td>9025.067525</td>\n",
       "      <td>No</td>\n",
       "      <td>Premium</td>\n",
       "      <td>Bachelor</td>\n",
       "      <td>1/17/11</td>\n",
       "      <td>Medical Leave</td>\n",
       "      <td>F</td>\n",
       "      <td>...</td>\n",
       "      <td>NaN</td>\n",
       "      <td>7</td>\n",
       "      <td>Personal Auto</td>\n",
       "      <td>Personal L2</td>\n",
       "      <td>Offer1</td>\n",
       "      <td>Branch</td>\n",
       "      <td>707.925645</td>\n",
       "      <td>Four-Door Car</td>\n",
       "      <td>Medsize</td>\n",
       "      <td>NaN</td>\n",
       "    </tr>\n",
       "    <tr>\n",
       "      <th>...</th>\n",
       "      <td>...</td>\n",
       "      <td>...</td>\n",
       "      <td>...</td>\n",
       "      <td>...</td>\n",
       "      <td>...</td>\n",
       "      <td>...</td>\n",
       "      <td>...</td>\n",
       "      <td>...</td>\n",
       "      <td>...</td>\n",
       "      <td>...</td>\n",
       "      <td>...</td>\n",
       "      <td>...</td>\n",
       "      <td>...</td>\n",
       "      <td>...</td>\n",
       "      <td>...</td>\n",
       "      <td>...</td>\n",
       "      <td>...</td>\n",
       "      <td>...</td>\n",
       "      <td>...</td>\n",
       "      <td>...</td>\n",
       "      <td>...</td>\n",
       "    </tr>\n",
       "    <tr>\n",
       "      <th>10905</th>\n",
       "      <td>10905</td>\n",
       "      <td>FE99816</td>\n",
       "      <td>Nevada</td>\n",
       "      <td>15563.369440</td>\n",
       "      <td>No</td>\n",
       "      <td>Premium</td>\n",
       "      <td>Bachelor</td>\n",
       "      <td>1/19/11</td>\n",
       "      <td>Unemployed</td>\n",
       "      <td>F</td>\n",
       "      <td>...</td>\n",
       "      <td>NaN</td>\n",
       "      <td>7</td>\n",
       "      <td>Personal Auto</td>\n",
       "      <td>Personal L1</td>\n",
       "      <td>Offer3</td>\n",
       "      <td>Web</td>\n",
       "      <td>1214.400000</td>\n",
       "      <td>Luxury Car</td>\n",
       "      <td>Medsize</td>\n",
       "      <td>A</td>\n",
       "    </tr>\n",
       "    <tr>\n",
       "      <th>10906</th>\n",
       "      <td>10906</td>\n",
       "      <td>KX53892</td>\n",
       "      <td>Oregon</td>\n",
       "      <td>5259.444853</td>\n",
       "      <td>No</td>\n",
       "      <td>Basic</td>\n",
       "      <td>College</td>\n",
       "      <td>1/6/11</td>\n",
       "      <td>Employed</td>\n",
       "      <td>F</td>\n",
       "      <td>...</td>\n",
       "      <td>0.0</td>\n",
       "      <td>6</td>\n",
       "      <td>Personal Auto</td>\n",
       "      <td>Personal L3</td>\n",
       "      <td>Offer2</td>\n",
       "      <td>Branch</td>\n",
       "      <td>273.018929</td>\n",
       "      <td>Four-Door Car</td>\n",
       "      <td>Medsize</td>\n",
       "      <td>A</td>\n",
       "    </tr>\n",
       "    <tr>\n",
       "      <th>10907</th>\n",
       "      <td>10907</td>\n",
       "      <td>TL39050</td>\n",
       "      <td>Arizona</td>\n",
       "      <td>23893.304100</td>\n",
       "      <td>No</td>\n",
       "      <td>Extended</td>\n",
       "      <td>Bachelor</td>\n",
       "      <td>2/6/11</td>\n",
       "      <td>Employed</td>\n",
       "      <td>F</td>\n",
       "      <td>...</td>\n",
       "      <td>0.0</td>\n",
       "      <td>2</td>\n",
       "      <td>Corporate Auto</td>\n",
       "      <td>Corporate L3</td>\n",
       "      <td>Offer1</td>\n",
       "      <td>Web</td>\n",
       "      <td>381.306996</td>\n",
       "      <td>Luxury SUV</td>\n",
       "      <td>Medsize</td>\n",
       "      <td>NaN</td>\n",
       "    </tr>\n",
       "    <tr>\n",
       "      <th>10908</th>\n",
       "      <td>10908</td>\n",
       "      <td>WA60547</td>\n",
       "      <td>California</td>\n",
       "      <td>11971.977650</td>\n",
       "      <td>No</td>\n",
       "      <td>Premium</td>\n",
       "      <td>College</td>\n",
       "      <td>2/13/11</td>\n",
       "      <td>Employed</td>\n",
       "      <td>F</td>\n",
       "      <td>...</td>\n",
       "      <td>4.0</td>\n",
       "      <td>6</td>\n",
       "      <td>Personal Auto</td>\n",
       "      <td>Personal L1</td>\n",
       "      <td>Offer1</td>\n",
       "      <td>Branch</td>\n",
       "      <td>618.288849</td>\n",
       "      <td>SUV</td>\n",
       "      <td>Medsize</td>\n",
       "      <td>A</td>\n",
       "    </tr>\n",
       "    <tr>\n",
       "      <th>10909</th>\n",
       "      <td>10909</td>\n",
       "      <td>IV32877</td>\n",
       "      <td>NaN</td>\n",
       "      <td>6857.519928</td>\n",
       "      <td>NaN</td>\n",
       "      <td>Basic</td>\n",
       "      <td>Bachelor</td>\n",
       "      <td>1/8/11</td>\n",
       "      <td>Unemployed</td>\n",
       "      <td>M</td>\n",
       "      <td>...</td>\n",
       "      <td>0.0</td>\n",
       "      <td>3</td>\n",
       "      <td>Personal Auto</td>\n",
       "      <td>Personal L1</td>\n",
       "      <td>Offer4</td>\n",
       "      <td>Web</td>\n",
       "      <td>1021.719397</td>\n",
       "      <td>SUV</td>\n",
       "      <td>Medsize</td>\n",
       "      <td>NaN</td>\n",
       "    </tr>\n",
       "  </tbody>\n",
       "</table>\n",
       "<p>10910 rows × 26 columns</p>\n",
       "</div>"
      ],
      "text/plain": [
       "       Unnamed: 0 Customer       State  Customer Lifetime Value Response  \\\n",
       "0               0  DK49336     Arizona              4809.216960       No   \n",
       "1               1  KX64629  California              2228.525238       No   \n",
       "2               2  LZ68649  Washington             14947.917300       No   \n",
       "3               3  XL78013      Oregon             22332.439460      Yes   \n",
       "4               4  QA50777      Oregon              9025.067525       No   \n",
       "...           ...      ...         ...                      ...      ...   \n",
       "10905       10905  FE99816      Nevada             15563.369440       No   \n",
       "10906       10906  KX53892      Oregon              5259.444853       No   \n",
       "10907       10907  TL39050     Arizona             23893.304100       No   \n",
       "10908       10908  WA60547  California             11971.977650       No   \n",
       "10909       10909  IV32877         NaN              6857.519928      NaN   \n",
       "\n",
       "       Coverage Education Effective To Date EmploymentStatus Gender  ...  \\\n",
       "0         Basic   College           2/18/11         Employed      M  ...   \n",
       "1         Basic   College           1/18/11       Unemployed      F  ...   \n",
       "2         Basic  Bachelor           2/10/11         Employed      M  ...   \n",
       "3      Extended   College           1/11/11         Employed      M  ...   \n",
       "4       Premium  Bachelor           1/17/11    Medical Leave      F  ...   \n",
       "...         ...       ...               ...              ...    ...  ...   \n",
       "10905   Premium  Bachelor           1/19/11       Unemployed      F  ...   \n",
       "10906     Basic   College            1/6/11         Employed      F  ...   \n",
       "10907  Extended  Bachelor            2/6/11         Employed      F  ...   \n",
       "10908   Premium   College           2/13/11         Employed      F  ...   \n",
       "10909     Basic  Bachelor            1/8/11       Unemployed      M  ...   \n",
       "\n",
       "       Number of Open Complaints Number of Policies     Policy Type  \\\n",
       "0                            0.0                  9  Corporate Auto   \n",
       "1                            0.0                  1   Personal Auto   \n",
       "2                            0.0                  2   Personal Auto   \n",
       "3                            0.0                  2  Corporate Auto   \n",
       "4                            NaN                  7   Personal Auto   \n",
       "...                          ...                ...             ...   \n",
       "10905                        NaN                  7   Personal Auto   \n",
       "10906                        0.0                  6   Personal Auto   \n",
       "10907                        0.0                  2  Corporate Auto   \n",
       "10908                        4.0                  6   Personal Auto   \n",
       "10909                        0.0                  3   Personal Auto   \n",
       "\n",
       "             Policy  Renew Offer Type  Sales Channel  Total Claim Amount  \\\n",
       "0      Corporate L3            Offer3          Agent          292.800000   \n",
       "1       Personal L3            Offer4    Call Center          744.924331   \n",
       "2       Personal L3            Offer3    Call Center          480.000000   \n",
       "3      Corporate L3            Offer2         Branch          484.013411   \n",
       "4       Personal L2            Offer1         Branch          707.925645   \n",
       "...             ...               ...            ...                 ...   \n",
       "10905   Personal L1            Offer3            Web         1214.400000   \n",
       "10906   Personal L3            Offer2         Branch          273.018929   \n",
       "10907  Corporate L3            Offer1            Web          381.306996   \n",
       "10908   Personal L1            Offer1         Branch          618.288849   \n",
       "10909   Personal L1            Offer4            Web         1021.719397   \n",
       "\n",
       "       Vehicle Class Vehicle Size Vehicle Type  \n",
       "0      Four-Door Car      Medsize          NaN  \n",
       "1      Four-Door Car      Medsize          NaN  \n",
       "2                SUV      Medsize            A  \n",
       "3      Four-Door Car      Medsize            A  \n",
       "4      Four-Door Car      Medsize          NaN  \n",
       "...              ...          ...          ...  \n",
       "10905     Luxury Car      Medsize            A  \n",
       "10906  Four-Door Car      Medsize            A  \n",
       "10907     Luxury SUV      Medsize          NaN  \n",
       "10908            SUV      Medsize            A  \n",
       "10909            SUV      Medsize          NaN  \n",
       "\n",
       "[10910 rows x 26 columns]"
      ]
     },
     "execution_count": 173,
     "metadata": {},
     "output_type": "execute_result"
    }
   ],
   "source": [
    "import pandas as pd\n",
    "\n",
    "url = \"https://raw.githubusercontent.com/data-bootcamp-v4/data/main/marketing_customer_analysis.csv\"\n",
    "df = pd.read_csv(url)\n",
    "df"
   ]
  },
  {
   "cell_type": "code",
   "execution_count": 175,
   "id": "09067a58-1541-4760-b387-b27bea2ef606",
   "metadata": {},
   "outputs": [
    {
     "data": {
      "text/plain": [
       "Unnamed: 0                          0\n",
       "Customer                            0\n",
       "State                             631\n",
       "Customer Lifetime Value             0\n",
       "Response                          631\n",
       "Coverage                            0\n",
       "Education                           0\n",
       "Effective To Date                   0\n",
       "EmploymentStatus                    0\n",
       "Gender                              0\n",
       "Income                              0\n",
       "Location Code                       0\n",
       "Marital Status                      0\n",
       "Monthly Premium Auto                0\n",
       "Months Since Last Claim           633\n",
       "Months Since Policy Inception       0\n",
       "Number of Open Complaints         633\n",
       "Number of Policies                  0\n",
       "Policy Type                         0\n",
       "Policy                              0\n",
       "Renew Offer Type                    0\n",
       "Sales Channel                       0\n",
       "Total Claim Amount                  0\n",
       "Vehicle Class                     622\n",
       "Vehicle Size                      622\n",
       "Vehicle Type                     5482\n",
       "dtype: int64"
      ]
     },
     "execution_count": 175,
     "metadata": {},
     "output_type": "execute_result"
    }
   ],
   "source": [
    "df.isnull().sum()"
   ]
  },
  {
   "cell_type": "code",
   "execution_count": 177,
   "id": "dd952c75-b37d-4396-a05c-80b0b8805a7f",
   "metadata": {},
   "outputs": [
    {
     "data": {
      "text/plain": [
       "Index(['unnamed:_0', 'customer', 'state', 'customer_lifetime_value',\n",
       "       'response', 'coverage', 'education', 'effective_to_date',\n",
       "       'employmentstatus', 'gender', 'income', 'location_code',\n",
       "       'marital_status', 'monthly_premium_auto', 'months_since_last_claim',\n",
       "       'months_since_policy_inception', 'number_of_open_complaints',\n",
       "       'number_of_policies', 'policy_type', 'policy', 'renew_offer_type',\n",
       "       'sales_channel', 'total_claim_amount', 'vehicle_class', 'vehicle_size',\n",
       "       'vehicle_type'],\n",
       "      dtype='object')"
      ]
     },
     "execution_count": 177,
     "metadata": {},
     "output_type": "execute_result"
    }
   ],
   "source": [
    "#Rename columns\n",
    "df.rename(columns=lambda x: x.lower().replace(' ', '_'), inplace=True)\n",
    "df.columns"
   ]
  },
  {
   "cell_type": "code",
   "execution_count": 179,
   "id": "9f2e7b54-0b8f-4c6a-a719-821c7637016f",
   "metadata": {},
   "outputs": [
    {
     "data": {
      "text/plain": [
       "state\n",
       "California    3552\n",
       "Oregon        2909\n",
       "Arizona       1937\n",
       "Nevada         993\n",
       "Washington     888\n",
       "Name: count, dtype: int64"
      ]
     },
     "execution_count": 179,
     "metadata": {},
     "output_type": "execute_result"
    }
   ],
   "source": [
    "df['state'].value_counts()"
   ]
  },
  {
   "cell_type": "code",
   "execution_count": 181,
   "id": "2b9c90ae-92b8-4c6d-a7b1-a4ef3e4b85eb",
   "metadata": {},
   "outputs": [
    {
     "data": {
      "text/html": [
       "<div>\n",
       "<style scoped>\n",
       "    .dataframe tbody tr th:only-of-type {\n",
       "        vertical-align: middle;\n",
       "    }\n",
       "\n",
       "    .dataframe tbody tr th {\n",
       "        vertical-align: top;\n",
       "    }\n",
       "\n",
       "    .dataframe thead th {\n",
       "        text-align: right;\n",
       "    }\n",
       "</style>\n",
       "<table border=\"1\" class=\"dataframe\">\n",
       "  <thead>\n",
       "    <tr style=\"text-align: right;\">\n",
       "      <th></th>\n",
       "      <th>unnamed:_0</th>\n",
       "      <th>customer</th>\n",
       "      <th>state</th>\n",
       "      <th>customer_lifetime_value</th>\n",
       "      <th>response</th>\n",
       "      <th>coverage</th>\n",
       "      <th>education</th>\n",
       "      <th>effective_to_date</th>\n",
       "      <th>employmentstatus</th>\n",
       "      <th>gender</th>\n",
       "      <th>...</th>\n",
       "      <th>number_of_open_complaints</th>\n",
       "      <th>number_of_policies</th>\n",
       "      <th>policy_type</th>\n",
       "      <th>policy</th>\n",
       "      <th>renew_offer_type</th>\n",
       "      <th>sales_channel</th>\n",
       "      <th>total_claim_amount</th>\n",
       "      <th>vehicle_class</th>\n",
       "      <th>vehicle_size</th>\n",
       "      <th>vehicle_type</th>\n",
       "    </tr>\n",
       "  </thead>\n",
       "  <tbody>\n",
       "  </tbody>\n",
       "</table>\n",
       "<p>0 rows × 26 columns</p>\n",
       "</div>"
      ],
      "text/plain": [
       "Empty DataFrame\n",
       "Columns: [unnamed:_0, customer, state, customer_lifetime_value, response, coverage, education, effective_to_date, employmentstatus, gender, income, location_code, marital_status, monthly_premium_auto, months_since_last_claim, months_since_policy_inception, number_of_open_complaints, number_of_policies, policy_type, policy, renew_offer_type, sales_channel, total_claim_amount, vehicle_class, vehicle_size, vehicle_type]\n",
       "Index: []\n",
       "\n",
       "[0 rows x 26 columns]"
      ]
     },
     "execution_count": 181,
     "metadata": {},
     "output_type": "execute_result"
    }
   ],
   "source": [
    "df[df.duplicated(keep=False)]"
   ]
  },
  {
   "cell_type": "code",
   "execution_count": 183,
   "id": "e9fc8893-c275-4be7-8621-f04bb3bd1b1b",
   "metadata": {},
   "outputs": [
    {
     "data": {
      "text/plain": [
       "unnamed:_0                         int64\n",
       "customer                          object\n",
       "state                             object\n",
       "customer_lifetime_value          float64\n",
       "response                          object\n",
       "coverage                          object\n",
       "education                         object\n",
       "effective_to_date                 object\n",
       "employmentstatus                  object\n",
       "gender                            object\n",
       "income                             int64\n",
       "location_code                     object\n",
       "marital_status                    object\n",
       "monthly_premium_auto               int64\n",
       "months_since_last_claim          float64\n",
       "months_since_policy_inception      int64\n",
       "number_of_open_complaints        float64\n",
       "number_of_policies                 int64\n",
       "policy_type                       object\n",
       "policy                            object\n",
       "renew_offer_type                  object\n",
       "sales_channel                     object\n",
       "total_claim_amount               float64\n",
       "vehicle_class                     object\n",
       "vehicle_size                      object\n",
       "vehicle_type                      object\n",
       "dtype: object"
      ]
     },
     "execution_count": 183,
     "metadata": {},
     "output_type": "execute_result"
    }
   ],
   "source": [
    "df.dtypes"
   ]
  },
  {
   "cell_type": "code",
   "execution_count": 185,
   "id": "5f1167db-57e0-4aba-b980-c893c8531d12",
   "metadata": {},
   "outputs": [
    {
     "data": {
      "text/plain": [
       "state\n",
       "California    3552\n",
       "Oregon        2909\n",
       "Arizona       1937\n",
       "Nevada         993\n",
       "Washington     888\n",
       "N/A            631\n",
       "Name: count, dtype: int64"
      ]
     },
     "execution_count": 185,
     "metadata": {},
     "output_type": "execute_result"
    }
   ],
   "source": [
    "df['state'] = df['state'].fillna(\"N/A\")\n",
    "df['state'].value_counts()"
   ]
  },
  {
   "cell_type": "code",
   "execution_count": 187,
   "id": "229eead2-166d-40ce-805b-442303ba0d7c",
   "metadata": {},
   "outputs": [
    {
     "data": {
      "text/plain": [
       "response\n",
       "No     8813\n",
       "Yes    1466\n",
       "Name: count, dtype: int64"
      ]
     },
     "execution_count": 187,
     "metadata": {},
     "output_type": "execute_result"
    }
   ],
   "source": [
    "df['response'].value_counts()"
   ]
  },
  {
   "cell_type": "code",
   "execution_count": 189,
   "id": "3d08c6b5-0a79-475e-971d-93bb79299e99",
   "metadata": {},
   "outputs": [
    {
     "data": {
      "text/plain": [
       "response\n",
       "No     8813\n",
       "Yes    1466\n",
       "N/A     631\n",
       "Name: count, dtype: int64"
      ]
     },
     "execution_count": 189,
     "metadata": {},
     "output_type": "execute_result"
    }
   ],
   "source": [
    "df['response'] = df['response'].fillna(\"N/A\")\n",
    "df['response'].value_counts()"
   ]
  },
  {
   "cell_type": "code",
   "execution_count": 191,
   "id": "32d8c966-39ff-4bb4-a841-58abfd052d31",
   "metadata": {},
   "outputs": [
    {
     "data": {
      "text/plain": [
       "months_since_last_claim\n",
       "3.0     426\n",
       "6.0     394\n",
       "1.0     386\n",
       "7.0     378\n",
       "4.0     373\n",
       "2.0     368\n",
       "5.0     355\n",
       "0.0     354\n",
       "10.0    346\n",
       "16.0    333\n",
       "11.0    331\n",
       "15.0    323\n",
       "13.0    320\n",
       "8.0     315\n",
       "12.0    307\n",
       "17.0    299\n",
       "14.0    299\n",
       "9.0     277\n",
       "23.0    276\n",
       "19.0    276\n",
       "25.0    269\n",
       "21.0    267\n",
       "18.0    257\n",
       "20.0    254\n",
       "22.0    246\n",
       "24.0    237\n",
       "29.0    234\n",
       "28.0    227\n",
       "31.0    221\n",
       "26.0    211\n",
       "27.0    208\n",
       "30.0    201\n",
       "34.0    199\n",
       "33.0    198\n",
       "35.0    157\n",
       "32.0    155\n",
       "Name: count, dtype: int64"
      ]
     },
     "execution_count": 191,
     "metadata": {},
     "output_type": "execute_result"
    }
   ],
   "source": [
    "df['months_since_last_claim'].value_counts()"
   ]
  },
  {
   "cell_type": "code",
   "execution_count": 193,
   "id": "67f9948a-eabe-437f-bffb-a1562348c219",
   "metadata": {},
   "outputs": [
    {
     "name": "stderr",
     "output_type": "stream",
     "text": [
      "C:\\Users\\gebruiker\\AppData\\Local\\Temp\\ipykernel_4272\\413398542.py:1: FutureWarning: Series.fillna with 'method' is deprecated and will raise in a future version. Use obj.ffill() or obj.bfill() instead.\n",
      "  df['months_since_last_claim'] = df['months_since_last_claim'].fillna(method='ffill')\n"
     ]
    },
    {
     "data": {
      "text/plain": [
       "months_since_last_claim\n",
       "3.0     455\n",
       "6.0     412\n",
       "7.0     407\n",
       "1.0     406\n",
       "4.0     396\n",
       "2.0     396\n",
       "5.0     379\n",
       "0.0     373\n",
       "10.0    364\n",
       "11.0    351\n",
       "16.0    350\n",
       "15.0    345\n",
       "8.0     345\n",
       "13.0    337\n",
       "12.0    333\n",
       "17.0    318\n",
       "14.0    315\n",
       "23.0    295\n",
       "9.0     295\n",
       "19.0    290\n",
       "25.0    283\n",
       "21.0    280\n",
       "18.0    279\n",
       "20.0    267\n",
       "22.0    259\n",
       "29.0    250\n",
       "24.0    245\n",
       "31.0    238\n",
       "28.0    237\n",
       "26.0    218\n",
       "27.0    218\n",
       "34.0    215\n",
       "33.0    215\n",
       "30.0    207\n",
       "32.0    170\n",
       "35.0    167\n",
       "Name: count, dtype: int64"
      ]
     },
     "execution_count": 193,
     "metadata": {},
     "output_type": "execute_result"
    }
   ],
   "source": [
    "df['months_since_last_claim'] = df['months_since_last_claim'].fillna(method='ffill')\n",
    "df['months_since_last_claim'].value_counts()"
   ]
  },
  {
   "cell_type": "code",
   "execution_count": 195,
   "id": "120fe450-a3cb-46e9-8e86-bc857771d3ef",
   "metadata": {},
   "outputs": [
    {
     "data": {
      "text/plain": [
       "number_of_open_complaints\n",
       "0.0    8160\n",
       "1.0    1145\n",
       "2.0     414\n",
       "3.0     324\n",
       "4.0     166\n",
       "5.0      68\n",
       "Name: count, dtype: int64"
      ]
     },
     "execution_count": 195,
     "metadata": {},
     "output_type": "execute_result"
    }
   ],
   "source": [
    "df['number_of_open_complaints'].value_counts()"
   ]
  },
  {
   "cell_type": "code",
   "execution_count": 197,
   "id": "3e236c7e-1c96-4313-b0ca-f171a6721417",
   "metadata": {},
   "outputs": [
    {
     "data": {
      "text/plain": [
       "number_of_open_complaints\n",
       "0.0    8793\n",
       "1.0    1145\n",
       "2.0     414\n",
       "3.0     324\n",
       "4.0     166\n",
       "5.0      68\n",
       "Name: count, dtype: int64"
      ]
     },
     "execution_count": 197,
     "metadata": {},
     "output_type": "execute_result"
    }
   ],
   "source": [
    "df['number_of_open_complaints'] = df['number_of_open_complaints'].fillna(0.0)\n",
    "df['number_of_open_complaints'].value_counts()"
   ]
  },
  {
   "cell_type": "code",
   "execution_count": 199,
   "id": "243f1315-e6d2-48fd-b8eb-c1846b9ea0ab",
   "metadata": {},
   "outputs": [
    {
     "data": {
      "text/plain": [
       "vehicle_class\n",
       "Four-Door Car    5212\n",
       "Two-Door Car     2118\n",
       "SUV              2012\n",
       "Sports Car        550\n",
       "Luxury SUV        208\n",
       "Luxury Car        188\n",
       "Name: count, dtype: int64"
      ]
     },
     "execution_count": 199,
     "metadata": {},
     "output_type": "execute_result"
    }
   ],
   "source": [
    "df['vehicle_class'].value_counts()"
   ]
  },
  {
   "cell_type": "code",
   "execution_count": 201,
   "id": "b6b3bba7-9216-43d4-b0c7-c6be4b9f40b9",
   "metadata": {},
   "outputs": [
    {
     "data": {
      "text/plain": [
       "vehicle_class\n",
       "Four-Door Car    5212\n",
       "Two-Door Car     2118\n",
       "SUV              2012\n",
       "luxury_car        946\n",
       "Name: count, dtype: int64"
      ]
     },
     "execution_count": 201,
     "metadata": {},
     "output_type": "execute_result"
    }
   ],
   "source": [
    "luxury_car = [\"Sports Car\", \"Luxury SUV\", \"Luxury Car\"]\n",
    "df[\"vehicle_class\"] = df[\"vehicle_class\"].apply(lambda x: \"luxury_car\" if x in luxury_car else x)\n",
    "df.vehicle_class.value_counts()"
   ]
  },
  {
   "cell_type": "code",
   "execution_count": 203,
   "id": "5c495dc0-39f3-4156-ae54-ad59b5c65a41",
   "metadata": {},
   "outputs": [
    {
     "data": {
      "text/plain": [
       "vehicle_class\n",
       "Four-Door Car    5212\n",
       "Two-Door Car     2118\n",
       "SUV              2012\n",
       "luxury_car        946\n",
       "N/A               622\n",
       "Name: count, dtype: int64"
      ]
     },
     "execution_count": 203,
     "metadata": {},
     "output_type": "execute_result"
    }
   ],
   "source": [
    "df['vehicle_class'] = df['vehicle_class'].fillna(\"N/A\")\n",
    "df['vehicle_class'].value_counts()"
   ]
  },
  {
   "cell_type": "code",
   "execution_count": 205,
   "id": "64c29b51-07ba-49f5-89d4-376739954a6e",
   "metadata": {},
   "outputs": [
    {
     "data": {
      "text/plain": [
       "vehicle_size\n",
       "Medsize    7251\n",
       "Small      1966\n",
       "Large      1071\n",
       "Name: count, dtype: int64"
      ]
     },
     "execution_count": 205,
     "metadata": {},
     "output_type": "execute_result"
    }
   ],
   "source": [
    "df['vehicle_size'].value_counts()"
   ]
  },
  {
   "cell_type": "code",
   "execution_count": 207,
   "id": "90045564-d23a-42bf-9884-eca8385f0c66",
   "metadata": {},
   "outputs": [
    {
     "data": {
      "text/plain": [
       "vehicle_size\n",
       "Medsize    7251\n",
       "Small      1966\n",
       "Large      1071\n",
       "N/A         622\n",
       "Name: count, dtype: int64"
      ]
     },
     "execution_count": 207,
     "metadata": {},
     "output_type": "execute_result"
    }
   ],
   "source": [
    "df['vehicle_size'] = df['vehicle_size'].fillna(\"N/A\")\n",
    "df['vehicle_size'].value_counts()"
   ]
  },
  {
   "cell_type": "code",
   "execution_count": 209,
   "id": "ae2a8034-cb59-4a6a-ac3e-acda11b09340",
   "metadata": {},
   "outputs": [
    {
     "data": {
      "text/plain": [
       "vehicle_type\n",
       "A    5428\n",
       "Name: count, dtype: int64"
      ]
     },
     "execution_count": 209,
     "metadata": {},
     "output_type": "execute_result"
    }
   ],
   "source": [
    "df['vehicle_type'].value_counts()"
   ]
  },
  {
   "cell_type": "code",
   "execution_count": 211,
   "id": "8be3ebcf-4841-4afa-9fe9-8699f5e7cc36",
   "metadata": {},
   "outputs": [
    {
     "data": {
      "text/plain": [
       "vehicle_type\n",
       "A    10910\n",
       "Name: count, dtype: int64"
      ]
     },
     "execution_count": 211,
     "metadata": {},
     "output_type": "execute_result"
    }
   ],
   "source": [
    "df['vehicle_type'] = df['vehicle_type'].fillna(\"A\")\n",
    "df['vehicle_type'].value_counts()"
   ]
  },
  {
   "cell_type": "code",
   "execution_count": 213,
   "id": "b2e10e05-5bf1-4f4b-b47e-b3a47a00fb69",
   "metadata": {},
   "outputs": [
    {
     "data": {
      "text/plain": [
       "unnamed:_0                       0\n",
       "customer                         0\n",
       "state                            0\n",
       "customer_lifetime_value          0\n",
       "response                         0\n",
       "coverage                         0\n",
       "education                        0\n",
       "effective_to_date                0\n",
       "employmentstatus                 0\n",
       "gender                           0\n",
       "income                           0\n",
       "location_code                    0\n",
       "marital_status                   0\n",
       "monthly_premium_auto             0\n",
       "months_since_last_claim          0\n",
       "months_since_policy_inception    0\n",
       "number_of_open_complaints        0\n",
       "number_of_policies               0\n",
       "policy_type                      0\n",
       "policy                           0\n",
       "renew_offer_type                 0\n",
       "sales_channel                    0\n",
       "total_claim_amount               0\n",
       "vehicle_class                    0\n",
       "vehicle_size                     0\n",
       "vehicle_type                     0\n",
       "dtype: int64"
      ]
     },
     "execution_count": 213,
     "metadata": {},
     "output_type": "execute_result"
    }
   ],
   "source": [
    "df.isnull().sum()"
   ]
  },
  {
   "cell_type": "code",
   "execution_count": 215,
   "id": "c7e13904-0fcc-4640-8bb0-6f367863bd73",
   "metadata": {},
   "outputs": [],
   "source": [
    "df.reset_index(drop=True, inplace=True)"
   ]
  },
  {
   "cell_type": "code",
   "execution_count": 221,
   "id": "429da14d-295b-4003-b70f-961b0819a38f",
   "metadata": {},
   "outputs": [
    {
     "data": {
      "text/html": [
       "<div>\n",
       "<style scoped>\n",
       "    .dataframe tbody tr th:only-of-type {\n",
       "        vertical-align: middle;\n",
       "    }\n",
       "\n",
       "    .dataframe tbody tr th {\n",
       "        vertical-align: top;\n",
       "    }\n",
       "\n",
       "    .dataframe thead th {\n",
       "        text-align: right;\n",
       "    }\n",
       "</style>\n",
       "<table border=\"1\" class=\"dataframe\">\n",
       "  <thead>\n",
       "    <tr style=\"text-align: right;\">\n",
       "      <th></th>\n",
       "      <th>unnamed:_0</th>\n",
       "      <th>customer</th>\n",
       "      <th>state</th>\n",
       "      <th>customer_lifetime_value</th>\n",
       "      <th>response</th>\n",
       "      <th>coverage</th>\n",
       "      <th>education</th>\n",
       "      <th>effective_to_date</th>\n",
       "      <th>employmentstatus</th>\n",
       "      <th>gender</th>\n",
       "      <th>...</th>\n",
       "      <th>number_of_open_complaints</th>\n",
       "      <th>number_of_policies</th>\n",
       "      <th>policy_type</th>\n",
       "      <th>policy</th>\n",
       "      <th>renew_offer_type</th>\n",
       "      <th>sales_channel</th>\n",
       "      <th>total_claim_amount</th>\n",
       "      <th>vehicle_class</th>\n",
       "      <th>vehicle_size</th>\n",
       "      <th>vehicle_type</th>\n",
       "    </tr>\n",
       "  </thead>\n",
       "  <tbody>\n",
       "    <tr>\n",
       "      <th>189</th>\n",
       "      <td>189</td>\n",
       "      <td>OK31456</td>\n",
       "      <td>California</td>\n",
       "      <td>11009.130490</td>\n",
       "      <td>Yes</td>\n",
       "      <td>Premium</td>\n",
       "      <td>Bachelor</td>\n",
       "      <td>1/24/11</td>\n",
       "      <td>Employed</td>\n",
       "      <td>F</td>\n",
       "      <td>...</td>\n",
       "      <td>0.0</td>\n",
       "      <td>1</td>\n",
       "      <td>Corporate Auto</td>\n",
       "      <td>Corporate L3</td>\n",
       "      <td>Offer2</td>\n",
       "      <td>Agent</td>\n",
       "      <td>1358.400000</td>\n",
       "      <td>luxury_car</td>\n",
       "      <td>Medsize</td>\n",
       "      <td>A</td>\n",
       "    </tr>\n",
       "    <tr>\n",
       "      <th>236</th>\n",
       "      <td>236</td>\n",
       "      <td>YJ16163</td>\n",
       "      <td>Oregon</td>\n",
       "      <td>11009.130490</td>\n",
       "      <td>Yes</td>\n",
       "      <td>Premium</td>\n",
       "      <td>Bachelor</td>\n",
       "      <td>1/24/11</td>\n",
       "      <td>Employed</td>\n",
       "      <td>F</td>\n",
       "      <td>...</td>\n",
       "      <td>0.0</td>\n",
       "      <td>1</td>\n",
       "      <td>Special Auto</td>\n",
       "      <td>Special L3</td>\n",
       "      <td>Offer2</td>\n",
       "      <td>Agent</td>\n",
       "      <td>1358.400000</td>\n",
       "      <td>luxury_car</td>\n",
       "      <td>Medsize</td>\n",
       "      <td>A</td>\n",
       "    </tr>\n",
       "    <tr>\n",
       "      <th>419</th>\n",
       "      <td>419</td>\n",
       "      <td>GW43195</td>\n",
       "      <td>Oregon</td>\n",
       "      <td>25807.063000</td>\n",
       "      <td>Yes</td>\n",
       "      <td>Extended</td>\n",
       "      <td>College</td>\n",
       "      <td>2/13/11</td>\n",
       "      <td>Employed</td>\n",
       "      <td>F</td>\n",
       "      <td>...</td>\n",
       "      <td>1.0</td>\n",
       "      <td>2</td>\n",
       "      <td>Personal Auto</td>\n",
       "      <td>Personal L2</td>\n",
       "      <td>Offer1</td>\n",
       "      <td>Branch</td>\n",
       "      <td>1027.200000</td>\n",
       "      <td>luxury_car</td>\n",
       "      <td>Small</td>\n",
       "      <td>A</td>\n",
       "    </tr>\n",
       "    <tr>\n",
       "      <th>442</th>\n",
       "      <td>442</td>\n",
       "      <td>IP94270</td>\n",
       "      <td>Arizona</td>\n",
       "      <td>13736.132500</td>\n",
       "      <td>Yes</td>\n",
       "      <td>Premium</td>\n",
       "      <td>Master</td>\n",
       "      <td>2/13/11</td>\n",
       "      <td>Disabled</td>\n",
       "      <td>F</td>\n",
       "      <td>...</td>\n",
       "      <td>0.0</td>\n",
       "      <td>8</td>\n",
       "      <td>Personal Auto</td>\n",
       "      <td>Personal L2</td>\n",
       "      <td>Offer1</td>\n",
       "      <td>Web</td>\n",
       "      <td>1261.319869</td>\n",
       "      <td>SUV</td>\n",
       "      <td>Medsize</td>\n",
       "      <td>A</td>\n",
       "    </tr>\n",
       "    <tr>\n",
       "      <th>587</th>\n",
       "      <td>587</td>\n",
       "      <td>FJ28407</td>\n",
       "      <td>California</td>\n",
       "      <td>5619.689084</td>\n",
       "      <td>Yes</td>\n",
       "      <td>Premium</td>\n",
       "      <td>High School or Below</td>\n",
       "      <td>1/26/11</td>\n",
       "      <td>Unemployed</td>\n",
       "      <td>M</td>\n",
       "      <td>...</td>\n",
       "      <td>0.0</td>\n",
       "      <td>1</td>\n",
       "      <td>Personal Auto</td>\n",
       "      <td>Personal L1</td>\n",
       "      <td>Offer2</td>\n",
       "      <td>Web</td>\n",
       "      <td>1027.000029</td>\n",
       "      <td>SUV</td>\n",
       "      <td>Medsize</td>\n",
       "      <td>A</td>\n",
       "    </tr>\n",
       "  </tbody>\n",
       "</table>\n",
       "<p>5 rows × 26 columns</p>\n",
       "</div>"
      ],
      "text/plain": [
       "     unnamed:_0 customer       state  customer_lifetime_value response  \\\n",
       "189         189  OK31456  California             11009.130490      Yes   \n",
       "236         236  YJ16163      Oregon             11009.130490      Yes   \n",
       "419         419  GW43195      Oregon             25807.063000      Yes   \n",
       "442         442  IP94270     Arizona             13736.132500      Yes   \n",
       "587         587  FJ28407  California              5619.689084      Yes   \n",
       "\n",
       "     coverage             education effective_to_date employmentstatus gender  \\\n",
       "189   Premium              Bachelor           1/24/11         Employed      F   \n",
       "236   Premium              Bachelor           1/24/11         Employed      F   \n",
       "419  Extended               College           2/13/11         Employed      F   \n",
       "442   Premium                Master           2/13/11         Disabled      F   \n",
       "587   Premium  High School or Below           1/26/11       Unemployed      M   \n",
       "\n",
       "     ...  number_of_open_complaints number_of_policies     policy_type  \\\n",
       "189  ...                        0.0                  1  Corporate Auto   \n",
       "236  ...                        0.0                  1    Special Auto   \n",
       "419  ...                        1.0                  2   Personal Auto   \n",
       "442  ...                        0.0                  8   Personal Auto   \n",
       "587  ...                        0.0                  1   Personal Auto   \n",
       "\n",
       "           policy  renew_offer_type  sales_channel  total_claim_amount  \\\n",
       "189  Corporate L3            Offer2          Agent         1358.400000   \n",
       "236    Special L3            Offer2          Agent         1358.400000   \n",
       "419   Personal L2            Offer1         Branch         1027.200000   \n",
       "442   Personal L2            Offer1            Web         1261.319869   \n",
       "587   Personal L1            Offer2            Web         1027.000029   \n",
       "\n",
       "     vehicle_class vehicle_size vehicle_type  \n",
       "189     luxury_car      Medsize            A  \n",
       "236     luxury_car      Medsize            A  \n",
       "419     luxury_car        Small            A  \n",
       "442            SUV      Medsize            A  \n",
       "587            SUV      Medsize            A  \n",
       "\n",
       "[5 rows x 26 columns]"
      ]
     },
     "execution_count": 221,
     "metadata": {},
     "output_type": "execute_result"
    }
   ],
   "source": [
    "# Create a new DataFrame that only includes customers who have a total_claim_amount greater than $1,000 and have a response of \"Yes\" to the last marketing campaign.\n",
    "df_claim = df[(df['total_claim_amount'] > 1000) & (df['response'] == 'Yes')]\n",
    "df_claim.head()"
   ]
  },
  {
   "cell_type": "code",
   "execution_count": 223,
   "id": "1a21e656-efa0-41a4-b50a-30031da7319d",
   "metadata": {},
   "outputs": [
    {
     "data": {
      "text/html": [
       "<div>\n",
       "<style scoped>\n",
       "    .dataframe tbody tr th:only-of-type {\n",
       "        vertical-align: middle;\n",
       "    }\n",
       "\n",
       "    .dataframe tbody tr th {\n",
       "        vertical-align: top;\n",
       "    }\n",
       "\n",
       "    .dataframe thead th {\n",
       "        text-align: right;\n",
       "    }\n",
       "</style>\n",
       "<table border=\"1\" class=\"dataframe\">\n",
       "  <thead>\n",
       "    <tr style=\"text-align: right;\">\n",
       "      <th></th>\n",
       "      <th>unnamed:_0</th>\n",
       "      <th>customer</th>\n",
       "      <th>state</th>\n",
       "      <th>customer_lifetime_value</th>\n",
       "      <th>response</th>\n",
       "      <th>coverage</th>\n",
       "      <th>education</th>\n",
       "      <th>effective_to_date</th>\n",
       "      <th>employmentstatus</th>\n",
       "      <th>gender</th>\n",
       "      <th>...</th>\n",
       "      <th>number_of_open_complaints</th>\n",
       "      <th>number_of_policies</th>\n",
       "      <th>policy_type</th>\n",
       "      <th>policy</th>\n",
       "      <th>renew_offer_type</th>\n",
       "      <th>sales_channel</th>\n",
       "      <th>total_claim_amount</th>\n",
       "      <th>vehicle_class</th>\n",
       "      <th>vehicle_size</th>\n",
       "      <th>vehicle_type</th>\n",
       "    </tr>\n",
       "  </thead>\n",
       "  <tbody>\n",
       "    <tr>\n",
       "      <th>0</th>\n",
       "      <td>0</td>\n",
       "      <td>DK49336</td>\n",
       "      <td>Arizona</td>\n",
       "      <td>4809.22</td>\n",
       "      <td>No</td>\n",
       "      <td>Basic</td>\n",
       "      <td>College</td>\n",
       "      <td>2/18/11</td>\n",
       "      <td>Employed</td>\n",
       "      <td>M</td>\n",
       "      <td>...</td>\n",
       "      <td>0.0</td>\n",
       "      <td>9</td>\n",
       "      <td>Corporate Auto</td>\n",
       "      <td>Corporate L3</td>\n",
       "      <td>Offer3</td>\n",
       "      <td>Agent</td>\n",
       "      <td>292.80</td>\n",
       "      <td>Four-Door Car</td>\n",
       "      <td>Medsize</td>\n",
       "      <td>A</td>\n",
       "    </tr>\n",
       "    <tr>\n",
       "      <th>1</th>\n",
       "      <td>1</td>\n",
       "      <td>KX64629</td>\n",
       "      <td>California</td>\n",
       "      <td>2228.53</td>\n",
       "      <td>No</td>\n",
       "      <td>Basic</td>\n",
       "      <td>College</td>\n",
       "      <td>1/18/11</td>\n",
       "      <td>Unemployed</td>\n",
       "      <td>F</td>\n",
       "      <td>...</td>\n",
       "      <td>0.0</td>\n",
       "      <td>1</td>\n",
       "      <td>Personal Auto</td>\n",
       "      <td>Personal L3</td>\n",
       "      <td>Offer4</td>\n",
       "      <td>Call Center</td>\n",
       "      <td>744.92</td>\n",
       "      <td>Four-Door Car</td>\n",
       "      <td>Medsize</td>\n",
       "      <td>A</td>\n",
       "    </tr>\n",
       "    <tr>\n",
       "      <th>2</th>\n",
       "      <td>2</td>\n",
       "      <td>LZ68649</td>\n",
       "      <td>Washington</td>\n",
       "      <td>14947.92</td>\n",
       "      <td>No</td>\n",
       "      <td>Basic</td>\n",
       "      <td>Bachelor</td>\n",
       "      <td>2/10/11</td>\n",
       "      <td>Employed</td>\n",
       "      <td>M</td>\n",
       "      <td>...</td>\n",
       "      <td>0.0</td>\n",
       "      <td>2</td>\n",
       "      <td>Personal Auto</td>\n",
       "      <td>Personal L3</td>\n",
       "      <td>Offer3</td>\n",
       "      <td>Call Center</td>\n",
       "      <td>480.00</td>\n",
       "      <td>SUV</td>\n",
       "      <td>Medsize</td>\n",
       "      <td>A</td>\n",
       "    </tr>\n",
       "    <tr>\n",
       "      <th>3</th>\n",
       "      <td>3</td>\n",
       "      <td>XL78013</td>\n",
       "      <td>Oregon</td>\n",
       "      <td>22332.44</td>\n",
       "      <td>Yes</td>\n",
       "      <td>Extended</td>\n",
       "      <td>College</td>\n",
       "      <td>1/11/11</td>\n",
       "      <td>Employed</td>\n",
       "      <td>M</td>\n",
       "      <td>...</td>\n",
       "      <td>0.0</td>\n",
       "      <td>2</td>\n",
       "      <td>Corporate Auto</td>\n",
       "      <td>Corporate L3</td>\n",
       "      <td>Offer2</td>\n",
       "      <td>Branch</td>\n",
       "      <td>484.01</td>\n",
       "      <td>Four-Door Car</td>\n",
       "      <td>Medsize</td>\n",
       "      <td>A</td>\n",
       "    </tr>\n",
       "    <tr>\n",
       "      <th>4</th>\n",
       "      <td>4</td>\n",
       "      <td>QA50777</td>\n",
       "      <td>Oregon</td>\n",
       "      <td>9025.07</td>\n",
       "      <td>No</td>\n",
       "      <td>Premium</td>\n",
       "      <td>Bachelor</td>\n",
       "      <td>1/17/11</td>\n",
       "      <td>Medical Leave</td>\n",
       "      <td>F</td>\n",
       "      <td>...</td>\n",
       "      <td>0.0</td>\n",
       "      <td>7</td>\n",
       "      <td>Personal Auto</td>\n",
       "      <td>Personal L2</td>\n",
       "      <td>Offer1</td>\n",
       "      <td>Branch</td>\n",
       "      <td>707.93</td>\n",
       "      <td>Four-Door Car</td>\n",
       "      <td>Medsize</td>\n",
       "      <td>A</td>\n",
       "    </tr>\n",
       "  </tbody>\n",
       "</table>\n",
       "<p>5 rows × 26 columns</p>\n",
       "</div>"
      ],
      "text/plain": [
       "   unnamed:_0 customer       state  customer_lifetime_value response  \\\n",
       "0           0  DK49336     Arizona                  4809.22       No   \n",
       "1           1  KX64629  California                  2228.53       No   \n",
       "2           2  LZ68649  Washington                 14947.92       No   \n",
       "3           3  XL78013      Oregon                 22332.44      Yes   \n",
       "4           4  QA50777      Oregon                  9025.07       No   \n",
       "\n",
       "   coverage education effective_to_date employmentstatus gender  ...  \\\n",
       "0     Basic   College           2/18/11         Employed      M  ...   \n",
       "1     Basic   College           1/18/11       Unemployed      F  ...   \n",
       "2     Basic  Bachelor           2/10/11         Employed      M  ...   \n",
       "3  Extended   College           1/11/11         Employed      M  ...   \n",
       "4   Premium  Bachelor           1/17/11    Medical Leave      F  ...   \n",
       "\n",
       "   number_of_open_complaints number_of_policies     policy_type        policy  \\\n",
       "0                        0.0                  9  Corporate Auto  Corporate L3   \n",
       "1                        0.0                  1   Personal Auto   Personal L3   \n",
       "2                        0.0                  2   Personal Auto   Personal L3   \n",
       "3                        0.0                  2  Corporate Auto  Corporate L3   \n",
       "4                        0.0                  7   Personal Auto   Personal L2   \n",
       "\n",
       "   renew_offer_type  sales_channel  total_claim_amount  vehicle_class  \\\n",
       "0            Offer3          Agent              292.80  Four-Door Car   \n",
       "1            Offer4    Call Center              744.92  Four-Door Car   \n",
       "2            Offer3    Call Center              480.00            SUV   \n",
       "3            Offer2         Branch              484.01  Four-Door Car   \n",
       "4            Offer1         Branch              707.93  Four-Door Car   \n",
       "\n",
       "  vehicle_size vehicle_type  \n",
       "0      Medsize            A  \n",
       "1      Medsize            A  \n",
       "2      Medsize            A  \n",
       "3      Medsize            A  \n",
       "4      Medsize            A  \n",
       "\n",
       "[5 rows x 26 columns]"
      ]
     },
     "execution_count": 223,
     "metadata": {},
     "output_type": "execute_result"
    }
   ],
   "source": [
    "df['customer_lifetime_value'] = df['customer_lifetime_value'].round(2)\n",
    "df['total_claim_amount'] = df['total_claim_amount'].round(2)\n",
    "df.head()"
   ]
  },
  {
   "cell_type": "code",
   "execution_count": 241,
   "id": "e18c0740-75dc-4b63-bee9-aaa0e7e84643",
   "metadata": {},
   "outputs": [
    {
     "data": {
      "text/plain": [
       "policy_type     gender\n",
       "Corporate Auto  F         433.74\n",
       "                M         408.58\n",
       "Personal Auto   F         452.97\n",
       "                M         457.01\n",
       "Special Auto    F         453.28\n",
       "                M         429.53\n",
       "Name: total_claim_amount, dtype: float64"
      ]
     },
     "execution_count": 241,
     "metadata": {},
     "output_type": "execute_result"
    }
   ],
   "source": [
    "# Using the original Dataframe, analyze the average total_claim_amount by each policy type and gender for customers who have responded \"Yes\" to the last marketing campaign. Write your conclusions.\n",
    "# Filter for customers who responded \"Yes\"\n",
    "filtered_data = df[df['response'] == 'Yes']\n",
    "\n",
    "# Group by policy type and gender, then calculate the average total claim amount\n",
    "marketing_data_analysis = filtered_data.groupby(['policy_type', 'gender'])['total_claim_amount'].mean().round(2)\n",
    "marketing_data_analysis"
   ]
  },
  {
   "cell_type": "code",
   "execution_count": 245,
   "id": "ca3e2698-e425-449b-ad9c-02a760a8ef6a",
   "metadata": {},
   "outputs": [
    {
     "data": {
      "text/plain": [
       "state\n",
       "Arizona       1937\n",
       "California    3552\n",
       "N/A            631\n",
       "Nevada         993\n",
       "Oregon        2909\n",
       "Washington     888\n",
       "Name: customer, dtype: int64"
      ]
     },
     "execution_count": 245,
     "metadata": {},
     "output_type": "execute_result"
    }
   ],
   "source": [
    "# Analyze the total number of customers who have policies in each state, and then filter the results to only include states where there are more than 500 customers.\n",
    "total_customers_by_state = df.groupby('state')['customer'].count()\n",
    "filtered_states = total_customers_by_state[total_customers_by_state > 500]\n",
    "filtered_states"
   ]
  },
  {
   "cell_type": "code",
   "execution_count": 249,
   "id": "8ccdde05-2c41-4925-89e4-5d0ce809369d",
   "metadata": {},
   "outputs": [
    {
     "data": {
      "text/html": [
       "<div>\n",
       "<style scoped>\n",
       "    .dataframe tbody tr th:only-of-type {\n",
       "        vertical-align: middle;\n",
       "    }\n",
       "\n",
       "    .dataframe tbody tr th {\n",
       "        vertical-align: top;\n",
       "    }\n",
       "\n",
       "    .dataframe thead th {\n",
       "        text-align: right;\n",
       "    }\n",
       "</style>\n",
       "<table border=\"1\" class=\"dataframe\">\n",
       "  <thead>\n",
       "    <tr style=\"text-align: right;\">\n",
       "      <th></th>\n",
       "      <th></th>\n",
       "      <th>max</th>\n",
       "      <th>min</th>\n",
       "      <th>median</th>\n",
       "    </tr>\n",
       "    <tr>\n",
       "      <th>education</th>\n",
       "      <th>gender</th>\n",
       "      <th></th>\n",
       "      <th></th>\n",
       "      <th></th>\n",
       "    </tr>\n",
       "  </thead>\n",
       "  <tbody>\n",
       "    <tr>\n",
       "      <th rowspan=\"2\" valign=\"top\">Bachelor</th>\n",
       "      <th>F</th>\n",
       "      <td>73225.96</td>\n",
       "      <td>1904.00</td>\n",
       "      <td>5640.50</td>\n",
       "    </tr>\n",
       "    <tr>\n",
       "      <th>M</th>\n",
       "      <td>67907.27</td>\n",
       "      <td>1898.01</td>\n",
       "      <td>5548.03</td>\n",
       "    </tr>\n",
       "    <tr>\n",
       "      <th rowspan=\"2\" valign=\"top\">College</th>\n",
       "      <th>F</th>\n",
       "      <td>61850.19</td>\n",
       "      <td>1898.68</td>\n",
       "      <td>5623.61</td>\n",
       "    </tr>\n",
       "    <tr>\n",
       "      <th>M</th>\n",
       "      <td>61134.68</td>\n",
       "      <td>1918.12</td>\n",
       "      <td>6005.85</td>\n",
       "    </tr>\n",
       "    <tr>\n",
       "      <th rowspan=\"2\" valign=\"top\">Doctor</th>\n",
       "      <th>F</th>\n",
       "      <td>44856.11</td>\n",
       "      <td>2395.57</td>\n",
       "      <td>5332.46</td>\n",
       "    </tr>\n",
       "    <tr>\n",
       "      <th>M</th>\n",
       "      <td>32677.34</td>\n",
       "      <td>2267.60</td>\n",
       "      <td>5577.67</td>\n",
       "    </tr>\n",
       "    <tr>\n",
       "      <th rowspan=\"2\" valign=\"top\">High School or Below</th>\n",
       "      <th>F</th>\n",
       "      <td>55277.45</td>\n",
       "      <td>2144.92</td>\n",
       "      <td>6039.56</td>\n",
       "    </tr>\n",
       "    <tr>\n",
       "      <th>M</th>\n",
       "      <td>83325.38</td>\n",
       "      <td>1940.98</td>\n",
       "      <td>6286.74</td>\n",
       "    </tr>\n",
       "    <tr>\n",
       "      <th rowspan=\"2\" valign=\"top\">Master</th>\n",
       "      <th>F</th>\n",
       "      <td>51016.07</td>\n",
       "      <td>2417.78</td>\n",
       "      <td>5729.86</td>\n",
       "    </tr>\n",
       "    <tr>\n",
       "      <th>M</th>\n",
       "      <td>50568.26</td>\n",
       "      <td>2272.31</td>\n",
       "      <td>5579.10</td>\n",
       "    </tr>\n",
       "  </tbody>\n",
       "</table>\n",
       "</div>"
      ],
      "text/plain": [
       "                                  max      min   median\n",
       "education            gender                            \n",
       "Bachelor             F       73225.96  1904.00  5640.50\n",
       "                     M       67907.27  1898.01  5548.03\n",
       "College              F       61850.19  1898.68  5623.61\n",
       "                     M       61134.68  1918.12  6005.85\n",
       "Doctor               F       44856.11  2395.57  5332.46\n",
       "                     M       32677.34  2267.60  5577.67\n",
       "High School or Below F       55277.45  2144.92  6039.56\n",
       "                     M       83325.38  1940.98  6286.74\n",
       "Master               F       51016.07  2417.78  5729.86\n",
       "                     M       50568.26  2272.31  5579.10"
      ]
     },
     "execution_count": 249,
     "metadata": {},
     "output_type": "execute_result"
    }
   ],
   "source": [
    "# Find the maximum, minimum, and median customer lifetime value by education level and gender. Write your conclusions.\n",
    "customer_lifetime_value = df.groupby(['education', 'gender'])['customer_lifetime_value'].agg(['max', 'min', 'median']).round(2)\n",
    "customer_lifetime_value"
   ]
  },
  {
   "cell_type": "code",
   "execution_count": null,
   "id": "c0783d95-d2e5-4bd8-badf-705dfe6a68f2",
   "metadata": {},
   "outputs": [],
   "source": [
    "\n",
    "#Conclusions\n",
    "#Gender Differences: There are notable differences in customer lifetime values between males and females for each education level.\n",
    "#Education Effects: Higher education levels generally lead to higher customer lifetime values.\n",
    "#Outliers: Some data points, like the maximum lifetime value for females with a high school education, are unusually high compared to other groups.\n",
    "#These insights reveal patterns in how gender and education influence customer spending."
   ]
  },
  {
   "cell_type": "code",
   "execution_count": 251,
   "id": "1b70b38d-17d4-45a2-8a88-2c4f15a29edb",
   "metadata": {},
   "outputs": [
    {
     "name": "stdout",
     "output_type": "stream",
     "text": [
      "\n",
      "Policies Sold by Month for Top 3 States:\n",
      "          state  number_of_policies  month\n",
      "0       Arizona                 139      1\n",
      "1    California                 180      1\n",
      "2        Oregon                 111      1\n",
      "3       Arizona                 123      1\n",
      "4    California                 225      1\n",
      "..          ...                 ...    ...\n",
      "172  California                 108      2\n",
      "173      Oregon                 102      2\n",
      "174     Arizona                  92      2\n",
      "175  California                 168      2\n",
      "176      Oregon                 105      2\n",
      "\n",
      "[177 rows x 3 columns]\n"
     ]
    },
    {
     "name": "stderr",
     "output_type": "stream",
     "text": [
      "C:\\Users\\gebruiker\\AppData\\Local\\Temp\\ipykernel_4272\\453656015.py:18: UserWarning: Could not infer format, so each element will be parsed individually, falling back to `dateutil`. To ensure parsing is consistent and as-expected, please specify a format.\n",
      "  policies_by_month_state['effective_to_date'] = pd.to_datetime(policies_by_month_state['effective_to_date'])\n"
     ]
    }
   ],
   "source": [
    "# Ensure the 'Number of Policies' is numeric\n",
    "df['number_of_policies'] = pd.to_numeric(df['number_of_policies'], errors='coerce')\n",
    "\n",
    "# Calculate the total number of policies sold per state\n",
    "policies_per_state = df.groupby('state')['number_of_policies'].sum().reset_index()\n",
    "\n",
    "# Sort states by number of policies sold and get the top 3\n",
    "top_states = policies_per_state.sort_values(by='number_of_policies', ascending=False).head(3)\n",
    "\n",
    "# Filter for top 3 states\n",
    "top_states_list = top_states['state'].tolist()\n",
    "filtered_df = df[df['state'].isin(top_states_list)]\n",
    "\n",
    "# Group by month and state to count policies sold\n",
    "policies_by_month_state = filtered_df.groupby(['effective_to_date', 'state'])['number_of_policies'].sum().reset_index()\n",
    "\n",
    "# Convert 'Effective To Date' to datetime and extract month\n",
    "policies_by_month_state['effective_to_date'] = pd.to_datetime(policies_by_month_state['effective_to_date'])\n",
    "policies_by_month_state['month'] = policies_by_month_state['effective_to_date'].dt.month\n",
    "\n",
    "# Drop the 'Effective To Date' column\n",
    "policies_by_month_state = policies_by_month_state.drop(columns=['effective_to_date'])\n",
    "\n",
    "# Display the final report DataFrame\n",
    "print(\"\\nPolicies Sold by Month for Top 3 States:\")\n",
    "print(policies_by_month_state)"
   ]
  },
  {
   "cell_type": "code",
   "execution_count": null,
   "id": "4da9538c-80a6-45b2-9482-2a156829532c",
   "metadata": {},
   "outputs": [],
   "source": []
  }
 ],
 "metadata": {
  "colab": {
   "provenance": []
  },
  "kernelspec": {
   "display_name": "Python [conda env:base] *",
   "language": "python",
   "name": "conda-base-py"
  },
  "language_info": {
   "codemirror_mode": {
    "name": "ipython",
    "version": 3
   },
   "file_extension": ".py",
   "mimetype": "text/x-python",
   "name": "python",
   "nbconvert_exporter": "python",
   "pygments_lexer": "ipython3",
   "version": "3.12.7"
  }
 },
 "nbformat": 4,
 "nbformat_minor": 5
}
