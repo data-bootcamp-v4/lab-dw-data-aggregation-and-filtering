{
 "cells": [
  {
   "cell_type": "markdown",
   "id": "31969215-2a90-4d8b-ac36-646a7ae13744",
   "metadata": {
    "id": "31969215-2a90-4d8b-ac36-646a7ae13744"
   },
   "source": [
    "# Lab | Data Aggregation and Filtering"
   ]
  },
  {
   "cell_type": "markdown",
   "id": "a8f08a52-bec0-439b-99cc-11d3809d8b5d",
   "metadata": {
    "id": "a8f08a52-bec0-439b-99cc-11d3809d8b5d"
   },
   "source": [
    "In this challenge, we will continue to work with customer data from an insurance company. We will use the dataset called marketing_customer_analysis.csv, which can be found at the following link:\n",
    "\n",
    "https://raw.githubusercontent.com/data-bootcamp-v4/data/main/marketing_customer_analysis.csv\n",
    "\n",
    "This dataset contains information such as customer demographics, policy details, vehicle information, and the customer's response to the last marketing campaign. Our goal is to explore and analyze this data by first performing data cleaning, formatting, and structuring."
   ]
  },
  {
   "cell_type": "markdown",
   "id": "9c98ddc5-b041-4c94-ada1-4dfee5c98e50",
   "metadata": {
    "id": "9c98ddc5-b041-4c94-ada1-4dfee5c98e50"
   },
   "source": [
    "1. Create a new DataFrame that only includes customers who have a total_claim_amount greater than $1,000 and have a response of \"Yes\" to the last marketing campaign."
   ]
  },
  {
   "cell_type": "code",
   "execution_count": 188,
   "id": "c985389a-c3fe-45bd-9a62-05537c08c8d7",
   "metadata": {
    "id": "9c98ddc5-b041-4c94-ada1-4dfee5c98e50",
    "tags": []
   },
   "outputs": [
    {
     "data": {
      "text/html": [
       "<div>\n",
       "<style scoped>\n",
       "    .dataframe tbody tr th:only-of-type {\n",
       "        vertical-align: middle;\n",
       "    }\n",
       "\n",
       "    .dataframe tbody tr th {\n",
       "        vertical-align: top;\n",
       "    }\n",
       "\n",
       "    .dataframe thead th {\n",
       "        text-align: right;\n",
       "    }\n",
       "</style>\n",
       "<table border=\"1\" class=\"dataframe\">\n",
       "  <thead>\n",
       "    <tr style=\"text-align: right;\">\n",
       "      <th></th>\n",
       "      <th>unnamed</th>\n",
       "      <th>customer</th>\n",
       "      <th>state</th>\n",
       "      <th>customer_lifetime_value</th>\n",
       "      <th>response</th>\n",
       "      <th>coverage</th>\n",
       "      <th>education</th>\n",
       "      <th>effective_to_date</th>\n",
       "      <th>employment_status</th>\n",
       "      <th>gender</th>\n",
       "      <th>...</th>\n",
       "      <th>number_of_open_complaints</th>\n",
       "      <th>number_of_policies</th>\n",
       "      <th>policy_type</th>\n",
       "      <th>policy</th>\n",
       "      <th>renew_offer_type</th>\n",
       "      <th>sales_channel</th>\n",
       "      <th>total_claim_amount</th>\n",
       "      <th>vehicle_class</th>\n",
       "      <th>vehicle_size</th>\n",
       "      <th>vehicle_type</th>\n",
       "    </tr>\n",
       "  </thead>\n",
       "  <tbody>\n",
       "    <tr>\n",
       "      <th>189</th>\n",
       "      <td>189</td>\n",
       "      <td>OK31456</td>\n",
       "      <td>California</td>\n",
       "      <td>11009.130490</td>\n",
       "      <td>Yes</td>\n",
       "      <td>Premium</td>\n",
       "      <td>Bachelor</td>\n",
       "      <td>1/24/11</td>\n",
       "      <td>Employed</td>\n",
       "      <td>F</td>\n",
       "      <td>...</td>\n",
       "      <td>0.0</td>\n",
       "      <td>1</td>\n",
       "      <td>Corporate Auto</td>\n",
       "      <td>Corporate L3</td>\n",
       "      <td>Offer2</td>\n",
       "      <td>Agent</td>\n",
       "      <td>1358.400000</td>\n",
       "      <td>Luxury Car</td>\n",
       "      <td>Medsize</td>\n",
       "      <td>NaN</td>\n",
       "    </tr>\n",
       "    <tr>\n",
       "      <th>236</th>\n",
       "      <td>236</td>\n",
       "      <td>YJ16163</td>\n",
       "      <td>Oregon</td>\n",
       "      <td>11009.130490</td>\n",
       "      <td>Yes</td>\n",
       "      <td>Premium</td>\n",
       "      <td>Bachelor</td>\n",
       "      <td>1/24/11</td>\n",
       "      <td>Employed</td>\n",
       "      <td>F</td>\n",
       "      <td>...</td>\n",
       "      <td>0.0</td>\n",
       "      <td>1</td>\n",
       "      <td>Special Auto</td>\n",
       "      <td>Special L3</td>\n",
       "      <td>Offer2</td>\n",
       "      <td>Agent</td>\n",
       "      <td>1358.400000</td>\n",
       "      <td>Luxury Car</td>\n",
       "      <td>Medsize</td>\n",
       "      <td>A</td>\n",
       "    </tr>\n",
       "    <tr>\n",
       "      <th>419</th>\n",
       "      <td>419</td>\n",
       "      <td>GW43195</td>\n",
       "      <td>Oregon</td>\n",
       "      <td>25807.063000</td>\n",
       "      <td>Yes</td>\n",
       "      <td>Extended</td>\n",
       "      <td>College</td>\n",
       "      <td>2/13/11</td>\n",
       "      <td>Employed</td>\n",
       "      <td>F</td>\n",
       "      <td>...</td>\n",
       "      <td>1.0</td>\n",
       "      <td>2</td>\n",
       "      <td>Personal Auto</td>\n",
       "      <td>Personal L2</td>\n",
       "      <td>Offer1</td>\n",
       "      <td>Branch</td>\n",
       "      <td>1027.200000</td>\n",
       "      <td>Luxury Car</td>\n",
       "      <td>Small</td>\n",
       "      <td>A</td>\n",
       "    </tr>\n",
       "    <tr>\n",
       "      <th>442</th>\n",
       "      <td>442</td>\n",
       "      <td>IP94270</td>\n",
       "      <td>Arizona</td>\n",
       "      <td>13736.132500</td>\n",
       "      <td>Yes</td>\n",
       "      <td>Premium</td>\n",
       "      <td>Master</td>\n",
       "      <td>2/13/11</td>\n",
       "      <td>Disabled</td>\n",
       "      <td>F</td>\n",
       "      <td>...</td>\n",
       "      <td>0.0</td>\n",
       "      <td>8</td>\n",
       "      <td>Personal Auto</td>\n",
       "      <td>Personal L2</td>\n",
       "      <td>Offer1</td>\n",
       "      <td>Web</td>\n",
       "      <td>1261.319869</td>\n",
       "      <td>SUV</td>\n",
       "      <td>Medsize</td>\n",
       "      <td>A</td>\n",
       "    </tr>\n",
       "    <tr>\n",
       "      <th>587</th>\n",
       "      <td>587</td>\n",
       "      <td>FJ28407</td>\n",
       "      <td>California</td>\n",
       "      <td>5619.689084</td>\n",
       "      <td>Yes</td>\n",
       "      <td>Premium</td>\n",
       "      <td>High School or Below</td>\n",
       "      <td>1/26/11</td>\n",
       "      <td>Unemployed</td>\n",
       "      <td>M</td>\n",
       "      <td>...</td>\n",
       "      <td>0.0</td>\n",
       "      <td>1</td>\n",
       "      <td>Personal Auto</td>\n",
       "      <td>Personal L1</td>\n",
       "      <td>Offer2</td>\n",
       "      <td>Web</td>\n",
       "      <td>1027.000029</td>\n",
       "      <td>SUV</td>\n",
       "      <td>Medsize</td>\n",
       "      <td>A</td>\n",
       "    </tr>\n",
       "  </tbody>\n",
       "</table>\n",
       "<p>5 rows × 26 columns</p>\n",
       "</div>"
      ],
      "text/plain": [
       "     unnamed customer       state  customer_lifetime_value response  coverage  \\\n",
       "189      189  OK31456  California             11009.130490      Yes   Premium   \n",
       "236      236  YJ16163      Oregon             11009.130490      Yes   Premium   \n",
       "419      419  GW43195      Oregon             25807.063000      Yes  Extended   \n",
       "442      442  IP94270     Arizona             13736.132500      Yes   Premium   \n",
       "587      587  FJ28407  California              5619.689084      Yes   Premium   \n",
       "\n",
       "                education effective_to_date employment_status gender  ...  \\\n",
       "189              Bachelor           1/24/11          Employed      F  ...   \n",
       "236              Bachelor           1/24/11          Employed      F  ...   \n",
       "419               College           2/13/11          Employed      F  ...   \n",
       "442                Master           2/13/11          Disabled      F  ...   \n",
       "587  High School or Below           1/26/11        Unemployed      M  ...   \n",
       "\n",
       "     number_of_open_complaints number_of_policies     policy_type  \\\n",
       "189                        0.0                  1  Corporate Auto   \n",
       "236                        0.0                  1    Special Auto   \n",
       "419                        1.0                  2   Personal Auto   \n",
       "442                        0.0                  8   Personal Auto   \n",
       "587                        0.0                  1   Personal Auto   \n",
       "\n",
       "           policy  renew_offer_type  sales_channel  total_claim_amount  \\\n",
       "189  Corporate L3            Offer2          Agent         1358.400000   \n",
       "236    Special L3            Offer2          Agent         1358.400000   \n",
       "419   Personal L2            Offer1         Branch         1027.200000   \n",
       "442   Personal L2            Offer1            Web         1261.319869   \n",
       "587   Personal L1            Offer2            Web         1027.000029   \n",
       "\n",
       "     vehicle_class vehicle_size vehicle_type  \n",
       "189     Luxury Car      Medsize          NaN  \n",
       "236     Luxury Car      Medsize            A  \n",
       "419     Luxury Car        Small            A  \n",
       "442            SUV      Medsize            A  \n",
       "587            SUV      Medsize            A  \n",
       "\n",
       "[5 rows x 26 columns]"
      ]
     },
     "execution_count": 188,
     "metadata": {},
     "output_type": "execute_result"
    }
   ],
   "source": [
    "\n",
    "import numpy as np\n",
    "import pandas as pd\n",
    "mktg_df= pd.read_csv(\"https://raw.githubusercontent.com/data-bootcamp-v4/data/main/marketing_customer_analysis.csv\")\n",
    "\n",
    "\n",
    "\n",
    "\n",
    "#clean columns names: lowercase, delete 0 in unnamed, employment status  space, change spaces for_, empty column?, \n",
    "# duplicates, nulls, formatting string and numbers and dates (map, apply)\n",
    "#with function (function that put column names in lowercase, replaces whithe espaces by _ and change  st to state\n",
    "\n",
    "def clean_column_names(df):\n",
    "    df.columns = df.columns.str.lower().str.replace(' ', '_')\n",
    "    df = df.rename(columns={str('employmentstatus'): 'employment_status'})\n",
    "    df = df.rename(columns={str('unnamed:_0'): 'unnamed'})\n",
    "    return df    \n",
    "    \n",
    "    #return df\n",
    "\n",
    "mktg_df= clean_column_names(mktg_df)\n",
    "mktg_df.head()\n",
    "\n",
    "#Create a new DataFrame that only includes customers who have a total_claim_amount greater than $1,000 and have a response of \"Yes\" to the last marketing campaign.\n",
    "\n",
    "#total claim amount check format\n",
    "#mktg_df.dtypes\n",
    "#mktg_df=mktg_df.copy()\n",
    "#check response unique values\n",
    "\n",
    "#mktg_df[\"response\"].unique()\n",
    "new_df = m_df[(m_df.total_claim_amount > 1000) & (m_df.response == \"Yes\")]\n",
    "new_df.head()\n",
    "#new_df[\"response\"].unique()\n"
   ]
  },
  {
   "cell_type": "markdown",
   "id": "b9be383e-5165-436e-80c8-57d4c757c8c3",
   "metadata": {
    "id": "b9be383e-5165-436e-80c8-57d4c757c8c3"
   },
   "source": [
    "2. Using the original Dataframe, analyze the average total_claim_amount by each policy type and gender for customers who have responded \"Yes\" to the last marketing campaign. Write your conclusions."
   ]
  },
  {
   "cell_type": "code",
   "execution_count": 190,
   "id": "ee2ea480-78bd-413c-ad4b-6e09796586d7",
   "metadata": {
    "id": "7050f4ac-53c5-4193-a3c0-8699b87196f0",
    "tags": []
   },
   "outputs": [
    {
     "name": "stdout",
     "output_type": "stream",
     "text": [
      "The average total_claim_amount is: \n",
      "434.8883297028414\n",
      "The average total_claim_amount for customers who have responded yes is: \n",
      "447.06157009890853\n",
      "\n",
      "The average total_claim_amount by each policy type is: \n",
      "      policy_type  total_claim_amount\n",
      "0  Corporate Auto          421.744598\n",
      "1   Personal Auto          454.980536\n",
      "2    Special Auto          441.935819\n",
      "\n",
      "The average total_claim_amount by each policy type is: \n",
      "  gender  total_claim_amount\n",
      "0      F          448.613190\n",
      "1      M          445.462671\n",
      "\n",
      "The average total_claim_amount by each policy type and gender is: \n",
      "      policy_type gender  total_claim_amount\n",
      "0  Corporate Auto      F          433.738499\n",
      "1  Corporate Auto      M          408.582459\n",
      "2   Personal Auto      F          452.965929\n",
      "3   Personal Auto      M          457.010178\n",
      "4    Special Auto      F          453.280164\n",
      "5    Special Auto      M          429.527942\n"
     ]
    }
   ],
   "source": [
    "\n",
    "#mktg_df\n",
    "responded_yes_df = mktg_df[mktg_df['response'] == 'Yes']\n",
    "\n",
    "print(\"The average total_claim_amount is: \")\n",
    "print(mktg_df.total_claim_amount.mean())\n",
    "print(\"The average total_claim_amount for customers who have responded yes is: \")\n",
    "print(responded_yes_df.total_claim_amount.mean())\n",
    "print()\n",
    "#responded_yes_df = mktg_df[mktg_df['response'] == 'Yes']\n",
    "avrg_policy_claims = responded_yes_df.groupby(['policy_type'])['total_claim_amount'].mean().reset_index()\n",
    "avrg_gender_claims = responded_yes_df.groupby(['gender'])['total_claim_amount'].mean().reset_index()\n",
    "avrg_claims = responded_yes_df.groupby(['policy_type', 'gender'])['total_claim_amount'].mean().reset_index()\n",
    "print(\"The average total_claim_amount by each policy type is: \")\n",
    "print(avrg_policy_claims)\n",
    "print()\n",
    "print(\"The average total_claim_amount by each policy type is: \")\n",
    "print(avrg_gender_claims)\n",
    "print()\n",
    "print(\"The average total_claim_amount by each policy type and gender is: \")\n",
    "print(avrg_claims)\n",
    "\n",
    "#First of all we can see than the average is much higher in those cases that the customers responded yes.\n",
    "#By observing first the average total_claim_amountin those cases that the customers responded yes we can see that Personal Auto has the highst averege followed by Special Auto, being corporate Auto much lower than the average.\n",
    "#The average total_claim_amount by each policy type is:\n",
    "#Looking at the average total_claim_amount in those cases that the customers responded yes, between male and females we see that for females the average is slightly higher.\n",
    "#Considering all the variables, we observe that specially for corporate auto the average is considerably higher for female than male, same as for the special auto. In contrast for the personal auto the average is slightly higher for males.\n",
    "\n",
    "#gender and policy type are significant factors influencing the total claim amounts for customers who responded positively to the marketing campaign.\n",
    "\n"
   ]
  },
  {
   "cell_type": "markdown",
   "id": "43284319-5b75-4fb4-99e4-dce3bca5e36c",
   "metadata": {
    "id": "7050f4ac-53c5-4193-a3c0-8699b87196f0"
   },
   "source": [
    "3. Analyze the total number of customers who have policies in each state, and then filter the results to only include states where there are more than 500 customers."
   ]
  },
  {
   "cell_type": "code",
   "execution_count": 192,
   "id": "8cd08c6f-866a-4d23-a6a3-2a21b7c80527",
   "metadata": {
    "id": "7050f4ac-53c5-4193-a3c0-8699b87196f0",
    "tags": []
   },
   "outputs": [
    {
     "name": "stdout",
     "output_type": "stream",
     "text": [
      "        state  customer_count\n",
      "0  California            3552\n",
      "1      Oregon            2909\n",
      "2     Arizona            1937\n",
      "3      Nevada             993\n",
      "4  Washington             888\n"
     ]
    }
   ],
   "source": [
    "\n",
    "customers_state = mktg_df['state'].value_counts().reset_index()\n",
    "customers_state.columns = ['state', 'customer_count']\n",
    "\n",
    "customers_500 = customers_state[customers_state['customer_count'] > 500]\n",
    "\n",
    "print(customers_500)\n"
   ]
  },
  {
   "cell_type": "markdown",
   "id": "b60a4443-a1a7-4bbf-b78e-9ccdf9895e0d",
   "metadata": {
    "id": "b60a4443-a1a7-4bbf-b78e-9ccdf9895e0d"
   },
   "source": [
    "4. Find the maximum, minimum, and median customer lifetime value by education level and gender. Write your conclusions."
   ]
  },
  {
   "cell_type": "code",
   "execution_count": 194,
   "id": "e70ef97b-8346-4816-972c-3c60cd7ee2b2",
   "metadata": {
    "tags": []
   },
   "outputs": [
    {
     "name": "stdout",
     "output_type": "stream",
     "text": [
      "                               max   min  median\n",
      "education            gender                     \n",
      "Bachelor             F       73225  1904    5640\n",
      "                     M       67907  1898    5548\n",
      "College              F       61850  1898    5623\n",
      "                     M       61134  1918    6005\n",
      "Doctor               F       44856  2395    5332\n",
      "                     M       32677  2267    5577\n",
      "High School or Below F       55277  2144    6039\n",
      "                     M       83325  1940    6286\n",
      "Master               F       51016  2417    5729\n",
      "                     M       50568  2272    5579\n"
     ]
    }
   ],
   "source": [
    "\n",
    "stats = mktg_df.groupby(['education', 'gender'])['customer_lifetime_value'].agg(['max', 'min', 'median']).astype(int)\n",
    "\n",
    "print(stats)"
   ]
  },
  {
   "cell_type": "markdown",
   "id": "b42999f9-311f-481e-ae63-40a5577072c5",
   "metadata": {
    "id": "b42999f9-311f-481e-ae63-40a5577072c5"
   },
   "source": [
    "## Bonus"
   ]
  },
  {
   "cell_type": "markdown",
   "id": "81ff02c5-6584-4f21-a358-b918697c6432",
   "metadata": {
    "id": "81ff02c5-6584-4f21-a358-b918697c6432"
   },
   "source": [
    "5. The marketing team wants to analyze the number of policies sold by state and month. Present the data in a table where the months are arranged as columns and the states are arranged as rows."
   ]
  },
  {
   "cell_type": "code",
   "execution_count": 197,
   "id": "e1be0ada-a507-4c3f-a47c-8f072e24ee11",
   "metadata": {
    "id": "81ff02c5-6584-4f21-a358-b918697c6432",
    "tags": []
   },
   "outputs": [
    {
     "name": "stdout",
     "output_type": "stream",
     "text": [
      "month       February  January\n",
      "state                        \n",
      "Arizona          929     1008\n",
      "California      1634     1918\n",
      "Nevada           442      551\n",
      "Oregon          1344     1565\n",
      "Washington       425      463\n"
     ]
    }
   ],
   "source": [
    "#mktg_df.head()\n",
    "mktg_df['effective_to_date'].unique()\n",
    "mktg_df['effective_to_date'] = pd.to_datetime(mktg_df['effective_to_date'], format='%m/%d/%y')\n",
    "mktg_df['month'] = mktg_df['effective_to_date'].dt.strftime('%B')\n",
    "\n",
    "pivot_df = mktg_df.pivot_table(index='state', columns='month', values='customer_lifetime_value', aggfunc='count', fill_value=0)\n",
    "\n",
    "print(pivot_df.head())"
   ]
  },
  {
   "cell_type": "markdown",
   "id": "b6aec097-c633-4017-a125-e77a97259cda",
   "metadata": {
    "id": "b6aec097-c633-4017-a125-e77a97259cda"
   },
   "source": [
    "6.  Display a new DataFrame that contains the number of policies sold by month, by state, for the top 3 states with the highest number of policies sold.\n",
    "\n",
    "*Hint:*\n",
    "- *To accomplish this, you will first need to group the data by state and month, then count the number of policies sold for each group. Afterwards, you will need to sort the data by the count of policies sold in descending order.*\n",
    "- *Next, you will select the top 3 states with the highest number of policies sold.*\n",
    "- *Finally, you will create a new DataFrame that contains the number of policies sold by month for each of the top 3 states.*"
   ]
  },
  {
   "cell_type": "code",
   "execution_count": 199,
   "id": "aea3d971-3e45-42ad-8a69-9edcb7586b41",
   "metadata": {
    "tags": []
   },
   "outputs": [
    {
     "name": "stdout",
     "output_type": "stream",
     "text": [
      "month       February  January\n",
      "state                        \n",
      "Arizona          929     1008\n",
      "California      1634     1918\n",
      "Oregon          1344     1565\n"
     ]
    }
   ],
   "source": [
    "top_3 = (mktg_df.groupby(['state', 'month']).size().reset_index(name='policy_count').groupby('month').apply(lambda x: x.nlargest(3, 'policy_count')).reset_index(drop=True))\n",
    "top_3_month = pd.pivot_table(top_3_states_policies, index='state', columns='month', values='policy_count', fill_value=0)\n",
    "top_3_month = top_3_month.astype(int)\n",
    "print(top_3_month)"
   ]
  },
  {
   "cell_type": "code",
   "execution_count": null,
   "id": "64ead292-bad2-479b-9529-d092306d42a5",
   "metadata": {},
   "outputs": [],
   "source": []
  },
  {
   "cell_type": "markdown",
   "id": "ba975b8a-a2cf-4fbf-9f59-ebc381767009",
   "metadata": {
    "id": "ba975b8a-a2cf-4fbf-9f59-ebc381767009"
   },
   "source": [
    "7. The marketing team wants to analyze the effect of different marketing channels on the customer response rate.\n",
    "\n",
    "Hint: You can use melt to unpivot the data and create a table that shows the customer response rate (those who responded \"Yes\") by marketing channel."
   ]
  },
  {
   "cell_type": "markdown",
   "id": "e4378d94-48fb-4850-a802-b1bc8f427b2d",
   "metadata": {
    "id": "e4378d94-48fb-4850-a802-b1bc8f427b2d"
   },
   "source": [
    "External Resources for Data Filtering: https://towardsdatascience.com/filtering-data-frames-in-pandas-b570b1f834b9"
   ]
  },
  {
   "cell_type": "code",
   "execution_count": 210,
   "id": "11d252a7-9cc9-46ae-9180-90bba16e5ab2",
   "metadata": {
    "tags": []
   },
   "outputs": [
    {
     "name": "stdout",
     "output_type": "stream",
     "text": [
      "  sales_channel_value  response_count\n",
      "0               Agent             742\n",
      "1              Branch             326\n",
      "2         Call Center             221\n",
      "3                 Web             177\n"
     ]
    }
   ],
   "source": [
    "\n",
    "mktg_df.head()\n",
    "\n",
    "response_rate = pd.melt(mktg_df, id_vars=['response'], value_vars=['sales_channel'], var_name='sales_channel_variable', value_name='sales_channel_value')\n",
    "response_rate = response_rate[response_rate['response'] == 'Yes']\n",
    "response_rate_by_channel = response_rate.groupby('sales_channel_value').size().reset_index(name='response_count')\n",
    "\n",
    "print(response_rate_by_channel)\n"
   ]
  },
  {
   "cell_type": "code",
   "execution_count": null,
   "id": "4a0251f5-263a-4d75-adac-11a705f825f2",
   "metadata": {},
   "outputs": [],
   "source": []
  }
 ],
 "metadata": {
  "colab": {
   "provenance": []
  },
  "kernelspec": {
   "display_name": "Python 3 (ipykernel)",
   "language": "python",
   "name": "python3"
  },
  "language_info": {
   "codemirror_mode": {
    "name": "ipython",
    "version": 3
   },
   "file_extension": ".py",
   "mimetype": "text/x-python",
   "name": "python",
   "nbconvert_exporter": "python",
   "pygments_lexer": "ipython3",
   "version": "3.11.7"
  }
 },
 "nbformat": 4,
 "nbformat_minor": 5
}
