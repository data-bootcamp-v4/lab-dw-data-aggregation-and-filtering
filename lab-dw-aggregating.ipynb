{
  "cells": [
    {
      "cell_type": "markdown",
      "id": "31969215-2a90-4d8b-ac36-646a7ae13744",
      "metadata": {
        "id": "31969215-2a90-4d8b-ac36-646a7ae13744"
      },
      "source": [
        "# Lab | Data Aggregation and Filtering"
      ]
    },
    {
      "cell_type": "markdown",
      "id": "a8f08a52-bec0-439b-99cc-11d3809d8b5d",
      "metadata": {
        "id": "a8f08a52-bec0-439b-99cc-11d3809d8b5d"
      },
      "source": [
        "In this challenge, we will continue to work with customer data from an insurance company. We will use the dataset called marketing_customer_analysis.csv, which can be found at the following link:\n",
        "\n",
        "https://raw.githubusercontent.com/data-bootcamp-v4/data/main/marketing_customer_analysis.csv\n",
        "\n",
        "This dataset contains information such as customer demographics, policy details, vehicle information, and the customer's response to the last marketing campaign. Our goal is to explore and analyze this data by first performing data cleaning, formatting, and structuring."
      ]
    },
    {
      "cell_type": "markdown",
      "id": "9c98ddc5-b041-4c94-ada1-4dfee5c98e50",
      "metadata": {
        "id": "9c98ddc5-b041-4c94-ada1-4dfee5c98e50"
      },
      "source": [
        "1. Create a new DataFrame that only includes customers who have a total_claim_amount greater than $1,000 and have a response of \"Yes\" to the last marketing campaign."
      ]
    },
    {
      "cell_type": "code",
      "execution_count": 1,
      "id": "8de8db4e",
      "metadata": {},
      "outputs": [],
      "source": [
        "import pandas as pd\n",
        "\n",
        "# Función para limpiar los nombres de columnas\n",
        "def cleaning_columns_names(df):\n",
        "    # Poner en minúsculas y reemplazar espacios por guiones bajos\n",
        "    new_columns = [column.lower().replace(' ','_') for column in df.columns]\n",
        "    df.columns = new_columns\n",
        "    return df\n",
        "\n",
        "# Cargar el dataset\n",
        "df = pd.read_csv('https://raw.githubusercontent.com/data-bootcamp-v4/data/main/marketing_customer_analysis.csv')\n",
        "\n",
        "# Limpiar nombres de columnas\n",
        "df = cleaning_columns_names(df)\n",
        "\n",
        "# Filtrar clientes con total_claim_amount > 1000 y respuesta \"Yes\"\n",
        "df1=df[(df['total_claim_amount'] > 1000) & (df['response']=='Yes')]"
      ]
    },
    {
      "cell_type": "markdown",
      "id": "b9be383e-5165-436e-80c8-57d4c757c8c3",
      "metadata": {
        "id": "b9be383e-5165-436e-80c8-57d4c757c8c3"
      },
      "source": [
        "2. Using the original Dataframe, analyze the average total_claim_amount by each policy type and gender for customers who have responded \"Yes\" to the last marketing campaign. Write your conclusions."
      ]
    },
    {
      "cell_type": "code",
      "execution_count": null,
      "id": "d506e8e9",
      "metadata": {},
      "outputs": [],
      "source": [
        "df2 = df[df['response'] == 'Yes'].groupby(['policy_type','gender'])['total_claim_amount'].mean()\n",
        "df2\n",
        "\n",
        "# CONCLUSIONES:\n",
        "\n",
        "# Entre los clientes que respondieron \"Yes\" a la campaña:\n",
        "\n",
        "# Las mujeres con pólizas \"Special Auto\" tienen el mayor promedio de reclamación, seguidas por los hombres del mismo tipo de póliza.\n",
        "\n",
        "# Las pólizas de tipo \"Corporate Auto\" también tienen altos importes medios reclamados, especialmente entre las mujeres.\n",
        "\n",
        "# \"Personal Auto\" tiene los importes medios más bajos, independientemente del género.\n",
        "\n",
        "# Esto sugiere que los clientes con pólizas más específicas o empresariales (como Special Auto y Corporate Auto) \n",
        "# tienden a tener mayores reclamaciones, lo que podría deberse a una mayor cobertura o tipo de siniestros."
      ]
    },
    {
      "cell_type": "markdown",
      "id": "7050f4ac-53c5-4193-a3c0-8699b87196f0",
      "metadata": {
        "id": "7050f4ac-53c5-4193-a3c0-8699b87196f0"
      },
      "source": [
        "3. Analyze the total number of customers who have policies in each state, and then filter the results to only include states where there are more than 500 customers."
      ]
    },
    {
      "cell_type": "code",
      "execution_count": null,
      "id": "a9ddbbed",
      "metadata": {},
      "outputs": [
        {
          "data": {
            "text/plain": [
              "state\n",
              "California    3552\n",
              "Oregon        2909\n",
              "Arizona       1937\n",
              "Nevada         993\n",
              "Washington     888\n",
              "Name: customer, dtype: int64"
            ]
          },
          "execution_count": 3,
          "metadata": {},
          "output_type": "execute_result"
        }
      ],
      "source": [
        "# Contar número de clientes por estado\n",
        "df3 =  df.groupby('state')['customer'].count()\n",
        "\n",
        "# Filtrar estados con más de 500 clientes\n",
        "df3 = df3[df3>500]\n",
        "\n",
        "# Mostrar resultados\n",
        "df3 = df3.sort_values(ascending=False)\n",
        "df3\n",
        "\n",
        "# CONCLUSIONES\n",
        "\n",
        "# Solo unos pocos estados tienen una gran base de clientes (más de 500).\n",
        "# Esto puede indicar mercados clave donde la aseguradora tiene una mayor presencia. \n",
        "# California y Oregon, por ejemplo, podrían ser los principales objetivos para campañas futuras debido a su gran volumen de clientes actuales."
      ]
    },
    {
      "cell_type": "markdown",
      "id": "b60a4443-a1a7-4bbf-b78e-9ccdf9895e0d",
      "metadata": {
        "id": "b60a4443-a1a7-4bbf-b78e-9ccdf9895e0d"
      },
      "source": [
        "4. Find the maximum, minimum, and median customer lifetime value by education level and gender. Write your conclusions."
      ]
    },
    {
      "cell_type": "code",
      "execution_count": null,
      "id": "3268a815",
      "metadata": {},
      "outputs": [
        {
          "data": {
            "text/html": [
              "<div>\n",
              "<style scoped>\n",
              "    .dataframe tbody tr th:only-of-type {\n",
              "        vertical-align: middle;\n",
              "    }\n",
              "\n",
              "    .dataframe tbody tr th {\n",
              "        vertical-align: top;\n",
              "    }\n",
              "\n",
              "    .dataframe thead th {\n",
              "        text-align: right;\n",
              "    }\n",
              "</style>\n",
              "<table border=\"1\" class=\"dataframe\">\n",
              "  <thead>\n",
              "    <tr style=\"text-align: right;\">\n",
              "      <th></th>\n",
              "      <th></th>\n",
              "      <th>max</th>\n",
              "      <th>min</th>\n",
              "      <th>median</th>\n",
              "    </tr>\n",
              "    <tr>\n",
              "      <th>education</th>\n",
              "      <th>gender</th>\n",
              "      <th></th>\n",
              "      <th></th>\n",
              "      <th></th>\n",
              "    </tr>\n",
              "  </thead>\n",
              "  <tbody>\n",
              "    <tr>\n",
              "      <th rowspan=\"2\" valign=\"top\">Bachelor</th>\n",
              "      <th>F</th>\n",
              "      <td>73225.95652</td>\n",
              "      <td>1904.000852</td>\n",
              "      <td>5640.505303</td>\n",
              "    </tr>\n",
              "    <tr>\n",
              "      <th>M</th>\n",
              "      <td>67907.27050</td>\n",
              "      <td>1898.007675</td>\n",
              "      <td>5548.031892</td>\n",
              "    </tr>\n",
              "    <tr>\n",
              "      <th rowspan=\"2\" valign=\"top\">College</th>\n",
              "      <th>F</th>\n",
              "      <td>61850.18803</td>\n",
              "      <td>1898.683686</td>\n",
              "      <td>5623.611187</td>\n",
              "    </tr>\n",
              "    <tr>\n",
              "      <th>M</th>\n",
              "      <td>61134.68307</td>\n",
              "      <td>1918.119700</td>\n",
              "      <td>6005.847375</td>\n",
              "    </tr>\n",
              "    <tr>\n",
              "      <th rowspan=\"2\" valign=\"top\">Doctor</th>\n",
              "      <th>F</th>\n",
              "      <td>44856.11397</td>\n",
              "      <td>2395.570000</td>\n",
              "      <td>5332.462694</td>\n",
              "    </tr>\n",
              "    <tr>\n",
              "      <th>M</th>\n",
              "      <td>32677.34284</td>\n",
              "      <td>2267.604038</td>\n",
              "      <td>5577.669457</td>\n",
              "    </tr>\n",
              "    <tr>\n",
              "      <th rowspan=\"2\" valign=\"top\">High School or Below</th>\n",
              "      <th>F</th>\n",
              "      <td>55277.44589</td>\n",
              "      <td>2144.921535</td>\n",
              "      <td>6039.553187</td>\n",
              "    </tr>\n",
              "    <tr>\n",
              "      <th>M</th>\n",
              "      <td>83325.38119</td>\n",
              "      <td>1940.981221</td>\n",
              "      <td>6286.731006</td>\n",
              "    </tr>\n",
              "    <tr>\n",
              "      <th rowspan=\"2\" valign=\"top\">Master</th>\n",
              "      <th>F</th>\n",
              "      <td>51016.06704</td>\n",
              "      <td>2417.777032</td>\n",
              "      <td>5729.855012</td>\n",
              "    </tr>\n",
              "    <tr>\n",
              "      <th>M</th>\n",
              "      <td>50568.25912</td>\n",
              "      <td>2272.307310</td>\n",
              "      <td>5579.099207</td>\n",
              "    </tr>\n",
              "  </tbody>\n",
              "</table>\n",
              "</div>"
            ],
            "text/plain": [
              "                                     max          min       median\n",
              "education            gender                                       \n",
              "Bachelor             F       73225.95652  1904.000852  5640.505303\n",
              "                     M       67907.27050  1898.007675  5548.031892\n",
              "College              F       61850.18803  1898.683686  5623.611187\n",
              "                     M       61134.68307  1918.119700  6005.847375\n",
              "Doctor               F       44856.11397  2395.570000  5332.462694\n",
              "                     M       32677.34284  2267.604038  5577.669457\n",
              "High School or Below F       55277.44589  2144.921535  6039.553187\n",
              "                     M       83325.38119  1940.981221  6286.731006\n",
              "Master               F       51016.06704  2417.777032  5729.855012\n",
              "                     M       50568.25912  2272.307310  5579.099207"
            ]
          },
          "execution_count": 4,
          "metadata": {},
          "output_type": "execute_result"
        }
      ],
      "source": [
        "df4 = df.groupby(['education','gender'])['customer_lifetime_value'].agg(['max','min','median'])\n",
        "df4\n",
        "\n",
        "# CONCLUSIONES\n",
        "\n",
        "# 1. Los hombres con menor nivel educativo (\"High School or Below\") tienen el CLV más alto\n",
        "\n",
        "# 2. Las mujeres con formación universitaria (\"Bachelor\") tienen el CLV máximo más alto entre mujeres\n",
        "\n",
        "# 3. Clientes con doctorado tienen CLV más moderado\n",
        "\n",
        "# 4.La mediana es bastante estable entre niveles educativos (entre 5.300 y 6.300), excepto en los extremos\n",
        "\n",
        "# 5. Grandes diferencias entre el mínimo y máximo CLV dentro de cada grupo\n",
        "\n",
        "# Aunque el nivel educativo y el género influyen en el CLV, no hay una correlación directa y clara. \n",
        "# Sin embargo, destacan ciertos grupos:\n",
        "\n",
        "# Hombres con baja educación: sorprendentemente valiosos, posiblemente por hábitos de consumo o fidelidad.\n",
        "\n",
        "# Mujeres universitarias: segmento consistente y rentable.\n",
        "\n",
        "# Clientes con doctorado: valor más moderado de media.\n"
      ]
    },
    {
      "cell_type": "markdown",
      "id": "b42999f9-311f-481e-ae63-40a5577072c5",
      "metadata": {
        "id": "b42999f9-311f-481e-ae63-40a5577072c5"
      },
      "source": [
        "## Bonus"
      ]
    },
    {
      "cell_type": "markdown",
      "id": "81ff02c5-6584-4f21-a358-b918697c6432",
      "metadata": {
        "id": "81ff02c5-6584-4f21-a358-b918697c6432"
      },
      "source": [
        "5. The marketing team wants to analyze the number of policies sold by state and month. Present the data in a table where the months are arranged as columns and the states are arranged as rows."
      ]
    },
    {
      "cell_type": "code",
      "execution_count": 23,
      "id": "eab739a8",
      "metadata": {},
      "outputs": [
        {
          "data": {
            "text/html": [
              "<div>\n",
              "<style scoped>\n",
              "    .dataframe tbody tr th:only-of-type {\n",
              "        vertical-align: middle;\n",
              "    }\n",
              "\n",
              "    .dataframe tbody tr th {\n",
              "        vertical-align: top;\n",
              "    }\n",
              "\n",
              "    .dataframe thead th {\n",
              "        text-align: right;\n",
              "    }\n",
              "</style>\n",
              "<table border=\"1\" class=\"dataframe\">\n",
              "  <thead>\n",
              "    <tr style=\"text-align: right;\">\n",
              "      <th>month</th>\n",
              "      <th>January</th>\n",
              "      <th>February</th>\n",
              "    </tr>\n",
              "    <tr>\n",
              "      <th>state</th>\n",
              "      <th></th>\n",
              "      <th></th>\n",
              "    </tr>\n",
              "  </thead>\n",
              "  <tbody>\n",
              "    <tr>\n",
              "      <th>Arizona</th>\n",
              "      <td>3052</td>\n",
              "      <td>2864</td>\n",
              "    </tr>\n",
              "    <tr>\n",
              "      <th>California</th>\n",
              "      <td>5673</td>\n",
              "      <td>4929</td>\n",
              "    </tr>\n",
              "    <tr>\n",
              "      <th>Nevada</th>\n",
              "      <td>1493</td>\n",
              "      <td>1278</td>\n",
              "    </tr>\n",
              "    <tr>\n",
              "      <th>Oregon</th>\n",
              "      <td>4697</td>\n",
              "      <td>3969</td>\n",
              "    </tr>\n",
              "    <tr>\n",
              "      <th>Washington</th>\n",
              "      <td>1358</td>\n",
              "      <td>1225</td>\n",
              "    </tr>\n",
              "  </tbody>\n",
              "</table>\n",
              "</div>"
            ],
            "text/plain": [
              "month       January  February\n",
              "state                        \n",
              "Arizona        3052      2864\n",
              "California     5673      4929\n",
              "Nevada         1493      1278\n",
              "Oregon         4697      3969\n",
              "Washington     1358      1225"
            ]
          },
          "execution_count": 23,
          "metadata": {},
          "output_type": "execute_result"
        }
      ],
      "source": [
        "# Extraemos el nombre del mes de la columna 'effective_to_date'\n",
        "df['month'] = pd.to_datetime(df['effective_to_date'], format='%m/%d/%y').dt.month_name()\n",
        "\n",
        "# Ordena los meses cronológicamente\n",
        "month_order = ['January', 'February', 'March', 'April', 'May', 'June',\n",
        "               'July', 'August', 'September', 'October', 'November', 'December']\n",
        "df['month'] = pd.Categorical(df['month'], categories=month_order, ordered=True)\n",
        "\n",
        "df5 = df.groupby(['state', 'month'],observed=True)['number_of_policies'].sum().unstack()\n",
        "df5\n",
        "\n",
        "# CONCLUSIONES\n",
        "\n",
        "# 1. En todos los estados, las ventas de pólizas en febrero son menores que en enero\n",
        "\n",
        "# 2. California es el estado con mayor número de pólizas vendidas en ambos meses, seguido de Oregon y Arizona."
      ]
    },
    {
      "cell_type": "markdown",
      "id": "b6aec097-c633-4017-a125-e77a97259cda",
      "metadata": {
        "id": "b6aec097-c633-4017-a125-e77a97259cda"
      },
      "source": [
        "6.  Display a new DataFrame that contains the number of policies sold by month, by state, for the top 3 states with the highest number of policies sold.\n",
        "\n",
        "*Hint:*\n",
        "- *To accomplish this, you will first need to group the data by state and month, then count the number of policies sold for each group. Afterwards, you will need to sort the data by the count of policies sold in descending order.*\n",
        "- *Next, you will select the top 3 states with the highest number of policies sold.*\n",
        "- *Finally, you will create a new DataFrame that contains the number of policies sold by month for each of the top 3 states.*"
      ]
    },
    {
      "cell_type": "code",
      "execution_count": 22,
      "id": "746359c5",
      "metadata": {},
      "outputs": [
        {
          "data": {
            "text/html": [
              "<div>\n",
              "<style scoped>\n",
              "    .dataframe tbody tr th:only-of-type {\n",
              "        vertical-align: middle;\n",
              "    }\n",
              "\n",
              "    .dataframe tbody tr th {\n",
              "        vertical-align: top;\n",
              "    }\n",
              "\n",
              "    .dataframe thead th {\n",
              "        text-align: right;\n",
              "    }\n",
              "</style>\n",
              "<table border=\"1\" class=\"dataframe\">\n",
              "  <thead>\n",
              "    <tr style=\"text-align: right;\">\n",
              "      <th>month</th>\n",
              "      <th>January</th>\n",
              "      <th>February</th>\n",
              "    </tr>\n",
              "    <tr>\n",
              "      <th>state</th>\n",
              "      <th></th>\n",
              "      <th></th>\n",
              "    </tr>\n",
              "  </thead>\n",
              "  <tbody>\n",
              "    <tr>\n",
              "      <th>Arizona</th>\n",
              "      <td>3052</td>\n",
              "      <td>2864</td>\n",
              "    </tr>\n",
              "    <tr>\n",
              "      <th>California</th>\n",
              "      <td>5673</td>\n",
              "      <td>4929</td>\n",
              "    </tr>\n",
              "    <tr>\n",
              "      <th>Oregon</th>\n",
              "      <td>4697</td>\n",
              "      <td>3969</td>\n",
              "    </tr>\n",
              "  </tbody>\n",
              "</table>\n",
              "</div>"
            ],
            "text/plain": [
              "month       January  February\n",
              "state                        \n",
              "Arizona        3052      2864\n",
              "California     5673      4929\n",
              "Oregon         4697      3969"
            ]
          },
          "execution_count": 22,
          "metadata": {},
          "output_type": "execute_result"
        }
      ],
      "source": [
        "# Agrupar por estado y mes, sumando número de pólizas\n",
        "df6 = df.groupby(['state', 'month'],observed=True)['number_of_policies'].sum().reset_index()\n",
        "\n",
        "# Obtener los 3 estados con mayor número total de pólizas vendidas\n",
        "top_states = df6.groupby('state')['number_of_policies'].sum().sort_values(ascending=False).head(3).index\n",
        "\n",
        "# Filtrar solo esos estados top\n",
        "df6 = df6[df6['state'].isin(top_states)]\n",
        "\n",
        "# Pivotar para que los meses sean columnas y estados filas\n",
        "df6_pivot = df6.pivot(index='state', columns='month', values='number_of_policies').fillna(0)\n",
        "\n",
        "df6_pivot\n"
      ]
    },
    {
      "cell_type": "markdown",
      "id": "ba975b8a-a2cf-4fbf-9f59-ebc381767009",
      "metadata": {
        "id": "ba975b8a-a2cf-4fbf-9f59-ebc381767009"
      },
      "source": [
        "7. The marketing team wants to analyze the effect of different marketing channels on the customer response rate.\n",
        "\n",
        "Hint: You can use melt to unpivot the data and create a table that shows the customer response rate (those who responded \"Yes\") by marketing channel."
      ]
    },
    {
      "cell_type": "code",
      "execution_count": 25,
      "id": "af99e675",
      "metadata": {},
      "outputs": [
        {
          "data": {
            "text/plain": [
              "sales_channel\n",
              "Agent          0.180053\n",
              "Branch         0.107876\n",
              "Call Center    0.103223\n",
              "Web            0.108856\n",
              "Name: response, dtype: float64"
            ]
          },
          "execution_count": 25,
          "metadata": {},
          "output_type": "execute_result"
        }
      ],
      "source": [
        "response_rate = df.groupby('sales_channel')['response'].apply(lambda x: (x == 'Yes').mean())\n",
        "\n",
        "response_rate"
      ]
    },
    {
      "cell_type": "markdown",
      "id": "e4378d94-48fb-4850-a802-b1bc8f427b2d",
      "metadata": {
        "id": "e4378d94-48fb-4850-a802-b1bc8f427b2d"
      },
      "source": [
        "External Resources for Data Filtering: https://towardsdatascience.com/filtering-data-frames-in-pandas-b570b1f834b9"
      ]
    }
  ],
  "metadata": {
    "colab": {
      "provenance": []
    },
    "kernelspec": {
      "display_name": "venv",
      "language": "python",
      "name": "python3"
    },
    "language_info": {
      "codemirror_mode": {
        "name": "ipython",
        "version": 3
      },
      "file_extension": ".py",
      "mimetype": "text/x-python",
      "name": "python",
      "nbconvert_exporter": "python",
      "pygments_lexer": "ipython3",
      "version": "3.12.2"
    }
  },
  "nbformat": 4,
  "nbformat_minor": 5
}
