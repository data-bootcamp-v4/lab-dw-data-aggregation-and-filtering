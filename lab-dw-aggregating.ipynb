{
  "cells": [
    {
      "cell_type": "markdown",
      "id": "31969215-2a90-4d8b-ac36-646a7ae13744",
      "metadata": {
        "id": "31969215-2a90-4d8b-ac36-646a7ae13744"
      },
      "source": [
        "# Lab | Data Aggregation and Filtering"
      ]
    },
    {
      "cell_type": "markdown",
      "id": "a8f08a52-bec0-439b-99cc-11d3809d8b5d",
      "metadata": {
        "id": "a8f08a52-bec0-439b-99cc-11d3809d8b5d"
      },
      "source": [
        "In this challenge, we will continue to work with customer data from an insurance company. We will use the dataset called marketing_customer_analysis.csv, which can be found at the following link:\n",
        "\n",
        "https://raw.githubusercontent.com/data-bootcamp-v4/data/main/marketing_customer_analysis.csv\n",
        "\n",
        "This dataset contains information such as customer demographics, policy details, vehicle information, and the customer's response to the last marketing campaign. Our goal is to explore and analyze this data by first performing data cleaning, formatting, and structuring."
      ]
    },
    {
      "cell_type": "markdown",
      "id": "9c98ddc5-b041-4c94-ada1-4dfee5c98e50",
      "metadata": {
        "id": "9c98ddc5-b041-4c94-ada1-4dfee5c98e50"
      },
      "source": [
        "1. Create a new DataFrame that only includes customers who have a total_claim_amount greater than $1,000 and have a response of \"Yes\" to the last marketing campaign."
      ]
    },
    {
      "cell_type": "code",
      "execution_count": null,
      "id": "1b2022ff",
      "metadata": {},
      "outputs": [],
      "source": [
        "import pandas as pd\n",
        "\n",
        "# Load the dataset\n",
        "url = 'https://raw.githubusercontent.com/data-bootcamp-v4/data/main/marketing_customer_analysis.csv'\n",
        "df = pd.read_csv(url)\n",
        "\n",
        "# Clean the dataset (if not already cleaned)\n",
        "df.columns = df.columns.str.strip()  # Strip whitespace from column names\n",
        "\n",
        "# Create a new DataFrame for customers with total_claim_amount > $1,000 and response \"Yes\"\n",
        "filtered_df = df[(df['total_claim_amount'] > 1000) & (df['response'] == 'Yes')]\n",
        "\n",
        "# Display the new DataFrame\n",
        "filtered_df"
      ]
    },
    {
      "cell_type": "markdown",
      "id": "b9be383e-5165-436e-80c8-57d4c757c8c3",
      "metadata": {
        "id": "b9be383e-5165-436e-80c8-57d4c757c8c3"
      },
      "source": [
        "2. Using the original Dataframe, analyze the average total_claim_amount by each policy type and gender for customers who have responded \"Yes\" to the last marketing campaign. Write your conclusions."
      ]
    },
    {
      "cell_type": "code",
      "execution_count": null,
      "id": "cd513e8a",
      "metadata": {},
      "outputs": [],
      "source": [
        "# Analyze the average total_claim_amount by policy type and gender for those who responded \"Yes\"\n",
        "average_claims = df[df['response'] == 'Yes'].groupby(['policy_type', 'gender'])['total_claim_amount'].mean().reset_index()\n",
        "\n",
        "# Round the results for better readability\n",
        "average_claims['total_claim_amount'] = average_claims['total_claim_amount'].round(2)\n",
        "\n",
        "# Display the results\n",
        "average_claims\n",
        "\n",
        "# Conclusions\n",
        "# The results show which policy types and genders have the highest average claim amounts.\n",
        "# Higher claims in specific demographics may indicate areas where marketing or policy adjustments are necessary."
      ]
    },
    {
      "cell_type": "markdown",
      "id": "7050f4ac-53c5-4193-a3c0-8699b87196f0",
      "metadata": {
        "id": "7050f4ac-53c5-4193-a3c0-8699b87196f0"
      },
      "source": [
        "3. Analyze the total number of customers who have policies in each state, and then filter the results to only include states where there are more than 500 customers."
      ]
    },
    {
      "cell_type": "code",
      "execution_count": null,
      "id": "4ee8b20c",
      "metadata": {},
      "outputs": [],
      "source": [
        "# Analyze total number of customers by state\n",
        "customer_count_by_state = df['state'].value_counts().reset_index()\n",
        "customer_count_by_state.columns = ['state', 'customer_count']\n",
        "\n",
        "# Filter to include only states with more than 500 customers\n",
        "filtered_states = customer_count_by_state[customer_count_by_state['customer_count'] > 500]\n",
        "\n",
        "# Display the filtered results\n",
        "filtered_states"
      ]
    },
    {
      "cell_type": "markdown",
      "id": "b60a4443-a1a7-4bbf-b78e-9ccdf9895e0d",
      "metadata": {
        "id": "b60a4443-a1a7-4bbf-b78e-9ccdf9895e0d"
      },
      "source": [
        "4. Find the maximum, minimum, and median customer lifetime value by education level and gender. Write your conclusions."
      ]
    },
    {
      "cell_type": "code",
      "execution_count": null,
      "id": "ec85d889",
      "metadata": {},
      "outputs": [],
      "source": [
        "# Calculate max, min, and median customer lifetime value by education level and gender\n",
        "lifetime_value_summary = df.groupby(['education', 'gender'])['customer_lifetime_value'].agg(['max', 'min', 'median']).reset_index()\n",
        "\n",
        "# Display the results\n",
        "lifetime_value_summary\n",
        "\n",
        "# Conclusions\n",
        "# The summary table shows the variability of customer lifetime value across education levels and genders.\n",
        "# Identifying trends here can help in tailoring marketing efforts to specific demographics that show higher values."
      ]
    },
    {
      "cell_type": "markdown",
      "id": "b42999f9-311f-481e-ae63-40a5577072c5",
      "metadata": {
        "id": "b42999f9-311f-481e-ae63-40a5577072c5"
      },
      "source": [
        "## Bonus"
      ]
    },
    {
      "cell_type": "markdown",
      "id": "81ff02c5-6584-4f21-a358-b918697c6432",
      "metadata": {
        "id": "81ff02c5-6584-4f21-a358-b918697c6432"
      },
      "source": [
        "5. The marketing team wants to analyze the number of policies sold by state and month. Present the data in a table where the months are arranged as columns and the states are arranged as rows."
      ]
    },
    {
      "cell_type": "code",
      "execution_count": null,
      "id": "fc5d6448",
      "metadata": {},
      "outputs": [],
      "source": [
        "import pandas as pd\n",
        "\n",
        "# Load the dataset\n",
        "url = 'https://raw.githubusercontent.com/data-bootcamp-v4/data/main/marketing_customer_analysis.csv'\n",
        "df = pd.read_csv(url)\n",
        "\n",
        "# Clean the dataset (if not already cleaned)\n",
        "df.columns = df.columns.str.strip()  # Strip whitespace from column names\n",
        "\n",
        "# Convert 'policy_start_date' to datetime format if applicable\n",
        "df['policy_start_date'] = pd.to_datetime(df['policy_start_date'], errors='coerce')\n",
        "\n",
        "# Extract month from 'policy_start_date' and create a new column\n",
        "df['Month'] = df['policy_start_date'].dt.month_name()\n",
        "\n",
        "# Create a pivot table to count the number of policies sold by state and month\n",
        "policy_count = df.pivot_table(values='policy_type', \n",
        "                               index='state', \n",
        "                               columns='Month', \n",
        "                               aggfunc='count', \n",
        "                               fill_value=0)\n",
        "\n",
        "# Display the pivot table\n",
        "policy_count"
      ]
    },
    {
      "cell_type": "markdown",
      "id": "b6aec097-c633-4017-a125-e77a97259cda",
      "metadata": {
        "id": "b6aec097-c633-4017-a125-e77a97259cda"
      },
      "source": [
        "6.  Display a new DataFrame that contains the number of policies sold by month, by state, for the top 3 states with the highest number of policies sold.\n",
        "\n",
        "*Hint:*\n",
        "- *To accomplish this, you will first need to group the data by state and month, then count the number of policies sold for each group. Afterwards, you will need to sort the data by the count of policies sold in descending order.*\n",
        "- *Next, you will select the top 3 states with the highest number of policies sold.*\n",
        "- *Finally, you will create a new DataFrame that contains the number of policies sold by month for each of the top 3 states.*"
      ]
    },
    {
      "cell_type": "code",
      "execution_count": null,
      "id": "51594153",
      "metadata": {},
      "outputs": [],
      "source": [
        "import pandas as pd\n",
        "\n",
        "# Load the dataset\n",
        "url = 'https://raw.githubusercontent.com/data-bootcamp-v4/data/main/marketing_customer_analysis.csv'\n",
        "df = pd.read_csv(url)\n",
        "\n",
        "# Clean the dataset (if not already cleaned)\n",
        "df.columns = df.columns.str.strip()  # Strip whitespace from column names\n",
        "\n",
        "# Convert 'policy_start_date' to datetime format if applicable\n",
        "df['policy_start_date'] = pd.to_datetime(df['policy_start_date'], errors='coerce')\n",
        "\n",
        "# Extract month from 'policy_start_date' and create a new column\n",
        "df['Month'] = df['policy_start_date'].dt.month_name()\n",
        "\n",
        "# Group by state and month, counting the number of policies sold\n",
        "policies_sold = df.groupby(['state', 'Month']).size().reset_index(name='Number of Policies')\n",
        "\n",
        "# Sort the data by the count of policies sold in descending order\n",
        "state_totals = policies_sold.groupby('state')['Number of Policies'].sum().reset_index()\n",
        "top_states = state_totals.sort_values(by='Number of Policies', ascending=False).head(3)\n",
        "\n",
        "# Filter the original DataFrame to include only the top 3 states\n",
        "top_policies_sold = policies_sold[policies_sold['state'].isin(top_states['state'])]\n",
        "\n",
        "# Display the new DataFrame\n",
        "top_policies_sold"
      ]
    },
    {
      "cell_type": "markdown",
      "id": "ba975b8a-a2cf-4fbf-9f59-ebc381767009",
      "metadata": {
        "id": "ba975b8a-a2cf-4fbf-9f59-ebc381767009"
      },
      "source": [
        "7. The marketing team wants to analyze the effect of different marketing channels on the customer response rate.\n",
        "\n",
        "Hint: You can use melt to unpivot the data and create a table that shows the customer response rate (those who responded \"Yes\") by marketing channel."
      ]
    },
    {
      "cell_type": "markdown",
      "id": "e4378d94-48fb-4850-a802-b1bc8f427b2d",
      "metadata": {
        "id": "e4378d94-48fb-4850-a802-b1bc8f427b2d"
      },
      "source": [
        "External Resources for Data Filtering: https://towardsdatascience.com/filtering-data-frames-in-pandas-b570b1f834b9"
      ]
    },
    {
      "cell_type": "code",
      "execution_count": null,
      "id": "449513f4-0459-46a0-a18d-9398d974c9ad",
      "metadata": {
        "id": "449513f4-0459-46a0-a18d-9398d974c9ad"
      },
      "outputs": [],
      "source": [
        "import pandas as pd\n",
        "\n",
        "# Load the dataset\n",
        "url = 'https://raw.githubusercontent.com/data-bootcamp-v4/data/main/marketing_customer_analysis.csv'\n",
        "df = pd.read_csv(url)\n",
        "\n",
        "# Clean the dataset (if not already cleaned)\n",
        "df.columns = df.columns.str.strip()  # Strip whitespace from column names\n",
        "\n",
        "# Assuming there are marketing channels in the dataset\n",
        "# Let's say the marketing channels are represented in the columns:\n",
        "# 'channel_1', 'channel_2', 'channel_3', etc.\n",
        "\n",
        "# First, melt the DataFrame to unpivot it\n",
        "melted_df = df.melt(id_vars=['response'], \n",
        "                    value_vars=['channel_1', 'channel_2', 'channel_3'],  # Replace with actual channel names\n",
        "                    var_name='Marketing_Channel', \n",
        "                    value_name='Channel_Value')\n",
        "\n",
        "# Filter to include only those who responded \"Yes\"\n",
        "yes_responses = melted_df[melted_df['response'] == 'Yes']\n",
        "\n",
        "# Calculate response rates by marketing channel\n",
        "response_rate = yes_responses.groupby('Marketing_Channel').size().reset_index(name='Yes_Count')\n",
        "\n",
        "# Calculate the total responses for each marketing channel\n",
        "total_responses = melted_df.groupby('Marketing_Channel').size().reset_index(name='Total_Count')\n",
        "\n",
        "# Merge the two DataFrames to calculate response rates\n",
        "response_rate = pd.merge(response_rate, total_responses, on='Marketing_Channel')\n",
        "response_rate['Response_Rate'] = (response_rate['Yes_Count'] / response_rate['Total_Count']).round(4)\n",
        "\n",
        "# Display the final DataFrame with response rates\n",
        "response_rate[['Marketing_Channel', 'Response_Rate']]"
      ]
    }
  ],
  "metadata": {
    "colab": {
      "provenance": []
    },
    "kernelspec": {
      "display_name": "Python 3 (ipykernel)",
      "language": "python",
      "name": "python3"
    },
    "language_info": {
      "codemirror_mode": {
        "name": "ipython",
        "version": 3
      },
      "file_extension": ".py",
      "mimetype": "text/x-python",
      "name": "python",
      "nbconvert_exporter": "python",
      "pygments_lexer": "ipython3",
      "version": "3.9.13"
    }
  },
  "nbformat": 4,
  "nbformat_minor": 5
}
