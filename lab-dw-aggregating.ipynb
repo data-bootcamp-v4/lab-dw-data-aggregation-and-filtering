{
  "cells": [
    {
      "cell_type": "markdown",
      "id": "31969215-2a90-4d8b-ac36-646a7ae13744",
      "metadata": {
        "id": "31969215-2a90-4d8b-ac36-646a7ae13744"
      },
      "source": [
        "# Lab | Data Aggregation and Filtering"
      ]
    },
    {
      "cell_type": "markdown",
      "id": "a8f08a52-bec0-439b-99cc-11d3809d8b5d",
      "metadata": {
        "id": "a8f08a52-bec0-439b-99cc-11d3809d8b5d"
      },
      "source": [
        "In this challenge, we will continue to work with customer data from an insurance company. We will use the dataset called marketing_customer_analysis.csv, which can be found at the following link:\n",
        "\n",
        "https://raw.githubusercontent.com/data-bootcamp-v4/data/main/marketing_customer_analysis.csv\n",
        "\n",
        "This dataset contains information such as customer demographics, policy details, vehicle information, and the customer's response to the last marketing campaign. Our goal is to explore and analyze this data by first performing data cleaning, formatting, and structuring."
      ]
    },
    {
      "cell_type": "markdown",
      "id": "9c98ddc5-b041-4c94-ada1-4dfee5c98e50",
      "metadata": {
        "id": "9c98ddc5-b041-4c94-ada1-4dfee5c98e50"
      },
      "source": [
        "1. Create a new DataFrame that only includes customers who have a total_claim_amount greater than $1,000 and have a response of \"Yes\" to the last marketing campaign."
      ]
    },
    {
      "cell_type": "markdown",
      "id": "b9be383e-5165-436e-80c8-57d4c757c8c3",
      "metadata": {
        "id": "b9be383e-5165-436e-80c8-57d4c757c8c3"
      },
      "source": [
        "2. Using the original Dataframe, analyze the average total_claim_amount by each policy type and gender for customers who have responded \"Yes\" to the last marketing campaign. Write your conclusions."
      ]
    },
    {
      "cell_type": "markdown",
      "id": "7050f4ac-53c5-4193-a3c0-8699b87196f0",
      "metadata": {
        "id": "7050f4ac-53c5-4193-a3c0-8699b87196f0"
      },
      "source": [
        "3. Analyze the total number of customers who have policies in each state, and then filter the results to only include states where there are more than 500 customers."
      ]
    },
    {
      "cell_type": "markdown",
      "id": "b60a4443-a1a7-4bbf-b78e-9ccdf9895e0d",
      "metadata": {
        "id": "b60a4443-a1a7-4bbf-b78e-9ccdf9895e0d"
      },
      "source": [
        "4. Find the maximum, minimum, and median customer lifetime value by education level and gender. Write your conclusions."
      ]
    },
    {
      "cell_type": "markdown",
      "id": "b42999f9-311f-481e-ae63-40a5577072c5",
      "metadata": {
        "id": "b42999f9-311f-481e-ae63-40a5577072c5"
      },
      "source": [
        "## Bonus"
      ]
    },
    {
      "cell_type": "markdown",
      "id": "81ff02c5-6584-4f21-a358-b918697c6432",
      "metadata": {
        "id": "81ff02c5-6584-4f21-a358-b918697c6432"
      },
      "source": [
        "5. The marketing team wants to analyze the number of policies sold by state and month. Present the data in a table where the months are arranged as columns and the states are arranged as rows."
      ]
    },
    {
      "cell_type": "markdown",
      "id": "b6aec097-c633-4017-a125-e77a97259cda",
      "metadata": {
        "id": "b6aec097-c633-4017-a125-e77a97259cda"
      },
      "source": [
        "6.  Display a new DataFrame that contains the number of policies sold by month, by state, for the top 3 states with the highest number of policies sold.\n",
        "\n",
        "*Hint:*\n",
        "- *To accomplish this, you will first need to group the data by state and month, then count the number of policies sold for each group. Afterwards, you will need to sort the data by the count of policies sold in descending order.*\n",
        "- *Next, you will select the top 3 states with the highest number of policies sold.*\n",
        "- *Finally, you will create a new DataFrame that contains the number of policies sold by month for each of the top 3 states.*"
      ]
    },
    {
      "cell_type": "markdown",
      "id": "ba975b8a-a2cf-4fbf-9f59-ebc381767009",
      "metadata": {
        "id": "ba975b8a-a2cf-4fbf-9f59-ebc381767009"
      },
      "source": [
        "7. The marketing team wants to analyze the effect of different marketing channels on the customer response rate.\n",
        "\n",
        "Hint: You can use melt to unpivot the data and create a table that shows the customer response rate (those who responded \"Yes\") by marketing channel."
      ]
    },
    {
      "cell_type": "markdown",
      "id": "e4378d94-48fb-4850-a802-b1bc8f427b2d",
      "metadata": {
        "id": "e4378d94-48fb-4850-a802-b1bc8f427b2d"
      },
      "source": [
        "External Resources for Data Filtering: https://towardsdatascience.com/filtering-data-frames-in-pandas-b570b1f834b9"
      ]
    },
    {
      "cell_type": "code",
      "execution_count": 2,
      "id": "449513f4-0459-46a0-a18d-9398d974c9ad",
      "metadata": {
        "id": "449513f4-0459-46a0-a18d-9398d974c9ad"
      },
      "outputs": [
        {
          "data": {
            "text/plain": [
              "Index(['unnamed:_0', 'customer', 'state', 'customer_lifetime_value',\n",
              "       'response', 'coverage', 'education', 'effective_to_date',\n",
              "       'employmentstatus', 'gender', 'income', 'location_code',\n",
              "       'marital_status', 'monthly_premium_auto', 'months_since_last_claim',\n",
              "       'months_since_policy_inception', 'number_of_open_complaints',\n",
              "       'number_of_policies', 'policy_type', 'policy', 'renew_offer_type',\n",
              "       'sales_channel', 'total_claim_amount', 'vehicle_class', 'vehicle_size',\n",
              "       'vehicle_type'],\n",
              "      dtype='object')"
            ]
          },
          "execution_count": 2,
          "metadata": {},
          "output_type": "execute_result"
        }
      ],
      "source": [
        "# your code goes here\n",
        "import pandas as pd\n",
        "\n",
        "url = 'https://raw.githubusercontent.com/data-bootcamp-v4/data/main/marketing_customer_analysis.csv'\n",
        "\n",
        "df = pd.read_csv(url)\n",
        "\n",
        "df.columns = df.columns.str.lower()\n",
        "df.columns = df.columns.str.replace(' ', '_')\n",
        "\n",
        "df.columns"
      ]
    },
    {
      "cell_type": "code",
      "execution_count": 3,
      "id": "aa887f12",
      "metadata": {},
      "outputs": [
        {
          "data": {
            "text/plain": [
              "array(['No', 'Yes', nan], dtype=object)"
            ]
          },
          "execution_count": 3,
          "metadata": {},
          "output_type": "execute_result"
        }
      ],
      "source": [
        "df['response'].unique()"
      ]
    },
    {
      "cell_type": "code",
      "execution_count": 4,
      "id": "4938abbb",
      "metadata": {},
      "outputs": [
        {
          "data": {
            "text/html": [
              "<div>\n",
              "<style scoped>\n",
              "    .dataframe tbody tr th:only-of-type {\n",
              "        vertical-align: middle;\n",
              "    }\n",
              "\n",
              "    .dataframe tbody tr th {\n",
              "        vertical-align: top;\n",
              "    }\n",
              "\n",
              "    .dataframe thead th {\n",
              "        text-align: right;\n",
              "    }\n",
              "</style>\n",
              "<table border=\"1\" class=\"dataframe\">\n",
              "  <thead>\n",
              "    <tr style=\"text-align: right;\">\n",
              "      <th></th>\n",
              "      <th>unnamed:_0</th>\n",
              "      <th>customer</th>\n",
              "      <th>state</th>\n",
              "      <th>customer_lifetime_value</th>\n",
              "      <th>response</th>\n",
              "      <th>coverage</th>\n",
              "      <th>education</th>\n",
              "      <th>effective_to_date</th>\n",
              "      <th>employmentstatus</th>\n",
              "      <th>gender</th>\n",
              "      <th>...</th>\n",
              "      <th>number_of_open_complaints</th>\n",
              "      <th>number_of_policies</th>\n",
              "      <th>policy_type</th>\n",
              "      <th>policy</th>\n",
              "      <th>renew_offer_type</th>\n",
              "      <th>sales_channel</th>\n",
              "      <th>total_claim_amount</th>\n",
              "      <th>vehicle_class</th>\n",
              "      <th>vehicle_size</th>\n",
              "      <th>vehicle_type</th>\n",
              "    </tr>\n",
              "  </thead>\n",
              "  <tbody>\n",
              "    <tr>\n",
              "      <th>189</th>\n",
              "      <td>189</td>\n",
              "      <td>OK31456</td>\n",
              "      <td>California</td>\n",
              "      <td>11009.130490</td>\n",
              "      <td>Yes</td>\n",
              "      <td>Premium</td>\n",
              "      <td>Bachelor</td>\n",
              "      <td>1/24/11</td>\n",
              "      <td>Employed</td>\n",
              "      <td>F</td>\n",
              "      <td>...</td>\n",
              "      <td>0.0</td>\n",
              "      <td>1</td>\n",
              "      <td>Corporate Auto</td>\n",
              "      <td>Corporate L3</td>\n",
              "      <td>Offer2</td>\n",
              "      <td>Agent</td>\n",
              "      <td>1358.400000</td>\n",
              "      <td>Luxury Car</td>\n",
              "      <td>Medsize</td>\n",
              "      <td>NaN</td>\n",
              "    </tr>\n",
              "    <tr>\n",
              "      <th>236</th>\n",
              "      <td>236</td>\n",
              "      <td>YJ16163</td>\n",
              "      <td>Oregon</td>\n",
              "      <td>11009.130490</td>\n",
              "      <td>Yes</td>\n",
              "      <td>Premium</td>\n",
              "      <td>Bachelor</td>\n",
              "      <td>1/24/11</td>\n",
              "      <td>Employed</td>\n",
              "      <td>F</td>\n",
              "      <td>...</td>\n",
              "      <td>0.0</td>\n",
              "      <td>1</td>\n",
              "      <td>Special Auto</td>\n",
              "      <td>Special L3</td>\n",
              "      <td>Offer2</td>\n",
              "      <td>Agent</td>\n",
              "      <td>1358.400000</td>\n",
              "      <td>Luxury Car</td>\n",
              "      <td>Medsize</td>\n",
              "      <td>A</td>\n",
              "    </tr>\n",
              "    <tr>\n",
              "      <th>419</th>\n",
              "      <td>419</td>\n",
              "      <td>GW43195</td>\n",
              "      <td>Oregon</td>\n",
              "      <td>25807.063000</td>\n",
              "      <td>Yes</td>\n",
              "      <td>Extended</td>\n",
              "      <td>College</td>\n",
              "      <td>2/13/11</td>\n",
              "      <td>Employed</td>\n",
              "      <td>F</td>\n",
              "      <td>...</td>\n",
              "      <td>1.0</td>\n",
              "      <td>2</td>\n",
              "      <td>Personal Auto</td>\n",
              "      <td>Personal L2</td>\n",
              "      <td>Offer1</td>\n",
              "      <td>Branch</td>\n",
              "      <td>1027.200000</td>\n",
              "      <td>Luxury Car</td>\n",
              "      <td>Small</td>\n",
              "      <td>A</td>\n",
              "    </tr>\n",
              "    <tr>\n",
              "      <th>442</th>\n",
              "      <td>442</td>\n",
              "      <td>IP94270</td>\n",
              "      <td>Arizona</td>\n",
              "      <td>13736.132500</td>\n",
              "      <td>Yes</td>\n",
              "      <td>Premium</td>\n",
              "      <td>Master</td>\n",
              "      <td>2/13/11</td>\n",
              "      <td>Disabled</td>\n",
              "      <td>F</td>\n",
              "      <td>...</td>\n",
              "      <td>0.0</td>\n",
              "      <td>8</td>\n",
              "      <td>Personal Auto</td>\n",
              "      <td>Personal L2</td>\n",
              "      <td>Offer1</td>\n",
              "      <td>Web</td>\n",
              "      <td>1261.319869</td>\n",
              "      <td>SUV</td>\n",
              "      <td>Medsize</td>\n",
              "      <td>A</td>\n",
              "    </tr>\n",
              "    <tr>\n",
              "      <th>587</th>\n",
              "      <td>587</td>\n",
              "      <td>FJ28407</td>\n",
              "      <td>California</td>\n",
              "      <td>5619.689084</td>\n",
              "      <td>Yes</td>\n",
              "      <td>Premium</td>\n",
              "      <td>High School or Below</td>\n",
              "      <td>1/26/11</td>\n",
              "      <td>Unemployed</td>\n",
              "      <td>M</td>\n",
              "      <td>...</td>\n",
              "      <td>0.0</td>\n",
              "      <td>1</td>\n",
              "      <td>Personal Auto</td>\n",
              "      <td>Personal L1</td>\n",
              "      <td>Offer2</td>\n",
              "      <td>Web</td>\n",
              "      <td>1027.000029</td>\n",
              "      <td>SUV</td>\n",
              "      <td>Medsize</td>\n",
              "      <td>A</td>\n",
              "    </tr>\n",
              "  </tbody>\n",
              "</table>\n",
              "<p>5 rows × 26 columns</p>\n",
              "</div>"
            ],
            "text/plain": [
              "     unnamed:_0 customer       state  customer_lifetime_value response  \\\n",
              "189         189  OK31456  California             11009.130490      Yes   \n",
              "236         236  YJ16163      Oregon             11009.130490      Yes   \n",
              "419         419  GW43195      Oregon             25807.063000      Yes   \n",
              "442         442  IP94270     Arizona             13736.132500      Yes   \n",
              "587         587  FJ28407  California              5619.689084      Yes   \n",
              "\n",
              "     coverage             education effective_to_date employmentstatus gender  \\\n",
              "189   Premium              Bachelor           1/24/11         Employed      F   \n",
              "236   Premium              Bachelor           1/24/11         Employed      F   \n",
              "419  Extended               College           2/13/11         Employed      F   \n",
              "442   Premium                Master           2/13/11         Disabled      F   \n",
              "587   Premium  High School or Below           1/26/11       Unemployed      M   \n",
              "\n",
              "     ...  number_of_open_complaints number_of_policies     policy_type  \\\n",
              "189  ...                        0.0                  1  Corporate Auto   \n",
              "236  ...                        0.0                  1    Special Auto   \n",
              "419  ...                        1.0                  2   Personal Auto   \n",
              "442  ...                        0.0                  8   Personal Auto   \n",
              "587  ...                        0.0                  1   Personal Auto   \n",
              "\n",
              "           policy  renew_offer_type  sales_channel  total_claim_amount  \\\n",
              "189  Corporate L3            Offer2          Agent         1358.400000   \n",
              "236    Special L3            Offer2          Agent         1358.400000   \n",
              "419   Personal L2            Offer1         Branch         1027.200000   \n",
              "442   Personal L2            Offer1            Web         1261.319869   \n",
              "587   Personal L1            Offer2            Web         1027.000029   \n",
              "\n",
              "     vehicle_class vehicle_size vehicle_type  \n",
              "189     Luxury Car      Medsize          NaN  \n",
              "236     Luxury Car      Medsize            A  \n",
              "419     Luxury Car        Small            A  \n",
              "442            SUV      Medsize            A  \n",
              "587            SUV      Medsize            A  \n",
              "\n",
              "[5 rows x 26 columns]"
            ]
          },
          "execution_count": 4,
          "metadata": {},
          "output_type": "execute_result"
        }
      ],
      "source": [
        "# Filtrar el DataFrame para incluir solo los clientes que tengan un total_claim_amount > 1000 y que hayan respondido 'Yes'\n",
        "filtered_df = df[(df['total_claim_amount'] > 1000) & (df['response'] == 'Yes')]\n",
        "\n",
        "# Mostrar las primeras filas del nuevo DataFrame para verificar\n",
        "filtered_df.head()\n",
        "\n",
        "\n",
        "\n"
      ]
    },
    {
      "cell_type": "code",
      "execution_count": 5,
      "id": "b92007ae",
      "metadata": {},
      "outputs": [],
      "source": [
        "filtered_df2 = df[df['response'] == 'Yes']"
      ]
    },
    {
      "cell_type": "code",
      "execution_count": 6,
      "id": "a4c1299e",
      "metadata": {},
      "outputs": [],
      "source": [
        "grouped = filtered_df2.groupby(['policy_type', 'gender'])['total_claim_amount'].mean()\n",
        "\n"
      ]
    },
    {
      "cell_type": "code",
      "execution_count": 7,
      "id": "04012b2e",
      "metadata": {},
      "outputs": [
        {
          "data": {
            "text/plain": [
              "policy_type     gender\n",
              "Corporate Auto  F         433.738499\n",
              "                M         408.582459\n",
              "Personal Auto   F         452.965929\n",
              "                M         457.010178\n",
              "Special Auto    F         453.280164\n",
              "Name: total_claim_amount, dtype: float64"
            ]
          },
          "execution_count": 7,
          "metadata": {},
          "output_type": "execute_result"
        }
      ],
      "source": [
        "grouped.head()"
      ]
    },
    {
      "cell_type": "code",
      "execution_count": 8,
      "id": "def2b084",
      "metadata": {},
      "outputs": [
        {
          "data": {
            "text/plain": [
              "True"
            ]
          },
          "execution_count": 8,
          "metadata": {},
          "output_type": "execute_result"
        }
      ],
      "source": [
        "df['customer'].duplicated().any()"
      ]
    },
    {
      "cell_type": "code",
      "execution_count": 9,
      "id": "e6148768",
      "metadata": {},
      "outputs": [],
      "source": [
        "grouped3 = df.groupby(['state'])['customer'].nunique()"
      ]
    },
    {
      "cell_type": "code",
      "execution_count": 10,
      "id": "51126991",
      "metadata": {},
      "outputs": [
        {
          "data": {
            "text/plain": [
              "state\n",
              "Arizona       1703\n",
              "California    3150\n",
              "Nevada         882\n",
              "Oregon        2601\n",
              "Washington     798\n",
              "Name: customer, dtype: int64"
            ]
          },
          "execution_count": 10,
          "metadata": {},
          "output_type": "execute_result"
        }
      ],
      "source": [
        "grouped3.head()"
      ]
    },
    {
      "cell_type": "code",
      "execution_count": 11,
      "id": "4b18c506",
      "metadata": {},
      "outputs": [
        {
          "data": {
            "text/plain": [
              "pandas.core.series.Series"
            ]
          },
          "execution_count": 11,
          "metadata": {},
          "output_type": "execute_result"
        }
      ],
      "source": [
        "type(grouped3)"
      ]
    },
    {
      "cell_type": "code",
      "execution_count": 12,
      "id": "99462f2a",
      "metadata": {},
      "outputs": [
        {
          "name": "stdout",
          "output_type": "stream",
          "text": [
            "state\n",
            "Arizona       1703\n",
            "California    3150\n",
            "Nevada         882\n",
            "Oregon        2601\n",
            "Washington     798\n",
            "Name: customer, dtype: int64\n"
          ]
        }
      ],
      "source": [
        "# Filtrar la Serie por los valores mayores que 1000\n",
        "filtered_serie = grouped3[grouped3  > 500]\n",
        "\n",
        "# Mostrar el resultado\n",
        "print(filtered_serie)\n"
      ]
    },
    {
      "cell_type": "code",
      "execution_count": 13,
      "id": "af82cb31",
      "metadata": {},
      "outputs": [
        {
          "data": {
            "text/html": [
              "<div>\n",
              "<style scoped>\n",
              "    .dataframe tbody tr th:only-of-type {\n",
              "        vertical-align: middle;\n",
              "    }\n",
              "\n",
              "    .dataframe tbody tr th {\n",
              "        vertical-align: top;\n",
              "    }\n",
              "\n",
              "    .dataframe thead th {\n",
              "        text-align: right;\n",
              "    }\n",
              "</style>\n",
              "<table border=\"1\" class=\"dataframe\">\n",
              "  <thead>\n",
              "    <tr style=\"text-align: right;\">\n",
              "      <th></th>\n",
              "      <th>education</th>\n",
              "      <th>gender</th>\n",
              "      <th>max</th>\n",
              "      <th>min</th>\n",
              "      <th>median</th>\n",
              "    </tr>\n",
              "  </thead>\n",
              "  <tbody>\n",
              "    <tr>\n",
              "      <th>0</th>\n",
              "      <td>Bachelor</td>\n",
              "      <td>F</td>\n",
              "      <td>73225.95652</td>\n",
              "      <td>1904.000852</td>\n",
              "      <td>5640.505303</td>\n",
              "    </tr>\n",
              "    <tr>\n",
              "      <th>1</th>\n",
              "      <td>Bachelor</td>\n",
              "      <td>M</td>\n",
              "      <td>67907.27050</td>\n",
              "      <td>1898.007675</td>\n",
              "      <td>5548.031892</td>\n",
              "    </tr>\n",
              "    <tr>\n",
              "      <th>2</th>\n",
              "      <td>College</td>\n",
              "      <td>F</td>\n",
              "      <td>61850.18803</td>\n",
              "      <td>1898.683686</td>\n",
              "      <td>5623.611187</td>\n",
              "    </tr>\n",
              "    <tr>\n",
              "      <th>3</th>\n",
              "      <td>College</td>\n",
              "      <td>M</td>\n",
              "      <td>61134.68307</td>\n",
              "      <td>1918.119700</td>\n",
              "      <td>6005.847375</td>\n",
              "    </tr>\n",
              "    <tr>\n",
              "      <th>4</th>\n",
              "      <td>Doctor</td>\n",
              "      <td>F</td>\n",
              "      <td>44856.11397</td>\n",
              "      <td>2395.570000</td>\n",
              "      <td>5332.462694</td>\n",
              "    </tr>\n",
              "    <tr>\n",
              "      <th>5</th>\n",
              "      <td>Doctor</td>\n",
              "      <td>M</td>\n",
              "      <td>32677.34284</td>\n",
              "      <td>2267.604038</td>\n",
              "      <td>5577.669457</td>\n",
              "    </tr>\n",
              "    <tr>\n",
              "      <th>6</th>\n",
              "      <td>High School or Below</td>\n",
              "      <td>F</td>\n",
              "      <td>55277.44589</td>\n",
              "      <td>2144.921535</td>\n",
              "      <td>6039.553187</td>\n",
              "    </tr>\n",
              "    <tr>\n",
              "      <th>7</th>\n",
              "      <td>High School or Below</td>\n",
              "      <td>M</td>\n",
              "      <td>83325.38119</td>\n",
              "      <td>1940.981221</td>\n",
              "      <td>6286.731006</td>\n",
              "    </tr>\n",
              "    <tr>\n",
              "      <th>8</th>\n",
              "      <td>Master</td>\n",
              "      <td>F</td>\n",
              "      <td>51016.06704</td>\n",
              "      <td>2417.777032</td>\n",
              "      <td>5729.855012</td>\n",
              "    </tr>\n",
              "    <tr>\n",
              "      <th>9</th>\n",
              "      <td>Master</td>\n",
              "      <td>M</td>\n",
              "      <td>50568.25912</td>\n",
              "      <td>2272.307310</td>\n",
              "      <td>5579.099207</td>\n",
              "    </tr>\n",
              "  </tbody>\n",
              "</table>\n",
              "</div>"
            ],
            "text/plain": [
              "              education gender          max          min       median\n",
              "0              Bachelor      F  73225.95652  1904.000852  5640.505303\n",
              "1              Bachelor      M  67907.27050  1898.007675  5548.031892\n",
              "2               College      F  61850.18803  1898.683686  5623.611187\n",
              "3               College      M  61134.68307  1918.119700  6005.847375\n",
              "4                Doctor      F  44856.11397  2395.570000  5332.462694\n",
              "5                Doctor      M  32677.34284  2267.604038  5577.669457\n",
              "6  High School or Below      F  55277.44589  2144.921535  6039.553187\n",
              "7  High School or Below      M  83325.38119  1940.981221  6286.731006\n",
              "8                Master      F  51016.06704  2417.777032  5729.855012\n",
              "9                Master      M  50568.25912  2272.307310  5579.099207"
            ]
          },
          "execution_count": 13,
          "metadata": {},
          "output_type": "execute_result"
        }
      ],
      "source": [
        "df.groupby(['education','gender'])['customer_lifetime_value'].agg(['max', 'min', 'median']).reset_index()\n",
        "\n",
        "\n"
      ]
    },
    {
      "cell_type": "markdown",
      "id": "fbd2d025",
      "metadata": {},
      "source": [
        "El valor de vida del cliente máximo es mayor en mujeres en todos lo sniveles de educacion, menos para las personoas con nivel de estudios de High School o por debajo. El nivel máximo de sueldo está en las mujeres con Master.\n",
        "\n",
        "El minimo es batante parecido tanto para mujeres como para hombres, pero cabe destacar que el más bajo es el de Bachelors y no el de High School o menores, siguiendole de cerca el nivel de College para mujeres.\n",
        "\n",
        "La media más alta de sueldo es entre los hombre con High School y la media mas baja es entre las mujeres con nivel de estudios de Doctoras."
      ]
    },
    {
      "cell_type": "code",
      "execution_count": 17,
      "id": "d3eab2af",
      "metadata": {},
      "outputs": [],
      "source": [
        "#Bonus: 5. The marketing team wants to analyze the number of policies sold by state and month. Present the data in a table where the months are \n",
        "#arranged as columns and the states are arranged as rows."
      ]
    },
    {
      "cell_type": "code",
      "execution_count": 25,
      "id": "0adde980",
      "metadata": {},
      "outputs": [
        {
          "data": {
            "text/plain": [
              "0       2011-02-18\n",
              "1       2011-01-18\n",
              "2       2011-02-10\n",
              "3       2011-01-11\n",
              "4       2011-01-17\n",
              "           ...    \n",
              "10905   2011-01-19\n",
              "10906   2011-01-06\n",
              "10907   2011-02-06\n",
              "10908   2011-02-13\n",
              "10909   2011-01-08\n",
              "Name: effective_to_date, Length: 10910, dtype: datetime64[ns]"
            ]
          },
          "execution_count": 25,
          "metadata": {},
          "output_type": "execute_result"
        }
      ],
      "source": [
        "df['effective_to_date'] = pd.to_datetime(df['effective_to_date'])\n",
        "df['effective_to_date']\n"
      ]
    },
    {
      "cell_type": "code",
      "execution_count": 27,
      "id": "4fc3d611",
      "metadata": {},
      "outputs": [
        {
          "data": {
            "text/plain": [
              "array([2, 1])"
            ]
          },
          "execution_count": 27,
          "metadata": {},
          "output_type": "execute_result"
        }
      ],
      "source": [
        "df['month'] = df['effective_to_date'].dt.month\n",
        "df['month'].unique()"
      ]
    },
    {
      "cell_type": "code",
      "execution_count": 29,
      "id": "92d61e72",
      "metadata": {},
      "outputs": [],
      "source": [
        "import calendar\n",
        "def numero_a_mes(mes):\n",
        "    return calendar.month_name[mes]\n",
        "\n",
        "# Aplicar la función a la columna y crear una nueva columna\n",
        "df['month'] = df['month'].apply(numero_a_mes)"
      ]
    },
    {
      "cell_type": "code",
      "execution_count": 30,
      "id": "16f4d3e7",
      "metadata": {},
      "outputs": [
        {
          "name": "stdout",
          "output_type": "stream",
          "text": [
            "month       February  January\n",
            "state                        \n",
            "Arizona          929     1008\n",
            "California      1634     1918\n",
            "Nevada           442      551\n",
            "Oregon          1344     1565\n",
            "Washington       425      463\n"
          ]
        }
      ],
      "source": [
        "# Crear la tabla pivote con el conteo de policies por estado y mes\n",
        "pivot_table = df.pivot_table(index='state', columns='month', values='number_of_policies', aggfunc='count', fill_value=0)\n",
        "\n",
        "# Mostrar la tabla pivote\n",
        "print(pivot_table)\n"
      ]
    }
  ],
  "metadata": {
    "colab": {
      "provenance": []
    },
    "kernelspec": {
      "display_name": "Python 3 (ipykernel)",
      "language": "python",
      "name": "python3"
    },
    "language_info": {
      "codemirror_mode": {
        "name": "ipython",
        "version": 3
      },
      "file_extension": ".py",
      "mimetype": "text/x-python",
      "name": "python",
      "nbconvert_exporter": "python",
      "pygments_lexer": "ipython3",
      "version": "3.9.13"
    }
  },
  "nbformat": 4,
  "nbformat_minor": 5
}
