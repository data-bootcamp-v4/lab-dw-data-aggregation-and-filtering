{
 "cells": [
  {
   "cell_type": "markdown",
   "id": "31969215-2a90-4d8b-ac36-646a7ae13744",
   "metadata": {
    "id": "31969215-2a90-4d8b-ac36-646a7ae13744"
   },
   "source": [
    "# Lab | Data Aggregation and Filtering"
   ]
  },
  {
   "cell_type": "markdown",
   "id": "a8f08a52-bec0-439b-99cc-11d3809d8b5d",
   "metadata": {
    "id": "a8f08a52-bec0-439b-99cc-11d3809d8b5d"
   },
   "source": [
    "In this challenge, we will continue to work with customer data from an insurance company. We will use the dataset called marketing_customer_analysis.csv, which can be found at the following link:\n",
    "\n",
    "https://raw.githubusercontent.com/data-bootcamp-v4/data/main/marketing_customer_analysis.csv\n",
    "\n",
    "This dataset contains information such as customer demographics, policy details, vehicle information, and the customer's response to the last marketing campaign. Our goal is to explore and analyze this data by first performing data cleaning, formatting, and structuring."
   ]
  },
  {
   "cell_type": "markdown",
   "id": "9c98ddc5-b041-4c94-ada1-4dfee5c98e50",
   "metadata": {
    "id": "9c98ddc5-b041-4c94-ada1-4dfee5c98e50"
   },
   "source": [
    "1. Create a new DataFrame that only includes customers who have a total_claim_amount greater than $1,000 and have a response of \"Yes\" to the last marketing campaign."
   ]
  },
  {
   "cell_type": "markdown",
   "id": "b9be383e-5165-436e-80c8-57d4c757c8c3",
   "metadata": {
    "id": "b9be383e-5165-436e-80c8-57d4c757c8c3"
   },
   "source": [
    "2. Using the original Dataframe, analyze the average total_claim_amount by each policy type and gender for customers who have responded \"Yes\" to the last marketing campaign. Write your conclusions."
   ]
  },
  {
   "cell_type": "markdown",
   "id": "7050f4ac-53c5-4193-a3c0-8699b87196f0",
   "metadata": {
    "id": "7050f4ac-53c5-4193-a3c0-8699b87196f0"
   },
   "source": [
    "3. Analyze the total number of customers who have policies in each state, and then filter the results to only include states where there are more than 500 customers."
   ]
  },
  {
   "cell_type": "markdown",
   "id": "b60a4443-a1a7-4bbf-b78e-9ccdf9895e0d",
   "metadata": {
    "id": "b60a4443-a1a7-4bbf-b78e-9ccdf9895e0d"
   },
   "source": [
    "4. Find the maximum, minimum, and median customer lifetime value by education level and gender. Write your conclusions."
   ]
  },
  {
   "cell_type": "markdown",
   "id": "b42999f9-311f-481e-ae63-40a5577072c5",
   "metadata": {
    "id": "b42999f9-311f-481e-ae63-40a5577072c5"
   },
   "source": [
    "## Bonus"
   ]
  },
  {
   "cell_type": "markdown",
   "id": "81ff02c5-6584-4f21-a358-b918697c6432",
   "metadata": {
    "id": "81ff02c5-6584-4f21-a358-b918697c6432"
   },
   "source": [
    "5. The marketing team wants to analyze the number of policies sold by state and month. Present the data in a table where the months are arranged as columns and the states are arranged as rows."
   ]
  },
  {
   "cell_type": "markdown",
   "id": "b6aec097-c633-4017-a125-e77a97259cda",
   "metadata": {
    "id": "b6aec097-c633-4017-a125-e77a97259cda"
   },
   "source": [
    "6.  Display a new DataFrame that contains the number of policies sold by month, by state, for the top 3 states with the highest number of policies sold.\n",
    "\n",
    "*Hint:*\n",
    "- *To accomplish this, you will first need to group the data by state and month, then count the number of policies sold for each group. Afterwards, you will need to sort the data by the count of policies sold in descending order.*\n",
    "- *Next, you will select the top 3 states with the highest number of policies sold.*\n",
    "- *Finally, you will create a new DataFrame that contains the number of policies sold by month for each of the top 3 states.*"
   ]
  },
  {
   "cell_type": "markdown",
   "id": "ba975b8a-a2cf-4fbf-9f59-ebc381767009",
   "metadata": {
    "id": "ba975b8a-a2cf-4fbf-9f59-ebc381767009"
   },
   "source": [
    "7. The marketing team wants to analyze the effect of different marketing channels on the customer response rate.\n",
    "\n",
    "Hint: You can use melt to unpivot the data and create a table that shows the customer response rate (those who responded \"Yes\") by marketing channel."
   ]
  },
  {
   "cell_type": "markdown",
   "id": "e4378d94-48fb-4850-a802-b1bc8f427b2d",
   "metadata": {
    "id": "e4378d94-48fb-4850-a802-b1bc8f427b2d"
   },
   "source": [
    "External Resources for Data Filtering: https://towardsdatascience.com/filtering-data-frames-in-pandas-b570b1f834b9"
   ]
  },
  {
   "cell_type": "code",
   "execution_count": 8,
   "id": "449513f4-0459-46a0-a18d-9398d974c9ad",
   "metadata": {
    "id": "449513f4-0459-46a0-a18d-9398d974c9ad"
   },
   "outputs": [
    {
     "name": "stdout",
     "output_type": "stream",
     "text": [
      "First few rows of the dataset:\n",
      "   Unnamed: 0 Customer       State  Customer Lifetime Value Response  \\\n",
      "0           0  DK49336     Arizona              4809.216960       No   \n",
      "1           1  KX64629  California              2228.525238       No   \n",
      "2           2  LZ68649  Washington             14947.917300       No   \n",
      "3           3  XL78013      Oregon             22332.439460      Yes   \n",
      "4           4  QA50777      Oregon              9025.067525       No   \n",
      "\n",
      "   Coverage Education Effective To Date EmploymentStatus Gender  ...  \\\n",
      "0     Basic   College           2/18/11         Employed      M  ...   \n",
      "1     Basic   College           1/18/11       Unemployed      F  ...   \n",
      "2     Basic  Bachelor           2/10/11         Employed      M  ...   \n",
      "3  Extended   College           1/11/11         Employed      M  ...   \n",
      "4   Premium  Bachelor           1/17/11    Medical Leave      F  ...   \n",
      "\n",
      "   Number of Open Complaints Number of Policies     Policy Type        Policy  \\\n",
      "0                        0.0                  9  Corporate Auto  Corporate L3   \n",
      "1                        0.0                  1   Personal Auto   Personal L3   \n",
      "2                        0.0                  2   Personal Auto   Personal L3   \n",
      "3                        0.0                  2  Corporate Auto  Corporate L3   \n",
      "4                        NaN                  7   Personal Auto   Personal L2   \n",
      "\n",
      "   Renew Offer Type  Sales Channel  Total Claim Amount  Vehicle Class  \\\n",
      "0            Offer3          Agent          292.800000  Four-Door Car   \n",
      "1            Offer4    Call Center          744.924331  Four-Door Car   \n",
      "2            Offer3    Call Center          480.000000            SUV   \n",
      "3            Offer2         Branch          484.013411  Four-Door Car   \n",
      "4            Offer1         Branch          707.925645  Four-Door Car   \n",
      "\n",
      "  Vehicle Size Vehicle Type  \n",
      "0      Medsize          NaN  \n",
      "1      Medsize          NaN  \n",
      "2      Medsize            A  \n",
      "3      Medsize            A  \n",
      "4      Medsize          NaN  \n",
      "\n",
      "[5 rows x 26 columns]\n",
      "\n",
      "Filtered DataFrame with Total Claim Amount > $1000 and Response 'Yes':\n",
      "     Unnamed: 0 Customer       State  Customer Lifetime Value Response  \\\n",
      "189         189  OK31456  California             11009.130490      Yes   \n",
      "236         236  YJ16163      Oregon             11009.130490      Yes   \n",
      "419         419  GW43195      Oregon             25807.063000      Yes   \n",
      "442         442  IP94270     Arizona             13736.132500      Yes   \n",
      "587         587  FJ28407  California              5619.689084      Yes   \n",
      "\n",
      "     Coverage             Education Effective To Date EmploymentStatus Gender  \\\n",
      "189   Premium              Bachelor        2011-01-24         Employed      F   \n",
      "236   Premium              Bachelor        2011-01-24         Employed      F   \n",
      "419  Extended               College        2011-02-13         Employed      F   \n",
      "442   Premium                Master        2011-02-13         Disabled      F   \n",
      "587   Premium  High School or Below        2011-01-26       Unemployed      M   \n",
      "\n",
      "     ...  Number of Open Complaints Number of Policies     Policy Type  \\\n",
      "189  ...                        0.0                  1  Corporate Auto   \n",
      "236  ...                        0.0                  1    Special Auto   \n",
      "419  ...                        1.0                  2   Personal Auto   \n",
      "442  ...                        0.0                  8   Personal Auto   \n",
      "587  ...                        0.0                  1   Personal Auto   \n",
      "\n",
      "           Policy  Renew Offer Type  Sales Channel  Total Claim Amount  \\\n",
      "189  Corporate L3            Offer2          Agent         1358.400000   \n",
      "236    Special L3            Offer2          Agent         1358.400000   \n",
      "419   Personal L2            Offer1         Branch         1027.200000   \n",
      "442   Personal L2            Offer1            Web         1261.319869   \n",
      "587   Personal L1            Offer2            Web         1027.000029   \n",
      "\n",
      "     Vehicle Class Vehicle Size Vehicle Type  \n",
      "189     Luxury Car      Medsize          NaN  \n",
      "236     Luxury Car      Medsize            A  \n",
      "419     Luxury Car        Small            A  \n",
      "442            SUV      Medsize            A  \n",
      "587            SUV      Medsize            A  \n",
      "\n",
      "[5 rows x 26 columns]\n",
      "\n",
      "Average Total Claim Amount by Policy Type and Gender for Response 'Yes':\n",
      "      Policy Type Gender  Total Claim Amount\n",
      "0  Corporate Auto      F          433.738499\n",
      "1  Corporate Auto      M          408.582459\n",
      "2   Personal Auto      F          452.965929\n",
      "3   Personal Auto      M          457.010178\n",
      "4    Special Auto      F          453.280164\n",
      "5    Special Auto      M          429.527942\n",
      "\n",
      "States with more than 500 customers:\n",
      "        State  Number of Customers\n",
      "0  California                 3552\n",
      "1      Oregon                 2909\n",
      "2     Arizona                 1937\n",
      "3      Nevada                  993\n",
      "4  Washington                  888\n",
      "\n",
      "Customer Lifetime Value Summary by Education Level and Gender:\n",
      "              Education Gender          max          min       median\n",
      "0              Bachelor      F  73225.95652  1904.000852  5640.505303\n",
      "1              Bachelor      M  67907.27050  1898.007675  5548.031892\n",
      "2               College      F  61850.18803  1898.683686  5623.611187\n",
      "3               College      M  61134.68307  1918.119700  6005.847375\n",
      "4                Doctor      F  44856.11397  2395.570000  5332.462694\n",
      "5                Doctor      M  32677.34284  2267.604038  5577.669457\n",
      "6  High School or Below      F  55277.44589  2144.921535  6039.553187\n",
      "7  High School or Below      M  83325.38119  1940.981221  6286.731006\n",
      "8                Master      F  51016.06704  2417.777032  5729.855012\n",
      "9                Master      M  50568.25912  2272.307310  5579.099207\n",
      "\n",
      "Number of Policies Sold by State and Month for Top 3 States:\n",
      "        State  Month  Number of Policies\n",
      "0     Arizona      1                1008\n",
      "1     Arizona      2                 929\n",
      "2  California      1                1918\n",
      "3  California      2                1634\n",
      "6      Oregon      1                1565\n",
      "7      Oregon      2                1344\n",
      "\n",
      "Number of Responses by Sales Channel:\n",
      "  Sales Channel  Number of Responses\n",
      "0         Agent                  742\n",
      "1        Branch                  326\n",
      "2   Call Center                  221\n",
      "3           Web                  177\n"
     ]
    }
   ],
   "source": [
    "import pandas as pd\n",
    "\n",
    "url = 'https://raw.githubusercontent.com/data-bootcamp-v4/data/main/marketing_customer_analysis.csv'\n",
    "df = pd.read_csv(url)\n",
    "\n",
    "print(\"First few rows of the dataset:\")\n",
    "print(df.head())\n",
    "\n",
    "df['Effective To Date'] = pd.to_datetime(df['Effective To Date'], format='%m/%d/%y')\n",
    "\n",
    "filtered_df = df[(df['Total Claim Amount'] > 1000) & (df['Response'] == 'Yes')]\n",
    "print(\"\\nFiltered DataFrame with Total Claim Amount > $1000 and Response 'Yes':\")\n",
    "print(filtered_df.head())\n",
    "\n",
    "average_claims = df[df['Response'] == 'Yes'].groupby(['Policy Type', 'Gender'])['Total Claim Amount'].mean().reset_index()\n",
    "print(\"\\nAverage Total Claim Amount by Policy Type and Gender for Response 'Yes':\")\n",
    "print(average_claims)\n",
    "\n",
    "customers_per_state = df['State'].value_counts().reset_index(name='Number of Customers')\n",
    "filtered_states = customers_per_state[customers_per_state['Number of Customers'] > 500]\n",
    "print(\"\\nStates with more than 500 customers:\")\n",
    "print(filtered_states)\n",
    "\n",
    "clv_summary = df.groupby(['Education', 'Gender'])['Customer Lifetime Value'].agg(['max', 'min', 'median']).reset_index()\n",
    "print(\"\\nCustomer Lifetime Value Summary by Education Level and Gender:\")\n",
    "print(clv_summary)\n",
    "\n",
    "df['Month'] = df['Effective To Date'].dt.month\n",
    "policies_grouped = df.groupby(['State', 'Month'])['Policy'].count().reset_index(name='Number of Policies')\n",
    "\n",
    "top_states = policies_grouped.groupby('State')['Number of Policies'].sum().nlargest(3).index\n",
    "top_states_policies = policies_grouped[policies_grouped['State'].isin(top_states)]\n",
    "\n",
    "print(\"\\nNumber of Policies Sold by State and Month for Top 3 States:\")\n",
    "print(top_states_policies)\n",
    "\n",
    "response_by_channel = df[df['Response'] == 'Yes'].groupby('Sales Channel')['Response'].count().reset_index(name='Number of Responses')\n",
    "print(\"\\nNumber of Responses by Sales Channel:\")\n",
    "print(response_by_channel)"
   ]
  },
  {
   "cell_type": "code",
   "execution_count": null,
   "id": "dca695e7-ff75-41a9-90d6-470c41085cbc",
   "metadata": {},
   "outputs": [],
   "source": []
  }
 ],
 "metadata": {
  "colab": {
   "provenance": []
  },
  "kernelspec": {
   "display_name": "Python 3 (ipykernel)",
   "language": "python",
   "name": "python3"
  },
  "language_info": {
   "codemirror_mode": {
    "name": "ipython",
    "version": 3
   },
   "file_extension": ".py",
   "mimetype": "text/x-python",
   "name": "python",
   "nbconvert_exporter": "python",
   "pygments_lexer": "ipython3",
   "version": "3.12.7"
  }
 },
 "nbformat": 4,
 "nbformat_minor": 5
}
