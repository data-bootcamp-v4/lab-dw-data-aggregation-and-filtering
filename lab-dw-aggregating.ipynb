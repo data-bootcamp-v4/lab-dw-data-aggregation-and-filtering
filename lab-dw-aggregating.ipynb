{
 "cells": [
  {
   "cell_type": "markdown",
   "id": "31969215-2a90-4d8b-ac36-646a7ae13744",
   "metadata": {
    "id": "31969215-2a90-4d8b-ac36-646a7ae13744"
   },
   "source": [
    "# Lab | Data Aggregation and Filtering"
   ]
  },
  {
   "cell_type": "markdown",
   "id": "a8f08a52-bec0-439b-99cc-11d3809d8b5d",
   "metadata": {
    "id": "a8f08a52-bec0-439b-99cc-11d3809d8b5d"
   },
   "source": [
    "In this challenge, we will continue to work with customer data from an insurance company. We will use the dataset called marketing_customer_analysis.csv, which can be found at the following link:\n",
    "\n",
    "https://raw.githubusercontent.com/data-bootcamp-v4/data/main/marketing_customer_analysis.csv\n",
    "\n",
    "This dataset contains information such as customer demographics, policy details, vehicle information, and the customer's response to the last marketing campaign. Our goal is to explore and analyze this data by first performing data cleaning, formatting, and structuring."
   ]
  },
  {
   "cell_type": "markdown",
   "id": "9c98ddc5-b041-4c94-ada1-4dfee5c98e50",
   "metadata": {
    "id": "9c98ddc5-b041-4c94-ada1-4dfee5c98e50"
   },
   "source": [
    "1. Create a new DataFrame that only includes customers who have a total_claim_amount greater than $1,000 and have a response of \"Yes\" to the last marketing campaign."
   ]
  },
  {
   "cell_type": "markdown",
   "id": "b9be383e-5165-436e-80c8-57d4c757c8c3",
   "metadata": {
    "id": "b9be383e-5165-436e-80c8-57d4c757c8c3"
   },
   "source": [
    "2. Using the original Dataframe, analyze the average total_claim_amount by each policy type and gender for customers who have responded \"Yes\" to the last marketing campaign. Write your conclusions."
   ]
  },
  {
   "cell_type": "markdown",
   "id": "7050f4ac-53c5-4193-a3c0-8699b87196f0",
   "metadata": {
    "id": "7050f4ac-53c5-4193-a3c0-8699b87196f0"
   },
   "source": [
    "3. Analyze the total number of customers who have policies in each state, and then filter the results to only include states where there are more than 500 customers."
   ]
  },
  {
   "cell_type": "markdown",
   "id": "b60a4443-a1a7-4bbf-b78e-9ccdf9895e0d",
   "metadata": {
    "id": "b60a4443-a1a7-4bbf-b78e-9ccdf9895e0d"
   },
   "source": [
    "4. Find the maximum, minimum, and median customer lifetime value by education level and gender. Write your conclusions."
   ]
  },
  {
   "cell_type": "markdown",
   "id": "b42999f9-311f-481e-ae63-40a5577072c5",
   "metadata": {
    "id": "b42999f9-311f-481e-ae63-40a5577072c5"
   },
   "source": [
    "## Bonus"
   ]
  },
  {
   "cell_type": "markdown",
   "id": "81ff02c5-6584-4f21-a358-b918697c6432",
   "metadata": {
    "id": "81ff02c5-6584-4f21-a358-b918697c6432"
   },
   "source": [
    "5. The marketing team wants to analyze the number of policies sold by state and month. Present the data in a table where the months are arranged as columns and the states are arranged as rows."
   ]
  },
  {
   "cell_type": "markdown",
   "id": "b6aec097-c633-4017-a125-e77a97259cda",
   "metadata": {
    "id": "b6aec097-c633-4017-a125-e77a97259cda"
   },
   "source": [
    "6.  Display a new DataFrame that contains the number of policies sold by month, by state, for the top 3 states with the highest number of policies sold.\n",
    "\n",
    "*Hint:*\n",
    "- *To accomplish this, you will first need to group the data by state and month, then count the number of policies sold for each group. Afterwards, you will need to sort the data by the count of policies sold in descending order.*\n",
    "- *Next, you will select the top 3 states with the highest number of policies sold.*\n",
    "- *Finally, you will create a new DataFrame that contains the number of policies sold by month for each of the top 3 states.*"
   ]
  },
  {
   "cell_type": "markdown",
   "id": "ba975b8a-a2cf-4fbf-9f59-ebc381767009",
   "metadata": {
    "id": "ba975b8a-a2cf-4fbf-9f59-ebc381767009"
   },
   "source": [
    "7. The marketing team wants to analyze the effect of different marketing channels on the customer response rate.\n",
    "\n",
    "Hint: You can use melt to unpivot the data and create a table that shows the customer response rate (those who responded \"Yes\") by marketing channel."
   ]
  },
  {
   "cell_type": "markdown",
   "id": "e4378d94-48fb-4850-a802-b1bc8f427b2d",
   "metadata": {
    "id": "e4378d94-48fb-4850-a802-b1bc8f427b2d"
   },
   "source": [
    "External Resources for Data Filtering: https://towardsdatascience.com/filtering-data-frames-in-pandas-b570b1f834b9"
   ]
  },
  {
   "cell_type": "code",
   "execution_count": 3,
   "id": "449513f4-0459-46a0-a18d-9398d974c9ad",
   "metadata": {
    "id": "449513f4-0459-46a0-a18d-9398d974c9ad"
   },
   "outputs": [
    {
     "name": "stdout",
     "output_type": "stream",
     "text": [
      "policy_type     gender\n",
      "Corporate Auto  F         433.74\n",
      "                M         408.58\n",
      "Personal Auto   F         452.97\n",
      "                M         457.01\n",
      "Special Auto    F         453.28\n",
      "                M         429.53\n",
      "Name: total_claim_amount, dtype: float64\n",
      "state\n",
      "California    3552\n",
      "Oregon        2909\n",
      "Arizona       1937\n",
      "Nevada         993\n",
      "Washington     888\n",
      "Name: count, dtype: int64\n",
      "                                  max      min   median\n",
      "education            gender                            \n",
      "Bachelor             F       73225.96  1904.00  5640.51\n",
      "                     M       67907.27  1898.01  5548.03\n",
      "College              F       61850.19  1898.68  5623.61\n",
      "                     M       61134.68  1918.12  6005.85\n",
      "Doctor               F       44856.11  2395.57  5332.46\n",
      "                     M       32677.34  2267.60  5577.67\n",
      "High School or Below F       55277.45  2144.92  6039.55\n",
      "                     M       83325.38  1940.98  6286.73\n",
      "Master               F       51016.07  2417.78  5729.86\n",
      "                     M       50568.26  2272.31  5579.10\n",
      "month       February  January\n",
      "state                        \n",
      "Arizona          929     1008\n",
      "California      1634     1918\n",
      "Nevada           442      551\n",
      "Oregon          1344     1565\n",
      "Washington       425      463\n",
      "month       February  January\n",
      "state                        \n",
      "Arizona          929     1008\n",
      "California      1634     1918\n",
      "Oregon          1344     1565\n",
      "response         No   Yes\n",
      "sales_channel            \n",
      "Agent          0.81  0.19\n",
      "Branch         0.89  0.11\n",
      "Call Center    0.89  0.11\n",
      "Web            0.88  0.12\n"
     ]
    },
    {
     "name": "stderr",
     "output_type": "stream",
     "text": [
      "C:\\Users\\ugoch\\AppData\\Local\\Temp\\ipykernel_33376\\1029656190.py:15: UserWarning: Could not infer format, so each element will be parsed individually, falling back to `dateutil`. To ensure parsing is consistent and as-expected, please specify a format.\n",
      "  df['effective_to_date'] = pd.to_datetime(df['effective_to_date'])\n"
     ]
    }
   ],
   "source": [
    "import pandas as pd\n",
    "\n",
    "# Load the dataset\n",
    "url = \"https://raw.githubusercontent.com/data-bootcamp-v4/data/main/marketing_customer_analysis.csv\"\n",
    "df = pd.read_csv(url)\n",
    "\n",
    "# Standardize column names\n",
    "df.columns = df.columns.str.strip().str.lower().str.replace(' ', '_')\n",
    "\n",
    "# Convert total_claim_amount and customer_lifetime_value to numeric\n",
    "df['total_claim_amount'] = pd.to_numeric(df['total_claim_amount'], errors='coerce')\n",
    "df['customer_lifetime_value'] = pd.to_numeric(df['customer_lifetime_value'], errors='coerce')\n",
    "\n",
    "# Convert date column to datetime\n",
    "df['effective_to_date'] = pd.to_datetime(df['effective_to_date'])\n",
    "df['month'] = df['effective_to_date'].dt.month_name()\n",
    "\n",
    "high_value_responders = df[(df['total_claim_amount'] > 1000) & (df['response'] == 'Yes')]\n",
    "high_value_responders.head()\n",
    "\n",
    "avg_claim_by_policy_gender = df[df['response'] == 'Yes'].groupby(['policy_type', 'gender'])['total_claim_amount'].mean().round(2)\n",
    "print(avg_claim_by_policy_gender)\n",
    "\n",
    "state_counts = df['state'].value_counts()\n",
    "states_over_500 = state_counts[state_counts > 500]\n",
    "print(states_over_500)\n",
    "\n",
    "clv_stats = df.groupby(['education', 'gender'])['customer_lifetime_value'].agg(['max', 'min', 'median']).round(2)\n",
    "print(clv_stats)\n",
    "\n",
    "policies_by_state_month = df.groupby(['state', 'month']).size().unstack(fill_value=0)\n",
    "print(policies_by_state_month)\n",
    "\n",
    "# Count policies per state\n",
    "policy_counts = df['state'].value_counts()\n",
    "\n",
    "# Get top 3 states\n",
    "top_3_states = policy_counts.head(3).index\n",
    "\n",
    "# Filter and group\n",
    "top_states_data = df[df['state'].isin(top_3_states)]\n",
    "top_state_month = top_states_data.groupby(['state', 'month']).size().unstack(fill_value=0)\n",
    "\n",
    "print(top_state_month)\n",
    "\n",
    "# Response count by sales channel\n",
    "response_rate = df.groupby('sales_channel')['response'].value_counts(normalize=True).unstack().fillna(0).round(2)\n",
    "\n",
    "print(response_rate)"
   ]
  },
  {
   "cell_type": "code",
   "execution_count": null,
   "id": "1c5d53a2-0d02-4990-977b-9ec5259b1d3a",
   "metadata": {},
   "outputs": [],
   "source": []
  },
  {
   "cell_type": "code",
   "execution_count": null,
   "id": "a7027536-8b2f-4251-97d1-3928c2d66282",
   "metadata": {},
   "outputs": [],
   "source": []
  }
 ],
 "metadata": {
  "colab": {
   "provenance": []
  },
  "kernelspec": {
   "display_name": "Python 3 (ipykernel)",
   "language": "python",
   "name": "python3"
  },
  "language_info": {
   "codemirror_mode": {
    "name": "ipython",
    "version": 3
   },
   "file_extension": ".py",
   "mimetype": "text/x-python",
   "name": "python",
   "nbconvert_exporter": "python",
   "pygments_lexer": "ipython3",
   "version": "3.12.7"
  }
 },
 "nbformat": 4,
 "nbformat_minor": 5
}
