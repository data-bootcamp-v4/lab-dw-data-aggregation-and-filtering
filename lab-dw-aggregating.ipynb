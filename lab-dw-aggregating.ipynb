{
  "cells": [
    {
      "cell_type": "markdown",
      "id": "31969215-2a90-4d8b-ac36-646a7ae13744",
      "metadata": {
        "id": "31969215-2a90-4d8b-ac36-646a7ae13744"
      },
      "source": [
        "# Lab | Data Aggregation and Filtering"
      ]
    },
    {
      "cell_type": "markdown",
      "id": "a8f08a52-bec0-439b-99cc-11d3809d8b5d",
      "metadata": {
        "id": "a8f08a52-bec0-439b-99cc-11d3809d8b5d"
      },
      "source": [
        "In this challenge, we will continue to work with customer data from an insurance company. We will use the dataset called marketing_customer_analysis.csv, which can be found at the following link:\n",
        "\n",
        "https://raw.githubusercontent.com/data-bootcamp-v4/data/main/marketing_customer_analysis.csv\n",
        "\n",
        "This dataset contains information such as customer demographics, policy details, vehicle information, and the customer's response to the last marketing campaign. Our goal is to explore and analyze this data by first performing data cleaning, formatting, and structuring."
      ]
    },
    {
      "cell_type": "code",
      "execution_count": 1,
      "id": "78b5c3ff",
      "metadata": {},
      "outputs": [],
      "source": [
        "#import libraries\n",
        "import pandas as pd\n",
        "#load the data\n",
        "marketing_customer_analysis = pd.read_csv(\"https://raw.githubusercontent.com/data-bootcamp-v4/data/main/marketing_customer_analysis_clean.csv\")\n",
        "\n",
        "# cleaning up the data:\n",
        "# * the unnamed:_0 column which looks like an old index and should be removed. \n",
        "marketing_customer_analysis = marketing_customer_analysis.drop(columns=[\"unnamed:_0\"])\n",
        "# * one of the column names (employmentstatus)\n",
        "marketing_customer_analysis.rename(columns={\"employmentstatus\":\"employment_status\"}, inplace=True)\n",
        "# * number_of_open_complaints which should be an int \n",
        "marketing_customer_analysis.number_of_open_complaints = marketing_customer_analysis.number_of_open_complaints.apply(lambda x: round(x)).astype(int)\n",
        "# * months_since_last_claim which should be an int.\n",
        "marketing_customer_analysis.months_since_last_claim = marketing_customer_analysis.months_since_last_claim.apply(lambda x: round(x)).astype(int)\n",
        "# * total_claim_amount could be standardised to 2 decimal places. \n",
        "marketing_customer_analysis.total_claim_amount = marketing_customer_analysis.total_claim_amount.apply(lambda x: round(x, 2))"
      ]
    },
    {
      "cell_type": "markdown",
      "id": "9c98ddc5-b041-4c94-ada1-4dfee5c98e50",
      "metadata": {
        "id": "9c98ddc5-b041-4c94-ada1-4dfee5c98e50"
      },
      "source": [
        "1. Create a new DataFrame that only includes customers who have a total_claim_amount greater than $1,000 and have a response of \"Yes\" to the last marketing campaign."
      ]
    },
    {
      "cell_type": "code",
      "execution_count": 16,
      "id": "f1fb83fa",
      "metadata": {},
      "outputs": [],
      "source": [
        "high_claims = marketing_customer_analysis[(marketing_customer_analysis.response == \"Yes\") & (marketing_customer_analysis.total_claim_amount > 1000)]"
      ]
    },
    {
      "cell_type": "markdown",
      "id": "b9be383e-5165-436e-80c8-57d4c757c8c3",
      "metadata": {
        "id": "b9be383e-5165-436e-80c8-57d4c757c8c3"
      },
      "source": [
        "2. Using the original Dataframe, analyze the average total_claim_amount by each policy type and gender for customers who have responded \"Yes\" to the last marketing campaign. Write your conclusions."
      ]
    },
    {
      "cell_type": "code",
      "execution_count": 17,
      "id": "0cd844fd",
      "metadata": {},
      "outputs": [
        {
          "data": {
            "text/plain": [
              "policy_type     gender\n",
              "Corporate Auto  F         433.738462\n",
              "                M         408.582468\n",
              "Personal Auto   F         452.966037\n",
              "                M         457.010149\n",
              "Special Auto    F         453.279714\n",
              "                M         429.528125\n",
              "Name: total_claim_amount, dtype: float64"
            ]
          },
          "execution_count": 17,
          "metadata": {},
          "output_type": "execute_result"
        }
      ],
      "source": [
        "marketing_customer_analysis[marketing_customer_analysis.response == \"Yes\"].groupby([\"policy_type\", \"gender\"]).total_claim_amount.mean()\n",
        "\n",
        "# The higher average total claim amount corresponds to Personal Auto policies. In corporate auto, the average total claim amount is lower. "
      ]
    },
    {
      "cell_type": "markdown",
      "id": "7050f4ac-53c5-4193-a3c0-8699b87196f0",
      "metadata": {
        "id": "7050f4ac-53c5-4193-a3c0-8699b87196f0"
      },
      "source": [
        "3. Analyze the total number of customers who have policies in each state, and then filter the results to only include states where there are more than 500 customers."
      ]
    },
    {
      "cell_type": "code",
      "execution_count": 21,
      "id": "7b55f19c",
      "metadata": {},
      "outputs": [
        {
          "data": {
            "text/plain": [
              "state\n",
              "Arizona       1703\n",
              "California    3520\n",
              "Nevada         882\n",
              "Oregon        2601\n",
              "Washington     798\n",
              "Name: customer, dtype: int64"
            ]
          },
          "execution_count": 21,
          "metadata": {},
          "output_type": "execute_result"
        }
      ],
      "source": [
        "customers_by_state = marketing_customer_analysis.groupby([\"state\"]).customer.nunique()\n",
        "customers_by_state[customers_by_state > 500]"
      ]
    },
    {
      "cell_type": "markdown",
      "id": "b60a4443-a1a7-4bbf-b78e-9ccdf9895e0d",
      "metadata": {
        "id": "b60a4443-a1a7-4bbf-b78e-9ccdf9895e0d"
      },
      "source": [
        "4. Find the maximum, minimum, and median customer lifetime value by education level and gender. Write your conclusions."
      ]
    },
    {
      "cell_type": "code",
      "execution_count": 23,
      "id": "4689576f",
      "metadata": {},
      "outputs": [
        {
          "data": {
            "text/html": [
              "<div>\n",
              "<style scoped>\n",
              "    .dataframe tbody tr th:only-of-type {\n",
              "        vertical-align: middle;\n",
              "    }\n",
              "\n",
              "    .dataframe tbody tr th {\n",
              "        vertical-align: top;\n",
              "    }\n",
              "\n",
              "    .dataframe thead th {\n",
              "        text-align: right;\n",
              "    }\n",
              "</style>\n",
              "<table border=\"1\" class=\"dataframe\">\n",
              "  <thead>\n",
              "    <tr style=\"text-align: right;\">\n",
              "      <th></th>\n",
              "      <th></th>\n",
              "      <th>mean</th>\n",
              "      <th>max</th>\n",
              "      <th>min</th>\n",
              "    </tr>\n",
              "    <tr>\n",
              "      <th>education</th>\n",
              "      <th>gender</th>\n",
              "      <th></th>\n",
              "      <th></th>\n",
              "      <th></th>\n",
              "    </tr>\n",
              "  </thead>\n",
              "  <tbody>\n",
              "    <tr>\n",
              "      <th rowspan=\"2\" valign=\"top\">Bachelor</th>\n",
              "      <th>F</th>\n",
              "      <td>7874.269478</td>\n",
              "      <td>73225.95652</td>\n",
              "      <td>1904.000852</td>\n",
              "    </tr>\n",
              "    <tr>\n",
              "      <th>M</th>\n",
              "      <td>7703.601675</td>\n",
              "      <td>67907.27050</td>\n",
              "      <td>1898.007675</td>\n",
              "    </tr>\n",
              "    <tr>\n",
              "      <th rowspan=\"2\" valign=\"top\">College</th>\n",
              "      <th>F</th>\n",
              "      <td>7748.823325</td>\n",
              "      <td>61850.18803</td>\n",
              "      <td>1898.683686</td>\n",
              "    </tr>\n",
              "    <tr>\n",
              "      <th>M</th>\n",
              "      <td>8052.459288</td>\n",
              "      <td>61134.68307</td>\n",
              "      <td>1918.119700</td>\n",
              "    </tr>\n",
              "    <tr>\n",
              "      <th rowspan=\"2\" valign=\"top\">Doctor</th>\n",
              "      <th>F</th>\n",
              "      <td>7328.508916</td>\n",
              "      <td>44856.11397</td>\n",
              "      <td>2395.570000</td>\n",
              "    </tr>\n",
              "    <tr>\n",
              "      <th>M</th>\n",
              "      <td>7415.333638</td>\n",
              "      <td>32677.34284</td>\n",
              "      <td>2267.604038</td>\n",
              "    </tr>\n",
              "    <tr>\n",
              "      <th rowspan=\"2\" valign=\"top\">High School or Below</th>\n",
              "      <th>F</th>\n",
              "      <td>8675.220201</td>\n",
              "      <td>55277.44589</td>\n",
              "      <td>2144.921535</td>\n",
              "    </tr>\n",
              "    <tr>\n",
              "      <th>M</th>\n",
              "      <td>8149.687783</td>\n",
              "      <td>83325.38119</td>\n",
              "      <td>1940.981221</td>\n",
              "    </tr>\n",
              "    <tr>\n",
              "      <th rowspan=\"2\" valign=\"top\">Master</th>\n",
              "      <th>F</th>\n",
              "      <td>8157.053154</td>\n",
              "      <td>51016.06704</td>\n",
              "      <td>2417.777032</td>\n",
              "    </tr>\n",
              "    <tr>\n",
              "      <th>M</th>\n",
              "      <td>8168.832659</td>\n",
              "      <td>50568.25912</td>\n",
              "      <td>2272.307310</td>\n",
              "    </tr>\n",
              "  </tbody>\n",
              "</table>\n",
              "</div>"
            ],
            "text/plain": [
              "                                    mean          max          min\n",
              "education            gender                                       \n",
              "Bachelor             F       7874.269478  73225.95652  1904.000852\n",
              "                     M       7703.601675  67907.27050  1898.007675\n",
              "College              F       7748.823325  61850.18803  1898.683686\n",
              "                     M       8052.459288  61134.68307  1918.119700\n",
              "Doctor               F       7328.508916  44856.11397  2395.570000\n",
              "                     M       7415.333638  32677.34284  2267.604038\n",
              "High School or Below F       8675.220201  55277.44589  2144.921535\n",
              "                     M       8149.687783  83325.38119  1940.981221\n",
              "Master               F       8157.053154  51016.06704  2417.777032\n",
              "                     M       8168.832659  50568.25912  2272.307310"
            ]
          },
          "execution_count": 23,
          "metadata": {},
          "output_type": "execute_result"
        }
      ],
      "source": [
        "marketing_customer_analysis.groupby([\"education\", \"gender\"]).customer_lifetime_value.agg([\"mean\", \"max\", \"min\"])"
      ]
    },
    {
      "cell_type": "markdown",
      "id": "b42999f9-311f-481e-ae63-40a5577072c5",
      "metadata": {
        "id": "b42999f9-311f-481e-ae63-40a5577072c5"
      },
      "source": [
        "## Bonus"
      ]
    },
    {
      "cell_type": "markdown",
      "id": "81ff02c5-6584-4f21-a358-b918697c6432",
      "metadata": {
        "id": "81ff02c5-6584-4f21-a358-b918697c6432"
      },
      "source": [
        "5. The marketing team wants to analyze the number of policies sold by state and month. Present the data in a table where the months are arranged as columns and the states are arranged as rows."
      ]
    },
    {
      "cell_type": "markdown",
      "id": "b6aec097-c633-4017-a125-e77a97259cda",
      "metadata": {
        "id": "b6aec097-c633-4017-a125-e77a97259cda"
      },
      "source": [
        "6.  Display a new DataFrame that contains the number of policies sold by month, by state, for the top 3 states with the highest number of policies sold.\n",
        "\n",
        "*Hint:*\n",
        "- *To accomplish this, you will first need to group the data by state and month, then count the number of policies sold for each group. Afterwards, you will need to sort the data by the count of policies sold in descending order.*\n",
        "- *Next, you will select the top 3 states with the highest number of policies sold.*\n",
        "- *Finally, you will create a new DataFrame that contains the number of policies sold by month for each of the top 3 states.*"
      ]
    },
    {
      "cell_type": "markdown",
      "id": "ba975b8a-a2cf-4fbf-9f59-ebc381767009",
      "metadata": {
        "id": "ba975b8a-a2cf-4fbf-9f59-ebc381767009"
      },
      "source": [
        "7. The marketing team wants to analyze the effect of different marketing channels on the customer response rate.\n",
        "\n",
        "Hint: You can use melt to unpivot the data and create a table that shows the customer response rate (those who responded \"Yes\") by marketing channel."
      ]
    },
    {
      "cell_type": "markdown",
      "id": "e4378d94-48fb-4850-a802-b1bc8f427b2d",
      "metadata": {
        "id": "e4378d94-48fb-4850-a802-b1bc8f427b2d"
      },
      "source": [
        "External Resources for Data Filtering: https://towardsdatascience.com/filtering-data-frames-in-pandas-b570b1f834b9"
      ]
    },
    {
      "cell_type": "code",
      "execution_count": null,
      "id": "449513f4-0459-46a0-a18d-9398d974c9ad",
      "metadata": {
        "id": "449513f4-0459-46a0-a18d-9398d974c9ad"
      },
      "outputs": [],
      "source": [
        "# your code goes here"
      ]
    }
  ],
  "metadata": {
    "colab": {
      "provenance": []
    },
    "kernelspec": {
      "display_name": "Python 3 (ipykernel)",
      "language": "python",
      "name": "python3"
    },
    "language_info": {
      "codemirror_mode": {
        "name": "ipython",
        "version": 3
      },
      "file_extension": ".py",
      "mimetype": "text/x-python",
      "name": "python",
      "nbconvert_exporter": "python",
      "pygments_lexer": "ipython3",
      "version": "3.12.4"
    }
  },
  "nbformat": 4,
  "nbformat_minor": 5
}
