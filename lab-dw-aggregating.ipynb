{
  "cells": [
    {
      "cell_type": "markdown",
      "id": "31969215-2a90-4d8b-ac36-646a7ae13744",
      "metadata": {
        "id": "31969215-2a90-4d8b-ac36-646a7ae13744"
      },
      "source": [
        "# Lab | Data Aggregation and Filtering"
      ]
    },
    {
      "cell_type": "markdown",
      "id": "a8f08a52-bec0-439b-99cc-11d3809d8b5d",
      "metadata": {
        "id": "a8f08a52-bec0-439b-99cc-11d3809d8b5d"
      },
      "source": [
        "In this challenge, we will continue to work with customer data from an insurance company. We will use the dataset called marketing_customer_analysis.csv, which can be found at the following link:\n",
        "\n",
        "https://raw.githubusercontent.com/data-bootcamp-v4/data/main/marketing_customer_analysis.csv\n",
        "\n",
        "This dataset contains information such as customer demographics, policy details, vehicle information, and the customer's response to the last marketing campaign. Our goal is to explore and analyze this data by first performing data cleaning, formatting, and structuring."
      ]
    },
    {
      "cell_type": "markdown",
      "id": "9c98ddc5-b041-4c94-ada1-4dfee5c98e50",
      "metadata": {
        "id": "9c98ddc5-b041-4c94-ada1-4dfee5c98e50"
      },
      "source": [
        "1. Create a new DataFrame that only includes customers who:\n",
        "   - have a **low total_claim_amount** (e.g., below $1,000),\n",
        "   - have a response \"Yes\" to the last marketing campaign."
      ]
    },
    {
      "cell_type": "markdown",
      "id": "b9be383e-5165-436e-80c8-57d4c757c8c3",
      "metadata": {
        "id": "b9be383e-5165-436e-80c8-57d4c757c8c3"
      },
      "source": [
        "2. Using the original Dataframe, analyze:\n",
        "   - the average `monthly_premium` and/or customer lifetime value by `policy_type` and `gender` for customers who responded \"Yes\", and\n",
        "   - compare these insights to `total_claim_amount` patterns, and discuss which segments appear most profitable or low-risk for the company."
      ]
    },
    {
      "cell_type": "markdown",
      "id": "7050f4ac-53c5-4193-a3c0-8699b87196f0",
      "metadata": {
        "id": "7050f4ac-53c5-4193-a3c0-8699b87196f0"
      },
      "source": [
        "3. Analyze the total number of customers who have policies in each state, and then filter the results to only include states where there are more than 500 customers."
      ]
    },
    {
      "cell_type": "markdown",
      "id": "b60a4443-a1a7-4bbf-b78e-9ccdf9895e0d",
      "metadata": {
        "id": "b60a4443-a1a7-4bbf-b78e-9ccdf9895e0d"
      },
      "source": [
        "4. Find the maximum, minimum, and median customer lifetime value by education level and gender. Write your conclusions."
      ]
    },
    {
      "cell_type": "markdown",
      "id": "b42999f9-311f-481e-ae63-40a5577072c5",
      "metadata": {
        "id": "b42999f9-311f-481e-ae63-40a5577072c5"
      },
      "source": [
        "## Bonus"
      ]
    },
    {
      "cell_type": "markdown",
      "id": "81ff02c5-6584-4f21-a358-b918697c6432",
      "metadata": {
        "id": "81ff02c5-6584-4f21-a358-b918697c6432"
      },
      "source": [
        "5. The marketing team wants to analyze the number of policies sold by state and month. Present the data in a table where the months are arranged as columns and the states are arranged as rows."
      ]
    },
    {
      "cell_type": "markdown",
      "id": "b6aec097-c633-4017-a125-e77a97259cda",
      "metadata": {
        "id": "b6aec097-c633-4017-a125-e77a97259cda"
      },
      "source": [
        "6.  Display a new DataFrame that contains the number of policies sold by month, by state, for the top 3 states with the highest number of policies sold.\n",
        "\n",
        "*Hint:*\n",
        "- *To accomplish this, you will first need to group the data by state and month, then count the number of policies sold for each group. Afterwards, you will need to sort the data by the count of policies sold in descending order.*\n",
        "- *Next, you will select the top 3 states with the highest number of policies sold.*\n",
        "- *Finally, you will create a new DataFrame that contains the number of policies sold by month for each of the top 3 states.*"
      ]
    },
    {
      "cell_type": "markdown",
      "id": "ba975b8a-a2cf-4fbf-9f59-ebc381767009",
      "metadata": {
        "id": "ba975b8a-a2cf-4fbf-9f59-ebc381767009"
      },
      "source": [
        "7. The marketing team wants to analyze the effect of different marketing channels on the customer response rate.\n",
        "\n",
        "Hint: You can use melt to unpivot the data and create a table that shows the customer response rate (those who responded \"Yes\") by marketing channel."
      ]
    },
    {
      "cell_type": "markdown",
      "id": "e4378d94-48fb-4850-a802-b1bc8f427b2d",
      "metadata": {
        "id": "e4378d94-48fb-4850-a802-b1bc8f427b2d"
      },
      "source": [
        "External Resources for Data Filtering: https://towardsdatascience.com/filtering-data-frames-in-pandas-b570b1f834b9"
      ]
    },
    {
      "cell_type": "code",
      "execution_count": 9,
      "id": "449513f4-0459-46a0-a18d-9398d974c9ad",
      "metadata": {
        "id": "449513f4-0459-46a0-a18d-9398d974c9ad"
      },
      "outputs": [],
      "source": [
        "import pandas as pd\n",
        "\n",
        "# Load the CSV file\n",
        "url = \"https://raw.githubusercontent.com/data-bootcamp-v4/data/main/marketing_customer_analysis.csv\"\n",
        "df = pd.read_csv(url)"
      ]
    },
    {
      "cell_type": "code",
      "execution_count": 10,
      "id": "c840c9a4",
      "metadata": {},
      "outputs": [],
      "source": [
        "# Clean column names\n",
        "df.columns = df.columns.str.lower().str.strip()\n",
        "# Clean specific column values (e.g., 'response')\n",
        "df['response'] = df['response'].str.lower().str.strip()"
      ]
    },
    {
      "cell_type": "code",
      "execution_count": 11,
      "id": "b95a954b",
      "metadata": {},
      "outputs": [
        {
          "data": {
            "application/vnd.microsoft.datawrangler.viewer.v0+json": {
              "columns": [
                {
                  "name": "index",
                  "rawType": "int64",
                  "type": "integer"
                },
                {
                  "name": "unnamed: 0",
                  "rawType": "int64",
                  "type": "integer"
                },
                {
                  "name": "customer",
                  "rawType": "object",
                  "type": "string"
                },
                {
                  "name": "state",
                  "rawType": "object",
                  "type": "string"
                },
                {
                  "name": "customer lifetime value",
                  "rawType": "float64",
                  "type": "float"
                },
                {
                  "name": "response",
                  "rawType": "object",
                  "type": "string"
                },
                {
                  "name": "coverage",
                  "rawType": "object",
                  "type": "string"
                },
                {
                  "name": "education",
                  "rawType": "object",
                  "type": "string"
                },
                {
                  "name": "effective to date",
                  "rawType": "object",
                  "type": "string"
                },
                {
                  "name": "employmentstatus",
                  "rawType": "object",
                  "type": "string"
                },
                {
                  "name": "gender",
                  "rawType": "object",
                  "type": "string"
                },
                {
                  "name": "income",
                  "rawType": "int64",
                  "type": "integer"
                },
                {
                  "name": "location code",
                  "rawType": "object",
                  "type": "string"
                },
                {
                  "name": "marital status",
                  "rawType": "object",
                  "type": "string"
                },
                {
                  "name": "monthly premium auto",
                  "rawType": "int64",
                  "type": "integer"
                },
                {
                  "name": "months since last claim",
                  "rawType": "float64",
                  "type": "float"
                },
                {
                  "name": "months since policy inception",
                  "rawType": "int64",
                  "type": "integer"
                },
                {
                  "name": "number of open complaints",
                  "rawType": "float64",
                  "type": "float"
                },
                {
                  "name": "number of policies",
                  "rawType": "int64",
                  "type": "integer"
                },
                {
                  "name": "policy type",
                  "rawType": "object",
                  "type": "string"
                },
                {
                  "name": "policy",
                  "rawType": "object",
                  "type": "string"
                },
                {
                  "name": "renew offer type",
                  "rawType": "object",
                  "type": "string"
                },
                {
                  "name": "sales channel",
                  "rawType": "object",
                  "type": "string"
                },
                {
                  "name": "total claim amount",
                  "rawType": "float64",
                  "type": "float"
                },
                {
                  "name": "vehicle class",
                  "rawType": "object",
                  "type": "string"
                },
                {
                  "name": "vehicle size",
                  "rawType": "object",
                  "type": "string"
                },
                {
                  "name": "vehicle type",
                  "rawType": "object",
                  "type": "unknown"
                }
              ],
              "ref": "8878ad23-e549-4162-8169-5dfb9a92ae44",
              "rows": [
                [
                  "3",
                  "3",
                  "XL78013",
                  "Oregon",
                  "22332.43946",
                  "yes",
                  "Extended",
                  "College",
                  "1/11/11",
                  "Employed",
                  "M",
                  "49078",
                  "Suburban",
                  "Single",
                  "97",
                  "10.0",
                  "3",
                  "0.0",
                  "2",
                  "Corporate Auto",
                  "Corporate L3",
                  "Offer2",
                  "Branch",
                  "484.013411",
                  "Four-Door Car",
                  "Medsize",
                  "A"
                ],
                [
                  "8",
                  "8",
                  "FM55990",
                  "California",
                  "5989.773931",
                  "yes",
                  "Premium",
                  "College",
                  "1/19/11",
                  "Employed",
                  "M",
                  "66839",
                  "Suburban",
                  "Single",
                  "154",
                  "33.0",
                  "24",
                  "0.0",
                  "1",
                  "Personal Auto",
                  "Personal L1",
                  "Offer2",
                  "Branch",
                  "739.2",
                  "Sports Car",
                  "Medsize",
                  null
                ],
                [
                  "15",
                  "15",
                  "CW49887",
                  "California",
                  "4626.801093",
                  "yes",
                  "Basic",
                  "Master",
                  "1/16/11",
                  "Employed",
                  "F",
                  "79487",
                  "Suburban",
                  "Divorced",
                  "114",
                  "20.0",
                  "87",
                  "0.0",
                  "1",
                  "Special Auto",
                  "Special L1",
                  "Offer2",
                  "Branch",
                  "547.2",
                  "SUV",
                  "Medsize",
                  null
                ],
                [
                  "19",
                  "19",
                  "NJ54277",
                  "California",
                  "3746.751625",
                  "yes",
                  "Extended",
                  "College",
                  "2/26/11",
                  "Employed",
                  "F",
                  "41479",
                  "Rural",
                  "Married",
                  "94",
                  "14.0",
                  "38",
                  "1.0",
                  "1",
                  "Personal Auto",
                  "Personal L2",
                  "Offer2",
                  "Call Center",
                  "19.575683",
                  "Two-Door Car",
                  "Large",
                  "A"
                ],
                [
                  "27",
                  "27",
                  "MQ68407",
                  "Oregon",
                  "4376.363592",
                  "yes",
                  "Premium",
                  "Bachelor",
                  "2/28/11",
                  "Employed",
                  "F",
                  "63774",
                  "Rural",
                  "Divorced",
                  "111",
                  "18.0",
                  "63",
                  "0.0",
                  "1",
                  "Personal Auto",
                  "Personal L3",
                  "Offer2",
                  "Agent",
                  "60.036683",
                  "Four-Door Car",
                  "Medsize",
                  null
                ]
              ],
              "shape": {
                "columns": 26,
                "rows": 5
              }
            },
            "text/html": [
              "<div>\n",
              "<style scoped>\n",
              "    .dataframe tbody tr th:only-of-type {\n",
              "        vertical-align: middle;\n",
              "    }\n",
              "\n",
              "    .dataframe tbody tr th {\n",
              "        vertical-align: top;\n",
              "    }\n",
              "\n",
              "    .dataframe thead th {\n",
              "        text-align: right;\n",
              "    }\n",
              "</style>\n",
              "<table border=\"1\" class=\"dataframe\">\n",
              "  <thead>\n",
              "    <tr style=\"text-align: right;\">\n",
              "      <th></th>\n",
              "      <th>unnamed: 0</th>\n",
              "      <th>customer</th>\n",
              "      <th>state</th>\n",
              "      <th>customer lifetime value</th>\n",
              "      <th>response</th>\n",
              "      <th>coverage</th>\n",
              "      <th>education</th>\n",
              "      <th>effective to date</th>\n",
              "      <th>employmentstatus</th>\n",
              "      <th>gender</th>\n",
              "      <th>...</th>\n",
              "      <th>number of open complaints</th>\n",
              "      <th>number of policies</th>\n",
              "      <th>policy type</th>\n",
              "      <th>policy</th>\n",
              "      <th>renew offer type</th>\n",
              "      <th>sales channel</th>\n",
              "      <th>total claim amount</th>\n",
              "      <th>vehicle class</th>\n",
              "      <th>vehicle size</th>\n",
              "      <th>vehicle type</th>\n",
              "    </tr>\n",
              "  </thead>\n",
              "  <tbody>\n",
              "    <tr>\n",
              "      <th>3</th>\n",
              "      <td>3</td>\n",
              "      <td>XL78013</td>\n",
              "      <td>Oregon</td>\n",
              "      <td>22332.439460</td>\n",
              "      <td>yes</td>\n",
              "      <td>Extended</td>\n",
              "      <td>College</td>\n",
              "      <td>1/11/11</td>\n",
              "      <td>Employed</td>\n",
              "      <td>M</td>\n",
              "      <td>...</td>\n",
              "      <td>0.0</td>\n",
              "      <td>2</td>\n",
              "      <td>Corporate Auto</td>\n",
              "      <td>Corporate L3</td>\n",
              "      <td>Offer2</td>\n",
              "      <td>Branch</td>\n",
              "      <td>484.013411</td>\n",
              "      <td>Four-Door Car</td>\n",
              "      <td>Medsize</td>\n",
              "      <td>A</td>\n",
              "    </tr>\n",
              "    <tr>\n",
              "      <th>8</th>\n",
              "      <td>8</td>\n",
              "      <td>FM55990</td>\n",
              "      <td>California</td>\n",
              "      <td>5989.773931</td>\n",
              "      <td>yes</td>\n",
              "      <td>Premium</td>\n",
              "      <td>College</td>\n",
              "      <td>1/19/11</td>\n",
              "      <td>Employed</td>\n",
              "      <td>M</td>\n",
              "      <td>...</td>\n",
              "      <td>0.0</td>\n",
              "      <td>1</td>\n",
              "      <td>Personal Auto</td>\n",
              "      <td>Personal L1</td>\n",
              "      <td>Offer2</td>\n",
              "      <td>Branch</td>\n",
              "      <td>739.200000</td>\n",
              "      <td>Sports Car</td>\n",
              "      <td>Medsize</td>\n",
              "      <td>NaN</td>\n",
              "    </tr>\n",
              "    <tr>\n",
              "      <th>15</th>\n",
              "      <td>15</td>\n",
              "      <td>CW49887</td>\n",
              "      <td>California</td>\n",
              "      <td>4626.801093</td>\n",
              "      <td>yes</td>\n",
              "      <td>Basic</td>\n",
              "      <td>Master</td>\n",
              "      <td>1/16/11</td>\n",
              "      <td>Employed</td>\n",
              "      <td>F</td>\n",
              "      <td>...</td>\n",
              "      <td>0.0</td>\n",
              "      <td>1</td>\n",
              "      <td>Special Auto</td>\n",
              "      <td>Special L1</td>\n",
              "      <td>Offer2</td>\n",
              "      <td>Branch</td>\n",
              "      <td>547.200000</td>\n",
              "      <td>SUV</td>\n",
              "      <td>Medsize</td>\n",
              "      <td>NaN</td>\n",
              "    </tr>\n",
              "    <tr>\n",
              "      <th>19</th>\n",
              "      <td>19</td>\n",
              "      <td>NJ54277</td>\n",
              "      <td>California</td>\n",
              "      <td>3746.751625</td>\n",
              "      <td>yes</td>\n",
              "      <td>Extended</td>\n",
              "      <td>College</td>\n",
              "      <td>2/26/11</td>\n",
              "      <td>Employed</td>\n",
              "      <td>F</td>\n",
              "      <td>...</td>\n",
              "      <td>1.0</td>\n",
              "      <td>1</td>\n",
              "      <td>Personal Auto</td>\n",
              "      <td>Personal L2</td>\n",
              "      <td>Offer2</td>\n",
              "      <td>Call Center</td>\n",
              "      <td>19.575683</td>\n",
              "      <td>Two-Door Car</td>\n",
              "      <td>Large</td>\n",
              "      <td>A</td>\n",
              "    </tr>\n",
              "    <tr>\n",
              "      <th>27</th>\n",
              "      <td>27</td>\n",
              "      <td>MQ68407</td>\n",
              "      <td>Oregon</td>\n",
              "      <td>4376.363592</td>\n",
              "      <td>yes</td>\n",
              "      <td>Premium</td>\n",
              "      <td>Bachelor</td>\n",
              "      <td>2/28/11</td>\n",
              "      <td>Employed</td>\n",
              "      <td>F</td>\n",
              "      <td>...</td>\n",
              "      <td>0.0</td>\n",
              "      <td>1</td>\n",
              "      <td>Personal Auto</td>\n",
              "      <td>Personal L3</td>\n",
              "      <td>Offer2</td>\n",
              "      <td>Agent</td>\n",
              "      <td>60.036683</td>\n",
              "      <td>Four-Door Car</td>\n",
              "      <td>Medsize</td>\n",
              "      <td>NaN</td>\n",
              "    </tr>\n",
              "  </tbody>\n",
              "</table>\n",
              "<p>5 rows × 26 columns</p>\n",
              "</div>"
            ],
            "text/plain": [
              "    unnamed: 0 customer       state  customer lifetime value response  \\\n",
              "3            3  XL78013      Oregon             22332.439460      yes   \n",
              "8            8  FM55990  California              5989.773931      yes   \n",
              "15          15  CW49887  California              4626.801093      yes   \n",
              "19          19  NJ54277  California              3746.751625      yes   \n",
              "27          27  MQ68407      Oregon              4376.363592      yes   \n",
              "\n",
              "    coverage education effective to date employmentstatus gender  ...  \\\n",
              "3   Extended   College           1/11/11         Employed      M  ...   \n",
              "8    Premium   College           1/19/11         Employed      M  ...   \n",
              "15     Basic    Master           1/16/11         Employed      F  ...   \n",
              "19  Extended   College           2/26/11         Employed      F  ...   \n",
              "27   Premium  Bachelor           2/28/11         Employed      F  ...   \n",
              "\n",
              "    number of open complaints number of policies     policy type  \\\n",
              "3                         0.0                  2  Corporate Auto   \n",
              "8                         0.0                  1   Personal Auto   \n",
              "15                        0.0                  1    Special Auto   \n",
              "19                        1.0                  1   Personal Auto   \n",
              "27                        0.0                  1   Personal Auto   \n",
              "\n",
              "          policy  renew offer type  sales channel  total claim amount  \\\n",
              "3   Corporate L3            Offer2         Branch          484.013411   \n",
              "8    Personal L1            Offer2         Branch          739.200000   \n",
              "15    Special L1            Offer2         Branch          547.200000   \n",
              "19   Personal L2            Offer2    Call Center           19.575683   \n",
              "27   Personal L3            Offer2          Agent           60.036683   \n",
              "\n",
              "    vehicle class vehicle size vehicle type  \n",
              "3   Four-Door Car      Medsize            A  \n",
              "8      Sports Car      Medsize          NaN  \n",
              "15            SUV      Medsize          NaN  \n",
              "19   Two-Door Car        Large            A  \n",
              "27  Four-Door Car      Medsize          NaN  \n",
              "\n",
              "[5 rows x 26 columns]"
            ]
          },
          "metadata": {},
          "output_type": "display_data"
        }
      ],
      "source": [
        "# Filter customers with total claim amount < 1000 and who responded 'yes'\n",
        "low_claim_yes_response = df[(df['total claim amount'] < 1000) & (df['response'] == 'yes')]\n",
        "display(low_claim_yes_response.head())"
      ]
    },
    {
      "cell_type": "code",
      "execution_count": 12,
      "id": "1dda2949",
      "metadata": {},
      "outputs": [
        {
          "data": {
            "application/vnd.microsoft.datawrangler.viewer.v0+json": {
              "columns": [
                {
                  "name": "index",
                  "rawType": "int64",
                  "type": "integer"
                },
                {
                  "name": "policy type",
                  "rawType": "object",
                  "type": "string"
                },
                {
                  "name": "gender",
                  "rawType": "object",
                  "type": "string"
                },
                {
                  "name": "monthly premium auto",
                  "rawType": "float64",
                  "type": "float"
                },
                {
                  "name": "customer lifetime value",
                  "rawType": "float64",
                  "type": "float"
                }
              ],
              "ref": "18fcf97d-bf4b-49a5-afef-cb9f585e89e8",
              "rows": [
                [
                  "0",
                  "Corporate Auto",
                  "F",
                  "94.30177514792899",
                  "7712.62873610651"
                ],
                [
                  "1",
                  "Corporate Auto",
                  "M",
                  "92.18831168831169",
                  "7944.465413844156"
                ],
                [
                  "2",
                  "Personal Auto",
                  "F",
                  "98.99814814814815",
                  "8339.791842237037"
                ],
                [
                  "3",
                  "Personal Auto",
                  "M",
                  "91.08582089552239",
                  "7448.383280707089"
                ],
                [
                  "4",
                  "Special Auto",
                  "F",
                  "92.31428571428572",
                  "7691.584111285713"
                ],
                [
                  "5",
                  "Special Auto",
                  "M",
                  "86.34375",
                  "8247.08870234375"
                ]
              ],
              "shape": {
                "columns": 4,
                "rows": 6
              }
            },
            "text/html": [
              "<div>\n",
              "<style scoped>\n",
              "    .dataframe tbody tr th:only-of-type {\n",
              "        vertical-align: middle;\n",
              "    }\n",
              "\n",
              "    .dataframe tbody tr th {\n",
              "        vertical-align: top;\n",
              "    }\n",
              "\n",
              "    .dataframe thead th {\n",
              "        text-align: right;\n",
              "    }\n",
              "</style>\n",
              "<table border=\"1\" class=\"dataframe\">\n",
              "  <thead>\n",
              "    <tr style=\"text-align: right;\">\n",
              "      <th></th>\n",
              "      <th>policy type</th>\n",
              "      <th>gender</th>\n",
              "      <th>monthly premium auto</th>\n",
              "      <th>customer lifetime value</th>\n",
              "    </tr>\n",
              "  </thead>\n",
              "  <tbody>\n",
              "    <tr>\n",
              "      <th>0</th>\n",
              "      <td>Corporate Auto</td>\n",
              "      <td>F</td>\n",
              "      <td>94.301775</td>\n",
              "      <td>7712.628736</td>\n",
              "    </tr>\n",
              "    <tr>\n",
              "      <th>1</th>\n",
              "      <td>Corporate Auto</td>\n",
              "      <td>M</td>\n",
              "      <td>92.188312</td>\n",
              "      <td>7944.465414</td>\n",
              "    </tr>\n",
              "    <tr>\n",
              "      <th>2</th>\n",
              "      <td>Personal Auto</td>\n",
              "      <td>F</td>\n",
              "      <td>98.998148</td>\n",
              "      <td>8339.791842</td>\n",
              "    </tr>\n",
              "    <tr>\n",
              "      <th>3</th>\n",
              "      <td>Personal Auto</td>\n",
              "      <td>M</td>\n",
              "      <td>91.085821</td>\n",
              "      <td>7448.383281</td>\n",
              "    </tr>\n",
              "    <tr>\n",
              "      <th>4</th>\n",
              "      <td>Special Auto</td>\n",
              "      <td>F</td>\n",
              "      <td>92.314286</td>\n",
              "      <td>7691.584111</td>\n",
              "    </tr>\n",
              "    <tr>\n",
              "      <th>5</th>\n",
              "      <td>Special Auto</td>\n",
              "      <td>M</td>\n",
              "      <td>86.343750</td>\n",
              "      <td>8247.088702</td>\n",
              "    </tr>\n",
              "  </tbody>\n",
              "</table>\n",
              "</div>"
            ],
            "text/plain": [
              "      policy type gender  monthly premium auto  customer lifetime value\n",
              "0  Corporate Auto      F             94.301775              7712.628736\n",
              "1  Corporate Auto      M             92.188312              7944.465414\n",
              "2   Personal Auto      F             98.998148              8339.791842\n",
              "3   Personal Auto      M             91.085821              7448.383281\n",
              "4    Special Auto      F             92.314286              7691.584111\n",
              "5    Special Auto      M             86.343750              8247.088702"
            ]
          },
          "metadata": {},
          "output_type": "display_data"
        }
      ],
      "source": [
        "# Group by policy type and gender (make sure you clean values first if needed)\n",
        "grouped_avg = df[df['response'] == 'yes'].groupby(['policy type', 'gender'])[\n",
        "    ['monthly premium auto', 'customer lifetime value']\n",
        "].mean().reset_index()\n",
        "display(grouped_avg)"
      ]
    },
    {
      "cell_type": "code",
      "execution_count": null,
      "id": "762c52eb",
      "metadata": {},
      "outputs": [],
      "source": []
    },
    {
      "cell_type": "code",
      "execution_count": null,
      "id": "5636257a",
      "metadata": {},
      "outputs": [],
      "source": []
    },
    {
      "cell_type": "code",
      "execution_count": null,
      "id": "30cd58fc",
      "metadata": {},
      "outputs": [],
      "source": []
    }
  ],
  "metadata": {
    "colab": {
      "provenance": []
    },
    "kernelspec": {
      "display_name": "data-analyst",
      "language": "python",
      "name": "python3"
    },
    "language_info": {
      "codemirror_mode": {
        "name": "ipython",
        "version": 3
      },
      "file_extension": ".py",
      "mimetype": "text/x-python",
      "name": "python",
      "nbconvert_exporter": "python",
      "pygments_lexer": "ipython3",
      "version": "3.13.5"
    }
  },
  "nbformat": 4,
  "nbformat_minor": 5
}
