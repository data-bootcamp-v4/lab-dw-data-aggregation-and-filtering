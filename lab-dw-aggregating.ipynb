{
 "cells": [
  {
   "cell_type": "markdown",
   "id": "31969215-2a90-4d8b-ac36-646a7ae13744",
   "metadata": {
    "id": "31969215-2a90-4d8b-ac36-646a7ae13744"
   },
   "source": [
    "# Lab | Data Aggregation and Filtering"
   ]
  },
  {
   "cell_type": "markdown",
   "id": "a8f08a52-bec0-439b-99cc-11d3809d8b5d",
   "metadata": {
    "id": "a8f08a52-bec0-439b-99cc-11d3809d8b5d"
   },
   "source": [
    "In this challenge, we will continue to work with customer data from an insurance company. We will use the dataset called marketing_customer_analysis.csv, which can be found at the following link:\n",
    "\n",
    "https://raw.githubusercontent.com/data-bootcamp-v4/data/main/marketing_customer_analysis.csv\n",
    "\n",
    "This dataset contains information such as customer demographics, policy details, vehicle information, and the customer's response to the last marketing campaign. Our goal is to explore and analyze this data by first performing data cleaning, formatting, and structuring."
   ]
  },
  {
   "cell_type": "markdown",
   "id": "9c98ddc5-b041-4c94-ada1-4dfee5c98e50",
   "metadata": {
    "id": "9c98ddc5-b041-4c94-ada1-4dfee5c98e50"
   },
   "source": [
    "1. Create a new DataFrame that only includes customers who have a total_claim_amount greater than $1,000 and have a response of \"Yes\" to the last marketing campaign."
   ]
  },
  {
   "cell_type": "markdown",
   "id": "b9be383e-5165-436e-80c8-57d4c757c8c3",
   "metadata": {
    "id": "b9be383e-5165-436e-80c8-57d4c757c8c3"
   },
   "source": [
    "2. Using the original Dataframe, analyze the average total_claim_amount by each policy type and gender for customers who have responded \"Yes\" to the last marketing campaign. Write your conclusions."
   ]
  },
  {
   "cell_type": "markdown",
   "id": "7050f4ac-53c5-4193-a3c0-8699b87196f0",
   "metadata": {
    "id": "7050f4ac-53c5-4193-a3c0-8699b87196f0"
   },
   "source": [
    "3. Analyze the total number of customers who have policies in each state, and then filter the results to only include states where there are more than 500 customers."
   ]
  },
  {
   "cell_type": "markdown",
   "id": "b60a4443-a1a7-4bbf-b78e-9ccdf9895e0d",
   "metadata": {
    "id": "b60a4443-a1a7-4bbf-b78e-9ccdf9895e0d"
   },
   "source": [
    "4. Find the maximum, minimum, and median customer lifetime value by education level and gender. Write your conclusions."
   ]
  },
  {
   "cell_type": "markdown",
   "id": "b42999f9-311f-481e-ae63-40a5577072c5",
   "metadata": {
    "id": "b42999f9-311f-481e-ae63-40a5577072c5"
   },
   "source": [
    "## Bonus"
   ]
  },
  {
   "cell_type": "markdown",
   "id": "81ff02c5-6584-4f21-a358-b918697c6432",
   "metadata": {
    "id": "81ff02c5-6584-4f21-a358-b918697c6432"
   },
   "source": [
    "5. The marketing team wants to analyze the number of policies sold by state and month. Present the data in a table where the months are arranged as columns and the states are arranged as rows."
   ]
  },
  {
   "cell_type": "markdown",
   "id": "b6aec097-c633-4017-a125-e77a97259cda",
   "metadata": {
    "id": "b6aec097-c633-4017-a125-e77a97259cda"
   },
   "source": [
    "6.  Display a new DataFrame that contains the number of policies sold by month, by state, for the top 3 states with the highest number of policies sold.\n",
    "\n",
    "*Hint:*\n",
    "- *To accomplish this, you will first need to group the data by state and month, then count the number of policies sold for each group. Afterwards, you will need to sort the data by the count of policies sold in descending order.*\n",
    "- *Next, you will select the top 3 states with the highest number of policies sold.*\n",
    "- *Finally, you will create a new DataFrame that contains the number of policies sold by month for each of the top 3 states.*"
   ]
  },
  {
   "cell_type": "markdown",
   "id": "ba975b8a-a2cf-4fbf-9f59-ebc381767009",
   "metadata": {
    "id": "ba975b8a-a2cf-4fbf-9f59-ebc381767009"
   },
   "source": [
    "7. The marketing team wants to analyze the effect of different marketing channels on the customer response rate.\n",
    "\n",
    "Hint: You can use melt to unpivot the data and create a table that shows the customer response rate (those who responded \"Yes\") by marketing channel."
   ]
  },
  {
   "cell_type": "markdown",
   "id": "e4378d94-48fb-4850-a802-b1bc8f427b2d",
   "metadata": {
    "id": "e4378d94-48fb-4850-a802-b1bc8f427b2d"
   },
   "source": [
    "External Resources for Data Filtering: https://towardsdatascience.com/filtering-data-frames-in-pandas-b570b1f834b9"
   ]
  },
  {
   "cell_type": "code",
   "execution_count": null,
   "id": "2b4935fa-05ea-42c4-983b-29d9c9e7b081",
   "metadata": {},
   "outputs": [],
   "source": [
    "\n",
    "\n"
   ]
  },
  {
   "cell_type": "code",
   "execution_count": 53,
   "id": "449513f4-0459-46a0-a18d-9398d974c9ad",
   "metadata": {
    "id": "449513f4-0459-46a0-a18d-9398d974c9ad"
   },
   "outputs": [
    {
     "name": "stdout",
     "output_type": "stream",
     "text": [
      "policy_type     gender\n",
      "Corporate Auto  F         433.738499\n",
      "                M         408.582459\n",
      "Personal Auto   F         452.965929\n",
      "                M         457.010178\n",
      "Special Auto    F         453.280164\n",
      "                M         429.527942\n",
      "Name: total_claim_amount, dtype: float64\n",
      "state\n",
      "Arizona       1937\n",
      "California    3552\n",
      "Nevada         993\n",
      "Oregon        2909\n",
      "Washington     888\n",
      "dtype: int64\n",
      "                                     max       min      median\n",
      "education            gender                                   \n",
      "Bachelor             F       2156.011022  2.016239  364.800000\n",
      "                     M       2893.239678  0.382107  377.354191\n",
      "College              F       2327.166394  0.423310  345.600000\n",
      "                     M       2275.265075  4.238626  400.181882\n",
      "Doctor               F       1286.400000  0.517753  331.200000\n",
      "                     M       1337.063487  0.887629  330.138332\n",
      "High School or Below F       2452.894264  1.332349  427.200000\n",
      "                     M       2759.794354  0.099007  467.751618\n",
      "Master               F       1368.000000  2.704934  312.000000\n",
      "                     M       1548.310532  1.489470  326.400000\n"
     ]
    }
   ],
   "source": [
    "# your code goes here\n",
    "def clean_data(df):\n",
    "    df = handle_missing_data(df)\n",
    "    df = drop_duplicates(df)\n",
    "    df = standardize_column_names(df)\n",
    "    df = clean_column_formats(df)\n",
    "    return df\n",
    "\n",
    "def handle_missing_data(df):\n",
    "    df.fillna(df.mean(numeric_only=True), inplace=True)\n",
    "    return df\n",
    "\n",
    "def drop_duplicates(df):\n",
    "    df.drop_duplicates(inplace=True)\n",
    "    return df\n",
    "\n",
    "def standardize_column_names(df):\n",
    "    df.columns = df.columns.str.lower().str.replace(' ', '_')\n",
    "    return df\n",
    "\n",
    "def clean_column_formats(df):\n",
    "    for col in df.select_dtypes(include='object').columns:\n",
    "        df[col] = df[col].str.strip()\n",
    "    return df\n",
    "    \n",
    "import pandas as pd\n",
    "url = 'https://raw.githubusercontent.com/data-bootcamp-v4/data/main/marketing_customer_analysis.csv'\n",
    "df = pd.read_csv(url)\n",
    "clean_df = clean_data(df)\n",
    "filtered_df = clean_df[(clean_df[\"total_claim_amount\"] > 1000) & (clean_df[\"response\"] == \"Yes\")]\n",
    "filtered_yes_response_df = clean_df[clean_df[\"response\"] == \"Yes\"]\n",
    "grouped_mean = filtered_yes_response_df.groupby([\"policy_type\", \"gender\"])[\"total_claim_amount\"].mean()\n",
    "#Femela hace more Corporate Auto and special auto than men, and both policy_type have a bigger gap that personal auto\n",
    "print(grouped_mean)\n",
    "total_policies_df = clean_df.groupby(\"state\").sum()\n",
    "clean_df.head()\n",
    "\n",
    "customer_count_by_state = clean_df.groupby(\"state\").size()\n",
    "filtered_states = customer_count_by_state[customer_count_by_state > 500]\n",
    "print(filtered_states)\n",
    "\n",
    "clean_df.head() \n",
    "customer_lifetime_df = clean_df.groupby([\"education\", \"gender\"])[\"total_claim_amount\"].agg([ \"max\", \"min\", \"median\"])\n",
    "print(customer_lifetime_df)\n",
    "\n",
    "#Males generally have higher maximum and median claim amounts than Females across most education levels, except in some categories like Bachelor's and College, where Females show higher maximum values.\n",
    "#Females tend to have more variability in their claim amounts, with a larger difference between max and median, especially in the Bachelor's and High School or Below categories.\n",
    "#Overall, the claim amounts for both genders show significant outliers, particularly in the maximum values, indicating some individuals have exceptionally high claims."
   ]
  },
  {
   "cell_type": "code",
   "execution_count": null,
   "id": "d0a1ff80-38c9-4518-a09d-87c8e86c1b09",
   "metadata": {},
   "outputs": [],
   "source": []
  }
 ],
 "metadata": {
  "colab": {
   "provenance": []
  },
  "kernelspec": {
   "display_name": "Python 3 (ipykernel)",
   "language": "python",
   "name": "python3"
  },
  "language_info": {
   "codemirror_mode": {
    "name": "ipython",
    "version": 3
   },
   "file_extension": ".py",
   "mimetype": "text/x-python",
   "name": "python",
   "nbconvert_exporter": "python",
   "pygments_lexer": "ipython3",
   "version": "3.12.4"
  }
 },
 "nbformat": 4,
 "nbformat_minor": 5
}
