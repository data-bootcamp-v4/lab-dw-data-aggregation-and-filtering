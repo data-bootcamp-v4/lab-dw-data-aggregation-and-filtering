{
 "cells": [
  {
   "cell_type": "markdown",
   "metadata": {
    "id": "31969215-2a90-4d8b-ac36-646a7ae13744"
   },
   "source": [
    "# Lab | Data Aggregation and Filtering"
   ]
  },
  {
   "cell_type": "markdown",
   "metadata": {
    "id": "a8f08a52-bec0-439b-99cc-11d3809d8b5d"
   },
   "source": [
    "In this challenge, we will continue to work with customer data from an insurance company. We will use the dataset called marketing_customer_analysis.csv, which can be found at the following link:\n",
    "\n",
    "https://raw.githubusercontent.com/data-bootcamp-v4/data/main/marketing_customer_analysis.csv\n",
    "\n",
    "This dataset contains information such as customer demographics, policy details, vehicle information, and the customer's response to the last marketing campaign. Our goal is to explore and analyze this data by first performing data cleaning, formatting, and structuring."
   ]
  },
  {
   "cell_type": "code",
   "execution_count": 20,
   "metadata": {},
   "outputs": [
    {
     "data": {
      "text/plain": [
       "Index(['Unnamed: 0', 'Customer', 'State', 'Customer Lifetime Value',\n",
       "       'Response', 'Coverage', 'Education', 'Effective To Date',\n",
       "       'EmploymentStatus', 'Gender', 'Income', 'Location Code',\n",
       "       'Marital Status', 'Monthly Premium Auto', 'Months Since Last Claim',\n",
       "       'Months Since Policy Inception', 'Number of Open Complaints',\n",
       "       'Number of Policies', 'Policy Type', 'Policy', 'Renew Offer Type',\n",
       "       'Sales Channel', 'Total Claim Amount', 'Vehicle Class', 'Vehicle Size',\n",
       "       'Vehicle Type'],\n",
       "      dtype='object')"
      ]
     },
     "execution_count": 20,
     "metadata": {},
     "output_type": "execute_result"
    }
   ],
   "source": [
    "import pandas as pd\n",
    "\n",
    "#url1 \n",
    "url= 'https://raw.githubusercontent.com/data-bootcamp-v4/data/main/marketing_customer_analysis.csv' \n",
    "df = pd.read_csv(url)\n",
    "\n",
    "df.columns"
   ]
  },
  {
   "cell_type": "markdown",
   "metadata": {
    "id": "9c98ddc5-b041-4c94-ada1-4dfee5c98e50"
   },
   "source": [
    "1. Create a new DataFrame that only includes customers who:\n",
    "   - have a **low total_claim_amount** (e.g., below $1,000),\n",
    "   - have a response \"Yes\" to the last marketing campaign."
   ]
  },
  {
   "cell_type": "code",
   "execution_count": 21,
   "metadata": {},
   "outputs": [
    {
     "name": "stdout",
     "output_type": "stream",
     "text": [
      "    Unnamed: 0 Customer       State  Customer Lifetime Value Response  \\\n",
      "3            3  XL78013      Oregon             22332.439460      Yes   \n",
      "8            8  FM55990  California              5989.773931      Yes   \n",
      "15          15  CW49887  California              4626.801093      Yes   \n",
      "19          19  NJ54277  California              3746.751625      Yes   \n",
      "27          27  MQ68407      Oregon              4376.363592      Yes   \n",
      "\n",
      "    Coverage Education Effective To Date EmploymentStatus Gender  ...  \\\n",
      "3   Extended   College           1/11/11         Employed      M  ...   \n",
      "8    Premium   College           1/19/11         Employed      M  ...   \n",
      "15     Basic    Master           1/16/11         Employed      F  ...   \n",
      "19  Extended   College           2/26/11         Employed      F  ...   \n",
      "27   Premium  Bachelor           2/28/11         Employed      F  ...   \n",
      "\n",
      "    Number of Open Complaints Number of Policies     Policy Type  \\\n",
      "3                         0.0                  2  Corporate Auto   \n",
      "8                         0.0                  1   Personal Auto   \n",
      "15                        0.0                  1    Special Auto   \n",
      "19                        1.0                  1   Personal Auto   \n",
      "27                        0.0                  1   Personal Auto   \n",
      "\n",
      "          Policy  Renew Offer Type  Sales Channel  Total Claim Amount  \\\n",
      "3   Corporate L3            Offer2         Branch          484.013411   \n",
      "8    Personal L1            Offer2         Branch          739.200000   \n",
      "15    Special L1            Offer2         Branch          547.200000   \n",
      "19   Personal L2            Offer2    Call Center           19.575683   \n",
      "27   Personal L3            Offer2          Agent           60.036683   \n",
      "\n",
      "    Vehicle Class Vehicle Size Vehicle Type  \n",
      "3   Four-Door Car      Medsize            A  \n",
      "8      Sports Car      Medsize          NaN  \n",
      "15            SUV      Medsize          NaN  \n",
      "19   Two-Door Car        Large            A  \n",
      "27  Four-Door Car      Medsize          NaN  \n",
      "\n",
      "[5 rows x 26 columns]\n",
      "(1399, 26)\n"
     ]
    }
   ],
   "source": [
    "df_filtered = df[\n",
    "    (df['Total Claim Amount'] < 1000) &\n",
    "    (df['Response'] == 'Yes')\n",
    "]\n",
    "\n",
    "print(df_filtered.head())\n",
    "print(df_filtered.shape)  "
   ]
  },
  {
   "cell_type": "markdown",
   "metadata": {
    "id": "b9be383e-5165-436e-80c8-57d4c757c8c3"
   },
   "source": [
    "2. Using the original Dataframe, analyze:\n",
    "   - the average `monthly_premium` and/or customer lifetime value by `policy_type` and `gender` for customers who responded \"Yes\", and\n",
    "   - compare these insights to `total_claim_amount` patterns, and discuss which segments appear most profitable or low-risk for the company."
   ]
  },
  {
   "cell_type": "code",
   "execution_count": 26,
   "metadata": {},
   "outputs": [
    {
     "name": "stdout",
     "output_type": "stream",
     "text": [
      "                       Monthly Premium Auto  Customer Lifetime Value\n",
      "Policy Type    Gender                                               \n",
      "Corporate Auto F                      91.38                  7980.31\n",
      "               M                      94.76                  7750.74\n",
      "Personal Auto  F                      93.15                  8074.66\n",
      "               M                      93.30                  7971.39\n",
      "Special Auto   F                      93.56                  8460.40\n",
      "               M                      93.20                  9010.60\n",
      "       Unnamed: 0 Customer       State  Customer Lifetime Value Response  \\\n",
      "0               0  DK49336     Arizona              4809.216960       No   \n",
      "1               1  KX64629  California              2228.525238       No   \n",
      "2               2  LZ68649  Washington             14947.917300       No   \n",
      "3               3  XL78013      Oregon             22332.439460      Yes   \n",
      "4               4  QA50777      Oregon              9025.067525       No   \n",
      "...           ...      ...         ...                      ...      ...   \n",
      "10905       10905  FE99816      Nevada             15563.369440       No   \n",
      "10906       10906  KX53892      Oregon              5259.444853       No   \n",
      "10907       10907  TL39050     Arizona             23893.304100       No   \n",
      "10908       10908  WA60547  California             11971.977650       No   \n",
      "10909       10909  IV32877         NaN              6857.519928      NaN   \n",
      "\n",
      "       Coverage Education Effective To Date EmploymentStatus Gender  ...  \\\n",
      "0         Basic   College           2/18/11         Employed      M  ...   \n",
      "1         Basic   College           1/18/11       Unemployed      F  ...   \n",
      "2         Basic  Bachelor           2/10/11         Employed      M  ...   \n",
      "3      Extended   College           1/11/11         Employed      M  ...   \n",
      "4       Premium  Bachelor           1/17/11    Medical Leave      F  ...   \n",
      "...         ...       ...               ...              ...    ...  ...   \n",
      "10905   Premium  Bachelor           1/19/11       Unemployed      F  ...   \n",
      "10906     Basic   College            1/6/11         Employed      F  ...   \n",
      "10907  Extended  Bachelor            2/6/11         Employed      F  ...   \n",
      "10908   Premium   College           2/13/11         Employed      F  ...   \n",
      "10909     Basic  Bachelor            1/8/11       Unemployed      M  ...   \n",
      "\n",
      "       Number of Open Complaints Number of Policies     Policy Type  \\\n",
      "0                            0.0                  9  Corporate Auto   \n",
      "1                            0.0                  1   Personal Auto   \n",
      "2                            0.0                  2   Personal Auto   \n",
      "3                            0.0                  2  Corporate Auto   \n",
      "4                            NaN                  7   Personal Auto   \n",
      "...                          ...                ...             ...   \n",
      "10905                        NaN                  7   Personal Auto   \n",
      "10906                        0.0                  6   Personal Auto   \n",
      "10907                        0.0                  2  Corporate Auto   \n",
      "10908                        4.0                  6   Personal Auto   \n",
      "10909                        0.0                  3   Personal Auto   \n",
      "\n",
      "             Policy  Renew Offer Type  Sales Channel  Total Claim Amount  \\\n",
      "0      Corporate L3            Offer3          Agent          292.800000   \n",
      "1       Personal L3            Offer4    Call Center          744.924331   \n",
      "2       Personal L3            Offer3    Call Center          480.000000   \n",
      "3      Corporate L3            Offer2         Branch          484.013411   \n",
      "4       Personal L2            Offer1         Branch          707.925645   \n",
      "...             ...               ...            ...                 ...   \n",
      "10905   Personal L1            Offer3            Web         1214.400000   \n",
      "10906   Personal L3            Offer2         Branch          273.018929   \n",
      "10907  Corporate L3            Offer1            Web          381.306996   \n",
      "10908   Personal L1            Offer1         Branch          618.288849   \n",
      "10909   Personal L1            Offer4            Web         1021.719397   \n",
      "\n",
      "       Vehicle Class Vehicle Size Vehicle Type  \n",
      "0      Four-Door Car      Medsize          NaN  \n",
      "1      Four-Door Car      Medsize          NaN  \n",
      "2                SUV      Medsize            A  \n",
      "3      Four-Door Car      Medsize            A  \n",
      "4      Four-Door Car      Medsize          NaN  \n",
      "...              ...          ...          ...  \n",
      "10905     Luxury Car      Medsize            A  \n",
      "10906  Four-Door Car      Medsize            A  \n",
      "10907     Luxury SUV      Medsize          NaN  \n",
      "10908            SUV      Medsize            A  \n",
      "10909            SUV      Medsize          NaN  \n",
      "\n",
      "[10910 rows x 26 columns]\n"
     ]
    }
   ],
   "source": [
    "#grouped = df.groupby('monthly_premium','policy_type','gender')\n",
    "#df.groupby('monthly_premium','policy_type','gender)[numeric_columns].min()\n",
    "#df.groupby('Monthly Premium Auto').agg({\"Policy Type\": 'mean', \"Gender\": 'mean'}).roun(2)\n",
    "summary_avg = df.groupby(['Policy Type', 'Gender']).agg({'Monthly Premium Auto': 'mean',\n",
    "    'Customer Lifetime Value': 'mean'\n",
    "}).round(2)\n",
    "\n",
    "print(summary_avg)\n",
    "\n",
    "print(df)"
   ]
  },
  {
   "cell_type": "markdown",
   "metadata": {
    "id": "7050f4ac-53c5-4193-a3c0-8699b87196f0"
   },
   "source": [
    "3. Analyze the total number of customers who have policies in each state, and then filter the results to only include states where there are more than 500 customers."
   ]
  },
  {
   "cell_type": "code",
   "execution_count": 27,
   "metadata": {},
   "outputs": [
    {
     "name": "stdout",
     "output_type": "stream",
     "text": [
      "California    3552\n",
      "Oregon        2909\n",
      "Arizona       1937\n",
      "Nevada         993\n",
      "Washington     888\n",
      "Name: State, dtype: int64\n"
     ]
    }
   ],
   "source": [
    "state_counts = df['State'].value_counts()\n",
    "print(state_counts)"
   ]
  },
  {
   "cell_type": "markdown",
   "metadata": {
    "id": "b60a4443-a1a7-4bbf-b78e-9ccdf9895e0d"
   },
   "source": [
    "4. Find the maximum, minimum, and median customer lifetime value by education level and gender. Write your conclusions."
   ]
  },
  {
   "cell_type": "code",
   "execution_count": 31,
   "metadata": {},
   "outputs": [
    {
     "name": "stdout",
     "output_type": "stream",
     "text": [
      "                                  max      min   median\n",
      "Education            Gender                            \n",
      "Bachelor             F       73225.96  1904.00  5640.51\n",
      "                     M       67907.27  1898.01  5548.03\n",
      "College              F       61850.19  1898.68  5623.61\n",
      "                     M       61134.68  1918.12  6005.85\n",
      "Doctor               F       44856.11  2395.57  5332.46\n",
      "                     M       32677.34  2267.60  5577.67\n",
      "High School or Below F       55277.45  2144.92  6039.55\n",
      "                     M       83325.38  1940.98  6286.73\n",
      "Master               F       51016.07  2417.78  5729.86\n",
      "                     M       50568.26  2272.31  5579.10\n"
     ]
    }
   ],
   "source": [
    "clv_summary = df.groupby(['Education', 'Gender'])['Customer Lifetime Value'].agg(['max', 'min', 'median']).round(2)\n",
    "print(clv_summary)"
   ]
  },
  {
   "cell_type": "markdown",
   "metadata": {
    "id": "b42999f9-311f-481e-ae63-40a5577072c5"
   },
   "source": [
    "## Bonus"
   ]
  },
  {
   "cell_type": "markdown",
   "metadata": {
    "id": "81ff02c5-6584-4f21-a358-b918697c6432"
   },
   "source": [
    "5. The marketing team wants to analyze the number of policies sold by state and month. Present the data in a table where the months are arranged as columns and the states are arranged as rows."
   ]
  },
  {
   "cell_type": "markdown",
   "metadata": {
    "id": "b6aec097-c633-4017-a125-e77a97259cda"
   },
   "source": [
    "6.  Display a new DataFrame that contains the number of policies sold by month, by state, for the top 3 states with the highest number of policies sold.\n",
    "\n",
    "*Hint:*\n",
    "- *To accomplish this, you will first need to group the data by state and month, then count the number of policies sold for each group. Afterwards, you will need to sort the data by the count of policies sold in descending order.*\n",
    "- *Next, you will select the top 3 states with the highest number of policies sold.*\n",
    "- *Finally, you will create a new DataFrame that contains the number of policies sold by month for each of the top 3 states.*"
   ]
  },
  {
   "cell_type": "markdown",
   "metadata": {
    "id": "ba975b8a-a2cf-4fbf-9f59-ebc381767009"
   },
   "source": [
    "7. The marketing team wants to analyze the effect of different marketing channels on the customer response rate.\n",
    "\n",
    "Hint: You can use melt to unpivot the data and create a table that shows the customer response rate (those who responded \"Yes\") by marketing channel."
   ]
  },
  {
   "cell_type": "markdown",
   "metadata": {
    "id": "e4378d94-48fb-4850-a802-b1bc8f427b2d"
   },
   "source": [
    "External Resources for Data Filtering: https://towardsdatascience.com/filtering-data-frames-in-pandas-b570b1f834b9"
   ]
  },
  {
   "cell_type": "code",
   "execution_count": null,
   "metadata": {
    "id": "449513f4-0459-46a0-a18d-9398d974c9ad"
   },
   "outputs": [],
   "source": [
    "# your code goes here"
   ]
  }
 ],
 "metadata": {
  "colab": {
   "provenance": []
  },
  "kernelspec": {
   "display_name": "Python 3",
   "language": "python",
   "name": "python3"
  },
  "language_info": {
   "codemirror_mode": {
    "name": "ipython",
    "version": 3
   },
   "file_extension": ".py",
   "mimetype": "text/x-python",
   "name": "python",
   "nbconvert_exporter": "python",
   "pygments_lexer": "ipython3",
   "version": "3.8.5"
  }
 },
 "nbformat": 4,
 "nbformat_minor": 5
}
