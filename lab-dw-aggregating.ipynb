{
  "cells": [
    {
      "cell_type": "markdown",
      "id": "31969215-2a90-4d8b-ac36-646a7ae13744",
      "metadata": {
        "id": "31969215-2a90-4d8b-ac36-646a7ae13744"
      },
      "source": [
        "# Lab | Data Aggregation and Filtering"
      ]
    },
    {
      "cell_type": "markdown",
      "id": "a8f08a52-bec0-439b-99cc-11d3809d8b5d",
      "metadata": {
        "id": "a8f08a52-bec0-439b-99cc-11d3809d8b5d"
      },
      "source": [
        "In this challenge, we will continue to work with customer data from an insurance company. We will use the dataset called marketing_customer_analysis.csv, which can be found at the following link:\n",
        "\n",
        "https://raw.githubusercontent.com/data-bootcamp-v4/data/main/marketing_customer_analysis.csv\n",
        "\n",
        "This dataset contains information such as customer demographics, policy details, vehicle information, and the customer's response to the last marketing campaign. Our goal is to explore and analyze this data by first performing data cleaning, formatting, and structuring."
      ]
    },
    {
      "cell_type": "markdown",
      "id": "9c98ddc5-b041-4c94-ada1-4dfee5c98e50",
      "metadata": {
        "id": "9c98ddc5-b041-4c94-ada1-4dfee5c98e50"
      },
      "source": [
        "1. Create a new DataFrame that only includes customers who:\n",
        "   - have a **low total_claim_amount** (e.g., below $1,000),\n",
        "   - have a response \"Yes\" to the last marketing campaign."
      ]
    },
    {
      "cell_type": "markdown",
      "id": "b9be383e-5165-436e-80c8-57d4c757c8c3",
      "metadata": {
        "id": "b9be383e-5165-436e-80c8-57d4c757c8c3"
      },
      "source": [
        "2. Using the original Dataframe, analyze:\n",
        "   - the average `monthly_premium` and/or customer lifetime value by `policy_type` and `gender` for customers who responded \"Yes\", and\n",
        "   - compare these insights to `total_claim_amount` patterns, and discuss which segments appear most profitable or low-risk for the company."
      ]
    },
    {
      "cell_type": "markdown",
      "id": "7050f4ac-53c5-4193-a3c0-8699b87196f0",
      "metadata": {
        "id": "7050f4ac-53c5-4193-a3c0-8699b87196f0"
      },
      "source": [
        "3. Analyze the total number of customers who have policies in each state, and then filter the results to only include states where there are more than 500 customers."
      ]
    },
    {
      "cell_type": "markdown",
      "id": "b60a4443-a1a7-4bbf-b78e-9ccdf9895e0d",
      "metadata": {
        "id": "b60a4443-a1a7-4bbf-b78e-9ccdf9895e0d"
      },
      "source": [
        "4. Find the maximum, minimum, and median customer lifetime value by education level and gender. Write your conclusions."
      ]
    },
    {
      "cell_type": "markdown",
      "id": "b42999f9-311f-481e-ae63-40a5577072c5",
      "metadata": {
        "id": "b42999f9-311f-481e-ae63-40a5577072c5"
      },
      "source": [
        "## Bonus"
      ]
    },
    {
      "cell_type": "markdown",
      "id": "81ff02c5-6584-4f21-a358-b918697c6432",
      "metadata": {
        "id": "81ff02c5-6584-4f21-a358-b918697c6432"
      },
      "source": [
        "5. The marketing team wants to analyze the number of policies sold by state and month. Present the data in a table where the months are arranged as columns and the states are arranged as rows."
      ]
    },
    {
      "cell_type": "markdown",
      "id": "b6aec097-c633-4017-a125-e77a97259cda",
      "metadata": {
        "id": "b6aec097-c633-4017-a125-e77a97259cda"
      },
      "source": [
        "6.  Display a new DataFrame that contains the number of policies sold by month, by state, for the top 3 states with the highest number of policies sold.\n",
        "\n",
        "*Hint:*\n",
        "- *To accomplish this, you will first need to group the data by state and month, then count the number of policies sold for each group. Afterwards, you will need to sort the data by the count of policies sold in descending order.*\n",
        "- *Next, you will select the top 3 states with the highest number of policies sold.*\n",
        "- *Finally, you will create a new DataFrame that contains the number of policies sold by month for each of the top 3 states.*"
      ]
    },
    {
      "cell_type": "markdown",
      "id": "ba975b8a-a2cf-4fbf-9f59-ebc381767009",
      "metadata": {
        "id": "ba975b8a-a2cf-4fbf-9f59-ebc381767009"
      },
      "source": [
        "7. The marketing team wants to analyze the effect of different marketing channels on the customer response rate.\n",
        "\n",
        "Hint: You can use melt to unpivot the data and create a table that shows the customer response rate (those who responded \"Yes\") by marketing channel."
      ]
    },
    {
      "cell_type": "markdown",
      "id": "e4378d94-48fb-4850-a802-b1bc8f427b2d",
      "metadata": {
        "id": "e4378d94-48fb-4850-a802-b1bc8f427b2d"
      },
      "source": [
        "External Resources for Data Filtering: https://towardsdatascience.com/filtering-data-frames-in-pandas-b570b1f834b9"
      ]
    },
    {
      "cell_type": "code",
      "execution_count": 1,
      "id": "449513f4-0459-46a0-a18d-9398d974c9ad",
      "metadata": {
        "id": "449513f4-0459-46a0-a18d-9398d974c9ad"
      },
      "outputs": [
        {
          "name": "stdout",
          "output_type": "stream",
          "text": [
            "Filtered Customers (<$1000 & Responded 'Yes'):\n",
            "     unnamed:_0 customer       state  customer_lifetime_value response  \\\n",
            "3            3  XL78013      Oregon             22332.439460      Yes   \n",
            "8            8  FM55990  California              5989.773931      Yes   \n",
            "15          15  CW49887  California              4626.801093      Yes   \n",
            "19          19  NJ54277  California              3746.751625      Yes   \n",
            "27          27  MQ68407      Oregon              4376.363592      Yes   \n",
            "\n",
            "    coverage education effective_to_date employmentstatus gender  ...  \\\n",
            "3   Extended   College           1/11/11         Employed      M  ...   \n",
            "8    Premium   College           1/19/11         Employed      M  ...   \n",
            "15     Basic    Master           1/16/11         Employed      F  ...   \n",
            "19  Extended   College           2/26/11         Employed      F  ...   \n",
            "27   Premium  Bachelor           2/28/11         Employed      F  ...   \n",
            "\n",
            "    number_of_open_complaints number_of_policies     policy_type  \\\n",
            "3                         0.0                  2  Corporate Auto   \n",
            "8                         0.0                  1   Personal Auto   \n",
            "15                        0.0                  1    Special Auto   \n",
            "19                        1.0                  1   Personal Auto   \n",
            "27                        0.0                  1   Personal Auto   \n",
            "\n",
            "          policy  renew_offer_type  sales_channel  total_claim_amount  \\\n",
            "3   Corporate L3            Offer2         Branch          484.013411   \n",
            "8    Personal L1            Offer2         Branch          739.200000   \n",
            "15    Special L1            Offer2         Branch          547.200000   \n",
            "19   Personal L2            Offer2    Call Center           19.575683   \n",
            "27   Personal L3            Offer2          Agent           60.036683   \n",
            "\n",
            "    vehicle_class vehicle_size vehicle_type  \n",
            "3   Four-Door Car      Medsize            A  \n",
            "8      Sports Car      Medsize          NaN  \n",
            "15            SUV      Medsize          NaN  \n",
            "19   Two-Door Car        Large            A  \n",
            "27  Four-Door Car      Medsize          NaN  \n",
            "\n",
            "[5 rows x 26 columns]\n",
            "\n",
            "Average Premium and CLV (Yes Responders):\n",
            "       policy_type gender  monthly_premium_auto  customer_lifetime_value  \\\n",
            "0  Corporate Auto      F             94.301775              7712.628736   \n",
            "1  Corporate Auto      M             92.188312              7944.465414   \n",
            "2   Personal Auto      F             98.998148              8339.791842   \n",
            "3   Personal Auto      M             91.085821              7448.383281   \n",
            "4    Special Auto      F             92.314286              7691.584111   \n",
            "5    Special Auto      M             86.343750              8247.088702   \n",
            "\n",
            "   total_claim_amount  \n",
            "0          433.738499  \n",
            "1          408.582459  \n",
            "2          452.965929  \n",
            "3          457.010178  \n",
            "4          453.280164  \n",
            "5          429.527942  \n",
            "\n",
            "States with >500 Customers:\n",
            " state\n",
            "California    3552\n",
            "Oregon        2909\n",
            "Arizona       1937\n",
            "Nevada         993\n",
            "Washington     888\n",
            "Name: count, dtype: int64\n",
            "\n",
            "CLV Stats by Education and Gender:\n",
            "               education gender          max          min       median\n",
            "0              Bachelor      F  73225.95652  1904.000852  5640.505303\n",
            "1              Bachelor      M  67907.27050  1898.007675  5548.031892\n",
            "2               College      F  61850.18803  1898.683686  5623.611187\n",
            "3               College      M  61134.68307  1918.119700  6005.847375\n",
            "4                Doctor      F  44856.11397  2395.570000  5332.462694\n",
            "5                Doctor      M  32677.34284  2267.604038  5577.669457\n",
            "6  High School or Below      F  55277.44589  2144.921535  6039.553187\n",
            "7  High School or Below      M  83325.38119  1940.981221  6286.731006\n",
            "8                Master      F  51016.06704  2417.777032  5729.855012\n",
            "9                Master      M  50568.25912  2272.307310  5579.099207\n"
          ]
        }
      ],
      "source": [
        "# your code goes here\n",
        "import pandas as pd\n",
        "\n",
        "# Load the dataset (run only if you've downloaded it manually)\n",
        "df = pd.read_csv(\"marketing_customer_analysis.csv\")\n",
        "\n",
        "# Step 1: Clean column names\n",
        "df.columns = df.columns.str.strip().str.lower().str.replace(' ', '_')\n",
        "df.dropna(how='all', inplace=True)\n",
        "\n",
        "# Step 2: Filter customers with total_claim_amount < 1000 and response == 'Yes'\n",
        "filtered_df = df[(df['total_claim_amount'] < 1000) & (df['response'].str.lower() == 'yes')]\n",
        "\n",
        "# Step 3: Average monthly_premium and customer_lifetime_value by policy_type and gender\n",
        "yes_responders = df[df['response'].str.lower() == 'yes']\n",
        "premium_clv_summary = yes_responders.groupby(['policy_type', 'gender'])[\n",
        "    ['monthly_premium_auto', 'customer_lifetime_value', 'total_claim_amount']\n",
        "].mean().reset_index()\n",
        "\n",
        "# Step 4: Count customers per state and filter states with >500 customers\n",
        "state_counts = df['state'].value_counts()\n",
        "states_500_plus = state_counts[state_counts > 500]\n",
        "filtered_states_df = df[df['state'].isin(states_500_plus.index)]\n",
        "\n",
        "# Step 5: Max, Min, Median CLV by education and gender\n",
        "clv_stats = df.groupby(['education', 'gender'])['customer_lifetime_value'].agg(['max', 'min', 'median']).reset_index()\n",
        "\n",
        "# Display results\n",
        "print(\"Filtered Customers (<$1000 & Responded 'Yes'):\\n\", filtered_df.head())\n",
        "print(\"\\nAverage Premium and CLV (Yes Responders):\\n\", premium_clv_summary)\n",
        "print(\"\\nStates with >500 Customers:\\n\", states_500_plus)\n",
        "print(\"\\nCLV Stats by Education and Gender:\\n\", clv_stats)\n",
        "\n"
      ]
    },
    {
      "cell_type": "code",
      "execution_count": 5,
      "id": "1eee3d5b",
      "metadata": {},
      "outputs": [
        {
          "name": "stdout",
          "output_type": "stream",
          "text": [
            "Top 3 states: Index([], dtype='object', name='state')\n",
            "Empty DataFrame\n",
            "Columns: [state, month, policy_count]\n",
            "Index: []\n",
            "\n",
            "Policies sold by month for top 3 states:\n",
            "Empty DataFrame\n",
            "Columns: []\n",
            "Index: []\n"
          ]
        }
      ],
      "source": [
        "import pandas as pd\n",
        "\n",
        "# Load dataset\n",
        "df = pd.read_csv(\"marketing_customer_analysis.csv\")\n",
        "df.columns = df.columns.str.strip().str.lower().str.replace(' ', '_')\n",
        "\n",
        "# Parse dates safely (adjust format if known)\n",
        "df['effective_to_date'] = pd.to_datetime(df['effective_to_date'], format='%m/%d/%Y', errors='coerce')\n",
        "df['month'] = df['effective_to_date'].dt.month_name()\n",
        "\n",
        "# Drop rows where state or month is missing\n",
        "df = df.dropna(subset=['state', 'month'])\n",
        "\n",
        "# Group and analyze\n",
        "policies_by_state_month = df.groupby(['state', 'month']).size().reset_index(name='policy_count')\n",
        "top_3_states = policies_by_state_month.groupby('state')['policy_count'].sum().nlargest(3).index\n",
        "top_states_monthly_sales = policies_by_state_month[policies_by_state_month['state'].isin(top_3_states)]\n",
        "\n",
        "# Check intermediate outputs\n",
        "print(\"Top 3 states:\", top_3_states)\n",
        "print(top_states_monthly_sales.head())\n",
        "\n",
        "# Pivot the table\n",
        "top_states_pivot = top_states_monthly_sales.pivot(index='state', columns='month', values='policy_count').fillna(0).astype(int)\n",
        "\n",
        "print(\"\\nPolicies sold by month for top 3 states:\")\n",
        "print(top_states_pivot)\n"
      ]
    },
    {
      "cell_type": "code",
      "execution_count": null,
      "id": "d9a56cce",
      "metadata": {},
      "outputs": [],
      "source": []
    }
  ],
  "metadata": {
    "colab": {
      "provenance": []
    },
    "kernelspec": {
      "display_name": "base",
      "language": "python",
      "name": "python3"
    },
    "language_info": {
      "codemirror_mode": {
        "name": "ipython",
        "version": 3
      },
      "file_extension": ".py",
      "mimetype": "text/x-python",
      "name": "python",
      "nbconvert_exporter": "python",
      "pygments_lexer": "ipython3",
      "version": "3.12.7"
    }
  },
  "nbformat": 4,
  "nbformat_minor": 5
}
