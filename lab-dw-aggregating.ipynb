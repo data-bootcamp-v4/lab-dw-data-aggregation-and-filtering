{
 "cells": [
  {
   "cell_type": "markdown",
   "id": "31969215-2a90-4d8b-ac36-646a7ae13744",
   "metadata": {
    "id": "31969215-2a90-4d8b-ac36-646a7ae13744"
   },
   "source": [
    "# Lab | Data Aggregation and Filtering"
   ]
  },
  {
   "cell_type": "markdown",
   "id": "a8f08a52-bec0-439b-99cc-11d3809d8b5d",
   "metadata": {
    "id": "a8f08a52-bec0-439b-99cc-11d3809d8b5d"
   },
   "source": [
    "In this challenge, we will continue to work with customer data from an insurance company. We will use the dataset called marketing_customer_analysis.csv, which can be found at the following link:\n",
    "\n",
    "https://raw.githubusercontent.com/data-bootcamp-v4/data/main/marketing_customer_analysis.csv\n",
    "\n",
    "This dataset contains information such as customer demographics, policy details, vehicle information, and the customer's response to the last marketing campaign. Our goal is to explore and analyze this data by first performing data cleaning, formatting, and structuring."
   ]
  },
  {
   "cell_type": "markdown",
   "id": "9c98ddc5-b041-4c94-ada1-4dfee5c98e50",
   "metadata": {
    "id": "9c98ddc5-b041-4c94-ada1-4dfee5c98e50"
   },
   "source": [
    "1. Create a new DataFrame that only includes customers who:\n",
    "   - have a **low total_claim_amount** (e.g., below $1,000),\n",
    "   - have a response \"Yes\" to the last marketing campaign."
   ]
  },
  {
   "cell_type": "code",
   "execution_count": null,
   "id": "3be72e58-b425-4a77-b723-eb196e9075ee",
   "metadata": {
    "scrolled": true
   },
   "outputs": [],
   "source": [
    "import pandas as pd\n",
    "\n",
    "url = 'https://raw.githubusercontent.com/data-bootcamp-v4/data/main/marketing_customer_analysis.csv'\n",
    "df = pd.read_csv(url)\n",
    "\n",
    "# Loop through columns and display their data types\n",
    "#for col, dtype in zip(df.columns, df.dtypes):\n",
    "#    print(f\"{col}: {dtype}\")\n",
    "\n",
    "df.head()\n"
   ]
  },
  {
   "cell_type": "code",
   "execution_count": null,
   "id": "d22b0090-9dfc-484d-bf86-08174828b7e1",
   "metadata": {},
   "outputs": [],
   "source": [
    "# CLEANING OF LABELS AND VALUES\n",
    "\n",
    "# Create a new DataFrame by copying the original df\n",
    "df_clean = df.copy()\n",
    "\n",
    "# Clean all column names: replace spaces with underscores and convert to lowercase\n",
    "df_clean.columns = df_clean.columns.str.replace(' ', '_').str.lower()\n",
    "\n",
    "# Deleting unwanted columns\n",
    "del df_clean[\"unnamed:_0\"]\n",
    "\n",
    "# Round values in 'customer_lifetime_value' column to two decimal places\n",
    "df_clean['customer_lifetime_value'] = df_clean['customer_lifetime_value'].round(2)\n",
    "\n",
    "### Date conversion\n",
    "# Convert to datetime using flexible parsing (will handle M/D/YY automatically)\n",
    "df_clean['effective_to_date'] = pd.to_datetime(df_clean['effective_to_date'], format='%m/%d/%y', errors='coerce')\n",
    "\n",
    "# Explicitly define the format, handling both two-digit and four-digit years\n",
    "df_clean['effective_to_date'] = pd.to_datetime(df_clean['effective_to_date'], format='%m/%d/%Y', errors='coerce')\n",
    "\n",
    "# Find rows where the date conversion failed (NaT)\n",
    "invalid_dates = df_clean[df_clean['effective_to_date'].isna()]\n",
    "### Date conversion\n",
    "\n",
    "### Replacing 0 values of column 'income' with median values\n",
    "# Calculate the median of non-zero income values\n",
    "income_median = df_clean.loc[df_clean['income'] != 0, 'income'].median()\n",
    "\n",
    "# Replace 0 values with the calculated median\n",
    "df_clean['income'] = df_clean['income'].replace(0, income_median)\n",
    "### Replacing 0 values of column 'income' with median values\n",
    "\n",
    "# Convert the 'number_of_open_complaints' column to integer type\n",
    "df_clean['number_of_open_complaints'] = df_clean['number_of_open_complaints'].astype('Int64')\n",
    "\n",
    "# Round values in 'total_claim_amount' column to two decimal places\n",
    "df_clean['total_claim_amount'] = df_clean['total_claim_amount'].round(2)\n",
    "\n",
    "# Replace 'Medsize' with 'Medium' in the 'vehicle_size' column\n",
    "df_clean['vehicle_size'] = df_clean['vehicle_size'].replace('Medsize', 'Medium')\n",
    "\n",
    "# View the first few rows of the cleaned DataFrame\n",
    "display(df_clean.head())\n",
    "\n"
   ]
  },
  {
   "cell_type": "code",
   "execution_count": 80,
   "id": "0982b5f2-7de9-4be5-ae29-e44fde5c0de2",
   "metadata": {},
   "outputs": [
    {
     "name": "stdout",
     "output_type": "stream",
     "text": [
      "[nan 'A']\n"
     ]
    }
   ],
   "source": [
    "# Proofing cell for cleaning\n",
    "# Print unique values in the 'state' column directly\n",
    "# print(df_clean['vehicle_type'].unique())\n",
    "\n",
    "# Create a new DataFrame that only includes customers who:\n",
    "#    - have a low total_claim_amount (e.g., below $1,000),\n",
    "#    - have a response \"Yes\" to the last marketing campaign.\n"
   ]
  },
  {
   "cell_type": "code",
   "execution_count": null,
   "id": "02e702fb-ce04-44f5-bc83-2344aa5e20cf",
   "metadata": {},
   "outputs": [],
   "source": [
    "# Filter customers with total_claim_amount below 1000 and response == \"Yes\"\n",
    "df_low_claim_yes = df_clean.loc[(df['total_claim_amount'] < 1000) & (df['response'] == 'Yes')]\n",
    "\n",
    "# Preview the result\n",
    "df_low_claim_yes[['total_claim_amount', 'response']].head(30)\n"
   ]
  },
  {
   "cell_type": "markdown",
   "id": "b9be383e-5165-436e-80c8-57d4c757c8c3",
   "metadata": {
    "id": "b9be383e-5165-436e-80c8-57d4c757c8c3"
   },
   "source": [
    "2. Using the original Dataframe, analyze:\n",
    "   - the average `monthly_premium` and/or customer lifetime value by `policy_type` and `gender` for customers who responded \"Yes\", and\n",
    "   - compare these insights to `total_claim_amount` patterns, and discuss which segments appear most profitable or low-risk for the company."
   ]
  },
  {
   "cell_type": "code",
   "execution_count": 85,
   "id": "269af8ab-edc9-496f-bb2f-b1e9da89840e",
   "metadata": {},
   "outputs": [
    {
     "name": "stdout",
     "output_type": "stream",
     "text": [
      "Average Values for Customers Who Responded 'Yes':\n",
      "      policy_type gender  monthly_premium_auto  customer_lifetime_value  total_claim_amount\n",
      "0  Corporate Auto      F             94.301775              7712.628521          433.738462\n",
      "1  Corporate Auto      M             92.188312              7944.465974          408.582468\n",
      "2   Personal Auto      F             98.998148              8339.791630          452.966037\n",
      "3   Personal Auto      M             91.085821              7448.383265          457.010149\n",
      "4    Special Auto      F             92.314286              7691.584571          453.279714\n",
      "5    Special Auto      M             86.343750              8247.089375          429.528125\n",
      "\n",
      "Sorted by Customer Lifetime Value:\n",
      "      policy_type gender  monthly_premium_auto  customer_lifetime_value  total_claim_amount\n",
      "2   Personal Auto      F             98.998148              8339.791630          452.966037\n",
      "5    Special Auto      M             86.343750              8247.089375          429.528125\n",
      "1  Corporate Auto      M             92.188312              7944.465974          408.582468\n",
      "0  Corporate Auto      F             94.301775              7712.628521          433.738462\n",
      "4    Special Auto      F             92.314286              7691.584571          453.279714\n",
      "3   Personal Auto      M             91.085821              7448.383265          457.010149\n"
     ]
    }
   ],
   "source": [
    "# Filter customers who responded \"Yes\"\n",
    "df_response_yes = df_clean[df_clean['response'] == 'Yes']\n",
    "\n",
    "# Group by policy_type and gender, then calculate averages\n",
    "grouped_means = df_response_yes.groupby(['policy_type', 'gender'])[['monthly_premium_auto', 'customer_lifetime_value', 'total_claim_amount']].mean().reset_index()\n",
    "\n",
    "# Step 3: Display the results\n",
    "print(\"Average Values for Customers Who Responded 'Yes':\")\n",
    "print(grouped_means)\n",
    "\n",
    "# Optional: Sort by customer_lifetime_value to see high-value segments\n",
    "sorted_by_value = grouped_means.sort_values(by='customer_lifetime_value', ascending=False)\n",
    "print(\"\\nSorted by Customer Lifetime Value:\")\n",
    "print(sorted_by_value)"
   ]
  },
  {
   "cell_type": "markdown",
   "id": "3482c797-7154-42bc-b70c-c184df20a39c",
   "metadata": {},
   "source": [
    "Risk (Total Claim Amount)\n",
    "Lowest Claim Segment:\n",
    "Corporate Auto – Male customers have the lowest average total claim amount at around 408.6, making them the lowest-risk group to insure.\n",
    "Special Auto – Male also presents a favorable risk profile with a moderate average claim of approximately 429.5, while still maintaining high customer lifetime value.\n",
    "\n",
    "Profitability (Customer Lifetime Value)\n",
    "Top Segment:\n",
    "Personal Auto – Female customers have the highest average customer lifetime value at approximately 8,340, indicating strong long-term profitability.\n",
    "This is followed closely by Special Auto – Male and Corporate Auto – Male, both offering high lifetime values above 7,900."
   ]
  },
  {
   "cell_type": "markdown",
   "id": "7050f4ac-53c5-4193-a3c0-8699b87196f0",
   "metadata": {
    "id": "7050f4ac-53c5-4193-a3c0-8699b87196f0"
   },
   "source": [
    "3. Analyze the total number of customers who have policies in each state, and then filter the results to only include states where there are more than 500 customers."
   ]
  },
  {
   "cell_type": "code",
   "execution_count": 86,
   "id": "786744f6-8dc9-4f62-836b-554b1d11b79e",
   "metadata": {},
   "outputs": [
    {
     "name": "stdout",
     "output_type": "stream",
     "text": [
      "state\n",
      "California    3552\n",
      "Oregon        2909\n",
      "Arizona       1937\n",
      "Nevada         993\n",
      "Washington     888\n",
      "Name: count, dtype: int64\n"
     ]
    }
   ],
   "source": [
    "# Count number of customers per state\n",
    "customers_by_state = df_clean['state'].value_counts()\n",
    "\n",
    "# Filter states with more than 500 customers\n",
    "states_over_500 = customers_by_state[customers_by_state > 500]\n",
    "\n",
    "# Display result\n",
    "print(states_over_500)\n"
   ]
  },
  {
   "cell_type": "markdown",
   "id": "b60a4443-a1a7-4bbf-b78e-9ccdf9895e0d",
   "metadata": {
    "id": "b60a4443-a1a7-4bbf-b78e-9ccdf9895e0d"
   },
   "source": [
    "4. Find the maximum, minimum, and median customer lifetime value by education level and gender. Write your conclusions."
   ]
  },
  {
   "cell_type": "code",
   "execution_count": 87,
   "id": "ed1565e3-1469-473d-858c-e6f9d6bac1e1",
   "metadata": {},
   "outputs": [
    {
     "name": "stdout",
     "output_type": "stream",
     "text": [
      "                                  max      min    median\n",
      "education            gender                             \n",
      "Bachelor             F       73225.96  1904.00  5640.505\n",
      "                     M       67907.27  1898.01  5548.030\n",
      "College              F       61850.19  1898.68  5623.610\n",
      "                     M       61134.68  1918.12  6005.850\n",
      "Doctor               F       44856.11  2395.57  5332.460\n",
      "                     M       32677.34  2267.60  5577.670\n",
      "High School or Below F       55277.45  2144.92  6039.555\n",
      "                     M       83325.38  1940.98  6286.735\n",
      "Master               F       51016.07  2417.78  5729.860\n",
      "                     M       50568.26  2272.31  5579.100\n"
     ]
    }
   ],
   "source": [
    "# Group by education and gender, then calculate max, min, and median of customer_lifetime_value\n",
    "education_gender_clev = df_clean.groupby(['education', 'gender'])['customer_lifetime_value'].agg(['max', 'min', 'median'])\n",
    "\n",
    "# Display the result\n",
    "print(education_gender_clev)\n"
   ]
  },
  {
   "cell_type": "markdown",
   "id": "b42999f9-311f-481e-ae63-40a5577072c5",
   "metadata": {
    "id": "b42999f9-311f-481e-ae63-40a5577072c5"
   },
   "source": [
    "## Bonus"
   ]
  },
  {
   "cell_type": "markdown",
   "id": "81ff02c5-6584-4f21-a358-b918697c6432",
   "metadata": {
    "id": "81ff02c5-6584-4f21-a358-b918697c6432"
   },
   "source": [
    "5. The marketing team wants to analyze the number of policies sold by state and month. Present the data in a table where the months are arranged as columns and the states are arranged as rows."
   ]
  },
  {
   "cell_type": "markdown",
   "id": "b6aec097-c633-4017-a125-e77a97259cda",
   "metadata": {
    "id": "b6aec097-c633-4017-a125-e77a97259cda"
   },
   "source": [
    "6.  Display a new DataFrame that contains the number of policies sold by month, by state, for the top 3 states with the highest number of policies sold.\n",
    "\n",
    "*Hint:*\n",
    "- *To accomplish this, you will first need to group the data by state and month, then count the number of policies sold for each group. Afterwards, you will need to sort the data by the count of policies sold in descending order.*\n",
    "- *Next, you will select the top 3 states with the highest number of policies sold.*\n",
    "- *Finally, you will create a new DataFrame that contains the number of policies sold by month for each of the top 3 states.*"
   ]
  },
  {
   "cell_type": "markdown",
   "id": "ba975b8a-a2cf-4fbf-9f59-ebc381767009",
   "metadata": {
    "id": "ba975b8a-a2cf-4fbf-9f59-ebc381767009"
   },
   "source": [
    "7. The marketing team wants to analyze the effect of different marketing channels on the customer response rate.\n",
    "\n",
    "Hint: You can use melt to unpivot the data and create a table that shows the customer response rate (those who responded \"Yes\") by marketing channel."
   ]
  },
  {
   "cell_type": "markdown",
   "id": "e4378d94-48fb-4850-a802-b1bc8f427b2d",
   "metadata": {
    "id": "e4378d94-48fb-4850-a802-b1bc8f427b2d"
   },
   "source": [
    "External Resources for Data Filtering: https://towardsdatascience.com/filtering-data-frames-in-pandas-b570b1f834b9"
   ]
  },
  {
   "cell_type": "code",
   "execution_count": null,
   "id": "449513f4-0459-46a0-a18d-9398d974c9ad",
   "metadata": {
    "id": "449513f4-0459-46a0-a18d-9398d974c9ad"
   },
   "outputs": [],
   "source": [
    "# your code goes here"
   ]
  }
 ],
 "metadata": {
  "colab": {
   "provenance": []
  },
  "kernelspec": {
   "display_name": "Python 3 (ipykernel)",
   "language": "python",
   "name": "python3"
  },
  "language_info": {
   "codemirror_mode": {
    "name": "ipython",
    "version": 3
   },
   "file_extension": ".py",
   "mimetype": "text/x-python",
   "name": "python",
   "nbconvert_exporter": "python",
   "pygments_lexer": "ipython3",
   "version": "3.12.7"
  }
 },
 "nbformat": 4,
 "nbformat_minor": 5
}
