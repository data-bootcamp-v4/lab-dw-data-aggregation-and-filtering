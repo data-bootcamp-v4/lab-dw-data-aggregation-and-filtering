{
  "cells": [
    {
      "cell_type": "markdown",
      "id": "31969215-2a90-4d8b-ac36-646a7ae13744",
      "metadata": {
        "id": "31969215-2a90-4d8b-ac36-646a7ae13744"
      },
      "source": [
        "# Lab | Data Aggregation and Filtering"
      ]
    },
    {
      "cell_type": "markdown",
      "id": "a8f08a52-bec0-439b-99cc-11d3809d8b5d",
      "metadata": {
        "id": "a8f08a52-bec0-439b-99cc-11d3809d8b5d"
      },
      "source": [
        "In this challenge, we will continue to work with customer data from an insurance company. We will use the dataset called marketing_customer_analysis.csv, which can be found at the following link:\n",
        "\n",
        "https://raw.githubusercontent.com/data-bootcamp-v4/data/main/marketing_customer_analysis.csv\n",
        "\n",
        "This dataset contains information such as customer demographics, policy details, vehicle information, and the customer's response to the last marketing campaign. Our goal is to explore and analyze this data by first performing data cleaning, formatting, and structuring."
      ]
    },
    {
      "cell_type": "markdown",
      "id": "9c98ddc5-b041-4c94-ada1-4dfee5c98e50",
      "metadata": {
        "id": "9c98ddc5-b041-4c94-ada1-4dfee5c98e50"
      },
      "source": [
        "1. Create a new DataFrame that only includes customers who:\n",
        "   - have a **low total_claim_amount** (e.g., below $1,000),\n",
        "   - have a response \"Yes\" to the last marketing campaign."
      ]
    },
    {
      "cell_type": "markdown",
      "id": "b9be383e-5165-436e-80c8-57d4c757c8c3",
      "metadata": {
        "id": "b9be383e-5165-436e-80c8-57d4c757c8c3"
      },
      "source": [
        "2. Using the original Dataframe, analyze:\n",
        "   - the average `monthly_premium` and/or customer lifetime value by `policy_type` and `gender` for customers who responded \"Yes\", and\n",
        "   - compare these insights to `total_claim_amount` patterns, and discuss which segments appear most profitable or low-risk for the company."
      ]
    },
    {
      "cell_type": "markdown",
      "id": "7050f4ac-53c5-4193-a3c0-8699b87196f0",
      "metadata": {
        "id": "7050f4ac-53c5-4193-a3c0-8699b87196f0"
      },
      "source": [
        "3. Analyze the total number of customers who have policies in each state, and then filter the results to only include states where there are more than 500 customers."
      ]
    },
    {
      "cell_type": "markdown",
      "id": "b60a4443-a1a7-4bbf-b78e-9ccdf9895e0d",
      "metadata": {
        "id": "b60a4443-a1a7-4bbf-b78e-9ccdf9895e0d"
      },
      "source": [
        "4. Find the maximum, minimum, and median customer lifetime value by education level and gender. Write your conclusions."
      ]
    },
    {
      "cell_type": "code",
      "execution_count": 1,
      "id": "bd561601",
      "metadata": {},
      "outputs": [],
      "source": [
        "import pandas as pd\n",
        "\n",
        "url = \"https://raw.githubusercontent.com/data-bootcamp-v4/data/main/marketing_customer_analysis.csv\"\n",
        "df = pd.read_csv(url)\n"
      ]
    },
    {
      "cell_type": "code",
      "execution_count": 6,
      "id": "e91932a7",
      "metadata": {},
      "outputs": [
        {
          "name": "stdout",
          "output_type": "stream",
          "text": [
            "Index(['Unnamed: 0', 'Customer', 'State', 'Customer Lifetime Value',\n",
            "       'Response', 'Coverage', 'Education', 'Effective To Date',\n",
            "       'EmploymentStatus', 'Gender', 'Income', 'Location Code',\n",
            "       'Marital Status', 'Monthly Premium Auto', 'Months Since Last Claim',\n",
            "       'Months Since Policy Inception', 'Number of Open Complaints',\n",
            "       'Number of Policies', 'Policy Type', 'Policy', 'Renew Offer Type',\n",
            "       'Sales Channel', 'Total Claim Amount', 'Vehicle Class', 'Vehicle Size',\n",
            "       'Vehicle Type'],\n",
            "      dtype='object')\n"
          ]
        }
      ],
      "source": [
        "print(df.columns)"
      ]
    },
    {
      "cell_type": "code",
      "execution_count": 7,
      "id": "f06ba2c0",
      "metadata": {},
      "outputs": [],
      "source": [
        "df.columns = df.columns.str.lower().str.replace(' ', '_')\n"
      ]
    },
    {
      "cell_type": "code",
      "execution_count": 8,
      "id": "353ca82b",
      "metadata": {},
      "outputs": [
        {
          "name": "stdout",
          "output_type": "stream",
          "text": [
            "    unnamed:_0 customer       state  customer_lifetime_value response  \\\n",
            "3            3  XL78013      Oregon             22332.439460      Yes   \n",
            "8            8  FM55990  California              5989.773931      Yes   \n",
            "15          15  CW49887  California              4626.801093      Yes   \n",
            "19          19  NJ54277  California              3746.751625      Yes   \n",
            "27          27  MQ68407      Oregon              4376.363592      Yes   \n",
            "\n",
            "    coverage education effective_to_date employmentstatus gender  ...  \\\n",
            "3   Extended   College           1/11/11         Employed      M  ...   \n",
            "8    Premium   College           1/19/11         Employed      M  ...   \n",
            "15     Basic    Master           1/16/11         Employed      F  ...   \n",
            "19  Extended   College           2/26/11         Employed      F  ...   \n",
            "27   Premium  Bachelor           2/28/11         Employed      F  ...   \n",
            "\n",
            "    number_of_open_complaints number_of_policies     policy_type  \\\n",
            "3                         0.0                  2  Corporate Auto   \n",
            "8                         0.0                  1   Personal Auto   \n",
            "15                        0.0                  1    Special Auto   \n",
            "19                        1.0                  1   Personal Auto   \n",
            "27                        0.0                  1   Personal Auto   \n",
            "\n",
            "          policy  renew_offer_type  sales_channel  total_claim_amount  \\\n",
            "3   Corporate L3            Offer2         Branch          484.013411   \n",
            "8    Personal L1            Offer2         Branch          739.200000   \n",
            "15    Special L1            Offer2         Branch          547.200000   \n",
            "19   Personal L2            Offer2    Call Center           19.575683   \n",
            "27   Personal L3            Offer2          Agent           60.036683   \n",
            "\n",
            "    vehicle_class vehicle_size vehicle_type  \n",
            "3   Four-Door Car      Medsize            A  \n",
            "8      Sports Car      Medsize          NaN  \n",
            "15            SUV      Medsize          NaN  \n",
            "19   Two-Door Car        Large            A  \n",
            "27  Four-Door Car      Medsize          NaN  \n",
            "\n",
            "[5 rows x 26 columns]\n"
          ]
        }
      ],
      "source": [
        "filtered_df = df[(df['total_claim_amount'] < 1000) & (df['response'] == 'Yes')]\n",
        "print(filtered_df.head())\n"
      ]
    },
    {
      "cell_type": "code",
      "execution_count": 9,
      "id": "a2b31201",
      "metadata": {},
      "outputs": [
        {
          "name": "stdout",
          "output_type": "stream",
          "text": [
            "    unnamed:_0 customer       state  customer_lifetime_value response  \\\n",
            "3            3  XL78013      Oregon             22332.439460      Yes   \n",
            "8            8  FM55990  California              5989.773931      Yes   \n",
            "15          15  CW49887  California              4626.801093      Yes   \n",
            "19          19  NJ54277  California              3746.751625      Yes   \n",
            "27          27  MQ68407      Oregon              4376.363592      Yes   \n",
            "\n",
            "    coverage education effective_to_date employmentstatus gender  ...  \\\n",
            "3   Extended   College           1/11/11         Employed      M  ...   \n",
            "8    Premium   College           1/19/11         Employed      M  ...   \n",
            "15     Basic    Master           1/16/11         Employed      F  ...   \n",
            "19  Extended   College           2/26/11         Employed      F  ...   \n",
            "27   Premium  Bachelor           2/28/11         Employed      F  ...   \n",
            "\n",
            "    number_of_open_complaints number_of_policies     policy_type  \\\n",
            "3                         0.0                  2  Corporate Auto   \n",
            "8                         0.0                  1   Personal Auto   \n",
            "15                        0.0                  1    Special Auto   \n",
            "19                        1.0                  1   Personal Auto   \n",
            "27                        0.0                  1   Personal Auto   \n",
            "\n",
            "          policy  renew_offer_type  sales_channel  total_claim_amount  \\\n",
            "3   Corporate L3            Offer2         Branch          484.013411   \n",
            "8    Personal L1            Offer2         Branch          739.200000   \n",
            "15    Special L1            Offer2         Branch          547.200000   \n",
            "19   Personal L2            Offer2    Call Center           19.575683   \n",
            "27   Personal L3            Offer2          Agent           60.036683   \n",
            "\n",
            "    vehicle_class vehicle_size vehicle_type  \n",
            "3   Four-Door Car      Medsize            A  \n",
            "8      Sports Car      Medsize          NaN  \n",
            "15            SUV      Medsize          NaN  \n",
            "19   Two-Door Car        Large            A  \n",
            "27  Four-Door Car      Medsize          NaN  \n",
            "\n",
            "[5 rows x 26 columns]\n"
          ]
        }
      ],
      "source": [
        "# 1.\n",
        "filtered_df = df[(df['total_claim_amount'] < 1000) & (df['response'] == 'Yes')]\n",
        "print(filtered_df.head())"
      ]
    },
    {
      "cell_type": "code",
      "execution_count": 23,
      "id": "41bd25e9",
      "metadata": {},
      "outputs": [],
      "source": [
        "url = \"https://raw.githubusercontent.com/data-bootcamp-v4/data/main/marketing_customer_analysis.csv\"\n",
        "df = pd.read_csv(url)"
      ]
    },
    {
      "cell_type": "code",
      "execution_count": 24,
      "id": "29c8810f",
      "metadata": {},
      "outputs": [
        {
          "name": "stdout",
          "output_type": "stream",
          "text": [
            "['Unnamed: 0', 'Customer', 'State', 'Customer Lifetime Value', 'Response', 'Coverage', 'Education', 'Effective To Date', 'EmploymentStatus', 'Gender', 'Income', 'Location Code', 'Marital Status', 'Monthly Premium Auto', 'Months Since Last Claim', 'Months Since Policy Inception', 'Number of Open Complaints', 'Number of Policies', 'Policy Type', 'Policy', 'Renew Offer Type', 'Sales Channel', 'Total Claim Amount', 'Vehicle Class', 'Vehicle Size', 'Vehicle Type']\n"
          ]
        }
      ],
      "source": [
        "print(df.columns.tolist())"
      ]
    },
    {
      "cell_type": "code",
      "execution_count": 27,
      "id": "59d8e8f9",
      "metadata": {},
      "outputs": [
        {
          "name": "stdout",
          "output_type": "stream",
          "text": [
            "['Monthly Premium Auto']\n"
          ]
        }
      ],
      "source": [
        "print([col for col in df.columns if 'premium' in col.lower()])"
      ]
    },
    {
      "cell_type": "code",
      "execution_count": 29,
      "id": "9a2e08b9",
      "metadata": {},
      "outputs": [
        {
          "name": "stdout",
          "output_type": "stream",
          "text": [
            "                       Monthly Premium Auto  Customer Lifetime Value  \\\n",
            "Policy Type    Gender                                                  \n",
            "Corporate Auto F                      94.30                  7712.63   \n",
            "               M                      92.19                  7944.47   \n",
            "Personal Auto  F                      99.00                  8339.79   \n",
            "               M                      91.09                  7448.38   \n",
            "Special Auto   F                      92.31                  7691.58   \n",
            "               M                      86.34                  8247.09   \n",
            "\n",
            "                       Total Claim Amount  \n",
            "Policy Type    Gender                      \n",
            "Corporate Auto F                   433.74  \n",
            "               M                   408.58  \n",
            "Personal Auto  F                   452.97  \n",
            "               M                   457.01  \n",
            "Special Auto   F                   453.28  \n",
            "               M                   429.53  \n"
          ]
        }
      ],
      "source": [
        "# 2.\n",
        "grouped_df = df[df['Response'] == 'Yes'].groupby(['Policy Type', 'Gender'])[\n",
        "    ['Monthly Premium Auto', 'Customer Lifetime Value', 'Total Claim Amount']\n",
        "].mean().round(2)\n",
        "\n",
        "print(grouped_df)"
      ]
    },
    {
      "cell_type": "code",
      "execution_count": 31,
      "id": "26f71a24",
      "metadata": {},
      "outputs": [
        {
          "name": "stdout",
          "output_type": "stream",
          "text": [
            "State\n",
            "California    3552\n",
            "Oregon        2909\n",
            "Arizona       1937\n",
            "Nevada         993\n",
            "Washington     888\n",
            "Name: count, dtype: int64\n"
          ]
        }
      ],
      "source": [
        "# 3.\n",
        "state_counts = df['State'].value_counts()\n",
        "states_over_500 = state_counts[state_counts > 500]\n",
        "\n",
        "# Optional: merge back into full DataFrame\n",
        "df_filtered_states = df[df['State'].isin(states_over_500.index)]\n",
        "\n",
        "print(states_over_500)\n"
      ]
    },
    {
      "cell_type": "code",
      "execution_count": 33,
      "id": "9ecb8e69",
      "metadata": {},
      "outputs": [
        {
          "name": "stdout",
          "output_type": "stream",
          "text": [
            "                                  max      min   median\n",
            "Education            Gender                            \n",
            "Bachelor             F       73225.96  1904.00  5640.51\n",
            "                     M       67907.27  1898.01  5548.03\n",
            "College              F       61850.19  1898.68  5623.61\n",
            "                     M       61134.68  1918.12  6005.85\n",
            "Doctor               F       44856.11  2395.57  5332.46\n",
            "                     M       32677.34  2267.60  5577.67\n",
            "High School or Below F       55277.45  2144.92  6039.55\n",
            "                     M       83325.38  1940.98  6286.73\n",
            "Master               F       51016.07  2417.78  5729.86\n",
            "                     M       50568.26  2272.31  5579.10\n"
          ]
        }
      ],
      "source": [
        "stats = df.groupby(['Education', 'Gender'])['Customer Lifetime Value'].agg(\n",
        "    ['max', 'min', 'median']\n",
        ").round(2)\n",
        "\n",
        "print(stats)\n"
      ]
    },
    {
      "cell_type": "markdown",
      "id": "562f2dbd",
      "metadata": {},
      "source": [
        "From the grouped summary statistics, we can observe that Customer Lifetime Value (CLV) varies significantly across different education levels and between genders.\n",
        "\n",
        "In general, customers with a higher education level (e.g., Doctor or College) tend to have higher median CLV, suggesting they may be more profitable in the long term.\n",
        "\n",
        "The maximum CLV values are often found among customers with advanced education, which might indicate that targeting these segments can bring higher individual revenue.\n",
        "\n",
        "The gender differences in CLV are less consistent and may depend on the education level. This suggests that education is a stronger predictor of CLV than gender alone.\n",
        "\n",
        "These findings suggest that marketing strategies could be more effective if tailored based on education level, with potential prioritization of customers with graduate or professional degrees."
      ]
    },
    {
      "cell_type": "markdown",
      "id": "b42999f9-311f-481e-ae63-40a5577072c5",
      "metadata": {
        "id": "b42999f9-311f-481e-ae63-40a5577072c5"
      },
      "source": [
        "## Bonus"
      ]
    },
    {
      "cell_type": "markdown",
      "id": "81ff02c5-6584-4f21-a358-b918697c6432",
      "metadata": {
        "id": "81ff02c5-6584-4f21-a358-b918697c6432"
      },
      "source": [
        "5. The marketing team wants to analyze the number of policies sold by state and month. Present the data in a table where the months are arranged as columns and the states are arranged as rows."
      ]
    },
    {
      "cell_type": "markdown",
      "id": "b6aec097-c633-4017-a125-e77a97259cda",
      "metadata": {
        "id": "b6aec097-c633-4017-a125-e77a97259cda"
      },
      "source": [
        "6.  Display a new DataFrame that contains the number of policies sold by month, by state, for the top 3 states with the highest number of policies sold.\n",
        "\n",
        "*Hint:*\n",
        "- *To accomplish this, you will first need to group the data by state and month, then count the number of policies sold for each group. Afterwards, you will need to sort the data by the count of policies sold in descending order.*\n",
        "- *Next, you will select the top 3 states with the highest number of policies sold.*\n",
        "- *Finally, you will create a new DataFrame that contains the number of policies sold by month for each of the top 3 states.*"
      ]
    },
    {
      "cell_type": "markdown",
      "id": "ba975b8a-a2cf-4fbf-9f59-ebc381767009",
      "metadata": {
        "id": "ba975b8a-a2cf-4fbf-9f59-ebc381767009"
      },
      "source": [
        "7. The marketing team wants to analyze the effect of different marketing channels on the customer response rate.\n",
        "\n",
        "Hint: You can use melt to unpivot the data and create a table that shows the customer response rate (those who responded \"Yes\") by marketing channel."
      ]
    },
    {
      "cell_type": "markdown",
      "id": "e4378d94-48fb-4850-a802-b1bc8f427b2d",
      "metadata": {
        "id": "e4378d94-48fb-4850-a802-b1bc8f427b2d"
      },
      "source": [
        "External Resources for Data Filtering: https://towardsdatascience.com/filtering-data-frames-in-pandas-b570b1f834b9"
      ]
    },
    {
      "cell_type": "code",
      "execution_count": 35,
      "id": "b739658f",
      "metadata": {},
      "outputs": [
        {
          "name": "stderr",
          "output_type": "stream",
          "text": [
            "C:\\Users\\gabyt\\AppData\\Local\\Temp\\ipykernel_72416\\3661697887.py:2: UserWarning: Could not infer format, so each element will be parsed individually, falling back to `dateutil`. To ensure parsing is consistent and as-expected, please specify a format.\n",
            "  df['Effective To Date'] = pd.to_datetime(df['Effective To Date'])\n"
          ]
        }
      ],
      "source": [
        "# Convert the date column to datetime if it's not already\n",
        "df['Effective To Date'] = pd.to_datetime(df['Effective To Date'])\n",
        "\n",
        "# Create a new 'Month' column with month names\n",
        "df['Month'] = df['Effective To Date'].dt.strftime('%B')\n"
      ]
    },
    {
      "cell_type": "code",
      "execution_count": 36,
      "id": "449513f4-0459-46a0-a18d-9398d974c9ad",
      "metadata": {
        "id": "449513f4-0459-46a0-a18d-9398d974c9ad"
      },
      "outputs": [
        {
          "name": "stdout",
          "output_type": "stream",
          "text": [
            "Month       February  January\n",
            "State                        \n",
            "Arizona          929     1008\n",
            "California      1634     1918\n",
            "Nevada           442      551\n",
            "Oregon          1344     1565\n",
            "Washington       425      463\n"
          ]
        }
      ],
      "source": [
        "# 5.\n",
        "pivot_table = df.pivot_table(\n",
        "    index='State',\n",
        "    columns='Month',\n",
        "    values='Policy',\n",
        "    aggfunc='count',\n",
        "    fill_value=0\n",
        ")\n",
        "\n",
        "print(pivot_table)\n"
      ]
    },
    {
      "cell_type": "code",
      "execution_count": 40,
      "id": "85510c2e",
      "metadata": {},
      "outputs": [
        {
          "name": "stdout",
          "output_type": "stream",
          "text": [
            "State     Arizona  California  Oregon\n",
            "Month                                \n",
            "February      929        1634    1344\n",
            "January      1008        1918    1565\n"
          ]
        }
      ],
      "source": [
        "# 6.\n",
        "# Total policies sold by state\n",
        "state_totals = df['State'].value_counts().nlargest(3)\n",
        "\n",
        "# Filter original df to include only top 3 states\n",
        "top_states_df = df[df['State'].isin(state_totals.index)]\n",
        "\n",
        "# Group by month and state, count policies sold\n",
        "grouped = top_states_df.groupby(['Month', 'State'])['Policy'].count().reset_index()\n",
        "\n",
        "# Pivot to create table: months = rows, states = columns\n",
        "result = grouped.pivot(index='Month', columns='State', values='Policy').fillna(0)\n",
        "\n",
        "print(result)\n"
      ]
    },
    {
      "cell_type": "code",
      "execution_count": 41,
      "id": "3936d2cc",
      "metadata": {},
      "outputs": [
        {
          "name": "stdout",
          "output_type": "stream",
          "text": [
            "Response         No  Yes  Response Rate (%)\n",
            "Sales Channel                              \n",
            "Agent          3148  742              19.07\n",
            "Branch         2539  326              11.38\n",
            "Call Center    1792  221              10.98\n",
            "Web            1334  177              11.71\n"
          ]
        }
      ],
      "source": [
        "# 7.\n",
        "# Group by Sales Channel and Response\n",
        "response_counts = df.groupby(['Sales Channel', 'Response'])['Customer'].count().reset_index()\n",
        "\n",
        "# Pivot to show 'Yes' vs 'No'\n",
        "response_pivot = response_counts.pivot(index='Sales Channel', columns='Response', values='Customer').fillna(0)\n",
        "\n",
        "# Calculate response rate\n",
        "response_pivot['Response Rate (%)'] = (response_pivot['Yes'] / (response_pivot['Yes'] + response_pivot['No'])) * 100\n",
        "response_pivot = response_pivot.round(2)\n",
        "\n",
        "print(response_pivot)\n"
      ]
    }
  ],
  "metadata": {
    "colab": {
      "provenance": []
    },
    "kernelspec": {
      "display_name": "Python 3",
      "language": "python",
      "name": "python3"
    },
    "language_info": {
      "codemirror_mode": {
        "name": "ipython",
        "version": 3
      },
      "file_extension": ".py",
      "mimetype": "text/x-python",
      "name": "python",
      "nbconvert_exporter": "python",
      "pygments_lexer": "ipython3",
      "version": "3.13.5"
    }
  },
  "nbformat": 4,
  "nbformat_minor": 5
}
