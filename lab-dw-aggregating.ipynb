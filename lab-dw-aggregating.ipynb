{
 "cells": [
  {
   "cell_type": "markdown",
   "id": "31969215-2a90-4d8b-ac36-646a7ae13744",
   "metadata": {
    "id": "31969215-2a90-4d8b-ac36-646a7ae13744"
   },
   "source": [
    "# Lab | Data Aggregation and Filtering"
   ]
  },
  {
   "cell_type": "markdown",
   "id": "a8f08a52-bec0-439b-99cc-11d3809d8b5d",
   "metadata": {
    "id": "a8f08a52-bec0-439b-99cc-11d3809d8b5d"
   },
   "source": [
    "In this challenge, we will continue to work with customer data from an insurance company. We will use the dataset called marketing_customer_analysis.csv, which can be found at the following link:\n",
    "\n",
    "https://raw.githubusercontent.com/data-bootcamp-v4/data/main/marketing_customer_analysis.csv\n",
    "\n",
    "This dataset contains information such as customer demographics, policy details, vehicle information, and the customer's response to the last marketing campaign. Our goal is to explore and analyze this data by first performing data cleaning, formatting, and structuring."
   ]
  },
  {
   "cell_type": "markdown",
   "id": "9c98ddc5-b041-4c94-ada1-4dfee5c98e50",
   "metadata": {
    "id": "9c98ddc5-b041-4c94-ada1-4dfee5c98e50"
   },
   "source": [
    "1. Create a new DataFrame that only includes customers who have a total_claim_amount greater than $1,000 and have a response of \"Yes\" to the last marketing campaign."
   ]
  },
  {
   "cell_type": "markdown",
   "id": "b9be383e-5165-436e-80c8-57d4c757c8c3",
   "metadata": {
    "id": "b9be383e-5165-436e-80c8-57d4c757c8c3"
   },
   "source": [
    "2. Using the original Dataframe, analyze the average total_claim_amount by each policy type and gender for customers who have responded \"Yes\" to the last marketing campaign. Write your conclusions."
   ]
  },
  {
   "cell_type": "markdown",
   "id": "7050f4ac-53c5-4193-a3c0-8699b87196f0",
   "metadata": {
    "id": "7050f4ac-53c5-4193-a3c0-8699b87196f0"
   },
   "source": [
    "3. Analyze the total number of customers who have policies in each state, and then filter the results to only include states where there are more than 500 customers."
   ]
  },
  {
   "cell_type": "markdown",
   "id": "b60a4443-a1a7-4bbf-b78e-9ccdf9895e0d",
   "metadata": {
    "id": "b60a4443-a1a7-4bbf-b78e-9ccdf9895e0d"
   },
   "source": [
    "4. Find the maximum, minimum, and median customer lifetime value by education level and gender. Write your conclusions."
   ]
  },
  {
   "cell_type": "code",
   "execution_count": 29,
   "id": "b80bed4b-9106-42e5-abe3-e06ac3b3dd0e",
   "metadata": {},
   "outputs": [
    {
     "data": {
      "text/plain": [
       "array(['No', 'Yes', nan], dtype=object)"
      ]
     },
     "metadata": {},
     "output_type": "display_data"
    }
   ],
   "source": [
    "import pandas as pd\n",
    "\n",
    "url = \"https://raw.githubusercontent.com/data-bootcamp-v4/data/main/marketing_customer_analysis.csv\"\n",
    "customer_data = pd.read_csv(url)\n",
    "\n",
    "def clean_data(df: pd.DataFrame):\n",
    "    df = df.rename(columns={\"AT\": \"state\"})\n",
    "    df = df.rename(columns={\"State\": \"st\"})\n",
    "    df = df.rename(columns={\"state\": \"st\"})\n",
    "    df.columns = pd.Series(df.columns).apply(lambda col: col.replace(\" \", \"_\").lower())\n",
    "    df['monthly_premium_auto'] = df['monthly_premium_auto'].astype(float)    \n",
    "    df['income'] = df['income'].astype(float)      \n",
    "    df['total_claim_amount'] = df['total_claim_amount'].astype(float)            \n",
    "\n",
    "    gender_clean = {\n",
    "        \"Femal\": \"F\",\n",
    "        \"female\": \"F\",\n",
    "        \"Male\": \"M\",\n",
    "        \"MALE\": \"M\",\n",
    "        \"FEMALE\": \"F\" \n",
    "    }\n",
    "\n",
    "    df['gender'] = df['gender'].str.upper().replace(gender_clean)\n",
    "\n",
    "    st_clean = {\n",
    "        \"Cali\": \"California\",\n",
    "        \"AZ\": \"Arizona\",\n",
    "        \"Az\": \"Arizona\",\n",
    "        \"WA\": \"Washington\"\n",
    "    }\n",
    "\n",
    "    df['st'] = df['st'].str.lower().replace(st_clean)\n",
    "\n",
    "    ed_clean = {\"Bachelors\": \"Bachelor\", \"College\": \"Bachelor\"}\n",
    "    df['education'] = df['education'].str.lower().replace(ed_clean)\n",
    "\n",
    "    # Clean customer_lifetime_value\n",
    "    if not pd.api.types.is_float_dtype(df['customer_lifetime_value']):\n",
    "        df['customer_lifetime_value'] = df['customer_lifetime_value'].str.replace(\"%\", \"\").astype(float)\n",
    "\n",
    "    vh_clean = {\n",
    "        \"Sports Car\": \"Luxury\",\n",
    "        \"Luxury SUV\": \"Luxury\",\n",
    "        \"Luxury Suv\": \"Luxury\",\n",
    "        \"Luxury Car\": \"Luxury\"\n",
    "    }\n",
    "\n",
    "    df['vehicle_class'] = df['vehicle_class'].str.lower().replace(vh_clean)\n",
    "    \n",
    "    # Fill NaNs and other cleaning\n",
    "    if len(df['number_of_open_complaints']):\n",
    "        df['number_of_open_complaints'] = df['number_of_open_complaints'].fillna(\"0/0/00\")\n",
    "        df['number_of_open_complaints'] = df['number_of_open_complaints'].apply(lambda x: int(x[2]) if isinstance(x, str) and len(x) > 1 else 0)\n",
    "\n",
    "    fill_values = {\n",
    "        'customer': \"AA00000\",\n",
    "        'st': \"Other\",\n",
    "        'gender': \"Unknown\",\n",
    "        'education': \"Unknown\",\n",
    "        'income': \"Unknown\",\n",
    "        'monthly_premium_auto': \"Unknown\",\n",
    "        'policy_type': \"Unknown\",\n",
    "        'vehicle_class': \"Unknown\",\n",
    "        'total_claim_amount': \"Unknown\"\n",
    "    }\n",
    "\n",
    "    for column, value in fill_values.items():\n",
    "        df[column] = df[column].fillna(value)\n",
    "\n",
    "    df['customer_lifetime_value'] = df['customer_lifetime_value'].fillna(df['customer_lifetime_value'].mean())\n",
    "    \n",
    "    df.drop_duplicates(inplace=True)\n",
    "    df.reset_index(drop=True, inplace=True)\n",
    "\n",
    "    return df\n",
    "\n",
    "customer_data_clean = clean_data(customer_data)\n",
    "customer_data_clean = customer_data_clean.drop(columns=['unnamed:_0'])\n",
    "\n",
    "display(customer_data_clean[\"response\"].unique())\n"
   ]
  },
  {
   "cell_type": "code",
   "execution_count": 2,
   "id": "7dafb2ff-a9d1-4a67-bb22-eef674aad6f4",
   "metadata": {},
   "outputs": [
    {
     "data": {
      "text/html": [
       "<div>\n",
       "<style scoped>\n",
       "    .dataframe tbody tr th:only-of-type {\n",
       "        vertical-align: middle;\n",
       "    }\n",
       "\n",
       "    .dataframe tbody tr th {\n",
       "        vertical-align: top;\n",
       "    }\n",
       "\n",
       "    .dataframe thead th {\n",
       "        text-align: right;\n",
       "    }\n",
       "</style>\n",
       "<table border=\"1\" class=\"dataframe\">\n",
       "  <thead>\n",
       "    <tr style=\"text-align: right;\">\n",
       "      <th></th>\n",
       "      <th>customer</th>\n",
       "      <th>st</th>\n",
       "      <th>customer_lifetime_value</th>\n",
       "      <th>response</th>\n",
       "      <th>coverage</th>\n",
       "      <th>education</th>\n",
       "      <th>effective_to_date</th>\n",
       "      <th>employmentstatus</th>\n",
       "      <th>gender</th>\n",
       "      <th>income</th>\n",
       "      <th>...</th>\n",
       "      <th>number_of_open_complaints</th>\n",
       "      <th>number_of_policies</th>\n",
       "      <th>policy_type</th>\n",
       "      <th>policy</th>\n",
       "      <th>renew_offer_type</th>\n",
       "      <th>sales_channel</th>\n",
       "      <th>total_claim_amount</th>\n",
       "      <th>vehicle_class</th>\n",
       "      <th>vehicle_size</th>\n",
       "      <th>vehicle_type</th>\n",
       "    </tr>\n",
       "  </thead>\n",
       "  <tbody>\n",
       "    <tr>\n",
       "      <th>189</th>\n",
       "      <td>OK31456</td>\n",
       "      <td>california</td>\n",
       "      <td>11009.130490</td>\n",
       "      <td>Yes</td>\n",
       "      <td>Premium</td>\n",
       "      <td>bachelor</td>\n",
       "      <td>1/24/11</td>\n",
       "      <td>Employed</td>\n",
       "      <td>F</td>\n",
       "      <td>51643.0</td>\n",
       "      <td>...</td>\n",
       "      <td>0</td>\n",
       "      <td>1</td>\n",
       "      <td>Corporate Auto</td>\n",
       "      <td>Corporate L3</td>\n",
       "      <td>Offer2</td>\n",
       "      <td>Agent</td>\n",
       "      <td>1358.400000</td>\n",
       "      <td>luxury car</td>\n",
       "      <td>Medsize</td>\n",
       "      <td>NaN</td>\n",
       "    </tr>\n",
       "    <tr>\n",
       "      <th>236</th>\n",
       "      <td>YJ16163</td>\n",
       "      <td>oregon</td>\n",
       "      <td>11009.130490</td>\n",
       "      <td>Yes</td>\n",
       "      <td>Premium</td>\n",
       "      <td>bachelor</td>\n",
       "      <td>1/24/11</td>\n",
       "      <td>Employed</td>\n",
       "      <td>F</td>\n",
       "      <td>51643.0</td>\n",
       "      <td>...</td>\n",
       "      <td>0</td>\n",
       "      <td>1</td>\n",
       "      <td>Special Auto</td>\n",
       "      <td>Special L3</td>\n",
       "      <td>Offer2</td>\n",
       "      <td>Agent</td>\n",
       "      <td>1358.400000</td>\n",
       "      <td>luxury car</td>\n",
       "      <td>Medsize</td>\n",
       "      <td>A</td>\n",
       "    </tr>\n",
       "    <tr>\n",
       "      <th>419</th>\n",
       "      <td>GW43195</td>\n",
       "      <td>oregon</td>\n",
       "      <td>25807.063000</td>\n",
       "      <td>Yes</td>\n",
       "      <td>Extended</td>\n",
       "      <td>college</td>\n",
       "      <td>2/13/11</td>\n",
       "      <td>Employed</td>\n",
       "      <td>F</td>\n",
       "      <td>71210.0</td>\n",
       "      <td>...</td>\n",
       "      <td>0</td>\n",
       "      <td>2</td>\n",
       "      <td>Personal Auto</td>\n",
       "      <td>Personal L2</td>\n",
       "      <td>Offer1</td>\n",
       "      <td>Branch</td>\n",
       "      <td>1027.200000</td>\n",
       "      <td>luxury car</td>\n",
       "      <td>Small</td>\n",
       "      <td>A</td>\n",
       "    </tr>\n",
       "    <tr>\n",
       "      <th>442</th>\n",
       "      <td>IP94270</td>\n",
       "      <td>arizona</td>\n",
       "      <td>13736.132500</td>\n",
       "      <td>Yes</td>\n",
       "      <td>Premium</td>\n",
       "      <td>master</td>\n",
       "      <td>2/13/11</td>\n",
       "      <td>Disabled</td>\n",
       "      <td>F</td>\n",
       "      <td>16181.0</td>\n",
       "      <td>...</td>\n",
       "      <td>0</td>\n",
       "      <td>8</td>\n",
       "      <td>Personal Auto</td>\n",
       "      <td>Personal L2</td>\n",
       "      <td>Offer1</td>\n",
       "      <td>Web</td>\n",
       "      <td>1261.319869</td>\n",
       "      <td>suv</td>\n",
       "      <td>Medsize</td>\n",
       "      <td>A</td>\n",
       "    </tr>\n",
       "    <tr>\n",
       "      <th>587</th>\n",
       "      <td>FJ28407</td>\n",
       "      <td>california</td>\n",
       "      <td>5619.689084</td>\n",
       "      <td>Yes</td>\n",
       "      <td>Premium</td>\n",
       "      <td>high school or below</td>\n",
       "      <td>1/26/11</td>\n",
       "      <td>Unemployed</td>\n",
       "      <td>M</td>\n",
       "      <td>0.0</td>\n",
       "      <td>...</td>\n",
       "      <td>0</td>\n",
       "      <td>1</td>\n",
       "      <td>Personal Auto</td>\n",
       "      <td>Personal L1</td>\n",
       "      <td>Offer2</td>\n",
       "      <td>Web</td>\n",
       "      <td>1027.000029</td>\n",
       "      <td>suv</td>\n",
       "      <td>Medsize</td>\n",
       "      <td>A</td>\n",
       "    </tr>\n",
       "  </tbody>\n",
       "</table>\n",
       "<p>5 rows × 25 columns</p>\n",
       "</div>"
      ],
      "text/plain": [
       "    customer          st  customer_lifetime_value response  coverage  \\\n",
       "189  OK31456  california             11009.130490      Yes   Premium   \n",
       "236  YJ16163      oregon             11009.130490      Yes   Premium   \n",
       "419  GW43195      oregon             25807.063000      Yes  Extended   \n",
       "442  IP94270     arizona             13736.132500      Yes   Premium   \n",
       "587  FJ28407  california              5619.689084      Yes   Premium   \n",
       "\n",
       "                education effective_to_date employmentstatus gender   income  \\\n",
       "189              bachelor           1/24/11         Employed      F  51643.0   \n",
       "236              bachelor           1/24/11         Employed      F  51643.0   \n",
       "419               college           2/13/11         Employed      F  71210.0   \n",
       "442                master           2/13/11         Disabled      F  16181.0   \n",
       "587  high school or below           1/26/11       Unemployed      M      0.0   \n",
       "\n",
       "     ... number_of_open_complaints number_of_policies     policy_type  \\\n",
       "189  ...                         0                  1  Corporate Auto   \n",
       "236  ...                         0                  1    Special Auto   \n",
       "419  ...                         0                  2   Personal Auto   \n",
       "442  ...                         0                  8   Personal Auto   \n",
       "587  ...                         0                  1   Personal Auto   \n",
       "\n",
       "           policy  renew_offer_type  sales_channel  total_claim_amount  \\\n",
       "189  Corporate L3            Offer2          Agent         1358.400000   \n",
       "236    Special L3            Offer2          Agent         1358.400000   \n",
       "419   Personal L2            Offer1         Branch         1027.200000   \n",
       "442   Personal L2            Offer1            Web         1261.319869   \n",
       "587   Personal L1            Offer2            Web         1027.000029   \n",
       "\n",
       "    vehicle_class vehicle_size vehicle_type  \n",
       "189    luxury car      Medsize          NaN  \n",
       "236    luxury car      Medsize            A  \n",
       "419    luxury car        Small            A  \n",
       "442           suv      Medsize            A  \n",
       "587           suv      Medsize            A  \n",
       "\n",
       "[5 rows x 25 columns]"
      ]
     },
     "execution_count": 2,
     "metadata": {},
     "output_type": "execute_result"
    }
   ],
   "source": [
    "\"\"\"\n",
    "Create a new DataFrame that only includes customers who have a total_claim_amount greater than $1,000 and \n",
    "have a response of \"Yes\" to the last marketing campaign.\n",
    "\"\"\"\n",
    "\n",
    "customer_data_clean1 = customer_data_clean[customer_data_clean['total_claim_amount'] > 1000]\n",
    "customer_data_clean1.groupby('response').get_group('Yes').head()\n",
    "\n"
   ]
  },
  {
   "cell_type": "code",
   "execution_count": 5,
   "id": "2a459721-125f-4d1a-ab8d-811bc100284d",
   "metadata": {},
   "outputs": [
    {
     "data": {
      "text/html": [
       "<div>\n",
       "<style scoped>\n",
       "    .dataframe tbody tr th:only-of-type {\n",
       "        vertical-align: middle;\n",
       "    }\n",
       "\n",
       "    .dataframe tbody tr th {\n",
       "        vertical-align: top;\n",
       "    }\n",
       "\n",
       "    .dataframe thead th {\n",
       "        text-align: right;\n",
       "    }\n",
       "</style>\n",
       "<table border=\"1\" class=\"dataframe\">\n",
       "  <thead>\n",
       "    <tr style=\"text-align: right;\">\n",
       "      <th>gender</th>\n",
       "      <th>F</th>\n",
       "      <th>M</th>\n",
       "    </tr>\n",
       "    <tr>\n",
       "      <th>policy_type</th>\n",
       "      <th></th>\n",
       "      <th></th>\n",
       "    </tr>\n",
       "  </thead>\n",
       "  <tbody>\n",
       "    <tr>\n",
       "      <th>Corporate Auto</th>\n",
       "      <td>433.74</td>\n",
       "      <td>408.58</td>\n",
       "    </tr>\n",
       "    <tr>\n",
       "      <th>Personal Auto</th>\n",
       "      <td>452.97</td>\n",
       "      <td>457.01</td>\n",
       "    </tr>\n",
       "    <tr>\n",
       "      <th>Special Auto</th>\n",
       "      <td>453.28</td>\n",
       "      <td>429.53</td>\n",
       "    </tr>\n",
       "  </tbody>\n",
       "</table>\n",
       "</div>"
      ],
      "text/plain": [
       "gender               F       M\n",
       "policy_type                   \n",
       "Corporate Auto  433.74  408.58\n",
       "Personal Auto   452.97  457.01\n",
       "Special Auto    453.28  429.53"
      ]
     },
     "metadata": {},
     "output_type": "display_data"
    }
   ],
   "source": [
    "\"\"\"\n",
    "Using the original Dataframe, analyze the average total_claim_amount by each policy type and \n",
    "gender for customers who have responded \"Yes\" to the last marketing campaign. Write your conclusions.\n",
    "\"\"\"\n",
    "\n",
    "customer_data_clean2 = customer_data_clean.groupby('response').get_group('Yes')\n",
    "display(customer_data_clean2.pivot_table(index='policy_type', columns='gender', values='total_claim_amount', aggfunc='mean').round(2))\n",
    "\n",
    "#Conclusions: for personal auto policies, the average claim amount was similar for women and men. The average claim amount for men was slightly higher but not relevantly so. \n",
    "#In the special and corporate auto categories, women had higher average claim amounts."
   ]
  },
  {
   "cell_type": "code",
   "execution_count": 19,
   "id": "208b5d09-1904-424a-8a42-f8c0e6436a2d",
   "metadata": {},
   "outputs": [
    {
     "data": {
      "text/plain": [
       "st\n",
       "Other          631\n",
       "arizona       1937\n",
       "california    3552\n",
       "nevada         993\n",
       "oregon        2909\n",
       "washington     888\n",
       "dtype: int64"
      ]
     },
     "metadata": {},
     "output_type": "display_data"
    }
   ],
   "source": [
    "\"\"\"\n",
    "Analyze the total number of customers who have policies in each state, and then filter the results to \n",
    "only include states where there are more than 500 customers.\n",
    "\"\"\"\n",
    "\n",
    "display(customer_data_clean.groupby('st').size())\n",
    "\n",
    "#all states have over 500 customers, no filtering required"
   ]
  },
  {
   "cell_type": "code",
   "execution_count": 35,
   "id": "337b83e7-ab80-4070-9300-349930a7169d",
   "metadata": {},
   "outputs": [
    {
     "data": {
      "text/html": [
       "<div>\n",
       "<style scoped>\n",
       "    .dataframe tbody tr th:only-of-type {\n",
       "        vertical-align: middle;\n",
       "    }\n",
       "\n",
       "    .dataframe tbody tr th {\n",
       "        vertical-align: top;\n",
       "    }\n",
       "\n",
       "    .dataframe thead th {\n",
       "        text-align: right;\n",
       "    }\n",
       "</style>\n",
       "<table border=\"1\" class=\"dataframe\">\n",
       "  <thead>\n",
       "    <tr style=\"text-align: right;\">\n",
       "      <th></th>\n",
       "      <th></th>\n",
       "      <th>max</th>\n",
       "      <th>min</th>\n",
       "      <th>median</th>\n",
       "    </tr>\n",
       "    <tr>\n",
       "      <th>education</th>\n",
       "      <th>gender</th>\n",
       "      <th></th>\n",
       "      <th></th>\n",
       "      <th></th>\n",
       "    </tr>\n",
       "  </thead>\n",
       "  <tbody>\n",
       "    <tr>\n",
       "      <th rowspan=\"2\" valign=\"top\">bachelor</th>\n",
       "      <th>F</th>\n",
       "      <td>73225.96</td>\n",
       "      <td>1904.00</td>\n",
       "      <td>5640.51</td>\n",
       "    </tr>\n",
       "    <tr>\n",
       "      <th>M</th>\n",
       "      <td>67907.27</td>\n",
       "      <td>1898.01</td>\n",
       "      <td>5548.03</td>\n",
       "    </tr>\n",
       "    <tr>\n",
       "      <th rowspan=\"2\" valign=\"top\">college</th>\n",
       "      <th>F</th>\n",
       "      <td>61850.19</td>\n",
       "      <td>1898.68</td>\n",
       "      <td>5623.61</td>\n",
       "    </tr>\n",
       "    <tr>\n",
       "      <th>M</th>\n",
       "      <td>61134.68</td>\n",
       "      <td>1918.12</td>\n",
       "      <td>6005.85</td>\n",
       "    </tr>\n",
       "    <tr>\n",
       "      <th rowspan=\"2\" valign=\"top\">doctor</th>\n",
       "      <th>F</th>\n",
       "      <td>44856.11</td>\n",
       "      <td>2395.57</td>\n",
       "      <td>5332.46</td>\n",
       "    </tr>\n",
       "    <tr>\n",
       "      <th>M</th>\n",
       "      <td>32677.34</td>\n",
       "      <td>2267.60</td>\n",
       "      <td>5577.67</td>\n",
       "    </tr>\n",
       "    <tr>\n",
       "      <th rowspan=\"2\" valign=\"top\">high school or below</th>\n",
       "      <th>F</th>\n",
       "      <td>55277.45</td>\n",
       "      <td>2144.92</td>\n",
       "      <td>6039.55</td>\n",
       "    </tr>\n",
       "    <tr>\n",
       "      <th>M</th>\n",
       "      <td>83325.38</td>\n",
       "      <td>1940.98</td>\n",
       "      <td>6286.73</td>\n",
       "    </tr>\n",
       "    <tr>\n",
       "      <th rowspan=\"2\" valign=\"top\">master</th>\n",
       "      <th>F</th>\n",
       "      <td>51016.07</td>\n",
       "      <td>2417.78</td>\n",
       "      <td>5729.86</td>\n",
       "    </tr>\n",
       "    <tr>\n",
       "      <th>M</th>\n",
       "      <td>50568.26</td>\n",
       "      <td>2272.31</td>\n",
       "      <td>5579.10</td>\n",
       "    </tr>\n",
       "  </tbody>\n",
       "</table>\n",
       "</div>"
      ],
      "text/plain": [
       "                                  max      min   median\n",
       "education            gender                            \n",
       "bachelor             F       73225.96  1904.00  5640.51\n",
       "                     M       67907.27  1898.01  5548.03\n",
       "college              F       61850.19  1898.68  5623.61\n",
       "                     M       61134.68  1918.12  6005.85\n",
       "doctor               F       44856.11  2395.57  5332.46\n",
       "                     M       32677.34  2267.60  5577.67\n",
       "high school or below F       55277.45  2144.92  6039.55\n",
       "                     M       83325.38  1940.98  6286.73\n",
       "master               F       51016.07  2417.78  5729.86\n",
       "                     M       50568.26  2272.31  5579.10"
      ]
     },
     "execution_count": 35,
     "metadata": {},
     "output_type": "execute_result"
    }
   ],
   "source": [
    "\"\"\"\n",
    "Find the maximum, minimum, and median customer lifetime value by education level and gender. \n",
    "Write your conclusions.\n",
    "\"\"\"\n",
    "\n",
    "customer_data_clean.groupby(['education', 'gender'])['customer_lifetime_value'].agg(['max', 'min', 'median']).round(2)\n",
    "\n",
    "#Conclusions: Males with a high school level of education or below have significantly higher maximum and median customer lifetime values than any other category. "
   ]
  },
  {
   "cell_type": "markdown",
   "id": "b42999f9-311f-481e-ae63-40a5577072c5",
   "metadata": {
    "id": "b42999f9-311f-481e-ae63-40a5577072c5"
   },
   "source": [
    "## Bonus"
   ]
  },
  {
   "cell_type": "markdown",
   "id": "81ff02c5-6584-4f21-a358-b918697c6432",
   "metadata": {
    "id": "81ff02c5-6584-4f21-a358-b918697c6432"
   },
   "source": [
    "5. The marketing team wants to analyze the number of policies sold by state and month. Present the data in a table where the months are arranged as columns and the states are arranged as rows."
   ]
  },
  {
   "cell_type": "markdown",
   "id": "b6aec097-c633-4017-a125-e77a97259cda",
   "metadata": {
    "id": "b6aec097-c633-4017-a125-e77a97259cda"
   },
   "source": [
    "6.  Display a new DataFrame that contains the number of policies sold by month, by state, for the top 3 states with the highest number of policies sold.\n",
    "\n",
    "*Hint:*\n",
    "- *To accomplish this, you will first need to group the data by state and month, then count the number of policies sold for each group. Afterwards, you will need to sort the data by the count of policies sold in descending order.*\n",
    "- *Next, you will select the top 3 states with the highest number of policies sold.*\n",
    "- *Finally, you will create a new DataFrame that contains the number of policies sold by month for each of the top 3 states.*"
   ]
  },
  {
   "cell_type": "markdown",
   "id": "ba975b8a-a2cf-4fbf-9f59-ebc381767009",
   "metadata": {
    "id": "ba975b8a-a2cf-4fbf-9f59-ebc381767009"
   },
   "source": [
    "7. The marketing team wants to analyze the effect of different marketing channels on the customer response rate.\n",
    "\n",
    "Hint: You can use melt to unpivot the data and create a table that shows the customer response rate (those who responded \"Yes\") by marketing channel."
   ]
  },
  {
   "cell_type": "markdown",
   "id": "e4378d94-48fb-4850-a802-b1bc8f427b2d",
   "metadata": {
    "id": "e4378d94-48fb-4850-a802-b1bc8f427b2d"
   },
   "source": [
    "External Resources for Data Filtering: https://towardsdatascience.com/filtering-data-frames-in-pandas-b570b1f834b9"
   ]
  },
  {
   "cell_type": "code",
   "execution_count": null,
   "id": "449513f4-0459-46a0-a18d-9398d974c9ad",
   "metadata": {
    "id": "449513f4-0459-46a0-a18d-9398d974c9ad"
   },
   "outputs": [],
   "source": [
    "# your code goes here"
   ]
  }
 ],
 "metadata": {
  "colab": {
   "provenance": []
  },
  "kernelspec": {
   "display_name": "Python 3 (ipykernel)",
   "language": "python",
   "name": "python3"
  },
  "language_info": {
   "codemirror_mode": {
    "name": "ipython",
    "version": 3
   },
   "file_extension": ".py",
   "mimetype": "text/x-python",
   "name": "python",
   "nbconvert_exporter": "python",
   "pygments_lexer": "ipython3",
   "version": "3.12.4"
  }
 },
 "nbformat": 4,
 "nbformat_minor": 5
}
