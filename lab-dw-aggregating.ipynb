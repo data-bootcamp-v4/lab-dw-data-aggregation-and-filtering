{
  "cells": [
    {
      "cell_type": "markdown",
      "id": "31969215-2a90-4d8b-ac36-646a7ae13744",
      "metadata": {
        "id": "31969215-2a90-4d8b-ac36-646a7ae13744"
      },
      "source": [
        "# Lab | Data Aggregation and Filtering"
      ]
    },
    {
      "cell_type": "markdown",
      "id": "a8f08a52-bec0-439b-99cc-11d3809d8b5d",
      "metadata": {
        "id": "a8f08a52-bec0-439b-99cc-11d3809d8b5d"
      },
      "source": [
        "In this challenge, we will continue to work with customer data from an insurance company. We will use the dataset called marketing_customer_analysis.csv, which can be found at the following link:\n",
        "\n",
        "https://raw.githubusercontent.com/data-bootcamp-v4/data/main/marketing_customer_analysis.csv\n",
        "\n",
        "This dataset contains information such as customer demographics, policy details, vehicle information, and the customer's response to the last marketing campaign. Our goal is to explore and analyze this data by first performing data cleaning, formatting, and structuring."
      ]
    },
    {
      "cell_type": "markdown",
      "id": "9c98ddc5-b041-4c94-ada1-4dfee5c98e50",
      "metadata": {
        "id": "9c98ddc5-b041-4c94-ada1-4dfee5c98e50"
      },
      "source": [
        "#1. Create a new DataFrame that only includes customers who have a total_claim_amount greater than $1,000 and have a response of \"Yes\" to the last marketing campaign."
      ]
    },
    {
      "cell_type": "markdown",
      "id": "969948ae",
      "metadata": {},
      "source": [
        "2. Using the original Dataframe, analyze the average total_claim_amount by each policy type and gender for customers who have responded \"Yes\" to the last marketing campaign. Write your conclusions."
      ]
    },
    {
      "cell_type": "markdown",
      "id": "7050f4ac-53c5-4193-a3c0-8699b87196f0",
      "metadata": {
        "id": "7050f4ac-53c5-4193-a3c0-8699b87196f0"
      },
      "source": [
        "3. Analyze the total number of customers who have policies in each state, and then filter the results to only include states where there are more than 500 customers."
      ]
    },
    {
      "cell_type": "markdown",
      "id": "b60a4443-a1a7-4bbf-b78e-9ccdf9895e0d",
      "metadata": {
        "id": "b60a4443-a1a7-4bbf-b78e-9ccdf9895e0d"
      },
      "source": [
        "4. Find the maximum, minimum, and median customer lifetime value by education level and gender. Write your conclusions."
      ]
    },
    {
      "cell_type": "code",
      "execution_count": 3,
      "id": "640c99f4",
      "metadata": {},
      "outputs": [],
      "source": [
        "import pandas as pd\n",
        "marketing_df = pd.read_csv(\"https://raw.githubusercontent.com/data-bootcamp-v4/data/main/marketing_customer_analysis.csv\")"
      ]
    },
    {
      "cell_type": "code",
      "execution_count": 5,
      "id": "0a7067a7",
      "metadata": {},
      "outputs": [
        {
          "data": {
            "text/plain": [
              "Index(['unnamed:_0', 'customer', 'state', 'customer_lifetime_value',\n",
              "       'response', 'coverage', 'education', 'effective_to_date',\n",
              "       'employmentstatus', 'gender', 'income', 'location_code',\n",
              "       'marital_status', 'monthly_premium_auto', 'months_since_last_claim',\n",
              "       'months_since_policy_inception', 'number_of_open_complaints',\n",
              "       'number_of_policies', 'policy_type', 'policy', 'renew_offer_type',\n",
              "       'sales_channel', 'total_claim_amount', 'vehicle_class', 'vehicle_size',\n",
              "       'vehicle_type'],\n",
              "      dtype='object')"
            ]
          },
          "execution_count": 5,
          "metadata": {},
          "output_type": "execute_result"
        }
      ],
      "source": [
        "marketing_df.columns"
      ]
    },
    {
      "cell_type": "code",
      "execution_count": 4,
      "id": "b960b818",
      "metadata": {},
      "outputs": [],
      "source": [
        "#cleaning marketing_df\n",
        "marketing_df.columns = [col.lower().replace(\" \",\"_\") for col in marketing_df.columns]                               # Cleaning the name of the columns\n",
        "marketing_df[\"number_of_open_complaints\"]= marketing_df[\"number_of_open_complaints\"].fillna(0)   # changing datatype of number of open complaints column\n",
        "marketing_df[\"number_of_open_complaints\"]= marketing_df[\"number_of_open_complaints\"].astype(int)   # changing datatype of number of open complaints column\n",
        "marketing_df[\"total_claim_amount\"] = marketing_df[\"total_claim_amount\"].round(2)"
      ]
    },
    {
      "cell_type": "code",
      "execution_count": 6,
      "id": "cc8168d3",
      "metadata": {},
      "outputs": [],
      "source": [
        "marketing_df.drop(columns = [\"unnamed:_0\",\"vehicle_type\"],inplace = True)# Removing unwanted columns\n"
      ]
    },
    {
      "cell_type": "code",
      "execution_count": 20,
      "id": "a34e6277",
      "metadata": {},
      "outputs": [
        {
          "data": {
            "text/plain": [
              "customer                         10910\n",
              "state                            10279\n",
              "customer_lifetime_value          10910\n",
              "response                         10279\n",
              "coverage                         10910\n",
              "education                        10910\n",
              "effective_to_date                10910\n",
              "employmentstatus                 10910\n",
              "gender                           10910\n",
              "income                           10910\n",
              "location_code                    10910\n",
              "marital_status                   10910\n",
              "monthly_premium_auto             10910\n",
              "months_since_last_claim          10277\n",
              "months_since_policy_inception    10910\n",
              "number_of_open_complaints        10910\n",
              "number_of_policies               10910\n",
              "policy_type                      10910\n",
              "policy                           10910\n",
              "renew_offer_type                 10910\n",
              "sales_channel                    10910\n",
              "total_claim_amount               10910\n",
              "vehicle_class                    10288\n",
              "vehicle_size                     10288\n",
              "dtype: int64"
            ]
          },
          "execution_count": 20,
          "metadata": {},
          "output_type": "execute_result"
        }
      ],
      "source": [
        "marketing_df.notnull().sum()\n"
      ]
    },
    {
      "cell_type": "code",
      "execution_count": 10,
      "id": "9b8c215c",
      "metadata": {},
      "outputs": [
        {
          "data": {
            "text/html": [
              "<div>\n",
              "<style scoped>\n",
              "    .dataframe tbody tr th:only-of-type {\n",
              "        vertical-align: middle;\n",
              "    }\n",
              "\n",
              "    .dataframe tbody tr th {\n",
              "        vertical-align: top;\n",
              "    }\n",
              "\n",
              "    .dataframe thead th {\n",
              "        text-align: right;\n",
              "    }\n",
              "</style>\n",
              "<table border=\"1\" class=\"dataframe\">\n",
              "  <thead>\n",
              "    <tr style=\"text-align: right;\">\n",
              "      <th></th>\n",
              "      <th>customer</th>\n",
              "      <th>state</th>\n",
              "      <th>customer_lifetime_value</th>\n",
              "      <th>response</th>\n",
              "      <th>coverage</th>\n",
              "      <th>education</th>\n",
              "      <th>effective_to_date</th>\n",
              "      <th>employmentstatus</th>\n",
              "      <th>gender</th>\n",
              "      <th>income</th>\n",
              "      <th>...</th>\n",
              "      <th>months_since_policy_inception</th>\n",
              "      <th>number_of_open_complaints</th>\n",
              "      <th>number_of_policies</th>\n",
              "      <th>policy_type</th>\n",
              "      <th>policy</th>\n",
              "      <th>renew_offer_type</th>\n",
              "      <th>sales_channel</th>\n",
              "      <th>total_claim_amount</th>\n",
              "      <th>vehicle_class</th>\n",
              "      <th>vehicle_size</th>\n",
              "    </tr>\n",
              "  </thead>\n",
              "  <tbody>\n",
              "    <tr>\n",
              "      <th>189</th>\n",
              "      <td>OK31456</td>\n",
              "      <td>California</td>\n",
              "      <td>11009.13049</td>\n",
              "      <td>Yes</td>\n",
              "      <td>Premium</td>\n",
              "      <td>Bachelor</td>\n",
              "      <td>1/24/11</td>\n",
              "      <td>Employed</td>\n",
              "      <td>F</td>\n",
              "      <td>51643</td>\n",
              "      <td>...</td>\n",
              "      <td>43</td>\n",
              "      <td>0</td>\n",
              "      <td>1</td>\n",
              "      <td>Corporate Auto</td>\n",
              "      <td>Corporate L3</td>\n",
              "      <td>Offer2</td>\n",
              "      <td>Agent</td>\n",
              "      <td>1358.4</td>\n",
              "      <td>Luxury Car</td>\n",
              "      <td>Medsize</td>\n",
              "    </tr>\n",
              "    <tr>\n",
              "      <th>236</th>\n",
              "      <td>YJ16163</td>\n",
              "      <td>Oregon</td>\n",
              "      <td>11009.13049</td>\n",
              "      <td>Yes</td>\n",
              "      <td>Premium</td>\n",
              "      <td>Bachelor</td>\n",
              "      <td>1/24/11</td>\n",
              "      <td>Employed</td>\n",
              "      <td>F</td>\n",
              "      <td>51643</td>\n",
              "      <td>...</td>\n",
              "      <td>43</td>\n",
              "      <td>0</td>\n",
              "      <td>1</td>\n",
              "      <td>Special Auto</td>\n",
              "      <td>Special L3</td>\n",
              "      <td>Offer2</td>\n",
              "      <td>Agent</td>\n",
              "      <td>1358.4</td>\n",
              "      <td>Luxury Car</td>\n",
              "      <td>Medsize</td>\n",
              "    </tr>\n",
              "    <tr>\n",
              "      <th>419</th>\n",
              "      <td>GW43195</td>\n",
              "      <td>Oregon</td>\n",
              "      <td>25807.06300</td>\n",
              "      <td>Yes</td>\n",
              "      <td>Extended</td>\n",
              "      <td>College</td>\n",
              "      <td>2/13/11</td>\n",
              "      <td>Employed</td>\n",
              "      <td>F</td>\n",
              "      <td>71210</td>\n",
              "      <td>...</td>\n",
              "      <td>89</td>\n",
              "      <td>1</td>\n",
              "      <td>2</td>\n",
              "      <td>Personal Auto</td>\n",
              "      <td>Personal L2</td>\n",
              "      <td>Offer1</td>\n",
              "      <td>Branch</td>\n",
              "      <td>1027.2</td>\n",
              "      <td>Luxury Car</td>\n",
              "      <td>Small</td>\n",
              "    </tr>\n",
              "  </tbody>\n",
              "</table>\n",
              "<p>3 rows × 24 columns</p>\n",
              "</div>"
            ],
            "text/plain": [
              "    customer       state  customer_lifetime_value response  coverage  \\\n",
              "189  OK31456  California              11009.13049      Yes   Premium   \n",
              "236  YJ16163      Oregon              11009.13049      Yes   Premium   \n",
              "419  GW43195      Oregon              25807.06300      Yes  Extended   \n",
              "\n",
              "    education effective_to_date employmentstatus gender  income  ...  \\\n",
              "189  Bachelor           1/24/11         Employed      F   51643  ...   \n",
              "236  Bachelor           1/24/11         Employed      F   51643  ...   \n",
              "419   College           2/13/11         Employed      F   71210  ...   \n",
              "\n",
              "    months_since_policy_inception number_of_open_complaints  \\\n",
              "189                            43                         0   \n",
              "236                            43                         0   \n",
              "419                            89                         1   \n",
              "\n",
              "     number_of_policies     policy_type        policy  renew_offer_type  \\\n",
              "189                   1  Corporate Auto  Corporate L3            Offer2   \n",
              "236                   1    Special Auto    Special L3            Offer2   \n",
              "419                   2   Personal Auto   Personal L2            Offer1   \n",
              "\n",
              "     sales_channel total_claim_amount vehicle_class vehicle_size  \n",
              "189          Agent             1358.4    Luxury Car      Medsize  \n",
              "236          Agent             1358.4    Luxury Car      Medsize  \n",
              "419         Branch             1027.2    Luxury Car        Small  \n",
              "\n",
              "[3 rows x 24 columns]"
            ]
          },
          "execution_count": 10,
          "metadata": {},
          "output_type": "execute_result"
        }
      ],
      "source": [
        "#1. Create a new DataFrame that only includes customers who have a total_claim_amount greater than $1,000 and\n",
        "#  have a response of \"Yes\" to the last marketing campaign.\n",
        "df1 = marketing_df[(marketing_df['total_claim_amount'] > 1000) & (marketing_df[\"response\"] == \"Yes\")]\n",
        "df1.head(3)"
      ]
    },
    {
      "cell_type": "code",
      "execution_count": 16,
      "id": "a9bb9729",
      "metadata": {},
      "outputs": [
        {
          "data": {
            "text/html": [
              "<div>\n",
              "<style scoped>\n",
              "    .dataframe tbody tr th:only-of-type {\n",
              "        vertical-align: middle;\n",
              "    }\n",
              "\n",
              "    .dataframe tbody tr th {\n",
              "        vertical-align: top;\n",
              "    }\n",
              "\n",
              "    .dataframe thead th {\n",
              "        text-align: right;\n",
              "    }\n",
              "</style>\n",
              "<table border=\"1\" class=\"dataframe\">\n",
              "  <thead>\n",
              "    <tr style=\"text-align: right;\">\n",
              "      <th>policy_type</th>\n",
              "      <th>Corporate Auto</th>\n",
              "      <th>Personal Auto</th>\n",
              "      <th>Special Auto</th>\n",
              "    </tr>\n",
              "    <tr>\n",
              "      <th>gender</th>\n",
              "      <th></th>\n",
              "      <th></th>\n",
              "      <th></th>\n",
              "    </tr>\n",
              "  </thead>\n",
              "  <tbody>\n",
              "    <tr>\n",
              "      <th>F</th>\n",
              "      <td>433.738462</td>\n",
              "      <td>452.966037</td>\n",
              "      <td>453.279714</td>\n",
              "    </tr>\n",
              "    <tr>\n",
              "      <th>M</th>\n",
              "      <td>408.582468</td>\n",
              "      <td>457.010149</td>\n",
              "      <td>429.528125</td>\n",
              "    </tr>\n",
              "  </tbody>\n",
              "</table>\n",
              "</div>"
            ],
            "text/plain": [
              "policy_type  Corporate Auto  Personal Auto  Special Auto\n",
              "gender                                                  \n",
              "F                433.738462     452.966037    453.279714\n",
              "M                408.582468     457.010149    429.528125"
            ]
          },
          "execution_count": 16,
          "metadata": {},
          "output_type": "execute_result"
        }
      ],
      "source": [
        "#Using the original Dataframe, analyze the average total_claim_amount by each policy type and gender for customers who have responded \"Yes\" to the last marketing campaign. \n",
        "# Write your conclusions.\n",
        "df2 = marketing_df[marketing_df[\"response\"] == \"Yes\"]\n",
        "df3 = df2.pivot_table(index='gender',columns = 'policy_type', values= \"total_claim_amount\" , aggfunc = 'mean')\n",
        "df3"
      ]
    },
    {
      "cell_type": "code",
      "execution_count": 43,
      "id": "b8b7e3bc",
      "metadata": {},
      "outputs": [
        {
          "data": {
            "text/html": [
              "<div>\n",
              "<style scoped>\n",
              "    .dataframe tbody tr th:only-of-type {\n",
              "        vertical-align: middle;\n",
              "    }\n",
              "\n",
              "    .dataframe tbody tr th {\n",
              "        vertical-align: top;\n",
              "    }\n",
              "\n",
              "    .dataframe thead tr th {\n",
              "        text-align: left;\n",
              "    }\n",
              "\n",
              "    .dataframe thead tr:last-of-type th {\n",
              "        text-align: right;\n",
              "    }\n",
              "</style>\n",
              "<table border=\"1\" class=\"dataframe\">\n",
              "  <thead>\n",
              "    <tr>\n",
              "      <th></th>\n",
              "      <th colspan=\"2\" halign=\"left\">mean</th>\n",
              "    </tr>\n",
              "    <tr>\n",
              "      <th>gender</th>\n",
              "      <th>F</th>\n",
              "      <th>M</th>\n",
              "    </tr>\n",
              "    <tr>\n",
              "      <th>policy_type</th>\n",
              "      <th></th>\n",
              "      <th></th>\n",
              "    </tr>\n",
              "  </thead>\n",
              "  <tbody>\n",
              "    <tr>\n",
              "      <th>Corporate Auto</th>\n",
              "      <td>433.738462</td>\n",
              "      <td>408.582468</td>\n",
              "    </tr>\n",
              "    <tr>\n",
              "      <th>Personal Auto</th>\n",
              "      <td>452.966037</td>\n",
              "      <td>457.010149</td>\n",
              "    </tr>\n",
              "    <tr>\n",
              "      <th>Special Auto</th>\n",
              "      <td>453.279714</td>\n",
              "      <td>429.528125</td>\n",
              "    </tr>\n",
              "  </tbody>\n",
              "</table>\n",
              "</div>"
            ],
            "text/plain": [
              "                      mean            \n",
              "gender                   F           M\n",
              "policy_type                           \n",
              "Corporate Auto  433.738462  408.582468\n",
              "Personal Auto   452.966037  457.010149\n",
              "Special Auto    453.279714  429.528125"
            ]
          },
          "execution_count": 43,
          "metadata": {},
          "output_type": "execute_result"
        }
      ],
      "source": [
        "df3 = df2.pivot_table(index='policy_type',columns = 'gender', values= \"total_claim_amount\" , aggfunc = ['mean'])\n",
        "df3"
      ]
    },
    {
      "cell_type": "code",
      "execution_count": null,
      "id": "11fd097e",
      "metadata": {},
      "outputs": [],
      "source": [
        "# The highest average is paid by male customers for the Personal auto policy, where as lowest average paid by male customers for Corporate auto. \n",
        "# For female customers, the average is highest for Special auto policy, closely followed by Personal auto. Whereas Corporate auto still has the lowest average amongst women as well."
      ]
    },
    {
      "cell_type": "code",
      "execution_count": null,
      "id": "b03919c7",
      "metadata": {},
      "outputs": [],
      "source": [
        "#3. Analyze the total number of customers who have policies in each state, and then filter the results to only include states where there are more than 500 customers.\n",
        "\n",
        "df4 = marketing_df.groupby([\"state\",\"policy\"]).agg({\"customer\":\"count\"}).sort_values([\"state\",\"customer\"],ascending=[True,False]).reset_index()\n",
        "df4"
      ]
    },
    {
      "cell_type": "code",
      "execution_count": null,
      "id": "d3d0700f",
      "metadata": {},
      "outputs": [],
      "source": [
        "df5 = df4[df4[\"customer\"]> 500].sort_values(\"customer\",ascending=False).reset_index()\n",
        "df5"
      ]
    },
    {
      "cell_type": "code",
      "execution_count": null,
      "id": "6ec3998f",
      "metadata": {},
      "outputs": [],
      "source": [
        "# From the data, it is clear that Personal Auto policy type is the most popular among the three, of which Personal L3 is taken by most people in three states namely, California,\n",
        "#Oregon and Arizona. Following personal, corporate takes the second spot whereas special is the least favorite amongst customers in all the states."
      ]
    },
    {
      "cell_type": "code",
      "execution_count": 55,
      "id": "bc0a4466",
      "metadata": {},
      "outputs": [
        {
          "data": {
            "text/html": [
              "<div>\n",
              "<style scoped>\n",
              "    .dataframe tbody tr th:only-of-type {\n",
              "        vertical-align: middle;\n",
              "    }\n",
              "\n",
              "    .dataframe tbody tr th {\n",
              "        vertical-align: top;\n",
              "    }\n",
              "\n",
              "    .dataframe thead tr th {\n",
              "        text-align: left;\n",
              "    }\n",
              "</style>\n",
              "<table border=\"1\" class=\"dataframe\">\n",
              "  <thead>\n",
              "    <tr>\n",
              "      <th></th>\n",
              "      <th>education</th>\n",
              "      <th>gender</th>\n",
              "      <th colspan=\"3\" halign=\"left\">customer_lifetime_value</th>\n",
              "    </tr>\n",
              "    <tr>\n",
              "      <th></th>\n",
              "      <th></th>\n",
              "      <th></th>\n",
              "      <th>max</th>\n",
              "      <th>mean</th>\n",
              "      <th>min</th>\n",
              "    </tr>\n",
              "  </thead>\n",
              "  <tbody>\n",
              "    <tr>\n",
              "      <th>0</th>\n",
              "      <td>Bachelor</td>\n",
              "      <td>F</td>\n",
              "      <td>73225.96</td>\n",
              "      <td>7874.27</td>\n",
              "      <td>1904.00</td>\n",
              "    </tr>\n",
              "    <tr>\n",
              "      <th>1</th>\n",
              "      <td>Bachelor</td>\n",
              "      <td>M</td>\n",
              "      <td>67907.27</td>\n",
              "      <td>7703.60</td>\n",
              "      <td>1898.01</td>\n",
              "    </tr>\n",
              "    <tr>\n",
              "      <th>2</th>\n",
              "      <td>College</td>\n",
              "      <td>F</td>\n",
              "      <td>61850.19</td>\n",
              "      <td>7748.82</td>\n",
              "      <td>1898.68</td>\n",
              "    </tr>\n",
              "    <tr>\n",
              "      <th>3</th>\n",
              "      <td>College</td>\n",
              "      <td>M</td>\n",
              "      <td>61134.68</td>\n",
              "      <td>8052.46</td>\n",
              "      <td>1918.12</td>\n",
              "    </tr>\n",
              "    <tr>\n",
              "      <th>4</th>\n",
              "      <td>Doctor</td>\n",
              "      <td>F</td>\n",
              "      <td>44856.11</td>\n",
              "      <td>7328.51</td>\n",
              "      <td>2395.57</td>\n",
              "    </tr>\n",
              "    <tr>\n",
              "      <th>5</th>\n",
              "      <td>Doctor</td>\n",
              "      <td>M</td>\n",
              "      <td>32677.34</td>\n",
              "      <td>7415.33</td>\n",
              "      <td>2267.60</td>\n",
              "    </tr>\n",
              "    <tr>\n",
              "      <th>6</th>\n",
              "      <td>High School or Below</td>\n",
              "      <td>F</td>\n",
              "      <td>55277.45</td>\n",
              "      <td>8675.22</td>\n",
              "      <td>2144.92</td>\n",
              "    </tr>\n",
              "    <tr>\n",
              "      <th>7</th>\n",
              "      <td>High School or Below</td>\n",
              "      <td>M</td>\n",
              "      <td>83325.38</td>\n",
              "      <td>8149.69</td>\n",
              "      <td>1940.98</td>\n",
              "    </tr>\n",
              "    <tr>\n",
              "      <th>8</th>\n",
              "      <td>Master</td>\n",
              "      <td>F</td>\n",
              "      <td>51016.07</td>\n",
              "      <td>8157.05</td>\n",
              "      <td>2417.78</td>\n",
              "    </tr>\n",
              "    <tr>\n",
              "      <th>9</th>\n",
              "      <td>Master</td>\n",
              "      <td>M</td>\n",
              "      <td>50568.26</td>\n",
              "      <td>8168.83</td>\n",
              "      <td>2272.31</td>\n",
              "    </tr>\n",
              "  </tbody>\n",
              "</table>\n",
              "</div>"
            ],
            "text/plain": [
              "              education gender customer_lifetime_value                  \n",
              "                                                   max     mean      min\n",
              "0              Bachelor      F                73225.96  7874.27  1904.00\n",
              "1              Bachelor      M                67907.27  7703.60  1898.01\n",
              "2               College      F                61850.19  7748.82  1898.68\n",
              "3               College      M                61134.68  8052.46  1918.12\n",
              "4                Doctor      F                44856.11  7328.51  2395.57\n",
              "5                Doctor      M                32677.34  7415.33  2267.60\n",
              "6  High School or Below      F                55277.45  8675.22  2144.92\n",
              "7  High School or Below      M                83325.38  8149.69  1940.98\n",
              "8                Master      F                51016.07  8157.05  2417.78\n",
              "9                Master      M                50568.26  8168.83  2272.31"
            ]
          },
          "execution_count": 55,
          "metadata": {},
          "output_type": "execute_result"
        }
      ],
      "source": [
        "#4. Find the maximum, minimum, and median customer lifetime value by education level and gender. Write your conclusions.\n",
        "\n",
        "df6 = marketing_df.groupby([\"education\",\"gender\"]).agg({\"customer_lifetime_value\":[\"max\",\"mean\",\"min\"]}).reset_index()\n",
        "df6.round(2)"
      ]
    },
    {
      "cell_type": "code",
      "execution_count": null,
      "id": "aea5e635",
      "metadata": {},
      "outputs": [],
      "source": [
        "# From the data, Male customer"
      ]
    },
    {
      "cell_type": "markdown",
      "id": "b42999f9-311f-481e-ae63-40a5577072c5",
      "metadata": {
        "id": "b42999f9-311f-481e-ae63-40a5577072c5"
      },
      "source": [
        "## Bonus"
      ]
    },
    {
      "cell_type": "markdown",
      "id": "81ff02c5-6584-4f21-a358-b918697c6432",
      "metadata": {
        "id": "81ff02c5-6584-4f21-a358-b918697c6432"
      },
      "source": [
        "5. The marketing team wants to analyze the number of policies sold by state and month. Present the data in a table where the months are arranged as columns and the states are arranged as rows."
      ]
    },
    {
      "cell_type": "markdown",
      "id": "b6aec097-c633-4017-a125-e77a97259cda",
      "metadata": {
        "id": "b6aec097-c633-4017-a125-e77a97259cda"
      },
      "source": [
        "6.  Display a new DataFrame that contains the number of policies sold by month, by state, for the top 3 states with the highest number of policies sold.\n",
        "\n",
        "*Hint:*\n",
        "- *To accomplish this, you will first need to group the data by state and month, then count the number of policies sold for each group. Afterwards, you will need to sort the data by the count of policies sold in descending order.*\n",
        "- *Next, you will select the top 3 states with the highest number of policies sold.*\n",
        "- *Finally, you will create a new DataFrame that contains the number of policies sold by month for each of the top 3 states.*"
      ]
    },
    {
      "cell_type": "markdown",
      "id": "ba975b8a-a2cf-4fbf-9f59-ebc381767009",
      "metadata": {
        "id": "ba975b8a-a2cf-4fbf-9f59-ebc381767009"
      },
      "source": [
        "7. The marketing team wants to analyze the effect of different marketing channels on the customer response rate.\n",
        "\n",
        "Hint: You can use melt to unpivot the data and create a table that shows the customer response rate (those who responded \"Yes\") by marketing channel."
      ]
    },
    {
      "cell_type": "markdown",
      "id": "e4378d94-48fb-4850-a802-b1bc8f427b2d",
      "metadata": {
        "id": "e4378d94-48fb-4850-a802-b1bc8f427b2d"
      },
      "source": [
        "External Resources for Data Filtering: https://towardsdatascience.com/filtering-data-frames-in-pandas-b570b1f834b9"
      ]
    },
    {
      "cell_type": "code",
      "execution_count": null,
      "id": "449513f4-0459-46a0-a18d-9398d974c9ad",
      "metadata": {
        "id": "449513f4-0459-46a0-a18d-9398d974c9ad"
      },
      "outputs": [],
      "source": [
        "# your code goes here\n"
      ]
    },
    {
      "cell_type": "code",
      "execution_count": null,
      "id": "faf53b97",
      "metadata": {},
      "outputs": [],
      "source": [
        "#data.groupby([\"City\",\"Segment\"]).agg({\"Sales\":[\"sum\",\"count\"],\"Discount\":\"max\"}).reset_index()\n",
        "#df_grouped = df.groupby(\"Sex\").agg({\"Fare\":\"mean\"}).reset_index()"
      ]
    }
  ],
  "metadata": {
    "colab": {
      "provenance": []
    },
    "kernelspec": {
      "display_name": "Python 3 (ipykernel)",
      "language": "python",
      "name": "python3"
    },
    "language_info": {
      "codemirror_mode": {
        "name": "ipython",
        "version": 3
      },
      "file_extension": ".py",
      "mimetype": "text/x-python",
      "name": "python",
      "nbconvert_exporter": "python",
      "pygments_lexer": "ipython3",
      "version": "3.11.7"
    }
  },
  "nbformat": 4,
  "nbformat_minor": 5
}
