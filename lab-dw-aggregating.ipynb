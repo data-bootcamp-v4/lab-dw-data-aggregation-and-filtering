{
  "cells": [
    {
      "cell_type": "markdown",
      "id": "31969215-2a90-4d8b-ac36-646a7ae13744",
      "metadata": {
        "id": "31969215-2a90-4d8b-ac36-646a7ae13744"
      },
      "source": [
        "# Lab | Data Aggregation and Filtering"
      ]
    },
    {
      "cell_type": "markdown",
      "id": "a8f08a52-bec0-439b-99cc-11d3809d8b5d",
      "metadata": {
        "id": "a8f08a52-bec0-439b-99cc-11d3809d8b5d"
      },
      "source": [
        "In this challenge, we will continue to work with customer data from an insurance company. We will use the dataset called marketing_customer_analysis.csv, which can be found at the following link:\n",
        "\n",
        "https://raw.githubusercontent.com/data-bootcamp-v4/data/main/marketing_customer_analysis.csv\n",
        "\n",
        "This dataset contains information such as customer demographics, policy details, vehicle information, and the customer's response to the last marketing campaign. Our goal is to explore and analyze this data by first performing data cleaning, formatting, and structuring."
      ]
    },
    {
      "cell_type": "markdown",
      "id": "9c98ddc5-b041-4c94-ada1-4dfee5c98e50",
      "metadata": {
        "id": "9c98ddc5-b041-4c94-ada1-4dfee5c98e50"
      },
      "source": [
        "1. Create a new DataFrame that only includes customers who:\n",
        "   - have a **low total_claim_amount** (e.g., below $1,000),\n",
        "   - have a response \"Yes\" to the last marketing campaign."
      ]
    },
    {
      "cell_type": "markdown",
      "id": "b9be383e-5165-436e-80c8-57d4c757c8c3",
      "metadata": {
        "id": "b9be383e-5165-436e-80c8-57d4c757c8c3"
      },
      "source": [
        "2. Using the original Dataframe, analyze:\n",
        "   - the average `monthly_premium` and/or customer lifetime value by `policy_type` and `gender` for customers who responded \"Yes\", and\n",
        "   - compare these insights to `total_claim_amount` patterns, and discuss which segments appear most profitable or low-risk for the company."
      ]
    },
    {
      "cell_type": "markdown",
      "id": "7050f4ac-53c5-4193-a3c0-8699b87196f0",
      "metadata": {
        "id": "7050f4ac-53c5-4193-a3c0-8699b87196f0"
      },
      "source": [
        "3. Analyze the total number of customers who have policies in each state, and then filter the results to only include states where there are more than 500 customers."
      ]
    },
    {
      "cell_type": "markdown",
      "id": "b60a4443-a1a7-4bbf-b78e-9ccdf9895e0d",
      "metadata": {
        "id": "b60a4443-a1a7-4bbf-b78e-9ccdf9895e0d"
      },
      "source": [
        "4. Find the maximum, minimum, and median customer lifetime value by education level and gender. Write your conclusions."
      ]
    },
    {
      "cell_type": "code",
      "execution_count": 3,
      "id": "17457cd7",
      "metadata": {},
      "outputs": [
        {
          "name": "stdout",
          "output_type": "stream",
          "text": [
            "=== Avg Monthly Premium & CLV by Policy Type and Gender ===\n",
            "                       Customer Lifetime Value  Monthly Premium Auto\n",
            "Policy Type    Gender                                               \n",
            "Corporate Auto F                       7334.77                 89.04\n",
            "               M                       7920.40                 88.55\n",
            "Personal Auto  F                       7966.93                 90.62\n",
            "               M                       7481.82                 87.43\n",
            "Special Auto   F                       7594.01                 86.71\n",
            "               M                       8348.23                 80.00\n",
            "\n",
            "=== Avg Total Claim Amount by Policy Type and Gender ===\n",
            "                       Total Claim Amount\n",
            "Policy Type    Gender                    \n",
            "Corporate Auto F                   407.80\n",
            "               M                   388.25\n",
            "Personal Auto  F                   404.97\n",
            "               M                   427.87\n",
            "Special Auto   F                   426.66\n",
            "               M                   390.33\n",
            "\n",
            "=== States with More than 500 Customers ===\n",
            "State\n",
            "California    3552\n",
            "Oregon        2909\n",
            "Arizona       1937\n",
            "Nevada         993\n",
            "Washington     888\n",
            "Name: count, dtype: int64\n",
            "\n",
            "=== CLV Stats by Gender and Education ===\n",
            "                                  max      min   median\n",
            "Gender Education                                       \n",
            "F      Bachelor              73225.96  1904.00  5640.51\n",
            "       College               61850.19  1898.68  5623.61\n",
            "       Doctor                44856.11  2395.57  5332.46\n",
            "       High School or Below  55277.45  2144.92  6039.55\n",
            "       Master                51016.07  2417.78  5729.86\n",
            "M      Bachelor              67907.27  1898.01  5548.03\n",
            "       College               61134.68  1918.12  6005.85\n",
            "       Doctor                32677.34  2267.60  5577.67\n",
            "       High School or Below  83325.38  1940.98  6286.73\n",
            "       Master                50568.26  2272.31  5579.10\n"
          ]
        }
      ],
      "source": [
        "import pandas as pd\n",
        "\n",
        "# Load the dataset\n",
        "file_path = \"marketing_customer_analysis.csv\"  # Update path if needed\n",
        "df = pd.read_csv(file_path)\n",
        "\n",
        "# Step 1: Filter for customers with Total Claim Amount < 1000 and Response == \"Yes\"\n",
        "low_claim_responders = df[(df['Total Claim Amount'] < 1000) & (df['Response'] == 'Yes')]\n",
        "\n",
        "# Step 2: Analyze 'Monthly Premium Auto' and 'Customer Lifetime Value' by 'Policy Type' and 'Gender'\n",
        "premium_clv_analysis = pd.pivot_table(\n",
        "    low_claim_responders,\n",
        "    values=['Monthly Premium Auto', 'Customer Lifetime Value'],\n",
        "    index=['Policy Type', 'Gender'],\n",
        "    aggfunc='mean'\n",
        ").round(2)\n",
        "\n",
        "# Step 3: Compare with Total Claim Amount patterns\n",
        "claim_amount_analysis = pd.pivot_table(\n",
        "    low_claim_responders,\n",
        "    values='Total Claim Amount',\n",
        "    index=['Policy Type', 'Gender'],\n",
        "    aggfunc='mean'\n",
        ").round(2)\n",
        "\n",
        "# Step 4: This should count total number of customers by state\n",
        "customers_by_state = df['State'].value_counts()\n",
        "\n",
        "# Step 5: Filter for states with more than 500 customers\n",
        "states_over_500 = customers_by_state[customers_by_state > 500]\n",
        "\n",
        "# Step 6: Get max, min, and median CLV by 'Gender' and 'Education'\n",
        "clv_stats = df.groupby(['Gender', 'Education'])['Customer Lifetime Value'].agg(['max', 'min', 'median']).round(2)\n",
        "\n",
        "# Print results\n",
        "print(\"=== Avg Monthly Premium & CLV by Policy Type and Gender ===\")\n",
        "print(premium_clv_analysis)\n",
        "print(\"\\n=== Avg Total Claim Amount by Policy Type and Gender ===\")\n",
        "print(claim_amount_analysis)\n",
        "print(\"\\n=== States with More than 500 Customers ===\")\n",
        "print(states_over_500)\n",
        "print(\"\\n=== CLV Stats by Gender and Education ===\")\n",
        "print(clv_stats)\n"
      ]
    }
  ],
  "metadata": {
    "colab": {
      "provenance": []
    },
    "kernelspec": {
      "display_name": "Python 3",
      "language": "python",
      "name": "python3"
    },
    "language_info": {
      "codemirror_mode": {
        "name": "ipython",
        "version": 3
      },
      "file_extension": ".py",
      "mimetype": "text/x-python",
      "name": "python",
      "nbconvert_exporter": "python",
      "pygments_lexer": "ipython3",
      "version": "3.13.3"
    }
  },
  "nbformat": 4,
  "nbformat_minor": 5
}
