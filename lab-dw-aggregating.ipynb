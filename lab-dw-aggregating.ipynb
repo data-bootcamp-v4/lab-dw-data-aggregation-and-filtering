{
 "cells": [
  {
   "cell_type": "markdown",
   "id": "31969215-2a90-4d8b-ac36-646a7ae13744",
   "metadata": {
    "id": "31969215-2a90-4d8b-ac36-646a7ae13744"
   },
   "source": [
    "# Lab | Data Aggregation and Filtering"
   ]
  },
  {
   "cell_type": "markdown",
   "id": "a8f08a52-bec0-439b-99cc-11d3809d8b5d",
   "metadata": {
    "id": "a8f08a52-bec0-439b-99cc-11d3809d8b5d"
   },
   "source": [
    "In this challenge, we will continue to work with customer data from an insurance company. We will use the dataset called marketing_customer_analysis.csv, which can be found at the following link:\n",
    "\n",
    "https://raw.githubusercontent.com/data-bootcamp-v4/data/main/marketing_customer_analysis.csv\n",
    "\n",
    "This dataset contains information such as customer demographics, policy details, vehicle information, and the customer's response to the last marketing campaign. Our goal is to explore and analyze this data by first performing data cleaning, formatting, and structuring."
   ]
  },
  {
   "cell_type": "markdown",
   "id": "9c98ddc5-b041-4c94-ada1-4dfee5c98e50",
   "metadata": {
    "id": "9c98ddc5-b041-4c94-ada1-4dfee5c98e50"
   },
   "source": [
    "1. Create a new DataFrame that only includes customers who:\n",
    "   - have a **low total_claim_amount** (e.g., below $1,000),\n",
    "   - have a response \"Yes\" to the last marketing campaign."
   ]
  },
  {
   "cell_type": "code",
   "execution_count": 5,
   "id": "02855d82-99b1-4616-90a5-a77c8cd71f27",
   "metadata": {},
   "outputs": [
    {
     "name": "stdout",
     "output_type": "stream",
     "text": [
      "   Unnamed: 0 Customer       State  Customer Lifetime Value Response  \\\n",
      "0           0  DK49336     Arizona              4809.216960       No   \n",
      "1           1  KX64629  California              2228.525238       No   \n",
      "2           2  LZ68649  Washington             14947.917300       No   \n",
      "3           3  XL78013      Oregon             22332.439460      Yes   \n",
      "4           4  QA50777      Oregon              9025.067525       No   \n",
      "\n",
      "   Coverage Education Effective To Date EmploymentStatus Gender  ...  \\\n",
      "0     Basic   College           2/18/11         Employed      M  ...   \n",
      "1     Basic   College           1/18/11       Unemployed      F  ...   \n",
      "2     Basic  Bachelor           2/10/11         Employed      M  ...   \n",
      "3  Extended   College           1/11/11         Employed      M  ...   \n",
      "4   Premium  Bachelor           1/17/11    Medical Leave      F  ...   \n",
      "\n",
      "   Number of Open Complaints Number of Policies     Policy Type        Policy  \\\n",
      "0                        0.0                  9  Corporate Auto  Corporate L3   \n",
      "1                        0.0                  1   Personal Auto   Personal L3   \n",
      "2                        0.0                  2   Personal Auto   Personal L3   \n",
      "3                        0.0                  2  Corporate Auto  Corporate L3   \n",
      "4                        NaN                  7   Personal Auto   Personal L2   \n",
      "\n",
      "   Renew Offer Type  Sales Channel  Total Claim Amount  Vehicle Class  \\\n",
      "0            Offer3          Agent          292.800000  Four-Door Car   \n",
      "1            Offer4    Call Center          744.924331  Four-Door Car   \n",
      "2            Offer3    Call Center          480.000000            SUV   \n",
      "3            Offer2         Branch          484.013411  Four-Door Car   \n",
      "4            Offer1         Branch          707.925645  Four-Door Car   \n",
      "\n",
      "  Vehicle Size Vehicle Type  \n",
      "0      Medsize          NaN  \n",
      "1      Medsize          NaN  \n",
      "2      Medsize            A  \n",
      "3      Medsize            A  \n",
      "4      Medsize          NaN  \n",
      "\n",
      "[5 rows x 26 columns]\n",
      "Index(['Unnamed: 0', 'Customer', 'State', 'Customer Lifetime Value',\n",
      "       'Response', 'Coverage', 'Education', 'Effective To Date',\n",
      "       'EmploymentStatus', 'Gender', 'Income', 'Location Code',\n",
      "       'Marital Status', 'Monthly Premium Auto', 'Months Since Last Claim',\n",
      "       'Months Since Policy Inception', 'Number of Open Complaints',\n",
      "       'Number of Policies', 'Policy Type', 'Policy', 'Renew Offer Type',\n",
      "       'Sales Channel', 'Total Claim Amount', 'Vehicle Class', 'Vehicle Size',\n",
      "       'Vehicle Type'],\n",
      "      dtype='object')\n"
     ]
    }
   ],
   "source": [
    "import pandas as pd\n",
    "url = \"https://raw.githubusercontent.com/data-bootcamp-v4/data/main/marketing_customer_analysis.csv\"\n",
    "df = pd.read_csv(url)\n",
    "\n",
    "print(df.head())\n",
    "\n",
    "df.columns =df.columns.str.strip()\n",
    "print(df.columns)"
   ]
  },
  {
   "cell_type": "code",
   "execution_count": 6,
   "id": "41a8e85c-1f0b-437f-abcd-5eeaed1afb7e",
   "metadata": {},
   "outputs": [
    {
     "name": "stdout",
     "output_type": "stream",
     "text": [
      "    Unnamed: 0 Customer       State  Customer Lifetime Value Response  \\\n",
      "3            3  XL78013      Oregon             22332.439460      Yes   \n",
      "8            8  FM55990  California              5989.773931      Yes   \n",
      "15          15  CW49887  California              4626.801093      Yes   \n",
      "19          19  NJ54277  California              3746.751625      Yes   \n",
      "27          27  MQ68407      Oregon              4376.363592      Yes   \n",
      "\n",
      "    Coverage Education Effective To Date EmploymentStatus Gender  ...  \\\n",
      "3   Extended   College           1/11/11         Employed      M  ...   \n",
      "8    Premium   College           1/19/11         Employed      M  ...   \n",
      "15     Basic    Master           1/16/11         Employed      F  ...   \n",
      "19  Extended   College           2/26/11         Employed      F  ...   \n",
      "27   Premium  Bachelor           2/28/11         Employed      F  ...   \n",
      "\n",
      "    Number of Open Complaints Number of Policies     Policy Type  \\\n",
      "3                         0.0                  2  Corporate Auto   \n",
      "8                         0.0                  1   Personal Auto   \n",
      "15                        0.0                  1    Special Auto   \n",
      "19                        1.0                  1   Personal Auto   \n",
      "27                        0.0                  1   Personal Auto   \n",
      "\n",
      "          Policy  Renew Offer Type  Sales Channel  Total Claim Amount  \\\n",
      "3   Corporate L3            Offer2         Branch          484.013411   \n",
      "8    Personal L1            Offer2         Branch          739.200000   \n",
      "15    Special L1            Offer2         Branch          547.200000   \n",
      "19   Personal L2            Offer2    Call Center           19.575683   \n",
      "27   Personal L3            Offer2          Agent           60.036683   \n",
      "\n",
      "    Vehicle Class Vehicle Size Vehicle Type  \n",
      "3   Four-Door Car      Medsize            A  \n",
      "8      Sports Car      Medsize          NaN  \n",
      "15            SUV      Medsize          NaN  \n",
      "19   Two-Door Car        Large            A  \n",
      "27  Four-Door Car      Medsize          NaN  \n",
      "\n",
      "[5 rows x 26 columns]\n",
      "Number of number filtered: 1399\n"
     ]
    }
   ],
   "source": [
    "filtered_df = df[(df['Total Claim Amount'] < 1000) & (df['Response'] == 'Yes')]\n",
    "print(filtered_df.head())\n",
    "print(f\"Number of number filtered: {filtered_df.shape[0]}\")"
   ]
  },
  {
   "cell_type": "markdown",
   "id": "b9be383e-5165-436e-80c8-57d4c757c8c3",
   "metadata": {
    "id": "b9be383e-5165-436e-80c8-57d4c757c8c3"
   },
   "source": [
    "2. Using the original Dataframe, analyze:\n",
    "   - the average `monthly_premium` and/or customer lifetime value by `policy_type` and `gender` for customers who responded \"Yes\", and\n",
    "   - compare these insights to `total_claim_amount` patterns, and discuss which segments appear most profitable or low-risk for the company."
   ]
  },
  {
   "cell_type": "code",
   "execution_count": 10,
   "id": "badd344b-2ff5-4aba-ade3-28b7871afdb2",
   "metadata": {},
   "outputs": [
    {
     "name": "stdout",
     "output_type": "stream",
     "text": [
      "                       Monthly Premium Auto  Customer Lifetime Value  \\\n",
      "Policy Type    Gender                                                  \n",
      "Corporate Auto F                      94.30                  7712.63   \n",
      "               M                      92.19                  7944.47   \n",
      "Personal Auto  F                      99.00                  8339.79   \n",
      "               M                      91.09                  7448.38   \n",
      "Special Auto   F                      92.31                  7691.58   \n",
      "               M                      86.34                  8247.09   \n",
      "\n",
      "                       Total Claim Amount  \n",
      "Policy Type    Gender                      \n",
      "Corporate Auto F                   433.74  \n",
      "               M                   408.58  \n",
      "Personal Auto  F                   452.97  \n",
      "               M                   457.01  \n",
      "Special Auto   F                   453.28  \n",
      "               M                   429.53  \n"
     ]
    }
   ],
   "source": [
    "import pandas as pd\n",
    "\n",
    "url = \"https://raw.githubusercontent.com/data-bootcamp-v4/data/main/marketing_customer_analysis.csv\"\n",
    "df = pd.read_csv(url)\n",
    "\n",
    "# Clean column names\n",
    "df.columns = df.columns.str.strip()\n",
    "\n",
    "df_yes = df[df['Response'] == 'Yes'] #Only the ones who says 'Yes'\n",
    "\n",
    "grouped = df_yes.groupby(['Policy Type','Gender']).agg({\n",
    "    'Monthly Premium Auto': 'mean' ,\n",
    "    'Customer Lifetime Value': 'mean' ,\n",
    "    'Total Claim Amount': 'mean'\n",
    "}).round(2)\n",
    "print(grouped)\n",
    "    \n",
    "\n"
   ]
  },
  {
   "cell_type": "markdown",
   "id": "7050f4ac-53c5-4193-a3c0-8699b87196f0",
   "metadata": {
    "id": "7050f4ac-53c5-4193-a3c0-8699b87196f0"
   },
   "source": [
    "3. Analyze the total number of customers who have policies in each state, and then filter the results to only include states where there are more than 500 customers."
   ]
  },
  {
   "cell_type": "code",
   "execution_count": 13,
   "id": "a29c8bb1-08e5-4981-8bfa-c660733a2596",
   "metadata": {},
   "outputs": [
    {
     "name": "stdout",
     "output_type": "stream",
     "text": [
      "State\n",
      "California    3552\n",
      "Oregon        2909\n",
      "Arizona       1937\n",
      "Nevada         993\n",
      "Washington     888\n",
      "Name: count, dtype: int64\n"
     ]
    }
   ],
   "source": [
    "clients_by_state = df['State'].value_counts()\n",
    "print(clients_by_state)"
   ]
  },
  {
   "cell_type": "code",
   "execution_count": 14,
   "id": "2e1580da-0e4c-40dc-9c59-6795e9ed7bd9",
   "metadata": {},
   "outputs": [
    {
     "name": "stdout",
     "output_type": "stream",
     "text": [
      "State\n",
      "California    3552\n",
      "Oregon        2909\n",
      "Arizona       1937\n",
      "Nevada         993\n",
      "Washington     888\n",
      "Name: count, dtype: int64\n"
     ]
    }
   ],
   "source": [
    "clients_over_500 = clients_by_state[clients_by_state > 500]\n",
    "print(clients_over_500)"
   ]
  },
  {
   "cell_type": "code",
   "execution_count": 15,
   "id": "ba912451-153f-4352-9c67-1e0ff27164f6",
   "metadata": {},
   "outputs": [
    {
     "name": "stdout",
     "output_type": "stream",
     "text": [
      "888\n"
     ]
    }
   ],
   "source": [
    "print(clients_by_state.min())"
   ]
  },
  {
   "cell_type": "markdown",
   "id": "b60a4443-a1a7-4bbf-b78e-9ccdf9895e0d",
   "metadata": {
    "id": "b60a4443-a1a7-4bbf-b78e-9ccdf9895e0d"
   },
   "source": [
    "4. Find the maximum, minimum, and median customer lifetime value by education level and gender. Write your conclusions."
   ]
  },
  {
   "cell_type": "code",
   "execution_count": 20,
   "id": "7ccb529f-a0fb-47c7-987b-b73190ba9e21",
   "metadata": {},
   "outputs": [
    {
     "name": "stdout",
     "output_type": "stream",
     "text": [
      "                                  max      min     mean\n",
      "Education            Gender                            \n",
      "Bachelor             F       73225.96  1904.00  7874.27\n",
      "                     M       67907.27  1898.01  7703.60\n",
      "College              F       61850.19  1898.68  7748.82\n",
      "                     M       61134.68  1918.12  8052.46\n",
      "Doctor               F       44856.11  2395.57  7328.51\n",
      "                     M       32677.34  2267.60  7415.33\n",
      "High School or Below F       55277.45  2144.92  8675.22\n",
      "                     M       83325.38  1940.98  8149.69\n",
      "Master               F       51016.07  2417.78  8157.05\n",
      "                     M       50568.26  2272.31  8168.83\n"
     ]
    }
   ],
   "source": [
    "df['Education'] = df['Education'].str.strip()\n",
    "df['Gender'] = df['Gender'].str.strip()\n",
    "clv_stats = df.groupby(['Education','Gender'])['Customer Lifetime Value'].agg(['max','min','mean']).round(2)\n",
    "print(clv_stats)\n"
   ]
  },
  {
   "cell_type": "markdown",
   "id": "b42999f9-311f-481e-ae63-40a5577072c5",
   "metadata": {
    "id": "b42999f9-311f-481e-ae63-40a5577072c5"
   },
   "source": [
    "## Bonus"
   ]
  },
  {
   "cell_type": "markdown",
   "id": "81ff02c5-6584-4f21-a358-b918697c6432",
   "metadata": {
    "id": "81ff02c5-6584-4f21-a358-b918697c6432"
   },
   "source": [
    "5. The marketing team wants to analyze the number of policies sold by state and month. Present the data in a table where the months are arranged as columns and the states are arranged as rows."
   ]
  },
  {
   "cell_type": "markdown",
   "id": "b6aec097-c633-4017-a125-e77a97259cda",
   "metadata": {
    "id": "b6aec097-c633-4017-a125-e77a97259cda"
   },
   "source": [
    "6.  Display a new DataFrame that contains the number of policies sold by month, by state, for the top 3 states with the highest number of policies sold.\n",
    "\n",
    "*Hint:*\n",
    "- *To accomplish this, you will first need to group the data by state and month, then count the number of policies sold for each group. Afterwards, you will need to sort the data by the count of policies sold in descending order.*\n",
    "- *Next, you will select the top 3 states with the highest number of policies sold.*\n",
    "- *Finally, you will create a new DataFrame that contains the number of policies sold by month for each of the top 3 states.*"
   ]
  },
  {
   "cell_type": "markdown",
   "id": "ba975b8a-a2cf-4fbf-9f59-ebc381767009",
   "metadata": {
    "id": "ba975b8a-a2cf-4fbf-9f59-ebc381767009"
   },
   "source": [
    "7. The marketing team wants to analyze the effect of different marketing channels on the customer response rate.\n",
    "\n",
    "Hint: You can use melt to unpivot the data and create a table that shows the customer response rate (those who responded \"Yes\") by marketing channel."
   ]
  },
  {
   "cell_type": "markdown",
   "id": "e4378d94-48fb-4850-a802-b1bc8f427b2d",
   "metadata": {
    "id": "e4378d94-48fb-4850-a802-b1bc8f427b2d"
   },
   "source": [
    "External Resources for Data Filtering: https://towardsdatascience.com/filtering-data-frames-in-pandas-b570b1f834b9"
   ]
  },
  {
   "cell_type": "code",
   "execution_count": null,
   "id": "449513f4-0459-46a0-a18d-9398d974c9ad",
   "metadata": {
    "id": "449513f4-0459-46a0-a18d-9398d974c9ad"
   },
   "outputs": [],
   "source": [
    "# your code goes here"
   ]
  }
 ],
 "metadata": {
  "colab": {
   "provenance": []
  },
  "kernelspec": {
   "display_name": "Python 3 (ipykernel)",
   "language": "python",
   "name": "python3"
  },
  "language_info": {
   "codemirror_mode": {
    "name": "ipython",
    "version": 3
   },
   "file_extension": ".py",
   "mimetype": "text/x-python",
   "name": "python",
   "nbconvert_exporter": "python",
   "pygments_lexer": "ipython3",
   "version": "3.13.1"
  }
 },
 "nbformat": 4,
 "nbformat_minor": 5
}
