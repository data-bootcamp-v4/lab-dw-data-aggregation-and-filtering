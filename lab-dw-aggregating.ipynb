{
  "cells": [
    {
      "cell_type": "markdown",
      "id": "31969215-2a90-4d8b-ac36-646a7ae13744",
      "metadata": {
        "id": "31969215-2a90-4d8b-ac36-646a7ae13744"
      },
      "source": [
        "# Lab | Data Aggregation and Filtering"
      ]
    },
    {
      "cell_type": "markdown",
      "id": "a8f08a52-bec0-439b-99cc-11d3809d8b5d",
      "metadata": {
        "id": "a8f08a52-bec0-439b-99cc-11d3809d8b5d"
      },
      "source": [
        "In this challenge, we will continue to work with customer data from an insurance company. We will use the dataset called marketing_customer_analysis.csv, which can be found at the following link:\n",
        "\n",
        "https://raw.githubusercontent.com/data-bootcamp-v4/data/main/marketing_customer_analysis.csv\n",
        "\n",
        "This dataset contains information such as customer demographics, policy details, vehicle information, and the customer's response to the last marketing campaign. Our goal is to explore and analyze this data by first performing data cleaning, formatting, and structuring."
      ]
    },
    {
      "cell_type": "markdown",
      "id": "9c98ddc5-b041-4c94-ada1-4dfee5c98e50",
      "metadata": {
        "id": "9c98ddc5-b041-4c94-ada1-4dfee5c98e50"
      },
      "source": [
        "1. Create a new DataFrame that only includes customers who have a total_claim_amount greater than $1,000 and have a response of \"Yes\" to the last marketing campaign."
      ]
    },
    {
      "cell_type": "code",
      "execution_count": 25,
      "id": "f742ccb6",
      "metadata": {},
      "outputs": [
        {
          "name": "stdout",
          "output_type": "stream",
          "text": [
            "   Unnamed: 0 Customer       State  Customer Lifetime Value Response  \\\n",
            "0           0  DK49336     Arizona              4809.216960       No   \n",
            "1           1  KX64629  California              2228.525238       No   \n",
            "2           2  LZ68649  Washington             14947.917300       No   \n",
            "3           3  XL78013      Oregon             22332.439460      Yes   \n",
            "4           4  QA50777      Oregon              9025.067525       No   \n",
            "\n",
            "   Coverage Education Effective To Date EmploymentStatus Gender  ...  \\\n",
            "0     Basic   College           2/18/11         Employed      M  ...   \n",
            "1     Basic   College           1/18/11       Unemployed      F  ...   \n",
            "2     Basic  Bachelor           2/10/11         Employed      M  ...   \n",
            "3  Extended   College           1/11/11         Employed      M  ...   \n",
            "4   Premium  Bachelor           1/17/11    Medical Leave      F  ...   \n",
            "\n",
            "   Number of Open Complaints Number of Policies     Policy Type        Policy  \\\n",
            "0                        0.0                  9  Corporate Auto  Corporate L3   \n",
            "1                        0.0                  1   Personal Auto   Personal L3   \n",
            "2                        0.0                  2   Personal Auto   Personal L3   \n",
            "3                        0.0                  2  Corporate Auto  Corporate L3   \n",
            "4                        NaN                  7   Personal Auto   Personal L2   \n",
            "\n",
            "   Renew Offer Type  Sales Channel  Total Claim Amount  Vehicle Class  \\\n",
            "0            Offer3          Agent          292.800000  Four-Door Car   \n",
            "1            Offer4    Call Center          744.924331  Four-Door Car   \n",
            "2            Offer3    Call Center          480.000000            SUV   \n",
            "3            Offer2         Branch          484.013411  Four-Door Car   \n",
            "4            Offer1         Branch          707.925645  Four-Door Car   \n",
            "\n",
            "  Vehicle Size Vehicle Type  \n",
            "0      Medsize          NaN  \n",
            "1      Medsize          NaN  \n",
            "2      Medsize            A  \n",
            "3      Medsize            A  \n",
            "4      Medsize          NaN  \n",
            "\n",
            "[5 rows x 26 columns]\n",
            "       Unnamed: 0 Customer       State  Customer Lifetime Value Response  \\\n",
            "189           189  OK31456  California             11009.130490      Yes   \n",
            "236           236  YJ16163      Oregon             11009.130490      Yes   \n",
            "419           419  GW43195      Oregon             25807.063000      Yes   \n",
            "442           442  IP94270     Arizona             13736.132500      Yes   \n",
            "587           587  FJ28407  California              5619.689084      Yes   \n",
            "...           ...      ...         ...                      ...      ...   \n",
            "10351       10351  FN44127      Oregon              3508.569533      Yes   \n",
            "10373       10373  XZ64172      Oregon             10963.957230      Yes   \n",
            "10487       10487  IX60941      Oregon              3508.569533      Yes   \n",
            "10565       10565  QO62792      Oregon              7840.165778      Yes   \n",
            "10708       10708  CK39096      Oregon              5619.689084      Yes   \n",
            "\n",
            "       Coverage             Education Effective To Date EmploymentStatus  \\\n",
            "189     Premium              Bachelor           1/24/11         Employed   \n",
            "236     Premium              Bachelor           1/24/11         Employed   \n",
            "419    Extended               College           2/13/11         Employed   \n",
            "442     Premium                Master           2/13/11         Disabled   \n",
            "587     Premium  High School or Below           1/26/11       Unemployed   \n",
            "...         ...                   ...               ...              ...   \n",
            "10351  Extended               College            1/5/11    Medical Leave   \n",
            "10373   Premium  High School or Below            2/8/11         Employed   \n",
            "10487  Extended               College            1/5/11    Medical Leave   \n",
            "10565  Extended               College           1/14/11         Employed   \n",
            "10708   Premium  High School or Below           1/26/11       Unemployed   \n",
            "\n",
            "      Gender  ...  Number of Open Complaints Number of Policies  \\\n",
            "189        F  ...                        0.0                  1   \n",
            "236        F  ...                        0.0                  1   \n",
            "419        F  ...                        1.0                  2   \n",
            "442        F  ...                        0.0                  8   \n",
            "587        M  ...                        0.0                  1   \n",
            "...      ...  ...                        ...                ...   \n",
            "10351      M  ...                        1.0                  1   \n",
            "10373      M  ...                        0.0                  1   \n",
            "10487      M  ...                        1.0                  1   \n",
            "10565      M  ...                        2.0                  1   \n",
            "10708      M  ...                        0.0                  1   \n",
            "\n",
            "          Policy Type        Policy  Renew Offer Type  Sales Channel  \\\n",
            "189    Corporate Auto  Corporate L3            Offer2          Agent   \n",
            "236      Special Auto    Special L3            Offer2          Agent   \n",
            "419     Personal Auto   Personal L2            Offer1         Branch   \n",
            "442     Personal Auto   Personal L2            Offer1            Web   \n",
            "587     Personal Auto   Personal L1            Offer2            Web   \n",
            "...               ...           ...               ...            ...   \n",
            "10351   Personal Auto   Personal L2            Offer2         Branch   \n",
            "10373  Corporate Auto  Corporate L2            Offer1          Agent   \n",
            "10487   Personal Auto   Personal L3            Offer2         Branch   \n",
            "10565   Personal Auto   Personal L3            Offer2          Agent   \n",
            "10708   Personal Auto   Personal L3            Offer2            Web   \n",
            "\n",
            "       Total Claim Amount  Vehicle Class Vehicle Size Vehicle Type  \n",
            "189           1358.400000     Luxury Car      Medsize          NaN  \n",
            "236           1358.400000     Luxury Car      Medsize            A  \n",
            "419           1027.200000     Luxury Car        Small            A  \n",
            "442           1261.319869            SUV      Medsize            A  \n",
            "587           1027.000029            SUV      Medsize            A  \n",
            "...                   ...            ...          ...          ...  \n",
            "10351         1176.278800  Four-Door Car        Small          NaN  \n",
            "10373         1324.800000     Luxury SUV      Medsize          NaN  \n",
            "10487         1176.278800  Four-Door Car        Small          NaN  \n",
            "10565         1008.000000            NaN          NaN          NaN  \n",
            "10708         1027.000029            SUV      Medsize            A  \n",
            "\n",
            "[67 rows x 26 columns]\n"
          ]
        }
      ],
      "source": [
        "import pandas as pd\n",
        "\n",
        "# Step 1: Load the dataset\n",
        "url = 'https://raw.githubusercontent.com/data-bootcamp-v4/data/main/marketing_customer_analysis.csv'\n",
        "df = pd.read_csv(url)\n",
        "\n",
        "# Step 2: Inspect the dataset to ensure the necessary columns are present\n",
        "# Display the first few rows of the dataset to verify column names and data types\n",
        "print(df.head())\n",
        "\n",
        "# Step 3: Filter the dataset\n",
        "# Ensure column names are in the correct case (case-sensitive)\n",
        "if 'Total Claim Amount' in df.columns and 'Response' in df.columns:\n",
        "    \n",
        "    # Step 4: Create a new DataFrame with the specified conditions\n",
        "    filtered_df = df[(df['Total Claim Amount'] > 1000) & (df['Response'] == 'Yes')]\n",
        "    \n",
        "    # Display the new DataFrame\n",
        "    print(filtered_df)\n",
        "    \n",
        "else:\n",
        "    print(\"The required columns 'Total Claim Amount' and 'Response' are not present in the dataset.\")\n"
      ]
    },
    {
      "cell_type": "markdown",
      "id": "b9be383e-5165-436e-80c8-57d4c757c8c3",
      "metadata": {
        "id": "b9be383e-5165-436e-80c8-57d4c757c8c3"
      },
      "source": [
        "2. Using the original Dataframe, analyze the average total_claim_amount by each policy type and gender for customers who have responded \"Yes\" to the last marketing campaign. Write your conclusions."
      ]
    },
    {
      "cell_type": "code",
      "execution_count": 26,
      "id": "562f3b23",
      "metadata": {},
      "outputs": [
        {
          "name": "stdout",
          "output_type": "stream",
          "text": [
            "      Policy Type Gender  Total Claim Amount\n",
            "0  Corporate Auto      F              433.74\n",
            "1  Corporate Auto      M              408.58\n",
            "2   Personal Auto      F              452.97\n",
            "3   Personal Auto      M              457.01\n",
            "4    Special Auto      F              453.28\n",
            "5    Special Auto      M              429.53\n"
          ]
        }
      ],
      "source": [
        "# Step 2: Filter the dataset for customers who responded \"Yes\"\n",
        "filtered_df = df[df['Response'] == 'Yes']\n",
        "\n",
        "# Step 3: Group by 'Policy Type' and 'Gender', and calculate the average 'Total Claim Amount'\n",
        "average_claims = filtered_df.groupby(['Policy Type', 'Gender'])['Total Claim Amount'].mean().reset_index()\n",
        "\n",
        "# Step 4: Round the average to 2 decimal places for clarity\n",
        "average_claims['Total Claim Amount'] = average_claims['Total Claim Amount'].round(2)\n",
        "\n",
        "# Display the result\n",
        "print(average_claims)"
      ]
    },
    {
      "cell_type": "markdown",
      "id": "7050f4ac-53c5-4193-a3c0-8699b87196f0",
      "metadata": {
        "id": "7050f4ac-53c5-4193-a3c0-8699b87196f0"
      },
      "source": [
        "3. Analyze the total number of customers who have policies in each state, and then filter the results to only include states where there are more than 500 customers."
      ]
    },
    {
      "cell_type": "code",
      "execution_count": 27,
      "id": "4913d9c7",
      "metadata": {},
      "outputs": [
        {
          "name": "stdout",
          "output_type": "stream",
          "text": [
            "        State  Number_of_Customers\n",
            "0  California                 3552\n",
            "1      Oregon                 2909\n",
            "2     Arizona                 1937\n",
            "3      Nevada                  993\n",
            "4  Washington                  888\n"
          ]
        }
      ],
      "source": [
        "# Step 2: Count the number of customers by state\n",
        "customer_counts = df['State'].value_counts().reset_index()\n",
        "customer_counts.columns = ['State', 'Number_of_Customers']\n",
        "\n",
        "# Step 3: Filter the results to include only states with more than 500 customers\n",
        "filtered_states = customer_counts[customer_counts['Number_of_Customers'] > 500]\n",
        "\n",
        "# Display the result\n",
        "print(filtered_states)"
      ]
    },
    {
      "cell_type": "markdown",
      "id": "b60a4443-a1a7-4bbf-b78e-9ccdf9895e0d",
      "metadata": {
        "id": "b60a4443-a1a7-4bbf-b78e-9ccdf9895e0d"
      },
      "source": [
        "4. Find the maximum, minimum, and median customer lifetime value by education level and gender. Write your conclusions."
      ]
    },
    {
      "cell_type": "code",
      "execution_count": 29,
      "id": "a5263303",
      "metadata": {},
      "outputs": [
        {
          "name": "stdout",
          "output_type": "stream",
          "text": [
            "   Unnamed: 0 Customer       State  Customer Lifetime Value Response  \\\n",
            "0           0  DK49336     Arizona              4809.216960       No   \n",
            "1           1  KX64629  California              2228.525238       No   \n",
            "2           2  LZ68649  Washington             14947.917300       No   \n",
            "3           3  XL78013      Oregon             22332.439460      Yes   \n",
            "4           4  QA50777      Oregon              9025.067525       No   \n",
            "\n",
            "   Coverage Education Effective To Date EmploymentStatus Gender  ...  \\\n",
            "0     Basic   College           2/18/11         Employed      M  ...   \n",
            "1     Basic   College           1/18/11       Unemployed      F  ...   \n",
            "2     Basic  Bachelor           2/10/11         Employed      M  ...   \n",
            "3  Extended   College           1/11/11         Employed      M  ...   \n",
            "4   Premium  Bachelor           1/17/11    Medical Leave      F  ...   \n",
            "\n",
            "   Number of Open Complaints Number of Policies     Policy Type        Policy  \\\n",
            "0                        0.0                  9  Corporate Auto  Corporate L3   \n",
            "1                        0.0                  1   Personal Auto   Personal L3   \n",
            "2                        0.0                  2   Personal Auto   Personal L3   \n",
            "3                        0.0                  2  Corporate Auto  Corporate L3   \n",
            "4                        NaN                  7   Personal Auto   Personal L2   \n",
            "\n",
            "   Renew Offer Type  Sales Channel  Total Claim Amount  Vehicle Class  \\\n",
            "0            Offer3          Agent          292.800000  Four-Door Car   \n",
            "1            Offer4    Call Center          744.924331  Four-Door Car   \n",
            "2            Offer3    Call Center          480.000000            SUV   \n",
            "3            Offer2         Branch          484.013411  Four-Door Car   \n",
            "4            Offer1         Branch          707.925645  Four-Door Car   \n",
            "\n",
            "  Vehicle Size Vehicle Type  \n",
            "0      Medsize          NaN  \n",
            "1      Medsize          NaN  \n",
            "2      Medsize            A  \n",
            "3      Medsize            A  \n",
            "4      Medsize          NaN  \n",
            "\n",
            "[5 rows x 26 columns]\n",
            "              Education Gender      Max_CLV      Min_CLV   Median_CLV\n",
            "0              Bachelor      F  73225.95652  1904.000852  5640.505303\n",
            "1              Bachelor      M  67907.27050  1898.007675  5548.031892\n",
            "2               College      F  61850.18803  1898.683686  5623.611187\n",
            "3               College      M  61134.68307  1918.119700  6005.847375\n",
            "4                Doctor      F  44856.11397  2395.570000  5332.462694\n",
            "5                Doctor      M  32677.34284  2267.604038  5577.669457\n",
            "6  High School or Below      F  55277.44589  2144.921535  6039.553187\n",
            "7  High School or Below      M  83325.38119  1940.981221  6286.731006\n",
            "8                Master      F  51016.06704  2417.777032  5729.855012\n",
            "9                Master      M  50568.25912  2272.307310  5579.099207\n"
          ]
        }
      ],
      "source": [
        "# Step 2: Ensure the necessary columns are present\n",
        "# Display the first few rows to verify column names\n",
        "print(df.head())\n",
        "\n",
        "# Step 3: Group by 'Education' and 'Gender', and calculate max, min, and median 'Customer Lifetime Value'\n",
        "# Ensure column names are in the correct case (case-sensitive)\n",
        "if 'Education' in df.columns and 'Gender' in df.columns and 'Customer Lifetime Value' in df.columns:\n",
        "    \n",
        "    # Group by 'Education' and 'Gender'\n",
        "    grouped = df.groupby(['Education', 'Gender'])['Customer Lifetime Value']\n",
        "    \n",
        "    # Calculate max, min, and median\n",
        "    stats = grouped.agg(['max', 'min', 'median']).reset_index()\n",
        "    \n",
        "    # Rename columns for clarity\n",
        "    stats.columns = ['Education', 'Gender', 'Max_CLV', 'Min_CLV', 'Median_CLV']\n",
        "    \n",
        "    # Display the results\n",
        "    print(stats)\n",
        "    \n",
        "else:\n",
        "    print(\"The required columns 'Education', 'Gender', and 'Customer Lifetime Value' are not present in the dataset.\")"
      ]
    },
    {
      "cell_type": "markdown",
      "id": "b42999f9-311f-481e-ae63-40a5577072c5",
      "metadata": {
        "id": "b42999f9-311f-481e-ae63-40a5577072c5"
      },
      "source": [
        "## Bonus"
      ]
    },
    {
      "cell_type": "markdown",
      "id": "81ff02c5-6584-4f21-a358-b918697c6432",
      "metadata": {
        "id": "81ff02c5-6584-4f21-a358-b918697c6432"
      },
      "source": [
        "5. The marketing team wants to analyze the number of policies sold by state and month. Present the data in a table where the months are arranged as columns and the states are arranged as rows."
      ]
    },
    {
      "cell_type": "code",
      "execution_count": 32,
      "id": "d064be06",
      "metadata": {},
      "outputs": [
        {
          "name": "stdout",
          "output_type": "stream",
          "text": [
            "Sales Channel    Agent  Branch  Call Center     Web\n",
            "Policy Type                                        \n",
            "Corporate Auto   885.0   646.0        467.0   343.0\n",
            "Personal Auto   3064.0  2247.0       1611.0  1206.0\n",
            "Special Auto     172.0   129.0         63.0    77.0\n"
          ]
        }
      ],
      "source": [
        "import pandas as pd\n",
        "\n",
        "# Cargar el dataset\n",
        "url = 'https://raw.githubusercontent.com/data-bootcamp-v4/data/main/marketing_customer_analysis.csv'\n",
        "df = pd.read_csv(url)\n",
        "\n",
        "# Agrupar por 'Policy Type' y 'Sales Channel' y contar el número de pólizas\n",
        "policy_counts = df.groupby(['Policy Type', 'Sales Channel']).size().reset_index(name='Number_of_Policies')\n",
        "\n",
        "# Pivotar los datos para tener los canales de ventas como columnas y los tipos de pólizas como filas\n",
        "pivot_table = policy_counts.pivot_table(index='Policy Type', columns='Sales Channel', values='Number_of_Policies', fill_value=0)\n",
        "\n",
        "# Mostrar el resultado\n",
        "print(pivot_table)\n",
        "\n"
      ]
    },
    {
      "cell_type": "markdown",
      "id": "b6aec097-c633-4017-a125-e77a97259cda",
      "metadata": {
        "id": "b6aec097-c633-4017-a125-e77a97259cda"
      },
      "source": [
        "6.  Display a new DataFrame that contains the number of policies sold by month, by state, for the top 3 states with the highest number of policies sold.\n",
        "\n",
        "*Hint:*\n",
        "- *To accomplish this, you will first need to group the data by state and month, then count the number of policies sold for each group. Afterwards, you will need to sort the data by the count of policies sold in descending order.*\n",
        "- *Next, you will select the top 3 states with the highest number of policies sold.*\n",
        "- *Finally, you will create a new DataFrame that contains the number of policies sold by month for each of the top 3 states.*"
      ]
    },
    {
      "cell_type": "code",
      "execution_count": 33,
      "id": "09b0b4b1",
      "metadata": {},
      "outputs": [
        {
          "name": "stdout",
          "output_type": "stream",
          "text": [
            "Sales Channel    Agent  Branch  Call Center     Web\n",
            "Policy Type                                        \n",
            "Corporate Auto   885.0   646.0        467.0   343.0\n",
            "Personal Auto   3064.0  2247.0       1611.0  1206.0\n",
            "Special Auto     172.0   129.0         63.0    77.0\n"
          ]
        }
      ],
      "source": [
        "# Contar el número de pólizas por tipo de póliza\n",
        "total_policies_by_type = df.groupby('Policy Type').size().reset_index(name='Number_of_Policies')\n",
        "\n",
        "# Encontrar los 3 tipos de pólizas con el mayor número de pólizas vendidas\n",
        "top_policies = total_policies_by_type.sort_values(by='Number_of_Policies', ascending=False).head(3)['Policy Type']\n",
        "\n",
        "# Filtrar los datos para estos 3 tipos de pólizas\n",
        "top_policies_counts = df[df['Policy Type'].isin(top_policies)]\n",
        "\n",
        "# Contar el número de pólizas vendidas por tipo de póliza y canal de ventas para los 3 tipos principales\n",
        "top_policies_counts_summary = top_policies_counts.groupby(['Policy Type', 'Sales Channel']).size().reset_index(name='Number_of_Policies')\n",
        "\n",
        "# Pivotar los datos para tener los canales de ventas como columnas y los tipos de pólizas como filas\n",
        "top_policies_pivot = top_policies_counts_summary.pivot_table(index='Policy Type', columns='Sales Channel', values='Number_of_Policies', fill_value=0)\n",
        "\n",
        "# Mostrar el resultado\n",
        "print(top_policies_pivot)\n",
        "\n"
      ]
    },
    {
      "cell_type": "markdown",
      "id": "ba975b8a-a2cf-4fbf-9f59-ebc381767009",
      "metadata": {
        "id": "ba975b8a-a2cf-4fbf-9f59-ebc381767009"
      },
      "source": [
        "7. The marketing team wants to analyze the effect of different marketing channels on the customer response rate.\n",
        "\n",
        "Hint: You can use melt to unpivot the data and create a table that shows the customer response rate (those who responded \"Yes\") by marketing channel."
      ]
    },
    {
      "cell_type": "markdown",
      "id": "e4378d94-48fb-4850-a802-b1bc8f427b2d",
      "metadata": {
        "id": "e4378d94-48fb-4850-a802-b1bc8f427b2d"
      },
      "source": [
        "External Resources for Data Filtering: https://towardsdatascience.com/filtering-data-frames-in-pandas-b570b1f834b9"
      ]
    },
    {
      "cell_type": "code",
      "execution_count": 34,
      "id": "449513f4-0459-46a0-a18d-9398d974c9ad",
      "metadata": {
        "id": "449513f4-0459-46a0-a18d-9398d974c9ad"
      },
      "outputs": [
        {
          "name": "stdout",
          "output_type": "stream",
          "text": [
            "  Marketing_Channel  Response_Rate\n",
            "0     Sales Channel       0.134372\n"
          ]
        }
      ],
      "source": [
        "# Supongamos que tienes una columna de respuesta llamada 'Response' y deseas analizar la tasa de respuesta\n",
        "# Primero, verifica si tienes la columna de respuesta\n",
        "if 'Response' in df.columns:\n",
        "    # Melt the dataframe to unpivot marketing channels\n",
        "    marketing_channels = ['Sales Channel']  # Ajustar según las columnas reales disponibles\n",
        "\n",
        "    melted_df = df.melt(id_vars=['Response'], value_vars=marketing_channels, var_name='Marketing_Channel', value_name='Channel_Value')\n",
        "\n",
        "    # Filtrar respuestas 'Yes'\n",
        "    response_df = melted_df[melted_df['Response'] == 'Yes']\n",
        "\n",
        "    # Calcular la tasa de respuesta para cada canal de ventas\n",
        "    response_rate = response_df.groupby('Marketing_Channel').size() / melted_df.groupby('Marketing_Channel').size()\n",
        "\n",
        "    # Convertir a DataFrame para mayor claridad\n",
        "    response_rate_df = response_rate.reset_index(name='Response_Rate')\n",
        "\n",
        "    # Mostrar el resultado\n",
        "    print(response_rate_df)\n",
        "else:\n",
        "    print(\"No se encontró una columna de respuesta en el dataset.\")\n"
      ]
    }
  ],
  "metadata": {
    "colab": {
      "provenance": []
    },
    "kernelspec": {
      "display_name": "Python 3 (ipykernel)",
      "language": "python",
      "name": "python3"
    },
    "language_info": {
      "codemirror_mode": {
        "name": "ipython",
        "version": 3
      },
      "file_extension": ".py",
      "mimetype": "text/x-python",
      "name": "python",
      "nbconvert_exporter": "python",
      "pygments_lexer": "ipython3",
      "version": "3.11.7"
    }
  },
  "nbformat": 4,
  "nbformat_minor": 5
}
