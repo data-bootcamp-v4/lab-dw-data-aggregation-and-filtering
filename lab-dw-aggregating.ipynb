{
  "cells": [
    {
      "cell_type": "markdown",
      "id": "31969215-2a90-4d8b-ac36-646a7ae13744",
      "metadata": {
        "id": "31969215-2a90-4d8b-ac36-646a7ae13744"
      },
      "source": [
        "# Lab | Data Aggregation and Filtering"
      ]
    },
    {
      "cell_type": "markdown",
      "id": "a8f08a52-bec0-439b-99cc-11d3809d8b5d",
      "metadata": {
        "id": "a8f08a52-bec0-439b-99cc-11d3809d8b5d"
      },
      "source": [
        "In this challenge, we will continue to work with customer data from an insurance company. We will use the dataset called marketing_customer_analysis.csv, which can be found at the following link:\n",
        "\n",
        "https://raw.githubusercontent.com/data-bootcamp-v4/data/main/marketing_customer_analysis.csv\n",
        "\n",
        "This dataset contains information such as customer demographics, policy details, vehicle information, and the customer's response to the last marketing campaign. Our goal is to explore and analyze this data by first performing data cleaning, formatting, and structuring."
      ]
    },
    {
      "cell_type": "markdown",
      "id": "9c98ddc5-b041-4c94-ada1-4dfee5c98e50",
      "metadata": {
        "id": "9c98ddc5-b041-4c94-ada1-4dfee5c98e50"
      },
      "source": [
        "1. Create a new DataFrame that only includes customers who have a total_claim_amount greater than $1,000 and have a response of \"Yes\" to the last marketing campaign."
      ]
    },
    {
      "cell_type": "code",
      "execution_count": 13,
      "id": "a754f0e5",
      "metadata": {},
      "outputs": [
        {
          "data": {
            "text/plain": [
              "Response\n",
              "Yes    67\n",
              "Name: count, dtype: int64"
            ]
          },
          "execution_count": 13,
          "metadata": {},
          "output_type": "execute_result"
        }
      ],
      "source": [
        "import numpy as np\n",
        "import pandas as pd\n",
        "\n",
        "url = \"https://raw.githubusercontent.com/data-bootcamp-v4/data/main/marketing_customer_analysis.csv\"\n",
        "df = pd.read_csv(url)\n",
        "\n",
        "list(df.columns)\n",
        "\n",
        "# Start by creating a subset for the marketing\n",
        "marketing_df = df[df['Response'] == 'Yes']\n",
        "\n",
        "# Then make a subset out of that one for the total claim amounts\n",
        "sub_df = marketing_df[marketing_df['Total Claim Amount'] > 1000]\n",
        "\n",
        "# Shows that the only responses are yes, meaning it worked. \n",
        "sub_df['Response'].value_counts()\n"
      ]
    },
    {
      "cell_type": "code",
      "execution_count": 15,
      "id": "8cff252c",
      "metadata": {},
      "outputs": [
        {
          "data": {
            "text/plain": [
              "Response\n",
              "Yes    67\n",
              "Name: count, dtype: int64"
            ]
          },
          "execution_count": 15,
          "metadata": {},
          "output_type": "execute_result"
        }
      ],
      "source": [
        "# Check that it worked properly\n",
        "\n",
        "# Start by making a subset for high claims\n",
        "highclaims_df = df[df['Total Claim Amount'] > 1000]\n",
        "\n",
        "# Take a subset out of that one for yes responses\n",
        "sub_df =  highclaims_df[highclaims_df['Response'] == 'Yes']\n",
        "\n",
        "# Shows that the only responses are yes, meaning it worked.\n",
        "sub_df['Response'].value_counts()"
      ]
    },
    {
      "cell_type": "markdown",
      "id": "b9be383e-5165-436e-80c8-57d4c757c8c3",
      "metadata": {
        "id": "b9be383e-5165-436e-80c8-57d4c757c8c3"
      },
      "source": [
        "2. Using the original Dataframe, analyze the average total_claim_amount by each policy type and gender for customers who have responded \"Yes\" to the last marketing campaign. Write your conclusions."
      ]
    },
    {
      "cell_type": "code",
      "execution_count": 22,
      "id": "5dad54cb",
      "metadata": {},
      "outputs": [
        {
          "data": {
            "text/html": [
              "<div>\n",
              "<style scoped>\n",
              "    .dataframe tbody tr th:only-of-type {\n",
              "        vertical-align: middle;\n",
              "    }\n",
              "\n",
              "    .dataframe tbody tr th {\n",
              "        vertical-align: top;\n",
              "    }\n",
              "\n",
              "    .dataframe thead th {\n",
              "        text-align: right;\n",
              "    }\n",
              "</style>\n",
              "<table border=\"1\" class=\"dataframe\">\n",
              "  <thead>\n",
              "    <tr style=\"text-align: right;\">\n",
              "      <th>Policy Type</th>\n",
              "      <th>Corporate Auto</th>\n",
              "      <th>Personal Auto</th>\n",
              "      <th>Special Auto</th>\n",
              "    </tr>\n",
              "    <tr>\n",
              "      <th>Gender</th>\n",
              "      <th></th>\n",
              "      <th></th>\n",
              "      <th></th>\n",
              "    </tr>\n",
              "  </thead>\n",
              "  <tbody>\n",
              "    <tr>\n",
              "      <th>F</th>\n",
              "      <td>433.738499</td>\n",
              "      <td>452.965929</td>\n",
              "      <td>453.280164</td>\n",
              "    </tr>\n",
              "    <tr>\n",
              "      <th>M</th>\n",
              "      <td>408.582459</td>\n",
              "      <td>457.010178</td>\n",
              "      <td>429.527942</td>\n",
              "    </tr>\n",
              "  </tbody>\n",
              "</table>\n",
              "</div>"
            ],
            "text/plain": [
              "Policy Type  Corporate Auto  Personal Auto  Special Auto\n",
              "Gender                                                  \n",
              "F                433.738499     452.965929    453.280164\n",
              "M                408.582459     457.010178    429.527942"
            ]
          },
          "execution_count": 22,
          "metadata": {},
          "output_type": "execute_result"
        }
      ],
      "source": [
        "# Filter out only yes responses from the original dataframe\n",
        "yes_df = df[df['Response'] == 'Yes']\n",
        "\n",
        "# Set up pivot table\n",
        "pivot_df = yes_df.pivot_table(index = \"Gender\", columns = \"Policy Type\", values = 'Total Claim Amount', aggfunc='mean')\n",
        "pivot_df\n",
        "\n",
        "# Insight: There seems to be virtually no difference between males and females in the average claim amounts under any type of policy.\n",
        "# This suggests that men and women who respond yes to our marketing campaigns seem to make claims of about the same amount. \n",
        "# So, in order to market better, we could use a commercial campaign targeting both genders that essentially says, \n",
        "# \"Our data shows that you're actually no better a driver than she is - sign up and prove us wrong,\" or,\n",
        "# \"He thinks he's so much better a driver than you. We know better, and so do you.\""
      ]
    },
    {
      "cell_type": "markdown",
      "id": "7050f4ac-53c5-4193-a3c0-8699b87196f0",
      "metadata": {
        "id": "7050f4ac-53c5-4193-a3c0-8699b87196f0"
      },
      "source": [
        "3. Analyze the total number of customers who have policies in each state, and then filter the results to only include states where there are more than 500 customers."
      ]
    },
    {
      "cell_type": "code",
      "execution_count": 40,
      "id": "abe757fc",
      "metadata": {},
      "outputs": [
        {
          "name": "stdout",
          "output_type": "stream",
          "text": [
            "State\n",
            "California    3552\n",
            "Oregon        2909\n",
            "Arizona       1937\n",
            "Nevada         993\n",
            "Washington     888\n",
            "Name: count, dtype: int64\n"
          ]
        },
        {
          "data": {
            "text/html": [
              "<div>\n",
              "<style scoped>\n",
              "    .dataframe tbody tr th:only-of-type {\n",
              "        vertical-align: middle;\n",
              "    }\n",
              "\n",
              "    .dataframe tbody tr th {\n",
              "        vertical-align: top;\n",
              "    }\n",
              "\n",
              "    .dataframe thead th {\n",
              "        text-align: right;\n",
              "    }\n",
              "</style>\n",
              "<table border=\"1\" class=\"dataframe\">\n",
              "  <thead>\n",
              "    <tr style=\"text-align: right;\">\n",
              "      <th>Policy Type</th>\n",
              "      <th>Corporate Auto</th>\n",
              "      <th>Personal Auto</th>\n",
              "      <th>Special Auto</th>\n",
              "    </tr>\n",
              "    <tr>\n",
              "      <th>State</th>\n",
              "      <th></th>\n",
              "      <th></th>\n",
              "      <th></th>\n",
              "    </tr>\n",
              "  </thead>\n",
              "  <tbody>\n",
              "    <tr>\n",
              "      <th>Arizona</th>\n",
              "      <td>381</td>\n",
              "      <td>1469</td>\n",
              "      <td>87</td>\n",
              "    </tr>\n",
              "    <tr>\n",
              "      <th>California</th>\n",
              "      <td>835</td>\n",
              "      <td>2594</td>\n",
              "      <td>123</td>\n",
              "    </tr>\n",
              "    <tr>\n",
              "      <th>Nevada</th>\n",
              "      <td>219</td>\n",
              "      <td>739</td>\n",
              "      <td>35</td>\n",
              "    </tr>\n",
              "    <tr>\n",
              "      <th>Oregon</th>\n",
              "      <td>592</td>\n",
              "      <td>2180</td>\n",
              "      <td>137</td>\n",
              "    </tr>\n",
              "    <tr>\n",
              "      <th>Washington</th>\n",
              "      <td>175</td>\n",
              "      <td>682</td>\n",
              "      <td>31</td>\n",
              "    </tr>\n",
              "  </tbody>\n",
              "</table>\n",
              "</div>"
            ],
            "text/plain": [
              "Policy Type  Corporate Auto  Personal Auto  Special Auto\n",
              "State                                                   \n",
              "Arizona                 381           1469            87\n",
              "California              835           2594           123\n",
              "Nevada                  219            739            35\n",
              "Oregon                  592           2180           137\n",
              "Washington              175            682            31"
            ]
          },
          "execution_count": 40,
          "metadata": {},
          "output_type": "execute_result"
        }
      ],
      "source": [
        "# Number of Policies per state\n",
        "print(df['State'].value_counts())\n",
        "# Shows that ALL states in list have more than 500 policies/customers\n",
        "\n",
        "# Because all states have more than 500 customers, there is no need for a filter\n",
        "\n",
        "# Creates a pivot table looking at\n",
        "pivot_df = df.pivot_table(index=['State', 'Policy Type'], aggfunc='size').unstack(fill_value=0)\n",
        "pivot_df\n"
      ]
    },
    {
      "cell_type": "markdown",
      "id": "b60a4443-a1a7-4bbf-b78e-9ccdf9895e0d",
      "metadata": {
        "id": "b60a4443-a1a7-4bbf-b78e-9ccdf9895e0d"
      },
      "source": [
        "4. Find the maximum, minimum, and median customer lifetime value by education level and gender. Write your conclusions."
      ]
    },
    {
      "cell_type": "code",
      "execution_count": 42,
      "id": "9dc429f0",
      "metadata": {},
      "outputs": [
        {
          "data": {
            "text/html": [
              "<div>\n",
              "<style scoped>\n",
              "    .dataframe tbody tr th:only-of-type {\n",
              "        vertical-align: middle;\n",
              "    }\n",
              "\n",
              "    .dataframe tbody tr th {\n",
              "        vertical-align: top;\n",
              "    }\n",
              "\n",
              "    .dataframe thead tr th {\n",
              "        text-align: left;\n",
              "    }\n",
              "\n",
              "    .dataframe thead tr:last-of-type th {\n",
              "        text-align: right;\n",
              "    }\n",
              "</style>\n",
              "<table border=\"1\" class=\"dataframe\">\n",
              "  <thead>\n",
              "    <tr>\n",
              "      <th></th>\n",
              "      <th></th>\n",
              "      <th>max</th>\n",
              "      <th>min</th>\n",
              "      <th>median</th>\n",
              "    </tr>\n",
              "    <tr>\n",
              "      <th></th>\n",
              "      <th></th>\n",
              "      <th>Customer Lifetime Value</th>\n",
              "      <th>Customer Lifetime Value</th>\n",
              "      <th>Customer Lifetime Value</th>\n",
              "    </tr>\n",
              "    <tr>\n",
              "      <th>Education</th>\n",
              "      <th>Gender</th>\n",
              "      <th></th>\n",
              "      <th></th>\n",
              "      <th></th>\n",
              "    </tr>\n",
              "  </thead>\n",
              "  <tbody>\n",
              "    <tr>\n",
              "      <th rowspan=\"2\" valign=\"top\">Bachelor</th>\n",
              "      <th>F</th>\n",
              "      <td>73225.95652</td>\n",
              "      <td>1904.000852</td>\n",
              "      <td>5640.505303</td>\n",
              "    </tr>\n",
              "    <tr>\n",
              "      <th>M</th>\n",
              "      <td>67907.27050</td>\n",
              "      <td>1898.007675</td>\n",
              "      <td>5548.031892</td>\n",
              "    </tr>\n",
              "    <tr>\n",
              "      <th rowspan=\"2\" valign=\"top\">College</th>\n",
              "      <th>F</th>\n",
              "      <td>61850.18803</td>\n",
              "      <td>1898.683686</td>\n",
              "      <td>5623.611187</td>\n",
              "    </tr>\n",
              "    <tr>\n",
              "      <th>M</th>\n",
              "      <td>61134.68307</td>\n",
              "      <td>1918.119700</td>\n",
              "      <td>6005.847375</td>\n",
              "    </tr>\n",
              "    <tr>\n",
              "      <th rowspan=\"2\" valign=\"top\">Doctor</th>\n",
              "      <th>F</th>\n",
              "      <td>44856.11397</td>\n",
              "      <td>2395.570000</td>\n",
              "      <td>5332.462694</td>\n",
              "    </tr>\n",
              "    <tr>\n",
              "      <th>M</th>\n",
              "      <td>32677.34284</td>\n",
              "      <td>2267.604038</td>\n",
              "      <td>5577.669457</td>\n",
              "    </tr>\n",
              "    <tr>\n",
              "      <th rowspan=\"2\" valign=\"top\">High School or Below</th>\n",
              "      <th>F</th>\n",
              "      <td>55277.44589</td>\n",
              "      <td>2144.921535</td>\n",
              "      <td>6039.553187</td>\n",
              "    </tr>\n",
              "    <tr>\n",
              "      <th>M</th>\n",
              "      <td>83325.38119</td>\n",
              "      <td>1940.981221</td>\n",
              "      <td>6286.731006</td>\n",
              "    </tr>\n",
              "    <tr>\n",
              "      <th rowspan=\"2\" valign=\"top\">Master</th>\n",
              "      <th>F</th>\n",
              "      <td>51016.06704</td>\n",
              "      <td>2417.777032</td>\n",
              "      <td>5729.855012</td>\n",
              "    </tr>\n",
              "    <tr>\n",
              "      <th>M</th>\n",
              "      <td>50568.25912</td>\n",
              "      <td>2272.307310</td>\n",
              "      <td>5579.099207</td>\n",
              "    </tr>\n",
              "  </tbody>\n",
              "</table>\n",
              "</div>"
            ],
            "text/plain": [
              "                                                max                     min  \\\n",
              "                            Customer Lifetime Value Customer Lifetime Value   \n",
              "Education            Gender                                                   \n",
              "Bachelor             F                  73225.95652             1904.000852   \n",
              "                     M                  67907.27050             1898.007675   \n",
              "College              F                  61850.18803             1898.683686   \n",
              "                     M                  61134.68307             1918.119700   \n",
              "Doctor               F                  44856.11397             2395.570000   \n",
              "                     M                  32677.34284             2267.604038   \n",
              "High School or Below F                  55277.44589             2144.921535   \n",
              "                     M                  83325.38119             1940.981221   \n",
              "Master               F                  51016.06704             2417.777032   \n",
              "                     M                  50568.25912             2272.307310   \n",
              "\n",
              "                                             median  \n",
              "                            Customer Lifetime Value  \n",
              "Education            Gender                          \n",
              "Bachelor             F                  5640.505303  \n",
              "                     M                  5548.031892  \n",
              "College              F                  5623.611187  \n",
              "                     M                  6005.847375  \n",
              "Doctor               F                  5332.462694  \n",
              "                     M                  5577.669457  \n",
              "High School or Below F                  6039.553187  \n",
              "                     M                  6286.731006  \n",
              "Master               F                  5729.855012  \n",
              "                     M                  5579.099207  "
            ]
          },
          "execution_count": 42,
          "metadata": {},
          "output_type": "execute_result"
        }
      ],
      "source": [
        "pivot_df = df.pivot_table(index = ['Education', 'Gender'],\n",
        "                          values= \"Customer Lifetime Value\",\n",
        "                          aggfunc=['max','min','median'])\n",
        "pivot_df\n",
        "\n",
        "# Conclusion 1 - At the level of high school or below, males have at best about the same minimum customer lifetime value as females, but the maxmimum customer lifetime value for females is almost 60% higher than that of males. \n",
        "# Conclusion 2 - Men and women with even some college education have similar customer lifetime value across the board. \n",
        "# Conclusion 3 - Women who get a doctorate degree have a significantly higher customer lifetime value than men with a doctorate degree. \n",
        "# Conclusion 4 - This company expects to get far more lifetime value out of people with less education. This could be because they anticipate receiving monthly premiums more regularly, and likely because they plan to keep...\n",
        "# ... those premiums high for as long as possible, and gradually raise the premiums over time. A customer seen as less educated is seen as more of a risk, and so they are charged more. If they are young, they will likely...\n",
        "# ... be around longer than those who are older and more educated."
      ]
    },
    {
      "cell_type": "markdown",
      "id": "b42999f9-311f-481e-ae63-40a5577072c5",
      "metadata": {
        "id": "b42999f9-311f-481e-ae63-40a5577072c5"
      },
      "source": [
        "## Bonus"
      ]
    },
    {
      "cell_type": "markdown",
      "id": "81ff02c5-6584-4f21-a358-b918697c6432",
      "metadata": {
        "id": "81ff02c5-6584-4f21-a358-b918697c6432"
      },
      "source": [
        "5. The marketing team wants to analyze the number of policies sold by state and month. Present the data in a table where the months are arranged as columns and the states are arranged as rows."
      ]
    },
    {
      "cell_type": "markdown",
      "id": "b6aec097-c633-4017-a125-e77a97259cda",
      "metadata": {
        "id": "b6aec097-c633-4017-a125-e77a97259cda"
      },
      "source": [
        "6.  Display a new DataFrame that contains the number of policies sold by month, by state, for the top 3 states with the highest number of policies sold.\n",
        "\n",
        "*Hint:*\n",
        "- *To accomplish this, you will first need to group the data by state and month, then count the number of policies sold for each group. Afterwards, you will need to sort the data by the count of policies sold in descending order.*\n",
        "- *Next, you will select the top 3 states with the highest number of policies sold.*\n",
        "- *Finally, you will create a new DataFrame that contains the number of policies sold by month for each of the top 3 states.*"
      ]
    },
    {
      "cell_type": "markdown",
      "id": "ba975b8a-a2cf-4fbf-9f59-ebc381767009",
      "metadata": {
        "id": "ba975b8a-a2cf-4fbf-9f59-ebc381767009"
      },
      "source": [
        "7. The marketing team wants to analyze the effect of different marketing channels on the customer response rate.\n",
        "\n",
        "Hint: You can use melt to unpivot the data and create a table that shows the customer response rate (those who responded \"Yes\") by marketing channel."
      ]
    },
    {
      "cell_type": "markdown",
      "id": "e4378d94-48fb-4850-a802-b1bc8f427b2d",
      "metadata": {
        "id": "e4378d94-48fb-4850-a802-b1bc8f427b2d"
      },
      "source": [
        "External Resources for Data Filtering: https://towardsdatascience.com/filtering-data-frames-in-pandas-b570b1f834b9"
      ]
    },
    {
      "cell_type": "code",
      "execution_count": null,
      "id": "449513f4-0459-46a0-a18d-9398d974c9ad",
      "metadata": {
        "id": "449513f4-0459-46a0-a18d-9398d974c9ad"
      },
      "outputs": [],
      "source": [
        "# your code goes here"
      ]
    }
  ],
  "metadata": {
    "colab": {
      "provenance": []
    },
    "kernelspec": {
      "display_name": "Python 3 (ipykernel)",
      "language": "python",
      "name": "python3"
    },
    "language_info": {
      "codemirror_mode": {
        "name": "ipython",
        "version": 3
      },
      "file_extension": ".py",
      "mimetype": "text/x-python",
      "name": "python",
      "nbconvert_exporter": "python",
      "pygments_lexer": "ipython3",
      "version": "3.11.7"
    }
  },
  "nbformat": 4,
  "nbformat_minor": 5
}
