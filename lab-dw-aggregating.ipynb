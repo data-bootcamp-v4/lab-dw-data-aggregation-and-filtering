{
  "cells": [
    {
      "cell_type": "markdown",
      "id": "31969215-2a90-4d8b-ac36-646a7ae13744",
      "metadata": {
        "id": "31969215-2a90-4d8b-ac36-646a7ae13744"
      },
      "source": [
        "# Lab | Data Aggregation and Filtering"
      ]
    },
    {
      "cell_type": "markdown",
      "id": "a8f08a52-bec0-439b-99cc-11d3809d8b5d",
      "metadata": {
        "id": "a8f08a52-bec0-439b-99cc-11d3809d8b5d"
      },
      "source": [
        "In this challenge, we will continue to work with customer data from an insurance company. We will use the dataset called marketing_customer_analysis.csv, which can be found at the following link:\n",
        "\n",
        "https://raw.githubusercontent.com/data-bootcamp-v4/data/main/marketing_customer_analysis.csv\n",
        "\n",
        "This dataset contains information such as customer demographics, policy details, vehicle information, and the customer's response to the last marketing campaign. Our goal is to explore and analyze this data by first performing data cleaning, formatting, and structuring."
      ]
    },
    {
      "cell_type": "markdown",
      "id": "9c98ddc5-b041-4c94-ada1-4dfee5c98e50",
      "metadata": {
        "id": "9c98ddc5-b041-4c94-ada1-4dfee5c98e50"
      },
      "source": [
        "1. Create a new DataFrame that only includes customers who have a total_claim_amount greater than $1,000 and have a response of \"Yes\" to the last marketing campaign."
      ]
    },
    {
      "cell_type": "markdown",
      "id": "b9be383e-5165-436e-80c8-57d4c757c8c3",
      "metadata": {
        "id": "b9be383e-5165-436e-80c8-57d4c757c8c3"
      },
      "source": [
        "2. Using the original Dataframe, analyze the average total_claim_amount by each policy type and gender for customers who have responded \"Yes\" to the last marketing campaign. Write your conclusions."
      ]
    },
    {
      "cell_type": "markdown",
      "id": "7050f4ac-53c5-4193-a3c0-8699b87196f0",
      "metadata": {
        "id": "7050f4ac-53c5-4193-a3c0-8699b87196f0"
      },
      "source": [
        "3. Analyze the total number of customers who have policies in each state, and then filter the results to only include states where there are more than 500 customers."
      ]
    },
    {
      "cell_type": "markdown",
      "id": "b60a4443-a1a7-4bbf-b78e-9ccdf9895e0d",
      "metadata": {
        "id": "b60a4443-a1a7-4bbf-b78e-9ccdf9895e0d"
      },
      "source": [
        "4. Find the maximum, minimum, and median customer lifetime value by education level and gender. Write your conclusions."
      ]
    },
    {
      "cell_type": "code",
      "execution_count": 8,
      "id": "5da7f520",
      "metadata": {},
      "outputs": [],
      "source": [
        "import pandas as pd\n",
        "\n",
        "# Cargar el conjunto de datos desde el enlace proporcionado\n",
        "url = \"https://raw.githubusercontent.com/data-bootcamp-v4/data/main/marketing_customer_analysis.csv\"\n",
        "df = pd.read_csv(url)"
      ]
    },
    {
      "cell_type": "code",
      "execution_count": 9,
      "id": "ffae6a04",
      "metadata": {},
      "outputs": [],
      "source": [
        "# Filtrar clientes con total_claim_amount mayor que 1000 y respuesta \"Yes\"\n",
        "filtered_df = df[(df['Total Claim Amount'] > 1000) & (df['Response'] == 'Yes')]\n"
      ]
    },
    {
      "cell_type": "code",
      "execution_count": 10,
      "id": "e93220ef",
      "metadata": {},
      "outputs": [
        {
          "name": "stdout",
          "output_type": "stream",
          "text": [
            "      Policy Type Gender  Total Claim Amount\n",
            "0  Corporate Auto      F          433.738499\n",
            "1  Corporate Auto      M          408.582459\n",
            "2   Personal Auto      F          452.965929\n",
            "3   Personal Auto      M          457.010178\n",
            "4    Special Auto      F          453.280164\n",
            "5    Special Auto      M          429.527942\n"
          ]
        }
      ],
      "source": [
        "# Filtrar el DataFrame original para clientes que respondieron \"Yes\"\n",
        "df_yes = df[df['Response'] == 'Yes']\n",
        "\n",
        "# Calcular el promedio de total_claim_amount por Policy Type y Gender\n",
        "average_claim_by_policy_gender = df_yes.groupby(['Policy Type', 'Gender'])['Total Claim Amount'].mean().reset_index()\n",
        "print(average_claim_by_policy_gender)\n"
      ]
    },
    {
      "cell_type": "code",
      "execution_count": 11,
      "id": "be2986b4",
      "metadata": {},
      "outputs": [
        {
          "name": "stdout",
          "output_type": "stream",
          "text": [
            "        State  Customer Count\n",
            "0  California            3552\n",
            "1      Oregon            2909\n",
            "2     Arizona            1937\n",
            "3      Nevada             993\n",
            "4  Washington             888\n"
          ]
        }
      ],
      "source": [
        "# Contar el número total de clientes por estado\n",
        "customers_per_state = df['State'].value_counts().reset_index()\n",
        "customers_per_state.columns = ['State', 'Customer Count']\n",
        "\n",
        "# Filtrar estados con más de 500 clientes\n",
        "filtered_states = customers_per_state[customers_per_state['Customer Count'] > 500]\n",
        "print(filtered_states)\n"
      ]
    },
    {
      "cell_type": "code",
      "execution_count": 12,
      "id": "515b872e",
      "metadata": {},
      "outputs": [
        {
          "name": "stdout",
          "output_type": "stream",
          "text": [
            "              Education Gender          max          min       median\n",
            "0              Bachelor      F  73225.95652  1904.000852  5640.505303\n",
            "1              Bachelor      M  67907.27050  1898.007675  5548.031892\n",
            "2               College      F  61850.18803  1898.683686  5623.611187\n",
            "3               College      M  61134.68307  1918.119700  6005.847375\n",
            "4                Doctor      F  44856.11397  2395.570000  5332.462694\n",
            "5                Doctor      M  32677.34284  2267.604038  5577.669457\n",
            "6  High School or Below      F  55277.44589  2144.921535  6039.553187\n",
            "7  High School or Below      M  83325.38119  1940.981221  6286.731006\n",
            "8                Master      F  51016.06704  2417.777032  5729.855012\n",
            "9                Master      M  50568.25912  2272.307310  5579.099207\n"
          ]
        }
      ],
      "source": [
        "# Agrupar por Education y Gender, y calcular los valores máximo, mínimo y mediano del Customer Lifetime Value\n",
        "clv_stats = df.groupby(['Education', 'Gender'])['Customer Lifetime Value'].agg(['max', 'min', 'median']).reset_index()\n",
        "print(clv_stats)\n"
      ]
    },
    {
      "cell_type": "code",
      "execution_count": null,
      "id": "e5a1a91c",
      "metadata": {},
      "outputs": [],
      "source": []
    },
    {
      "cell_type": "markdown",
      "id": "b42999f9-311f-481e-ae63-40a5577072c5",
      "metadata": {
        "id": "b42999f9-311f-481e-ae63-40a5577072c5"
      },
      "source": [
        "## Bonus"
      ]
    },
    {
      "cell_type": "markdown",
      "id": "81ff02c5-6584-4f21-a358-b918697c6432",
      "metadata": {
        "id": "81ff02c5-6584-4f21-a358-b918697c6432"
      },
      "source": [
        "5. The marketing team wants to analyze the number of policies sold by state and month. Present the data in a table where the months are arranged as columns and the states are arranged as rows."
      ]
    },
    {
      "cell_type": "markdown",
      "id": "b6aec097-c633-4017-a125-e77a97259cda",
      "metadata": {
        "id": "b6aec097-c633-4017-a125-e77a97259cda"
      },
      "source": [
        "6.  Display a new DataFrame that contains the number of policies sold by month, by state, for the top 3 states with the highest number of policies sold.\n",
        "\n",
        "*Hint:*\n",
        "- *To accomplish this, you will first need to group the data by state and month, then count the number of policies sold for each group. Afterwards, you will need to sort the data by the count of policies sold in descending order.*\n",
        "- *Next, you will select the top 3 states with the highest number of policies sold.*\n",
        "- *Finally, you will create a new DataFrame that contains the number of policies sold by month for each of the top 3 states.*"
      ]
    },
    {
      "cell_type": "markdown",
      "id": "ba975b8a-a2cf-4fbf-9f59-ebc381767009",
      "metadata": {
        "id": "ba975b8a-a2cf-4fbf-9f59-ebc381767009"
      },
      "source": [
        "7. The marketing team wants to analyze the effect of different marketing channels on the customer response rate.\n",
        "\n",
        "Hint: You can use melt to unpivot the data and create a table that shows the customer response rate (those who responded \"Yes\") by marketing channel."
      ]
    },
    {
      "cell_type": "markdown",
      "id": "e4378d94-48fb-4850-a802-b1bc8f427b2d",
      "metadata": {
        "id": "e4378d94-48fb-4850-a802-b1bc8f427b2d"
      },
      "source": [
        "External Resources for Data Filtering: https://towardsdatascience.com/filtering-data-frames-in-pandas-b570b1f834b9"
      ]
    },
    {
      "cell_type": "code",
      "execution_count": 13,
      "id": "449513f4-0459-46a0-a18d-9398d974c9ad",
      "metadata": {
        "id": "449513f4-0459-46a0-a18d-9398d974c9ad"
      },
      "outputs": [
        {
          "name": "stderr",
          "output_type": "stream",
          "text": [
            "C:\\Users\\Usuario\\AppData\\Local\\Temp\\ipykernel_66092\\1133201991.py:8: UserWarning: Could not infer format, so each element will be parsed individually, falling back to `dateutil`. To ensure parsing is consistent and as-expected, please specify a format.\n",
            "  df['Effective To Date'] = pd.to_datetime(df['Effective To Date'])\n"
          ]
        }
      ],
      "source": [
        "import pandas as pd\n",
        "\n",
        "# Load the dataset\n",
        "url = \"https://raw.githubusercontent.com/data-bootcamp-v4/data/main/marketing_customer_analysis.csv\"\n",
        "df = pd.read_csv(url)\n",
        "\n",
        "# Convert the 'Effective To Date' to a datetime format\n",
        "df['Effective To Date'] = pd.to_datetime(df['Effective To Date'])\n",
        "\n",
        "# Extract the month from 'Effective To Date'\n",
        "df['Month'] = df['Effective To Date'].dt.month\n"
      ]
    },
    {
      "cell_type": "code",
      "execution_count": 14,
      "id": "6192ded2",
      "metadata": {},
      "outputs": [
        {
          "name": "stdout",
          "output_type": "stream",
          "text": [
            "Month          1     2\n",
            "State                 \n",
            "Arizona     1008   929\n",
            "California  1918  1634\n",
            "Nevada       551   442\n",
            "Oregon      1565  1344\n",
            "Washington   463   425\n"
          ]
        }
      ],
      "source": [
        "# Group by State and Month and count the number of policies sold\n",
        "policies_sold = df.groupby(['State', 'Month']).size().reset_index(name='Policies Sold')\n",
        "\n",
        "# Pivot the table to arrange the months as columns and states as rows\n",
        "pivot_table = policies_sold.pivot(index='State', columns='Month', values='Policies Sold').fillna(0)\n",
        "print(pivot_table)\n"
      ]
    },
    {
      "cell_type": "code",
      "execution_count": 15,
      "id": "ba801497",
      "metadata": {},
      "outputs": [
        {
          "name": "stdout",
          "output_type": "stream",
          "text": [
            "Month          1     2\n",
            "State                 \n",
            "California  1918  1634\n",
            "Oregon      1565  1344\n",
            "Arizona     1008   929\n"
          ]
        }
      ],
      "source": [
        "# Sum the total number of policies sold by state\n",
        "state_totals = policies_sold.groupby('State')['Policies Sold'].sum().reset_index()\n",
        "\n",
        "# Sort by the number of policies sold in descending order\n",
        "top_states = state_totals.sort_values(by='Policies Sold', ascending=False).head(3)['State']\n",
        "\n",
        "# Filter the pivot table to only include the top 3 states\n",
        "top_states_pivot = pivot_table.loc[top_states]\n",
        "print(top_states_pivot)\n"
      ]
    },
    {
      "cell_type": "code",
      "execution_count": 16,
      "id": "a5d6d5e7",
      "metadata": {},
      "outputs": [
        {
          "name": "stdout",
          "output_type": "stream",
          "text": [
            "          Channel  Response Count  Response Rate\n",
            "0           Agent             742       0.506139\n",
            "1          Branch             326       0.222374\n",
            "2     Call Center             221       0.150750\n",
            "3    Corporate L1              53       0.036153\n",
            "4    Corporate L2              97       0.066166\n",
            "5    Corporate L3             173       0.118008\n",
            "6        Disabled              83       0.056617\n",
            "7        Employed             850       0.579809\n",
            "8   Medical Leave              86       0.058663\n",
            "9          Offer1             665       0.453615\n",
            "10         Offer2             769       0.524557\n",
            "11         Offer3              32       0.021828\n",
            "12    Personal L1             207       0.141201\n",
            "13    Personal L2             344       0.234652\n",
            "14    Personal L3             525       0.358117\n",
            "15        Retired             221       0.150750\n",
            "16     Special L1              13       0.008868\n",
            "17     Special L2              20       0.013643\n",
            "18     Special L3              34       0.023192\n",
            "19     Unemployed             226       0.154161\n",
            "20            Web             177       0.120737\n"
          ]
        }
      ],
      "source": [
        "# Selecting relevant columns for analysis\n",
        "marketing_channels = ['Response', 'Sales Channel', 'Policy', 'Renew Offer Type', 'EmploymentStatus']\n",
        "\n",
        "# Filter customers who responded \"Yes\"\n",
        "df_yes = df[df['Response'] == 'Yes']\n",
        "\n",
        "# Use melt to unpivot the data\n",
        "melted_df = df_yes.melt(id_vars='Response', value_vars=marketing_channels, var_name='Marketing Channel', value_name='Channel')\n",
        "\n",
        "# Count the number of responses per channel\n",
        "response_by_channel = melted_df.groupby('Channel').size().reset_index(name='Response Count')\n",
        "\n",
        "# Calculate the response rate\n",
        "response_rate = response_by_channel.copy()\n",
        "response_rate['Response Rate'] = response_rate['Response Count'] / df['Response'].value_counts()['Yes']\n",
        "print(response_rate)\n"
      ]
    }
  ],
  "metadata": {
    "colab": {
      "provenance": []
    },
    "kernelspec": {
      "display_name": "Python 3 (ipykernel)",
      "language": "python",
      "name": "python3"
    },
    "language_info": {
      "codemirror_mode": {
        "name": "ipython",
        "version": 3
      },
      "file_extension": ".py",
      "mimetype": "text/x-python",
      "name": "python",
      "nbconvert_exporter": "python",
      "pygments_lexer": "ipython3",
      "version": "3.12.4"
    }
  },
  "nbformat": 4,
  "nbformat_minor": 5
}
