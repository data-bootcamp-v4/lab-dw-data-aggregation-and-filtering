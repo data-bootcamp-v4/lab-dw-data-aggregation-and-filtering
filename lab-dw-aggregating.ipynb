{
 "cells": [
  {
   "cell_type": "markdown",
   "id": "31969215-2a90-4d8b-ac36-646a7ae13744",
   "metadata": {
    "id": "31969215-2a90-4d8b-ac36-646a7ae13744"
   },
   "source": [
    "# Lab | Data Aggregation and Filtering"
   ]
  },
  {
   "cell_type": "markdown",
   "id": "a8f08a52-bec0-439b-99cc-11d3809d8b5d",
   "metadata": {
    "id": "a8f08a52-bec0-439b-99cc-11d3809d8b5d"
   },
   "source": [
    "In this challenge, we will continue to work with customer data from an insurance company. We will use the dataset called marketing_customer_analysis.csv, which can be found at the following link:\n",
    "\n",
    "https://raw.githubusercontent.com/data-bootcamp-v4/data/main/marketing_customer_analysis.csv\n",
    "\n",
    "This dataset contains information such as customer demographics, policy details, vehicle information, and the customer's response to the last marketing campaign. Our goal is to explore and analyze this data by first performing data cleaning, formatting, and structuring."
   ]
  },
  {
   "cell_type": "markdown",
   "id": "9c98ddc5-b041-4c94-ada1-4dfee5c98e50",
   "metadata": {
    "id": "9c98ddc5-b041-4c94-ada1-4dfee5c98e50"
   },
   "source": [
    "1. Create a new DataFrame that only includes customers who:\n",
    "   - have a **low total_claim_amount** (e.g., below $1,000),\n",
    "   - have a response \"Yes\" to the last marketing campaign."
   ]
  },
  {
   "cell_type": "markdown",
   "id": "b9be383e-5165-436e-80c8-57d4c757c8c3",
   "metadata": {
    "id": "b9be383e-5165-436e-80c8-57d4c757c8c3"
   },
   "source": [
    "2. Using the original Dataframe, analyze:\n",
    "   - the average `monthly_premium` and/or customer lifetime value by `policy_type` and `gender` for customers who responded \"Yes\", and\n",
    "   - compare these insights to `total_claim_amount` patterns, and discuss which segments appear most profitable or low-risk for the company."
   ]
  },
  {
   "cell_type": "markdown",
   "id": "7050f4ac-53c5-4193-a3c0-8699b87196f0",
   "metadata": {
    "id": "7050f4ac-53c5-4193-a3c0-8699b87196f0"
   },
   "source": [
    "3. Analyze the total number of customers who have policies in each state, and then filter the results to only include states where there are more than 500 customers."
   ]
  },
  {
   "cell_type": "markdown",
   "id": "b60a4443-a1a7-4bbf-b78e-9ccdf9895e0d",
   "metadata": {
    "id": "b60a4443-a1a7-4bbf-b78e-9ccdf9895e0d"
   },
   "source": [
    "4. Find the maximum, minimum, and median customer lifetime value by education level and gender. Write your conclusions."
   ]
  },
  {
   "cell_type": "markdown",
   "id": "b42999f9-311f-481e-ae63-40a5577072c5",
   "metadata": {
    "id": "b42999f9-311f-481e-ae63-40a5577072c5"
   },
   "source": [
    "## Bonus"
   ]
  },
  {
   "cell_type": "markdown",
   "id": "81ff02c5-6584-4f21-a358-b918697c6432",
   "metadata": {
    "id": "81ff02c5-6584-4f21-a358-b918697c6432"
   },
   "source": [
    "5. The marketing team wants to analyze the number of policies sold by state and month. Present the data in a table where the months are arranged as columns and the states are arranged as rows."
   ]
  },
  {
   "cell_type": "markdown",
   "id": "b6aec097-c633-4017-a125-e77a97259cda",
   "metadata": {
    "id": "b6aec097-c633-4017-a125-e77a97259cda"
   },
   "source": [
    "6.  Display a new DataFrame that contains the number of policies sold by month, by state, for the top 3 states with the highest number of policies sold.\n",
    "\n",
    "*Hint:*\n",
    "- *To accomplish this, you will first need to group the data by state and month, then count the number of policies sold for each group. Afterwards, you will need to sort the data by the count of policies sold in descending order.*\n",
    "- *Next, you will select the top 3 states with the highest number of policies sold.*\n",
    "- *Finally, you will create a new DataFrame that contains the number of policies sold by month for each of the top 3 states.*"
   ]
  },
  {
   "cell_type": "markdown",
   "id": "ba975b8a-a2cf-4fbf-9f59-ebc381767009",
   "metadata": {
    "id": "ba975b8a-a2cf-4fbf-9f59-ebc381767009"
   },
   "source": [
    "7. The marketing team wants to analyze the effect of different marketing channels on the customer response rate.\n",
    "\n",
    "Hint: You can use melt to unpivot the data and create a table that shows the customer response rate (those who responded \"Yes\") by marketing channel."
   ]
  },
  {
   "cell_type": "markdown",
   "id": "e4378d94-48fb-4850-a802-b1bc8f427b2d",
   "metadata": {
    "id": "e4378d94-48fb-4850-a802-b1bc8f427b2d"
   },
   "source": [
    "External Resources for Data Filtering: https://towardsdatascience.com/filtering-data-frames-in-pandas-b570b1f834b9"
   ]
  },
  {
   "cell_type": "code",
   "execution_count": 1,
   "id": "449513f4-0459-46a0-a18d-9398d974c9ad",
   "metadata": {
    "id": "449513f4-0459-46a0-a18d-9398d974c9ad"
   },
   "outputs": [
    {
     "name": "stdout",
     "output_type": "stream",
     "text": [
      "Original dataset: 10910 customers\n",
      "Filtered dataset: 1399 customers\n",
      "\n",
      "First 5 filtered customers:\n",
      "    Unnamed: 0 Customer       State  Customer Lifetime Value Response  \\\n",
      "3            3  XL78013      Oregon             22332.439460      Yes   \n",
      "8            8  FM55990  California              5989.773931      Yes   \n",
      "15          15  CW49887  California              4626.801093      Yes   \n",
      "19          19  NJ54277  California              3746.751625      Yes   \n",
      "27          27  MQ68407      Oregon              4376.363592      Yes   \n",
      "\n",
      "    Coverage Education Effective To Date EmploymentStatus Gender  ...  \\\n",
      "3   Extended   College           1/11/11         Employed      M  ...   \n",
      "8    Premium   College           1/19/11         Employed      M  ...   \n",
      "15     Basic    Master           1/16/11         Employed      F  ...   \n",
      "19  Extended   College           2/26/11         Employed      F  ...   \n",
      "27   Premium  Bachelor           2/28/11         Employed      F  ...   \n",
      "\n",
      "    Number of Open Complaints Number of Policies     Policy Type  \\\n",
      "3                         0.0                  2  Corporate Auto   \n",
      "8                         0.0                  1   Personal Auto   \n",
      "15                        0.0                  1    Special Auto   \n",
      "19                        1.0                  1   Personal Auto   \n",
      "27                        0.0                  1   Personal Auto   \n",
      "\n",
      "          Policy  Renew Offer Type  Sales Channel  Total Claim Amount  \\\n",
      "3   Corporate L3            Offer2         Branch          484.013411   \n",
      "8    Personal L1            Offer2         Branch          739.200000   \n",
      "15    Special L1            Offer2         Branch          547.200000   \n",
      "19   Personal L2            Offer2    Call Center           19.575683   \n",
      "27   Personal L3            Offer2          Agent           60.036683   \n",
      "\n",
      "    Vehicle Class Vehicle Size Vehicle Type  \n",
      "3   Four-Door Car      Medsize            A  \n",
      "8      Sports Car      Medsize          NaN  \n",
      "15            SUV      Medsize          NaN  \n",
      "19   Two-Door Car        Large            A  \n",
      "27  Four-Door Car      Medsize          NaN  \n",
      "\n",
      "[5 rows x 26 columns]\n"
     ]
    }
   ],
   "source": [
    "# your code goes here\n",
    "import pandas as pd\n",
    "\n",
    "# 1. Load the data\n",
    "url = \"https://raw.githubusercontent.com/data-bootcamp-v4/data/main/marketing_customer_analysis.csv\"\n",
    "df = pd.read_csv(url)\n",
    "\n",
    "# 2. Filter the data (simple one-step filtering)\n",
    "filtered_df = df[\n",
    "    (df['Total Claim Amount'] < 1000) & \n",
    "    (df['Response'] == 'Yes')\n",
    "].copy()\n",
    "\n",
    "# 3. Show results\n",
    "print(f\"Original dataset: {len(df)} customers\")\n",
    "print(f\"Filtered dataset: {len(filtered_df)} customers\")\n",
    "print(\"\\nFirst 5 filtered customers:\")\n",
    "print(filtered_df.head())"
   ]
  },
  {
   "cell_type": "code",
   "execution_count": 3,
   "id": "a42d54a0-9c8f-4910-94a9-7b498c7ceb70",
   "metadata": {},
   "outputs": [
    {
     "name": "stdout",
     "output_type": "stream",
     "text": [
      "=== Customer Segment Analysis ===\n",
      "                       Monthly Premium Auto  Customer Lifetime Value  \\\n",
      "Policy Type    Gender                                                  \n",
      "Corporate Auto M                      92.19                  7944.47   \n",
      "               F                      94.30                  7712.63   \n",
      "Special Auto   M                      86.34                  8247.09   \n",
      "Personal Auto  F                      99.00                  8339.79   \n",
      "Special Auto   F                      92.31                  7691.58   \n",
      "Personal Auto  M                      91.09                  7448.38   \n",
      "\n",
      "                       Total Claim Amount  Estimated Profit  \n",
      "Policy Type    Gender                                        \n",
      "Corporate Auto M                   408.58           -316.39  \n",
      "               F                   433.74           -339.44  \n",
      "Special Auto   M                   429.53           -343.19  \n",
      "Personal Auto  F                   452.97           -353.97  \n",
      "Special Auto   F                   453.28           -360.97  \n",
      "Personal Auto  M                   457.01           -365.92  \n"
     ]
    }
   ],
   "source": [
    "\n",
    "# 2. Filter for \"Yes\" responders only\n",
    "responders = df[df['Response'] == 'Yes']\n",
    "\n",
    "# 3. Calculate average metrics by policy type and gender\n",
    "analysis = responders.groupby(['Policy Type', 'Gender']).agg({\n",
    "    'Monthly Premium Auto': 'mean',\n",
    "    'Customer Lifetime Value': 'mean',\n",
    "    'Total Claim Amount': 'mean'\n",
    "}).round(2)\n",
    "\n",
    "# 4. Calculate profit estimate (Premium - Claims)\n",
    "analysis['Estimated Profit'] = analysis['Monthly Premium Auto'] - analysis['Total Claim Amount']\n",
    "\n",
    "# 5. Sort by most profitable segments\n",
    "profit_ranking = analysis.sort_values('Estimated Profit', ascending=False)\n",
    "\n",
    "print(\"=== Customer Segment Analysis ===\")\n",
    "print(profit_ranking)"
   ]
  },
  {
   "cell_type": "code",
   "execution_count": 5,
   "id": "8b8b24fc-e157-4a82-9c1a-51341032fcb1",
   "metadata": {},
   "outputs": [
    {
     "name": "stdout",
     "output_type": "stream",
     "text": [
      "=== States with >500 Customers ===\n",
      "        State  Customer Count\n",
      "0  California            3552\n",
      "1      Oregon            2909\n",
      "2     Arizona            1937\n",
      "3      Nevada             993\n",
      "4  Washington             888\n"
     ]
    },
    {
     "data": {
      "text/plain": [
       "<Axes: title={'center': 'States with Most Customers (>500)'}, ylabel='State'>"
      ]
     },
     "execution_count": 5,
     "metadata": {},
     "output_type": "execute_result"
    },
    {
     "data": {
      "image/png": "[encoded data removed]",
      "text/plain": [
       "<Figure size 640x480 with 1 Axes>"
      ]
     },
     "metadata": {},
     "output_type": "display_data"
    }
   ],
   "source": [
    "# 2. Count customers by state\n",
    "state_counts = df['State'].value_counts().reset_index()\n",
    "state_counts.columns = ['State', 'Customer Count']  # Rename columns\n",
    "\n",
    "# 3. Filter for states with >500 customers\n",
    "popular_states = state_counts[state_counts['Customer Count'] > 500]\n",
    "\n",
    "# 4. Show results\n",
    "print(\"=== States with >500 Customers ===\")\n",
    "print(popular_states.sort_values('Customer Count', ascending=False))\n",
    "\n",
    "# Optional: Simple bar chart\n",
    "popular_states.sort_values('Customer Count').plot(\n",
    "    kind='barh',\n",
    "    x='State',\n",
    "    y='Customer Count',\n",
    "    title='States with Most Customers (>500)'\n",
    ")"
   ]
  },
  {
   "cell_type": "code",
   "execution_count": 8,
   "id": "ca686797-f1b4-458a-bbe2-04000bbf7b4f",
   "metadata": {},
   "outputs": [
    {
     "name": "stdout",
     "output_type": "stream",
     "text": [
      "=== Customer Lifetime Value Analysis ===\n",
      "              Education Gender       max      min   median\n",
      "7  High School or Below      M  83325.38  1940.98  6286.73\n",
      "6  High School or Below      F  55277.45  2144.92  6039.55\n",
      "3               College      M  61134.68  1918.12  6005.85\n",
      "8                Master      F  51016.07  2417.78  5729.86\n",
      "0              Bachelor      F  73225.96  1904.00  5640.51\n",
      "2               College      F  61850.19  1898.68  5623.61\n",
      "9                Master      M  50568.26  2272.31  5579.10\n",
      "5                Doctor      M  32677.34  2267.60  5577.67\n",
      "1              Bachelor      M  67907.27  1898.01  5548.03\n",
      "4                Doctor      F  44856.11  2395.57  5332.46\n",
      "\n",
      "Key Conclusions:\n",
      "- Highest median CLV group: ['High School or Below' 'M']\n",
      "- Lowest median CLV group: ['Doctor' 'F']\n"
     ]
    }
   ],
   "source": [
    "# 2. Calculate statistics\n",
    "clv_stats = df.groupby(['Education', 'Gender'])['Customer Lifetime Value'].agg(\n",
    "    ['max', 'min', 'median']\n",
    ").round(2).reset_index()\n",
    "\n",
    "# 3. Show results\n",
    "print(\"=== Customer Lifetime Value Analysis ===\")\n",
    "print(clv_stats.sort_values('median', ascending=False))\n",
    "\n",
    "# 4. Simple conclusions\n",
    "print(\"\\nKey Conclusions:\")\n",
    "print(\"- Highest median CLV group:\", \n",
    "      clv_stats.loc[clv_stats['median'].idxmax(), ['Education', 'Gender']].values)\n",
    "print(\"- Lowest median CLV group:\", \n",
    "      clv_stats.loc[clv_stats['median'].idxmin(), ['Education', 'Gender']].values)\n"
   ]
  },
  {
   "cell_type": "code",
   "execution_count": null,
   "id": "b4db84f6-611e-4a32-ad52-0bd045a43c78",
   "metadata": {},
   "outputs": [],
   "source": []
  }
 ],
 "metadata": {
  "colab": {
   "provenance": []
  },
  "kernelspec": {
   "display_name": "Python [conda env:base] *",
   "language": "python",
   "name": "conda-base-py"
  },
  "language_info": {
   "codemirror_mode": {
    "name": "ipython",
    "version": 3
   },
   "file_extension": ".py",
   "mimetype": "text/x-python",
   "name": "python",
   "nbconvert_exporter": "python",
   "pygments_lexer": "ipython3",
   "version": "3.12.2"
  }
 },
 "nbformat": 4,
 "nbformat_minor": 5
}
