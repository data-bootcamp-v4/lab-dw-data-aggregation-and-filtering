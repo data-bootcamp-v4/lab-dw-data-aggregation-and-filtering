{
  "cells": [
    {
      "cell_type": "markdown",
      "id": "31969215-2a90-4d8b-ac36-646a7ae13744",
      "metadata": {
        "id": "31969215-2a90-4d8b-ac36-646a7ae13744"
      },
      "source": [
        "# Lab | Data Aggregation and Filtering"
      ]
    },
    {
      "cell_type": "markdown",
      "id": "a8f08a52-bec0-439b-99cc-11d3809d8b5d",
      "metadata": {
        "id": "a8f08a52-bec0-439b-99cc-11d3809d8b5d"
      },
      "source": [
        "In this challenge, we will continue to work with customer data from an insurance company. We will use the dataset called marketing_customer_analysis.csv, which can be found at the following link:\n",
        "\n",
        "https://raw.githubusercontent.com/data-bootcamp-v4/data/main/marketing_customer_analysis.csv\n",
        "\n",
        "This dataset contains information such as customer demographics, policy details, vehicle information, and the customer's response to the last marketing campaign. Our goal is to explore and analyze this data by first performing data cleaning, formatting, and structuring."
      ]
    },
    {
      "cell_type": "code",
      "execution_count": 11,
      "id": "bf8318d7",
      "metadata": {},
      "outputs": [],
      "source": [
        "import pandas as pd\n",
        "\n",
        "marketing_data_url = \"https://raw.githubusercontent.com/data-bootcamp-v4/data/main/marketing_customer_analysis.csv\"\n",
        "marketing_df = pd.read_csv(marketing_data_url)\n",
        "marketing_df.columns = marketing_df.columns.str.lower().str.replace(\" \", \"_\")"
      ]
    },
    {
      "cell_type": "markdown",
      "id": "9c98ddc5-b041-4c94-ada1-4dfee5c98e50",
      "metadata": {
        "id": "9c98ddc5-b041-4c94-ada1-4dfee5c98e50"
      },
      "source": [
        "1. Create a new DataFrame that only includes customers who have a total_claim_amount greater than $1,000 and have a response of \"Yes\" to the last marketing campaign."
      ]
    },
    {
      "cell_type": "code",
      "execution_count": 12,
      "id": "1f9a2884",
      "metadata": {},
      "outputs": [
        {
          "name": "stdout",
          "output_type": "stream",
          "text": [
            "High Claim Responders:\n",
            "     unnamed:_0 customer       state  customer_lifetime_value response  \\\n",
            "189         189  OK31456  California             11009.130490      Yes   \n",
            "236         236  YJ16163      Oregon             11009.130490      Yes   \n",
            "419         419  GW43195      Oregon             25807.063000      Yes   \n",
            "442         442  IP94270     Arizona             13736.132500      Yes   \n",
            "587         587  FJ28407  California              5619.689084      Yes   \n",
            "\n",
            "     coverage             education effective_to_date employmentstatus gender  \\\n",
            "189   Premium              Bachelor           1/24/11         Employed      F   \n",
            "236   Premium              Bachelor           1/24/11         Employed      F   \n",
            "419  Extended               College           2/13/11         Employed      F   \n",
            "442   Premium                Master           2/13/11         Disabled      F   \n",
            "587   Premium  High School or Below           1/26/11       Unemployed      M   \n",
            "\n",
            "     ...  number_of_open_complaints number_of_policies     policy_type  \\\n",
            "189  ...                        0.0                  1  Corporate Auto   \n",
            "236  ...                        0.0                  1    Special Auto   \n",
            "419  ...                        1.0                  2   Personal Auto   \n",
            "442  ...                        0.0                  8   Personal Auto   \n",
            "587  ...                        0.0                  1   Personal Auto   \n",
            "\n",
            "           policy  renew_offer_type  sales_channel  total_claim_amount  \\\n",
            "189  Corporate L3            Offer2          Agent         1358.400000   \n",
            "236    Special L3            Offer2          Agent         1358.400000   \n",
            "419   Personal L2            Offer1         Branch         1027.200000   \n",
            "442   Personal L2            Offer1            Web         1261.319869   \n",
            "587   Personal L1            Offer2            Web         1027.000029   \n",
            "\n",
            "     vehicle_class vehicle_size vehicle_type  \n",
            "189     Luxury Car      Medsize          NaN  \n",
            "236     Luxury Car      Medsize            A  \n",
            "419     Luxury Car        Small            A  \n",
            "442            SUV      Medsize            A  \n",
            "587            SUV      Medsize            A  \n",
            "\n",
            "[5 rows x 26 columns]\n"
          ]
        }
      ],
      "source": [
        "high_claim_responders = marketing_df[(marketing_df['total_claim_amount'] > 1000) & (marketing_df['response'] == 'Yes')]\n",
        "print(\"High Claim Responders:\")\n",
        "print(high_claim_responders.head())"
      ]
    },
    {
      "cell_type": "markdown",
      "id": "b9be383e-5165-436e-80c8-57d4c757c8c3",
      "metadata": {
        "id": "b9be383e-5165-436e-80c8-57d4c757c8c3"
      },
      "source": [
        "2. Using the original Dataframe, analyze the average total_claim_amount by each policy type and gender for customers who have responded \"Yes\" to the last marketing campaign. Write your conclusions."
      ]
    },
    {
      "cell_type": "code",
      "execution_count": 3,
      "id": "1eaba06e",
      "metadata": {},
      "outputs": [
        {
          "name": "stdout",
          "output_type": "stream",
          "text": [
            "Average Total Claim Amount by Policy Type and Gender:\n",
            "                       total_claim_amount\n",
            "policy_type    gender                    \n",
            "Corporate Auto F                   433.74\n",
            "               M                   408.58\n",
            "Personal Auto  F                   452.97\n",
            "               M                   457.01\n",
            "Special Auto   F                   453.28\n",
            "               M                   429.53\n"
          ]
        }
      ],
      "source": [
        "yes_responders = marketing_df[marketing_df['response'] == 'Yes']\n",
        "avg_claim_pivot = yes_responders.pivot_table(index=['policy_type', 'gender'], values='total_claim_amount', aggfunc='mean').round(2)\n",
        "print(\"Average Total Claim Amount by Policy Type and Gender:\")\n",
        "print(avg_claim_pivot)\n",
        "# Corporate policies tend to have the highest average claim amounts. In most policy types, male customers tend to have slightly higher average claim amounts than female customers. "
      ]
    },
    {
      "cell_type": "markdown",
      "id": "7050f4ac-53c5-4193-a3c0-8699b87196f0",
      "metadata": {
        "id": "7050f4ac-53c5-4193-a3c0-8699b87196f0"
      },
      "source": [
        "3. Analyze the total number of customers who have policies in each state, and then filter the results to only include states where there are more than 500 customers."
      ]
    },
    {
      "cell_type": "code",
      "execution_count": 14,
      "id": "cad6b71a",
      "metadata": {},
      "outputs": [
        {
          "name": "stdout",
          "output_type": "stream",
          "text": [
            "States with more than 500 customers:\n",
            "state\n",
            "California    3552\n",
            "Oregon        2909\n",
            "Arizona       1937\n",
            "Nevada         993\n",
            "Washington     888\n",
            "Name: count, dtype: int64\n"
          ]
        }
      ],
      "source": [
        "state_counts = marketing_df['state'].value_counts()\n",
        "states_over_500 = state_counts[state_counts > 500]\n",
        "print(\"States with more than 500 customers:\")\n",
        "print(states_over_500)"
      ]
    },
    {
      "cell_type": "markdown",
      "id": "b60a4443-a1a7-4bbf-b78e-9ccdf9895e0d",
      "metadata": {
        "id": "b60a4443-a1a7-4bbf-b78e-9ccdf9895e0d"
      },
      "source": [
        "4. Find the maximum, minimum, and median customer lifetime value by education level and gender. Write your conclusions."
      ]
    },
    {
      "cell_type": "code",
      "execution_count": 15,
      "id": "e3d75ae7",
      "metadata": {},
      "outputs": [
        {
          "name": "stdout",
          "output_type": "stream",
          "text": [
            "Customer Lifetime Value Statistics:\n",
            "                                  max      min   median\n",
            "education            gender                            \n",
            "Bachelor             F       73225.96  1904.00  5640.51\n",
            "                     M       67907.27  1898.01  5548.03\n",
            "College              F       61850.19  1898.68  5623.61\n",
            "                     M       61134.68  1918.12  6005.85\n",
            "Doctor               F       44856.11  2395.57  5332.46\n",
            "                     M       32677.34  2267.60  5577.67\n",
            "High School or Below F       55277.45  2144.92  6039.55\n",
            "                     M       83325.38  1940.98  6286.73\n",
            "Master               F       51016.07  2417.78  5729.86\n",
            "                     M       50568.26  2272.31  5579.10\n"
          ]
        }
      ],
      "source": [
        "clv_stats = marketing_df.groupby(['education', 'gender'])['customer_lifetime_value'].agg(['max', 'min', 'median']).round(2)\n",
        "print(\"Customer Lifetime Value Statistics:\")\n",
        "print(clv_stats)"
      ]
    },
    {
      "cell_type": "markdown",
      "id": "b42999f9-311f-481e-ae63-40a5577072c5",
      "metadata": {
        "id": "b42999f9-311f-481e-ae63-40a5577072c5"
      },
      "source": [
        "## Bonus"
      ]
    },
    {
      "cell_type": "markdown",
      "id": "81ff02c5-6584-4f21-a358-b918697c6432",
      "metadata": {
        "id": "81ff02c5-6584-4f21-a358-b918697c6432"
      },
      "source": [
        "5. The marketing team wants to analyze the number of policies sold by state and month. Present the data in a table where the months are arranged as columns and the states are arranged as rows."
      ]
    },
    {
      "cell_type": "code",
      "execution_count": 16,
      "id": "cf8d9a20",
      "metadata": {},
      "outputs": [
        {
          "name": "stdout",
          "output_type": "stream",
          "text": [
            "Policies Sold by State and Month:\n",
            "month          1     2\n",
            "state                 \n",
            "Arizona     1008   929\n",
            "California  1918  1634\n",
            "Nevada       551   442\n",
            "Oregon      1565  1344\n",
            "Washington   463   425\n"
          ]
        },
        {
          "name": "stderr",
          "output_type": "stream",
          "text": [
            "/var/folders/c6/hdyn7chd4w10061yk0b90r8w0000gn/T/ipykernel_80518/2626085914.py:1: UserWarning: Could not infer format, so each element will be parsed individually, falling back to `dateutil`. To ensure parsing is consistent and as-expected, please specify a format.\n",
            "  marketing_df['effective_to_date'] = pd.to_datetime(marketing_df['effective_to_date'])\n"
          ]
        }
      ],
      "source": [
        "marketing_df['effective_to_date'] = pd.to_datetime(marketing_df['effective_to_date'])\n",
        "marketing_df['month'] = marketing_df['effective_to_date'].dt.month\n",
        "policies_by_state_month = marketing_df.pivot_table(index='state', columns='month', values='policy', aggfunc='count', fill_value=0)\n",
        "print(\"Policies Sold by State and Month:\")\n",
        "print(policies_by_state_month)"
      ]
    },
    {
      "cell_type": "markdown",
      "id": "b6aec097-c633-4017-a125-e77a97259cda",
      "metadata": {
        "id": "b6aec097-c633-4017-a125-e77a97259cda"
      },
      "source": [
        "6.  Display a new DataFrame that contains the number of policies sold by month, by state, for the top 3 states with the highest number of policies sold.\n",
        "\n",
        "*Hint:*\n",
        "- *To accomplish this, you will first need to group the data by state and month, then count the number of policies sold for each group. Afterwards, you will need to sort the data by the count of policies sold in descending order.*\n",
        "- *Next, you will select the top 3 states with the highest number of policies sold.*\n",
        "- *Finally, you will create a new DataFrame that contains the number of policies sold by month for each of the top 3 states.*"
      ]
    },
    {
      "cell_type": "code",
      "execution_count": 7,
      "id": "00240957",
      "metadata": {},
      "outputs": [
        {
          "name": "stdout",
          "output_type": "stream",
          "text": [
            "Top 3 States Policies Sold by Month:\n",
            "month          1     2\n",
            "state                 \n",
            "Arizona     1008   929\n",
            "California  1918  1634\n",
            "Oregon      1565  1344\n"
          ]
        }
      ],
      "source": [
        "top_states = marketing_df['state'].value_counts().nlargest(3).index\n",
        "top_states_df = marketing_df[marketing_df['state'].isin(top_states)]\n",
        "top_policies_by_state_month = top_states_df.pivot_table(index='state', columns='month', values='policy', aggfunc='count', fill_value=0)\n",
        "print(\"Top 3 States Policies Sold by Month:\")\n",
        "print(top_policies_by_state_month)"
      ]
    },
    {
      "cell_type": "markdown",
      "id": "ba975b8a-a2cf-4fbf-9f59-ebc381767009",
      "metadata": {
        "id": "ba975b8a-a2cf-4fbf-9f59-ebc381767009"
      },
      "source": [
        "7. The marketing team wants to analyze the effect of different marketing channels on the customer response rate.\n",
        "\n",
        "Hint: You can use melt to unpivot the data and create a table that shows the customer response rate (those who responded \"Yes\") by marketing channel."
      ]
    },
    {
      "cell_type": "markdown",
      "id": "e4378d94-48fb-4850-a802-b1bc8f427b2d",
      "metadata": {
        "id": "e4378d94-48fb-4850-a802-b1bc8f427b2d"
      },
      "source": [
        "External Resources for Data Filtering: https://towardsdatascience.com/filtering-data-frames-in-pandas-b570b1f834b9"
      ]
    },
    {
      "cell_type": "code",
      "execution_count": null,
      "id": "449513f4-0459-46a0-a18d-9398d974c9ad",
      "metadata": {
        "id": "449513f4-0459-46a0-a18d-9398d974c9ad"
      },
      "outputs": [
        {
          "name": "stdout",
          "output_type": "stream",
          "text": [
            "Customer Response Rate by Marketing Channel:\n",
            "response          No    Yes\n",
            "sales_channel              \n",
            "Agent          80.93  19.07\n",
            "Branch         88.62  11.38\n",
            "Call Center    89.02  10.98\n",
            "Web            88.29  11.71\n"
          ]
        }
      ],
      "source": [
        "response_rate = marketing_df.groupby('sales_channel')['response'].value_counts(normalize=True).unstack().fillna(0) * 100\n",
        "print(\"Customer Response Rate by Marketing Channel:\")\n",
        "print(response_rate.round(2))\n"
      ]
    },
    {
      "cell_type": "code",
      "execution_count": 9,
      "id": "57c545ae",
      "metadata": {},
      "outputs": [
        {
          "name": "stdout",
          "output_type": "stream",
          "text": [
            "Index(['unnamed:_0', 'customer', 'state', 'customer_lifetime_value',\n",
            "       'response', 'coverage', 'education', 'effective_to_date',\n",
            "       'employmentstatus', 'gender', 'income', 'location_code',\n",
            "       'marital_status', 'monthly_premium_auto', 'months_since_last_claim',\n",
            "       'months_since_policy_inception', 'number_of_open_complaints',\n",
            "       'number_of_policies', 'policy_type', 'policy', 'renew_offer_type',\n",
            "       'sales_channel', 'total_claim_amount', 'vehicle_class', 'vehicle_size',\n",
            "       'vehicle_type', 'month'],\n",
            "      dtype='object')\n"
          ]
        }
      ],
      "source": [
        "print(marketing_df.columns)"
      ]
    }
  ],
  "metadata": {
    "colab": {
      "provenance": []
    },
    "kernelspec": {
      "display_name": "base",
      "language": "python",
      "name": "python3"
    },
    "language_info": {
      "codemirror_mode": {
        "name": "ipython",
        "version": 3
      },
      "file_extension": ".py",
      "mimetype": "text/x-python",
      "name": "python",
      "nbconvert_exporter": "python",
      "pygments_lexer": "ipython3",
      "version": "3.12.7"
    }
  },
  "nbformat": 4,
  "nbformat_minor": 5
}
