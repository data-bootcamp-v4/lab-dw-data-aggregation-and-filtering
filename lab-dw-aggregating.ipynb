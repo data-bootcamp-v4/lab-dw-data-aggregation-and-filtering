{
  "cells": [
    {
      "cell_type": "markdown",
      "id": "31969215-2a90-4d8b-ac36-646a7ae13744",
      "metadata": {
        "id": "31969215-2a90-4d8b-ac36-646a7ae13744"
      },
      "source": [
        "# Lab | Data Aggregation and Filtering"
      ]
    },
    {
      "cell_type": "markdown",
      "id": "a8f08a52-bec0-439b-99cc-11d3809d8b5d",
      "metadata": {
        "id": "a8f08a52-bec0-439b-99cc-11d3809d8b5d"
      },
      "source": [
        "In this challenge, we will continue to work with customer data from an insurance company. We will use the dataset called marketing_customer_analysis.csv, which can be found at the following link:\n",
        "\n",
        "https://raw.githubusercontent.com/data-bootcamp-v4/data/main/marketing_customer_analysis.csv\n",
        "\n",
        "This dataset contains information such as customer demographics, policy details, vehicle information, and the customer's response to the last marketing campaign. Our goal is to explore and analyze this data by first performing data cleaning, formatting, and structuring."
      ]
    },
    {
      "cell_type": "code",
      "execution_count": 1,
      "id": "8f2d7ee5",
      "metadata": {},
      "outputs": [],
      "source": [
        "import pandas as pd\n",
        "url = 'https://raw.githubusercontent.com/data-bootcamp-v4/data/main/marketing_customer_analysis.csv'\n",
        "datos_mk = pd.read_csv(url)"
      ]
    },
    {
      "cell_type": "markdown",
      "id": "9c98ddc5-b041-4c94-ada1-4dfee5c98e50",
      "metadata": {
        "id": "9c98ddc5-b041-4c94-ada1-4dfee5c98e50"
      },
      "source": [
        "1. Create a new DataFrame that only includes customers who have a total_claim_amount greater than $1,000 and have a response of \"Yes\" to the last marketing campaign."
      ]
    },
    {
      "cell_type": "code",
      "execution_count": 9,
      "id": "26187a3c",
      "metadata": {},
      "outputs": [],
      "source": [
        "more_than_1000 = datos_mk[(datos_mk['Response'] == 'Yes') & (datos_mk['Total Claim Amount'] > 1000)]"
      ]
    },
    {
      "cell_type": "markdown",
      "id": "b9be383e-5165-436e-80c8-57d4c757c8c3",
      "metadata": {
        "id": "b9be383e-5165-436e-80c8-57d4c757c8c3"
      },
      "source": [
        "2. Using the original Dataframe, analyze the average total_claim_amount by each policy type and gender for customers who have responded \"Yes\" to the last marketing campaign. Write your conclusions."
      ]
    },
    {
      "cell_type": "code",
      "execution_count": 17,
      "id": "8133bdd5",
      "metadata": {},
      "outputs": [
        {
          "data": {
            "text/plain": [
              "array(['M', 'F'], dtype=object)"
            ]
          },
          "execution_count": 17,
          "metadata": {},
          "output_type": "execute_result"
        }
      ],
      "source": [
        "\n",
        "datos_mk['Policy Type'].unique()\n",
        "datos_mk['Gender'].unique()"
      ]
    },
    {
      "cell_type": "code",
      "execution_count": 48,
      "id": "43aa188f",
      "metadata": {},
      "outputs": [
        {
          "name": "stdout",
          "output_type": "stream",
          "text": [
            "El numero de coches que cumplen los requisitos de haber dicho que si a la ultima campaña \n",
            "de marketing siendo mujer son: \n",
            "      Coche corporativo: 744, \n",
            "      coche Personal: 744 y \n",
            "      coche especial: 744. \n",
            "Mientras que para hombres fueron: \n",
            "      Coche corporativo: 722, \n",
            "      coche Personal: 722 y \n",
            "      coche especial: 722.\n",
            "      \n"
          ]
        }
      ],
      "source": [
        "yes_f = datos_mk[(datos_mk['Response'] == 'Yes') & (datos_mk['Gender'] == 'F')]\n",
        "yes_m = datos_mk[(datos_mk['Response'] == 'Yes') & (datos_mk['Gender'] == 'M')]\n",
        "\n",
        "Corp_car_f =  len(yes_f['Policy Type'] == 'Corporate Auto')\n",
        "Corp_car_m =  len(yes_m['Policy Type'] == 'Corporate Auto')\n",
        "\n",
        "Pers_car_f = len(yes_f['Policy Type'] == 'Personal Auto')\n",
        "Pers_car_m = len(yes_m['Policy Type'] == 'Personal Auto')\n",
        "\n",
        "Special_car_f = len(yes_f['Policy Type'] == 'Special Auto')\n",
        "Special_car_m = len(yes_m['Policy Type'] == 'Special Auto')\n",
        "                 \n",
        "print(f\"\"\"El numero de coches que cumplen los requisitos de haber dicho que si a la ultima campaña \n",
        "de marketing siendo mujer son: \n",
        "      Coche corporativo: {Corp_car_f}, \n",
        "      coche Personal: {Pers_car_f} y \n",
        "      coche especial: {Special_car_f}. \n",
        "Mientras que para hombres fueron: \n",
        "      Coche corporativo: {Corp_car_m}, \n",
        "      coche Personal: {Pers_car_m} y \n",
        "      coche especial: {Special_car_m}.\n",
        "      \"\"\")"
      ]
    },
    {
      "cell_type": "code",
      "execution_count": 41,
      "id": "51af3f61",
      "metadata": {},
      "outputs": [
        {
          "data": {
            "text/plain": [
              "722"
            ]
          },
          "execution_count": 41,
          "metadata": {},
          "output_type": "execute_result"
        }
      ],
      "source": []
    },
    {
      "cell_type": "markdown",
      "id": "7050f4ac-53c5-4193-a3c0-8699b87196f0",
      "metadata": {
        "id": "7050f4ac-53c5-4193-a3c0-8699b87196f0"
      },
      "source": [
        "3. Analyze the total number of customers who have policies in each state, and then filter the results to only include states where there are more than 500 customers."
      ]
    },
    {
      "cell_type": "code",
      "execution_count": null,
      "id": "22ed2611",
      "metadata": {},
      "outputs": [],
      "source": []
    },
    {
      "cell_type": "markdown",
      "id": "b60a4443-a1a7-4bbf-b78e-9ccdf9895e0d",
      "metadata": {
        "id": "b60a4443-a1a7-4bbf-b78e-9ccdf9895e0d"
      },
      "source": [
        "4. Find the maximum, minimum, and median customer lifetime value by education level and gender. Write your conclusions."
      ]
    },
    {
      "cell_type": "code",
      "execution_count": null,
      "id": "5d668f6a",
      "metadata": {},
      "outputs": [],
      "source": [
        "\n"
      ]
    },
    {
      "cell_type": "markdown",
      "id": "b42999f9-311f-481e-ae63-40a5577072c5",
      "metadata": {
        "id": "b42999f9-311f-481e-ae63-40a5577072c5"
      },
      "source": [
        "## Bonus"
      ]
    },
    {
      "cell_type": "markdown",
      "id": "81ff02c5-6584-4f21-a358-b918697c6432",
      "metadata": {
        "id": "81ff02c5-6584-4f21-a358-b918697c6432"
      },
      "source": [
        "5. The marketing team wants to analyze the number of policies sold by state and month. Present the data in a table where the months are arranged as columns and the states are arranged as rows."
      ]
    },
    {
      "cell_type": "code",
      "execution_count": null,
      "id": "9852464a",
      "metadata": {},
      "outputs": [],
      "source": []
    },
    {
      "cell_type": "markdown",
      "id": "b6aec097-c633-4017-a125-e77a97259cda",
      "metadata": {
        "id": "b6aec097-c633-4017-a125-e77a97259cda"
      },
      "source": [
        "6.  Display a new DataFrame that contains the number of policies sold by month, by state, for the top 3 states with the highest number of policies sold.\n",
        "\n",
        "*Hint:*\n",
        "- *To accomplish this, you will first need to group the data by state and month, then count the number of policies sold for each group. Afterwards, you will need to sort the data by the count of policies sold in descending order.*\n",
        "- *Next, you will select the top 3 states with the highest number of policies sold.*\n",
        "- *Finally, you will create a new DataFrame that contains the number of policies sold by month for each of the top 3 states.*"
      ]
    },
    {
      "cell_type": "code",
      "execution_count": null,
      "id": "7c404da6",
      "metadata": {},
      "outputs": [],
      "source": []
    },
    {
      "cell_type": "markdown",
      "id": "ba975b8a-a2cf-4fbf-9f59-ebc381767009",
      "metadata": {
        "id": "ba975b8a-a2cf-4fbf-9f59-ebc381767009"
      },
      "source": [
        "7. The marketing team wants to analyze the effect of different marketing channels on the customer response rate.\n",
        "\n",
        "Hint: You can use melt to unpivot the data and create a table that shows the customer response rate (those who responded \"Yes\") by marketing channel."
      ]
    },
    {
      "cell_type": "code",
      "execution_count": null,
      "id": "f312f983",
      "metadata": {},
      "outputs": [],
      "source": []
    },
    {
      "cell_type": "markdown",
      "id": "e4378d94-48fb-4850-a802-b1bc8f427b2d",
      "metadata": {
        "id": "e4378d94-48fb-4850-a802-b1bc8f427b2d"
      },
      "source": [
        "External Resources for Data Filtering: https://towardsdatascience.com/filtering-data-frames-in-pandas-b570b1f834b9"
      ]
    },
    {
      "cell_type": "code",
      "execution_count": null,
      "id": "449513f4-0459-46a0-a18d-9398d974c9ad",
      "metadata": {
        "id": "449513f4-0459-46a0-a18d-9398d974c9ad"
      },
      "outputs": [],
      "source": [
        "# your code goes here"
      ]
    }
  ],
  "metadata": {
    "colab": {
      "provenance": []
    },
    "kernelspec": {
      "display_name": "Python 3",
      "language": "python",
      "name": "python3"
    },
    "language_info": {
      "codemirror_mode": {
        "name": "ipython",
        "version": 3
      },
      "file_extension": ".py",
      "mimetype": "text/x-python",
      "name": "python",
      "nbconvert_exporter": "python",
      "pygments_lexer": "ipython3",
      "version": "3.12.5"
    }
  },
  "nbformat": 4,
  "nbformat_minor": 5
}
