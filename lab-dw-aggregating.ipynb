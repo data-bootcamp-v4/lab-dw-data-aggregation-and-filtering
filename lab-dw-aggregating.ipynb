{
  "cells": [
    {
      "cell_type": "markdown",
      "id": "31969215-2a90-4d8b-ac36-646a7ae13744",
      "metadata": {
        "id": "31969215-2a90-4d8b-ac36-646a7ae13744"
      },
      "source": [
        "# Lab | Data Aggregation and Filtering"
      ]
    },
    {
      "cell_type": "markdown",
      "id": "a8f08a52-bec0-439b-99cc-11d3809d8b5d",
      "metadata": {
        "id": "a8f08a52-bec0-439b-99cc-11d3809d8b5d"
      },
      "source": [
        "In this challenge, we will continue to work with customer data from an insurance company. We will use the dataset called marketing_customer_analysis.csv, which can be found at the following link:\n",
        "\n",
        "https://raw.githubusercontent.com/data-bootcamp-v4/data/main/marketing_customer_analysis.csv\n",
        "\n",
        "This dataset contains information such as customer demographics, policy details, vehicle information, and the customer's response to the last marketing campaign. Our goal is to explore and analyze this data by first performing data cleaning, formatting, and structuring."
      ]
    },
    {
      "cell_type": "code",
      "execution_count": 66,
      "id": "8c3c3ecb",
      "metadata": {},
      "outputs": [
        {
          "data": {
            "text/html": [
              "<div>\n",
              "<style scoped>\n",
              "    .dataframe tbody tr th:only-of-type {\n",
              "        vertical-align: middle;\n",
              "    }\n",
              "\n",
              "    .dataframe tbody tr th {\n",
              "        vertical-align: top;\n",
              "    }\n",
              "\n",
              "    .dataframe thead th {\n",
              "        text-align: right;\n",
              "    }\n",
              "</style>\n",
              "<table border=\"1\" class=\"dataframe\">\n",
              "  <thead>\n",
              "    <tr style=\"text-align: right;\">\n",
              "      <th></th>\n",
              "      <th>Unnamed: 0</th>\n",
              "      <th>Customer</th>\n",
              "      <th>State</th>\n",
              "      <th>Customer Lifetime Value</th>\n",
              "      <th>Response</th>\n",
              "      <th>Coverage</th>\n",
              "      <th>Education</th>\n",
              "      <th>Effective To Date</th>\n",
              "      <th>EmploymentStatus</th>\n",
              "      <th>Gender</th>\n",
              "      <th>...</th>\n",
              "      <th>Number of Open Complaints</th>\n",
              "      <th>Number of Policies</th>\n",
              "      <th>Policy Type</th>\n",
              "      <th>Policy</th>\n",
              "      <th>Renew Offer Type</th>\n",
              "      <th>Sales Channel</th>\n",
              "      <th>Total Claim Amount</th>\n",
              "      <th>Vehicle Class</th>\n",
              "      <th>Vehicle Size</th>\n",
              "      <th>Vehicle Type</th>\n",
              "    </tr>\n",
              "  </thead>\n",
              "  <tbody>\n",
              "    <tr>\n",
              "      <th>0</th>\n",
              "      <td>0</td>\n",
              "      <td>DK49336</td>\n",
              "      <td>Arizona</td>\n",
              "      <td>4809.216960</td>\n",
              "      <td>No</td>\n",
              "      <td>Basic</td>\n",
              "      <td>College</td>\n",
              "      <td>2/18/11</td>\n",
              "      <td>Employed</td>\n",
              "      <td>M</td>\n",
              "      <td>...</td>\n",
              "      <td>0.0</td>\n",
              "      <td>9</td>\n",
              "      <td>Corporate Auto</td>\n",
              "      <td>Corporate L3</td>\n",
              "      <td>Offer3</td>\n",
              "      <td>Agent</td>\n",
              "      <td>292.800000</td>\n",
              "      <td>Four-Door Car</td>\n",
              "      <td>Medsize</td>\n",
              "      <td>NaN</td>\n",
              "    </tr>\n",
              "    <tr>\n",
              "      <th>1</th>\n",
              "      <td>1</td>\n",
              "      <td>KX64629</td>\n",
              "      <td>California</td>\n",
              "      <td>2228.525238</td>\n",
              "      <td>No</td>\n",
              "      <td>Basic</td>\n",
              "      <td>College</td>\n",
              "      <td>1/18/11</td>\n",
              "      <td>Unemployed</td>\n",
              "      <td>F</td>\n",
              "      <td>...</td>\n",
              "      <td>0.0</td>\n",
              "      <td>1</td>\n",
              "      <td>Personal Auto</td>\n",
              "      <td>Personal L3</td>\n",
              "      <td>Offer4</td>\n",
              "      <td>Call Center</td>\n",
              "      <td>744.924331</td>\n",
              "      <td>Four-Door Car</td>\n",
              "      <td>Medsize</td>\n",
              "      <td>NaN</td>\n",
              "    </tr>\n",
              "    <tr>\n",
              "      <th>2</th>\n",
              "      <td>2</td>\n",
              "      <td>LZ68649</td>\n",
              "      <td>Washington</td>\n",
              "      <td>14947.917300</td>\n",
              "      <td>No</td>\n",
              "      <td>Basic</td>\n",
              "      <td>Bachelor</td>\n",
              "      <td>2/10/11</td>\n",
              "      <td>Employed</td>\n",
              "      <td>M</td>\n",
              "      <td>...</td>\n",
              "      <td>0.0</td>\n",
              "      <td>2</td>\n",
              "      <td>Personal Auto</td>\n",
              "      <td>Personal L3</td>\n",
              "      <td>Offer3</td>\n",
              "      <td>Call Center</td>\n",
              "      <td>480.000000</td>\n",
              "      <td>SUV</td>\n",
              "      <td>Medsize</td>\n",
              "      <td>A</td>\n",
              "    </tr>\n",
              "    <tr>\n",
              "      <th>3</th>\n",
              "      <td>3</td>\n",
              "      <td>XL78013</td>\n",
              "      <td>Oregon</td>\n",
              "      <td>22332.439460</td>\n",
              "      <td>Yes</td>\n",
              "      <td>Extended</td>\n",
              "      <td>College</td>\n",
              "      <td>1/11/11</td>\n",
              "      <td>Employed</td>\n",
              "      <td>M</td>\n",
              "      <td>...</td>\n",
              "      <td>0.0</td>\n",
              "      <td>2</td>\n",
              "      <td>Corporate Auto</td>\n",
              "      <td>Corporate L3</td>\n",
              "      <td>Offer2</td>\n",
              "      <td>Branch</td>\n",
              "      <td>484.013411</td>\n",
              "      <td>Four-Door Car</td>\n",
              "      <td>Medsize</td>\n",
              "      <td>A</td>\n",
              "    </tr>\n",
              "    <tr>\n",
              "      <th>4</th>\n",
              "      <td>4</td>\n",
              "      <td>QA50777</td>\n",
              "      <td>Oregon</td>\n",
              "      <td>9025.067525</td>\n",
              "      <td>No</td>\n",
              "      <td>Premium</td>\n",
              "      <td>Bachelor</td>\n",
              "      <td>1/17/11</td>\n",
              "      <td>Medical Leave</td>\n",
              "      <td>F</td>\n",
              "      <td>...</td>\n",
              "      <td>NaN</td>\n",
              "      <td>7</td>\n",
              "      <td>Personal Auto</td>\n",
              "      <td>Personal L2</td>\n",
              "      <td>Offer1</td>\n",
              "      <td>Branch</td>\n",
              "      <td>707.925645</td>\n",
              "      <td>Four-Door Car</td>\n",
              "      <td>Medsize</td>\n",
              "      <td>NaN</td>\n",
              "    </tr>\n",
              "  </tbody>\n",
              "</table>\n",
              "<p>5 rows × 26 columns</p>\n",
              "</div>"
            ],
            "text/plain": [
              "   Unnamed: 0 Customer       State  Customer Lifetime Value Response  \\\n",
              "0           0  DK49336     Arizona              4809.216960       No   \n",
              "1           1  KX64629  California              2228.525238       No   \n",
              "2           2  LZ68649  Washington             14947.917300       No   \n",
              "3           3  XL78013      Oregon             22332.439460      Yes   \n",
              "4           4  QA50777      Oregon              9025.067525       No   \n",
              "\n",
              "   Coverage Education Effective To Date EmploymentStatus Gender  ...  \\\n",
              "0     Basic   College           2/18/11         Employed      M  ...   \n",
              "1     Basic   College           1/18/11       Unemployed      F  ...   \n",
              "2     Basic  Bachelor           2/10/11         Employed      M  ...   \n",
              "3  Extended   College           1/11/11         Employed      M  ...   \n",
              "4   Premium  Bachelor           1/17/11    Medical Leave      F  ...   \n",
              "\n",
              "   Number of Open Complaints Number of Policies     Policy Type        Policy  \\\n",
              "0                        0.0                  9  Corporate Auto  Corporate L3   \n",
              "1                        0.0                  1   Personal Auto   Personal L3   \n",
              "2                        0.0                  2   Personal Auto   Personal L3   \n",
              "3                        0.0                  2  Corporate Auto  Corporate L3   \n",
              "4                        NaN                  7   Personal Auto   Personal L2   \n",
              "\n",
              "   Renew Offer Type  Sales Channel  Total Claim Amount  Vehicle Class  \\\n",
              "0            Offer3          Agent          292.800000  Four-Door Car   \n",
              "1            Offer4    Call Center          744.924331  Four-Door Car   \n",
              "2            Offer3    Call Center          480.000000            SUV   \n",
              "3            Offer2         Branch          484.013411  Four-Door Car   \n",
              "4            Offer1         Branch          707.925645  Four-Door Car   \n",
              "\n",
              "  Vehicle Size Vehicle Type  \n",
              "0      Medsize          NaN  \n",
              "1      Medsize          NaN  \n",
              "2      Medsize            A  \n",
              "3      Medsize            A  \n",
              "4      Medsize          NaN  \n",
              "\n",
              "[5 rows x 26 columns]"
            ]
          },
          "execution_count": 66,
          "metadata": {},
          "output_type": "execute_result"
        }
      ],
      "source": [
        "import pandas as pd\n",
        "df = pd.read_csv(\"https://raw.githubusercontent.com/data-bootcamp-v4/data/main/marketing_customer_analysis.csv\")\n",
        "df.head()"
      ]
    },
    {
      "cell_type": "code",
      "execution_count": 67,
      "id": "369acd5f",
      "metadata": {},
      "outputs": [
        {
          "data": {
            "text/plain": [
              "(10910, 26)"
            ]
          },
          "execution_count": 67,
          "metadata": {},
          "output_type": "execute_result"
        }
      ],
      "source": [
        "df.shape"
      ]
    },
    {
      "cell_type": "code",
      "execution_count": 68,
      "id": "629321fd",
      "metadata": {},
      "outputs": [],
      "source": [
        "df.columns = df.columns.str.lower().str.replace(\" \",\"_\")"
      ]
    },
    {
      "cell_type": "code",
      "execution_count": 69,
      "id": "00834259",
      "metadata": {},
      "outputs": [],
      "source": [
        "df.drop(['unnamed:_0','vehicle_type'],axis=1, inplace=True)"
      ]
    },
    {
      "cell_type": "code",
      "execution_count": 70,
      "id": "5558069a",
      "metadata": {},
      "outputs": [
        {
          "name": "stderr",
          "output_type": "stream",
          "text": [
            "C:\\Users\\rocio\\AppData\\Local\\Temp\\ipykernel_15392\\3970806690.py:1: FutureWarning: DataFrame.fillna with 'method' is deprecated and will raise in a future version. Use obj.ffill() or obj.bfill() instead.\n",
            "  df.fillna(method='ffill', inplace=True)\n"
          ]
        }
      ],
      "source": [
        "df.fillna(method='ffill', inplace=True)"
      ]
    },
    {
      "cell_type": "code",
      "execution_count": 71,
      "id": "c582748c",
      "metadata": {},
      "outputs": [],
      "source": [
        "df.drop_duplicates(inplace=True)"
      ]
    },
    {
      "cell_type": "markdown",
      "id": "9c98ddc5-b041-4c94-ada1-4dfee5c98e50",
      "metadata": {
        "id": "9c98ddc5-b041-4c94-ada1-4dfee5c98e50"
      },
      "source": [
        "1. Create a new DataFrame that only includes customers who have a total_claim_amount greater than $1,000 and have a response of \"Yes\" to the last marketing campaign."
      ]
    },
    {
      "cell_type": "code",
      "execution_count": 72,
      "id": "05a2a0c7",
      "metadata": {},
      "outputs": [],
      "source": [
        "df_new = df[(df['total_claim_amount']>1000)&(df['response'] == 'Yes')]\n",
        "df_new.reset_index(drop=True, inplace=True)"
      ]
    },
    {
      "cell_type": "code",
      "execution_count": 73,
      "id": "a243d230",
      "metadata": {},
      "outputs": [
        {
          "data": {
            "text/html": [
              "<div>\n",
              "<style scoped>\n",
              "    .dataframe tbody tr th:only-of-type {\n",
              "        vertical-align: middle;\n",
              "    }\n",
              "\n",
              "    .dataframe tbody tr th {\n",
              "        vertical-align: top;\n",
              "    }\n",
              "\n",
              "    .dataframe thead th {\n",
              "        text-align: right;\n",
              "    }\n",
              "</style>\n",
              "<table border=\"1\" class=\"dataframe\">\n",
              "  <thead>\n",
              "    <tr style=\"text-align: right;\">\n",
              "      <th></th>\n",
              "      <th>customer</th>\n",
              "      <th>state</th>\n",
              "      <th>customer_lifetime_value</th>\n",
              "      <th>response</th>\n",
              "      <th>coverage</th>\n",
              "      <th>education</th>\n",
              "      <th>effective_to_date</th>\n",
              "      <th>employmentstatus</th>\n",
              "      <th>gender</th>\n",
              "      <th>income</th>\n",
              "      <th>...</th>\n",
              "      <th>months_since_policy_inception</th>\n",
              "      <th>number_of_open_complaints</th>\n",
              "      <th>number_of_policies</th>\n",
              "      <th>policy_type</th>\n",
              "      <th>policy</th>\n",
              "      <th>renew_offer_type</th>\n",
              "      <th>sales_channel</th>\n",
              "      <th>total_claim_amount</th>\n",
              "      <th>vehicle_class</th>\n",
              "      <th>vehicle_size</th>\n",
              "    </tr>\n",
              "  </thead>\n",
              "  <tbody>\n",
              "    <tr>\n",
              "      <th>0</th>\n",
              "      <td>OK31456</td>\n",
              "      <td>California</td>\n",
              "      <td>11009.130490</td>\n",
              "      <td>Yes</td>\n",
              "      <td>Premium</td>\n",
              "      <td>Bachelor</td>\n",
              "      <td>1/24/11</td>\n",
              "      <td>Employed</td>\n",
              "      <td>F</td>\n",
              "      <td>51643</td>\n",
              "      <td>...</td>\n",
              "      <td>43</td>\n",
              "      <td>0.0</td>\n",
              "      <td>1</td>\n",
              "      <td>Corporate Auto</td>\n",
              "      <td>Corporate L3</td>\n",
              "      <td>Offer2</td>\n",
              "      <td>Agent</td>\n",
              "      <td>1358.400000</td>\n",
              "      <td>Luxury Car</td>\n",
              "      <td>Medsize</td>\n",
              "    </tr>\n",
              "    <tr>\n",
              "      <th>1</th>\n",
              "      <td>YJ16163</td>\n",
              "      <td>Oregon</td>\n",
              "      <td>11009.130490</td>\n",
              "      <td>Yes</td>\n",
              "      <td>Premium</td>\n",
              "      <td>Bachelor</td>\n",
              "      <td>1/24/11</td>\n",
              "      <td>Employed</td>\n",
              "      <td>F</td>\n",
              "      <td>51643</td>\n",
              "      <td>...</td>\n",
              "      <td>43</td>\n",
              "      <td>0.0</td>\n",
              "      <td>1</td>\n",
              "      <td>Special Auto</td>\n",
              "      <td>Special L3</td>\n",
              "      <td>Offer2</td>\n",
              "      <td>Agent</td>\n",
              "      <td>1358.400000</td>\n",
              "      <td>Luxury Car</td>\n",
              "      <td>Medsize</td>\n",
              "    </tr>\n",
              "    <tr>\n",
              "      <th>2</th>\n",
              "      <td>GW43195</td>\n",
              "      <td>Oregon</td>\n",
              "      <td>25807.063000</td>\n",
              "      <td>Yes</td>\n",
              "      <td>Extended</td>\n",
              "      <td>College</td>\n",
              "      <td>2/13/11</td>\n",
              "      <td>Employed</td>\n",
              "      <td>F</td>\n",
              "      <td>71210</td>\n",
              "      <td>...</td>\n",
              "      <td>89</td>\n",
              "      <td>1.0</td>\n",
              "      <td>2</td>\n",
              "      <td>Personal Auto</td>\n",
              "      <td>Personal L2</td>\n",
              "      <td>Offer1</td>\n",
              "      <td>Branch</td>\n",
              "      <td>1027.200000</td>\n",
              "      <td>Luxury Car</td>\n",
              "      <td>Small</td>\n",
              "    </tr>\n",
              "    <tr>\n",
              "      <th>3</th>\n",
              "      <td>IP94270</td>\n",
              "      <td>Arizona</td>\n",
              "      <td>13736.132500</td>\n",
              "      <td>Yes</td>\n",
              "      <td>Premium</td>\n",
              "      <td>Master</td>\n",
              "      <td>2/13/11</td>\n",
              "      <td>Disabled</td>\n",
              "      <td>F</td>\n",
              "      <td>16181</td>\n",
              "      <td>...</td>\n",
              "      <td>79</td>\n",
              "      <td>0.0</td>\n",
              "      <td>8</td>\n",
              "      <td>Personal Auto</td>\n",
              "      <td>Personal L2</td>\n",
              "      <td>Offer1</td>\n",
              "      <td>Web</td>\n",
              "      <td>1261.319869</td>\n",
              "      <td>SUV</td>\n",
              "      <td>Medsize</td>\n",
              "    </tr>\n",
              "    <tr>\n",
              "      <th>4</th>\n",
              "      <td>FJ28407</td>\n",
              "      <td>California</td>\n",
              "      <td>5619.689084</td>\n",
              "      <td>Yes</td>\n",
              "      <td>Premium</td>\n",
              "      <td>High School or Below</td>\n",
              "      <td>1/26/11</td>\n",
              "      <td>Unemployed</td>\n",
              "      <td>M</td>\n",
              "      <td>0</td>\n",
              "      <td>...</td>\n",
              "      <td>5</td>\n",
              "      <td>0.0</td>\n",
              "      <td>1</td>\n",
              "      <td>Personal Auto</td>\n",
              "      <td>Personal L1</td>\n",
              "      <td>Offer2</td>\n",
              "      <td>Web</td>\n",
              "      <td>1027.000029</td>\n",
              "      <td>SUV</td>\n",
              "      <td>Medsize</td>\n",
              "    </tr>\n",
              "  </tbody>\n",
              "</table>\n",
              "<p>5 rows × 24 columns</p>\n",
              "</div>"
            ],
            "text/plain": [
              "  customer       state  customer_lifetime_value response  coverage  \\\n",
              "0  OK31456  California             11009.130490      Yes   Premium   \n",
              "1  YJ16163      Oregon             11009.130490      Yes   Premium   \n",
              "2  GW43195      Oregon             25807.063000      Yes  Extended   \n",
              "3  IP94270     Arizona             13736.132500      Yes   Premium   \n",
              "4  FJ28407  California              5619.689084      Yes   Premium   \n",
              "\n",
              "              education effective_to_date employmentstatus gender  income  \\\n",
              "0              Bachelor           1/24/11         Employed      F   51643   \n",
              "1              Bachelor           1/24/11         Employed      F   51643   \n",
              "2               College           2/13/11         Employed      F   71210   \n",
              "3                Master           2/13/11         Disabled      F   16181   \n",
              "4  High School or Below           1/26/11       Unemployed      M       0   \n",
              "\n",
              "   ... months_since_policy_inception number_of_open_complaints  \\\n",
              "0  ...                            43                       0.0   \n",
              "1  ...                            43                       0.0   \n",
              "2  ...                            89                       1.0   \n",
              "3  ...                            79                       0.0   \n",
              "4  ...                             5                       0.0   \n",
              "\n",
              "   number_of_policies     policy_type        policy  renew_offer_type  \\\n",
              "0                   1  Corporate Auto  Corporate L3            Offer2   \n",
              "1                   1    Special Auto    Special L3            Offer2   \n",
              "2                   2   Personal Auto   Personal L2            Offer1   \n",
              "3                   8   Personal Auto   Personal L2            Offer1   \n",
              "4                   1   Personal Auto   Personal L1            Offer2   \n",
              "\n",
              "   sales_channel total_claim_amount vehicle_class vehicle_size  \n",
              "0          Agent        1358.400000    Luxury Car      Medsize  \n",
              "1          Agent        1358.400000    Luxury Car      Medsize  \n",
              "2         Branch        1027.200000    Luxury Car        Small  \n",
              "3            Web        1261.319869           SUV      Medsize  \n",
              "4            Web        1027.000029           SUV      Medsize  \n",
              "\n",
              "[5 rows x 24 columns]"
            ]
          },
          "execution_count": 73,
          "metadata": {},
          "output_type": "execute_result"
        }
      ],
      "source": [
        "df_new.head()"
      ]
    },
    {
      "cell_type": "markdown",
      "id": "b9be383e-5165-436e-80c8-57d4c757c8c3",
      "metadata": {
        "id": "b9be383e-5165-436e-80c8-57d4c757c8c3"
      },
      "source": [
        "2. Using the original Dataframe, analyze the average total_claim_amount by each policy type and gender for customers who have responded \"Yes\" to the last marketing campaign. Write your conclusions."
      ]
    },
    {
      "cell_type": "code",
      "execution_count": 74,
      "id": "e3ff8249",
      "metadata": {},
      "outputs": [
        {
          "data": {
            "text/plain": [
              "policy_type     gender\n",
              "Corporate Auto  F         436.621207\n",
              "                M         404.803854\n",
              "Personal Auto   F         447.986634\n",
              "                M         454.873518\n",
              "Special Auto    F         453.280164\n",
              "                M         429.527942\n",
              "Name: total_claim_amount, dtype: float64"
            ]
          },
          "execution_count": 74,
          "metadata": {},
          "output_type": "execute_result"
        }
      ],
      "source": [
        "yesy = df[df['response'] == 'Yes']\n",
        "yesy.groupby(['policy_type','gender'])['total_claim_amount'].mean()"
      ]
    },
    {
      "cell_type": "code",
      "execution_count": 75,
      "id": "799d6775",
      "metadata": {},
      "outputs": [],
      "source": [
        "#La mujeres reclaman mas, excepto en el de personal auto, que los hombres les superan por poquito.\n",
        "#Personal auto tiene una media mayor de reclamos que el resto, la mas baja es la de corporate auto. "
      ]
    },
    {
      "cell_type": "markdown",
      "id": "7050f4ac-53c5-4193-a3c0-8699b87196f0",
      "metadata": {
        "id": "7050f4ac-53c5-4193-a3c0-8699b87196f0"
      },
      "source": [
        "3. Analyze the total number of customers who have policies in each state, and then filter the results to only include states where there are more than 500 customers."
      ]
    },
    {
      "cell_type": "code",
      "execution_count": 78,
      "id": "e5178f94",
      "metadata": {},
      "outputs": [],
      "source": [
        "clients = df['state'].value_counts()"
      ]
    },
    {
      "cell_type": "code",
      "execution_count": 80,
      "id": "fbf474e6",
      "metadata": {},
      "outputs": [],
      "source": [
        "masde = clients[clients>500]"
      ]
    },
    {
      "cell_type": "code",
      "execution_count": 82,
      "id": "d2112d3d",
      "metadata": {},
      "outputs": [
        {
          "data": {
            "text/plain": [
              "state\n",
              "California    3694\n",
              "Oregon        3006\n",
              "Arizona       2024\n",
              "Nevada        1037\n",
              "Washington     938\n",
              "Name: count, dtype: int64"
            ]
          },
          "execution_count": 82,
          "metadata": {},
          "output_type": "execute_result"
        }
      ],
      "source": [
        "masde"
      ]
    },
    {
      "cell_type": "markdown",
      "id": "b60a4443-a1a7-4bbf-b78e-9ccdf9895e0d",
      "metadata": {
        "id": "b60a4443-a1a7-4bbf-b78e-9ccdf9895e0d"
      },
      "source": [
        "4. Find the maximum, minimum, and median customer lifetime value by education level and gender. Write your conclusions."
      ]
    },
    {
      "cell_type": "code",
      "execution_count": 84,
      "id": "61474d1c",
      "metadata": {},
      "outputs": [
        {
          "data": {
            "text/html": [
              "<div>\n",
              "<style scoped>\n",
              "    .dataframe tbody tr th:only-of-type {\n",
              "        vertical-align: middle;\n",
              "    }\n",
              "\n",
              "    .dataframe tbody tr th {\n",
              "        vertical-align: top;\n",
              "    }\n",
              "\n",
              "    .dataframe thead th {\n",
              "        text-align: right;\n",
              "    }\n",
              "</style>\n",
              "<table border=\"1\" class=\"dataframe\">\n",
              "  <thead>\n",
              "    <tr style=\"text-align: right;\">\n",
              "      <th></th>\n",
              "      <th></th>\n",
              "      <th>max</th>\n",
              "      <th>min</th>\n",
              "      <th>mean</th>\n",
              "    </tr>\n",
              "    <tr>\n",
              "      <th>education</th>\n",
              "      <th>gender</th>\n",
              "      <th></th>\n",
              "      <th></th>\n",
              "      <th></th>\n",
              "    </tr>\n",
              "  </thead>\n",
              "  <tbody>\n",
              "    <tr>\n",
              "      <th rowspan=\"2\" valign=\"top\">Bachelor</th>\n",
              "      <th>F</th>\n",
              "      <td>73225.95652</td>\n",
              "      <td>1904.000852</td>\n",
              "      <td>7922.170832</td>\n",
              "    </tr>\n",
              "    <tr>\n",
              "      <th>M</th>\n",
              "      <td>67907.27050</td>\n",
              "      <td>1898.007675</td>\n",
              "      <td>7697.070241</td>\n",
              "    </tr>\n",
              "    <tr>\n",
              "      <th rowspan=\"2\" valign=\"top\">College</th>\n",
              "      <th>F</th>\n",
              "      <td>61850.18803</td>\n",
              "      <td>1898.683686</td>\n",
              "      <td>7740.944654</td>\n",
              "    </tr>\n",
              "    <tr>\n",
              "      <th>M</th>\n",
              "      <td>61134.68307</td>\n",
              "      <td>1918.119700</td>\n",
              "      <td>8036.467692</td>\n",
              "    </tr>\n",
              "    <tr>\n",
              "      <th rowspan=\"2\" valign=\"top\">Doctor</th>\n",
              "      <th>F</th>\n",
              "      <td>44856.11397</td>\n",
              "      <td>2395.570000</td>\n",
              "      <td>7446.531974</td>\n",
              "    </tr>\n",
              "    <tr>\n",
              "      <th>M</th>\n",
              "      <td>32677.34284</td>\n",
              "      <td>2267.604038</td>\n",
              "      <td>7415.333638</td>\n",
              "    </tr>\n",
              "    <tr>\n",
              "      <th rowspan=\"2\" valign=\"top\">High School or Below</th>\n",
              "      <th>F</th>\n",
              "      <td>55277.44589</td>\n",
              "      <td>2144.921535</td>\n",
              "      <td>8642.706751</td>\n",
              "    </tr>\n",
              "    <tr>\n",
              "      <th>M</th>\n",
              "      <td>83325.38119</td>\n",
              "      <td>1940.981221</td>\n",
              "      <td>8165.730779</td>\n",
              "    </tr>\n",
              "    <tr>\n",
              "      <th rowspan=\"2\" valign=\"top\">Master</th>\n",
              "      <th>F</th>\n",
              "      <td>51016.06704</td>\n",
              "      <td>2417.777032</td>\n",
              "      <td>8169.796922</td>\n",
              "    </tr>\n",
              "    <tr>\n",
              "      <th>M</th>\n",
              "      <td>50568.25912</td>\n",
              "      <td>2272.307310</td>\n",
              "      <td>8228.550419</td>\n",
              "    </tr>\n",
              "  </tbody>\n",
              "</table>\n",
              "</div>"
            ],
            "text/plain": [
              "                                     max          min         mean\n",
              "education            gender                                       \n",
              "Bachelor             F       73225.95652  1904.000852  7922.170832\n",
              "                     M       67907.27050  1898.007675  7697.070241\n",
              "College              F       61850.18803  1898.683686  7740.944654\n",
              "                     M       61134.68307  1918.119700  8036.467692\n",
              "Doctor               F       44856.11397  2395.570000  7446.531974\n",
              "                     M       32677.34284  2267.604038  7415.333638\n",
              "High School or Below F       55277.44589  2144.921535  8642.706751\n",
              "                     M       83325.38119  1940.981221  8165.730779\n",
              "Master               F       51016.06704  2417.777032  8169.796922\n",
              "                     M       50568.25912  2272.307310  8228.550419"
            ]
          },
          "execution_count": 84,
          "metadata": {},
          "output_type": "execute_result"
        }
      ],
      "source": [
        "df.groupby(['education','gender'])['customer_lifetime_value'].agg(['max','min','mean'])"
      ]
    },
    {
      "cell_type": "code",
      "execution_count": 85,
      "id": "7cdab984",
      "metadata": {},
      "outputs": [],
      "source": [
        "# las mujeres tienen un menor ingreso máximo que los hombres excepto en HSoB, teniendo el mayor promedio de ingresos, eso quiere decir que no hay relacion entre los estudios y los ingresos.\n"
      ]
    },
    {
      "cell_type": "markdown",
      "id": "b42999f9-311f-481e-ae63-40a5577072c5",
      "metadata": {
        "id": "b42999f9-311f-481e-ae63-40a5577072c5"
      },
      "source": [
        "## Bonus"
      ]
    },
    {
      "cell_type": "markdown",
      "id": "81ff02c5-6584-4f21-a358-b918697c6432",
      "metadata": {
        "id": "81ff02c5-6584-4f21-a358-b918697c6432"
      },
      "source": [
        "5. The marketing team wants to analyze the number of policies sold by state and month. Present the data in a table where the months are arranged as columns and the states are arranged as rows."
      ]
    },
    {
      "cell_type": "code",
      "execution_count": null,
      "id": "49f1ca04",
      "metadata": {},
      "outputs": [],
      "source": []
    },
    {
      "cell_type": "markdown",
      "id": "b6aec097-c633-4017-a125-e77a97259cda",
      "metadata": {
        "id": "b6aec097-c633-4017-a125-e77a97259cda"
      },
      "source": [
        "6.  Display a new DataFrame that contains the number of policies sold by month, by state, for the top 3 states with the highest number of policies sold.\n",
        "\n",
        "*Hint:*\n",
        "- *To accomplish this, you will first need to group the data by state and month, then count the number of policies sold for each group. Afterwards, you will need to sort the data by the count of policies sold in descending order.*\n",
        "- *Next, you will select the top 3 states with the highest number of policies sold.*\n",
        "- *Finally, you will create a new DataFrame that contains the number of policies sold by month for each of the top 3 states.*"
      ]
    },
    {
      "cell_type": "markdown",
      "id": "ba975b8a-a2cf-4fbf-9f59-ebc381767009",
      "metadata": {
        "id": "ba975b8a-a2cf-4fbf-9f59-ebc381767009"
      },
      "source": [
        "7. The marketing team wants to analyze the effect of different marketing channels on the customer response rate.\n",
        "\n",
        "Hint: You can use melt to unpivot the data and create a table that shows the customer response rate (those who responded \"Yes\") by marketing channel."
      ]
    },
    {
      "cell_type": "markdown",
      "id": "e4378d94-48fb-4850-a802-b1bc8f427b2d",
      "metadata": {
        "id": "e4378d94-48fb-4850-a802-b1bc8f427b2d"
      },
      "source": [
        "External Resources for Data Filtering: https://towardsdatascience.com/filtering-data-frames-in-pandas-b570b1f834b9"
      ]
    },
    {
      "cell_type": "code",
      "execution_count": null,
      "id": "449513f4-0459-46a0-a18d-9398d974c9ad",
      "metadata": {
        "id": "449513f4-0459-46a0-a18d-9398d974c9ad"
      },
      "outputs": [],
      "source": [
        "# your code goes here"
      ]
    }
  ],
  "metadata": {
    "colab": {
      "provenance": []
    },
    "kernelspec": {
      "display_name": "base",
      "language": "python",
      "name": "python3"
    },
    "language_info": {
      "codemirror_mode": {
        "name": "ipython",
        "version": 3
      },
      "file_extension": ".py",
      "mimetype": "text/x-python",
      "name": "python",
      "nbconvert_exporter": "python",
      "pygments_lexer": "ipython3",
      "version": "3.12.7"
    }
  },
  "nbformat": 4,
  "nbformat_minor": 5
}
