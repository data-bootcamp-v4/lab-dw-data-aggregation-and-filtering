{
  "cells": [
    {
      "cell_type": "markdown",
      "id": "31969215-2a90-4d8b-ac36-646a7ae13744",
      "metadata": {
        "id": "31969215-2a90-4d8b-ac36-646a7ae13744"
      },
      "source": [
        "# Lab | Data Aggregation and Filtering"
      ]
    },
    {
      "cell_type": "markdown",
      "id": "a8f08a52-bec0-439b-99cc-11d3809d8b5d",
      "metadata": {
        "id": "a8f08a52-bec0-439b-99cc-11d3809d8b5d"
      },
      "source": [
        "In this challenge, we will continue to work with customer data from an insurance company. We will use the dataset called marketing_customer_analysis.csv, which can be found at the following link:\n",
        "\n",
        "https://raw.githubusercontent.com/data-bootcamp-v4/data/main/marketing_customer_analysis.csv\n",
        "\n",
        "This dataset contains information such as customer demographics, policy details, vehicle information, and the customer's response to the last marketing campaign. Our goal is to explore and analyze this data by first performing data cleaning, formatting, and structuring."
      ]
    },
    {
      "cell_type": "markdown",
      "id": "9c98ddc5-b041-4c94-ada1-4dfee5c98e50",
      "metadata": {
        "id": "9c98ddc5-b041-4c94-ada1-4dfee5c98e50"
      },
      "source": [
        "1. Create a new DataFrame that only includes customers who have a total_claim_amount greater than $1,000 and have a response of \"Yes\" to the last marketing campaign."
      ]
    },
    {
      "cell_type": "markdown",
      "id": "b9be383e-5165-436e-80c8-57d4c757c8c3",
      "metadata": {
        "id": "b9be383e-5165-436e-80c8-57d4c757c8c3"
      },
      "source": [
        "2. Using the original Dataframe, analyze the average total_claim_amount by each policy type and gender for customers who have responded \"Yes\" to the last marketing campaign. Write your conclusions."
      ]
    },
    {
      "cell_type": "markdown",
      "id": "7050f4ac-53c5-4193-a3c0-8699b87196f0",
      "metadata": {
        "id": "7050f4ac-53c5-4193-a3c0-8699b87196f0"
      },
      "source": [
        "3. Analyze the total number of customers who have policies in each state, and then filter the results to only include states where there are more than 500 customers."
      ]
    },
    {
      "cell_type": "markdown",
      "id": "b60a4443-a1a7-4bbf-b78e-9ccdf9895e0d",
      "metadata": {
        "id": "b60a4443-a1a7-4bbf-b78e-9ccdf9895e0d"
      },
      "source": [
        "4. Find the maximum, minimum, and median customer lifetime value by education level and gender. Write your conclusions."
      ]
    },
    {
      "cell_type": "code",
      "execution_count": 1,
      "id": "86d101fb",
      "metadata": {},
      "outputs": [
        {
          "name": "stdout",
          "output_type": "stream",
          "text": [
            "Clientes con total_claim_amount > 1000 y respuesta 'Yes':\n",
            "     unnamed:_0 customer       state  customer_lifetime_value response  \\\n",
            "189         189  OK31456  California             11009.130490      Yes   \n",
            "236         236  YJ16163      Oregon             11009.130490      Yes   \n",
            "419         419  GW43195      Oregon             25807.063000      Yes   \n",
            "442         442  IP94270     Arizona             13736.132500      Yes   \n",
            "587         587  FJ28407  California              5619.689084      Yes   \n",
            "\n",
            "     coverage             education effective_to_date employmentstatus gender  \\\n",
            "189   Premium              Bachelor           1/24/11         Employed      F   \n",
            "236   Premium              Bachelor           1/24/11         Employed      F   \n",
            "419  Extended               College           2/13/11         Employed      F   \n",
            "442   Premium                Master           2/13/11         Disabled      F   \n",
            "587   Premium  High School or Below           1/26/11       Unemployed      M   \n",
            "\n",
            "     ...  number_of_open_complaints number_of_policies     policy_type  \\\n",
            "189  ...                        0.0                  1  Corporate Auto   \n",
            "236  ...                        0.0                  1    Special Auto   \n",
            "419  ...                        1.0                  2   Personal Auto   \n",
            "442  ...                        0.0                  8   Personal Auto   \n",
            "587  ...                        0.0                  1   Personal Auto   \n",
            "\n",
            "           policy  renew_offer_type  sales_channel  total_claim_amount  \\\n",
            "189  Corporate L3            Offer2          Agent         1358.400000   \n",
            "236    Special L3            Offer2          Agent         1358.400000   \n",
            "419   Personal L2            Offer1         Branch         1027.200000   \n",
            "442   Personal L2            Offer1            Web         1261.319869   \n",
            "587   Personal L1            Offer2            Web         1027.000029   \n",
            "\n",
            "     vehicle_class vehicle_size vehicle_type  \n",
            "189     Luxury Car      Medsize          NaN  \n",
            "236     Luxury Car      Medsize            A  \n",
            "419     Luxury Car        Small            A  \n",
            "442            SUV      Medsize            A  \n",
            "587            SUV      Medsize            A  \n",
            "\n",
            "[5 rows x 26 columns]\n",
            "\n",
            "Promedio de total_claim_amount por tipo de póliza y género (response = Yes):\n",
            "policy_type     gender\n",
            "Corporate Auto  F         433.74\n",
            "                M         408.58\n",
            "Personal Auto   F         452.97\n",
            "                M         457.01\n",
            "Special Auto    F         453.28\n",
            "                M         429.53\n",
            "Name: total_claim_amount, dtype: float64\n",
            "\n",
            "Estados con más de 500 clientes:\n",
            "state\n",
            "California    3552\n",
            "Oregon        2909\n",
            "Arizona       1937\n",
            "Nevada         993\n",
            "Washington     888\n",
            "Name: count, dtype: int64\n",
            "\n",
            "Estadísticas de customer_lifetime_value por nivel educativo y género:\n",
            "                                  max      min   median\n",
            "education            gender                            \n",
            "Bachelor             F       73225.96  1904.00  5640.51\n",
            "                     M       67907.27  1898.01  5548.03\n",
            "College              F       61850.19  1898.68  5623.61\n",
            "                     M       61134.68  1918.12  6005.85\n",
            "Doctor               F       44856.11  2395.57  5332.46\n",
            "                     M       32677.34  2267.60  5577.67\n",
            "High School or Below F       55277.45  2144.92  6039.55\n",
            "                     M       83325.38  1940.98  6286.73\n",
            "Master               F       51016.07  2417.78  5729.86\n",
            "                     M       50568.26  2272.31  5579.10\n"
          ]
        }
      ],
      "source": [
        "import pandas as pd\n",
        "\n",
        "# Cargar el dataset\n",
        "url = \"https://raw.githubusercontent.com/data-bootcamp-v4/data/main/marketing_customer_analysis.csv\"\n",
        "df = pd.read_csv(url)\n",
        "\n",
        "# Limpiar nombres de columnas\n",
        "df.columns = df.columns.str.strip().str.lower().str.replace(' ', '_')\n",
        "\n",
        "# 1. Filtrar clientes con total_claim_amount > 1000 y respuesta \"Yes\"\n",
        "filtered_df = df[(df['total_claim_amount'] > 1000) & (df['response'] == 'Yes')]\n",
        "print(\"Clientes con total_claim_amount > 1000 y respuesta 'Yes':\")\n",
        "print(filtered_df.head())\n",
        "\n",
        "# 2. Promedio de total_claim_amount por policy_type y gender para quienes respondieron \"Yes\"\n",
        "yes_df = df[df['response'] == 'Yes']\n",
        "average_claim = yes_df.groupby(['policy_type', 'gender'])['total_claim_amount'].mean().round(2)\n",
        "print(\"\\nPromedio de total_claim_amount por tipo de póliza y género (response = Yes):\")\n",
        "print(average_claim)\n",
        "\n",
        "# 3. Número total de clientes por estado (solo mostrar estados con más de 500 clientes)\n",
        "clientes_por_estado = df['state'].value_counts()\n",
        "estados_500 = clientes_por_estado[clientes_por_estado > 500]\n",
        "print(\"\\nEstados con más de 500 clientes:\")\n",
        "print(estados_500)\n",
        "\n",
        "# 4. Máximo, mínimo y mediana de customer_lifetime_value por education y gender\n",
        "clv_stats = df.groupby(['education', 'gender'])['customer_lifetime_value'].agg(['max', 'min', 'median']).round(2)\n",
        "print(\"\\nEstadísticas de customer_lifetime_value por nivel educativo y género:\")\n",
        "print(clv_stats)\n"
      ]
    },
    {
      "cell_type": "markdown",
      "id": "b42999f9-311f-481e-ae63-40a5577072c5",
      "metadata": {
        "id": "b42999f9-311f-481e-ae63-40a5577072c5"
      },
      "source": [
        "## Bonus"
      ]
    },
    {
      "cell_type": "markdown",
      "id": "81ff02c5-6584-4f21-a358-b918697c6432",
      "metadata": {
        "id": "81ff02c5-6584-4f21-a358-b918697c6432"
      },
      "source": [
        "5. The marketing team wants to analyze the number of policies sold by state and month. Present the data in a table where the months are arranged as columns and the states are arranged as rows."
      ]
    },
    {
      "cell_type": "markdown",
      "id": "b6aec097-c633-4017-a125-e77a97259cda",
      "metadata": {
        "id": "b6aec097-c633-4017-a125-e77a97259cda"
      },
      "source": [
        "6.  Display a new DataFrame that contains the number of policies sold by month, by state, for the top 3 states with the highest number of policies sold.\n",
        "\n",
        "*Hint:*\n",
        "- *To accomplish this, you will first need to group the data by state and month, then count the number of policies sold for each group. Afterwards, you will need to sort the data by the count of policies sold in descending order.*\n",
        "- *Next, you will select the top 3 states with the highest number of policies sold.*\n",
        "- *Finally, you will create a new DataFrame that contains the number of policies sold by month for each of the top 3 states.*"
      ]
    },
    {
      "cell_type": "markdown",
      "id": "ba975b8a-a2cf-4fbf-9f59-ebc381767009",
      "metadata": {
        "id": "ba975b8a-a2cf-4fbf-9f59-ebc381767009"
      },
      "source": [
        "7. The marketing team wants to analyze the effect of different marketing channels on the customer response rate.\n",
        "\n",
        "Hint: You can use melt to unpivot the data and create a table that shows the customer response rate (those who responded \"Yes\") by marketing channel."
      ]
    },
    {
      "cell_type": "markdown",
      "id": "e4378d94-48fb-4850-a802-b1bc8f427b2d",
      "metadata": {
        "id": "e4378d94-48fb-4850-a802-b1bc8f427b2d"
      },
      "source": [
        "External Resources for Data Filtering: https://towardsdatascience.com/filtering-data-frames-in-pandas-b570b1f834b9"
      ]
    },
    {
      "cell_type": "code",
      "execution_count": 2,
      "id": "449513f4-0459-46a0-a18d-9398d974c9ad",
      "metadata": {
        "id": "449513f4-0459-46a0-a18d-9398d974c9ad"
      },
      "outputs": [
        {
          "name": "stderr",
          "output_type": "stream",
          "text": [
            "/var/folders/fn/p25q3z154s1c65ncyj7gy2mr0000gn/T/ipykernel_28442/3461639315.py:2: UserWarning: Could not infer format, so each element will be parsed individually, falling back to `dateutil`. To ensure parsing is consistent and as-expected, please specify a format.\n",
            "  df['effective_to_date'] = pd.to_datetime(df['effective_to_date'])\n"
          ]
        },
        {
          "name": "stdout",
          "output_type": "stream",
          "text": [
            "month          1     2\n",
            "state                 \n",
            "Arizona     1008   929\n",
            "California  1918  1634\n",
            "Oregon      1565  1344\n"
          ]
        }
      ],
      "source": [
        "# Asegurarse de que la columna de fecha esté en formato datetime\n",
        "df['effective_to_date'] = pd.to_datetime(df['effective_to_date'])\n",
        "\n",
        "# Crear columna de mes\n",
        "df['month'] = df['effective_to_date'].dt.month\n",
        "\n",
        "# Contar pólizas por estado y mes\n",
        "policies_by_state_month = df.groupby(['state', 'month']).size().reset_index(name='policy_count')\n",
        "\n",
        "# Total de pólizas por estado\n",
        "total_by_state = policies_by_state_month.groupby('state')['policy_count'].sum().reset_index()\n",
        "\n",
        "# Seleccionar los 3 estados con más ventas\n",
        "top_states = total_by_state.sort_values(by='policy_count', ascending=False).head(3)['state']\n",
        "\n",
        "# Filtrar los datos para solo esos estados\n",
        "top_data = policies_by_state_month[policies_by_state_month['state'].isin(top_states)]\n",
        "\n",
        "# Crear tabla con filas = estados y columnas = meses\n",
        "pivot_policies = top_data.pivot(index='state', columns='month', values='policy_count').fillna(0)\n",
        "\n",
        "print(pivot_policies)\n"
      ]
    },
    {
      "cell_type": "code",
      "execution_count": 3,
      "id": "53ee3701",
      "metadata": {},
      "outputs": [
        {
          "name": "stdout",
          "output_type": "stream",
          "text": [
            "               Total Customers  Responded Yes  Response Rate (%)\n",
            "sales_channel                                                   \n",
            "Agent                     4121            742              18.01\n",
            "Branch                    3022            326              10.79\n",
            "Call Center               2141            221              10.32\n",
            "Web                       1626            177              10.89\n"
          ]
        }
      ],
      "source": [
        "# Total de clientes por canal\n",
        "total_by_channel = df['sales_channel'].value_counts()\n",
        "\n",
        "# Clientes que respondieron \"Yes\" por canal\n",
        "yes_by_channel = df[df['response'] == 'Yes']['sales_channel'].value_counts()\n",
        "\n",
        "# Calcular porcentaje de respuesta por canal\n",
        "response_rate = (yes_by_channel / total_by_channel * 100).round(2)\n",
        "\n",
        "# Mostrar el resultado como DataFrame\n",
        "response_table = pd.DataFrame({\n",
        "    'Total Customers': total_by_channel,\n",
        "    'Responded Yes': yes_by_channel,\n",
        "    'Response Rate (%)': response_rate\n",
        "})\n",
        "\n",
        "print(response_table)\n"
      ]
    }
  ],
  "metadata": {
    "colab": {
      "provenance": []
    },
    "kernelspec": {
      "display_name": "base",
      "language": "python",
      "name": "python3"
    },
    "language_info": {
      "codemirror_mode": {
        "name": "ipython",
        "version": 3
      },
      "file_extension": ".py",
      "mimetype": "text/x-python",
      "name": "python",
      "nbconvert_exporter": "python",
      "pygments_lexer": "ipython3",
      "version": "3.12.7"
    }
  },
  "nbformat": 4,
  "nbformat_minor": 5
}
