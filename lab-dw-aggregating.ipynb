{
 "cells": [
  {
   "cell_type": "markdown",
   "id": "31969215-2a90-4d8b-ac36-646a7ae13744",
   "metadata": {
    "id": "31969215-2a90-4d8b-ac36-646a7ae13744"
   },
   "source": [
    "# Lab | Data Aggregation and Filtering"
   ]
  },
  {
   "cell_type": "markdown",
   "id": "a8f08a52-bec0-439b-99cc-11d3809d8b5d",
   "metadata": {
    "id": "a8f08a52-bec0-439b-99cc-11d3809d8b5d"
   },
   "source": [
    "In this challenge, we will continue to work with customer data from an insurance company. We will use the dataset called marketing_customer_analysis.csv, which can be found at the following link:\n",
    "\n",
    "https://raw.githubusercontent.com/data-bootcamp-v4/data/main/marketing_customer_analysis.csv\n",
    "\n",
    "This dataset contains information such as customer demographics, policy details, vehicle information, and the customer's response to the last marketing campaign. Our goal is to explore and analyze this data by first performing data cleaning, formatting, and structuring."
   ]
  },
  {
   "cell_type": "markdown",
   "id": "9c98ddc5-b041-4c94-ada1-4dfee5c98e50",
   "metadata": {
    "id": "9c98ddc5-b041-4c94-ada1-4dfee5c98e50"
   },
   "source": [
    "1. Create a new DataFrame that only includes customers who have a total_claim_amount greater than $1,000 and have a response of \"Yes\" to the last marketing campaign."
   ]
  },
  {
   "cell_type": "markdown",
   "id": "b9be383e-5165-436e-80c8-57d4c757c8c3",
   "metadata": {
    "id": "b9be383e-5165-436e-80c8-57d4c757c8c3"
   },
   "source": [
    "2. Using the original Dataframe, analyze the average total_claim_amount by each policy type and gender for customers who have responded \"Yes\" to the last marketing campaign. Write your conclusions."
   ]
  },
  {
   "cell_type": "markdown",
   "id": "7050f4ac-53c5-4193-a3c0-8699b87196f0",
   "metadata": {
    "id": "7050f4ac-53c5-4193-a3c0-8699b87196f0"
   },
   "source": [
    "3. Analyze the total number of customers who have policies in each state, and then filter the results to only include states where there are more than 500 customers."
   ]
  },
  {
   "cell_type": "markdown",
   "id": "b60a4443-a1a7-4bbf-b78e-9ccdf9895e0d",
   "metadata": {
    "id": "b60a4443-a1a7-4bbf-b78e-9ccdf9895e0d"
   },
   "source": [
    "4. Find the maximum, minimum, and median customer lifetime value by education level and gender. Write your conclusions."
   ]
  },
  {
   "cell_type": "markdown",
   "id": "b42999f9-311f-481e-ae63-40a5577072c5",
   "metadata": {
    "id": "b42999f9-311f-481e-ae63-40a5577072c5"
   },
   "source": [
    "## Bonus"
   ]
  },
  {
   "cell_type": "markdown",
   "id": "81ff02c5-6584-4f21-a358-b918697c6432",
   "metadata": {
    "id": "81ff02c5-6584-4f21-a358-b918697c6432"
   },
   "source": [
    "5. The marketing team wants to analyze the number of policies sold by state and month. Present the data in a table where the months are arranged as columns and the states are arranged as rows."
   ]
  },
  {
   "cell_type": "markdown",
   "id": "b6aec097-c633-4017-a125-e77a97259cda",
   "metadata": {
    "id": "b6aec097-c633-4017-a125-e77a97259cda"
   },
   "source": [
    "6.  Display a new DataFrame that contains the number of policies sold by month, by state, for the top 3 states with the highest number of policies sold.\n",
    "\n",
    "*Hint:*\n",
    "- *To accomplish this, you will first need to group the data by state and month, then count the number of policies sold for each group. Afterwards, you will need to sort the data by the count of policies sold in descending order.*\n",
    "- *Next, you will select the top 3 states with the highest number of policies sold.*\n",
    "- *Finally, you will create a new DataFrame that contains the number of policies sold by month for each of the top 3 states.*"
   ]
  },
  {
   "cell_type": "markdown",
   "id": "ba975b8a-a2cf-4fbf-9f59-ebc381767009",
   "metadata": {
    "id": "ba975b8a-a2cf-4fbf-9f59-ebc381767009"
   },
   "source": [
    "7. The marketing team wants to analyze the effect of different marketing channels on the customer response rate.\n",
    "\n",
    "Hint: You can use melt to unpivot the data and create a table that shows the customer response rate (those who responded \"Yes\") by marketing channel."
   ]
  },
  {
   "cell_type": "markdown",
   "id": "e4378d94-48fb-4850-a802-b1bc8f427b2d",
   "metadata": {
    "id": "e4378d94-48fb-4850-a802-b1bc8f427b2d"
   },
   "source": [
    "External Resources for Data Filtering: https://towardsdatascience.com/filtering-data-frames-in-pandas-b570b1f834b9"
   ]
  },
  {
   "cell_type": "code",
   "execution_count": 4,
   "id": "a54541ed-b0be-4bf1-8f64-2edbc299fe68",
   "metadata": {},
   "outputs": [],
   "source": [
    "import pandas as pd"
   ]
  },
  {
   "cell_type": "code",
   "execution_count": 6,
   "id": "449513f4-0459-46a0-a18d-9398d974c9ad",
   "metadata": {
    "id": "449513f4-0459-46a0-a18d-9398d974c9ad"
   },
   "outputs": [],
   "source": [
    "# your code goes here\n",
    "url = \"https://raw.githubusercontent.com/data-bootcamp-v4/data/main/marketing_customer_analysis.csv\"\n",
    "df = pd.read_csv(url)"
   ]
  },
  {
   "cell_type": "code",
   "execution_count": 8,
   "id": "070dcd44-6c12-4473-b22c-880cb22b60ae",
   "metadata": {},
   "outputs": [
    {
     "name": "stdout",
     "output_type": "stream",
     "text": [
      "   Unnamed: 0 Customer       State  Customer Lifetime Value Response  \\\n",
      "0           0  DK49336     Arizona              4809.216960       No   \n",
      "1           1  KX64629  California              2228.525238       No   \n",
      "2           2  LZ68649  Washington             14947.917300       No   \n",
      "3           3  XL78013      Oregon             22332.439460      Yes   \n",
      "4           4  QA50777      Oregon              9025.067525       No   \n",
      "\n",
      "   Coverage Education Effective To Date EmploymentStatus Gender  ...  \\\n",
      "0     Basic   College           2/18/11         Employed      M  ...   \n",
      "1     Basic   College           1/18/11       Unemployed      F  ...   \n",
      "2     Basic  Bachelor           2/10/11         Employed      M  ...   \n",
      "3  Extended   College           1/11/11         Employed      M  ...   \n",
      "4   Premium  Bachelor           1/17/11    Medical Leave      F  ...   \n",
      "\n",
      "   Number of Open Complaints Number of Policies     Policy Type        Policy  \\\n",
      "0                        0.0                  9  Corporate Auto  Corporate L3   \n",
      "1                        0.0                  1   Personal Auto   Personal L3   \n",
      "2                        0.0                  2   Personal Auto   Personal L3   \n",
      "3                        0.0                  2  Corporate Auto  Corporate L3   \n",
      "4                        NaN                  7   Personal Auto   Personal L2   \n",
      "\n",
      "   Renew Offer Type  Sales Channel  Total Claim Amount  Vehicle Class  \\\n",
      "0            Offer3          Agent          292.800000  Four-Door Car   \n",
      "1            Offer4    Call Center          744.924331  Four-Door Car   \n",
      "2            Offer3    Call Center          480.000000            SUV   \n",
      "3            Offer2         Branch          484.013411  Four-Door Car   \n",
      "4            Offer1         Branch          707.925645  Four-Door Car   \n",
      "\n",
      "  Vehicle Size Vehicle Type  \n",
      "0      Medsize          NaN  \n",
      "1      Medsize          NaN  \n",
      "2      Medsize            A  \n",
      "3      Medsize            A  \n",
      "4      Medsize          NaN  \n",
      "\n",
      "[5 rows x 26 columns]\n"
     ]
    }
   ],
   "source": [
    "print(df.head())"
   ]
  },
  {
   "cell_type": "code",
   "execution_count": 12,
   "id": "8330ab5c-3961-4730-afb4-8022a0be8f88",
   "metadata": {},
   "outputs": [],
   "source": [
    "df.columns = df.columns.str.strip().str.lower().str.replace(' ', '_')"
   ]
  },
  {
   "cell_type": "code",
   "execution_count": 14,
   "id": "c80f7dfc-7a29-4d5d-921f-a9221dacfceb",
   "metadata": {},
   "outputs": [],
   "source": [
    "filtered_df = df[(df['total_claim_amount'] > 1000) & (df['response'] == \"Yes\")]"
   ]
  },
  {
   "cell_type": "code",
   "execution_count": 16,
   "id": "06b2ea02-9179-4839-a4d3-f4705ec98c04",
   "metadata": {},
   "outputs": [
    {
     "name": "stdout",
     "output_type": "stream",
     "text": [
      "\n",
      "Average Total Claim Amount by Policy Type and Gender (for 'Yes' response):\n",
      "gender               F       M\n",
      "policy_type                   \n",
      "Corporate Auto  433.74  408.58\n",
      "Personal Auto   452.97  457.01\n",
      "Special Auto    453.28  429.53\n"
     ]
    }
   ],
   "source": [
    "pivot_avg_claim_by_policy_gender = df[df['response'] == \"Yes\"].pivot_table(\n",
    "    values='total_claim_amount', \n",
    "    index='policy_type', \n",
    "    columns='gender', \n",
    "    aggfunc='mean'\n",
    ").round(2)\n",
    "\n",
    "print(\"\\nAverage Total Claim Amount by Policy Type and Gender (for 'Yes' response):\")\n",
    "print(pivot_avg_claim_by_policy_gender)"
   ]
  },
  {
   "cell_type": "code",
   "execution_count": 20,
   "id": "01421b5f-6f2e-450a-b23c-2e5671104721",
   "metadata": {},
   "outputs": [
    {
     "name": "stdout",
     "output_type": "stream",
     "text": [
      "\n",
      "Total number of customers by state (filtered to states with > 500 customers):\n",
      "state\n",
      "California    3552\n",
      "Oregon        2909\n",
      "Arizona       1937\n",
      "Nevada         993\n",
      "Washington     888\n",
      "Name: count, dtype: int64\n"
     ]
    }
   ],
   "source": [
    "customer_count_by_state = df['state'].value_counts()\n",
    "states_over_500 = customer_count_by_state[customer_count_by_state > 500]\n",
    "print(\"\\nTotal number of customers by state (filtered to states with > 500 customers):\")\n",
    "print(states_over_500)"
   ]
  },
  {
   "cell_type": "code",
   "execution_count": 22,
   "id": "d259e382-e493-4539-862f-4eb0526f08ef",
   "metadata": {},
   "outputs": [
    {
     "name": "stdout",
     "output_type": "stream",
     "text": [
      "\n",
      "Customer Lifetime Value Statistics by Education Level and Gender:\n",
      "                           max                min            median         \n",
      "gender                       F         M        F        M        F        M\n",
      "education                                                                   \n",
      "Bachelor              73225.96  67907.27  1904.00  1898.01  5640.51  5548.03\n",
      "College               61850.19  61134.68  1898.68  1918.12  5623.61  6005.85\n",
      "Doctor                44856.11  32677.34  2395.57  2267.60  5332.46  5577.67\n",
      "High School or Below  55277.45  83325.38  2144.92  1940.98  6039.55  6286.73\n",
      "Master                51016.07  50568.26  2417.78  2272.31  5729.86  5579.10\n"
     ]
    }
   ],
   "source": [
    "clv_stats_by_education_gender = df.pivot_table(\n",
    "    values='customer_lifetime_value',\n",
    "    index='education',\n",
    "    columns='gender',\n",
    "    aggfunc=['max', 'min', 'median']\n",
    ").round(2)\n",
    "\n",
    "print(\"\\nCustomer Lifetime Value Statistics by Education Level and Gender:\")\n",
    "print(clv_stats_by_education_gender)"
   ]
  },
  {
   "cell_type": "code",
   "execution_count": null,
   "id": "6b8f5d7f-df7b-4a55-b0b5-6316f9599fa9",
   "metadata": {},
   "outputs": [],
   "source": []
  }
 ],
 "metadata": {
  "colab": {
   "provenance": []
  },
  "kernelspec": {
   "display_name": "Python 3 (ipykernel)",
   "language": "python",
   "name": "python3"
  },
  "language_info": {
   "codemirror_mode": {
    "name": "ipython",
    "version": 3
   },
   "file_extension": ".py",
   "mimetype": "text/x-python",
   "name": "python",
   "nbconvert_exporter": "python",
   "pygments_lexer": "ipython3",
   "version": "3.12.4"
  }
 },
 "nbformat": 4,
 "nbformat_minor": 5
}
