{
 "cells": [
  {
   "cell_type": "markdown",
   "id": "31969215-2a90-4d8b-ac36-646a7ae13744",
   "metadata": {
    "id": "31969215-2a90-4d8b-ac36-646a7ae13744"
   },
   "source": [
    "# Lab | Data Aggregation and Filtering"
   ]
  },
  {
   "cell_type": "markdown",
   "id": "936ece62-5d0d-4791-99ea-b96b1861a8f4",
   "metadata": {
    "id": "a8f08a52-bec0-439b-99cc-11d3809d8b5d"
   },
   "source": [
    "In this challenge, we will continue to work with customer data from an insurance company. We will use the dataset called marketing_customer_analysis.csv, which can be found at the following link:\n",
    "\n",
    "https://raw.githubusercontent.com/data-bootcamp-v4/data/main/marketing_customer_analysis.csv\n",
    "\n",
    "This dataset contains information such as customer demographics, policy details, vehicle information, and the customer's response to the last marketing campaign. Our goal is to explore and analyze this data by first performing data cleaning, formatting, and structuring."
   ]
  },
  {
   "cell_type": "markdown",
   "id": "9c98ddc5-b041-4c94-ada1-4dfee5c98e50",
   "metadata": {
    "id": "9c98ddc5-b041-4c94-ada1-4dfee5c98e50"
   },
   "source": [
    "1. Create a new DataFrame that only includes customers who have a total_claim_amount greater than $1,000 and have a response of \"Yes\" to the last marketing campaign."
   ]
  },
  {
   "cell_type": "markdown",
   "id": "b9be383e-5165-436e-80c8-57d4c757c8c3",
   "metadata": {
    "id": "b9be383e-5165-436e-80c8-57d4c757c8c3"
   },
   "source": [
    "2. Using the original Dataframe, analyze the average total_claim_amount by each policy type and gender for customers who have responded \"Yes\" to the last marketing campaign. Write your conclusions."
   ]
  },
  {
   "cell_type": "markdown",
   "id": "7050f4ac-53c5-4193-a3c0-8699b87196f0",
   "metadata": {
    "id": "7050f4ac-53c5-4193-a3c0-8699b87196f0"
   },
   "source": [
    "3. Analyze the total number of customers who have policies in each state, and then filter the results to only include states where there are more than 500 customers."
   ]
  },
  {
   "cell_type": "markdown",
   "id": "b60a4443-a1a7-4bbf-b78e-9ccdf9895e0d",
   "metadata": {
    "id": "b60a4443-a1a7-4bbf-b78e-9ccdf9895e0d"
   },
   "source": [
    "4. Find the maximum, minimum, and median customer lifetime value by education level and gender. Write your conclusions."
   ]
  },
  {
   "cell_type": "markdown",
   "id": "b42999f9-311f-481e-ae63-40a5577072c5",
   "metadata": {
    "id": "b42999f9-311f-481e-ae63-40a5577072c5"
   },
   "source": [
    "## Bonus"
   ]
  },
  {
   "cell_type": "markdown",
   "id": "81ff02c5-6584-4f21-a358-b918697c6432",
   "metadata": {
    "id": "81ff02c5-6584-4f21-a358-b918697c6432"
   },
   "source": [
    "5. The marketing team wants to analyze the number of policies sold by state and month. Present the data in a table where the months are arranged as columns and the states are arranged as rows."
   ]
  },
  {
   "cell_type": "markdown",
   "id": "880de4d4-62ac-416f-aeb0-7a374d8bd0ca",
   "metadata": {
    "id": "b6aec097-c633-4017-a125-e77a97259cda"
   },
   "source": [
    "6.  Display a new DataFrame that contains the number of policies sold by month, by state, for the top 3 states with the highest number of policies sold.\n",
    "\n",
    "*Hint:*\n",
    "- *To accomplish this, you will first need to group the data by state and month, then count the number of policies sold for each group. Afterwards, you will need to sort the data by the count of policies sold in descending order.*\n",
    "- *Next, you will select the top 3 states with the highest number of policies sold.*\n",
    "- *Finally, you will create a new DataFrame that contains the number of policies sold by month for each of the top 3 states.*"
   ]
  },
  {
   "cell_type": "markdown",
   "id": "ba975b8a-a2cf-4fbf-9f59-ebc381767009",
   "metadata": {
    "id": "ba975b8a-a2cf-4fbf-9f59-ebc381767009"
   },
   "source": [
    "7. The marketing team wants to analyze the effect of different marketing channels on the customer response rate.\n",
    "\n",
    "Hint: You can use melt to unpivot the data and create a table that shows the customer response rate (those who responded \"Yes\") by marketing channel."
   ]
  },
  {
   "cell_type": "markdown",
   "id": "e4378d94-48fb-4850-a802-b1bc8f427b2d",
   "metadata": {
    "id": "e4378d94-48fb-4850-a802-b1bc8f427b2d"
   },
   "source": [
    "External Resources for Data Filtering: https://towardsdatascience.com/filtering-data-frames-in-pandas-b570b1f834b9"
   ]
  },
  {
   "cell_type": "code",
   "execution_count": 162,
   "id": "449513f4-0459-46a0-a18d-9398d974c9ad",
   "metadata": {
    "id": "449513f4-0459-46a0-a18d-9398d974c9ad",
    "tags": []
   },
   "outputs": [],
   "source": [
    "import pandas as pd\n",
    "url = \"https://raw.githubusercontent.com/data-bootcamp-v4/data/main/marketing_customer_analysis.csv\"\n",
    "insurance_df = pd.read_csv(url)"
   ]
  },
  {
   "cell_type": "code",
   "execution_count": 163,
   "id": "cead91df-de43-425a-b546-ba2c73564b94",
   "metadata": {
    "tags": []
   },
   "outputs": [
    {
     "name": "stdout",
     "output_type": "stream",
     "text": [
      "<class 'pandas.core.frame.DataFrame'>\n",
      "Index: 10873 entries, 0 to 10909\n",
      "Data columns (total 25 columns):\n",
      " #   Column                         Non-Null Count  Dtype  \n",
      "---  ------                         --------------  -----  \n",
      " 0   customer                       10873 non-null  object \n",
      " 1   state                          10259 non-null  object \n",
      " 2   customer_lifetime_value        10873 non-null  float64\n",
      " 3   response                       10259 non-null  object \n",
      " 4   coverage                       10873 non-null  object \n",
      " 5   education                      10873 non-null  object \n",
      " 6   effective_to_date              10873 non-null  object \n",
      " 7   employmentstatus               10873 non-null  object \n",
      " 8   gender                         10873 non-null  object \n",
      " 9   income                         10873 non-null  int64  \n",
      " 10  location_code                  10873 non-null  object \n",
      " 11  marital_status                 10873 non-null  object \n",
      " 12  monthly_premium_auto           10873 non-null  int64  \n",
      " 13  months_since_last_claim        10250 non-null  float64\n",
      " 14  months_since_policy_inception  10873 non-null  int64  \n",
      " 15  number_of_open_complaints      10873 non-null  int32  \n",
      " 16  number_of_policies             10873 non-null  int64  \n",
      " 17  policy_type                    10873 non-null  object \n",
      " 18  policy                         10873 non-null  object \n",
      " 19  renew_offer_type               10873 non-null  object \n",
      " 20  sales_channel                  10873 non-null  object \n",
      " 21  total_claim_amount             10873 non-null  float64\n",
      " 22  vehicle_class                  10265 non-null  object \n",
      " 23  vehicle_size                   10265 non-null  object \n",
      " 24  vehicle_type                   5408 non-null   object \n",
      "dtypes: float64(3), int32(1), int64(4), object(17)\n",
      "memory usage: 2.1+ MB\n"
     ]
    }
   ],
   "source": [
    "insurance_df.drop(columns = ['Unnamed: 0'],inplace=True)\n",
    "insurance_df.rename(columns={col:col.strip().lower().replace(\" \",\"_\") for col in insurance_df.columns},inplace=True)\n",
    "insurance_df['effective_to_date'] = pd.to_datetime(insurance_df['effective_to_date'], format=\"%m/%d/%y\", errors='coerce')\n",
    "insurance_df['effective_to_date'] = insurance_df['effective_to_date'].dt.strftime(\"%d/%m/%y\")\n",
    "insurance_df['number_of_open_complaints'].fillna(0,inplace=True)\n",
    "insurance_df['number_of_open_complaints']=insurance_df['number_of_open_complaints'].astype(int)\n",
    "insurance_df.drop_duplicates(inplace=True)\n",
    "insurance_df.info()"
   ]
  },
  {
   "cell_type": "markdown",
   "id": "1ce64d6c-92f6-4f97-b382-d5da2171cf21",
   "metadata": {
    "id": "9c98ddc5-b041-4c94-ada1-4dfee5c98e50"
   },
   "source": [
    "1. Create a new DataFrame that only includes customers who have a total_claim_amount greater than $1,000 and have a response of \"Yes\" to the last marketing campaign."
   ]
  },
  {
   "cell_type": "code",
   "execution_count": 164,
   "id": "ff0419ed-93a3-48d9-aea6-8fb6983c287c",
   "metadata": {},
   "outputs": [
    {
     "data": {
      "text/html": [
       "<div>\n",
       "<style scoped>\n",
       "    .dataframe tbody tr th:only-of-type {\n",
       "        vertical-align: middle;\n",
       "    }\n",
       "\n",
       "    .dataframe tbody tr th {\n",
       "        vertical-align: top;\n",
       "    }\n",
       "\n",
       "    .dataframe thead th {\n",
       "        text-align: right;\n",
       "    }\n",
       "</style>\n",
       "<table border=\"1\" class=\"dataframe\">\n",
       "  <thead>\n",
       "    <tr style=\"text-align: right;\">\n",
       "      <th></th>\n",
       "      <th>customer</th>\n",
       "      <th>state</th>\n",
       "      <th>customer_lifetime_value</th>\n",
       "      <th>response</th>\n",
       "      <th>coverage</th>\n",
       "      <th>education</th>\n",
       "      <th>effective_to_date</th>\n",
       "      <th>employmentstatus</th>\n",
       "      <th>gender</th>\n",
       "      <th>income</th>\n",
       "      <th>...</th>\n",
       "      <th>number_of_open_complaints</th>\n",
       "      <th>number_of_policies</th>\n",
       "      <th>policy_type</th>\n",
       "      <th>policy</th>\n",
       "      <th>renew_offer_type</th>\n",
       "      <th>sales_channel</th>\n",
       "      <th>total_claim_amount</th>\n",
       "      <th>vehicle_class</th>\n",
       "      <th>vehicle_size</th>\n",
       "      <th>vehicle_type</th>\n",
       "    </tr>\n",
       "  </thead>\n",
       "  <tbody>\n",
       "    <tr>\n",
       "      <th>189</th>\n",
       "      <td>OK31456</td>\n",
       "      <td>California</td>\n",
       "      <td>11009.130490</td>\n",
       "      <td>Yes</td>\n",
       "      <td>Premium</td>\n",
       "      <td>Bachelor</td>\n",
       "      <td>24/01/11</td>\n",
       "      <td>Employed</td>\n",
       "      <td>F</td>\n",
       "      <td>51643</td>\n",
       "      <td>...</td>\n",
       "      <td>0</td>\n",
       "      <td>1</td>\n",
       "      <td>Corporate Auto</td>\n",
       "      <td>Corporate L3</td>\n",
       "      <td>Offer2</td>\n",
       "      <td>Agent</td>\n",
       "      <td>1358.400000</td>\n",
       "      <td>Luxury Car</td>\n",
       "      <td>Medsize</td>\n",
       "      <td>NaN</td>\n",
       "    </tr>\n",
       "    <tr>\n",
       "      <th>236</th>\n",
       "      <td>YJ16163</td>\n",
       "      <td>Oregon</td>\n",
       "      <td>11009.130490</td>\n",
       "      <td>Yes</td>\n",
       "      <td>Premium</td>\n",
       "      <td>Bachelor</td>\n",
       "      <td>24/01/11</td>\n",
       "      <td>Employed</td>\n",
       "      <td>F</td>\n",
       "      <td>51643</td>\n",
       "      <td>...</td>\n",
       "      <td>0</td>\n",
       "      <td>1</td>\n",
       "      <td>Special Auto</td>\n",
       "      <td>Special L3</td>\n",
       "      <td>Offer2</td>\n",
       "      <td>Agent</td>\n",
       "      <td>1358.400000</td>\n",
       "      <td>Luxury Car</td>\n",
       "      <td>Medsize</td>\n",
       "      <td>A</td>\n",
       "    </tr>\n",
       "    <tr>\n",
       "      <th>419</th>\n",
       "      <td>GW43195</td>\n",
       "      <td>Oregon</td>\n",
       "      <td>25807.063000</td>\n",
       "      <td>Yes</td>\n",
       "      <td>Extended</td>\n",
       "      <td>College</td>\n",
       "      <td>13/02/11</td>\n",
       "      <td>Employed</td>\n",
       "      <td>F</td>\n",
       "      <td>71210</td>\n",
       "      <td>...</td>\n",
       "      <td>1</td>\n",
       "      <td>2</td>\n",
       "      <td>Personal Auto</td>\n",
       "      <td>Personal L2</td>\n",
       "      <td>Offer1</td>\n",
       "      <td>Branch</td>\n",
       "      <td>1027.200000</td>\n",
       "      <td>Luxury Car</td>\n",
       "      <td>Small</td>\n",
       "      <td>A</td>\n",
       "    </tr>\n",
       "    <tr>\n",
       "      <th>442</th>\n",
       "      <td>IP94270</td>\n",
       "      <td>Arizona</td>\n",
       "      <td>13736.132500</td>\n",
       "      <td>Yes</td>\n",
       "      <td>Premium</td>\n",
       "      <td>Master</td>\n",
       "      <td>13/02/11</td>\n",
       "      <td>Disabled</td>\n",
       "      <td>F</td>\n",
       "      <td>16181</td>\n",
       "      <td>...</td>\n",
       "      <td>0</td>\n",
       "      <td>8</td>\n",
       "      <td>Personal Auto</td>\n",
       "      <td>Personal L2</td>\n",
       "      <td>Offer1</td>\n",
       "      <td>Web</td>\n",
       "      <td>1261.319869</td>\n",
       "      <td>SUV</td>\n",
       "      <td>Medsize</td>\n",
       "      <td>A</td>\n",
       "    </tr>\n",
       "    <tr>\n",
       "      <th>587</th>\n",
       "      <td>FJ28407</td>\n",
       "      <td>California</td>\n",
       "      <td>5619.689084</td>\n",
       "      <td>Yes</td>\n",
       "      <td>Premium</td>\n",
       "      <td>High School or Below</td>\n",
       "      <td>26/01/11</td>\n",
       "      <td>Unemployed</td>\n",
       "      <td>M</td>\n",
       "      <td>0</td>\n",
       "      <td>...</td>\n",
       "      <td>0</td>\n",
       "      <td>1</td>\n",
       "      <td>Personal Auto</td>\n",
       "      <td>Personal L1</td>\n",
       "      <td>Offer2</td>\n",
       "      <td>Web</td>\n",
       "      <td>1027.000029</td>\n",
       "      <td>SUV</td>\n",
       "      <td>Medsize</td>\n",
       "      <td>A</td>\n",
       "    </tr>\n",
       "    <tr>\n",
       "      <th>...</th>\n",
       "      <td>...</td>\n",
       "      <td>...</td>\n",
       "      <td>...</td>\n",
       "      <td>...</td>\n",
       "      <td>...</td>\n",
       "      <td>...</td>\n",
       "      <td>...</td>\n",
       "      <td>...</td>\n",
       "      <td>...</td>\n",
       "      <td>...</td>\n",
       "      <td>...</td>\n",
       "      <td>...</td>\n",
       "      <td>...</td>\n",
       "      <td>...</td>\n",
       "      <td>...</td>\n",
       "      <td>...</td>\n",
       "      <td>...</td>\n",
       "      <td>...</td>\n",
       "      <td>...</td>\n",
       "      <td>...</td>\n",
       "      <td>...</td>\n",
       "    </tr>\n",
       "    <tr>\n",
       "      <th>10351</th>\n",
       "      <td>FN44127</td>\n",
       "      <td>Oregon</td>\n",
       "      <td>3508.569533</td>\n",
       "      <td>Yes</td>\n",
       "      <td>Extended</td>\n",
       "      <td>College</td>\n",
       "      <td>05/01/11</td>\n",
       "      <td>Medical Leave</td>\n",
       "      <td>M</td>\n",
       "      <td>20978</td>\n",
       "      <td>...</td>\n",
       "      <td>1</td>\n",
       "      <td>1</td>\n",
       "      <td>Personal Auto</td>\n",
       "      <td>Personal L2</td>\n",
       "      <td>Offer2</td>\n",
       "      <td>Branch</td>\n",
       "      <td>1176.278800</td>\n",
       "      <td>Four-Door Car</td>\n",
       "      <td>Small</td>\n",
       "      <td>NaN</td>\n",
       "    </tr>\n",
       "    <tr>\n",
       "      <th>10373</th>\n",
       "      <td>XZ64172</td>\n",
       "      <td>Oregon</td>\n",
       "      <td>10963.957230</td>\n",
       "      <td>Yes</td>\n",
       "      <td>Premium</td>\n",
       "      <td>High School or Below</td>\n",
       "      <td>08/02/11</td>\n",
       "      <td>Employed</td>\n",
       "      <td>M</td>\n",
       "      <td>55687</td>\n",
       "      <td>...</td>\n",
       "      <td>0</td>\n",
       "      <td>1</td>\n",
       "      <td>Corporate Auto</td>\n",
       "      <td>Corporate L2</td>\n",
       "      <td>Offer1</td>\n",
       "      <td>Agent</td>\n",
       "      <td>1324.800000</td>\n",
       "      <td>Luxury SUV</td>\n",
       "      <td>Medsize</td>\n",
       "      <td>NaN</td>\n",
       "    </tr>\n",
       "    <tr>\n",
       "      <th>10487</th>\n",
       "      <td>IX60941</td>\n",
       "      <td>Oregon</td>\n",
       "      <td>3508.569533</td>\n",
       "      <td>Yes</td>\n",
       "      <td>Extended</td>\n",
       "      <td>College</td>\n",
       "      <td>05/01/11</td>\n",
       "      <td>Medical Leave</td>\n",
       "      <td>M</td>\n",
       "      <td>20978</td>\n",
       "      <td>...</td>\n",
       "      <td>1</td>\n",
       "      <td>1</td>\n",
       "      <td>Personal Auto</td>\n",
       "      <td>Personal L3</td>\n",
       "      <td>Offer2</td>\n",
       "      <td>Branch</td>\n",
       "      <td>1176.278800</td>\n",
       "      <td>Four-Door Car</td>\n",
       "      <td>Small</td>\n",
       "      <td>NaN</td>\n",
       "    </tr>\n",
       "    <tr>\n",
       "      <th>10565</th>\n",
       "      <td>QO62792</td>\n",
       "      <td>Oregon</td>\n",
       "      <td>7840.165778</td>\n",
       "      <td>Yes</td>\n",
       "      <td>Extended</td>\n",
       "      <td>College</td>\n",
       "      <td>14/01/11</td>\n",
       "      <td>Employed</td>\n",
       "      <td>M</td>\n",
       "      <td>58414</td>\n",
       "      <td>...</td>\n",
       "      <td>2</td>\n",
       "      <td>1</td>\n",
       "      <td>Personal Auto</td>\n",
       "      <td>Personal L3</td>\n",
       "      <td>Offer2</td>\n",
       "      <td>Agent</td>\n",
       "      <td>1008.000000</td>\n",
       "      <td>NaN</td>\n",
       "      <td>NaN</td>\n",
       "      <td>NaN</td>\n",
       "    </tr>\n",
       "    <tr>\n",
       "      <th>10708</th>\n",
       "      <td>CK39096</td>\n",
       "      <td>Oregon</td>\n",
       "      <td>5619.689084</td>\n",
       "      <td>Yes</td>\n",
       "      <td>Premium</td>\n",
       "      <td>High School or Below</td>\n",
       "      <td>26/01/11</td>\n",
       "      <td>Unemployed</td>\n",
       "      <td>M</td>\n",
       "      <td>0</td>\n",
       "      <td>...</td>\n",
       "      <td>0</td>\n",
       "      <td>1</td>\n",
       "      <td>Personal Auto</td>\n",
       "      <td>Personal L3</td>\n",
       "      <td>Offer2</td>\n",
       "      <td>Web</td>\n",
       "      <td>1027.000029</td>\n",
       "      <td>SUV</td>\n",
       "      <td>Medsize</td>\n",
       "      <td>A</td>\n",
       "    </tr>\n",
       "  </tbody>\n",
       "</table>\n",
       "<p>67 rows × 25 columns</p>\n",
       "</div>"
      ],
      "text/plain": [
       "      customer       state  customer_lifetime_value response  coverage  \\\n",
       "189    OK31456  California             11009.130490      Yes   Premium   \n",
       "236    YJ16163      Oregon             11009.130490      Yes   Premium   \n",
       "419    GW43195      Oregon             25807.063000      Yes  Extended   \n",
       "442    IP94270     Arizona             13736.132500      Yes   Premium   \n",
       "587    FJ28407  California              5619.689084      Yes   Premium   \n",
       "...        ...         ...                      ...      ...       ...   \n",
       "10351  FN44127      Oregon              3508.569533      Yes  Extended   \n",
       "10373  XZ64172      Oregon             10963.957230      Yes   Premium   \n",
       "10487  IX60941      Oregon              3508.569533      Yes  Extended   \n",
       "10565  QO62792      Oregon              7840.165778      Yes  Extended   \n",
       "10708  CK39096      Oregon              5619.689084      Yes   Premium   \n",
       "\n",
       "                  education effective_to_date employmentstatus gender  income  \\\n",
       "189                Bachelor          24/01/11         Employed      F   51643   \n",
       "236                Bachelor          24/01/11         Employed      F   51643   \n",
       "419                 College          13/02/11         Employed      F   71210   \n",
       "442                  Master          13/02/11         Disabled      F   16181   \n",
       "587    High School or Below          26/01/11       Unemployed      M       0   \n",
       "...                     ...               ...              ...    ...     ...   \n",
       "10351               College          05/01/11    Medical Leave      M   20978   \n",
       "10373  High School or Below          08/02/11         Employed      M   55687   \n",
       "10487               College          05/01/11    Medical Leave      M   20978   \n",
       "10565               College          14/01/11         Employed      M   58414   \n",
       "10708  High School or Below          26/01/11       Unemployed      M       0   \n",
       "\n",
       "       ... number_of_open_complaints number_of_policies     policy_type  \\\n",
       "189    ...                         0                  1  Corporate Auto   \n",
       "236    ...                         0                  1    Special Auto   \n",
       "419    ...                         1                  2   Personal Auto   \n",
       "442    ...                         0                  8   Personal Auto   \n",
       "587    ...                         0                  1   Personal Auto   \n",
       "...    ...                       ...                ...             ...   \n",
       "10351  ...                         1                  1   Personal Auto   \n",
       "10373  ...                         0                  1  Corporate Auto   \n",
       "10487  ...                         1                  1   Personal Auto   \n",
       "10565  ...                         2                  1   Personal Auto   \n",
       "10708  ...                         0                  1   Personal Auto   \n",
       "\n",
       "             policy  renew_offer_type  sales_channel  total_claim_amount  \\\n",
       "189    Corporate L3            Offer2          Agent         1358.400000   \n",
       "236      Special L3            Offer2          Agent         1358.400000   \n",
       "419     Personal L2            Offer1         Branch         1027.200000   \n",
       "442     Personal L2            Offer1            Web         1261.319869   \n",
       "587     Personal L1            Offer2            Web         1027.000029   \n",
       "...             ...               ...            ...                 ...   \n",
       "10351   Personal L2            Offer2         Branch         1176.278800   \n",
       "10373  Corporate L2            Offer1          Agent         1324.800000   \n",
       "10487   Personal L3            Offer2         Branch         1176.278800   \n",
       "10565   Personal L3            Offer2          Agent         1008.000000   \n",
       "10708   Personal L3            Offer2            Web         1027.000029   \n",
       "\n",
       "       vehicle_class vehicle_size vehicle_type  \n",
       "189       Luxury Car      Medsize          NaN  \n",
       "236       Luxury Car      Medsize            A  \n",
       "419       Luxury Car        Small            A  \n",
       "442              SUV      Medsize            A  \n",
       "587              SUV      Medsize            A  \n",
       "...              ...          ...          ...  \n",
       "10351  Four-Door Car        Small          NaN  \n",
       "10373     Luxury SUV      Medsize          NaN  \n",
       "10487  Four-Door Car        Small          NaN  \n",
       "10565            NaN          NaN          NaN  \n",
       "10708            SUV      Medsize            A  \n",
       "\n",
       "[67 rows x 25 columns]"
      ]
     },
     "execution_count": 164,
     "metadata": {},
     "output_type": "execute_result"
    }
   ],
   "source": [
    "# total_claim_amount > 1000\n",
    "# response = Yes\n",
    "task1_df = insurance_df[(insurance_df['total_claim_amount']>1000) & (insurance_df['response'] == 'Yes') ]\n",
    "task1_df"
   ]
  },
  {
   "cell_type": "markdown",
   "id": "d0bdd866-d88c-4a0e-88c4-71ebeef2f924",
   "metadata": {
    "id": "b9be383e-5165-436e-80c8-57d4c757c8c3"
   },
   "source": [
    "2. Using the original Dataframe, analyze the average total_claim_amount by each policy type and gender for customers who have responded \"Yes\" to the last marketing campaign. Write your conclusions."
   ]
  },
  {
   "cell_type": "code",
   "execution_count": 165,
   "id": "4ba0f1fa-d619-4345-971d-14446f23ca47",
   "metadata": {},
   "outputs": [
    {
     "data": {
      "text/plain": [
       "gender  policy_type   \n",
       "F       Corporate Auto    433.738499\n",
       "        Personal Auto     452.755476\n",
       "        Special Auto      453.280164\n",
       "M       Corporate Auto    407.829300\n",
       "        Personal Auto     457.010178\n",
       "        Special Auto      429.527942\n",
       "Name: total_claim_amount, dtype: float64"
      ]
     },
     "metadata": {},
     "output_type": "display_data"
    },
    {
     "name": "stdout",
     "output_type": "stream",
     "text": [
      "Females are paying more for corporate auto and special auto policy compared to males and pay less for Personal Auto compares to Males\n"
     ]
    }
   ],
   "source": [
    "task2_df = insurance_df[(insurance_df['response'] == 'Yes')]\n",
    "display(task2_df.groupby(['gender','policy_type'])['total_claim_amount'].mean())\n",
    "print('Females are paying more for corporate auto and special auto policy compared to males and pay less for Personal Auto compares to Males')"
   ]
  },
  {
   "cell_type": "markdown",
   "id": "d21be168-07e8-4f87-9ba2-f0a56dcab61b",
   "metadata": {
    "id": "7050f4ac-53c5-4193-a3c0-8699b87196f0"
   },
   "source": [
    "3. Analyze the total number of customers who have policies in each state, and then filter the results to only include states where there are more than 500 customers."
   ]
  },
  {
   "cell_type": "code",
   "execution_count": 166,
   "id": "686f4059-50ed-4245-9940-98facd7a04ff",
   "metadata": {},
   "outputs": [
    {
     "data": {
      "text/plain": [
       "state       policy     \n",
       "Arizona     Personal L3     740\n",
       "California  Personal L2     904\n",
       "            Personal L3    1249\n",
       "Oregon      Personal L2     613\n",
       "            Personal L3    1154\n",
       "Name: customer, dtype: int64"
      ]
     },
     "metadata": {},
     "output_type": "display_data"
    }
   ],
   "source": [
    "grouped=insurance_df.groupby(['state','policy'])['customer'].count()\n",
    "display(grouped[grouped>500])"
   ]
  },
  {
   "cell_type": "markdown",
   "id": "56ac6e5a-7509-4bf8-b439-04acad7f3d0a",
   "metadata": {
    "id": "b60a4443-a1a7-4bbf-b78e-9ccdf9895e0d"
   },
   "source": [
    "4. Find the maximum, minimum, and median customer lifetime value by education level and gender. Write your conclusions."
   ]
  },
  {
   "cell_type": "code",
   "execution_count": 167,
   "id": "cec114f9-c360-4a4f-b8d7-6f10b54b249f",
   "metadata": {},
   "outputs": [
    {
     "data": {
      "text/html": [
       "<div>\n",
       "<style scoped>\n",
       "    .dataframe tbody tr th:only-of-type {\n",
       "        vertical-align: middle;\n",
       "    }\n",
       "\n",
       "    .dataframe tbody tr th {\n",
       "        vertical-align: top;\n",
       "    }\n",
       "\n",
       "    .dataframe thead tr th {\n",
       "        text-align: left;\n",
       "    }\n",
       "\n",
       "    .dataframe thead tr:last-of-type th {\n",
       "        text-align: right;\n",
       "    }\n",
       "</style>\n",
       "<table border=\"1\" class=\"dataframe\">\n",
       "  <thead>\n",
       "    <tr>\n",
       "      <th></th>\n",
       "      <th></th>\n",
       "      <th colspan=\"3\" halign=\"left\">customer_lifetime_value</th>\n",
       "    </tr>\n",
       "    <tr>\n",
       "      <th></th>\n",
       "      <th></th>\n",
       "      <th>max</th>\n",
       "      <th>min</th>\n",
       "      <th>median</th>\n",
       "    </tr>\n",
       "    <tr>\n",
       "      <th>gender</th>\n",
       "      <th>education</th>\n",
       "      <th></th>\n",
       "      <th></th>\n",
       "      <th></th>\n",
       "    </tr>\n",
       "  </thead>\n",
       "  <tbody>\n",
       "    <tr>\n",
       "      <th rowspan=\"5\" valign=\"top\">F</th>\n",
       "      <th>Bachelor</th>\n",
       "      <td>73225.95652</td>\n",
       "      <td>1904.000852</td>\n",
       "      <td>5632.613078</td>\n",
       "    </tr>\n",
       "    <tr>\n",
       "      <th>College</th>\n",
       "      <td>61850.18803</td>\n",
       "      <td>1898.683686</td>\n",
       "      <td>5623.611187</td>\n",
       "    </tr>\n",
       "    <tr>\n",
       "      <th>Doctor</th>\n",
       "      <td>44856.11397</td>\n",
       "      <td>2395.570000</td>\n",
       "      <td>5332.462694</td>\n",
       "    </tr>\n",
       "    <tr>\n",
       "      <th>High School or Below</th>\n",
       "      <td>55277.44589</td>\n",
       "      <td>2144.921535</td>\n",
       "      <td>6035.086336</td>\n",
       "    </tr>\n",
       "    <tr>\n",
       "      <th>Master</th>\n",
       "      <td>51016.06704</td>\n",
       "      <td>2417.777032</td>\n",
       "      <td>5729.855012</td>\n",
       "    </tr>\n",
       "    <tr>\n",
       "      <th rowspan=\"5\" valign=\"top\">M</th>\n",
       "      <th>Bachelor</th>\n",
       "      <td>67907.27050</td>\n",
       "      <td>1898.007675</td>\n",
       "      <td>5548.031892</td>\n",
       "    </tr>\n",
       "    <tr>\n",
       "      <th>College</th>\n",
       "      <td>61134.68307</td>\n",
       "      <td>1918.119700</td>\n",
       "      <td>6005.847375</td>\n",
       "    </tr>\n",
       "    <tr>\n",
       "      <th>Doctor</th>\n",
       "      <td>32677.34284</td>\n",
       "      <td>2267.604038</td>\n",
       "      <td>5577.669457</td>\n",
       "    </tr>\n",
       "    <tr>\n",
       "      <th>High School or Below</th>\n",
       "      <td>83325.38119</td>\n",
       "      <td>1940.981221</td>\n",
       "      <td>6286.731006</td>\n",
       "    </tr>\n",
       "    <tr>\n",
       "      <th>Master</th>\n",
       "      <td>50568.25912</td>\n",
       "      <td>2272.307310</td>\n",
       "      <td>5579.099207</td>\n",
       "    </tr>\n",
       "  </tbody>\n",
       "</table>\n",
       "</div>"
      ],
      "text/plain": [
       "                            customer_lifetime_value                          \n",
       "                                                max          min       median\n",
       "gender education                                                             \n",
       "F      Bachelor                         73225.95652  1904.000852  5632.613078\n",
       "       College                          61850.18803  1898.683686  5623.611187\n",
       "       Doctor                           44856.11397  2395.570000  5332.462694\n",
       "       High School or Below             55277.44589  2144.921535  6035.086336\n",
       "       Master                           51016.06704  2417.777032  5729.855012\n",
       "M      Bachelor                         67907.27050  1898.007675  5548.031892\n",
       "       College                          61134.68307  1918.119700  6005.847375\n",
       "       Doctor                           32677.34284  2267.604038  5577.669457\n",
       "       High School or Below             83325.38119  1940.981221  6286.731006\n",
       "       Master                           50568.25912  2272.307310  5579.099207"
      ]
     },
     "metadata": {},
     "output_type": "display_data"
    },
    {
     "name": "stdout",
     "output_type": "stream",
     "text": [
      "The maximum customer lifetime value is lesser among females who have high school or below education compared to females who are educated higher.\n",
      "The minimum customer lifetime value is lesser among females who have College education compared to females with other education.\n"
     ]
    }
   ],
   "source": [
    "grouped=insurance_df.groupby(['gender','education']).agg({'customer_lifetime_value':['max','min','median']})\n",
    "display(grouped)\n",
    "print(\"The maximum customer lifetime value is lesser among females who have high school or below education compared to females who are educated higher.\")\n",
    "print(\"The minimum customer lifetime value is lesser among females who have College education compared to females with other education.\")"
   ]
  },
  {
   "cell_type": "markdown",
   "id": "2a81c18f-7168-49e2-a139-7f5f1ed517c8",
   "metadata": {
    "id": "81ff02c5-6584-4f21-a358-b918697c6432"
   },
   "source": [
    "5. The marketing team wants to analyze the number of policies sold by state and month. Present the data in a table where the months are arranged as columns and the states are arranged as rows."
   ]
  },
  {
   "cell_type": "code",
   "execution_count": 168,
   "id": "314757db-5ee8-45ba-bfe4-cd094b3b8682",
   "metadata": {
    "tags": []
   },
   "outputs": [
    {
     "name": "stderr",
     "output_type": "stream",
     "text": [
      "C:\\Users\\Lenovo\\AppData\\Local\\Temp\\ipykernel_8752\\1788313841.py:2: UserWarning: Could not infer format, so each element will be parsed individually, falling back to `dateutil`. To ensure parsing is consistent and as-expected, please specify a format.\n",
      "  insurance_df['effective_to_date'] = pd.to_datetime(insurance_df['effective_to_date'])\n"
     ]
    },
    {
     "data": {
      "text/html": [
       "<div>\n",
       "<style scoped>\n",
       "    .dataframe tbody tr th:only-of-type {\n",
       "        vertical-align: middle;\n",
       "    }\n",
       "\n",
       "    .dataframe tbody tr th {\n",
       "        vertical-align: top;\n",
       "    }\n",
       "\n",
       "    .dataframe thead th {\n",
       "        text-align: right;\n",
       "    }\n",
       "</style>\n",
       "<table border=\"1\" class=\"dataframe\">\n",
       "  <thead>\n",
       "    <tr style=\"text-align: right;\">\n",
       "      <th>month</th>\n",
       "      <th>1</th>\n",
       "      <th>2</th>\n",
       "      <th>3</th>\n",
       "      <th>4</th>\n",
       "      <th>5</th>\n",
       "      <th>6</th>\n",
       "      <th>7</th>\n",
       "      <th>8</th>\n",
       "      <th>9</th>\n",
       "      <th>10</th>\n",
       "      <th>11</th>\n",
       "      <th>12</th>\n",
       "    </tr>\n",
       "    <tr>\n",
       "      <th>state</th>\n",
       "      <th></th>\n",
       "      <th></th>\n",
       "      <th></th>\n",
       "      <th></th>\n",
       "      <th></th>\n",
       "      <th></th>\n",
       "      <th></th>\n",
       "      <th></th>\n",
       "      <th></th>\n",
       "      <th></th>\n",
       "      <th></th>\n",
       "      <th></th>\n",
       "    </tr>\n",
       "  </thead>\n",
       "  <tbody>\n",
       "    <tr>\n",
       "      <th>Arizona</th>\n",
       "      <td>2117.0</td>\n",
       "      <td>1768.0</td>\n",
       "      <td>249.0</td>\n",
       "      <td>242.0</td>\n",
       "      <td>213.0</td>\n",
       "      <td>194.0</td>\n",
       "      <td>159.0</td>\n",
       "      <td>207.0</td>\n",
       "      <td>200.0</td>\n",
       "      <td>192.0</td>\n",
       "      <td>160.0</td>\n",
       "      <td>202.0</td>\n",
       "    </tr>\n",
       "    <tr>\n",
       "      <th>California</th>\n",
       "      <td>3903.0</td>\n",
       "      <td>3096.0</td>\n",
       "      <td>412.0</td>\n",
       "      <td>282.0</td>\n",
       "      <td>381.0</td>\n",
       "      <td>334.0</td>\n",
       "      <td>390.0</td>\n",
       "      <td>285.0</td>\n",
       "      <td>355.0</td>\n",
       "      <td>377.0</td>\n",
       "      <td>470.0</td>\n",
       "      <td>311.0</td>\n",
       "    </tr>\n",
       "    <tr>\n",
       "      <th>Nevada</th>\n",
       "      <td>1043.0</td>\n",
       "      <td>892.0</td>\n",
       "      <td>104.0</td>\n",
       "      <td>75.0</td>\n",
       "      <td>71.0</td>\n",
       "      <td>75.0</td>\n",
       "      <td>96.0</td>\n",
       "      <td>90.0</td>\n",
       "      <td>75.0</td>\n",
       "      <td>110.0</td>\n",
       "      <td>75.0</td>\n",
       "      <td>58.0</td>\n",
       "    </tr>\n",
       "    <tr>\n",
       "      <th>Oregon</th>\n",
       "      <td>3202.0</td>\n",
       "      <td>2676.0</td>\n",
       "      <td>277.0</td>\n",
       "      <td>321.0</td>\n",
       "      <td>274.0</td>\n",
       "      <td>276.0</td>\n",
       "      <td>281.0</td>\n",
       "      <td>217.0</td>\n",
       "      <td>299.0</td>\n",
       "      <td>338.0</td>\n",
       "      <td>247.0</td>\n",
       "      <td>210.0</td>\n",
       "    </tr>\n",
       "    <tr>\n",
       "      <th>Washington</th>\n",
       "      <td>944.0</td>\n",
       "      <td>777.0</td>\n",
       "      <td>90.0</td>\n",
       "      <td>62.0</td>\n",
       "      <td>100.0</td>\n",
       "      <td>66.0</td>\n",
       "      <td>82.0</td>\n",
       "      <td>67.0</td>\n",
       "      <td>99.0</td>\n",
       "      <td>125.0</td>\n",
       "      <td>79.0</td>\n",
       "      <td>92.0</td>\n",
       "    </tr>\n",
       "  </tbody>\n",
       "</table>\n",
       "</div>"
      ],
      "text/plain": [
       "month           1       2      3      4      5      6      7      8      9   \\\n",
       "state                                                                         \n",
       "Arizona     2117.0  1768.0  249.0  242.0  213.0  194.0  159.0  207.0  200.0   \n",
       "California  3903.0  3096.0  412.0  282.0  381.0  334.0  390.0  285.0  355.0   \n",
       "Nevada      1043.0   892.0  104.0   75.0   71.0   75.0   96.0   90.0   75.0   \n",
       "Oregon      3202.0  2676.0  277.0  321.0  274.0  276.0  281.0  217.0  299.0   \n",
       "Washington   944.0   777.0   90.0   62.0  100.0   66.0   82.0   67.0   99.0   \n",
       "\n",
       "month          10     11     12  \n",
       "state                            \n",
       "Arizona     192.0  160.0  202.0  \n",
       "California  377.0  470.0  311.0  \n",
       "Nevada      110.0   75.0   58.0  \n",
       "Oregon      338.0  247.0  210.0  \n",
       "Washington  125.0   79.0   92.0  "
      ]
     },
     "execution_count": 168,
     "metadata": {},
     "output_type": "execute_result"
    }
   ],
   "source": [
    "# Extract month and year from 'effective_to_date' column\n",
    "insurance_df['effective_to_date'] = pd.to_datetime(insurance_df['effective_to_date'])\n",
    "insurance_df['month'] = insurance_df['effective_to_date'].dt.month\n",
    "\n",
    "# Group by state and month, and count the number of policies sold\n",
    "policies_by_state_and_month = insurance_df.groupby(['state', 'month'])['number_of_policies'].sum().reset_index()\n",
    "\n",
    "# Pivot the table to arrange months as columns and states as rows\n",
    "policies_by_state_and_month.pivot_table(index='state', columns='month', values='number_of_policies', fill_value=0)"
   ]
  },
  {
   "cell_type": "markdown",
   "id": "b6aec097-c633-4017-a125-e77a97259cda",
   "metadata": {
    "id": "b6aec097-c633-4017-a125-e77a97259cda"
   },
   "source": [
    "6.  Display a new DataFrame that contains the number of policies sold by month, by state, for the top 3 states with the highest number of policies sold.\n",
    "\n",
    "*Hint:*\n",
    "- *To accomplish this, you will first need to group the data by state and month, then count the number of policies sold for each group. Afterwards, you will need to sort the data by the count of policies sold in descending order.*\n",
    "- *Next, you will select the top 3 states with the highest number of policies sold.*\n",
    "- *Finally, you will create a new DataFrame that contains the number of policies sold by month for each of the top 3 states.*"
   ]
  },
  {
   "cell_type": "code",
   "execution_count": 169,
   "id": "adbb512b-a62c-408b-8cae-29b88dc17ed4",
   "metadata": {},
   "outputs": [
    {
     "name": "stdout",
     "output_type": "stream",
     "text": [
      "month           1       2      3      4      5      6      7      8      9   \\\n",
      "state                                                                         \n",
      "Arizona     2117.0  1768.0  249.0  242.0  213.0  194.0  159.0  207.0  200.0   \n",
      "California  3903.0  3096.0  412.0  282.0  381.0  334.0  390.0  285.0  355.0   \n",
      "Oregon      3202.0  2676.0  277.0  321.0  274.0  276.0  281.0  217.0  299.0   \n",
      "\n",
      "month          10     11     12  \n",
      "state                            \n",
      "Arizona     192.0  160.0  202.0  \n",
      "California  377.0  470.0  311.0  \n",
      "Oregon      338.0  247.0  210.0  \n"
     ]
    }
   ],
   "source": [
    "# Extract month from 'effective_to_date' column\n",
    "insurance_df['month'] = insurance_df['effective_to_date'].dt.month\n",
    "\n",
    "# Group by state and month, and sum the number of policies sold\n",
    "policies_by_state_and_month = insurance_df.groupby(['state', 'month'])['number_of_policies'].sum().reset_index()\n",
    "\n",
    "# Sort the data by the count of policies sold in descending order\n",
    "sorted_states = policies_by_state_and_month.groupby('state')['number_of_policies'].sum().sort_values(ascending=False)\n",
    "\n",
    "# Select the top 3 states with the highest number of policies sold\n",
    "top_3_states = sorted_states.head(3).index\n",
    "\n",
    "# Filter the data to include only the top 3 states\n",
    "top_3_states_data = policies_by_state_and_month[policies_by_state_and_month['state'].isin(top_3_states)]\n",
    "\n",
    "# Create a new DataFrame that contains the number of policies sold by month for each of the top 3 states\n",
    "policies_by_month_top_3_states = top_3_states_data.pivot_table(index='state', columns='month', values='number_of_policies', fill_value=0)\n",
    "\n",
    "print(policies_by_month_top_3_states)"
   ]
  },
  {
   "cell_type": "code",
   "execution_count": null,
   "id": "30f86634-4b08-484f-9fe3-9035aefa434b",
   "metadata": {},
   "outputs": [],
   "source": []
  },
  {
   "cell_type": "code",
   "execution_count": null,
   "id": "2dd85e97-0e0d-4574-8f80-b94a517ef434",
   "metadata": {},
   "outputs": [],
   "source": []
  },
  {
   "cell_type": "code",
   "execution_count": null,
   "id": "0d4dfab9-f763-4cca-a543-1bdb38d096e9",
   "metadata": {},
   "outputs": [],
   "source": []
  },
  {
   "cell_type": "code",
   "execution_count": null,
   "id": "971d5484-0212-47f1-bb00-59e8f4a438ca",
   "metadata": {},
   "outputs": [],
   "source": []
  },
  {
   "cell_type": "code",
   "execution_count": null,
   "id": "fea92bf0-43a5-4330-922c-8e5eed562ff3",
   "metadata": {},
   "outputs": [],
   "source": []
  },
  {
   "cell_type": "code",
   "execution_count": null,
   "id": "d4f1bbd2-5e00-4e93-afd5-0f7fb6f16b2c",
   "metadata": {},
   "outputs": [],
   "source": []
  },
  {
   "cell_type": "code",
   "execution_count": null,
   "id": "9e94de2b-52fa-4fd8-acb3-65b4cdfa449d",
   "metadata": {},
   "outputs": [],
   "source": []
  },
  {
   "cell_type": "code",
   "execution_count": null,
   "id": "cdb79c0a-3018-4b87-bea8-f81216dc2f59",
   "metadata": {},
   "outputs": [],
   "source": []
  },
  {
   "cell_type": "code",
   "execution_count": null,
   "id": "0a4bc938-c243-4bc8-8f8a-2a348d36da33",
   "metadata": {},
   "outputs": [],
   "source": []
  },
  {
   "cell_type": "code",
   "execution_count": null,
   "id": "8d9b3496-51b3-47de-b820-426c9e41b6bb",
   "metadata": {},
   "outputs": [],
   "source": []
  },
  {
   "cell_type": "code",
   "execution_count": null,
   "id": "2aa858df-d462-4d02-96e6-dd2c6f77c372",
   "metadata": {},
   "outputs": [],
   "source": []
  },
  {
   "cell_type": "code",
   "execution_count": null,
   "id": "1857452c-9ff3-4aea-9a83-e349ddda89ed",
   "metadata": {},
   "outputs": [],
   "source": []
  },
  {
   "cell_type": "code",
   "execution_count": null,
   "id": "43ba2f6e-10e8-4c4d-9145-22f1b65cd01d",
   "metadata": {},
   "outputs": [],
   "source": []
  },
  {
   "cell_type": "code",
   "execution_count": null,
   "id": "265940ca-5535-41e8-b95f-e98142968903",
   "metadata": {},
   "outputs": [],
   "source": []
  },
  {
   "cell_type": "code",
   "execution_count": null,
   "id": "7a6b04d2-397d-4a43-8288-eb3c20ed8c17",
   "metadata": {},
   "outputs": [],
   "source": []
  },
  {
   "cell_type": "code",
   "execution_count": null,
   "id": "84b89fc3-d30a-4c4e-82f0-9ca9f37e25ac",
   "metadata": {},
   "outputs": [],
   "source": []
  },
  {
   "cell_type": "code",
   "execution_count": null,
   "id": "e265d3bf-46b3-4f92-be01-26c0570d8a76",
   "metadata": {},
   "outputs": [],
   "source": []
  },
  {
   "cell_type": "code",
   "execution_count": null,
   "id": "e8231d98-9df9-4ccf-bbf2-ec7543c85fe1",
   "metadata": {},
   "outputs": [],
   "source": []
  }
 ],
 "metadata": {
  "colab": {
   "provenance": []
  },
  "kernelspec": {
   "display_name": "Python 3 (ipykernel)",
   "language": "python",
   "name": "python3"
  },
  "language_info": {
   "codemirror_mode": {
    "name": "ipython",
    "version": 3
   },
   "file_extension": ".py",
   "mimetype": "text/x-python",
   "name": "python",
   "nbconvert_exporter": "python",
   "pygments_lexer": "ipython3",
   "version": "3.11.7"
  }
 },
 "nbformat": 4,
 "nbformat_minor": 5
}
