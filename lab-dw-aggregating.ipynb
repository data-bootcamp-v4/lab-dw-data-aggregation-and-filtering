{
  "cells": [
    {
      "cell_type": "markdown",
      "id": "31969215-2a90-4d8b-ac36-646a7ae13744",
      "metadata": {
        "id": "31969215-2a90-4d8b-ac36-646a7ae13744"
      },
      "source": [
        "# Lab | Data Aggregation and Filtering"
      ]
    },
    {
      "cell_type": "markdown",
      "id": "a8f08a52-bec0-439b-99cc-11d3809d8b5d",
      "metadata": {
        "id": "a8f08a52-bec0-439b-99cc-11d3809d8b5d"
      },
      "source": [
        "In this challenge, we will continue to work with customer data from an insurance company. We will use the dataset called marketing_customer_analysis.csv, which can be found at the following link:\n",
        "\n",
        "https://raw.githubusercontent.com/data-bootcamp-v4/data/main/marketing_customer_analysis.csv\n",
        "\n",
        "This dataset contains information such as customer demographics, policy details, vehicle information, and the customer's response to the last marketing campaign. Our goal is to explore and analyze this data by first performing data cleaning, formatting, and structuring."
      ]
    },
    {
      "cell_type": "code",
      "execution_count": 119,
      "id": "d973b5b9",
      "metadata": {},
      "outputs": [],
      "source": [
        "import pandas as pd\n",
        "\n",
        "url = \"https://raw.githubusercontent.com/data-bootcamp-v4/data/main/marketing_customer_analysis.csv\"\n",
        "\n",
        "data_mca = pd.read_csv(url)\n"
      ]
    },
    {
      "cell_type": "code",
      "execution_count": 120,
      "id": "6a0e2748",
      "metadata": {},
      "outputs": [],
      "source": [
        "data_mca.columns = data_mca.columns.str.replace(' ', '_')\n",
        "data_mca.columns = data_mca.columns.str.lower()"
      ]
    },
    {
      "cell_type": "code",
      "execution_count": 121,
      "id": "112f9a1a",
      "metadata": {},
      "outputs": [
        {
          "data": {
            "text/plain": [
              "gender\n",
              "F    5573\n",
              "M    5337\n",
              "Name: count, dtype: int64"
            ]
          },
          "execution_count": 121,
          "metadata": {},
          "output_type": "execute_result"
        }
      ],
      "source": [
        "data_mca[\"gender\"].value_counts()"
      ]
    },
    {
      "cell_type": "code",
      "execution_count": 122,
      "id": "63b53288",
      "metadata": {},
      "outputs": [
        {
          "data": {
            "text/plain": [
              "np.int64(37)"
            ]
          },
          "execution_count": 122,
          "metadata": {},
          "output_type": "execute_result"
        }
      ],
      "source": [
        "data_mca = data_mca.drop(columns=['unnamed:_0'])\n",
        "data_mca.duplicated().sum()"
      ]
    },
    {
      "cell_type": "code",
      "execution_count": 123,
      "id": "556eb63d",
      "metadata": {},
      "outputs": [
        {
          "data": {
            "text/plain": [
              "np.int64(0)"
            ]
          },
          "execution_count": 123,
          "metadata": {},
          "output_type": "execute_result"
        }
      ],
      "source": [
        "#Keeping only the first occurrence of each duplicated row\n",
        "data_mca = data_mca.drop_duplicates(subset=['customer'], keep='first')\n",
        "data_mca.duplicated().sum()"
      ]
    },
    {
      "cell_type": "code",
      "execution_count": 124,
      "id": "3034c7f3",
      "metadata": {},
      "outputs": [
        {
          "data": {
            "text/plain": [
              "customer                            0\n",
              "state                             290\n",
              "customer_lifetime_value             0\n",
              "response                          290\n",
              "coverage                            0\n",
              "education                           0\n",
              "effective_to_date                   0\n",
              "employmentstatus                    0\n",
              "gender                              0\n",
              "income                              0\n",
              "location_code                       0\n",
              "marital_status                      0\n",
              "monthly_premium_auto                0\n",
              "months_since_last_claim           287\n",
              "months_since_policy_inception       0\n",
              "number_of_open_complaints         287\n",
              "number_of_policies                  0\n",
              "policy_type                         0\n",
              "policy                              0\n",
              "renew_offer_type                    0\n",
              "sales_channel                       0\n",
              "total_claim_amount                  0\n",
              "vehicle_class                     267\n",
              "vehicle_size                      267\n",
              "vehicle_type                     4608\n",
              "dtype: int64"
            ]
          },
          "execution_count": 124,
          "metadata": {},
          "output_type": "execute_result"
        }
      ],
      "source": [
        "data_mca.isnull().sum()"
      ]
    },
    {
      "cell_type": "code",
      "execution_count": 125,
      "id": "52b64147",
      "metadata": {},
      "outputs": [
        {
          "name": "stdout",
          "output_type": "stream",
          "text": [
            "Gender Distribution (Known):\n",
            "gender\n",
            "F    0.509963\n",
            "M    0.490037\n",
            "Name: proportion, dtype: float64\n"
          ]
        }
      ],
      "source": [
        "# Fill missing values with ratio M/F based on the known distribution. \n",
        "import numpy as np\n",
        "\n",
        "gender_distribution = data_mca['gender'].value_counts(normalize=True)\n",
        "print(\"Gender Distribution (Known):\")\n",
        "print(gender_distribution)\n",
        "\n",
        "prob_male = gender_distribution.get('M', 0)\n",
        "prob_female = gender_distribution.get('F', 0)\n",
        "\n",
        "\n",
        "missing_gender_rows = data_mca[data_mca['gender'].isnull()]\n",
        "\n",
        "random_assignments = np.random.choice(['M', 'F'], size=missing_gender_rows.shape[0], p=[prob_male, prob_female])\n",
        "\n",
        "data_mca.loc[data_mca['gender'].isnull(), 'gender'] = random_assignments"
      ]
    },
    {
      "cell_type": "code",
      "execution_count": 126,
      "id": "f98383ff",
      "metadata": {},
      "outputs": [
        {
          "name": "stdout",
          "output_type": "stream",
          "text": [
            "State Distribution (Known):\n",
            "state\n",
            "California    0.343171\n",
            "Oregon        0.284600\n",
            "Arizona       0.187133\n",
            "Nevada        0.097580\n",
            "Washington    0.087517\n",
            "Name: proportion, dtype: float64\n"
          ]
        }
      ],
      "source": [
        "# Fill missing values with ratio State based on the known distribution.\n",
        "state_distribution = data_mca['state'].value_counts(normalize=True)\n",
        "print(\"State Distribution (Known):\")\n",
        "print(state_distribution)\n",
        "\n",
        "states = state_distribution.index\n",
        "probabilities = state_distribution.values\n",
        "\n",
        "missing_state_rows = data_mca[data_mca['state'].isnull()]\n",
        "\n",
        "random_assignments = np.random.choice(states, size=missing_state_rows.shape[0], p=probabilities)\n",
        "\n",
        "data_mca.loc[data_mca['state'].isnull(), 'state'] = random_assignments"
      ]
    },
    {
      "cell_type": "code",
      "execution_count": 127,
      "id": "b643ebe8",
      "metadata": {},
      "outputs": [
        {
          "name": "stderr",
          "output_type": "stream",
          "text": [
            "C:\\Users\\modri\\AppData\\Local\\Temp\\ipykernel_19016\\582662263.py:1: FutureWarning: A value is trying to be set on a copy of a DataFrame or Series through chained assignment using an inplace method.\n",
            "The behavior will change in pandas 3.0. This inplace method will never work because the intermediate object on which we are setting values always behaves as a copy.\n",
            "\n",
            "For example, when doing 'df[col].method(value, inplace=True)', try using 'df.method({col: value}, inplace=True)' or df[col] = df[col].method(value) instead, to perform the operation inplace on the original object.\n",
            "\n",
            "\n",
            "  data_mca['response'].fillna('unknown', inplace=True)\n"
          ]
        }
      ],
      "source": [
        "data_mca['response'].fillna('unknown', inplace=True)"
      ]
    },
    {
      "cell_type": "code",
      "execution_count": 128,
      "id": "9af7705f",
      "metadata": {},
      "outputs": [],
      "source": [
        "data_mca['months_since_last_claim'] = data_mca['months_since_last_claim'].fillna(data_mca['months_since_last_claim'].mean()).round(1)\n"
      ]
    },
    {
      "cell_type": "code",
      "execution_count": 129,
      "id": "218e90b8",
      "metadata": {},
      "outputs": [],
      "source": [
        "data_mca['number_of_open_complaints'] = data_mca['number_of_open_complaints'].fillna(data_mca['number_of_open_complaints'].mean()).round(0)\n"
      ]
    },
    {
      "cell_type": "code",
      "execution_count": 130,
      "id": "3fa5c653",
      "metadata": {},
      "outputs": [
        {
          "name": "stdout",
          "output_type": "stream",
          "text": [
            "0\n"
          ]
        }
      ],
      "source": [
        "from sklearn.model_selection import train_test_split\n",
        "from sklearn.preprocessing import LabelEncoder\n",
        "from sklearn.ensemble import RandomForestClassifier\n",
        "from sklearn.metrics import accuracy_score\n",
        "\n",
        "# Select the features and target variable\n",
        "features = data_mca.drop(columns=['vehicle_class'])\n",
        "target = data_mca['vehicle_class']\n",
        "\n",
        "# Encode categorical variables\n",
        "label_encoders = {}\n",
        "for column in features.select_dtypes(include=['object']).columns:\n",
        "    le = LabelEncoder()\n",
        "    features[column] = le.fit_transform(features[column].astype(str))\n",
        "    label_encoders[column] = le\n",
        "\n",
        "# Split the data into training and testing sets\n",
        "X_train = features[target.notnull()]\n",
        "y_train = target[target.notnull()]\n",
        "X_test = features[target.isnull()]\n",
        "\n",
        "# Train a RandomForestClassifier\n",
        "clf = RandomForestClassifier(random_state=42)\n",
        "clf.fit(X_train, y_train)\n",
        "\n",
        "# Predict the missing values\n",
        "predicted_vehicle_class = clf.predict(X_test)\n",
        "\n",
        "# Fill the missing values in the original dataframe\n",
        "data_mca.loc[data_mca['vehicle_class'].isnull(), 'vehicle_class'] = predicted_vehicle_class\n",
        "\n",
        "# Verify the missing values are filled\n",
        "print(data_mca['vehicle_class'].isnull().sum())"
      ]
    },
    {
      "cell_type": "code",
      "execution_count": 131,
      "id": "07194b91",
      "metadata": {},
      "outputs": [
        {
          "name": "stdout",
          "output_type": "stream",
          "text": [
            "0\n"
          ]
        }
      ],
      "source": [
        "# Fill missing values in vehicle_size based on vehicle_class\n",
        "vehicle_size_mode = data_mca.groupby('vehicle_class')['vehicle_size'].agg(lambda x: x.mode().iloc[0] if not x.mode().empty else np.nan)\n",
        "\n",
        "def fill_vehicle_size(row):\n",
        "    if pd.isnull(row['vehicle_size']):\n",
        "        return vehicle_size_mode.get(row['vehicle_class'], np.nan)\n",
        "    return row['vehicle_size']\n",
        "\n",
        "data_mca['vehicle_size'] = data_mca.apply(fill_vehicle_size, axis=1)\n",
        "\n",
        "# Verify the missing values are filled\n",
        "print(data_mca['vehicle_size'].isnull().sum())"
      ]
    },
    {
      "cell_type": "code",
      "execution_count": 132,
      "id": "d32aa701",
      "metadata": {},
      "outputs": [
        {
          "name": "stdout",
          "output_type": "stream",
          "text": [
            "0\n"
          ]
        }
      ],
      "source": [
        "# Fill missing values in vehicle_type based on vehicle_class and vehicle_size\n",
        "vehicle_type_mode = data_mca.groupby(['vehicle_class', 'vehicle_size'])['vehicle_type'].agg(lambda x: x.mode().iloc[0] if not x.mode().empty else np.nan)\n",
        "\n",
        "def fill_vehicle_type(row):\n",
        "    if pd.isnull(row['vehicle_type']):\n",
        "        return vehicle_type_mode.get((row['vehicle_class'], row['vehicle_size']), np.nan)\n",
        "    return row['vehicle_type']\n",
        "\n",
        "data_mca['vehicle_type'] = data_mca.apply(fill_vehicle_type, axis=1)\n",
        "\n",
        "# Verify the missing values are filled\n",
        "print(data_mca['vehicle_type'].isnull().sum())"
      ]
    },
    {
      "cell_type": "code",
      "execution_count": 133,
      "id": "b9e9341b",
      "metadata": {},
      "outputs": [
        {
          "data": {
            "text/plain": [
              "customer                         0\n",
              "state                            0\n",
              "customer_lifetime_value          0\n",
              "response                         0\n",
              "coverage                         0\n",
              "education                        0\n",
              "effective_to_date                0\n",
              "employmentstatus                 0\n",
              "gender                           0\n",
              "income                           0\n",
              "location_code                    0\n",
              "marital_status                   0\n",
              "monthly_premium_auto             0\n",
              "months_since_last_claim          0\n",
              "months_since_policy_inception    0\n",
              "number_of_open_complaints        0\n",
              "number_of_policies               0\n",
              "policy_type                      0\n",
              "policy                           0\n",
              "renew_offer_type                 0\n",
              "sales_channel                    0\n",
              "total_claim_amount               0\n",
              "vehicle_class                    0\n",
              "vehicle_size                     0\n",
              "vehicle_type                     0\n",
              "dtype: int64"
            ]
          },
          "execution_count": 133,
          "metadata": {},
          "output_type": "execute_result"
        }
      ],
      "source": [
        "data_mca.isnull().sum()"
      ]
    },
    {
      "cell_type": "markdown",
      "id": "9c98ddc5-b041-4c94-ada1-4dfee5c98e50",
      "metadata": {
        "id": "9c98ddc5-b041-4c94-ada1-4dfee5c98e50"
      },
      "source": [
        "1. Create a new DataFrame that only includes customers who have a total_claim_amount greater than $1,000 and have a response of \"Yes\" to the last marketing campaign."
      ]
    },
    {
      "cell_type": "code",
      "execution_count": 134,
      "id": "73e2b6e2",
      "metadata": {},
      "outputs": [
        {
          "name": "stdout",
          "output_type": "stream",
          "text": [
            "      customer       state  customer_lifetime_value response  coverage  \\\n",
            "189    OK31456  California             11009.130490      Yes   Premium   \n",
            "236    YJ16163      Oregon             11009.130490      Yes   Premium   \n",
            "419    GW43195      Oregon             25807.063000      Yes  Extended   \n",
            "442    IP94270     Arizona             13736.132500      Yes   Premium   \n",
            "587    FJ28407  California              5619.689084      Yes   Premium   \n",
            "654    VV47792  California             25807.063000      Yes  Extended   \n",
            "680    QL45827  Washington             25807.063000      Yes  Extended   \n",
            "815    MA15172  California             10179.717040      Yes   Premium   \n",
            "1276   WA45944     Arizona             25807.063000      Yes  Extended   \n",
            "1422   YK65946      Oregon              8427.172486      Yes  Extended   \n",
            "1527   TU53781      Oregon              8427.172486      Yes  Extended   \n",
            "1570   VL84149      Oregon             25807.063000      Yes  Extended   \n",
            "1629   UH35128      Oregon             25807.063000      Yes  Extended   \n",
            "1638   ZV80216      Oregon              5619.689084      Yes   Premium   \n",
            "1753   FG29932  California              7840.165778      Yes  Extended   \n",
            "1809   QO62792      Oregon              7840.165778      Yes  Extended   \n",
            "1856   ZA45956  California             13736.132500      Yes   Premium   \n",
            "2027   TA66375      Oregon             11009.130490      Yes   Premium   \n",
            "2125   JC11405      Oregon             10963.957230      Yes   Premium   \n",
            "2340   YE24562  California              3508.569533      Yes  Extended   \n",
            "2364   TC88986      Oregon              5619.689084      Yes   Premium   \n",
            "2865   FH77504  California             11009.130490      Yes   Premium   \n",
            "3346   UY18770  California             10179.717040      Yes   Premium   \n",
            "3934   ZW93288  California             19160.989940      Yes  Extended   \n",
            "3958   KC26486     Arizona              8427.172486      Yes  Extended   \n",
            "4284   GA72966      Oregon              8427.172486      Yes  Extended   \n",
            "4358   CG15505  California             19160.989940      Yes  Extended   \n",
            "4440   QW47320  California             10179.717040      Yes   Premium   \n",
            "4475   WP58340     Arizona             10963.957230      Yes   Premium   \n",
            "4521   LT72149      Nevada              5619.689084      Yes   Premium   \n",
            "4566   TC99043  California             13736.132500      Yes   Premium   \n",
            "5331   UT48216      Nevada              7840.165778      Yes  Extended   \n",
            "5489   TQ84956  California             10963.957230      Yes   Premium   \n",
            "5577   FN44127      Oregon              3508.569533      Yes  Extended   \n",
            "5896   TY31217  Washington             11009.130490      Yes   Premium   \n",
            "5987   MO21402      Oregon             13736.132500      Yes   Premium   \n",
            "6342   NZ60700  Washington             10963.957230      Yes   Premium   \n",
            "6601   RO89785      Oregon              3508.569533      Yes  Extended   \n",
            "7255   PN98247  California              7840.165778      Yes  Extended   \n",
            "7340   JL21509  California              3508.569533      Yes  Extended   \n",
            "7480   ZR79373     Arizona             10179.717040      Yes   Premium   \n",
            "7989   UU42868  California              5619.689084      Yes   Premium   \n",
            "8367   AJ89108  California             11009.130490      Yes   Premium   \n",
            "8420   MT27589      Oregon              7840.165778      Yes  Extended   \n",
            "8425   UP29839      Nevada             19160.989940      Yes  Extended   \n",
            "8505   DT77901      Oregon             10179.717040      Yes   Premium   \n",
            "8510   QE79527  California              8427.172486      Yes  Extended   \n",
            "8662   YU86361  Washington             19160.989940      Yes  Extended   \n",
            "8802   MC30750      Oregon             13736.132500      Yes   Premium   \n",
            "8835   XT93203  California             10963.957230      Yes   Premium   \n",
            "9326   MS18916  California              3508.569533      Yes  Extended   \n",
            "9498   IV54766      Oregon             19160.989940      Yes  Extended   \n",
            "9581   GD55093  California             19160.989940      Yes  Extended   \n",
            "10373  XZ64172      Oregon             10963.957230      Yes   Premium   \n",
            "10487  IX60941      Oregon              3508.569533      Yes  Extended   \n",
            "10708  CK39096      Oregon              5619.689084      Yes   Premium   \n",
            "\n",
            "                  education effective_to_date employmentstatus gender  income  \\\n",
            "189                Bachelor           1/24/11         Employed      F   51643   \n",
            "236                Bachelor           1/24/11         Employed      F   51643   \n",
            "419                 College           2/13/11         Employed      F   71210   \n",
            "442                  Master           2/13/11         Disabled      F   16181   \n",
            "587    High School or Below           1/26/11       Unemployed      M       0   \n",
            "654                 College           2/13/11         Employed      F   71210   \n",
            "680                 College           2/13/11         Employed      F   71210   \n",
            "815                Bachelor            1/5/11          Retired      F   14290   \n",
            "1276                College           2/13/11         Employed      F   71210   \n",
            "1422               Bachelor           2/10/11         Employed      F   46503   \n",
            "1527               Bachelor           2/10/11         Employed      F   46503   \n",
            "1570                College           2/13/11         Employed      F   71210   \n",
            "1629                College           2/13/11         Employed      F   71210   \n",
            "1638   High School or Below           1/26/11       Unemployed      M       0   \n",
            "1753                College           1/14/11         Employed      M   58414   \n",
            "1809                College           1/14/11         Employed      M   58414   \n",
            "1856                 Master           2/13/11         Disabled      F   16181   \n",
            "2027               Bachelor           1/24/11         Employed      F   51643   \n",
            "2125   High School or Below            2/8/11         Employed      M   55687   \n",
            "2340                College            1/5/11    Medical Leave      M   20978   \n",
            "2364   High School or Below           1/26/11       Unemployed      M       0   \n",
            "2865               Bachelor           1/24/11         Employed      F   51643   \n",
            "3346               Bachelor            1/5/11          Retired      F   14290   \n",
            "3934                 Master           2/20/11         Employed      F   22705   \n",
            "3958               Bachelor           2/10/11         Employed      F   46503   \n",
            "4284               Bachelor           2/10/11         Employed      F   46503   \n",
            "4358                 Master           2/20/11         Employed      F   22705   \n",
            "4440               Bachelor            1/5/11          Retired      F   14290   \n",
            "4475   High School or Below            2/8/11         Employed      M   55687   \n",
            "4521   High School or Below           1/26/11       Unemployed      M       0   \n",
            "4566                 Master           2/13/11         Disabled      F   16181   \n",
            "5331                College           1/14/11         Employed      M   58414   \n",
            "5489   High School or Below            2/8/11         Employed      M   55687   \n",
            "5577                College            1/5/11    Medical Leave      M   20978   \n",
            "5896               Bachelor           1/24/11         Employed      F   51643   \n",
            "5987                 Master           2/13/11         Disabled      F   16181   \n",
            "6342   High School or Below            2/8/11         Employed      M   55687   \n",
            "6601                College            1/5/11    Medical Leave      M   20978   \n",
            "7255                College           1/14/11         Employed      M   58414   \n",
            "7340                College            1/5/11    Medical Leave      M   20978   \n",
            "7480               Bachelor            1/5/11          Retired      F   14290   \n",
            "7989   High School or Below           1/26/11       Unemployed      M       0   \n",
            "8367               Bachelor           1/24/11         Employed      F   51643   \n",
            "8420                College           1/14/11         Employed      M   58414   \n",
            "8425                 Master           2/20/11         Employed      F   22705   \n",
            "8505               Bachelor            1/5/11          Retired      F   14290   \n",
            "8510               Bachelor           2/10/11         Employed      F   46503   \n",
            "8662                 Master           2/20/11         Employed      F   22705   \n",
            "8802                 Master           2/13/11         Disabled      F   16181   \n",
            "8835   High School or Below            2/8/11         Employed      M   55687   \n",
            "9326                College            1/5/11    Medical Leave      M   20978   \n",
            "9498                 Master           2/20/11         Employed      F   22705   \n",
            "9581                 Master           2/20/11         Employed      F   22705   \n",
            "10373  High School or Below            2/8/11         Employed      M   55687   \n",
            "10487               College            1/5/11    Medical Leave      M   20978   \n",
            "10708  High School or Below           1/26/11       Unemployed      M       0   \n",
            "\n",
            "       ... number_of_open_complaints number_of_policies     policy_type  \\\n",
            "189    ...                       0.0                  1  Corporate Auto   \n",
            "236    ...                       0.0                  1    Special Auto   \n",
            "419    ...                       1.0                  2   Personal Auto   \n",
            "442    ...                       0.0                  8   Personal Auto   \n",
            "587    ...                       0.0                  1   Personal Auto   \n",
            "654    ...                       1.0                  2   Personal Auto   \n",
            "680    ...                       1.0                  2   Personal Auto   \n",
            "815    ...                       0.0                  1   Personal Auto   \n",
            "1276   ...                       1.0                  2  Corporate Auto   \n",
            "1422   ...                       1.0                  1   Personal Auto   \n",
            "1527   ...                       1.0                  1  Corporate Auto   \n",
            "1570   ...                       1.0                  2  Corporate Auto   \n",
            "1629   ...                       1.0                  2   Personal Auto   \n",
            "1638   ...                       0.0                  1   Personal Auto   \n",
            "1753   ...                       2.0                  1    Special Auto   \n",
            "1809   ...                       2.0                  1   Personal Auto   \n",
            "1856   ...                       0.0                  8   Personal Auto   \n",
            "2027   ...                       0.0                  1  Corporate Auto   \n",
            "2125   ...                       0.0                  1   Personal Auto   \n",
            "2340   ...                       1.0                  1   Personal Auto   \n",
            "2364   ...                       0.0                  1    Special Auto   \n",
            "2865   ...                       0.0                  1   Personal Auto   \n",
            "3346   ...                       0.0                  1   Personal Auto   \n",
            "3934   ...                       0.0                  7   Personal Auto   \n",
            "3958   ...                       1.0                  1   Personal Auto   \n",
            "4284   ...                       1.0                  1   Personal Auto   \n",
            "4358   ...                       0.0                  7   Personal Auto   \n",
            "4440   ...                       0.0                  1   Personal Auto   \n",
            "4475   ...                       0.0                  1   Personal Auto   \n",
            "4521   ...                       0.0                  1   Personal Auto   \n",
            "4566   ...                       0.0                  8   Personal Auto   \n",
            "5331   ...                       2.0                  1   Personal Auto   \n",
            "5489   ...                       0.0                  1  Corporate Auto   \n",
            "5577   ...                       1.0                  1   Personal Auto   \n",
            "5896   ...                       0.0                  1   Personal Auto   \n",
            "5987   ...                       0.0                  8   Personal Auto   \n",
            "6342   ...                       0.0                  1   Personal Auto   \n",
            "6601   ...                       1.0                  1   Personal Auto   \n",
            "7255   ...                       2.0                  1   Personal Auto   \n",
            "7340   ...                       1.0                  1   Personal Auto   \n",
            "7480   ...                       0.0                  1   Personal Auto   \n",
            "7989   ...                       0.0                  1  Corporate Auto   \n",
            "8367   ...                       0.0                  1   Personal Auto   \n",
            "8420   ...                       2.0                  1  Corporate Auto   \n",
            "8425   ...                       0.0                  7   Personal Auto   \n",
            "8505   ...                       0.0                  1   Personal Auto   \n",
            "8510   ...                       1.0                  1   Personal Auto   \n",
            "8662   ...                       0.0                  7   Personal Auto   \n",
            "8802   ...                       0.0                  8   Personal Auto   \n",
            "8835   ...                       0.0                  1   Personal Auto   \n",
            "9326   ...                       1.0                  1   Personal Auto   \n",
            "9498   ...                       0.0                  7   Personal Auto   \n",
            "9581   ...                       0.0                  7   Personal Auto   \n",
            "10373  ...                       0.0                  1  Corporate Auto   \n",
            "10487  ...                       1.0                  1   Personal Auto   \n",
            "10708  ...                       0.0                  1   Personal Auto   \n",
            "\n",
            "             policy  renew_offer_type  sales_channel  total_claim_amount  \\\n",
            "189    Corporate L3            Offer2          Agent         1358.400000   \n",
            "236      Special L3            Offer2          Agent         1358.400000   \n",
            "419     Personal L2            Offer1         Branch         1027.200000   \n",
            "442     Personal L2            Offer1            Web         1261.319869   \n",
            "587     Personal L1            Offer2            Web         1027.000029   \n",
            "654     Personal L3            Offer1         Branch         1027.200000   \n",
            "680     Personal L1            Offer1         Branch         1027.200000   \n",
            "815     Personal L2            Offer1          Agent         1300.800000   \n",
            "1276   Corporate L3            Offer1         Branch         1027.200000   \n",
            "1422    Personal L3            Offer1          Agent         1032.000000   \n",
            "1527   Corporate L3            Offer1          Agent         1032.000000   \n",
            "1570   Corporate L2            Offer1         Branch         1027.200000   \n",
            "1629    Personal L2            Offer1         Branch         1027.200000   \n",
            "1638    Personal L1            Offer2            Web         1027.000029   \n",
            "1753     Special L2            Offer2          Agent         1008.000000   \n",
            "1809    Personal L3            Offer2          Agent         1008.000000   \n",
            "1856    Personal L2            Offer1            Web         1261.319869   \n",
            "2027   Corporate L2            Offer2          Agent         1358.400000   \n",
            "2125    Personal L3            Offer1          Agent         1324.800000   \n",
            "2340    Personal L3            Offer2         Branch         1176.278800   \n",
            "2364     Special L1            Offer2            Web         1027.000029   \n",
            "2865    Personal L3            Offer2          Agent         1358.400000   \n",
            "3346    Personal L3            Offer1          Agent         1300.800000   \n",
            "3934    Personal L1            Offer2          Agent         1294.700423   \n",
            "3958    Personal L2            Offer1          Agent         1032.000000   \n",
            "4284    Personal L3            Offer1          Agent         1032.000000   \n",
            "4358    Personal L3            Offer2          Agent         1294.700423   \n",
            "4440    Personal L1            Offer1          Agent         1300.800000   \n",
            "4475    Personal L2            Offer1          Agent         1324.800000   \n",
            "4521    Personal L2            Offer2            Web         1027.000029   \n",
            "4566    Personal L2            Offer1            Web         1261.319869   \n",
            "5331    Personal L1            Offer2          Agent         1008.000000   \n",
            "5489   Corporate L3            Offer1          Agent         1324.800000   \n",
            "5577    Personal L2            Offer2         Branch         1176.278800   \n",
            "5896    Personal L3            Offer2          Agent         1358.400000   \n",
            "5987    Personal L3            Offer1            Web         1261.319869   \n",
            "6342    Personal L2            Offer1          Agent         1324.800000   \n",
            "6601    Personal L3            Offer2         Branch         1176.278800   \n",
            "7255    Personal L3            Offer2          Agent         1008.000000   \n",
            "7340    Personal L3            Offer2         Branch         1176.278800   \n",
            "7480    Personal L3            Offer1          Agent         1300.800000   \n",
            "7989   Corporate L2            Offer2            Web         1027.000029   \n",
            "8367    Personal L3            Offer2          Agent         1358.400000   \n",
            "8420   Corporate L1            Offer2          Agent         1008.000000   \n",
            "8425    Personal L1            Offer2          Agent         1294.700423   \n",
            "8505    Personal L3            Offer1          Agent         1300.800000   \n",
            "8510    Personal L1            Offer1          Agent         1032.000000   \n",
            "8662    Personal L1            Offer2          Agent         1294.700423   \n",
            "8802    Personal L2            Offer1            Web         1261.319869   \n",
            "8835    Personal L3            Offer1          Agent         1324.800000   \n",
            "9326    Personal L1            Offer2         Branch         1176.278800   \n",
            "9498    Personal L1            Offer2          Agent         1294.700423   \n",
            "9581    Personal L1            Offer2          Agent         1294.700423   \n",
            "10373  Corporate L2            Offer1          Agent         1324.800000   \n",
            "10487   Personal L3            Offer2         Branch         1176.278800   \n",
            "10708   Personal L3            Offer2            Web         1027.000029   \n",
            "\n",
            "       vehicle_class vehicle_size vehicle_type  \n",
            "189       Luxury Car      Medsize            A  \n",
            "236       Luxury Car      Medsize            A  \n",
            "419       Luxury Car        Small            A  \n",
            "442              SUV      Medsize            A  \n",
            "587              SUV      Medsize            A  \n",
            "654       Luxury Car        Small            A  \n",
            "680       Luxury Car        Small            A  \n",
            "815       Luxury SUV      Medsize            A  \n",
            "1276      Luxury Car        Small            A  \n",
            "1422      Luxury SUV      Medsize            A  \n",
            "1527      Luxury SUV      Medsize            A  \n",
            "1570      Luxury Car        Small            A  \n",
            "1629      Luxury Car        Small            A  \n",
            "1638             SUV      Medsize            A  \n",
            "1753      Luxury SUV        Small            A  \n",
            "1809      Luxury SUV        Small            A  \n",
            "1856             SUV      Medsize            A  \n",
            "2027      Luxury Car      Medsize            A  \n",
            "2125      Luxury SUV      Medsize            A  \n",
            "2340   Four-Door Car        Small            A  \n",
            "2364             SUV      Medsize            A  \n",
            "2865      Luxury Car      Medsize            A  \n",
            "3346      Luxury SUV      Medsize            A  \n",
            "3934      Luxury SUV      Medsize            A  \n",
            "3958      Luxury SUV      Medsize            A  \n",
            "4284      Luxury SUV      Medsize            A  \n",
            "4358      Luxury SUV      Medsize            A  \n",
            "4440      Luxury SUV      Medsize            A  \n",
            "4475      Luxury SUV      Medsize            A  \n",
            "4521             SUV      Medsize            A  \n",
            "4566             SUV      Medsize            A  \n",
            "5331      Luxury SUV        Small            A  \n",
            "5489      Luxury SUV      Medsize            A  \n",
            "5577   Four-Door Car      Medsize            A  \n",
            "5896      Luxury Car      Medsize            A  \n",
            "5987             SUV      Medsize            A  \n",
            "6342      Luxury SUV      Medsize            A  \n",
            "6601   Four-Door Car        Small            A  \n",
            "7255      Luxury SUV        Small            A  \n",
            "7340   Four-Door Car        Small            A  \n",
            "7480      Luxury SUV      Medsize            A  \n",
            "7989             SUV      Medsize            A  \n",
            "8367      Luxury Car      Medsize            A  \n",
            "8420      Luxury SUV        Small            A  \n",
            "8425      Luxury SUV      Medsize            A  \n",
            "8505      Luxury SUV      Medsize            A  \n",
            "8510      Luxury SUV      Medsize            A  \n",
            "8662      Luxury SUV      Medsize            A  \n",
            "8802             SUV      Medsize            A  \n",
            "8835      Luxury SUV      Medsize            A  \n",
            "9326   Four-Door Car        Small            A  \n",
            "9498      Luxury SUV      Medsize            A  \n",
            "9581      Luxury SUV      Medsize            A  \n",
            "10373     Luxury SUV      Medsize            A  \n",
            "10487  Four-Door Car        Small            A  \n",
            "10708            SUV      Medsize            A  \n",
            "\n",
            "[56 rows x 25 columns]\n"
          ]
        }
      ],
      "source": [
        "df_1000 = data_mca[(data_mca['total_claim_amount'] > 1000) & (data_mca['response'] == 'Yes')]\n",
        "print(df_1000)"
      ]
    },
    {
      "cell_type": "markdown",
      "id": "b9be383e-5165-436e-80c8-57d4c757c8c3",
      "metadata": {
        "id": "b9be383e-5165-436e-80c8-57d4c757c8c3"
      },
      "source": [
        "2. Using the original Dataframe, analyze the average total_claim_amount by each policy type and gender for customers who have responded \"Yes\" to the last marketing campaign. Write your conclusions."
      ]
    },
    {
      "cell_type": "code",
      "execution_count": 135,
      "id": "7a3ef461",
      "metadata": {},
      "outputs": [
        {
          "data": {
            "text/html": [
              "<div>\n",
              "<style scoped>\n",
              "    .dataframe tbody tr th:only-of-type {\n",
              "        vertical-align: middle;\n",
              "    }\n",
              "\n",
              "    .dataframe tbody tr th {\n",
              "        vertical-align: top;\n",
              "    }\n",
              "\n",
              "    .dataframe thead th {\n",
              "        text-align: right;\n",
              "    }\n",
              "</style>\n",
              "<table border=\"1\" class=\"dataframe\">\n",
              "  <thead>\n",
              "    <tr style=\"text-align: right;\">\n",
              "      <th></th>\n",
              "      <th>policy_type</th>\n",
              "      <th>gender</th>\n",
              "      <th>total_claim_amount</th>\n",
              "    </tr>\n",
              "  </thead>\n",
              "  <tbody>\n",
              "    <tr>\n",
              "      <th>0</th>\n",
              "      <td>Corporate Auto</td>\n",
              "      <td>F</td>\n",
              "      <td>431.835494</td>\n",
              "    </tr>\n",
              "    <tr>\n",
              "      <th>1</th>\n",
              "      <td>Corporate Auto</td>\n",
              "      <td>M</td>\n",
              "      <td>410.032861</td>\n",
              "    </tr>\n",
              "    <tr>\n",
              "      <th>2</th>\n",
              "      <td>Personal Auto</td>\n",
              "      <td>F</td>\n",
              "      <td>453.143064</td>\n",
              "    </tr>\n",
              "    <tr>\n",
              "      <th>3</th>\n",
              "      <td>Personal Auto</td>\n",
              "      <td>M</td>\n",
              "      <td>456.083128</td>\n",
              "    </tr>\n",
              "    <tr>\n",
              "      <th>4</th>\n",
              "      <td>Special Auto</td>\n",
              "      <td>F</td>\n",
              "      <td>460.360832</td>\n",
              "    </tr>\n",
              "    <tr>\n",
              "      <th>5</th>\n",
              "      <td>Special Auto</td>\n",
              "      <td>M</td>\n",
              "      <td>414.799291</td>\n",
              "    </tr>\n",
              "  </tbody>\n",
              "</table>\n",
              "</div>"
            ],
            "text/plain": [
              "      policy_type gender  total_claim_amount\n",
              "0  Corporate Auto      F          431.835494\n",
              "1  Corporate Auto      M          410.032861\n",
              "2   Personal Auto      F          453.143064\n",
              "3   Personal Auto      M          456.083128\n",
              "4    Special Auto      F          460.360832\n",
              "5    Special Auto      M          414.799291"
            ]
          },
          "execution_count": 135,
          "metadata": {},
          "output_type": "execute_result"
        }
      ],
      "source": [
        "responded_yes = data_mca[data_mca['response'] == 'Yes']\n",
        "\n",
        "average_claims = responded_yes.groupby(['policy_type', 'gender'])['total_claim_amount'].mean().reset_index()\n",
        "\n",
        "average_claims"
      ]
    },
    {
      "cell_type": "markdown",
      "id": "7050f4ac-53c5-4193-a3c0-8699b87196f0",
      "metadata": {
        "id": "7050f4ac-53c5-4193-a3c0-8699b87196f0"
      },
      "source": [
        "3. Analyze the total number of customers who have policies in each state, and then filter the results to only include states where there are more than 500 customers."
      ]
    },
    {
      "cell_type": "code",
      "execution_count": 136,
      "id": "a2fbe18e",
      "metadata": {},
      "outputs": [
        {
          "data": {
            "text/html": [
              "<div>\n",
              "<style scoped>\n",
              "    .dataframe tbody tr th:only-of-type {\n",
              "        vertical-align: middle;\n",
              "    }\n",
              "\n",
              "    .dataframe tbody tr th {\n",
              "        vertical-align: top;\n",
              "    }\n",
              "\n",
              "    .dataframe thead th {\n",
              "        text-align: right;\n",
              "    }\n",
              "</style>\n",
              "<table border=\"1\" class=\"dataframe\">\n",
              "  <thead>\n",
              "    <tr style=\"text-align: right;\">\n",
              "      <th></th>\n",
              "      <th>state</th>\n",
              "      <th>customer</th>\n",
              "    </tr>\n",
              "  </thead>\n",
              "  <tbody>\n",
              "    <tr>\n",
              "      <th>0</th>\n",
              "      <td>Arizona</td>\n",
              "      <td>1706</td>\n",
              "    </tr>\n",
              "    <tr>\n",
              "      <th>1</th>\n",
              "      <td>California</td>\n",
              "      <td>3132</td>\n",
              "    </tr>\n",
              "    <tr>\n",
              "      <th>2</th>\n",
              "      <td>Nevada</td>\n",
              "      <td>895</td>\n",
              "    </tr>\n",
              "    <tr>\n",
              "      <th>3</th>\n",
              "      <td>Oregon</td>\n",
              "      <td>2599</td>\n",
              "    </tr>\n",
              "    <tr>\n",
              "      <th>4</th>\n",
              "      <td>Washington</td>\n",
              "      <td>802</td>\n",
              "    </tr>\n",
              "  </tbody>\n",
              "</table>\n",
              "</div>"
            ],
            "text/plain": [
              "        state  customer\n",
              "0     Arizona      1706\n",
              "1  California      3132\n",
              "2      Nevada       895\n",
              "3      Oregon      2599\n",
              "4  Washington       802"
            ]
          },
          "execution_count": 136,
          "metadata": {},
          "output_type": "execute_result"
        }
      ],
      "source": [
        "customer_count_by_state = data_mca.groupby('state')['customer'].count().reset_index()\n",
        "\n",
        "states_with_more_than_500_customers = customer_count_by_state[customer_count_by_state['customer'] > 500]\n",
        "states_with_more_than_500_customers"
      ]
    },
    {
      "cell_type": "markdown",
      "id": "b60a4443-a1a7-4bbf-b78e-9ccdf9895e0d",
      "metadata": {
        "id": "b60a4443-a1a7-4bbf-b78e-9ccdf9895e0d"
      },
      "source": [
        "4. Find the maximum, minimum, and median customer lifetime value by education level and gender. Write your conclusions."
      ]
    },
    {
      "cell_type": "code",
      "execution_count": 137,
      "id": "52fed178",
      "metadata": {},
      "outputs": [
        {
          "name": "stdout",
          "output_type": "stream",
          "text": [
            "              education gender          max          min       median\n",
            "0              Bachelor      F  73225.95652  1904.000852  5678.050167\n",
            "1              Bachelor      M  67907.27050  1898.007675  5555.830205\n",
            "2               College      F  61850.18803  1898.683686  5621.789489\n",
            "3               College      M  61134.68307  1918.119700  5989.773931\n",
            "4                Doctor      F  44856.11397  2395.570000  5332.462694\n",
            "5                Doctor      M  32677.34284  2267.604038  5620.587184\n",
            "6  High School or Below      F  55277.44589  2144.921535  6044.020038\n",
            "7  High School or Below      M  83325.38119  1940.981221  6176.700392\n",
            "8                Master      F  51016.06704  2417.777032  5801.128252\n",
            "9                Master      M  50568.25912  2272.307310  5617.956917\n"
          ]
        }
      ],
      "source": [
        "\n",
        "clv_stats = data_mca.groupby(['education', 'gender'])['customer_lifetime_value'].agg(['max', 'min', 'median']).reset_index()\n",
        "\n",
        "print(clv_stats)"
      ]
    },
    {
      "cell_type": "markdown",
      "id": "b42999f9-311f-481e-ae63-40a5577072c5",
      "metadata": {
        "id": "b42999f9-311f-481e-ae63-40a5577072c5"
      },
      "source": [
        "## Bonus"
      ]
    },
    {
      "cell_type": "markdown",
      "id": "81ff02c5-6584-4f21-a358-b918697c6432",
      "metadata": {
        "id": "81ff02c5-6584-4f21-a358-b918697c6432"
      },
      "source": [
        "5. The marketing team wants to analyze the number of policies sold by state and month. Present the data in a table where the months are arranged as columns and the states are arranged as rows."
      ]
    },
    {
      "cell_type": "markdown",
      "id": "b6aec097-c633-4017-a125-e77a97259cda",
      "metadata": {
        "id": "b6aec097-c633-4017-a125-e77a97259cda"
      },
      "source": [
        "6.  Display a new DataFrame that contains the number of policies sold by month, by state, for the top 3 states with the highest number of policies sold.\n",
        "\n",
        "*Hint:*\n",
        "- *To accomplish this, you will first need to group the data by state and month, then count the number of policies sold for each group. Afterwards, you will need to sort the data by the count of policies sold in descending order.*\n",
        "- *Next, you will select the top 3 states with the highest number of policies sold.*\n",
        "- *Finally, you will create a new DataFrame that contains the number of policies sold by month for each of the top 3 states.*"
      ]
    },
    {
      "cell_type": "markdown",
      "id": "ba975b8a-a2cf-4fbf-9f59-ebc381767009",
      "metadata": {
        "id": "ba975b8a-a2cf-4fbf-9f59-ebc381767009"
      },
      "source": [
        "7. The marketing team wants to analyze the effect of different marketing channels on the customer response rate.\n",
        "\n",
        "Hint: You can use melt to unpivot the data and create a table that shows the customer response rate (those who responded \"Yes\") by marketing channel."
      ]
    },
    {
      "cell_type": "markdown",
      "id": "e4378d94-48fb-4850-a802-b1bc8f427b2d",
      "metadata": {
        "id": "e4378d94-48fb-4850-a802-b1bc8f427b2d"
      },
      "source": [
        "External Resources for Data Filtering: https://towardsdatascience.com/filtering-data-frames-in-pandas-b570b1f834b9"
      ]
    },
    {
      "cell_type": "code",
      "execution_count": 138,
      "id": "449513f4-0459-46a0-a18d-9398d974c9ad",
      "metadata": {
        "id": "449513f4-0459-46a0-a18d-9398d974c9ad"
      },
      "outputs": [],
      "source": [
        "# your code goes here"
      ]
    }
  ],
  "metadata": {
    "colab": {
      "provenance": []
    },
    "kernelspec": {
      "display_name": "Python 3",
      "language": "python",
      "name": "python3"
    },
    "language_info": {
      "codemirror_mode": {
        "name": "ipython",
        "version": 3
      },
      "file_extension": ".py",
      "mimetype": "text/x-python",
      "name": "python",
      "nbconvert_exporter": "python",
      "pygments_lexer": "ipython3",
      "version": "3.13.1"
    }
  },
  "nbformat": 4,
  "nbformat_minor": 5
}
