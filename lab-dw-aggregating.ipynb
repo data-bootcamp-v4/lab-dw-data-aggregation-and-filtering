{
  "cells": [
    {
      "cell_type": "markdown",
      "id": "31969215-2a90-4d8b-ac36-646a7ae13744",
      "metadata": {
        "id": "31969215-2a90-4d8b-ac36-646a7ae13744"
      },
      "source": [
        "# Lab | Data Aggregation and Filtering"
      ]
    },
    {
      "cell_type": "markdown",
      "id": "a8f08a52-bec0-439b-99cc-11d3809d8b5d",
      "metadata": {
        "id": "a8f08a52-bec0-439b-99cc-11d3809d8b5d"
      },
      "source": [
        "In this challenge, we will continue to work with customer data from an insurance company. We will use the dataset called marketing_customer_analysis.csv, which can be found at the following link:\n",
        "\n",
        "https://raw.githubusercontent.com/data-bootcamp-v4/data/main/marketing_customer_analysis.csv\n",
        "\n",
        "This dataset contains information such as customer demographics, policy details, vehicle information, and the customer's response to the last marketing campaign. Our goal is to explore and analyze this data by first performing data cleaning, formatting, and structuring."
      ]
    },
    {
      "cell_type": "markdown",
      "id": "9c98ddc5-b041-4c94-ada1-4dfee5c98e50",
      "metadata": {
        "id": "9c98ddc5-b041-4c94-ada1-4dfee5c98e50"
      },
      "source": [
        "1. Create a new DataFrame that only includes customers who:\n",
        "   - have a **low total_claim_amount** (e.g., below $1,000),\n",
        "   - have a response \"Yes\" to the last marketing campaign."
      ]
    },
    {
      "cell_type": "markdown",
      "id": "b9be383e-5165-436e-80c8-57d4c757c8c3",
      "metadata": {
        "id": "b9be383e-5165-436e-80c8-57d4c757c8c3"
      },
      "source": [
        "2. Using the original Dataframe, analyze:\n",
        "   - the average `monthly_premium` and/or customer lifetime value by `policy_type` and `gender` for customers who responded \"Yes\", and\n",
        "   - compare these insights to `total_claim_amount` patterns, and discuss which segments appear most profitable or low-risk for the company."
      ]
    },
    {
      "cell_type": "markdown",
      "id": "7050f4ac-53c5-4193-a3c0-8699b87196f0",
      "metadata": {
        "id": "7050f4ac-53c5-4193-a3c0-8699b87196f0"
      },
      "source": [
        "3. Analyze the total number of customers who have policies in each state, and then filter the results to only include states where there are more than 500 customers."
      ]
    },
    {
      "cell_type": "markdown",
      "id": "b60a4443-a1a7-4bbf-b78e-9ccdf9895e0d",
      "metadata": {
        "id": "b60a4443-a1a7-4bbf-b78e-9ccdf9895e0d"
      },
      "source": [
        "4. Find the maximum, minimum, and median customer lifetime value by education level and gender. Write your conclusions."
      ]
    },
    {
      "cell_type": "markdown",
      "id": "b42999f9-311f-481e-ae63-40a5577072c5",
      "metadata": {
        "id": "b42999f9-311f-481e-ae63-40a5577072c5"
      },
      "source": [
        "## Bonus"
      ]
    },
    {
      "cell_type": "markdown",
      "id": "81ff02c5-6584-4f21-a358-b918697c6432",
      "metadata": {
        "id": "81ff02c5-6584-4f21-a358-b918697c6432"
      },
      "source": [
        "5. The marketing team wants to analyze the number of policies sold by state and month. Present the data in a table where the months are arranged as columns and the states are arranged as rows."
      ]
    },
    {
      "cell_type": "markdown",
      "id": "b6aec097-c633-4017-a125-e77a97259cda",
      "metadata": {
        "id": "b6aec097-c633-4017-a125-e77a97259cda"
      },
      "source": [
        "6.  Display a new DataFrame that contains the number of policies sold by month, by state, for the top 3 states with the highest number of policies sold.\n",
        "\n",
        "*Hint:*\n",
        "- *To accomplish this, you will first need to group the data by state and month, then count the number of policies sold for each group. Afterwards, you will need to sort the data by the count of policies sold in descending order.*\n",
        "- *Next, you will select the top 3 states with the highest number of policies sold.*\n",
        "- *Finally, you will create a new DataFrame that contains the number of policies sold by month for each of the top 3 states.*"
      ]
    },
    {
      "cell_type": "markdown",
      "id": "ba975b8a-a2cf-4fbf-9f59-ebc381767009",
      "metadata": {
        "id": "ba975b8a-a2cf-4fbf-9f59-ebc381767009"
      },
      "source": [
        "7. The marketing team wants to analyze the effect of different marketing channels on the customer response rate.\n",
        "\n",
        "Hint: You can use melt to unpivot the data and create a table that shows the customer response rate (those who responded \"Yes\") by marketing channel."
      ]
    },
    {
      "cell_type": "markdown",
      "id": "e4378d94-48fb-4850-a802-b1bc8f427b2d",
      "metadata": {
        "id": "e4378d94-48fb-4850-a802-b1bc8f427b2d"
      },
      "source": [
        "External Resources for Data Filtering: https://towardsdatascience.com/filtering-data-frames-in-pandas-b570b1f834b9"
      ]
    },
    {
      "cell_type": "code",
      "execution_count": 3,
      "id": "449513f4-0459-46a0-a18d-9398d974c9ad",
      "metadata": {
        "id": "449513f4-0459-46a0-a18d-9398d974c9ad"
      },
      "outputs": [
        {
          "name": "stdout",
          "output_type": "stream",
          "text": [
            "    unnamed:_0 customer       state  customer_lifetime_value response  \\\n",
            "3            3  XL78013      Oregon             22332.439460      Yes   \n",
            "8            8  FM55990  California              5989.773931      Yes   \n",
            "15          15  CW49887  California              4626.801093      Yes   \n",
            "19          19  NJ54277  California              3746.751625      Yes   \n",
            "27          27  MQ68407      Oregon              4376.363592      Yes   \n",
            "\n",
            "    coverage education effective_to_date employmentstatus gender  ...  \\\n",
            "3   Extended   College           1/11/11         Employed      M  ...   \n",
            "8    Premium   College           1/19/11         Employed      M  ...   \n",
            "15     Basic    Master           1/16/11         Employed      F  ...   \n",
            "19  Extended   College           2/26/11         Employed      F  ...   \n",
            "27   Premium  Bachelor           2/28/11         Employed      F  ...   \n",
            "\n",
            "    number_of_open_complaints number_of_policies     policy_type  \\\n",
            "3                         0.0                  2  Corporate Auto   \n",
            "8                         0.0                  1   Personal Auto   \n",
            "15                        0.0                  1    Special Auto   \n",
            "19                        1.0                  1   Personal Auto   \n",
            "27                        0.0                  1   Personal Auto   \n",
            "\n",
            "          policy  renew_offer_type  sales_channel  total_claim_amount  \\\n",
            "3   Corporate L3            Offer2         Branch          484.013411   \n",
            "8    Personal L1            Offer2         Branch          739.200000   \n",
            "15    Special L1            Offer2         Branch          547.200000   \n",
            "19   Personal L2            Offer2    Call Center           19.575683   \n",
            "27   Personal L3            Offer2          Agent           60.036683   \n",
            "\n",
            "    vehicle_class vehicle_size vehicle_type  \n",
            "3   Four-Door Car      Medsize            A  \n",
            "8      Sports Car      Medsize          NaN  \n",
            "15            SUV      Medsize          NaN  \n",
            "19   Two-Door Car        Large            A  \n",
            "27  Four-Door Car      Medsize          NaN  \n",
            "\n",
            "[5 rows x 26 columns]\n",
            "      policy_type gender  monthly_premium_auto  customer_lifetime_value  \\\n",
            "0  Corporate Auto      F             94.301775              7712.628736   \n",
            "1  Corporate Auto      M             92.188312              7944.465414   \n",
            "2   Personal Auto      F             98.998148              8339.791842   \n",
            "3   Personal Auto      M             91.085821              7448.383281   \n",
            "4    Special Auto      F             92.314286              7691.584111   \n",
            "5    Special Auto      M             86.343750              8247.088702   \n",
            "\n",
            "   total_claim_amount  \n",
            "0          433.738499  \n",
            "1          408.582459  \n",
            "2          452.965929  \n",
            "3          457.010178  \n",
            "4          453.280164  \n",
            "5          429.527942  \n",
            "state\n",
            "California    3552\n",
            "Oregon        2909\n",
            "Arizona       1937\n",
            "Nevada         993\n",
            "Washington     888\n",
            "Name: count, dtype: int64\n",
            "              education gender          max          min       median\n",
            "0              Bachelor      F  73225.95652  1904.000852  5640.505303\n",
            "1              Bachelor      M  67907.27050  1898.007675  5548.031892\n",
            "2               College      F  61850.18803  1898.683686  5623.611187\n",
            "3               College      M  61134.68307  1918.119700  6005.847375\n",
            "4                Doctor      F  44856.11397  2395.570000  5332.462694\n",
            "5                Doctor      M  32677.34284  2267.604038  5577.669457\n",
            "6  High School or Below      F  55277.44589  2144.921535  6039.553187\n",
            "7  High School or Below      M  83325.38119  1940.981221  6286.731006\n",
            "8                Master      F  51016.06704  2417.777032  5729.855012\n",
            "9                Master      M  50568.25912  2272.307310  5579.099207\n",
            "month       January  February  March  April  May  June  July  August  \\\n",
            "state                                                                  \n",
            "Arizona        1008       929      0      0    0     0     0       0   \n",
            "California     1918      1634      0      0    0     0     0       0   \n",
            "Nevada          551       442      0      0    0     0     0       0   \n",
            "Oregon         1565      1344      0      0    0     0     0       0   \n",
            "Washington      463       425      0      0    0     0     0       0   \n",
            "\n",
            "month       September  October  November  December  \n",
            "state                                               \n",
            "Arizona             0        0         0         0  \n",
            "California          0        0         0         0  \n",
            "Nevada              0        0         0         0  \n",
            "Oregon              0        0         0         0  \n",
            "Washington          0        0         0         0  \n",
            "month       January  February  March  April  May  June  July  August  \\\n",
            "state                                                                  \n",
            "Arizona        1008       929      0      0    0     0     0       0   \n",
            "California     1918      1634      0      0    0     0     0       0   \n",
            "Oregon         1565      1344      0      0    0     0     0       0   \n",
            "\n",
            "month       September  October  November  December  \n",
            "state                                               \n",
            "Arizona             0        0         0         0  \n",
            "California          0        0         0         0  \n",
            "Oregon              0        0         0         0  \n",
            "response       response_rate\n",
            "sales_channel               \n",
            "Agent               0.190746\n",
            "Branch              0.113787\n",
            "Call Center         0.109786\n",
            "Web                 0.117141\n"
          ]
        },
        {
          "name": "stderr",
          "output_type": "stream",
          "text": [
            "/var/folders/9p/zf59q68s4fl48rcv9jgn0xcm0000gn/T/ipykernel_60820/4146974252.py:25: UserWarning: Could not infer format, so each element will be parsed individually, falling back to `dateutil`. To ensure parsing is consistent and as-expected, please specify a format.\n",
            "  df['effective_to_date'] = pd.to_datetime(df['effective_to_date'])\n",
            "/var/folders/9p/zf59q68s4fl48rcv9jgn0xcm0000gn/T/ipykernel_60820/4146974252.py:31: FutureWarning: The default of observed=False is deprecated and will be changed to True in a future version of pandas. Pass observed=False to retain current behavior or observed=True to adopt the future default and silence this warning.\n",
            "  policies_by_state_month = df.groupby(['state', 'month']).size().unstack(fill_value=0)\n",
            "/var/folders/9p/zf59q68s4fl48rcv9jgn0xcm0000gn/T/ipykernel_60820/4146974252.py:35: FutureWarning: The default of observed=False is deprecated and will be changed to True in a future version of pandas. Pass observed=False to retain current behavior or observed=True to adopt the future default and silence this warning.\n",
            "  top_policies_by_month = top_states_df.groupby(['state', 'month']).size().unstack(fill_value=0)\n"
          ]
        }
      ],
      "source": [
        "import pandas as pd\n",
        "\n",
        "url = \"https://raw.githubusercontent.com/data-bootcamp-v4/data/main/marketing_customer_analysis.csv\"\n",
        "df = pd.read_csv(url)\n",
        "\n",
        "df.columns = df.columns.str.lower().str.replace(' ', '_')\n",
        "df['total_claim_amount'] = pd.to_numeric(df['total_claim_amount'], errors='coerce')\n",
        "df['customer_lifetime_value'] = pd.to_numeric(df['customer_lifetime_value'], errors='coerce')\n",
        "df['monthly_premium_auto'] = pd.to_numeric(df['monthly_premium_auto'], errors='coerce')\n",
        "\n",
        "filtered_df = df[(df['total_claim_amount'] < 1000) & (df['response'] == 'Yes')]\n",
        "\n",
        "yes_df = df[df['response'] == 'Yes']\n",
        "grouped = yes_df.groupby(['policy_type', 'gender']).agg({\n",
        "    'monthly_premium_auto': 'mean',\n",
        "    'customer_lifetime_value': 'mean',\n",
        "    'total_claim_amount': 'mean'\n",
        "}).reset_index()\n",
        "\n",
        "states_counts = df['state'].value_counts()\n",
        "states_over_500 = states_counts[states_counts > 500]\n",
        "\n",
        "clv_stats = df.groupby(['education', 'gender'])['customer_lifetime_value'].agg(['max', 'min', 'median']).reset_index()\n",
        "\n",
        "df['effective_to_date'] = pd.to_datetime(df['effective_to_date'])\n",
        "df['month'] = df['effective_to_date'].dt.month_name()\n",
        "df['month'] = pd.Categorical(df['month'], categories=[\n",
        "    'January', 'February', 'March', 'April', 'May', 'June', 'July',\n",
        "    'August', 'September', 'October', 'November', 'December'], ordered=True)\n",
        "\n",
        "policies_by_state_month = df.groupby(['state', 'month']).size().unstack(fill_value=0)\n",
        "\n",
        "top_states = df['state'].value_counts().nlargest(3).index\n",
        "top_states_df = df[df['state'].isin(top_states)]\n",
        "top_policies_by_month = top_states_df.groupby(['state', 'month']).size().unstack(fill_value=0)\n",
        "\n",
        "response_rate = df.groupby('sales_channel')['response'].value_counts(normalize=True).unstack().fillna(0)\n",
        "response_rate = response_rate[['Yes']].rename(columns={'Yes': 'response_rate'})\n",
        "\n",
        "print(filtered_df.head())\n",
        "print(grouped)\n",
        "print(states_over_500)\n",
        "print(clv_stats)\n",
        "print(policies_by_state_month)\n",
        "print(top_policies_by_month)\n",
        "print(response_rate)\n"
      ]
    }
  ],
  "metadata": {
    "colab": {
      "provenance": []
    },
    "kernelspec": {
      "display_name": "Python 3",
      "language": "python",
      "name": "python3"
    },
    "language_info": {
      "codemirror_mode": {
        "name": "ipython",
        "version": 3
      },
      "file_extension": ".py",
      "mimetype": "text/x-python",
      "name": "python",
      "nbconvert_exporter": "python",
      "pygments_lexer": "ipython3",
      "version": "3.13.5"
    }
  },
  "nbformat": 4,
  "nbformat_minor": 5
}
