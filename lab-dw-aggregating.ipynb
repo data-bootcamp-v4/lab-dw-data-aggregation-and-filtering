{
  "cells": [
    {
      "cell_type": "markdown",
      "id": "31969215-2a90-4d8b-ac36-646a7ae13744",
      "metadata": {
        "id": "31969215-2a90-4d8b-ac36-646a7ae13744"
      },
      "source": [
        "# Lab | Data Aggregation and Filtering"
      ]
    },
    {
      "cell_type": "markdown",
      "id": "a8f08a52-bec0-439b-99cc-11d3809d8b5d",
      "metadata": {
        "id": "a8f08a52-bec0-439b-99cc-11d3809d8b5d"
      },
      "source": [
        "In this challenge, we will continue to work with customer data from an insurance company. We will use the dataset called marketing_customer_analysis.csv, which can be found at the following link:\n",
        "\n",
        "https://raw.githubusercontent.com/data-bootcamp-v4/data/main/marketing_customer_analysis.csv\n",
        "\n",
        "This dataset contains information such as customer demographics, policy details, vehicle information, and the customer's response to the last marketing campaign. Our goal is to explore and analyze this data by first performing data cleaning, formatting, and structuring."
      ]
    },
    {
      "cell_type": "markdown",
      "id": "9c98ddc5-b041-4c94-ada1-4dfee5c98e50",
      "metadata": {
        "id": "9c98ddc5-b041-4c94-ada1-4dfee5c98e50"
      },
      "source": [
        "1. Create a new DataFrame that only includes customers who have a total_claim_amount greater than $1,000 and have a response of \"Yes\" to the last marketing campaign."
      ]
    },
    {
      "cell_type": "code",
      "execution_count": 1,
      "id": "48236d18",
      "metadata": {},
      "outputs": [
        {
          "name": "stdout",
          "output_type": "stream",
          "text": [
            "       Unnamed: 0 Customer       State  Customer Lifetime Value Response  \\\n",
            "0               0  DK49336     Arizona              4809.216960       No   \n",
            "1               1  KX64629  California              2228.525238       No   \n",
            "2               2  LZ68649  Washington             14947.917300       No   \n",
            "3               3  XL78013      Oregon             22332.439460      Yes   \n",
            "4               4  QA50777      Oregon              9025.067525       No   \n",
            "...           ...      ...         ...                      ...      ...   \n",
            "10905       10905  FE99816      Nevada             15563.369440       No   \n",
            "10906       10906  KX53892      Oregon              5259.444853       No   \n",
            "10907       10907  TL39050     Arizona             23893.304100       No   \n",
            "10908       10908  WA60547  California             11971.977650       No   \n",
            "10909       10909  IV32877         NaN              6857.519928      NaN   \n",
            "\n",
            "       Coverage Education Effective To Date EmploymentStatus Gender  ...  \\\n",
            "0         Basic   College           2/18/11         Employed      M  ...   \n",
            "1         Basic   College           1/18/11       Unemployed      F  ...   \n",
            "2         Basic  Bachelor           2/10/11         Employed      M  ...   \n",
            "3      Extended   College           1/11/11         Employed      M  ...   \n",
            "4       Premium  Bachelor           1/17/11    Medical Leave      F  ...   \n",
            "...         ...       ...               ...              ...    ...  ...   \n",
            "10905   Premium  Bachelor           1/19/11       Unemployed      F  ...   \n",
            "10906     Basic   College            1/6/11         Employed      F  ...   \n",
            "10907  Extended  Bachelor            2/6/11         Employed      F  ...   \n",
            "10908   Premium   College           2/13/11         Employed      F  ...   \n",
            "10909     Basic  Bachelor            1/8/11       Unemployed      M  ...   \n",
            "\n",
            "       Number of Open Complaints Number of Policies     Policy Type  \\\n",
            "0                            0.0                  9  Corporate Auto   \n",
            "1                            0.0                  1   Personal Auto   \n",
            "2                            0.0                  2   Personal Auto   \n",
            "3                            0.0                  2  Corporate Auto   \n",
            "4                            NaN                  7   Personal Auto   \n",
            "...                          ...                ...             ...   \n",
            "10905                        NaN                  7   Personal Auto   \n",
            "10906                        0.0                  6   Personal Auto   \n",
            "10907                        0.0                  2  Corporate Auto   \n",
            "10908                        4.0                  6   Personal Auto   \n",
            "10909                        0.0                  3   Personal Auto   \n",
            "\n",
            "             Policy  Renew Offer Type  Sales Channel  Total Claim Amount  \\\n",
            "0      Corporate L3            Offer3          Agent          292.800000   \n",
            "1       Personal L3            Offer4    Call Center          744.924331   \n",
            "2       Personal L3            Offer3    Call Center          480.000000   \n",
            "3      Corporate L3            Offer2         Branch          484.013411   \n",
            "4       Personal L2            Offer1         Branch          707.925645   \n",
            "...             ...               ...            ...                 ...   \n",
            "10905   Personal L1            Offer3            Web         1214.400000   \n",
            "10906   Personal L3            Offer2         Branch          273.018929   \n",
            "10907  Corporate L3            Offer1            Web          381.306996   \n",
            "10908   Personal L1            Offer1         Branch          618.288849   \n",
            "10909   Personal L1            Offer4            Web         1021.719397   \n",
            "\n",
            "       Vehicle Class Vehicle Size Vehicle Type  \n",
            "0      Four-Door Car      Medsize          NaN  \n",
            "1      Four-Door Car      Medsize          NaN  \n",
            "2                SUV      Medsize            A  \n",
            "3      Four-Door Car      Medsize            A  \n",
            "4      Four-Door Car      Medsize          NaN  \n",
            "...              ...          ...          ...  \n",
            "10905     Luxury Car      Medsize            A  \n",
            "10906  Four-Door Car      Medsize            A  \n",
            "10907     Luxury SUV      Medsize          NaN  \n",
            "10908            SUV      Medsize            A  \n",
            "10909            SUV      Medsize          NaN  \n",
            "\n",
            "[10910 rows x 26 columns]\n"
          ]
        }
      ],
      "source": [
        "import pandas as pd\n",
        "url = 'https://raw.githubusercontent.com/data-bootcamp-v4/data/main/marketing_customer_analysis.csv'\n",
        "datos_mk = pd.read_csv(url)\n",
        "\n",
        "print(datos_mk)"
      ]
    },
    {
      "cell_type": "code",
      "execution_count": 2,
      "id": "19d72f30",
      "metadata": {},
      "outputs": [
        {
          "name": "stdout",
          "output_type": "stream",
          "text": [
            "       Unnamed: 0 Customer       State  Customer Lifetime Value Response  \\\n",
            "189           189  OK31456  California             11009.130490      Yes   \n",
            "236           236  YJ16163      Oregon             11009.130490      Yes   \n",
            "419           419  GW43195      Oregon             25807.063000      Yes   \n",
            "442           442  IP94270     Arizona             13736.132500      Yes   \n",
            "587           587  FJ28407  California              5619.689084      Yes   \n",
            "...           ...      ...         ...                      ...      ...   \n",
            "10351       10351  FN44127      Oregon              3508.569533      Yes   \n",
            "10373       10373  XZ64172      Oregon             10963.957230      Yes   \n",
            "10487       10487  IX60941      Oregon              3508.569533      Yes   \n",
            "10565       10565  QO62792      Oregon              7840.165778      Yes   \n",
            "10708       10708  CK39096      Oregon              5619.689084      Yes   \n",
            "\n",
            "       Coverage             Education Effective To Date EmploymentStatus  \\\n",
            "189     Premium              Bachelor           1/24/11         Employed   \n",
            "236     Premium              Bachelor           1/24/11         Employed   \n",
            "419    Extended               College           2/13/11         Employed   \n",
            "442     Premium                Master           2/13/11         Disabled   \n",
            "587     Premium  High School or Below           1/26/11       Unemployed   \n",
            "...         ...                   ...               ...              ...   \n",
            "10351  Extended               College            1/5/11    Medical Leave   \n",
            "10373   Premium  High School or Below            2/8/11         Employed   \n",
            "10487  Extended               College            1/5/11    Medical Leave   \n",
            "10565  Extended               College           1/14/11         Employed   \n",
            "10708   Premium  High School or Below           1/26/11       Unemployed   \n",
            "\n",
            "      Gender  ...  Number of Open Complaints Number of Policies  \\\n",
            "189        F  ...                        0.0                  1   \n",
            "236        F  ...                        0.0                  1   \n",
            "419        F  ...                        1.0                  2   \n",
            "442        F  ...                        0.0                  8   \n",
            "587        M  ...                        0.0                  1   \n",
            "...      ...  ...                        ...                ...   \n",
            "10351      M  ...                        1.0                  1   \n",
            "10373      M  ...                        0.0                  1   \n",
            "10487      M  ...                        1.0                  1   \n",
            "10565      M  ...                        2.0                  1   \n",
            "10708      M  ...                        0.0                  1   \n",
            "\n",
            "          Policy Type        Policy  Renew Offer Type  Sales Channel  \\\n",
            "189    Corporate Auto  Corporate L3            Offer2          Agent   \n",
            "236      Special Auto    Special L3            Offer2          Agent   \n",
            "419     Personal Auto   Personal L2            Offer1         Branch   \n",
            "442     Personal Auto   Personal L2            Offer1            Web   \n",
            "587     Personal Auto   Personal L1            Offer2            Web   \n",
            "...               ...           ...               ...            ...   \n",
            "10351   Personal Auto   Personal L2            Offer2         Branch   \n",
            "10373  Corporate Auto  Corporate L2            Offer1          Agent   \n",
            "10487   Personal Auto   Personal L3            Offer2         Branch   \n",
            "10565   Personal Auto   Personal L3            Offer2          Agent   \n",
            "10708   Personal Auto   Personal L3            Offer2            Web   \n",
            "\n",
            "       Total Claim Amount  Vehicle Class Vehicle Size Vehicle Type  \n",
            "189           1358.400000     Luxury Car      Medsize          NaN  \n",
            "236           1358.400000     Luxury Car      Medsize            A  \n",
            "419           1027.200000     Luxury Car        Small            A  \n",
            "442           1261.319869            SUV      Medsize            A  \n",
            "587           1027.000029            SUV      Medsize            A  \n",
            "...                   ...            ...          ...          ...  \n",
            "10351         1176.278800  Four-Door Car        Small          NaN  \n",
            "10373         1324.800000     Luxury SUV      Medsize          NaN  \n",
            "10487         1176.278800  Four-Door Car        Small          NaN  \n",
            "10565         1008.000000            NaN          NaN          NaN  \n",
            "10708         1027.000029            SUV      Medsize            A  \n",
            "\n",
            "[67 rows x 26 columns]\n"
          ]
        }
      ],
      "source": [
        "# Crea un df que te muestre los datos de las ventas>1000$ y response=='yes'\n",
        "data_mk_filtrado = datos_mk[(datos_mk['Total Claim Amount'] > 1000) & (datos_mk['Response'] == 'Yes')]\n",
        "print(data_mk_filtrado)\n"
      ]
    },
    {
      "cell_type": "markdown",
      "id": "b9be383e-5165-436e-80c8-57d4c757c8c3",
      "metadata": {
        "id": "b9be383e-5165-436e-80c8-57d4c757c8c3"
      },
      "source": [
        "2. Using the original Dataframe, analyze the average total_claim_amount by each policy type and gender for customers who have responded \"Yes\" to the last marketing campaign. Write your conclusions."
      ]
    },
    {
      "cell_type": "code",
      "execution_count": 3,
      "id": "01b51c12",
      "metadata": {},
      "outputs": [
        {
          "name": "stdout",
          "output_type": "stream",
          "text": [
            "El numero de coches que cumplen los requisitos de haber dicho que si a la ultima campaña \n",
            "de marketing siendo mujer son: \n",
            "      Coche corporativo: 744, \n",
            "      coche Personal: 744 y \n",
            "      coche especial: 744. \n",
            "Mientras que para hombres fueron: \n",
            "      Coche corporativo: 722, \n",
            "      coche Personal: 722 y \n",
            "      coche especial: 722.\n",
            "      \n"
          ]
        }
      ],
      "source": [
        "yes_f = datos_mk[(datos_mk['Response'] == 'Yes') & (datos_mk['Gender'] == 'F')]\n",
        "yes_m = datos_mk[(datos_mk['Response'] == 'Yes') & (datos_mk['Gender'] == 'M')]\n",
        "\n",
        "Corp_car_f =  len(yes_f['Policy Type'] == 'Corporate Auto')\n",
        "Corp_car_m =  len(yes_m['Policy Type'] == 'Corporate Auto')\n",
        "\n",
        "Pers_car_f = len(yes_f['Policy Type'] == 'Personal Auto')\n",
        "Pers_car_m = len(yes_m['Policy Type'] == 'Personal Auto')\n",
        "\n",
        "Special_car_f = len(yes_f['Policy Type'] == 'Special Auto')\n",
        "Special_car_m = len(yes_m['Policy Type'] == 'Special Auto')\n",
        "                 \n",
        "print(f\"\"\"El numero de coches que cumplen los requisitos de haber dicho que si a la ultima campaña \n",
        "de marketing siendo mujer son: \n",
        "      Coche corporativo: {Corp_car_f}, \n",
        "      coche Personal: {Pers_car_f} y \n",
        "      coche especial: {Special_car_f}. \n",
        "Mientras que para hombres fueron: \n",
        "      Coche corporativo: {Corp_car_m}, \n",
        "      coche Personal: {Pers_car_m} y \n",
        "      coche especial: {Special_car_m}.\n",
        "      \"\"\")"
      ]
    },
    {
      "cell_type": "code",
      "execution_count": 4,
      "id": "187d7dfb",
      "metadata": {},
      "outputs": [],
      "source": [
        "# policy_female = datos_mk[(datos_mk['Response'] == 'Yes') & (datos_mk['Gender'] == 'F')]\n",
        "# policy_male = datos_mk[(datos_mk['Response'] == 'Yes') & (datos_mk['Gender'] == 'M')]\n",
        "\n",
        "# forma_female = policy_female.shape\n",
        "# print(f\"Datos mujeres {forma_female}\") "
      ]
    },
    {
      "cell_type": "code",
      "execution_count": 5,
      "id": "e39f561e",
      "metadata": {},
      "outputs": [],
      "source": [
        "# forma_male = policy_male.shape\n",
        "# print(f\"Datos varones{forma_male}\")"
      ]
    },
    {
      "cell_type": "code",
      "execution_count": 6,
      "id": "dedb15b1",
      "metadata": {},
      "outputs": [],
      "source": [
        "# Hubo una mayor respuesta postiva por parte de la población femenina. "
      ]
    },
    {
      "cell_type": "markdown",
      "id": "7050f4ac-53c5-4193-a3c0-8699b87196f0",
      "metadata": {
        "id": "7050f4ac-53c5-4193-a3c0-8699b87196f0"
      },
      "source": [
        "3. Analyze the total number of customers who have policies in each state, and then filter the results to only include states where there are more than 500 customers."
      ]
    },
    {
      "cell_type": "code",
      "execution_count": 7,
      "id": "c246542d",
      "metadata": {},
      "outputs": [],
      "source": [
        "datos_estados = datos_mk.groupby('State').size()"
      ]
    },
    {
      "cell_type": "code",
      "execution_count": 8,
      "id": "d8a8d9df",
      "metadata": {},
      "outputs": [
        {
          "name": "stdout",
          "output_type": "stream",
          "text": [
            "State\n",
            "Arizona       1937\n",
            "California    3552\n",
            "Nevada         993\n",
            "Oregon        2909\n",
            "Washington     888\n",
            "dtype: int64\n"
          ]
        }
      ],
      "source": [
        "datos_estados_500 = datos_estados[datos_estados >= 500]\n",
        "print(datos_estados_500)"
      ]
    },
    {
      "cell_type": "code",
      "execution_count": 9,
      "id": "c2b89328",
      "metadata": {},
      "outputs": [],
      "source": [
        "# Las zonas con más polizas curiosamente están en el sur-este de EE.UU, "
      ]
    },
    {
      "cell_type": "markdown",
      "id": "b60a4443-a1a7-4bbf-b78e-9ccdf9895e0d",
      "metadata": {
        "id": "b60a4443-a1a7-4bbf-b78e-9ccdf9895e0d"
      },
      "source": [
        "4. Find the maximum, minimum, and median customer lifetime value by education level and gender. Write your conclusions."
      ]
    },
    {
      "cell_type": "code",
      "execution_count": 61,
      "id": "7bcabec7",
      "metadata": {},
      "outputs": [
        {
          "data": {
            "text/plain": [
              "Education             Gender\n",
              "Bachelor              F         1904.000852\n",
              "                      M         1898.007675\n",
              "College               F         1898.683686\n",
              "                      M         1918.119700\n",
              "Doctor                F         2395.570000\n",
              "                      M         2267.604038\n",
              "High School or Below  F         2144.921535\n",
              "                      M         1940.981221\n",
              "Master                F         2417.777032\n",
              "                      M         2272.307310\n",
              "Name: Customer Lifetime Value, dtype: float64"
            ]
          },
          "execution_count": 61,
          "metadata": {},
          "output_type": "execute_result"
        }
      ],
      "source": [
        "edu_gen = datos_mk.groupby(['Education', 'Gender'])['Customer Lifetime Value']\n",
        "# Max lifetime, education level and gender\n",
        "edu_gen.max()\n",
        "\n",
        "# Median lifetime, education level and gender \n",
        "edu_gen.median()\n",
        "# Min lifetime, education level and gender \n",
        "edu_gen.min()\n",
        "\n"
      ]
    },
    {
      "cell_type": "markdown",
      "id": "b42999f9-311f-481e-ae63-40a5577072c5",
      "metadata": {
        "id": "b42999f9-311f-481e-ae63-40a5577072c5"
      },
      "source": [
        "## Bonus"
      ]
    },
    {
      "cell_type": "markdown",
      "id": "81ff02c5-6584-4f21-a358-b918697c6432",
      "metadata": {
        "id": "81ff02c5-6584-4f21-a358-b918697c6432"
      },
      "source": [
        "5. The marketing team wants to analyze the number of policies sold by state and month. Present the data in a table where the months are arranged as columns and the states are arranged as rows."
      ]
    },
    {
      "cell_type": "code",
      "execution_count": 12,
      "id": "8129783a",
      "metadata": {},
      "outputs": [],
      "source": [
        "pivot_policies_state_month = datos_mk.pivot_table(index = 'State', columns = 'Effective To Date', aggfunc = 'sum')"
      ]
    },
    {
      "cell_type": "markdown",
      "id": "b6aec097-c633-4017-a125-e77a97259cda",
      "metadata": {
        "id": "b6aec097-c633-4017-a125-e77a97259cda"
      },
      "source": [
        "6.  Display a new DataFrame that contains the number of policies sold by month, by state, for the top 3 states with the highest number of policies sold.\n",
        "\n",
        "*Hint:*\n",
        "- *To accomplish this, you will first need to group the data by state and month, then count the number of policies sold for each group. Afterwards, you will need to sort the data by the count of policies sold in descending order.*\n",
        "- *Next, you will select the top 3 states with the highest number of policies sold.*\n",
        "- *Finally, you will create a new DataFrame that contains the number of policies sold by month for each of the top 3 states.*"
      ]
    },
    {
      "cell_type": "markdown",
      "id": "ba975b8a-a2cf-4fbf-9f59-ebc381767009",
      "metadata": {
        "id": "ba975b8a-a2cf-4fbf-9f59-ebc381767009"
      },
      "source": [
        "7. The marketing team wants to analyze the effect of different marketing channels on the customer response rate.\n",
        "\n",
        "Hint: You can use melt to unpivot the data and create a table that shows the customer response rate (those who responded \"Yes\") by marketing channel."
      ]
    },
    {
      "cell_type": "markdown",
      "id": "e4378d94-48fb-4850-a802-b1bc8f427b2d",
      "metadata": {
        "id": "e4378d94-48fb-4850-a802-b1bc8f427b2d"
      },
      "source": [
        "External Resources for Data Filtering: https://towardsdatascience.com/filtering-data-frames-in-pandas-b570b1f834b9"
      ]
    },
    {
      "cell_type": "code",
      "execution_count": 34,
      "id": "449513f4-0459-46a0-a18d-9398d974c9ad",
      "metadata": {
        "id": "449513f4-0459-46a0-a18d-9398d974c9ad"
      },
      "outputs": [],
      "source": [
        "# your code goes here"
      ]
    }
  ],
  "metadata": {
    "colab": {
      "provenance": []
    },
    "kernelspec": {
      "display_name": "Python 3",
      "language": "python",
      "name": "python3"
    },
    "language_info": {
      "codemirror_mode": {
        "name": "ipython",
        "version": 3
      },
      "file_extension": ".py",
      "mimetype": "text/x-python",
      "name": "python",
      "nbconvert_exporter": "python",
      "pygments_lexer": "ipython3",
      "version": "3.12.5"
    }
  },
  "nbformat": 4,
  "nbformat_minor": 5
}
