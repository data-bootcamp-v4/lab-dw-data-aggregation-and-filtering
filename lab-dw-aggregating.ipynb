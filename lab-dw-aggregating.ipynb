{
  "cells": [
    {
      "cell_type": "markdown",
      "id": "31969215-2a90-4d8b-ac36-646a7ae13744",
      "metadata": {
        "id": "31969215-2a90-4d8b-ac36-646a7ae13744"
      },
      "source": [
        "# Lab | Data Aggregation and Filtering"
      ]
    },
    {
      "cell_type": "markdown",
      "id": "a8f08a52-bec0-439b-99cc-11d3809d8b5d",
      "metadata": {
        "id": "a8f08a52-bec0-439b-99cc-11d3809d8b5d"
      },
      "source": [
        "In this challenge, we will continue to work with customer data from an insurance company. We will use the dataset called marketing_customer_analysis.csv, which can be found at the following link:\n",
        "\n",
        "https://raw.githubusercontent.com/data-bootcamp-v4/data/main/marketing_customer_analysis.csv\n",
        "\n",
        "This dataset contains information such as customer demographics, policy details, vehicle information, and the customer's response to the last marketing campaign. Our goal is to explore and analyze this data by first performing data cleaning, formatting, and structuring."
      ]
    },
    {
      "cell_type": "markdown",
      "id": "9c98ddc5-b041-4c94-ada1-4dfee5c98e50",
      "metadata": {
        "id": "9c98ddc5-b041-4c94-ada1-4dfee5c98e50"
      },
      "source": [
        "1. Create a new DataFrame that only includes customers who:\n",
        "   - have a **low total_claim_amount** (e.g., below $1,000),\n",
        "   - have a response \"Yes\" to the last marketing campaign."
      ]
    },
    {
      "cell_type": "code",
      "execution_count": 1,
      "id": "8b6a8d0d",
      "metadata": {},
      "outputs": [
        {
          "name": "stdout",
          "output_type": "stream",
          "text": [
            "<class 'pandas.core.frame.DataFrame'>\n",
            "RangeIndex: 10910 entries, 0 to 10909\n",
            "Data columns (total 26 columns):\n",
            " #   Column                         Non-Null Count  Dtype  \n",
            "---  ------                         --------------  -----  \n",
            " 0   unnamed:_0                     10910 non-null  int64  \n",
            " 1   customer                       10910 non-null  object \n",
            " 2   state                          10279 non-null  object \n",
            " 3   customer_lifetime_value        10910 non-null  float64\n",
            " 4   response                       10279 non-null  object \n",
            " 5   coverage                       10910 non-null  object \n",
            " 6   education                      10910 non-null  object \n",
            " 7   effective_to_date              10910 non-null  object \n",
            " 8   employmentstatus               10910 non-null  object \n",
            " 9   gender                         10910 non-null  object \n",
            " 10  income                         10910 non-null  int64  \n",
            " 11  location_code                  10910 non-null  object \n",
            " 12  marital_status                 10910 non-null  object \n",
            " 13  monthly_premium_auto           10910 non-null  int64  \n",
            " 14  months_since_last_claim        10277 non-null  float64\n",
            " 15  months_since_policy_inception  10910 non-null  int64  \n",
            " 16  number_of_open_complaints      10277 non-null  float64\n",
            " 17  number_of_policies             10910 non-null  int64  \n",
            " 18  policy_type                    10910 non-null  object \n",
            " 19  policy                         10910 non-null  object \n",
            " 20  renew_offer_type               10910 non-null  object \n",
            " 21  sales_channel                  10910 non-null  object \n",
            " 22  total_claim_amount             10910 non-null  float64\n",
            " 23  vehicle_class                  10288 non-null  object \n",
            " 24  vehicle_size                   10288 non-null  object \n",
            " 25  vehicle_type                   5428 non-null   object \n",
            "dtypes: float64(4), int64(5), object(17)\n",
            "memory usage: 2.2+ MB\n"
          ]
        }
      ],
      "source": [
        "import pandas as pd\n",
        "\n",
        "insurance=pd.read_csv(\"https://raw.githubusercontent.com/data-bootcamp-v4/data/main/marketing_customer_analysis.csv\")\n",
        "\n",
        "insurance.columns = insurance.columns.str.lower().str.replace(\" \", \"_\")\n",
        "\n",
        "insurance.info()"
      ]
    },
    {
      "cell_type": "code",
      "execution_count": 2,
      "id": "ca1a49ea",
      "metadata": {},
      "outputs": [
        {
          "data": {
            "text/plain": [
              "Index(['unnamed:_0', 'customer', 'state', 'customer_lifetime_value',\n",
              "       'response', 'coverage', 'education', 'effective_to_date',\n",
              "       'employmentstatus', 'gender', 'income', 'location_code',\n",
              "       'marital_status', 'monthly_premium_auto', 'months_since_last_claim',\n",
              "       'months_since_policy_inception', 'number_of_open_complaints',\n",
              "       'number_of_policies', 'policy_type', 'policy', 'renew_offer_type',\n",
              "       'sales_channel', 'total_claim_amount', 'vehicle_class', 'vehicle_size',\n",
              "       'vehicle_type', 'claim_under', 'campaing_yes'],\n",
              "      dtype='object')"
            ]
          },
          "metadata": {},
          "output_type": "display_data"
        }
      ],
      "source": [
        "insurance[\"claim_under\"] = insurance['total_claim_amount'] < 1000\n",
        "insurance[\"campaing_yes\"] = insurance[\"response\"] == \"Yes\"\n",
        "\n",
        "new_insurance= insurance[insurance[\"campaing_yes\"] & insurance[\"claim_under\"]]\n",
        "\n",
        "display(insurance.columns)"
      ]
    },
    {
      "cell_type": "markdown",
      "id": "b9be383e-5165-436e-80c8-57d4c757c8c3",
      "metadata": {
        "id": "b9be383e-5165-436e-80c8-57d4c757c8c3"
      },
      "source": [
        "2. Using the original Dataframe, analyze:\n",
        "   - the average `monthly_premium` and/or customer lifetime value by `policy_type` and `gender` for customers who responded \"Yes\", and\n",
        "   - compare these insights to `total_claim_amount` patterns, and discuss which segments appear most profitable or low-risk for the company."
      ]
    },
    {
      "cell_type": "code",
      "execution_count": 3,
      "id": "448fc18b",
      "metadata": {},
      "outputs": [
        {
          "data": {
            "application/vnd.microsoft.datawrangler.viewer.v0+json": {
              "columns": [
                {
                  "name": "('policy_type', 'gender')",
                  "rawType": "object",
                  "type": "unknown"
                },
                {
                  "name": "monthly_premium_auto",
                  "rawType": "float64",
                  "type": "float"
                }
              ],
              "ref": "61a33510-fc14-403c-a6f2-7cbdcfa639f4",
              "rows": [
                [
                  "('Corporate Auto', 'F')",
                  "91.38"
                ],
                [
                  "('Corporate Auto', 'M')",
                  "94.76"
                ],
                [
                  "('Personal Auto', 'F')",
                  "93.15"
                ],
                [
                  "('Personal Auto', 'M')",
                  "93.3"
                ],
                [
                  "('Special Auto', 'F')",
                  "93.56"
                ],
                [
                  "('Special Auto', 'M')",
                  "93.2"
                ]
              ],
              "shape": {
                "columns": 1,
                "rows": 6
              }
            },
            "text/plain": [
              "policy_type     gender\n",
              "Corporate Auto  F         91.38\n",
              "                M         94.76\n",
              "Personal Auto   F         93.15\n",
              "                M         93.30\n",
              "Special Auto    F         93.56\n",
              "                M         93.20\n",
              "Name: monthly_premium_auto, dtype: float64"
            ]
          },
          "execution_count": 3,
          "metadata": {},
          "output_type": "execute_result"
        }
      ],
      "source": [
        "grouped= insurance.groupby([\"policy_type\",\"gender\"])\n",
        "\n",
        "grouped[\"monthly_premium_auto\"].mean().round(2)"
      ]
    },
    {
      "cell_type": "code",
      "execution_count": 4,
      "id": "cfb1f1e3",
      "metadata": {},
      "outputs": [
        {
          "data": {
            "application/vnd.microsoft.datawrangler.viewer.v0+json": {
              "columns": [
                {
                  "name": "('policy_type', 'gender')",
                  "rawType": "object",
                  "type": "unknown"
                },
                {
                  "name": "total_claim_amount",
                  "rawType": "float64",
                  "type": "float"
                }
              ],
              "ref": "e413ef62-6738-4524-9113-14cd127e7c3c",
              "rows": [
                [
                  "('Corporate Auto', 'F')",
                  "397.8"
                ],
                [
                  "('Corporate Auto', 'M')",
                  "462.22"
                ],
                [
                  "('Personal Auto', 'F')",
                  "413.24"
                ],
                [
                  "('Personal Auto', 'M')",
                  "459.92"
                ],
                [
                  "('Special Auto', 'F')",
                  "458.14"
                ],
                [
                  "('Special Auto', 'M')",
                  "420.36"
                ]
              ],
              "shape": {
                "columns": 1,
                "rows": 6
              }
            },
            "text/plain": [
              "policy_type     gender\n",
              "Corporate Auto  F         397.80\n",
              "                M         462.22\n",
              "Personal Auto   F         413.24\n",
              "                M         459.92\n",
              "Special Auto    F         458.14\n",
              "                M         420.36\n",
              "Name: total_claim_amount, dtype: float64"
            ]
          },
          "execution_count": 4,
          "metadata": {},
          "output_type": "execute_result"
        }
      ],
      "source": [
        "grouped= insurance.groupby([\"policy_type\",\"gender\"])\n",
        "\n",
        "grouped[\"total_claim_amount\"].mean().round(2)"
      ]
    },
    {
      "cell_type": "markdown",
      "id": "14108b6f",
      "metadata": {},
      "source": [
        "The main thing that caught my attention while looking at this two charts is that, on average males with the policy types: Corporate Auto and Personal Auto pay a slightly higher monthly premium while they also file significantly higher total claim amounts when compared to female customers. Suggesting that for the same policy type male customers tipicaly represent a higher risk or that they have a claim pattern that leads to larger payouts."
      ]
    },
    {
      "cell_type": "markdown",
      "id": "7050f4ac-53c5-4193-a3c0-8699b87196f0",
      "metadata": {
        "id": "7050f4ac-53c5-4193-a3c0-8699b87196f0"
      },
      "source": [
        "3. Analyze the total number of customers who have policies in each state, and then filter the results to only include states where there are more than 500 customers."
      ]
    },
    {
      "cell_type": "code",
      "execution_count": 5,
      "id": "914e20a2",
      "metadata": {},
      "outputs": [
        {
          "data": {
            "application/vnd.microsoft.datawrangler.viewer.v0+json": {
              "columns": [
                {
                  "name": "('policy', 'state')",
                  "rawType": "object",
                  "type": "unknown"
                },
                {
                  "name": "customer",
                  "rawType": "int64",
                  "type": "integer"
                }
              ],
              "ref": "11690667-e132-4774-a393-ddc08455d573",
              "rows": [
                [
                  "('Corporate L1', 'Arizona')",
                  "58"
                ],
                [
                  "('Corporate L1', 'California')",
                  "148"
                ],
                [
                  "('Corporate L1', 'Nevada')",
                  "32"
                ],
                [
                  "('Corporate L1', 'Oregon')",
                  "85"
                ],
                [
                  "('Corporate L1', 'Washington')",
                  "36"
                ],
                [
                  "('Corporate L2', 'Arizona')",
                  "106"
                ],
                [
                  "('Corporate L2', 'California')",
                  "225"
                ],
                [
                  "('Corporate L2', 'Nevada')",
                  "61"
                ],
                [
                  "('Corporate L2', 'Oregon')",
                  "161"
                ],
                [
                  "('Corporate L2', 'Washington')",
                  "42"
                ],
                [
                  "('Corporate L3', 'Arizona')",
                  "169"
                ],
                [
                  "('Corporate L3', 'California')",
                  "366"
                ],
                [
                  "('Corporate L3', 'Nevada')",
                  "102"
                ],
                [
                  "('Corporate L3', 'Oregon')",
                  "294"
                ],
                [
                  "('Corporate L3', 'Washington')",
                  "83"
                ],
                [
                  "('Personal L1', 'Arizona')",
                  "255"
                ],
                [
                  "('Personal L1', 'California')",
                  "392"
                ],
                [
                  "('Personal L1', 'Nevada')",
                  "120"
                ],
                [
                  "('Personal L1', 'Oregon')",
                  "361"
                ],
                [
                  "('Personal L1', 'Washington')",
                  "112"
                ],
                [
                  "('Personal L2', 'Arizona')",
                  "384"
                ],
                [
                  "('Personal L2', 'California')",
                  "798"
                ],
                [
                  "('Personal L2', 'Nevada')",
                  "189"
                ],
                [
                  "('Personal L2', 'Oregon')",
                  "547"
                ],
                [
                  "('Personal L2', 'Washington')",
                  "204"
                ],
                [
                  "('Personal L3', 'Arizona')",
                  "654"
                ],
                [
                  "('Personal L3', 'California')",
                  "1108"
                ],
                [
                  "('Personal L3', 'Nevada')",
                  "343"
                ],
                [
                  "('Personal L3', 'Oregon')",
                  "1030"
                ],
                [
                  "('Personal L3', 'Washington')",
                  "291"
                ],
                [
                  "('Special L1', 'Arizona')",
                  "23"
                ],
                [
                  "('Special L1', 'California')",
                  "13"
                ],
                [
                  "('Special L1', 'Nevada')",
                  "5"
                ],
                [
                  "('Special L1', 'Oregon')",
                  "20"
                ],
                [
                  "('Special L1', 'Washington')",
                  "5"
                ],
                [
                  "('Special L2', 'Arizona')",
                  "29"
                ],
                [
                  "('Special L2', 'California')",
                  "46"
                ],
                [
                  "('Special L2', 'Nevada')",
                  "18"
                ],
                [
                  "('Special L2', 'Oregon')",
                  "57"
                ],
                [
                  "('Special L2', 'Washington')",
                  "14"
                ],
                [
                  "('Special L3', 'Arizona')",
                  "25"
                ],
                [
                  "('Special L3', 'California')",
                  "54"
                ],
                [
                  "('Special L3', 'Nevada')",
                  "12"
                ],
                [
                  "('Special L3', 'Oregon')",
                  "46"
                ],
                [
                  "('Special L3', 'Washington')",
                  "11"
                ]
              ],
              "shape": {
                "columns": 1,
                "rows": 45
              }
            },
            "text/plain": [
              "policy        state     \n",
              "Corporate L1  Arizona         58\n",
              "              California     148\n",
              "              Nevada          32\n",
              "              Oregon          85\n",
              "              Washington      36\n",
              "Corporate L2  Arizona        106\n",
              "              California     225\n",
              "              Nevada          61\n",
              "              Oregon         161\n",
              "              Washington      42\n",
              "Corporate L3  Arizona        169\n",
              "              California     366\n",
              "              Nevada         102\n",
              "              Oregon         294\n",
              "              Washington      83\n",
              "Personal L1   Arizona        255\n",
              "              California     392\n",
              "              Nevada         120\n",
              "              Oregon         361\n",
              "              Washington     112\n",
              "Personal L2   Arizona        384\n",
              "              California     798\n",
              "              Nevada         189\n",
              "              Oregon         547\n",
              "              Washington     204\n",
              "Personal L3   Arizona        654\n",
              "              California    1108\n",
              "              Nevada         343\n",
              "              Oregon        1030\n",
              "              Washington     291\n",
              "Special L1    Arizona         23\n",
              "              California      13\n",
              "              Nevada           5\n",
              "              Oregon          20\n",
              "              Washington       5\n",
              "Special L2    Arizona         29\n",
              "              California      46\n",
              "              Nevada          18\n",
              "              Oregon          57\n",
              "              Washington      14\n",
              "Special L3    Arizona         25\n",
              "              California      54\n",
              "              Nevada          12\n",
              "              Oregon          46\n",
              "              Washington      11\n",
              "Name: customer, dtype: int64"
            ]
          },
          "execution_count": 5,
          "metadata": {},
          "output_type": "execute_result"
        }
      ],
      "source": [
        "CM_state=insurance.groupby([\"policy\", \"state\"]).nunique()\n",
        "CM_state[\"customer\"]\n"
      ]
    },
    {
      "cell_type": "code",
      "execution_count": 6,
      "id": "68df7fde",
      "metadata": {},
      "outputs": [
        {
          "data": {
            "text/plain": [
              "array(['Arizona', 'California', 'Washington', 'Oregon', 'Nevada'],\n",
              "      dtype=object)"
            ]
          },
          "metadata": {},
          "output_type": "display_data"
        }
      ],
      "source": [
        "CM_state=insurance.groupby(\"state\")[\"customer\"].nunique()\n",
        "valid_states= CM_state[CM_state>500].index.tolist()\n",
        "cm_st_insurance=insurance[insurance[\"state\"].isin(valid_states)]\n",
        "\n",
        "display(cm_st_insurance[\"state\"].unique())"
      ]
    },
    {
      "cell_type": "code",
      "execution_count": 7,
      "id": "bb19f90b",
      "metadata": {},
      "outputs": [
        {
          "data": {
            "application/vnd.microsoft.datawrangler.viewer.v0+json": {
              "columns": [
                {
                  "name": "state",
                  "rawType": "object",
                  "type": "string"
                },
                {
                  "name": "customer",
                  "rawType": "int64",
                  "type": "integer"
                }
              ],
              "ref": "d3e79e9f-d59c-4326-bd7a-b9ac635c3cf4",
              "rows": [
                [
                  "Arizona",
                  "1703"
                ],
                [
                  "California",
                  "3150"
                ],
                [
                  "Nevada",
                  "882"
                ],
                [
                  "Oregon",
                  "2601"
                ],
                [
                  "Washington",
                  "798"
                ]
              ],
              "shape": {
                "columns": 1,
                "rows": 5
              }
            },
            "text/plain": [
              "state\n",
              "Arizona       1703\n",
              "California    3150\n",
              "Nevada         882\n",
              "Oregon        2601\n",
              "Washington     798\n",
              "Name: customer, dtype: int64"
            ]
          },
          "metadata": {},
          "output_type": "display_data"
        }
      ],
      "source": [
        "display(cm_st_insurance.groupby('state')['customer'].nunique())"
      ]
    },
    {
      "cell_type": "markdown",
      "id": "b60a4443-a1a7-4bbf-b78e-9ccdf9895e0d",
      "metadata": {
        "id": "b60a4443-a1a7-4bbf-b78e-9ccdf9895e0d"
      },
      "source": [
        "4. Find the maximum, minimum, and median customer lifetime value by education level and gender. Write your conclusions."
      ]
    },
    {
      "cell_type": "code",
      "execution_count": null,
      "id": "8a243874",
      "metadata": {},
      "outputs": [
        {
          "data": {
            "application/vnd.microsoft.datawrangler.viewer.v0+json": {
              "columns": [
                {
                  "name": "('education', 'gender')",
                  "rawType": "object",
                  "type": "unknown"
                },
                {
                  "name": "max_",
                  "rawType": "float64",
                  "type": "float"
                },
                {
                  "name": "min_",
                  "rawType": "float64",
                  "type": "float"
                },
                {
                  "name": "median_",
                  "rawType": "float64",
                  "type": "float"
                }
              ],
              "ref": "7e9b74d4-ef5f-4371-9d61-d346358de133",
              "rows": [
                [
                  "('Bachelor', 'F')",
                  "73225.96",
                  "1904.0",
                  "5640.51"
                ],
                [
                  "('Bachelor', 'M')",
                  "67907.27",
                  "1898.01",
                  "5548.03"
                ],
                [
                  "('College', 'F')",
                  "61850.19",
                  "1898.68",
                  "5623.61"
                ],
                [
                  "('College', 'M')",
                  "61134.68",
                  "1918.12",
                  "6005.85"
                ],
                [
                  "('Doctor', 'F')",
                  "44856.11",
                  "2395.57",
                  "5332.46"
                ],
                [
                  "('Doctor', 'M')",
                  "32677.34",
                  "2267.6",
                  "5577.67"
                ],
                [
                  "('High School or Below', 'F')",
                  "55277.45",
                  "2144.92",
                  "6039.55"
                ],
                [
                  "('High School or Below', 'M')",
                  "83325.38",
                  "1940.98",
                  "6286.73"
                ],
                [
                  "('Master', 'F')",
                  "51016.07",
                  "2417.78",
                  "5729.86"
                ],
                [
                  "('Master', 'M')",
                  "50568.26",
                  "2272.31",
                  "5579.1"
                ]
              ],
              "shape": {
                "columns": 3,
                "rows": 10
              }
            },
            "text/html": [
              "<div>\n",
              "<style scoped>\n",
              "    .dataframe tbody tr th:only-of-type {\n",
              "        vertical-align: middle;\n",
              "    }\n",
              "\n",
              "    .dataframe tbody tr th {\n",
              "        vertical-align: top;\n",
              "    }\n",
              "\n",
              "    .dataframe thead th {\n",
              "        text-align: right;\n",
              "    }\n",
              "</style>\n",
              "<table border=\"1\" class=\"dataframe\">\n",
              "  <thead>\n",
              "    <tr style=\"text-align: right;\">\n",
              "      <th></th>\n",
              "      <th></th>\n",
              "      <th>max_</th>\n",
              "      <th>min_</th>\n",
              "      <th>median_</th>\n",
              "    </tr>\n",
              "    <tr>\n",
              "      <th>education</th>\n",
              "      <th>gender</th>\n",
              "      <th></th>\n",
              "      <th></th>\n",
              "      <th></th>\n",
              "    </tr>\n",
              "  </thead>\n",
              "  <tbody>\n",
              "    <tr>\n",
              "      <th rowspan=\"2\" valign=\"top\">Bachelor</th>\n",
              "      <th>F</th>\n",
              "      <td>73225.96</td>\n",
              "      <td>1904.00</td>\n",
              "      <td>5640.51</td>\n",
              "    </tr>\n",
              "    <tr>\n",
              "      <th>M</th>\n",
              "      <td>67907.27</td>\n",
              "      <td>1898.01</td>\n",
              "      <td>5548.03</td>\n",
              "    </tr>\n",
              "    <tr>\n",
              "      <th rowspan=\"2\" valign=\"top\">College</th>\n",
              "      <th>F</th>\n",
              "      <td>61850.19</td>\n",
              "      <td>1898.68</td>\n",
              "      <td>5623.61</td>\n",
              "    </tr>\n",
              "    <tr>\n",
              "      <th>M</th>\n",
              "      <td>61134.68</td>\n",
              "      <td>1918.12</td>\n",
              "      <td>6005.85</td>\n",
              "    </tr>\n",
              "    <tr>\n",
              "      <th rowspan=\"2\" valign=\"top\">Doctor</th>\n",
              "      <th>F</th>\n",
              "      <td>44856.11</td>\n",
              "      <td>2395.57</td>\n",
              "      <td>5332.46</td>\n",
              "    </tr>\n",
              "    <tr>\n",
              "      <th>M</th>\n",
              "      <td>32677.34</td>\n",
              "      <td>2267.60</td>\n",
              "      <td>5577.67</td>\n",
              "    </tr>\n",
              "    <tr>\n",
              "      <th rowspan=\"2\" valign=\"top\">High School or Below</th>\n",
              "      <th>F</th>\n",
              "      <td>55277.45</td>\n",
              "      <td>2144.92</td>\n",
              "      <td>6039.55</td>\n",
              "    </tr>\n",
              "    <tr>\n",
              "      <th>M</th>\n",
              "      <td>83325.38</td>\n",
              "      <td>1940.98</td>\n",
              "      <td>6286.73</td>\n",
              "    </tr>\n",
              "    <tr>\n",
              "      <th rowspan=\"2\" valign=\"top\">Master</th>\n",
              "      <th>F</th>\n",
              "      <td>51016.07</td>\n",
              "      <td>2417.78</td>\n",
              "      <td>5729.86</td>\n",
              "    </tr>\n",
              "    <tr>\n",
              "      <th>M</th>\n",
              "      <td>50568.26</td>\n",
              "      <td>2272.31</td>\n",
              "      <td>5579.10</td>\n",
              "    </tr>\n",
              "  </tbody>\n",
              "</table>\n",
              "</div>"
            ],
            "text/plain": [
              "                                 max_     min_  median_\n",
              "education            gender                            \n",
              "Bachelor             F       73225.96  1904.00  5640.51\n",
              "                     M       67907.27  1898.01  5548.03\n",
              "College              F       61850.19  1898.68  5623.61\n",
              "                     M       61134.68  1918.12  6005.85\n",
              "Doctor               F       44856.11  2395.57  5332.46\n",
              "                     M       32677.34  2267.60  5577.67\n",
              "High School or Below F       55277.45  2144.92  6039.55\n",
              "                     M       83325.38  1940.98  6286.73\n",
              "Master               F       51016.07  2417.78  5729.86\n",
              "                     M       50568.26  2272.31  5579.10"
            ]
          },
          "execution_count": 27,
          "metadata": {},
          "output_type": "execute_result"
        }
      ],
      "source": [
        "index=[\"education\",\"gender\"]\n",
        "# index=[\"gender\"]\n",
        "edu_gender=insurance.groupby(index)[\"customer_lifetime_value\"].agg(max_='max',min_='min',median_='median')\n",
        "\n",
        "edu_gender.round(2)\n",
        "# insurance.gender.info()\n",
        "\n",
        "#When looking at the big picture male customers have a higher lifetime value than female customers. However, when broken down to education level the max values are dominated by females.\n",
        "#They are only behind male customers in the max range when they only have a level of education of highschool or bellow. However when it comes to the average the female customer are mostly on top."
      ]
    },
    {
      "cell_type": "markdown",
      "id": "b42999f9-311f-481e-ae63-40a5577072c5",
      "metadata": {
        "id": "b42999f9-311f-481e-ae63-40a5577072c5"
      },
      "source": [
        "## Bonus"
      ]
    },
    {
      "cell_type": "markdown",
      "id": "81ff02c5-6584-4f21-a358-b918697c6432",
      "metadata": {
        "id": "81ff02c5-6584-4f21-a358-b918697c6432"
      },
      "source": [
        "5. The marketing team wants to analyze the number of policies sold by state and month. Present the data in a table where the months are arranged as columns and the states are arranged as rows."
      ]
    },
    {
      "cell_type": "markdown",
      "id": "b6aec097-c633-4017-a125-e77a97259cda",
      "metadata": {
        "id": "b6aec097-c633-4017-a125-e77a97259cda"
      },
      "source": [
        "6.  Display a new DataFrame that contains the number of policies sold by month, by state, for the top 3 states with the highest number of policies sold.\n",
        "\n",
        "*Hint:*\n",
        "- *To accomplish this, you will first need to group the data by state and month, then count the number of policies sold for each group. Afterwards, you will need to sort the data by the count of policies sold in descending order.*\n",
        "- *Next, you will select the top 3 states with the highest number of policies sold.*\n",
        "- *Finally, you will create a new DataFrame that contains the number of policies sold by month for each of the top 3 states.*"
      ]
    },
    {
      "cell_type": "markdown",
      "id": "ba975b8a-a2cf-4fbf-9f59-ebc381767009",
      "metadata": {
        "id": "ba975b8a-a2cf-4fbf-9f59-ebc381767009"
      },
      "source": [
        "7. The marketing team wants to analyze the effect of different marketing channels on the customer response rate.\n",
        "\n",
        "Hint: You can use melt to unpivot the data and create a table that shows the customer response rate (those who responded \"Yes\") by marketing channel."
      ]
    },
    {
      "cell_type": "markdown",
      "id": "e4378d94-48fb-4850-a802-b1bc8f427b2d",
      "metadata": {
        "id": "e4378d94-48fb-4850-a802-b1bc8f427b2d"
      },
      "source": [
        "External Resources for Data Filtering: https://towardsdatascience.com/filtering-data-frames-in-pandas-b570b1f834b9"
      ]
    },
    {
      "cell_type": "code",
      "execution_count": 9,
      "id": "449513f4-0459-46a0-a18d-9398d974c9ad",
      "metadata": {
        "id": "449513f4-0459-46a0-a18d-9398d974c9ad"
      },
      "outputs": [],
      "source": [
        "# your code goes here"
      ]
    }
  ],
  "metadata": {
    "colab": {
      "provenance": []
    },
    "kernelspec": {
      "display_name": "Python 3",
      "language": "python",
      "name": "python3"
    },
    "language_info": {
      "codemirror_mode": {
        "name": "ipython",
        "version": 3
      },
      "file_extension": ".py",
      "mimetype": "text/x-python",
      "name": "python",
      "nbconvert_exporter": "python",
      "pygments_lexer": "ipython3",
      "version": "3.13.3"
    }
  },
  "nbformat": 4,
  "nbformat_minor": 5
}
