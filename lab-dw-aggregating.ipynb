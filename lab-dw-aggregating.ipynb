{
 "cells": [
  {
   "cell_type": "markdown",
   "id": "31969215-2a90-4d8b-ac36-646a7ae13744",
   "metadata": {
    "id": "31969215-2a90-4d8b-ac36-646a7ae13744"
   },
   "source": [
    "# Lab | Data Aggregation and Filtering"
   ]
  },
  {
   "cell_type": "markdown",
   "id": "a8f08a52-bec0-439b-99cc-11d3809d8b5d",
   "metadata": {
    "id": "a8f08a52-bec0-439b-99cc-11d3809d8b5d"
   },
   "source": [
    "In this challenge, we will continue to work with customer data from an insurance company. We will use the dataset called marketing_customer_analysis.csv, which can be found at the following link:\n",
    "\n",
    "https://raw.githubusercontent.com/data-bootcamp-v4/data/main/marketing_customer_analysis.csv\n",
    "\n",
    "This dataset contains information such as customer demographics, policy details, vehicle information, and the customer's response to the last marketing campaign. Our goal is to explore and analyze this data by first performing data cleaning, formatting, and structuring."
   ]
  },
  {
   "cell_type": "markdown",
   "id": "9c98ddc5-b041-4c94-ada1-4dfee5c98e50",
   "metadata": {
    "id": "9c98ddc5-b041-4c94-ada1-4dfee5c98e50"
   },
   "source": [
    "1. Create a new DataFrame that only includes customers who:\n",
    "   - have a **low total_claim_amount** (e.g., below $1,000),\n",
    "   - have a response \"Yes\" to the last marketing campaign."
   ]
  },
  {
   "cell_type": "markdown",
   "id": "b9be383e-5165-436e-80c8-57d4c757c8c3",
   "metadata": {
    "id": "b9be383e-5165-436e-80c8-57d4c757c8c3"
   },
   "source": [
    "2. Using the original Dataframe, analyze:\n",
    "   - the average `monthly_premium` and/or customer lifetime value by `policy_type` and `gender` for customers who responded \"Yes\", and\n",
    "   - compare these insights to `total_claim_amount` patterns, and discuss which segments appear most profitable or low-risk for the company."
   ]
  },
  {
   "cell_type": "markdown",
   "id": "7050f4ac-53c5-4193-a3c0-8699b87196f0",
   "metadata": {
    "id": "7050f4ac-53c5-4193-a3c0-8699b87196f0"
   },
   "source": [
    "3. Analyze the total number of customers who have policies in each state, and then filter the results to only include states where there are more than 500 customers."
   ]
  },
  {
   "cell_type": "markdown",
   "id": "b60a4443-a1a7-4bbf-b78e-9ccdf9895e0d",
   "metadata": {
    "id": "b60a4443-a1a7-4bbf-b78e-9ccdf9895e0d"
   },
   "source": [
    "4. Find the maximum, minimum, and median customer lifetime value by education level and gender. Write your conclusions."
   ]
  },
  {
   "cell_type": "markdown",
   "id": "b42999f9-311f-481e-ae63-40a5577072c5",
   "metadata": {
    "id": "b42999f9-311f-481e-ae63-40a5577072c5"
   },
   "source": [
    "## Bonus"
   ]
  },
  {
   "cell_type": "markdown",
   "id": "81ff02c5-6584-4f21-a358-b918697c6432",
   "metadata": {
    "id": "81ff02c5-6584-4f21-a358-b918697c6432"
   },
   "source": [
    "5. The marketing team wants to analyze the number of policies sold by state and month. Present the data in a table where the months are arranged as columns and the states are arranged as rows."
   ]
  },
  {
   "cell_type": "markdown",
   "id": "b6aec097-c633-4017-a125-e77a97259cda",
   "metadata": {
    "id": "b6aec097-c633-4017-a125-e77a97259cda"
   },
   "source": [
    "6.  Display a new DataFrame that contains the number of policies sold by month, by state, for the top 3 states with the highest number of policies sold.\n",
    "\n",
    "*Hint:*\n",
    "- *To accomplish this, you will first need to group the data by state and month, then count the number of policies sold for each group. Afterwards, you will need to sort the data by the count of policies sold in descending order.*\n",
    "- *Next, you will select the top 3 states with the highest number of policies sold.*\n",
    "- *Finally, you will create a new DataFrame that contains the number of policies sold by month for each of the top 3 states.*"
   ]
  },
  {
   "cell_type": "markdown",
   "id": "ba975b8a-a2cf-4fbf-9f59-ebc381767009",
   "metadata": {
    "id": "ba975b8a-a2cf-4fbf-9f59-ebc381767009"
   },
   "source": [
    "7. The marketing team wants to analyze the effect of different marketing channels on the customer response rate.\n",
    "\n",
    "Hint: You can use melt to unpivot the data and create a table that shows the customer response rate (those who responded \"Yes\") by marketing channel."
   ]
  },
  {
   "cell_type": "markdown",
   "id": "e4378d94-48fb-4850-a802-b1bc8f427b2d",
   "metadata": {
    "id": "e4378d94-48fb-4850-a802-b1bc8f427b2d"
   },
   "source": [
    "External Resources for Data Filtering: https://towardsdatascience.com/filtering-data-frames-in-pandas-b570b1f834b9"
   ]
  },
  {
   "cell_type": "code",
   "execution_count": 4,
   "id": "449513f4-0459-46a0-a18d-9398d974c9ad",
   "metadata": {
    "id": "449513f4-0459-46a0-a18d-9398d974c9ad"
   },
   "outputs": [],
   "source": [
    "import pandas as pd\n",
    "\n",
    "url = 'https://raw.githubusercontent.com/data-bootcamp-v4/data/main/marketing_customer_analysis.csv'\n",
    "df = pd.read_csv(url)\n",
    "\n",
    "df.columns = df.columns.str.lower().str.replace(' ', '_')\n",
    "\n",
    "df['total_claim_amount'] = pd.to_numeric(df['total_claim_amount'], errors='coerce')\n",
    "df['monthly_premium_auto'] = pd.to_numeric(df['monthly_premium_auto'], errors='coerce')\n",
    "df['customer_lifetime_value'] = pd.to_numeric(df['customer_lifetime_value'], errors='coerce')\n",
    "\n",
    "df['effective_to_date'] = pd.to_datetime(df['effective_to_date'], format='%Y-%m-%d', errors='coerce')\n",
    "\n",
    "df = df.dropna(subset=['total_claim_amount', 'response', 'monthly_premium_auto', 'customer_lifetime_value'])"
   ]
  },
  {
   "cell_type": "code",
   "execution_count": 5,
   "id": "8cfea302-1717-4156-b057-4e8440866013",
   "metadata": {},
   "outputs": [
    {
     "name": "stdout",
     "output_type": "stream",
     "text": [
      "    unnamed:_0 customer       state  customer_lifetime_value response  \\\n",
      "3            3  XL78013      Oregon             22332.439460      Yes   \n",
      "8            8  FM55990  California              5989.773931      Yes   \n",
      "15          15  CW49887  California              4626.801093      Yes   \n",
      "19          19  NJ54277  California              3746.751625      Yes   \n",
      "27          27  MQ68407      Oregon              4376.363592      Yes   \n",
      "\n",
      "    coverage education effective_to_date employmentstatus gender  ...  \\\n",
      "3   Extended   College               NaT         Employed      M  ...   \n",
      "8    Premium   College               NaT         Employed      M  ...   \n",
      "15     Basic    Master               NaT         Employed      F  ...   \n",
      "19  Extended   College               NaT         Employed      F  ...   \n",
      "27   Premium  Bachelor               NaT         Employed      F  ...   \n",
      "\n",
      "    number_of_open_complaints number_of_policies     policy_type  \\\n",
      "3                         0.0                  2  Corporate Auto   \n",
      "8                         0.0                  1   Personal Auto   \n",
      "15                        0.0                  1    Special Auto   \n",
      "19                        1.0                  1   Personal Auto   \n",
      "27                        0.0                  1   Personal Auto   \n",
      "\n",
      "          policy  renew_offer_type  sales_channel  total_claim_amount  \\\n",
      "3   Corporate L3            Offer2         Branch          484.013411   \n",
      "8    Personal L1            Offer2         Branch          739.200000   \n",
      "15    Special L1            Offer2         Branch          547.200000   \n",
      "19   Personal L2            Offer2    Call Center           19.575683   \n",
      "27   Personal L3            Offer2          Agent           60.036683   \n",
      "\n",
      "    vehicle_class vehicle_size vehicle_type  \n",
      "3   Four-Door Car      Medsize            A  \n",
      "8      Sports Car      Medsize          NaN  \n",
      "15            SUV      Medsize          NaN  \n",
      "19   Two-Door Car        Large            A  \n",
      "27  Four-Door Car      Medsize          NaN  \n",
      "\n",
      "[5 rows x 26 columns]\n"
     ]
    }
   ],
   "source": [
    "#1Create a new DataFrame that only includes customers wh\n",
    "\n",
    "low_claim_yes_response = df[(df['total_claim_amount'] < 1000) & (df['response'] == 'Yes')]\n",
    "\n",
    "print(low_claim_yes_response.head())"
   ]
  },
  {
   "cell_type": "code",
   "execution_count": 6,
   "id": "91204bc0-3a9d-4f2f-9ed5-3940046bce57",
   "metadata": {},
   "outputs": [
    {
     "name": "stdout",
     "output_type": "stream",
     "text": [
      "                       monthly_premium_auto  customer_lifetime_value\n",
      "policy_type    gender                                               \n",
      "Corporate Auto F                      94.30                  7712.63\n",
      "               M                      92.19                  7944.47\n",
      "Personal Auto  F                      99.00                  8339.79\n",
      "               M                      91.09                  7448.38\n",
      "Special Auto   F                      92.31                  7691.58\n",
      "               M                      86.34                  8247.09\n"
     ]
    }
   ],
   "source": [
    "#2Using the original Dataframe, analyze\n",
    "\n",
    "yes_response = df[df['response'] == 'Yes']\n",
    "\n",
    "grouped = yes_response.groupby(['policy_type', 'gender'])[['monthly_premium_auto', 'customer_lifetime_value']].mean().round(2)\n",
    "\n",
    "print(grouped)"
   ]
  },
  {
   "cell_type": "code",
   "execution_count": 7,
   "id": "430071b8-3169-4ef1-aae4-ba804fe5ec5a",
   "metadata": {},
   "outputs": [
    {
     "name": "stdout",
     "output_type": "stream",
     "text": [
      "policy_type     gender\n",
      "Corporate Auto  F         433.74\n",
      "                M         408.58\n",
      "Personal Auto   F         452.97\n",
      "                M         457.01\n",
      "Special Auto    F         453.28\n",
      "                M         429.53\n",
      "Name: total_claim_amount, dtype: float64\n"
     ]
    }
   ],
   "source": [
    "claim_by_group = yes_response.groupby(['policy_type', 'gender'])['total_claim_amount'].mean().round(2)\n",
    "\n",
    "print(claim_by_group)"
   ]
  },
  {
   "cell_type": "code",
   "execution_count": 8,
   "id": "28e01b94-4aab-4509-9804-cb25bd59a09b",
   "metadata": {},
   "outputs": [
    {
     "name": "stdout",
     "output_type": "stream",
     "text": [
      "state\n",
      "California    3552\n",
      "Oregon        2909\n",
      "Arizona       1937\n",
      "Nevada         993\n",
      "Washington     888\n",
      "Name: count, dtype: int64\n"
     ]
    }
   ],
   "source": [
    "#3Analyze the total number of customers who have policies in each state, and then filter the results to only include states where there are more than 500 customers.\n",
    "\n",
    "customers_by_state = df['state'].value_counts()\n",
    "states_over_500 = customers_by_state[customers_by_state > 500]\n",
    "\n",
    "print(states_over_500)"
   ]
  },
  {
   "cell_type": "code",
   "execution_count": 9,
   "id": "1a0cf2c4-282c-44de-a0de-93d0eb0e7b4c",
   "metadata": {},
   "outputs": [
    {
     "name": "stdout",
     "output_type": "stream",
     "text": [
      "                                  max      min   median\n",
      "education            gender                            \n",
      "Bachelor             F       73225.96  1904.00  5663.50\n",
      "                     M       67907.27  1898.01  5550.70\n",
      "College              F       61850.19  1898.68  5616.54\n",
      "                     M       61134.68  1918.12  5989.77\n",
      "Doctor               F       44856.11  2395.57  5332.46\n",
      "                     M       32677.34  2267.60  5610.13\n",
      "High School or Below F       55277.45  2144.92  6054.18\n",
      "                     M       83325.38  1940.98  6277.01\n",
      "Master               F       51016.07  2417.78  5714.17\n",
      "                     M       50568.26  2272.31  5580.96\n"
     ]
    }
   ],
   "source": [
    "#4Find the maximum, minimum, and median customer lifetime value by education level and gender. Write your conclusions.\n",
    "\n",
    "clv_stats = df.groupby(['education', 'gender'])['customer_lifetime_value'].agg(['max', 'min', 'median']).round(2)\n",
    "\n",
    "print(clv_stats)"
   ]
  },
  {
   "cell_type": "markdown",
   "id": "0e3136a6-997e-4092-b4d6-a91b8bb7ec80",
   "metadata": {},
   "source": [
    "# Education Level & Gender Analysis of Customer Lifetime Value\n",
    "1. Customers with “High School or Below” Education (Male) Have the Highest Maximum CLV\n",
    "Max CLV: $83,325.38 — the highest across all groups.\n",
    "Median CLV: $6,277.01 — also the highest median, suggesting this group not only includes some very high-value customers, but they are consistently valuable.\n",
    "Conclusion: This segment may be underestimated and could be targeted more heavily in future marketing efforts.\n",
    "\n",
    "2. Bachelor's Degree Holders Have Strong Median CLVs\n",
    "Female Median: $5,663.50\n",
    "Male Median: $5,550.70\n",
    "These are moderately high medians, showing solid lifetime value.\n",
    "Conclusion: The bachelor’s segment is reliable and worth ongoing engagement, though not the top tier.\n",
    "\n",
    "3. Doctorate Holders Show Low Maximum and Median CLV\n",
    "Female Max: $44,856.11 — lower than most groups.\n",
    "Male Max: $32,677.34 — one of the lowest.\n",
    "Medians are also in the mid-5000s range.\n",
    "Conclusion: Despite high education, this group may not yield the highest long-term revenue. Possibly fewer purchases or smaller policy sizes.\n",
    "\n",
    "4. College-Level Education Shows Gender Parity\n",
    "Female Median: $5,616.54\n",
    "Male Median: $5,989.77\n",
    "CLV is very similar for both genders, suggesting consistent behavior regardless of gender within this educational level.\n",
    "Conclusion: Marketing strategies here can remain broad and non-segmented by gender.\n",
    "\n",
    "5. Master's Degree Segment Is Moderate\n",
    "Medians are around $5,700 for both genders.\n",
    "Max CLV is not particularly high compared to others.\n",
    "Conclusion: This is a middle-performing group — stable but not top priority.\n",
    "\n",
    "# Key Takeaways\n",
    "- Top-performing segment: Males with High School or Below education.\n",
    "- Most consistent and reliable segment: Those with Bachelor’s degrees.\n",
    "- Surprising underperformers: Doctorate holders, both male and female."
   ]
  },
  {
   "cell_type": "code",
   "execution_count": 31,
   "id": "e62b30a4-bff9-4eb3-a7a0-f2b4fcf87070",
   "metadata": {},
   "outputs": [],
   "source": [
    "#5The marketing team wants to analyze the number of policies sold by state and month. Present the data in a table where the months are arranged as columns and the states are arranged as rows.\n",
    "\n",
    "\n",
    "df['month_name'] = df['month'].apply(lambda x: pd.to_datetime(str(x), format='%m').strftime('%B'))\n",
    "\n",
    "grouped = df.groupby(['state', 'month_name']).size().reset_index(name='policies_sold')\n",
    "\n",
    "top_states = grouped.groupby('state')['policies_sold'].sum().nlargest(3).index.tolist()\n",
    "\n",
    "df_top_states = grouped[grouped['state'].isin(top_states)]"
   ]
  },
  {
   "cell_type": "code",
   "execution_count": 32,
   "id": "d1537f8c-4f4c-443a-a93f-895af31dfba8",
   "metadata": {},
   "outputs": [
    {
     "name": "stdout",
     "output_type": "stream",
     "text": [
      "month_name  January  February  March  April  May  June  July  August  \\\n",
      "state                                                                  \n",
      "Arizona        1008       929    NaN    NaN  NaN   NaN   NaN     NaN   \n",
      "California     2231      1952    NaN    NaN  NaN   NaN   NaN     NaN   \n",
      "Oregon         1565      1344    NaN    NaN  NaN   NaN   NaN     NaN   \n",
      "\n",
      "month_name  September  October  November  December  \n",
      "state                                               \n",
      "Arizona           NaN      NaN       NaN       NaN  \n",
      "California        NaN      NaN       NaN       NaN  \n",
      "Oregon            NaN      NaN       NaN       NaN  \n"
     ]
    }
   ],
   "source": [
    "#6Display a new DataFrame that contains the number of policies sold by month, by state, for the top 3 states with the highest number of policies sold.\n",
    "\n",
    "month_order = ['January', 'February', 'March', 'April', 'May', 'June', \n",
    "               'July', 'August', 'September', 'October', 'November', 'December']\n",
    "\n",
    "pivot_table = df_top_states.pivot(index='state', columns='month_name', values='policies_sold').fillna(0)\n",
    "\n",
    "pivot_table = pivot_table.reindex(columns=month_order)\n",
    "\n",
    "print(pivot_table)"
   ]
  },
  {
   "cell_type": "code",
   "execution_count": 34,
   "id": "7405a725-59a4-454e-bdd3-e9dcc2378aed",
   "metadata": {},
   "outputs": [
    {
     "name": "stdout",
     "output_type": "stream",
     "text": [
      "month_name  January  February  March  April  May  June  July  August  \\\n",
      "state                                                                  \n",
      "California     2231      1952      0      0    0     0     0       0   \n",
      "Oregon         1565      1344      0      0    0     0     0       0   \n",
      "Arizona        1008       929      0      0    0     0     0       0   \n",
      "\n",
      "month_name  September  October  November  December  Total  \n",
      "state                                                      \n",
      "California          0        0         0         0   8366  \n",
      "Oregon              0        0         0         0   5818  \n",
      "Arizona             0        0         0         0   3874  \n"
     ]
    }
   ],
   "source": [
    "pivot_table = pivot_table.fillna(0).astype(int)\n",
    "pivot_table['Total'] = pivot_table.sum(axis=1)\n",
    "pivot_table = pivot_table.sort_values(by='Total', ascending=False)\n",
    "print(pivot_table)"
   ]
  },
  {
   "cell_type": "code",
   "execution_count": 23,
   "id": "a0b72e58-cb4d-424c-9a53-84c7b9aeff93",
   "metadata": {},
   "outputs": [
    {
     "name": "stdout",
     "output_type": "stream",
     "text": [
      "  sales_channel  response_rate\n",
      "0         Agent          19.07\n",
      "1        Branch          11.38\n",
      "2   Call Center          10.98\n",
      "3           Web          11.71\n"
     ]
    }
   ],
   "source": [
    "#7The marketing team wants to analyze the effect of different marketing channels on the customer response rate.\n",
    "\n",
    "if 'sales_channel' in df.columns:\n",
    "    response_by_channel = df.groupby('sales_channel')['response'].apply(lambda x: (x == 'Yes').mean()).reset_index()\n",
    "    response_by_channel['response_rate'] = (response_by_channel['response'] * 100).round(2)\n",
    "    response_by_channel = response_by_channel.drop(columns='response')\n",
    "\n",
    "    print(response_by_channel)\n",
    "else:\n",
    "    print(\"No 'sales_channel' column found in dataset.\")"
   ]
  }
 ],
 "metadata": {
  "colab": {
   "provenance": []
  },
  "kernelspec": {
   "display_name": "Python 3 (ipykernel)",
   "language": "python",
   "name": "python3"
  },
  "language_info": {
   "codemirror_mode": {
    "name": "ipython",
    "version": 3
   },
   "file_extension": ".py",
   "mimetype": "text/x-python",
   "name": "python",
   "nbconvert_exporter": "python",
   "pygments_lexer": "ipython3",
   "version": "3.13.3"
  }
 },
 "nbformat": 4,
 "nbformat_minor": 5
}
