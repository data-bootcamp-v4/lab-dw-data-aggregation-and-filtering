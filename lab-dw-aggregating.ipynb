{
  "cells": [
    {
      "cell_type": "markdown",
      "id": "31969215-2a90-4d8b-ac36-646a7ae13744",
      "metadata": {
        "id": "31969215-2a90-4d8b-ac36-646a7ae13744"
      },
      "source": [
        "# Lab | Data Aggregation and Filtering"
      ]
    },
    {
      "cell_type": "markdown",
      "id": "a8f08a52-bec0-439b-99cc-11d3809d8b5d",
      "metadata": {
        "id": "a8f08a52-bec0-439b-99cc-11d3809d8b5d"
      },
      "source": [
        "In this challenge, we will continue to work with customer data from an insurance company. We will use the dataset called marketing_customer_analysis.csv, which can be found at the following link:\n",
        "\n",
        "https://raw.githubusercontent.com/data-bootcamp-v4/data/main/marketing_customer_analysis.csv\n",
        "\n",
        "This dataset contains information such as customer demographics, policy details, vehicle information, and the customer's response to the last marketing campaign. Our goal is to explore and analyze this data by first performing data cleaning, formatting, and structuring."
      ]
    },
    {
      "cell_type": "markdown",
      "id": "9c98ddc5-b041-4c94-ada1-4dfee5c98e50",
      "metadata": {
        "id": "9c98ddc5-b041-4c94-ada1-4dfee5c98e50"
      },
      "source": [
        "1. Create a new DataFrame that only includes customers who have a total_claim_amount greater than $1,000 and have a response of \"Yes\" to the last marketing campaign."
      ]
    },
    {
      "cell_type": "markdown",
      "id": "b9be383e-5165-436e-80c8-57d4c757c8c3",
      "metadata": {
        "id": "b9be383e-5165-436e-80c8-57d4c757c8c3"
      },
      "source": [
        "2. Using the original Dataframe, analyze the average total_claim_amount by each policy type and gender for customers who have responded \"Yes\" to the last marketing campaign. Write your conclusions."
      ]
    },
    {
      "cell_type": "markdown",
      "id": "7050f4ac-53c5-4193-a3c0-8699b87196f0",
      "metadata": {
        "id": "7050f4ac-53c5-4193-a3c0-8699b87196f0"
      },
      "source": [
        "3. Analyze the total number of customers who have policies in each state, and then filter the results to only include states where there are more than 500 customers."
      ]
    },
    {
      "cell_type": "markdown",
      "id": "b60a4443-a1a7-4bbf-b78e-9ccdf9895e0d",
      "metadata": {
        "id": "b60a4443-a1a7-4bbf-b78e-9ccdf9895e0d"
      },
      "source": [
        "4. Find the maximum, minimum, and median customer lifetime value by education level and gender. Write your conclusions."
      ]
    },
    {
      "cell_type": "markdown",
      "id": "b42999f9-311f-481e-ae63-40a5577072c5",
      "metadata": {
        "id": "b42999f9-311f-481e-ae63-40a5577072c5"
      },
      "source": [
        "## Bonus"
      ]
    },
    {
      "cell_type": "markdown",
      "id": "81ff02c5-6584-4f21-a358-b918697c6432",
      "metadata": {
        "id": "81ff02c5-6584-4f21-a358-b918697c6432"
      },
      "source": [
        "5. The marketing team wants to analyze the number of policies sold by state and month. Present the data in a table where the months are arranged as columns and the states are arranged as rows."
      ]
    },
    {
      "cell_type": "markdown",
      "id": "b6aec097-c633-4017-a125-e77a97259cda",
      "metadata": {
        "id": "b6aec097-c633-4017-a125-e77a97259cda"
      },
      "source": [
        "6.  Display a new DataFrame that contains the number of policies sold by month, by state, for the top 3 states with the highest number of policies sold.\n",
        "\n",
        "*Hint:*\n",
        "- *To accomplish this, you will first need to group the data by state and month, then count the number of policies sold for each group. Afterwards, you will need to sort the data by the count of policies sold in descending order.*\n",
        "- *Next, you will select the top 3 states with the highest number of policies sold.*\n",
        "- *Finally, you will create a new DataFrame that contains the number of policies sold by month for each of the top 3 states.*"
      ]
    },
    {
      "cell_type": "markdown",
      "id": "ba975b8a-a2cf-4fbf-9f59-ebc381767009",
      "metadata": {
        "id": "ba975b8a-a2cf-4fbf-9f59-ebc381767009"
      },
      "source": [
        "7. The marketing team wants to analyze the effect of different marketing channels on the customer response rate.\n",
        "\n",
        "Hint: You can use melt to unpivot the data and create a table that shows the customer response rate (those who responded \"Yes\") by marketing channel."
      ]
    },
    {
      "cell_type": "markdown",
      "id": "e4378d94-48fb-4850-a802-b1bc8f427b2d",
      "metadata": {
        "id": "e4378d94-48fb-4850-a802-b1bc8f427b2d"
      },
      "source": [
        "External Resources for Data Filtering: https://towardsdatascience.com/filtering-data-frames-in-pandas-b570b1f834b9"
      ]
    },
    {
      "cell_type": "code",
      "execution_count": 8,
      "id": "449513f4-0459-46a0-a18d-9398d974c9ad",
      "metadata": {
        "id": "449513f4-0459-46a0-a18d-9398d974c9ad"
      },
      "outputs": [],
      "source": [
        "import pandas as pd\n",
        "\n",
        "url = \"https://raw.githubusercontent.com/data-bootcamp-v4/data/main/marketing_customer_analysis.csv\"\n",
        "df = pd.read_csv(url)\n"
      ]
    },
    {
      "cell_type": "code",
      "execution_count": 15,
      "id": "d14f752f",
      "metadata": {},
      "outputs": [
        {
          "name": "stdout",
          "output_type": "stream",
          "text": [
            "<class 'pandas.core.frame.DataFrame'>\n",
            "RangeIndex: 10910 entries, 0 to 10909\n",
            "Data columns (total 26 columns):\n",
            " #   Column                         Non-Null Count  Dtype  \n",
            "---  ------                         --------------  -----  \n",
            " 0   Unnamed: 0                     10910 non-null  int64  \n",
            " 1   Customer                       10910 non-null  object \n",
            " 2   State                          10279 non-null  object \n",
            " 3   Customer Lifetime Value        10910 non-null  float64\n",
            " 4   Response                       10279 non-null  object \n",
            " 5   Coverage                       10910 non-null  object \n",
            " 6   Education                      10910 non-null  object \n",
            " 7   Effective To Date              10910 non-null  object \n",
            " 8   EmploymentStatus               10910 non-null  object \n",
            " 9   Gender                         10910 non-null  object \n",
            " 10  Income                         10910 non-null  int64  \n",
            " 11  Location Code                  10910 non-null  object \n",
            " 12  Marital Status                 10910 non-null  object \n",
            " 13  Monthly Premium Auto           10910 non-null  int64  \n",
            " 14  Months Since Last Claim        10277 non-null  float64\n",
            " 15  Months Since Policy Inception  10910 non-null  int64  \n",
            " 16  Number of Open Complaints      10277 non-null  float64\n",
            " 17  Number of Policies             10910 non-null  int64  \n",
            " 18  Policy Type                    10910 non-null  object \n",
            " 19  Policy                         10910 non-null  object \n",
            " 20  Renew Offer Type               10910 non-null  object \n",
            " 21  Sales Channel                  10910 non-null  object \n",
            " 22  Total Claim Amount             10910 non-null  float64\n",
            " 23  Vehicle Class                  10288 non-null  object \n",
            " 24  Vehicle Size                   10288 non-null  object \n",
            " 25  Vehicle Type                   5428 non-null   object \n",
            "dtypes: float64(4), int64(5), object(17)\n",
            "memory usage: 2.2+ MB\n"
          ]
        },
        {
          "data": {
            "text/plain": [
              "Index(['Unnamed: 0', 'Customer', 'State', 'Customer Lifetime Value',\n",
              "       'Response', 'Coverage', 'Education', 'Effective To Date',\n",
              "       'EmploymentStatus', 'Gender', 'Income', 'Location Code',\n",
              "       'Marital Status', 'Monthly Premium Auto', 'Months Since Last Claim',\n",
              "       'Months Since Policy Inception', 'Number of Open Complaints',\n",
              "       'Number of Policies', 'Policy Type', 'Policy', 'Renew Offer Type',\n",
              "       'Sales Channel', 'Total Claim Amount', 'Vehicle Class', 'Vehicle Size',\n",
              "       'Vehicle Type'],\n",
              "      dtype='object')"
            ]
          },
          "execution_count": 15,
          "metadata": {},
          "output_type": "execute_result"
        }
      ],
      "source": [
        "df.info()\n",
        "df.describe()\n",
        "df.isnull().sum()  # Checking missing values\n",
        "df.columns"
      ]
    },
    {
      "cell_type": "code",
      "execution_count": 25,
      "id": "21896170",
      "metadata": {},
      "outputs": [
        {
          "name": "stdout",
          "output_type": "stream",
          "text": [
            "<class 'pandas.core.frame.DataFrame'>\n",
            "RangeIndex: 10910 entries, 0 to 10909\n",
            "Data columns (total 26 columns):\n",
            " #   Column                         Non-Null Count  Dtype  \n",
            "---  ------                         --------------  -----  \n",
            " 0   unnamed:_0                     10910 non-null  int64  \n",
            " 1   customer                       10910 non-null  object \n",
            " 2   state                          10279 non-null  object \n",
            " 3   customer_lifetime_value        10910 non-null  float64\n",
            " 4   response                       10279 non-null  object \n",
            " 5   coverage                       10910 non-null  object \n",
            " 6   education                      10910 non-null  object \n",
            " 7   effective_to_date              10910 non-null  object \n",
            " 8   employmentstatus               10910 non-null  object \n",
            " 9   gender                         10910 non-null  object \n",
            " 10  income                         10910 non-null  int64  \n",
            " 11  location_code                  10910 non-null  object \n",
            " 12  marital_status                 10910 non-null  object \n",
            " 13  monthly_premium_auto           10910 non-null  int64  \n",
            " 14  months_since_last_claim        10277 non-null  float64\n",
            " 15  months_since_policy_inception  10910 non-null  int64  \n",
            " 16  number_of_open_complaints      10277 non-null  float64\n",
            " 17  number_of_policies             10910 non-null  int64  \n",
            " 18  policy_type                    10910 non-null  object \n",
            " 19  policy                         10910 non-null  object \n",
            " 20  renew_offer_type               10910 non-null  object \n",
            " 21  sales_channel                  10910 non-null  object \n",
            " 22  total_claim_amount             10910 non-null  float64\n",
            " 23  vehicle_class                  10288 non-null  object \n",
            " 24  vehicle_size                   10288 non-null  object \n",
            " 25  vehicle_type                   5428 non-null   object \n",
            "dtypes: float64(4), int64(5), object(17)\n",
            "memory usage: 2.2+ MB\n"
          ]
        },
        {
          "data": {
            "text/html": [
              "<div>\n",
              "<style scoped>\n",
              "    .dataframe tbody tr th:only-of-type {\n",
              "        vertical-align: middle;\n",
              "    }\n",
              "\n",
              "    .dataframe tbody tr th {\n",
              "        vertical-align: top;\n",
              "    }\n",
              "\n",
              "    .dataframe thead th {\n",
              "        text-align: right;\n",
              "    }\n",
              "</style>\n",
              "<table border=\"1\" class=\"dataframe\">\n",
              "  <thead>\n",
              "    <tr style=\"text-align: right;\">\n",
              "      <th></th>\n",
              "      <th>unnamed:_0</th>\n",
              "      <th>customer_lifetime_value</th>\n",
              "      <th>income</th>\n",
              "      <th>monthly_premium_auto</th>\n",
              "      <th>months_since_last_claim</th>\n",
              "      <th>months_since_policy_inception</th>\n",
              "      <th>number_of_open_complaints</th>\n",
              "      <th>number_of_policies</th>\n",
              "      <th>total_claim_amount</th>\n",
              "    </tr>\n",
              "  </thead>\n",
              "  <tbody>\n",
              "    <tr>\n",
              "      <th>count</th>\n",
              "      <td>10910.000000</td>\n",
              "      <td>10910.000000</td>\n",
              "      <td>10910.000000</td>\n",
              "      <td>10910.000000</td>\n",
              "      <td>10277.000000</td>\n",
              "      <td>10910.000000</td>\n",
              "      <td>10277.000000</td>\n",
              "      <td>10910.000000</td>\n",
              "      <td>10910.000000</td>\n",
              "    </tr>\n",
              "    <tr>\n",
              "      <th>mean</th>\n",
              "      <td>5454.500000</td>\n",
              "      <td>8018.241094</td>\n",
              "      <td>37536.284785</td>\n",
              "      <td>93.196059</td>\n",
              "      <td>15.149071</td>\n",
              "      <td>48.091934</td>\n",
              "      <td>0.384256</td>\n",
              "      <td>2.979193</td>\n",
              "      <td>434.888330</td>\n",
              "    </tr>\n",
              "    <tr>\n",
              "      <th>std</th>\n",
              "      <td>3149.590053</td>\n",
              "      <td>6885.081434</td>\n",
              "      <td>30359.195670</td>\n",
              "      <td>34.442532</td>\n",
              "      <td>10.080349</td>\n",
              "      <td>27.940675</td>\n",
              "      <td>0.912457</td>\n",
              "      <td>2.399359</td>\n",
              "      <td>292.180556</td>\n",
              "    </tr>\n",
              "    <tr>\n",
              "      <th>min</th>\n",
              "      <td>0.000000</td>\n",
              "      <td>1898.007675</td>\n",
              "      <td>0.000000</td>\n",
              "      <td>61.000000</td>\n",
              "      <td>0.000000</td>\n",
              "      <td>0.000000</td>\n",
              "      <td>0.000000</td>\n",
              "      <td>1.000000</td>\n",
              "      <td>0.099007</td>\n",
              "    </tr>\n",
              "    <tr>\n",
              "      <th>25%</th>\n",
              "      <td>2727.250000</td>\n",
              "      <td>4014.453113</td>\n",
              "      <td>0.000000</td>\n",
              "      <td>68.000000</td>\n",
              "      <td>6.000000</td>\n",
              "      <td>24.000000</td>\n",
              "      <td>0.000000</td>\n",
              "      <td>1.000000</td>\n",
              "      <td>271.082527</td>\n",
              "    </tr>\n",
              "    <tr>\n",
              "      <th>50%</th>\n",
              "      <td>5454.500000</td>\n",
              "      <td>5771.147235</td>\n",
              "      <td>33813.500000</td>\n",
              "      <td>83.000000</td>\n",
              "      <td>14.000000</td>\n",
              "      <td>48.000000</td>\n",
              "      <td>0.000000</td>\n",
              "      <td>2.000000</td>\n",
              "      <td>382.564630</td>\n",
              "    </tr>\n",
              "    <tr>\n",
              "      <th>75%</th>\n",
              "      <td>8181.750000</td>\n",
              "      <td>8992.779137</td>\n",
              "      <td>62250.750000</td>\n",
              "      <td>109.000000</td>\n",
              "      <td>23.000000</td>\n",
              "      <td>71.000000</td>\n",
              "      <td>0.000000</td>\n",
              "      <td>4.000000</td>\n",
              "      <td>547.200000</td>\n",
              "    </tr>\n",
              "    <tr>\n",
              "      <th>max</th>\n",
              "      <td>10909.000000</td>\n",
              "      <td>83325.381190</td>\n",
              "      <td>99981.000000</td>\n",
              "      <td>298.000000</td>\n",
              "      <td>35.000000</td>\n",
              "      <td>99.000000</td>\n",
              "      <td>5.000000</td>\n",
              "      <td>9.000000</td>\n",
              "      <td>2893.239678</td>\n",
              "    </tr>\n",
              "  </tbody>\n",
              "</table>\n",
              "</div>"
            ],
            "text/plain": [
              "         unnamed:_0  customer_lifetime_value        income  \\\n",
              "count  10910.000000             10910.000000  10910.000000   \n",
              "mean    5454.500000              8018.241094  37536.284785   \n",
              "std     3149.590053              6885.081434  30359.195670   \n",
              "min        0.000000              1898.007675      0.000000   \n",
              "25%     2727.250000              4014.453113      0.000000   \n",
              "50%     5454.500000              5771.147235  33813.500000   \n",
              "75%     8181.750000              8992.779137  62250.750000   \n",
              "max    10909.000000             83325.381190  99981.000000   \n",
              "\n",
              "       monthly_premium_auto  months_since_last_claim  \\\n",
              "count          10910.000000             10277.000000   \n",
              "mean              93.196059                15.149071   \n",
              "std               34.442532                10.080349   \n",
              "min               61.000000                 0.000000   \n",
              "25%               68.000000                 6.000000   \n",
              "50%               83.000000                14.000000   \n",
              "75%              109.000000                23.000000   \n",
              "max              298.000000                35.000000   \n",
              "\n",
              "       months_since_policy_inception  number_of_open_complaints  \\\n",
              "count                   10910.000000               10277.000000   \n",
              "mean                       48.091934                   0.384256   \n",
              "std                        27.940675                   0.912457   \n",
              "min                         0.000000                   0.000000   \n",
              "25%                        24.000000                   0.000000   \n",
              "50%                        48.000000                   0.000000   \n",
              "75%                        71.000000                   0.000000   \n",
              "max                        99.000000                   5.000000   \n",
              "\n",
              "       number_of_policies  total_claim_amount  \n",
              "count        10910.000000        10910.000000  \n",
              "mean             2.979193          434.888330  \n",
              "std              2.399359          292.180556  \n",
              "min              1.000000            0.099007  \n",
              "25%              1.000000          271.082527  \n",
              "50%              2.000000          382.564630  \n",
              "75%              4.000000          547.200000  \n",
              "max              9.000000         2893.239678  "
            ]
          },
          "execution_count": 25,
          "metadata": {},
          "output_type": "execute_result"
        }
      ],
      "source": [
        "df.columns = df.columns.str.lower().str.replace(\" \", \"_\")\n",
        "\n",
        "filtered_df = df[(df['total_claim_amount'] > 1000) & (df['response'] == 'Yes')]\n",
        "filtered_df.head()\n",
        "df.info()\n",
        "df.describe()"
      ]
    },
    {
      "cell_type": "markdown",
      "id": "f3e0d166",
      "metadata": {},
      "source": [
        "There is high variability across income, claims, and customer lifetime value, meaning different customer groups have unique behaviors.\n",
        "\n",
        "Customers who have been with the company longer tend to have higher CLV.\n",
        "\n",
        "Most customers don’t have open complaints, but a small subset does, which could indicate a need for customer service improvements.\n",
        "\n",
        "A significant portion of customers is low-income or unemployed, which might impact policy offerings and affordability."
      ]
    },
    {
      "cell_type": "code",
      "execution_count": 21,
      "id": "46d5db13",
      "metadata": {},
      "outputs": [
        {
          "name": "stdout",
          "output_type": "stream",
          "text": [
            "      policy_type gender  total_claim_amount\n",
            "0  Corporate Auto      F          433.738499\n",
            "1  Corporate Auto      M          408.582459\n",
            "2   Personal Auto      F          452.965929\n",
            "3   Personal Auto      M          457.010178\n",
            "4    Special Auto      F          453.280164\n",
            "5    Special Auto      M          429.527942\n"
          ]
        }
      ],
      "source": [
        "avg_claims = df[df['response'] == 'Yes'].groupby(['policy_type', 'gender'])['total_claim_amount'].mean().reset_index()\n",
        "print(avg_claims)\n"
      ]
    },
    {
      "cell_type": "markdown",
      "id": "d729c6f6",
      "metadata": {},
      "source": [
        "Across all policy types, female customers have slightly higher average claim amounts than male customers.\n",
        "\n",
        "The largest difference in claim amounts is seen in corporate auto policies, where female customers tend to claim more on average.\n",
        "\n",
        "In personal auto policies, the claim amounts are nearly identical, showing minimal variation in claim behavior.\n",
        "\n",
        "Understanding these trends can help the insurance company adjust policy pricing, risk assessment, and marketing strategies based on customer gender and policy type."
      ]
    },
    {
      "cell_type": "code",
      "execution_count": 23,
      "id": "a050f1af",
      "metadata": {},
      "outputs": [
        {
          "name": "stdout",
          "output_type": "stream",
          "text": [
            "        state  customer\n",
            "0     Arizona      1937\n",
            "1  California      3552\n",
            "2      Nevada       993\n",
            "3      Oregon      2909\n",
            "4  Washington       888\n"
          ]
        }
      ],
      "source": [
        "state_counts = df.groupby('state')['customer'].count().reset_index()\n",
        "filtered_states = state_counts[state_counts['customer'] > 500]\n",
        "print(filtered_states)\n"
      ]
    },
    {
      "cell_type": "markdown",
      "id": "22e3979d",
      "metadata": {},
      "source": [
        "California has the highest number of customers (3,552), making it the strongest market for the insurance company. This could indicate a larger customer base due to population size or strong brand presence.\n",
        "The company might want to invest more in marketing and retention strategies in California since it has the largest customer base.\n",
        "Arizona and Oregon are also high-priority states, where optimizing services and promotions could further expand customer engagement.\n",
        "Nevada and Washington may require additional strategies to boost customer acquisition, depending on competition and demand."
      ]
    },
    {
      "cell_type": "code",
      "execution_count": 24,
      "id": "8304252e",
      "metadata": {},
      "outputs": [
        {
          "name": "stdout",
          "output_type": "stream",
          "text": [
            "              education gender          max          min       median\n",
            "0              Bachelor      F  73225.95652  1904.000852  5640.505303\n",
            "1              Bachelor      M  67907.27050  1898.007675  5548.031892\n",
            "2               College      F  61850.18803  1898.683686  5623.611187\n",
            "3               College      M  61134.68307  1918.119700  6005.847375\n",
            "4                Doctor      F  44856.11397  2395.570000  5332.462694\n",
            "5                Doctor      M  32677.34284  2267.604038  5577.669457\n",
            "6  High School or Below      F  55277.44589  2144.921535  6039.553187\n",
            "7  High School or Below      M  83325.38119  1940.981221  6286.731006\n",
            "8                Master      F  51016.06704  2417.777032  5729.855012\n",
            "9                Master      M  50568.25912  2272.307310  5579.099207\n"
          ]
        }
      ],
      "source": [
        "clv_stats = df.groupby(['education', 'gender'])['customer_lifetime_value'].agg(['max', 'min', 'median']).reset_index()\n",
        "print(clv_stats)\n"
      ]
    },
    {
      "cell_type": "markdown",
      "id": "fe4c9bf5",
      "metadata": {},
      "source": [
        "Customers with lower education levels—particularly men—show the highest CLV potential.\n",
        "\n",
        "Surprisingly, customers with Doctorate degrees tend to have lower median CLV, possibly due to different insurance needs or investment strategies.\n",
        "\n",
        "The gap between male and female customers is minimal in most education categories, but bachelor's degree holders show significant differences in CLV range.\n"
      ]
    },
    {
      "cell_type": "code",
      "execution_count": 1,
      "id": "5cc50779",
      "metadata": {},
      "outputs": [],
      "source": [
        "import pandas as pd\n",
        "\n",
        "url = \"https://raw.githubusercontent.com/data-bootcamp-v4/data/main/marketing_customer_analysis.csv\"\n",
        "df = pd.read_csv(url)\n"
      ]
    },
    {
      "cell_type": "code",
      "execution_count": 3,
      "id": "aa43440f",
      "metadata": {},
      "outputs": [
        {
          "name": "stdout",
          "output_type": "stream",
          "text": [
            "Index(['Unnamed: 0', 'Customer', 'State', 'Customer Lifetime Value',\n",
            "       'Response', 'Coverage', 'Education', 'Effective To Date',\n",
            "       'EmploymentStatus', 'Gender', 'Income', 'Location Code',\n",
            "       'Marital Status', 'Monthly Premium Auto', 'Months Since Last Claim',\n",
            "       'Months Since Policy Inception', 'Number of Open Complaints',\n",
            "       'Number of Policies', 'Policy Type', 'Policy', 'Renew Offer Type',\n",
            "       'Sales Channel', 'Total Claim Amount', 'Vehicle Class', 'Vehicle Size',\n",
            "       'Vehicle Type'],\n",
            "      dtype='object')\n"
          ]
        }
      ],
      "source": [
        "print(df.columns)\n"
      ]
    },
    {
      "cell_type": "code",
      "execution_count": 4,
      "id": "7432b4a7",
      "metadata": {},
      "outputs": [
        {
          "name": "stdout",
          "output_type": "stream",
          "text": [
            "month          1     2\n",
            "State                 \n",
            "Arizona     1008   929\n",
            "California  1918  1634\n",
            "Nevada       551   442\n",
            "Oregon      1565  1344\n",
            "Washington   463   425\n"
          ]
        },
        {
          "name": "stderr",
          "output_type": "stream",
          "text": [
            "/var/folders/ck/t8ktvnl92454zslcr12m5v9w0000gn/T/ipykernel_2728/2143987549.py:1: UserWarning: Could not infer format, so each element will be parsed individually, falling back to `dateutil`. To ensure parsing is consistent and as-expected, please specify a format.\n",
            "  df['month'] = pd.to_datetime(df['Effective To Date']).dt.month  # Correct column name\n"
          ]
        }
      ],
      "source": [
        "df['month'] = pd.to_datetime(df['Effective To Date']).dt.month  # Correct column name\n",
        "policies_by_state_month = df.groupby(['State', 'month'])['Policy'].count().unstack()\n",
        "print(policies_by_state_month)\n"
      ]
    },
    {
      "cell_type": "code",
      "execution_count": 6,
      "id": "2e7b5fc4",
      "metadata": {},
      "outputs": [
        {
          "name": "stdout",
          "output_type": "stream",
          "text": [
            "month          1     2\n",
            "State                 \n",
            "Arizona     1008   929\n",
            "California  1918  1634\n",
            "Oregon      1565  1344\n"
          ]
        }
      ],
      "source": [
        "top_states = df.groupby('State')['Number of Policies'].count().nlargest(3).index  # Find top 3 states\n",
        "filtered_df = df[df['State'].isin(top_states)]  # Filter for only the top 3 states\n",
        "policies_top_states = filtered_df.groupby(['State', 'month'])['Number of Policies'].count().unstack()\n",
        "print(policies_top_states)\n"
      ]
    },
    {
      "cell_type": "code",
      "execution_count": 8,
      "id": "87606184",
      "metadata": {},
      "outputs": [
        {
          "name": "stdout",
          "output_type": "stream",
          "text": [
            "  Channel Name  Response Rate\n",
            "0        Agent       0.180053\n",
            "1       Branch       0.107876\n",
            "2  Call Center       0.103223\n",
            "3          Web       0.108856\n"
          ]
        }
      ],
      "source": [
        "import pandas as pd\n",
        "\n",
        "# Load the dataset\n",
        "url = \"https://raw.githubusercontent.com/data-bootcamp-v4/data/main/marketing_customer_analysis.csv\"\n",
        "df = pd.read_csv(url)\n",
        "\n",
        "# Ensure column names are correct\n",
        "df.rename(columns=lambda x: x.strip(), inplace=True)\n",
        "\n",
        "# Filter only relevant columns\n",
        "df_melted = df.melt(id_vars=['Response'], value_vars=['Sales Channel'], var_name='Marketing Channel', value_name='Channel Name')\n",
        "\n",
        "# Calculate response rate by marketing channel\n",
        "response_rate = df_melted[df_melted['Response'] == \"Yes\"].groupby('Channel Name').size() / df_melted.groupby('Channel Name').size()\n",
        "\n",
        "# Convert response rate into a DataFrame\n",
        "response_rate_df = response_rate.reset_index(name='Response Rate')\n",
        "\n",
        "# Display the final result\n",
        "print(response_rate_df)\n"
      ]
    }
  ],
  "metadata": {
    "colab": {
      "provenance": []
    },
    "kernelspec": {
      "display_name": "base",
      "language": "python",
      "name": "python3"
    },
    "language_info": {
      "codemirror_mode": {
        "name": "ipython",
        "version": 3
      },
      "file_extension": ".py",
      "mimetype": "text/x-python",
      "name": "python",
      "nbconvert_exporter": "python",
      "pygments_lexer": "ipython3",
      "version": "3.12.7"
    }
  },
  "nbformat": 4,
  "nbformat_minor": 5
}
