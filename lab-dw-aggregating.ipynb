{
 "cells": [
  {
   "cell_type": "markdown",
   "id": "31969215-2a90-4d8b-ac36-646a7ae13744",
   "metadata": {
    "id": "31969215-2a90-4d8b-ac36-646a7ae13744"
   },
   "source": [
    "# Lab | Data Aggregation and Filtering"
   ]
  },
  {
   "cell_type": "markdown",
   "id": "a8f08a52-bec0-439b-99cc-11d3809d8b5d",
   "metadata": {
    "id": "a8f08a52-bec0-439b-99cc-11d3809d8b5d"
   },
   "source": [
    "In this challenge, we will continue to work with customer data from an insurance company. We will use the dataset called marketing_customer_analysis.csv, which can be found at the following link:\n",
    "\n",
    "https://raw.githubusercontent.com/data-bootcamp-v4/data/main/marketing_customer_analysis.csv\n",
    "\n",
    "This dataset contains information such as customer demographics, policy details, vehicle information, and the customer's response to the last marketing campaign. Our goal is to explore and analyze this data by first performing data cleaning, formatting, and structuring."
   ]
  },
  {
   "cell_type": "code",
   "execution_count": 1,
   "id": "4eb4d50c-73f1-4543-a6d1-51a5325d3fd7",
   "metadata": {},
   "outputs": [],
   "source": [
    "import pandas as pd\n",
    "data_mk_cust_analysis=pd.read_csv(\"https://raw.githubusercontent.com/data-bootcamp-v4/data/main/marketing_customer_analysis_clean.csv\")"
   ]
  },
  {
   "cell_type": "markdown",
   "id": "9c98ddc5-b041-4c94-ada1-4dfee5c98e50",
   "metadata": {
    "id": "9c98ddc5-b041-4c94-ada1-4dfee5c98e50"
   },
   "source": [
    "1. Create a new DataFrame that only includes customers who have a total_claim_amount greater than $1,000 and have a response of \"Yes\" to the last marketing campaign."
   ]
  },
  {
   "cell_type": "code",
   "execution_count": 2,
   "id": "6990a762-80c6-41f1-bfa0-ce0457156314",
   "metadata": {},
   "outputs": [
    {
     "data": {
      "text/html": [
       "<div>\n",
       "<style scoped>\n",
       "    .dataframe tbody tr th:only-of-type {\n",
       "        vertical-align: middle;\n",
       "    }\n",
       "\n",
       "    .dataframe tbody tr th {\n",
       "        vertical-align: top;\n",
       "    }\n",
       "\n",
       "    .dataframe thead th {\n",
       "        text-align: right;\n",
       "    }\n",
       "</style>\n",
       "<table border=\"1\" class=\"dataframe\">\n",
       "  <thead>\n",
       "    <tr style=\"text-align: right;\">\n",
       "      <th></th>\n",
       "      <th>unnamed:_0</th>\n",
       "      <th>customer</th>\n",
       "      <th>state</th>\n",
       "      <th>customer_lifetime_value</th>\n",
       "      <th>response</th>\n",
       "      <th>coverage</th>\n",
       "      <th>education</th>\n",
       "      <th>effective_to_date</th>\n",
       "      <th>employmentstatus</th>\n",
       "      <th>gender</th>\n",
       "      <th>...</th>\n",
       "      <th>number_of_policies</th>\n",
       "      <th>policy_type</th>\n",
       "      <th>policy</th>\n",
       "      <th>renew_offer_type</th>\n",
       "      <th>sales_channel</th>\n",
       "      <th>total_claim_amount</th>\n",
       "      <th>vehicle_class</th>\n",
       "      <th>vehicle_size</th>\n",
       "      <th>vehicle_type</th>\n",
       "      <th>month</th>\n",
       "    </tr>\n",
       "  </thead>\n",
       "  <tbody>\n",
       "    <tr>\n",
       "      <th>0</th>\n",
       "      <td>0</td>\n",
       "      <td>DK49336</td>\n",
       "      <td>Arizona</td>\n",
       "      <td>4809.216960</td>\n",
       "      <td>No</td>\n",
       "      <td>Basic</td>\n",
       "      <td>College</td>\n",
       "      <td>2011-02-18</td>\n",
       "      <td>Employed</td>\n",
       "      <td>M</td>\n",
       "      <td>...</td>\n",
       "      <td>9</td>\n",
       "      <td>Corporate Auto</td>\n",
       "      <td>Corporate L3</td>\n",
       "      <td>Offer3</td>\n",
       "      <td>Agent</td>\n",
       "      <td>292.800000</td>\n",
       "      <td>Four-Door Car</td>\n",
       "      <td>Medsize</td>\n",
       "      <td>A</td>\n",
       "      <td>2</td>\n",
       "    </tr>\n",
       "    <tr>\n",
       "      <th>1</th>\n",
       "      <td>1</td>\n",
       "      <td>KX64629</td>\n",
       "      <td>California</td>\n",
       "      <td>2228.525238</td>\n",
       "      <td>No</td>\n",
       "      <td>Basic</td>\n",
       "      <td>College</td>\n",
       "      <td>2011-01-18</td>\n",
       "      <td>Unemployed</td>\n",
       "      <td>F</td>\n",
       "      <td>...</td>\n",
       "      <td>1</td>\n",
       "      <td>Personal Auto</td>\n",
       "      <td>Personal L3</td>\n",
       "      <td>Offer4</td>\n",
       "      <td>Call Center</td>\n",
       "      <td>744.924331</td>\n",
       "      <td>Four-Door Car</td>\n",
       "      <td>Medsize</td>\n",
       "      <td>A</td>\n",
       "      <td>1</td>\n",
       "    </tr>\n",
       "    <tr>\n",
       "      <th>2</th>\n",
       "      <td>2</td>\n",
       "      <td>LZ68649</td>\n",
       "      <td>Washington</td>\n",
       "      <td>14947.917300</td>\n",
       "      <td>No</td>\n",
       "      <td>Basic</td>\n",
       "      <td>Bachelor</td>\n",
       "      <td>2011-02-10</td>\n",
       "      <td>Employed</td>\n",
       "      <td>M</td>\n",
       "      <td>...</td>\n",
       "      <td>2</td>\n",
       "      <td>Personal Auto</td>\n",
       "      <td>Personal L3</td>\n",
       "      <td>Offer3</td>\n",
       "      <td>Call Center</td>\n",
       "      <td>480.000000</td>\n",
       "      <td>SUV</td>\n",
       "      <td>Medsize</td>\n",
       "      <td>A</td>\n",
       "      <td>2</td>\n",
       "    </tr>\n",
       "    <tr>\n",
       "      <th>3</th>\n",
       "      <td>3</td>\n",
       "      <td>XL78013</td>\n",
       "      <td>Oregon</td>\n",
       "      <td>22332.439460</td>\n",
       "      <td>Yes</td>\n",
       "      <td>Extended</td>\n",
       "      <td>College</td>\n",
       "      <td>2011-01-11</td>\n",
       "      <td>Employed</td>\n",
       "      <td>M</td>\n",
       "      <td>...</td>\n",
       "      <td>2</td>\n",
       "      <td>Corporate Auto</td>\n",
       "      <td>Corporate L3</td>\n",
       "      <td>Offer2</td>\n",
       "      <td>Branch</td>\n",
       "      <td>484.013411</td>\n",
       "      <td>Four-Door Car</td>\n",
       "      <td>Medsize</td>\n",
       "      <td>A</td>\n",
       "      <td>1</td>\n",
       "    </tr>\n",
       "    <tr>\n",
       "      <th>4</th>\n",
       "      <td>4</td>\n",
       "      <td>QA50777</td>\n",
       "      <td>Oregon</td>\n",
       "      <td>9025.067525</td>\n",
       "      <td>No</td>\n",
       "      <td>Premium</td>\n",
       "      <td>Bachelor</td>\n",
       "      <td>2011-01-17</td>\n",
       "      <td>Medical Leave</td>\n",
       "      <td>F</td>\n",
       "      <td>...</td>\n",
       "      <td>7</td>\n",
       "      <td>Personal Auto</td>\n",
       "      <td>Personal L2</td>\n",
       "      <td>Offer1</td>\n",
       "      <td>Branch</td>\n",
       "      <td>707.925645</td>\n",
       "      <td>Four-Door Car</td>\n",
       "      <td>Medsize</td>\n",
       "      <td>A</td>\n",
       "      <td>1</td>\n",
       "    </tr>\n",
       "  </tbody>\n",
       "</table>\n",
       "<p>5 rows × 27 columns</p>\n",
       "</div>"
      ],
      "text/plain": [
       "   unnamed:_0 customer       state  customer_lifetime_value response  \\\n",
       "0           0  DK49336     Arizona              4809.216960       No   \n",
       "1           1  KX64629  California              2228.525238       No   \n",
       "2           2  LZ68649  Washington             14947.917300       No   \n",
       "3           3  XL78013      Oregon             22332.439460      Yes   \n",
       "4           4  QA50777      Oregon              9025.067525       No   \n",
       "\n",
       "   coverage education effective_to_date employmentstatus gender  ...  \\\n",
       "0     Basic   College        2011-02-18         Employed      M  ...   \n",
       "1     Basic   College        2011-01-18       Unemployed      F  ...   \n",
       "2     Basic  Bachelor        2011-02-10         Employed      M  ...   \n",
       "3  Extended   College        2011-01-11         Employed      M  ...   \n",
       "4   Premium  Bachelor        2011-01-17    Medical Leave      F  ...   \n",
       "\n",
       "   number_of_policies     policy_type        policy  renew_offer_type  \\\n",
       "0                   9  Corporate Auto  Corporate L3            Offer3   \n",
       "1                   1   Personal Auto   Personal L3            Offer4   \n",
       "2                   2   Personal Auto   Personal L3            Offer3   \n",
       "3                   2  Corporate Auto  Corporate L3            Offer2   \n",
       "4                   7   Personal Auto   Personal L2            Offer1   \n",
       "\n",
       "   sales_channel  total_claim_amount  vehicle_class  vehicle_size  \\\n",
       "0          Agent          292.800000  Four-Door Car       Medsize   \n",
       "1    Call Center          744.924331  Four-Door Car       Medsize   \n",
       "2    Call Center          480.000000            SUV       Medsize   \n",
       "3         Branch          484.013411  Four-Door Car       Medsize   \n",
       "4         Branch          707.925645  Four-Door Car       Medsize   \n",
       "\n",
       "  vehicle_type month  \n",
       "0            A     2  \n",
       "1            A     1  \n",
       "2            A     2  \n",
       "3            A     1  \n",
       "4            A     1  \n",
       "\n",
       "[5 rows x 27 columns]"
      ]
     },
     "execution_count": 2,
     "metadata": {},
     "output_type": "execute_result"
    }
   ],
   "source": [
    "data_mk_cust_analysis.head()"
   ]
  },
  {
   "cell_type": "code",
   "execution_count": 6,
   "id": "f8096cff-71ec-4525-85af-f72c7a7fba9b",
   "metadata": {},
   "outputs": [
    {
     "data": {
      "text/plain": [
       "[['unnamed:_0',\n",
       "  'customer',\n",
       "  'state',\n",
       "  'customer_lifetime_value',\n",
       "  'response',\n",
       "  'coverage',\n",
       "  'education',\n",
       "  'effective_to_date',\n",
       "  'employmentstatus',\n",
       "  'gender',\n",
       "  'income',\n",
       "  'location_code',\n",
       "  'marital_status',\n",
       "  'monthly_premium_auto',\n",
       "  'months_since_last_claim',\n",
       "  'months_since_policy_inception',\n",
       "  'number_of_open_complaints',\n",
       "  'number_of_policies',\n",
       "  'policy_type',\n",
       "  'policy',\n",
       "  'renew_offer_type',\n",
       "  'sales_channel',\n",
       "  'total_claim_amount',\n",
       "  'vehicle_class',\n",
       "  'vehicle_size',\n",
       "  'vehicle_type',\n",
       "  'month']]"
      ]
     },
     "metadata": {},
     "output_type": "display_data"
    },
    {
     "data": {
      "text/plain": [
       "unnamed:_0                         int64\n",
       "customer                          object\n",
       "state                             object\n",
       "customer_lifetime_value          float64\n",
       "response                          object\n",
       "coverage                          object\n",
       "education                         object\n",
       "effective_to_date                 object\n",
       "employmentstatus                  object\n",
       "gender                            object\n",
       "income                             int64\n",
       "location_code                     object\n",
       "marital_status                    object\n",
       "monthly_premium_auto               int64\n",
       "months_since_last_claim          float64\n",
       "months_since_policy_inception      int64\n",
       "number_of_open_complaints        float64\n",
       "number_of_policies                 int64\n",
       "policy_type                       object\n",
       "policy                            object\n",
       "renew_offer_type                  object\n",
       "sales_channel                     object\n",
       "total_claim_amount               float64\n",
       "vehicle_class                     object\n",
       "vehicle_size                      object\n",
       "vehicle_type                      object\n",
       "month                              int64\n",
       "dtype: object"
      ]
     },
     "metadata": {},
     "output_type": "display_data"
    }
   ],
   "source": [
    "data_mk_cust_analysis_col=[list(data_mk_cust_analysis.columns)]\n",
    "display(data_mk_cust_analysis_col)\n",
    "display(data_mk_cust_analysis.dtypes)"
   ]
  },
  {
   "cell_type": "code",
   "execution_count": 3,
   "id": "0c2d4cf3-6c60-4b5a-88d8-850704d7c805",
   "metadata": {},
   "outputs": [
    {
     "name": "stdout",
     "output_type": "stream",
     "text": [
      "(10910, 27)\n",
      "0.099007\n"
     ]
    }
   ],
   "source": [
    "#checking\n",
    "print(data_mk_cust_analysis.shape)\n",
    "print(data_mk_cust_analysis['total_claim_amount'].min())"
   ]
  },
  {
   "cell_type": "code",
   "execution_count": 7,
   "id": "d892084f-0196-4619-b3e5-e5551ed7f71e",
   "metadata": {},
   "outputs": [],
   "source": [
    "# Keeping only lines where total_claim_amount is greater than $1,000\n",
    "filtered_data_step1 = data_mk_cust_analysis.loc[data_mk_cust_analysis['total_claim_amount'] > 1000]"
   ]
  },
  {
   "cell_type": "code",
   "execution_count": 9,
   "id": "3f927369-bea2-4fa8-8dc6-f49426f769e0",
   "metadata": {},
   "outputs": [
    {
     "name": "stdout",
     "output_type": "stream",
     "text": [
      "(491, 27)\n",
      "1000.8\n"
     ]
    }
   ],
   "source": [
    "#checking\n",
    "print(filtered_data_step1.shape)\n",
    "print(filtered_data_step1['total_claim_amount'].min())"
   ]
  },
  {
   "cell_type": "code",
   "execution_count": 11,
   "id": "7e890542-04be-4211-9492-33aca9848857",
   "metadata": {},
   "outputs": [
    {
     "name": "stdout",
     "output_type": "stream",
     "text": [
      "['No' 'Yes']\n"
     ]
    }
   ],
   "source": [
    "print(data_mk_cust_analysis['response'].unique())"
   ]
  },
  {
   "cell_type": "code",
   "execution_count": 13,
   "id": "4ba9c65d-0cd9-4886-b884-b97d73aad1ab",
   "metadata": {},
   "outputs": [],
   "source": [
    "# Keeping only lines where customers replied Yes\n",
    "filtered_data_step2 =filtered_data_step1.loc[filtered_data_step1['response']== \"Yes\"]"
   ]
  },
  {
   "cell_type": "code",
   "execution_count": 14,
   "id": "05e30f0c-66aa-4030-8afc-b6dc5521aadf",
   "metadata": {},
   "outputs": [
    {
     "name": "stdout",
     "output_type": "stream",
     "text": [
      "(67, 27)\n",
      "['Yes']\n"
     ]
    }
   ],
   "source": [
    "#checking\n",
    "print(filtered_data_step2.shape)\n",
    "print(filtered_data_step2['response'].unique())"
   ]
  },
  {
   "cell_type": "markdown",
   "id": "b9be383e-5165-436e-80c8-57d4c757c8c3",
   "metadata": {
    "id": "b9be383e-5165-436e-80c8-57d4c757c8c3"
   },
   "source": [
    "2. Using the original Dataframe, analyze the average total_claim_amount by each policy type and gender for customers who have responded \"Yes\" to the last marketing campaign. Write your conclusions."
   ]
  },
  {
   "cell_type": "code",
   "execution_count": 16,
   "id": "f5cef2d3-1fac-487a-b385-88bdefd9057a",
   "metadata": {},
   "outputs": [
    {
     "name": "stdout",
     "output_type": "stream",
     "text": [
      "Mean Total Claim Amount by Policy Type and Gender:\n",
      "policy_type     gender\n",
      "Corporate Auto  F         433.738499\n",
      "                M         408.582459\n",
      "Personal Auto   F         452.965929\n",
      "                M         457.010178\n",
      "Special Auto    F         453.280164\n",
      "                M         429.527942\n",
      "Name: total_claim_amount, dtype: float64\n",
      "\n",
      "Median Total Claim Amount by Policy Type and Gender:\n",
      "policy_type     gender\n",
      "Corporate Auto  F         420.041981\n",
      "                M         364.800000\n",
      "Personal Auto   F         424.330166\n",
      "                M         412.800000\n",
      "Special Auto    F         420.041981\n",
      "                M         345.600000\n",
      "Name: total_claim_amount, dtype: float64\n",
      "\n",
      "Variance Total Claim Amount by Policy Type and Gender:\n",
      "policy_type     gender\n",
      "Corporate Auto  F         48822.219045\n",
      "                M         45595.721839\n",
      "Personal Auto   F         67702.398260\n",
      "                M         52920.431102\n",
      "Special Auto    F         55175.319200\n",
      "                M         62386.916734\n",
      "Name: total_claim_amount, dtype: float64\n"
     ]
    }
   ],
   "source": [
    "# Filter first to keep only data where customers answered \"Yes\"\n",
    "filtered_data = data_mk_cust_analysis[data_mk_cust_analysis['response'] == \"Yes\"]\n",
    "\n",
    "# Group the filtered dataframe by 'policy_type' and 'gender' and calculate statistics\n",
    "grouped_data = filtered_data.groupby(['policy_type', 'gender'])['total_claim_amount']\n",
    "\n",
    "# Calculate mean, median, and variance\n",
    "mean_total_claim = grouped_data.mean()\n",
    "median_total_claim = grouped_data.median()\n",
    "var_total_claim = grouped_data.var()\n",
    "\n",
    "# Display the results\n",
    "print(\"Mean Total Claim Amount by Policy Type and Gender:\")\n",
    "print(mean_total_claim)\n",
    "\n",
    "print(\"\\nMedian Total Claim Amount by Policy Type and Gender:\")\n",
    "print(median_total_claim)\n",
    "\n",
    "print(\"\\nVariance Total Claim Amount by Policy Type and Gender:\")\n",
    "print(var_total_claim)"
   ]
  },
  {
   "cell_type": "raw",
   "id": "e9f317c1-267a-415c-b311-5642f0f1ef54",
   "metadata": {},
   "source": [
    "The Mean Total Claim Amount grouped by Gender and Policy_Types show pretty similar values amongst groups, also all are different from the median and show pretty high variation. The highest Mean Total Claim Amount is from the group of Male for their personnal auto, while the lowest is of Male for corporate auto. Females show a Mean Total Claim Amount higher than Male for the Policy Type Special Auto, while this number is mower for Female than for Male in the other Policy types."
   ]
  },
  {
   "cell_type": "raw",
   "id": "33573e7a-6994-4703-9f90-8dad5a290880",
   "metadata": {
    "id": "7050f4ac-53c5-4193-a3c0-8699b87196f0"
   },
   "source": [
    "3. Analyze the total number of customers who have policies in each state, and then filter the results to only include states where there are more than 500 customers."
   ]
  },
  {
   "cell_type": "code",
   "execution_count": 18,
   "id": "9d933377-b54a-42e5-b038-c7634a26c68c",
   "metadata": {},
   "outputs": [
    {
     "name": "stdout",
     "output_type": "stream",
     "text": [
      "Unique values in the 'policy' column:\n",
      "['Corporate L3' 'Personal L3' 'Personal L2' 'Corporate L2' 'Personal L1'\n",
      " 'Special L1' 'Corporate L1' 'Special L3' 'Special L2']\n",
      "\n",
      "Number of null values in the 'policy' column:\n",
      "0\n"
     ]
    }
   ],
   "source": [
    "#checking\n",
    "unique_policies = data_mk_cust_analysis['policy'].unique()\n",
    "print(\"Unique values in the 'policy' column:\")\n",
    "print(unique_policies)\n",
    "\n",
    "null_policy_count = data_mk_cust_analysis['policy'].isnull().sum()\n",
    "print(\"\\nNumber of null values in the 'policy' column:\")\n",
    "print(null_policy_count)"
   ]
  },
  {
   "cell_type": "code",
   "execution_count": 20,
   "id": "9c9d4d03-31cd-4b3b-8ccf-3609cb66ae5e",
   "metadata": {},
   "outputs": [
    {
     "name": "stdout",
     "output_type": "stream",
     "text": [
      "Counts of occurrences grouped by state and policy:\n",
      "         state        policy  count\n",
      "0      Arizona  Corporate L1     62\n",
      "1      Arizona  Corporate L2    119\n",
      "2      Arizona  Corporate L3    200\n",
      "3      Arizona   Personal L1    293\n",
      "4      Arizona   Personal L2    434\n",
      "5      Arizona   Personal L3    742\n",
      "6      Arizona    Special L1     25\n",
      "7      Arizona    Special L2     35\n",
      "8      Arizona    Special L3     27\n",
      "9   California  Corporate L1    199\n",
      "10  California  Corporate L2    276\n",
      "11  California  Corporate L3    499\n",
      "12  California   Personal L1    514\n",
      "13  California   Personal L2   1043\n",
      "14  California   Personal L3   1501\n",
      "15  California    Special L1     22\n",
      "16  California    Special L2     63\n",
      "17  California    Special L3     66\n",
      "18      Nevada  Corporate L1     37\n",
      "19      Nevada  Corporate L2     73\n",
      "20      Nevada  Corporate L3    109\n",
      "21      Nevada   Personal L1    136\n",
      "22      Nevada   Personal L2    212\n",
      "23      Nevada   Personal L3    391\n",
      "24      Nevada    Special L1      5\n",
      "25      Nevada    Special L2     18\n",
      "26      Nevada    Special L3     12\n",
      "27      Oregon  Corporate L1     94\n",
      "28      Oregon  Corporate L2    174\n",
      "29      Oregon  Corporate L3    324\n",
      "30      Oregon   Personal L1    405\n",
      "31      Oregon   Personal L2    618\n",
      "32      Oregon   Personal L3   1157\n",
      "33      Oregon    Special L1     21\n",
      "34      Oregon    Special L2     63\n",
      "35      Oregon    Special L3     53\n",
      "36  Washington  Corporate L1     40\n",
      "37  Washington  Corporate L2     46\n",
      "38  Washington  Corporate L3     89\n",
      "39  Washington   Personal L1    125\n",
      "40  Washington   Personal L2    230\n",
      "41  Washington   Personal L3    327\n",
      "42  Washington    Special L1      5\n",
      "43  Washington    Special L2     14\n",
      "44  Washington    Special L3     12\n"
     ]
    }
   ],
   "source": [
    "#Grouping data by state and policy to get the number of customers \n",
    "\n",
    "grouped_counts = data_mk_cust_analysis.groupby(['state', 'policy']).size().reset_index(name='count')\n",
    "# checking the results\n",
    "#print(\"Counts of occurrences grouped by state and policy:\")\n",
    "#print(grouped_counts)\n"
   ]
  },
  {
   "cell_type": "raw",
   "id": "2e576981-3514-40b9-95e9-ce1ff39de59c",
   "metadata": {},
   "source": [
    "While the results shows that there is no combination of state and policy where the number is null, we can that number of their count varies a lot, with a range of 1496 (from 5 for Personal L1 in Washinton and Nevada to 1501 for Personal L3 in California), it makes sense to group the data in less categories."
   ]
  },
  {
   "cell_type": "code",
   "execution_count": 22,
   "id": "24b69276-d1e8-40f1-9462-9373a0a4429b",
   "metadata": {},
   "outputs": [
    {
     "name": "stdout",
     "output_type": "stream",
     "text": [
      "Counts of occurrences grouped by state:\n",
      "        state  count\n",
      "0     Arizona   1937\n",
      "1  California   4183\n",
      "2      Nevada    993\n",
      "3      Oregon   2909\n",
      "4  Washington    888\n"
     ]
    }
   ],
   "source": [
    "#Grouping data by state and filter data to keep groups of 500 cutomers at least\n",
    "grouped_counts2 = data_mk_cust_analysis.groupby(['state']).size().reset_index(name='count')\n",
    "\n",
    "# Checking by displaying the results\n",
    "print(\"Counts of occurrences grouped by state:\")\n",
    "print(grouped_counts2)\n"
   ]
  },
  {
   "cell_type": "code",
   "execution_count": 23,
   "id": "48d3748a-f57c-4669-9fac-f67c2c07096f",
   "metadata": {},
   "outputs": [],
   "source": [
    "#There is no state with less tan 5000 customers in our dataset, but if it was the case we could do as follow:\n",
    "# Grouping by 'state' and count the occurrences to identify the state to keep\n",
    "state_counts = data_mk_cust_analysis.groupby('state').size()\n",
    "\n",
    "# Filter states with counts > 500 and get their name\n",
    "states_over_500 = state_counts[state_counts > 500].index\n",
    "\n",
    "# Filter the original DataFrame to only keep rows with selected states\n",
    "filtered_data = data_mk_cust_analysis[data_mk_cust_analysis['state'].isin(states_over_500)]"
   ]
  },
  {
   "cell_type": "raw",
   "id": "061c010f-3fc2-428c-9649-105cacc229d3",
   "metadata": {
    "id": "b60a4443-a1a7-4bbf-b78e-9ccdf9895e0d"
   },
   "source": [
    "4. Find the maximum, minimum, and median customer lifetime value by education level and gender. Write your conclusions."
   ]
  },
  {
   "cell_type": "code",
   "execution_count": 4,
   "id": "83b9de92-2293-4480-bbeb-911a98836d88",
   "metadata": {},
   "outputs": [
    {
     "name": "stdout",
     "output_type": "stream",
     "text": [
      "\n",
      "Median customer lifetime value by Education and Gender:\n",
      "education             gender\n",
      "Bachelor              F         5640.505303\n",
      "                      M         5548.031892\n",
      "College               F         5623.611187\n",
      "                      M         6005.847375\n",
      "Doctor                F         5332.462694\n",
      "                      M         5577.669457\n",
      "High School or Below  F         6039.553187\n",
      "                      M         6286.731006\n",
      "Master                F         5729.855012\n",
      "                      M         5579.099207\n",
      "Name: customer_lifetime_value, dtype: float64\n",
      "\n",
      "Maximal customer lifetime value by Education and Gender:\n",
      "education             gender\n",
      "Bachelor              F         73225.95652\n",
      "                      M         67907.27050\n",
      "College               F         61850.18803\n",
      "                      M         61134.68307\n",
      "Doctor                F         44856.11397\n",
      "                      M         32677.34284\n",
      "High School or Below  F         55277.44589\n",
      "                      M         83325.38119\n",
      "Master                F         51016.06704\n",
      "                      M         50568.25912\n",
      "Name: customer_lifetime_value, dtype: float64\n",
      "\n",
      "Minimal customer lifetime value by Education and Gender:\n",
      "education             gender\n",
      "Bachelor              F         1904.000852\n",
      "                      M         1898.007675\n",
      "College               F         1898.683686\n",
      "                      M         1918.119700\n",
      "Doctor                F         2395.570000\n",
      "                      M         2267.604038\n",
      "High School or Below  F         2144.921535\n",
      "                      M         1940.981221\n",
      "Master                F         2417.777032\n",
      "                      M         2272.307310\n",
      "Name: customer_lifetime_value, dtype: float64\n",
      "\n",
      "Range customer lifetime value by Education and Gender:\n",
      "education             gender\n",
      "Bachelor              F         71321.955668\n",
      "                      M         66009.262825\n",
      "College               F         59951.504344\n",
      "                      M         59216.563370\n",
      "Doctor                F         42460.543970\n",
      "                      M         30409.738802\n",
      "High School or Below  F         53132.524355\n",
      "                      M         81384.399969\n",
      "Master                F         48598.290008\n",
      "                      M         48295.951810\n",
      "Name: customer_lifetime_value, dtype: float64\n"
     ]
    }
   ],
   "source": [
    "# Group the filtered dataframe by 'education' and 'gender' and calculate statistics\n",
    "grouped_data4 = data_mk_cust_analysis.groupby(['education', 'gender'])['customer_lifetime_value']\n",
    "\n",
    "# Calculate mean, median, and variance\n",
    "median_total_clv4 = grouped_data4.median()\n",
    "max_total_clv4 = grouped_data4.max()\n",
    "min_total_clv4 = grouped_data4.min()\n",
    "range_total_clv4=grouped_data4.max() - grouped_data4.min()\n",
    "\n",
    "# Display the results\n",
    "print(\"\\nMedian customer lifetime value by Education and Gender:\")\n",
    "print(median_total_clv4)\n",
    "\n",
    "print(\"\\nMaximal customer lifetime value by Education and Gender:\")\n",
    "print(max_total_clv4)\n",
    "\n",
    "print(\"\\nMinimal customer lifetime value by Education and Gender:\")\n",
    "print(min_total_clv4)\n",
    "\n",
    "print(\"\\nRange customer lifetime value by Education and Gender:\")\n",
    "print(range_total_clv4)"
   ]
  },
  {
   "cell_type": "raw",
   "id": "1a1d0dab-7f51-48a0-9439-8d8e0bf7acd8",
   "metadata": {},
   "source": [
    "The medians of customer lifetime value by Education and Gender are pretty similar, most customers having values between 5300 and 6300. However by looking at the minimal and maximal values amongst these groups we can see a lot of disparity. The highest range is observed for male whith the lowest level of education (High School or Below), which is not observed for Female of the same level of education. The second and third highest ranges are from the groups Male and Female having a bachelor degree, it seems that at this level of education the customer lifetime value is less impacted by a gender effect. As to the lowest ranges they are found for customers with doctor degree,the number for Females being higher than for Male. It seems that this level of education includes custumers with the least variation in their lifetime value."
   ]
  },
  {
   "cell_type": "markdown",
   "id": "b42999f9-311f-481e-ae63-40a5577072c5",
   "metadata": {
    "id": "b42999f9-311f-481e-ae63-40a5577072c5"
   },
   "source": [
    "## Bonus"
   ]
  },
  {
   "cell_type": "markdown",
   "id": "81ff02c5-6584-4f21-a358-b918697c6432",
   "metadata": {
    "id": "81ff02c5-6584-4f21-a358-b918697c6432"
   },
   "source": [
    "5. The marketing team wants to analyze the number of policies sold by state and month. Present the data in a table where the months are arranged as columns and the states are arranged as rows."
   ]
  },
  {
   "cell_type": "markdown",
   "id": "b6aec097-c633-4017-a125-e77a97259cda",
   "metadata": {
    "id": "b6aec097-c633-4017-a125-e77a97259cda"
   },
   "source": [
    "6.  Display a new DataFrame that contains the number of policies sold by month, by state, for the top 3 states with the highest number of policies sold.\n",
    "\n",
    "*Hint:*\n",
    "- *To accomplish this, you will first need to group the data by state and month, then count the number of policies sold for each group. Afterwards, you will need to sort the data by the count of policies sold in descending order.*\n",
    "- *Next, you will select the top 3 states with the highest number of policies sold.*\n",
    "- *Finally, you will create a new DataFrame that contains the number of policies sold by month for each of the top 3 states.*"
   ]
  },
  {
   "cell_type": "markdown",
   "id": "ba975b8a-a2cf-4fbf-9f59-ebc381767009",
   "metadata": {
    "id": "ba975b8a-a2cf-4fbf-9f59-ebc381767009"
   },
   "source": [
    "7. The marketing team wants to analyze the effect of different marketing channels on the customer response rate.\n",
    "\n",
    "Hint: You can use melt to unpivot the data and create a table that shows the customer response rate (those who responded \"Yes\") by marketing channel."
   ]
  },
  {
   "cell_type": "markdown",
   "id": "e4378d94-48fb-4850-a802-b1bc8f427b2d",
   "metadata": {
    "id": "e4378d94-48fb-4850-a802-b1bc8f427b2d"
   },
   "source": [
    "External Resources for Data Filtering: https://towardsdatascience.com/filtering-data-frames-in-pandas-b570b1f834b9"
   ]
  },
  {
   "cell_type": "code",
   "execution_count": null,
   "id": "449513f4-0459-46a0-a18d-9398d974c9ad",
   "metadata": {
    "id": "449513f4-0459-46a0-a18d-9398d974c9ad"
   },
   "outputs": [],
   "source": [
    "# your code goes here"
   ]
  }
 ],
 "metadata": {
  "colab": {
   "provenance": []
  },
  "kernelspec": {
   "display_name": "Python 3 (ipykernel)",
   "language": "python",
   "name": "python3"
  },
  "language_info": {
   "codemirror_mode": {
    "name": "ipython",
    "version": 3
   },
   "file_extension": ".py",
   "mimetype": "text/x-python",
   "name": "python",
   "nbconvert_exporter": "python",
   "pygments_lexer": "ipython3",
   "version": "3.11.7"
  }
 },
 "nbformat": 4,
 "nbformat_minor": 5
}
