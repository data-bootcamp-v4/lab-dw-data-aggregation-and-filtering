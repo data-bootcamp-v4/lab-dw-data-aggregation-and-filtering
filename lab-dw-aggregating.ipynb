{
  "cells": [
    {
      "cell_type": "markdown",
      "id": "31969215-2a90-4d8b-ac36-646a7ae13744",
      "metadata": {
        "id": "31969215-2a90-4d8b-ac36-646a7ae13744"
      },
      "source": [
        "# Lab | Data Aggregation and Filtering"
      ]
    },
    {
      "cell_type": "markdown",
      "id": "a8f08a52-bec0-439b-99cc-11d3809d8b5d",
      "metadata": {
        "id": "a8f08a52-bec0-439b-99cc-11d3809d8b5d"
      },
      "source": [
        "In this challenge, we will continue to work with customer data from an insurance company. We will use the dataset called marketing_customer_analysis.csv, which can be found at the following link:\n",
        "\n",
        "https://raw.githubusercontent.com/data-bootcamp-v4/data/main/marketing_customer_analysis.csv\n",
        "\n",
        "This dataset contains information such as customer demographics, policy details, vehicle information, and the customer's response to the last marketing campaign. Our goal is to explore and analyze this data by first performing data cleaning, formatting, and structuring."
      ]
    },
    {
      "cell_type": "code",
      "execution_count": 44,
      "id": "67474fc4",
      "metadata": {},
      "outputs": [
        {
          "data": {
            "text/plain": [
              "unnamed:_0                         int64\n",
              "customer                          object\n",
              "state                             object\n",
              "customer_lifetime_value          float64\n",
              "response                          object\n",
              "coverage                          object\n",
              "education                         object\n",
              "effective_to_date                 object\n",
              "employmentstatus                  object\n",
              "gender                            object\n",
              "income                             int64\n",
              "location_code                     object\n",
              "marital_status                    object\n",
              "monthly_premium_auto               int64\n",
              "months_since_last_claim          float64\n",
              "months_since_policy_inception      int64\n",
              "number_of_open_complaints        float64\n",
              "number_of_policies                 int64\n",
              "policy_type                       object\n",
              "policy                            object\n",
              "renew_offer_type                  object\n",
              "sales_channel                     object\n",
              "total_claim_amount               float64\n",
              "vehicle_class                     object\n",
              "vehicle_size                      object\n",
              "vehicle_type                      object\n",
              "dtype: object"
            ]
          },
          "execution_count": 44,
          "metadata": {},
          "output_type": "execute_result"
        }
      ],
      "source": [
        "import pandas as pd\n",
        "url = \"https://raw.githubusercontent.com/data-bootcamp-v4/data/main/marketing_customer_analysis.csv\"\n",
        "mkcust_df = pd.read_csv(url)\n",
        "mkcust_df.columns = mkcust_df.columns.str.lower()\n",
        "mkcust_df.columns = mkcust_df.columns.str.replace(' ','_')\n",
        "mkcust_df.dtypes"
      ]
    },
    {
      "cell_type": "markdown",
      "id": "9c98ddc5-b041-4c94-ada1-4dfee5c98e50",
      "metadata": {
        "id": "9c98ddc5-b041-4c94-ada1-4dfee5c98e50"
      },
      "source": [
        "1. Create a new DataFrame that only includes customers who have a total_claim_amount greater than $1,000 and have a response of \"Yes\" to the last marketing campaign."
      ]
    },
    {
      "cell_type": "code",
      "execution_count": 24,
      "id": "6fcc9bc9",
      "metadata": {},
      "outputs": [
        {
          "data": {
            "text/plain": [
              "(10910, 26)"
            ]
          },
          "metadata": {},
          "output_type": "display_data"
        },
        {
          "name": "stdout",
          "output_type": "stream",
          "text": [
            "      customer  total_claim_amount response\n",
            "189    OK31456         1358.400000      Yes\n",
            "236    YJ16163         1358.400000      Yes\n",
            "419    GW43195         1027.200000      Yes\n",
            "442    IP94270         1261.319869      Yes\n",
            "587    FJ28407         1027.000029      Yes\n",
            "...        ...                 ...      ...\n",
            "10351  FN44127         1176.278800      Yes\n",
            "10373  XZ64172         1324.800000      Yes\n",
            "10487  IX60941         1176.278800      Yes\n",
            "10565  QO62792         1008.000000      Yes\n",
            "10708  CK39096         1027.000029      Yes\n",
            "\n",
            "[67 rows x 3 columns]\n"
          ]
        }
      ],
      "source": [
        "display(mkcust_df.shape) # only to check if the initial number of rows\n",
        "filtered = mkcust_df[(mkcust_df['total_claim_amount'] > 1000) & (mkcust_df['response']=='Yes')] #dataframe filtered by total_claim_amount and response\n",
        "\n",
        "columns_from_filter = ['customer', 'total_claim_amount', 'response'] #from dataframe filtered extracted the customer, total_claim_amount \n",
        "cust_df = filtered[columns_from_filter]#and extracted to the final dataframe\n",
        "print(cust_df) #print to confirm the accuracy"
      ]
    },
    {
      "cell_type": "markdown",
      "id": "b9be383e-5165-436e-80c8-57d4c757c8c3",
      "metadata": {
        "id": "b9be383e-5165-436e-80c8-57d4c757c8c3"
      },
      "source": [
        "2. Using the original Dataframe, analyze the average total_claim_amount by each policy type and gender for customers who have responded \"Yes\" to the last marketing campaign. Write your conclusions."
      ]
    },
    {
      "cell_type": "code",
      "execution_count": 30,
      "id": "8962e8ce",
      "metadata": {},
      "outputs": [
        {
          "name": "stdout",
          "output_type": "stream",
          "text": [
            "<bound method Series.reset_index of policy_type     gender\n",
            "Corporate Auto  F         433.738499\n",
            "                M         408.582459\n",
            "Personal Auto   F         452.965929\n",
            "                M         457.010178\n",
            "Special Auto    F         453.280164\n",
            "                M         429.527942\n",
            "Name: total_claim_amount, dtype: float64>\n"
          ]
        }
      ],
      "source": [
        "filtered = mkcust_df[(mkcust_df['response']=='Yes')] #filtered the observation with response='yes' from the original dataframe\n",
        "filtered_group = filtered.groupby(['policy_type','gender'])['total_claim_amount'].mean().reset_index #them presented the average total_claim_amount grouped by the policy_type and gender \n",
        "print(filtered_group)\n",
        "\n",
        "#Conclusions: The most profit policy type is \"Personal auto\", womem invest more in security for their vehicles and responded more to the last marketing campaign!"
      ]
    },
    {
      "cell_type": "markdown",
      "id": "7050f4ac-53c5-4193-a3c0-8699b87196f0",
      "metadata": {
        "id": "7050f4ac-53c5-4193-a3c0-8699b87196f0"
      },
      "source": [
        "3. Analyze the total number of customers who have policies in each state, and then filter the results to only include states where there are more than 500 customers."
      ]
    },
    {
      "cell_type": "code",
      "execution_count": 40,
      "id": "79c69df5",
      "metadata": {},
      "outputs": [
        {
          "name": "stdout",
          "output_type": "stream",
          "text": [
            "        state  customer\n",
            "0     Arizona      1937\n",
            "1  California      3552\n",
            "2      Nevada       993\n",
            "3      Oregon      2909\n",
            "4  Washington       888\n"
          ]
        }
      ],
      "source": [
        "filter_customer = mkcust_df.groupby('state')['customer'].count().reset_index()\n",
        "more_500 = filter_customer[filter_customer['customer']>500]\n",
        "print(more_500)"
      ]
    },
    {
      "cell_type": "markdown",
      "id": "b60a4443-a1a7-4bbf-b78e-9ccdf9895e0d",
      "metadata": {
        "id": "b60a4443-a1a7-4bbf-b78e-9ccdf9895e0d"
      },
      "source": [
        "4. Find the maximum, minimum, and median customer lifetime value by education level and gender. Write your conclusions."
      ]
    },
    {
      "cell_type": "code",
      "execution_count": 60,
      "id": "dadceb64",
      "metadata": {},
      "outputs": [
        {
          "name": "stdout",
          "output_type": "stream",
          "text": [
            "              education gender  maximum clv  minimum clv   median clv\n",
            "0              Bachelor      F  73225.95652  1904.000852  5640.505303\n",
            "1              Bachelor      M  67907.27050  1898.007675  5548.031892\n",
            "2               College      F  61850.18803  1898.683686  5623.611187\n",
            "3               College      M  61134.68307  1918.119700  6005.847375\n",
            "4                Doctor      F  44856.11397  2395.570000  5332.462694\n",
            "5                Doctor      M  32677.34284  2267.604038  5577.669457\n",
            "6  High School or Below      F  55277.44589  2144.921535  6039.553187\n",
            "7  High School or Below      M  83325.38119  1940.981221  6286.731006\n",
            "8                Master      F  51016.06704  2417.777032  5729.855012\n",
            "9                Master      M  50568.25912  2272.307310  5579.099207\n"
          ]
        }
      ],
      "source": [
        "#\"Maximum CLV by education and gender\\n\")\n",
        "filter_clv_max = mkcust_df.groupby(['education', 'gender'])['customer_lifetime_value'].max().reset_index()\n",
        "filter_clv_max.columns = filter_clv_max.columns.str.replace('customer_lifetime_value','maximum clv')\n",
        "\n",
        "#\"Minimum CLV by education and gender\\n\")\n",
        "filter_clv_min = mkcust_df.groupby(['education', 'gender'])['customer_lifetime_value'].min().reset_index()\n",
        "filter_clv_min.columns = filter_clv_min.columns.str.replace('customer_lifetime_value','minimum clv')\n",
        "\n",
        "#\"Median CLV by education and gender\\n\")\n",
        "filter_clv_avg = mkcust_df.groupby(['education', 'gender'])['customer_lifetime_value'].median().reset_index()\n",
        "filter_clv_avg.columns = filter_clv_avg.columns.str.replace('customer_lifetime_value','median clv')\n",
        "\n",
        "merge_df = pd.merge(filter_clv_max, filter_clv_min, on=['education', 'gender'], how='outer')\n",
        "merge_df = pd.merge(merge_df, filter_clv_avg, on=['education','gender'], how='outer')\n",
        "print(merge_df)\n",
        "\n",
        "#Conclusion:\n",
        "#Women with Bachelor and Master level have more clv than man in the same level of education, while man dominate the other level with emphasis to HighSchool and below."
      ]
    },
    {
      "cell_type": "markdown",
      "id": "b42999f9-311f-481e-ae63-40a5577072c5",
      "metadata": {
        "id": "b42999f9-311f-481e-ae63-40a5577072c5"
      },
      "source": [
        "## Bonus"
      ]
    },
    {
      "cell_type": "markdown",
      "id": "81ff02c5-6584-4f21-a358-b918697c6432",
      "metadata": {
        "id": "81ff02c5-6584-4f21-a358-b918697c6432"
      },
      "source": [
        "5. The marketing team wants to analyze the number of policies sold by state and month. Present the data in a table where the months are arranged as columns and the states are arranged as rows."
      ]
    },
    {
      "cell_type": "markdown",
      "id": "b6aec097-c633-4017-a125-e77a97259cda",
      "metadata": {
        "id": "b6aec097-c633-4017-a125-e77a97259cda"
      },
      "source": [
        "6.  Display a new DataFrame that contains the number of policies sold by month, by state, for the top 3 states with the highest number of policies sold.\n",
        "\n",
        "*Hint:*\n",
        "- *To accomplish this, you will first need to group the data by state and month, then count the number of policies sold for each group. Afterwards, you will need to sort the data by the count of policies sold in descending order.*\n",
        "- *Next, you will select the top 3 states with the highest number of policies sold.*\n",
        "- *Finally, you will create a new DataFrame that contains the number of policies sold by month for each of the top 3 states.*"
      ]
    },
    {
      "cell_type": "markdown",
      "id": "ba975b8a-a2cf-4fbf-9f59-ebc381767009",
      "metadata": {
        "id": "ba975b8a-a2cf-4fbf-9f59-ebc381767009"
      },
      "source": [
        "7. The marketing team wants to analyze the effect of different marketing channels on the customer response rate.\n",
        "\n",
        "Hint: You can use melt to unpivot the data and create a table that shows the customer response rate (those who responded \"Yes\") by marketing channel."
      ]
    },
    {
      "cell_type": "markdown",
      "id": "e4378d94-48fb-4850-a802-b1bc8f427b2d",
      "metadata": {
        "id": "e4378d94-48fb-4850-a802-b1bc8f427b2d"
      },
      "source": [
        "External Resources for Data Filtering: https://towardsdatascience.com/filtering-data-frames-in-pandas-b570b1f834b9"
      ]
    },
    {
      "cell_type": "code",
      "execution_count": null,
      "id": "449513f4-0459-46a0-a18d-9398d974c9ad",
      "metadata": {
        "id": "449513f4-0459-46a0-a18d-9398d974c9ad"
      },
      "outputs": [],
      "source": [
        "# your code goes here"
      ]
    }
  ],
  "metadata": {
    "colab": {
      "provenance": []
    },
    "kernelspec": {
      "display_name": "Python 3 (ipykernel)",
      "language": "python",
      "name": "python3"
    },
    "language_info": {
      "codemirror_mode": {
        "name": "ipython",
        "version": 3
      },
      "file_extension": ".py",
      "mimetype": "text/x-python",
      "name": "python",
      "nbconvert_exporter": "python",
      "pygments_lexer": "ipython3",
      "version": "3.12.4"
    }
  },
  "nbformat": 4,
  "nbformat_minor": 5
}
