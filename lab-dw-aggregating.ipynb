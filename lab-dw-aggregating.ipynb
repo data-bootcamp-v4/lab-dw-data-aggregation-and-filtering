{
  "cells": [
    {
      "cell_type": "markdown",
      "id": "31969215-2a90-4d8b-ac36-646a7ae13744",
      "metadata": {
        "id": "31969215-2a90-4d8b-ac36-646a7ae13744"
      },
      "source": [
        "# Lab | Data Aggregation and Filtering"
      ]
    },
    {
      "cell_type": "markdown",
      "id": "a8f08a52-bec0-439b-99cc-11d3809d8b5d",
      "metadata": {
        "id": "a8f08a52-bec0-439b-99cc-11d3809d8b5d"
      },
      "source": [
        "In this challenge, we will continue to work with customer data from an insurance company. We will use the dataset called marketing_customer_analysis.csv, which can be found at the following link:\n",
        "\n",
        "https://raw.githubusercontent.com/data-bootcamp-v4/data/main/marketing_customer_analysis.csv\n",
        "\n",
        "This dataset contains information such as customer demographics, policy details, vehicle information, and the customer's response to the last marketing campaign. Our goal is to explore and analyze this data by first performing data cleaning, formatting, and structuring."
      ]
    },
    {
      "cell_type": "markdown",
      "id": "9c98ddc5-b041-4c94-ada1-4dfee5c98e50",
      "metadata": {
        "id": "9c98ddc5-b041-4c94-ada1-4dfee5c98e50"
      },
      "source": [
        "1. Create a new DataFrame that only includes customers who have a total_claim_amount greater than $1,000 and have a response of \"Yes\" to the last marketing campaign."
      ]
    },
    {
      "cell_type": "code",
      "execution_count": 1,
      "id": "0bd028d4",
      "metadata": {},
      "outputs": [
        {
          "data": {
            "text/plain": [
              "Index(['Unnamed: 0', 'Customer', 'State', 'Customer Lifetime Value',\n",
              "       'Response', 'Coverage', 'Education', 'Effective To Date',\n",
              "       'EmploymentStatus', 'Gender', 'Income', 'Location Code',\n",
              "       'Marital Status', 'Monthly Premium Auto', 'Months Since Last Claim',\n",
              "       'Months Since Policy Inception', 'Number of Open Complaints',\n",
              "       'Number of Policies', 'Policy Type', 'Policy', 'Renew Offer Type',\n",
              "       'Sales Channel', 'Total Claim Amount', 'Vehicle Class', 'Vehicle Size',\n",
              "       'Vehicle Type'],\n",
              "      dtype='object')"
            ]
          },
          "execution_count": 1,
          "metadata": {},
          "output_type": "execute_result"
        }
      ],
      "source": [
        "import pandas as pd\n",
        "\n",
        "url = \"https://raw.githubusercontent.com/data-bootcamp-v4/data/main/marketing_customer_analysis.csv\"\n",
        "\n",
        "df = pd.read_csv(url)\n",
        "\n",
        "df.head()\n",
        "df.columns"
      ]
    },
    {
      "cell_type": "code",
      "execution_count": 2,
      "id": "dea034d2",
      "metadata": {},
      "outputs": [
        {
          "name": "stdout",
          "output_type": "stream",
          "text": [
            "       Unnamed: 0 Customer       State  Customer Lifetime Value Response  \\\n",
            "189           189  OK31456  California             11009.130490      Yes   \n",
            "236           236  YJ16163      Oregon             11009.130490      Yes   \n",
            "419           419  GW43195      Oregon             25807.063000      Yes   \n",
            "442           442  IP94270     Arizona             13736.132500      Yes   \n",
            "587           587  FJ28407  California              5619.689084      Yes   \n",
            "...           ...      ...         ...                      ...      ...   \n",
            "10351       10351  FN44127      Oregon              3508.569533      Yes   \n",
            "10373       10373  XZ64172      Oregon             10963.957230      Yes   \n",
            "10487       10487  IX60941      Oregon              3508.569533      Yes   \n",
            "10565       10565  QO62792      Oregon              7840.165778      Yes   \n",
            "10708       10708  CK39096      Oregon              5619.689084      Yes   \n",
            "\n",
            "       Coverage             Education Effective To Date EmploymentStatus  \\\n",
            "189     Premium              Bachelor           1/24/11         Employed   \n",
            "236     Premium              Bachelor           1/24/11         Employed   \n",
            "419    Extended               College           2/13/11         Employed   \n",
            "442     Premium                Master           2/13/11         Disabled   \n",
            "587     Premium  High School or Below           1/26/11       Unemployed   \n",
            "...         ...                   ...               ...              ...   \n",
            "10351  Extended               College            1/5/11    Medical Leave   \n",
            "10373   Premium  High School or Below            2/8/11         Employed   \n",
            "10487  Extended               College            1/5/11    Medical Leave   \n",
            "10565  Extended               College           1/14/11         Employed   \n",
            "10708   Premium  High School or Below           1/26/11       Unemployed   \n",
            "\n",
            "      Gender  ...  Number of Open Complaints Number of Policies  \\\n",
            "189        F  ...                        0.0                  1   \n",
            "236        F  ...                        0.0                  1   \n",
            "419        F  ...                        1.0                  2   \n",
            "442        F  ...                        0.0                  8   \n",
            "587        M  ...                        0.0                  1   \n",
            "...      ...  ...                        ...                ...   \n",
            "10351      M  ...                        1.0                  1   \n",
            "10373      M  ...                        0.0                  1   \n",
            "10487      M  ...                        1.0                  1   \n",
            "10565      M  ...                        2.0                  1   \n",
            "10708      M  ...                        0.0                  1   \n",
            "\n",
            "          Policy Type        Policy  Renew Offer Type  Sales Channel  \\\n",
            "189    Corporate Auto  Corporate L3            Offer2          Agent   \n",
            "236      Special Auto    Special L3            Offer2          Agent   \n",
            "419     Personal Auto   Personal L2            Offer1         Branch   \n",
            "442     Personal Auto   Personal L2            Offer1            Web   \n",
            "587     Personal Auto   Personal L1            Offer2            Web   \n",
            "...               ...           ...               ...            ...   \n",
            "10351   Personal Auto   Personal L2            Offer2         Branch   \n",
            "10373  Corporate Auto  Corporate L2            Offer1          Agent   \n",
            "10487   Personal Auto   Personal L3            Offer2         Branch   \n",
            "10565   Personal Auto   Personal L3            Offer2          Agent   \n",
            "10708   Personal Auto   Personal L3            Offer2            Web   \n",
            "\n",
            "       Total Claim Amount  Vehicle Class Vehicle Size Vehicle Type  \n",
            "189           1358.400000     Luxury Car      Medsize          NaN  \n",
            "236           1358.400000     Luxury Car      Medsize            A  \n",
            "419           1027.200000     Luxury Car        Small            A  \n",
            "442           1261.319869            SUV      Medsize            A  \n",
            "587           1027.000029            SUV      Medsize            A  \n",
            "...                   ...            ...          ...          ...  \n",
            "10351         1176.278800  Four-Door Car        Small          NaN  \n",
            "10373         1324.800000     Luxury SUV      Medsize          NaN  \n",
            "10487         1176.278800  Four-Door Car        Small          NaN  \n",
            "10565         1008.000000            NaN          NaN          NaN  \n",
            "10708         1027.000029            SUV      Medsize            A  \n",
            "\n",
            "[67 rows x 26 columns]\n"
          ]
        }
      ],
      "source": [
        "filtered_df = df[(df['Total Claim Amount'] > 1000) & (df['Response'] == 'Yes')]\n",
        "\n",
        "print (filtered_df)"
      ]
    },
    {
      "cell_type": "markdown",
      "id": "b9be383e-5165-436e-80c8-57d4c757c8c3",
      "metadata": {
        "id": "b9be383e-5165-436e-80c8-57d4c757c8c3"
      },
      "source": [
        "2. Using the original Dataframe, analyze the average total_claim_amount by each policy type and gender for customers who have responded \"Yes\" to the last marketing campaign. Write your conclusions."
      ]
    },
    {
      "cell_type": "code",
      "execution_count": 3,
      "id": "d395c853",
      "metadata": {},
      "outputs": [
        {
          "name": "stdout",
          "output_type": "stream",
          "text": [
            "Policy Type     Gender\n",
            "Corporate Auto  F         433.738499\n",
            "                M         408.582459\n",
            "Personal Auto   F         452.965929\n",
            "                M         457.010178\n",
            "Special Auto    F         453.280164\n",
            "                M         429.527942\n",
            "Name: Total Claim Amount, dtype: float64\n"
          ]
        }
      ],
      "source": [
        "# Filtering customers who responded \"Yes\" to the last marketing campaign\n",
        "responded_yes_df = df[df['Response'] == 'Yes']\n",
        "\n",
        "# Grouping by policy_type and gender, and calculating the average total_claim_amount\n",
        "average_claim_by_policy_gender = responded_yes_df.groupby(['Policy Type', 'Gender'])['Total Claim Amount'].mean()\n",
        "\n",
        "print(average_claim_by_policy_gender)\n"
      ]
    },
    {
      "cell_type": "markdown",
      "id": "b7caaf53",
      "metadata": {},
      "source": [
        "### Conclusions:\n",
        "\n",
        "From the output of the code, we can see that:\n",
        "\n",
        "-Differences in Claim Amounts by Policy Type:\n",
        "    Certain policies are associated with customers who claim more when they do respond positively to marketing, such as personal auto.\n",
        "\n",
        "-Impact of Gender:\n",
        "    We can see that for female users the total claim amount is higher for corporate and special auto.\n",
        "\n",
        "-Marketing Campaign Effectiveness:\n",
        "    Understanding how these variables interact with the claim amounts could also give insights into how different customer segments (based on policy type and gender) respond in value to marketing efforts, which could inform targeted campaigns in the future.\n"
      ]
    },
    {
      "cell_type": "markdown",
      "id": "7050f4ac-53c5-4193-a3c0-8699b87196f0",
      "metadata": {
        "id": "7050f4ac-53c5-4193-a3c0-8699b87196f0"
      },
      "source": [
        "3. Analyze the total number of customers who have policies in each state, and then filter the results to only include states where there are more than 500 customers."
      ]
    },
    {
      "cell_type": "code",
      "execution_count": 4,
      "id": "0dec6400",
      "metadata": {},
      "outputs": [
        {
          "name": "stdout",
          "output_type": "stream",
          "text": [
            "State\n",
            "California    3552\n",
            "Oregon        2909\n",
            "Arizona       1937\n",
            "Nevada         993\n",
            "Washington     888\n",
            "Name: count, dtype: int64\n"
          ]
        }
      ],
      "source": [
        "customers_by_state = df['State'].value_counts()  # Count the number of customers by state\n",
        "\n",
        "states_with_more_than_500_customers = customers_by_state[customers_by_state > 500]  # Filter for states with more than 500 customers\n",
        "\n",
        "print(states_with_more_than_500_customers)\n"
      ]
    },
    {
      "cell_type": "markdown",
      "id": "b60a4443-a1a7-4bbf-b78e-9ccdf9895e0d",
      "metadata": {
        "id": "b60a4443-a1a7-4bbf-b78e-9ccdf9895e0d"
      },
      "source": [
        "4. Find the maximum, minimum, and median customer lifetime value by education level and gender. Write your conclusions."
      ]
    },
    {
      "cell_type": "code",
      "execution_count": 5,
      "id": "c3841216",
      "metadata": {},
      "outputs": [
        {
          "name": "stdout",
          "output_type": "stream",
          "text": [
            "                                     max          min       median\n",
            "Education            Gender                                       \n",
            "Bachelor             F       73225.95652  1904.000852  5640.505303\n",
            "                     M       67907.27050  1898.007675  5548.031892\n",
            "College              F       61850.18803  1898.683686  5623.611187\n",
            "                     M       61134.68307  1918.119700  6005.847375\n",
            "Doctor               F       44856.11397  2395.570000  5332.462694\n",
            "                     M       32677.34284  2267.604038  5577.669457\n",
            "High School or Below F       55277.44589  2144.921535  6039.553187\n",
            "                     M       83325.38119  1940.981221  6286.731006\n",
            "Master               F       51016.06704  2417.777032  5729.855012\n",
            "                     M       50568.25912  2272.307310  5579.099207\n"
          ]
        }
      ],
      "source": [
        "# Group by education and gender, and calculate max, min, and median for customer_lifetime_value\n",
        "# clv = customer_lifetime_value\n",
        "clv_stats_by_education_gender = df.groupby(['Education', 'Gender'])['Customer Lifetime Value'].agg(['max', 'min', 'median'])\n",
        "\n",
        "# agg(['max', 'min', 'median']) calculates the maximum, minimum, and median customer_lifetime_value (CLV) for each group.\n",
        "\n",
        "\n",
        "print(clv_stats_by_education_gender)"
      ]
    },
    {
      "cell_type": "markdown",
      "id": "1f9b6f3f",
      "metadata": {},
      "source": [
        "### Conclusions\n",
        "\n",
        "-Maximum Customer Lifetime Value:\n",
        "    The maximum CLV within each education level and gender may indicate the highest potential value a customer from that segment can bring. Higher values could indicate customers with greater engagement or loyalty.\n",
        "\n",
        "-Minimum Customer Lifetime Value:\n",
        "    The minimum CLV values can show the least engaged or low-value customers. This could help identify customer segments where there might be an opportunity to increase their lifetime value through targeted campaigns.\n",
        "\n",
        "-Median Customer Lifetime Value:\n",
        "    The median CLV provides a better representation of the central tendency compared to the average, especially if there are outliers. It can help understand the typical customer value for each education level and gender combination.\n",
        "\n",
        "These insights could be valuable for tailoring marketing strategies. For example, if certain education levels and genders tend to have higher CLV, efforts can be focused on attracting or retaining such customers. Additionally, understanding the spread between maximum and minimum values can highlight the variability in customer value within each group.\n"
      ]
    },
    {
      "cell_type": "markdown",
      "id": "b42999f9-311f-481e-ae63-40a5577072c5",
      "metadata": {
        "id": "b42999f9-311f-481e-ae63-40a5577072c5"
      },
      "source": [
        "## Bonus"
      ]
    },
    {
      "cell_type": "markdown",
      "id": "81ff02c5-6584-4f21-a358-b918697c6432",
      "metadata": {
        "id": "81ff02c5-6584-4f21-a358-b918697c6432"
      },
      "source": [
        "5. The marketing team wants to analyze the number of policies sold by state and month. Present the data in a table where the months are arranged as columns and the states are arranged as rows."
      ]
    },
    {
      "cell_type": "code",
      "execution_count": 35,
      "id": "0f05eb2a",
      "metadata": {},
      "outputs": [],
      "source": [
        "# To analyze the number of policies sold by state and month and present the data in a table where months are columns and states are rows, \n",
        "# we use a pivot table. It is necessary to extract the month from the date column."
      ]
    },
    {
      "cell_type": "code",
      "execution_count": 8,
      "id": "227a3cbd",
      "metadata": {},
      "outputs": [
        {
          "name": "stdout",
          "output_type": "stream",
          "text": [
            "0       2011-02-18\n",
            "1       2011-01-18\n",
            "2       2011-02-10\n",
            "3       2011-01-11\n",
            "4       2011-01-17\n",
            "           ...    \n",
            "10905   2011-01-19\n",
            "10906   2011-01-06\n",
            "10907   2011-02-06\n",
            "10908   2011-02-13\n",
            "10909   2011-01-08\n",
            "Name: Effective To Date, Length: 10910, dtype: datetime64[ns]\n"
          ]
        }
      ],
      "source": [
        "print(df['Effective To Date'])"
      ]
    },
    {
      "cell_type": "code",
      "execution_count": 9,
      "id": "124cd1b1",
      "metadata": {},
      "outputs": [
        {
          "name": "stdout",
          "output_type": "stream",
          "text": [
            "           Policy      \n",
            "month           1     2\n",
            "State                  \n",
            "Arizona      1008   929\n",
            "California   1918  1634\n",
            "Nevada        551   442\n",
            "Oregon       1565  1344\n",
            "Washington    463   425\n"
          ]
        }
      ],
      "source": [
        "# Ensure the date column is in datetime format \n",
        "\n",
        "df['Effective To Date'] = pd.to_datetime(df['Effective To Date'])  \n",
        "\n",
        "# Extract the month from the date column\n",
        "df['month'] = df['Effective To Date'].dt.month\n",
        "\n",
        "# Create a pivot table with states as rows and months as columns, counting the number of polic\n",
        "\n",
        "policies_by_state_month = df.pivot_table(\n",
        "    index='State', \n",
        "    columns='month', \n",
        "    values=['Policy'],  \n",
        "    aggfunc='count', \n",
        "    fill_value=0\n",
        ")\n",
        "\n",
        "# Display the pivot table\n",
        "print(policies_by_state_month)"
      ]
    },
    {
      "cell_type": "code",
      "execution_count": 10,
      "id": "6b563954",
      "metadata": {},
      "outputs": [
        {
          "name": "stdout",
          "output_type": "stream",
          "text": [
            "0       2011-02-18\n",
            "1       2011-01-18\n",
            "2       2011-02-10\n",
            "3       2011-01-11\n",
            "4       2011-01-17\n",
            "           ...    \n",
            "10905   2011-01-19\n",
            "10906   2011-01-06\n",
            "10907   2011-02-06\n",
            "10908   2011-02-13\n",
            "10909   2011-01-08\n",
            "Name: Effective To Date, Length: 10910, dtype: datetime64[ns]\n"
          ]
        }
      ],
      "source": [
        "print(df['Effective To Date'])"
      ]
    },
    {
      "cell_type": "markdown",
      "id": "666586c0",
      "metadata": {},
      "source": [
        "Explanation\n",
        "\n",
        "    Convert Date Column: The pd.to_datetime() function converts the date column to a datetime object, which is necessary for extracting the month.\n",
        "    Extract the Month: df['month'] = df['date'].dt.month extracts the month as a separate column.\n",
        "    Create Pivot Table: The pivot_table() function organizes the data with state as the rows and month as the columns, counting the number of occurrences of Policy.\n",
        "    Fill Missing Values: Using fill_value=0 ensures that any missing combinations are displayed as zeros.\n",
        "\n",
        "Result\n",
        "\n",
        "The output is a table where each row corresponds to a state, each column corresponds to a month (1-12), and the cells contain the count of policies sold for that state in each month. This format allows the marketing team to easily analyze seasonal trends or state-specific variations in policy sales."
      ]
    },
    {
      "cell_type": "markdown",
      "id": "b6aec097-c633-4017-a125-e77a97259cda",
      "metadata": {
        "id": "b6aec097-c633-4017-a125-e77a97259cda"
      },
      "source": [
        "6.  Display a new DataFrame that contains the number of policies sold by month, by state, for the top 3 states with the highest number of policies sold.\n",
        "\n",
        "*Hint:*\n",
        "- *To accomplish this, you will first need to group the data by state and month, then count the number of policies sold for each group. Afterwards, you will need to sort the data by the count of policies sold in descending order.*\n",
        "- *Next, you will select the top 3 states with the highest number of policies sold.*\n",
        "- *Finally, you will create a new DataFrame that contains the number of policies sold by month for each of the top 3 states.*"
      ]
    },
    {
      "cell_type": "code",
      "execution_count": 11,
      "id": "e7f55164",
      "metadata": {},
      "outputs": [
        {
          "name": "stdout",
          "output_type": "stream",
          "text": [
            "        State  month  policy_count\n",
            "0     Arizona      1          1008\n",
            "1     Arizona      2           929\n",
            "2  California      1          1918\n",
            "3  California      2          1634\n",
            "4      Nevada      1           551\n",
            "5      Nevada      2           442\n",
            "6      Oregon      1          1565\n",
            "7      Oregon      2          1344\n",
            "8  Washington      1           463\n",
            "9  Washington      2           425\n",
            "Index(['California', 'Oregon', 'Arizona'], dtype='object', name='State')\n",
            "        State  month  policy_count\n",
            "0     Arizona      1          1008\n",
            "1     Arizona      2           929\n",
            "2  California      1          1918\n",
            "3  California      2          1634\n",
            "6      Oregon      1          1565\n",
            "7      Oregon      2          1344\n"
          ]
        }
      ],
      "source": [
        "#To create a DataFrame showing the number of policies sold by month for the top 3 states with the highest total number of policies sold, follow the steps below:\n",
        "\n",
        "#    Group the data by state and month, and count the number of policies sold.\n",
        "#    Identify the top 3 states with the highest total number of policies sold.\n",
        "#    Filter the DataFrame to include only those top 3 states.\n",
        "#    Create a pivot table to display the number of policies sold by month for these top 3 states.\n",
        "\n",
        "\n",
        "\n",
        "# Group by state and month, and count the number of policies sold\n",
        "\n",
        "policies_by_state_month = df.groupby(['State', 'month']).size().reset_index(name='policy_count')\n",
        "print(policies_by_state_month)\n",
        "\n",
        "# Find the top 3 states with the highest total number of policies sold\n",
        "top_states = policies_by_state_month.groupby('State')['policy_count'].sum().nlargest(3).index\n",
        "print(top_states)\n",
        "\n",
        "# Filter the data to include only the top 3 states\n",
        "top_states_data = policies_by_state_month[policies_by_state_month['State'].isin(top_states)]\n",
        "print(top_states_data)\n",
        "\n"
      ]
    },
    {
      "cell_type": "code",
      "execution_count": 12,
      "id": "847fcd74",
      "metadata": {},
      "outputs": [
        {
          "name": "stdout",
          "output_type": "stream",
          "text": [
            "           policy_count      \n",
            "month                 1     2\n",
            "State                        \n",
            "Arizona            1008   929\n",
            "California         1918  1634\n",
            "Oregon             1565  1344\n"
          ]
        }
      ],
      "source": [
        "# Create a pivot table to display the data with months as columns and states as rows\n",
        "pivot_table_top_states = top_states_data.pivot_table(\n",
        "    index='State', \n",
        "    columns='month', \n",
        "    values=['policy_count'], \n",
        "    aggfunc='sum', \n",
        "    fill_value=0\n",
        ")\n",
        "\n",
        "# Display the pivot table\n",
        "print(pivot_table_top_states)"
      ]
    },
    {
      "cell_type": "markdown",
      "id": "682d1cf5",
      "metadata": {},
      "source": [
        "Explanation\n",
        "\n",
        "    Group and Count Policies: The groupby(['state', 'month']).size() counts the number of policies sold for each state and month combination.\n",
        "    Find Top 3 States: nlargest(3) identifies the top 3 states based on the total count of policies.\n",
        "    Filter for Top States: isin() selects rows corresponding to the top 3 states.\n",
        "    Create Pivot Table: The pivot_table() function displays the number of policies sold by month for each of the top 3 states.\n",
        "\n",
        "Result\n",
        "\n",
        "The output will be a table where each row represents one of the top 3 states, each column represents a month (1-12), and the cells contain the number of policies sold in that month for the respective state. This table helps visualize the monthly distribution of policy sales for the most active states.\n"
      ]
    },
    {
      "cell_type": "markdown",
      "id": "ba975b8a-a2cf-4fbf-9f59-ebc381767009",
      "metadata": {
        "id": "ba975b8a-a2cf-4fbf-9f59-ebc381767009"
      },
      "source": [
        "7. The marketing team wants to analyze the effect of different marketing channels on the customer response rate.\n",
        "\n",
        "Hint: You can use melt to unpivot the data and create a table that shows the customer response rate (those who responded \"Yes\") by marketing channel."
      ]
    },
    {
      "cell_type": "code",
      "execution_count": 39,
      "id": "8cb589b0",
      "metadata": {},
      "outputs": [],
      "source": [
        "#To analyze the effect of different marketing channels on the customer response rate, we can unpivot the data using melt() if the marketing channels are represented in separate columns. After unpivoting, we can calculate the response rate for each channel. Here’s how to do this:\n",
        "\n",
        "#    Melt the Data: Use melt() to unpivot the columns representing different marketing channels into a long-format DataFrame.\n",
        "#    Filter the Data: Focus on customers who responded \"Yes\" to calculate the response rate for each channel.\n",
        "#    Group and Calculate the Response Rate: Calculate the proportion of positive responses (\"Yes\") for each marketing channel."
      ]
    },
    {
      "cell_type": "code",
      "execution_count": 14,
      "id": "7fe168e6",
      "metadata": {},
      "outputs": [
        {
          "name": "stdout",
          "output_type": "stream",
          "text": [
            "marketing_channel\n",
            "Sales Channel    13.437214\n",
            "Name: channel_response, dtype: float64\n"
          ]
        }
      ],
      "source": [
        "\n",
        "\n",
        "melted_df = pd.melt(df, id_vars=['Response'], value_vars=['Sales Channel'], \n",
        "                    var_name='marketing_channel', value_name='channel_response')\n",
        "\n",
        "# Filter rows where response = yes\n",
        "response_yes = melted_df[melted_df['Response'] == 'Yes']\n",
        "\n",
        "# Calculate the response rate for each channel\n",
        "response_rate_by_channel = response_yes.groupby('marketing_channel')['channel_response'].count() / melted_df.groupby('marketing_channel')['channel_response'].count()\n",
        "\n",
        "# Convert to percentage\n",
        "response_rate_by_channel = response_rate_by_channel * 100\n",
        "\n",
        "# Show the table with the rate of responses\n",
        "print(response_rate_by_channel)"
      ]
    },
    {
      "cell_type": "markdown",
      "id": "7abdb90d",
      "metadata": {},
      "source": [
        "Explanation\n",
        "\n",
        "    Melt the Data:\n",
        "        pd.melt() is used to unpivot columns that represent different marketing channels (e.g., channel_1, channel_2, etc.). This long-format DataFrame has a new marketing_channel column containing the channel names, and channel_response containing the corresponding values.\n",
        "    Filter Responses:\n",
        "        Filter the unpivoted DataFrame for rows where response is \"Yes\" to focus on customers who positively responded to the marketing.\n",
        "    Calculate Response Rate:\n",
        "        Calculate the response rate by dividing the count of \"Yes\" responses by the total number of responses (both \"Yes\" and \"No\") for each marketing channel.\n",
        "    Convert to Percentage:\n",
        "        Multiply by 100 to express the response rates as percentages for easier interpretation.\n",
        "\n",
        "Result\n",
        "\n",
        "The output will be a table showing the response rates for each marketing channel. The marketing team can use this to determine which channels are more effective at generating positive customer responses. Higher response rates for a particular channel might indicate a more successful approach, suggesting where to focus future marketing efforts.\n"
      ]
    },
    {
      "cell_type": "code",
      "execution_count": null,
      "id": "449513f4-0459-46a0-a18d-9398d974c9ad",
      "metadata": {
        "id": "449513f4-0459-46a0-a18d-9398d974c9ad"
      },
      "outputs": [],
      "source": [
        "# your code goes here"
      ]
    }
  ],
  "metadata": {
    "colab": {
      "provenance": []
    },
    "kernelspec": {
      "display_name": "base",
      "language": "python",
      "name": "python3"
    },
    "language_info": {
      "codemirror_mode": {
        "name": "ipython",
        "version": 3
      },
      "file_extension": ".py",
      "mimetype": "text/x-python",
      "name": "python",
      "nbconvert_exporter": "python",
      "pygments_lexer": "ipython3",
      "version": "3.12.4"
    }
  },
  "nbformat": 4,
  "nbformat_minor": 5
}
