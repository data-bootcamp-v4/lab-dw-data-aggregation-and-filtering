{
  "cells": [
    {
      "cell_type": "markdown",
      "id": "31969215-2a90-4d8b-ac36-646a7ae13744",
      "metadata": {
        "id": "31969215-2a90-4d8b-ac36-646a7ae13744"
      },
      "source": [
        "# Lab | Data Aggregation and Filtering"
      ]
    },
    {
      "cell_type": "markdown",
      "id": "a8f08a52-bec0-439b-99cc-11d3809d8b5d",
      "metadata": {
        "id": "a8f08a52-bec0-439b-99cc-11d3809d8b5d"
      },
      "source": [
        "In this challenge, we will continue to work with customer data from an insurance company. We will use the dataset called marketing_customer_analysis.csv, which can be found at the following link:\n",
        "\n",
        "https://raw.githubusercontent.com/data-bootcamp-v4/data/main/marketing_customer_analysis.csv\n",
        "\n",
        "This dataset contains information such as customer demographics, policy details, vehicle information, and the customer's response to the last marketing campaign. Our goal is to explore and analyze this data by first performing data cleaning, formatting, and structuring."
      ]
    },
    {
      "cell_type": "markdown",
      "id": "9c98ddc5-b041-4c94-ada1-4dfee5c98e50",
      "metadata": {
        "id": "9c98ddc5-b041-4c94-ada1-4dfee5c98e50"
      },
      "source": [
        "1. Create a new DataFrame that only includes customers who have a total_claim_amount greater than $1,000 and have a response of \"Yes\" to the last marketing campaign."
      ]
    },
    {
      "cell_type": "markdown",
      "id": "b9be383e-5165-436e-80c8-57d4c757c8c3",
      "metadata": {
        "id": "b9be383e-5165-436e-80c8-57d4c757c8c3"
      },
      "source": [
        "2. Using the original Dataframe, analyze the average total_claim_amount by each policy type and gender for customers who have responded \"Yes\" to the last marketing campaign. Write your conclusions."
      ]
    },
    {
      "cell_type": "markdown",
      "id": "7050f4ac-53c5-4193-a3c0-8699b87196f0",
      "metadata": {
        "id": "7050f4ac-53c5-4193-a3c0-8699b87196f0"
      },
      "source": [
        "3. Analyze the total number of customers who have policies in each state, and then filter the results to only include states where there are more than 500 customers."
      ]
    },
    {
      "cell_type": "markdown",
      "id": "b60a4443-a1a7-4bbf-b78e-9ccdf9895e0d",
      "metadata": {
        "id": "b60a4443-a1a7-4bbf-b78e-9ccdf9895e0d"
      },
      "source": [
        "4. Find the maximum, minimum, and median customer lifetime value by education level and gender. Write your conclusions."
      ]
    },
    {
      "cell_type": "code",
      "execution_count": 2,
      "id": "5d5880ec",
      "metadata": {},
      "outputs": [
        {
          "name": "stdout",
          "output_type": "stream",
          "text": [
            "Index(['Unnamed: 0', 'Customer', 'State', 'Customer Lifetime Value',\n",
            "       'Response', 'Coverage', 'Education', 'Effective To Date',\n",
            "       'EmploymentStatus', 'Gender', 'Income', 'Location Code',\n",
            "       'Marital Status', 'Monthly Premium Auto', 'Months Since Last Claim',\n",
            "       'Months Since Policy Inception', 'Number of Open Complaints',\n",
            "       'Number of Policies', 'Policy Type', 'Policy', 'Renew Offer Type',\n",
            "       'Sales Channel', 'Total Claim Amount', 'Vehicle Class', 'Vehicle Size',\n",
            "       'Vehicle Type'],\n",
            "      dtype='object')\n"
          ]
        }
      ],
      "source": [
        "# Display the column names to verify if 'total_claim_amount' exists\n",
        "print(df.columns)\n"
      ]
    },
    {
      "cell_type": "code",
      "execution_count": 3,
      "id": "637f18ba",
      "metadata": {},
      "outputs": [
        {
          "data": {
            "application/vnd.microsoft.datawrangler.viewer.v0+json": {
              "columns": [
                {
                  "name": "index",
                  "rawType": "int64",
                  "type": "integer"
                },
                {
                  "name": "Unnamed: 0",
                  "rawType": "int64",
                  "type": "integer"
                },
                {
                  "name": "Customer",
                  "rawType": "object",
                  "type": "string"
                },
                {
                  "name": "State",
                  "rawType": "object",
                  "type": "string"
                },
                {
                  "name": "Customer Lifetime Value",
                  "rawType": "float64",
                  "type": "float"
                },
                {
                  "name": "Response",
                  "rawType": "object",
                  "type": "string"
                },
                {
                  "name": "Coverage",
                  "rawType": "object",
                  "type": "string"
                },
                {
                  "name": "Education",
                  "rawType": "object",
                  "type": "string"
                },
                {
                  "name": "Effective To Date",
                  "rawType": "object",
                  "type": "string"
                },
                {
                  "name": "EmploymentStatus",
                  "rawType": "object",
                  "type": "string"
                },
                {
                  "name": "Gender",
                  "rawType": "object",
                  "type": "string"
                },
                {
                  "name": "Income",
                  "rawType": "int64",
                  "type": "integer"
                },
                {
                  "name": "Location Code",
                  "rawType": "object",
                  "type": "string"
                },
                {
                  "name": "Marital Status",
                  "rawType": "object",
                  "type": "string"
                },
                {
                  "name": "Monthly Premium Auto",
                  "rawType": "int64",
                  "type": "integer"
                },
                {
                  "name": "Months Since Last Claim",
                  "rawType": "float64",
                  "type": "float"
                },
                {
                  "name": "Months Since Policy Inception",
                  "rawType": "int64",
                  "type": "integer"
                },
                {
                  "name": "Number of Open Complaints",
                  "rawType": "float64",
                  "type": "float"
                },
                {
                  "name": "Number of Policies",
                  "rawType": "int64",
                  "type": "integer"
                },
                {
                  "name": "Policy Type",
                  "rawType": "object",
                  "type": "string"
                },
                {
                  "name": "Policy",
                  "rawType": "object",
                  "type": "string"
                },
                {
                  "name": "Renew Offer Type",
                  "rawType": "object",
                  "type": "string"
                },
                {
                  "name": "Sales Channel",
                  "rawType": "object",
                  "type": "string"
                },
                {
                  "name": "Total Claim Amount",
                  "rawType": "float64",
                  "type": "float"
                },
                {
                  "name": "Vehicle Class",
                  "rawType": "object",
                  "type": "string"
                },
                {
                  "name": "Vehicle Size",
                  "rawType": "object",
                  "type": "string"
                },
                {
                  "name": "Vehicle Type",
                  "rawType": "object",
                  "type": "unknown"
                }
              ],
              "conversionMethod": "pd.DataFrame",
              "ref": "0a89668b-9dff-4269-82cb-d37fdbb1b854",
              "rows": [
                [
                  "189",
                  "189",
                  "OK31456",
                  "California",
                  "11009.13049",
                  "Yes",
                  "Premium",
                  "Bachelor",
                  "1/24/11",
                  "Employed",
                  "F",
                  "51643",
                  "Suburban",
                  "Single",
                  "283",
                  "16.0",
                  "43",
                  "0.0",
                  "1",
                  "Corporate Auto",
                  "Corporate L3",
                  "Offer2",
                  "Agent",
                  "1358.4",
                  "Luxury Car",
                  "Medsize",
                  null
                ],
                [
                  "236",
                  "236",
                  "YJ16163",
                  "Oregon",
                  "11009.13049",
                  "Yes",
                  "Premium",
                  "Bachelor",
                  "1/24/11",
                  "Employed",
                  "F",
                  "51643",
                  "Suburban",
                  "Single",
                  "283",
                  "16.0",
                  "43",
                  "0.0",
                  "1",
                  "Special Auto",
                  "Special L3",
                  "Offer2",
                  "Agent",
                  "1358.4",
                  "Luxury Car",
                  "Medsize",
                  "A"
                ],
                [
                  "419",
                  "419",
                  "GW43195",
                  "Oregon",
                  "25807.063",
                  "Yes",
                  "Extended",
                  "College",
                  "2/13/11",
                  "Employed",
                  "F",
                  "71210",
                  "Suburban",
                  "Married",
                  "214",
                  "8.0",
                  "89",
                  "1.0",
                  "2",
                  "Personal Auto",
                  "Personal L2",
                  "Offer1",
                  "Branch",
                  "1027.2",
                  "Luxury Car",
                  "Small",
                  "A"
                ],
                [
                  "442",
                  "442",
                  "IP94270",
                  "Arizona",
                  "13736.1325",
                  "Yes",
                  "Premium",
                  "Master",
                  "2/13/11",
                  "Disabled",
                  "F",
                  "16181",
                  "Suburban",
                  "Divorced",
                  "181",
                  "22.0",
                  "79",
                  "0.0",
                  "8",
                  "Personal Auto",
                  "Personal L2",
                  "Offer1",
                  "Web",
                  "1261.319869",
                  "SUV",
                  "Medsize",
                  "A"
                ],
                [
                  "587",
                  "587",
                  "FJ28407",
                  "California",
                  "5619.689084",
                  "Yes",
                  "Premium",
                  "High School or Below",
                  "1/26/11",
                  "Unemployed",
                  "M",
                  "0",
                  "Suburban",
                  "Married",
                  "153",
                  "25.0",
                  "5",
                  "0.0",
                  "1",
                  "Personal Auto",
                  "Personal L1",
                  "Offer2",
                  "Web",
                  "1027.000029",
                  "SUV",
                  "Medsize",
                  "A"
                ]
              ],
              "shape": {
                "columns": 26,
                "rows": 5
              }
            },
            "text/html": [
              "<div>\n",
              "<style scoped>\n",
              "    .dataframe tbody tr th:only-of-type {\n",
              "        vertical-align: middle;\n",
              "    }\n",
              "\n",
              "    .dataframe tbody tr th {\n",
              "        vertical-align: top;\n",
              "    }\n",
              "\n",
              "    .dataframe thead th {\n",
              "        text-align: right;\n",
              "    }\n",
              "</style>\n",
              "<table border=\"1\" class=\"dataframe\">\n",
              "  <thead>\n",
              "    <tr style=\"text-align: right;\">\n",
              "      <th></th>\n",
              "      <th>Unnamed: 0</th>\n",
              "      <th>Customer</th>\n",
              "      <th>State</th>\n",
              "      <th>Customer Lifetime Value</th>\n",
              "      <th>Response</th>\n",
              "      <th>Coverage</th>\n",
              "      <th>Education</th>\n",
              "      <th>Effective To Date</th>\n",
              "      <th>EmploymentStatus</th>\n",
              "      <th>Gender</th>\n",
              "      <th>...</th>\n",
              "      <th>Number of Open Complaints</th>\n",
              "      <th>Number of Policies</th>\n",
              "      <th>Policy Type</th>\n",
              "      <th>Policy</th>\n",
              "      <th>Renew Offer Type</th>\n",
              "      <th>Sales Channel</th>\n",
              "      <th>Total Claim Amount</th>\n",
              "      <th>Vehicle Class</th>\n",
              "      <th>Vehicle Size</th>\n",
              "      <th>Vehicle Type</th>\n",
              "    </tr>\n",
              "  </thead>\n",
              "  <tbody>\n",
              "    <tr>\n",
              "      <th>189</th>\n",
              "      <td>189</td>\n",
              "      <td>OK31456</td>\n",
              "      <td>California</td>\n",
              "      <td>11009.130490</td>\n",
              "      <td>Yes</td>\n",
              "      <td>Premium</td>\n",
              "      <td>Bachelor</td>\n",
              "      <td>1/24/11</td>\n",
              "      <td>Employed</td>\n",
              "      <td>F</td>\n",
              "      <td>...</td>\n",
              "      <td>0.0</td>\n",
              "      <td>1</td>\n",
              "      <td>Corporate Auto</td>\n",
              "      <td>Corporate L3</td>\n",
              "      <td>Offer2</td>\n",
              "      <td>Agent</td>\n",
              "      <td>1358.400000</td>\n",
              "      <td>Luxury Car</td>\n",
              "      <td>Medsize</td>\n",
              "      <td>NaN</td>\n",
              "    </tr>\n",
              "    <tr>\n",
              "      <th>236</th>\n",
              "      <td>236</td>\n",
              "      <td>YJ16163</td>\n",
              "      <td>Oregon</td>\n",
              "      <td>11009.130490</td>\n",
              "      <td>Yes</td>\n",
              "      <td>Premium</td>\n",
              "      <td>Bachelor</td>\n",
              "      <td>1/24/11</td>\n",
              "      <td>Employed</td>\n",
              "      <td>F</td>\n",
              "      <td>...</td>\n",
              "      <td>0.0</td>\n",
              "      <td>1</td>\n",
              "      <td>Special Auto</td>\n",
              "      <td>Special L3</td>\n",
              "      <td>Offer2</td>\n",
              "      <td>Agent</td>\n",
              "      <td>1358.400000</td>\n",
              "      <td>Luxury Car</td>\n",
              "      <td>Medsize</td>\n",
              "      <td>A</td>\n",
              "    </tr>\n",
              "    <tr>\n",
              "      <th>419</th>\n",
              "      <td>419</td>\n",
              "      <td>GW43195</td>\n",
              "      <td>Oregon</td>\n",
              "      <td>25807.063000</td>\n",
              "      <td>Yes</td>\n",
              "      <td>Extended</td>\n",
              "      <td>College</td>\n",
              "      <td>2/13/11</td>\n",
              "      <td>Employed</td>\n",
              "      <td>F</td>\n",
              "      <td>...</td>\n",
              "      <td>1.0</td>\n",
              "      <td>2</td>\n",
              "      <td>Personal Auto</td>\n",
              "      <td>Personal L2</td>\n",
              "      <td>Offer1</td>\n",
              "      <td>Branch</td>\n",
              "      <td>1027.200000</td>\n",
              "      <td>Luxury Car</td>\n",
              "      <td>Small</td>\n",
              "      <td>A</td>\n",
              "    </tr>\n",
              "    <tr>\n",
              "      <th>442</th>\n",
              "      <td>442</td>\n",
              "      <td>IP94270</td>\n",
              "      <td>Arizona</td>\n",
              "      <td>13736.132500</td>\n",
              "      <td>Yes</td>\n",
              "      <td>Premium</td>\n",
              "      <td>Master</td>\n",
              "      <td>2/13/11</td>\n",
              "      <td>Disabled</td>\n",
              "      <td>F</td>\n",
              "      <td>...</td>\n",
              "      <td>0.0</td>\n",
              "      <td>8</td>\n",
              "      <td>Personal Auto</td>\n",
              "      <td>Personal L2</td>\n",
              "      <td>Offer1</td>\n",
              "      <td>Web</td>\n",
              "      <td>1261.319869</td>\n",
              "      <td>SUV</td>\n",
              "      <td>Medsize</td>\n",
              "      <td>A</td>\n",
              "    </tr>\n",
              "    <tr>\n",
              "      <th>587</th>\n",
              "      <td>587</td>\n",
              "      <td>FJ28407</td>\n",
              "      <td>California</td>\n",
              "      <td>5619.689084</td>\n",
              "      <td>Yes</td>\n",
              "      <td>Premium</td>\n",
              "      <td>High School or Below</td>\n",
              "      <td>1/26/11</td>\n",
              "      <td>Unemployed</td>\n",
              "      <td>M</td>\n",
              "      <td>...</td>\n",
              "      <td>0.0</td>\n",
              "      <td>1</td>\n",
              "      <td>Personal Auto</td>\n",
              "      <td>Personal L1</td>\n",
              "      <td>Offer2</td>\n",
              "      <td>Web</td>\n",
              "      <td>1027.000029</td>\n",
              "      <td>SUV</td>\n",
              "      <td>Medsize</td>\n",
              "      <td>A</td>\n",
              "    </tr>\n",
              "  </tbody>\n",
              "</table>\n",
              "<p>5 rows × 26 columns</p>\n",
              "</div>"
            ],
            "text/plain": [
              "     Unnamed: 0 Customer       State  Customer Lifetime Value Response  \\\n",
              "189         189  OK31456  California             11009.130490      Yes   \n",
              "236         236  YJ16163      Oregon             11009.130490      Yes   \n",
              "419         419  GW43195      Oregon             25807.063000      Yes   \n",
              "442         442  IP94270     Arizona             13736.132500      Yes   \n",
              "587         587  FJ28407  California              5619.689084      Yes   \n",
              "\n",
              "     Coverage             Education Effective To Date EmploymentStatus Gender  \\\n",
              "189   Premium              Bachelor           1/24/11         Employed      F   \n",
              "236   Premium              Bachelor           1/24/11         Employed      F   \n",
              "419  Extended               College           2/13/11         Employed      F   \n",
              "442   Premium                Master           2/13/11         Disabled      F   \n",
              "587   Premium  High School or Below           1/26/11       Unemployed      M   \n",
              "\n",
              "     ...  Number of Open Complaints Number of Policies     Policy Type  \\\n",
              "189  ...                        0.0                  1  Corporate Auto   \n",
              "236  ...                        0.0                  1    Special Auto   \n",
              "419  ...                        1.0                  2   Personal Auto   \n",
              "442  ...                        0.0                  8   Personal Auto   \n",
              "587  ...                        0.0                  1   Personal Auto   \n",
              "\n",
              "           Policy  Renew Offer Type  Sales Channel  Total Claim Amount  \\\n",
              "189  Corporate L3            Offer2          Agent         1358.400000   \n",
              "236    Special L3            Offer2          Agent         1358.400000   \n",
              "419   Personal L2            Offer1         Branch         1027.200000   \n",
              "442   Personal L2            Offer1            Web         1261.319869   \n",
              "587   Personal L1            Offer2            Web         1027.000029   \n",
              "\n",
              "     Vehicle Class Vehicle Size Vehicle Type  \n",
              "189     Luxury Car      Medsize          NaN  \n",
              "236     Luxury Car      Medsize            A  \n",
              "419     Luxury Car        Small            A  \n",
              "442            SUV      Medsize            A  \n",
              "587            SUV      Medsize            A  \n",
              "\n",
              "[5 rows x 26 columns]"
            ]
          },
          "execution_count": 3,
          "metadata": {},
          "output_type": "execute_result"
        }
      ],
      "source": [
        "# Filter the DataFrame based on 'Total Claim Amount' and 'Response'\n",
        "df_filtered = df[(df['Total Claim Amount'] > 1000) & (df['Response'] == 'Yes')]\n",
        "\n",
        "# Display the new DataFrame\n",
        "df_filtered.head()\n"
      ]
    },
    {
      "cell_type": "code",
      "execution_count": 5,
      "id": "a0e162d8",
      "metadata": {},
      "outputs": [
        {
          "name": "stdout",
          "output_type": "stream",
          "text": [
            "Gender                    F            M\n",
            "Policy Type                             \n",
            "Corporate Auto  1138.400000  1171.150007\n",
            "Personal Auto   1214.853805  1137.861443\n",
            "Special Auto    1358.400000  1017.500015\n"
          ]
        }
      ],
      "source": [
        "# Create a pivot table for the average total claim amount by policy type and gender\n",
        "pivot_table = df_filtered.pivot_table(\n",
        "    values='Total Claim Amount', \n",
        "    index='Policy Type', \n",
        "    columns='Gender', \n",
        "    aggfunc='mean'\n",
        ")\n",
        "\n",
        "# Display the pivot table\n",
        "print(pivot_table)\n"
      ]
    },
    {
      "cell_type": "code",
      "execution_count": 6,
      "id": "f92a7742",
      "metadata": {},
      "outputs": [
        {
          "name": "stdout",
          "output_type": "stream",
          "text": [
            "State\n",
            "Arizona       1937\n",
            "California    3552\n",
            "Nevada         993\n",
            "Oregon        2909\n",
            "Washington     888\n",
            "Name: Customer, dtype: int64\n"
          ]
        }
      ],
      "source": [
        "# Group by state and count the number of customers\n",
        "state_counts = df.groupby('State')['Customer'].count()\n",
        "\n",
        "# Filter for states with more than 500 customers\n",
        "states_above_500 = state_counts[state_counts > 500]\n",
        "\n",
        "# Display the result\n",
        "print(states_above_500)\n"
      ]
    },
    {
      "cell_type": "code",
      "execution_count": 7,
      "id": "e5ab2d78",
      "metadata": {},
      "outputs": [
        {
          "name": "stdout",
          "output_type": "stream",
          "text": [
            "                                     max          min       median\n",
            "Education            Gender                                       \n",
            "Bachelor             F       73225.95652  1904.000852  5640.505303\n",
            "                     M       67907.27050  1898.007675  5548.031892\n",
            "College              F       61850.18803  1898.683686  5623.611187\n",
            "                     M       61134.68307  1918.119700  6005.847375\n",
            "Doctor               F       44856.11397  2395.570000  5332.462694\n",
            "                     M       32677.34284  2267.604038  5577.669457\n",
            "High School or Below F       55277.44589  2144.921535  6039.553187\n",
            "                     M       83325.38119  1940.981221  6286.731006\n",
            "Master               F       51016.06704  2417.777032  5729.855012\n",
            "                     M       50568.25912  2272.307310  5579.099207\n"
          ]
        }
      ],
      "source": [
        "# Group by education and gender, then calculate the max, min, and median of customer lifetime value\n",
        "lifetime_value_stats = df.groupby(['Education', 'Gender'])['Customer Lifetime Value'].agg(['max', 'min', 'median'])\n",
        "\n",
        "# Display the result\n",
        "print(lifetime_value_stats)\n"
      ]
    },
    {
      "cell_type": "markdown",
      "id": "b42999f9-311f-481e-ae63-40a5577072c5",
      "metadata": {
        "id": "b42999f9-311f-481e-ae63-40a5577072c5"
      },
      "source": [
        "## Bonus"
      ]
    },
    {
      "cell_type": "markdown",
      "id": "81ff02c5-6584-4f21-a358-b918697c6432",
      "metadata": {
        "id": "81ff02c5-6584-4f21-a358-b918697c6432"
      },
      "source": [
        "5. The marketing team wants to analyze the number of policies sold by state and month. Present the data in a table where the months are arranged as columns and the states are arranged as rows."
      ]
    },
    {
      "cell_type": "markdown",
      "id": "b6aec097-c633-4017-a125-e77a97259cda",
      "metadata": {
        "id": "b6aec097-c633-4017-a125-e77a97259cda"
      },
      "source": [
        "6.  Display a new DataFrame that contains the number of policies sold by month, by state, for the top 3 states with the highest number of policies sold.\n",
        "\n",
        "*Hint:*\n",
        "- *To accomplish this, you will first need to group the data by state and month, then count the number of policies sold for each group. Afterwards, you will need to sort the data by the count of policies sold in descending order.*\n",
        "- *Next, you will select the top 3 states with the highest number of policies sold.*\n",
        "- *Finally, you will create a new DataFrame that contains the number of policies sold by month for each of the top 3 states.*"
      ]
    },
    {
      "cell_type": "markdown",
      "id": "ba975b8a-a2cf-4fbf-9f59-ebc381767009",
      "metadata": {
        "id": "ba975b8a-a2cf-4fbf-9f59-ebc381767009"
      },
      "source": [
        "7. The marketing team wants to analyze the effect of different marketing channels on the customer response rate.\n",
        "\n",
        "Hint: You can use melt to unpivot the data and create a table that shows the customer response rate (those who responded \"Yes\") by marketing channel."
      ]
    },
    {
      "cell_type": "markdown",
      "id": "e4378d94-48fb-4850-a802-b1bc8f427b2d",
      "metadata": {
        "id": "e4378d94-48fb-4850-a802-b1bc8f427b2d"
      },
      "source": [
        "External Resources for Data Filtering: https://towardsdatascience.com/filtering-data-frames-in-pandas-b570b1f834b9"
      ]
    },
    {
      "cell_type": "code",
      "execution_count": null,
      "id": "449513f4-0459-46a0-a18d-9398d974c9ad",
      "metadata": {
        "id": "449513f4-0459-46a0-a18d-9398d974c9ad"
      },
      "outputs": [],
      "source": [
        "# your code goes here"
      ]
    }
  ],
  "metadata": {
    "colab": {
      "provenance": []
    },
    "kernelspec": {
      "display_name": "base",
      "language": "python",
      "name": "python3"
    },
    "language_info": {
      "codemirror_mode": {
        "name": "ipython",
        "version": 3
      },
      "file_extension": ".py",
      "mimetype": "text/x-python",
      "name": "python",
      "nbconvert_exporter": "python",
      "pygments_lexer": "ipython3",
      "version": "3.12.7"
    }
  },
  "nbformat": 4,
  "nbformat_minor": 5
}
