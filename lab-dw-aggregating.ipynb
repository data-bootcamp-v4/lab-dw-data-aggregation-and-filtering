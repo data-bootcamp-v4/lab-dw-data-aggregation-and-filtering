{
  "cells": [
    {
      "cell_type": "markdown",
      "id": "31969215-2a90-4d8b-ac36-646a7ae13744",
      "metadata": {
        "id": "31969215-2a90-4d8b-ac36-646a7ae13744"
      },
      "source": [
        "# Lab | Data Aggregation and Filtering"
      ]
    },
    {
      "cell_type": "markdown",
      "id": "a8f08a52-bec0-439b-99cc-11d3809d8b5d",
      "metadata": {
        "id": "a8f08a52-bec0-439b-99cc-11d3809d8b5d"
      },
      "source": [
        "In this challenge, we will continue to work with customer data from an insurance company. We will use the dataset called marketing_customer_analysis.csv, which can be found at the following link:\n",
        "\n",
        "https://raw.githubusercontent.com/data-bootcamp-v4/data/main/marketing_customer_analysis.csv\n",
        "\n",
        "This dataset contains information such as customer demographics, policy details, vehicle information, and the customer's response to the last marketing campaign. Our goal is to explore and analyze this data by first performing data cleaning, formatting, and structuring."
      ]
    },
    {
      "cell_type": "markdown",
      "id": "9c98ddc5-b041-4c94-ada1-4dfee5c98e50",
      "metadata": {
        "id": "9c98ddc5-b041-4c94-ada1-4dfee5c98e50"
      },
      "source": [
        "1. Create a new DataFrame that only includes customers who have a total_claim_amount greater than $1,000 and have a response of \"Yes\" to the last marketing campaign."
      ]
    },
    {
      "cell_type": "code",
      "execution_count": 6,
      "id": "04bc3944",
      "metadata": {},
      "outputs": [],
      "source": [
        "import pandas as pd\n",
        "\n",
        "# Load dataset\n",
        "url = \"https://raw.githubusercontent.com/data-bootcamp-v4/data/main/marketing_customer_analysis.csv\"\n",
        "marketing_df = pd.read_csv(url)\n",
        "\n",
        "\n",
        "\n"
      ]
    },
    {
      "cell_type": "code",
      "execution_count": 7,
      "id": "bec2abd2",
      "metadata": {},
      "outputs": [
        {
          "name": "stdout",
          "output_type": "stream",
          "text": [
            "Index(['Unnamed: 0', 'Customer', 'State', 'Customer Lifetime Value',\n",
            "       'Response', 'Coverage', 'Education', 'Effective To Date',\n",
            "       'EmploymentStatus', 'Gender', 'Income', 'Location Code',\n",
            "       'Marital Status', 'Monthly Premium Auto', 'Months Since Last Claim',\n",
            "       'Months Since Policy Inception', 'Number of Open Complaints',\n",
            "       'Number of Policies', 'Policy Type', 'Policy', 'Renew Offer Type',\n",
            "       'Sales Channel', 'Total Claim Amount', 'Vehicle Class', 'Vehicle Size',\n",
            "       'Vehicle Type'],\n",
            "      dtype='object')\n"
          ]
        }
      ],
      "source": [
        "print(marketing_df.columns)\n"
      ]
    },
    {
      "cell_type": "code",
      "execution_count": 8,
      "id": "7210b2a9",
      "metadata": {},
      "outputs": [],
      "source": [
        "marketing_df.columns = marketing_df.columns.str.lower().str.replace(\" \", \"_\")\n"
      ]
    },
    {
      "cell_type": "code",
      "execution_count": 9,
      "id": "78d44422",
      "metadata": {},
      "outputs": [
        {
          "name": "stdout",
          "output_type": "stream",
          "text": [
            "     unnamed:_0 customer       state  customer_lifetime_value response  \\\n",
            "189         189  OK31456  California             11009.130490      Yes   \n",
            "236         236  YJ16163      Oregon             11009.130490      Yes   \n",
            "419         419  GW43195      Oregon             25807.063000      Yes   \n",
            "442         442  IP94270     Arizona             13736.132500      Yes   \n",
            "587         587  FJ28407  California              5619.689084      Yes   \n",
            "\n",
            "     coverage             education effective_to_date employmentstatus gender  \\\n",
            "189   Premium              Bachelor           1/24/11         Employed      F   \n",
            "236   Premium              Bachelor           1/24/11         Employed      F   \n",
            "419  Extended               College           2/13/11         Employed      F   \n",
            "442   Premium                Master           2/13/11         Disabled      F   \n",
            "587   Premium  High School or Below           1/26/11       Unemployed      M   \n",
            "\n",
            "     ...  number_of_open_complaints number_of_policies     policy_type  \\\n",
            "189  ...                        0.0                  1  Corporate Auto   \n",
            "236  ...                        0.0                  1    Special Auto   \n",
            "419  ...                        1.0                  2   Personal Auto   \n",
            "442  ...                        0.0                  8   Personal Auto   \n",
            "587  ...                        0.0                  1   Personal Auto   \n",
            "\n",
            "           policy  renew_offer_type  sales_channel  total_claim_amount  \\\n",
            "189  Corporate L3            Offer2          Agent         1358.400000   \n",
            "236    Special L3            Offer2          Agent         1358.400000   \n",
            "419   Personal L2            Offer1         Branch         1027.200000   \n",
            "442   Personal L2            Offer1            Web         1261.319869   \n",
            "587   Personal L1            Offer2            Web         1027.000029   \n",
            "\n",
            "     vehicle_class vehicle_size vehicle_type  \n",
            "189     Luxury Car      Medsize          NaN  \n",
            "236     Luxury Car      Medsize            A  \n",
            "419     Luxury Car        Small            A  \n",
            "442            SUV      Medsize            A  \n",
            "587            SUV      Medsize            A  \n",
            "\n",
            "[5 rows x 26 columns]\n"
          ]
        }
      ],
      "source": [
        "filtered_df = marketing_df[(marketing_df[\"total_claim_amount\"] > 1000) & (marketing_df[\"response\"] == \"Yes\")]\n",
        "print(filtered_df.head())  # Check the first few rows\n"
      ]
    },
    {
      "cell_type": "markdown",
      "id": "b9be383e-5165-436e-80c8-57d4c757c8c3",
      "metadata": {
        "id": "b9be383e-5165-436e-80c8-57d4c757c8c3"
      },
      "source": [
        "2. Using the original Dataframe, analyze the average total_claim_amount by each policy type and gender for customers who have responded \"Yes\" to the last marketing campaign. Write your conclusions."
      ]
    },
    {
      "cell_type": "code",
      "execution_count": 11,
      "id": "0a86db65",
      "metadata": {},
      "outputs": [
        {
          "name": "stdout",
          "output_type": "stream",
          "text": [
            "gender               F       M\n",
            "policy_type                   \n",
            "Corporate Auto  397.80  462.22\n",
            "Personal Auto   413.24  459.92\n",
            "Special Auto    458.14  420.36\n"
          ]
        }
      ],
      "source": [
        "clv_pivot = marketing_df.pivot_table(\n",
        "    index=\"policy_type\",\n",
        "    columns=\"gender\",\n",
        "    values=\"total_claim_amount\",\n",
        "    aggfunc=\"mean\"\n",
        ").round(2)\n",
        "\n",
        "print(clv_pivot)\n",
        "\n"
      ]
    },
    {
      "cell_type": "markdown",
      "id": "7050f4ac-53c5-4193-a3c0-8699b87196f0",
      "metadata": {
        "id": "7050f4ac-53c5-4193-a3c0-8699b87196f0"
      },
      "source": [
        "3. Analyze the total number of customers who have policies in each state, and then filter the results to only include states where there are more than 500 customers."
      ]
    },
    {
      "cell_type": "code",
      "execution_count": null,
      "metadata": {},
      "outputs": [
        {
          "name": "stdout",
          "output_type": "stream",
          "text": [
            "state\n",
            "California    3552\n",
            "Oregon        2909\n",
            "Arizona       1937\n",
            "Nevada         993\n",
            "Washington     888\n",
            "Name: count, dtype: int64\n"
          ]
        }
      ],
      "source": [
        "# Count the number of customers per state\n",
        "state_counts = marketing_df[\"state\"].value_counts()\n",
        "\n",
        "# Filter states with more than 500 customers\n",
        "filtered_states = state_counts[state_counts > 500]\n",
        "\n",
        "\n",
        "print(filtered_states)\n"
      ]
    },
    {
      "cell_type": "markdown",
      "id": "b60a4443-a1a7-4bbf-b78e-9ccdf9895e0d",
      "metadata": {
        "id": "b60a4443-a1a7-4bbf-b78e-9ccdf9895e0d"
      },
      "source": [
        "4. Find the maximum, minimum, and median customer lifetime value by education level and gender. Write your conclusions.\n",
        "\n"
      ]
    },
    {
      "cell_type": "code",
      "execution_count": null,
      "id": "9297018b",
      "metadata": {},
      "outputs": [
        {
          "name": "stdout",
          "output_type": "stream",
          "text": [
            "                           max                min            median         \n",
            "gender                       F         M        F        M        F        M\n",
            "education                                                                   \n",
            "Bachelor              73225.96  67907.27  1904.00  1898.01  5640.51  5548.03\n",
            "College               61850.19  61134.68  1898.68  1918.12  5623.61  6005.85\n",
            "Doctor                44856.11  32677.34  2395.57  2267.60  5332.46  5577.67\n",
            "High School or Below  55277.45  83325.38  2144.92  1940.98  6039.55  6286.73\n",
            "Master                51016.07  50568.26  2417.78  2272.31  5729.86  5579.10\n"
          ]
        }
      ],
      "source": [
        "# Calculate max, min, and median Customer Lifetime Value (CLV) by education level and gender\n",
        "clv_stats = marketing_df.pivot_table(\n",
        "    index=\"education\",\n",
        "    columns=\"gender\",\n",
        "    values=\"customer_lifetime_value\",\n",
        "    aggfunc=[\"max\", \"min\", \"median\"]\n",
        ").round(2)\n",
        "\n",
        "\n",
        "print(clv_stats)"
      ]
    },
    {
      "cell_type": "code",
      "execution_count": 14,
      "id": "6f807a88",
      "metadata": {},
      "outputs": [
        {
          "data": {
            "image/png": "[encoded data removed]",
            "text/plain": [
              "<Figure size 1000x600 with 1 Axes>"
            ]
          },
          "metadata": {},
          "output_type": "display_data"
        }
      ],
      "source": [
        "import matplotlib.pyplot as plt\n",
        "import numpy as np\n",
        "\n",
        "# Define data\n",
        "education_levels = [\"Bachelor\", \"College\", \"Doctor\", \"High School or Below\", \"Master\"]\n",
        "median_female = [5640.51, 5623.61, 5332.46, 6039.55, 5729.86]\n",
        "median_male = [5548.03, 6005.85, 5577.67, 6286.73, 5579.10]\n",
        "\n",
        "# Set positions for bars\n",
        "x = np.arange(len(education_levels))\n",
        "bar_width = 0.35\n",
        "\n",
        "# Create figure and axis\n",
        "fig, ax = plt.subplots(figsize=(10, 6))\n",
        "\n",
        "# Plot bars\n",
        "ax.bar(x - bar_width/2, median_female, bar_width, label=\"Female\", color=\"skyblue\")\n",
        "ax.bar(x + bar_width/2, median_male, bar_width, label=\"Male\", color=\"orange\")\n",
        "\n",
        "# Labels and title\n",
        "ax.set_xlabel(\"Education Level\")\n",
        "ax.set_ylabel(\"Median Customer Lifetime Value\")\n",
        "ax.set_title(\"Median CLV by Education Level and Gender\")\n",
        "ax.set_xticks(x)\n",
        "ax.set_xticklabels(education_levels, rotation=45)\n",
        "ax.legend()\n",
        "\n",
        "# Show the chart\n",
        "plt.show()\n"
      ]
    },
    {
      "cell_type": "code",
      "execution_count": null,
      "id": "8d9475e5",
      "metadata": {},
      "outputs": [],
      "source": [
        "#  INSIGHTS FROM DF:\n",
        "# High School or Below customers have the highest median CLV, suggesting strong engagement.\n",
        "# Doctorate holders have the lowest median CLV, indicating lower spending.\n",
        "# Males generally have higher max CLV, but median values are balanced across genders.\n",
        "# College graduates (M) have a notably higher median CLV than females, suggesting differences in purchasing behavior.\n",
        "\n",
        "\n",
        "\n"
      ]
    },
    {
      "cell_type": "markdown",
      "id": "5246ed56",
      "metadata": {},
      "source": [
        "# Lab | Data Aggregation and Filtering"
      ]
    },
    {
      "cell_type": "markdown",
      "id": "b31d695d",
      "metadata": {},
      "source": [
        "In this challenge, we will continue to work with customer data from an insurance company. We will use the dataset called marketing_customer_analysis.csv, which can be found at the following link:\n",
        "\n",
        "https://raw.githubusercontent.com/data-bootcamp-v4/data/main/marketing_customer_analysis.csv\n",
        "\n",
        "This dataset contains information such as customer demographics, policy details, vehicle information, and the customer's response to the last marketing campaign. Our goal is to explore and analyze this data by first performing data cleaning, formatting, and structuring."
      ]
    },
    {
      "cell_type": "markdown",
      "id": "92f2323f",
      "metadata": {},
      "source": [
        "1. Create a new DataFrame that only includes customers who have a total_claim_amount greater than $1,000 and have a response of \"Yes\" to the last marketing campaign."
      ]
    },
    {
      "cell_type": "markdown",
      "id": "0fe7db43",
      "metadata": {},
      "source": [
        "2. Using the original Dataframe, analyze the average total_claim_amount by each policy type and gender for customers who have responded \"Yes\" to the last marketing campaign. Write your conclusions."
      ]
    },
    {
      "cell_type": "markdown",
      "id": "acab3fe4",
      "metadata": {},
      "source": [
        "3. Analyze the total number of customers who have policies in each state, and then filter the results to only include states where there are more than 500 customers."
      ]
    },
    {
      "cell_type": "markdown",
      "id": "12ee8efc",
      "metadata": {},
      "source": [
        "4. Find the maximum, minimum, and median customer lifetime value by education level and gender. Write your conclusions.\n",
        "\n"
      ]
    },
    {
      "cell_type": "markdown",
      "id": "2c579fc0",
      "metadata": {},
      "source": [
        "## Bonus"
      ]
    },
    {
      "cell_type": "markdown",
      "id": "11df9025",
      "metadata": {},
      "source": [
        "5. The marketing team wants to analyze the number of policies sold by state and month. Present the data in a table where the months are arranged as columns and the states are arranged as rows."
      ]
    },
    {
      "cell_type": "markdown",
      "id": "73defc07",
      "metadata": {},
      "source": [
        "6.  Display a new DataFrame that contains the number of policies sold by month, by state, for the top 3 states with the highest number of policies sold.\n",
        "\n",
        "*Hint:*\n",
        "- *To accomplish this, you will first need to group the data by state and month, then count the number of policies sold for each group. Afterwards, you will need to sort the data by the count of policies sold in descending order.*\n",
        "- *Next, you will select the top 3 states with the highest number of policies sold.*\n",
        "- *Finally, you will create a new DataFrame that contains the number of policies sold by month for each of the top 3 states.*"
      ]
    },
    {
      "cell_type": "markdown",
      "id": "2b7b0c45",
      "metadata": {},
      "source": [
        "7. The marketing team wants to analyze the effect of different marketing channels on the customer response rate.\n",
        "\n",
        "Hint: You can use melt to unpivot the data and create a table that shows the customer response rate (those who responded \"Yes\") by marketing channel."
      ]
    },
    {
      "cell_type": "markdown",
      "id": "953ee8a7",
      "metadata": {},
      "source": [
        "External Resources for Data Filtering: https://towardsdatascience.com/filtering-data-frames-in-pandas-b570b1f834b9"
      ]
    },
    {
      "cell_type": "code",
      "execution_count": null,
      "id": "f57c6f0e",
      "metadata": {},
      "outputs": [],
      "source": [
        "# your code goes here"
      ]
    },
    {
      "cell_type": "markdown",
      "id": "b42999f9-311f-481e-ae63-40a5577072c5",
      "metadata": {
        "id": "b42999f9-311f-481e-ae63-40a5577072c5"
      },
      "source": [
        "## Bonus"
      ]
    },
    {
      "cell_type": "markdown",
      "id": "81ff02c5-6584-4f21-a358-b918697c6432",
      "metadata": {
        "id": "81ff02c5-6584-4f21-a358-b918697c6432"
      },
      "source": [
        "5. The marketing team wants to analyze the number of policies sold by state and month. Present the data in a table where the months are arranged as columns and the states are arranged as rows."
      ]
    },
    {
      "cell_type": "markdown",
      "id": "b6aec097-c633-4017-a125-e77a97259cda",
      "metadata": {
        "id": "b6aec097-c633-4017-a125-e77a97259cda"
      },
      "source": [
        "6.  Display a new DataFrame that contains the number of policies sold by month, by state, for the top 3 states with the highest number of policies sold.\n",
        "\n",
        "*Hint:*\n",
        "- *To accomplish this, you will first need to group the data by state and month, then count the number of policies sold for each group. Afterwards, you will need to sort the data by the count of policies sold in descending order.*\n",
        "- *Next, you will select the top 3 states with the highest number of policies sold.*\n",
        "- *Finally, you will create a new DataFrame that contains the number of policies sold by month for each of the top 3 states.*"
      ]
    },
    {
      "cell_type": "markdown",
      "id": "ba975b8a-a2cf-4fbf-9f59-ebc381767009",
      "metadata": {
        "id": "ba975b8a-a2cf-4fbf-9f59-ebc381767009"
      },
      "source": [
        "7. The marketing team wants to analyze the effect of different marketing channels on the customer response rate.\n",
        "\n",
        "Hint: You can use melt to unpivot the data and create a table that shows the customer response rate (those who responded \"Yes\") by marketing channel."
      ]
    },
    {
      "cell_type": "markdown",
      "id": "e4378d94-48fb-4850-a802-b1bc8f427b2d",
      "metadata": {
        "id": "e4378d94-48fb-4850-a802-b1bc8f427b2d"
      },
      "source": [
        "External Resources for Data Filtering: https://towardsdatascience.com/filtering-data-frames-in-pandas-b570b1f834b9"
      ]
    },
    {
      "cell_type": "code",
      "execution_count": null,
      "id": "449513f4-0459-46a0-a18d-9398d974c9ad",
      "metadata": {
        "id": "449513f4-0459-46a0-a18d-9398d974c9ad"
      },
      "outputs": [],
      "source": [
        "# your code goes here"
      ]
    }
  ],
  "metadata": {
    "colab": {
      "provenance": []
    },
    "kernelspec": {
      "display_name": "base",
      "language": "python",
      "name": "python3"
    },
    "language_info": {
      "codemirror_mode": {
        "name": "ipython",
        "version": 3
      },
      "file_extension": ".py",
      "mimetype": "text/x-python",
      "name": "python",
      "nbconvert_exporter": "python",
      "pygments_lexer": "ipython3",
      "version": "3.12.7"
    }
  },
  "nbformat": 4,
  "nbformat_minor": 5
}
