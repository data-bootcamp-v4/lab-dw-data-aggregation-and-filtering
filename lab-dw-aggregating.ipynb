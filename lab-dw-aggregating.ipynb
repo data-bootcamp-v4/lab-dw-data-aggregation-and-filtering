{
  "cells": [
    {
      "cell_type": "markdown",
      "id": "31969215-2a90-4d8b-ac36-646a7ae13744",
      "metadata": {
        "id": "31969215-2a90-4d8b-ac36-646a7ae13744"
      },
      "source": [
        "# Lab | Data Aggregation and Filtering"
      ]
    },
    {
      "cell_type": "markdown",
      "id": "a8f08a52-bec0-439b-99cc-11d3809d8b5d",
      "metadata": {
        "id": "a8f08a52-bec0-439b-99cc-11d3809d8b5d"
      },
      "source": [
        "In this challenge, we will continue to work with customer data from an insurance company. We will use the dataset called marketing_customer_analysis.csv, which can be found at the following link:\n",
        "\n",
        "https://raw.githubusercontent.com/data-bootcamp-v4/data/main/marketing_customer_analysis.csv\n",
        "\n",
        "This dataset contains information such as customer demographics, policy details, vehicle information, and the customer's response to the last marketing campaign. Our goal is to explore and analyze this data by first performing data cleaning, formatting, and structuring."
      ]
    },
    {
      "cell_type": "markdown",
      "id": "9c98ddc5-b041-4c94-ada1-4dfee5c98e50",
      "metadata": {
        "id": "9c98ddc5-b041-4c94-ada1-4dfee5c98e50"
      },
      "source": [
        "1. Create a new DataFrame that only includes customers who have a total_claim_amount greater than $1,000 and have a response of \"Yes\" to the last marketing campaign."
      ]
    },
    {
      "cell_type": "markdown",
      "id": "b9be383e-5165-436e-80c8-57d4c757c8c3",
      "metadata": {
        "id": "b9be383e-5165-436e-80c8-57d4c757c8c3"
      },
      "source": [
        "2. Using the original Dataframe, analyze the average total_claim_amount by each policy type and gender for customers who have responded \"Yes\" to the last marketing campaign. Write your conclusions."
      ]
    },
    {
      "cell_type": "markdown",
      "id": "7050f4ac-53c5-4193-a3c0-8699b87196f0",
      "metadata": {
        "id": "7050f4ac-53c5-4193-a3c0-8699b87196f0"
      },
      "source": [
        "3. Analyze the total number of customers who have policies in each state, and then filter the results to only include states where there are more than 500 customers."
      ]
    },
    {
      "cell_type": "markdown",
      "id": "b60a4443-a1a7-4bbf-b78e-9ccdf9895e0d",
      "metadata": {
        "id": "b60a4443-a1a7-4bbf-b78e-9ccdf9895e0d"
      },
      "source": [
        "4. Find the maximum, minimum, and median customer lifetime value by education level and gender. Write your conclusions."
      ]
    },
    {
      "cell_type": "code",
      "execution_count": null,
      "id": "3e691ff7",
      "metadata": {},
      "outputs": [],
      "source": [
        "import pandas as pd\n",
        "\n",
        "# Cargar el dataset\n",
        "url = 'https://raw.githubusercontent.com/data-bootcamp-v4/data/main/marketing_customer_analysis.csv'\n",
        "df = pd.read_csv(url)\n",
        "\n",
        "# 1. Crear un DataFrame que solo incluya clientes con un total_claim_amount mayor a $1,000 y respuesta \"Yes\"\n",
        "filtered_df = df[(df['Total Claim Amount'] > 1000) & (df['Response'] == 'Yes')]\n",
        "\n",
        "# Mostrar las primeras filas del DataFrame filtrado\n",
        "print(\"Clientes con Total Claim Amount > $1,000 y respuesta 'Yes':\")\n",
        "print(filtered_df.head())\n",
        "\n",
        "# 2. Analizar el promedio de total_claim_amount por tipo de póliza y género para clientes que respondieron \"Yes\"\n",
        "# Filtrar el DataFrame para incluir solo clientes que respondieron \"Yes\"\n",
        "yes_responders_df = df[df['Response'] == 'Yes']\n",
        "\n",
        "# Crear una tabla pivote que muestra el promedio de total_claim_amount por Policy Type y Gender\n",
        "pivot_avg_claim_by_policy_gender = pd.pivot_table(yes_responders_df, \n",
        "                                                  values='Total Claim Amount', \n",
        "                                                  index='Policy Type', \n",
        "                                                  columns='Gender', \n",
        "                                                  aggfunc='mean').round(2)\n",
        "\n",
        "print(\"\\nPromedio de Total Claim Amount por tipo de póliza y género:\")\n",
        "print(pivot_avg_claim_by_policy_gender)\n",
        "\n",
        "# 3. Analizar el número total de clientes por estado y filtrar solo los estados con más de 500 clientes\n",
        "# Contar el número de clientes por estado\n",
        "state_counts = df['ST'].value_counts()\n",
        "\n",
        "# Filtrar estados con más de 500 clientes\n",
        "states_over_500 = state_counts[state_counts > 500]\n",
        "\n",
        "print(\"\\nNúmero total de clientes por estado (más de 500 clientes):\")\n",
        "print(states_over_500)\n",
        "\n",
        "# 4. Encontrar el máximo, mínimo y mediano valor de Customer Lifetime Value por nivel educativo y género\n",
        "# Agrupar por nivel educativo y género y calcular las estadísticas\n",
        "clv_stats = df.groupby(['Education', 'Gender'])['Customer Lifetime Value'].agg(['max', 'min', 'median'])\n",
        "\n",
        "print(\"\\nEstadísticas de Customer Lifetime Value por nivel educativo y género:\")\n",
        "print(clv_stats)"
      ]
    },
    {
      "cell_type": "markdown",
      "id": "b42999f9-311f-481e-ae63-40a5577072c5",
      "metadata": {
        "id": "b42999f9-311f-481e-ae63-40a5577072c5"
      },
      "source": [
        "## Bonus"
      ]
    },
    {
      "cell_type": "markdown",
      "id": "81ff02c5-6584-4f21-a358-b918697c6432",
      "metadata": {
        "id": "81ff02c5-6584-4f21-a358-b918697c6432"
      },
      "source": [
        "5. The marketing team wants to analyze the number of policies sold by state and month. Present the data in a table where the months are arranged as columns and the states are arranged as rows."
      ]
    },
    {
      "cell_type": "markdown",
      "id": "b6aec097-c633-4017-a125-e77a97259cda",
      "metadata": {
        "id": "b6aec097-c633-4017-a125-e77a97259cda"
      },
      "source": [
        "6.  Display a new DataFrame that contains the number of policies sold by month, by state, for the top 3 states with the highest number of policies sold.\n",
        "\n",
        "*Hint:*\n",
        "- *To accomplish this, you will first need to group the data by state and month, then count the number of policies sold for each group. Afterwards, you will need to sort the data by the count of policies sold in descending order.*\n",
        "- *Next, you will select the top 3 states with the highest number of policies sold.*\n",
        "- *Finally, you will create a new DataFrame that contains the number of policies sold by month for each of the top 3 states.*"
      ]
    },
    {
      "cell_type": "markdown",
      "id": "ba975b8a-a2cf-4fbf-9f59-ebc381767009",
      "metadata": {
        "id": "ba975b8a-a2cf-4fbf-9f59-ebc381767009"
      },
      "source": [
        "7. The marketing team wants to analyze the effect of different marketing channels on the customer response rate.\n",
        "\n",
        "Hint: You can use melt to unpivot the data and create a table that shows the customer response rate (those who responded \"Yes\") by marketing channel."
      ]
    },
    {
      "cell_type": "markdown",
      "id": "e4378d94-48fb-4850-a802-b1bc8f427b2d",
      "metadata": {
        "id": "e4378d94-48fb-4850-a802-b1bc8f427b2d"
      },
      "source": [
        "External Resources for Data Filtering: https://towardsdatascience.com/filtering-data-frames-in-pandas-b570b1f834b9"
      ]
    },
    {
      "cell_type": "code",
      "execution_count": null,
      "id": "449513f4-0459-46a0-a18d-9398d974c9ad",
      "metadata": {
        "id": "449513f4-0459-46a0-a18d-9398d974c9ad"
      },
      "outputs": [],
      "source": [
        "import pandas as pd\n",
        "\n",
        "# Cargar el dataset\n",
        "url = 'https://raw.githubusercontent.com/data-bootcamp-v4/data/main/marketing_customer_analysis.csv'\n",
        "df = pd.read_csv(url)\n",
        "\n",
        "# Asegúrate de que la columna 'Date' esté en formato de fecha para extraer el mes\n",
        "df['Date'] = pd.to_datetime(df['Date'], errors='coerce')\n",
        "df['Month'] = df['Date'].dt.to_period('M')\n",
        "\n",
        "# 5. Número de pólizas vendidas por estado y mes\n",
        "# Contar el número de pólizas vendidas por estado y mes\n",
        "policy_count_by_state_month = df.groupby(['ST', 'Month']).size().unstack(fill_value=0)\n",
        "\n",
        "print(\"Número de pólizas vendidas por estado y mes (meses como columnas y estados como filas):\")\n",
        "print(policy_count_by_state_month)\n",
        "\n",
        "# 6. Número de pólizas vendidas por mes para los 3 estados con mayor número de pólizas vendidas\n",
        "# Contar el número total de pólizas por estado\n",
        "total_policies_by_state = df.groupby('ST').size()\n",
        "\n",
        "# Obtener los 3 estados con más pólizas vendidas\n",
        "top_states = total_policies_by_state.nlargest(3).index\n",
        "\n",
        "# Filtrar el DataFrame para incluir solo los 3 estados principales\n",
        "top_states_df = df[df['ST'].isin(top_states)]\n",
        "\n",
        "# Contar el número de pólizas vendidas por estado y mes para los 3 estados principales\n",
        "top_states_policy_count = top_states_df.groupby(['ST', 'Month']).size().unstack(fill_value=0)\n",
        "\n",
        "print(\"\\nNúmero de pólizas vendidas por mes para los 3 estados con más pólizas vendidas:\")\n",
        "print(top_states_policy_count)\n",
        "\n",
        "# 7. Efecto de los diferentes canales de marketing en la tasa de respuesta del cliente\n",
        "# Crear una tabla que muestra la tasa de respuesta por canal de marketing\n",
        "response_rate_by_channel = df.groupby('Sales Channel')['Response'].apply(lambda x: (x == 'Yes').sum() / x.count()).reset_index()\n",
        "\n",
        "# Renombrar columnas para mayor claridad\n",
        "response_rate_by_channel.columns = ['Sales Channel', 'Response Rate']\n",
        "\n",
        "print(\"\\nTasa de respuesta por canal de marketing:\")\n",
        "print(response_rate_by_channel)"
      ]
    }
  ],
  "metadata": {
    "colab": {
      "provenance": []
    },
    "kernelspec": {
      "display_name": "Python 3 (ipykernel)",
      "language": "python",
      "name": "python3"
    },
    "language_info": {
      "codemirror_mode": {
        "name": "ipython",
        "version": 3
      },
      "file_extension": ".py",
      "mimetype": "text/x-python",
      "name": "python",
      "nbconvert_exporter": "python",
      "pygments_lexer": "ipython3",
      "version": "3.9.13"
    }
  },
  "nbformat": 4,
  "nbformat_minor": 5
}
