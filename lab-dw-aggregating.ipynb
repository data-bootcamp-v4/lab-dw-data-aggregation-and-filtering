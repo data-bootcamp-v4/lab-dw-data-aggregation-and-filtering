{
  "cells": [
    {
      "cell_type": "markdown",
      "id": "31969215-2a90-4d8b-ac36-646a7ae13744",
      "metadata": {
        "id": "31969215-2a90-4d8b-ac36-646a7ae13744"
      },
      "source": [
        "# Lab | Data Aggregation and Filtering"
      ]
    },
    {
      "cell_type": "markdown",
      "id": "a8f08a52-bec0-439b-99cc-11d3809d8b5d",
      "metadata": {
        "id": "a8f08a52-bec0-439b-99cc-11d3809d8b5d"
      },
      "source": [
        "In this challenge, we will continue to work with customer data from an insurance company. We will use the dataset called marketing_customer_analysis.csv, which can be found at the following link:\n",
        "\n",
        "https://raw.githubusercontent.com/data-bootcamp-v4/data/main/marketing_customer_analysis.csv\n",
        "\n",
        "This dataset contains information such as customer demographics, policy details, vehicle information, and the customer's response to the last marketing campaign. Our goal is to explore and analyze this data by first performing data cleaning, formatting, and structuring."
      ]
    },
    {
      "cell_type": "markdown",
      "id": "9c98ddc5-b041-4c94-ada1-4dfee5c98e50",
      "metadata": {
        "id": "9c98ddc5-b041-4c94-ada1-4dfee5c98e50"
      },
      "source": [
        "1. Create a new DataFrame that only includes customers who have a total_claim_amount greater than $1,000 and have a response of \"Yes\" to the last marketing campaign."
      ]
    },
    {
      "cell_type": "markdown",
      "id": "b9be383e-5165-436e-80c8-57d4c757c8c3",
      "metadata": {
        "id": "b9be383e-5165-436e-80c8-57d4c757c8c3"
      },
      "source": [
        "2. Using the original Dataframe, analyze the average total_claim_amount by each policy type and gender for customers who have responded \"Yes\" to the last marketing campaign. Write your conclusions."
      ]
    },
    {
      "cell_type": "markdown",
      "id": "7050f4ac-53c5-4193-a3c0-8699b87196f0",
      "metadata": {
        "id": "7050f4ac-53c5-4193-a3c0-8699b87196f0"
      },
      "source": [
        "3. Analyze the total number of customers who have policies in each state, and then filter the results to only include states where there are more than 500 customers."
      ]
    },
    {
      "cell_type": "markdown",
      "id": "b60a4443-a1a7-4bbf-b78e-9ccdf9895e0d",
      "metadata": {
        "id": "b60a4443-a1a7-4bbf-b78e-9ccdf9895e0d"
      },
      "source": [
        "4. Find the maximum, minimum, and median customer lifetime value by education level and gender. Write your conclusions."
      ]
    },
    {
      "cell_type": "markdown",
      "id": "b42999f9-311f-481e-ae63-40a5577072c5",
      "metadata": {
        "id": "b42999f9-311f-481e-ae63-40a5577072c5"
      },
      "source": [
        "## Bonus"
      ]
    },
    {
      "cell_type": "markdown",
      "id": "81ff02c5-6584-4f21-a358-b918697c6432",
      "metadata": {
        "id": "81ff02c5-6584-4f21-a358-b918697c6432"
      },
      "source": [
        "5. The marketing team wants to analyze the number of policies sold by state and month. Present the data in a table where the months are arranged as columns and the states are arranged as rows."
      ]
    },
    {
      "cell_type": "markdown",
      "id": "b6aec097-c633-4017-a125-e77a97259cda",
      "metadata": {
        "id": "b6aec097-c633-4017-a125-e77a97259cda"
      },
      "source": [
        "6.  Display a new DataFrame that contains the number of policies sold by month, by state, for the top 3 states with the highest number of policies sold.\n",
        "\n",
        "*Hint:*\n",
        "- *To accomplish this, you will first need to group the data by state and month, then count the number of policies sold for each group. Afterwards, you will need to sort the data by the count of policies sold in descending order.*\n",
        "- *Next, you will select the top 3 states with the highest number of policies sold.*\n",
        "- *Finally, you will create a new DataFrame that contains the number of policies sold by month for each of the top 3 states.*"
      ]
    },
    {
      "cell_type": "markdown",
      "id": "ba975b8a-a2cf-4fbf-9f59-ebc381767009",
      "metadata": {
        "id": "ba975b8a-a2cf-4fbf-9f59-ebc381767009"
      },
      "source": [
        "7. The marketing team wants to analyze the effect of different marketing channels on the customer response rate.\n",
        "\n",
        "Hint: You can use melt to unpivot the data and create a table that shows the customer response rate (those who responded \"Yes\") by marketing channel."
      ]
    },
    {
      "cell_type": "markdown",
      "id": "e4378d94-48fb-4850-a802-b1bc8f427b2d",
      "metadata": {
        "id": "e4378d94-48fb-4850-a802-b1bc8f427b2d"
      },
      "source": [
        "External Resources for Data Filtering: https://towardsdatascience.com/filtering-data-frames-in-pandas-b570b1f834b9"
      ]
    },
    {
      "cell_type": "code",
      "execution_count": 1,
      "id": "449513f4-0459-46a0-a18d-9398d974c9ad",
      "metadata": {
        "id": "449513f4-0459-46a0-a18d-9398d974c9ad"
      },
      "outputs": [
        {
          "name": "stdout",
          "output_type": "stream",
          "text": [
            "Vista previa del dataframe limpio:\n",
            "  customer       state  customer_lifetime_value response  coverage education  \\\n",
            "0  DK49336     Arizona              4809.216960       No     Basic   College   \n",
            "1  KX64629  California              2228.525238       No     Basic   College   \n",
            "2  LZ68649  Washington             14947.917300       No     Basic  Bachelor   \n",
            "3  XL78013      Oregon             22332.439460      Yes  Extended   College   \n",
            "4  QA50777      Oregon              9025.067525       No   Premium  Bachelor   \n",
            "\n",
            "  effective_to_date employmentstatus gender  income  ...  \\\n",
            "0           2/18/11         Employed      M   48029  ...   \n",
            "1           1/18/11       Unemployed      F       0  ...   \n",
            "2           2/10/11         Employed      M   22139  ...   \n",
            "3           1/11/11         Employed      M   49078  ...   \n",
            "4           1/17/11    Medical Leave      F   23675  ...   \n",
            "\n",
            "  number_of_open_complaints number_of_policies     policy_type        policy  \\\n",
            "0                       0.0                  9  Corporate Auto  Corporate L3   \n",
            "1                       0.0                  1   Personal Auto   Personal L3   \n",
            "2                       0.0                  2   Personal Auto   Personal L3   \n",
            "3                       0.0                  2  Corporate Auto  Corporate L3   \n",
            "4                       NaN                  7   Personal Auto   Personal L2   \n",
            "\n",
            "   renew_offer_type  sales_channel  total_claim_amount  vehicle_class  \\\n",
            "0            Offer3          Agent          292.800000  Four-Door Car   \n",
            "1            Offer4    Call Center          744.924331  Four-Door Car   \n",
            "2            Offer3    Call Center          480.000000            SUV   \n",
            "3            Offer2         Branch          484.013411  Four-Door Car   \n",
            "4            Offer1         Branch          707.925645  Four-Door Car   \n",
            "\n",
            "  vehicle_size vehicle_type  \n",
            "0      Medsize          NaN  \n",
            "1      Medsize          NaN  \n",
            "2      Medsize            A  \n",
            "3      Medsize            A  \n",
            "4      Medsize          NaN  \n",
            "\n",
            "[5 rows x 25 columns]\n",
            "Creando dataframe con clientes de alto valor y que respondieron 'Sí':\n",
            "  customer       state  customer_lifetime_value response  coverage  \\\n",
            "0  OK31456  California             11009.130490      Yes   Premium   \n",
            "1  YJ16163      Oregon             11009.130490      Yes   Premium   \n",
            "2  GW43195      Oregon             25807.063000      Yes  Extended   \n",
            "3  IP94270     Arizona             13736.132500      Yes   Premium   \n",
            "4  FJ28407  California              5619.689084      Yes   Premium   \n",
            "\n",
            "              education effective_to_date employmentstatus gender  income  \\\n",
            "0              Bachelor           1/24/11         Employed      F   51643   \n",
            "1              Bachelor           1/24/11         Employed      F   51643   \n",
            "2               College           2/13/11         Employed      F   71210   \n",
            "3                Master           2/13/11         Disabled      F   16181   \n",
            "4  High School or Below           1/26/11       Unemployed      M       0   \n",
            "\n",
            "   ... number_of_open_complaints number_of_policies     policy_type  \\\n",
            "0  ...                       0.0                  1  Corporate Auto   \n",
            "1  ...                       0.0                  1    Special Auto   \n",
            "2  ...                       1.0                  2   Personal Auto   \n",
            "3  ...                       0.0                  8   Personal Auto   \n",
            "4  ...                       0.0                  1   Personal Auto   \n",
            "\n",
            "         policy  renew_offer_type  sales_channel  total_claim_amount  \\\n",
            "0  Corporate L3            Offer2          Agent         1358.400000   \n",
            "1    Special L3            Offer2          Agent         1358.400000   \n",
            "2   Personal L2            Offer1         Branch         1027.200000   \n",
            "3   Personal L2            Offer1            Web         1261.319869   \n",
            "4   Personal L1            Offer2            Web         1027.000029   \n",
            "\n",
            "  vehicle_class vehicle_size vehicle_type  \n",
            "0    Luxury Car      Medsize          NaN  \n",
            "1    Luxury Car      Medsize            A  \n",
            "2    Luxury Car        Small            A  \n",
            "3           SUV      Medsize            A  \n",
            "4           SUV      Medsize            A  \n",
            "\n",
            "[5 rows x 25 columns]\n",
            "Análisis de la media de reclamaciones para clientes que respondieron 'Sí':\n",
            "policy_type     gender\n",
            "Corporate Auto  F         433.74\n",
            "                M         407.83\n",
            "Personal Auto   F         452.76\n",
            "                M         457.01\n",
            "Special Auto    F         453.28\n",
            "                M         429.53\n",
            "Name: total_claim_amount, dtype: float64\n",
            "Análisis de número de clientes por estado (mostrando estados con más de 500 clientes):\n",
            "state\n",
            "California    3548\n",
            "Oregon        2897\n",
            "Arizona       1934\n",
            "Nevada         992\n",
            "Washington     888\n",
            "Name: count, dtype: int64\n",
            "Análisis de Customer Lifetime Value (CLV) por educación y género:\n",
            "                                     max          min       median\n",
            "education            gender                                       \n",
            "Bachelor             F       73225.95652  1904.000852  5657.419293\n",
            "                     M       67907.27050  1898.007675  5550.697291\n",
            "College              F       61850.18803  1898.683686  5616.536672\n",
            "                     M       61134.68307  1918.119700  5989.773931\n",
            "Doctor               F       44856.11397  2395.570000  5332.462694\n",
            "                     M       32677.34284  2267.604038  5610.127843\n",
            "High School or Below F       55277.44589  2144.921535  6054.182016\n",
            "                     M       83325.38119  1940.981221  6275.155361\n",
            "Master               F       51016.06704  2417.777032  5714.165863\n",
            "                     M       50568.25912  2272.307310  5580.960642\n"
          ]
        }
      ],
      "source": [
        "# Importo pandas\n",
        "import pandas as pd\n",
        "\n",
        "# Cargo el archivo CSV en un dataframe\n",
        "df = pd.read_csv(\"https://raw.githubusercontent.com/data-bootcamp-v4/data/main/marketing_customer_analysis.csv\")\n",
        "\n",
        "# Antes de empezar, voy a hacer una limpieza básica.\n",
        "# Mi compañera hizo varias cosas, yo voy a simplificarlo:\n",
        "# 1. Poner nombres de columnas en minúscula y con guiones bajos.\n",
        "df.columns = df.columns.str.lower().str.replace(' ', '_')\n",
        "\n",
        "# 2. Quitar la columna 'unnamed:_0' que no sirve para nada.\n",
        "df = df.drop(columns=['unnamed:_0'])\n",
        "\n",
        "# 3. Elimino filas duplicadas para no contar datos repetidos.\n",
        "df = df.drop_duplicates()\n",
        "\n",
        "# 4. Para los valores nulos, en vez de rellenar, voy a eliminar las filas que tengan\n",
        "#    nulos en columnas clave como 'response' o 'total_claim_amount', porque si\n",
        "#    esos datos faltan, no me sirven para los análisis que me piden.\n",
        "df.dropna(subset=['response', 'total_claim_amount'], inplace=True)\n",
        "\n",
        "# Muestro una vista previa para ver que todo está en orden\n",
        "print(\"Vista previa del dataframe limpio:\")\n",
        "print(df.head())\n",
        "\n",
        "\n",
        "# 1. Crear un nuevo DataFrame con clientes específicos.\n",
        "print(\"Creando dataframe con clientes de alto valor y que respondieron 'Sí':\")\n",
        "\n",
        "# El objetivo es filtrar clientes con dos condiciones:\n",
        "# - Que el 'total_claim_amount' sea mayor a 1000.\n",
        "# - Que la columna 'response' sea 'Yes'.\n",
        "# En lugar de hacer el filtro directamente como mi compañera, voy a usar el método .query().\n",
        "# Me parece que deja el código más limpio y es fácil de leer, como si escribiera la frase.\n",
        "df_filtrado = df.query(\"total_claim_amount > 1000 and response == 'Yes'\")\n",
        "\n",
        "# Reseteo el índice para que empiece desde 0.\n",
        "df_filtrado = df_filtrado.reset_index(drop=True)\n",
        "\n",
        "# Muestro las primeras filas del nuevo dataframe\n",
        "print(df_filtrado.head())\n",
        "\n",
        "\n",
        "# 2. Analizar la media de 'total_claim_amount' por tipo de póliza y género.\n",
        "print(\"Análisis de la media de reclamaciones para clientes que respondieron 'Sí':\")\n",
        "\n",
        "# Primero, filtro los clientes que respondieron 'Yes'.\n",
        "clientes_yes = df[df['response'] == 'Yes']\n",
        "\n",
        "# Ahora, agrupo por 'policy_type' y 'gender' y calculo la media de 'total_claim_amount'.\n",
        "# Lo guardo en una variable para poder mostrarlo.\n",
        "media_reclamaciones = clientes_yes.groupby(['policy_type', 'gender'])['total_claim_amount'].mean()\n",
        "\n",
        "# Lo muestro redondeado para que sea más fácil de leer.\n",
        "print(media_reclamaciones.round(2))\n",
        "\n",
        "# Mi conclusión:\n",
        "# En general, las mujeres tienden a tener reclamaciones medias ligeramente más altas,\n",
        "# excepto en 'Personal Auto', donde los hombres reclaman un poco más.\n",
        "# El tipo de póliza 'Personal Auto' es donde se ven las reclamaciones más altas para ambos géneros.\n",
        "\n",
        "\n",
        "# 3. Analizar el número de clientes por estado y filtrar.\n",
        "print(\"Análisis de número de clientes por estado (mostrando estados con más de 500 clientes):\")\n",
        "\n",
        "# Cuento cuántas veces aparece cada estado. `value_counts()` es perfecto para esto.\n",
        "conteo_estados = df['state'].value_counts()\n",
        "\n",
        "# Ahora filtro para quedarme solo con los estados que tienen más de 500 clientes.\n",
        "# Mi compañera lo hizo en dos pasos, yo lo puedo encadenar en uno solo para que sea diferente.\n",
        "estados_top = conteo_estados[conteo_estados > 500]\n",
        "\n",
        "# Muestro el resultado.\n",
        "print(estados_top)\n",
        "\n",
        "\n",
        "# 4. Encontrar máximo, mínimo y mediana de CLV por educación y género.\n",
        "print(\"Análisis de Customer Lifetime Value (CLV) por educación y género:\")\n",
        "\n",
        "# Agrupo por 'education' y 'gender'.\n",
        "# Para calcular varias métricas a la vez (max, min, median), uso el método .agg().\n",
        "# Es la forma más directa y clara de hacerlo.\n",
        "clv_analisis = df.groupby(['education', 'gender'])['customer_lifetime_value'].agg(['max', 'min', 'median'])\n",
        "\n",
        "# Muestro la tabla resultante.\n",
        "print(clv_analisis)\n",
        "\n",
        "# Mi conclusión:\n",
        "# - El valor máximo de CLV varía mucho. Los hombres con 'High School or Below' tienen el CLV más alto,\n",
        "#   lo cual es sorprendente y sugiere que el nivel educativo no se relaciona con un mayor valor del cliente.\n",
        "# - Los valores mínimos son bastante parecidos en todos los grupos, rondando los 2000.\n",
        "# - La mediana (que es menos sensible a valores extremos que la media) también es muy similar\n",
        "#   entre todos los grupos, lo que refuerza la idea de que la educación y el género\n",
        "#   no son factores determinantes para el CLV en esta muestra de clientes."
      ]
    }
  ],
  "metadata": {
    "colab": {
      "provenance": []
    },
    "kernelspec": {
      "display_name": "base",
      "language": "python",
      "name": "python3"
    },
    "language_info": {
      "codemirror_mode": {
        "name": "ipython",
        "version": 3
      },
      "file_extension": ".py",
      "mimetype": "text/x-python",
      "name": "python",
      "nbconvert_exporter": "python",
      "pygments_lexer": "ipython3",
      "version": "3.12.7"
    }
  },
  "nbformat": 4,
  "nbformat_minor": 5
}
