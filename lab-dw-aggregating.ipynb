{
 "cells": [
  {
   "cell_type": "markdown",
   "id": "31969215-2a90-4d8b-ac36-646a7ae13744",
   "metadata": {
    "id": "31969215-2a90-4d8b-ac36-646a7ae13744"
   },
   "source": [
    "# Lab | Data Aggregation and Filtering"
   ]
  },
  {
   "cell_type": "markdown",
   "id": "a8f08a52-bec0-439b-99cc-11d3809d8b5d",
   "metadata": {
    "id": "a8f08a52-bec0-439b-99cc-11d3809d8b5d"
   },
   "source": [
    "In this challenge, we will continue to work with customer data from an insurance company. We will use the dataset called marketing_customer_analysis.csv, which can be found at the following link:\n",
    "\n",
    "https://raw.githubusercontent.com/data-bootcamp-v4/data/main/marketing_customer_analysis.csv\n",
    "\n",
    "This dataset contains information such as customer demographics, policy details, vehicle information, and the customer's response to the last marketing campaign. Our goal is to explore and analyze this data by first performing data cleaning, formatting, and structuring."
   ]
  },
  {
   "cell_type": "markdown",
   "id": "9c98ddc5-b041-4c94-ada1-4dfee5c98e50",
   "metadata": {
    "id": "9c98ddc5-b041-4c94-ada1-4dfee5c98e50"
   },
   "source": [
    "1. Create a new DataFrame that only includes customers who have a total_claim_amount greater than $1,000 and have a response of \"Yes\" to the last marketing campaign."
   ]
  },
  {
   "cell_type": "markdown",
   "id": "b9be383e-5165-436e-80c8-57d4c757c8c3",
   "metadata": {
    "id": "b9be383e-5165-436e-80c8-57d4c757c8c3"
   },
   "source": [
    "2. Using the original Dataframe, analyze the average total_claim_amount by each policy type and gender for customers who have responded \"Yes\" to the last marketing campaign. Write your conclusions."
   ]
  },
  {
   "cell_type": "markdown",
   "id": "7050f4ac-53c5-4193-a3c0-8699b87196f0",
   "metadata": {
    "id": "7050f4ac-53c5-4193-a3c0-8699b87196f0"
   },
   "source": [
    "3. Analyze the total number of customers who have policies in each state, and then filter the results to only include states where there are more than 500 customers."
   ]
  },
  {
   "cell_type": "markdown",
   "id": "b60a4443-a1a7-4bbf-b78e-9ccdf9895e0d",
   "metadata": {
    "id": "b60a4443-a1a7-4bbf-b78e-9ccdf9895e0d"
   },
   "source": [
    "4. Find the maximum, minimum, and median customer lifetime value by education level and gender. Write your conclusions."
   ]
  },
  {
   "cell_type": "markdown",
   "id": "b42999f9-311f-481e-ae63-40a5577072c5",
   "metadata": {
    "id": "b42999f9-311f-481e-ae63-40a5577072c5"
   },
   "source": [
    "## Bonus"
   ]
  },
  {
   "cell_type": "markdown",
   "id": "81ff02c5-6584-4f21-a358-b918697c6432",
   "metadata": {
    "id": "81ff02c5-6584-4f21-a358-b918697c6432"
   },
   "source": [
    "5. The marketing team wants to analyze the number of policies sold by state and month. Present the data in a table where the months are arranged as columns and the states are arranged as rows."
   ]
  },
  {
   "cell_type": "markdown",
   "id": "b6aec097-c633-4017-a125-e77a97259cda",
   "metadata": {
    "id": "b6aec097-c633-4017-a125-e77a97259cda"
   },
   "source": [
    "6.  Display a new DataFrame that contains the number of policies sold by month, by state, for the top 3 states with the highest number of policies sold.\n",
    "\n",
    "*Hint:*\n",
    "- *To accomplish this, you will first need to group the data by state and month, then count the number of policies sold for each group. Afterwards, you will need to sort the data by the count of policies sold in descending order.*\n",
    "- *Next, you will select the top 3 states with the highest number of policies sold.*\n",
    "- *Finally, you will create a new DataFrame that contains the number of policies sold by month for each of the top 3 states.*"
   ]
  },
  {
   "cell_type": "markdown",
   "id": "ba975b8a-a2cf-4fbf-9f59-ebc381767009",
   "metadata": {
    "id": "ba975b8a-a2cf-4fbf-9f59-ebc381767009"
   },
   "source": [
    "7. The marketing team wants to analyze the effect of different marketing channels on the customer response rate.\n",
    "\n",
    "Hint: You can use melt to unpivot the data and create a table that shows the customer response rate (those who responded \"Yes\") by marketing channel."
   ]
  },
  {
   "cell_type": "markdown",
   "id": "e4378d94-48fb-4850-a802-b1bc8f427b2d",
   "metadata": {
    "id": "e4378d94-48fb-4850-a802-b1bc8f427b2d"
   },
   "source": [
    "External Resources for Data Filtering: https://towardsdatascience.com/filtering-data-frames-in-pandas-b570b1f834b9"
   ]
  },
  {
   "cell_type": "code",
   "execution_count": null,
   "id": "449513f4-0459-46a0-a18d-9398d974c9ad",
   "metadata": {
    "id": "449513f4-0459-46a0-a18d-9398d974c9ad"
   },
   "outputs": [],
   "source": [
    "#import panda & numpy\n",
    "import pandas as pd\n",
    "import numpy as np\n",
    "\n",
    "# Load customer datasets from an online source\n",
    "url1 = 'https://raw.githubusercontent.com/data-bootcamp-v4/data/main/marketing_customer_analysis.csv'\n",
    "df_cust = pd.read_csv(url1)"
   ]
  },
  {
   "cell_type": "code",
   "execution_count": null,
   "id": "540dff2d-5085-4fc0-8874-e8cc82d24e72",
   "metadata": {},
   "outputs": [],
   "source": [
    "df_cust.head(5)"
   ]
  },
  {
   "cell_type": "code",
   "execution_count": null,
   "id": "90d02594-c1c5-4572-bfe8-69a335a45011",
   "metadata": {},
   "outputs": [],
   "source": [
    "df_cust.info()"
   ]
  },
  {
   "cell_type": "code",
   "execution_count": null,
   "id": "072db4fb-5975-412d-b7e6-d11502c50ce6",
   "metadata": {},
   "outputs": [],
   "source": [
    "#1 create a new df from the original df keeping only customers with total_claim_amount greater than $1,000 and have a response of \"Yes\"\n",
    "df_cust_2 = df_cust[(df_cust[\"Total Claim Amount\"]>=1000) & (df_cust[\"Response\"]==\"Yes\")]\n",
    "df_cust_2[\"Total Claim Amount\"] = df_cust_2[\"Total Claim Amount\"].round(2) #rounding total claim amount to 2 decimals for better lisibility\n",
    "df_cust_2"
   ]
  },
  {
   "cell_type": "code",
   "execution_count": null,
   "id": "9e866421-e330-4887-a0af-10b2e3de9317",
   "metadata": {},
   "outputs": [],
   "source": [
    "df_cust.groupby(['Policy Type', 'Gender'])['Total Claim Amount'].mean()"
   ]
  },
  {
   "cell_type": "code",
   "execution_count": null,
   "id": "b95a73ed-1585-4e56-9be8-f8c14dbf22a5",
   "metadata": {},
   "outputs": [],
   "source": [
    "#2 analyze the average total_claim_amount by each policy type and gender for customers who have responded \"Yes\"\n",
    "df_cust_yes = df_cust[(df_cust[\"Response\"]==\"Yes\")]\n",
    "df_cust_yes.groupby(['Response','Policy Type', 'Gender']).agg({\"Total Claim Amount\" : [\"mean\",\"std\"]}).round(2).reset_index()\n",
    "# comments:\n",
    "# the mean spreads between lowest 408 for Male + corporate and highest 457 Male personnal  "
   ]
  },
  {
   "cell_type": "code",
   "execution_count": null,
   "id": "57d42520-08f5-4d23-a58c-b3880030c4d6",
   "metadata": {},
   "outputs": [],
   "source": [
    "#4 Find the maximum, minimum, and median customer lifetime value by education level and gender. Write your conclusions.\n",
    "df_cust.groupby (['Education','Gender']).agg({\"Customer Lifetime Value\" : [\"max\",\"min\",\"median\"]}).round(2).reset_index()"
   ]
  },
  {
   "cell_type": "code",
   "execution_count": null,
   "id": "242ebd81-c034-4244-b393-ebf007e31e12",
   "metadata": {},
   "outputs": [],
   "source": [
    "#3 Analyze the total number of customers who have policies in each state, and then filter on states where there are more than 500 customers."
   ]
  },
  {
   "cell_type": "code",
   "execution_count": 11,
   "id": "ea0ba96f-92b9-4145-b26a-c16eb5d1cc28",
   "metadata": {},
   "outputs": [
    {
     "data": {
      "text/html": [
       "<div>\n",
       "<style scoped>\n",
       "    .dataframe tbody tr th:only-of-type {\n",
       "        vertical-align: middle;\n",
       "    }\n",
       "\n",
       "    .dataframe tbody tr th {\n",
       "        vertical-align: top;\n",
       "    }\n",
       "\n",
       "    .dataframe thead th {\n",
       "        text-align: right;\n",
       "    }\n",
       "</style>\n",
       "<table border=\"1\" class=\"dataframe\">\n",
       "  <thead>\n",
       "    <tr style=\"text-align: right;\">\n",
       "      <th></th>\n",
       "      <th>Customer</th>\n",
       "    </tr>\n",
       "    <tr>\n",
       "      <th>State</th>\n",
       "      <th></th>\n",
       "    </tr>\n",
       "  </thead>\n",
       "  <tbody>\n",
       "    <tr>\n",
       "      <th>Arizona</th>\n",
       "      <td>1703</td>\n",
       "    </tr>\n",
       "    <tr>\n",
       "      <th>California</th>\n",
       "      <td>3150</td>\n",
       "    </tr>\n",
       "    <tr>\n",
       "      <th>Nevada</th>\n",
       "      <td>882</td>\n",
       "    </tr>\n",
       "    <tr>\n",
       "      <th>Oregon</th>\n",
       "      <td>2601</td>\n",
       "    </tr>\n",
       "    <tr>\n",
       "      <th>Washington</th>\n",
       "      <td>798</td>\n",
       "    </tr>\n",
       "  </tbody>\n",
       "</table>\n",
       "</div>"
      ],
      "text/plain": [
       "            Customer\n",
       "State               \n",
       "Arizona         1703\n",
       "California      3150\n",
       "Nevada           882\n",
       "Oregon          2601\n",
       "Washington       798"
      ]
     },
     "execution_count": 11,
     "metadata": {},
     "output_type": "execute_result"
    }
   ],
   "source": [
    "#3.1 create a new df containing only cutomers who have a policy in each state\n",
    "df_cust_all_states=df_cust[['Customer','State']].drop_duplicates()\n",
    "group_cust_state = df_cust_all_states.groupby('State').agg({'Customer': 'nunique'})\n",
    "group_cust_state"
   ]
  },
  {
   "cell_type": "code",
   "execution_count": 2,
   "id": "a31c609e-bf98-48e7-bcf9-8074c2e4d7db",
   "metadata": {},
   "outputs": [
    {
     "name": "stdout",
     "output_type": "stream",
     "text": [
      "<class 'pandas.core.frame.DataFrame'>\n",
      "RangeIndex: 10910 entries, 0 to 10909\n",
      "Data columns (total 26 columns):\n",
      " #   Column                         Non-Null Count  Dtype  \n",
      "---  ------                         --------------  -----  \n",
      " 0   Unnamed: 0                     10910 non-null  int64  \n",
      " 1   Customer                       10910 non-null  object \n",
      " 2   State                          10279 non-null  object \n",
      " 3   Customer Lifetime Value        10910 non-null  float64\n",
      " 4   Response                       10279 non-null  object \n",
      " 5   Coverage                       10910 non-null  object \n",
      " 6   Education                      10910 non-null  object \n",
      " 7   Effective To Date              10910 non-null  object \n",
      " 8   EmploymentStatus               10910 non-null  object \n",
      " 9   Gender                         10910 non-null  object \n",
      " 10  Income                         10910 non-null  int64  \n",
      " 11  Location Code                  10910 non-null  object \n",
      " 12  Marital Status                 10910 non-null  object \n",
      " 13  Monthly Premium Auto           10910 non-null  int64  \n",
      " 14  Months Since Last Claim        10277 non-null  float64\n",
      " 15  Months Since Policy Inception  10910 non-null  int64  \n",
      " 16  Number of Open Complaints      10277 non-null  float64\n",
      " 17  Number of Policies             10910 non-null  int64  \n",
      " 18  Policy Type                    10910 non-null  object \n",
      " 19  Policy                         10910 non-null  object \n",
      " 20  Renew Offer Type               10910 non-null  object \n",
      " 21  Sales Channel                  10910 non-null  object \n",
      " 22  Total Claim Amount             10910 non-null  float64\n",
      " 23  Vehicle Class                  10288 non-null  object \n",
      " 24  Vehicle Size                   10288 non-null  object \n",
      " 25  Vehicle Type                   5428 non-null   object \n",
      "dtypes: float64(4), int64(5), object(17)\n",
      "memory usage: 2.2+ MB\n"
     ]
    }
   ],
   "source": []
  }
 ],
 "metadata": {
  "colab": {
   "provenance": []
  },
  "kernelspec": {
   "display_name": "Python 3 (ipykernel)",
   "language": "python",
   "name": "python3"
  },
  "language_info": {
   "codemirror_mode": {
    "name": "ipython",
    "version": 3
   },
   "file_extension": ".py",
   "mimetype": "text/x-python",
   "name": "python",
   "nbconvert_exporter": "python",
   "pygments_lexer": "ipython3",
   "version": "3.12.4"
  }
 },
 "nbformat": 4,
 "nbformat_minor": 5
}
