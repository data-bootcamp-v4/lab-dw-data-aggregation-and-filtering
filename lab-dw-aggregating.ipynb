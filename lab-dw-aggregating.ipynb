{
 "cells": [
  {
   "cell_type": "markdown",
   "id": "31969215-2a90-4d8b-ac36-646a7ae13744",
   "metadata": {
    "id": "31969215-2a90-4d8b-ac36-646a7ae13744"
   },
   "source": [
    "# Lab | Data Aggregation and Filtering"
   ]
  },
  {
   "cell_type": "markdown",
   "id": "a8f08a52-bec0-439b-99cc-11d3809d8b5d",
   "metadata": {
    "id": "a8f08a52-bec0-439b-99cc-11d3809d8b5d"
   },
   "source": [
    "In this challenge, we will continue to work with customer data from an insurance company. We will use the dataset called marketing_customer_analysis.csv, which can be found at the following link:\n",
    "\n",
    "https://raw.githubusercontent.com/data-bootcamp-v4/data/main/marketing_customer_analysis.csv\n",
    "\n",
    "This dataset contains information such as customer demographics, policy details, vehicle information, and the customer's response to the last marketing campaign. Our goal is to explore and analyze this data by first performing data cleaning, formatting, and structuring."
   ]
  },
  {
   "cell_type": "markdown",
   "id": "9c98ddc5-b041-4c94-ada1-4dfee5c98e50",
   "metadata": {
    "id": "9c98ddc5-b041-4c94-ada1-4dfee5c98e50"
   },
   "source": [
    "1. Create a new DataFrame that only includes customers who have a total_claim_amount greater than $1,000 and have a response of \"Yes\" to the last marketing campaign."
   ]
  },
  {
   "cell_type": "code",
   "execution_count": 4,
   "id": "4ba892cd-ea4c-4869-b419-4837b75f6bd7",
   "metadata": {},
   "outputs": [],
   "source": [
    "import pandas as pd"
   ]
  },
  {
   "cell_type": "code",
   "execution_count": 5,
   "id": "93f0034a-0ac7-4bda-98fe-ac09cefab1e8",
   "metadata": {},
   "outputs": [],
   "source": [
    "# Load the dataset\n",
    "url = 'https://raw.githubusercontent.com/data-bootcamp-v4/data/main/marketing_customer_analysis.csv'\n",
    "df = pd.read_csv(url)\n"
   ]
  },
  {
   "cell_type": "code",
   "execution_count": 6,
   "id": "130dedfb-fb7b-4279-941b-ed30ec72b9cb",
   "metadata": {},
   "outputs": [
    {
     "name": "stdout",
     "output_type": "stream",
     "text": [
      "<class 'pandas.core.frame.DataFrame'>\n",
      "RangeIndex: 10910 entries, 0 to 10909\n",
      "Data columns (total 26 columns):\n",
      " #   Column                         Non-Null Count  Dtype  \n",
      "---  ------                         --------------  -----  \n",
      " 0   Unnamed: 0                     10910 non-null  int64  \n",
      " 1   Customer                       10910 non-null  object \n",
      " 2   State                          10279 non-null  object \n",
      " 3   Customer Lifetime Value        10910 non-null  float64\n",
      " 4   Response                       10279 non-null  object \n",
      " 5   Coverage                       10910 non-null  object \n",
      " 6   Education                      10910 non-null  object \n",
      " 7   Effective To Date              10910 non-null  object \n",
      " 8   EmploymentStatus               10910 non-null  object \n",
      " 9   Gender                         10910 non-null  object \n",
      " 10  Income                         10910 non-null  int64  \n",
      " 11  Location Code                  10910 non-null  object \n",
      " 12  Marital Status                 10910 non-null  object \n",
      " 13  Monthly Premium Auto           10910 non-null  int64  \n",
      " 14  Months Since Last Claim        10277 non-null  float64\n",
      " 15  Months Since Policy Inception  10910 non-null  int64  \n",
      " 16  Number of Open Complaints      10277 non-null  float64\n",
      " 17  Number of Policies             10910 non-null  int64  \n",
      " 18  Policy Type                    10910 non-null  object \n",
      " 19  Policy                         10910 non-null  object \n",
      " 20  Renew Offer Type               10910 non-null  object \n",
      " 21  Sales Channel                  10910 non-null  object \n",
      " 22  Total Claim Amount             10910 non-null  float64\n",
      " 23  Vehicle Class                  10288 non-null  object \n",
      " 24  Vehicle Size                   10288 non-null  object \n",
      " 25  Vehicle Type                   5428 non-null   object \n",
      "dtypes: float64(4), int64(5), object(17)\n",
      "memory usage: 2.2+ MB\n"
     ]
    }
   ],
   "source": [
    "# Display initial info\n",
    "df.info()"
   ]
  },
  {
   "cell_type": "code",
   "execution_count": null,
   "id": "74943b9d-f489-49da-b768-92987aa4c0b1",
   "metadata": {},
   "outputs": [],
   "source": []
  },
  {
   "cell_type": "code",
   "execution_count": null,
   "id": "9278ae57-6852-45cd-ad3e-01e880b87e7e",
   "metadata": {},
   "outputs": [],
   "source": []
  },
  {
   "cell_type": "markdown",
   "id": "b9be383e-5165-436e-80c8-57d4c757c8c3",
   "metadata": {
    "id": "b9be383e-5165-436e-80c8-57d4c757c8c3"
   },
   "source": [
    "2. Using the original Dataframe, analyze the average total_claim_amount by each policy type and gender for customers who have responded \"Yes\" to the last marketing campaign. Write your conclusions."
   ]
  },
  {
   "cell_type": "code",
   "execution_count": 8,
   "id": "4ecc898e-f9e9-4773-842d-bd7a63319fe7",
   "metadata": {},
   "outputs": [],
   "source": [
    "# Clean column names\n",
    "df.columns = df.columns.str.lower().str.replace(' ', '_')\n"
   ]
  },
  {
   "cell_type": "code",
   "execution_count": 9,
   "id": "659b37fa-c89e-42f2-b1b4-179b5a8a953b",
   "metadata": {},
   "outputs": [
    {
     "data": {
      "text/plain": [
       "unnamed:_0                          0\n",
       "customer                            0\n",
       "state                             631\n",
       "customer_lifetime_value             0\n",
       "response                          631\n",
       "coverage                            0\n",
       "education                           0\n",
       "effective_to_date                   0\n",
       "employmentstatus                    0\n",
       "gender                              0\n",
       "income                              0\n",
       "location_code                       0\n",
       "marital_status                      0\n",
       "monthly_premium_auto                0\n",
       "months_since_last_claim           633\n",
       "months_since_policy_inception       0\n",
       "number_of_open_complaints         633\n",
       "number_of_policies                  0\n",
       "policy_type                         0\n",
       "policy                              0\n",
       "renew_offer_type                    0\n",
       "sales_channel                       0\n",
       "total_claim_amount                  0\n",
       "vehicle_class                     622\n",
       "vehicle_size                      622\n",
       "vehicle_type                     5482\n",
       "dtype: int64"
      ]
     },
     "execution_count": 9,
     "metadata": {},
     "output_type": "execute_result"
    }
   ],
   "source": [
    "# Check for nulls\n",
    "df.isnull().sum()\n"
   ]
  },
  {
   "cell_type": "code",
   "execution_count": 10,
   "id": "4ab8cab0-4807-41f6-b0d7-8ae6fa93acfa",
   "metadata": {},
   "outputs": [],
   "source": [
    "# Optional: Fill or drop nulls depending on the analysis need\n",
    "df = df.dropna(subset=['total_claim_amount', 'response', 'policy', 'state', 'customer_lifetime_value', 'education', 'gender'])\n"
   ]
  },
  {
   "cell_type": "code",
   "execution_count": 11,
   "id": "93648176-6a6d-4107-b26f-3d2bde199307",
   "metadata": {},
   "outputs": [
    {
     "name": "stderr",
     "output_type": "stream",
     "text": [
      "/var/folders/n1/y8sspmsx4xd1t1d43rvf6yzc0000gn/T/ipykernel_16197/2066814417.py:2: UserWarning: Could not infer format, so each element will be parsed individually, falling back to `dateutil`. To ensure parsing is consistent and as-expected, please specify a format.\n",
      "  df['effective_to_date'] = pd.to_datetime(df['effective_to_date'])\n"
     ]
    }
   ],
   "source": [
    "# Convert month column to datetime if needed\n",
    "df['effective_to_date'] = pd.to_datetime(df['effective_to_date'])\n",
    "df['month'] = df['effective_to_date'].dt.month_name()"
   ]
  },
  {
   "cell_type": "code",
   "execution_count": null,
   "id": "07e186f4-65cb-4b41-80fe-1290ce0fc5d4",
   "metadata": {},
   "outputs": [],
   "source": []
  },
  {
   "cell_type": "markdown",
   "id": "7050f4ac-53c5-4193-a3c0-8699b87196f0",
   "metadata": {
    "id": "7050f4ac-53c5-4193-a3c0-8699b87196f0"
   },
   "source": [
    "3. Analyze the total number of customers who have policies in each state, and then filter the results to only include states where there are more than 500 customers."
   ]
  },
  {
   "cell_type": "code",
   "execution_count": 31,
   "id": "11a2a8ea-9a94-47b9-a624-00fc8bdbfdfd",
   "metadata": {},
   "outputs": [
    {
     "data": {
      "text/html": [
       "<div>\n",
       "<style scoped>\n",
       "    .dataframe tbody tr th:only-of-type {\n",
       "        vertical-align: middle;\n",
       "    }\n",
       "\n",
       "    .dataframe tbody tr th {\n",
       "        vertical-align: top;\n",
       "    }\n",
       "\n",
       "    .dataframe thead th {\n",
       "        text-align: right;\n",
       "    }\n",
       "</style>\n",
       "<table border=\"1\" class=\"dataframe\">\n",
       "  <thead>\n",
       "    <tr style=\"text-align: right;\">\n",
       "      <th></th>\n",
       "      <th>unnamed:_0</th>\n",
       "      <th>customer</th>\n",
       "      <th>state</th>\n",
       "      <th>customer_lifetime_value</th>\n",
       "      <th>response</th>\n",
       "      <th>coverage</th>\n",
       "      <th>education</th>\n",
       "      <th>effective_to_date</th>\n",
       "      <th>employmentstatus</th>\n",
       "      <th>gender</th>\n",
       "      <th>...</th>\n",
       "      <th>number_of_policies</th>\n",
       "      <th>policy_type</th>\n",
       "      <th>policy</th>\n",
       "      <th>renew_offer_type</th>\n",
       "      <th>sales_channel</th>\n",
       "      <th>total_claim_amount</th>\n",
       "      <th>vehicle_class</th>\n",
       "      <th>vehicle_size</th>\n",
       "      <th>vehicle_type</th>\n",
       "      <th>month</th>\n",
       "    </tr>\n",
       "  </thead>\n",
       "  <tbody>\n",
       "    <tr>\n",
       "      <th>189</th>\n",
       "      <td>189</td>\n",
       "      <td>OK31456</td>\n",
       "      <td>California</td>\n",
       "      <td>11009.130490</td>\n",
       "      <td>Yes</td>\n",
       "      <td>Premium</td>\n",
       "      <td>Bachelor</td>\n",
       "      <td>2011-01-24</td>\n",
       "      <td>Employed</td>\n",
       "      <td>F</td>\n",
       "      <td>...</td>\n",
       "      <td>1</td>\n",
       "      <td>Corporate Auto</td>\n",
       "      <td>Corporate L3</td>\n",
       "      <td>Offer2</td>\n",
       "      <td>Agent</td>\n",
       "      <td>1358.400000</td>\n",
       "      <td>Luxury Car</td>\n",
       "      <td>Medsize</td>\n",
       "      <td>NaN</td>\n",
       "      <td>January</td>\n",
       "    </tr>\n",
       "    <tr>\n",
       "      <th>236</th>\n",
       "      <td>236</td>\n",
       "      <td>YJ16163</td>\n",
       "      <td>Oregon</td>\n",
       "      <td>11009.130490</td>\n",
       "      <td>Yes</td>\n",
       "      <td>Premium</td>\n",
       "      <td>Bachelor</td>\n",
       "      <td>2011-01-24</td>\n",
       "      <td>Employed</td>\n",
       "      <td>F</td>\n",
       "      <td>...</td>\n",
       "      <td>1</td>\n",
       "      <td>Special Auto</td>\n",
       "      <td>Special L3</td>\n",
       "      <td>Offer2</td>\n",
       "      <td>Agent</td>\n",
       "      <td>1358.400000</td>\n",
       "      <td>Luxury Car</td>\n",
       "      <td>Medsize</td>\n",
       "      <td>A</td>\n",
       "      <td>January</td>\n",
       "    </tr>\n",
       "    <tr>\n",
       "      <th>419</th>\n",
       "      <td>419</td>\n",
       "      <td>GW43195</td>\n",
       "      <td>Oregon</td>\n",
       "      <td>25807.063000</td>\n",
       "      <td>Yes</td>\n",
       "      <td>Extended</td>\n",
       "      <td>College</td>\n",
       "      <td>2011-02-13</td>\n",
       "      <td>Employed</td>\n",
       "      <td>F</td>\n",
       "      <td>...</td>\n",
       "      <td>2</td>\n",
       "      <td>Personal Auto</td>\n",
       "      <td>Personal L2</td>\n",
       "      <td>Offer1</td>\n",
       "      <td>Branch</td>\n",
       "      <td>1027.200000</td>\n",
       "      <td>Luxury Car</td>\n",
       "      <td>Small</td>\n",
       "      <td>A</td>\n",
       "      <td>February</td>\n",
       "    </tr>\n",
       "    <tr>\n",
       "      <th>442</th>\n",
       "      <td>442</td>\n",
       "      <td>IP94270</td>\n",
       "      <td>Arizona</td>\n",
       "      <td>13736.132500</td>\n",
       "      <td>Yes</td>\n",
       "      <td>Premium</td>\n",
       "      <td>Master</td>\n",
       "      <td>2011-02-13</td>\n",
       "      <td>Disabled</td>\n",
       "      <td>F</td>\n",
       "      <td>...</td>\n",
       "      <td>8</td>\n",
       "      <td>Personal Auto</td>\n",
       "      <td>Personal L2</td>\n",
       "      <td>Offer1</td>\n",
       "      <td>Web</td>\n",
       "      <td>1261.319869</td>\n",
       "      <td>SUV</td>\n",
       "      <td>Medsize</td>\n",
       "      <td>A</td>\n",
       "      <td>February</td>\n",
       "    </tr>\n",
       "    <tr>\n",
       "      <th>587</th>\n",
       "      <td>587</td>\n",
       "      <td>FJ28407</td>\n",
       "      <td>California</td>\n",
       "      <td>5619.689084</td>\n",
       "      <td>Yes</td>\n",
       "      <td>Premium</td>\n",
       "      <td>High School or Below</td>\n",
       "      <td>2011-01-26</td>\n",
       "      <td>Unemployed</td>\n",
       "      <td>M</td>\n",
       "      <td>...</td>\n",
       "      <td>1</td>\n",
       "      <td>Personal Auto</td>\n",
       "      <td>Personal L1</td>\n",
       "      <td>Offer2</td>\n",
       "      <td>Web</td>\n",
       "      <td>1027.000029</td>\n",
       "      <td>SUV</td>\n",
       "      <td>Medsize</td>\n",
       "      <td>A</td>\n",
       "      <td>January</td>\n",
       "    </tr>\n",
       "  </tbody>\n",
       "</table>\n",
       "<p>5 rows × 27 columns</p>\n",
       "</div>"
      ],
      "text/plain": [
       "     unnamed:_0 customer       state  customer_lifetime_value response  \\\n",
       "189         189  OK31456  California             11009.130490      Yes   \n",
       "236         236  YJ16163      Oregon             11009.130490      Yes   \n",
       "419         419  GW43195      Oregon             25807.063000      Yes   \n",
       "442         442  IP94270     Arizona             13736.132500      Yes   \n",
       "587         587  FJ28407  California              5619.689084      Yes   \n",
       "\n",
       "     coverage             education effective_to_date employmentstatus gender  \\\n",
       "189   Premium              Bachelor        2011-01-24         Employed      F   \n",
       "236   Premium              Bachelor        2011-01-24         Employed      F   \n",
       "419  Extended               College        2011-02-13         Employed      F   \n",
       "442   Premium                Master        2011-02-13         Disabled      F   \n",
       "587   Premium  High School or Below        2011-01-26       Unemployed      M   \n",
       "\n",
       "     ...  number_of_policies     policy_type        policy  renew_offer_type  \\\n",
       "189  ...                   1  Corporate Auto  Corporate L3            Offer2   \n",
       "236  ...                   1    Special Auto    Special L3            Offer2   \n",
       "419  ...                   2   Personal Auto   Personal L2            Offer1   \n",
       "442  ...                   8   Personal Auto   Personal L2            Offer1   \n",
       "587  ...                   1   Personal Auto   Personal L1            Offer2   \n",
       "\n",
       "     sales_channel  total_claim_amount  vehicle_class  vehicle_size  \\\n",
       "189          Agent         1358.400000     Luxury Car       Medsize   \n",
       "236          Agent         1358.400000     Luxury Car       Medsize   \n",
       "419         Branch         1027.200000     Luxury Car         Small   \n",
       "442            Web         1261.319869            SUV       Medsize   \n",
       "587            Web         1027.000029            SUV       Medsize   \n",
       "\n",
       "    vehicle_type     month  \n",
       "189          NaN   January  \n",
       "236            A   January  \n",
       "419            A  February  \n",
       "442            A  February  \n",
       "587            A   January  \n",
       "\n",
       "[5 rows x 27 columns]"
      ]
     },
     "execution_count": 31,
     "metadata": {},
     "output_type": "execute_result"
    }
   ],
   "source": [
    "filtered_df = df[(df['total_claim_amount'] > 1000) & (df['response'] == 'Yes')]\n",
    "filtered_df.head()\n"
   ]
  },
  {
   "cell_type": "markdown",
   "id": "b60a4443-a1a7-4bbf-b78e-9ccdf9895e0d",
   "metadata": {
    "id": "b60a4443-a1a7-4bbf-b78e-9ccdf9895e0d"
   },
   "source": [
    "4. Find the maximum, minimum, and median customer lifetime value by education level and gender. Write your conclusions."
   ]
  },
  {
   "cell_type": "code",
   "execution_count": 33,
   "id": "6270103b-8cc6-4676-b49a-1f4dcf7c429f",
   "metadata": {},
   "outputs": [
    {
     "data": {
      "text/html": [
       "<div>\n",
       "<style scoped>\n",
       "    .dataframe tbody tr th:only-of-type {\n",
       "        vertical-align: middle;\n",
       "    }\n",
       "\n",
       "    .dataframe tbody tr th {\n",
       "        vertical-align: top;\n",
       "    }\n",
       "\n",
       "    .dataframe thead th {\n",
       "        text-align: right;\n",
       "    }\n",
       "</style>\n",
       "<table border=\"1\" class=\"dataframe\">\n",
       "  <thead>\n",
       "    <tr style=\"text-align: right;\">\n",
       "      <th></th>\n",
       "      <th>policy</th>\n",
       "      <th>gender</th>\n",
       "      <th>total_claim_amount</th>\n",
       "    </tr>\n",
       "  </thead>\n",
       "  <tbody>\n",
       "    <tr>\n",
       "      <th>0</th>\n",
       "      <td>Corporate L1</td>\n",
       "      <td>F</td>\n",
       "      <td>463.942272</td>\n",
       "    </tr>\n",
       "    <tr>\n",
       "      <th>1</th>\n",
       "      <td>Corporate L1</td>\n",
       "      <td>M</td>\n",
       "      <td>426.482338</td>\n",
       "    </tr>\n",
       "    <tr>\n",
       "      <th>2</th>\n",
       "      <td>Corporate L2</td>\n",
       "      <td>F</td>\n",
       "      <td>441.345018</td>\n",
       "    </tr>\n",
       "    <tr>\n",
       "      <th>3</th>\n",
       "      <td>Corporate L2</td>\n",
       "      <td>M</td>\n",
       "      <td>427.988391</td>\n",
       "    </tr>\n",
       "    <tr>\n",
       "      <th>4</th>\n",
       "      <td>Corporate L3</td>\n",
       "      <td>F</td>\n",
       "      <td>421.231615</td>\n",
       "    </tr>\n",
       "    <tr>\n",
       "      <th>5</th>\n",
       "      <td>Corporate L3</td>\n",
       "      <td>M</td>\n",
       "      <td>391.613774</td>\n",
       "    </tr>\n",
       "    <tr>\n",
       "      <th>6</th>\n",
       "      <td>Personal L1</td>\n",
       "      <td>F</td>\n",
       "      <td>485.125282</td>\n",
       "    </tr>\n",
       "    <tr>\n",
       "      <th>7</th>\n",
       "      <td>Personal L1</td>\n",
       "      <td>M</td>\n",
       "      <td>464.620881</td>\n",
       "    </tr>\n",
       "    <tr>\n",
       "      <th>8</th>\n",
       "      <td>Personal L2</td>\n",
       "      <td>F</td>\n",
       "      <td>439.905973</td>\n",
       "    </tr>\n",
       "    <tr>\n",
       "      <th>9</th>\n",
       "      <td>Personal L2</td>\n",
       "      <td>M</td>\n",
       "      <td>459.430442</td>\n",
       "    </tr>\n",
       "    <tr>\n",
       "      <th>10</th>\n",
       "      <td>Personal L3</td>\n",
       "      <td>F</td>\n",
       "      <td>447.076355</td>\n",
       "    </tr>\n",
       "    <tr>\n",
       "      <th>11</th>\n",
       "      <td>Personal L3</td>\n",
       "      <td>M</td>\n",
       "      <td>452.948421</td>\n",
       "    </tr>\n",
       "    <tr>\n",
       "      <th>12</th>\n",
       "      <td>Special L1</td>\n",
       "      <td>F</td>\n",
       "      <td>471.344049</td>\n",
       "    </tr>\n",
       "    <tr>\n",
       "      <th>13</th>\n",
       "      <td>Special L1</td>\n",
       "      <td>M</td>\n",
       "      <td>476.390378</td>\n",
       "    </tr>\n",
       "    <tr>\n",
       "      <th>14</th>\n",
       "      <td>Special L2</td>\n",
       "      <td>F</td>\n",
       "      <td>396.625189</td>\n",
       "    </tr>\n",
       "    <tr>\n",
       "      <th>15</th>\n",
       "      <td>Special L2</td>\n",
       "      <td>M</td>\n",
       "      <td>466.855864</td>\n",
       "    </tr>\n",
       "    <tr>\n",
       "      <th>16</th>\n",
       "      <td>Special L3</td>\n",
       "      <td>F</td>\n",
       "      <td>495.566135</td>\n",
       "    </tr>\n",
       "    <tr>\n",
       "      <th>17</th>\n",
       "      <td>Special L3</td>\n",
       "      <td>M</td>\n",
       "      <td>404.747560</td>\n",
       "    </tr>\n",
       "  </tbody>\n",
       "</table>\n",
       "</div>"
      ],
      "text/plain": [
       "          policy gender  total_claim_amount\n",
       "0   Corporate L1      F          463.942272\n",
       "1   Corporate L1      M          426.482338\n",
       "2   Corporate L2      F          441.345018\n",
       "3   Corporate L2      M          427.988391\n",
       "4   Corporate L3      F          421.231615\n",
       "5   Corporate L3      M          391.613774\n",
       "6    Personal L1      F          485.125282\n",
       "7    Personal L1      M          464.620881\n",
       "8    Personal L2      F          439.905973\n",
       "9    Personal L2      M          459.430442\n",
       "10   Personal L3      F          447.076355\n",
       "11   Personal L3      M          452.948421\n",
       "12    Special L1      F          471.344049\n",
       "13    Special L1      M          476.390378\n",
       "14    Special L2      F          396.625189\n",
       "15    Special L2      M          466.855864\n",
       "16    Special L3      F          495.566135\n",
       "17    Special L3      M          404.747560"
      ]
     },
     "execution_count": 33,
     "metadata": {},
     "output_type": "execute_result"
    }
   ],
   "source": [
    "avg_claim = df[df['response'] == 'Yes'].groupby(['policy', 'gender'])['total_claim_amount'].mean().reset_index()\n",
    "avg_claim"
   ]
  },
  {
   "cell_type": "code",
   "execution_count": null,
   "id": "fd3210d1-58d1-43df-91fd-078779d860d1",
   "metadata": {},
   "outputs": [],
   "source": [
    "# Conclusion: This table shows which policy type and gender combinations spend more on claims when they respond to marketing."
   ]
  },
  {
   "cell_type": "code",
   "execution_count": 35,
   "id": "356c5646-822f-44a9-9a27-3126969c5ce6",
   "metadata": {},
   "outputs": [
    {
     "data": {
      "text/plain": [
       "state\n",
       "California    3552\n",
       "Oregon        2909\n",
       "Arizona       1937\n",
       "Nevada         993\n",
       "Washington     888\n",
       "Name: count, dtype: int64"
      ]
     },
     "execution_count": 35,
     "metadata": {},
     "output_type": "execute_result"
    }
   ],
   "source": [
    "customers_by_state = df['state'].value_counts()\n",
    "filtered_states = customers_by_state[customers_by_state > 500]\n",
    "filtered_states\n"
   ]
  },
  {
   "cell_type": "code",
   "execution_count": 37,
   "id": "dcb08cfd-4a57-4db4-926e-4a02bc998224",
   "metadata": {},
   "outputs": [
    {
     "data": {
      "text/html": [
       "<div>\n",
       "<style scoped>\n",
       "    .dataframe tbody tr th:only-of-type {\n",
       "        vertical-align: middle;\n",
       "    }\n",
       "\n",
       "    .dataframe tbody tr th {\n",
       "        vertical-align: top;\n",
       "    }\n",
       "\n",
       "    .dataframe thead th {\n",
       "        text-align: right;\n",
       "    }\n",
       "</style>\n",
       "<table border=\"1\" class=\"dataframe\">\n",
       "  <thead>\n",
       "    <tr style=\"text-align: right;\">\n",
       "      <th></th>\n",
       "      <th>education</th>\n",
       "      <th>gender</th>\n",
       "      <th>max</th>\n",
       "      <th>min</th>\n",
       "      <th>median</th>\n",
       "    </tr>\n",
       "  </thead>\n",
       "  <tbody>\n",
       "    <tr>\n",
       "      <th>0</th>\n",
       "      <td>Bachelor</td>\n",
       "      <td>F</td>\n",
       "      <td>73225.95652</td>\n",
       "      <td>1904.000852</td>\n",
       "      <td>5663.500884</td>\n",
       "    </tr>\n",
       "    <tr>\n",
       "      <th>1</th>\n",
       "      <td>Bachelor</td>\n",
       "      <td>M</td>\n",
       "      <td>67907.27050</td>\n",
       "      <td>1898.007675</td>\n",
       "      <td>5550.697291</td>\n",
       "    </tr>\n",
       "    <tr>\n",
       "      <th>2</th>\n",
       "      <td>College</td>\n",
       "      <td>F</td>\n",
       "      <td>61850.18803</td>\n",
       "      <td>1898.683686</td>\n",
       "      <td>5616.536672</td>\n",
       "    </tr>\n",
       "    <tr>\n",
       "      <th>3</th>\n",
       "      <td>College</td>\n",
       "      <td>M</td>\n",
       "      <td>61134.68307</td>\n",
       "      <td>1918.119700</td>\n",
       "      <td>5989.773931</td>\n",
       "    </tr>\n",
       "    <tr>\n",
       "      <th>4</th>\n",
       "      <td>Doctor</td>\n",
       "      <td>F</td>\n",
       "      <td>44856.11397</td>\n",
       "      <td>2395.570000</td>\n",
       "      <td>5332.462694</td>\n",
       "    </tr>\n",
       "    <tr>\n",
       "      <th>5</th>\n",
       "      <td>Doctor</td>\n",
       "      <td>M</td>\n",
       "      <td>32677.34284</td>\n",
       "      <td>2267.604038</td>\n",
       "      <td>5610.127843</td>\n",
       "    </tr>\n",
       "    <tr>\n",
       "      <th>6</th>\n",
       "      <td>High School or Below</td>\n",
       "      <td>F</td>\n",
       "      <td>55277.44589</td>\n",
       "      <td>2144.921535</td>\n",
       "      <td>6054.182016</td>\n",
       "    </tr>\n",
       "    <tr>\n",
       "      <th>7</th>\n",
       "      <td>High School or Below</td>\n",
       "      <td>M</td>\n",
       "      <td>83325.38119</td>\n",
       "      <td>1940.981221</td>\n",
       "      <td>6277.011679</td>\n",
       "    </tr>\n",
       "    <tr>\n",
       "      <th>8</th>\n",
       "      <td>Master</td>\n",
       "      <td>F</td>\n",
       "      <td>51016.06704</td>\n",
       "      <td>2417.777032</td>\n",
       "      <td>5714.165863</td>\n",
       "    </tr>\n",
       "    <tr>\n",
       "      <th>9</th>\n",
       "      <td>Master</td>\n",
       "      <td>M</td>\n",
       "      <td>50568.25912</td>\n",
       "      <td>2272.307310</td>\n",
       "      <td>5580.960642</td>\n",
       "    </tr>\n",
       "  </tbody>\n",
       "</table>\n",
       "</div>"
      ],
      "text/plain": [
       "              education gender          max          min       median\n",
       "0              Bachelor      F  73225.95652  1904.000852  5663.500884\n",
       "1              Bachelor      M  67907.27050  1898.007675  5550.697291\n",
       "2               College      F  61850.18803  1898.683686  5616.536672\n",
       "3               College      M  61134.68307  1918.119700  5989.773931\n",
       "4                Doctor      F  44856.11397  2395.570000  5332.462694\n",
       "5                Doctor      M  32677.34284  2267.604038  5610.127843\n",
       "6  High School or Below      F  55277.44589  2144.921535  6054.182016\n",
       "7  High School or Below      M  83325.38119  1940.981221  6277.011679\n",
       "8                Master      F  51016.06704  2417.777032  5714.165863\n",
       "9                Master      M  50568.25912  2272.307310  5580.960642"
      ]
     },
     "execution_count": 37,
     "metadata": {},
     "output_type": "execute_result"
    }
   ],
   "source": [
    "clv_stats = df.groupby(['education', 'gender'])['customer_lifetime_value'].agg(['max', 'min', 'median']).reset_index()\n",
    "clv_stats\n"
   ]
  },
  {
   "cell_type": "markdown",
   "id": "b42999f9-311f-481e-ae63-40a5577072c5",
   "metadata": {
    "id": "b42999f9-311f-481e-ae63-40a5577072c5",
    "jp-MarkdownHeadingCollapsed": true
   },
   "source": [
    "## Bonus"
   ]
  },
  {
   "cell_type": "markdown",
   "id": "81ff02c5-6584-4f21-a358-b918697c6432",
   "metadata": {
    "id": "81ff02c5-6584-4f21-a358-b918697c6432"
   },
   "source": [
    "5. The marketing team wants to analyze the number of policies sold by state and month. Present the data in a table where the months are arranged as columns and the states are arranged as rows."
   ]
  },
  {
   "cell_type": "markdown",
   "id": "b6aec097-c633-4017-a125-e77a97259cda",
   "metadata": {
    "id": "b6aec097-c633-4017-a125-e77a97259cda"
   },
   "source": [
    "6.  Display a new DataFrame that contains the number of policies sold by month, by state, for the top 3 states with the highest number of policies sold.\n",
    "\n",
    "*Hint:*\n",
    "- *To accomplish this, you will first need to group the data by state and month, then count the number of policies sold for each group. Afterwards, you will need to sort the data by the count of policies sold in descending order.*\n",
    "- *Next, you will select the top 3 states with the highest number of policies sold.*\n",
    "- *Finally, you will create a new DataFrame that contains the number of policies sold by month for each of the top 3 states.*"
   ]
  },
  {
   "cell_type": "markdown",
   "id": "ba975b8a-a2cf-4fbf-9f59-ebc381767009",
   "metadata": {
    "id": "ba975b8a-a2cf-4fbf-9f59-ebc381767009"
   },
   "source": [
    "7. The marketing team wants to analyze the effect of different marketing channels on the customer response rate.\n",
    "\n",
    "Hint: You can use melt to unpivot the data and create a table that shows the customer response rate (those who responded \"Yes\") by marketing channel."
   ]
  },
  {
   "cell_type": "markdown",
   "id": "e4378d94-48fb-4850-a802-b1bc8f427b2d",
   "metadata": {
    "id": "e4378d94-48fb-4850-a802-b1bc8f427b2d"
   },
   "source": [
    "External Resources for Data Filtering: https://towardsdatascience.com/filtering-data-frames-in-pandas-b570b1f834b9"
   ]
  },
  {
   "cell_type": "code",
   "execution_count": 19,
   "id": "449513f4-0459-46a0-a18d-9398d974c9ad",
   "metadata": {
    "id": "449513f4-0459-46a0-a18d-9398d974c9ad"
   },
   "outputs": [],
   "source": [
    "# your code goes here"
   ]
  }
 ],
 "metadata": {
  "colab": {
   "provenance": []
  },
  "kernelspec": {
   "display_name": "Python [conda env:Higgs]",
   "language": "python",
   "name": "conda-env-Higgs-py"
  },
  "language_info": {
   "codemirror_mode": {
    "name": "ipython",
    "version": 3
   },
   "file_extension": ".py",
   "mimetype": "text/x-python",
   "name": "python",
   "nbconvert_exporter": "python",
   "pygments_lexer": "ipython3",
   "version": "3.12.9"
  }
 },
 "nbformat": 4,
 "nbformat_minor": 5
}
