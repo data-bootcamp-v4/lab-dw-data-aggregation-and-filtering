{
  "cells": [
    {
      "cell_type": "markdown",
      "id": "31969215-2a90-4d8b-ac36-646a7ae13744",
      "metadata": {
        "id": "31969215-2a90-4d8b-ac36-646a7ae13744"
      },
      "source": [
        "# Lab | Data Aggregation and Filtering"
      ]
    },
    {
      "cell_type": "markdown",
      "id": "a8f08a52-bec0-439b-99cc-11d3809d8b5d",
      "metadata": {
        "id": "a8f08a52-bec0-439b-99cc-11d3809d8b5d"
      },
      "source": [
        "In this challenge, we will continue to work with customer data from an insurance company. We will use the dataset called marketing_customer_analysis.csv, which can be found at the following link:\n",
        "\n",
        "https://raw.githubusercontent.com/data-bootcamp-v4/data/main/marketing_customer_analysis.csv\n",
        "\n",
        "This dataset contains information such as customer demographics, policy details, vehicle information, and the customer's response to the last marketing campaign. Our goal is to explore and analyze this data by first performing data cleaning, formatting, and structuring."
      ]
    },
    {
      "cell_type": "markdown",
      "id": "9c98ddc5-b041-4c94-ada1-4dfee5c98e50",
      "metadata": {
        "id": "9c98ddc5-b041-4c94-ada1-4dfee5c98e50"
      },
      "source": [
        "1. Create a new DataFrame that only includes customers who have a total_claim_amount greater than $1,000 and have a response of \"Yes\" to the last marketing campaign."
      ]
    },
    {
      "cell_type": "code",
      "execution_count": null,
      "id": "ef748afa",
      "metadata": {},
      "outputs": [],
      "source": [
        "import pandas as pd\n",
        "\n",
        "# Load the dataset\n",
        "url = \"https://raw.githubusercontent.com/data-bootcamp-v4/data/main/marketing_customer_analysis.csv\"\n",
        "df = pd.read_csv(url)\n",
        "\n",
        "# Filter DataFrame for customers with total_claim_amount > 1000 and response 'Yes'\n",
        "filtered_df = df[(df['Total Claim Amount'] > 1000) & (df['Response'] == 'Yes')]\n",
        "print(filtered_df.head())"
      ]
    },
    {
      "cell_type": "markdown",
      "id": "b9be383e-5165-436e-80c8-57d4c757c8c3",
      "metadata": {
        "id": "b9be383e-5165-436e-80c8-57d4c757c8c3"
      },
      "source": [
        "2. Using the original Dataframe, analyze the average total_claim_amount by each policy type and gender for customers who have responded \"Yes\" to the last marketing campaign. Write your conclusions."
      ]
    },
    {
      "cell_type": "code",
      "execution_count": null,
      "id": "8d07cad1",
      "metadata": {},
      "outputs": [],
      "source": [
        "# Filter DataFrame for customers who responded 'Yes'\n",
        "responded_yes_df = df[df['Response'] == 'Yes']\n",
        "\n",
        "# Group by Policy Type and Gender, and calculate the average total claim amount\n",
        "avg_claims = responded_yes_df.groupby(['Policy Type', 'Gender'])['Total Claim Amount'].mean().reset_index()\n",
        "\n",
        "print(avg_claims)\n",
        "\n",
        "# Conclusion:\n",
        "# Overall, the differences between genders are relatively small, but women tend to have higher average claims \n",
        "# in both \"Corporate Auto\" and \"Special Auto\" policies, whereas men have higher claims in \"Personal Auto\"."
      ]
    },
    {
      "cell_type": "markdown",
      "id": "7050f4ac-53c5-4193-a3c0-8699b87196f0",
      "metadata": {
        "id": "7050f4ac-53c5-4193-a3c0-8699b87196f0"
      },
      "source": [
        "3. Analyze the total number of customers who have policies in each state, and then filter the results to only include states where there are more than 500 customers."
      ]
    },
    {
      "cell_type": "code",
      "execution_count": null,
      "id": "5a6fe36b",
      "metadata": {},
      "outputs": [],
      "source": [
        "# Count the number of customers per state\n",
        "customers_by_state = df['State'].value_counts().reset_index()\n",
        "customers_by_state.columns = ['State', 'Customer_Count']\n",
        "\n",
        "# Filter for states with more than 500 customers\n",
        "states_over_500 = customers_by_state[customers_by_state['Customer_Count'] > 500]\n",
        "\n",
        "print(states_over_500)"
      ]
    },
    {
      "cell_type": "markdown",
      "id": "b60a4443-a1a7-4bbf-b78e-9ccdf9895e0d",
      "metadata": {
        "id": "b60a4443-a1a7-4bbf-b78e-9ccdf9895e0d"
      },
      "source": [
        "4. Find the maximum, minimum, and median customer lifetime value by education level and gender. Write your conclusions."
      ]
    },
    {
      "cell_type": "code",
      "execution_count": null,
      "id": "53de0d90",
      "metadata": {},
      "outputs": [],
      "source": [
        "# Group by Education Level and Gender to get max, min, and median of Customer Lifetime Value\n",
        "clv_stats = df.groupby(['Education', 'Gender'])['Customer Lifetime Value'].agg(['max', 'min', 'median']).reset_index()\n",
        "\n",
        "print(clv_stats)\n",
        "\n",
        "# Conclusion:\n",
        "# Education level influences Customer Lifetime Value (CLV), with Bachelor's and Master's degree holders generally showing higher CLVs. Gender has little impact,\n",
        "# as median CLVs are similar. However, men with \"High School or Below\" education show the highest maximum CLV, indicating outliers and variability within groups.\n"
      ]
    },
    {
      "cell_type": "markdown",
      "id": "b42999f9-311f-481e-ae63-40a5577072c5",
      "metadata": {
        "id": "b42999f9-311f-481e-ae63-40a5577072c5"
      },
      "source": [
        "## Bonus"
      ]
    },
    {
      "cell_type": "markdown",
      "id": "81ff02c5-6584-4f21-a358-b918697c6432",
      "metadata": {
        "id": "81ff02c5-6584-4f21-a358-b918697c6432"
      },
      "source": [
        "5. The marketing team wants to analyze the number of policies sold by state and month. Present the data in a table where the months are arranged as columns and the states are arranged as rows."
      ]
    },
    {
      "cell_type": "code",
      "execution_count": null,
      "id": "3a46184c",
      "metadata": {},
      "outputs": [],
      "source": [
        "# First, convert the 'Effective To Date' column to datetime to extract the month\n",
        "df['Effective To Date'] = pd.to_datetime(df['Effective To Date'])\n",
        "\n",
        "# Create a new column for month\n",
        "df['Month'] = df['Effective To Date'].dt.month\n",
        "\n",
        "# Group by State and Month to count the number of policies sold\n",
        "policies_by_state_month = df.groupby(['State', 'Month']).size().unstack()\n",
        "\n",
        "print(policies_by_state_month)"
      ]
    },
    {
      "cell_type": "markdown",
      "id": "b6aec097-c633-4017-a125-e77a97259cda",
      "metadata": {
        "id": "b6aec097-c633-4017-a125-e77a97259cda"
      },
      "source": [
        "6.  Display a new DataFrame that contains the number of policies sold by month, by state, for the top 3 states with the highest number of policies sold.\n",
        "\n",
        "*Hint:*\n",
        "- *To accomplish this, you will first need to group the data by state and month, then count the number of policies sold for each group. Afterwards, you will need to sort the data by the count of policies sold in descending order.*\n",
        "- *Next, you will select the top 3 states with the highest number of policies sold.*\n",
        "- *Finally, you will create a new DataFrame that contains the number of policies sold by month for each of the top 3 states.*"
      ]
    },
    {
      "cell_type": "code",
      "execution_count": null,
      "id": "a502a678",
      "metadata": {},
      "outputs": [],
      "source": [
        "# Count policies sold by state and month\n",
        "state_month_policies = df.groupby(['State', 'Month']).size().reset_index(name='Policy_Count')\n",
        "\n",
        "# Get the top 3 states with the highest total policies sold\n",
        "top_states = state_month_policies.groupby('State')['Policy_Count'].sum().nlargest(3).index\n",
        "\n",
        "# Filter the original DataFrame to only include the top 3 states\n",
        "top_states_df = state_month_policies[state_month_policies['State'].isin(top_states)]\n",
        "\n",
        "# Pivot the data so that months are columns and states are rows\n",
        "top_states_pivot = top_states_df.pivot(index='State', columns='Month', values='Policy_Count')\n",
        "\n",
        "print('Top 3 states with the highest total policies sold:', '\\n', top_states_pivot)"
      ]
    },
    {
      "cell_type": "markdown",
      "id": "ba975b8a-a2cf-4fbf-9f59-ebc381767009",
      "metadata": {
        "id": "ba975b8a-a2cf-4fbf-9f59-ebc381767009"
      },
      "source": [
        "7. The marketing team wants to analyze the effect of different marketing channels on the customer response rate.\n",
        "\n",
        "Hint: You can use melt to unpivot the data and create a table that shows the customer response rate (those who responded \"Yes\") by marketing channel."
      ]
    },
    {
      "cell_type": "markdown",
      "id": "e4378d94-48fb-4850-a802-b1bc8f427b2d",
      "metadata": {
        "id": "e4378d94-48fb-4850-a802-b1bc8f427b2d"
      },
      "source": [
        "External Resources for Data Filtering: https://towardsdatascience.com/filtering-data-frames-in-pandas-b570b1f834b9"
      ]
    },
    {
      "cell_type": "code",
      "execution_count": null,
      "id": "449513f4-0459-46a0-a18d-9398d974c9ad",
      "metadata": {
        "id": "449513f4-0459-46a0-a18d-9398d974c9ad"
      },
      "outputs": [],
      "source": [
        "# Filter for customers who responded 'Yes'\n",
        "yes_responses = df[df['Response'] == 'Yes']\n",
        "\n",
        "# Use melt to reshape the data and analyze response rates by marketing channel\n",
        "melted_df = df.melt(id_vars=['Response'], value_vars=['Coverage', 'Sales Channel'], var_name='Marketing_Channel')\n",
        "\n",
        "# Calculate response rate for each marketing channel\n",
        "response_rate = melted_df[melted_df['Response'] == 'Yes'].groupby('Marketing_Channel')['value'].value_counts(normalize=True).reset_index(name='Response_Rate')\n",
        "\n",
        "print(response_rate)"
      ]
    }
  ],
  "metadata": {
    "colab": {
      "provenance": []
    },
    "kernelspec": {
      "display_name": "Python 3 (ipykernel)",
      "language": "python",
      "name": "python3"
    },
    "language_info": {
      "codemirror_mode": {
        "name": "ipython",
        "version": 3
      },
      "file_extension": ".py",
      "mimetype": "text/x-python",
      "name": "python",
      "nbconvert_exporter": "python",
      "pygments_lexer": "ipython3",
      "version": "3.12.5"
    }
  },
  "nbformat": 4,
  "nbformat_minor": 5
}
