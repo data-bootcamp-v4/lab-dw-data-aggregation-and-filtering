{
 "cells": [
  {
   "cell_type": "markdown",
   "id": "31969215-2a90-4d8b-ac36-646a7ae13744",
   "metadata": {
    "id": "31969215-2a90-4d8b-ac36-646a7ae13744"
   },
   "source": [
    "# Lab | Data Aggregation and Filtering"
   ]
  },
  {
   "cell_type": "markdown",
   "id": "a8f08a52-bec0-439b-99cc-11d3809d8b5d",
   "metadata": {
    "id": "a8f08a52-bec0-439b-99cc-11d3809d8b5d"
   },
   "source": [
    "In this challenge, we will continue to work with customer data from an insurance company. We will use the dataset called marketing_customer_analysis.csv, which can be found at the following link:\n",
    "\n",
    "https://raw.githubusercontent.com/data-bootcamp-v4/data/main/marketing_customer_analysis.csv\n",
    "\n",
    "This dataset contains information such as customer demographics, policy details, vehicle information, and the customer's response to the last marketing campaign. Our goal is to explore and analyze this data by first performing data cleaning, formatting, and structuring."
   ]
  },
  {
   "cell_type": "code",
   "execution_count": null,
   "id": "cf129055-ed9f-4278-841d-4d5ed991225c",
   "metadata": {},
   "outputs": [],
   "source": [
    "import pandas as pd"
   ]
  },
  {
   "cell_type": "code",
   "execution_count": null,
   "id": "2577f400-513b-4779-87ef-50c522165f61",
   "metadata": {},
   "outputs": [],
   "source": [
    "url= 'https://raw.githubusercontent.com/data-bootcamp-v4/data/main/marketing_customer_analysis.csv'\n",
    "df_mark= pd.read_csv(url)"
   ]
  },
  {
   "cell_type": "code",
   "execution_count": null,
   "id": "6ab25f85-7e2c-4491-90bf-ab821f0a463e",
   "metadata": {},
   "outputs": [],
   "source": [
    "from info_cleaning import quick_info_dfs\n",
    "print(quick_info_dfs(df_mark))"
   ]
  },
  {
   "cell_type": "code",
   "execution_count": null,
   "id": "aad1d61d-9547-4a0f-98ed-da2a8a5faf9d",
   "metadata": {},
   "outputs": [],
   "source": [
    "df_mark['State'].fillna('unknown')"
   ]
  },
  {
   "cell_type": "code",
   "execution_count": null,
   "id": "f429cb72-e2e9-45e3-a741-88585674695b",
   "metadata": {},
   "outputs": [],
   "source": [
    "from info_cleaning import standartize_columns\n",
    "\n",
    "df_mark = standartize_columns(df_mark)\n",
    "df_mark.columns"
   ]
  },
  {
   "cell_type": "code",
   "execution_count": null,
   "id": "2d39e5c6-cb11-4b4a-8b0d-2be76fe658a4",
   "metadata": {},
   "outputs": [],
   "source": [
    "df_mark['months_since_policy_inception']"
   ]
  },
  {
   "cell_type": "markdown",
   "id": "9c98ddc5-b041-4c94-ada1-4dfee5c98e50",
   "metadata": {
    "id": "9c98ddc5-b041-4c94-ada1-4dfee5c98e50"
   },
   "source": [
    "1. Create a new DataFrame that only includes customers who have a total_claim_amount greater than $1,000 and have a response of \"Yes\" to the last marketing campaign."
   ]
  },
  {
   "cell_type": "code",
   "execution_count": null,
   "id": "9c814943-ab01-46b9-8bd8-71db4874c096",
   "metadata": {},
   "outputs": [],
   "source": [
    "# make total_claim_amount is numeric\n",
    "df_mark['total_claim_amount'] = pd.to_numeric(df_mark['total_claim_amount'], errors='coerce')\n",
    "\n",
    "# Filter the DataFrame\n",
    "filtered_df = df_mark[(df_mark['total_claim_amount'] > 1000) & (df_mark['response'] == 'Yes')]\n",
    "\n",
    "# Show result\n",
    "filtered_df.head()                   "
   ]
  },
  {
   "cell_type": "markdown",
   "id": "b9be383e-5165-436e-80c8-57d4c757c8c3",
   "metadata": {
    "id": "b9be383e-5165-436e-80c8-57d4c757c8c3"
   },
   "source": [
    "2. Using the original Dataframe, analyze the average total_claim_amount by each policy type and gender for customers who have responded \"Yes\" to the last marketing campaign. Write your conclusions."
   ]
  },
  {
   "cell_type": "code",
   "execution_count": null,
   "id": "bff7e537-d696-4211-91cb-577922b58607",
   "metadata": {},
   "outputs": [],
   "source": [
    "response_y=df_mark[df_mark['response'] == 'Yes']\n",
    "summary = response_y.groupby(['policy_type', 'gender'])['total_claim_amount'].mean().round(2).reset_index()\n",
    "summary"
   ]
  },
  {
   "cell_type": "markdown",
   "id": "aeb29b8d-aa93-4642-8b72-1e7feaa3e91c",
   "metadata": {},
   "source": [
    "Personal Auto policyholders — especially males — have the highest average total claim amounts, making them a strong target for marketing.\n",
    "\n",
    "The lack of wide variance between genders suggests that policy type is more useful for segmentation than gender alone.\n",
    "\n",
    "Since all averages are above $400, responders in general are valuable customers, even if no extreme highs or lows appear.\n"
   ]
  },
  {
   "cell_type": "markdown",
   "id": "7050f4ac-53c5-4193-a3c0-8699b87196f0",
   "metadata": {
    "id": "7050f4ac-53c5-4193-a3c0-8699b87196f0"
   },
   "source": [
    "3. Analyze the total number of customers who have policies in each state, and then filter the results to only include states where there are more than 500 customers."
   ]
  },
  {
   "cell_type": "code",
   "execution_count": null,
   "id": "e7c70f38-76d6-46e3-bc57-51609d718224",
   "metadata": {},
   "outputs": [],
   "source": [
    "#customer to each state\n",
    "state_counts = df_mark.groupby(\"state\")['customer'].count().sort_values(ascending=False).reset_index()\n",
    "state_counts.columns = ['state', 'customer_count']\n",
    "state_counts\n",
    "#Filtered by customer size is bigger than 500\n",
    "filtered_state= state_counts[state_counts['customer_count'] > 500]\n",
    "filtered_state"
   ]
  },
  {
   "cell_type": "markdown",
   "id": "b60a4443-a1a7-4bbf-b78e-9ccdf9895e0d",
   "metadata": {
    "id": "b60a4443-a1a7-4bbf-b78e-9ccdf9895e0d"
   },
   "source": [
    "4. Find the maximum, minimum, and median customer lifetime value by education level and gender. Write your conclusions."
   ]
  },
  {
   "cell_type": "code",
   "execution_count": null,
   "id": "318905f3-7d4b-4010-b5cc-9010c0a071e0",
   "metadata": {},
   "outputs": [],
   "source": [
    "df_mark.groupby(['education','gender'])['customer_lifetime_value'].agg(['max', 'min', 'median']).round(2)"
   ]
  },
  {
   "cell_type": "markdown",
   "id": "43b25b04-73ce-412a-9c68-fb889d3f75de",
   "metadata": {},
   "source": [
    "Higher education ≠ higher customer lifetime value:\n",
    "\n",
    "Contrary to expectations, Doctoral-level customers have the lowest max and median CLV.\n",
    "\n",
    "This trend appears across both genders, suggesting lower product fit, loyalty, or engagement.\n",
    "\n",
    "High School or Below segment is strongest:\n",
    "\n",
    "Especially males, who show both highest max and highest median CLV.\n",
    "\n",
    "Females in this group also perform well, making them a highly valuable segment.\n",
    "\n",
    "Gender Differences Are Modest:\n",
    "\n",
    "Across all education levels, the difference in median CLV between genders is typically under $500, though males slightly outperform females overall."
   ]
  },
  {
   "cell_type": "markdown",
   "id": "b42999f9-311f-481e-ae63-40a5577072c5",
   "metadata": {
    "id": "b42999f9-311f-481e-ae63-40a5577072c5"
   },
   "source": [
    "## Bonus"
   ]
  },
  {
   "cell_type": "markdown",
   "id": "81ff02c5-6584-4f21-a358-b918697c6432",
   "metadata": {
    "id": "81ff02c5-6584-4f21-a358-b918697c6432"
   },
   "source": [
    "5. The marketing team wants to analyze the number of policies sold by state and month. Present the data in a table where the months are arranged as columns and the states are arranged as rows."
   ]
  },
  {
   "cell_type": "code",
   "execution_count": null,
   "id": "d017a79e-89ba-4645-8eec-6c9fc7d17c3c",
   "metadata": {},
   "outputs": [],
   "source": [
    "df_mark['effective_to_date'] = pd.to_datetime(df_mark['effective_to_date'], format='%m/%d/%Y', errors='coerce')\n",
    "\n",
    "df_mark['month'] = df_mark['effective_to_date'].dt.strftime('%B')"
   ]
  },
  {
   "cell_type": "code",
   "execution_count": null,
   "id": "bf8bd54a-10f6-45b3-8c59-25952572ca94",
   "metadata": {},
   "outputs": [],
   "source": [
    "# policies_sold_by_state_month = df_mark.pivot_table(index=['state'], columns=['month'], values=['total_claim_amount'])\n",
    "# policies_sold_by_state_month\n",
    "\n",
    "#Create pivot table: count of policies sold per state and month\n",
    "pivot_table = pd.pivot_table(\n",
    "    df_mark,\n",
    "    index='state',\n",
    "    columns='month',\n",
    "    values='number_of_policies',  # Counting number of policies (1 per row)\n",
    "    aggfunc='count',\n",
    "    fill_value=0\n",
    ")\n",
    "\n",
    "# # Optional: order months chronologically\n",
    "month_order = ['January', 'February', 'March', 'April', 'May', 'June',\n",
    "                'July', 'August', 'September', 'October', 'November', 'December']\n",
    "\n",
    "pivot_table = pivot_table[[month for month in month_order if month in pivot_table.columns]]\n",
    "\n",
    "pivot_table"
   ]
  },
  {
   "cell_type": "markdown",
   "id": "b6aec097-c633-4017-a125-e77a97259cda",
   "metadata": {
    "id": "b6aec097-c633-4017-a125-e77a97259cda"
   },
   "source": [
    "6.  Display a new DataFrame that contains the number of policies sold by month, by state, for the top 3 states with the highest number of policies sold.\n",
    "\n",
    "*Hint:*\n",
    "- *To accomplish this, you will first need to group the data by state and month, then count the number of policies sold for each group. Afterwards, you will need to sort the data by the count of policies sold in descending order.*\n",
    "- *Next, you will select the top 3 states with the highest number of policies sold.*\n",
    "- *Finally, you will create a new DataFrame that contains the number of policies sold by month for each of the top 3 states.*"
   ]
  },
  {
   "cell_type": "code",
   "execution_count": null,
   "id": "6abb01e9-763b-4f62-be5c-4cfb6287bb24",
   "metadata": {},
   "outputs": [],
   "source": [
    "# Step 1: Count number of policies by state\n",
    "state_policy_counts = df_mark['state'].value_counts().head(3)\n",
    "top_3_states = state_policy_counts.index.tolist()\n",
    "\n",
    "# Step 2: Filter for top 3 states\n",
    "df_top_states = df_mark[df_mark['state'].isin(top_3_states)]\n",
    "\n",
    "# Step 3: Group by state and month, count policies\n",
    "top_states_summary = df_top_states.groupby(['state', 'month'])['policy'].count().reset_index(name='policies_sold')\n",
    "\n",
    "\n",
    "# Sort the final table\n",
    "top_states_summary = top_states_summary.sort_values(by=['state', 'month'])\n",
    "top_states_summary"
   ]
  },
  {
   "cell_type": "markdown",
   "id": "ba975b8a-a2cf-4fbf-9f59-ebc381767009",
   "metadata": {
    "id": "ba975b8a-a2cf-4fbf-9f59-ebc381767009"
   },
   "source": [
    "7. The marketing team wants to analyze the effect of different marketing channels on the customer response rate.\n",
    "\n",
    "Hint: You can use melt to unpivot the data and create a table that shows the customer response rate (those who responded \"Yes\") by marketing channel."
   ]
  },
  {
   "cell_type": "markdown",
   "id": "e4378d94-48fb-4850-a802-b1bc8f427b2d",
   "metadata": {
    "id": "e4378d94-48fb-4850-a802-b1bc8f427b2d"
   },
   "source": [
    "External Resources for Data Filtering: https://towardsdatascience.com/filtering-data-frames-in-pandas-b570b1f834b9"
   ]
  },
  {
   "cell_type": "code",
   "execution_count": null,
   "id": "449513f4-0459-46a0-a18d-9398d974c9ad",
   "metadata": {
    "id": "449513f4-0459-46a0-a18d-9398d974c9ad"
   },
   "outputs": [],
   "source": [
    "# Count total customers and responders by channel\n",
    "channel_summary = df_mark.groupby('sales_channel')['response'].value_counts().unstack().fillna(0)\n",
    "\n",
    "# Calculate response rate\n",
    "channel_summary['response_rate'] = (\n",
    "    channel_summary['Yes'] / (channel_summary['Yes'] + channel_summary['No'])\n",
    ").round(2)\n",
    "\n",
    "# Reset index for readability\n",
    "channel_summary = channel_summary.reset_index()\n",
    "channel_summary"
   ]
  },
  {
   "cell_type": "code",
   "execution_count": null,
   "id": "fc753a6f-fa12-483e-bdda-fb0703c3d173",
   "metadata": {},
   "outputs": [],
   "source": []
  }
 ],
 "metadata": {
  "colab": {
   "provenance": []
  },
  "kernelspec": {
   "display_name": "Python [conda env:base] *",
   "language": "python",
   "name": "conda-base-py"
  },
  "language_info": {
   "codemirror_mode": {
    "name": "ipython",
    "version": 3
   },
   "file_extension": ".py",
   "mimetype": "text/x-python",
   "name": "python",
   "nbconvert_exporter": "python",
   "pygments_lexer": "ipython3",
   "version": "3.12.7"
  }
 },
 "nbformat": 4,
 "nbformat_minor": 5
}
