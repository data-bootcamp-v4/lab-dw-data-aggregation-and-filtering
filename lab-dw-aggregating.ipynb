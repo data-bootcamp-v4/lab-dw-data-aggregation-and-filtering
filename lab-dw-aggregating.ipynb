{
 "cells": [
  {
   "cell_type": "markdown",
   "id": "31969215-2a90-4d8b-ac36-646a7ae13744",
   "metadata": {},
   "source": [
    "# Lab | Data Aggregation and Filtering"
   ]
  },
  {
   "cell_type": "markdown",
   "id": "769df97b-bcc6-4ab0-9b87-eb04853d4351",
   "metadata": {},
   "source": [
    "Objective: Use Python programming techniques to filter and order data subsets, group data by one or more variables, and use aggregation functions to obtain insights, and derive meaningful conclusions from the data."
   ]
  },
  {
   "cell_type": "markdown",
   "id": "a8f08a52-bec0-439b-99cc-11d3809d8b5d",
   "metadata": {},
   "source": [
    "In this challenge, we will continue to work with customer data from an insurance company. We will use the dataset called marketing_customer_analysis.csv, which can be found at the following link:\n",
    "\n",
    "https://raw.githubusercontent.com/data-bootcamp-v4/data/main/marketing_customer_analysis.csv\n",
    "\n",
    "This dataset contains information such as customer demographics, policy details, vehicle information, and the customer's response to the last marketing campaign. Our goal is to explore and analyze this data by performing first data cleaning, formatting, and structuring."
   ]
  },
  {
   "cell_type": "markdown",
   "id": "c2a39af7-a37b-43f1-a413-3e163a55125e",
   "metadata": {},
   "source": [
    "Start by reading the dataset, standardizing column names, dealing with null values and creating the month column. You can do so by using the functions you developed in previous labs, or by reading the clean dataset you saved in the last lab `data structuring and combining`."
   ]
  },
  {
   "cell_type": "markdown",
   "id": "0a3bc930-db26-4fd4-b261-ea03e12f3a26",
   "metadata": {},
   "source": [
    "Then, answer the following questions:"
   ]
  },
  {
   "cell_type": "markdown",
   "id": "9c98ddc5-b041-4c94-ada1-4dfee5c98e50",
   "metadata": {},
   "source": [
    "1. Create a new DataFrame that only includes customers who have a total_claim_amount greater than $1,000 and have a response of \"Yes\" to the last marketing campaign."
   ]
  },
  {
   "cell_type": "markdown",
   "id": "341352f7-305d-4928-be75-4a4a342205b5",
   "metadata": {},
   "source": [
    "2. Analyze the average total_claim_amount by each policy type and gender for customers who have responded \"Yes\" to the last marketing campaign."
   ]
  },
  {
   "cell_type": "markdown",
   "id": "7050f4ac-53c5-4193-a3c0-8699b87196f0",
   "metadata": {},
   "source": [
    "3. Analyze the total number of customers who have policies in each state, and then filter the results to only include states where there are more than 500 customers."
   ]
  },
  {
   "cell_type": "markdown",
   "id": "2661421c-0534-4d5c-b803-d05459277f82",
   "metadata": {},
   "source": [
    "4. Find the median customer lifetime value by education level and gender."
   ]
  },
  {
   "cell_type": "markdown",
   "id": "867b0167-09e2-4111-91c8-b4fb9596d741",
   "metadata": {},
   "source": [
    "5. Find the maximum, minimum, and average number of open complaints by state and policy type."
   ]
  },
  {
   "cell_type": "markdown",
   "id": "81ff02c5-6584-4f21-a358-b918697c6432",
   "metadata": {},
   "source": [
    "6. The marketing team wants to analyze the number of policies sold by state and month.\n",
    "\n",
    "Present the data in a table where the months are arranged as columns and the states are arranged as rows."
   ]
  },
  {
   "cell_type": "markdown",
   "id": "b6aec097-c633-4017-a125-e77a97259cda",
   "metadata": {},
   "source": [
    "7. Display a new DataFrame that contains the number of policies sold by month by state for the top 3 states with the highest number of policies sold.\n",
    "\n",
    "*Hint:* \n",
    "- *To accomplish this, you will first need to group the data by state and month, then count the number of policies sold for each group. Afterwards, you will need to sort the data by the count of policies sold in descending order.*\n",
    "- *Next, you will select the top 3 states with the highest number of policies sold.*\n",
    "- *Finally, you will create a new DataFrame that contains the number of policies sold by month for each of the top 3 states.*"
   ]
  },
  {
   "cell_type": "markdown",
   "id": "ba975b8a-a2cf-4fbf-9f59-ebc381767009",
   "metadata": {},
   "source": [
    "8. The marketing team wants to analyze the effect of different marketing channels on the customer response rate.\n",
    "\n",
    "Hint: You can use melt to unpivot the data and create a table that shows the customer response rate (those who responded \"Yes\") by marketing channel."
   ]
  },
  {
   "cell_type": "markdown",
   "id": "e4378d94-48fb-4850-a802-b1bc8f427b2d",
   "metadata": {},
   "source": [
    "External Resources for Data Filtering: https://towardsdatascience.com/filtering-data-frames-in-pandas-b570b1f834b9"
   ]
  },
  {
   "cell_type": "code",
   "execution_count": 1,
   "id": "449513f4-0459-46a0-a18d-9398d974c9ad",
   "metadata": {},
   "outputs": [],
   "source": [
    "import pandas as pd\n",
    "url = \"https://raw.githubusercontent.com/data-bootcamp-v4/data/main/marketing_customer_analysis.csv\"\n",
    "df = pd.read_csv(url)"
   ]
  },
  {
   "cell_type": "code",
   "execution_count": 2,
   "id": "e9fb1b61",
   "metadata": {},
   "outputs": [],
   "source": [
    "df.columns = df.columns.str.lower().str.replace(\" \", \"_\")"
   ]
  },
  {
   "cell_type": "code",
   "execution_count": 3,
   "id": "29cbbdd6",
   "metadata": {},
   "outputs": [],
   "source": [
    "numerical_columns = df.select_dtypes(include=[int, float]).columns\n",
    "df[numerical_columns] = df[numerical_columns].fillna(df[numerical_columns].mean())"
   ]
  },
  {
   "cell_type": "code",
   "execution_count": 4,
   "id": "c9974be1",
   "metadata": {},
   "outputs": [],
   "source": [
    "categorical_columns = df.select_dtypes(include=object).columns\n",
    "df[categorical_columns] = df[categorical_columns].fillna(\"Unknown\")"
   ]
  },
  {
   "cell_type": "code",
   "execution_count": 5,
   "id": "8f095e10",
   "metadata": {},
   "outputs": [],
   "source": [
    "df[\"effective_to_date\"] = pd.to_datetime(df[\"effective_to_date\"])\n",
    "df[\"month\"] = df[\"effective_to_date\"].dt.month"
   ]
  },
  {
   "cell_type": "code",
   "execution_count": 6,
   "id": "edc661ec",
   "metadata": {},
   "outputs": [
    {
     "name": "stdout",
     "output_type": "stream",
     "text": [
      "    unnamed:_0 customer       state  customer_lifetime_value response  \\\n",
      "0          189  OK31456  California             11009.130490      Yes   \n",
      "1          236  YJ16163      Oregon             11009.130490      Yes   \n",
      "2          419  GW43195      Oregon             25807.063000      Yes   \n",
      "3          442  IP94270     Arizona             13736.132500      Yes   \n",
      "4          587  FJ28407  California              5619.689084      Yes   \n",
      "..         ...      ...         ...                      ...      ...   \n",
      "62       10351  FN44127      Oregon              3508.569533      Yes   \n",
      "63       10373  XZ64172      Oregon             10963.957230      Yes   \n",
      "64       10487  IX60941      Oregon              3508.569533      Yes   \n",
      "65       10565  QO62792      Oregon              7840.165778      Yes   \n",
      "66       10708  CK39096      Oregon              5619.689084      Yes   \n",
      "\n",
      "    coverage             education effective_to_date employmentstatus gender  \\\n",
      "0    Premium              Bachelor        2011-01-24         Employed      F   \n",
      "1    Premium              Bachelor        2011-01-24         Employed      F   \n",
      "2   Extended               College        2011-02-13         Employed      F   \n",
      "3    Premium                Master        2011-02-13         Disabled      F   \n",
      "4    Premium  High School or Below        2011-01-26       Unemployed      M   \n",
      "..       ...                   ...               ...              ...    ...   \n",
      "62  Extended               College        2011-01-05    Medical Leave      M   \n",
      "63   Premium  High School or Below        2011-02-08         Employed      M   \n",
      "64  Extended               College        2011-01-05    Medical Leave      M   \n",
      "65  Extended               College        2011-01-14         Employed      M   \n",
      "66   Premium  High School or Below        2011-01-26       Unemployed      M   \n",
      "\n",
      "    ...  number_of_policies     policy_type        policy  renew_offer_type  \\\n",
      "0   ...                   1  Corporate Auto  Corporate L3            Offer2   \n",
      "1   ...                   1    Special Auto    Special L3            Offer2   \n",
      "2   ...                   2   Personal Auto   Personal L2            Offer1   \n",
      "3   ...                   8   Personal Auto   Personal L2            Offer1   \n",
      "4   ...                   1   Personal Auto   Personal L1            Offer2   \n",
      "..  ...                 ...             ...           ...               ...   \n",
      "62  ...                   1   Personal Auto   Personal L2            Offer2   \n",
      "63  ...                   1  Corporate Auto  Corporate L2            Offer1   \n",
      "64  ...                   1   Personal Auto   Personal L3            Offer2   \n",
      "65  ...                   1   Personal Auto   Personal L3            Offer2   \n",
      "66  ...                   1   Personal Auto   Personal L3            Offer2   \n",
      "\n",
      "    sales_channel  total_claim_amount  vehicle_class  vehicle_size  \\\n",
      "0           Agent         1358.400000     Luxury Car       Medsize   \n",
      "1           Agent         1358.400000     Luxury Car       Medsize   \n",
      "2          Branch         1027.200000     Luxury Car         Small   \n",
      "3             Web         1261.319869            SUV       Medsize   \n",
      "4             Web         1027.000029            SUV       Medsize   \n",
      "..            ...                 ...            ...           ...   \n",
      "62         Branch         1176.278800  Four-Door Car         Small   \n",
      "63          Agent         1324.800000     Luxury SUV       Medsize   \n",
      "64         Branch         1176.278800  Four-Door Car         Small   \n",
      "65          Agent         1008.000000        Unknown       Unknown   \n",
      "66            Web         1027.000029            SUV       Medsize   \n",
      "\n",
      "   vehicle_type month  \n",
      "0       Unknown     1  \n",
      "1             A     1  \n",
      "2             A     2  \n",
      "3             A     2  \n",
      "4             A     1  \n",
      "..          ...   ...  \n",
      "62      Unknown     1  \n",
      "63      Unknown     2  \n",
      "64      Unknown     1  \n",
      "65      Unknown     1  \n",
      "66            A     1  \n",
      "\n",
      "[67 rows x 27 columns]\n"
     ]
    }
   ],
   "source": [
    "1#\n",
    "filtered_df = df[(df[\"total_claim_amount\"] > 1000) & (df[\"response\"] == \"Yes\")]\n",
    "filtered_df.reset_index(drop=True, inplace=True)\n",
    "print(filtered_df)"
   ]
  },
  {
   "cell_type": "code",
   "execution_count": 7,
   "id": "24b3a7b5",
   "metadata": {},
   "outputs": [
    {
     "name": "stdout",
     "output_type": "stream",
     "text": [
      "          policy gender  total_claim_amount\n",
      "0   Corporate L1      F          463.942272\n",
      "1   Corporate L1      M          426.482338\n",
      "2   Corporate L2      F          441.345018\n",
      "3   Corporate L2      M          427.988391\n",
      "4   Corporate L3      F          421.231615\n",
      "5   Corporate L3      M          391.613774\n",
      "6    Personal L1      F          485.125282\n",
      "7    Personal L1      M          464.620881\n",
      "8    Personal L2      F          439.905973\n",
      "9    Personal L2      M          459.430442\n",
      "10   Personal L3      F          447.076355\n",
      "11   Personal L3      M          452.948421\n",
      "12    Special L1      F          471.344049\n",
      "13    Special L1      M          476.390378\n",
      "14    Special L2      F          396.625189\n",
      "15    Special L2      M          466.855864\n",
      "16    Special L3      F          495.566135\n",
      "17    Special L3      M          404.747560\n"
     ]
    }
   ],
   "source": [
    "2#\n",
    "filtered_df = df[df[\"response\"] == \"Yes\"]\n",
    "average_claim_amount_by_policy_gender = filtered_df.groupby([\"policy\", \"gender\"])[\"total_claim_amount\"].mean().reset_index()\n",
    "print(average_claim_amount_by_policy_gender)"
   ]
  },
  {
   "cell_type": "code",
   "execution_count": 8,
   "id": "26c2fdf2",
   "metadata": {},
   "outputs": [
    {
     "name": "stdout",
     "output_type": "stream",
     "text": [
      "        state  customer\n",
      "0     Arizona      1937\n",
      "1  California      3552\n",
      "2      Nevada       993\n",
      "3      Oregon      2909\n",
      "4     Unknown       631\n",
      "5  Washington       888\n"
     ]
    }
   ],
   "source": [
    "3#\n",
    "customers_per_state = df.groupby(\"state\")[\"customer\"].count().reset_index()\n",
    "states_with_more_than_500_customers = customers_per_state[customers_per_state[\"customer\"] > 500]\n",
    "print(states_with_more_than_500_customers)"
   ]
  },
  {
   "cell_type": "code",
   "execution_count": 9,
   "id": "8ebbb0bf",
   "metadata": {},
   "outputs": [
    {
     "name": "stdout",
     "output_type": "stream",
     "text": [
      "              education gender  customer_lifetime_value\n",
      "0              Bachelor      F              5640.505303\n",
      "1              Bachelor      M              5548.031892\n",
      "2               College      F              5623.611187\n",
      "3               College      M              6005.847375\n",
      "4                Doctor      F              5332.462694\n",
      "5                Doctor      M              5577.669457\n",
      "6  High School or Below      F              6039.553187\n",
      "7  High School or Below      M              6286.731006\n",
      "8                Master      F              5729.855012\n",
      "9                Master      M              5579.099207\n"
     ]
    }
   ],
   "source": [
    "4#\n",
    "median_clv_by_education_gender = df.groupby([\"education\", \"gender\"])[\"customer_lifetime_value\"].median().reset_index()\n",
    "print(median_clv_by_education_gender)"
   ]
  },
  {
   "cell_type": "code",
   "execution_count": 10,
   "id": "ff364608",
   "metadata": {},
   "outputs": [
    {
     "name": "stdout",
     "output_type": "stream",
     "text": [
      "         state        policy  max  min      mean\n",
      "0      Arizona  Corporate L1  3.0  0.0  0.151359\n",
      "1      Arizona  Corporate L2  5.0  0.0  0.353563\n",
      "2      Arizona  Corporate L3  5.0  0.0  0.433426\n",
      "3      Arizona   Personal L1  4.0  0.0  0.305303\n",
      "4      Arizona   Personal L2  5.0  0.0  0.510795\n",
      "5      Arizona   Personal L3  5.0  0.0  0.354010\n",
      "6      Arizona    Special L1  3.0  0.0  0.270740\n",
      "7      Arizona    Special L2  3.0  0.0  0.318651\n",
      "8      Arizona    Special L3  2.0  0.0  0.162380\n",
      "9   California  Corporate L1  4.0  0.0  0.317525\n",
      "10  California  Corporate L2  3.0  0.0  0.275783\n",
      "11  California  Corporate L3  4.0  0.0  0.330109\n",
      "12  California   Personal L1  5.0  0.0  0.443643\n",
      "13  California   Personal L2  5.0  0.0  0.383748\n",
      "14  California   Personal L3  5.0  0.0  0.397578\n",
      "15  California    Special L1  4.0  0.0  0.376028\n",
      "16  California    Special L2  5.0  0.0  0.423847\n",
      "17  California    Special L3  5.0  0.0  0.489005\n",
      "18      Nevada  Corporate L1  3.0  0.0  0.334710\n",
      "19      Nevada  Corporate L2  5.0  0.0  0.374048\n",
      "20      Nevada  Corporate L3  5.0  0.0  0.558911\n",
      "21      Nevada   Personal L1  5.0  0.0  0.372719\n",
      "22      Nevada   Personal L2  5.0  0.0  0.396576\n",
      "23      Nevada   Personal L3  4.0  0.0  0.420396\n",
      "24      Nevada    Special L1  3.0  0.0  0.600000\n",
      "25      Nevada    Special L2  5.0  0.0  0.722222\n",
      "26      Nevada    Special L3  5.0  0.0  0.416667\n",
      "27      Oregon  Corporate L1  4.0  0.0  0.513889\n",
      "28      Oregon  Corporate L2  4.0  0.0  0.290443\n",
      "29      Oregon  Corporate L3  4.0  0.0  0.319544\n",
      "30      Oregon   Personal L1  5.0  0.0  0.292478\n",
      "31      Oregon   Personal L2  5.0  0.0  0.397167\n",
      "32      Oregon   Personal L3  5.0  0.0  0.386324\n",
      "33      Oregon    Special L1  5.0  0.0  0.714286\n",
      "34      Oregon    Special L2  4.0  0.0  0.256393\n",
      "35      Oregon    Special L3  3.0  0.0  0.380241\n",
      "36     Unknown  Corporate L1  3.0  0.0  0.182407\n",
      "37     Unknown  Corporate L2  1.0  0.0  0.179475\n",
      "38     Unknown  Corporate L3  3.0  0.0  0.365866\n",
      "39     Unknown   Personal L1  5.0  0.0  0.425617\n",
      "40     Unknown   Personal L2  5.0  0.0  0.515029\n",
      "41     Unknown   Personal L3  5.0  0.0  0.376623\n",
      "42     Unknown    Special L1  1.0  0.0  0.250000\n",
      "43     Unknown    Special L2  5.0  0.0  0.626322\n",
      "44     Unknown    Special L3  3.0  0.0  0.300000\n",
      "45  Washington  Corporate L1  5.0  0.0  0.619213\n",
      "46  Washington  Corporate L2  4.0  0.0  0.516707\n",
      "47  Washington  Corporate L3  4.0  0.0  0.448554\n",
      "48  Washington   Personal L1  5.0  0.0  0.317518\n",
      "49  Washington   Personal L2  5.0  0.0  0.358172\n",
      "50  Washington   Personal L3  5.0  0.0  0.424581\n",
      "51  Washington    Special L1  1.0  0.0  0.400000\n",
      "52  Washington    Special L2  4.0  0.0  0.500000\n",
      "53  Washington    Special L3  4.0  0.0  0.916667\n"
     ]
    }
   ],
   "source": [
    "5#\n",
    "complaints_stats_by_state_policy = df.groupby([\"state\", \"policy\"])[\"number_of_open_complaints\"].agg(['max', 'min', 'mean']).reset_index()\n",
    "print(complaints_stats_by_state_policy)"
   ]
  },
  {
   "cell_type": "code",
   "execution_count": 11,
   "id": "3e1434a9",
   "metadata": {},
   "outputs": [
    {
     "name": "stdout",
     "output_type": "stream",
     "text": [
      "month          1     2\n",
      "state                 \n",
      "Arizona     1008   929\n",
      "California  1918  1634\n",
      "Nevada       551   442\n",
      "Oregon      1565  1344\n",
      "Unknown      313   318\n",
      "Washington   463   425\n"
     ]
    }
   ],
   "source": [
    "#6\n",
    "policies_by_state_and_month = df.pivot_table(index='state', columns='month', values='policy', aggfunc='count', fill_value=0)\n",
    "print(policies_by_state_and_month)"
   ]
  },
  {
   "cell_type": "code",
   "execution_count": 12,
   "id": "63d6c76c",
   "metadata": {},
   "outputs": [
    {
     "name": "stdout",
     "output_type": "stream",
     "text": [
      "month          1     2\n",
      "state                 \n",
      "Arizona     1008   929\n",
      "California  1918  1634\n",
      "Oregon      1565  1344\n"
     ]
    }
   ],
   "source": [
    "#7\n",
    "policies_by_state_month = df.groupby(['state', 'month'])['policy'].count().reset_index()\n",
    "sorted_policies = policies_by_state_month.sort_values(by='policy', ascending=False)\n",
    "top_3_states = sorted_policies['state'].unique()[:3]\n",
    "top_3_states_policies = sorted_policies[sorted_policies['state'].isin(top_3_states)]\n",
    "policies_by_month_top_states = top_3_states_policies.pivot_table(index='state', columns='month', values='policy', fill_value=0)\n",
    "print(policies_by_month_top_states)"
   ]
  },
  {
   "cell_type": "code",
   "execution_count": 15,
   "id": "df87cfcf",
   "metadata": {},
   "outputs": [
    {
     "name": "stdout",
     "output_type": "stream",
     "text": [
      "  sales_channel  customer_response_rate\n",
      "0         Agent                0.180053\n",
      "1        Branch                0.107876\n",
      "2   Call Center                0.103223\n",
      "3           Web                0.108856\n"
     ]
    },
    {
     "name": "stderr",
     "output_type": "stream",
     "text": [
      "/var/folders/wj/9yy2qymx1q58s3n2gkl01vj00000gn/T/ipykernel_138/417164676.py:2: FutureWarning: This dataframe has a column name that matches the 'value_name' column name of the resulting Dataframe. In the future this will raise an error, please set the 'value_name' parameter of DataFrame.melt to a unique name.\n",
      "  unpivoted_df = pd.melt(df, id_vars='sales_channel', value_vars='response', value_name='response')\n"
     ]
    }
   ],
   "source": [
    "#8\n",
    "unpivoted_df = pd.melt(df, id_vars='sales_channel', value_vars='response', value_name='response')\n",
    "positive_responses_df = unpivoted_df[unpivoted_df['response'] == 'Yes']\n",
    "customer_response_rate = positive_responses_df.groupby('sales_channel')['response'].count() / df.groupby('sales_channel')['response'].count()\n",
    "response_rate_by_channel = pd.DataFrame({'customer_response_rate': customer_response_rate}).reset_index()\n",
    "print(response_rate_by_channel)"
   ]
  }
 ],
 "metadata": {
  "kernelspec": {
   "display_name": "Python 3 (ipykernel)",
   "language": "python",
   "name": "python3"
  },
  "language_info": {
   "codemirror_mode": {
    "name": "ipython",
    "version": 3
   },
   "file_extension": ".py",
   "mimetype": "text/x-python",
   "name": "python",
   "nbconvert_exporter": "python",
   "pygments_lexer": "ipython3",
   "version": "3.10.9"
  }
 },
 "nbformat": 4,
 "nbformat_minor": 5
}
