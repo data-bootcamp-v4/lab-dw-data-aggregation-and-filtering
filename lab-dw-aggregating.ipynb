{
 "cells": [
  {
   "cell_type": "markdown",
   "id": "31969215-2a90-4d8b-ac36-646a7ae13744",
   "metadata": {
    "id": "31969215-2a90-4d8b-ac36-646a7ae13744"
   },
   "source": [
    "# Lab | Data Aggregation and Filtering"
   ]
  },
  {
   "cell_type": "markdown",
   "id": "a8f08a52-bec0-439b-99cc-11d3809d8b5d",
   "metadata": {
    "id": "a8f08a52-bec0-439b-99cc-11d3809d8b5d"
   },
   "source": [
    "In this challenge, we will continue to work with customer data from an insurance company. We will use the dataset called marketing_customer_analysis.csv, which can be found at the following link:\n",
    "\n",
    "https://raw.githubusercontent.com/data-bootcamp-v4/data/main/marketing_customer_analysis.csv\n",
    "\n",
    "This dataset contains information such as customer demographics, policy details, vehicle information, and the customer's response to the last marketing campaign. Our goal is to explore and analyze this data by first performing data cleaning, formatting, and structuring."
   ]
  },
  {
   "cell_type": "markdown",
   "id": "9c98ddc5-b041-4c94-ada1-4dfee5c98e50",
   "metadata": {
    "id": "9c98ddc5-b041-4c94-ada1-4dfee5c98e50"
   },
   "source": [
    "1. Create a new DataFrame that only includes customers who have a total_claim_amount greater than $1,000 and have a response of \"Yes\" to the last marketing campaign."
   ]
  },
  {
   "cell_type": "markdown",
   "id": "b9be383e-5165-436e-80c8-57d4c757c8c3",
   "metadata": {
    "id": "b9be383e-5165-436e-80c8-57d4c757c8c3"
   },
   "source": [
    "2. Using the original Dataframe, analyze the average total_claim_amount by each policy type and gender for customers who have responded \"Yes\" to the last marketing campaign. Write your conclusions."
   ]
  },
  {
   "cell_type": "markdown",
   "id": "7050f4ac-53c5-4193-a3c0-8699b87196f0",
   "metadata": {
    "id": "7050f4ac-53c5-4193-a3c0-8699b87196f0"
   },
   "source": [
    "3. Analyze the total number of customers who have policies in each state, and then filter the results to only include states where there are more than 500 customers."
   ]
  },
  {
   "cell_type": "markdown",
   "id": "b60a4443-a1a7-4bbf-b78e-9ccdf9895e0d",
   "metadata": {
    "id": "b60a4443-a1a7-4bbf-b78e-9ccdf9895e0d"
   },
   "source": [
    "4. Find the maximum, minimum, and median customer lifetime value by education level and gender. Write your conclusions."
   ]
  },
  {
   "cell_type": "markdown",
   "id": "63501737",
   "metadata": {},
   "source": [
    "Import dataset and load it into a dataframe"
   ]
  },
  {
   "cell_type": "code",
   "execution_count": 24,
   "id": "449dce3c",
   "metadata": {},
   "outputs": [],
   "source": [
    "#Import libraries that will be working with\n",
    "import pandas as pd \n",
    "# Load dataset from an online source\n",
    "url = \"https://raw.githubusercontent.com/data-bootcamp-v4/data/main/marketing_customer_analysis.csv\"\n",
    "df_insurance_marketing_customer = pd.read_csv(url)"
   ]
  },
  {
   "cell_type": "markdown",
   "id": "831b9c12",
   "metadata": {},
   "source": [
    "Data cleaning, formatting and structuring"
   ]
  },
  {
   "cell_type": "code",
   "execution_count": 25,
   "id": "7b0aea41",
   "metadata": {},
   "outputs": [
    {
     "data": {
      "text/html": [
       "<div>\n",
       "<style scoped>\n",
       "    .dataframe tbody tr th:only-of-type {\n",
       "        vertical-align: middle;\n",
       "    }\n",
       "\n",
       "    .dataframe tbody tr th {\n",
       "        vertical-align: top;\n",
       "    }\n",
       "\n",
       "    .dataframe thead th {\n",
       "        text-align: right;\n",
       "    }\n",
       "</style>\n",
       "<table border=\"1\" class=\"dataframe\">\n",
       "  <thead>\n",
       "    <tr style=\"text-align: right;\">\n",
       "      <th></th>\n",
       "      <th>Unnamed: 0</th>\n",
       "      <th>Customer</th>\n",
       "      <th>State</th>\n",
       "      <th>Customer Lifetime Value</th>\n",
       "      <th>Response</th>\n",
       "      <th>Coverage</th>\n",
       "      <th>Education</th>\n",
       "      <th>Effective To Date</th>\n",
       "      <th>EmploymentStatus</th>\n",
       "      <th>Gender</th>\n",
       "      <th>...</th>\n",
       "      <th>Number of Open Complaints</th>\n",
       "      <th>Number of Policies</th>\n",
       "      <th>Policy Type</th>\n",
       "      <th>Policy</th>\n",
       "      <th>Renew Offer Type</th>\n",
       "      <th>Sales Channel</th>\n",
       "      <th>Total Claim Amount</th>\n",
       "      <th>Vehicle Class</th>\n",
       "      <th>Vehicle Size</th>\n",
       "      <th>Vehicle Type</th>\n",
       "    </tr>\n",
       "  </thead>\n",
       "  <tbody>\n",
       "    <tr>\n",
       "      <th>0</th>\n",
       "      <td>0</td>\n",
       "      <td>DK49336</td>\n",
       "      <td>Arizona</td>\n",
       "      <td>4809.216960</td>\n",
       "      <td>No</td>\n",
       "      <td>Basic</td>\n",
       "      <td>College</td>\n",
       "      <td>2/18/11</td>\n",
       "      <td>Employed</td>\n",
       "      <td>M</td>\n",
       "      <td>...</td>\n",
       "      <td>0.0</td>\n",
       "      <td>9</td>\n",
       "      <td>Corporate Auto</td>\n",
       "      <td>Corporate L3</td>\n",
       "      <td>Offer3</td>\n",
       "      <td>Agent</td>\n",
       "      <td>292.800000</td>\n",
       "      <td>Four-Door Car</td>\n",
       "      <td>Medsize</td>\n",
       "      <td>NaN</td>\n",
       "    </tr>\n",
       "    <tr>\n",
       "      <th>1</th>\n",
       "      <td>1</td>\n",
       "      <td>KX64629</td>\n",
       "      <td>California</td>\n",
       "      <td>2228.525238</td>\n",
       "      <td>No</td>\n",
       "      <td>Basic</td>\n",
       "      <td>College</td>\n",
       "      <td>1/18/11</td>\n",
       "      <td>Unemployed</td>\n",
       "      <td>F</td>\n",
       "      <td>...</td>\n",
       "      <td>0.0</td>\n",
       "      <td>1</td>\n",
       "      <td>Personal Auto</td>\n",
       "      <td>Personal L3</td>\n",
       "      <td>Offer4</td>\n",
       "      <td>Call Center</td>\n",
       "      <td>744.924331</td>\n",
       "      <td>Four-Door Car</td>\n",
       "      <td>Medsize</td>\n",
       "      <td>NaN</td>\n",
       "    </tr>\n",
       "    <tr>\n",
       "      <th>2</th>\n",
       "      <td>2</td>\n",
       "      <td>LZ68649</td>\n",
       "      <td>Washington</td>\n",
       "      <td>14947.917300</td>\n",
       "      <td>No</td>\n",
       "      <td>Basic</td>\n",
       "      <td>Bachelor</td>\n",
       "      <td>2/10/11</td>\n",
       "      <td>Employed</td>\n",
       "      <td>M</td>\n",
       "      <td>...</td>\n",
       "      <td>0.0</td>\n",
       "      <td>2</td>\n",
       "      <td>Personal Auto</td>\n",
       "      <td>Personal L3</td>\n",
       "      <td>Offer3</td>\n",
       "      <td>Call Center</td>\n",
       "      <td>480.000000</td>\n",
       "      <td>SUV</td>\n",
       "      <td>Medsize</td>\n",
       "      <td>A</td>\n",
       "    </tr>\n",
       "    <tr>\n",
       "      <th>3</th>\n",
       "      <td>3</td>\n",
       "      <td>XL78013</td>\n",
       "      <td>Oregon</td>\n",
       "      <td>22332.439460</td>\n",
       "      <td>Yes</td>\n",
       "      <td>Extended</td>\n",
       "      <td>College</td>\n",
       "      <td>1/11/11</td>\n",
       "      <td>Employed</td>\n",
       "      <td>M</td>\n",
       "      <td>...</td>\n",
       "      <td>0.0</td>\n",
       "      <td>2</td>\n",
       "      <td>Corporate Auto</td>\n",
       "      <td>Corporate L3</td>\n",
       "      <td>Offer2</td>\n",
       "      <td>Branch</td>\n",
       "      <td>484.013411</td>\n",
       "      <td>Four-Door Car</td>\n",
       "      <td>Medsize</td>\n",
       "      <td>A</td>\n",
       "    </tr>\n",
       "    <tr>\n",
       "      <th>4</th>\n",
       "      <td>4</td>\n",
       "      <td>QA50777</td>\n",
       "      <td>Oregon</td>\n",
       "      <td>9025.067525</td>\n",
       "      <td>No</td>\n",
       "      <td>Premium</td>\n",
       "      <td>Bachelor</td>\n",
       "      <td>1/17/11</td>\n",
       "      <td>Medical Leave</td>\n",
       "      <td>F</td>\n",
       "      <td>...</td>\n",
       "      <td>NaN</td>\n",
       "      <td>7</td>\n",
       "      <td>Personal Auto</td>\n",
       "      <td>Personal L2</td>\n",
       "      <td>Offer1</td>\n",
       "      <td>Branch</td>\n",
       "      <td>707.925645</td>\n",
       "      <td>Four-Door Car</td>\n",
       "      <td>Medsize</td>\n",
       "      <td>NaN</td>\n",
       "    </tr>\n",
       "  </tbody>\n",
       "</table>\n",
       "<p>5 rows × 26 columns</p>\n",
       "</div>"
      ],
      "text/plain": [
       "   Unnamed: 0 Customer       State  Customer Lifetime Value Response  \\\n",
       "0           0  DK49336     Arizona              4809.216960       No   \n",
       "1           1  KX64629  California              2228.525238       No   \n",
       "2           2  LZ68649  Washington             14947.917300       No   \n",
       "3           3  XL78013      Oregon             22332.439460      Yes   \n",
       "4           4  QA50777      Oregon              9025.067525       No   \n",
       "\n",
       "   Coverage Education Effective To Date EmploymentStatus Gender  ...  \\\n",
       "0     Basic   College           2/18/11         Employed      M  ...   \n",
       "1     Basic   College           1/18/11       Unemployed      F  ...   \n",
       "2     Basic  Bachelor           2/10/11         Employed      M  ...   \n",
       "3  Extended   College           1/11/11         Employed      M  ...   \n",
       "4   Premium  Bachelor           1/17/11    Medical Leave      F  ...   \n",
       "\n",
       "   Number of Open Complaints Number of Policies     Policy Type        Policy  \\\n",
       "0                        0.0                  9  Corporate Auto  Corporate L3   \n",
       "1                        0.0                  1   Personal Auto   Personal L3   \n",
       "2                        0.0                  2   Personal Auto   Personal L3   \n",
       "3                        0.0                  2  Corporate Auto  Corporate L3   \n",
       "4                        NaN                  7   Personal Auto   Personal L2   \n",
       "\n",
       "   Renew Offer Type  Sales Channel  Total Claim Amount  Vehicle Class  \\\n",
       "0            Offer3          Agent          292.800000  Four-Door Car   \n",
       "1            Offer4    Call Center          744.924331  Four-Door Car   \n",
       "2            Offer3    Call Center          480.000000            SUV   \n",
       "3            Offer2         Branch          484.013411  Four-Door Car   \n",
       "4            Offer1         Branch          707.925645  Four-Door Car   \n",
       "\n",
       "  Vehicle Size Vehicle Type  \n",
       "0      Medsize          NaN  \n",
       "1      Medsize          NaN  \n",
       "2      Medsize            A  \n",
       "3      Medsize            A  \n",
       "4      Medsize          NaN  \n",
       "\n",
       "[5 rows x 26 columns]"
      ]
     },
     "execution_count": 25,
     "metadata": {},
     "output_type": "execute_result"
    }
   ],
   "source": [
    "df_insurance_marketing_customer.head()"
   ]
  },
  {
   "cell_type": "code",
   "execution_count": 26,
   "id": "0780273a",
   "metadata": {},
   "outputs": [
    {
     "name": "stdout",
     "output_type": "stream",
     "text": [
      "<class 'pandas.core.frame.DataFrame'>\n",
      "RangeIndex: 10910 entries, 0 to 10909\n",
      "Data columns (total 26 columns):\n",
      " #   Column                         Non-Null Count  Dtype  \n",
      "---  ------                         --------------  -----  \n",
      " 0   Unnamed: 0                     10910 non-null  int64  \n",
      " 1   Customer                       10910 non-null  object \n",
      " 2   State                          10279 non-null  object \n",
      " 3   Customer Lifetime Value        10910 non-null  float64\n",
      " 4   Response                       10279 non-null  object \n",
      " 5   Coverage                       10910 non-null  object \n",
      " 6   Education                      10910 non-null  object \n",
      " 7   Effective To Date              10910 non-null  object \n",
      " 8   EmploymentStatus               10910 non-null  object \n",
      " 9   Gender                         10910 non-null  object \n",
      " 10  Income                         10910 non-null  int64  \n",
      " 11  Location Code                  10910 non-null  object \n",
      " 12  Marital Status                 10910 non-null  object \n",
      " 13  Monthly Premium Auto           10910 non-null  int64  \n",
      " 14  Months Since Last Claim        10277 non-null  float64\n",
      " 15  Months Since Policy Inception  10910 non-null  int64  \n",
      " 16  Number of Open Complaints      10277 non-null  float64\n",
      " 17  Number of Policies             10910 non-null  int64  \n",
      " 18  Policy Type                    10910 non-null  object \n",
      " 19  Policy                         10910 non-null  object \n",
      " 20  Renew Offer Type               10910 non-null  object \n",
      " 21  Sales Channel                  10910 non-null  object \n",
      " 22  Total Claim Amount             10910 non-null  float64\n",
      " 23  Vehicle Class                  10288 non-null  object \n",
      " 24  Vehicle Size                   10288 non-null  object \n",
      " 25  Vehicle Type                   5428 non-null   object \n",
      "dtypes: float64(4), int64(5), object(17)\n",
      "memory usage: 2.2+ MB\n"
     ]
    }
   ],
   "source": [
    "df_insurance_marketing_customer.info()"
   ]
  },
  {
   "cell_type": "code",
   "execution_count": 27,
   "id": "b2806c01",
   "metadata": {},
   "outputs": [
    {
     "data": {
      "text/plain": [
       "Index(['unnamed:_0', 'customer', 'state', 'customer_lifetime_value',\n",
       "       'response', 'coverage', 'education', 'effective_to_date',\n",
       "       'employment_status', 'gender', 'income', 'location_code',\n",
       "       'marital_status', 'monthly_premium_auto', 'months_since_last_claim',\n",
       "       'months_since_policy_inception', 'number_of_open_complaints',\n",
       "       'number_of_policies', 'policy_type', 'policy', 'renew_offer_type',\n",
       "       'sales_channel', 'total_claim_amount', 'vehicle_class', 'vehicle_size',\n",
       "       'vehicle_type'],\n",
       "      dtype='object')"
      ]
     },
     "execution_count": 27,
     "metadata": {},
     "output_type": "execute_result"
    }
   ],
   "source": [
    "# Convert all column names to lowecase and underscores\n",
    "df_insurance_marketing_customer.columns = df_insurance_marketing_customer.columns.str.lower().str.replace(\" \", \"_\")\n",
    "# Rename the column that still not follow the rule\n",
    "df_insurance_marketing_customer= df_insurance_marketing_customer.rename(columns={\"employmentstatus\": \"employment_status\"})\n",
    "#Display new names for each column \n",
    "df_insurance_marketing_customer.columns"
   ]
  },
  {
   "cell_type": "code",
   "execution_count": 28,
   "id": "20605032",
   "metadata": {},
   "outputs": [],
   "source": [
    "#Delete columns we don't need for this exercise\n",
    "columns_delete = ['unnamed:_0', 'coverage','employment_status', 'income', 'location_code',\n",
    "       'marital_status', 'monthly_premium_auto', 'months_since_last_claim',\n",
    "       'months_since_policy_inception', 'number_of_open_complaints', 'policy',\n",
    "       'renew_offer_type', 'vehicle_class', 'vehicle_size','vehicle_type']\n",
    "\n",
    "df_insurance_marketing_customer_removed = df_insurance_marketing_customer.drop(columns_delete, axis=1)"
   ]
  },
  {
   "cell_type": "code",
   "execution_count": 29,
   "id": "0a1950c8",
   "metadata": {},
   "outputs": [
    {
     "name": "stdout",
     "output_type": "stream",
     "text": [
      "Number of unique values:\n",
      "customer                   9134\n",
      "state                         5\n",
      "customer_lifetime_value    8041\n",
      "response                      2\n",
      "education                     5\n",
      "effective_to_date            59\n",
      "gender                        2\n",
      "number_of_policies            9\n",
      "policy_type                   3\n",
      "sales_channel                 4\n",
      "total_claim_amount         5106\n",
      "dtype: int64\n",
      "\n"
     ]
    }
   ],
   "source": [
    "#Numbers for unique values of each columns\n",
    "print(\"Number of unique values:\")\n",
    "print(df_insurance_marketing_customer_removed.nunique())\n",
    "print()"
   ]
  },
  {
   "cell_type": "code",
   "execution_count": 30,
   "id": "5b8cfdfa",
   "metadata": {},
   "outputs": [
    {
     "name": "stdout",
     "output_type": "stream",
     "text": [
      "Number of duplicated rows before cleaning: 1187\n",
      "Number of duplicated rows after cleaning: 0\n"
     ]
    }
   ],
   "source": [
    "# Check for duplicated values\n",
    "duplicates = df_insurance_marketing_customer_removed.duplicated()\n",
    "number_of_duplicates = duplicates.sum()\n",
    "# Print the number of duplicated rows\n",
    "print(f\"Number of duplicated rows before cleaning: {number_of_duplicates}\")\n",
    "\n",
    "# Remove duplicates and reset index\n",
    "df_insurance_marketing_customer_cleaned = df_insurance_marketing_customer_removed.drop_duplicates().reset_index(drop=True)\n",
    "    \n",
    "# Check for duplicates after cleaning\n",
    "duplicates_after = df_insurance_marketing_customer_cleaned.duplicated().sum()\n",
    "print(f\"Number of duplicated rows after cleaning: {duplicates_after}\")"
   ]
  },
  {
   "cell_type": "code",
   "execution_count": 31,
   "id": "b22f2dff",
   "metadata": {},
   "outputs": [
    {
     "name": "stdout",
     "output_type": "stream",
     "text": [
      "Number of null values in each column before handling:\n",
      "customer                     0\n",
      "state                      589\n",
      "customer_lifetime_value      0\n",
      "response                   589\n",
      "education                    0\n",
      "effective_to_date            0\n",
      "gender                       0\n",
      "number_of_policies           0\n",
      "policy_type                  0\n",
      "sales_channel                0\n",
      "total_claim_amount           0\n",
      "dtype: int64\n",
      "\n",
      "Number of null values in each column after handling:\n",
      "Series([], dtype: int64)\n"
     ]
    }
   ],
   "source": [
    " # Count the number of null values in each column\n",
    "print(\"Number of null values in each column before handling:\")\n",
    "print(df_insurance_marketing_customer_cleaned.isna().sum())\n",
    "\n",
    "# Fill null values in two columns state and response with the mode\n",
    "for column in df_insurance_marketing_customer_cleaned.select_dtypes(include=[\"object\"]).columns:\n",
    "    mode_value = df_insurance_marketing_customer_cleaned[column].mode()[0]\n",
    "    df_insurance_marketing_customer_cleaned[column] = df_insurance_marketing_customer_cleaned[column].fillna(mode_value)\n",
    "\n",
    "# Check if there are any remaining null values\n",
    "remaining_nulls = df_insurance_marketing_customer_cleaned.isnull().sum()\n",
    "print(\"\\nNumber of null values in each column after handling:\")\n",
    "print(remaining_nulls[remaining_nulls > 0])\n"
   ]
  },
  {
   "cell_type": "code",
   "execution_count": 32,
   "id": "32bc6c2a",
   "metadata": {},
   "outputs": [
    {
     "name": "stdout",
     "output_type": "stream",
     "text": [
      "<class 'pandas.core.frame.DataFrame'>\n",
      "RangeIndex: 9723 entries, 0 to 9722\n",
      "Data columns (total 11 columns):\n",
      " #   Column                   Non-Null Count  Dtype  \n",
      "---  ------                   --------------  -----  \n",
      " 0   customer                 9723 non-null   object \n",
      " 1   state                    9723 non-null   object \n",
      " 2   customer_lifetime_value  9723 non-null   float64\n",
      " 3   response                 9723 non-null   object \n",
      " 4   education                9723 non-null   object \n",
      " 5   effective_to_date        9723 non-null   object \n",
      " 6   gender                   9723 non-null   object \n",
      " 7   number_of_policies       9723 non-null   int64  \n",
      " 8   policy_type              9723 non-null   object \n",
      " 9   sales_channel            9723 non-null   object \n",
      " 10  total_claim_amount       9723 non-null   float64\n",
      "dtypes: float64(2), int64(1), object(8)\n",
      "memory usage: 835.7+ KB\n"
     ]
    }
   ],
   "source": [
    "df_insurance_marketing_customer_cleaned.info()"
   ]
  },
  {
   "cell_type": "code",
   "execution_count": 33,
   "id": "b8f71914",
   "metadata": {},
   "outputs": [
    {
     "name": "stdout",
     "output_type": "stream",
     "text": [
      "\n",
      "Unique values in column customer:\n",
      "['DK49336' 'KX64629' 'LZ68649' ... 'KX53892' 'TL39050' 'WA60547']\n",
      "\n",
      "Unique values in column state:\n",
      "['Arizona' 'California' 'Washington' 'Oregon' 'Nevada']\n",
      "\n",
      "Unique values in column customer_lifetime_value:\n",
      "[ 4809.21696   2228.525238 14947.9173   ...  5259.444853 23893.3041\n",
      " 11971.97765 ]\n",
      "\n",
      "Unique values in column response:\n",
      "['No' 'Yes']\n",
      "\n",
      "Unique values in column education:\n",
      "['College' 'Bachelor' 'High School or Below' 'Doctor' 'Master']\n",
      "\n",
      "Unique values in column effective_to_date:\n",
      "['2/18/11' '1/18/11' '2/10/11' '1/11/11' '1/17/11' '2/14/11' '2/24/11'\n",
      " '1/19/11' '1/4/11' '1/2/11' '2/7/11' '1/31/11' '1/26/11' '2/28/11'\n",
      " '1/16/11' '2/26/11' '2/23/11' '1/15/11' '2/2/11' '2/15/11' '1/24/11'\n",
      " '2/21/11' '2/22/11' '1/7/11' '1/28/11' '2/8/11' '2/12/11' '2/20/11'\n",
      " '1/5/11' '2/19/11' '1/3/11' '2/3/11' '1/22/11' '1/23/11' '2/5/11'\n",
      " '2/13/11' '1/25/11' '2/16/11' '2/1/11' '1/27/11' '1/12/11' '1/20/11'\n",
      " '2/6/11' '2/11/11' '1/21/11' '1/29/11' '1/9/11' '2/9/11' '2/27/11'\n",
      " '1/1/11' '2/17/11' '2/25/11' '1/13/11' '1/6/11' '2/4/11' '1/14/11'\n",
      " '1/10/11' '1/8/11' '1/30/11']\n",
      "\n",
      "Unique values in column gender:\n",
      "['M' 'F']\n",
      "\n",
      "Unique values in column number_of_policies:\n",
      "[9 1 2 7 4 3 6 8 5]\n",
      "\n",
      "Unique values in column policy_type:\n",
      "['Corporate Auto' 'Personal Auto' 'Special Auto']\n",
      "\n",
      "Unique values in column sales_channel:\n",
      "['Agent' 'Call Center' 'Branch' 'Web']\n",
      "\n",
      "Unique values in column total_claim_amount:\n",
      "[292.8      744.924331 480.       ... 273.018929 381.306996 618.288849]\n"
     ]
    }
   ],
   "source": [
    "# Imprimir valores únicos de cada columna\n",
    "for column in df_insurance_marketing_customer_cleaned.columns:\n",
    "    unique_values = df_insurance_marketing_customer_cleaned[column].unique()\n",
    "    print(f\"\\nUnique values in column {column}:\")\n",
    "    print(unique_values)"
   ]
  },
  {
   "cell_type": "markdown",
   "id": "2a052d06",
   "metadata": {},
   "source": [
    "Exercicies"
   ]
  },
  {
   "cell_type": "code",
   "execution_count": 34,
   "id": "616679a5",
   "metadata": {},
   "outputs": [
    {
     "data": {
      "text/html": [
       "<div>\n",
       "<style scoped>\n",
       "    .dataframe tbody tr th:only-of-type {\n",
       "        vertical-align: middle;\n",
       "    }\n",
       "\n",
       "    .dataframe tbody tr th {\n",
       "        vertical-align: top;\n",
       "    }\n",
       "\n",
       "    .dataframe thead th {\n",
       "        text-align: right;\n",
       "    }\n",
       "</style>\n",
       "<table border=\"1\" class=\"dataframe\">\n",
       "  <thead>\n",
       "    <tr style=\"text-align: right;\">\n",
       "      <th></th>\n",
       "      <th>customer</th>\n",
       "      <th>state</th>\n",
       "      <th>customer_lifetime_value</th>\n",
       "      <th>response</th>\n",
       "      <th>education</th>\n",
       "      <th>effective_to_date</th>\n",
       "      <th>gender</th>\n",
       "      <th>number_of_policies</th>\n",
       "      <th>policy_type</th>\n",
       "      <th>sales_channel</th>\n",
       "      <th>total_claim_amount</th>\n",
       "    </tr>\n",
       "  </thead>\n",
       "  <tbody>\n",
       "    <tr>\n",
       "      <th>189</th>\n",
       "      <td>OK31456</td>\n",
       "      <td>California</td>\n",
       "      <td>11009.13</td>\n",
       "      <td>Yes</td>\n",
       "      <td>Bachelor</td>\n",
       "      <td>1/24/11</td>\n",
       "      <td>F</td>\n",
       "      <td>1</td>\n",
       "      <td>Corporate Auto</td>\n",
       "      <td>Agent</td>\n",
       "      <td>1358.40</td>\n",
       "    </tr>\n",
       "    <tr>\n",
       "      <th>236</th>\n",
       "      <td>YJ16163</td>\n",
       "      <td>Oregon</td>\n",
       "      <td>11009.13</td>\n",
       "      <td>Yes</td>\n",
       "      <td>Bachelor</td>\n",
       "      <td>1/24/11</td>\n",
       "      <td>F</td>\n",
       "      <td>1</td>\n",
       "      <td>Special Auto</td>\n",
       "      <td>Agent</td>\n",
       "      <td>1358.40</td>\n",
       "    </tr>\n",
       "    <tr>\n",
       "      <th>419</th>\n",
       "      <td>GW43195</td>\n",
       "      <td>Oregon</td>\n",
       "      <td>25807.06</td>\n",
       "      <td>Yes</td>\n",
       "      <td>College</td>\n",
       "      <td>2/13/11</td>\n",
       "      <td>F</td>\n",
       "      <td>2</td>\n",
       "      <td>Personal Auto</td>\n",
       "      <td>Branch</td>\n",
       "      <td>1027.20</td>\n",
       "    </tr>\n",
       "    <tr>\n",
       "      <th>442</th>\n",
       "      <td>IP94270</td>\n",
       "      <td>Arizona</td>\n",
       "      <td>13736.13</td>\n",
       "      <td>Yes</td>\n",
       "      <td>Master</td>\n",
       "      <td>2/13/11</td>\n",
       "      <td>F</td>\n",
       "      <td>8</td>\n",
       "      <td>Personal Auto</td>\n",
       "      <td>Web</td>\n",
       "      <td>1261.32</td>\n",
       "    </tr>\n",
       "    <tr>\n",
       "      <th>587</th>\n",
       "      <td>FJ28407</td>\n",
       "      <td>California</td>\n",
       "      <td>5619.69</td>\n",
       "      <td>Yes</td>\n",
       "      <td>High School or Below</td>\n",
       "      <td>1/26/11</td>\n",
       "      <td>M</td>\n",
       "      <td>1</td>\n",
       "      <td>Personal Auto</td>\n",
       "      <td>Web</td>\n",
       "      <td>1027.00</td>\n",
       "    </tr>\n",
       "  </tbody>\n",
       "</table>\n",
       "</div>"
      ],
      "text/plain": [
       "    customer       state  customer_lifetime_value response  \\\n",
       "189  OK31456  California                 11009.13      Yes   \n",
       "236  YJ16163      Oregon                 11009.13      Yes   \n",
       "419  GW43195      Oregon                 25807.06      Yes   \n",
       "442  IP94270     Arizona                 13736.13      Yes   \n",
       "587  FJ28407  California                  5619.69      Yes   \n",
       "\n",
       "                education effective_to_date gender  number_of_policies  \\\n",
       "189              Bachelor           1/24/11      F                   1   \n",
       "236              Bachelor           1/24/11      F                   1   \n",
       "419               College           2/13/11      F                   2   \n",
       "442                Master           2/13/11      F                   8   \n",
       "587  High School or Below           1/26/11      M                   1   \n",
       "\n",
       "        policy_type sales_channel  total_claim_amount  \n",
       "189  Corporate Auto         Agent             1358.40  \n",
       "236    Special Auto         Agent             1358.40  \n",
       "419   Personal Auto        Branch             1027.20  \n",
       "442   Personal Auto           Web             1261.32  \n",
       "587   Personal Auto           Web             1027.00  "
      ]
     },
     "execution_count": 34,
     "metadata": {},
     "output_type": "execute_result"
    }
   ],
   "source": [
    "#1. Create new DataFrame that only includes customers who have a total_claim_amount greater than 1000 and \"Yes\" response to latest marketing campaing\n",
    "filtered_by_total_claim_amount_and_response_df = df_insurance_marketing_customer_cleaned[(df_insurance_marketing_customer_cleaned[\"total_claim_amount\"] > 1000) & (df_insurance_marketing_customer_cleaned[\"response\"] == \"Yes\")]\n",
    "filtered_by_total_claim_amount_and_response_df.head().round(2)\n"
   ]
  },
  {
   "cell_type": "code",
   "execution_count": 35,
   "id": "f8af3121",
   "metadata": {},
   "outputs": [
    {
     "name": "stdout",
     "output_type": "stream",
     "text": [
      "Numerical columns stats:\n",
      "       customer_lifetime_value  number_of_policies  total_claim_amount\n",
      "count                    60.00                60.0               60.00\n",
      "mean                  11625.26                 2.4             1181.05\n",
      "std                    6312.02                 2.6              137.31\n",
      "min                    3508.57                 1.0             1008.00\n",
      "25%                    7840.17                 1.0             1027.20\n",
      "50%                   10571.84                 1.0             1218.80\n",
      "75%                   13736.13                 2.0             1300.80\n",
      "max                   25807.06                 8.0             1358.40\n",
      "\n",
      "Categorical columns stats:\n",
      "       customer   state response education effective_to_date gender  \\\n",
      "count        60      60       60        60                60     60   \n",
      "unique       60       5        1         4                 8      2   \n",
      "top     OK31456  Oregon      Yes  Bachelor           2/13/11      F   \n",
      "freq          1      24       60        18                12     36   \n",
      "\n",
      "          policy_type sales_channel  \n",
      "count              60            60  \n",
      "unique              3             3  \n",
      "top     Personal Auto         Agent  \n",
      "freq               48            36  \n"
     ]
    }
   ],
   "source": [
    "# Describe numerical columns\n",
    "numerical_columns_stats = filtered_by_total_claim_amount_and_response_df.describe().round(2)\n",
    "\n",
    "# Describe categorical columns\n",
    "categorical_columns_stats = filtered_by_total_claim_amount_and_response_df.describe(include=[\"object\"])\n",
    "\n",
    "print(\"Numerical columns stats:\")\n",
    "print(numerical_columns_stats)\n",
    "\n",
    "print(\"\\nCategorical columns stats:\")\n",
    "print(categorical_columns_stats)"
   ]
  },
  {
   "cell_type": "code",
   "execution_count": 36,
   "id": "b4bdf1ee",
   "metadata": {},
   "outputs": [
    {
     "data": {
      "text/html": [
       "<div>\n",
       "<style scoped>\n",
       "    .dataframe tbody tr th:only-of-type {\n",
       "        vertical-align: middle;\n",
       "    }\n",
       "\n",
       "    .dataframe tbody tr th {\n",
       "        vertical-align: top;\n",
       "    }\n",
       "\n",
       "    .dataframe thead th {\n",
       "        text-align: right;\n",
       "    }\n",
       "</style>\n",
       "<table border=\"1\" class=\"dataframe\">\n",
       "  <thead>\n",
       "    <tr style=\"text-align: right;\">\n",
       "      <th></th>\n",
       "      <th>policy_type</th>\n",
       "      <th>gender</th>\n",
       "      <th>avg_total_claim_amount</th>\n",
       "    </tr>\n",
       "  </thead>\n",
       "  <tbody>\n",
       "    <tr>\n",
       "      <th>0</th>\n",
       "      <td>Corporate Auto</td>\n",
       "      <td>F</td>\n",
       "      <td>433.74</td>\n",
       "    </tr>\n",
       "    <tr>\n",
       "      <th>1</th>\n",
       "      <td>Corporate Auto</td>\n",
       "      <td>M</td>\n",
       "      <td>408.58</td>\n",
       "    </tr>\n",
       "    <tr>\n",
       "      <th>2</th>\n",
       "      <td>Personal Auto</td>\n",
       "      <td>F</td>\n",
       "      <td>452.97</td>\n",
       "    </tr>\n",
       "    <tr>\n",
       "      <th>3</th>\n",
       "      <td>Personal Auto</td>\n",
       "      <td>M</td>\n",
       "      <td>457.01</td>\n",
       "    </tr>\n",
       "    <tr>\n",
       "      <th>4</th>\n",
       "      <td>Special Auto</td>\n",
       "      <td>F</td>\n",
       "      <td>453.28</td>\n",
       "    </tr>\n",
       "    <tr>\n",
       "      <th>5</th>\n",
       "      <td>Special Auto</td>\n",
       "      <td>M</td>\n",
       "      <td>429.53</td>\n",
       "    </tr>\n",
       "  </tbody>\n",
       "</table>\n",
       "</div>"
      ],
      "text/plain": [
       "      policy_type gender  avg_total_claim_amount\n",
       "0  Corporate Auto      F                  433.74\n",
       "1  Corporate Auto      M                  408.58\n",
       "2   Personal Auto      F                  452.97\n",
       "3   Personal Auto      M                  457.01\n",
       "4    Special Auto      F                  453.28\n",
       "5    Special Auto      M                  429.53"
      ]
     },
     "execution_count": 36,
     "metadata": {},
     "output_type": "execute_result"
    }
   ],
   "source": [
    "#2. Using the original Df, analyze average total_claim_amount by each policy type and gender for customers who have responded \"Yes\" to the last marketing campaign. Write your conclusions.\n",
    "\n",
    "#2.1 Filtred original Df to a Df with the data of only the people who respond Yes to latest Marketing campaing\n",
    "filtered_by_response_df=df_insurance_marketing_customer[(df_insurance_marketing_customer[\"response\"] == \"Yes\")]\n",
    "\n",
    "#2.2 Group by Policy Type and Gender \n",
    "grouped_df=filtered_by_response_df.groupby([\"policy_type\", \"gender\"])\n",
    "\n",
    "#2.3 Calculate average for \"Total Claim Amount\"\n",
    "average_total_claims_grouped_df=grouped_df[\"total_claim_amount\"].mean().reset_index()\n",
    "\n",
    "#Rename with Mean calculation over Total Claim Amount\n",
    "average_total_claims_grouped_df.rename(columns={\"total_claim_amount\": \"avg_total_claim_amount\"}, inplace=True)\n",
    "\n",
    "#Visualize\n",
    "average_total_claims_grouped_df.round(2)\n"
   ]
  },
  {
   "cell_type": "code",
   "execution_count": 37,
   "id": "2eb65b95",
   "metadata": {},
   "outputs": [
    {
     "name": "stdout",
     "output_type": "stream",
     "text": [
      "Conclusions 2:\n",
      "Personal Auto policy type has the higher average total claim amount overall.\n",
      "Regarding gender females tend to have higher average total claims amount than males in Corporate and Special.\n",
      "However, in Personal Auto males have slighly higher, but only aprox 5€/$\n",
      "Differences by gender are minimal, the policy type has a more noticeable impact\n"
     ]
    }
   ],
   "source": [
    "#Conclusions\n",
    "print(\"Conclusions 2:\\nPersonal Auto policy type has the higher average total claim amount overall.\\nRegarding gender females tend to have higher average total claims amount than males in Corporate and Special.\\nHowever, in Personal Auto males have slighly higher, but only aprox 5€/$\\nDifferences by gender are minimal, the policy type has a more noticeable impact\")"
   ]
  },
  {
   "cell_type": "code",
   "execution_count": null,
   "id": "44735b6b",
   "metadata": {},
   "outputs": [
    {
     "data": {
      "text/html": [
       "<div>\n",
       "<style scoped>\n",
       "    .dataframe tbody tr th:only-of-type {\n",
       "        vertical-align: middle;\n",
       "    }\n",
       "\n",
       "    .dataframe tbody tr th {\n",
       "        vertical-align: top;\n",
       "    }\n",
       "\n",
       "    .dataframe thead th {\n",
       "        text-align: right;\n",
       "    }\n",
       "</style>\n",
       "<table border=\"1\" class=\"dataframe\">\n",
       "  <thead>\n",
       "    <tr style=\"text-align: right;\">\n",
       "      <th></th>\n",
       "      <th>state</th>\n",
       "      <th>customer_number</th>\n",
       "    </tr>\n",
       "  </thead>\n",
       "  <tbody>\n",
       "    <tr>\n",
       "      <th>0</th>\n",
       "      <td>Arizona</td>\n",
       "      <td>1703</td>\n",
       "    </tr>\n",
       "    <tr>\n",
       "      <th>1</th>\n",
       "      <td>California</td>\n",
       "      <td>3739</td>\n",
       "    </tr>\n",
       "    <tr>\n",
       "      <th>2</th>\n",
       "      <td>Nevada</td>\n",
       "      <td>882</td>\n",
       "    </tr>\n",
       "    <tr>\n",
       "      <th>3</th>\n",
       "      <td>Oregon</td>\n",
       "      <td>2601</td>\n",
       "    </tr>\n",
       "    <tr>\n",
       "      <th>4</th>\n",
       "      <td>Washington</td>\n",
       "      <td>798</td>\n",
       "    </tr>\n",
       "  </tbody>\n",
       "</table>\n",
       "</div>"
      ],
      "text/plain": [
       "        state  customer_number\n",
       "0     Arizona             1703\n",
       "1  California             3739\n",
       "2      Nevada              882\n",
       "3      Oregon             2601\n",
       "4  Washington              798"
      ]
     },
     "execution_count": 38,
     "metadata": {},
     "output_type": "execute_result"
    }
   ],
   "source": [
    "#3. Analyze the total number of customers who have policies in each state, and then filter the results to only include states where there are more than 500 customers.\n",
    "# Count customers by state\n",
    "grouped_by_state_df=df_insurance_marketing_customer_cleaned.groupby(\"state\").size().reset_index(name=\"customer_number\")\n",
    "#Visualize\n",
    "grouped_by_state_df\n",
    "\n",
    "#In case I needed to to filter for states > 500 customers below are the steps, but there is not need to do this.\n",
    "filtered_by_state_more_500_df=grouped_by_state_df[grouped_by_state_df[\"customer_number\"] > 500]\n",
    "#Visualize same as before\n",
    "filtered_by_state_more_500_df.sort_values(by=\"customer_number\", ascending=False)\n"
   ]
  },
  {
   "cell_type": "code",
   "execution_count": 40,
   "id": "ba71d702",
   "metadata": {},
   "outputs": [
    {
     "name": "stdout",
     "output_type": "stream",
     "text": [
      "Conclusions: There is no need to filter in this case >500, this step shouldn't have been done\n"
     ]
    }
   ],
   "source": [
    "#Conclusions\n",
    "print(\"Conclusions: There is no need to filter in this case >500, this step shouldn't have been done\")"
   ]
  },
  {
   "cell_type": "code",
   "execution_count": 41,
   "id": "6a3ec2ac",
   "metadata": {},
   "outputs": [
    {
     "data": {
      "text/html": [
       "<div>\n",
       "<style scoped>\n",
       "    .dataframe tbody tr th:only-of-type {\n",
       "        vertical-align: middle;\n",
       "    }\n",
       "\n",
       "    .dataframe tbody tr th {\n",
       "        vertical-align: top;\n",
       "    }\n",
       "\n",
       "    .dataframe thead th {\n",
       "        text-align: right;\n",
       "    }\n",
       "</style>\n",
       "<table border=\"1\" class=\"dataframe\">\n",
       "  <thead>\n",
       "    <tr style=\"text-align: right;\">\n",
       "      <th></th>\n",
       "      <th>education</th>\n",
       "      <th>gender</th>\n",
       "      <th>max</th>\n",
       "      <th>min</th>\n",
       "      <th>median</th>\n",
       "    </tr>\n",
       "  </thead>\n",
       "  <tbody>\n",
       "    <tr>\n",
       "      <th>0</th>\n",
       "      <td>Doctor</td>\n",
       "      <td>F</td>\n",
       "      <td>44856.11</td>\n",
       "      <td>2395.57</td>\n",
       "      <td>5332.46</td>\n",
       "    </tr>\n",
       "    <tr>\n",
       "      <th>1</th>\n",
       "      <td>Doctor</td>\n",
       "      <td>M</td>\n",
       "      <td>32677.34</td>\n",
       "      <td>2267.60</td>\n",
       "      <td>5581.49</td>\n",
       "    </tr>\n",
       "    <tr>\n",
       "      <th>2</th>\n",
       "      <td>Master</td>\n",
       "      <td>F</td>\n",
       "      <td>51016.07</td>\n",
       "      <td>2417.78</td>\n",
       "      <td>5827.41</td>\n",
       "    </tr>\n",
       "    <tr>\n",
       "      <th>3</th>\n",
       "      <td>Master</td>\n",
       "      <td>M</td>\n",
       "      <td>50568.26</td>\n",
       "      <td>2272.31</td>\n",
       "      <td>5604.33</td>\n",
       "    </tr>\n",
       "    <tr>\n",
       "      <th>4</th>\n",
       "      <td>Bachelor</td>\n",
       "      <td>F</td>\n",
       "      <td>73225.96</td>\n",
       "      <td>1904.00</td>\n",
       "      <td>5674.38</td>\n",
       "    </tr>\n",
       "    <tr>\n",
       "      <th>5</th>\n",
       "      <td>Bachelor</td>\n",
       "      <td>M</td>\n",
       "      <td>67907.27</td>\n",
       "      <td>1898.01</td>\n",
       "      <td>5555.56</td>\n",
       "    </tr>\n",
       "    <tr>\n",
       "      <th>6</th>\n",
       "      <td>College</td>\n",
       "      <td>F</td>\n",
       "      <td>61850.19</td>\n",
       "      <td>1898.68</td>\n",
       "      <td>5626.57</td>\n",
       "    </tr>\n",
       "    <tr>\n",
       "      <th>7</th>\n",
       "      <td>College</td>\n",
       "      <td>M</td>\n",
       "      <td>61134.68</td>\n",
       "      <td>1918.12</td>\n",
       "      <td>6005.85</td>\n",
       "    </tr>\n",
       "    <tr>\n",
       "      <th>8</th>\n",
       "      <td>High School or Below</td>\n",
       "      <td>F</td>\n",
       "      <td>55277.45</td>\n",
       "      <td>2144.92</td>\n",
       "      <td>6027.53</td>\n",
       "    </tr>\n",
       "    <tr>\n",
       "      <th>9</th>\n",
       "      <td>High School or Below</td>\n",
       "      <td>M</td>\n",
       "      <td>83325.38</td>\n",
       "      <td>1940.98</td>\n",
       "      <td>6203.79</td>\n",
       "    </tr>\n",
       "  </tbody>\n",
       "</table>\n",
       "</div>"
      ],
      "text/plain": [
       "              education gender       max      min   median\n",
       "0                Doctor      F  44856.11  2395.57  5332.46\n",
       "1                Doctor      M  32677.34  2267.60  5581.49\n",
       "2                Master      F  51016.07  2417.78  5827.41\n",
       "3                Master      M  50568.26  2272.31  5604.33\n",
       "4              Bachelor      F  73225.96  1904.00  5674.38\n",
       "5              Bachelor      M  67907.27  1898.01  5555.56\n",
       "6               College      F  61850.19  1898.68  5626.57\n",
       "7               College      M  61134.68  1918.12  6005.85\n",
       "8  High School or Below      F  55277.45  2144.92  6027.53\n",
       "9  High School or Below      M  83325.38  1940.98  6203.79"
      ]
     },
     "execution_count": 41,
     "metadata": {},
     "output_type": "execute_result"
    }
   ],
   "source": [
    "#4. Find the maximum, minimum, and median customer lifetime value by education level and gender. Write your conclusions.\n",
    "\n",
    "# Group by Education and Gender \n",
    "grouped_by_education_and_gender_df = df_insurance_marketing_customer_cleaned.groupby([\"education\", \"gender\"])\n",
    "\n",
    "# Calculate the max, min, and median of 'customer_lifetime_value' for each group\n",
    "clv_stats_by_education_gender_df = grouped_by_education_and_gender_df[\"customer_lifetime_value\"].agg([\"max\", \"min\", \"median\"]).reset_index()\n",
    "\n",
    "# Define the desired order of education levels\n",
    "desired_order = [\"Doctor\", \"Master\", \"Bachelor\", \"College\", \"High School or Below\"]\n",
    "\n",
    "# Sort the DataFrame by the 'education' column according to the desired order\n",
    "clv_stats_by_education_gender_df['education'] = pd.Categorical(clv_stats_by_education_gender_df['education'], categories=desired_order, ordered=True)\n",
    "\n",
    "# Sort by education and gender for better readability\n",
    "clv_stats_by_education_gender_df = clv_stats_by_education_gender_df.sort_values(by=[\"education\", \"gender\"])\n",
    "\n",
    "# Reset the index to remove the hierarchical index and keep it clean\n",
    "clv_stats_by_education_gender_df = clv_stats_by_education_gender_df.reset_index(drop=True)\n",
    "\n",
    "# Display and round the DataFrame\n",
    "clv_stats_by_education_gender_df.round(2)"
   ]
  },
  {
   "cell_type": "code",
   "execution_count": 42,
   "id": "cc9cdc30",
   "metadata": {},
   "outputs": [
    {
     "name": "stdout",
     "output_type": "stream",
     "text": [
      "Conclusions:\n",
      "Bachelor's degree holders (especially females) have the highest maximum CLVs, while Doctorate holders (especially males) tend to have the lowest values, particularly at the extreme.\n",
      "Males generally have lower maximum CLVs than females, except in the High School or Below category, where males have a higher maximum.\n",
      "Median values are relatively similar across genders and education levels, indicating that most customers tend to have similar lifetime values within each education category and gender category.\n"
     ]
    }
   ],
   "source": [
    "#Conclusions\n",
    "print(\"Conclusions:\\nBachelor's degree holders (especially females) have the highest maximum CLVs, while Doctorate holders (especially males) tend to have the lowest values, particularly at the extreme.\\nMales generally have lower maximum CLVs than females, except in the High School or Below category, where males have a higher maximum.\\nMedian values are relatively similar across genders and education levels, indicating that most customers tend to have similar lifetime values within each education category and gender category.\")"
   ]
  },
  {
   "cell_type": "markdown",
   "id": "b42999f9-311f-481e-ae63-40a5577072c5",
   "metadata": {
    "id": "b42999f9-311f-481e-ae63-40a5577072c5"
   },
   "source": [
    "## Bonus"
   ]
  },
  {
   "cell_type": "markdown",
   "id": "81ff02c5-6584-4f21-a358-b918697c6432",
   "metadata": {
    "id": "81ff02c5-6584-4f21-a358-b918697c6432"
   },
   "source": [
    "5. The marketing team wants to analyze the number of policies sold by state and month. Present the data in a table where the months are arranged as columns and the states are arranged as rows."
   ]
  },
  {
   "cell_type": "code",
   "execution_count": 43,
   "id": "c3f0f2d6",
   "metadata": {},
   "outputs": [
    {
     "name": "stdout",
     "output_type": "stream",
     "text": [
      "month       January  February\n",
      "state                        \n",
      "Arizona         899       804\n",
      "California     1990      1749\n",
      "Nevada          494       388\n",
      "Oregon         1396      1205\n",
      "Washington      414       384\n"
     ]
    },
    {
     "name": "stderr",
     "output_type": "stream",
     "text": [
      "C:\\Users\\celia\\AppData\\Local\\Temp\\ipykernel_8292\\3938888112.py:5: UserWarning: Could not infer format, so each element will be parsed individually, falling back to `dateutil`. To ensure parsing is consistent and as-expected, please specify a format.\n",
      "  df_insurance_marketing_customer_cleaned[\"effective_to_date\"] = pd.to_datetime(df_insurance_marketing_customer_cleaned[\"effective_to_date\"])\n"
     ]
    }
   ],
   "source": [
    "#Create a pivot table wirh months as colums and state\n",
    "\n",
    "# Since we do not have months, let's assume the duration of the insurance are anual so effective_to_day will be in the same month as theorically effective_from_day\n",
    "# Ensure the 'effective_to_date' is in datetime format\n",
    "df_insurance_marketing_customer_cleaned[\"effective_to_date\"] = pd.to_datetime(df_insurance_marketing_customer_cleaned[\"effective_to_date\"])\n",
    "\n",
    "# Extract the full month name and create a new column 'month'\n",
    "df_insurance_marketing_customer_cleaned[\"month\"] = df_insurance_marketing_customer_cleaned[\"effective_to_date\"].dt.strftime(\"%B\")\n",
    "\n",
    "# Create a new column for the count of policies (assuming each row represents a policy)\n",
    "df_insurance_marketing_customer_cleaned[\"policies_number\"] = 1\n",
    "\n",
    "\n",
    "\n",
    "pivot_df = df_insurance_marketing_customer_cleaned.pivot_table(\n",
    "    index=\"state\",                                                          # Rows: each state\n",
    "    columns=df_insurance_marketing_customer_cleaned[\"month\"],               # Columns: each month\n",
    "    values=\"policies_number\",                                               # Values: number of policies sold\n",
    "    aggfunc=\"sum\",                                                          # Aggregate by sum (or mean if needed)\n",
    ")\n",
    "\n",
    "# Reorder the columns to place January first\n",
    "ordered_months = [\"January\", \"February\"]\n",
    "pivot_df = pivot_df[ordered_months]\n",
    "\n",
    "# Print the pivot table\n",
    "print(pivot_df)"
   ]
  },
  {
   "cell_type": "markdown",
   "id": "b6aec097-c633-4017-a125-e77a97259cda",
   "metadata": {
    "id": "b6aec097-c633-4017-a125-e77a97259cda"
   },
   "source": [
    "6.  Display a new DataFrame that contains the number of policies sold by month, by state, for the top 3 states with the highest number of policies sold.\n",
    "\n",
    "*Hint:*\n",
    "- *To accomplish this, you will first need to group the data by state and month, then count the number of policies sold for each group. Afterwards, you will need to sort the data by the count of policies sold in descending order.*\n",
    "- *Next, you will select the top 3 states with the highest number of policies sold.*\n",
    "- *Finally, you will create a new DataFrame that contains the number of policies sold by month for each of the top 3 states.*"
   ]
  },
  {
   "cell_type": "code",
   "execution_count": 44,
   "id": "5f98e78d",
   "metadata": {},
   "outputs": [
    {
     "data": {
      "text/html": [
       "<div>\n",
       "<style scoped>\n",
       "    .dataframe tbody tr th:only-of-type {\n",
       "        vertical-align: middle;\n",
       "    }\n",
       "\n",
       "    .dataframe tbody tr th {\n",
       "        vertical-align: top;\n",
       "    }\n",
       "\n",
       "    .dataframe thead th {\n",
       "        text-align: right;\n",
       "    }\n",
       "</style>\n",
       "<table border=\"1\" class=\"dataframe\">\n",
       "  <thead>\n",
       "    <tr style=\"text-align: right;\">\n",
       "      <th></th>\n",
       "      <th>month</th>\n",
       "      <th>state</th>\n",
       "      <th>count_policies</th>\n",
       "    </tr>\n",
       "  </thead>\n",
       "  <tbody>\n",
       "    <tr>\n",
       "      <th>0</th>\n",
       "      <td>February</td>\n",
       "      <td>Arizona</td>\n",
       "      <td>804</td>\n",
       "    </tr>\n",
       "    <tr>\n",
       "      <th>1</th>\n",
       "      <td>February</td>\n",
       "      <td>California</td>\n",
       "      <td>1749</td>\n",
       "    </tr>\n",
       "    <tr>\n",
       "      <th>2</th>\n",
       "      <td>February</td>\n",
       "      <td>Oregon</td>\n",
       "      <td>1205</td>\n",
       "    </tr>\n",
       "    <tr>\n",
       "      <th>3</th>\n",
       "      <td>January</td>\n",
       "      <td>Arizona</td>\n",
       "      <td>899</td>\n",
       "    </tr>\n",
       "    <tr>\n",
       "      <th>4</th>\n",
       "      <td>January</td>\n",
       "      <td>California</td>\n",
       "      <td>1990</td>\n",
       "    </tr>\n",
       "    <tr>\n",
       "      <th>5</th>\n",
       "      <td>January</td>\n",
       "      <td>Oregon</td>\n",
       "      <td>1396</td>\n",
       "    </tr>\n",
       "  </tbody>\n",
       "</table>\n",
       "</div>"
      ],
      "text/plain": [
       "      month       state  count_policies\n",
       "0  February     Arizona             804\n",
       "1  February  California            1749\n",
       "2  February      Oregon            1205\n",
       "3   January     Arizona             899\n",
       "4   January  California            1990\n",
       "5   January      Oregon            1396"
      ]
     },
     "execution_count": 44,
     "metadata": {},
     "output_type": "execute_result"
    }
   ],
   "source": [
    "#Group the data by state and month, count the number of policies with size(). \n",
    "df_total_policies_filtered_by_month_and_state=df_insurance_marketing_customer_cleaned.groupby([\"month\",\"state\"]).size().reset_index(name=\"count_policies\")\n",
    "\n",
    "#Step 2: Group the data by state and count the total number of policies sold by state.\n",
    "total_policies_by_state = df_total_policies_filtered_by_month_and_state.groupby(\"state\")[\"count_policies\"].sum().reset_index()\n",
    "\n",
    "#Step 3: Sort the states by the total number of policies sold in descending order and select the top 3 states.\n",
    "top_3_states = total_policies_by_state.sort_values(by=\"count_policies\", ascending=False).head(3)[\"state\"]\n",
    "\n",
    "#Step 4: Filter the original DataFrame to include only the top 3 states.\n",
    "df_top_3_states = df_insurance_marketing_customer_cleaned[df_insurance_marketing_customer_cleaned[\"state\"].isin(top_3_states)]\n",
    "\n",
    "#Step 5: Create a new DataFrame that shows the number of policies sold by month for each of the top 3 states.\n",
    "df_policies_by_month_and_state = df_top_3_states.groupby([\"month\", \"state\"]).size().reset_index(name=\"count_policies\")\n",
    "\n",
    "#Visualize\n",
    "df_policies_by_month_and_state"
   ]
  },
  {
   "cell_type": "markdown",
   "id": "ba975b8a-a2cf-4fbf-9f59-ebc381767009",
   "metadata": {
    "id": "ba975b8a-a2cf-4fbf-9f59-ebc381767009"
   },
   "source": [
    "7. The marketing team wants to analyze the effect of different marketing channels on the customer response rate.\n",
    "\n",
    "Hint: You can use melt to unpivot the data and create a table that shows the customer response rate (those who responded \"Yes\") by marketing channel."
   ]
  },
  {
   "cell_type": "markdown",
   "id": "e4378d94-48fb-4850-a802-b1bc8f427b2d",
   "metadata": {
    "id": "e4378d94-48fb-4850-a802-b1bc8f427b2d"
   },
   "source": [
    "External Resources for Data Filtering: https://towardsdatascience.com/filtering-data-frames-in-pandas-b570b1f834b9"
   ]
  },
  {
   "cell_type": "code",
   "execution_count": 45,
   "id": "687ed076",
   "metadata": {},
   "outputs": [
    {
     "data": {
      "text/html": [
       "<div>\n",
       "<style scoped>\n",
       "    .dataframe tbody tr th:only-of-type {\n",
       "        vertical-align: middle;\n",
       "    }\n",
       "\n",
       "    .dataframe tbody tr th {\n",
       "        vertical-align: top;\n",
       "    }\n",
       "\n",
       "    .dataframe thead th {\n",
       "        text-align: right;\n",
       "    }\n",
       "</style>\n",
       "<table border=\"1\" class=\"dataframe\">\n",
       "  <thead>\n",
       "    <tr style=\"text-align: right;\">\n",
       "      <th></th>\n",
       "      <th>sales_channel</th>\n",
       "      <th>response_rate</th>\n",
       "    </tr>\n",
       "  </thead>\n",
       "  <tbody>\n",
       "    <tr>\n",
       "      <th>0</th>\n",
       "      <td>Agent</td>\n",
       "      <td>18.024357</td>\n",
       "    </tr>\n",
       "    <tr>\n",
       "      <th>1</th>\n",
       "      <td>Branch</td>\n",
       "      <td>10.820758</td>\n",
       "    </tr>\n",
       "    <tr>\n",
       "      <th>2</th>\n",
       "      <td>Call Center</td>\n",
       "      <td>10.212766</td>\n",
       "    </tr>\n",
       "    <tr>\n",
       "      <th>3</th>\n",
       "      <td>Web</td>\n",
       "      <td>10.901468</td>\n",
       "    </tr>\n",
       "  </tbody>\n",
       "</table>\n",
       "</div>"
      ],
      "text/plain": [
       "  sales_channel  response_rate\n",
       "0         Agent      18.024357\n",
       "1        Branch      10.820758\n",
       "2   Call Center      10.212766\n",
       "3           Web      10.901468"
      ]
     },
     "execution_count": 45,
     "metadata": {},
     "output_type": "execute_result"
    }
   ],
   "source": [
    "# Step 1: Filter only \"Yes\" responses\n",
    "yes_responses = df_insurance_marketing_customer_cleaned[df_insurance_marketing_customer_cleaned['response'] == 'Yes']\n",
    "\n",
    "# Step 2: Count the total responses by sales channel and \"Yes\" response\n",
    "yes_counts = yes_responses.groupby('sales_channel').size().reset_index(name='yes_count')\n",
    "total_counts = df_insurance_marketing_customer_cleaned.groupby('sales_channel').size().reset_index(name='total_count')\n",
    "\n",
    "# Step 3: Merge the total counts and \"Yes\" counts\n",
    "response_rate = pd.merge(total_counts, yes_counts, on='sales_channel', how='left')\n",
    "\n",
    "# Step 4: Calculate the response rate\n",
    "response_rate['response_rate'] = (response_rate['yes_count'] / response_rate['total_count']) * 100\n",
    "\n",
    "# Show the result\n",
    "response_rate[['sales_channel', 'response_rate']].head()"
   ]
  },
  {
   "cell_type": "code",
   "execution_count": null,
   "id": "d067a4f4",
   "metadata": {},
   "outputs": [],
   "source": [
    "df_insurance_marketing_customer_cleaned['response'] = df_insurance_marketing_customer_cleaned['response'].apply(lambda x: 1 if x=='Yes' else 0) \n",
    "\n",
    "# Melt the data to convert columns to rows\"\n",
    "melted_table = pd.melt(df, id_vars=['sales_channel'], value_vars=['response'])\n",
    "melted_table"
   ]
  }
 ],
 "metadata": {
  "colab": {
   "provenance": []
  },
  "kernelspec": {
   "display_name": "base",
   "language": "python",
   "name": "python3"
  },
  "language_info": {
   "codemirror_mode": {
    "name": "ipython",
    "version": 3
   },
   "file_extension": ".py",
   "mimetype": "text/x-python",
   "name": "python",
   "nbconvert_exporter": "python",
   "pygments_lexer": "ipython3",
   "version": "3.12.4"
  }
 },
 "nbformat": 4,
 "nbformat_minor": 5
}
