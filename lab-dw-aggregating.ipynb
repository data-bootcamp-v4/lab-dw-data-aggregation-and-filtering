{
 "cells": [
  {
   "cell_type": "markdown",
   "id": "31969215-2a90-4d8b-ac36-646a7ae13744",
   "metadata": {
    "id": "31969215-2a90-4d8b-ac36-646a7ae13744"
   },
   "source": [
    "# Lab | Data Aggregation and Filtering"
   ]
  },
  {
   "cell_type": "markdown",
   "id": "a8f08a52-bec0-439b-99cc-11d3809d8b5d",
   "metadata": {
    "id": "a8f08a52-bec0-439b-99cc-11d3809d8b5d"
   },
   "source": [
    "In this challenge, we will continue to work with customer data from an insurance company. We will use the dataset called marketing_customer_analysis.csv, which can be found at the following link:\n",
    "\n",
    "https://raw.githubusercontent.com/data-bootcamp-v4/data/main/marketing_customer_analysis.csv\n",
    "\n",
    "This dataset contains information such as customer demographics, policy details, vehicle information, and the customer's response to the last marketing campaign. Our goal is to explore and analyze this data by first performing data cleaning, formatting, and structuring."
   ]
  },
  {
   "cell_type": "markdown",
   "id": "9c98ddc5-b041-4c94-ada1-4dfee5c98e50",
   "metadata": {
    "id": "9c98ddc5-b041-4c94-ada1-4dfee5c98e50"
   },
   "source": [
    "1. Create a new DataFrame that only includes customers who:\n",
    "   - have a **low total_claim_amount** (e.g., below $1,000),\n",
    "   - have a response \"Yes\" to the last marketing campaign."
   ]
  },
  {
   "cell_type": "code",
   "execution_count": 6,
   "id": "31ed9639-2ce1-4ddd-9a9a-dac372793426",
   "metadata": {},
   "outputs": [
    {
     "name": "stdout",
     "output_type": "stream",
     "text": [
      "    Unnamed: 0 Customer       State  Customer Lifetime Value Response  \\\n",
      "3            3  XL78013      Oregon             22332.439460      Yes   \n",
      "8            8  FM55990  California              5989.773931      Yes   \n",
      "15          15  CW49887  California              4626.801093      Yes   \n",
      "19          19  NJ54277  California              3746.751625      Yes   \n",
      "27          27  MQ68407      Oregon              4376.363592      Yes   \n",
      "\n",
      "    Coverage Education Effective To Date EmploymentStatus Gender  ...  \\\n",
      "3   Extended   College           1/11/11         Employed      M  ...   \n",
      "8    Premium   College           1/19/11         Employed      M  ...   \n",
      "15     Basic    Master           1/16/11         Employed      F  ...   \n",
      "19  Extended   College           2/26/11         Employed      F  ...   \n",
      "27   Premium  Bachelor           2/28/11         Employed      F  ...   \n",
      "\n",
      "    Number of Open Complaints Number of Policies     Policy Type  \\\n",
      "3                         0.0                  2  Corporate Auto   \n",
      "8                         0.0                  1   Personal Auto   \n",
      "15                        0.0                  1    Special Auto   \n",
      "19                        1.0                  1   Personal Auto   \n",
      "27                        0.0                  1   Personal Auto   \n",
      "\n",
      "          Policy  Renew Offer Type  Sales Channel  Total Claim Amount  \\\n",
      "3   Corporate L3            Offer2         Branch          484.013411   \n",
      "8    Personal L1            Offer2         Branch          739.200000   \n",
      "15    Special L1            Offer2         Branch          547.200000   \n",
      "19   Personal L2            Offer2    Call Center           19.575683   \n",
      "27   Personal L3            Offer2          Agent           60.036683   \n",
      "\n",
      "    Vehicle Class Vehicle Size Vehicle Type  \n",
      "3   Four-Door Car      Medsize            A  \n",
      "8      Sports Car      Medsize          NaN  \n",
      "15            SUV      Medsize          NaN  \n",
      "19   Two-Door Car        Large            A  \n",
      "27  Four-Door Car      Medsize          NaN  \n",
      "\n",
      "[5 rows x 26 columns]\n",
      "\n",
      "Number of qualified customers: 1399\n"
     ]
    }
   ],
   "source": [
    "import pandas as pd\n",
    "url = \"https://raw.githubusercontent.com/data-bootcamp-v4/data/main/marketing_customer_analysis.csv\"\n",
    "df = pd.read_csv(url)\n",
    "\n",
    "filtered_df = df[(df['Total Claim Amount'] < 1000) & (df['Response'] == 'Yes')]\n",
    "\n",
    "print(filtered_df.head())\n",
    "\n",
    "print(f\"\\nNumber of qualified customers: {len(filtered_df)}\")"
   ]
  },
  {
   "cell_type": "markdown",
   "id": "b9be383e-5165-436e-80c8-57d4c757c8c3",
   "metadata": {
    "id": "b9be383e-5165-436e-80c8-57d4c757c8c3"
   },
   "source": [
    "2. Using the original Dataframe, analyze:\n",
    "   - the average `monthly_premium` and/or customer lifetime value by `policy_type` and `gender` for customers who responded \"Yes\", and\n",
    "   - compare these insights to `total_claim_amount` patterns, and discuss which segments appear most profitable or low-risk for the company."
   ]
  },
  {
   "cell_type": "code",
   "execution_count": 11,
   "id": "ab464e46-0335-4161-bba4-dcdb9a50e742",
   "metadata": {},
   "outputs": [
    {
     "name": "stdout",
     "output_type": "stream",
     "text": [
      "      Policy Type Gender  Avg Monthly Premium      Avg CLV  Avg Claim Amount  \\\n",
      "0  Corporate Auto      F            94.301775  7712.628736        433.738499   \n",
      "1  Corporate Auto      M            92.188312  7944.465414        408.582459   \n",
      "2   Personal Auto      F            98.998148  8339.791842        452.965929   \n",
      "3   Personal Auto      M            91.085821  7448.383281        457.010178   \n",
      "4    Special Auto      F            92.314286  7691.584111        453.280164   \n",
      "5    Special Auto      M            86.343750  8247.088702        429.527942   \n",
      "\n",
      "   Customer Count  \n",
      "0             169  \n",
      "1             154  \n",
      "2             540  \n",
      "3             536  \n",
      "4              35  \n",
      "5              32  \n"
     ]
    }
   ],
   "source": [
    "responded_yes = df[df['Response'] == 'Yes']\n",
    "analysis_df = responded_yes.groupby(['Policy Type', 'Gender']).agg({\n",
    "    'Monthly Premium Auto': 'mean',\n",
    "    'Customer Lifetime Value': 'mean',\n",
    "    'Total Claim Amount': 'mean',\n",
    "    'Response': 'count'  # To see how many customers are in each segment\n",
    "}).rename(columns={\n",
    "    'Monthly Premium Auto': 'Avg Monthly Premium',\n",
    "    'Customer Lifetime Value': 'Avg CLV',\n",
    "    'Total Claim Amount': 'Avg Claim Amount',\n",
    "    'Response': 'Customer Count'\n",
    "}).reset_index()\n",
    "\n",
    "print(analysis_df)"
   ]
  },
  {
   "cell_type": "markdown",
   "id": "7050f4ac-53c5-4193-a3c0-8699b87196f0",
   "metadata": {
    "id": "7050f4ac-53c5-4193-a3c0-8699b87196f0"
   },
   "source": [
    "3. Analyze the total number of customers who have policies in each state, and then filter the results to only include states where there are more than 500 customers."
   ]
  },
  {
   "cell_type": "code",
   "execution_count": 15,
   "id": "2f6e72d1-42d6-4a62-983a-999397d19bdc",
   "metadata": {},
   "outputs": [
    {
     "name": "stdout",
     "output_type": "stream",
     "text": [
      "        State  Customer Count\n",
      "0  California            3552\n",
      "1      Oregon            2909\n",
      "2     Arizona            1937\n",
      "3      Nevada             993\n",
      "4  Washington             888\n",
      "        State  Customer Count\n",
      "0  California            3552\n",
      "1      Oregon            2909\n",
      "2     Arizona            1937\n",
      "3      Nevada             993\n",
      "4  Washington             888\n"
     ]
    }
   ],
   "source": [
    "state_counts = df['State'].value_counts().reset_index()\n",
    "state_counts.columns = ['State', 'Customer Count']\n",
    "print(state_counts.head())\n",
    "high_customer_states = state_counts[state_counts['Customer Count'] > 500]\n",
    "print(high_customer_states.sort_values('Customer Count', ascending=False))"
   ]
  },
  {
   "cell_type": "markdown",
   "id": "b60a4443-a1a7-4bbf-b78e-9ccdf9895e0d",
   "metadata": {
    "id": "b60a4443-a1a7-4bbf-b78e-9ccdf9895e0d"
   },
   "source": [
    "4. Find the maximum, minimum, and median customer lifetime value by education level and gender. Write your conclusions."
   ]
  },
  {
   "cell_type": "code",
   "execution_count": null,
   "id": "bc644669-d3cd-494d-8e9c-ffc794b92de1",
   "metadata": {},
   "outputs": [],
   "source": [
    "u  clv_stats = df.groupby(['Education', 'Gender'])['Customer Lifetime Value'].agg(\n",
    "    ['max', 'min', 'median', 'count']\n",
    ").reset_index()"
   ]
  },
  {
   "cell_type": "markdown",
   "id": "b42999f9-311f-481e-ae63-40a5577072c5",
   "metadata": {
    "id": "b42999f9-311f-481e-ae63-40a5577072c5"
   },
   "source": [
    "## Bonus"
   ]
  },
  {
   "cell_type": "markdown",
   "id": "81ff02c5-6584-4f21-a358-b918697c6432",
   "metadata": {
    "id": "81ff02c5-6584-4f21-a358-b918697c6432"
   },
   "source": [
    "5. The marketing team wants to analyze the number of policies sold by state and month. Present the data in a table where the months are arranged as columns and the states are arranged as rows."
   ]
  },
  {
   "cell_type": "markdown",
   "id": "b6aec097-c633-4017-a125-e77a97259cda",
   "metadata": {
    "id": "b6aec097-c633-4017-a125-e77a97259cda"
   },
   "source": [
    "6.  Display a new DataFrame that contains the number of policies sold by month, by state, for the top 3 states with the highest number of policies sold.\n",
    "\n",
    "*Hint:*\n",
    "- *To accomplish this, you will first need to group the data by state and month, then count the number of policies sold for each group. Afterwards, you will need to sort the data by the count of policies sold in descending order.*\n",
    "- *Next, you will select the top 3 states with the highest number of policies sold.*\n",
    "- *Finally, you will create a new DataFrame that contains the number of policies sold by month for each of the top 3 states.*"
   ]
  },
  {
   "cell_type": "markdown",
   "id": "ba975b8a-a2cf-4fbf-9f59-ebc381767009",
   "metadata": {
    "id": "ba975b8a-a2cf-4fbf-9f59-ebc381767009"
   },
   "source": [
    "7. The marketing team wants to analyze the effect of different marketing channels on the customer response rate.\n",
    "\n",
    "Hint: You can use melt to unpivot the data and create a table that shows the customer response rate (those who responded \"Yes\") by marketing channel."
   ]
  },
  {
   "cell_type": "markdown",
   "id": "e4378d94-48fb-4850-a802-b1bc8f427b2d",
   "metadata": {
    "id": "e4378d94-48fb-4850-a802-b1bc8f427b2d"
   },
   "source": [
    "External Resources for Data Filtering: https://towardsdatascience.com/filtering-data-frames-in-pandas-b570b1f834b9"
   ]
  },
  {
   "cell_type": "code",
   "execution_count": null,
   "id": "449513f4-0459-46a0-a18d-9398d974c9ad",
   "metadata": {
    "id": "449513f4-0459-46a0-a18d-9398d974c9ad"
   },
   "outputs": [],
   "source": [
    "# your code goes here"
   ]
  }
 ],
 "metadata": {
  "colab": {
   "provenance": []
  },
  "kernelspec": {
   "display_name": "Python [conda env:base] *",
   "language": "python",
   "name": "conda-base-py"
  },
  "language_info": {
   "codemirror_mode": {
    "name": "ipython",
    "version": 3
   },
   "file_extension": ".py",
   "mimetype": "text/x-python",
   "name": "python",
   "nbconvert_exporter": "python",
   "pygments_lexer": "ipython3",
   "version": "3.12.7"
  }
 },
 "nbformat": 4,
 "nbformat_minor": 5
}
