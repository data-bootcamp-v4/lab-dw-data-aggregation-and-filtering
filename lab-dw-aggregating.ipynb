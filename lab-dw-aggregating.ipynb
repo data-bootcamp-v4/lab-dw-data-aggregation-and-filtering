{
  "cells": [
    {
      "cell_type": "markdown",
      "id": "31969215-2a90-4d8b-ac36-646a7ae13744",
      "metadata": {
        "id": "31969215-2a90-4d8b-ac36-646a7ae13744"
      },
      "source": [
        "# Lab | Data Aggregation and Filtering"
      ]
    },
    {
      "cell_type": "markdown",
      "id": "a8f08a52-bec0-439b-99cc-11d3809d8b5d",
      "metadata": {
        "id": "a8f08a52-bec0-439b-99cc-11d3809d8b5d"
      },
      "source": [
        "In this challenge, we will continue to work with customer data from an insurance company. We will use the dataset called marketing_customer_analysis.csv, which can be found at the following link:\n",
        "\n",
        "https://raw.githubusercontent.com/data-bootcamp-v4/data/main/marketing_customer_analysis.csv\n",
        "\n",
        "This dataset contains information such as customer demographics, policy details, vehicle information, and the customer's response to the last marketing campaign. Our goal is to explore and analyze this data by first performing data cleaning, formatting, and structuring."
      ]
    },
    {
      "cell_type": "code",
      "execution_count": null,
      "id": "d90c4f1d",
      "metadata": {},
      "outputs": [
        {
          "data": {
            "text/plain": [
              "Index(['Unnamed: 0', 'Customer', 'State', 'Customer Lifetime Value',\n",
              "       'Response', 'Coverage', 'Education', 'Effective To Date',\n",
              "       'EmploymentStatus', 'Gender', 'Income', 'Location Code',\n",
              "       'Marital Status', 'Monthly Premium Auto', 'Months Since Last Claim',\n",
              "       'Months Since Policy Inception', 'Number of Open Complaints',\n",
              "       'Number of Policies', 'Policy Type', 'Policy', 'Renew Offer Type',\n",
              "       'Sales Channel', 'Total Claim Amount', 'Vehicle Class', 'Vehicle Size',\n",
              "       'Vehicle Type'],\n",
              "      dtype='object')"
            ]
          },
          "execution_count": 12,
          "metadata": {},
          "output_type": "execute_result"
        }
      ],
      "source": [
        "import pandas as pd \n",
        "\n",
        "url = 'https://raw.githubusercontent.com/data-bootcamp-v4/data/main/marketing_customer_analysis.csv'\n",
        "df = pd.read_csv(url)\n",
        "\n",
        "df.columns"
      ]
    },
    {
      "cell_type": "markdown",
      "id": "9c98ddc5-b041-4c94-ada1-4dfee5c98e50",
      "metadata": {
        "id": "9c98ddc5-b041-4c94-ada1-4dfee5c98e50"
      },
      "source": [
        "1. Create a new DataFrame that only includes customers who have a total_claim_amount greater than $1,000 and have a response of \"Yes\" to the last marketing campaign."
      ]
    },
    {
      "cell_type": "code",
      "execution_count": null,
      "id": "18a36cf9",
      "metadata": {},
      "outputs": [],
      "source": [
        "df_filtered = df[(df['Total Claim Amount'] > 1000) & (df['Response'] == 'Yes')]\n",
        "df_filtered.head()"
      ]
    },
    {
      "cell_type": "markdown",
      "id": "b9be383e-5165-436e-80c8-57d4c757c8c3",
      "metadata": {
        "id": "b9be383e-5165-436e-80c8-57d4c757c8c3"
      },
      "source": [
        "2. Using the original Dataframe, analyze the average total_claim_amount by each policy type and gender for customers who have responded \"Yes\" to the last marketing campaign. Write your conclusions."
      ]
    },
    {
      "cell_type": "code",
      "execution_count": null,
      "id": "d9ed3e9c",
      "metadata": {},
      "outputs": [],
      "source": [
        "df_response = df[df['Response'] == 'Yes']\n",
        "avg_claim_amount = df.groupby(['Policy','Gender'])['Total Claim Amount'].mean().round(2).reset_index()\n",
        "avg_claim_amount"
      ]
    },
    {
      "cell_type": "markdown",
      "id": "7050f4ac-53c5-4193-a3c0-8699b87196f0",
      "metadata": {
        "id": "7050f4ac-53c5-4193-a3c0-8699b87196f0"
      },
      "source": [
        "3. Analyze the total number of customers who have policies in each state, and then filter the results to only include states where there are more than 500 customers."
      ]
    },
    {
      "cell_type": "code",
      "execution_count": null,
      "id": "3fa0a44b",
      "metadata": {},
      "outputs": [],
      "source": [
        "state_count = df.groupby('State')['Customer'].count().reset_index()\n",
        "state_count_over_500 = state_count[state_count['Customer'] > 500].sort_values(by='Customer', ascending=False)\n",
        "print(state_count_over_500)"
      ]
    },
    {
      "cell_type": "markdown",
      "id": "b60a4443-a1a7-4bbf-b78e-9ccdf9895e0d",
      "metadata": {
        "id": "b60a4443-a1a7-4bbf-b78e-9ccdf9895e0d"
      },
      "source": [
        "4. Find the maximum, minimum, and median customer lifetime value by education level and gender. Write your conclusions."
      ]
    },
    {
      "cell_type": "code",
      "execution_count": null,
      "id": "b6d79170",
      "metadata": {},
      "outputs": [],
      "source": [
        "clv_stats = df.groupby(['Gender','Education']) ['Customer Lifetime Value'].agg(['max','min','median']).round(2).reset_index()\n",
        "clv_stats = clv_stats.rename(columns={'max': 'Max CLV', 'min': 'Min CLV', 'median': 'Median CLV'})  \n",
        "print(clv_stats)"
      ]
    },
    {
      "cell_type": "markdown",
      "id": "b42999f9-311f-481e-ae63-40a5577072c5",
      "metadata": {
        "id": "b42999f9-311f-481e-ae63-40a5577072c5"
      },
      "source": [
        "## Bonus"
      ]
    },
    {
      "cell_type": "markdown",
      "id": "81ff02c5-6584-4f21-a358-b918697c6432",
      "metadata": {
        "id": "81ff02c5-6584-4f21-a358-b918697c6432"
      },
      "source": [
        "5. The marketing team wants to analyze the number of policies sold by state and month. Present the data in a table where the months are arranged as columns and the states are arranged as rows."
      ]
    },
    {
      "cell_type": "code",
      "execution_count": 17,
      "id": "823db867",
      "metadata": {},
      "outputs": [
        {
          "name": "stdout",
          "output_type": "stream",
          "text": [
            "Policy      Corporate L1  Corporate L2  Corporate L3  Personal L1  \\\n",
            "State                                                               \n",
            "Arizona               62           119           200          293   \n",
            "California           164           246           425          439   \n",
            "Nevada                37            73           109          136   \n",
            "Oregon                94           174           324          405   \n",
            "Washington            40            46            89          125   \n",
            "\n",
            "Policy      Personal L2  Personal L3  Special L1  Special L2  Special L3  \n",
            "State                                                                     \n",
            "Arizona             434          742          25          35          27  \n",
            "California          905         1250          18          49          56  \n",
            "Nevada              212          391           5          18          12  \n",
            "Oregon              618         1157          21          63          53  \n",
            "Washington          230          327           5          14          12  \n"
          ]
        }
      ],
      "source": [
        "num_policies_state_month = df.groupby(['State','Policy'])['Customer'].count().reset_index()\n",
        "pivot_table_num_policies = num_policies_state_month.pivot(index='State', columns='Policy', values='Customer')\n",
        "print(pivot_table_num_policies)"
      ]
    },
    {
      "cell_type": "markdown",
      "id": "b6aec097-c633-4017-a125-e77a97259cda",
      "metadata": {
        "id": "b6aec097-c633-4017-a125-e77a97259cda"
      },
      "source": [
        "6.  Display a new DataFrame that contains the number of policies sold by month, by state, for the top 3 states with the highest number of policies sold.\n",
        "\n",
        "*Hint:*\n",
        "- *To accomplish this, you will first need to group the data by state and month, then count the number of policies sold for each group. Afterwards, you will need to sort the data by the count of policies sold in descending order.*\n",
        "- *Next, you will select the top 3 states with the highest number of policies sold.*\n",
        "- *Finally, you will create a new DataFrame that contains the number of policies sold by month for each of the top 3 states.*"
      ]
    },
    {
      "cell_type": "code",
      "execution_count": null,
      "id": "a41b630e",
      "metadata": {},
      "outputs": [
        {
          "name": "stdout",
          "output_type": "stream",
          "text": [
            "Month          1     2\n",
            "State                 \n",
            "Arizona     1008   929\n",
            "California  1918  1634\n",
            "Oregon      1565  1344\n"
          ]
        }
      ],
      "source": [
        "\n",
        "\n",
        "# Group by state and month to count the number of policies sold\n",
        "policy_count_by_month = df.groupby(['State', 'Month'])['Customer'].count().reset_index(name='Policy Sold Count')\n",
        "\n",
        "# Filter for the top 3 states with the highest number of policies sold\n",
        "total_by_state = policy_count_by_month.groupby('State')['Policy Sold Count'].sum().reset_index()\n",
        "\n",
        "top_3_states = total_by_state.sort_values(\n",
        "    by='Policy Sold Count', \n",
        "    ascending=False).head(3)['State']\n",
        "\n",
        "# Filter the data for only the top 3 states\n",
        "filtered_data = policy_count_by_month[policy_count_by_month['State'].isin(top_3_states)]\n",
        "\n",
        "# Pivot the data to display months as columns and states as rows\n",
        "pivot_top3 = filtered_data.pivot(\n",
        "    index='State',\n",
        "    columns='Month',\n",
        "    values='Policy Sold Count'\n",
        ")\n",
        "print(pivot_top3)"
      ]
    },
    {
      "cell_type": "markdown",
      "id": "ba975b8a-a2cf-4fbf-9f59-ebc381767009",
      "metadata": {
        "id": "ba975b8a-a2cf-4fbf-9f59-ebc381767009"
      },
      "source": [
        "7. The marketing team wants to analyze the effect of different marketing channels on the customer response rate.\n",
        "\n",
        "Hint: You can use melt to unpivot the data and create a table that shows the customer response rate (those who responded \"Yes\") by marketing channel."
      ]
    },
    {
      "cell_type": "code",
      "execution_count": 30,
      "id": "4e639cd4",
      "metadata": {},
      "outputs": [
        {
          "name": "stdout",
          "output_type": "stream",
          "text": [
            "Response Sales Channel  Response Rate (%)\n",
            "0                Agent              19.07\n",
            "1               Branch              11.38\n",
            "2          Call Center              10.98\n",
            "3                  Web              11.71\n"
          ]
        }
      ],
      "source": [
        "response_rate = df.groupby('Sales Channel')['Response'].value_counts(normalize=True).unstack().fillna(0)\n",
        "response_rate = (response_rate * 100).round(2)  # Convert to percentage\n",
        "response_rate = response_rate.rename(columns={'Yes': 'Response Rate (%)'}).reset_index()\n",
        "response_rate = response_rate.drop(columns=['No'])\n",
        "print(response_rate)"
      ]
    },
    {
      "cell_type": "markdown",
      "id": "e4378d94-48fb-4850-a802-b1bc8f427b2d",
      "metadata": {
        "id": "e4378d94-48fb-4850-a802-b1bc8f427b2d"
      },
      "source": [
        "External Resources for Data Filtering: https://towardsdatascience.com/filtering-data-frames-in-pandas-b570b1f834b9"
      ]
    }
  ],
  "metadata": {
    "colab": {
      "provenance": []
    },
    "kernelspec": {
      "display_name": "venv",
      "language": "python",
      "name": "python3"
    },
    "language_info": {
      "codemirror_mode": {
        "name": "ipython",
        "version": 3
      },
      "file_extension": ".py",
      "mimetype": "text/x-python",
      "name": "python",
      "nbconvert_exporter": "python",
      "pygments_lexer": "ipython3",
      "version": "3.12.1"
    }
  },
  "nbformat": 4,
  "nbformat_minor": 5
}
