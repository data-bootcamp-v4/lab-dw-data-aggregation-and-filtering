{
 "cells": [
  {
   "cell_type": "markdown",
   "id": "31969215-2a90-4d8b-ac36-646a7ae13744",
   "metadata": {},
   "source": [
    "# Lab | Data Aggregation and Filtering"
   ]
  },
  {
   "cell_type": "markdown",
   "id": "769df97b-bcc6-4ab0-9b87-eb04853d4351",
   "metadata": {},
   "source": [
    "Objective: Use Python programming techniques to filter and order data subsets, group data by one or more variables, and use aggregation functions to obtain insights, and derive meaningful conclusions from the data."
   ]
  },
  {
   "cell_type": "markdown",
   "id": "a8f08a52-bec0-439b-99cc-11d3809d8b5d",
   "metadata": {},
   "source": [
    "In this challenge, we will continue to work with customer data from an insurance company. We will use the dataset called marketing_customer_analysis.csv, which can be found at the following link:\n",
    "\n",
    "https://raw.githubusercontent.com/data-bootcamp-v4/data/main/marketing_customer_analysis.csv\n",
    "\n",
    "This dataset contains information such as customer demographics, policy details, vehicle information, and the customer's response to the last marketing campaign. Our goal is to explore and analyze this data by performing first data cleaning, formatting, and structuring."
   ]
  },
  {
   "cell_type": "markdown",
   "id": "c2a39af7-a37b-43f1-a413-3e163a55125e",
   "metadata": {},
   "source": [
    "Start by reading the dataset, standardizing column names, dealing with null values and creating the month column. You can do so by using the functions you developed in previous labs, or by reading the clean dataset you saved in the last lab `data structuring and combining`."
   ]
  },
  {
   "cell_type": "code",
   "execution_count": 6,
   "id": "3b7aa5d1",
   "metadata": {},
   "outputs": [],
   "source": [
    "import pandas as pd\n",
    "from thefunctions import lower_snake\n",
    "\n",
    "# Read the dataset from the URL\n",
    "url = \"https://raw.githubusercontent.com/data-bootcamp-v4/data/main/marketing_customer_analysis.csv\"\n",
    "df = pd.read_csv(url)\n",
    "\n",
    "# Standardize the column names using the lower_snake function\n",
    "df = lower_snake(df)\n",
    "\n",
    "# Drop rows with any null values\n",
    "df = df.dropna()\n",
    "\n",
    "# Filling null values with mean for numerical columns\n",
    "numerical_cols = df.select_dtypes(include='number').columns\n",
    "df[numerical_cols] = df[numerical_cols].fillna(df[numerical_cols].mean())\n",
    "\n",
    "# Filling null values with mode for categorical columns\n",
    "categorical_cols = df.select_dtypes(include='object').columns\n",
    "df[categorical_cols] = df[categorical_cols].fillna(df[categorical_cols].mode().iloc[0])\n",
    "\n",
    "# Convert the 'effective_to_date' column to datetime format\n",
    "df['effective_to_date'] = pd.to_datetime(df['effective_to_date'], format='%m/%d/%y')\n",
    "\n",
    "# Extract the month and create the 'month' column\n",
    "df['month'] = df['effective_to_date'].dt.month\n",
    "\n"
   ]
  },
  {
   "cell_type": "markdown",
   "id": "0a3bc930-db26-4fd4-b261-ea03e12f3a26",
   "metadata": {},
   "source": [
    "Then, answer the following questions:"
   ]
  },
  {
   "cell_type": "markdown",
   "id": "9c98ddc5-b041-4c94-ada1-4dfee5c98e50",
   "metadata": {},
   "source": [
    "1. Create a new DataFrame that only includes customers who have a total_claim_amount greater than $1,000 and have a response of \"Yes\" to the last marketing campaign."
   ]
  },
  {
   "cell_type": "markdown",
   "id": "341352f7-305d-4928-be75-4a4a342205b5",
   "metadata": {},
   "source": [
    "2. Analyze the average total_claim_amount by each policy type and gender for customers who have responded \"Yes\" to the last marketing campaign."
   ]
  },
  {
   "cell_type": "markdown",
   "id": "7050f4ac-53c5-4193-a3c0-8699b87196f0",
   "metadata": {},
   "source": [
    "3. Analyze the total number of customers who have policies in each state, and then filter the results to only include states where there are more than 500 customers."
   ]
  },
  {
   "cell_type": "markdown",
   "id": "2661421c-0534-4d5c-b803-d05459277f82",
   "metadata": {},
   "source": [
    "4. Find the median customer lifetime value by education level and gender."
   ]
  },
  {
   "cell_type": "markdown",
   "id": "867b0167-09e2-4111-91c8-b4fb9596d741",
   "metadata": {},
   "source": [
    "5. Find the maximum, minimum, and average number of open complaints by state and policy type."
   ]
  },
  {
   "cell_type": "markdown",
   "id": "81ff02c5-6584-4f21-a358-b918697c6432",
   "metadata": {},
   "source": [
    "6. The marketing team wants to analyze the number of policies sold by state and month.\n",
    "\n",
    "Present the data in a table where the months are arranged as columns and the states are arranged as rows."
   ]
  },
  {
   "cell_type": "markdown",
   "id": "b6aec097-c633-4017-a125-e77a97259cda",
   "metadata": {},
   "source": [
    "7. Display a new DataFrame that contains the number of policies sold by month by state for the top 3 states with the highest number of policies sold.\n",
    "\n",
    "*Hint:* \n",
    "- *To accomplish this, you will first need to group the data by state and month, then count the number of policies sold for each group. Afterwards, you will need to sort the data by the count of policies sold in descending order.*\n",
    "- *Next, you will select the top 3 states with the highest number of policies sold.*\n",
    "- *Finally, you will create a new DataFrame that contains the number of policies sold by month for each of the top 3 states.*"
   ]
  },
  {
   "cell_type": "markdown",
   "id": "ba975b8a-a2cf-4fbf-9f59-ebc381767009",
   "metadata": {},
   "source": [
    "8. The marketing team wants to analyze the effect of different marketing channels on the customer response rate.\n",
    "\n",
    "Hint: You can use melt to unpivot the data and create a table that shows the customer response rate (those who responded \"Yes\") by marketing channel."
   ]
  },
  {
   "cell_type": "markdown",
   "id": "e4378d94-48fb-4850-a802-b1bc8f427b2d",
   "metadata": {},
   "source": [
    "External Resources for Data Filtering: https://towardsdatascience.com/filtering-data-frames-in-pandas-b570b1f834b9"
   ]
  },
  {
   "cell_type": "code",
   "execution_count": 7,
   "id": "449513f4-0459-46a0-a18d-9398d974c9ad",
   "metadata": {},
   "outputs": [
    {
     "name": "stdout",
     "output_type": "stream",
     "text": [
      "       unnamed:_0 customer       state  customer_lifetime_value response  \\\n",
      "236           236  YJ16163      Oregon             11009.130490      Yes   \n",
      "419           419  GW43195      Oregon             25807.063000      Yes   \n",
      "442           442  IP94270     Arizona             13736.132500      Yes   \n",
      "587           587  FJ28407  California              5619.689084      Yes   \n",
      "1527         1527  TU53781      Oregon              8427.172486      Yes   \n",
      "1809         1809  QO62792      Oregon              7840.165778      Yes   \n",
      "2027         2027  TA66375      Oregon             11009.130490      Yes   \n",
      "2125         2125  JC11405      Oregon             10963.957230      Yes   \n",
      "2865         2865  FH77504  California             11009.130490      Yes   \n",
      "3958         3958  KC26486     Arizona              8427.172486      Yes   \n",
      "4475         4475  WP58340     Arizona             10963.957230      Yes   \n",
      "4521         4521  LT72149      Nevada              5619.689084      Yes   \n",
      "4566         4566  TC99043  California             13736.132500      Yes   \n",
      "5013         5013  GP83239  California              7840.165778      Yes   \n",
      "5331         5331  UT48216      Nevada              7840.165778      Yes   \n",
      "5489         5489  TQ84956  California             10963.957230      Yes   \n",
      "5896         5896  TY31217  Washington             11009.130490      Yes   \n",
      "7255         7255  PN98247  California              7840.165778      Yes   \n",
      "8340         8340  MJ51323      Oregon              8427.172486      Yes   \n",
      "8367         8367  AJ89108  California             11009.130490      Yes   \n",
      "8505         8505  DT77901      Oregon             10179.717040      Yes   \n",
      "8662         8662  YU86361  Washington             19160.989940      Yes   \n",
      "8835         8835  XT93203  California             10963.957230      Yes   \n",
      "9498         9498  IV54766      Oregon             19160.989940      Yes   \n",
      "9581         9581  GD55093  California             19160.989940      Yes   \n",
      "10009       10009  YP53257      Oregon             10179.717040      Yes   \n",
      "10708       10708  CK39096      Oregon              5619.689084      Yes   \n",
      "\n",
      "       coverage             education effective_to_date employmentstatus  \\\n",
      "236     Premium              Bachelor        2011-01-24         Employed   \n",
      "419    Extended               College        2011-02-13         Employed   \n",
      "442     Premium                Master        2011-02-13         Disabled   \n",
      "587     Premium  High School or Below        2011-01-26       Unemployed   \n",
      "1527   Extended              Bachelor        2011-02-10         Employed   \n",
      "1809   Extended               College        2011-01-14         Employed   \n",
      "2027    Premium              Bachelor        2011-01-24         Employed   \n",
      "2125    Premium  High School or Below        2011-02-08         Employed   \n",
      "2865    Premium              Bachelor        2011-01-24         Employed   \n",
      "3958   Extended              Bachelor        2011-02-10         Employed   \n",
      "4475    Premium  High School or Below        2011-02-08         Employed   \n",
      "4521    Premium  High School or Below        2011-01-26       Unemployed   \n",
      "4566    Premium                Master        2011-02-13         Disabled   \n",
      "5013   Extended               College        2011-01-14         Employed   \n",
      "5331   Extended               College        2011-01-14         Employed   \n",
      "5489    Premium  High School or Below        2011-02-08         Employed   \n",
      "5896    Premium              Bachelor        2011-01-24         Employed   \n",
      "7255   Extended               College        2011-01-14         Employed   \n",
      "8340   Extended              Bachelor        2011-02-10         Employed   \n",
      "8367    Premium              Bachelor        2011-01-24         Employed   \n",
      "8505    Premium              Bachelor        2011-01-05          Retired   \n",
      "8662   Extended                Master        2011-02-20         Employed   \n",
      "8835    Premium  High School or Below        2011-02-08         Employed   \n",
      "9498   Extended                Master        2011-02-20         Employed   \n",
      "9581   Extended                Master        2011-02-20         Employed   \n",
      "10009   Premium              Bachelor        2011-01-05          Retired   \n",
      "10708   Premium  High School or Below        2011-01-26       Unemployed   \n",
      "\n",
      "      gender  ...  number_of_policies     policy_type        policy  \\\n",
      "236        F  ...                   1    Special Auto    Special L3   \n",
      "419        F  ...                   2   Personal Auto   Personal L2   \n",
      "442        F  ...                   8   Personal Auto   Personal L2   \n",
      "587        M  ...                   1   Personal Auto   Personal L1   \n",
      "1527       F  ...                   1  Corporate Auto  Corporate L3   \n",
      "1809       M  ...                   1   Personal Auto   Personal L3   \n",
      "2027       F  ...                   1  Corporate Auto  Corporate L2   \n",
      "2125       M  ...                   1   Personal Auto   Personal L3   \n",
      "2865       F  ...                   1   Personal Auto   Personal L3   \n",
      "3958       F  ...                   1   Personal Auto   Personal L2   \n",
      "4475       M  ...                   1   Personal Auto   Personal L2   \n",
      "4521       M  ...                   1   Personal Auto   Personal L2   \n",
      "4566       F  ...                   8   Personal Auto   Personal L2   \n",
      "5013       M  ...                   1   Personal Auto   Personal L3   \n",
      "5331       M  ...                   1   Personal Auto   Personal L1   \n",
      "5489       M  ...                   1  Corporate Auto  Corporate L3   \n",
      "5896       F  ...                   1   Personal Auto   Personal L3   \n",
      "7255       M  ...                   1   Personal Auto   Personal L3   \n",
      "8340       F  ...                   1   Personal Auto   Personal L2   \n",
      "8367       F  ...                   1   Personal Auto   Personal L3   \n",
      "8505       F  ...                   1   Personal Auto   Personal L3   \n",
      "8662       F  ...                   7   Personal Auto   Personal L1   \n",
      "8835       M  ...                   1   Personal Auto   Personal L3   \n",
      "9498       F  ...                   7   Personal Auto   Personal L1   \n",
      "9581       F  ...                   7   Personal Auto   Personal L1   \n",
      "10009      F  ...                   1   Personal Auto   Personal L3   \n",
      "10708      M  ...                   1   Personal Auto   Personal L3   \n",
      "\n",
      "       renew_offer_type  sales_channel  total_claim_amount  vehicle_class  \\\n",
      "236              Offer2          Agent         1358.400000     Luxury Car   \n",
      "419              Offer1         Branch         1027.200000     Luxury Car   \n",
      "442              Offer1            Web         1261.319869            SUV   \n",
      "587              Offer2            Web         1027.000029            SUV   \n",
      "1527             Offer1          Agent         1032.000000     Luxury SUV   \n",
      "1809             Offer2          Agent         1008.000000     Luxury SUV   \n",
      "2027             Offer2          Agent         1358.400000     Luxury Car   \n",
      "2125             Offer1          Agent         1324.800000     Luxury SUV   \n",
      "2865             Offer2          Agent         1358.400000     Luxury Car   \n",
      "3958             Offer1          Agent         1032.000000     Luxury SUV   \n",
      "4475             Offer1          Agent         1324.800000     Luxury SUV   \n",
      "4521             Offer2            Web         1027.000029            SUV   \n",
      "4566             Offer1            Web         1261.319869            SUV   \n",
      "5013             Offer2          Agent         1008.000000     Luxury SUV   \n",
      "5331             Offer2          Agent         1008.000000     Luxury SUV   \n",
      "5489             Offer1          Agent         1324.800000     Luxury SUV   \n",
      "5896             Offer2          Agent         1358.400000     Luxury Car   \n",
      "7255             Offer2          Agent         1008.000000     Luxury SUV   \n",
      "8340             Offer1          Agent         1032.000000     Luxury SUV   \n",
      "8367             Offer2          Agent         1358.400000     Luxury Car   \n",
      "8505             Offer1          Agent         1300.800000     Luxury SUV   \n",
      "8662             Offer2          Agent         1294.700423     Luxury SUV   \n",
      "8835             Offer1          Agent         1324.800000     Luxury SUV   \n",
      "9498             Offer2          Agent         1294.700423     Luxury SUV   \n",
      "9581             Offer2          Agent         1294.700423     Luxury SUV   \n",
      "10009            Offer1          Agent         1300.800000     Luxury SUV   \n",
      "10708            Offer2            Web         1027.000029            SUV   \n",
      "\n",
      "       vehicle_size vehicle_type month  \n",
      "236         Medsize            A     1  \n",
      "419           Small            A     2  \n",
      "442         Medsize            A     2  \n",
      "587         Medsize            A     1  \n",
      "1527        Medsize            A     2  \n",
      "1809          Small            A     1  \n",
      "2027        Medsize            A     1  \n",
      "2125        Medsize            A     2  \n",
      "2865        Medsize            A     1  \n",
      "3958        Medsize            A     2  \n",
      "4475        Medsize            A     2  \n",
      "4521        Medsize            A     1  \n",
      "4566        Medsize            A     2  \n",
      "5013          Small            A     1  \n",
      "5331          Small            A     1  \n",
      "5489        Medsize            A     2  \n",
      "5896        Medsize            A     1  \n",
      "7255          Small            A     1  \n",
      "8340        Medsize            A     2  \n",
      "8367        Medsize            A     1  \n",
      "8505        Medsize            A     1  \n",
      "8662        Medsize            A     2  \n",
      "8835        Medsize            A     2  \n",
      "9498        Medsize            A     2  \n",
      "9581        Medsize            A     2  \n",
      "10009       Medsize            A     1  \n",
      "10708       Medsize            A     1  \n",
      "\n",
      "[27 rows x 27 columns]\n"
     ]
    }
   ],
   "source": [
    "#1\n",
    "# Filter the DataFrame \n",
    "filtered_df = df[(df['total_claim_amount'] > 1000) & (df['response'] == 'Yes')]\n",
    "\n",
    "# Display the new DataFrame\n",
    "print(filtered_df)"
   ]
  },
  {
   "cell_type": "code",
   "execution_count": 8,
   "id": "26174f29",
   "metadata": {},
   "outputs": [
    {
     "name": "stdout",
     "output_type": "stream",
     "text": [
      "      policy_type gender  total_claim_amount\n",
      "0  Corporate Auto      F          404.104008\n",
      "1  Corporate Auto      M          391.370774\n",
      "2   Personal Auto      F          457.056315\n",
      "3   Personal Auto      M          472.489180\n",
      "4    Special Auto      F          495.689401\n",
      "5    Special Auto      M          368.523035\n"
     ]
    }
   ],
   "source": [
    "#2\n",
    "# Filter the DataFrame to include only customers who responded \"Yes\" to the last marketing campaign\n",
    "yes_response_df = df[df['response'] == 'Yes']\n",
    "\n",
    "# Group the data by policy type and gender and calculate the average total_claim_amount for each group\n",
    "average_claim_amount_by_policy_gender = yes_response_df.groupby(['policy_type', 'gender'])['total_claim_amount'].mean().reset_index()\n",
    "\n",
    "# Display the result\n",
    "print(average_claim_amount_by_policy_gender)"
   ]
  },
  {
   "cell_type": "code",
   "execution_count": 9,
   "id": "d8870c33",
   "metadata": {},
   "outputs": [
    {
     "name": "stdout",
     "output_type": "stream",
     "text": [
      "        state  customer\n",
      "0     Arizona       868\n",
      "1  California      1552\n",
      "3      Oregon      1281\n"
     ]
    }
   ],
   "source": [
    "#3\n",
    "# Group the data by state and calculate the total number of customers in each state\n",
    "customer_count_by_state = df.groupby('state')['customer'].count().reset_index()\n",
    "\n",
    "# Filter the results to include only states with more than 500 customers\n",
    "states_with_more_than_500_customers = customer_count_by_state[customer_count_by_state['customer'] > 500]\n",
    "\n",
    "# Display the result\n",
    "print(states_with_more_than_500_customers)"
   ]
  },
  {
   "cell_type": "code",
   "execution_count": 10,
   "id": "038bef82",
   "metadata": {},
   "outputs": [
    {
     "name": "stdout",
     "output_type": "stream",
     "text": [
      "              education gender  customer_lifetime_value\n",
      "0              Bachelor      F              5752.485185\n",
      "1              Bachelor      M              5797.377350\n",
      "2               College      F              5642.596077\n",
      "3               College      M              6005.847375\n",
      "4                Doctor      F              5789.850900\n",
      "5                Doctor      M              5843.989737\n",
      "6  High School or Below      F              5978.754765\n",
      "7  High School or Below      M              6081.481291\n",
      "8                Master      F              5714.165863\n",
      "9                Master      M              5512.342258\n"
     ]
    }
   ],
   "source": [
    "#4\n",
    "# Group the data by education and gender and calculate the median customer lifetime value for each group\n",
    "median_clv_by_education_gender = df.groupby(['education', 'gender'])['customer_lifetime_value'].median().reset_index()\n",
    "\n",
    "# Display the result\n",
    "print(median_clv_by_education_gender)"
   ]
  },
  {
   "cell_type": "code",
   "execution_count": 11,
   "id": "243412aa",
   "metadata": {},
   "outputs": [
    {
     "name": "stdout",
     "output_type": "stream",
     "text": [
      "         state     policy_type  max  min      mean\n",
      "0      Arizona  Corporate Auto  5.0  0.0  0.456790\n",
      "1      Arizona   Personal Auto  5.0  0.0  0.413374\n",
      "2      Arizona    Special Auto  3.0  0.0  0.229167\n",
      "3   California  Corporate Auto  4.0  0.0  0.296703\n",
      "4   California   Personal Auto  5.0  0.0  0.398589\n",
      "5   California    Special Auto  4.0  0.0  0.388889\n",
      "6       Nevada  Corporate Auto  3.0  0.0  0.393617\n",
      "7       Nevada   Personal Auto  5.0  0.0  0.422492\n",
      "8       Nevada    Special Auto  3.0  0.0  0.285714\n",
      "9       Oregon  Corporate Auto  4.0  0.0  0.331984\n",
      "10      Oregon   Personal Auto  5.0  0.0  0.373444\n",
      "11      Oregon    Special Auto  5.0  0.0  0.328571\n",
      "12  Washington  Corporate Auto  4.0  0.0  0.467532\n",
      "13  Washington   Personal Auto  5.0  0.0  0.409836\n",
      "14  Washington    Special Auto  4.0  0.0  0.562500\n"
     ]
    }
   ],
   "source": [
    "#5\n",
    "# Group the data by state and policy type and calculate the maximum, minimum, and average number of open complaints for each group\n",
    "complaints_stats_by_state_policy = df.groupby(['state', 'policy_type'])['number_of_open_complaints'].agg(['max', 'min', 'mean']).reset_index()\n",
    "\n",
    "# Display the result\n",
    "print(complaints_stats_by_state_policy)"
   ]
  },
  {
   "cell_type": "code",
   "execution_count": 12,
   "id": "57b756f9",
   "metadata": {},
   "outputs": [
    {
     "name": "stdout",
     "output_type": "stream",
     "text": [
      "month         1    2\n",
      "state               \n",
      "Arizona     453  415\n",
      "California  826  726\n",
      "Nevada      247  197\n",
      "Oregon      676  605\n",
      "Washington  207  191\n"
     ]
    }
   ],
   "source": [
    "#6\n",
    "# Create a pivot table to analyze the number of policies sold by state and month\n",
    "policies_by_state_month = df.pivot_table(index='state', columns='month', values='policy', aggfunc='count', fill_value=0)\n",
    "\n",
    "# Display the result\n",
    "print(policies_by_state_month)"
   ]
  },
  {
   "cell_type": "code",
   "execution_count": 13,
   "id": "f53e1a18",
   "metadata": {},
   "outputs": [
    {
     "name": "stdout",
     "output_type": "stream",
     "text": [
      "month         1    2\n",
      "state               \n",
      "Arizona     453  415\n",
      "California  826  726\n",
      "Oregon      676  605\n"
     ]
    }
   ],
   "source": [
    "#7\n",
    "# Group the data by state and month and calculate the number of policies sold for each combination\n",
    "policies_by_state_month = df.groupby(['state', 'month'])['policy'].count().reset_index()\n",
    "\n",
    "# Find the top 3 states with the highest number of policies sold\n",
    "top_3_states = policies_by_state_month.groupby('state')['policy'].sum().nlargest(3).index\n",
    "\n",
    "# Filter the data to include only the top 3 states\n",
    "top_3_states_data = policies_by_state_month[policies_by_state_month['state'].isin(top_3_states)]\n",
    "\n",
    "# Pivot the data to create a new DataFrame with months as columns and states as rows\n",
    "policies_by_month_top_3_states = top_3_states_data.pivot_table(index='state', columns='month', values='policy', fill_value=0)\n",
    "\n",
    "# Display the result\n",
    "print(policies_by_month_top_3_states)\n"
   ]
  },
  {
   "cell_type": "code",
   "execution_count": 24,
   "id": "c7dee38a",
   "metadata": {},
   "outputs": [],
   "source": [
    "#8\n",
    "\n",
    "# Filter the DataFrame to include only rows where the customer responded \"Yes\" to the last marketing campaign\n",
    "response_column_name = 'number_of_open_complaints'  # Dataset representing the customer response\n",
    "yes_response_df = df[df[response_column_name] == 'Yes']\n",
    "\n",
    "# Get the list of columns representing the marketing channels\n",
    "marketing_channel_columns = ['Sales Channel']\n",
    "\n",
    "# Check which of the marketing channel columns are present in the DataFrame\n",
    "existing_columns = [col for col in marketing_channel_columns if col in yes_response_df.columns]\n",
    "\n",
    "# Use melt to unpivot the data and create a table that shows the customer response rate by marketing channel\n",
    "melted_data = pd.melt(yes_response_df, id_vars=[response_column_name], value_vars=existing_columns, var_name='marketing_channel', value_name='response_rate')"
   ]
  }
 ],
 "metadata": {
  "kernelspec": {
   "display_name": "Python 3 (ipykernel)",
   "language": "python",
   "name": "python3"
  },
  "language_info": {
   "codemirror_mode": {
    "name": "ipython",
    "version": 3
   },
   "file_extension": ".py",
   "mimetype": "text/x-python",
   "name": "python",
   "nbconvert_exporter": "python",
   "pygments_lexer": "ipython3",
   "version": "3.11.4"
  }
 },
 "nbformat": 4,
 "nbformat_minor": 5
}
