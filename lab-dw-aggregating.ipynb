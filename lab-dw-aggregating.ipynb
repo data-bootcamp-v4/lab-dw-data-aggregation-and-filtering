{
 "cells": [
  {
   "cell_type": "markdown",
   "id": "31969215-2a90-4d8b-ac36-646a7ae13744",
   "metadata": {
    "id": "31969215-2a90-4d8b-ac36-646a7ae13744"
   },
   "source": [
    "# Lab | Data Aggregation and Filtering"
   ]
  },
  {
   "cell_type": "markdown",
   "id": "a8f08a52-bec0-439b-99cc-11d3809d8b5d",
   "metadata": {
    "id": "a8f08a52-bec0-439b-99cc-11d3809d8b5d"
   },
   "source": [
    "In this challenge, we will continue to work with customer data from an insurance company. We will use the dataset called marketing_customer_analysis.csv, which can be found at the following link:\n",
    "\n",
    "https://raw.githubusercontent.com/data-bootcamp-v4/data/main/marketing_customer_analysis.csv\n",
    "\n",
    "This dataset contains information such as customer demographics, policy details, vehicle information, and the customer's response to the last marketing campaign. Our goal is to explore and analyze this data by first performing data cleaning, formatting, and structuring."
   ]
  },
  {
   "cell_type": "markdown",
   "id": "9c98ddc5-b041-4c94-ada1-4dfee5c98e50",
   "metadata": {
    "id": "9c98ddc5-b041-4c94-ada1-4dfee5c98e50"
   },
   "source": [
    "1. Create a new DataFrame that only includes customers who have a total_claim_amount greater than $1,000 and have a response of \"Yes\" to the last marketing campaign."
   ]
  },
  {
   "cell_type": "markdown",
   "id": "b9be383e-5165-436e-80c8-57d4c757c8c3",
   "metadata": {
    "id": "b9be383e-5165-436e-80c8-57d4c757c8c3"
   },
   "source": [
    "2. Using the original Dataframe, analyze the average total_claim_amount by each policy type and gender for customers who have responded \"Yes\" to the last marketing campaign. Write your conclusions."
   ]
  },
  {
   "cell_type": "markdown",
   "id": "7050f4ac-53c5-4193-a3c0-8699b87196f0",
   "metadata": {
    "id": "7050f4ac-53c5-4193-a3c0-8699b87196f0"
   },
   "source": [
    "3. Analyze the total number of customers who have policies in each state, and then filter the results to only include states where there are more than 500 customers."
   ]
  },
  {
   "cell_type": "markdown",
   "id": "b60a4443-a1a7-4bbf-b78e-9ccdf9895e0d",
   "metadata": {
    "id": "b60a4443-a1a7-4bbf-b78e-9ccdf9895e0d"
   },
   "source": [
    "4. Find the maximum, minimum, and median customer lifetime value by education level and gender. Write your conclusions."
   ]
  },
  {
   "cell_type": "code",
   "execution_count": 2,
   "id": "be4e4cb5-ff89-4c5b-9b4b-66fa6a86c4ff",
   "metadata": {},
   "outputs": [],
   "source": [
    "import pandas as pd\n",
    "import numpy as np\n",
    "url = \"https://raw.githubusercontent.com/data-bootcamp-v4/data/main/marketing_customer_analysis.csv\"\n",
    "insurance = pd.read_csv(url)"
   ]
  },
  {
   "cell_type": "code",
   "execution_count": 34,
   "id": "62c30045-fd8c-4d02-981c-cda811b69d8a",
   "metadata": {},
   "outputs": [],
   "source": [
    "insurance[\"Total Claim Amount\"] = insurance[\"Total Claim Amount\"].astype(\"int64\")\n",
    "new_df = insurance[(insurance[\"Response\"]==\"Yes\") & (insurance[\"Total Claim Amount\"]>1000)]"
   ]
  },
  {
   "cell_type": "code",
   "execution_count": 61,
   "id": "567292e0-7066-4975-9000-b20c4a789847",
   "metadata": {},
   "outputs": [
    {
     "data": {
      "text/html": [
       "<div>\n",
       "<style scoped>\n",
       "    .dataframe tbody tr th:only-of-type {\n",
       "        vertical-align: middle;\n",
       "    }\n",
       "\n",
       "    .dataframe tbody tr th {\n",
       "        vertical-align: top;\n",
       "    }\n",
       "\n",
       "    .dataframe thead th {\n",
       "        text-align: right;\n",
       "    }\n",
       "</style>\n",
       "<table border=\"1\" class=\"dataframe\">\n",
       "  <thead>\n",
       "    <tr style=\"text-align: right;\">\n",
       "      <th></th>\n",
       "      <th>Unnamed: 0</th>\n",
       "      <th>Customer</th>\n",
       "      <th>State</th>\n",
       "      <th>Customer Lifetime Value</th>\n",
       "      <th>Response</th>\n",
       "      <th>Coverage</th>\n",
       "      <th>Education</th>\n",
       "      <th>Effective To Date</th>\n",
       "      <th>EmploymentStatus</th>\n",
       "      <th>Gender</th>\n",
       "      <th>...</th>\n",
       "      <th>Number of Open Complaints</th>\n",
       "      <th>Number of Policies</th>\n",
       "      <th>Policy Type</th>\n",
       "      <th>Policy</th>\n",
       "      <th>Renew Offer Type</th>\n",
       "      <th>Sales Channel</th>\n",
       "      <th>Total Claim Amount</th>\n",
       "      <th>Vehicle Class</th>\n",
       "      <th>Vehicle Size</th>\n",
       "      <th>Vehicle Type</th>\n",
       "    </tr>\n",
       "  </thead>\n",
       "  <tbody>\n",
       "    <tr>\n",
       "      <th>0</th>\n",
       "      <td>0</td>\n",
       "      <td>DK49336</td>\n",
       "      <td>Arizona</td>\n",
       "      <td>4809.216960</td>\n",
       "      <td>No</td>\n",
       "      <td>Basic</td>\n",
       "      <td>College</td>\n",
       "      <td>2/18/11</td>\n",
       "      <td>Employed</td>\n",
       "      <td>M</td>\n",
       "      <td>...</td>\n",
       "      <td>0.0</td>\n",
       "      <td>9</td>\n",
       "      <td>Corporate Auto</td>\n",
       "      <td>Corporate L3</td>\n",
       "      <td>Offer3</td>\n",
       "      <td>Agent</td>\n",
       "      <td>292</td>\n",
       "      <td>Four-Door Car</td>\n",
       "      <td>Medsize</td>\n",
       "      <td>NaN</td>\n",
       "    </tr>\n",
       "    <tr>\n",
       "      <th>1</th>\n",
       "      <td>1</td>\n",
       "      <td>KX64629</td>\n",
       "      <td>California</td>\n",
       "      <td>2228.525238</td>\n",
       "      <td>No</td>\n",
       "      <td>Basic</td>\n",
       "      <td>College</td>\n",
       "      <td>1/18/11</td>\n",
       "      <td>Unemployed</td>\n",
       "      <td>F</td>\n",
       "      <td>...</td>\n",
       "      <td>0.0</td>\n",
       "      <td>1</td>\n",
       "      <td>Personal Auto</td>\n",
       "      <td>Personal L3</td>\n",
       "      <td>Offer4</td>\n",
       "      <td>Call Center</td>\n",
       "      <td>744</td>\n",
       "      <td>Four-Door Car</td>\n",
       "      <td>Medsize</td>\n",
       "      <td>NaN</td>\n",
       "    </tr>\n",
       "    <tr>\n",
       "      <th>2</th>\n",
       "      <td>2</td>\n",
       "      <td>LZ68649</td>\n",
       "      <td>Washington</td>\n",
       "      <td>14947.917300</td>\n",
       "      <td>No</td>\n",
       "      <td>Basic</td>\n",
       "      <td>Bachelor</td>\n",
       "      <td>2/10/11</td>\n",
       "      <td>Employed</td>\n",
       "      <td>M</td>\n",
       "      <td>...</td>\n",
       "      <td>0.0</td>\n",
       "      <td>2</td>\n",
       "      <td>Personal Auto</td>\n",
       "      <td>Personal L3</td>\n",
       "      <td>Offer3</td>\n",
       "      <td>Call Center</td>\n",
       "      <td>480</td>\n",
       "      <td>SUV</td>\n",
       "      <td>Medsize</td>\n",
       "      <td>A</td>\n",
       "    </tr>\n",
       "  </tbody>\n",
       "</table>\n",
       "<p>3 rows × 26 columns</p>\n",
       "</div>"
      ],
      "text/plain": [
       "   Unnamed: 0 Customer       State  Customer Lifetime Value Response Coverage  \\\n",
       "0           0  DK49336     Arizona              4809.216960       No    Basic   \n",
       "1           1  KX64629  California              2228.525238       No    Basic   \n",
       "2           2  LZ68649  Washington             14947.917300       No    Basic   \n",
       "\n",
       "  Education Effective To Date EmploymentStatus Gender  ...  \\\n",
       "0   College           2/18/11         Employed      M  ...   \n",
       "1   College           1/18/11       Unemployed      F  ...   \n",
       "2  Bachelor           2/10/11         Employed      M  ...   \n",
       "\n",
       "   Number of Open Complaints Number of Policies     Policy Type        Policy  \\\n",
       "0                        0.0                  9  Corporate Auto  Corporate L3   \n",
       "1                        0.0                  1   Personal Auto   Personal L3   \n",
       "2                        0.0                  2   Personal Auto   Personal L3   \n",
       "\n",
       "   Renew Offer Type  Sales Channel  Total Claim Amount  Vehicle Class  \\\n",
       "0            Offer3          Agent                 292  Four-Door Car   \n",
       "1            Offer4    Call Center                 744  Four-Door Car   \n",
       "2            Offer3    Call Center                 480            SUV   \n",
       "\n",
       "  Vehicle Size Vehicle Type  \n",
       "0      Medsize          NaN  \n",
       "1      Medsize          NaN  \n",
       "2      Medsize            A  \n",
       "\n",
       "[3 rows x 26 columns]"
      ]
     },
     "execution_count": 61,
     "metadata": {},
     "output_type": "execute_result"
    }
   ],
   "source": [
    "insurance.head(3)"
   ]
  },
  {
   "cell_type": "code",
   "execution_count": 66,
   "id": "f8feac87-14a7-448a-8588-19cac416bead",
   "metadata": {},
   "outputs": [
    {
     "data": {
      "text/plain": [
       "Number of Policies\n",
       "1    3864\n",
       "2    2748\n",
       "3    1380\n",
       "7     532\n",
       "9     505\n",
       "5     498\n",
       "4     488\n",
       "8     461\n",
       "6     434\n",
       "Name: count, dtype: int64"
      ]
     },
     "execution_count": 66,
     "metadata": {},
     "output_type": "execute_result"
    }
   ],
   "source": [
    "insurance[\"Number of Policies\"].value_counts()"
   ]
  },
  {
   "cell_type": "code",
   "execution_count": 36,
   "id": "56e3f453-a71f-4421-8ffa-dcedbfe4b058",
   "metadata": {},
   "outputs": [
    {
     "data": {
      "text/plain": [
       "Index(['Unnamed: 0', 'Customer', 'State', 'Customer Lifetime Value',\n",
       "       'Response', 'Coverage', 'Education', 'Effective To Date',\n",
       "       'EmploymentStatus', 'Gender', 'Income', 'Location Code',\n",
       "       'Marital Status', 'Monthly Premium Auto', 'Months Since Last Claim',\n",
       "       'Months Since Policy Inception', 'Number of Open Complaints',\n",
       "       'Number of Policies', 'Policy Type', 'Policy', 'Renew Offer Type',\n",
       "       'Sales Channel', 'Total Claim Amount', 'Vehicle Class', 'Vehicle Size',\n",
       "       'Vehicle Type'],\n",
       "      dtype='object')"
      ]
     },
     "execution_count": 36,
     "metadata": {},
     "output_type": "execute_result"
    }
   ],
   "source": [
    "insurance.columns"
   ]
  },
  {
   "cell_type": "code",
   "execution_count": 52,
   "id": "fbe27aed-7464-404e-b939-b66f578cf52c",
   "metadata": {},
   "outputs": [
    {
     "data": {
      "text/plain": [
       "Policy Type     Gender\n",
       "Corporate Auto  F         433.30\n",
       "                M         408.12\n",
       "Personal Auto   F         452.50\n",
       "                M         456.58\n",
       "Special Auto    F         452.86\n",
       "                M         429.12\n",
       "Name: Total Claim Amount, dtype: float64"
      ]
     },
     "execution_count": 52,
     "metadata": {},
     "output_type": "execute_result"
    }
   ],
   "source": [
    "yes_peeps = insurance[(insurance[\"Response\"]==\"Yes\")]\n",
    "yes_peeps.groupby([\"Policy Type\",\"Gender\"])[(\"Total Claim Amount\")].mean().round(2)"
   ]
  },
  {
   "cell_type": "code",
   "execution_count": 67,
   "id": "553b04cb-8dfe-4863-a653-9445081a8e47",
   "metadata": {},
   "outputs": [
    {
     "data": {
      "text/plain": [
       "0"
      ]
     },
     "execution_count": 67,
     "metadata": {},
     "output_type": "execute_result"
    }
   ],
   "source": [
    "insurance.duplicated().sum()"
   ]
  },
  {
   "cell_type": "code",
   "execution_count": 69,
   "id": "2228779b-ad39-4a81-82a1-b917789cde7c",
   "metadata": {},
   "outputs": [
    {
     "data": {
      "text/plain": [
       "Customer\n",
       "AA10041    3\n",
       "AA11235    2\n",
       "AA16582    1\n",
       "Name: State, dtype: int64"
      ]
     },
     "execution_count": 69,
     "metadata": {},
     "output_type": "execute_result"
    }
   ],
   "source": [
    "insurance.groupby([\"Customer\"])[\"State\"].size().head(3)"
   ]
  },
  {
   "cell_type": "code",
   "execution_count": 60,
   "id": "6a621c57-822f-4647-8342-0e833a6f9b0c",
   "metadata": {},
   "outputs": [
    {
     "data": {
      "text/plain": [
       "State\n",
       "Arizona       1937\n",
       "California    3552\n",
       "Nevada         993\n",
       "Oregon        2909\n",
       "Washington     888\n",
       "Name: Customer, dtype: int64"
      ]
     },
     "execution_count": 60,
     "metadata": {},
     "output_type": "execute_result"
    }
   ],
   "source": [
    "# 3. Analyze the total number of customers who have policies in each state,\n",
    "# and then filter the results to only include states where there are more than 500 customers.\n",
    "states = [\"California\",\"Oregon\",\"Arizona\",\"Nevada\",\"Washington\"]\n",
    "insurance.groupby([\"State\"])[\"Customer\"].size()"
   ]
  },
  {
   "cell_type": "code",
   "execution_count": 79,
   "id": "dddbf826-0587-4f95-ae53-b8259bdb799d",
   "metadata": {},
   "outputs": [
    {
     "data": {
      "text/html": [
       "<div>\n",
       "<style scoped>\n",
       "    .dataframe tbody tr th:only-of-type {\n",
       "        vertical-align: middle;\n",
       "    }\n",
       "\n",
       "    .dataframe tbody tr th {\n",
       "        vertical-align: top;\n",
       "    }\n",
       "\n",
       "    .dataframe thead th {\n",
       "        text-align: right;\n",
       "    }\n",
       "</style>\n",
       "<table border=\"1\" class=\"dataframe\">\n",
       "  <thead>\n",
       "    <tr style=\"text-align: right;\">\n",
       "      <th></th>\n",
       "      <th></th>\n",
       "      <th>count</th>\n",
       "      <th>mean</th>\n",
       "      <th>std</th>\n",
       "      <th>min</th>\n",
       "      <th>25%</th>\n",
       "      <th>50%</th>\n",
       "      <th>75%</th>\n",
       "      <th>max</th>\n",
       "    </tr>\n",
       "    <tr>\n",
       "      <th>Education</th>\n",
       "      <th>Gender</th>\n",
       "      <th></th>\n",
       "      <th></th>\n",
       "      <th></th>\n",
       "      <th></th>\n",
       "      <th></th>\n",
       "      <th></th>\n",
       "      <th></th>\n",
       "      <th></th>\n",
       "    </tr>\n",
       "  </thead>\n",
       "  <tbody>\n",
       "    <tr>\n",
       "      <th rowspan=\"2\" valign=\"top\">Doctor</th>\n",
       "      <th>F</th>\n",
       "      <td>200.0</td>\n",
       "      <td>7328.508916</td>\n",
       "      <td>6930.556300</td>\n",
       "      <td>2395.570000</td>\n",
       "      <td>3531.281803</td>\n",
       "      <td>5332.462694</td>\n",
       "      <td>7662.703676</td>\n",
       "      <td>44856.11397</td>\n",
       "    </tr>\n",
       "    <tr>\n",
       "      <th>M</th>\n",
       "      <td>201.0</td>\n",
       "      <td>7415.333638</td>\n",
       "      <td>5460.941400</td>\n",
       "      <td>2267.604038</td>\n",
       "      <td>3557.368368</td>\n",
       "      <td>5577.669457</td>\n",
       "      <td>8828.380695</td>\n",
       "      <td>32677.34284</td>\n",
       "    </tr>\n",
       "    <tr>\n",
       "      <th>Bachelor</th>\n",
       "      <th>M</th>\n",
       "      <td>1572.0</td>\n",
       "      <td>7703.601675</td>\n",
       "      <td>6658.460774</td>\n",
       "      <td>1898.007675</td>\n",
       "      <td>3842.347006</td>\n",
       "      <td>5548.031892</td>\n",
       "      <td>8646.695783</td>\n",
       "      <td>67907.27050</td>\n",
       "    </tr>\n",
       "    <tr>\n",
       "      <th>College</th>\n",
       "      <th>F</th>\n",
       "      <td>1608.0</td>\n",
       "      <td>7748.823325</td>\n",
       "      <td>6678.304057</td>\n",
       "      <td>1898.683686</td>\n",
       "      <td>3866.801886</td>\n",
       "      <td>5623.611187</td>\n",
       "      <td>8714.922135</td>\n",
       "      <td>61850.18803</td>\n",
       "    </tr>\n",
       "    <tr>\n",
       "      <th>Bachelor</th>\n",
       "      <th>F</th>\n",
       "      <td>1700.0</td>\n",
       "      <td>7874.269478</td>\n",
       "      <td>6614.107319</td>\n",
       "      <td>1904.000852</td>\n",
       "      <td>4118.588554</td>\n",
       "      <td>5640.505303</td>\n",
       "      <td>8723.239761</td>\n",
       "      <td>73225.95652</td>\n",
       "    </tr>\n",
       "    <tr>\n",
       "      <th>College</th>\n",
       "      <th>M</th>\n",
       "      <td>1596.0</td>\n",
       "      <td>8052.459288</td>\n",
       "      <td>6716.960507</td>\n",
       "      <td>1918.119700</td>\n",
       "      <td>4035.902621</td>\n",
       "      <td>6005.847375</td>\n",
       "      <td>9157.757714</td>\n",
       "      <td>61134.68307</td>\n",
       "    </tr>\n",
       "    <tr>\n",
       "      <th>High School or Below</th>\n",
       "      <th>M</th>\n",
       "      <td>1556.0</td>\n",
       "      <td>8149.687783</td>\n",
       "      <td>7190.619899</td>\n",
       "      <td>1940.981221</td>\n",
       "      <td>4197.681981</td>\n",
       "      <td>6286.731006</td>\n",
       "      <td>9002.190432</td>\n",
       "      <td>83325.38119</td>\n",
       "    </tr>\n",
       "    <tr>\n",
       "      <th rowspan=\"2\" valign=\"top\">Master</th>\n",
       "      <th>F</th>\n",
       "      <td>475.0</td>\n",
       "      <td>8157.053154</td>\n",
       "      <td>6621.774653</td>\n",
       "      <td>2417.777032</td>\n",
       "      <td>4061.874865</td>\n",
       "      <td>5729.855012</td>\n",
       "      <td>9264.035235</td>\n",
       "      <td>51016.06704</td>\n",
       "    </tr>\n",
       "    <tr>\n",
       "      <th>M</th>\n",
       "      <td>412.0</td>\n",
       "      <td>8168.832659</td>\n",
       "      <td>7362.156626</td>\n",
       "      <td>2272.307310</td>\n",
       "      <td>3933.033944</td>\n",
       "      <td>5579.099207</td>\n",
       "      <td>9031.077409</td>\n",
       "      <td>50568.25912</td>\n",
       "    </tr>\n",
       "    <tr>\n",
       "      <th>High School or Below</th>\n",
       "      <th>F</th>\n",
       "      <td>1590.0</td>\n",
       "      <td>8675.220201</td>\n",
       "      <td>7497.848501</td>\n",
       "      <td>2144.921535</td>\n",
       "      <td>4158.278110</td>\n",
       "      <td>6039.553187</td>\n",
       "      <td>9457.340070</td>\n",
       "      <td>55277.44589</td>\n",
       "    </tr>\n",
       "  </tbody>\n",
       "</table>\n",
       "</div>"
      ],
      "text/plain": [
       "                              count         mean          std          min  \\\n",
       "Education            Gender                                                  \n",
       "Doctor               F        200.0  7328.508916  6930.556300  2395.570000   \n",
       "                     M        201.0  7415.333638  5460.941400  2267.604038   \n",
       "Bachelor             M       1572.0  7703.601675  6658.460774  1898.007675   \n",
       "College              F       1608.0  7748.823325  6678.304057  1898.683686   \n",
       "Bachelor             F       1700.0  7874.269478  6614.107319  1904.000852   \n",
       "College              M       1596.0  8052.459288  6716.960507  1918.119700   \n",
       "High School or Below M       1556.0  8149.687783  7190.619899  1940.981221   \n",
       "Master               F        475.0  8157.053154  6621.774653  2417.777032   \n",
       "                     M        412.0  8168.832659  7362.156626  2272.307310   \n",
       "High School or Below F       1590.0  8675.220201  7497.848501  2144.921535   \n",
       "\n",
       "                                     25%          50%          75%  \\\n",
       "Education            Gender                                          \n",
       "Doctor               F       3531.281803  5332.462694  7662.703676   \n",
       "                     M       3557.368368  5577.669457  8828.380695   \n",
       "Bachelor             M       3842.347006  5548.031892  8646.695783   \n",
       "College              F       3866.801886  5623.611187  8714.922135   \n",
       "Bachelor             F       4118.588554  5640.505303  8723.239761   \n",
       "College              M       4035.902621  6005.847375  9157.757714   \n",
       "High School or Below M       4197.681981  6286.731006  9002.190432   \n",
       "Master               F       4061.874865  5729.855012  9264.035235   \n",
       "                     M       3933.033944  5579.099207  9031.077409   \n",
       "High School or Below F       4158.278110  6039.553187  9457.340070   \n",
       "\n",
       "                                     max  \n",
       "Education            Gender               \n",
       "Doctor               F       44856.11397  \n",
       "                     M       32677.34284  \n",
       "Bachelor             M       67907.27050  \n",
       "College              F       61850.18803  \n",
       "Bachelor             F       73225.95652  \n",
       "College              M       61134.68307  \n",
       "High School or Below M       83325.38119  \n",
       "Master               F       51016.06704  \n",
       "                     M       50568.25912  \n",
       "High School or Below F       55277.44589  "
      ]
     },
     "execution_count": 79,
     "metadata": {},
     "output_type": "execute_result"
    }
   ],
   "source": [
    "# 4. Find the maximum, minimum, and median customer lifetime value by education level and gender. Write your conclusions.\n",
    "insurance.groupby([\"Education\",\"Gender\"])[\"Customer Lifetime Value\"].describe().sort_values(by=\"mean\")"
   ]
  },
  {
   "cell_type": "code",
   "execution_count": null,
   "id": "683779d4-158e-43b5-bbee-4bcf358198f0",
   "metadata": {},
   "outputs": [],
   "source": [
    "\"\"\"\n",
    "On average customers that belong to the educational level of 'high school or below' have the highest lifetime value. \n",
    "\"\"\""
   ]
  },
  {
   "cell_type": "markdown",
   "id": "b42999f9-311f-481e-ae63-40a5577072c5",
   "metadata": {
    "id": "b42999f9-311f-481e-ae63-40a5577072c5"
   },
   "source": [
    "## Bonus"
   ]
  },
  {
   "cell_type": "markdown",
   "id": "81ff02c5-6584-4f21-a358-b918697c6432",
   "metadata": {
    "id": "81ff02c5-6584-4f21-a358-b918697c6432"
   },
   "source": [
    "5. The marketing team wants to analyze the number of policies sold by state and month. Present the data in a table where the months are arranged as columns and the states are arranged as rows."
   ]
  },
  {
   "cell_type": "markdown",
   "id": "b6aec097-c633-4017-a125-e77a97259cda",
   "metadata": {
    "id": "b6aec097-c633-4017-a125-e77a97259cda"
   },
   "source": [
    "6.  Display a new DataFrame that contains the number of policies sold by month, by state, for the top 3 states with the highest number of policies sold.\n",
    "\n",
    "*Hint:*\n",
    "- *To accomplish this, you will first need to group the data by state and month, then count the number of policies sold for each group. Afterwards, you will need to sort the data by the count of policies sold in descending order.*\n",
    "- *Next, you will select the top 3 states with the highest number of policies sold.*\n",
    "- *Finally, you will create a new DataFrame that contains the number of policies sold by month for each of the top 3 states.*"
   ]
  },
  {
   "cell_type": "markdown",
   "id": "ba975b8a-a2cf-4fbf-9f59-ebc381767009",
   "metadata": {
    "id": "ba975b8a-a2cf-4fbf-9f59-ebc381767009"
   },
   "source": [
    "7. The marketing team wants to analyze the effect of different marketing channels on the customer response rate.\n",
    "\n",
    "Hint: You can use melt to unpivot the data and create a table that shows the customer response rate (those who responded \"Yes\") by marketing channel."
   ]
  },
  {
   "cell_type": "markdown",
   "id": "e4378d94-48fb-4850-a802-b1bc8f427b2d",
   "metadata": {
    "id": "e4378d94-48fb-4850-a802-b1bc8f427b2d"
   },
   "source": [
    "External Resources for Data Filtering: https://towardsdatascience.com/filtering-data-frames-in-pandas-b570b1f834b9"
   ]
  },
  {
   "cell_type": "code",
   "execution_count": null,
   "id": "449513f4-0459-46a0-a18d-9398d974c9ad",
   "metadata": {
    "id": "449513f4-0459-46a0-a18d-9398d974c9ad"
   },
   "outputs": [],
   "source": [
    "# your code goes here"
   ]
  }
 ],
 "metadata": {
  "colab": {
   "provenance": []
  },
  "kernelspec": {
   "display_name": "Python 3 (ipykernel)",
   "language": "python",
   "name": "python3"
  },
  "language_info": {
   "codemirror_mode": {
    "name": "ipython",
    "version": 3
   },
   "file_extension": ".py",
   "mimetype": "text/x-python",
   "name": "python",
   "nbconvert_exporter": "python",
   "pygments_lexer": "ipython3",
   "version": "3.11.7"
  }
 },
 "nbformat": 4,
 "nbformat_minor": 5
}
