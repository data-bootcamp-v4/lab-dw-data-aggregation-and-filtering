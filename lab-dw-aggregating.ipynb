{
  "cells": [
    {
      "cell_type": "markdown",
      "id": "31969215-2a90-4d8b-ac36-646a7ae13744",
      "metadata": {
        "id": "31969215-2a90-4d8b-ac36-646a7ae13744"
      },
      "source": [
        "# Lab | Data Aggregation and Filtering"
      ]
    },
    {
      "cell_type": "markdown",
      "id": "a8f08a52-bec0-439b-99cc-11d3809d8b5d",
      "metadata": {
        "id": "a8f08a52-bec0-439b-99cc-11d3809d8b5d"
      },
      "source": [
        "In this challenge, we will continue to work with customer data from an insurance company. We will use the dataset called marketing_customer_analysis.csv, which can be found at the following link:\n",
        "\n",
        "https://raw.githubusercontent.com/data-bootcamp-v4/data/main/marketing_customer_analysis.csv\n",
        "\n",
        "This dataset contains information such as customer demographics, policy details, vehicle information, and the customer's response to the last marketing campaign. Our goal is to explore and analyze this data by first performing data cleaning, formatting, and structuring."
      ]
    },
    {
      "cell_type": "markdown",
      "id": "9c98ddc5-b041-4c94-ada1-4dfee5c98e50",
      "metadata": {
        "id": "9c98ddc5-b041-4c94-ada1-4dfee5c98e50"
      },
      "source": [
        "1. Create a new DataFrame that only includes customers who have a total_claim_amount greater than $1,000 and have a response of \"Yes\" to the last marketing campaign."
      ]
    },
    {
      "cell_type": "markdown",
      "id": "b9be383e-5165-436e-80c8-57d4c757c8c3",
      "metadata": {
        "id": "b9be383e-5165-436e-80c8-57d4c757c8c3"
      },
      "source": [
        "2. Using the original Dataframe, analyze the average total_claim_amount by each policy type and gender for customers who have responded \"Yes\" to the last marketing campaign. Write your conclusions."
      ]
    },
    {
      "cell_type": "markdown",
      "id": "7050f4ac-53c5-4193-a3c0-8699b87196f0",
      "metadata": {
        "id": "7050f4ac-53c5-4193-a3c0-8699b87196f0"
      },
      "source": [
        "3. Analyze the total number of customers who have policies in each state, and then filter the results to only include states where there are more than 500 customers."
      ]
    },
    {
      "cell_type": "markdown",
      "id": "b60a4443-a1a7-4bbf-b78e-9ccdf9895e0d",
      "metadata": {
        "id": "b60a4443-a1a7-4bbf-b78e-9ccdf9895e0d"
      },
      "source": [
        "4. Find the maximum, minimum, and median customer lifetime value by education level and gender. Write your conclusions."
      ]
    },
    {
      "cell_type": "markdown",
      "id": "b42999f9-311f-481e-ae63-40a5577072c5",
      "metadata": {
        "id": "b42999f9-311f-481e-ae63-40a5577072c5"
      },
      "source": [
        "## Bonus"
      ]
    },
    {
      "cell_type": "markdown",
      "id": "81ff02c5-6584-4f21-a358-b918697c6432",
      "metadata": {
        "id": "81ff02c5-6584-4f21-a358-b918697c6432"
      },
      "source": [
        "5. The marketing team wants to analyze the number of policies sold by state and month. Present the data in a table where the months are arranged as columns and the states are arranged as rows."
      ]
    },
    {
      "cell_type": "markdown",
      "id": "b6aec097-c633-4017-a125-e77a97259cda",
      "metadata": {
        "id": "b6aec097-c633-4017-a125-e77a97259cda"
      },
      "source": [
        "6.  Display a new DataFrame that contains the number of policies sold by month, by state, for the top 3 states with the highest number of policies sold.\n",
        "\n",
        "*Hint:*\n",
        "- *To accomplish this, you will first need to group the data by state and month, then count the number of policies sold for each group. Afterwards, you will need to sort the data by the count of policies sold in descending order.*\n",
        "- *Next, you will select the top 3 states with the highest number of policies sold.*\n",
        "- *Finally, you will create a new DataFrame that contains the number of policies sold by month for each of the top 3 states.*"
      ]
    },
    {
      "cell_type": "markdown",
      "id": "ba975b8a-a2cf-4fbf-9f59-ebc381767009",
      "metadata": {
        "id": "ba975b8a-a2cf-4fbf-9f59-ebc381767009"
      },
      "source": [
        "7. The marketing team wants to analyze the effect of different marketing channels on the customer response rate.\n",
        "\n",
        "Hint: You can use melt to unpivot the data and create a table that shows the customer response rate (those who responded \"Yes\") by marketing channel."
      ]
    },
    {
      "cell_type": "markdown",
      "id": "e4378d94-48fb-4850-a802-b1bc8f427b2d",
      "metadata": {
        "id": "e4378d94-48fb-4850-a802-b1bc8f427b2d"
      },
      "source": [
        "External Resources for Data Filtering: https://towardsdatascience.com/filtering-data-frames-in-pandas-b570b1f834b9"
      ]
    },
    {
      "cell_type": "code",
      "execution_count": 1,
      "id": "449513f4-0459-46a0-a18d-9398d974c9ad",
      "metadata": {
        "id": "449513f4-0459-46a0-a18d-9398d974c9ad"
      },
      "outputs": [],
      "source": [
        "import pandas as pd"
      ]
    },
    {
      "cell_type": "code",
      "execution_count": 3,
      "id": "c434d2ed",
      "metadata": {},
      "outputs": [
        {
          "data": {
            "text/html": [
              "<div><div id=26677d8d-455b-454f-8433-bb15850a6c3f style=\"display:none; background-color:#9D6CFF; color:white; width:200px; height:30px; padding-left:5px; border-radius:4px; flex-direction:row; justify-content:space-around; align-items:center;\" onmouseover=\"this.style.backgroundColor='#BA9BF8'\" onmouseout=\"this.style.backgroundColor='#9D6CFF'\" onclick=\"window.commands?.execute('create-mitosheet-from-dataframe-output');\">See Full Dataframe in Mito</div> <script> if (window.commands?.hasCommand('create-mitosheet-from-dataframe-output')) document.getElementById('26677d8d-455b-454f-8433-bb15850a6c3f').style.display = 'flex' </script> <table border=\"1\" class=\"dataframe\">\n",
              "  <thead>\n",
              "    <tr style=\"text-align: right;\">\n",
              "      <th></th>\n",
              "      <th>Unnamed: 0</th>\n",
              "      <th>Customer</th>\n",
              "      <th>State</th>\n",
              "      <th>Customer Lifetime Value</th>\n",
              "      <th>Response</th>\n",
              "      <th>Coverage</th>\n",
              "      <th>Education</th>\n",
              "      <th>Effective To Date</th>\n",
              "      <th>EmploymentStatus</th>\n",
              "      <th>Gender</th>\n",
              "      <th>...</th>\n",
              "      <th>Number of Open Complaints</th>\n",
              "      <th>Number of Policies</th>\n",
              "      <th>Policy Type</th>\n",
              "      <th>Policy</th>\n",
              "      <th>Renew Offer Type</th>\n",
              "      <th>Sales Channel</th>\n",
              "      <th>Total Claim Amount</th>\n",
              "      <th>Vehicle Class</th>\n",
              "      <th>Vehicle Size</th>\n",
              "      <th>Vehicle Type</th>\n",
              "    </tr>\n",
              "  </thead>\n",
              "  <tbody>\n",
              "    <tr>\n",
              "      <th>0</th>\n",
              "      <td>0</td>\n",
              "      <td>DK49336</td>\n",
              "      <td>Arizona</td>\n",
              "      <td>4809.216960</td>\n",
              "      <td>No</td>\n",
              "      <td>Basic</td>\n",
              "      <td>College</td>\n",
              "      <td>2/18/11</td>\n",
              "      <td>Employed</td>\n",
              "      <td>M</td>\n",
              "      <td>...</td>\n",
              "      <td>0.0</td>\n",
              "      <td>9</td>\n",
              "      <td>Corporate Auto</td>\n",
              "      <td>Corporate L3</td>\n",
              "      <td>Offer3</td>\n",
              "      <td>Agent</td>\n",
              "      <td>292.800000</td>\n",
              "      <td>Four-Door Car</td>\n",
              "      <td>Medsize</td>\n",
              "      <td>NaN</td>\n",
              "    </tr>\n",
              "    <tr>\n",
              "      <th>1</th>\n",
              "      <td>1</td>\n",
              "      <td>KX64629</td>\n",
              "      <td>California</td>\n",
              "      <td>2228.525238</td>\n",
              "      <td>No</td>\n",
              "      <td>Basic</td>\n",
              "      <td>College</td>\n",
              "      <td>1/18/11</td>\n",
              "      <td>Unemployed</td>\n",
              "      <td>F</td>\n",
              "      <td>...</td>\n",
              "      <td>0.0</td>\n",
              "      <td>1</td>\n",
              "      <td>Personal Auto</td>\n",
              "      <td>Personal L3</td>\n",
              "      <td>Offer4</td>\n",
              "      <td>Call Center</td>\n",
              "      <td>744.924331</td>\n",
              "      <td>Four-Door Car</td>\n",
              "      <td>Medsize</td>\n",
              "      <td>NaN</td>\n",
              "    </tr>\n",
              "    <tr>\n",
              "      <th>2</th>\n",
              "      <td>2</td>\n",
              "      <td>LZ68649</td>\n",
              "      <td>Washington</td>\n",
              "      <td>14947.917300</td>\n",
              "      <td>No</td>\n",
              "      <td>Basic</td>\n",
              "      <td>Bachelor</td>\n",
              "      <td>2/10/11</td>\n",
              "      <td>Employed</td>\n",
              "      <td>M</td>\n",
              "      <td>...</td>\n",
              "      <td>0.0</td>\n",
              "      <td>2</td>\n",
              "      <td>Personal Auto</td>\n",
              "      <td>Personal L3</td>\n",
              "      <td>Offer3</td>\n",
              "      <td>Call Center</td>\n",
              "      <td>480.000000</td>\n",
              "      <td>SUV</td>\n",
              "      <td>Medsize</td>\n",
              "      <td>A</td>\n",
              "    </tr>\n",
              "    <tr>\n",
              "      <th>3</th>\n",
              "      <td>3</td>\n",
              "      <td>XL78013</td>\n",
              "      <td>Oregon</td>\n",
              "      <td>22332.439460</td>\n",
              "      <td>Yes</td>\n",
              "      <td>Extended</td>\n",
              "      <td>College</td>\n",
              "      <td>1/11/11</td>\n",
              "      <td>Employed</td>\n",
              "      <td>M</td>\n",
              "      <td>...</td>\n",
              "      <td>0.0</td>\n",
              "      <td>2</td>\n",
              "      <td>Corporate Auto</td>\n",
              "      <td>Corporate L3</td>\n",
              "      <td>Offer2</td>\n",
              "      <td>Branch</td>\n",
              "      <td>484.013411</td>\n",
              "      <td>Four-Door Car</td>\n",
              "      <td>Medsize</td>\n",
              "      <td>A</td>\n",
              "    </tr>\n",
              "    <tr>\n",
              "      <th>4</th>\n",
              "      <td>4</td>\n",
              "      <td>QA50777</td>\n",
              "      <td>Oregon</td>\n",
              "      <td>9025.067525</td>\n",
              "      <td>No</td>\n",
              "      <td>Premium</td>\n",
              "      <td>Bachelor</td>\n",
              "      <td>1/17/11</td>\n",
              "      <td>Medical Leave</td>\n",
              "      <td>F</td>\n",
              "      <td>...</td>\n",
              "      <td>NaN</td>\n",
              "      <td>7</td>\n",
              "      <td>Personal Auto</td>\n",
              "      <td>Personal L2</td>\n",
              "      <td>Offer1</td>\n",
              "      <td>Branch</td>\n",
              "      <td>707.925645</td>\n",
              "      <td>Four-Door Car</td>\n",
              "      <td>Medsize</td>\n",
              "      <td>NaN</td>\n",
              "    </tr>\n",
              "    <tr>\n",
              "      <th>...</th>\n",
              "      <td>...</td>\n",
              "      <td>...</td>\n",
              "      <td>...</td>\n",
              "      <td>...</td>\n",
              "      <td>...</td>\n",
              "      <td>...</td>\n",
              "      <td>...</td>\n",
              "      <td>...</td>\n",
              "      <td>...</td>\n",
              "      <td>...</td>\n",
              "      <td>...</td>\n",
              "      <td>...</td>\n",
              "      <td>...</td>\n",
              "      <td>...</td>\n",
              "      <td>...</td>\n",
              "      <td>...</td>\n",
              "      <td>...</td>\n",
              "      <td>...</td>\n",
              "      <td>...</td>\n",
              "      <td>...</td>\n",
              "      <td>...</td>\n",
              "    </tr>\n",
              "    <tr>\n",
              "      <th>10905</th>\n",
              "      <td>10905</td>\n",
              "      <td>FE99816</td>\n",
              "      <td>Nevada</td>\n",
              "      <td>15563.369440</td>\n",
              "      <td>No</td>\n",
              "      <td>Premium</td>\n",
              "      <td>Bachelor</td>\n",
              "      <td>1/19/11</td>\n",
              "      <td>Unemployed</td>\n",
              "      <td>F</td>\n",
              "      <td>...</td>\n",
              "      <td>NaN</td>\n",
              "      <td>7</td>\n",
              "      <td>Personal Auto</td>\n",
              "      <td>Personal L1</td>\n",
              "      <td>Offer3</td>\n",
              "      <td>Web</td>\n",
              "      <td>1214.400000</td>\n",
              "      <td>Luxury Car</td>\n",
              "      <td>Medsize</td>\n",
              "      <td>A</td>\n",
              "    </tr>\n",
              "    <tr>\n",
              "      <th>10906</th>\n",
              "      <td>10906</td>\n",
              "      <td>KX53892</td>\n",
              "      <td>Oregon</td>\n",
              "      <td>5259.444853</td>\n",
              "      <td>No</td>\n",
              "      <td>Basic</td>\n",
              "      <td>College</td>\n",
              "      <td>1/6/11</td>\n",
              "      <td>Employed</td>\n",
              "      <td>F</td>\n",
              "      <td>...</td>\n",
              "      <td>0.0</td>\n",
              "      <td>6</td>\n",
              "      <td>Personal Auto</td>\n",
              "      <td>Personal L3</td>\n",
              "      <td>Offer2</td>\n",
              "      <td>Branch</td>\n",
              "      <td>273.018929</td>\n",
              "      <td>Four-Door Car</td>\n",
              "      <td>Medsize</td>\n",
              "      <td>A</td>\n",
              "    </tr>\n",
              "    <tr>\n",
              "      <th>10907</th>\n",
              "      <td>10907</td>\n",
              "      <td>TL39050</td>\n",
              "      <td>Arizona</td>\n",
              "      <td>23893.304100</td>\n",
              "      <td>No</td>\n",
              "      <td>Extended</td>\n",
              "      <td>Bachelor</td>\n",
              "      <td>2/6/11</td>\n",
              "      <td>Employed</td>\n",
              "      <td>F</td>\n",
              "      <td>...</td>\n",
              "      <td>0.0</td>\n",
              "      <td>2</td>\n",
              "      <td>Corporate Auto</td>\n",
              "      <td>Corporate L3</td>\n",
              "      <td>Offer1</td>\n",
              "      <td>Web</td>\n",
              "      <td>381.306996</td>\n",
              "      <td>Luxury SUV</td>\n",
              "      <td>Medsize</td>\n",
              "      <td>NaN</td>\n",
              "    </tr>\n",
              "    <tr>\n",
              "      <th>10908</th>\n",
              "      <td>10908</td>\n",
              "      <td>WA60547</td>\n",
              "      <td>California</td>\n",
              "      <td>11971.977650</td>\n",
              "      <td>No</td>\n",
              "      <td>Premium</td>\n",
              "      <td>College</td>\n",
              "      <td>2/13/11</td>\n",
              "      <td>Employed</td>\n",
              "      <td>F</td>\n",
              "      <td>...</td>\n",
              "      <td>4.0</td>\n",
              "      <td>6</td>\n",
              "      <td>Personal Auto</td>\n",
              "      <td>Personal L1</td>\n",
              "      <td>Offer1</td>\n",
              "      <td>Branch</td>\n",
              "      <td>618.288849</td>\n",
              "      <td>SUV</td>\n",
              "      <td>Medsize</td>\n",
              "      <td>A</td>\n",
              "    </tr>\n",
              "    <tr>\n",
              "      <th>10909</th>\n",
              "      <td>10909</td>\n",
              "      <td>IV32877</td>\n",
              "      <td>NaN</td>\n",
              "      <td>6857.519928</td>\n",
              "      <td>NaN</td>\n",
              "      <td>Basic</td>\n",
              "      <td>Bachelor</td>\n",
              "      <td>1/8/11</td>\n",
              "      <td>Unemployed</td>\n",
              "      <td>M</td>\n",
              "      <td>...</td>\n",
              "      <td>0.0</td>\n",
              "      <td>3</td>\n",
              "      <td>Personal Auto</td>\n",
              "      <td>Personal L1</td>\n",
              "      <td>Offer4</td>\n",
              "      <td>Web</td>\n",
              "      <td>1021.719397</td>\n",
              "      <td>SUV</td>\n",
              "      <td>Medsize</td>\n",
              "      <td>NaN</td>\n",
              "    </tr>\n",
              "  </tbody>\n",
              "</table></div>"
            ],
            "text/plain": [
              "       Unnamed: 0 Customer       State  Customer Lifetime Value Response  \\\n",
              "0               0  DK49336     Arizona              4809.216960       No   \n",
              "1               1  KX64629  California              2228.525238       No   \n",
              "2               2  LZ68649  Washington             14947.917300       No   \n",
              "3               3  XL78013      Oregon             22332.439460      Yes   \n",
              "4               4  QA50777      Oregon              9025.067525       No   \n",
              "...           ...      ...         ...                      ...      ...   \n",
              "10905       10905  FE99816      Nevada             15563.369440       No   \n",
              "10906       10906  KX53892      Oregon              5259.444853       No   \n",
              "10907       10907  TL39050     Arizona             23893.304100       No   \n",
              "10908       10908  WA60547  California             11971.977650       No   \n",
              "10909       10909  IV32877         NaN              6857.519928      NaN   \n",
              "\n",
              "       Coverage Education Effective To Date EmploymentStatus Gender  ...  \\\n",
              "0         Basic   College           2/18/11         Employed      M  ...   \n",
              "1         Basic   College           1/18/11       Unemployed      F  ...   \n",
              "2         Basic  Bachelor           2/10/11         Employed      M  ...   \n",
              "3      Extended   College           1/11/11         Employed      M  ...   \n",
              "4       Premium  Bachelor           1/17/11    Medical Leave      F  ...   \n",
              "...         ...       ...               ...              ...    ...  ...   \n",
              "10905   Premium  Bachelor           1/19/11       Unemployed      F  ...   \n",
              "10906     Basic   College            1/6/11         Employed      F  ...   \n",
              "10907  Extended  Bachelor            2/6/11         Employed      F  ...   \n",
              "10908   Premium   College           2/13/11         Employed      F  ...   \n",
              "10909     Basic  Bachelor            1/8/11       Unemployed      M  ...   \n",
              "\n",
              "       Number of Open Complaints Number of Policies     Policy Type  \\\n",
              "0                            0.0                  9  Corporate Auto   \n",
              "1                            0.0                  1   Personal Auto   \n",
              "2                            0.0                  2   Personal Auto   \n",
              "3                            0.0                  2  Corporate Auto   \n",
              "4                            NaN                  7   Personal Auto   \n",
              "...                          ...                ...             ...   \n",
              "10905                        NaN                  7   Personal Auto   \n",
              "10906                        0.0                  6   Personal Auto   \n",
              "10907                        0.0                  2  Corporate Auto   \n",
              "10908                        4.0                  6   Personal Auto   \n",
              "10909                        0.0                  3   Personal Auto   \n",
              "\n",
              "             Policy  Renew Offer Type  Sales Channel  Total Claim Amount  \\\n",
              "0      Corporate L3            Offer3          Agent          292.800000   \n",
              "1       Personal L3            Offer4    Call Center          744.924331   \n",
              "2       Personal L3            Offer3    Call Center          480.000000   \n",
              "3      Corporate L3            Offer2         Branch          484.013411   \n",
              "4       Personal L2            Offer1         Branch          707.925645   \n",
              "...             ...               ...            ...                 ...   \n",
              "10905   Personal L1            Offer3            Web         1214.400000   \n",
              "10906   Personal L3            Offer2         Branch          273.018929   \n",
              "10907  Corporate L3            Offer1            Web          381.306996   \n",
              "10908   Personal L1            Offer1         Branch          618.288849   \n",
              "10909   Personal L1            Offer4            Web         1021.719397   \n",
              "\n",
              "       Vehicle Class Vehicle Size Vehicle Type  \n",
              "0      Four-Door Car      Medsize          NaN  \n",
              "1      Four-Door Car      Medsize          NaN  \n",
              "2                SUV      Medsize            A  \n",
              "3      Four-Door Car      Medsize            A  \n",
              "4      Four-Door Car      Medsize          NaN  \n",
              "...              ...          ...          ...  \n",
              "10905     Luxury Car      Medsize            A  \n",
              "10906  Four-Door Car      Medsize            A  \n",
              "10907     Luxury SUV      Medsize          NaN  \n",
              "10908            SUV      Medsize            A  \n",
              "10909            SUV      Medsize          NaN  \n",
              "\n",
              "[10910 rows x 26 columns]"
            ]
          },
          "execution_count": 3,
          "metadata": {},
          "output_type": "execute_result"
        }
      ],
      "source": [
        "df_customer = pd.read_csv('C:/Users/Andre/OneDrive/Documents/GitHub/lab-dw-data-aggregation-and-filtering/marketing_customer_analysis.csv')\n",
        "df_customer"
      ]
    },
    {
      "cell_type": "code",
      "execution_count": 17,
      "id": "c2c10af3",
      "metadata": {},
      "outputs": [
        {
          "name": "stdout",
          "output_type": "stream",
          "text": [
            "       unnamed:_0 customer       state  customer_lifetime_value response  \\\n",
            "189           189  OK31456  California             11009.130490      Yes   \n",
            "236           236  YJ16163      Oregon             11009.130490      Yes   \n",
            "419           419  GW43195      Oregon             25807.063000      Yes   \n",
            "442           442  IP94270     Arizona             13736.132500      Yes   \n",
            "587           587  FJ28407  California              5619.689084      Yes   \n",
            "...           ...      ...         ...                      ...      ...   \n",
            "10351       10351  FN44127      Oregon              3508.569533      Yes   \n",
            "10373       10373  XZ64172      Oregon             10963.957230      Yes   \n",
            "10487       10487  IX60941      Oregon              3508.569533      Yes   \n",
            "10565       10565  QO62792      Oregon              7840.165778      Yes   \n",
            "10708       10708  CK39096      Oregon              5619.689084      Yes   \n",
            "\n",
            "       coverage             education effective_to_date employmentstatus  \\\n",
            "189     Premium              Bachelor           1/24/11         Employed   \n",
            "236     Premium              Bachelor           1/24/11         Employed   \n",
            "419    Extended               College           2/13/11         Employed   \n",
            "442     Premium                Master           2/13/11         Disabled   \n",
            "587     Premium  High School or Below           1/26/11       Unemployed   \n",
            "...         ...                   ...               ...              ...   \n",
            "10351  Extended               College            1/5/11    Medical Leave   \n",
            "10373   Premium  High School or Below            2/8/11         Employed   \n",
            "10487  Extended               College            1/5/11    Medical Leave   \n",
            "10565  Extended               College           1/14/11         Employed   \n",
            "10708   Premium  High School or Below           1/26/11       Unemployed   \n",
            "\n",
            "      gender  ...  number_of_open_complaints number_of_policies  \\\n",
            "189        F  ...                        0.0                  1   \n",
            "236        F  ...                        0.0                  1   \n",
            "419        F  ...                        1.0                  2   \n",
            "442        F  ...                        0.0                  8   \n",
            "587        M  ...                        0.0                  1   \n",
            "...      ...  ...                        ...                ...   \n",
            "10351      M  ...                        1.0                  1   \n",
            "10373      M  ...                        0.0                  1   \n",
            "10487      M  ...                        1.0                  1   \n",
            "10565      M  ...                        2.0                  1   \n",
            "10708      M  ...                        0.0                  1   \n",
            "\n",
            "          policy_type        policy  renew_offer_type  sales_channel  \\\n",
            "189    Corporate Auto  Corporate L3            Offer2          Agent   \n",
            "236      Special Auto    Special L3            Offer2          Agent   \n",
            "419     Personal Auto   Personal L2            Offer1         Branch   \n",
            "442     Personal Auto   Personal L2            Offer1            Web   \n",
            "587     Personal Auto   Personal L1            Offer2            Web   \n",
            "...               ...           ...               ...            ...   \n",
            "10351   Personal Auto   Personal L2            Offer2         Branch   \n",
            "10373  Corporate Auto  Corporate L2            Offer1          Agent   \n",
            "10487   Personal Auto   Personal L3            Offer2         Branch   \n",
            "10565   Personal Auto   Personal L3            Offer2          Agent   \n",
            "10708   Personal Auto   Personal L3            Offer2            Web   \n",
            "\n",
            "       total_claim_amount  vehicle_class vehicle_size vehicle_type  \n",
            "189           1358.400000     Luxury Car      Medsize          NaN  \n",
            "236           1358.400000     Luxury Car      Medsize            A  \n",
            "419           1027.200000     Luxury Car        Small            A  \n",
            "442           1261.319869            SUV      Medsize            A  \n",
            "587           1027.000029            SUV      Medsize            A  \n",
            "...                   ...            ...          ...          ...  \n",
            "10351         1176.278800  Four-Door Car        Small          NaN  \n",
            "10373         1324.800000     Luxury SUV      Medsize          NaN  \n",
            "10487         1176.278800  Four-Door Car        Small          NaN  \n",
            "10565         1008.000000            NaN          NaN          NaN  \n",
            "10708         1027.000029            SUV      Medsize            A  \n",
            "\n",
            "[67 rows x 26 columns]\n"
          ]
        }
      ],
      "source": [
        "df_customer.columns = df_customer.columns.str.lower().str.replace(' ', '_')\n",
        "if 'total_claim_amount' in df_customer.columns and 'response' in df_customer.columns:\n",
        "    df_customer_filtered = df_customer[(df_customer['total_claim_amount'] > 1000) & (df_customer['response'] == 'Yes')]\n",
        "    print(df_customer_filtered)"
      ]
    },
    {
      "cell_type": "code",
      "execution_count": 16,
      "id": "cbf1a9aa",
      "metadata": {},
      "outputs": [
        {
          "name": "stdout",
          "output_type": "stream",
          "text": [
            "Empty DataFrame\n",
            "Columns: [policy_type, gender, total_claim_amount]\n",
            "Index: []\n"
          ]
        }
      ],
      "source": [
        "df_customer.columns = df_customer.columns.str.lower().str.replace(' ', '_')\n",
        "if 'response' in df_customer.columns and 'total_claim_amount' in df_customer.columns and 'policy_type' in df_customer.columns and 'gender' in df_customer.columns:\n",
        "    df_yes_response = df_customer_filtered[df_customer_filtered['response'] == 'yes']\n",
        "\n",
        "    avg_claim_by_policy_gender = df_yes_response.groupby(['policy_type', 'gender'])['total_claim_amount'].mean().reset_index()\n",
        "    print(avg_claim_by_policy_gender)"
      ]
    },
    {
      "cell_type": "code",
      "execution_count": 13,
      "id": "02202b81",
      "metadata": {},
      "outputs": [
        {
          "name": "stdout",
          "output_type": "stream",
          "text": [
            "Estados con más de 500 clientes con pólizas:\n",
            "        State  number_of_customers\n",
            "0  California                 3552\n",
            "1      Oregon                 2909\n",
            "2     Arizona                 1937\n",
            "3      Nevada                  993\n",
            "4  Washington                  888\n"
          ]
        }
      ],
      "source": [
        "if 'State' in df_customer.columns:\n",
        "        customers_per_state = df_customer['State'].value_counts().reset_index()\n",
        "        customers_per_state.columns = ['State', 'number_of_customers']\n",
        "\n",
        "        filtered_states = customers_per_state[customers_per_state['number_of_customers'] > 500]\n",
        "\n",
        "        print(\"Estados con más de 500 clientes con pólizas:\")\n",
        "        print(filtered_states)"
      ]
    },
    {
      "cell_type": "code",
      "execution_count": 18,
      "id": "cf2158f4",
      "metadata": {},
      "outputs": [
        {
          "name": "stdout",
          "output_type": "stream",
          "text": [
            "              education gender          max          min       median\n",
            "0              Bachelor      F  73225.95652  1904.000852  5640.505303\n",
            "1              Bachelor      M  67907.27050  1898.007675  5548.031892\n",
            "2               College      F  61850.18803  1898.683686  5623.611187\n",
            "3               College      M  61134.68307  1918.119700  6005.847375\n",
            "4                Doctor      F  44856.11397  2395.570000  5332.462694\n",
            "5                Doctor      M  32677.34284  2267.604038  5577.669457\n",
            "6  High School or Below      F  55277.44589  2144.921535  6039.553187\n",
            "7  High School or Below      M  83325.38119  1940.981221  6286.731006\n",
            "8                Master      F  51016.06704  2417.777032  5729.855012\n",
            "9                Master      M  50568.25912  2272.307310  5579.099207\n"
          ]
        }
      ],
      "source": [
        "df_customer.columns = df_customer.columns.str.lower().str.replace(' ', '_')\n",
        "\n",
        "if 'customer_lifetime_value' in df_customer.columns and 'education' in df_customer.columns and 'gender' in df_customer.columns:\n",
        "    df_customer['customer_lifetime_value'] = pd.to_numeric(df_customer['customer_lifetime_value'], errors='coerce')\n",
        "\n",
        "    clv_stats = df_customer.groupby(['education', 'gender'])['customer_lifetime_value'].agg(['max', 'min', 'median']).reset_index()\n",
        "\n",
        "    print(clv_stats)"
      ]
    },
    {
      "cell_type": "code",
      "execution_count": 19,
      "id": "fa63215f",
      "metadata": {},
      "outputs": [
        {
          "name": "stdout",
          "output_type": "stream",
          "text": [
            "month          1     2\n",
            "state                 \n",
            "Arizona     1008   929\n",
            "California  1918  1634\n",
            "Nevada       551   442\n",
            "Oregon      1565  1344\n",
            "Washington   463   425\n"
          ]
        }
      ],
      "source": [
        "df_customer.columns = df_customer.columns.str.lower().str.replace(' ', '_')\n",
        "\n",
        "if 'state' in df_customer.columns and 'effective_to_date' in df_customer.columns:\n",
        "    df_customer['effective_to_date'] = pd.to_datetime(df_customer['effective_to_date'], errors='coerce')\n",
        "\n",
        "    df_customer['month'] = df_customer['effective_to_date'].dt.month\n",
        "\n",
        "    policies_pivot = df_customer.pivot_table(\n",
        "        values='customer_lifetime_value',  \n",
        "        index='state',\n",
        "        columns='month',\n",
        "        aggfunc='count',\n",
        "        fill_value=0\n",
        "    )\n",
        "\n",
        "    print(policies_pivot)"
      ]
    },
    {
      "cell_type": "code",
      "execution_count": 20,
      "id": "1c4d7dd1",
      "metadata": {},
      "outputs": [
        {
          "name": "stdout",
          "output_type": "stream",
          "text": [
            "        state  month  number_of_policies_sold\n",
            "0     Arizona      1                     1008\n",
            "1     Arizona      2                      929\n",
            "2  California      1                     1918\n",
            "3  California      2                     1634\n",
            "6      Oregon      1                     1565\n",
            "7      Oregon      2                     1344\n"
          ]
        }
      ],
      "source": [
        "df_customer.columns = df_customer.columns.str.lower().str.replace(' ', '_')\n",
        "\n",
        "if 'state' in df_customer.columns and 'effective_to_date' in df_customer.columns:\n",
        "    df_customer['effective_to_date'] = pd.to_datetime(df_customer['effective_to_date'], errors='coerce')\n",
        "\n",
        "    df_customer['month'] = df_customer['effective_to_date'].dt.month\n",
        "\n",
        "    grouped_df = df_customer.groupby(['state', 'month']).size().reset_index(name='number_of_policies_sold')\n",
        "\n",
        "    total_policies_by_state = grouped_df.groupby('state')['number_of_policies_sold'].sum().reset_index()\n",
        "    top_3_states = total_policies_by_state.sort_values(by='number_of_policies_sold', ascending=False).head(3)['state']\n",
        "\n",
        "    filtered_df = grouped_df[grouped_df['state'].isin(top_3_states)]\n",
        "\n",
        "    print(filtered_df)\n"
      ]
    },
    {
      "cell_type": "code",
      "execution_count": 21,
      "id": "39e1ea20",
      "metadata": {},
      "outputs": [
        {
          "name": "stdout",
          "output_type": "stream",
          "text": [
            "Tasa de respuesta de los clientes por canal de marketing:\n",
            "Empty DataFrame\n",
            "Columns: [number_of_responses, marketing_channel, total_customers, response_rate]\n",
            "Index: []\n"
          ]
        }
      ],
      "source": [
        "if 'response' in df_customer.columns and 'sales_channel' in df_customer.columns:\n",
        "    df_yes_response = df_customer[df_customer['response'] == 'yes']\n",
        "\n",
        "    response_by_channel = df_yes_response['sales_channel'].value_counts().reset_index()\n",
        "    response_by_channel.columns = ['marketing_channel', 'number_of_responses']\n",
        "\n",
        "    total_customers_by_channel = df_customer['sales_channel'].value_counts().reset_index()\n",
        "    total_customers_by_channel.columns = ['marketing_channel', 'total_customers']\n",
        "\n",
        "    response_rate_df = pd.merge(response_by_channel, total_customers_by_channel, on='marketing_channel')\n",
        "    response_rate_df['response_rate'] = (response_rate_df['number_of_responses'] / response_rate_df['total_customers']) * 100\n",
        "\n",
        "    print(\"Tasa de respuesta de los clientes por canal de marketing:\")\n",
        "    print(response_rate_df)"
      ]
    }
  ],
  "metadata": {
    "colab": {
      "provenance": []
    },
    "kernelspec": {
      "display_name": "Python 3 (ipykernel)",
      "language": "python",
      "name": "python3"
    },
    "language_info": {
      "codemirror_mode": {
        "name": "ipython",
        "version": 3
      },
      "file_extension": ".py",
      "mimetype": "text/x-python",
      "name": "python",
      "nbconvert_exporter": "python",
      "pygments_lexer": "ipython3",
      "version": "3.7.9"
    }
  },
  "nbformat": 4,
  "nbformat_minor": 5
}
