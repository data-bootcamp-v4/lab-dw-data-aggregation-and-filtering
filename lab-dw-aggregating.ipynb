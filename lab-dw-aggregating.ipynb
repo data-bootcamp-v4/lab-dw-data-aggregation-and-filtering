{
  "cells": [
    {
      "cell_type": "markdown",
      "id": "31969215-2a90-4d8b-ac36-646a7ae13744",
      "metadata": {
        "id": "31969215-2a90-4d8b-ac36-646a7ae13744"
      },
      "source": [
        "# Lab | Data Aggregation and Filtering"
      ]
    },
    {
      "cell_type": "markdown",
      "id": "a8f08a52-bec0-439b-99cc-11d3809d8b5d",
      "metadata": {
        "id": "a8f08a52-bec0-439b-99cc-11d3809d8b5d"
      },
      "source": [
        "In this challenge, we will continue to work with customer data from an insurance company. We will use the dataset called marketing_customer_analysis.csv, which can be found at the following link:\n",
        "\n",
        "https://raw.githubusercontent.com/data-bootcamp-v4/data/main/marketing_customer_analysis.csv\n",
        "\n",
        "This dataset contains information such as customer demographics, policy details, vehicle information, and the customer's response to the last marketing campaign. Our goal is to explore and analyze this data by first performing data cleaning, formatting, and structuring."
      ]
    },
    {
      "cell_type": "markdown",
      "id": "9c98ddc5-b041-4c94-ada1-4dfee5c98e50",
      "metadata": {
        "id": "9c98ddc5-b041-4c94-ada1-4dfee5c98e50"
      },
      "source": [
        "1. Create a new DataFrame that only includes customers who:\n",
        "   - have a **low total_claim_amount** (e.g., below $1,000),\n",
        "   - have a response \"Yes\" to the last marketing campaign."
      ]
    },
    {
      "cell_type": "markdown",
      "id": "b9be383e-5165-436e-80c8-57d4c757c8c3",
      "metadata": {
        "id": "b9be383e-5165-436e-80c8-57d4c757c8c3"
      },
      "source": [
        "2. Using the original Dataframe, analyze:\n",
        "   - the average `monthly_premium` and/or customer lifetime value by `policy_type` and `gender` for customers who responded \"Yes\", and\n",
        "   - compare these insights to `total_claim_amount` patterns, and discuss which segments appear most profitable or low-risk for the company."
      ]
    },
    {
      "cell_type": "markdown",
      "id": "7050f4ac-53c5-4193-a3c0-8699b87196f0",
      "metadata": {
        "id": "7050f4ac-53c5-4193-a3c0-8699b87196f0"
      },
      "source": [
        "3. Analyze the total number of customers who have policies in each state, and then filter the results to only include states where there are more than 500 customers."
      ]
    },
    {
      "cell_type": "markdown",
      "id": "b60a4443-a1a7-4bbf-b78e-9ccdf9895e0d",
      "metadata": {
        "id": "b60a4443-a1a7-4bbf-b78e-9ccdf9895e0d"
      },
      "source": [
        "4. Find the maximum, minimum, and median customer lifetime value by education level and gender. Write your conclusions."
      ]
    },
    {
      "cell_type": "markdown",
      "id": "b42999f9-311f-481e-ae63-40a5577072c5",
      "metadata": {
        "id": "b42999f9-311f-481e-ae63-40a5577072c5"
      },
      "source": [
        "## Bonus"
      ]
    },
    {
      "cell_type": "markdown",
      "id": "81ff02c5-6584-4f21-a358-b918697c6432",
      "metadata": {
        "id": "81ff02c5-6584-4f21-a358-b918697c6432"
      },
      "source": [
        "5. The marketing team wants to analyze the number of policies sold by state and month. Present the data in a table where the months are arranged as columns and the states are arranged as rows."
      ]
    },
    {
      "cell_type": "markdown",
      "id": "b6aec097-c633-4017-a125-e77a97259cda",
      "metadata": {
        "id": "b6aec097-c633-4017-a125-e77a97259cda"
      },
      "source": [
        "6.  Display a new DataFrame that contains the number of policies sold by month, by state, for the top 3 states with the highest number of policies sold.\n",
        "\n",
        "*Hint:*\n",
        "- *To accomplish this, you will first need to group the data by state and month, then count the number of policies sold for each group. Afterwards, you will need to sort the data by the count of policies sold in descending order.*\n",
        "- *Next, you will select the top 3 states with the highest number of policies sold.*\n",
        "- *Finally, you will create a new DataFrame that contains the number of policies sold by month for each of the top 3 states.*"
      ]
    },
    {
      "cell_type": "markdown",
      "id": "ba975b8a-a2cf-4fbf-9f59-ebc381767009",
      "metadata": {
        "id": "ba975b8a-a2cf-4fbf-9f59-ebc381767009"
      },
      "source": [
        "7. The marketing team wants to analyze the effect of different marketing channels on the customer response rate.\n",
        "\n",
        "Hint: You can use melt to unpivot the data and create a table that shows the customer response rate (those who responded \"Yes\") by marketing channel."
      ]
    },
    {
      "cell_type": "markdown",
      "id": "e4378d94-48fb-4850-a802-b1bc8f427b2d",
      "metadata": {
        "id": "e4378d94-48fb-4850-a802-b1bc8f427b2d"
      },
      "source": [
        "External Resources for Data Filtering: https://towardsdatascience.com/filtering-data-frames-in-pandas-b570b1f834b9"
      ]
    },
    {
      "cell_type": "code",
      "execution_count": 30,
      "id": "449513f4-0459-46a0-a18d-9398d974c9ad",
      "metadata": {
        "id": "449513f4-0459-46a0-a18d-9398d974c9ad"
      },
      "outputs": [],
      "source": [
        "import pandas as pd\n",
        "import numpy as np"
      ]
    },
    {
      "cell_type": "code",
      "execution_count": 31,
      "id": "406e59ce",
      "metadata": {},
      "outputs": [],
      "source": [
        "url = 'https://raw.githubusercontent.com/data-bootcamp-v4/data/main/marketing_customer_analysis.csv'\n",
        "df = pd.read_csv(url)"
      ]
    },
    {
      "cell_type": "code",
      "execution_count": 32,
      "id": "4cbda767",
      "metadata": {},
      "outputs": [
        {
          "data": {
            "text/html": [
              "<div>\n",
              "<style scoped>\n",
              "    .dataframe tbody tr th:only-of-type {\n",
              "        vertical-align: middle;\n",
              "    }\n",
              "\n",
              "    .dataframe tbody tr th {\n",
              "        vertical-align: top;\n",
              "    }\n",
              "\n",
              "    .dataframe thead th {\n",
              "        text-align: right;\n",
              "    }\n",
              "</style>\n",
              "<table border=\"1\" class=\"dataframe\">\n",
              "  <thead>\n",
              "    <tr style=\"text-align: right;\">\n",
              "      <th></th>\n",
              "      <th>Unnamed: 0</th>\n",
              "      <th>Customer</th>\n",
              "      <th>State</th>\n",
              "      <th>Customer Lifetime Value</th>\n",
              "      <th>Response</th>\n",
              "      <th>Coverage</th>\n",
              "      <th>Education</th>\n",
              "      <th>Effective To Date</th>\n",
              "      <th>EmploymentStatus</th>\n",
              "      <th>Gender</th>\n",
              "      <th>...</th>\n",
              "      <th>Number of Open Complaints</th>\n",
              "      <th>Number of Policies</th>\n",
              "      <th>Policy Type</th>\n",
              "      <th>Policy</th>\n",
              "      <th>Renew Offer Type</th>\n",
              "      <th>Sales Channel</th>\n",
              "      <th>Total Claim Amount</th>\n",
              "      <th>Vehicle Class</th>\n",
              "      <th>Vehicle Size</th>\n",
              "      <th>Vehicle Type</th>\n",
              "    </tr>\n",
              "  </thead>\n",
              "  <tbody>\n",
              "    <tr>\n",
              "      <th>0</th>\n",
              "      <td>0</td>\n",
              "      <td>DK49336</td>\n",
              "      <td>Arizona</td>\n",
              "      <td>4809.216960</td>\n",
              "      <td>No</td>\n",
              "      <td>Basic</td>\n",
              "      <td>College</td>\n",
              "      <td>2/18/11</td>\n",
              "      <td>Employed</td>\n",
              "      <td>M</td>\n",
              "      <td>...</td>\n",
              "      <td>0.0</td>\n",
              "      <td>9</td>\n",
              "      <td>Corporate Auto</td>\n",
              "      <td>Corporate L3</td>\n",
              "      <td>Offer3</td>\n",
              "      <td>Agent</td>\n",
              "      <td>292.800000</td>\n",
              "      <td>Four-Door Car</td>\n",
              "      <td>Medsize</td>\n",
              "      <td>NaN</td>\n",
              "    </tr>\n",
              "    <tr>\n",
              "      <th>1</th>\n",
              "      <td>1</td>\n",
              "      <td>KX64629</td>\n",
              "      <td>California</td>\n",
              "      <td>2228.525238</td>\n",
              "      <td>No</td>\n",
              "      <td>Basic</td>\n",
              "      <td>College</td>\n",
              "      <td>1/18/11</td>\n",
              "      <td>Unemployed</td>\n",
              "      <td>F</td>\n",
              "      <td>...</td>\n",
              "      <td>0.0</td>\n",
              "      <td>1</td>\n",
              "      <td>Personal Auto</td>\n",
              "      <td>Personal L3</td>\n",
              "      <td>Offer4</td>\n",
              "      <td>Call Center</td>\n",
              "      <td>744.924331</td>\n",
              "      <td>Four-Door Car</td>\n",
              "      <td>Medsize</td>\n",
              "      <td>NaN</td>\n",
              "    </tr>\n",
              "    <tr>\n",
              "      <th>2</th>\n",
              "      <td>2</td>\n",
              "      <td>LZ68649</td>\n",
              "      <td>Washington</td>\n",
              "      <td>14947.917300</td>\n",
              "      <td>No</td>\n",
              "      <td>Basic</td>\n",
              "      <td>Bachelor</td>\n",
              "      <td>2/10/11</td>\n",
              "      <td>Employed</td>\n",
              "      <td>M</td>\n",
              "      <td>...</td>\n",
              "      <td>0.0</td>\n",
              "      <td>2</td>\n",
              "      <td>Personal Auto</td>\n",
              "      <td>Personal L3</td>\n",
              "      <td>Offer3</td>\n",
              "      <td>Call Center</td>\n",
              "      <td>480.000000</td>\n",
              "      <td>SUV</td>\n",
              "      <td>Medsize</td>\n",
              "      <td>A</td>\n",
              "    </tr>\n",
              "    <tr>\n",
              "      <th>3</th>\n",
              "      <td>3</td>\n",
              "      <td>XL78013</td>\n",
              "      <td>Oregon</td>\n",
              "      <td>22332.439460</td>\n",
              "      <td>Yes</td>\n",
              "      <td>Extended</td>\n",
              "      <td>College</td>\n",
              "      <td>1/11/11</td>\n",
              "      <td>Employed</td>\n",
              "      <td>M</td>\n",
              "      <td>...</td>\n",
              "      <td>0.0</td>\n",
              "      <td>2</td>\n",
              "      <td>Corporate Auto</td>\n",
              "      <td>Corporate L3</td>\n",
              "      <td>Offer2</td>\n",
              "      <td>Branch</td>\n",
              "      <td>484.013411</td>\n",
              "      <td>Four-Door Car</td>\n",
              "      <td>Medsize</td>\n",
              "      <td>A</td>\n",
              "    </tr>\n",
              "    <tr>\n",
              "      <th>4</th>\n",
              "      <td>4</td>\n",
              "      <td>QA50777</td>\n",
              "      <td>Oregon</td>\n",
              "      <td>9025.067525</td>\n",
              "      <td>No</td>\n",
              "      <td>Premium</td>\n",
              "      <td>Bachelor</td>\n",
              "      <td>1/17/11</td>\n",
              "      <td>Medical Leave</td>\n",
              "      <td>F</td>\n",
              "      <td>...</td>\n",
              "      <td>NaN</td>\n",
              "      <td>7</td>\n",
              "      <td>Personal Auto</td>\n",
              "      <td>Personal L2</td>\n",
              "      <td>Offer1</td>\n",
              "      <td>Branch</td>\n",
              "      <td>707.925645</td>\n",
              "      <td>Four-Door Car</td>\n",
              "      <td>Medsize</td>\n",
              "      <td>NaN</td>\n",
              "    </tr>\n",
              "  </tbody>\n",
              "</table>\n",
              "<p>5 rows × 26 columns</p>\n",
              "</div>"
            ],
            "text/plain": [
              "   Unnamed: 0 Customer       State  Customer Lifetime Value Response  \\\n",
              "0           0  DK49336     Arizona              4809.216960       No   \n",
              "1           1  KX64629  California              2228.525238       No   \n",
              "2           2  LZ68649  Washington             14947.917300       No   \n",
              "3           3  XL78013      Oregon             22332.439460      Yes   \n",
              "4           4  QA50777      Oregon              9025.067525       No   \n",
              "\n",
              "   Coverage Education Effective To Date EmploymentStatus Gender  ...  \\\n",
              "0     Basic   College           2/18/11         Employed      M  ...   \n",
              "1     Basic   College           1/18/11       Unemployed      F  ...   \n",
              "2     Basic  Bachelor           2/10/11         Employed      M  ...   \n",
              "3  Extended   College           1/11/11         Employed      M  ...   \n",
              "4   Premium  Bachelor           1/17/11    Medical Leave      F  ...   \n",
              "\n",
              "   Number of Open Complaints Number of Policies     Policy Type        Policy  \\\n",
              "0                        0.0                  9  Corporate Auto  Corporate L3   \n",
              "1                        0.0                  1   Personal Auto   Personal L3   \n",
              "2                        0.0                  2   Personal Auto   Personal L3   \n",
              "3                        0.0                  2  Corporate Auto  Corporate L3   \n",
              "4                        NaN                  7   Personal Auto   Personal L2   \n",
              "\n",
              "   Renew Offer Type  Sales Channel  Total Claim Amount  Vehicle Class  \\\n",
              "0            Offer3          Agent          292.800000  Four-Door Car   \n",
              "1            Offer4    Call Center          744.924331  Four-Door Car   \n",
              "2            Offer3    Call Center          480.000000            SUV   \n",
              "3            Offer2         Branch          484.013411  Four-Door Car   \n",
              "4            Offer1         Branch          707.925645  Four-Door Car   \n",
              "\n",
              "  Vehicle Size Vehicle Type  \n",
              "0      Medsize          NaN  \n",
              "1      Medsize          NaN  \n",
              "2      Medsize            A  \n",
              "3      Medsize            A  \n",
              "4      Medsize          NaN  \n",
              "\n",
              "[5 rows x 26 columns]"
            ]
          },
          "execution_count": 32,
          "metadata": {},
          "output_type": "execute_result"
        }
      ],
      "source": [
        "df.head()"
      ]
    },
    {
      "cell_type": "code",
      "execution_count": 33,
      "id": "c996da02",
      "metadata": {},
      "outputs": [
        {
          "name": "stdout",
          "output_type": "stream",
          "text": [
            "<class 'pandas.core.frame.DataFrame'>\n",
            "RangeIndex: 10910 entries, 0 to 10909\n",
            "Data columns (total 26 columns):\n",
            " #   Column                         Non-Null Count  Dtype  \n",
            "---  ------                         --------------  -----  \n",
            " 0   Unnamed: 0                     10910 non-null  int64  \n",
            " 1   Customer                       10910 non-null  object \n",
            " 2   State                          10279 non-null  object \n",
            " 3   Customer Lifetime Value        10910 non-null  float64\n",
            " 4   Response                       10279 non-null  object \n",
            " 5   Coverage                       10910 non-null  object \n",
            " 6   Education                      10910 non-null  object \n",
            " 7   Effective To Date              10910 non-null  object \n",
            " 8   EmploymentStatus               10910 non-null  object \n",
            " 9   Gender                         10910 non-null  object \n",
            " 10  Income                         10910 non-null  int64  \n",
            " 11  Location Code                  10910 non-null  object \n",
            " 12  Marital Status                 10910 non-null  object \n",
            " 13  Monthly Premium Auto           10910 non-null  int64  \n",
            " 14  Months Since Last Claim        10277 non-null  float64\n",
            " 15  Months Since Policy Inception  10910 non-null  int64  \n",
            " 16  Number of Open Complaints      10277 non-null  float64\n",
            " 17  Number of Policies             10910 non-null  int64  \n",
            " 18  Policy Type                    10910 non-null  object \n",
            " 19  Policy                         10910 non-null  object \n",
            " 20  Renew Offer Type               10910 non-null  object \n",
            " 21  Sales Channel                  10910 non-null  object \n",
            " 22  Total Claim Amount             10910 non-null  float64\n",
            " 23  Vehicle Class                  10288 non-null  object \n",
            " 24  Vehicle Size                   10288 non-null  object \n",
            " 25  Vehicle Type                   5428 non-null   object \n",
            "dtypes: float64(4), int64(5), object(17)\n",
            "memory usage: 2.2+ MB\n"
          ]
        }
      ],
      "source": [
        "df.info()"
      ]
    },
    {
      "cell_type": "code",
      "execution_count": 34,
      "id": "3efcd433",
      "metadata": {},
      "outputs": [
        {
          "name": "stdout",
          "output_type": "stream",
          "text": [
            "\n",
            "Number of duplicate rows: 0\n",
            "\n",
            "Null values in each column:\n",
            "Unnamed: 0                          0\n",
            "Customer                            0\n",
            "State                             631\n",
            "Customer Lifetime Value             0\n",
            "Response                          631\n",
            "Coverage                            0\n",
            "Education                           0\n",
            "Effective To Date                   0\n",
            "EmploymentStatus                    0\n",
            "Gender                              0\n",
            "Income                              0\n",
            "Location Code                       0\n",
            "Marital Status                      0\n",
            "Monthly Premium Auto                0\n",
            "Months Since Last Claim           633\n",
            "Months Since Policy Inception       0\n",
            "Number of Open Complaints         633\n",
            "Number of Policies                  0\n",
            "Policy Type                         0\n",
            "Policy                              0\n",
            "Renew Offer Type                    0\n",
            "Sales Channel                       0\n",
            "Total Claim Amount                  0\n",
            "Vehicle Class                     622\n",
            "Vehicle Size                      622\n",
            "Vehicle Type                     5482\n",
            "dtype: int64\n"
          ]
        }
      ],
      "source": [
        "duplicates = df.duplicated()  # Returns Boolean Series for rows with duplicates\n",
        "num_duplicates = duplicates.sum()\n",
        "print(\"\\nNumber of duplicate rows:\", num_duplicates)\n",
        "\n",
        "# Display duplicate rows if any\n",
        "if num_duplicates > 0:\n",
        "    print(\"\\nDuplicate rows:\")\n",
        "    print(df[duplicates])\n",
        "\n",
        "# Check for null values in each column\n",
        "null_counts = df.isnull().sum()\n",
        "print(\"\\nNull values in each column:\")\n",
        "print(null_counts)"
      ]
    },
    {
      "cell_type": "code",
      "execution_count": 35,
      "id": "19945b48",
      "metadata": {},
      "outputs": [
        {
          "name": "stdout",
          "output_type": "stream",
          "text": [
            "\n",
            "DataFrame after replacing NaN values with 'unknown':\n",
            "       Unnamed: 0 Customer       State  Customer Lifetime Value Response  \\\n",
            "0               0  DK49336     Arizona              4809.216960       No   \n",
            "1               1  KX64629  California              2228.525238       No   \n",
            "2               2  LZ68649  Washington             14947.917300       No   \n",
            "3               3  XL78013      Oregon             22332.439460      Yes   \n",
            "4               4  QA50777      Oregon              9025.067525       No   \n",
            "...           ...      ...         ...                      ...      ...   \n",
            "10905       10905  FE99816      Nevada             15563.369440       No   \n",
            "10906       10906  KX53892      Oregon              5259.444853       No   \n",
            "10907       10907  TL39050     Arizona             23893.304100       No   \n",
            "10908       10908  WA60547  California             11971.977650       No   \n",
            "10909       10909  IV32877     unknown              6857.519928  unknown   \n",
            "\n",
            "       Coverage Education Effective To Date EmploymentStatus Gender  ...  \\\n",
            "0         Basic   College           2/18/11         Employed      M  ...   \n",
            "1         Basic   College           1/18/11       Unemployed      F  ...   \n",
            "2         Basic  Bachelor           2/10/11         Employed      M  ...   \n",
            "3      Extended   College           1/11/11         Employed      M  ...   \n",
            "4       Premium  Bachelor           1/17/11    Medical Leave      F  ...   \n",
            "...         ...       ...               ...              ...    ...  ...   \n",
            "10905   Premium  Bachelor           1/19/11       Unemployed      F  ...   \n",
            "10906     Basic   College            1/6/11         Employed      F  ...   \n",
            "10907  Extended  Bachelor            2/6/11         Employed      F  ...   \n",
            "10908   Premium   College           2/13/11         Employed      F  ...   \n",
            "10909     Basic  Bachelor            1/8/11       Unemployed      M  ...   \n",
            "\n",
            "       Number of Open Complaints Number of Policies     Policy Type  \\\n",
            "0                            0.0                  9  Corporate Auto   \n",
            "1                            0.0                  1   Personal Auto   \n",
            "2                            0.0                  2   Personal Auto   \n",
            "3                            0.0                  2  Corporate Auto   \n",
            "4                        unknown                  7   Personal Auto   \n",
            "...                          ...                ...             ...   \n",
            "10905                    unknown                  7   Personal Auto   \n",
            "10906                        0.0                  6   Personal Auto   \n",
            "10907                        0.0                  2  Corporate Auto   \n",
            "10908                        4.0                  6   Personal Auto   \n",
            "10909                        0.0                  3   Personal Auto   \n",
            "\n",
            "             Policy Renew Offer Type  Sales Channel Total Claim Amount  \\\n",
            "0      Corporate L3           Offer3          Agent         292.800000   \n",
            "1       Personal L3           Offer4    Call Center         744.924331   \n",
            "2       Personal L3           Offer3    Call Center         480.000000   \n",
            "3      Corporate L3           Offer2         Branch         484.013411   \n",
            "4       Personal L2           Offer1         Branch         707.925645   \n",
            "...             ...              ...            ...                ...   \n",
            "10905   Personal L1           Offer3            Web        1214.400000   \n",
            "10906   Personal L3           Offer2         Branch         273.018929   \n",
            "10907  Corporate L3           Offer1            Web         381.306996   \n",
            "10908   Personal L1           Offer1         Branch         618.288849   \n",
            "10909   Personal L1           Offer4            Web        1021.719397   \n",
            "\n",
            "       Vehicle Class Vehicle Size Vehicle Type  \n",
            "0      Four-Door Car      Medsize      unknown  \n",
            "1      Four-Door Car      Medsize      unknown  \n",
            "2                SUV      Medsize            A  \n",
            "3      Four-Door Car      Medsize            A  \n",
            "4      Four-Door Car      Medsize      unknown  \n",
            "...              ...          ...          ...  \n",
            "10905     Luxury Car      Medsize            A  \n",
            "10906  Four-Door Car      Medsize            A  \n",
            "10907     Luxury SUV      Medsize      unknown  \n",
            "10908            SUV      Medsize            A  \n",
            "10909            SUV      Medsize      unknown  \n",
            "\n",
            "[10910 rows x 26 columns]\n"
          ]
        }
      ],
      "source": [
        "df_filled = df.fillna('unknown')\n",
        "\n",
        "# Display the DataFrame after replacing NaN values\n",
        "print(\"\\nDataFrame after replacing NaN values with 'unknown':\")\n",
        "print(df_filled)"
      ]
    },
    {
      "cell_type": "code",
      "execution_count": 43,
      "id": "d413a00c",
      "metadata": {},
      "outputs": [],
      "source": [
        "df.columns = [col.lower().replace(' ', '_') for col in df.columns]"
      ]
    },
    {
      "cell_type": "markdown",
      "id": "7851557a",
      "metadata": {},
      "source": [
        "1. Task"
      ]
    },
    {
      "cell_type": "code",
      "execution_count": 60,
      "id": "02855562",
      "metadata": {},
      "outputs": [
        {
          "name": "stdout",
          "output_type": "stream",
          "text": [
            "\n",
            "Filtered DataFrame:\n",
            "       unnamed:_0 customer       state  customer_lifetime_value response  \\\n",
            "3               3  XL78013      Oregon             22332.439460      Yes   \n",
            "8               8  FM55990  California              5989.773931      Yes   \n",
            "15             15  CW49887  California              4626.801093      Yes   \n",
            "19             19  NJ54277  California              3746.751625      Yes   \n",
            "27             27  MQ68407      Oregon              4376.363592      Yes   \n",
            "...           ...      ...         ...                      ...      ...   \n",
            "10844       10844  FM31768     Arizona              5979.724161      Yes   \n",
            "10852       10852  KZ80424  Washington              8382.478392      Yes   \n",
            "10872       10872  XT67997  California              5979.724161      Yes   \n",
            "10887       10887  BY78730      Oregon              8879.790017      Yes   \n",
            "10897       10897  MM70762     Arizona              9075.768214      Yes   \n",
            "\n",
            "       coverage             education effective_to_date employmentstatus  \\\n",
            "3      Extended               College           1/11/11         Employed   \n",
            "8       Premium               College           1/19/11         Employed   \n",
            "15        Basic                Master           1/16/11         Employed   \n",
            "19     Extended               College           2/26/11         Employed   \n",
            "27      Premium              Bachelor           2/28/11         Employed   \n",
            "...         ...                   ...               ...              ...   \n",
            "10844  Extended  High School or Below            2/7/11         Employed   \n",
            "10852     Basic              Bachelor           1/27/11         Employed   \n",
            "10872  Extended  High School or Below            2/7/11         Employed   \n",
            "10887     Basic  High School or Below            2/3/11         Employed   \n",
            "10897     Basic                Master           1/26/11         Employed   \n",
            "\n",
            "      gender  ...  number_of_open_complaints number_of_policies  \\\n",
            "3          M  ...                        0.0                  2   \n",
            "8          M  ...                        0.0                  1   \n",
            "15         F  ...                        0.0                  1   \n",
            "19         F  ...                        1.0                  1   \n",
            "27         F  ...                        0.0                  1   \n",
            "...      ...  ...                        ...                ...   \n",
            "10844      F  ...                        0.0                  3   \n",
            "10852      M  ...                        0.0                  2   \n",
            "10872      F  ...                        0.0                  3   \n",
            "10887      F  ...                        0.0                  7   \n",
            "10897      M  ...                        0.0                  8   \n",
            "\n",
            "          policy_type        policy  renew_offer_type  sales_channel  \\\n",
            "3      Corporate Auto  Corporate L3            Offer2         Branch   \n",
            "8       Personal Auto   Personal L1            Offer2         Branch   \n",
            "15       Special Auto    Special L1            Offer2         Branch   \n",
            "19      Personal Auto   Personal L2            Offer2    Call Center   \n",
            "27      Personal Auto   Personal L3            Offer2          Agent   \n",
            "...               ...           ...               ...            ...   \n",
            "10844   Personal Auto   Personal L1            Offer2          Agent   \n",
            "10852   Personal Auto   Personal L2            Offer2    Call Center   \n",
            "10872   Personal Auto   Personal L3            Offer2          Agent   \n",
            "10887    Special Auto    Special L2            Offer1          Agent   \n",
            "10897   Personal Auto   Personal L1            Offer1          Agent   \n",
            "\n",
            "       total_claim_amount  vehicle_class vehicle_size vehicle_type  \n",
            "3              484.013411  Four-Door Car      Medsize            A  \n",
            "8              739.200000     Sports Car      Medsize          NaN  \n",
            "15             547.200000            SUV      Medsize          NaN  \n",
            "19              19.575683   Two-Door Car        Large            A  \n",
            "27              60.036683  Four-Door Car      Medsize          NaN  \n",
            "...                   ...            ...          ...          ...  \n",
            "10844          547.200000  Four-Door Car      Medsize          NaN  \n",
            "10852          791.878042            NaN          NaN            A  \n",
            "10872          547.200000  Four-Door Car      Medsize          NaN  \n",
            "10887          528.200860            SUV        Small            A  \n",
            "10897          158.077504     Sports Car      Medsize            A  \n",
            "\n",
            "[1399 rows x 26 columns]\n"
          ]
        }
      ],
      "source": [
        "\n",
        "new_df = df[(df['total_claim_amount'] < 1000) & (df['response'] == 'Yes')]\n",
        "\n",
        "# Display the filtered DataFrame\n",
        "print(\"\\nFiltered DataFrame:\")\n",
        "print(new_df)"
      ]
    },
    {
      "cell_type": "markdown",
      "id": "a30b027b",
      "metadata": {},
      "source": [
        "2. Task from original data set"
      ]
    },
    {
      "cell_type": "code",
      "execution_count": 72,
      "id": "c3a3390f",
      "metadata": {},
      "outputs": [
        {
          "name": "stdout",
          "output_type": "stream",
          "text": [
            "Average Monthly Premium and Customer Lifetime Value by Policy Type and Gender for 'Yes' Responses:\n",
            "      policy_type gender  average_monthly_premium  \\\n",
            "0  Corporate Auto      F                94.301775   \n",
            "1  Corporate Auto      M                92.188312   \n",
            "2   Personal Auto      F                98.998148   \n",
            "3   Personal Auto      M                91.085821   \n",
            "4    Special Auto      F                92.314286   \n",
            "5    Special Auto      M                86.343750   \n",
            "\n",
            "   average_customer_lifetime_value  \n",
            "0                      7712.628736  \n",
            "1                      7944.465414  \n",
            "2                      8339.791842  \n",
            "3                      7448.383281  \n",
            "4                      7691.584111  \n",
            "5                      8247.088702  \n"
          ]
        }
      ],
      "source": [
        "responded_yes = df[df['response'] == 'Yes']\n",
        "\n",
        "average_metrics = responded_yes.groupby(['policy_type', 'gender']).agg(\n",
        "    average_monthly_premium=('monthly_premium_auto', 'mean'),\n",
        "    average_customer_lifetime_value=('customer_lifetime_value', 'mean')\n",
        ").reset_index()\n",
        "\n",
        "# Display the results\n",
        "print(\"Average Monthly Premium and Customer Lifetime Value by Policy Type and Gender for 'Yes' Responses:\")\n",
        "print(average_metrics)"
      ]
    },
    {
      "cell_type": "code",
      "execution_count": 62,
      "id": "7e9bf6b9",
      "metadata": {},
      "outputs": [
        {
          "name": "stdout",
          "output_type": "stream",
          "text": [
            "Average Metrics by Policy Type and Gender for 'Yes' Responses:\n",
            "      policy_type gender  average_monthly_premium  \\\n",
            "0  Corporate Auto      F                89.042945   \n",
            "1  Corporate Auto      M                88.546667   \n",
            "2   Personal Auto      F                90.620079   \n",
            "3   Personal Auto      M                87.433852   \n",
            "4    Special Auto      F                86.705882   \n",
            "5    Special Auto      M                80.000000   \n",
            "\n",
            "   average_customer_lifetime_value  average_total_claim_amount  \n",
            "0                      7334.770760                  407.800039  \n",
            "1                      7920.399363                  388.247325  \n",
            "2                      7966.926671                  404.972992  \n",
            "3                      7481.817882                  427.868684  \n",
            "4                      7594.009218                  426.658992  \n",
            "5                      8348.232787                  390.329804  \n",
            "Profitability and Risk Analysis:\n",
            "      policy_type gender  profitability      risk\n",
            "0  Corporate Auto      F    6926.970721  0.055598\n",
            "1  Corporate Auto      M    7532.152038  0.049019\n",
            "2   Personal Auto      F    7561.953680  0.050832\n",
            "3   Personal Auto      M    7053.949198  0.057188\n",
            "4    Special Auto      F    7167.350226  0.056184\n",
            "5    Special Auto      M    7957.902984  0.046756\n"
          ]
        }
      ],
      "source": [
        "average_metrics = responded_yes.groupby(['policy_type', 'gender']).agg(\n",
        "    average_monthly_premium=('monthly_premium_auto', 'mean'),\n",
        "    average_customer_lifetime_value=('customer_lifetime_value', 'mean'),\n",
        "    average_total_claim_amount=('total_claim_amount', 'mean')\n",
        ").reset_index()\n",
        "\n",
        "# Display the results\n",
        "print(\"Average Metrics by Policy Type and Gender for 'Yes' Responses:\")\n",
        "print(average_metrics)\n",
        "\n",
        "# Profitability and Risk\n",
        "average_metrics['profitability'] = average_metrics['average_customer_lifetime_value'] - average_metrics['average_total_claim_amount']\n",
        "average_metrics['risk'] = average_metrics['average_total_claim_amount'] / average_metrics['average_customer_lifetime_value']\n",
        "\n",
        "print(\"Profitability and Risk Analysis:\")\n",
        "print(average_metrics[['policy_type', 'gender', 'profitability', 'risk']])"
      ]
    },
    {
      "cell_type": "code",
      "execution_count": 63,
      "id": "c84a1d20",
      "metadata": {},
      "outputs": [
        {
          "name": "stdout",
          "output_type": "stream",
          "text": [
            "\n",
            "Profitability and Risk Analysis (Risk in %):\n",
            "      policy_type gender  profitability      risk\n",
            "0  Corporate Auto      F    6926.970721  0.055598\n",
            "1  Corporate Auto      M    7532.152038  0.049019\n",
            "2   Personal Auto      F    7561.953680  0.050832\n",
            "3   Personal Auto      M    7053.949198  0.057188\n",
            "4    Special Auto      F    7167.350226  0.056184\n",
            "5    Special Auto      M    7957.902984  0.046756\n",
            "\n",
            "Segment with Lowest Risk:\n",
            "policy_type                        Special Auto\n",
            "gender                                        M\n",
            "average_monthly_premium                    80.0\n",
            "average_customer_lifetime_value     8348.232787\n",
            "average_total_claim_amount           390.329804\n",
            "profitability                       7957.902984\n",
            "risk                                   0.046756\n",
            "Name: 5, dtype: object\n"
          ]
        }
      ],
      "source": [
        "\n",
        "\n",
        "# Identify where the risk is lowest\n",
        "min_risk_row = average_metrics.loc[average_metrics['risk'].idxmin()]\n",
        "\n",
        "# Display Profitability and Risk Analysis\n",
        "print(\"\\nProfitability and Risk Analysis (Risk in %):\")\n",
        "print(average_metrics[['policy_type', 'gender', 'profitability', 'risk']])\n",
        "\n",
        "# Display the segment with the lowest risk\n",
        "print(\"\\nSegment with Lowest Risk:\")\n",
        "print(min_risk_row)"
      ]
    },
    {
      "cell_type": "markdown",
      "id": "38a8bb62",
      "metadata": {},
      "source": [
        "It seems that lowest risk is for Special cars where risk is only 4,675 %"
      ]
    },
    {
      "cell_type": "markdown",
      "id": "3931ea83",
      "metadata": {},
      "source": [
        "3. Task # Group by state and count the number of customers only for the states with 500 costumers\n"
      ]
    },
    {
      "cell_type": "code",
      "execution_count": null,
      "id": "eae9bfa3",
      "metadata": {},
      "outputs": [
        {
          "name": "stdout",
          "output_type": "stream",
          "text": [
            "States with more than 500 customers:\n",
            "Empty DataFrame\n",
            "Columns: [state, number_of_customers]\n",
            "Index: []\n"
          ]
        }
      ],
      "source": [
        "state_counts = df.groupby('state')['customer'].count().reset_index()\n",
        "\n",
        "state_counts.columns = ['state', 'number_of_customers']\n",
        "\n",
        "# include only states with more than 500 customers\n",
        "filtered_states = state_counts[state_counts['number_of_customers'] > 500]\n",
        "\n",
        "# Display results\n",
        "print(\"States with more than 500 customers:\")\n",
        "print(filtered_states)"
      ]
    },
    {
      "cell_type": "code",
      "execution_count": 68,
      "id": "dc6bad45",
      "metadata": {},
      "outputs": [
        {
          "name": "stdout",
          "output_type": "stream",
          "text": [
            "Customer Lifetime Value Statistics by Education Level and Gender:\n",
            "              education gender      max_clv      min_clv   median_clv\n",
            "0              Bachelor      F  73225.95652  1904.000852  5640.505303\n",
            "1              Bachelor      M  67907.27050  1898.007675  5548.031892\n",
            "2               College      F  61850.18803  1898.683686  5623.611187\n",
            "3               College      M  61134.68307  1918.119700  6005.847375\n",
            "4                Doctor      F  44856.11397  2395.570000  5332.462694\n",
            "5                Doctor      M  32677.34284  2267.604038  5577.669457\n",
            "6  High School or Below      F  55277.44589  2144.921535  6039.553187\n",
            "7  High School or Below      M  83325.38119  1940.981221  6286.731006\n",
            "8                Master      F  51016.06704  2417.777032  5729.855012\n",
            "9                Master      M  50568.25912  2272.307310  5579.099207\n"
          ]
        }
      ],
      "source": [
        "clv_stats = df.groupby(['education', 'gender']).agg(\n",
        "    max_clv=('customer_lifetime_value', 'max'),\n",
        "    min_clv=('customer_lifetime_value', 'min'),\n",
        "    median_clv=('customer_lifetime_value', 'median')\n",
        ").reset_index()\n",
        "\n",
        "# Display the results\n",
        "print(\"Customer Lifetime Value Statistics by Education Level and Gender:\")\n",
        "print(clv_stats)"
      ]
    },
    {
      "cell_type": "code",
      "execution_count": 70,
      "id": "6175fbaa",
      "metadata": {},
      "outputs": [
        {
          "name": "stderr",
          "output_type": "stream",
          "text": [
            "C:\\Users\\User\\AppData\\Local\\Temp\\ipykernel_22348\\3940951289.py:6: FutureWarning: \n",
            "\n",
            "The `ci` parameter is deprecated. Use `errorbar=None` for the same effect.\n",
            "\n",
            "  sns.barplot(data=melted_stats, x='Education', y='CLV', hue='Statistic', ci=None, palette='muted', dodge=True)\n"
          ]
        },
        {
          "data": {
            "image/png": "[encoded data removed]",
            "text/plain": [
              "<Figure size 1200x600 with 1 Axes>"
            ]
          },
          "metadata": {},
          "output_type": "display_data"
        }
      ],
      "source": [
        "import matplotlib.pyplot as plt\n",
        "import seaborn as sns\n",
        "\n",
        "# Use the existing clv_stats and melted_stats variables\n",
        "plt.figure(figsize=(12, 6))\n",
        "sns.barplot(data=melted_stats, x='Education', y='CLV', hue='Statistic', ci=None, palette='muted', dodge=True)\n",
        "plt.title('Customer Lifetime Value Statistics by Education and Gender')\n",
        "plt.xlabel('Education Level')\n",
        "plt.ylabel('Customer Lifetime Value ($)')\n",
        "plt.xticks(rotation=45)\n",
        "plt.legend(title='Statistic')\n",
        "plt.tight_layout()\n",
        "plt.show()"
      ]
    },
    {
      "cell_type": "markdown",
      "id": "34fad63c",
      "metadata": {},
      "source": [
        "4.Task"
      ]
    },
    {
      "cell_type": "code",
      "execution_count": 77,
      "id": "ac264172",
      "metadata": {},
      "outputs": [
        {
          "name": "stdout",
          "output_type": "stream",
          "text": [
            "\n",
            "Customer Lifetime Value Statistics by Education and Gender:\n",
            "              education gender      max_clv      min_clv   median_clv\n",
            "0              Bachelor      F  73225.95652  1904.000852  5640.505303\n",
            "1              Bachelor      M  67907.27050  1898.007675  5548.031892\n",
            "2               College      F  61850.18803  1898.683686  5623.611187\n",
            "3               College      M  61134.68307  1918.119700  6005.847375\n",
            "4                Doctor      F  44856.11397  2395.570000  5332.462694\n",
            "5                Doctor      M  32677.34284  2267.604038  5577.669457\n",
            "6  High School or Below      F  55277.44589  2144.921535  6039.553187\n",
            "7  High School or Below      M  83325.38119  1940.981221  6286.731006\n",
            "8                Master      F  51016.06704  2417.777032  5729.855012\n",
            "9                Master      M  50568.25912  2272.307310  5579.099207\n"
          ]
        }
      ],
      "source": [
        "clv_statistics = df.groupby(['education', 'gender']).agg(\n",
        "    max_clv=('customer_lifetime_value', 'max'),\n",
        "    min_clv=('customer_lifetime_value', 'min'),\n",
        "    median_clv=('customer_lifetime_value', 'median')\n",
        ").reset_index()\n",
        "\n",
        "# Display the results\n",
        "print(\"\\nCustomer Lifetime Value Statistics by Education and Gender:\")\n",
        "print(clv_statistics)"
      ]
    },
    {
      "cell_type": "code",
      "execution_count": 78,
      "id": "348808ff",
      "metadata": {},
      "outputs": [
        {
          "name": "stdout",
          "output_type": "stream",
          "text": [
            "\n",
            "Highest Maximum CLV Segment:\n",
            "education     High School or Below\n",
            "gender                           M\n",
            "max_clv                83325.38119\n",
            "min_clv                1940.981221\n",
            "median_clv             6286.731006\n",
            "Name: 7, dtype: object\n",
            "\n",
            "Lowest Minimum CLV Segment:\n",
            "education        Bachelor\n",
            "gender                  M\n",
            "max_clv        67907.2705\n",
            "min_clv       1898.007675\n",
            "median_clv    5548.031892\n",
            "Name: 1, dtype: object\n",
            "\n",
            "Most Common (Highest) Median CLV Segment:\n",
            "education     High School or Below\n",
            "gender                           M\n",
            "max_clv                83325.38119\n",
            "min_clv                1940.981221\n",
            "median_clv             6286.731006\n",
            "Name: 7, dtype: object\n"
          ]
        }
      ],
      "source": [
        "highest_max = clv_stats.loc[clv_stats['max_clv'].idxmax()]\n",
        "lowest_min = clv_stats.loc[clv_stats['min_clv'].idxmin()]\n",
        "most_median = clv_stats.loc[clv_stats['median_clv'].idxmax()]\n",
        "\n",
        "# Display the findings\n",
        "print(\"\\nHighest Maximum CLV Segment:\")\n",
        "print(highest_max)\n",
        "\n",
        "print(\"\\nLowest Minimum CLV Segment:\")\n",
        "print(lowest_min)\n",
        "\n",
        "print(\"\\nMost Common (Highest) Median CLV Segment:\")\n",
        "print(most_median)"
      ]
    },
    {
      "cell_type": "markdown",
      "id": "cecf050e",
      "metadata": {},
      "source": [
        "5. BONUS"
      ]
    },
    {
      "cell_type": "code",
      "execution_count": 85,
      "id": "0671ab4d",
      "metadata": {},
      "outputs": [
        {
          "data": {
            "text/plain": [
              "array(['2/18/11', '1/18/11', '2/10/11', '1/11/11', '1/17/11', '2/14/11',\n",
              "       '2/24/11', '1/19/11', '1/4/11', '1/2/11', '2/7/11', '1/31/11',\n",
              "       '1/26/11', '2/28/11', '1/16/11', '2/26/11', '2/23/11', '1/15/11',\n",
              "       '2/2/11', '2/15/11', '1/24/11', '2/21/11', '2/22/11', '1/7/11',\n",
              "       '1/28/11', '2/8/11', '2/12/11', '2/20/11', '1/5/11', '2/19/11',\n",
              "       '1/3/11', '2/3/11', '1/22/11', '1/23/11', '2/5/11', '2/13/11',\n",
              "       '1/25/11', '2/16/11', '2/1/11', '1/27/11', '1/12/11', '1/20/11',\n",
              "       '2/6/11', '2/11/11', '1/21/11', '1/29/11', '1/9/11', '2/9/11',\n",
              "       '2/27/11', '1/1/11', '2/17/11', '2/25/11', '1/13/11', '1/6/11',\n",
              "       '2/4/11', '1/14/11', '1/10/11', '1/8/11', '1/30/11'], dtype=object)"
            ]
          },
          "execution_count": 85,
          "metadata": {},
          "output_type": "execute_result"
        }
      ],
      "source": [
        "df['effective_to_date'].unique()"
      ]
    },
    {
      "cell_type": "code",
      "execution_count": 80,
      "id": "77fca5db",
      "metadata": {},
      "outputs": [
        {
          "name": "stdout",
          "output_type": "stream",
          "text": [
            "Number of Policies Sold by State and Month:\n",
            "month          1     2\n",
            "state                 \n",
            "Arizona     1008   929\n",
            "California  1918  1634\n",
            "Nevada       551   442\n",
            "Oregon      1565  1344\n",
            "Washington   463   425\n"
          ]
        },
        {
          "name": "stderr",
          "output_type": "stream",
          "text": [
            "C:\\Users\\User\\AppData\\Local\\Temp\\ipykernel_22348\\1812636673.py:2: UserWarning: Could not infer format, so each element will be parsed individually, falling back to `dateutil`. To ensure parsing is consistent and as-expected, please specify a format.\n",
            "  df['month'] = pd.to_datetime(df['effective_to_date']).dt.month\n"
          ]
        }
      ],
      "source": [
        "# Extract month from 'effective_to_date' and create a new column 'month'\n",
        "df['month'] = pd.to_datetime(df['effective_to_date']).dt.month\n",
        "\n",
        "pivot_table = df.pivot_table(index='state', columns='month', aggfunc='size', fill_value=0)\n",
        "\n",
        "# Display the pivot table\n",
        "print(\"Number of Policies Sold by State and Month:\")\n",
        "print(pivot_table)"
      ]
    },
    {
      "cell_type": "markdown",
      "id": "85e0aa26",
      "metadata": {},
      "source": [
        "The most clients are in Arizona, California and Oregon, Special Cars seem to have lowest risk, but also it occurs that with lower profitabilty risk is also higher. Most policies are sold in January in California. It's also interesting to se that the highest lifetime customer value is found in customers with high school education or bachelor where people with below education or on other end people with doctorats and masters seem to have lower customer lifetime value, it is possible that to that leads the facht that people with bachelor or high school education start to work earlier in life and work longer so therfore there is also higher customer lifetime value."
      ]
    }
  ],
  "metadata": {
    "colab": {
      "provenance": []
    },
    "kernelspec": {
      "display_name": "base",
      "language": "python",
      "name": "python3"
    },
    "language_info": {
      "codemirror_mode": {
        "name": "ipython",
        "version": 3
      },
      "file_extension": ".py",
      "mimetype": "text/x-python",
      "name": "python",
      "nbconvert_exporter": "python",
      "pygments_lexer": "ipython3",
      "version": "3.12.7"
    }
  },
  "nbformat": 4,
  "nbformat_minor": 5
}
