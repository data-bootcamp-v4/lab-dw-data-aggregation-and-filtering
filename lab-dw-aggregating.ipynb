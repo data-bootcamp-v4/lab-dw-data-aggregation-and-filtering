{
  "cells": [
    {
      "cell_type": "markdown",
      "id": "31969215-2a90-4d8b-ac36-646a7ae13744",
      "metadata": {
        "id": "31969215-2a90-4d8b-ac36-646a7ae13744"
      },
      "source": [
        "# Lab | Data Aggregation and Filtering"
      ]
    },
    {
      "cell_type": "markdown",
      "id": "a8f08a52-bec0-439b-99cc-11d3809d8b5d",
      "metadata": {
        "id": "a8f08a52-bec0-439b-99cc-11d3809d8b5d"
      },
      "source": [
        "In this challenge, we will continue to work with customer data from an insurance company. We will use the dataset called marketing_customer_analysis.csv, which can be found at the following link:\n",
        "\n",
        "https://raw.githubusercontent.com/data-bootcamp-v4/data/main/marketing_customer_analysis.csv\n",
        "\n",
        "This dataset contains information such as customer demographics, policy details, vehicle information, and the customer's response to the last marketing campaign. Our goal is to explore and analyze this data by first performing data cleaning, formatting, and structuring."
      ]
    },
    {
      "cell_type": "markdown",
      "id": "9c98ddc5-b041-4c94-ada1-4dfee5c98e50",
      "metadata": {
        "id": "9c98ddc5-b041-4c94-ada1-4dfee5c98e50"
      },
      "source": [
        "1. Create a new DataFrame that only includes customers who have a total_claim_amount greater than $1,000 and have a response of \"Yes\" to the last marketing campaign."
      ]
    },
    {
      "cell_type": "markdown",
      "id": "b9be383e-5165-436e-80c8-57d4c757c8c3",
      "metadata": {
        "id": "b9be383e-5165-436e-80c8-57d4c757c8c3"
      },
      "source": [
        "2. Using the original Dataframe, analyze the average total_claim_amount by each policy type and gender for customers who have responded \"Yes\" to the last marketing campaign. Write your conclusions."
      ]
    },
    {
      "cell_type": "markdown",
      "id": "7050f4ac-53c5-4193-a3c0-8699b87196f0",
      "metadata": {
        "id": "7050f4ac-53c5-4193-a3c0-8699b87196f0"
      },
      "source": [
        "3. Analyze the total number of customers who have policies in each state, and then filter the results to only include states where there are more than 500 customers."
      ]
    },
    {
      "cell_type": "markdown",
      "id": "b60a4443-a1a7-4bbf-b78e-9ccdf9895e0d",
      "metadata": {
        "id": "b60a4443-a1a7-4bbf-b78e-9ccdf9895e0d"
      },
      "source": [
        "4. Find the maximum, minimum, and median customer lifetime value by education level and gender. Write your conclusions."
      ]
    },
    {
      "cell_type": "markdown",
      "id": "b42999f9-311f-481e-ae63-40a5577072c5",
      "metadata": {
        "id": "b42999f9-311f-481e-ae63-40a5577072c5"
      },
      "source": [
        "## Bonus"
      ]
    },
    {
      "cell_type": "markdown",
      "id": "81ff02c5-6584-4f21-a358-b918697c6432",
      "metadata": {
        "id": "81ff02c5-6584-4f21-a358-b918697c6432"
      },
      "source": [
        "5. The marketing team wants to analyze the number of policies sold by state and month. Present the data in a table where the months are arranged as columns and the states are arranged as rows."
      ]
    },
    {
      "cell_type": "markdown",
      "id": "b6aec097-c633-4017-a125-e77a97259cda",
      "metadata": {
        "id": "b6aec097-c633-4017-a125-e77a97259cda"
      },
      "source": [
        "6.  Display a new DataFrame that contains the number of policies sold by month, by state, for the top 3 states with the highest number of policies sold.\n",
        "\n",
        "*Hint:*\n",
        "- *To accomplish this, you will first need to group the data by state and month, then count the number of policies sold for each group. Afterwards, you will need to sort the data by the count of policies sold in descending order.*\n",
        "- *Next, you will select the top 3 states with the highest number of policies sold.*\n",
        "- *Finally, you will create a new DataFrame that contains the number of policies sold by month for each of the top 3 states.*"
      ]
    },
    {
      "cell_type": "markdown",
      "id": "ba975b8a-a2cf-4fbf-9f59-ebc381767009",
      "metadata": {
        "id": "ba975b8a-a2cf-4fbf-9f59-ebc381767009"
      },
      "source": [
        "7. The marketing team wants to analyze the effect of different marketing channels on the customer response rate.\n",
        "\n",
        "Hint: You can use melt to unpivot the data and create a table that shows the customer response rate (those who responded \"Yes\") by marketing channel."
      ]
    },
    {
      "cell_type": "markdown",
      "id": "e4378d94-48fb-4850-a802-b1bc8f427b2d",
      "metadata": {
        "id": "e4378d94-48fb-4850-a802-b1bc8f427b2d"
      },
      "source": [
        "External Resources for Data Filtering: https://towardsdatascience.com/filtering-data-frames-in-pandas-b570b1f834b9"
      ]
    },
    {
      "cell_type": "code",
      "execution_count": 1,
      "id": "449513f4-0459-46a0-a18d-9398d974c9ad",
      "metadata": {
        "id": "449513f4-0459-46a0-a18d-9398d974c9ad"
      },
      "outputs": [
        {
          "name": "stdout",
          "output_type": "stream",
          "text": [
            "Filtered DataFrame:\n",
            "     Unnamed: 0 Customer       State  Customer Lifetime Value Response  \\\n",
            "189         189  OK31456  California             11009.130490      Yes   \n",
            "236         236  YJ16163      Oregon             11009.130490      Yes   \n",
            "419         419  GW43195      Oregon             25807.063000      Yes   \n",
            "442         442  IP94270     Arizona             13736.132500      Yes   \n",
            "587         587  FJ28407  California              5619.689084      Yes   \n",
            "\n",
            "     Coverage             Education Effective To Date EmploymentStatus Gender  \\\n",
            "189   Premium              Bachelor           1/24/11         Employed      F   \n",
            "236   Premium              Bachelor           1/24/11         Employed      F   \n",
            "419  Extended               College           2/13/11         Employed      F   \n",
            "442   Premium                Master           2/13/11         Disabled      F   \n",
            "587   Premium  High School or Below           1/26/11       Unemployed      M   \n",
            "\n",
            "     ...  Number of Open Complaints Number of Policies     Policy Type  \\\n",
            "189  ...                        0.0                  1  Corporate Auto   \n",
            "236  ...                        0.0                  1    Special Auto   \n",
            "419  ...                        1.0                  2   Personal Auto   \n",
            "442  ...                        0.0                  8   Personal Auto   \n",
            "587  ...                        0.0                  1   Personal Auto   \n",
            "\n",
            "           Policy  Renew Offer Type  Sales Channel  Total Claim Amount  \\\n",
            "189  Corporate L3            Offer2          Agent         1358.400000   \n",
            "236    Special L3            Offer2          Agent         1358.400000   \n",
            "419   Personal L2            Offer1         Branch         1027.200000   \n",
            "442   Personal L2            Offer1            Web         1261.319869   \n",
            "587   Personal L1            Offer2            Web         1027.000029   \n",
            "\n",
            "     Vehicle Class Vehicle Size Vehicle Type  \n",
            "189     Luxury Car      Medsize          NaN  \n",
            "236     Luxury Car      Medsize            A  \n",
            "419     Luxury Car        Small            A  \n",
            "442            SUV      Medsize            A  \n",
            "587            SUV      Medsize            A  \n",
            "\n",
            "[5 rows x 26 columns]\n",
            "Average Total Claim Amount by Policy Type and Gender:\n",
            "      Policy Type Gender  Total Claim Amount\n",
            "0  Corporate Auto      F          433.738499\n",
            "1  Corporate Auto      M          408.582459\n",
            "2   Personal Auto      F          452.965929\n",
            "3   Personal Auto      M          457.010178\n",
            "4    Special Auto      F          453.280164\n",
            "5    Special Auto      M          429.527942\n",
            "Index(['Unnamed: 0', 'Customer', 'State', 'Customer Lifetime Value',\n",
            "       'Response', 'Coverage', 'Education', 'Effective To Date',\n",
            "       'EmploymentStatus', 'Gender', 'Income', 'Location Code',\n",
            "       'Marital Status', 'Monthly Premium Auto', 'Months Since Last Claim',\n",
            "       'Months Since Policy Inception', 'Number of Open Complaints',\n",
            "       'Number of Policies', 'Policy Type', 'Policy', 'Renew Offer Type',\n",
            "       'Sales Channel', 'Total Claim Amount', 'Vehicle Class', 'Vehicle Size',\n",
            "       'Vehicle Type'],\n",
            "      dtype='object')\n",
            "States with more than 500 customers:\n",
            "        State  Customer\n",
            "0     Arizona      1937\n",
            "1  California      3552\n",
            "2      Nevada       993\n",
            "3      Oregon      2909\n",
            "4  Washington       888\n",
            "Customer Lifetime Value by Education Level and Gender:\n",
            "              Education Gender          max          min       median\n",
            "0              Bachelor      F  73225.95652  1904.000852  5640.505303\n",
            "1              Bachelor      M  67907.27050  1898.007675  5548.031892\n",
            "2               College      F  61850.18803  1898.683686  5623.611187\n",
            "3               College      M  61134.68307  1918.119700  6005.847375\n",
            "4                Doctor      F  44856.11397  2395.570000  5332.462694\n",
            "5                Doctor      M  32677.34284  2267.604038  5577.669457\n",
            "6  High School or Below      F  55277.44589  2144.921535  6039.553187\n",
            "7  High School or Below      M  83325.38119  1940.981221  6286.731006\n",
            "8                Master      F  51016.06704  2417.777032  5729.855012\n",
            "9                Master      M  50568.25912  2272.307310  5579.099207\n",
            "Policies by State and Month:\n",
            "Month          1     2\n",
            "State                 \n",
            "Arizona     1008   929\n",
            "California  1918  1634\n",
            "Nevada       551   442\n",
            "Oregon      1565  1344\n",
            "Washington   463   425\n",
            "Top 3 States by Policies Sold:\n",
            "Month          1     2\n",
            "State                 \n",
            "California  1918  1634\n",
            "Oregon      1565  1344\n",
            "Arizona     1008   929\n",
            "Response Rate by Sales Channel:\n",
            "  Sales Channel  Yes_Count  Total_Count  Response Rate\n",
            "0         Agent        742         3890       0.190746\n",
            "1        Branch        326         2865       0.113787\n",
            "2   Call Center        221         2013       0.109786\n",
            "3           Web        177         1511       0.117141\n"
          ]
        },
        {
          "name": "stderr",
          "output_type": "stream",
          "text": [
            "C:\\Users\\djjoa\\AppData\\Local\\Temp\\ipykernel_4516\\1859225048.py:34: UserWarning: Could not infer format, so each element will be parsed individually, falling back to `dateutil`. To ensure parsing is consistent and as-expected, please specify a format.\n",
            "  df['Effective To Date'] = pd.to_datetime(df['Effective To Date'])\n"
          ]
        }
      ],
      "source": [
        "import pandas as pd\n",
        "\n",
        "# Leer el dataset\n",
        "url = \"https://raw.githubusercontent.com/data-bootcamp-v4/data/main/marketing_customer_analysis.csv\"\n",
        "df = pd.read_csv(url)\n",
        "\n",
        "# 1. Crear un DataFrame nuevo con filtros específicos\n",
        "filtered_df = df[(df['Total Claim Amount'] > 1000) & (df['Response'] == 'Yes')]\n",
        "print(\"Filtered DataFrame:\")\n",
        "print(filtered_df.head())\n",
        "\n",
        "# 2. Analizar el promedio de total_claim_amount por tipo de póliza y género\n",
        "response_yes_df = df[df['Response'] == 'Yes']\n",
        "avg_claim_amount = response_yes_df.groupby(['Policy Type', 'Gender'])['Total Claim Amount'].mean().reset_index()\n",
        "print(\"Average Total Claim Amount by Policy Type and Gender:\")\n",
        "print(avg_claim_amount)\n",
        "\n",
        "# Inspeccionar las columnas del DataFrame para verificar los nombres\n",
        "print(df.columns)\n",
        "\n",
        "# 3. Analizar el número total de clientes por estado y filtrar estados con más de 500 clientes\n",
        "state_customer_count = df.groupby('State')['Customer'].count().reset_index()\n",
        "filtered_states = state_customer_count[state_customer_count['Customer'] > 500]\n",
        "print(\"States with more than 500 customers:\")\n",
        "print(filtered_states)\n",
        "\n",
        "# 4. Encontrar el valor máximo, mínimo y mediano del valor de vida del cliente por nivel educativo y género\n",
        "clv_agg = df.groupby(['Education', 'Gender'])['Customer Lifetime Value'].agg(['max', 'min', 'median']).reset_index()\n",
        "print(\"Customer Lifetime Value by Education Level and Gender:\")\n",
        "print(clv_agg)\n",
        "\n",
        "# 5. Bonus: Análisis del número de pólizas vendidas por estado y mes\n",
        "# Extraer el mes de Effective To Date si no hay una columna Month\n",
        "df['Effective To Date'] = pd.to_datetime(df['Effective To Date'])\n",
        "df['Month'] = df['Effective To Date'].dt.month\n",
        "\n",
        "# a) Crear una tabla donde los meses son columnas y los estados son filas\n",
        "policies_by_state_month = df.pivot_table(index='State', columns='Month', values='Policy', aggfunc='count', fill_value=0)\n",
        "print(\"Policies by State and Month:\")\n",
        "print(policies_by_state_month)\n",
        "\n",
        "# b) Filtrar los 3 estados con mayor número de pólizas vendidas y crear un nuevo DataFrame\n",
        "top_states = policies_by_state_month.sum(axis=1).sort_values(ascending=False).head(3).index\n",
        "top_states_df = policies_by_state_month.loc[top_states]\n",
        "print(\"Top 3 States by Policies Sold:\")\n",
        "print(top_states_df)\n",
        "\n",
        "# 6. Bonus: Análisis de la tasa de respuesta por canal de marketing\n",
        "response_rate_df = df[df['Response'] == 'Yes']\n",
        "\n",
        "# Contar las respuestas \"Yes\" por canal\n",
        "responses_by_channel = response_rate_df.groupby('Sales Channel')['Response'].count().reset_index(name='Yes_Count')\n",
        "\n",
        "# Contar el total de respuestas por canal\n",
        "total_by_channel = df.groupby('Sales Channel')['Response'].count().reset_index(name='Total_Count')\n",
        "\n",
        "# Merge de ambos DataFrames\n",
        "merged_df = responses_by_channel.merge(total_by_channel, on='Sales Channel')\n",
        "\n",
        "# Calcular la tasa de respuesta\n",
        "merged_df['Response Rate'] = merged_df['Yes_Count'] / merged_df['Total_Count']\n",
        "print(\"Response Rate by Sales Channel:\")\n",
        "print(merged_df)"
      ]
    }
  ],
  "metadata": {
    "colab": {
      "provenance": []
    },
    "kernelspec": {
      "display_name": "Python 3 (ipykernel)",
      "language": "python",
      "name": "python3"
    },
    "language_info": {
      "codemirror_mode": {
        "name": "ipython",
        "version": 3
      },
      "file_extension": ".py",
      "mimetype": "text/x-python",
      "name": "python",
      "nbconvert_exporter": "python",
      "pygments_lexer": "ipython3",
      "version": "3.12.3"
    }
  },
  "nbformat": 4,
  "nbformat_minor": 5
}
