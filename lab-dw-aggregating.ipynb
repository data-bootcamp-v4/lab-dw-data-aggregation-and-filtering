{
  "cells": [
    {
      "cell_type": "markdown",
      "id": "31969215-2a90-4d8b-ac36-646a7ae13744",
      "metadata": {
        "id": "31969215-2a90-4d8b-ac36-646a7ae13744"
      },
      "source": [
        "# Lab | Data Aggregation and Filtering"
      ]
    },
    {
      "cell_type": "markdown",
      "id": "a8f08a52-bec0-439b-99cc-11d3809d8b5d",
      "metadata": {
        "id": "a8f08a52-bec0-439b-99cc-11d3809d8b5d"
      },
      "source": [
        "In this challenge, we will continue to work with customer data from an insurance company. We will use the dataset called marketing_customer_analysis.csv, which can be found at the following link:\n",
        "\n",
        "https://raw.githubusercontent.com/data-bootcamp-v4/data/main/marketing_customer_analysis.csv\n",
        "\n",
        "This dataset contains information such as customer demographics, policy details, vehicle information, and the customer's response to the last marketing campaign. Our goal is to explore and analyze this data by first performing data cleaning, formatting, and structuring."
      ]
    },
    {
      "cell_type": "markdown",
      "id": "9c98ddc5-b041-4c94-ada1-4dfee5c98e50",
      "metadata": {
        "id": "9c98ddc5-b041-4c94-ada1-4dfee5c98e50"
      },
      "source": [
        "1. Create a new DataFrame that only includes customers who have a total_claim_amount greater than $1,000 and have a response of \"Yes\" to the last marketing campaign."
      ]
    },
    {
      "cell_type": "markdown",
      "id": "b9be383e-5165-436e-80c8-57d4c757c8c3",
      "metadata": {
        "id": "b9be383e-5165-436e-80c8-57d4c757c8c3"
      },
      "source": [
        "2. Using the original Dataframe, analyze the average total_claim_amount by each policy type and gender for customers who have responded \"Yes\" to the last marketing campaign. Write your conclusions."
      ]
    },
    {
      "cell_type": "markdown",
      "id": "7050f4ac-53c5-4193-a3c0-8699b87196f0",
      "metadata": {
        "id": "7050f4ac-53c5-4193-a3c0-8699b87196f0"
      },
      "source": [
        "3. Analyze the total number of customers who have policies in each state, and then filter the results to only include states where there are more than 500 customers."
      ]
    },
    {
      "cell_type": "markdown",
      "id": "b60a4443-a1a7-4bbf-b78e-9ccdf9895e0d",
      "metadata": {
        "id": "b60a4443-a1a7-4bbf-b78e-9ccdf9895e0d"
      },
      "source": [
        "4. Find the maximum, minimum, and median customer lifetime value by education level and gender. Write your conclusions."
      ]
    },
    {
      "cell_type": "code",
      "execution_count": 1,
      "id": "55676ffa",
      "metadata": {},
      "outputs": [],
      "source": [
        "import pandas as pd\n",
        "import numpy as np"
      ]
    },
    {
      "cell_type": "code",
      "execution_count": 4,
      "id": "7cd076fe",
      "metadata": {},
      "outputs": [],
      "source": [
        "#import \n",
        "\n",
        "url = 'https://raw.githubusercontent.com/data-bootcamp-v4/data/main/marketing_customer_analysis.csv'\n",
        "\n",
        "df = pd.read_csv(url, index_col=0)\n",
        "\n"
      ]
    },
    {
      "cell_type": "code",
      "execution_count": 5,
      "id": "915521e7",
      "metadata": {},
      "outputs": [
        {
          "name": "stdout",
          "output_type": "stream",
          "text": [
            "<class 'pandas.core.frame.DataFrame'>\n",
            "Index: 10910 entries, 0 to 10909\n",
            "Data columns (total 25 columns):\n",
            " #   Column                         Non-Null Count  Dtype  \n",
            "---  ------                         --------------  -----  \n",
            " 0   Customer                       10910 non-null  object \n",
            " 1   State                          10279 non-null  object \n",
            " 2   Customer Lifetime Value        10910 non-null  float64\n",
            " 3   Response                       10279 non-null  object \n",
            " 4   Coverage                       10910 non-null  object \n",
            " 5   Education                      10910 non-null  object \n",
            " 6   Effective To Date              10910 non-null  object \n",
            " 7   EmploymentStatus               10910 non-null  object \n",
            " 8   Gender                         10910 non-null  object \n",
            " 9   Income                         10910 non-null  int64  \n",
            " 10  Location Code                  10910 non-null  object \n",
            " 11  Marital Status                 10910 non-null  object \n",
            " 12  Monthly Premium Auto           10910 non-null  int64  \n",
            " 13  Months Since Last Claim        10277 non-null  float64\n",
            " 14  Months Since Policy Inception  10910 non-null  int64  \n",
            " 15  Number of Open Complaints      10277 non-null  float64\n",
            " 16  Number of Policies             10910 non-null  int64  \n",
            " 17  Policy Type                    10910 non-null  object \n",
            " 18  Policy                         10910 non-null  object \n",
            " 19  Renew Offer Type               10910 non-null  object \n",
            " 20  Sales Channel                  10910 non-null  object \n",
            " 21  Total Claim Amount             10910 non-null  float64\n",
            " 22  Vehicle Class                  10288 non-null  object \n",
            " 23  Vehicle Size                   10288 non-null  object \n",
            " 24  Vehicle Type                   5428 non-null   object \n",
            "dtypes: float64(4), int64(4), object(17)\n",
            "memory usage: 2.2+ MB\n"
          ]
        }
      ],
      "source": [
        "df.info()"
      ]
    },
    {
      "cell_type": "code",
      "execution_count": null,
      "id": "435c9753",
      "metadata": {},
      "outputs": [
        {
          "data": {
            "text/plain": [
              "7"
            ]
          },
          "execution_count": 9,
          "metadata": {},
          "output_type": "execute_result"
        }
      ],
      "source": [
        "# number of columns have NAs\n",
        "\n",
        "df.isna().any().sum()"
      ]
    },
    {
      "cell_type": "code",
      "execution_count": 42,
      "id": "7acf1e8f",
      "metadata": {},
      "outputs": [
        {
          "data": {
            "text/plain": [
              "customer                            0\n",
              "state                               0\n",
              "customer_lifetime_value             0\n",
              "response                            0\n",
              "coverage                            0\n",
              "education                           0\n",
              "effective_to_date                   0\n",
              "employmentstatus                    0\n",
              "gender                              0\n",
              "income                              0\n",
              "location_code                       0\n",
              "marital_status                      0\n",
              "monthly_premium_auto                0\n",
              "months_since_last_claim           591\n",
              "months_since_policy_inception       0\n",
              "number_of_open_complaints         591\n",
              "number_of_policies                  0\n",
              "policy_type                         0\n",
              "policy                              0\n",
              "renew_offer_type                    0\n",
              "sales_channel                       0\n",
              "total_claim_amount                  0\n",
              "vehicle_class                     591\n",
              "vehicle_size                      591\n",
              "vehicle_type                     5164\n",
              "dtype: int64"
            ]
          },
          "execution_count": 42,
          "metadata": {},
          "output_type": "execute_result"
        }
      ],
      "source": [
        "df_clean.isna().sum()"
      ]
    },
    {
      "cell_type": "code",
      "execution_count": 41,
      "id": "34f54689",
      "metadata": {},
      "outputs": [
        {
          "data": {
            "text/plain": [
              "1    4591\n",
              "0    4543\n",
              "2     556\n",
              "3     552\n",
              "5      21\n",
              "4      16\n",
              "Name: count, dtype: int64"
            ]
          },
          "execution_count": 41,
          "metadata": {},
          "output_type": "execute_result"
        }
      ],
      "source": [
        "df_clean.isna().sum(axis=1).value_counts()"
      ]
    },
    {
      "cell_type": "code",
      "execution_count": 15,
      "id": "3ff70e6d",
      "metadata": {},
      "outputs": [],
      "source": [
        "# Example integrated cleaning function\n",
        "\n",
        "def clean_format_main(df):\n",
        "    df.columns = df.columns.str.lower().str.replace(' ', '_')\n",
        "    # ...add other cleaning steps\n",
        "    return df\n",
        "\n",
        "df = clean_format_main(df)"
      ]
    },
    {
      "cell_type": "code",
      "execution_count": 52,
      "id": "fe64a2a2",
      "metadata": {},
      "outputs": [
        {
          "data": {
            "text/plain": [
              "0         292.800000\n",
              "1         744.924331\n",
              "2         480.000000\n",
              "3         484.013411\n",
              "4         707.925645\n",
              "            ...     \n",
              "10904     897.600000\n",
              "10905    1214.400000\n",
              "10906     273.018929\n",
              "10907     381.306996\n",
              "10908     618.288849\n",
              "Name: total_claim_amount, Length: 10279, dtype: float64"
            ]
          },
          "execution_count": 52,
          "metadata": {},
          "output_type": "execute_result"
        }
      ],
      "source": [
        "df_clean['total_claim_amount']\n"
      ]
    },
    {
      "cell_type": "code",
      "execution_count": 58,
      "id": "a7f936f6",
      "metadata": {},
      "outputs": [
        {
          "data": {
            "text/plain": [
              "0"
            ]
          },
          "execution_count": 58,
          "metadata": {},
          "output_type": "execute_result"
        }
      ],
      "source": [
        "df_clean['total_claim_amount'].isna().sum()"
      ]
    },
    {
      "cell_type": "code",
      "execution_count": 74,
      "id": "d07b1ec4",
      "metadata": {},
      "outputs": [
        {
          "data": {
            "text/html": [
              "<div>\n",
              "<style scoped>\n",
              "    .dataframe tbody tr th:only-of-type {\n",
              "        vertical-align: middle;\n",
              "    }\n",
              "\n",
              "    .dataframe tbody tr th {\n",
              "        vertical-align: top;\n",
              "    }\n",
              "\n",
              "    .dataframe thead th {\n",
              "        text-align: right;\n",
              "    }\n",
              "</style>\n",
              "<table border=\"1\" class=\"dataframe\">\n",
              "  <thead>\n",
              "    <tr style=\"text-align: right;\">\n",
              "      <th></th>\n",
              "      <th>customer</th>\n",
              "      <th>state</th>\n",
              "      <th>customer_lifetime_value</th>\n",
              "      <th>response</th>\n",
              "      <th>coverage</th>\n",
              "      <th>education</th>\n",
              "      <th>effective_to_date</th>\n",
              "      <th>employmentstatus</th>\n",
              "      <th>gender</th>\n",
              "      <th>income</th>\n",
              "      <th>...</th>\n",
              "      <th>number_of_open_complaints</th>\n",
              "      <th>number_of_policies</th>\n",
              "      <th>policy_type</th>\n",
              "      <th>policy</th>\n",
              "      <th>renew_offer_type</th>\n",
              "      <th>sales_channel</th>\n",
              "      <th>total_claim_amount</th>\n",
              "      <th>vehicle_class</th>\n",
              "      <th>vehicle_size</th>\n",
              "      <th>vehicle_type</th>\n",
              "    </tr>\n",
              "  </thead>\n",
              "  <tbody>\n",
              "    <tr>\n",
              "      <th>189</th>\n",
              "      <td>OK31456</td>\n",
              "      <td>California</td>\n",
              "      <td>11009.130490</td>\n",
              "      <td>Yes</td>\n",
              "      <td>Premium</td>\n",
              "      <td>Bachelor</td>\n",
              "      <td>1/24/11</td>\n",
              "      <td>Employed</td>\n",
              "      <td>F</td>\n",
              "      <td>51643</td>\n",
              "      <td>...</td>\n",
              "      <td>0.0</td>\n",
              "      <td>1</td>\n",
              "      <td>Corporate Auto</td>\n",
              "      <td>Corporate L3</td>\n",
              "      <td>Offer2</td>\n",
              "      <td>Agent</td>\n",
              "      <td>1358.400000</td>\n",
              "      <td>Luxury Car</td>\n",
              "      <td>Medsize</td>\n",
              "      <td>NaN</td>\n",
              "    </tr>\n",
              "    <tr>\n",
              "      <th>236</th>\n",
              "      <td>YJ16163</td>\n",
              "      <td>Oregon</td>\n",
              "      <td>11009.130490</td>\n",
              "      <td>Yes</td>\n",
              "      <td>Premium</td>\n",
              "      <td>Bachelor</td>\n",
              "      <td>1/24/11</td>\n",
              "      <td>Employed</td>\n",
              "      <td>F</td>\n",
              "      <td>51643</td>\n",
              "      <td>...</td>\n",
              "      <td>0.0</td>\n",
              "      <td>1</td>\n",
              "      <td>Special Auto</td>\n",
              "      <td>Special L3</td>\n",
              "      <td>Offer2</td>\n",
              "      <td>Agent</td>\n",
              "      <td>1358.400000</td>\n",
              "      <td>Luxury Car</td>\n",
              "      <td>Medsize</td>\n",
              "      <td>A</td>\n",
              "    </tr>\n",
              "    <tr>\n",
              "      <th>419</th>\n",
              "      <td>GW43195</td>\n",
              "      <td>Oregon</td>\n",
              "      <td>25807.063000</td>\n",
              "      <td>Yes</td>\n",
              "      <td>Extended</td>\n",
              "      <td>College</td>\n",
              "      <td>2/13/11</td>\n",
              "      <td>Employed</td>\n",
              "      <td>F</td>\n",
              "      <td>71210</td>\n",
              "      <td>...</td>\n",
              "      <td>1.0</td>\n",
              "      <td>2</td>\n",
              "      <td>Personal Auto</td>\n",
              "      <td>Personal L2</td>\n",
              "      <td>Offer1</td>\n",
              "      <td>Branch</td>\n",
              "      <td>1027.200000</td>\n",
              "      <td>Luxury Car</td>\n",
              "      <td>Small</td>\n",
              "      <td>A</td>\n",
              "    </tr>\n",
              "    <tr>\n",
              "      <th>442</th>\n",
              "      <td>IP94270</td>\n",
              "      <td>Arizona</td>\n",
              "      <td>13736.132500</td>\n",
              "      <td>Yes</td>\n",
              "      <td>Premium</td>\n",
              "      <td>Master</td>\n",
              "      <td>2/13/11</td>\n",
              "      <td>Disabled</td>\n",
              "      <td>F</td>\n",
              "      <td>16181</td>\n",
              "      <td>...</td>\n",
              "      <td>0.0</td>\n",
              "      <td>8</td>\n",
              "      <td>Personal Auto</td>\n",
              "      <td>Personal L2</td>\n",
              "      <td>Offer1</td>\n",
              "      <td>Web</td>\n",
              "      <td>1261.319869</td>\n",
              "      <td>SUV</td>\n",
              "      <td>Medsize</td>\n",
              "      <td>A</td>\n",
              "    </tr>\n",
              "    <tr>\n",
              "      <th>587</th>\n",
              "      <td>FJ28407</td>\n",
              "      <td>California</td>\n",
              "      <td>5619.689084</td>\n",
              "      <td>Yes</td>\n",
              "      <td>Premium</td>\n",
              "      <td>High School or Below</td>\n",
              "      <td>1/26/11</td>\n",
              "      <td>Unemployed</td>\n",
              "      <td>M</td>\n",
              "      <td>0</td>\n",
              "      <td>...</td>\n",
              "      <td>0.0</td>\n",
              "      <td>1</td>\n",
              "      <td>Personal Auto</td>\n",
              "      <td>Personal L1</td>\n",
              "      <td>Offer2</td>\n",
              "      <td>Web</td>\n",
              "      <td>1027.000029</td>\n",
              "      <td>SUV</td>\n",
              "      <td>Medsize</td>\n",
              "      <td>A</td>\n",
              "    </tr>\n",
              "    <tr>\n",
              "      <th>...</th>\n",
              "      <td>...</td>\n",
              "      <td>...</td>\n",
              "      <td>...</td>\n",
              "      <td>...</td>\n",
              "      <td>...</td>\n",
              "      <td>...</td>\n",
              "      <td>...</td>\n",
              "      <td>...</td>\n",
              "      <td>...</td>\n",
              "      <td>...</td>\n",
              "      <td>...</td>\n",
              "      <td>...</td>\n",
              "      <td>...</td>\n",
              "      <td>...</td>\n",
              "      <td>...</td>\n",
              "      <td>...</td>\n",
              "      <td>...</td>\n",
              "      <td>...</td>\n",
              "      <td>...</td>\n",
              "      <td>...</td>\n",
              "      <td>...</td>\n",
              "    </tr>\n",
              "    <tr>\n",
              "      <th>10351</th>\n",
              "      <td>FN44127</td>\n",
              "      <td>Oregon</td>\n",
              "      <td>3508.569533</td>\n",
              "      <td>Yes</td>\n",
              "      <td>Extended</td>\n",
              "      <td>College</td>\n",
              "      <td>1/5/11</td>\n",
              "      <td>Medical Leave</td>\n",
              "      <td>M</td>\n",
              "      <td>20978</td>\n",
              "      <td>...</td>\n",
              "      <td>1.0</td>\n",
              "      <td>1</td>\n",
              "      <td>Personal Auto</td>\n",
              "      <td>Personal L2</td>\n",
              "      <td>Offer2</td>\n",
              "      <td>Branch</td>\n",
              "      <td>1176.278800</td>\n",
              "      <td>Four-Door Car</td>\n",
              "      <td>Small</td>\n",
              "      <td>NaN</td>\n",
              "    </tr>\n",
              "    <tr>\n",
              "      <th>10373</th>\n",
              "      <td>XZ64172</td>\n",
              "      <td>Oregon</td>\n",
              "      <td>10963.957230</td>\n",
              "      <td>Yes</td>\n",
              "      <td>Premium</td>\n",
              "      <td>High School or Below</td>\n",
              "      <td>2/8/11</td>\n",
              "      <td>Employed</td>\n",
              "      <td>M</td>\n",
              "      <td>55687</td>\n",
              "      <td>...</td>\n",
              "      <td>0.0</td>\n",
              "      <td>1</td>\n",
              "      <td>Corporate Auto</td>\n",
              "      <td>Corporate L2</td>\n",
              "      <td>Offer1</td>\n",
              "      <td>Agent</td>\n",
              "      <td>1324.800000</td>\n",
              "      <td>Luxury SUV</td>\n",
              "      <td>Medsize</td>\n",
              "      <td>NaN</td>\n",
              "    </tr>\n",
              "    <tr>\n",
              "      <th>10487</th>\n",
              "      <td>IX60941</td>\n",
              "      <td>Oregon</td>\n",
              "      <td>3508.569533</td>\n",
              "      <td>Yes</td>\n",
              "      <td>Extended</td>\n",
              "      <td>College</td>\n",
              "      <td>1/5/11</td>\n",
              "      <td>Medical Leave</td>\n",
              "      <td>M</td>\n",
              "      <td>20978</td>\n",
              "      <td>...</td>\n",
              "      <td>1.0</td>\n",
              "      <td>1</td>\n",
              "      <td>Personal Auto</td>\n",
              "      <td>Personal L3</td>\n",
              "      <td>Offer2</td>\n",
              "      <td>Branch</td>\n",
              "      <td>1176.278800</td>\n",
              "      <td>Four-Door Car</td>\n",
              "      <td>Small</td>\n",
              "      <td>NaN</td>\n",
              "    </tr>\n",
              "    <tr>\n",
              "      <th>10565</th>\n",
              "      <td>QO62792</td>\n",
              "      <td>Oregon</td>\n",
              "      <td>7840.165778</td>\n",
              "      <td>Yes</td>\n",
              "      <td>Extended</td>\n",
              "      <td>College</td>\n",
              "      <td>1/14/11</td>\n",
              "      <td>Employed</td>\n",
              "      <td>M</td>\n",
              "      <td>58414</td>\n",
              "      <td>...</td>\n",
              "      <td>2.0</td>\n",
              "      <td>1</td>\n",
              "      <td>Personal Auto</td>\n",
              "      <td>Personal L3</td>\n",
              "      <td>Offer2</td>\n",
              "      <td>Agent</td>\n",
              "      <td>1008.000000</td>\n",
              "      <td>NaN</td>\n",
              "      <td>NaN</td>\n",
              "      <td>NaN</td>\n",
              "    </tr>\n",
              "    <tr>\n",
              "      <th>10708</th>\n",
              "      <td>CK39096</td>\n",
              "      <td>Oregon</td>\n",
              "      <td>5619.689084</td>\n",
              "      <td>Yes</td>\n",
              "      <td>Premium</td>\n",
              "      <td>High School or Below</td>\n",
              "      <td>1/26/11</td>\n",
              "      <td>Unemployed</td>\n",
              "      <td>M</td>\n",
              "      <td>0</td>\n",
              "      <td>...</td>\n",
              "      <td>0.0</td>\n",
              "      <td>1</td>\n",
              "      <td>Personal Auto</td>\n",
              "      <td>Personal L3</td>\n",
              "      <td>Offer2</td>\n",
              "      <td>Web</td>\n",
              "      <td>1027.000029</td>\n",
              "      <td>SUV</td>\n",
              "      <td>Medsize</td>\n",
              "      <td>A</td>\n",
              "    </tr>\n",
              "  </tbody>\n",
              "</table>\n",
              "<p>67 rows × 25 columns</p>\n",
              "</div>"
            ],
            "text/plain": [
              "      customer       state  customer_lifetime_value response  coverage  \\\n",
              "189    OK31456  California             11009.130490      Yes   Premium   \n",
              "236    YJ16163      Oregon             11009.130490      Yes   Premium   \n",
              "419    GW43195      Oregon             25807.063000      Yes  Extended   \n",
              "442    IP94270     Arizona             13736.132500      Yes   Premium   \n",
              "587    FJ28407  California              5619.689084      Yes   Premium   \n",
              "...        ...         ...                      ...      ...       ...   \n",
              "10351  FN44127      Oregon              3508.569533      Yes  Extended   \n",
              "10373  XZ64172      Oregon             10963.957230      Yes   Premium   \n",
              "10487  IX60941      Oregon              3508.569533      Yes  Extended   \n",
              "10565  QO62792      Oregon              7840.165778      Yes  Extended   \n",
              "10708  CK39096      Oregon              5619.689084      Yes   Premium   \n",
              "\n",
              "                  education effective_to_date employmentstatus gender  income  \\\n",
              "189                Bachelor           1/24/11         Employed      F   51643   \n",
              "236                Bachelor           1/24/11         Employed      F   51643   \n",
              "419                 College           2/13/11         Employed      F   71210   \n",
              "442                  Master           2/13/11         Disabled      F   16181   \n",
              "587    High School or Below           1/26/11       Unemployed      M       0   \n",
              "...                     ...               ...              ...    ...     ...   \n",
              "10351               College            1/5/11    Medical Leave      M   20978   \n",
              "10373  High School or Below            2/8/11         Employed      M   55687   \n",
              "10487               College            1/5/11    Medical Leave      M   20978   \n",
              "10565               College           1/14/11         Employed      M   58414   \n",
              "10708  High School or Below           1/26/11       Unemployed      M       0   \n",
              "\n",
              "       ... number_of_open_complaints number_of_policies     policy_type  \\\n",
              "189    ...                       0.0                  1  Corporate Auto   \n",
              "236    ...                       0.0                  1    Special Auto   \n",
              "419    ...                       1.0                  2   Personal Auto   \n",
              "442    ...                       0.0                  8   Personal Auto   \n",
              "587    ...                       0.0                  1   Personal Auto   \n",
              "...    ...                       ...                ...             ...   \n",
              "10351  ...                       1.0                  1   Personal Auto   \n",
              "10373  ...                       0.0                  1  Corporate Auto   \n",
              "10487  ...                       1.0                  1   Personal Auto   \n",
              "10565  ...                       2.0                  1   Personal Auto   \n",
              "10708  ...                       0.0                  1   Personal Auto   \n",
              "\n",
              "             policy  renew_offer_type  sales_channel  total_claim_amount  \\\n",
              "189    Corporate L3            Offer2          Agent         1358.400000   \n",
              "236      Special L3            Offer2          Agent         1358.400000   \n",
              "419     Personal L2            Offer1         Branch         1027.200000   \n",
              "442     Personal L2            Offer1            Web         1261.319869   \n",
              "587     Personal L1            Offer2            Web         1027.000029   \n",
              "...             ...               ...            ...                 ...   \n",
              "10351   Personal L2            Offer2         Branch         1176.278800   \n",
              "10373  Corporate L2            Offer1          Agent         1324.800000   \n",
              "10487   Personal L3            Offer2         Branch         1176.278800   \n",
              "10565   Personal L3            Offer2          Agent         1008.000000   \n",
              "10708   Personal L3            Offer2            Web         1027.000029   \n",
              "\n",
              "       vehicle_class vehicle_size vehicle_type  \n",
              "189       Luxury Car      Medsize          NaN  \n",
              "236       Luxury Car      Medsize            A  \n",
              "419       Luxury Car        Small            A  \n",
              "442              SUV      Medsize            A  \n",
              "587              SUV      Medsize            A  \n",
              "...              ...          ...          ...  \n",
              "10351  Four-Door Car        Small          NaN  \n",
              "10373     Luxury SUV      Medsize          NaN  \n",
              "10487  Four-Door Car        Small          NaN  \n",
              "10565            NaN          NaN          NaN  \n",
              "10708            SUV      Medsize            A  \n",
              "\n",
              "[67 rows x 25 columns]"
            ]
          },
          "execution_count": 74,
          "metadata": {},
          "output_type": "execute_result"
        }
      ],
      "source": [
        "# drop NAs for response because it is included in the analysis\n",
        "\n",
        "#1. Create a new DataFrame that only includes customers who have a total_claim_amount greater than $1,000 \n",
        "# and have a response of \"Yes\" to the last marketing campaign.\n",
        "\n",
        "df_clean = df.dropna(subset = 'response')\n",
        "\n",
        "condition_response = df_clean['response'] == 'Yes'\n",
        "condition_claim = df_clean['total_claim_amount'] > 1000\n",
        "condition_dup = df_clean.duplicated(subset='customer')\n",
        "\n",
        "df_response = df_clean[condition_claim & condition_response]\n",
        "df_response"
      ]
    },
    {
      "cell_type": "code",
      "execution_count": 82,
      "id": "cec17014",
      "metadata": {},
      "outputs": [
        {
          "data": {
            "text/html": [
              "<div>\n",
              "<style scoped>\n",
              "    .dataframe tbody tr th:only-of-type {\n",
              "        vertical-align: middle;\n",
              "    }\n",
              "\n",
              "    .dataframe tbody tr th {\n",
              "        vertical-align: top;\n",
              "    }\n",
              "\n",
              "    .dataframe thead th {\n",
              "        text-align: right;\n",
              "    }\n",
              "</style>\n",
              "<table border=\"1\" class=\"dataframe\">\n",
              "  <thead>\n",
              "    <tr style=\"text-align: right;\">\n",
              "      <th></th>\n",
              "      <th></th>\n",
              "      <th>customer_lifetime_value</th>\n",
              "    </tr>\n",
              "    <tr>\n",
              "      <th>gender</th>\n",
              "      <th>policy_type</th>\n",
              "      <th></th>\n",
              "    </tr>\n",
              "  </thead>\n",
              "  <tbody>\n",
              "    <tr>\n",
              "      <th rowspan=\"3\" valign=\"top\">F</th>\n",
              "      <th>Corporate Auto</th>\n",
              "      <td>7712.628736</td>\n",
              "    </tr>\n",
              "    <tr>\n",
              "      <th>Personal Auto</th>\n",
              "      <td>8339.791842</td>\n",
              "    </tr>\n",
              "    <tr>\n",
              "      <th>Special Auto</th>\n",
              "      <td>7691.584111</td>\n",
              "    </tr>\n",
              "    <tr>\n",
              "      <th rowspan=\"3\" valign=\"top\">M</th>\n",
              "      <th>Corporate Auto</th>\n",
              "      <td>7944.465414</td>\n",
              "    </tr>\n",
              "    <tr>\n",
              "      <th>Personal Auto</th>\n",
              "      <td>7448.383281</td>\n",
              "    </tr>\n",
              "    <tr>\n",
              "      <th>Special Auto</th>\n",
              "      <td>8247.088702</td>\n",
              "    </tr>\n",
              "  </tbody>\n",
              "</table>\n",
              "</div>"
            ],
            "text/plain": [
              "                       customer_lifetime_value\n",
              "gender policy_type                            \n",
              "F      Corporate Auto              7712.628736\n",
              "       Personal Auto               8339.791842\n",
              "       Special Auto                7691.584111\n",
              "M      Corporate Auto              7944.465414\n",
              "       Personal Auto               7448.383281\n",
              "       Special Auto                8247.088702"
            ]
          },
          "execution_count": 82,
          "metadata": {},
          "output_type": "execute_result"
        }
      ],
      "source": [
        "#2. Using the original Dataframe, analyze the average total_claim_amount by each policy type and \n",
        "# gender for customers who have responded \"Yes\" to the last marketing campaign. Write your conclusions.\n",
        "\n",
        "df_clean_filtered = df_clean[condition_response]\n",
        "df_grouped = df_clean_filtered.groupby(['gender', 'policy_type']).agg({'customer_lifetime_value':'mean'})\n",
        "df_grouped"
      ]
    },
    {
      "cell_type": "markdown",
      "id": "b42999f9-311f-481e-ae63-40a5577072c5",
      "metadata": {
        "id": "b42999f9-311f-481e-ae63-40a5577072c5"
      },
      "source": [
        "## Bonus"
      ]
    },
    {
      "cell_type": "markdown",
      "id": "81ff02c5-6584-4f21-a358-b918697c6432",
      "metadata": {
        "id": "81ff02c5-6584-4f21-a358-b918697c6432"
      },
      "source": [
        "5. The marketing team wants to analyze the number of policies sold by state and month. Present the data in a table where the months are arranged as columns and the states are arranged as rows."
      ]
    },
    {
      "cell_type": "markdown",
      "id": "b6aec097-c633-4017-a125-e77a97259cda",
      "metadata": {
        "id": "b6aec097-c633-4017-a125-e77a97259cda"
      },
      "source": [
        "6.  Display a new DataFrame that contains the number of policies sold by month, by state, for the top 3 states with the highest number of policies sold.\n",
        "\n",
        "*Hint:*\n",
        "- *To accomplish this, you will first need to group the data by state and month, then count the number of policies sold for each group. Afterwards, you will need to sort the data by the count of policies sold in descending order.*\n",
        "- *Next, you will select the top 3 states with the highest number of policies sold.*\n",
        "- *Finally, you will create a new DataFrame that contains the number of policies sold by month for each of the top 3 states.*"
      ]
    },
    {
      "cell_type": "markdown",
      "id": "ba975b8a-a2cf-4fbf-9f59-ebc381767009",
      "metadata": {
        "id": "ba975b8a-a2cf-4fbf-9f59-ebc381767009"
      },
      "source": [
        "7. The marketing team wants to analyze the effect of different marketing channels on the customer response rate.\n",
        "\n",
        "Hint: You can use melt to unpivot the data and create a table that shows the customer response rate (those who responded \"Yes\") by marketing channel."
      ]
    },
    {
      "cell_type": "markdown",
      "id": "e4378d94-48fb-4850-a802-b1bc8f427b2d",
      "metadata": {
        "id": "e4378d94-48fb-4850-a802-b1bc8f427b2d"
      },
      "source": [
        "External Resources for Data Filtering: https://towardsdatascience.com/filtering-data-frames-in-pandas-b570b1f834b9"
      ]
    },
    {
      "cell_type": "code",
      "execution_count": null,
      "id": "449513f4-0459-46a0-a18d-9398d974c9ad",
      "metadata": {
        "id": "449513f4-0459-46a0-a18d-9398d974c9ad"
      },
      "outputs": [],
      "source": [
        "# your code goes here"
      ]
    }
  ],
  "metadata": {
    "colab": {
      "provenance": []
    },
    "kernelspec": {
      "display_name": "base",
      "language": "python",
      "name": "python3"
    },
    "language_info": {
      "codemirror_mode": {
        "name": "ipython",
        "version": 3
      },
      "file_extension": ".py",
      "mimetype": "text/x-python",
      "name": "python",
      "nbconvert_exporter": "python",
      "pygments_lexer": "ipython3",
      "version": "3.12.7"
    }
  },
  "nbformat": 4,
  "nbformat_minor": 5
}
