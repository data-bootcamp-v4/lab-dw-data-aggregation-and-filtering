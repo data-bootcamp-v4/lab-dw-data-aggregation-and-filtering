{
 "cells": [
  {
   "cell_type": "markdown",
   "id": "31969215-2a90-4d8b-ac36-646a7ae13744",
   "metadata": {
    "id": "31969215-2a90-4d8b-ac36-646a7ae13744"
   },
   "source": [
    "# Lab | Data Aggregation and Filtering"
   ]
  },
  {
   "cell_type": "markdown",
   "id": "a8f08a52-bec0-439b-99cc-11d3809d8b5d",
   "metadata": {
    "id": "a8f08a52-bec0-439b-99cc-11d3809d8b5d"
   },
   "source": [
    "In this challenge, we will continue to work with customer data from an insurance company. We will use the dataset called marketing_customer_analysis.csv, which can be found at the following link:\n",
    "\n",
    "https://raw.githubusercontent.com/data-bootcamp-v4/data/main/marketing_customer_analysis.csv\n",
    "\n",
    "This dataset contains information such as customer demographics, policy details, vehicle information, and the customer's response to the last marketing campaign. Our goal is to explore and analyze this data by first performing data cleaning, formatting, and structuring."
   ]
  },
  {
   "cell_type": "markdown",
   "id": "9c98ddc5-b041-4c94-ada1-4dfee5c98e50",
   "metadata": {
    "id": "9c98ddc5-b041-4c94-ada1-4dfee5c98e50"
   },
   "source": [
    "1. Create a new DataFrame that only includes customers who have a total_claim_amount greater than $1,000 and have a response of \"Yes\" to the last marketing campaign."
   ]
  },
  {
   "cell_type": "code",
   "execution_count": 3,
   "id": "8bd50237-1342-4a13-95f7-8fef979a9907",
   "metadata": {},
   "outputs": [
    {
     "data": {
      "text/html": [
       "<div>\n",
       "<style scoped>\n",
       "    .dataframe tbody tr th:only-of-type {\n",
       "        vertical-align: middle;\n",
       "    }\n",
       "\n",
       "    .dataframe tbody tr th {\n",
       "        vertical-align: top;\n",
       "    }\n",
       "\n",
       "    .dataframe thead th {\n",
       "        text-align: right;\n",
       "    }\n",
       "</style>\n",
       "<table border=\"1\" class=\"dataframe\">\n",
       "  <thead>\n",
       "    <tr style=\"text-align: right;\">\n",
       "      <th></th>\n",
       "      <th>Unnamed: 0</th>\n",
       "      <th>Customer</th>\n",
       "      <th>State</th>\n",
       "      <th>Customer Lifetime Value</th>\n",
       "      <th>Response</th>\n",
       "      <th>Coverage</th>\n",
       "      <th>Education</th>\n",
       "      <th>Effective To Date</th>\n",
       "      <th>EmploymentStatus</th>\n",
       "      <th>Gender</th>\n",
       "      <th>...</th>\n",
       "      <th>Number of Open Complaints</th>\n",
       "      <th>Number of Policies</th>\n",
       "      <th>Policy Type</th>\n",
       "      <th>Policy</th>\n",
       "      <th>Renew Offer Type</th>\n",
       "      <th>Sales Channel</th>\n",
       "      <th>Total Claim Amount</th>\n",
       "      <th>Vehicle Class</th>\n",
       "      <th>Vehicle Size</th>\n",
       "      <th>Vehicle Type</th>\n",
       "    </tr>\n",
       "  </thead>\n",
       "  <tbody>\n",
       "    <tr>\n",
       "      <th>0</th>\n",
       "      <td>0</td>\n",
       "      <td>DK49336</td>\n",
       "      <td>Arizona</td>\n",
       "      <td>4809.216960</td>\n",
       "      <td>No</td>\n",
       "      <td>Basic</td>\n",
       "      <td>College</td>\n",
       "      <td>2/18/11</td>\n",
       "      <td>Employed</td>\n",
       "      <td>M</td>\n",
       "      <td>...</td>\n",
       "      <td>0.0</td>\n",
       "      <td>9</td>\n",
       "      <td>Corporate Auto</td>\n",
       "      <td>Corporate L3</td>\n",
       "      <td>Offer3</td>\n",
       "      <td>Agent</td>\n",
       "      <td>292.800000</td>\n",
       "      <td>Four-Door Car</td>\n",
       "      <td>Medsize</td>\n",
       "      <td>NaN</td>\n",
       "    </tr>\n",
       "    <tr>\n",
       "      <th>1</th>\n",
       "      <td>1</td>\n",
       "      <td>KX64629</td>\n",
       "      <td>California</td>\n",
       "      <td>2228.525238</td>\n",
       "      <td>No</td>\n",
       "      <td>Basic</td>\n",
       "      <td>College</td>\n",
       "      <td>1/18/11</td>\n",
       "      <td>Unemployed</td>\n",
       "      <td>F</td>\n",
       "      <td>...</td>\n",
       "      <td>0.0</td>\n",
       "      <td>1</td>\n",
       "      <td>Personal Auto</td>\n",
       "      <td>Personal L3</td>\n",
       "      <td>Offer4</td>\n",
       "      <td>Call Center</td>\n",
       "      <td>744.924331</td>\n",
       "      <td>Four-Door Car</td>\n",
       "      <td>Medsize</td>\n",
       "      <td>NaN</td>\n",
       "    </tr>\n",
       "    <tr>\n",
       "      <th>2</th>\n",
       "      <td>2</td>\n",
       "      <td>LZ68649</td>\n",
       "      <td>Washington</td>\n",
       "      <td>14947.917300</td>\n",
       "      <td>No</td>\n",
       "      <td>Basic</td>\n",
       "      <td>Bachelor</td>\n",
       "      <td>2/10/11</td>\n",
       "      <td>Employed</td>\n",
       "      <td>M</td>\n",
       "      <td>...</td>\n",
       "      <td>0.0</td>\n",
       "      <td>2</td>\n",
       "      <td>Personal Auto</td>\n",
       "      <td>Personal L3</td>\n",
       "      <td>Offer3</td>\n",
       "      <td>Call Center</td>\n",
       "      <td>480.000000</td>\n",
       "      <td>SUV</td>\n",
       "      <td>Medsize</td>\n",
       "      <td>A</td>\n",
       "    </tr>\n",
       "    <tr>\n",
       "      <th>3</th>\n",
       "      <td>3</td>\n",
       "      <td>XL78013</td>\n",
       "      <td>Oregon</td>\n",
       "      <td>22332.439460</td>\n",
       "      <td>Yes</td>\n",
       "      <td>Extended</td>\n",
       "      <td>College</td>\n",
       "      <td>1/11/11</td>\n",
       "      <td>Employed</td>\n",
       "      <td>M</td>\n",
       "      <td>...</td>\n",
       "      <td>0.0</td>\n",
       "      <td>2</td>\n",
       "      <td>Corporate Auto</td>\n",
       "      <td>Corporate L3</td>\n",
       "      <td>Offer2</td>\n",
       "      <td>Branch</td>\n",
       "      <td>484.013411</td>\n",
       "      <td>Four-Door Car</td>\n",
       "      <td>Medsize</td>\n",
       "      <td>A</td>\n",
       "    </tr>\n",
       "    <tr>\n",
       "      <th>4</th>\n",
       "      <td>4</td>\n",
       "      <td>QA50777</td>\n",
       "      <td>Oregon</td>\n",
       "      <td>9025.067525</td>\n",
       "      <td>No</td>\n",
       "      <td>Premium</td>\n",
       "      <td>Bachelor</td>\n",
       "      <td>1/17/11</td>\n",
       "      <td>Medical Leave</td>\n",
       "      <td>F</td>\n",
       "      <td>...</td>\n",
       "      <td>NaN</td>\n",
       "      <td>7</td>\n",
       "      <td>Personal Auto</td>\n",
       "      <td>Personal L2</td>\n",
       "      <td>Offer1</td>\n",
       "      <td>Branch</td>\n",
       "      <td>707.925645</td>\n",
       "      <td>Four-Door Car</td>\n",
       "      <td>Medsize</td>\n",
       "      <td>NaN</td>\n",
       "    </tr>\n",
       "  </tbody>\n",
       "</table>\n",
       "<p>5 rows × 26 columns</p>\n",
       "</div>"
      ],
      "text/plain": [
       "   Unnamed: 0 Customer       State  Customer Lifetime Value Response  \\\n",
       "0           0  DK49336     Arizona              4809.216960       No   \n",
       "1           1  KX64629  California              2228.525238       No   \n",
       "2           2  LZ68649  Washington             14947.917300       No   \n",
       "3           3  XL78013      Oregon             22332.439460      Yes   \n",
       "4           4  QA50777      Oregon              9025.067525       No   \n",
       "\n",
       "   Coverage Education Effective To Date EmploymentStatus Gender  ...  \\\n",
       "0     Basic   College           2/18/11         Employed      M  ...   \n",
       "1     Basic   College           1/18/11       Unemployed      F  ...   \n",
       "2     Basic  Bachelor           2/10/11         Employed      M  ...   \n",
       "3  Extended   College           1/11/11         Employed      M  ...   \n",
       "4   Premium  Bachelor           1/17/11    Medical Leave      F  ...   \n",
       "\n",
       "   Number of Open Complaints Number of Policies     Policy Type        Policy  \\\n",
       "0                        0.0                  9  Corporate Auto  Corporate L3   \n",
       "1                        0.0                  1   Personal Auto   Personal L3   \n",
       "2                        0.0                  2   Personal Auto   Personal L3   \n",
       "3                        0.0                  2  Corporate Auto  Corporate L3   \n",
       "4                        NaN                  7   Personal Auto   Personal L2   \n",
       "\n",
       "   Renew Offer Type  Sales Channel  Total Claim Amount  Vehicle Class  \\\n",
       "0            Offer3          Agent          292.800000  Four-Door Car   \n",
       "1            Offer4    Call Center          744.924331  Four-Door Car   \n",
       "2            Offer3    Call Center          480.000000            SUV   \n",
       "3            Offer2         Branch          484.013411  Four-Door Car   \n",
       "4            Offer1         Branch          707.925645  Four-Door Car   \n",
       "\n",
       "  Vehicle Size Vehicle Type  \n",
       "0      Medsize          NaN  \n",
       "1      Medsize          NaN  \n",
       "2      Medsize            A  \n",
       "3      Medsize            A  \n",
       "4      Medsize          NaN  \n",
       "\n",
       "[5 rows x 26 columns]"
      ]
     },
     "execution_count": 3,
     "metadata": {},
     "output_type": "execute_result"
    }
   ],
   "source": [
    "import numpy as np\n",
    "import pandas as pd\n",
    "\n",
    "url = 'https://raw.githubusercontent.com/data-bootcamp-v4/data/main/marketing_customer_analysis.csv'\n",
    "df = pd.read_csv(url)\n",
    "df.head()"
   ]
  },
  {
   "cell_type": "code",
   "execution_count": 9,
   "id": "53d03925-7273-431d-81f9-b91711bf5a09",
   "metadata": {},
   "outputs": [
    {
     "name": "stdout",
     "output_type": "stream",
     "text": [
      "Index(['unnamed: 0', 'customer', 'state', 'customer lifetime value',\n",
      "       'response', 'coverage', 'education', 'effective to date',\n",
      "       'employmentstatus', 'gender', 'income', 'location code',\n",
      "       'marital status', 'monthly premium auto', 'months since last claim',\n",
      "       'months since policy inception', 'number of open complaints',\n",
      "       'number of policies', 'policy type', 'policy', 'renew offer type',\n",
      "       'sales channel', 'total claim amount', 'vehicle class', 'vehicle size',\n",
      "       'vehicle type'],\n",
      "      dtype='object')\n"
     ]
    }
   ],
   "source": [
    "df.columns = df.columns.str.lower()\n",
    "print(df.columns)"
   ]
  },
  {
   "cell_type": "code",
   "execution_count": 11,
   "id": "7850e614-82e0-44b1-b58b-cbb5da54af0d",
   "metadata": {},
   "outputs": [
    {
     "name": "stdout",
     "output_type": "stream",
     "text": [
      "Index(['unnamed:_0', 'customer', 'state', 'customer_lifetime_value',\n",
      "       'response', 'coverage', 'education', 'effective_to_date',\n",
      "       'employmentstatus', 'gender', 'income', 'location_code',\n",
      "       'marital_status', 'monthly_premium_auto', 'months_since_last_claim',\n",
      "       'months_since_policy_inception', 'number_of_open_complaints',\n",
      "       'number_of_policies', 'policy_type', 'policy', 'renew_offer_type',\n",
      "       'sales_channel', 'total_claim_amount', 'vehicle_class', 'vehicle_size',\n",
      "       'vehicle_type'],\n",
      "      dtype='object')\n"
     ]
    }
   ],
   "source": [
    "df.columns = df.columns.str.replace(' ', '_')\n",
    "print(df.columns)"
   ]
  },
  {
   "cell_type": "code",
   "execution_count": null,
   "id": "5bc3a2b7-0ee8-491d-9f29-26cc35f6b54d",
   "metadata": {},
   "outputs": [],
   "source": []
  },
  {
   "cell_type": "code",
   "execution_count": 13,
   "id": "80f91b5f-29ac-4bb2-9218-a1bda22395e0",
   "metadata": {},
   "outputs": [
    {
     "name": "stdout",
     "output_type": "stream",
     "text": [
      "       unnamed:_0 customer       state  customer_lifetime_value response  \\\n",
      "189           189  OK31456  California             11009.130490      Yes   \n",
      "236           236  YJ16163      Oregon             11009.130490      Yes   \n",
      "419           419  GW43195      Oregon             25807.063000      Yes   \n",
      "442           442  IP94270     Arizona             13736.132500      Yes   \n",
      "587           587  FJ28407  California              5619.689084      Yes   \n",
      "...           ...      ...         ...                      ...      ...   \n",
      "10351       10351  FN44127      Oregon              3508.569533      Yes   \n",
      "10373       10373  XZ64172      Oregon             10963.957230      Yes   \n",
      "10487       10487  IX60941      Oregon              3508.569533      Yes   \n",
      "10565       10565  QO62792      Oregon              7840.165778      Yes   \n",
      "10708       10708  CK39096      Oregon              5619.689084      Yes   \n",
      "\n",
      "       coverage             education effective_to_date employmentstatus  \\\n",
      "189     Premium              Bachelor           1/24/11         Employed   \n",
      "236     Premium              Bachelor           1/24/11         Employed   \n",
      "419    Extended               College           2/13/11         Employed   \n",
      "442     Premium                Master           2/13/11         Disabled   \n",
      "587     Premium  High School or Below           1/26/11       Unemployed   \n",
      "...         ...                   ...               ...              ...   \n",
      "10351  Extended               College            1/5/11    Medical Leave   \n",
      "10373   Premium  High School or Below            2/8/11         Employed   \n",
      "10487  Extended               College            1/5/11    Medical Leave   \n",
      "10565  Extended               College           1/14/11         Employed   \n",
      "10708   Premium  High School or Below           1/26/11       Unemployed   \n",
      "\n",
      "      gender  ...  number_of_policies     policy_type        policy  \\\n",
      "189        F  ...                   1  Corporate Auto  Corporate L3   \n",
      "236        F  ...                   1    Special Auto    Special L3   \n",
      "419        F  ...                   2   Personal Auto   Personal L2   \n",
      "442        F  ...                   8   Personal Auto   Personal L2   \n",
      "587        M  ...                   1   Personal Auto   Personal L1   \n",
      "...      ...  ...                 ...             ...           ...   \n",
      "10351      M  ...                   1   Personal Auto   Personal L2   \n",
      "10373      M  ...                   1  Corporate Auto  Corporate L2   \n",
      "10487      M  ...                   1   Personal Auto   Personal L3   \n",
      "10565      M  ...                   1   Personal Auto   Personal L3   \n",
      "10708      M  ...                   1   Personal Auto   Personal L3   \n",
      "\n",
      "       renew_offer_type  sales_channel  total_claim_amount  vehicle_class  \\\n",
      "189              Offer2          Agent         1358.400000     Luxury Car   \n",
      "236              Offer2          Agent         1358.400000     Luxury Car   \n",
      "419              Offer1         Branch         1027.200000     Luxury Car   \n",
      "442              Offer1            Web         1261.319869            SUV   \n",
      "587              Offer2            Web         1027.000029            SUV   \n",
      "...                 ...            ...                 ...            ...   \n",
      "10351            Offer2         Branch         1176.278800  Four-Door Car   \n",
      "10373            Offer1          Agent         1324.800000     Luxury SUV   \n",
      "10487            Offer2         Branch         1176.278800  Four-Door Car   \n",
      "10565            Offer2          Agent         1008.000000            NaN   \n",
      "10708            Offer2            Web         1027.000029            SUV   \n",
      "\n",
      "       vehicle_size vehicle_type total_revenue  \n",
      "189         Medsize          NaN   9650.730490  \n",
      "236         Medsize            A   9650.730490  \n",
      "419           Small            A  24779.863000  \n",
      "442         Medsize            A  12474.812631  \n",
      "587         Medsize            A   4592.689055  \n",
      "...             ...          ...           ...  \n",
      "10351         Small          NaN   2332.290733  \n",
      "10373       Medsize          NaN   9639.157230  \n",
      "10487         Small          NaN   2332.290733  \n",
      "10565           NaN          NaN   6832.165778  \n",
      "10708       Medsize            A   4592.689055  \n",
      "\n",
      "[67 rows x 27 columns]\n"
     ]
    }
   ],
   "source": [
    "#1.Create a new DataFrame that only includes customers who have a total_claim_amount greater than $1,000 and have a response of \"Yes\" to the last marketing campaign. df[\"total_revenue\"] = df[\"customer_lifetime_value\"] - df[\"total_claim_amount\"]\n",
    "\n",
    "df[\"total_revenue\"] = df[\"customer_lifetime_value\"] - df[\"total_claim_amount\"]\n",
    "\n",
    "# Filter DataFrame based on conditions\n",
    "filtered_df = df[(df[\"total_claim_amount\"] > 1000) & (df[\"response\"] == \"Yes\")]\n",
    "\n",
    "# Display the new filtered DataFrame\n",
    "print(filtered_df)"
   ]
  },
  {
   "cell_type": "markdown",
   "id": "b9be383e-5165-436e-80c8-57d4c757c8c3",
   "metadata": {
    "id": "b9be383e-5165-436e-80c8-57d4c757c8c3"
   },
   "source": [
    "2. Using the original Dataframe, analyze the average total_claim_amount by each policy type and gender for customers who have responded \"Yes\" to the last marketing campaign. Write your conclusions."
   ]
  },
  {
   "cell_type": "code",
   "execution_count": 15,
   "id": "f15c25eb-e358-4b17-8e0d-e61834c97f85",
   "metadata": {},
   "outputs": [
    {
     "name": "stdout",
     "output_type": "stream",
     "text": [
      "      policy_type gender  total_claim_amount\n",
      "0  Corporate Auto      F          433.738499\n",
      "1  Corporate Auto      M          408.582459\n",
      "2   Personal Auto      F          452.965929\n",
      "3   Personal Auto      M          457.010178\n",
      "4    Special Auto      F          453.280164\n",
      "5    Special Auto      M          429.527942\n"
     ]
    }
   ],
   "source": [
    "# Filter DataFrame for customers who responded \"Yes\"\n",
    "filtered_df = df[df[\"response\"] == \"Yes\"]\n",
    "\n",
    "# Calculate the average total_claim_amount by policy type and gender\n",
    "result = filtered_df.groupby([\"policy_type\", \"gender\"])[\"total_claim_amount\"].mean().reset_index()\n",
    "\n",
    "# Display the result\n",
    "print(result)"
   ]
  },
  {
   "cell_type": "code",
   "execution_count": null,
   "id": "4efbe1b7-20c1-4c29-9346-0fd01663ed9e",
   "metadata": {},
   "outputs": [],
   "source": [
    "#The value of Female customers complaints are higher than complaints from Male customers for the three policy types. \n",
    "#Investigate the reason why women are less satisfied or why they claim a bit more than male.\n",
    "\n",
    "#In addition, Personal Auto are the one with the highest claim amount. \n",
    "#Pay attention to the Personal Auto contract : make the clauses clearer, investigate the reason why this contract generates more claims."
   ]
  },
  {
   "cell_type": "markdown",
   "id": "7050f4ac-53c5-4193-a3c0-8699b87196f0",
   "metadata": {
    "id": "7050f4ac-53c5-4193-a3c0-8699b87196f0"
   },
   "source": [
    "3. Analyze the total number of customers who have policies in each state, and then filter the results to only include states where there are more than 500 customers."
   ]
  },
  {
   "cell_type": "code",
   "execution_count": 17,
   "id": "bee81578-54ce-49ee-b345-55dc6114d9fe",
   "metadata": {},
   "outputs": [
    {
     "name": "stdout",
     "output_type": "stream",
     "text": [
      "        state  total_customers\n",
      "0     Arizona             1937\n",
      "1  California             3552\n",
      "2      Nevada              993\n",
      "3      Oregon             2909\n",
      "4  Washington              888\n"
     ]
    }
   ],
   "source": [
    "# Count the number of customers in each state\n",
    "customer_count = df.groupby(\"state\")[\"customer\"].count().reset_index()\n",
    "\n",
    "# Rename column for clarity\n",
    "customer_count.rename(columns={\"customer\": \"total_customers\"}, inplace=True)\n",
    "\n",
    "# Filter states with more than 500 customers\n",
    "filtered_states = customer_count[customer_count[\"total_customers\"] > 500]\n",
    "\n",
    "# Display results\n",
    "print(filtered_states)"
   ]
  },
  {
   "cell_type": "code",
   "execution_count": null,
   "id": "94400e7e-cae1-450c-b626-71c338a3cabd",
   "metadata": {},
   "outputs": [],
   "source": [
    "#The state with the highest number of customers is California. The reason might be because California is the most densely populated state in the study."
   ]
  },
  {
   "cell_type": "markdown",
   "id": "b60a4443-a1a7-4bbf-b78e-9ccdf9895e0d",
   "metadata": {
    "id": "b60a4443-a1a7-4bbf-b78e-9ccdf9895e0d"
   },
   "source": [
    "4. Find the maximum, minimum, and median customer lifetime value by education level and gender. Write your conclusions."
   ]
  },
  {
   "cell_type": "code",
   "execution_count": 19,
   "id": "2400d18f-145a-425a-9323-dd0452f141df",
   "metadata": {},
   "outputs": [
    {
     "name": "stdout",
     "output_type": "stream",
     "text": [
      "              education gender          max          min       median\n",
      "0              Bachelor      F  73225.95652  1904.000852  5640.505303\n",
      "1              Bachelor      M  67907.27050  1898.007675  5548.031892\n",
      "2               College      F  61850.18803  1898.683686  5623.611187\n",
      "3               College      M  61134.68307  1918.119700  6005.847375\n",
      "4                Doctor      F  44856.11397  2395.570000  5332.462694\n",
      "5                Doctor      M  32677.34284  2267.604038  5577.669457\n",
      "6  High School or Below      F  55277.44589  2144.921535  6039.553187\n",
      "7  High School or Below      M  83325.38119  1940.981221  6286.731006\n",
      "8                Master      F  51016.06704  2417.777032  5729.855012\n",
      "9                Master      M  50568.25912  2272.307310  5579.099207\n"
     ]
    }
   ],
   "source": [
    "# Group by education level and gender, then compute max, min, and median CLV\n",
    "clv_stats = df.groupby([\"education\", \"gender\"])[\"customer_lifetime_value\"].agg([\"max\", \"min\", \"median\"]).reset_index()\n",
    "\n",
    "# Display results\n",
    "print(clv_stats)"
   ]
  },
  {
   "cell_type": "code",
   "execution_count": null,
   "id": "62770215-c3f1-4c82-a9cc-2aacf6032e7c",
   "metadata": {},
   "outputs": [],
   "source": [
    "#Figures are almost the same. There is no big difference between male or female, except for people which level of eduction is high school or below. The maximum value for men is much higher than for women.\n",
    "#For Doctors, especially male doctors, the maximum customer lifetime value is the lowest.\n",
    "#There is no big difference between medians ((every levels of education and both sexes)"
   ]
  },
  {
   "cell_type": "markdown",
   "id": "b42999f9-311f-481e-ae63-40a5577072c5",
   "metadata": {
    "id": "b42999f9-311f-481e-ae63-40a5577072c5"
   },
   "source": [
    "## Bonus"
   ]
  },
  {
   "cell_type": "markdown",
   "id": "81ff02c5-6584-4f21-a358-b918697c6432",
   "metadata": {
    "id": "81ff02c5-6584-4f21-a358-b918697c6432"
   },
   "source": [
    "5. The marketing team wants to analyze the number of policies sold by state and month. Present the data in a table where the months are arranged as columns and the states are arranged as rows."
   ]
  },
  {
   "cell_type": "code",
   "execution_count": 23,
   "id": "f8ab8d47-73ab-45f0-9345-50bbc5a6b22d",
   "metadata": {},
   "outputs": [
    {
     "name": "stdout",
     "output_type": "stream",
     "text": [
      "month            January      February  March  April  May  June  July  August  \\\n",
      "state                                                                           \n",
      "Arizona     7.662300e+06  6.859440e+06      0      0    0     0     0       0   \n",
      "California  1.438793e+07  1.237167e+07      0      0    0     0     0       0   \n",
      "Nevada      4.307697e+06  3.461742e+06      0      0    0     0     0       0   \n",
      "Oregon      1.223436e+07  1.020043e+07      0      0    0     0     0       0   \n",
      "Washington  3.577799e+06  2.990138e+06      0      0    0     0     0       0   \n",
      "\n",
      "month       September  October  November  December  \n",
      "state                                               \n",
      "Arizona             0        0         0         0  \n",
      "California          0        0         0         0  \n",
      "Nevada              0        0         0         0  \n",
      "Oregon              0        0         0         0  \n",
      "Washington          0        0         0         0  \n"
     ]
    }
   ],
   "source": [
    "\n",
    "# Convert 'effective_to_date' to datetime format (MM/DD/YY)\n",
    "df[\"effective_to_date\"] = pd.to_datetime(df[\"effective_to_date\"], format=\"%m/%d/%y\")\n",
    "\n",
    "# Extract full month name from 'effective_to_date'\n",
    "df[\"month\"] = df[\"effective_to_date\"].dt.strftime(\"%B\")  # E.g., \"January\"\n",
    "\n",
    "# Calculate total_revenue\n",
    "df[\"total_revenue\"] = df[\"customer_lifetime_value\"] - df[\"total_claim_amount\"]\n",
    "\n",
    "# Create pivot table with states as rows and months as columns, summing total_revenue\n",
    "revenue_table = df.pivot_table(index=\"state\", columns=\"month\", values=\"total_revenue\", aggfunc=\"sum\", fill_value=0)\n",
    "\n",
    "# Ensure months are in correct order (January → December)\n",
    "month_order = [\"January\", \"February\", \"March\", \"April\", \"May\", \"June\", \n",
    "               \"July\", \"August\", \"September\", \"October\", \"November\", \"December\"]\n",
    "revenue_table = revenue_table.reindex(columns=month_order, fill_value=0)\n",
    "\n",
    "# Display result\n",
    "print(revenue_table)Display a new DataFrame that contains the number of policies sold by month, by state, for the top 3 states with the highest number of policies sold.\n",
    "Hint:\n",
    "\n",
    "To accomplish this, you will first need to group the data by state and month, then count the number of policies sold for each group. Afterwards, you will need to sort the data by the count of policies sold in descending order.\n",
    "Next, you will select the top 3 states with the highest number of policies sold.\n",
    "Finally, you will create a new DataFrame that contains the number of policies sold by month for each of the top 3 states."
   ]
  },
  {
   "cell_type": "markdown",
   "id": "b6aec097-c633-4017-a125-e77a97259cda",
   "metadata": {
    "id": "b6aec097-c633-4017-a125-e77a97259cda"
   },
   "source": [
    "6.  Display a new DataFrame that contains the number of policies sold by month, by state, for the top 3 states with the highest number of policies sold.\n",
    "\n",
    "*Hint:*\n",
    "- *To accomplish this, you will first need to group the data by state and month, then count the number of policies sold for each group. Afterwards, you will need to sort the data by the count of policies sold in descending order.*\n",
    "- *Next, you will select the top 3 states with the highest number of policies sold.*\n",
    "- *Finally, you will create a new DataFrame that contains the number of policies sold by month for each of the top 3 states.*"
   ]
  },
  {
   "cell_type": "markdown",
   "id": "ba975b8a-a2cf-4fbf-9f59-ebc381767009",
   "metadata": {
    "id": "ba975b8a-a2cf-4fbf-9f59-ebc381767009"
   },
   "source": [
    "7. The marketing team wants to analyze the effect of different marketing channels on the customer response rate.\n",
    "\n",
    "Hint: You can use melt to unpivot the data and create a table that shows the customer response rate (those who responded \"Yes\") by marketing channel."
   ]
  },
  {
   "cell_type": "code",
   "execution_count": 25,
   "id": "3581f1eb-0f60-4904-9129-67e4e553a397",
   "metadata": {},
   "outputs": [
    {
     "name": "stdout",
     "output_type": "stream",
     "text": [
      "month            January      February  March  April  May  June  July  August  \\\n",
      "state                                                                           \n",
      "Arizona     7.662300e+06  6.859440e+06      0      0    0     0     0       0   \n",
      "California  1.438793e+07  1.237167e+07      0      0    0     0     0       0   \n",
      "Oregon      1.223436e+07  1.020043e+07      0      0    0     0     0       0   \n",
      "\n",
      "month       September  October  November  December  \n",
      "state                                               \n",
      "Arizona             0        0         0         0  \n",
      "California          0        0         0         0  \n",
      "Oregon              0        0         0         0  \n"
     ]
    }
   ],
   "source": [
    "# Convert 'effective_to_date' to datetime format (MM/DD/YY)\n",
    "df[\"effective_to_date\"] = pd.to_datetime(df[\"effective_to_date\"], format=\"%m/%d/%y\")\n",
    "\n",
    "# Extract full month name\n",
    "df[\"month\"] = df[\"effective_to_date\"].dt.strftime(\"%B\")  # E.g., \"January\"\n",
    "\n",
    "# Calculate total_revenue\n",
    "df[\"total_revenue\"] = df[\"customer_lifetime_value\"] - df[\"total_claim_amount\"]\n",
    "\n",
    "# Group by state and sum total_revenue\n",
    "state_revenue = df.groupby(\"state\")[\"total_revenue\"].sum()\n",
    "\n",
    "# Get the top 3 states with the highest total revenue\n",
    "top_3_states = state_revenue.nlargest(3).index  # Extracts top 3 state names\n",
    "\n",
    "# Filter dataset for only the top 3 states\n",
    "df_top_states = df[df[\"state\"].isin(top_3_states)]\n",
    "\n",
    "# Create a pivot table with months as columns and states as rows, summing total_revenue\n",
    "top_states_pivot = df_top_states.pivot_table(index=\"state\", columns=\"month\", values=\"total_revenue\", aggfunc=\"sum\", fill_value=0)\n",
    "\n",
    "# Ensure months are in correct order\n",
    "month_order = [\"January\", \"February\", \"March\", \"April\", \"May\", \"June\", \n",
    "               \"July\", \"August\", \"September\", \"October\", \"November\", \"December\"]\n",
    "top_states_pivot = top_states_pivot.reindex(columns=month_order, fill_value=0)\n",
    "\n",
    "# Display the final DataFrame\n",
    "print(top_states_pivot)"
   ]
  },
  {
   "cell_type": "markdown",
   "id": "e4378d94-48fb-4850-a802-b1bc8f427b2d",
   "metadata": {
    "id": "e4378d94-48fb-4850-a802-b1bc8f427b2d"
   },
   "source": [
    "External Resources for Data Filtering: https://towardsdatascience.com/filtering-data-frames-in-pandas-b570b1f834b9"
   ]
  },
  {
   "cell_type": "code",
   "execution_count": null,
   "id": "449513f4-0459-46a0-a18d-9398d974c9ad",
   "metadata": {
    "id": "449513f4-0459-46a0-a18d-9398d974c9ad"
   },
   "outputs": [],
   "source": [
    "# your code goes here"
   ]
  }
 ],
 "metadata": {
  "colab": {
   "provenance": []
  },
  "kernelspec": {
   "display_name": "Python [conda env:base] *",
   "language": "python",
   "name": "conda-base-py"
  },
  "language_info": {
   "codemirror_mode": {
    "name": "ipython",
    "version": 3
   },
   "file_extension": ".py",
   "mimetype": "text/x-python",
   "name": "python",
   "nbconvert_exporter": "python",
   "pygments_lexer": "ipython3",
   "version": "3.12.7"
  }
 },
 "nbformat": 4,
 "nbformat_minor": 5
}
