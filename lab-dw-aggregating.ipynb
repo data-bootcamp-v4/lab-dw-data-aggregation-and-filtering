{
  "cells": [
    {
      "cell_type": "markdown",
      "id": "31969215-2a90-4d8b-ac36-646a7ae13744",
      "metadata": {
        "id": "31969215-2a90-4d8b-ac36-646a7ae13744"
      },
      "source": [
        "# Lab | Data Aggregation and Filtering"
      ]
    },
    {
      "cell_type": "markdown",
      "id": "a8f08a52-bec0-439b-99cc-11d3809d8b5d",
      "metadata": {
        "id": "a8f08a52-bec0-439b-99cc-11d3809d8b5d"
      },
      "source": [
        "In this challenge, we will continue to work with customer data from an insurance company. We will use the dataset called marketing_customer_analysis.csv, which can be found at the following link:\n",
        "\n",
        "https://raw.githubusercontent.com/data-bootcamp-v4/data/main/marketing_customer_analysis.csv\n",
        "\n",
        "This dataset contains information such as customer demographics, policy details, vehicle information, and the customer's response to the last marketing campaign. Our goal is to explore and analyze this data by first performing data cleaning, formatting, and structuring."
      ]
    },
    {
      "cell_type": "markdown",
      "id": "9c98ddc5-b041-4c94-ada1-4dfee5c98e50",
      "metadata": {
        "id": "9c98ddc5-b041-4c94-ada1-4dfee5c98e50"
      },
      "source": [
        "1. Create a new DataFrame that only includes customers who have a total_claim_amount greater than $1,000 and have a response of \"Yes\" to the last marketing campaign."
      ]
    },
    {
      "cell_type": "markdown",
      "id": "b9be383e-5165-436e-80c8-57d4c757c8c3",
      "metadata": {
        "id": "b9be383e-5165-436e-80c8-57d4c757c8c3"
      },
      "source": [
        "2. Using the original Dataframe, analyze the average total_claim_amount by each policy type and gender for customers who have responded \"Yes\" to the last marketing campaign. Write your conclusions."
      ]
    },
    {
      "cell_type": "markdown",
      "id": "7050f4ac-53c5-4193-a3c0-8699b87196f0",
      "metadata": {
        "id": "7050f4ac-53c5-4193-a3c0-8699b87196f0"
      },
      "source": [
        "3. Analyze the total number of customers who have policies in each state, and then filter the results to only include states where there are more than 500 customers."
      ]
    },
    {
      "cell_type": "markdown",
      "id": "b60a4443-a1a7-4bbf-b78e-9ccdf9895e0d",
      "metadata": {
        "id": "b60a4443-a1a7-4bbf-b78e-9ccdf9895e0d"
      },
      "source": [
        "4. Find the maximum, minimum, and median customer lifetime value by education level and gender. Write your conclusions."
      ]
    },
    {
      "cell_type": "markdown",
      "id": "b42999f9-311f-481e-ae63-40a5577072c5",
      "metadata": {
        "id": "b42999f9-311f-481e-ae63-40a5577072c5"
      },
      "source": [
        "## Bonus"
      ]
    },
    {
      "cell_type": "markdown",
      "id": "81ff02c5-6584-4f21-a358-b918697c6432",
      "metadata": {
        "id": "81ff02c5-6584-4f21-a358-b918697c6432"
      },
      "source": [
        "5. The marketing team wants to analyze the number of policies sold by state and month. Present the data in a table where the months are arranged as columns and the states are arranged as rows."
      ]
    },
    {
      "cell_type": "markdown",
      "id": "b6aec097-c633-4017-a125-e77a97259cda",
      "metadata": {
        "id": "b6aec097-c633-4017-a125-e77a97259cda"
      },
      "source": [
        "6.  Display a new DataFrame that contains the number of policies sold by month, by state, for the top 3 states with the highest number of policies sold.\n",
        "\n",
        "*Hint:*\n",
        "- *To accomplish this, you will first need to group the data by state and month, then count the number of policies sold for each group. Afterwards, you will need to sort the data by the count of policies sold in descending order.*\n",
        "- *Next, you will select the top 3 states with the highest number of policies sold.*\n",
        "- *Finally, you will create a new DataFrame that contains the number of policies sold by month for each of the top 3 states.*"
      ]
    },
    {
      "cell_type": "markdown",
      "id": "ba975b8a-a2cf-4fbf-9f59-ebc381767009",
      "metadata": {
        "id": "ba975b8a-a2cf-4fbf-9f59-ebc381767009"
      },
      "source": [
        "7. The marketing team wants to analyze the effect of different marketing channels on the customer response rate.\n",
        "\n",
        "Hint: You can use melt to unpivot the data and create a table that shows the customer response rate (those who responded \"Yes\") by marketing channel."
      ]
    },
    {
      "cell_type": "markdown",
      "id": "e4378d94-48fb-4850-a802-b1bc8f427b2d",
      "metadata": {
        "id": "e4378d94-48fb-4850-a802-b1bc8f427b2d"
      },
      "source": [
        "External Resources for Data Filtering: https://towardsdatascience.com/filtering-data-frames-in-pandas-b570b1f834b9"
      ]
    },
    {
      "cell_type": "code",
      "execution_count": null,
      "id": "449513f4-0459-46a0-a18d-9398d974c9ad",
      "metadata": {
        "id": "449513f4-0459-46a0-a18d-9398d974c9ad"
      },
      "outputs": [],
      "source": [
        "import pandas as pd\n",
        "from datetime import datetime\n",
        "\n",
        "pd.set_option('display.max_columns', 50)\n",
        "\n",
        "df = pd.read_csv('https://raw.githubusercontent.com/data-bootcamp-v4/data/main/marketing_customer_analysis.csv')\n",
        "df"
      ]
    },
    {
      "cell_type": "code",
      "execution_count": 9,
      "id": "a8dfd8f2",
      "metadata": {},
      "outputs": [],
      "source": [
        "df.columns = df.columns.str.lower().str.replace(' ', '_')"
      ]
    },
    {
      "cell_type": "code",
      "execution_count": null,
      "id": "b0d17a28",
      "metadata": {},
      "outputs": [],
      "source": [
        "segment = df[(df['response'] == 'Yes') & (df['total_claim_amount'] > 1000)]\n",
        "segment"
      ]
    },
    {
      "cell_type": "code",
      "execution_count": null,
      "id": "6ef4a38b",
      "metadata": {},
      "outputs": [],
      "source": [
        "yes_segment = df[df['response'] == 'Yes']\n",
        "\n",
        "pivot_tca = yes_segment.pivot_table(index=['policy_type','gender'], values='total_claim_amount', aggfunc='mean')\n",
        "display(pivot_tca)\n",
        "\n",
        "\n",
        "max_tca = round(pivot_tca.max().max())\n",
        "max_tca_id = pivot_tca.idxmax().iloc[0]\n",
        "\n",
        "print(f'The maximum total claim amount is ${max_tca} for {max_tca_id[0]} and {max_tca_id[1]}')"
      ]
    },
    {
      "cell_type": "code",
      "execution_count": null,
      "id": "1f1ae71a",
      "metadata": {},
      "outputs": [],
      "source": [
        "customer_counts = df['state'].value_counts()\n",
        "selected_states = customer_counts[customer_counts > 500]\n",
        "selected_states\n"
      ]
    },
    {
      "cell_type": "code",
      "execution_count": null,
      "id": "c21632df",
      "metadata": {},
      "outputs": [],
      "source": [
        "pivot_clv = df.pivot_table(index=['education','gender'], values='customer_lifetime_value', aggfunc=['max','min','median']).round()\n",
        "display(pivot_clv)\n",
        "\n",
        "max_clv = pivot_clv['max'].max().max()\n",
        "max_clv_id = pivot_clv['max'].idxmax().iloc[0]\n",
        "print(f'The maximum customer lifetime value is ${max_clv} for {max_clv_id[0]} and {max_clv_id[1]}')\n",
        "\n",
        "min_clv = pivot_clv['min'].min().min()\n",
        "min_clv_id = pivot_clv['min'].idxmin().iloc[0]\n",
        "print(f'The minimum customer lifetime value is ${min_clv} for {min_clv_id[0]} and {min_clv_id[1]}')\n",
        "\n",
        "median_clv = pivot_clv['median'].median().median()\n",
        "median_clv_id = pivot_clv['median'].idxmax().iloc[0]\n",
        "print(f'The median customer lifetime value is ${median_clv} for {median_clv_id[0]} and {median_clv_id[1]}')\n",
        "\n",
        "#Conclusion: Poorly educated males are more accident prone "
      ]
    },
    {
      "cell_type": "code",
      "execution_count": null,
      "id": "0874d762",
      "metadata": {},
      "outputs": [],
      "source": [
        "def subtract_months(months_series):\n",
        "    today = datetime.today()\n",
        "    new_months = today.month - (months_series % 12)\n",
        "    new_months[new_months <= 0] += 12\n",
        "    return new_months\n",
        "\n",
        "\n",
        "df['month'] = subtract_months(df['months_since_policy_inception'])\n",
        "\n",
        "\n",
        "pivot_month = df.pivot_table(\n",
        "    index='state', columns='month', values='customer', aggfunc=('count'))\n",
        "display(pivot_month)"
      ]
    },
    {
      "cell_type": "code",
      "execution_count": null,
      "id": "92167bf0",
      "metadata": {},
      "outputs": [],
      "source": []
    }
  ],
  "metadata": {
    "colab": {
      "provenance": []
    },
    "kernelspec": {
      "display_name": "Python 3 (ipykernel)",
      "language": "python",
      "name": "python3"
    },
    "language_info": {
      "codemirror_mode": {
        "name": "ipython",
        "version": 3
      },
      "file_extension": ".py",
      "mimetype": "text/x-python",
      "name": "python",
      "nbconvert_exporter": "python",
      "pygments_lexer": "ipython3",
      "version": "3.12.4"
    }
  },
  "nbformat": 4,
  "nbformat_minor": 5
}
