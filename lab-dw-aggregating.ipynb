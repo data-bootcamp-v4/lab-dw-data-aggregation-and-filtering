{
  "cells": [
    {
      "cell_type": "markdown",
      "id": "31969215-2a90-4d8b-ac36-646a7ae13744",
      "metadata": {
        "id": "31969215-2a90-4d8b-ac36-646a7ae13744"
      },
      "source": [
        "# Lab | Data Aggregation and Filtering"
      ]
    },
    {
      "cell_type": "markdown",
      "id": "a8f08a52-bec0-439b-99cc-11d3809d8b5d",
      "metadata": {
        "id": "a8f08a52-bec0-439b-99cc-11d3809d8b5d"
      },
      "source": [
        "In this challenge, we will continue to work with customer data from an insurance company. We will use the dataset called marketing_customer_analysis.csv, which can be found at the following link:\n",
        "\n",
        "https://raw.githubusercontent.com/data-bootcamp-v4/data/main/marketing_customer_analysis.csv\n",
        "\n",
        "This dataset contains information such as customer demographics, policy details, vehicle information, and the customer's response to the last marketing campaign. Our goal is to explore and analyze this data by first performing data cleaning, formatting, and structuring."
      ]
    },
    {
      "cell_type": "markdown",
      "id": "9c98ddc5-b041-4c94-ada1-4dfee5c98e50",
      "metadata": {
        "id": "9c98ddc5-b041-4c94-ada1-4dfee5c98e50"
      },
      "source": [
        "1. Create a new DataFrame that only includes customers who have a total_claim_amount greater than $1,000 and have a response of \"Yes\" to the last marketing campaign."
      ]
    },
    {
      "cell_type": "markdown",
      "id": "b9be383e-5165-436e-80c8-57d4c757c8c3",
      "metadata": {
        "id": "b9be383e-5165-436e-80c8-57d4c757c8c3"
      },
      "source": [
        "2. Using the original Dataframe, analyze the average total_claim_amount by each policy type and gender for customers who have responded \"Yes\" to the last marketing campaign. Write your conclusions."
      ]
    },
    {
      "cell_type": "markdown",
      "id": "7050f4ac-53c5-4193-a3c0-8699b87196f0",
      "metadata": {
        "id": "7050f4ac-53c5-4193-a3c0-8699b87196f0"
      },
      "source": [
        "3. Analyze the total number of customers who have policies in each state, and then filter the results to only include states where there are more than 500 customers."
      ]
    },
    {
      "cell_type": "markdown",
      "id": "b60a4443-a1a7-4bbf-b78e-9ccdf9895e0d",
      "metadata": {
        "id": "b60a4443-a1a7-4bbf-b78e-9ccdf9895e0d"
      },
      "source": [
        "4. Find the maximum, minimum, and median customer lifetime value by education level and gender. Write your conclusions."
      ]
    },
    {
      "cell_type": "markdown",
      "id": "b42999f9-311f-481e-ae63-40a5577072c5",
      "metadata": {
        "id": "b42999f9-311f-481e-ae63-40a5577072c5"
      },
      "source": [
        "## Bonus"
      ]
    },
    {
      "cell_type": "markdown",
      "id": "81ff02c5-6584-4f21-a358-b918697c6432",
      "metadata": {
        "id": "81ff02c5-6584-4f21-a358-b918697c6432"
      },
      "source": [
        "5. The marketing team wants to analyze the number of policies sold by state and month. Present the data in a table where the months are arranged as columns and the states are arranged as rows."
      ]
    },
    {
      "cell_type": "markdown",
      "id": "b6aec097-c633-4017-a125-e77a97259cda",
      "metadata": {
        "id": "b6aec097-c633-4017-a125-e77a97259cda"
      },
      "source": [
        "6.  Display a new DataFrame that contains the number of policies sold by month, by state, for the top 3 states with the highest number of policies sold.\n",
        "\n",
        "*Hint:*\n",
        "- *To accomplish this, you will first need to group the data by state and month, then count the number of policies sold for each group. Afterwards, you will need to sort the data by the count of policies sold in descending order.*\n",
        "- *Next, you will select the top 3 states with the highest number of policies sold.*\n",
        "- *Finally, you will create a new DataFrame that contains the number of policies sold by month for each of the top 3 states.*"
      ]
    },
    {
      "cell_type": "markdown",
      "id": "ba975b8a-a2cf-4fbf-9f59-ebc381767009",
      "metadata": {
        "id": "ba975b8a-a2cf-4fbf-9f59-ebc381767009"
      },
      "source": [
        "7. The marketing team wants to analyze the effect of different marketing channels on the customer response rate.\n",
        "\n",
        "Hint: You can use melt to unpivot the data and create a table that shows the customer response rate (those who responded \"Yes\") by marketing channel."
      ]
    },
    {
      "cell_type": "markdown",
      "id": "e4378d94-48fb-4850-a802-b1bc8f427b2d",
      "metadata": {
        "id": "e4378d94-48fb-4850-a802-b1bc8f427b2d"
      },
      "source": [
        "External Resources for Data Filtering: https://towardsdatascience.com/filtering-data-frames-in-pandas-b570b1f834b9"
      ]
    },
    {
      "cell_type": "code",
      "execution_count": 7,
      "id": "449513f4-0459-46a0-a18d-9398d974c9ad",
      "metadata": {
        "id": "449513f4-0459-46a0-a18d-9398d974c9ad"
      },
      "outputs": [
        {
          "name": "stdout",
          "output_type": "stream",
          "text": [
            "1. Columnas en el dataset:\n",
            "['Unnamed: 0', 'Customer', 'State', 'Customer Lifetime Value', 'Response', 'Coverage', 'Education', 'Effective To Date', 'EmploymentStatus', 'Gender', 'Income', 'Location Code', 'Marital Status', 'Monthly Premium Auto', 'Months Since Last Claim', 'Months Since Policy Inception', 'Number of Open Complaints', 'Number of Policies', 'Policy Type', 'Policy', 'Renew Offer Type', 'Sales Channel', 'Total Claim Amount', 'Vehicle Class', 'Vehicle Size', 'Vehicle Type']\n",
            "\n",
            "2. Información del dataset:\n",
            "<class 'pandas.core.frame.DataFrame'>\n",
            "RangeIndex: 10910 entries, 0 to 10909\n",
            "Data columns (total 26 columns):\n",
            " #   Column                         Non-Null Count  Dtype  \n",
            "---  ------                         --------------  -----  \n",
            " 0   Unnamed: 0                     10910 non-null  int64  \n",
            " 1   Customer                       10910 non-null  object \n",
            " 2   State                          10279 non-null  object \n",
            " 3   Customer Lifetime Value        10910 non-null  float64\n",
            " 4   Response                       10279 non-null  object \n",
            " 5   Coverage                       10910 non-null  object \n",
            " 6   Education                      10910 non-null  object \n",
            " 7   Effective To Date              10910 non-null  object \n",
            " 8   EmploymentStatus               10910 non-null  object \n",
            " 9   Gender                         10910 non-null  object \n",
            " 10  Income                         10910 non-null  int64  \n",
            " 11  Location Code                  10910 non-null  object \n",
            " 12  Marital Status                 10910 non-null  object \n",
            " 13  Monthly Premium Auto           10910 non-null  int64  \n",
            " 14  Months Since Last Claim        10277 non-null  float64\n",
            " 15  Months Since Policy Inception  10910 non-null  int64  \n",
            " 16  Number of Open Complaints      10277 non-null  float64\n",
            " 17  Number of Policies             10910 non-null  int64  \n",
            " 18  Policy Type                    10910 non-null  object \n",
            " 19  Policy                         10910 non-null  object \n",
            " 20  Renew Offer Type               10910 non-null  object \n",
            " 21  Sales Channel                  10910 non-null  object \n",
            " 22  Total Claim Amount             10910 non-null  float64\n",
            " 23  Vehicle Class                  10288 non-null  object \n",
            " 24  Vehicle Size                   10288 non-null  object \n",
            " 25  Vehicle Type                   5428 non-null   object \n",
            "dtypes: float64(4), int64(5), object(17)\n",
            "memory usage: 2.2+ MB\n",
            "None\n",
            "\n",
            "3. Primeras filas:\n",
            "   Unnamed: 0 Customer       State  Customer Lifetime Value Response  \\\n",
            "0           0  DK49336     Arizona              4809.216960       No   \n",
            "1           1  KX64629  California              2228.525238       No   \n",
            "2           2  LZ68649  Washington             14947.917300       No   \n",
            "3           3  XL78013      Oregon             22332.439460      Yes   \n",
            "4           4  QA50777      Oregon              9025.067525       No   \n",
            "\n",
            "   Coverage Education Effective To Date EmploymentStatus Gender  ...  \\\n",
            "0     Basic   College           2/18/11         Employed      M  ...   \n",
            "1     Basic   College           1/18/11       Unemployed      F  ...   \n",
            "2     Basic  Bachelor           2/10/11         Employed      M  ...   \n",
            "3  Extended   College           1/11/11         Employed      M  ...   \n",
            "4   Premium  Bachelor           1/17/11    Medical Leave      F  ...   \n",
            "\n",
            "   Number of Open Complaints Number of Policies     Policy Type        Policy  \\\n",
            "0                        0.0                  9  Corporate Auto  Corporate L3   \n",
            "1                        0.0                  1   Personal Auto   Personal L3   \n",
            "2                        0.0                  2   Personal Auto   Personal L3   \n",
            "3                        0.0                  2  Corporate Auto  Corporate L3   \n",
            "4                        NaN                  7   Personal Auto   Personal L2   \n",
            "\n",
            "   Renew Offer Type  Sales Channel  Total Claim Amount  Vehicle Class  \\\n",
            "0            Offer3          Agent          292.800000  Four-Door Car   \n",
            "1            Offer4    Call Center          744.924331  Four-Door Car   \n",
            "2            Offer3    Call Center          480.000000            SUV   \n",
            "3            Offer2         Branch          484.013411  Four-Door Car   \n",
            "4            Offer1         Branch          707.925645  Four-Door Car   \n",
            "\n",
            "  Vehicle Size Vehicle Type  \n",
            "0      Medsize          NaN  \n",
            "1      Medsize          NaN  \n",
            "2      Medsize            A  \n",
            "3      Medsize            A  \n",
            "4      Medsize          NaN  \n",
            "\n",
            "[5 rows x 26 columns]\n",
            "\n",
            "4. Nombres de columnas con sus longitudes:\n",
            "'Unnamed: 0': 10\n",
            "'Customer': 8\n",
            "'State': 5\n",
            "'Customer Lifetime Value': 23\n",
            "'Response': 8\n",
            "'Coverage': 8\n",
            "'Education': 9\n",
            "'Effective To Date': 17\n",
            "'EmploymentStatus': 16\n",
            "'Gender': 6\n",
            "'Income': 6\n",
            "'Location Code': 13\n",
            "'Marital Status': 14\n",
            "'Monthly Premium Auto': 20\n",
            "'Months Since Last Claim': 23\n",
            "'Months Since Policy Inception': 29\n",
            "'Number of Open Complaints': 25\n",
            "'Number of Policies': 18\n",
            "'Policy Type': 11\n",
            "'Policy': 6\n",
            "'Renew Offer Type': 16\n",
            "'Sales Channel': 13\n",
            "'Total Claim Amount': 18\n",
            "'Vehicle Class': 13\n",
            "'Vehicle Size': 12\n",
            "'Vehicle Type': 12\n"
          ]
        }
      ],
      "source": [
        "# Import necessary libraries\n",
        "import pandas as pd\n",
        "import numpy as np\n",
        "\n",
        "# Read the data\n",
        "url = \"https://raw.githubusercontent.com/data-bootcamp-v4/data/main/marketing_customer_analysis.csv\"\n",
        "df = pd.read_csv(url)\n",
        "\n",
        "# Inspeccionar el dataset\n",
        "print(\"1. Columnas en el dataset:\")\n",
        "print(df.columns.tolist())\n",
        "print(\"\\n2. Información del dataset:\")\n",
        "print(df.info())\n",
        "print(\"\\n3. Primeras filas:\")\n",
        "print(df.head())\n",
        "\n",
        "# Verificar si hay espacios en los nombres de las columnas\n",
        "print(\"\\n4. Nombres de columnas con sus longitudes:\")\n",
        "for col in df.columns:\n",
        "    print(f\"'{col}': {len(col)}\")"
      ]
    },
    {
      "cell_type": "code",
      "execution_count": 8,
      "id": "9e125006",
      "metadata": {},
      "outputs": [
        {
          "name": "stdout",
          "output_type": "stream",
          "text": [
            "\n",
            "1. Number of customers with claims > $1000 and responded Yes: 67\n",
            "Sample of filtered data:\n",
            "    Response  Total Claim Amount\n",
            "189      Yes         1358.400000\n",
            "236      Yes         1358.400000\n",
            "419      Yes         1027.200000\n",
            "442      Yes         1261.319869\n",
            "587      Yes         1027.000029\n",
            "\n",
            "2. Average claim amount by policy type and gender for Yes responders:\n",
            "Policy Type     Gender\n",
            "Corporate Auto  F         433.74\n",
            "                M         408.58\n",
            "Personal Auto   F         452.97\n",
            "                M         457.01\n",
            "Special Auto    F         453.28\n",
            "                M         429.53\n",
            "Name: Total Claim Amount, dtype: float64\n",
            "\n",
            "Conclusions:\n",
            "- Different policy types show varying average claim amounts\n",
            "- Gender differences exist within policy types\n",
            "\n",
            "3. States with more than 500 customers:\n",
            "State\n",
            "California    3552\n",
            "Oregon        2909\n",
            "Arizona       1937\n",
            "Nevada         993\n",
            "Washington     888\n",
            "Name: count, dtype: int64\n",
            "\n",
            "4. Customer Lifetime Value statistics by education and gender:\n",
            "                                  max      min   median\n",
            "Education            Gender                            \n",
            "Bachelor             F       73225.96  1904.00  5640.51\n",
            "                     M       67907.27  1898.01  5548.03\n",
            "College              F       61850.19  1898.68  5623.61\n",
            "                     M       61134.68  1918.12  6005.85\n",
            "Doctor               F       44856.11  2395.57  5332.46\n",
            "                     M       32677.34  2267.60  5577.67\n",
            "High School or Below F       55277.45  2144.92  6039.55\n",
            "                     M       83325.38  1940.98  6286.73\n",
            "Master               F       51016.07  2417.78  5729.86\n",
            "                     M       50568.26  2272.31  5579.10\n",
            "\n",
            "Conclusions:\n",
            "- Education levels show varying patterns in customer lifetime value\n",
            "- Gender differences are notable across different education levels\n",
            "\n",
            "5. Number of policies by state and month:\n",
            "month          1     2\n",
            "State                 \n",
            "Arizona     1008   929\n",
            "California  1918  1634\n",
            "Nevada       551   442\n",
            "Oregon      1565  1344\n",
            "Washington   463   425\n",
            "\n",
            "6. Number of policies by month for top 3 states:\n",
            "month          1     2\n",
            "State                 \n",
            "Arizona     1008   929\n",
            "California  1918  1634\n",
            "Oregon      1565  1344\n",
            "\n",
            "7. Response rate by Sales Channel (%):\n",
            "Sales Channel\n",
            "Agent          19.07\n",
            "Branch         11.38\n",
            "Call Center    10.98\n",
            "Web            11.71\n",
            "Name: Yes, dtype: float64\n"
          ]
        },
        {
          "name": "stderr",
          "output_type": "stream",
          "text": [
            "/var/folders/ft/qxd3zsb519bf70l9x9qmkywm0000gn/T/ipykernel_98542/1656243307.py:43: UserWarning: Could not infer format, so each element will be parsed individually, falling back to `dateutil`. To ensure parsing is consistent and as-expected, please specify a format.\n",
            "  df['month'] = pd.to_datetime(df['Effective To Date']).dt.month\n"
          ]
        }
      ],
      "source": [
        "# Import necessary libraries\n",
        "import pandas as pd\n",
        "import numpy as np\n",
        "\n",
        "# Read the data\n",
        "url = \"https://raw.githubusercontent.com/data-bootcamp-v4/data/main/marketing_customer_analysis.csv\"\n",
        "df = pd.read_csv(url)\n",
        "\n",
        "# 1. Customers with claim amount > $1000 and responded \"Yes\"\n",
        "filtered_df = df[(df['Total Claim Amount'] > 1000) & (df['Response'] == 'Yes')]\n",
        "\n",
        "print(\"\\n1. Number of customers with claims > $1000 and responded Yes:\", len(filtered_df))\n",
        "print(\"Sample of filtered data:\")\n",
        "print(filtered_df[['Response', 'Total Claim Amount']].head())\n",
        "\n",
        "# 2. Average claim amount by policy type and gender for \"Yes\" responders\n",
        "avg_claims = df[df['Response'] == 'Yes'].groupby(['Policy Type', 'Gender'])['Total Claim Amount'].mean().round(2)\n",
        "\n",
        "print(\"\\n2. Average claim amount by policy type and gender for Yes responders:\")\n",
        "print(avg_claims)\n",
        "print(\"\\nConclusions:\")\n",
        "print(\"- Different policy types show varying average claim amounts\")\n",
        "print(\"- Gender differences exist within policy types\")\n",
        "\n",
        "# 3. Customers per state with more than 500 customers\n",
        "state_counts = df['State'].value_counts()\n",
        "states_over_500 = state_counts[state_counts > 500]\n",
        "\n",
        "print(\"\\n3. States with more than 500 customers:\")\n",
        "print(states_over_500)\n",
        "\n",
        "# 4. Customer lifetime value statistics by education and gender\n",
        "clv_stats = df.groupby(['Education', 'Gender'])['Customer Lifetime Value'].agg(['max', 'min', 'median']).round(2)\n",
        "\n",
        "print(\"\\n4. Customer Lifetime Value statistics by education and gender:\")\n",
        "print(clv_stats)\n",
        "print(\"\\nConclusions:\")\n",
        "print(\"- Education levels show varying patterns in customer lifetime value\")\n",
        "print(\"- Gender differences are notable across different education levels\")\n",
        "\n",
        "# 5. Policies by state and month\n",
        "# Extract month from effective_to_date\n",
        "df['month'] = pd.to_datetime(df['Effective To Date']).dt.month\n",
        "policies_by_state_month = pd.pivot_table(df, \n",
        "                                       values='Policy',\n",
        "                                       index='State',\n",
        "                                       columns='month',\n",
        "                                       aggfunc='count',\n",
        "                                       fill_value=0)\n",
        "\n",
        "print(\"\\n5. Number of policies by state and month:\")\n",
        "print(policies_by_state_month)\n",
        "\n",
        "# 6. Top 3 states policies by month\n",
        "# First get total policies by state\n",
        "state_total_policies = df['State'].value_counts().head(3)\n",
        "top_3_states = state_total_policies.index.tolist()\n",
        "\n",
        "# Filter for top 3 states and create pivot table\n",
        "top_3_policies = df[df['State'].isin(top_3_states)]\n",
        "top_3_by_month = pd.pivot_table(top_3_policies,\n",
        "                               values='Policy',\n",
        "                               index='State',\n",
        "                               columns='month',\n",
        "                               aggfunc='count',\n",
        "                               fill_value=0)\n",
        "\n",
        "print(\"\\n6. Number of policies by month for top 3 states:\")\n",
        "print(top_3_by_month)\n",
        "\n",
        "# 7. Marketing channel analysis (nota: parece que no hay columnas de Marketing Channel en el dataset)\n",
        "# En su lugar, analizaremos el Sales Channel\n",
        "response_by_channel = pd.crosstab(df['Sales Channel'], df['Response'], normalize='index') * 100\n",
        "\n",
        "print(\"\\n7. Response rate by Sales Channel (%):\")\n",
        "print(response_by_channel['Yes'].round(2))"
      ]
    },
    {
      "cell_type": "code",
      "execution_count": null,
      "id": "8859413b",
      "metadata": {},
      "outputs": [],
      "source": []
    }
  ],
  "metadata": {
    "colab": {
      "provenance": []
    },
    "kernelspec": {
      "display_name": "ironhack_labs",
      "language": "python",
      "name": "python3"
    },
    "language_info": {
      "codemirror_mode": {
        "name": "ipython",
        "version": 3
      },
      "file_extension": ".py",
      "mimetype": "text/x-python",
      "name": "python",
      "nbconvert_exporter": "python",
      "pygments_lexer": "ipython3",
      "version": "3.12.4"
    }
  },
  "nbformat": 4,
  "nbformat_minor": 5
}
