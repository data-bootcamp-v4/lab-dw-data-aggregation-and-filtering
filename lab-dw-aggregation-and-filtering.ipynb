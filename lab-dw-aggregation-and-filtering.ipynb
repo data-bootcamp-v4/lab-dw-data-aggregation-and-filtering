{
  "cells": [
    {
      "cell_type": "markdown",
      "id": "31969215-2a90-4d8b-ac36-646a7ae13744",
      "metadata": {
        "id": "31969215-2a90-4d8b-ac36-646a7ae13744"
      },
      "source": [
        "# Lab | Data Aggregation and Filtering"
      ]
    },
    {
      "cell_type": "markdown",
      "id": "a8f08a52-bec0-439b-99cc-11d3809d8b5d",
      "metadata": {
        "id": "a8f08a52-bec0-439b-99cc-11d3809d8b5d"
      },
      "source": [
        "In this challenge, we will continue to work with customer data from an insurance company. We will use the dataset called marketing_customer_analysis.csv, which can be found at the following link:\n",
        "\n",
        "https://raw.githubusercontent.com/data-bootcamp-v4/data/main/marketing_customer_analysis.csv\n",
        "\n",
        "This dataset contains information such as customer demographics, policy details, vehicle information, and the customer's response to the last marketing campaign. Our goal is to explore and analyze this data by first performing data cleaning, formatting, and structuring."
      ]
    },
    {
      "cell_type": "markdown",
      "id": "9c98ddc5-b041-4c94-ada1-4dfee5c98e50",
      "metadata": {
        "id": "9c98ddc5-b041-4c94-ada1-4dfee5c98e50"
      },
      "source": [
        "1. Create a new DataFrame that only includes customers who have a total_claim_amount greater than $1,000 and have a response of \"Yes\" to the last marketing campaign."
      ]
    },
    {
      "cell_type": "code",
      "execution_count": 95,
      "id": "c1066cd3",
      "metadata": {},
      "outputs": [],
      "source": [
        "import pandas as pd\n",
        "import numpy as np\n",
        "import seaborn as sns"
      ]
    },
    {
      "cell_type": "code",
      "execution_count": 96,
      "id": "c86f6892",
      "metadata": {},
      "outputs": [],
      "source": [
        "df = pd.read_csv('marketing_customer_analysis.csv')\n",
        "pd.options.display.max_columns = None\n",
        "\n",
        "df.columns = df.columns.str.lower()\n",
        "\n",
        "df.columns = df.columns.str.replace(' ', '_')\n",
        "\n",
        "#uniforming the names of the columns"
      ]
    },
    {
      "cell_type": "code",
      "execution_count": 97,
      "id": "79eb419c",
      "metadata": {},
      "outputs": [
        {
          "data": {
            "text/html": [
              "<div>\n",
              "<style scoped>\n",
              "    .dataframe tbody tr th:only-of-type {\n",
              "        vertical-align: middle;\n",
              "    }\n",
              "\n",
              "    .dataframe tbody tr th {\n",
              "        vertical-align: top;\n",
              "    }\n",
              "\n",
              "    .dataframe thead th {\n",
              "        text-align: right;\n",
              "    }\n",
              "</style>\n",
              "<table border=\"1\" class=\"dataframe\">\n",
              "  <thead>\n",
              "    <tr style=\"text-align: right;\">\n",
              "      <th></th>\n",
              "      <th>unnamed:_0</th>\n",
              "      <th>customer</th>\n",
              "      <th>state</th>\n",
              "      <th>customer_lifetime_value</th>\n",
              "      <th>response</th>\n",
              "      <th>coverage</th>\n",
              "      <th>education</th>\n",
              "      <th>effective_to_date</th>\n",
              "      <th>employmentstatus</th>\n",
              "      <th>gender</th>\n",
              "      <th>income</th>\n",
              "      <th>location_code</th>\n",
              "      <th>marital_status</th>\n",
              "      <th>monthly_premium_auto</th>\n",
              "      <th>months_since_last_claim</th>\n",
              "      <th>months_since_policy_inception</th>\n",
              "      <th>number_of_open_complaints</th>\n",
              "      <th>number_of_policies</th>\n",
              "      <th>policy_type</th>\n",
              "      <th>policy</th>\n",
              "      <th>renew_offer_type</th>\n",
              "      <th>sales_channel</th>\n",
              "      <th>total_claim_amount</th>\n",
              "      <th>vehicle_class</th>\n",
              "      <th>vehicle_size</th>\n",
              "      <th>vehicle_type</th>\n",
              "    </tr>\n",
              "  </thead>\n",
              "  <tbody>\n",
              "    <tr>\n",
              "      <th>0</th>\n",
              "      <td>0</td>\n",
              "      <td>DK49336</td>\n",
              "      <td>Arizona</td>\n",
              "      <td>4809.216960</td>\n",
              "      <td>No</td>\n",
              "      <td>Basic</td>\n",
              "      <td>College</td>\n",
              "      <td>2/18/11</td>\n",
              "      <td>Employed</td>\n",
              "      <td>M</td>\n",
              "      <td>48029</td>\n",
              "      <td>Suburban</td>\n",
              "      <td>Married</td>\n",
              "      <td>61</td>\n",
              "      <td>7.0</td>\n",
              "      <td>52</td>\n",
              "      <td>0.0</td>\n",
              "      <td>9</td>\n",
              "      <td>Corporate Auto</td>\n",
              "      <td>Corporate L3</td>\n",
              "      <td>Offer3</td>\n",
              "      <td>Agent</td>\n",
              "      <td>292.800000</td>\n",
              "      <td>Four-Door Car</td>\n",
              "      <td>Medsize</td>\n",
              "      <td>NaN</td>\n",
              "    </tr>\n",
              "    <tr>\n",
              "      <th>1</th>\n",
              "      <td>1</td>\n",
              "      <td>KX64629</td>\n",
              "      <td>California</td>\n",
              "      <td>2228.525238</td>\n",
              "      <td>No</td>\n",
              "      <td>Basic</td>\n",
              "      <td>College</td>\n",
              "      <td>1/18/11</td>\n",
              "      <td>Unemployed</td>\n",
              "      <td>F</td>\n",
              "      <td>0</td>\n",
              "      <td>Suburban</td>\n",
              "      <td>Single</td>\n",
              "      <td>64</td>\n",
              "      <td>3.0</td>\n",
              "      <td>26</td>\n",
              "      <td>0.0</td>\n",
              "      <td>1</td>\n",
              "      <td>Personal Auto</td>\n",
              "      <td>Personal L3</td>\n",
              "      <td>Offer4</td>\n",
              "      <td>Call Center</td>\n",
              "      <td>744.924331</td>\n",
              "      <td>Four-Door Car</td>\n",
              "      <td>Medsize</td>\n",
              "      <td>NaN</td>\n",
              "    </tr>\n",
              "    <tr>\n",
              "      <th>2</th>\n",
              "      <td>2</td>\n",
              "      <td>LZ68649</td>\n",
              "      <td>Washington</td>\n",
              "      <td>14947.917300</td>\n",
              "      <td>No</td>\n",
              "      <td>Basic</td>\n",
              "      <td>Bachelor</td>\n",
              "      <td>2/10/11</td>\n",
              "      <td>Employed</td>\n",
              "      <td>M</td>\n",
              "      <td>22139</td>\n",
              "      <td>Suburban</td>\n",
              "      <td>Single</td>\n",
              "      <td>100</td>\n",
              "      <td>34.0</td>\n",
              "      <td>31</td>\n",
              "      <td>0.0</td>\n",
              "      <td>2</td>\n",
              "      <td>Personal Auto</td>\n",
              "      <td>Personal L3</td>\n",
              "      <td>Offer3</td>\n",
              "      <td>Call Center</td>\n",
              "      <td>480.000000</td>\n",
              "      <td>SUV</td>\n",
              "      <td>Medsize</td>\n",
              "      <td>A</td>\n",
              "    </tr>\n",
              "    <tr>\n",
              "      <th>3</th>\n",
              "      <td>3</td>\n",
              "      <td>XL78013</td>\n",
              "      <td>Oregon</td>\n",
              "      <td>22332.439460</td>\n",
              "      <td>Yes</td>\n",
              "      <td>Extended</td>\n",
              "      <td>College</td>\n",
              "      <td>1/11/11</td>\n",
              "      <td>Employed</td>\n",
              "      <td>M</td>\n",
              "      <td>49078</td>\n",
              "      <td>Suburban</td>\n",
              "      <td>Single</td>\n",
              "      <td>97</td>\n",
              "      <td>10.0</td>\n",
              "      <td>3</td>\n",
              "      <td>0.0</td>\n",
              "      <td>2</td>\n",
              "      <td>Corporate Auto</td>\n",
              "      <td>Corporate L3</td>\n",
              "      <td>Offer2</td>\n",
              "      <td>Branch</td>\n",
              "      <td>484.013411</td>\n",
              "      <td>Four-Door Car</td>\n",
              "      <td>Medsize</td>\n",
              "      <td>A</td>\n",
              "    </tr>\n",
              "    <tr>\n",
              "      <th>4</th>\n",
              "      <td>4</td>\n",
              "      <td>QA50777</td>\n",
              "      <td>Oregon</td>\n",
              "      <td>9025.067525</td>\n",
              "      <td>No</td>\n",
              "      <td>Premium</td>\n",
              "      <td>Bachelor</td>\n",
              "      <td>1/17/11</td>\n",
              "      <td>Medical Leave</td>\n",
              "      <td>F</td>\n",
              "      <td>23675</td>\n",
              "      <td>Suburban</td>\n",
              "      <td>Married</td>\n",
              "      <td>117</td>\n",
              "      <td>NaN</td>\n",
              "      <td>31</td>\n",
              "      <td>NaN</td>\n",
              "      <td>7</td>\n",
              "      <td>Personal Auto</td>\n",
              "      <td>Personal L2</td>\n",
              "      <td>Offer1</td>\n",
              "      <td>Branch</td>\n",
              "      <td>707.925645</td>\n",
              "      <td>Four-Door Car</td>\n",
              "      <td>Medsize</td>\n",
              "      <td>NaN</td>\n",
              "    </tr>\n",
              "  </tbody>\n",
              "</table>\n",
              "</div>"
            ],
            "text/plain": [
              "   unnamed:_0 customer       state  customer_lifetime_value response  \\\n",
              "0           0  DK49336     Arizona              4809.216960       No   \n",
              "1           1  KX64629  California              2228.525238       No   \n",
              "2           2  LZ68649  Washington             14947.917300       No   \n",
              "3           3  XL78013      Oregon             22332.439460      Yes   \n",
              "4           4  QA50777      Oregon              9025.067525       No   \n",
              "\n",
              "   coverage education effective_to_date employmentstatus gender  income  \\\n",
              "0     Basic   College           2/18/11         Employed      M   48029   \n",
              "1     Basic   College           1/18/11       Unemployed      F       0   \n",
              "2     Basic  Bachelor           2/10/11         Employed      M   22139   \n",
              "3  Extended   College           1/11/11         Employed      M   49078   \n",
              "4   Premium  Bachelor           1/17/11    Medical Leave      F   23675   \n",
              "\n",
              "  location_code marital_status  monthly_premium_auto  months_since_last_claim  \\\n",
              "0      Suburban        Married                    61                      7.0   \n",
              "1      Suburban         Single                    64                      3.0   \n",
              "2      Suburban         Single                   100                     34.0   \n",
              "3      Suburban         Single                    97                     10.0   \n",
              "4      Suburban        Married                   117                      NaN   \n",
              "\n",
              "   months_since_policy_inception  number_of_open_complaints  \\\n",
              "0                             52                        0.0   \n",
              "1                             26                        0.0   \n",
              "2                             31                        0.0   \n",
              "3                              3                        0.0   \n",
              "4                             31                        NaN   \n",
              "\n",
              "   number_of_policies     policy_type        policy renew_offer_type  \\\n",
              "0                   9  Corporate Auto  Corporate L3           Offer3   \n",
              "1                   1   Personal Auto   Personal L3           Offer4   \n",
              "2                   2   Personal Auto   Personal L3           Offer3   \n",
              "3                   2  Corporate Auto  Corporate L3           Offer2   \n",
              "4                   7   Personal Auto   Personal L2           Offer1   \n",
              "\n",
              "  sales_channel  total_claim_amount  vehicle_class vehicle_size vehicle_type  \n",
              "0         Agent          292.800000  Four-Door Car      Medsize          NaN  \n",
              "1   Call Center          744.924331  Four-Door Car      Medsize          NaN  \n",
              "2   Call Center          480.000000            SUV      Medsize            A  \n",
              "3        Branch          484.013411  Four-Door Car      Medsize            A  \n",
              "4        Branch          707.925645  Four-Door Car      Medsize          NaN  "
            ]
          },
          "execution_count": 97,
          "metadata": {},
          "output_type": "execute_result"
        }
      ],
      "source": [
        "df.head()\n",
        "\n",
        "\n"
      ]
    },
    {
      "cell_type": "code",
      "execution_count": 98,
      "id": "8f988bc1",
      "metadata": {},
      "outputs": [],
      "source": [
        "df.dropna(subset = ['customer', 'state', 'response', 'coverage', 'education', 'effective_to_date', 'employmentstatus'], inplace=True),\n",
        "df.dropna(subset = ['policy_type', 'policy', 'renew_offer_type', 'sales_channel',  'income', 'vehicle_class', 'vehicle_size'], inplace=True),\n",
        "df.dropna(subset = ['location_code', 'marital_status', 'customer_lifetime_value', 'monthly_premium_auto', 'total_claim_amount'], inplace=True)\n",
        "df.dropna(subset = ['months_since_last_claim', 'vehicle_type', 'gender', 'months_since_policy_inception', 'number_of_policies'], inplace=True)\n",
        "\n",
        "\n",
        "df['number_of_open_complaints'].fillna(0, inplace=True)\n",
        "\n",
        "#Got rid of all NaN values, except on the column of open complaints, in which it's better to have a 0 than to dispose of the whole row"
      ]
    },
    {
      "cell_type": "code",
      "execution_count": 100,
      "id": "da14b235",
      "metadata": {},
      "outputs": [
        {
          "data": {
            "text/plain": [
              "0"
            ]
          },
          "execution_count": 100,
          "metadata": {},
          "output_type": "execute_result"
        }
      ],
      "source": [
        "df.isna().sum().sum()\n",
        "\n",
        "#Checking there is no more NaNs"
      ]
    },
    {
      "cell_type": "code",
      "execution_count": 101,
      "id": "d9e51cfb",
      "metadata": {},
      "outputs": [],
      "source": [
        "df['total_claim_amount'] = df['total_claim_amount'].astype(int)"
      ]
    },
    {
      "cell_type": "code",
      "execution_count": 102,
      "id": "e6cd2ca7",
      "metadata": {},
      "outputs": [],
      "source": [
        "df2 = df[(df['total_claim_amount'] > 10000) & (df['response'] == 'Yes')]\n",
        "\n",
        "#We specify the conditions for the new DF"
      ]
    },
    {
      "cell_type": "code",
      "execution_count": 103,
      "id": "c6cc3122",
      "metadata": {},
      "outputs": [
        {
          "data": {
            "text/html": [
              "<div>\n",
              "<style scoped>\n",
              "    .dataframe tbody tr th:only-of-type {\n",
              "        vertical-align: middle;\n",
              "    }\n",
              "\n",
              "    .dataframe tbody tr th {\n",
              "        vertical-align: top;\n",
              "    }\n",
              "\n",
              "    .dataframe thead th {\n",
              "        text-align: right;\n",
              "    }\n",
              "</style>\n",
              "<table border=\"1\" class=\"dataframe\">\n",
              "  <thead>\n",
              "    <tr style=\"text-align: right;\">\n",
              "      <th></th>\n",
              "      <th>unnamed:_0</th>\n",
              "      <th>customer</th>\n",
              "      <th>state</th>\n",
              "      <th>customer_lifetime_value</th>\n",
              "      <th>response</th>\n",
              "      <th>coverage</th>\n",
              "      <th>education</th>\n",
              "      <th>effective_to_date</th>\n",
              "      <th>employmentstatus</th>\n",
              "      <th>gender</th>\n",
              "      <th>income</th>\n",
              "      <th>location_code</th>\n",
              "      <th>marital_status</th>\n",
              "      <th>monthly_premium_auto</th>\n",
              "      <th>months_since_last_claim</th>\n",
              "      <th>months_since_policy_inception</th>\n",
              "      <th>number_of_open_complaints</th>\n",
              "      <th>number_of_policies</th>\n",
              "      <th>policy_type</th>\n",
              "      <th>policy</th>\n",
              "      <th>renew_offer_type</th>\n",
              "      <th>sales_channel</th>\n",
              "      <th>total_claim_amount</th>\n",
              "      <th>vehicle_class</th>\n",
              "      <th>vehicle_size</th>\n",
              "      <th>vehicle_type</th>\n",
              "    </tr>\n",
              "  </thead>\n",
              "  <tbody>\n",
              "  </tbody>\n",
              "</table>\n",
              "</div>"
            ],
            "text/plain": [
              "Empty DataFrame\n",
              "Columns: [unnamed:_0, customer, state, customer_lifetime_value, response, coverage, education, effective_to_date, employmentstatus, gender, income, location_code, marital_status, monthly_premium_auto, months_since_last_claim, months_since_policy_inception, number_of_open_complaints, number_of_policies, policy_type, policy, renew_offer_type, sales_channel, total_claim_amount, vehicle_class, vehicle_size, vehicle_type]\n",
              "Index: []"
            ]
          },
          "execution_count": 103,
          "metadata": {},
          "output_type": "execute_result"
        }
      ],
      "source": [
        "df2.head()\n",
        "\n",
        "#Using the method 'head', we see that there is no customer that accomplish those conditions"
      ]
    },
    {
      "cell_type": "markdown",
      "id": "b9be383e-5165-436e-80c8-57d4c757c8c3",
      "metadata": {
        "id": "b9be383e-5165-436e-80c8-57d4c757c8c3"
      },
      "source": [
        "2. Using the original Dataframe, analyze the average total_claim_amount by each policy type and gender for customers who have responded \"Yes\" to the last marketing campaign. Write your conclusions."
      ]
    },
    {
      "cell_type": "code",
      "execution_count": 108,
      "id": "e8fafdb4",
      "metadata": {},
      "outputs": [],
      "source": [
        "dfyes = df.loc[df['response'] == 'Yes']\n",
        "\n",
        "#We created a new DF filtering only those rows with 'yes' in the 'response' column"
      ]
    },
    {
      "cell_type": "code",
      "execution_count": 114,
      "id": "3981fb17",
      "metadata": {},
      "outputs": [
        {
          "data": {
            "text/html": [
              "<div>\n",
              "<style scoped>\n",
              "    .dataframe tbody tr th:only-of-type {\n",
              "        vertical-align: middle;\n",
              "    }\n",
              "\n",
              "    .dataframe tbody tr th {\n",
              "        vertical-align: top;\n",
              "    }\n",
              "\n",
              "    .dataframe thead th {\n",
              "        text-align: right;\n",
              "    }\n",
              "</style>\n",
              "<table border=\"1\" class=\"dataframe\">\n",
              "  <thead>\n",
              "    <tr style=\"text-align: right;\">\n",
              "      <th></th>\n",
              "      <th></th>\n",
              "      <th></th>\n",
              "      <th>total_claim_amount</th>\n",
              "    </tr>\n",
              "    <tr>\n",
              "      <th>policy_type</th>\n",
              "      <th>gender</th>\n",
              "      <th>response</th>\n",
              "      <th></th>\n",
              "    </tr>\n",
              "  </thead>\n",
              "  <tbody>\n",
              "    <tr>\n",
              "      <th rowspan=\"2\" valign=\"top\">Corporate Auto</th>\n",
              "      <th>F</th>\n",
              "      <th>Yes</th>\n",
              "      <td>403.636364</td>\n",
              "    </tr>\n",
              "    <tr>\n",
              "      <th>M</th>\n",
              "      <th>Yes</th>\n",
              "      <td>390.852459</td>\n",
              "    </tr>\n",
              "    <tr>\n",
              "      <th rowspan=\"2\" valign=\"top\">Personal Auto</th>\n",
              "      <th>F</th>\n",
              "      <th>Yes</th>\n",
              "      <td>456.586364</td>\n",
              "    </tr>\n",
              "    <tr>\n",
              "      <th>M</th>\n",
              "      <th>Yes</th>\n",
              "      <td>472.071429</td>\n",
              "    </tr>\n",
              "    <tr>\n",
              "      <th rowspan=\"2\" valign=\"top\">Special Auto</th>\n",
              "      <th>F</th>\n",
              "      <th>Yes</th>\n",
              "      <td>495.235294</td>\n",
              "    </tr>\n",
              "    <tr>\n",
              "      <th>M</th>\n",
              "      <th>Yes</th>\n",
              "      <td>368.071429</td>\n",
              "    </tr>\n",
              "  </tbody>\n",
              "</table>\n",
              "</div>"
            ],
            "text/plain": [
              "                                total_claim_amount\n",
              "policy_type    gender response                    \n",
              "Corporate Auto F      Yes               403.636364\n",
              "               M      Yes               390.852459\n",
              "Personal Auto  F      Yes               456.586364\n",
              "               M      Yes               472.071429\n",
              "Special Auto   F      Yes               495.235294\n",
              "               M      Yes               368.071429"
            ]
          },
          "execution_count": 114,
          "metadata": {},
          "output_type": "execute_result"
        }
      ],
      "source": [
        "dfyes.groupby(['policy_type', 'gender', 'response'])[['total_claim_amount']].agg('mean')\n",
        "\n",
        "#Grouping the newly created DF by the specified indications"
      ]
    },
    {
      "cell_type": "markdown",
      "id": "7050f4ac-53c5-4193-a3c0-8699b87196f0",
      "metadata": {
        "id": "7050f4ac-53c5-4193-a3c0-8699b87196f0"
      },
      "source": [
        "3. Analyze the total number of customers who have policies in each state, and then filter the results to only include states where there are more than 500 customers."
      ]
    },
    {
      "cell_type": "code",
      "execution_count": 127,
      "id": "5a18cde1",
      "metadata": {},
      "outputs": [],
      "source": [
        "more500 = df['state'].value_counts()\n"
      ]
    },
    {
      "cell_type": "code",
      "execution_count": 126,
      "id": "9f98294f",
      "metadata": {},
      "outputs": [
        {
          "name": "stdout",
          "output_type": "stream",
          "text": [
            "state\n",
            "California    1552\n",
            "Oregon        1281\n",
            "Arizona        868\n",
            "Name: count, dtype: int64\n"
          ]
        }
      ],
      "source": [
        "more500 = more500[more500.values > 500]\n",
        "print(more500)"
      ]
    },
    {
      "cell_type": "markdown",
      "id": "b60a4443-a1a7-4bbf-b78e-9ccdf9895e0d",
      "metadata": {
        "id": "b60a4443-a1a7-4bbf-b78e-9ccdf9895e0d"
      },
      "source": [
        "4. Find the maximum, minimum, and median customer lifetime value by education level and gender. Write your conclusions."
      ]
    },
    {
      "cell_type": "code",
      "execution_count": 134,
      "id": "57a19c0f",
      "metadata": {},
      "outputs": [
        {
          "data": {
            "text/html": [
              "<div>\n",
              "<style scoped>\n",
              "    .dataframe tbody tr th:only-of-type {\n",
              "        vertical-align: middle;\n",
              "    }\n",
              "\n",
              "    .dataframe tbody tr th {\n",
              "        vertical-align: top;\n",
              "    }\n",
              "\n",
              "    .dataframe thead th {\n",
              "        text-align: right;\n",
              "    }\n",
              "</style>\n",
              "<table border=\"1\" class=\"dataframe\">\n",
              "  <thead>\n",
              "    <tr style=\"text-align: right;\">\n",
              "      <th></th>\n",
              "      <th></th>\n",
              "      <th>customer_lifetime_value</th>\n",
              "    </tr>\n",
              "    <tr>\n",
              "      <th>education</th>\n",
              "      <th>gender</th>\n",
              "      <th></th>\n",
              "    </tr>\n",
              "  </thead>\n",
              "  <tbody>\n",
              "    <tr>\n",
              "      <th rowspan=\"2\" valign=\"top\">Bachelor</th>\n",
              "      <th>F</th>\n",
              "      <td>8039.291389</td>\n",
              "    </tr>\n",
              "    <tr>\n",
              "      <th>M</th>\n",
              "      <td>8125.264831</td>\n",
              "    </tr>\n",
              "    <tr>\n",
              "      <th rowspan=\"2\" valign=\"top\">College</th>\n",
              "      <th>F</th>\n",
              "      <td>7798.083814</td>\n",
              "    </tr>\n",
              "    <tr>\n",
              "      <th>M</th>\n",
              "      <td>7984.296245</td>\n",
              "    </tr>\n",
              "    <tr>\n",
              "      <th rowspan=\"2\" valign=\"top\">Doctor</th>\n",
              "      <th>F</th>\n",
              "      <td>8475.302851</td>\n",
              "    </tr>\n",
              "    <tr>\n",
              "      <th>M</th>\n",
              "      <td>7659.742101</td>\n",
              "    </tr>\n",
              "    <tr>\n",
              "      <th rowspan=\"2\" valign=\"top\">High School or Below</th>\n",
              "      <th>F</th>\n",
              "      <td>8475.522665</td>\n",
              "    </tr>\n",
              "    <tr>\n",
              "      <th>M</th>\n",
              "      <td>7730.151093</td>\n",
              "    </tr>\n",
              "    <tr>\n",
              "      <th rowspan=\"2\" valign=\"top\">Master</th>\n",
              "      <th>F</th>\n",
              "      <td>8243.128850</td>\n",
              "    </tr>\n",
              "    <tr>\n",
              "      <th>M</th>\n",
              "      <td>8013.870033</td>\n",
              "    </tr>\n",
              "  </tbody>\n",
              "</table>\n",
              "</div>"
            ],
            "text/plain": [
              "                             customer_lifetime_value\n",
              "education            gender                         \n",
              "Bachelor             F                   8039.291389\n",
              "                     M                   8125.264831\n",
              "College              F                   7798.083814\n",
              "                     M                   7984.296245\n",
              "Doctor               F                   8475.302851\n",
              "                     M                   7659.742101\n",
              "High School or Below F                   8475.522665\n",
              "                     M                   7730.151093\n",
              "Master               F                   8243.128850\n",
              "                     M                   8013.870033"
            ]
          },
          "execution_count": 134,
          "metadata": {},
          "output_type": "execute_result"
        }
      ],
      "source": [
        "df.groupby(['education', 'gender'])[['customer_lifetime_value']].agg('mean')"
      ]
    },
    {
      "cell_type": "code",
      "execution_count": 135,
      "id": "f0d9e23f",
      "metadata": {},
      "outputs": [
        {
          "data": {
            "text/html": [
              "<div>\n",
              "<style scoped>\n",
              "    .dataframe tbody tr th:only-of-type {\n",
              "        vertical-align: middle;\n",
              "    }\n",
              "\n",
              "    .dataframe tbody tr th {\n",
              "        vertical-align: top;\n",
              "    }\n",
              "\n",
              "    .dataframe thead th {\n",
              "        text-align: right;\n",
              "    }\n",
              "</style>\n",
              "<table border=\"1\" class=\"dataframe\">\n",
              "  <thead>\n",
              "    <tr style=\"text-align: right;\">\n",
              "      <th></th>\n",
              "      <th></th>\n",
              "      <th>customer_lifetime_value</th>\n",
              "    </tr>\n",
              "    <tr>\n",
              "      <th>education</th>\n",
              "      <th>gender</th>\n",
              "      <th></th>\n",
              "    </tr>\n",
              "  </thead>\n",
              "  <tbody>\n",
              "    <tr>\n",
              "      <th rowspan=\"2\" valign=\"top\">Bachelor</th>\n",
              "      <th>F</th>\n",
              "      <td>58753.88046</td>\n",
              "    </tr>\n",
              "    <tr>\n",
              "      <th>M</th>\n",
              "      <td>67907.27050</td>\n",
              "    </tr>\n",
              "    <tr>\n",
              "      <th rowspan=\"2\" valign=\"top\">College</th>\n",
              "      <th>F</th>\n",
              "      <td>61850.18803</td>\n",
              "    </tr>\n",
              "    <tr>\n",
              "      <th>M</th>\n",
              "      <td>44795.46942</td>\n",
              "    </tr>\n",
              "    <tr>\n",
              "      <th rowspan=\"2\" valign=\"top\">Doctor</th>\n",
              "      <th>F</th>\n",
              "      <td>44856.11397</td>\n",
              "    </tr>\n",
              "    <tr>\n",
              "      <th>M</th>\n",
              "      <td>32677.34284</td>\n",
              "    </tr>\n",
              "    <tr>\n",
              "      <th rowspan=\"2\" valign=\"top\">High School or Below</th>\n",
              "      <th>F</th>\n",
              "      <td>55277.44589</td>\n",
              "    </tr>\n",
              "    <tr>\n",
              "      <th>M</th>\n",
              "      <td>83325.38119</td>\n",
              "    </tr>\n",
              "    <tr>\n",
              "      <th rowspan=\"2\" valign=\"top\">Master</th>\n",
              "      <th>F</th>\n",
              "      <td>51016.06704</td>\n",
              "    </tr>\n",
              "    <tr>\n",
              "      <th>M</th>\n",
              "      <td>50568.25912</td>\n",
              "    </tr>\n",
              "  </tbody>\n",
              "</table>\n",
              "</div>"
            ],
            "text/plain": [
              "                             customer_lifetime_value\n",
              "education            gender                         \n",
              "Bachelor             F                   58753.88046\n",
              "                     M                   67907.27050\n",
              "College              F                   61850.18803\n",
              "                     M                   44795.46942\n",
              "Doctor               F                   44856.11397\n",
              "                     M                   32677.34284\n",
              "High School or Below F                   55277.44589\n",
              "                     M                   83325.38119\n",
              "Master               F                   51016.06704\n",
              "                     M                   50568.25912"
            ]
          },
          "execution_count": 135,
          "metadata": {},
          "output_type": "execute_result"
        }
      ],
      "source": [
        "df.groupby(['education', 'gender'])[['customer_lifetime_value']].agg('max')"
      ]
    },
    {
      "cell_type": "code",
      "execution_count": 136,
      "id": "4825cd97",
      "metadata": {},
      "outputs": [
        {
          "data": {
            "text/html": [
              "<div>\n",
              "<style scoped>\n",
              "    .dataframe tbody tr th:only-of-type {\n",
              "        vertical-align: middle;\n",
              "    }\n",
              "\n",
              "    .dataframe tbody tr th {\n",
              "        vertical-align: top;\n",
              "    }\n",
              "\n",
              "    .dataframe thead th {\n",
              "        text-align: right;\n",
              "    }\n",
              "</style>\n",
              "<table border=\"1\" class=\"dataframe\">\n",
              "  <thead>\n",
              "    <tr style=\"text-align: right;\">\n",
              "      <th></th>\n",
              "      <th></th>\n",
              "      <th>customer_lifetime_value</th>\n",
              "    </tr>\n",
              "    <tr>\n",
              "      <th>education</th>\n",
              "      <th>gender</th>\n",
              "      <th></th>\n",
              "    </tr>\n",
              "  </thead>\n",
              "  <tbody>\n",
              "    <tr>\n",
              "      <th rowspan=\"2\" valign=\"top\">Bachelor</th>\n",
              "      <th>F</th>\n",
              "      <td>1904.000852</td>\n",
              "    </tr>\n",
              "    <tr>\n",
              "      <th>M</th>\n",
              "      <td>2030.783687</td>\n",
              "    </tr>\n",
              "    <tr>\n",
              "      <th rowspan=\"2\" valign=\"top\">College</th>\n",
              "      <th>F</th>\n",
              "      <td>2004.350666</td>\n",
              "    </tr>\n",
              "    <tr>\n",
              "      <th>M</th>\n",
              "      <td>1918.119700</td>\n",
              "    </tr>\n",
              "    <tr>\n",
              "      <th rowspan=\"2\" valign=\"top\">Doctor</th>\n",
              "      <th>F</th>\n",
              "      <td>2395.570000</td>\n",
              "    </tr>\n",
              "    <tr>\n",
              "      <th>M</th>\n",
              "      <td>2267.604038</td>\n",
              "    </tr>\n",
              "    <tr>\n",
              "      <th rowspan=\"2\" valign=\"top\">High School or Below</th>\n",
              "      <th>F</th>\n",
              "      <td>2150.178588</td>\n",
              "    </tr>\n",
              "    <tr>\n",
              "      <th>M</th>\n",
              "      <td>2132.771675</td>\n",
              "    </tr>\n",
              "    <tr>\n",
              "      <th rowspan=\"2\" valign=\"top\">Master</th>\n",
              "      <th>F</th>\n",
              "      <td>2417.777032</td>\n",
              "    </tr>\n",
              "    <tr>\n",
              "      <th>M</th>\n",
              "      <td>2357.503128</td>\n",
              "    </tr>\n",
              "  </tbody>\n",
              "</table>\n",
              "</div>"
            ],
            "text/plain": [
              "                             customer_lifetime_value\n",
              "education            gender                         \n",
              "Bachelor             F                   1904.000852\n",
              "                     M                   2030.783687\n",
              "College              F                   2004.350666\n",
              "                     M                   1918.119700\n",
              "Doctor               F                   2395.570000\n",
              "                     M                   2267.604038\n",
              "High School or Below F                   2150.178588\n",
              "                     M                   2132.771675\n",
              "Master               F                   2417.777032\n",
              "                     M                   2357.503128"
            ]
          },
          "execution_count": 136,
          "metadata": {},
          "output_type": "execute_result"
        }
      ],
      "source": [
        "df.groupby(['education', 'gender'])[['customer_lifetime_value']].agg('min')"
      ]
    },
    {
      "cell_type": "code",
      "execution_count": null,
      "id": "f57a2a15",
      "metadata": {},
      "outputs": [],
      "source": [
        "'''\n",
        "From the information extracted above, we can see that there is not that much of a difference between the lifetime value between genders or\n",
        "level of education, but we can see that the means are all closer to their minimum value than to it's maximum value, which means there is a \n",
        "positive skew in the lifetime value variable.\n",
        "'''"
      ]
    },
    {
      "cell_type": "markdown",
      "id": "b42999f9-311f-481e-ae63-40a5577072c5",
      "metadata": {
        "id": "b42999f9-311f-481e-ae63-40a5577072c5"
      },
      "source": [
        "## Bonus"
      ]
    },
    {
      "cell_type": "markdown",
      "id": "81ff02c5-6584-4f21-a358-b918697c6432",
      "metadata": {
        "id": "81ff02c5-6584-4f21-a358-b918697c6432"
      },
      "source": [
        "5. The marketing team wants to analyze the number of policies sold by state and month. Present the data in a table where the months are arranged as columns and the states are arranged as rows."
      ]
    },
    {
      "cell_type": "markdown",
      "id": "b6aec097-c633-4017-a125-e77a97259cda",
      "metadata": {
        "id": "b6aec097-c633-4017-a125-e77a97259cda"
      },
      "source": [
        "6.  Display a new DataFrame that contains the number of policies sold by month, by state, for the top 3 states with the highest number of policies sold.\n",
        "\n",
        "*Hint:*\n",
        "- *To accomplish this, you will first need to group the data by state and month, then count the number of policies sold for each group. Afterwards, you will need to sort the data by the count of policies sold in descending order.*\n",
        "- *Next, you will select the top 3 states with the highest number of policies sold.*\n",
        "- *Finally, you will create a new DataFrame that contains the number of policies sold by month for each of the top 3 states.*"
      ]
    },
    {
      "cell_type": "markdown",
      "id": "ba975b8a-a2cf-4fbf-9f59-ebc381767009",
      "metadata": {
        "id": "ba975b8a-a2cf-4fbf-9f59-ebc381767009"
      },
      "source": [
        "7. The marketing team wants to analyze the effect of different marketing channels on the customer response rate.\n",
        "\n",
        "Hint: You can use melt to unpivot the data and create a table that shows the customer response rate (those who responded \"Yes\") by marketing channel."
      ]
    },
    {
      "cell_type": "markdown",
      "id": "e4378d94-48fb-4850-a802-b1bc8f427b2d",
      "metadata": {
        "id": "e4378d94-48fb-4850-a802-b1bc8f427b2d"
      },
      "source": [
        "External Resources for Data Filtering: https://towardsdatascience.com/filtering-data-frames-in-pandas-b570b1f834b9"
      ]
    },
    {
      "cell_type": "code",
      "execution_count": null,
      "id": "449513f4-0459-46a0-a18d-9398d974c9ad",
      "metadata": {
        "id": "449513f4-0459-46a0-a18d-9398d974c9ad"
      },
      "outputs": [],
      "source": [
        "# your code goes here"
      ]
    }
  ],
  "metadata": {
    "colab": {
      "provenance": []
    },
    "kernelspec": {
      "display_name": "Python 3 (ipykernel)",
      "language": "python",
      "name": "python3"
    },
    "language_info": {
      "codemirror_mode": {
        "name": "ipython",
        "version": 3
      },
      "file_extension": ".py",
      "mimetype": "text/x-python",
      "name": "python",
      "nbconvert_exporter": "python",
      "pygments_lexer": "ipython3",
      "version": "3.11.7"
    }
  },
  "nbformat": 4,
  "nbformat_minor": 5
}
