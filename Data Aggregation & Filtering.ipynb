{
 "cells": [
  {
   "cell_type": "code",
   "execution_count": 1,
   "metadata": {},
   "outputs": [
    {
     "name": "stdout",
     "output_type": "stream",
     "text": [
      "   Unnamed: 0 Customer       State  Customer Lifetime Value Response  \\\n",
      "0           0  DK49336     Arizona              4809.216960       No   \n",
      "1           1  KX64629  California              2228.525238       No   \n",
      "2           2  LZ68649  Washington             14947.917300       No   \n",
      "3           3  XL78013      Oregon             22332.439460      Yes   \n",
      "4           4  QA50777      Oregon              9025.067525       No   \n",
      "\n",
      "   Coverage Education Effective To Date EmploymentStatus Gender  ...  \\\n",
      "0     Basic   College           2/18/11         Employed      M  ...   \n",
      "1     Basic   College           1/18/11       Unemployed      F  ...   \n",
      "2     Basic  Bachelor           2/10/11         Employed      M  ...   \n",
      "3  Extended   College           1/11/11         Employed      M  ...   \n",
      "4   Premium  Bachelor           1/17/11    Medical Leave      F  ...   \n",
      "\n",
      "   Number of Open Complaints Number of Policies     Policy Type        Policy  \\\n",
      "0                        0.0                  9  Corporate Auto  Corporate L3   \n",
      "1                        0.0                  1   Personal Auto   Personal L3   \n",
      "2                        0.0                  2   Personal Auto   Personal L3   \n",
      "3                        0.0                  2  Corporate Auto  Corporate L3   \n",
      "4                        NaN                  7   Personal Auto   Personal L2   \n",
      "\n",
      "   Renew Offer Type  Sales Channel  Total Claim Amount  Vehicle Class  \\\n",
      "0            Offer3          Agent          292.800000  Four-Door Car   \n",
      "1            Offer4    Call Center          744.924331  Four-Door Car   \n",
      "2            Offer3    Call Center          480.000000            SUV   \n",
      "3            Offer2         Branch          484.013411  Four-Door Car   \n",
      "4            Offer1         Branch          707.925645  Four-Door Car   \n",
      "\n",
      "  Vehicle Size Vehicle Type  \n",
      "0      Medsize          NaN  \n",
      "1      Medsize          NaN  \n",
      "2      Medsize            A  \n",
      "3      Medsize            A  \n",
      "4      Medsize          NaN  \n",
      "\n",
      "[5 rows x 26 columns]\n",
      "Index(['Unnamed: 0', 'Customer', 'State', 'Customer Lifetime Value',\n",
      "       'Response', 'Coverage', 'Education', 'Effective To Date',\n",
      "       'EmploymentStatus', 'Gender', 'Income', 'Location Code',\n",
      "       'Marital Status', 'Monthly Premium Auto', 'Months Since Last Claim',\n",
      "       'Months Since Policy Inception', 'Number of Open Complaints',\n",
      "       'Number of Policies', 'Policy Type', 'Policy', 'Renew Offer Type',\n",
      "       'Sales Channel', 'Total Claim Amount', 'Vehicle Class', 'Vehicle Size',\n",
      "       'Vehicle Type'],\n",
      "      dtype='object')\n"
     ]
    }
   ],
   "source": [
    "import pandas as pd\n",
    "import numpy as np\n",
    "\n",
    "# Load the marketing customer data\n",
    "url = \"https://raw.githubusercontent.com/data-bootcamp-v4/data/main/marketing_customer_analysis.csv\"\n",
    "df = pd.read_csv(url)\n",
    "\n",
    "print(df.head())\n",
    "print(df.columns)\n"
   ]
  },
  {
   "cell_type": "code",
   "execution_count": 7,
   "metadata": {},
   "outputs": [
    {
     "name": "stdout",
     "output_type": "stream",
     "text": [
      "Filtered DataFrame shape: (67, 26)\n",
      "     Unnamed: 0 Customer       State  Customer Lifetime Value Response  \\\n",
      "189         189  OK31456  California             11009.130490      Yes   \n",
      "236         236  YJ16163      Oregon             11009.130490      Yes   \n",
      "419         419  GW43195      Oregon             25807.063000      Yes   \n",
      "442         442  IP94270     Arizona             13736.132500      Yes   \n",
      "587         587  FJ28407  California              5619.689084      Yes   \n",
      "\n",
      "     Coverage             Education Effective To Date EmploymentStatus Gender  \\\n",
      "189   Premium              Bachelor           1/24/11         Employed      F   \n",
      "236   Premium              Bachelor           1/24/11         Employed      F   \n",
      "419  Extended               College           2/13/11         Employed      F   \n",
      "442   Premium                Master           2/13/11         Disabled      F   \n",
      "587   Premium  High School or Below           1/26/11       Unemployed      M   \n",
      "\n",
      "     ...  Number of Open Complaints Number of Policies     Policy Type  \\\n",
      "189  ...                        0.0                  1  Corporate Auto   \n",
      "236  ...                        0.0                  1    Special Auto   \n",
      "419  ...                        1.0                  2   Personal Auto   \n",
      "442  ...                        0.0                  8   Personal Auto   \n",
      "587  ...                        0.0                  1   Personal Auto   \n",
      "\n",
      "           Policy  Renew Offer Type  Sales Channel  Total Claim Amount  \\\n",
      "189  Corporate L3            Offer2          Agent         1358.400000   \n",
      "236    Special L3            Offer2          Agent         1358.400000   \n",
      "419   Personal L2            Offer1         Branch         1027.200000   \n",
      "442   Personal L2            Offer1            Web         1261.319869   \n",
      "587   Personal L1            Offer2            Web         1027.000029   \n",
      "\n",
      "     Vehicle Class Vehicle Size Vehicle Type  \n",
      "189     Luxury Car      Medsize          NaN  \n",
      "236     Luxury Car      Medsize            A  \n",
      "419     Luxury Car        Small            A  \n",
      "442            SUV      Medsize            A  \n",
      "587            SUV      Medsize            A  \n",
      "\n",
      "[5 rows x 26 columns]\n"
     ]
    }
   ],
   "source": [
    "# Filter for customers with total_claim_amount > 1000 and response \"Yes\"\n",
    "df_filtered = df[(df['Total Claim Amount'] > 1000) & (df['Response'] == \"Yes\")]\n",
    "print(\"Filtered DataFrame shape:\", df_filtered.shape)\n",
    "print(df_filtered.head())\n"
   ]
  },
  {
   "cell_type": "code",
   "execution_count": 9,
   "metadata": {},
   "outputs": [
    {
     "name": "stdout",
     "output_type": "stream",
     "text": [
      "Average Total Claim Amount by Policy Type and Gender (for Response = 'Yes'):\n",
      "      Policy Type Gender  Total Claim Amount\n",
      "0  Corporate Auto      F              433.74\n",
      "1  Corporate Auto      M              408.58\n",
      "2   Personal Auto      F              452.97\n",
      "3   Personal Auto      M              457.01\n",
      "4    Special Auto      F              453.28\n",
      "5    Special Auto      M              429.53\n"
     ]
    }
   ],
   "source": [
    "# First, filter the original DataFrame for customers who responded \"Yes\"\n",
    "df_response_yes = df[df['Response'] == \"Yes\"]\n",
    "\n",
    "# Group by policy_type and gender, and calculate the average total_claim_amount\n",
    "avg_claim = (df_response_yes\n",
    "             .groupby(['Policy Type', 'Gender'])['Total Claim Amount']\n",
    "             .mean()\n",
    "             .round(2)\n",
    "             .reset_index())\n",
    "\n",
    "print(\"Average Total Claim Amount by Policy Type and Gender (for Response = 'Yes'):\")\n",
    "print(avg_claim)\n"
   ]
  },
  {
   "cell_type": "code",
   "execution_count": 11,
   "metadata": {},
   "outputs": [
    {
     "name": "stdout",
     "output_type": "stream",
     "text": [
      "States with more than 500 customers:\n",
      "        State  Customer Count\n",
      "0     Arizona            1937\n",
      "1  California            3552\n",
      "2      Nevada             993\n",
      "3      Oregon            2909\n",
      "4  Washington             888\n"
     ]
    }
   ],
   "source": [
    "# Count the number of customers per state (each row represents one customer)\n",
    "customers_by_state = df.groupby('State').size().reset_index(name='Customer Count')\n",
    "\n",
    "# Filter to include only states with more than 500 customers\n",
    "states_over_500 = customers_by_state[customers_by_state['Customer Count'] > 500]\n",
    "print(\"States with more than 500 customers:\")\n",
    "print(states_over_500)\n"
   ]
  },
  {
   "cell_type": "code",
   "execution_count": 12,
   "metadata": {},
   "outputs": [
    {
     "name": "stdout",
     "output_type": "stream",
     "text": [
      "Customer Lifetime Value Stats by Education and Gender:\n",
      "              Education Gender          max          min   median\n",
      "0              Bachelor      F  73225.95652  1904.000852  5640.51\n",
      "1              Bachelor      M  67907.27050  1898.007675  5548.03\n",
      "2               College      F  61850.18803  1898.683686  5623.61\n",
      "3               College      M  61134.68307  1918.119700  6005.85\n",
      "4                Doctor      F  44856.11397  2395.570000  5332.46\n",
      "5                Doctor      M  32677.34284  2267.604038  5577.67\n",
      "6  High School or Below      F  55277.44589  2144.921535  6039.55\n",
      "7  High School or Below      M  83325.38119  1940.981221  6286.73\n",
      "8                Master      F  51016.06704  2417.777032  5729.86\n",
      "9                Master      M  50568.25912  2272.307310  5579.10\n"
     ]
    }
   ],
   "source": [
    "# Group by education and gender, and calculate max, min, and median for customer_lifetime_value\n",
    "ltv_stats = (df.groupby(['Education', 'Gender'])['Customer Lifetime Value']\n",
    "             .agg(['max', 'min', 'median'])\n",
    "             .reset_index())\n",
    "\n",
    "# Round median for better readability\n",
    "ltv_stats['median'] = ltv_stats['median'].round(2)\n",
    "print(\"Customer Lifetime Value Stats by Education and Gender:\")\n",
    "print(ltv_stats)\n"
   ]
  },
  {
   "cell_type": "code",
   "execution_count": null,
   "metadata": {},
   "outputs": [],
   "source": []
  }
 ],
 "metadata": {
  "kernelspec": {
   "display_name": "base",
   "language": "python",
   "name": "python3"
  },
  "language_info": {
   "codemirror_mode": {
    "name": "ipython",
    "version": 3
   },
   "file_extension": ".py",
   "mimetype": "text/x-python",
   "name": "python",
   "nbconvert_exporter": "python",
   "pygments_lexer": "ipython3",
   "version": "3.12.7"
  }
 },
 "nbformat": 4,
 "nbformat_minor": 2
}
