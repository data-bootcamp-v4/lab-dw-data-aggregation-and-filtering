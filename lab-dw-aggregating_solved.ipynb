{
  "cells": [
    {
      "cell_type": "markdown",
      "id": "31969215-2a90-4d8b-ac36-646a7ae13744",
      "metadata": {
        "id": "31969215-2a90-4d8b-ac36-646a7ae13744"
      },
      "source": [
        "# Lab | Data Aggregation and Filtering"
      ]
    },
    {
      "cell_type": "markdown",
      "id": "a8f08a52-bec0-439b-99cc-11d3809d8b5d",
      "metadata": {
        "id": "a8f08a52-bec0-439b-99cc-11d3809d8b5d"
      },
      "source": [
        "In this challenge, we will continue to work with customer data from an insurance company. We will use the dataset called marketing_customer_analysis.csv, which can be found at the following link:\n",
        "\n",
        "https://raw.githubusercontent.com/data-bootcamp-v4/data/main/marketing_customer_analysis.csv\n",
        "\n",
        "This dataset contains information such as customer demographics, policy details, vehicle information, and the customer's response to the last marketing campaign. Our goal is to explore and analyze this data by first performing data cleaning, formatting, and structuring."
      ]
    },
    {
      "cell_type": "code",
      "execution_count": 7,
      "id": "424d6c2c",
      "metadata": {},
      "outputs": [],
      "source": [
        "import pandas as pd\n",
        "marketing_customer_analysis = pd.read_csv(\"https://raw.githubusercontent.com/data-bootcamp-v4/data/main/marketing_customer_analysis.csv\")"
      ]
    },
    {
      "cell_type": "code",
      "execution_count": 14,
      "id": "251a062c",
      "metadata": {},
      "outputs": [
        {
          "data": {
            "text/html": [
              "<div>\n",
              "<style scoped>\n",
              "    .dataframe tbody tr th:only-of-type {\n",
              "        vertical-align: middle;\n",
              "    }\n",
              "\n",
              "    .dataframe tbody tr th {\n",
              "        vertical-align: top;\n",
              "    }\n",
              "\n",
              "    .dataframe thead th {\n",
              "        text-align: right;\n",
              "    }\n",
              "</style>\n",
              "<table border=\"1\" class=\"dataframe\">\n",
              "  <thead>\n",
              "    <tr style=\"text-align: right;\">\n",
              "      <th></th>\n",
              "      <th>Unnamed: 0</th>\n",
              "      <th>Customer</th>\n",
              "      <th>State</th>\n",
              "      <th>Customer Lifetime Value</th>\n",
              "      <th>Response</th>\n",
              "      <th>Coverage</th>\n",
              "      <th>Education</th>\n",
              "      <th>Effective To Date</th>\n",
              "      <th>EmploymentStatus</th>\n",
              "      <th>Gender</th>\n",
              "      <th>...</th>\n",
              "      <th>Number of Open Complaints</th>\n",
              "      <th>Number of Policies</th>\n",
              "      <th>Policy Type</th>\n",
              "      <th>Policy</th>\n",
              "      <th>Renew Offer Type</th>\n",
              "      <th>Sales Channel</th>\n",
              "      <th>Total Claim Amount</th>\n",
              "      <th>Vehicle Class</th>\n",
              "      <th>Vehicle Size</th>\n",
              "      <th>Vehicle Type</th>\n",
              "    </tr>\n",
              "  </thead>\n",
              "  <tbody>\n",
              "    <tr>\n",
              "      <th>0</th>\n",
              "      <td>0</td>\n",
              "      <td>DK49336</td>\n",
              "      <td>Arizona</td>\n",
              "      <td>4809.216960</td>\n",
              "      <td>No</td>\n",
              "      <td>Basic</td>\n",
              "      <td>College</td>\n",
              "      <td>2/18/11</td>\n",
              "      <td>Employed</td>\n",
              "      <td>M</td>\n",
              "      <td>...</td>\n",
              "      <td>0.0</td>\n",
              "      <td>9</td>\n",
              "      <td>Corporate Auto</td>\n",
              "      <td>Corporate L3</td>\n",
              "      <td>Offer3</td>\n",
              "      <td>Agent</td>\n",
              "      <td>292.800000</td>\n",
              "      <td>Four-Door Car</td>\n",
              "      <td>Medsize</td>\n",
              "      <td>NaN</td>\n",
              "    </tr>\n",
              "    <tr>\n",
              "      <th>1</th>\n",
              "      <td>1</td>\n",
              "      <td>KX64629</td>\n",
              "      <td>California</td>\n",
              "      <td>2228.525238</td>\n",
              "      <td>No</td>\n",
              "      <td>Basic</td>\n",
              "      <td>College</td>\n",
              "      <td>1/18/11</td>\n",
              "      <td>Unemployed</td>\n",
              "      <td>F</td>\n",
              "      <td>...</td>\n",
              "      <td>0.0</td>\n",
              "      <td>1</td>\n",
              "      <td>Personal Auto</td>\n",
              "      <td>Personal L3</td>\n",
              "      <td>Offer4</td>\n",
              "      <td>Call Center</td>\n",
              "      <td>744.924331</td>\n",
              "      <td>Four-Door Car</td>\n",
              "      <td>Medsize</td>\n",
              "      <td>NaN</td>\n",
              "    </tr>\n",
              "  </tbody>\n",
              "</table>\n",
              "<p>2 rows × 26 columns</p>\n",
              "</div>"
            ],
            "text/plain": [
              "   Unnamed: 0 Customer       State  Customer Lifetime Value Response Coverage  \\\n",
              "0           0  DK49336     Arizona              4809.216960       No    Basic   \n",
              "1           1  KX64629  California              2228.525238       No    Basic   \n",
              "\n",
              "  Education Effective To Date EmploymentStatus Gender  ...  \\\n",
              "0   College           2/18/11         Employed      M  ...   \n",
              "1   College           1/18/11       Unemployed      F  ...   \n",
              "\n",
              "   Number of Open Complaints Number of Policies     Policy Type        Policy  \\\n",
              "0                        0.0                  9  Corporate Auto  Corporate L3   \n",
              "1                        0.0                  1   Personal Auto   Personal L3   \n",
              "\n",
              "   Renew Offer Type  Sales Channel  Total Claim Amount  Vehicle Class  \\\n",
              "0            Offer3          Agent          292.800000  Four-Door Car   \n",
              "1            Offer4    Call Center          744.924331  Four-Door Car   \n",
              "\n",
              "  Vehicle Size Vehicle Type  \n",
              "0      Medsize          NaN  \n",
              "1      Medsize          NaN  \n",
              "\n",
              "[2 rows x 26 columns]"
            ]
          },
          "execution_count": 14,
          "metadata": {},
          "output_type": "execute_result"
        }
      ],
      "source": [
        "marketing_customer_analysis.head(2)\n"
      ]
    },
    {
      "cell_type": "code",
      "execution_count": 15,
      "id": "3239f0ce",
      "metadata": {},
      "outputs": [
        {
          "name": "stdout",
          "output_type": "stream",
          "text": [
            "Index(['Unnamed: 0', 'Customer', 'State', 'Customer Lifetime Value',\n",
            "       'Response', 'Coverage', 'Education', 'Effective To Date',\n",
            "       'EmploymentStatus', 'Gender', 'Income', 'Location Code',\n",
            "       'Marital Status', 'Monthly Premium Auto', 'Months Since Last Claim',\n",
            "       'Months Since Policy Inception', 'Number of Open Complaints',\n",
            "       'Number of Policies', 'Policy Type', 'Policy', 'Renew Offer Type',\n",
            "       'Sales Channel', 'Total Claim Amount', 'Vehicle Class', 'Vehicle Size',\n",
            "       'Vehicle Type'],\n",
            "      dtype='object')\n"
          ]
        }
      ],
      "source": [
        "print(marketing_customer_analysis.columns)"
      ]
    },
    {
      "cell_type": "markdown",
      "id": "9c98ddc5-b041-4c94-ada1-4dfee5c98e50",
      "metadata": {
        "id": "9c98ddc5-b041-4c94-ada1-4dfee5c98e50"
      },
      "source": [
        "1. Create a new DataFrame that only includes customers who have a total_claim_amount greater than $1,000 and have a response of \"Yes\" to the last marketing campaign."
      ]
    },
    {
      "cell_type": "code",
      "execution_count": 19,
      "id": "47cdf165",
      "metadata": {},
      "outputs": [],
      "source": [
        "claims_greater_100 = marketing_customer_analysis.loc[\n",
        "    ((marketing_customer_analysis[\"Total Claim Amount\"]>1000)&\n",
        "    (marketing_customer_analysis[\"Response\"]==\"Yes\"))\n",
        "    ]"
      ]
    },
    {
      "cell_type": "markdown",
      "id": "b9be383e-5165-436e-80c8-57d4c757c8c3",
      "metadata": {
        "id": "b9be383e-5165-436e-80c8-57d4c757c8c3"
      },
      "source": [
        "2. Using the original Dataframe, analyze the average total_claim_amount by each policy type and gender for customers who have responded \"Yes\" to the last marketing campaign. Write your conclusions."
      ]
    },
    {
      "cell_type": "code",
      "execution_count": 29,
      "id": "c6a0a305",
      "metadata": {},
      "outputs": [
        {
          "data": {
            "text/plain": [
              "447.06"
            ]
          },
          "execution_count": 29,
          "metadata": {},
          "output_type": "execute_result"
        }
      ],
      "source": [
        "mean_claim_yes_response = marketing_customer_analysis.loc[\n",
        "    (marketing_customer_analysis[\"Response\"]==\"Yes\"),\n",
        "    \"Total Claim Amount\"].mean().round(2)\n"
      ]
    },
    {
      "cell_type": "markdown",
      "id": "7050f4ac-53c5-4193-a3c0-8699b87196f0",
      "metadata": {
        "id": "7050f4ac-53c5-4193-a3c0-8699b87196f0"
      },
      "source": [
        "3. Analyze the total number of customers who have policies in each state, and then filter the results to only include states where there are more than 500 customers."
      ]
    },
    {
      "cell_type": "code",
      "execution_count": 53,
      "id": "ad5881dc",
      "metadata": {},
      "outputs": [
        {
          "data": {
            "text/html": [
              "<div>\n",
              "<style scoped>\n",
              "    .dataframe tbody tr th:only-of-type {\n",
              "        vertical-align: middle;\n",
              "    }\n",
              "\n",
              "    .dataframe tbody tr th {\n",
              "        vertical-align: top;\n",
              "    }\n",
              "\n",
              "    .dataframe thead th {\n",
              "        text-align: right;\n",
              "    }\n",
              "</style>\n",
              "<table border=\"1\" class=\"dataframe\">\n",
              "  <thead>\n",
              "    <tr style=\"text-align: right;\">\n",
              "      <th>Policy Type</th>\n",
              "      <th>Corporate Auto</th>\n",
              "      <th>Personal Auto</th>\n",
              "      <th>Special Auto</th>\n",
              "    </tr>\n",
              "    <tr>\n",
              "      <th>State</th>\n",
              "      <th></th>\n",
              "      <th></th>\n",
              "      <th></th>\n",
              "    </tr>\n",
              "  </thead>\n",
              "  <tbody>\n",
              "    <tr>\n",
              "      <th>Arizona</th>\n",
              "      <td>381</td>\n",
              "      <td>1469</td>\n",
              "      <td>87</td>\n",
              "    </tr>\n",
              "    <tr>\n",
              "      <th>California</th>\n",
              "      <td>835</td>\n",
              "      <td>2594</td>\n",
              "      <td>123</td>\n",
              "    </tr>\n",
              "    <tr>\n",
              "      <th>Nevada</th>\n",
              "      <td>219</td>\n",
              "      <td>739</td>\n",
              "      <td>35</td>\n",
              "    </tr>\n",
              "    <tr>\n",
              "      <th>Oregon</th>\n",
              "      <td>592</td>\n",
              "      <td>2180</td>\n",
              "      <td>137</td>\n",
              "    </tr>\n",
              "    <tr>\n",
              "      <th>Washington</th>\n",
              "      <td>175</td>\n",
              "      <td>682</td>\n",
              "      <td>31</td>\n",
              "    </tr>\n",
              "  </tbody>\n",
              "</table>\n",
              "</div>"
            ],
            "text/plain": [
              "Policy Type  Corporate Auto  Personal Auto  Special Auto\n",
              "State                                                   \n",
              "Arizona                 381           1469            87\n",
              "California              835           2594           123\n",
              "Nevada                  219            739            35\n",
              "Oregon                  592           2180           137\n",
              "Washington              175            682            31"
            ]
          },
          "execution_count": 53,
          "metadata": {},
          "output_type": "execute_result"
        }
      ],
      "source": [
        "customers_greater_500 = pd.pivot_table(marketing_customer_analysis, index = \"State\", values = \"Customer\", columns=[\"Policy Type\"], aggfunc=\"count\")\n",
        "\n",
        "customers_greater_500.loc[\n",
        "    ((customers_greater_500[\"Corporate Auto\"]>500)|\n",
        "    (customers_greater_500[\"Personal Auto\"]>500)|\n",
        "    (customers_greater_500[\"Special Auto\"]>500))\n",
        "]"
      ]
    },
    {
      "cell_type": "markdown",
      "id": "b60a4443-a1a7-4bbf-b78e-9ccdf9895e0d",
      "metadata": {
        "id": "b60a4443-a1a7-4bbf-b78e-9ccdf9895e0d"
      },
      "source": [
        "4. Find the maximum, minimum, and median customer lifetime value by education level and gender. Write your conclusions."
      ]
    },
    {
      "cell_type": "code",
      "execution_count": 58,
      "id": "3899a722",
      "metadata": {},
      "outputs": [
        {
          "data": {
            "text/html": [
              "<div>\n",
              "<style scoped>\n",
              "    .dataframe tbody tr th:only-of-type {\n",
              "        vertical-align: middle;\n",
              "    }\n",
              "\n",
              "    .dataframe tbody tr th {\n",
              "        vertical-align: top;\n",
              "    }\n",
              "\n",
              "    .dataframe thead tr th {\n",
              "        text-align: left;\n",
              "    }\n",
              "\n",
              "    .dataframe thead tr:last-of-type th {\n",
              "        text-align: right;\n",
              "    }\n",
              "</style>\n",
              "<table border=\"1\" class=\"dataframe\">\n",
              "  <thead>\n",
              "    <tr>\n",
              "      <th></th>\n",
              "      <th colspan=\"2\" halign=\"left\">max</th>\n",
              "      <th colspan=\"2\" halign=\"left\">min</th>\n",
              "      <th colspan=\"2\" halign=\"left\">median</th>\n",
              "    </tr>\n",
              "    <tr>\n",
              "      <th>Gender</th>\n",
              "      <th>F</th>\n",
              "      <th>M</th>\n",
              "      <th>F</th>\n",
              "      <th>M</th>\n",
              "      <th>F</th>\n",
              "      <th>M</th>\n",
              "    </tr>\n",
              "    <tr>\n",
              "      <th>Education</th>\n",
              "      <th></th>\n",
              "      <th></th>\n",
              "      <th></th>\n",
              "      <th></th>\n",
              "      <th></th>\n",
              "      <th></th>\n",
              "    </tr>\n",
              "  </thead>\n",
              "  <tbody>\n",
              "    <tr>\n",
              "      <th>Bachelor</th>\n",
              "      <td>73225.96</td>\n",
              "      <td>67907.27</td>\n",
              "      <td>1904.00</td>\n",
              "      <td>1898.01</td>\n",
              "      <td>5640.51</td>\n",
              "      <td>5548.03</td>\n",
              "    </tr>\n",
              "    <tr>\n",
              "      <th>College</th>\n",
              "      <td>61850.19</td>\n",
              "      <td>61134.68</td>\n",
              "      <td>1898.68</td>\n",
              "      <td>1918.12</td>\n",
              "      <td>5623.61</td>\n",
              "      <td>6005.85</td>\n",
              "    </tr>\n",
              "    <tr>\n",
              "      <th>Doctor</th>\n",
              "      <td>44856.11</td>\n",
              "      <td>32677.34</td>\n",
              "      <td>2395.57</td>\n",
              "      <td>2267.60</td>\n",
              "      <td>5332.46</td>\n",
              "      <td>5577.67</td>\n",
              "    </tr>\n",
              "    <tr>\n",
              "      <th>High School or Below</th>\n",
              "      <td>55277.45</td>\n",
              "      <td>83325.38</td>\n",
              "      <td>2144.92</td>\n",
              "      <td>1940.98</td>\n",
              "      <td>6039.55</td>\n",
              "      <td>6286.73</td>\n",
              "    </tr>\n",
              "    <tr>\n",
              "      <th>Master</th>\n",
              "      <td>51016.07</td>\n",
              "      <td>50568.26</td>\n",
              "      <td>2417.78</td>\n",
              "      <td>2272.31</td>\n",
              "      <td>5729.86</td>\n",
              "      <td>5579.10</td>\n",
              "    </tr>\n",
              "  </tbody>\n",
              "</table>\n",
              "</div>"
            ],
            "text/plain": [
              "                           max                min            median         \n",
              "Gender                       F         M        F        M        F        M\n",
              "Education                                                                   \n",
              "Bachelor              73225.96  67907.27  1904.00  1898.01  5640.51  5548.03\n",
              "College               61850.19  61134.68  1898.68  1918.12  5623.61  6005.85\n",
              "Doctor                44856.11  32677.34  2395.57  2267.60  5332.46  5577.67\n",
              "High School or Below  55277.45  83325.38  2144.92  1940.98  6039.55  6286.73\n",
              "Master                51016.07  50568.26  2417.78  2272.31  5729.86  5579.10"
            ]
          },
          "execution_count": 58,
          "metadata": {},
          "output_type": "execute_result"
        }
      ],
      "source": [
        "pd.pivot_table(marketing_customer_analysis,\n",
        "                index = \"Education\",\n",
        "                columns = \"Gender\", values =\"Customer Lifetime Value\",\n",
        "                aggfunc= ['max','min','median']).round(2)"
      ]
    },
    {
      "cell_type": "markdown",
      "id": "b42999f9-311f-481e-ae63-40a5577072c5",
      "metadata": {
        "id": "b42999f9-311f-481e-ae63-40a5577072c5"
      },
      "source": [
        "## Bonus"
      ]
    },
    {
      "cell_type": "markdown",
      "id": "81ff02c5-6584-4f21-a358-b918697c6432",
      "metadata": {
        "id": "81ff02c5-6584-4f21-a358-b918697c6432"
      },
      "source": [
        "5. The marketing team wants to analyze the number of policies sold by state and month. Present the data in a table where the months are arranged as columns and the states are arranged as rows."
      ]
    },
    {
      "cell_type": "markdown",
      "id": "b6aec097-c633-4017-a125-e77a97259cda",
      "metadata": {
        "id": "b6aec097-c633-4017-a125-e77a97259cda"
      },
      "source": [
        "6.  Display a new DataFrame that contains the number of policies sold by month, by state, for the top 3 states with the highest number of policies sold.\n",
        "\n",
        "*Hint:*\n",
        "- *To accomplish this, you will first need to group the data by state and month, then count the number of policies sold for each group. Afterwards, you will need to sort the data by the count of policies sold in descending order.*\n",
        "- *Next, you will select the top 3 states with the highest number of policies sold.*\n",
        "- *Finally, you will create a new DataFrame that contains the number of policies sold by month for each of the top 3 states.*"
      ]
    },
    {
      "cell_type": "markdown",
      "id": "ba975b8a-a2cf-4fbf-9f59-ebc381767009",
      "metadata": {
        "id": "ba975b8a-a2cf-4fbf-9f59-ebc381767009"
      },
      "source": [
        "7. The marketing team wants to analyze the effect of different marketing channels on the customer response rate.\n",
        "\n",
        "Hint: You can use melt to unpivot the data and create a table that shows the customer response rate (those who responded \"Yes\") by marketing channel."
      ]
    },
    {
      "cell_type": "markdown",
      "id": "e4378d94-48fb-4850-a802-b1bc8f427b2d",
      "metadata": {
        "id": "e4378d94-48fb-4850-a802-b1bc8f427b2d"
      },
      "source": [
        "External Resources for Data Filtering: https://towardsdatascience.com/filtering-data-frames-in-pandas-b570b1f834b9"
      ]
    },
    {
      "cell_type": "code",
      "execution_count": null,
      "id": "449513f4-0459-46a0-a18d-9398d974c9ad",
      "metadata": {
        "id": "449513f4-0459-46a0-a18d-9398d974c9ad"
      },
      "outputs": [],
      "source": [
        "# your code goes here"
      ]
    }
  ],
  "metadata": {
    "colab": {
      "provenance": []
    },
    "kernelspec": {
      "display_name": "base",
      "language": "python",
      "name": "python3"
    },
    "language_info": {
      "codemirror_mode": {
        "name": "ipython",
        "version": 3
      },
      "file_extension": ".py",
      "mimetype": "text/x-python",
      "name": "python",
      "nbconvert_exporter": "python",
      "pygments_lexer": "ipython3",
      "version": "3.11.5"
    }
  },
  "nbformat": 4,
  "nbformat_minor": 5
}
